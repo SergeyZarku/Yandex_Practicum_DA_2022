{
 "cells": [
  {
   "cell_type": "markdown",
   "id": "70f87f01",
   "metadata": {},
   "source": [
    "# Исследование надежности заемщиков.\n",
    "\n",
    "Заказчик — кредитный отдел банка. Нужно разобраться, влияет ли семейное положение и количество детей клиента на факт погашения кредита в срок. Входные данные от банка — статистика о платёжеспособности клиентов.\n",
    "Результаты исследования будут учтены при построении модели кредитного скоринга — специальной системы, которая оценивает способность потенциального заёмщика вернуть кредит банку.\n",
    "\n",
    "Цель исследования — проверить гипотезы:\n",
    "\n",
    "*  Есть ли зависимость между количеством детей и возвратом кредита в срок?\n",
    "*  Есть ли зависимость между семейным положением и возвратом кредита в срок? \n",
    "*  Есть ли зависимость между уровнем дохода и возвратом кредита в срок?\n",
    "*  Как разные цели кредита влияют на его возврат в срок?\n",
    "\n",
    "Ход исследования\n",
    "\n",
    "Данные по статистике о платёжеспособности клиентов получаем из файла /datasets/data.csv. О качестве данных ничего не известно. Поэтому перед проверкой гипотез понадобится обзор данных.\n",
    "Затем потребуется проверить данные на ошибки и оценить их влияние на исследование. Затем, на этапе предобработки исправить самые критичные ошибки данных.\n",
    "\n",
    "Таким образом, исследование пройдёт в три этапа:\n",
    "\n",
    "* Обзор данных.\n",
    "* Предобработка данных.\n",
    "* Проверка гипотез."
   ]
  },
  {
   "cell_type": "markdown",
   "id": "f9fc7ebf",
   "metadata": {},
   "source": [
    "### Шаг 1. Обзор данных"
   ]
  },
  {
   "cell_type": "markdown",
   "id": "5c95e0cb",
   "metadata": {},
   "source": [
    "Прочитаем файл data.csv и сохраним его в переменной df. Получим первых 10 строк таблицы."
   ]
  },
  {
   "cell_type": "code",
   "execution_count": 1,
   "id": "d107bf60",
   "metadata": {},
   "outputs": [
    {
     "data": {
      "text/html": [
       "<div>\n",
       "<style scoped>\n",
       "    .dataframe tbody tr th:only-of-type {\n",
       "        vertical-align: middle;\n",
       "    }\n",
       "\n",
       "    .dataframe tbody tr th {\n",
       "        vertical-align: top;\n",
       "    }\n",
       "\n",
       "    .dataframe thead th {\n",
       "        text-align: right;\n",
       "    }\n",
       "</style>\n",
       "<table border=\"1\" class=\"dataframe\">\n",
       "  <thead>\n",
       "    <tr style=\"text-align: right;\">\n",
       "      <th></th>\n",
       "      <th>children</th>\n",
       "      <th>days_employed</th>\n",
       "      <th>dob_years</th>\n",
       "      <th>education</th>\n",
       "      <th>education_id</th>\n",
       "      <th>family_status</th>\n",
       "      <th>family_status_id</th>\n",
       "      <th>gender</th>\n",
       "      <th>income_type</th>\n",
       "      <th>debt</th>\n",
       "      <th>total_income</th>\n",
       "      <th>purpose</th>\n",
       "    </tr>\n",
       "  </thead>\n",
       "  <tbody>\n",
       "    <tr>\n",
       "      <th>0</th>\n",
       "      <td>1</td>\n",
       "      <td>-8437.673028</td>\n",
       "      <td>42</td>\n",
       "      <td>высшее</td>\n",
       "      <td>0</td>\n",
       "      <td>женат / замужем</td>\n",
       "      <td>0</td>\n",
       "      <td>F</td>\n",
       "      <td>сотрудник</td>\n",
       "      <td>0</td>\n",
       "      <td>253875.639453</td>\n",
       "      <td>покупка жилья</td>\n",
       "    </tr>\n",
       "    <tr>\n",
       "      <th>1</th>\n",
       "      <td>1</td>\n",
       "      <td>-4024.803754</td>\n",
       "      <td>36</td>\n",
       "      <td>среднее</td>\n",
       "      <td>1</td>\n",
       "      <td>женат / замужем</td>\n",
       "      <td>0</td>\n",
       "      <td>F</td>\n",
       "      <td>сотрудник</td>\n",
       "      <td>0</td>\n",
       "      <td>112080.014102</td>\n",
       "      <td>приобретение автомобиля</td>\n",
       "    </tr>\n",
       "    <tr>\n",
       "      <th>2</th>\n",
       "      <td>0</td>\n",
       "      <td>-5623.422610</td>\n",
       "      <td>33</td>\n",
       "      <td>Среднее</td>\n",
       "      <td>1</td>\n",
       "      <td>женат / замужем</td>\n",
       "      <td>0</td>\n",
       "      <td>M</td>\n",
       "      <td>сотрудник</td>\n",
       "      <td>0</td>\n",
       "      <td>145885.952297</td>\n",
       "      <td>покупка жилья</td>\n",
       "    </tr>\n",
       "    <tr>\n",
       "      <th>3</th>\n",
       "      <td>3</td>\n",
       "      <td>-4124.747207</td>\n",
       "      <td>32</td>\n",
       "      <td>среднее</td>\n",
       "      <td>1</td>\n",
       "      <td>женат / замужем</td>\n",
       "      <td>0</td>\n",
       "      <td>M</td>\n",
       "      <td>сотрудник</td>\n",
       "      <td>0</td>\n",
       "      <td>267628.550329</td>\n",
       "      <td>дополнительное образование</td>\n",
       "    </tr>\n",
       "    <tr>\n",
       "      <th>4</th>\n",
       "      <td>0</td>\n",
       "      <td>340266.072047</td>\n",
       "      <td>53</td>\n",
       "      <td>среднее</td>\n",
       "      <td>1</td>\n",
       "      <td>гражданский брак</td>\n",
       "      <td>1</td>\n",
       "      <td>F</td>\n",
       "      <td>пенсионер</td>\n",
       "      <td>0</td>\n",
       "      <td>158616.077870</td>\n",
       "      <td>сыграть свадьбу</td>\n",
       "    </tr>\n",
       "    <tr>\n",
       "      <th>5</th>\n",
       "      <td>0</td>\n",
       "      <td>-926.185831</td>\n",
       "      <td>27</td>\n",
       "      <td>высшее</td>\n",
       "      <td>0</td>\n",
       "      <td>гражданский брак</td>\n",
       "      <td>1</td>\n",
       "      <td>M</td>\n",
       "      <td>компаньон</td>\n",
       "      <td>0</td>\n",
       "      <td>255763.565419</td>\n",
       "      <td>покупка жилья</td>\n",
       "    </tr>\n",
       "    <tr>\n",
       "      <th>6</th>\n",
       "      <td>0</td>\n",
       "      <td>-2879.202052</td>\n",
       "      <td>43</td>\n",
       "      <td>высшее</td>\n",
       "      <td>0</td>\n",
       "      <td>женат / замужем</td>\n",
       "      <td>0</td>\n",
       "      <td>F</td>\n",
       "      <td>компаньон</td>\n",
       "      <td>0</td>\n",
       "      <td>240525.971920</td>\n",
       "      <td>операции с жильем</td>\n",
       "    </tr>\n",
       "    <tr>\n",
       "      <th>7</th>\n",
       "      <td>0</td>\n",
       "      <td>-152.779569</td>\n",
       "      <td>50</td>\n",
       "      <td>СРЕДНЕЕ</td>\n",
       "      <td>1</td>\n",
       "      <td>женат / замужем</td>\n",
       "      <td>0</td>\n",
       "      <td>M</td>\n",
       "      <td>сотрудник</td>\n",
       "      <td>0</td>\n",
       "      <td>135823.934197</td>\n",
       "      <td>образование</td>\n",
       "    </tr>\n",
       "    <tr>\n",
       "      <th>8</th>\n",
       "      <td>2</td>\n",
       "      <td>-6929.865299</td>\n",
       "      <td>35</td>\n",
       "      <td>ВЫСШЕЕ</td>\n",
       "      <td>0</td>\n",
       "      <td>гражданский брак</td>\n",
       "      <td>1</td>\n",
       "      <td>F</td>\n",
       "      <td>сотрудник</td>\n",
       "      <td>0</td>\n",
       "      <td>95856.832424</td>\n",
       "      <td>на проведение свадьбы</td>\n",
       "    </tr>\n",
       "    <tr>\n",
       "      <th>9</th>\n",
       "      <td>0</td>\n",
       "      <td>-2188.756445</td>\n",
       "      <td>41</td>\n",
       "      <td>среднее</td>\n",
       "      <td>1</td>\n",
       "      <td>женат / замужем</td>\n",
       "      <td>0</td>\n",
       "      <td>M</td>\n",
       "      <td>сотрудник</td>\n",
       "      <td>0</td>\n",
       "      <td>144425.938277</td>\n",
       "      <td>покупка жилья для семьи</td>\n",
       "    </tr>\n",
       "  </tbody>\n",
       "</table>\n",
       "</div>"
      ],
      "text/plain": [
       "   children  days_employed  dob_years education  education_id  \\\n",
       "0         1   -8437.673028         42    высшее             0   \n",
       "1         1   -4024.803754         36   среднее             1   \n",
       "2         0   -5623.422610         33   Среднее             1   \n",
       "3         3   -4124.747207         32   среднее             1   \n",
       "4         0  340266.072047         53   среднее             1   \n",
       "5         0    -926.185831         27    высшее             0   \n",
       "6         0   -2879.202052         43    высшее             0   \n",
       "7         0    -152.779569         50   СРЕДНЕЕ             1   \n",
       "8         2   -6929.865299         35    ВЫСШЕЕ             0   \n",
       "9         0   -2188.756445         41   среднее             1   \n",
       "\n",
       "      family_status  family_status_id gender income_type  debt   total_income  \\\n",
       "0   женат / замужем                 0      F   сотрудник     0  253875.639453   \n",
       "1   женат / замужем                 0      F   сотрудник     0  112080.014102   \n",
       "2   женат / замужем                 0      M   сотрудник     0  145885.952297   \n",
       "3   женат / замужем                 0      M   сотрудник     0  267628.550329   \n",
       "4  гражданский брак                 1      F   пенсионер     0  158616.077870   \n",
       "5  гражданский брак                 1      M   компаньон     0  255763.565419   \n",
       "6   женат / замужем                 0      F   компаньон     0  240525.971920   \n",
       "7   женат / замужем                 0      M   сотрудник     0  135823.934197   \n",
       "8  гражданский брак                 1      F   сотрудник     0   95856.832424   \n",
       "9   женат / замужем                 0      M   сотрудник     0  144425.938277   \n",
       "\n",
       "                      purpose  \n",
       "0               покупка жилья  \n",
       "1     приобретение автомобиля  \n",
       "2               покупка жилья  \n",
       "3  дополнительное образование  \n",
       "4             сыграть свадьбу  \n",
       "5               покупка жилья  \n",
       "6           операции с жильем  \n",
       "7                 образование  \n",
       "8       на проведение свадьбы  \n",
       "9     покупка жилья для семьи  "
      ]
     },
     "execution_count": 1,
     "metadata": {},
     "output_type": "execute_result"
    }
   ],
   "source": [
    "# импорт библиотеки pandas\n",
    "import pandas as pd \n",
    "# чтение файла с данными с сохранением в df\n",
    "df=pd.read_csv('/datasets/data.csv') \n",
    "# получение первых 10 строк таблицы df\n",
    "df.head(10) "
   ]
  },
  {
   "cell_type": "markdown",
   "id": "b0f8c12f",
   "metadata": {},
   "source": [
    "Общая информация о данных таблицы df."
   ]
  },
  {
   "cell_type": "code",
   "execution_count": 2,
   "id": "14eb4705",
   "metadata": {},
   "outputs": [
    {
     "name": "stdout",
     "output_type": "stream",
     "text": [
      "<class 'pandas.core.frame.DataFrame'>\n",
      "RangeIndex: 21525 entries, 0 to 21524\n",
      "Data columns (total 12 columns):\n",
      " #   Column            Non-Null Count  Dtype  \n",
      "---  ------            --------------  -----  \n",
      " 0   children          21525 non-null  int64  \n",
      " 1   days_employed     19351 non-null  float64\n",
      " 2   dob_years         21525 non-null  int64  \n",
      " 3   education         21525 non-null  object \n",
      " 4   education_id      21525 non-null  int64  \n",
      " 5   family_status     21525 non-null  object \n",
      " 6   family_status_id  21525 non-null  int64  \n",
      " 7   gender            21525 non-null  object \n",
      " 8   income_type       21525 non-null  object \n",
      " 9   debt              21525 non-null  int64  \n",
      " 10  total_income      19351 non-null  float64\n",
      " 11  purpose           21525 non-null  object \n",
      "dtypes: float64(2), int64(5), object(5)\n",
      "memory usage: 2.0+ MB\n"
     ]
    }
   ],
   "source": [
    "# получение общей информации о данных в таблице\n",
    "df.info()"
   ]
  },
  {
   "cell_type": "markdown",
   "id": "9c8d38b0",
   "metadata": {},
   "source": [
    "Рассмотрим полученную информацию подробнее.\n",
    "\n",
    "Всего в таблице 12 столбцов.\n",
    "\n",
    "Подробно разберём, какие в df столбцы и какую информацию они содержат:\n",
    "\n",
    "* `children` — количество детей в семье;\n",
    "* `days_employed` — общий трудовой стаж в днях;  \n",
    "* `dob_years` — возраст клиента в годах;\n",
    "* `education` — уровень образования клиента;\n",
    "* `education_id` — идентификатор уровня образования;\n",
    "* `family_status` — семейное положение;\n",
    "* `family_status_id` — идентификатор семейного положения;\n",
    "* `gender` — пол клиента;\n",
    "* `income_type` — тип занятости;  \n",
    "* `debt` — название жанра;\n",
    "* `total_income` — ежемесячный доход;\n",
    "* `purpose` — цель получения кредита;\n",
    "  \n",
    "Количество значений в столбцах различается. Это говорит о том, что в данных есть <пустые> значения.\n",
    "\n",
    "Выводы\n",
    "\n",
    "Каждая строка таблицы содержит информацию о клиентах банка. На первый вгляд бросаются следующие проблемы, которые нужно решать: пропуски, отрицательные значения, разный регистр, числа с плавающей точкой. Для проверки рабочих гипотез особенно ценны столбцы children, family_status, total_income и purpose. "
   ]
  },
  {
   "cell_type": "markdown",
   "id": "8ef3271b",
   "metadata": {},
   "source": [
    "### Шаг 2.1 Заполнение пропусков\n",
    "\n"
   ]
  },
  {
   "cell_type": "code",
   "execution_count": 3,
   "id": "cb2f460a",
   "metadata": {},
   "outputs": [
    {
     "data": {
      "text/plain": [
       "children               0\n",
       "days_employed       2174\n",
       "dob_years              0\n",
       "education              0\n",
       "education_id           0\n",
       "family_status          0\n",
       "family_status_id       0\n",
       "gender                 0\n",
       "income_type            0\n",
       "debt                   0\n",
       "total_income        2174\n",
       "purpose                0\n",
       "dtype: int64"
      ]
     },
     "execution_count": 3,
     "metadata": {},
     "output_type": "execute_result"
    }
   ],
   "source": [
    "# суммарное количество пропусков, выявленных методом isna() в таблице df\n",
    "df.isna().sum()   "
   ]
  },
  {
   "cell_type": "markdown",
   "id": "7fcfc449",
   "metadata": {},
   "source": [
    "В двух столбцах days_employed и total_income есть пропущенные значения, проверим какую долю они составляют. "
   ]
  },
  {
   "cell_type": "code",
   "execution_count": 4,
   "id": "06480dec",
   "metadata": {},
   "outputs": [
    {
     "name": "stdout",
     "output_type": "stream",
     "text": [
      "11.234561521368406\n"
     ]
    }
   ],
   "source": [
    "# поделим количество пропусков на общее количество значений в столбце\n",
    "print(df['days_employed'].isna().sum() / df['days_employed'].count() * 100)\n"
   ]
  },
  {
   "cell_type": "markdown",
   "id": "b3d989d9",
   "metadata": {},
   "source": [
    "Доля пропущенные значений в столбцах равна 11,2%, процент не критичный, но мы всё равно заполним пропуски.\n",
    "Пропущенным значением в наших столбцах является NaN — общепринятый способ заполнять ячейку, для которых не хватает данных.\n"
   ]
  },
  {
   "cell_type": "code",
   "execution_count": 5,
   "id": "3a350218",
   "metadata": {},
   "outputs": [
    {
     "name": "stdout",
     "output_type": "stream",
     "text": [
      "days_employed max: 401755.40047533\n",
      "days_employed min: -18388.949900568383\n",
      "total_income max: 2265604.028722744\n",
      "total_income min: 20667.26379327158\n"
     ]
    }
   ],
   "source": [
    "# посмотрим max и min значения в столбцах с пропусками\n",
    "print('days_employed max:', df['days_employed'].max()) \n",
    "print('days_employed min:', df['days_employed'].min()) \n",
    "print('total_income max:', df['total_income'].max()) \n",
    "print('total_income min:', df['total_income'].min()) "
   ]
  },
  {
   "cell_type": "markdown",
   "id": "c018bfe3",
   "metadata": {},
   "source": [
    "В нашем случае есть данные оторванные от основной массы, они будут сильно смещать значение среднего вверх. Поэтому оценивать широкий диапазон лучше медианой."
   ]
  },
  {
   "cell_type": "code",
   "execution_count": 6,
   "id": "02b3ba49",
   "metadata": {},
   "outputs": [
    {
     "data": {
      "text/plain": [
       "children            0\n",
       "days_employed       0\n",
       "dob_years           0\n",
       "education           0\n",
       "education_id        0\n",
       "family_status       0\n",
       "family_status_id    0\n",
       "gender              0\n",
       "income_type         0\n",
       "debt                0\n",
       "total_income        0\n",
       "purpose             0\n",
       "dtype: int64"
      ]
     },
     "execution_count": 6,
     "metadata": {},
     "output_type": "execute_result"
    }
   ],
   "source": [
    "# заполнение пропусков медианным значением\n",
    "df = df.fillna(df.median())\n",
    "# подсчёт пропусков \n",
    "df.isna().sum() "
   ]
  },
  {
   "cell_type": "markdown",
   "id": "d29f1d80",
   "metadata": {},
   "source": [
    "Все пропущенные значения заполнены, переходим к следующему этапу."
   ]
  },
  {
   "cell_type": "markdown",
   "id": "2c7fc440",
   "metadata": {},
   "source": [
    "### Шаг 2.2 Проверка данных на аномалии и исправления.\n",
    "\n",
    "Первое, что попадется в глаза - отрицательное количество дней трудового стажа в столбце days_employed. Для реальных данных это нормально. Обработаем эти значения. "
   ]
  },
  {
   "cell_type": "code",
   "execution_count": 7,
   "id": "dc6ed5e3",
   "metadata": {},
   "outputs": [],
   "source": [
    "# меняем отрицательные значения столбца days_employed на положительные\n",
    "df.loc[df['days_employed'] < 0, 'days_employed'] = df.loc[df['days_employed'] <0, 'days_employed'].abs()"
   ]
  },
  {
   "cell_type": "code",
   "execution_count": 8,
   "id": "2438599d",
   "metadata": {
    "scrolled": true
   },
   "outputs": [
    {
     "data": {
      "text/plain": [
       "0      8437.673028\n",
       "1      4024.803754\n",
       "2      5623.422610\n",
       "3      4124.747207\n",
       "4    340266.072047\n",
       "Name: days_employed, dtype: float64"
      ]
     },
     "execution_count": 8,
     "metadata": {},
     "output_type": "execute_result"
    }
   ],
   "source": [
    "# проверим результат\n",
    "df['days_employed'].head()"
   ]
  },
  {
   "cell_type": "code",
   "execution_count": 9,
   "id": "40375bb3",
   "metadata": {},
   "outputs": [
    {
     "data": {
      "text/plain": [
       "array([ 1,  0,  3,  2, -1,  4, 20,  5])"
      ]
     },
     "execution_count": 9,
     "metadata": {},
     "output_type": "execute_result"
    }
   ],
   "source": [
    "# посмотрим уникальные значения столбца 'children'\n",
    "df['children'].unique()"
   ]
  },
  {
   "cell_type": "markdown",
   "id": "76db08a7",
   "metadata": {},
   "source": [
    "Обнаружено отрицательное значение столбца с количеством детей, предположим, что это ошибка знака, как и у столбца 'days_employed' и изменим отрицательное значение на положительное"
   ]
  },
  {
   "cell_type": "code",
   "execution_count": 10,
   "id": "11a3a1f7",
   "metadata": {},
   "outputs": [
    {
     "data": {
      "text/plain": [
       "47"
      ]
     },
     "execution_count": 10,
     "metadata": {},
     "output_type": "execute_result"
    }
   ],
   "source": [
    "# посчитаем количество строки, значение столбца которых равно -1\n",
    "df[df['children'] == -1]['children'].count()"
   ]
  },
  {
   "cell_type": "code",
   "execution_count": 11,
   "id": "6a4caa2d",
   "metadata": {},
   "outputs": [],
   "source": [
    "# меняем отрицательные значения столбца children на положительные\n",
    "df.loc[df['children'] < 0, 'children'] = df.loc[df['children'] <0, 'children'].abs()"
   ]
  },
  {
   "cell_type": "code",
   "execution_count": 12,
   "id": "5ad3c63f",
   "metadata": {},
   "outputs": [
    {
     "data": {
      "text/plain": [
       "array([ 1,  0,  3,  2,  4, 20,  5])"
      ]
     },
     "execution_count": 12,
     "metadata": {},
     "output_type": "execute_result"
    }
   ],
   "source": [
    "# проверим результат\n",
    "df['children'].unique()"
   ]
  },
  {
   "cell_type": "markdown",
   "id": "179b31a7",
   "metadata": {},
   "source": [
    "Так же в этом столбце есть аномально большое значение '20', посмотрим действительно ли это просто исключение"
   ]
  },
  {
   "cell_type": "code",
   "execution_count": 13,
   "id": "ce611fd5",
   "metadata": {
    "scrolled": false
   },
   "outputs": [
    {
     "data": {
      "text/plain": [
       "76"
      ]
     },
     "execution_count": 13,
     "metadata": {},
     "output_type": "execute_result"
    }
   ],
   "source": [
    "# посчитаем количество строки, значение столбца которых равно 20\n",
    "df[df['children'] == 20]['children'].count()"
   ]
  },
  {
   "cell_type": "markdown",
   "id": "9fffd84d",
   "metadata": {},
   "source": [
    "Можно сделать вывод, что это ошибка в данных и количество детей на самом деле равно 2, поэтому заменим все значения с 20 на 2"
   ]
  },
  {
   "cell_type": "code",
   "execution_count": 14,
   "id": "b8870bd5",
   "metadata": {},
   "outputs": [],
   "source": [
    "# меняем значения равные 20 столбца children на 2\n",
    "df.loc[df['children'] == 20, 'children'] = 2"
   ]
  },
  {
   "cell_type": "code",
   "execution_count": 15,
   "id": "76c3644a",
   "metadata": {},
   "outputs": [
    {
     "data": {
      "text/plain": [
       "array([1, 0, 3, 2, 4, 5])"
      ]
     },
     "execution_count": 15,
     "metadata": {},
     "output_type": "execute_result"
    }
   ],
   "source": [
    "# проверим результат\n",
    "df['children'].unique()"
   ]
  },
  {
   "cell_type": "markdown",
   "id": "d34dc0b3",
   "metadata": {},
   "source": [
    "Аномалии в столбце 'children' исправлены"
   ]
  },
  {
   "cell_type": "markdown",
   "id": "99fb8c7c",
   "metadata": {},
   "source": [
    "Проверим столбец dob_years на аномалии"
   ]
  },
  {
   "cell_type": "code",
   "execution_count": 16,
   "id": "2a96f420",
   "metadata": {},
   "outputs": [
    {
     "data": {
      "text/plain": [
       "array([42, 36, 33, 32, 53, 27, 43, 50, 35, 41, 40, 65, 54, 56, 26, 48, 24,\n",
       "       21, 57, 67, 28, 63, 62, 47, 34, 68, 25, 31, 30, 20, 49, 37, 45, 61,\n",
       "       64, 44, 52, 46, 23, 38, 39, 51,  0, 59, 29, 60, 55, 58, 71, 22, 73,\n",
       "       66, 69, 19, 72, 70, 74, 75])"
      ]
     },
     "execution_count": 16,
     "metadata": {},
     "output_type": "execute_result"
    }
   ],
   "source": [
    "# посмотрим уникальные значения столбца 'dob_years'\n",
    "df['dob_years'].unique()"
   ]
  },
  {
   "cell_type": "markdown",
   "id": "8c0cc9e0",
   "metadata": {},
   "source": [
    "Нулевое значение в столбце с возрастом, это явно аномалия"
   ]
  },
  {
   "cell_type": "code",
   "execution_count": 17,
   "id": "e2b85bf4",
   "metadata": {},
   "outputs": [
    {
     "data": {
      "text/plain": [
       "101"
      ]
     },
     "execution_count": 17,
     "metadata": {},
     "output_type": "execute_result"
    }
   ],
   "source": [
    "# посчитаем количество значений равных нулю\n",
    "df[df['dob_years'] == 0]['dob_years'].count()"
   ]
  },
  {
   "cell_type": "code",
   "execution_count": 18,
   "id": "63445dd5",
   "metadata": {},
   "outputs": [],
   "source": [
    "# заменим все значения в столбце dob_years равные нулю, на среднее значение по столбцу\n",
    "df.loc[df['dob_years'] == 0, 'dob_years'] = df['dob_years'].mean()"
   ]
  },
  {
   "cell_type": "code",
   "execution_count": 19,
   "id": "e56bc1fa",
   "metadata": {},
   "outputs": [
    {
     "data": {
      "text/plain": [
       "0"
      ]
     },
     "execution_count": 19,
     "metadata": {},
     "output_type": "execute_result"
    }
   ],
   "source": [
    "# проверим результат\n",
    "df[df['dob_years'] == 0]['dob_years'].count()"
   ]
  },
  {
   "cell_type": "markdown",
   "id": "7bceecd8",
   "metadata": {},
   "source": [
    "Аномалия в столбце 'dob_years' исправлена"
   ]
  },
  {
   "cell_type": "markdown",
   "id": "3df3f9ee",
   "metadata": {},
   "source": [
    "Проверим столбец gender на аномалии"
   ]
  },
  {
   "cell_type": "code",
   "execution_count": 20,
   "id": "afb73f7a",
   "metadata": {},
   "outputs": [
    {
     "data": {
      "text/plain": [
       "array(['F', 'M', 'XNA'], dtype=object)"
      ]
     },
     "execution_count": 20,
     "metadata": {},
     "output_type": "execute_result"
    }
   ],
   "source": [
    "# посмотрим уникальные значения столбца 'gender'\n",
    "df['gender'].unique()"
   ]
  },
  {
   "cell_type": "markdown",
   "id": "5efb6e3e",
   "metadata": {},
   "source": [
    "Уберем значение 'XNA' не относящееся к полу"
   ]
  },
  {
   "cell_type": "code",
   "execution_count": 21,
   "id": "9a2fce25",
   "metadata": {},
   "outputs": [],
   "source": [
    "# перезапишем df без значения 'XNA'\n",
    "df = df[df['gender'] != 'XNA']"
   ]
  },
  {
   "cell_type": "code",
   "execution_count": 22,
   "id": "2d9011e8",
   "metadata": {},
   "outputs": [
    {
     "data": {
      "text/plain": [
       "array(['F', 'M'], dtype=object)"
      ]
     },
     "execution_count": 22,
     "metadata": {},
     "output_type": "execute_result"
    }
   ],
   "source": [
    "# проверим результат\n",
    "df['gender'].unique()"
   ]
  },
  {
   "cell_type": "markdown",
   "id": "4a3e22c5",
   "metadata": {},
   "source": [
    "Аномалия в столбце 'gender' исправлена"
   ]
  },
  {
   "cell_type": "markdown",
   "id": "fa7753e0",
   "metadata": {},
   "source": [
    "### Шаг 2.3. Изменение типов данных.\n",
    "Заменим вещественный тип данных в столбце total_income и days_employed на целочисленный c помощью метода astype()."
   ]
  },
  {
   "cell_type": "code",
   "execution_count": 23,
   "id": "7b8e5830",
   "metadata": {},
   "outputs": [
    {
     "data": {
      "text/html": [
       "<div>\n",
       "<style scoped>\n",
       "    .dataframe tbody tr th:only-of-type {\n",
       "        vertical-align: middle;\n",
       "    }\n",
       "\n",
       "    .dataframe tbody tr th {\n",
       "        vertical-align: top;\n",
       "    }\n",
       "\n",
       "    .dataframe thead th {\n",
       "        text-align: right;\n",
       "    }\n",
       "</style>\n",
       "<table border=\"1\" class=\"dataframe\">\n",
       "  <thead>\n",
       "    <tr style=\"text-align: right;\">\n",
       "      <th></th>\n",
       "      <th>children</th>\n",
       "      <th>days_employed</th>\n",
       "      <th>dob_years</th>\n",
       "      <th>education</th>\n",
       "      <th>education_id</th>\n",
       "      <th>family_status</th>\n",
       "      <th>family_status_id</th>\n",
       "      <th>gender</th>\n",
       "      <th>income_type</th>\n",
       "      <th>debt</th>\n",
       "      <th>total_income</th>\n",
       "      <th>purpose</th>\n",
       "    </tr>\n",
       "  </thead>\n",
       "  <tbody>\n",
       "    <tr>\n",
       "      <th>0</th>\n",
       "      <td>1</td>\n",
       "      <td>8437</td>\n",
       "      <td>42.0</td>\n",
       "      <td>высшее</td>\n",
       "      <td>0</td>\n",
       "      <td>женат / замужем</td>\n",
       "      <td>0</td>\n",
       "      <td>F</td>\n",
       "      <td>сотрудник</td>\n",
       "      <td>0</td>\n",
       "      <td>253875</td>\n",
       "      <td>покупка жилья</td>\n",
       "    </tr>\n",
       "    <tr>\n",
       "      <th>1</th>\n",
       "      <td>1</td>\n",
       "      <td>4024</td>\n",
       "      <td>36.0</td>\n",
       "      <td>среднее</td>\n",
       "      <td>1</td>\n",
       "      <td>женат / замужем</td>\n",
       "      <td>0</td>\n",
       "      <td>F</td>\n",
       "      <td>сотрудник</td>\n",
       "      <td>0</td>\n",
       "      <td>112080</td>\n",
       "      <td>приобретение автомобиля</td>\n",
       "    </tr>\n",
       "    <tr>\n",
       "      <th>2</th>\n",
       "      <td>0</td>\n",
       "      <td>5623</td>\n",
       "      <td>33.0</td>\n",
       "      <td>Среднее</td>\n",
       "      <td>1</td>\n",
       "      <td>женат / замужем</td>\n",
       "      <td>0</td>\n",
       "      <td>M</td>\n",
       "      <td>сотрудник</td>\n",
       "      <td>0</td>\n",
       "      <td>145885</td>\n",
       "      <td>покупка жилья</td>\n",
       "    </tr>\n",
       "    <tr>\n",
       "      <th>3</th>\n",
       "      <td>3</td>\n",
       "      <td>4124</td>\n",
       "      <td>32.0</td>\n",
       "      <td>среднее</td>\n",
       "      <td>1</td>\n",
       "      <td>женат / замужем</td>\n",
       "      <td>0</td>\n",
       "      <td>M</td>\n",
       "      <td>сотрудник</td>\n",
       "      <td>0</td>\n",
       "      <td>267628</td>\n",
       "      <td>дополнительное образование</td>\n",
       "    </tr>\n",
       "    <tr>\n",
       "      <th>4</th>\n",
       "      <td>0</td>\n",
       "      <td>340266</td>\n",
       "      <td>53.0</td>\n",
       "      <td>среднее</td>\n",
       "      <td>1</td>\n",
       "      <td>гражданский брак</td>\n",
       "      <td>1</td>\n",
       "      <td>F</td>\n",
       "      <td>пенсионер</td>\n",
       "      <td>0</td>\n",
       "      <td>158616</td>\n",
       "      <td>сыграть свадьбу</td>\n",
       "    </tr>\n",
       "  </tbody>\n",
       "</table>\n",
       "</div>"
      ],
      "text/plain": [
       "   children  days_employed  dob_years education  education_id  \\\n",
       "0         1           8437       42.0    высшее             0   \n",
       "1         1           4024       36.0   среднее             1   \n",
       "2         0           5623       33.0   Среднее             1   \n",
       "3         3           4124       32.0   среднее             1   \n",
       "4         0         340266       53.0   среднее             1   \n",
       "\n",
       "      family_status  family_status_id gender income_type  debt  total_income  \\\n",
       "0   женат / замужем                 0      F   сотрудник     0        253875   \n",
       "1   женат / замужем                 0      F   сотрудник     0        112080   \n",
       "2   женат / замужем                 0      M   сотрудник     0        145885   \n",
       "3   женат / замужем                 0      M   сотрудник     0        267628   \n",
       "4  гражданский брак                 1      F   пенсионер     0        158616   \n",
       "\n",
       "                      purpose  \n",
       "0               покупка жилья  \n",
       "1     приобретение автомобиля  \n",
       "2               покупка жилья  \n",
       "3  дополнительное образование  \n",
       "4             сыграть свадьбу  "
      ]
     },
     "execution_count": 23,
     "metadata": {},
     "output_type": "execute_result"
    }
   ],
   "source": [
    "df = df.astype({'total_income': 'int64', 'days_employed': 'int64'})\n",
    "# проверим изменения\n",
    "df.head()"
   ]
  },
  {
   "cell_type": "markdown",
   "id": "0b48674b",
   "metadata": {},
   "source": [
    "### Шаг 2.4. Удаление дубликатов.\n",
    "Сначала проверим наши данные на явные дубликаты"
   ]
  },
  {
   "cell_type": "code",
   "execution_count": 24,
   "id": "8eef4b2d",
   "metadata": {},
   "outputs": [
    {
     "data": {
      "text/plain": [
       "54"
      ]
     },
     "execution_count": 24,
     "metadata": {},
     "output_type": "execute_result"
    }
   ],
   "source": [
    "# получение суммарного количества дубликатов в таблице df\n",
    "df.duplicated().sum()"
   ]
  },
  {
   "cell_type": "code",
   "execution_count": 25,
   "id": "53812e0f",
   "metadata": {},
   "outputs": [
    {
     "data": {
      "text/plain": [
       "0"
      ]
     },
     "execution_count": 25,
     "metadata": {},
     "output_type": "execute_result"
    }
   ],
   "source": [
    "# удаление явных дубликатов (с удалением старых индексов и формированием новых)\n",
    "df=df.drop_duplicates().reset_index(drop=True)\n",
    "# проверка на отсутствие дубликатов\n",
    "df.duplicated().sum()"
   ]
  },
  {
   "cell_type": "markdown",
   "id": "c826890b",
   "metadata": {},
   "source": [
    "Также обработаем неявные дубликаты. \n",
    "В столбце education есть одни и те же значения, но записанные по-разному: с использованием заглавных и строчных букв. \n",
    "Приведем их к одному регистру. "
   ]
  },
  {
   "cell_type": "code",
   "execution_count": 26,
   "id": "a2d08413",
   "metadata": {},
   "outputs": [
    {
     "data": {
      "text/plain": [
       "array(['высшее', 'среднее', 'Среднее', 'СРЕДНЕЕ', 'ВЫСШЕЕ',\n",
       "       'неоконченное высшее', 'начальное', 'Высшее',\n",
       "       'НЕОКОНЧЕННОЕ ВЫСШЕЕ', 'Неоконченное высшее', 'НАЧАЛЬНОЕ',\n",
       "       'Начальное', 'Ученая степень', 'УЧЕНАЯ СТЕПЕНЬ', 'ученая степень'],\n",
       "      dtype=object)"
      ]
     },
     "execution_count": 26,
     "metadata": {},
     "output_type": "execute_result"
    }
   ],
   "source": [
    "# выведем список уникальных значений 'education'\n",
    "df['education'].unique() "
   ]
  },
  {
   "cell_type": "code",
   "execution_count": 27,
   "id": "ce49dee7",
   "metadata": {},
   "outputs": [],
   "source": [
    "# приведем значения столбца к одному регистру\n",
    "df['education'] = df['education'].str.lower()"
   ]
  },
  {
   "cell_type": "code",
   "execution_count": 28,
   "id": "14b8b3f5",
   "metadata": {},
   "outputs": [
    {
     "data": {
      "text/plain": [
       "array(['высшее', 'среднее', 'неоконченное высшее', 'начальное',\n",
       "       'ученая степень'], dtype=object)"
      ]
     },
     "execution_count": 28,
     "metadata": {},
     "output_type": "execute_result"
    }
   ],
   "source": [
    "# проверим результат\n",
    "df['education'].unique() "
   ]
  },
  {
   "cell_type": "code",
   "execution_count": 29,
   "id": "23372348",
   "metadata": {},
   "outputs": [
    {
     "data": {
      "text/plain": [
       "17"
      ]
     },
     "execution_count": 29,
     "metadata": {},
     "output_type": "execute_result"
    }
   ],
   "source": [
    "# получение суммарного количества дубликатов в таблице df\n",
    "df.duplicated().sum()"
   ]
  },
  {
   "cell_type": "code",
   "execution_count": 30,
   "id": "3dae38f1",
   "metadata": {},
   "outputs": [
    {
     "data": {
      "text/plain": [
       "0"
      ]
     },
     "execution_count": 30,
     "metadata": {},
     "output_type": "execute_result"
    }
   ],
   "source": [
    "# удаление явных дубликатов (с удалением старых индексов и формированием новых)\n",
    "df=df.drop_duplicates().reset_index(drop=True)\n",
    "# проверка на отсутствие дубликатов\n",
    "df.duplicated().sum()"
   ]
  },
  {
   "cell_type": "markdown",
   "id": "f4c13c7d",
   "metadata": {},
   "source": [
    "Проверим остальные столбцы."
   ]
  },
  {
   "cell_type": "code",
   "execution_count": 31,
   "id": "503e9cce",
   "metadata": {},
   "outputs": [
    {
     "data": {
      "text/plain": [
       "array(['автомобили', 'автомобиль', 'высшее образование',\n",
       "       'дополнительное образование', 'жилье',\n",
       "       'заняться высшим образованием', 'заняться образованием',\n",
       "       'на покупку автомобиля', 'на покупку подержанного автомобиля',\n",
       "       'на покупку своего автомобиля', 'на проведение свадьбы',\n",
       "       'недвижимость', 'образование', 'операции с жильем',\n",
       "       'операции с коммерческой недвижимостью',\n",
       "       'операции с недвижимостью', 'операции со своей недвижимостью',\n",
       "       'покупка жилой недвижимости', 'покупка жилья',\n",
       "       'покупка жилья для сдачи', 'покупка жилья для семьи',\n",
       "       'покупка коммерческой недвижимости', 'покупка недвижимости',\n",
       "       'покупка своего жилья', 'получение высшего образования',\n",
       "       'получение дополнительного образования', 'получение образования',\n",
       "       'приобретение автомобиля', 'профильное образование',\n",
       "       'ремонт жилью', 'свадьба', 'свой автомобиль',\n",
       "       'сделка с автомобилем', 'сделка с подержанным автомобилем',\n",
       "       'строительство жилой недвижимости', 'строительство недвижимости',\n",
       "       'строительство собственной недвижимости', 'сыграть свадьбу'],\n",
       "      dtype=object)"
      ]
     },
     "execution_count": 31,
     "metadata": {},
     "output_type": "execute_result"
    }
   ],
   "source": [
    "# Просмотр уникальных значений столбца 'purpose'\n",
    "df['purpose'].sort_values(ascending=True).unique()    "
   ]
  },
  {
   "cell_type": "code",
   "execution_count": 32,
   "id": "61a1fa7b",
   "metadata": {},
   "outputs": [],
   "source": [
    "# Функция для замены неявных дубликатов\n",
    "def replace_wrong_purpose(wrong_purpose, correct_purpose):\n",
    "    for value in wrong_purpose:\n",
    "        df['purpose'] = df['purpose'].replace(value, correct_purpose)\n",
    "    return df['purpose']\n",
    "\n",
    "wrong_purpose = [\n",
    "        'высшее образование','дополнительное образование', \n",
    "        'заняться высшим образованием', 'заняться образованием',\n",
    "        'образование', 'получение высшего образования',\n",
    "        'получение дополнительного образования', 'получение образования',\n",
    "        'профильное образование'         \n",
    "               ]\n",
    "correct_purpose = 'получение образования'"
   ]
  },
  {
   "cell_type": "code",
   "execution_count": 33,
   "id": "b184b68e",
   "metadata": {},
   "outputs": [],
   "source": [
    "# вызов функции для замены неявных дубликатов\n",
    "#replace_wrong_purpose(wrong_purpose, correct_purpose) "
   ]
  },
  {
   "cell_type": "code",
   "execution_count": 34,
   "id": "a1febbd9",
   "metadata": {},
   "outputs": [],
   "source": [
    "# Функция для замены неявных дубликатов\n",
    "def replace_wrong_purpose(wrong_purpose, correct_purpose):\n",
    "    for value in wrong_purpose:\n",
    "        df['purpose'] = df['purpose'].replace(value, correct_purpose)\n",
    "    return df['purpose']\n",
    "\n",
    "wrong_purpose = [\n",
    "       'на проведение свадьбы',\n",
    "       'свадьба', 'сыграть свадьбу'       \n",
    "               ]\n",
    "correct_purpose = 'проведение свадьбы'\n"
   ]
  },
  {
   "cell_type": "code",
   "execution_count": 35,
   "id": "40527f52",
   "metadata": {},
   "outputs": [],
   "source": [
    "# вызов функции для замены неявных дубликатов\n",
    "#replace_wrong_purpose(wrong_purpose, correct_purpose) "
   ]
  },
  {
   "cell_type": "code",
   "execution_count": 36,
   "id": "b6fc4fa4",
   "metadata": {},
   "outputs": [],
   "source": [
    "# Функция для замены неявных дубликатов\n",
    "def replace_wrong_purpose(wrong_purpose, correct_purpose):\n",
    "    for value in wrong_purpose:\n",
    "        df['purpose'] = df['purpose'].replace(value, correct_purpose)\n",
    "    return df['purpose']\n",
    "\n",
    "wrong_purpose = [\n",
    "       'автомобили', 'автомобиль', \n",
    "       'на покупку автомобиля', 'на покупку подержанного автомобиля',\n",
    "       'на покупку своего автомобиля', \n",
    "       'приобретение автомобиля', 'свой автомобиль',\n",
    "       'сделка с автомобилем', 'сделка с подержанным автомобилем'       \n",
    "               ]\n",
    "correct_purpose = 'операции с автомобилем'\n"
   ]
  },
  {
   "cell_type": "code",
   "execution_count": 37,
   "id": "a976db5f",
   "metadata": {},
   "outputs": [],
   "source": [
    "# вызов функции для замены неявных дубликатов\n",
    "#replace_wrong_purpose(wrong_purpose, correct_purpose) "
   ]
  },
  {
   "cell_type": "code",
   "execution_count": 38,
   "id": "d7fec68c",
   "metadata": {},
   "outputs": [],
   "source": [
    "# Функция для замены неявных дубликатов\n",
    "def replace_wrong_purpose(wrong_purpose, correct_purpose):\n",
    "    for value in wrong_purpose:\n",
    "        df['purpose'] = df['purpose'].replace(value, correct_purpose)\n",
    "    return df['purpose']\n",
    "wrong_purpose = [\n",
    "    'покупка жилья', 'недвижимость', 'операции с жильем', \n",
    "    'операции с коммерческой недвижимостью', 'операции с недвижимостью', \n",
    "    'операции со своей недвижимостью' 'покупка жилой недвижимости', 'покупка жилья',\n",
    "    'покупка жилья для сдачи', 'покупка жилья для семьи', 'ремонт жилью',\n",
    "    'покупка коммерческой недвижимости', 'покупка недвижимости',\n",
    "    'покупка своего жилья', 'строительство жилой недвижимости', \n",
    "    'строительство недвижимости', 'строительство собственной недвижимости', \n",
    "    'покупка жилой недвижимости', 'жилье', 'операции со своей недвижимостью'\n",
    "               ]\n",
    "correct_purpose = 'операции с недвижимостью'"
   ]
  },
  {
   "cell_type": "code",
   "execution_count": 39,
   "id": "91aa7381",
   "metadata": {},
   "outputs": [],
   "source": [
    "# вызов функции для замены неявных дубликатов\n",
    "#replace_wrong_purpose(wrong_purpose, correct_purpose) "
   ]
  },
  {
   "cell_type": "code",
   "execution_count": 40,
   "id": "33e2805e",
   "metadata": {},
   "outputs": [
    {
     "data": {
      "text/plain": [
       "array(['покупка жилья', 'приобретение автомобиля',\n",
       "       'дополнительное образование', 'сыграть свадьбу',\n",
       "       'операции с жильем', 'образование', 'на проведение свадьбы',\n",
       "       'покупка жилья для семьи', 'покупка недвижимости',\n",
       "       'покупка коммерческой недвижимости', 'покупка жилой недвижимости',\n",
       "       'строительство собственной недвижимости', 'недвижимость',\n",
       "       'строительство недвижимости', 'на покупку подержанного автомобиля',\n",
       "       'на покупку своего автомобиля',\n",
       "       'операции с коммерческой недвижимостью',\n",
       "       'строительство жилой недвижимости', 'жилье',\n",
       "       'операции со своей недвижимостью', 'автомобили',\n",
       "       'заняться образованием', 'сделка с подержанным автомобилем',\n",
       "       'получение образования', 'автомобиль', 'свадьба',\n",
       "       'получение дополнительного образования', 'покупка своего жилья',\n",
       "       'операции с недвижимостью', 'получение высшего образования',\n",
       "       'свой автомобиль', 'сделка с автомобилем',\n",
       "       'профильное образование', 'высшее образование',\n",
       "       'покупка жилья для сдачи', 'на покупку автомобиля', 'ремонт жилью',\n",
       "       'заняться высшим образованием'], dtype=object)"
      ]
     },
     "execution_count": 40,
     "metadata": {},
     "output_type": "execute_result"
    }
   ],
   "source": [
    "# проверим результат\n",
    "df['purpose'].unique() "
   ]
  },
  {
   "cell_type": "code",
   "execution_count": 41,
   "id": "5a7195d1",
   "metadata": {},
   "outputs": [
    {
     "data": {
      "text/plain": [
       "array(['женат / замужем', 'гражданский брак', 'вдовец / вдова',\n",
       "       'в разводе', 'Не женат / не замужем'], dtype=object)"
      ]
     },
     "execution_count": 41,
     "metadata": {},
     "output_type": "execute_result"
    }
   ],
   "source": [
    "# Просмотр уникальных значений столбца 'family_status'\n",
    "df['family_status'].unique() "
   ]
  },
  {
   "cell_type": "markdown",
   "id": "2ff6124e",
   "metadata": {},
   "source": [
    "На данные это не повлияет, но приведём все значения в столбце family_status к одному регистру"
   ]
  },
  {
   "cell_type": "code",
   "execution_count": 42,
   "id": "be7b009d",
   "metadata": {},
   "outputs": [],
   "source": [
    "# приведем значения столбца к одному регистру\n",
    "df['family_status'] = df['family_status'].str.lower()"
   ]
  },
  {
   "cell_type": "code",
   "execution_count": 43,
   "id": "1db20f1c",
   "metadata": {},
   "outputs": [
    {
     "data": {
      "text/plain": [
       "array(['женат / замужем', 'гражданский брак', 'вдовец / вдова',\n",
       "       'в разводе', 'не женат / не замужем'], dtype=object)"
      ]
     },
     "execution_count": 43,
     "metadata": {},
     "output_type": "execute_result"
    }
   ],
   "source": [
    "# проверим результат\n",
    "df['family_status'].unique() "
   ]
  },
  {
   "cell_type": "code",
   "execution_count": 44,
   "id": "1b33dd55",
   "metadata": {},
   "outputs": [
    {
     "data": {
      "text/plain": [
       "array(['сотрудник', 'пенсионер', 'компаньон', 'госслужащий',\n",
       "       'безработный', 'предприниматель', 'студент', 'в декрете'],\n",
       "      dtype=object)"
      ]
     },
     "execution_count": 44,
     "metadata": {},
     "output_type": "execute_result"
    }
   ],
   "source": [
    "# Просмотр уникальных значений столбца 'income_type'\n",
    "df['income_type'].unique() "
   ]
  },
  {
   "cell_type": "markdown",
   "id": "842b47ae",
   "metadata": {},
   "source": [
    "Неявные дубликаты в столбце income_type не обнаружены\n",
    "\n",
    "Все столбцы проверены на явные и неявные дубликаты и исправлены.\n",
    "\n",
    "Дубликаты могли появиться вследствие заполнения данных пользователями отсюда разный регистр в столбце education, разные формулировки цели кредита в столбце purpose, \n",
    "\n",
    "               "
   ]
  },
  {
   "cell_type": "markdown",
   "id": "52ce108c",
   "metadata": {},
   "source": [
    "### Шаг 2.5. Формирование дополнительных датафреймов словарей, декомпозиция исходного датафрейма.\n",
    "\n",
    "Создадим два новых датафрейма, в которых:\t\n",
    "* каждому уникальному значению из education соответствует уникальное значение education_id — в первом;\n",
    "* каждому уникальному значению из family_status соответствует уникальное значение family_status_id — во втором.\n"
   ]
  },
  {
   "cell_type": "code",
   "execution_count": 45,
   "id": "a33dda6d",
   "metadata": {
    "scrolled": true
   },
   "outputs": [
    {
     "data": {
      "text/html": [
       "<div>\n",
       "<style scoped>\n",
       "    .dataframe tbody tr th:only-of-type {\n",
       "        vertical-align: middle;\n",
       "    }\n",
       "\n",
       "    .dataframe tbody tr th {\n",
       "        vertical-align: top;\n",
       "    }\n",
       "\n",
       "    .dataframe thead th {\n",
       "        text-align: right;\n",
       "    }\n",
       "</style>\n",
       "<table border=\"1\" class=\"dataframe\">\n",
       "  <thead>\n",
       "    <tr style=\"text-align: right;\">\n",
       "      <th></th>\n",
       "      <th>education</th>\n",
       "      <th>education_id</th>\n",
       "    </tr>\n",
       "  </thead>\n",
       "  <tbody>\n",
       "    <tr>\n",
       "      <th>0</th>\n",
       "      <td>высшее</td>\n",
       "      <td>0</td>\n",
       "    </tr>\n",
       "    <tr>\n",
       "      <th>1</th>\n",
       "      <td>среднее</td>\n",
       "      <td>1</td>\n",
       "    </tr>\n",
       "    <tr>\n",
       "      <th>2</th>\n",
       "      <td>неоконченное высшее</td>\n",
       "      <td>2</td>\n",
       "    </tr>\n",
       "    <tr>\n",
       "      <th>3</th>\n",
       "      <td>начальное</td>\n",
       "      <td>3</td>\n",
       "    </tr>\n",
       "    <tr>\n",
       "      <th>4</th>\n",
       "      <td>ученая степень</td>\n",
       "      <td>4</td>\n",
       "    </tr>\n",
       "  </tbody>\n",
       "</table>\n",
       "</div>"
      ],
      "text/plain": [
       "             education  education_id\n",
       "0               высшее             0\n",
       "1              среднее             1\n",
       "2  неоконченное высшее             2\n",
       "3            начальное             3\n",
       "4       ученая степень             4"
      ]
     },
     "execution_count": 45,
     "metadata": {},
     "output_type": "execute_result"
    }
   ],
   "source": [
    "df_education = df[['education', 'education_id']].drop_duplicates().reset_index(drop = True)\n",
    "df_education"
   ]
  },
  {
   "cell_type": "code",
   "execution_count": 46,
   "id": "60b45fe5",
   "metadata": {},
   "outputs": [
    {
     "data": {
      "text/html": [
       "<div>\n",
       "<style scoped>\n",
       "    .dataframe tbody tr th:only-of-type {\n",
       "        vertical-align: middle;\n",
       "    }\n",
       "\n",
       "    .dataframe tbody tr th {\n",
       "        vertical-align: top;\n",
       "    }\n",
       "\n",
       "    .dataframe thead th {\n",
       "        text-align: right;\n",
       "    }\n",
       "</style>\n",
       "<table border=\"1\" class=\"dataframe\">\n",
       "  <thead>\n",
       "    <tr style=\"text-align: right;\">\n",
       "      <th></th>\n",
       "      <th>family_status</th>\n",
       "      <th>family_status_id</th>\n",
       "    </tr>\n",
       "  </thead>\n",
       "  <tbody>\n",
       "    <tr>\n",
       "      <th>0</th>\n",
       "      <td>женат / замужем</td>\n",
       "      <td>0</td>\n",
       "    </tr>\n",
       "    <tr>\n",
       "      <th>1</th>\n",
       "      <td>гражданский брак</td>\n",
       "      <td>1</td>\n",
       "    </tr>\n",
       "    <tr>\n",
       "      <th>2</th>\n",
       "      <td>вдовец / вдова</td>\n",
       "      <td>2</td>\n",
       "    </tr>\n",
       "    <tr>\n",
       "      <th>3</th>\n",
       "      <td>в разводе</td>\n",
       "      <td>3</td>\n",
       "    </tr>\n",
       "    <tr>\n",
       "      <th>4</th>\n",
       "      <td>не женат / не замужем</td>\n",
       "      <td>4</td>\n",
       "    </tr>\n",
       "  </tbody>\n",
       "</table>\n",
       "</div>"
      ],
      "text/plain": [
       "           family_status  family_status_id\n",
       "0        женат / замужем                 0\n",
       "1       гражданский брак                 1\n",
       "2         вдовец / вдова                 2\n",
       "3              в разводе                 3\n",
       "4  не женат / не замужем                 4"
      ]
     },
     "execution_count": 46,
     "metadata": {},
     "output_type": "execute_result"
    }
   ],
   "source": [
    "df_family_status = df[['family_status', 'family_status_id']].drop_duplicates().reset_index(drop = True)\n",
    "df_family_status "
   ]
  },
  {
   "cell_type": "markdown",
   "id": "fd8e2749",
   "metadata": {},
   "source": [
    "Удалим из исходного датафрейма столбцы education и family_status, оставив только их идентификаторы: education_id и family_status_id."
   ]
  },
  {
   "cell_type": "code",
   "execution_count": 47,
   "id": "ec40494b",
   "metadata": {},
   "outputs": [
    {
     "data": {
      "text/html": [
       "<div>\n",
       "<style scoped>\n",
       "    .dataframe tbody tr th:only-of-type {\n",
       "        vertical-align: middle;\n",
       "    }\n",
       "\n",
       "    .dataframe tbody tr th {\n",
       "        vertical-align: top;\n",
       "    }\n",
       "\n",
       "    .dataframe thead th {\n",
       "        text-align: right;\n",
       "    }\n",
       "</style>\n",
       "<table border=\"1\" class=\"dataframe\">\n",
       "  <thead>\n",
       "    <tr style=\"text-align: right;\">\n",
       "      <th></th>\n",
       "      <th>children</th>\n",
       "      <th>days_employed</th>\n",
       "      <th>dob_years</th>\n",
       "      <th>education_id</th>\n",
       "      <th>family_status_id</th>\n",
       "      <th>gender</th>\n",
       "      <th>income_type</th>\n",
       "      <th>debt</th>\n",
       "      <th>total_income</th>\n",
       "      <th>purpose</th>\n",
       "    </tr>\n",
       "  </thead>\n",
       "  <tbody>\n",
       "    <tr>\n",
       "      <th>0</th>\n",
       "      <td>1</td>\n",
       "      <td>8437</td>\n",
       "      <td>42.0</td>\n",
       "      <td>0</td>\n",
       "      <td>0</td>\n",
       "      <td>F</td>\n",
       "      <td>сотрудник</td>\n",
       "      <td>0</td>\n",
       "      <td>253875</td>\n",
       "      <td>покупка жилья</td>\n",
       "    </tr>\n",
       "    <tr>\n",
       "      <th>1</th>\n",
       "      <td>1</td>\n",
       "      <td>4024</td>\n",
       "      <td>36.0</td>\n",
       "      <td>1</td>\n",
       "      <td>0</td>\n",
       "      <td>F</td>\n",
       "      <td>сотрудник</td>\n",
       "      <td>0</td>\n",
       "      <td>112080</td>\n",
       "      <td>приобретение автомобиля</td>\n",
       "    </tr>\n",
       "    <tr>\n",
       "      <th>2</th>\n",
       "      <td>0</td>\n",
       "      <td>5623</td>\n",
       "      <td>33.0</td>\n",
       "      <td>1</td>\n",
       "      <td>0</td>\n",
       "      <td>M</td>\n",
       "      <td>сотрудник</td>\n",
       "      <td>0</td>\n",
       "      <td>145885</td>\n",
       "      <td>покупка жилья</td>\n",
       "    </tr>\n",
       "    <tr>\n",
       "      <th>3</th>\n",
       "      <td>3</td>\n",
       "      <td>4124</td>\n",
       "      <td>32.0</td>\n",
       "      <td>1</td>\n",
       "      <td>0</td>\n",
       "      <td>M</td>\n",
       "      <td>сотрудник</td>\n",
       "      <td>0</td>\n",
       "      <td>267628</td>\n",
       "      <td>дополнительное образование</td>\n",
       "    </tr>\n",
       "    <tr>\n",
       "      <th>4</th>\n",
       "      <td>0</td>\n",
       "      <td>340266</td>\n",
       "      <td>53.0</td>\n",
       "      <td>1</td>\n",
       "      <td>1</td>\n",
       "      <td>F</td>\n",
       "      <td>пенсионер</td>\n",
       "      <td>0</td>\n",
       "      <td>158616</td>\n",
       "      <td>сыграть свадьбу</td>\n",
       "    </tr>\n",
       "  </tbody>\n",
       "</table>\n",
       "</div>"
      ],
      "text/plain": [
       "   children  days_employed  dob_years  education_id  family_status_id gender  \\\n",
       "0         1           8437       42.0             0                 0      F   \n",
       "1         1           4024       36.0             1                 0      F   \n",
       "2         0           5623       33.0             1                 0      M   \n",
       "3         3           4124       32.0             1                 0      M   \n",
       "4         0         340266       53.0             1                 1      F   \n",
       "\n",
       "  income_type  debt  total_income                     purpose  \n",
       "0   сотрудник     0        253875               покупка жилья  \n",
       "1   сотрудник     0        112080     приобретение автомобиля  \n",
       "2   сотрудник     0        145885               покупка жилья  \n",
       "3   сотрудник     0        267628  дополнительное образование  \n",
       "4   пенсионер     0        158616             сыграть свадьбу  "
      ]
     },
     "execution_count": 47,
     "metadata": {},
     "output_type": "execute_result"
    }
   ],
   "source": [
    "# методом drop удалим из df соотвествующие столбцы\n",
    "df = df.drop(columns = ['education', 'family_status'], axis = 1) \n",
    "# проверим результат\n",
    "df.head()"
   ]
  },
  {
   "cell_type": "markdown",
   "id": "b4aed39c",
   "metadata": {},
   "source": [
    "### Шаг 2.6. Категоризация дохода."
   ]
  },
  {
   "cell_type": "markdown",
   "id": "9a3343a4",
   "metadata": {},
   "source": [
    "На основании диапазонов, указанных ниже, создадим столбец total_income_category с категориями:\n",
    "*\t0–30000 — 'E';\n",
    "*\t30001–50000 — 'D';\n",
    "*\t50001–200000 — 'C';\n",
    "*\t200001–1000000 — 'B';\n",
    "*\t1000001 и выше — 'A'.\n"
   ]
  },
  {
   "cell_type": "code",
   "execution_count": 48,
   "id": "bf017578",
   "metadata": {
    "scrolled": true
   },
   "outputs": [
    {
     "data": {
      "text/html": [
       "<div>\n",
       "<style scoped>\n",
       "    .dataframe tbody tr th:only-of-type {\n",
       "        vertical-align: middle;\n",
       "    }\n",
       "\n",
       "    .dataframe tbody tr th {\n",
       "        vertical-align: top;\n",
       "    }\n",
       "\n",
       "    .dataframe thead th {\n",
       "        text-align: right;\n",
       "    }\n",
       "</style>\n",
       "<table border=\"1\" class=\"dataframe\">\n",
       "  <thead>\n",
       "    <tr style=\"text-align: right;\">\n",
       "      <th></th>\n",
       "      <th>children</th>\n",
       "      <th>days_employed</th>\n",
       "      <th>dob_years</th>\n",
       "      <th>education_id</th>\n",
       "      <th>family_status_id</th>\n",
       "      <th>gender</th>\n",
       "      <th>income_type</th>\n",
       "      <th>debt</th>\n",
       "      <th>total_income</th>\n",
       "      <th>purpose</th>\n",
       "      <th>total_income_category</th>\n",
       "    </tr>\n",
       "  </thead>\n",
       "  <tbody>\n",
       "    <tr>\n",
       "      <th>0</th>\n",
       "      <td>1</td>\n",
       "      <td>8437</td>\n",
       "      <td>42.0</td>\n",
       "      <td>0</td>\n",
       "      <td>0</td>\n",
       "      <td>F</td>\n",
       "      <td>сотрудник</td>\n",
       "      <td>0</td>\n",
       "      <td>253875</td>\n",
       "      <td>покупка жилья</td>\n",
       "      <td>B</td>\n",
       "    </tr>\n",
       "    <tr>\n",
       "      <th>1</th>\n",
       "      <td>1</td>\n",
       "      <td>4024</td>\n",
       "      <td>36.0</td>\n",
       "      <td>1</td>\n",
       "      <td>0</td>\n",
       "      <td>F</td>\n",
       "      <td>сотрудник</td>\n",
       "      <td>0</td>\n",
       "      <td>112080</td>\n",
       "      <td>приобретение автомобиля</td>\n",
       "      <td>C</td>\n",
       "    </tr>\n",
       "    <tr>\n",
       "      <th>2</th>\n",
       "      <td>0</td>\n",
       "      <td>5623</td>\n",
       "      <td>33.0</td>\n",
       "      <td>1</td>\n",
       "      <td>0</td>\n",
       "      <td>M</td>\n",
       "      <td>сотрудник</td>\n",
       "      <td>0</td>\n",
       "      <td>145885</td>\n",
       "      <td>покупка жилья</td>\n",
       "      <td>C</td>\n",
       "    </tr>\n",
       "    <tr>\n",
       "      <th>3</th>\n",
       "      <td>3</td>\n",
       "      <td>4124</td>\n",
       "      <td>32.0</td>\n",
       "      <td>1</td>\n",
       "      <td>0</td>\n",
       "      <td>M</td>\n",
       "      <td>сотрудник</td>\n",
       "      <td>0</td>\n",
       "      <td>267628</td>\n",
       "      <td>дополнительное образование</td>\n",
       "      <td>B</td>\n",
       "    </tr>\n",
       "    <tr>\n",
       "      <th>4</th>\n",
       "      <td>0</td>\n",
       "      <td>340266</td>\n",
       "      <td>53.0</td>\n",
       "      <td>1</td>\n",
       "      <td>1</td>\n",
       "      <td>F</td>\n",
       "      <td>пенсионер</td>\n",
       "      <td>0</td>\n",
       "      <td>158616</td>\n",
       "      <td>сыграть свадьбу</td>\n",
       "      <td>C</td>\n",
       "    </tr>\n",
       "  </tbody>\n",
       "</table>\n",
       "</div>"
      ],
      "text/plain": [
       "   children  days_employed  dob_years  education_id  family_status_id gender  \\\n",
       "0         1           8437       42.0             0                 0      F   \n",
       "1         1           4024       36.0             1                 0      F   \n",
       "2         0           5623       33.0             1                 0      M   \n",
       "3         3           4124       32.0             1                 0      M   \n",
       "4         0         340266       53.0             1                 1      F   \n",
       "\n",
       "  income_type  debt  total_income                     purpose  \\\n",
       "0   сотрудник     0        253875               покупка жилья   \n",
       "1   сотрудник     0        112080     приобретение автомобиля   \n",
       "2   сотрудник     0        145885               покупка жилья   \n",
       "3   сотрудник     0        267628  дополнительное образование   \n",
       "4   пенсионер     0        158616             сыграть свадьбу   \n",
       "\n",
       "  total_income_category  \n",
       "0                     B  \n",
       "1                     C  \n",
       "2                     C  \n",
       "3                     B  \n",
       "4                     C  "
      ]
     },
     "execution_count": 48,
     "metadata": {},
     "output_type": "execute_result"
    }
   ],
   "source": [
    "# создание функции для категоризации доходов\n",
    "def income_group(income):\n",
    "    if income <= 30000:\n",
    "        return 'E'\n",
    "    if 30000 <= income <= 50000:\n",
    "        return 'D'\n",
    "    if 50001 <= income <= 200000:\n",
    "        return 'C'\n",
    "    if 200001 <= income <= 1000000:\n",
    "        return 'B'\n",
    "    if income >= 1000001:\n",
    "        return 'A'\n",
    "# создадим столбец total_income_category с категориями дохода    \n",
    "df['total_income_category'] = df['total_income'].apply(income_group)\n",
    "df.head()"
   ]
  },
  {
   "cell_type": "markdown",
   "id": "5494e342",
   "metadata": {},
   "source": [
    "### Шаг 2.7. Категоризация целей кредита."
   ]
  },
  {
   "cell_type": "markdown",
   "id": "325da756",
   "metadata": {},
   "source": [
    "Создадим функцию, которая на основании данных из столбца purpose сформирует новый столбец purpose_category, в который войдут следующие категории:\n",
    "*\t'операции с автомобилем',\n",
    "*\t'операции с недвижимостью',\n",
    "*\t'проведение свадьбы',\n",
    "*\t'получение образования'.\n"
   ]
  },
  {
   "cell_type": "code",
   "execution_count": 49,
   "id": "0f8de6d8",
   "metadata": {},
   "outputs": [],
   "source": [
    "def purpose_categorizer(purpose):\n",
    "    if 'автомобил' in purpose:\n",
    "        return 'операции с автомобилем'\n",
    "    if 'свадьб' in purpose:\n",
    "        return 'проведение свадьбы'\n",
    "    if 'образован' in purpose:\n",
    "        return 'получение образования'\n",
    "    if 'жиль' in purpose:\n",
    "        return 'операции с недвижимостью'\n",
    "    if 'недвиж' in purpose:\n",
    "        return 'операции с недвижимостью'\n",
    "    return purpose # важно добавить крайний случай иначе занулит значения которые не подошли к шаблону\n",
    "# создадим столбец purpose_category с категориями целей кредита  \n",
    "df['purpose_category'] = df['purpose'].apply(purpose_categorizer) "
   ]
  },
  {
   "cell_type": "code",
   "execution_count": 50,
   "id": "5ce2a499",
   "metadata": {
    "scrolled": true
   },
   "outputs": [
    {
     "data": {
      "text/plain": [
       "array(['операции с недвижимостью', 'операции с автомобилем',\n",
       "       'получение образования', 'проведение свадьбы'], dtype=object)"
      ]
     },
     "execution_count": 50,
     "metadata": {},
     "output_type": "execute_result"
    }
   ],
   "source": [
    "df['purpose_category'].unique()"
   ]
  },
  {
   "cell_type": "markdown",
   "id": "76c476b6",
   "metadata": {},
   "source": [
    "### Ответы на вопросы."
   ]
  },
  {
   "cell_type": "markdown",
   "id": "e775dd9e",
   "metadata": {},
   "source": [
    "Данные очищенны. Теперь можно сгрупировать их для того чтобы ответить на поставленые вопросы в задании"
   ]
  },
  {
   "cell_type": "code",
   "execution_count": 51,
   "id": "6f724ec8",
   "metadata": {},
   "outputs": [
    {
     "data": {
      "text/plain": [
       "8.832183441558442"
      ]
     },
     "execution_count": 51,
     "metadata": {},
     "output_type": "execute_result"
    }
   ],
   "source": [
    "late_payment = df[(df['debt'] == 1)].count() / df[(df['debt'] == 0)].count() * 100\n",
    "late_payment['debt']"
   ]
  },
  {
   "cell_type": "markdown",
   "id": "c2545bde",
   "metadata": {},
   "source": [
    "в 8,8% случаем кредит не выплачивается вовремя. Посмотрим как меняется это значение в зависимости от других факторов."
   ]
  },
  {
   "cell_type": "markdown",
   "id": "8aad7862",
   "metadata": {},
   "source": [
    "##### Вопрос 1: Есть ли зависимость между количеством детей и возвратом кредита в срок?"
   ]
  },
  {
   "cell_type": "code",
   "execution_count": 52,
   "id": "0f54ec8c",
   "metadata": {},
   "outputs": [
    {
     "data": {
      "text/plain": [
       "children\n",
       "0    7.544358\n",
       "1    9.165808\n",
       "2    9.492481\n",
       "3    8.181818\n",
       "4    9.756098\n",
       "Name: % просрочки, dtype: float64"
      ]
     },
     "execution_count": 52,
     "metadata": {},
     "output_type": "execute_result"
    }
   ],
   "source": [
    "children_to_debt = df.groupby('children').agg({'debt': ['count', 'sum']})\n",
    "children_to_debt['% просрочки'] = children_to_debt['debt']['sum'] / children_to_debt['debt']['count'] * 100\n",
    "children_pivot = children_to_debt.pivot_table(index='children', values='% просрочки') \n",
    "children_pivot.head()"
   ]
  },
  {
   "cell_type": "markdown",
   "id": "3851545a",
   "metadata": {},
   "source": [
    "##### Вывод 1: "
   ]
  },
  {
   "cell_type": "markdown",
   "id": "fb45631a",
   "metadata": {},
   "source": [
    "Люди у которых нет детей имеют меньше проблем с возвратом кредита (7.5% просрочек), чем люди, которые имеют одного и более детей (8,2 - 9.7% просрочек)"
   ]
  },
  {
   "cell_type": "markdown",
   "id": "8c90d161",
   "metadata": {},
   "source": [
    "##### Вопрос 2: Есть ли зависимость между семейным положением и возвратом кредита в срок?"
   ]
  },
  {
   "cell_type": "code",
   "execution_count": 53,
   "id": "05e83c0d",
   "metadata": {},
   "outputs": [
    {
     "data": {
      "text/html": [
       "<div>\n",
       "<style scoped>\n",
       "    .dataframe tbody tr th:only-of-type {\n",
       "        vertical-align: middle;\n",
       "    }\n",
       "\n",
       "    .dataframe tbody tr th {\n",
       "        vertical-align: top;\n",
       "    }\n",
       "\n",
       "    .dataframe thead tr th {\n",
       "        text-align: left;\n",
       "    }\n",
       "</style>\n",
       "<table border=\"1\" class=\"dataframe\">\n",
       "  <thead>\n",
       "    <tr>\n",
       "      <th></th>\n",
       "      <th>family_status_id</th>\n",
       "      <th colspan=\"2\" halign=\"left\">debt</th>\n",
       "      <th>% просрочки</th>\n",
       "    </tr>\n",
       "    <tr>\n",
       "      <th></th>\n",
       "      <th></th>\n",
       "      <th>count</th>\n",
       "      <th>sum</th>\n",
       "      <th></th>\n",
       "    </tr>\n",
       "  </thead>\n",
       "  <tbody>\n",
       "    <tr>\n",
       "      <th>0</th>\n",
       "      <td>0</td>\n",
       "      <td>12339</td>\n",
       "      <td>931</td>\n",
       "      <td>7.545182</td>\n",
       "    </tr>\n",
       "    <tr>\n",
       "      <th>1</th>\n",
       "      <td>1</td>\n",
       "      <td>4150</td>\n",
       "      <td>388</td>\n",
       "      <td>9.349398</td>\n",
       "    </tr>\n",
       "    <tr>\n",
       "      <th>2</th>\n",
       "      <td>2</td>\n",
       "      <td>959</td>\n",
       "      <td>63</td>\n",
       "      <td>6.569343</td>\n",
       "    </tr>\n",
       "    <tr>\n",
       "      <th>3</th>\n",
       "      <td>3</td>\n",
       "      <td>1195</td>\n",
       "      <td>85</td>\n",
       "      <td>7.112971</td>\n",
       "    </tr>\n",
       "    <tr>\n",
       "      <th>4</th>\n",
       "      <td>4</td>\n",
       "      <td>2810</td>\n",
       "      <td>274</td>\n",
       "      <td>9.750890</td>\n",
       "    </tr>\n",
       "  </tbody>\n",
       "</table>\n",
       "</div>"
      ],
      "text/plain": [
       "  family_status_id   debt      % просрочки\n",
       "                    count  sum            \n",
       "0                0  12339  931    7.545182\n",
       "1                1   4150  388    9.349398\n",
       "2                2    959   63    6.569343\n",
       "3                3   1195   85    7.112971\n",
       "4                4   2810  274    9.750890"
      ]
     },
     "execution_count": 53,
     "metadata": {},
     "output_type": "execute_result"
    }
   ],
   "source": [
    "family_status_grouped = df.groupby('family_status_id').agg({'debt': ['count', 'sum']})\n",
    "family_status_grouped['% просрочки'] = family_status_grouped['debt']['sum'] / family_status_grouped['debt']['count'] * 100\n",
    "family_status_grouped = family_status_grouped.reset_index(drop=False)\n",
    "family_status_grouped.head()"
   ]
  },
  {
   "cell_type": "code",
   "execution_count": 54,
   "id": "a4c5dede",
   "metadata": {},
   "outputs": [
    {
     "name": "stderr",
     "output_type": "stream",
     "text": [
      "/opt/conda/lib/python3.9/site-packages/pandas/core/generic.py:4153: PerformanceWarning: dropping on a non-lexsorted multi-index without a level parameter may impact performance.\n",
      "  obj = obj._drop_axis(labels, axis, level=level, errors=errors)\n"
     ]
    },
    {
     "data": {
      "text/plain": [
       "family_status_id\n",
       "0    7.545182\n",
       "1    9.349398\n",
       "2    6.569343\n",
       "3    7.112971\n",
       "4    9.750890\n",
       "Name: % просрочки, dtype: float64"
      ]
     },
     "execution_count": 54,
     "metadata": {},
     "output_type": "execute_result"
    }
   ],
   "source": [
    "family_status_grouped = family_status_grouped.pivot_table(index='family_status_id', values='% просрочки')\n",
    "family_status_grouped "
   ]
  },
  {
   "cell_type": "markdown",
   "id": "73804ebd",
   "metadata": {},
   "source": [
    "##### Вывод 2: "
   ]
  },
  {
   "cell_type": "markdown",
   "id": "8f696bdc",
   "metadata": {},
   "source": [
    "Не женатые/ Не замужние или люди в гражданском браке реже выплачивают кредит в срок."
   ]
  },
  {
   "cell_type": "markdown",
   "id": "b98789f2",
   "metadata": {},
   "source": [
    "##### Вопрос 3:\tЕсть ли зависимость между уровнем дохода и возвратом кредита в срок?"
   ]
  },
  {
   "cell_type": "code",
   "execution_count": 55,
   "id": "e13a058b",
   "metadata": {},
   "outputs": [
    {
     "data": {
      "text/html": [
       "<div>\n",
       "<style scoped>\n",
       "    .dataframe tbody tr th:only-of-type {\n",
       "        vertical-align: middle;\n",
       "    }\n",
       "\n",
       "    .dataframe tbody tr th {\n",
       "        vertical-align: top;\n",
       "    }\n",
       "\n",
       "    .dataframe thead tr th {\n",
       "        text-align: left;\n",
       "    }\n",
       "\n",
       "    .dataframe thead tr:last-of-type th {\n",
       "        text-align: right;\n",
       "    }\n",
       "</style>\n",
       "<table border=\"1\" class=\"dataframe\">\n",
       "  <thead>\n",
       "    <tr>\n",
       "      <th></th>\n",
       "      <th>count</th>\n",
       "      <th>mean</th>\n",
       "    </tr>\n",
       "    <tr>\n",
       "      <th></th>\n",
       "      <th>debt</th>\n",
       "      <th>debt</th>\n",
       "    </tr>\n",
       "    <tr>\n",
       "      <th>total_income_category</th>\n",
       "      <th></th>\n",
       "      <th></th>\n",
       "    </tr>\n",
       "  </thead>\n",
       "  <tbody>\n",
       "    <tr>\n",
       "      <th>A</th>\n",
       "      <td>25</td>\n",
       "      <td>0.080000</td>\n",
       "    </tr>\n",
       "    <tr>\n",
       "      <th>B</th>\n",
       "      <td>5040</td>\n",
       "      <td>0.070635</td>\n",
       "    </tr>\n",
       "    <tr>\n",
       "      <th>C</th>\n",
       "      <td>16016</td>\n",
       "      <td>0.084915</td>\n",
       "    </tr>\n",
       "    <tr>\n",
       "      <th>D</th>\n",
       "      <td>350</td>\n",
       "      <td>0.060000</td>\n",
       "    </tr>\n",
       "    <tr>\n",
       "      <th>E</th>\n",
       "      <td>22</td>\n",
       "      <td>0.090909</td>\n",
       "    </tr>\n",
       "  </tbody>\n",
       "</table>\n",
       "</div>"
      ],
      "text/plain": [
       "                       count      mean\n",
       "                        debt      debt\n",
       "total_income_category                 \n",
       "A                         25  0.080000\n",
       "B                       5040  0.070635\n",
       "C                      16016  0.084915\n",
       "D                        350  0.060000\n",
       "E                         22  0.090909"
      ]
     },
     "execution_count": 55,
     "metadata": {},
     "output_type": "execute_result"
    }
   ],
   "source": [
    "income_pivot = df.pivot_table(index='total_income_category',values='debt', aggfunc=['count', 'mean'])\n",
    "income_pivot"
   ]
  },
  {
   "cell_type": "markdown",
   "id": "0739b847",
   "metadata": {},
   "source": [
    "##### Вывод 3:"
   ]
  },
  {
   "cell_type": "markdown",
   "id": "f57b4057",
   "metadata": {},
   "source": [
    "Люди с наименьшим доходом чаще других групп имеют проблемы с выплатой кредита в срок"
   ]
  },
  {
   "cell_type": "markdown",
   "id": "fc4c78df",
   "metadata": {},
   "source": [
    "##### Вопрос 4:\tКак разные цели кредита влияют на его возврат в срок?"
   ]
  },
  {
   "cell_type": "code",
   "execution_count": 56,
   "id": "44f09e24",
   "metadata": {},
   "outputs": [
    {
     "data": {
      "text/html": [
       "<div>\n",
       "<style scoped>\n",
       "    .dataframe tbody tr th:only-of-type {\n",
       "        vertical-align: middle;\n",
       "    }\n",
       "\n",
       "    .dataframe tbody tr th {\n",
       "        vertical-align: top;\n",
       "    }\n",
       "\n",
       "    .dataframe thead tr th {\n",
       "        text-align: left;\n",
       "    }\n",
       "</style>\n",
       "<table border=\"1\" class=\"dataframe\">\n",
       "  <thead>\n",
       "    <tr>\n",
       "      <th></th>\n",
       "      <th>purpose_category</th>\n",
       "      <th>count</th>\n",
       "      <th>mean</th>\n",
       "    </tr>\n",
       "    <tr>\n",
       "      <th></th>\n",
       "      <th></th>\n",
       "      <th>debt</th>\n",
       "      <th>debt</th>\n",
       "    </tr>\n",
       "  </thead>\n",
       "  <tbody>\n",
       "    <tr>\n",
       "      <th>0</th>\n",
       "      <td>операции с автомобилем</td>\n",
       "      <td>4306</td>\n",
       "      <td>0.093590</td>\n",
       "    </tr>\n",
       "    <tr>\n",
       "      <th>1</th>\n",
       "      <td>операции с недвижимостью</td>\n",
       "      <td>10810</td>\n",
       "      <td>0.072340</td>\n",
       "    </tr>\n",
       "    <tr>\n",
       "      <th>2</th>\n",
       "      <td>получение образования</td>\n",
       "      <td>4013</td>\n",
       "      <td>0.092200</td>\n",
       "    </tr>\n",
       "    <tr>\n",
       "      <th>3</th>\n",
       "      <td>проведение свадьбы</td>\n",
       "      <td>2324</td>\n",
       "      <td>0.080034</td>\n",
       "    </tr>\n",
       "  </tbody>\n",
       "</table>\n",
       "</div>"
      ],
      "text/plain": [
       "           purpose_category  count      mean\n",
       "                              debt      debt\n",
       "0    операции с автомобилем   4306  0.093590\n",
       "1  операции с недвижимостью  10810  0.072340\n",
       "2     получение образования   4013  0.092200\n",
       "3        проведение свадьбы   2324  0.080034"
      ]
     },
     "execution_count": 56,
     "metadata": {},
     "output_type": "execute_result"
    }
   ],
   "source": [
    "purpose_pivot = df.pivot_table(index='purpose_category',values='debt', aggfunc=['count', 'mean']).reset_index(drop=False)\n",
    "purpose_pivot"
   ]
  },
  {
   "cell_type": "markdown",
   "id": "4f514e6b",
   "metadata": {},
   "source": [
    "##### Вывод 4:"
   ]
  },
  {
   "cell_type": "markdown",
   "id": "9f23e8b1",
   "metadata": {},
   "source": [
    " Люди с большей вероятностью выплачивают кредит если он взят на операции с жильем или недвижимостью или на свадьбу. "
   ]
  },
  {
   "cell_type": "markdown",
   "id": "bc3f498a",
   "metadata": {},
   "source": [
    "## Общий вывод:"
   ]
  },
  {
   "cell_type": "markdown",
   "id": "853b4a49",
   "metadata": {},
   "source": [
    "При работе с данными были заполнены пропущенные значения, удалены дубликаты и выделены категории для целей кредита, группы по возрасту и образованию. Применив сводные таблицы, я оценил, какие критерии влияют на возврат кредита. Дополнительный анализ может помочь более точно предсказать вероятность вылпаты кредита в срок."
   ]
  }
 ],
 "metadata": {
  "ExecuteTimeLog": [
   {
    "duration": 1113,
    "start_time": "2022-03-03T13:11:49.991Z"
   },
   {
    "duration": 740,
    "start_time": "2022-03-03T13:12:02.942Z"
   },
   {
    "duration": 75,
    "start_time": "2022-03-03T13:12:13.803Z"
   },
   {
    "duration": 84,
    "start_time": "2022-03-03T13:12:36.981Z"
   },
   {
    "duration": 71,
    "start_time": "2022-03-03T13:18:32.060Z"
   },
   {
    "duration": 72,
    "start_time": "2022-03-03T13:19:09.065Z"
   },
   {
    "duration": 6,
    "start_time": "2022-03-03T13:19:09.911Z"
   },
   {
    "duration": 22,
    "start_time": "2022-03-03T13:19:10.776Z"
   },
   {
    "duration": 71,
    "start_time": "2022-03-03T13:22:48.285Z"
   },
   {
    "duration": 6,
    "start_time": "2022-03-03T13:22:49.391Z"
   },
   {
    "duration": 321,
    "start_time": "2022-03-03T13:51:53.015Z"
   },
   {
    "duration": 341,
    "start_time": "2022-03-03T13:52:09.152Z"
   },
   {
    "duration": 261,
    "start_time": "2022-03-04T05:35:28.838Z"
   },
   {
    "duration": 259,
    "start_time": "2022-03-04T05:36:03.693Z"
   },
   {
    "duration": 269,
    "start_time": "2022-03-04T05:36:28.778Z"
   },
   {
    "duration": 272,
    "start_time": "2022-03-04T05:43:58.328Z"
   },
   {
    "duration": 591,
    "start_time": "2022-03-04T05:44:06.708Z"
   },
   {
    "duration": 9,
    "start_time": "2022-03-04T05:44:07.301Z"
   },
   {
    "duration": 19,
    "start_time": "2022-03-04T05:44:07.312Z"
   },
   {
    "duration": 81,
    "start_time": "2022-03-04T05:44:07.333Z"
   },
   {
    "duration": 64,
    "start_time": "2022-03-04T05:44:39.318Z"
   },
   {
    "duration": 310,
    "start_time": "2022-03-04T05:45:26.233Z"
   },
   {
    "duration": 659,
    "start_time": "2022-03-04T05:45:34.497Z"
   },
   {
    "duration": 9,
    "start_time": "2022-03-04T05:45:35.157Z"
   },
   {
    "duration": 33,
    "start_time": "2022-03-04T05:45:35.168Z"
   },
   {
    "duration": 81,
    "start_time": "2022-03-04T05:45:35.203Z"
   },
   {
    "duration": 63,
    "start_time": "2022-03-04T05:47:35.527Z"
   },
   {
    "duration": 70,
    "start_time": "2022-03-04T05:51:21.862Z"
   },
   {
    "duration": 354,
    "start_time": "2022-03-04T05:51:37.367Z"
   },
   {
    "duration": 77,
    "start_time": "2022-03-04T05:51:45.931Z"
   },
   {
    "duration": 18,
    "start_time": "2022-03-04T05:52:33.817Z"
   },
   {
    "duration": 619,
    "start_time": "2022-03-04T05:52:37.998Z"
   },
   {
    "duration": 9,
    "start_time": "2022-03-04T05:52:38.620Z"
   },
   {
    "duration": 16,
    "start_time": "2022-03-04T05:52:38.632Z"
   },
   {
    "duration": 26,
    "start_time": "2022-03-04T05:52:38.650Z"
   },
   {
    "duration": 82,
    "start_time": "2022-03-04T05:52:38.678Z"
   },
   {
    "duration": 9,
    "start_time": "2022-03-04T05:53:00.447Z"
   },
   {
    "duration": 701,
    "start_time": "2022-03-04T05:53:08.845Z"
   },
   {
    "duration": 9,
    "start_time": "2022-03-04T05:53:09.548Z"
   },
   {
    "duration": 17,
    "start_time": "2022-03-04T05:53:09.559Z"
   },
   {
    "duration": 8,
    "start_time": "2022-03-04T05:53:09.578Z"
   },
   {
    "duration": 82,
    "start_time": "2022-03-04T05:53:09.587Z"
   },
   {
    "duration": 58,
    "start_time": "2022-03-04T05:54:04.085Z"
   },
   {
    "duration": 61,
    "start_time": "2022-03-04T05:54:15.785Z"
   },
   {
    "duration": 76,
    "start_time": "2022-03-04T05:59:10.738Z"
   },
   {
    "duration": -531,
    "start_time": "2022-03-04T05:59:11.347Z"
   },
   {
    "duration": -533,
    "start_time": "2022-03-04T05:59:11.350Z"
   },
   {
    "duration": -533,
    "start_time": "2022-03-04T05:59:11.351Z"
   },
   {
    "duration": -553,
    "start_time": "2022-03-04T05:59:11.372Z"
   },
   {
    "duration": -553,
    "start_time": "2022-03-04T05:59:11.373Z"
   },
   {
    "duration": 90,
    "start_time": "2022-03-04T06:01:41.722Z"
   },
   {
    "duration": -550,
    "start_time": "2022-03-04T06:01:42.364Z"
   },
   {
    "duration": -560,
    "start_time": "2022-03-04T06:01:42.375Z"
   },
   {
    "duration": -589,
    "start_time": "2022-03-04T06:01:42.405Z"
   },
   {
    "duration": -589,
    "start_time": "2022-03-04T06:01:42.406Z"
   },
   {
    "duration": -589,
    "start_time": "2022-03-04T06:01:42.407Z"
   },
   {
    "duration": -594,
    "start_time": "2022-03-04T06:01:42.413Z"
   },
   {
    "duration": 593,
    "start_time": "2022-03-04T06:01:52.898Z"
   },
   {
    "duration": 593,
    "start_time": "2022-03-04T06:03:49.792Z"
   },
   {
    "duration": 4,
    "start_time": "2022-03-04T06:03:50.387Z"
   },
   {
    "duration": 81,
    "start_time": "2022-03-04T06:03:50.395Z"
   },
   {
    "duration": -563,
    "start_time": "2022-03-04T06:03:51.041Z"
   },
   {
    "duration": -563,
    "start_time": "2022-03-04T06:03:51.042Z"
   },
   {
    "duration": -573,
    "start_time": "2022-03-04T06:03:51.053Z"
   },
   {
    "duration": 623,
    "start_time": "2022-03-04T06:04:31.693Z"
   },
   {
    "duration": 12,
    "start_time": "2022-03-04T06:04:32.318Z"
   },
   {
    "duration": 10,
    "start_time": "2022-03-04T06:04:32.332Z"
   },
   {
    "duration": 75,
    "start_time": "2022-03-04T06:04:32.344Z"
   },
   {
    "duration": 13,
    "start_time": "2022-03-04T06:04:32.421Z"
   },
   {
    "duration": 638,
    "start_time": "2022-03-04T06:07:35.891Z"
   },
   {
    "duration": 11,
    "start_time": "2022-03-04T06:07:36.531Z"
   },
   {
    "duration": 16,
    "start_time": "2022-03-04T06:07:36.544Z"
   },
   {
    "duration": 59,
    "start_time": "2022-03-04T06:07:36.561Z"
   },
   {
    "duration": 14,
    "start_time": "2022-03-04T06:07:36.622Z"
   },
   {
    "duration": 590,
    "start_time": "2022-03-04T06:07:48.112Z"
   },
   {
    "duration": 11,
    "start_time": "2022-03-04T06:07:48.705Z"
   },
   {
    "duration": 10,
    "start_time": "2022-03-04T06:07:48.721Z"
   },
   {
    "duration": 77,
    "start_time": "2022-03-04T06:07:48.733Z"
   },
   {
    "duration": 14,
    "start_time": "2022-03-04T06:07:48.812Z"
   },
   {
    "duration": 587,
    "start_time": "2022-03-04T06:10:43.715Z"
   },
   {
    "duration": 11,
    "start_time": "2022-03-04T06:10:44.304Z"
   },
   {
    "duration": 10,
    "start_time": "2022-03-04T06:10:44.316Z"
   },
   {
    "duration": 71,
    "start_time": "2022-03-04T06:10:44.327Z"
   },
   {
    "duration": 14,
    "start_time": "2022-03-04T06:10:44.399Z"
   },
   {
    "duration": 664,
    "start_time": "2022-03-04T06:13:47.451Z"
   },
   {
    "duration": 10,
    "start_time": "2022-03-04T06:13:48.116Z"
   },
   {
    "duration": 9,
    "start_time": "2022-03-04T06:13:48.128Z"
   },
   {
    "duration": 67,
    "start_time": "2022-03-04T06:13:48.138Z"
   },
   {
    "duration": 12,
    "start_time": "2022-03-04T06:13:48.207Z"
   },
   {
    "duration": 16,
    "start_time": "2022-03-04T06:13:48.221Z"
   },
   {
    "duration": 599,
    "start_time": "2022-03-04T06:15:04.612Z"
   },
   {
    "duration": 13,
    "start_time": "2022-03-04T06:15:05.213Z"
   },
   {
    "duration": 9,
    "start_time": "2022-03-04T06:15:05.230Z"
   },
   {
    "duration": 76,
    "start_time": "2022-03-04T06:15:05.240Z"
   },
   {
    "duration": 17,
    "start_time": "2022-03-04T06:15:05.317Z"
   },
   {
    "duration": 604,
    "start_time": "2022-03-04T06:32:51.392Z"
   },
   {
    "duration": 12,
    "start_time": "2022-03-04T06:32:51.998Z"
   },
   {
    "duration": 9,
    "start_time": "2022-03-04T06:32:52.014Z"
   },
   {
    "duration": 76,
    "start_time": "2022-03-04T06:32:52.024Z"
   },
   {
    "duration": 37,
    "start_time": "2022-03-04T06:32:52.101Z"
   },
   {
    "duration": 37,
    "start_time": "2022-03-04T06:33:37.005Z"
   },
   {
    "duration": 664,
    "start_time": "2022-03-04T06:33:55.706Z"
   },
   {
    "duration": 11,
    "start_time": "2022-03-04T06:33:56.371Z"
   },
   {
    "duration": 10,
    "start_time": "2022-03-04T06:33:56.384Z"
   },
   {
    "duration": 66,
    "start_time": "2022-03-04T06:33:56.396Z"
   },
   {
    "duration": 13,
    "start_time": "2022-03-04T06:33:56.464Z"
   },
   {
    "duration": 26,
    "start_time": "2022-03-04T06:33:56.479Z"
   },
   {
    "duration": 667,
    "start_time": "2022-03-04T06:48:13.869Z"
   },
   {
    "duration": 11,
    "start_time": "2022-03-04T06:48:14.537Z"
   },
   {
    "duration": 9,
    "start_time": "2022-03-04T06:48:14.550Z"
   },
   {
    "duration": 61,
    "start_time": "2022-03-04T06:48:14.561Z"
   },
   {
    "duration": 6,
    "start_time": "2022-03-04T06:48:14.623Z"
   },
   {
    "duration": 32,
    "start_time": "2022-03-04T06:48:14.631Z"
   },
   {
    "duration": 29,
    "start_time": "2022-03-04T06:48:14.665Z"
   },
   {
    "duration": 709,
    "start_time": "2022-03-04T07:27:44.732Z"
   },
   {
    "duration": 11,
    "start_time": "2022-03-04T07:27:45.443Z"
   },
   {
    "duration": 10,
    "start_time": "2022-03-04T07:27:45.456Z"
   },
   {
    "duration": 65,
    "start_time": "2022-03-04T07:27:45.468Z"
   },
   {
    "duration": 5,
    "start_time": "2022-03-04T07:27:45.535Z"
   },
   {
    "duration": 22,
    "start_time": "2022-03-04T07:27:45.541Z"
   },
   {
    "duration": 21,
    "start_time": "2022-03-04T07:27:45.565Z"
   },
   {
    "duration": 31,
    "start_time": "2022-03-04T07:27:45.588Z"
   },
   {
    "duration": 626,
    "start_time": "2022-03-04T07:28:52.428Z"
   },
   {
    "duration": 10,
    "start_time": "2022-03-04T07:28:53.056Z"
   },
   {
    "duration": 9,
    "start_time": "2022-03-04T07:28:53.069Z"
   },
   {
    "duration": 57,
    "start_time": "2022-03-04T07:28:53.079Z"
   },
   {
    "duration": 22,
    "start_time": "2022-03-04T07:28:53.138Z"
   },
   {
    "duration": 6,
    "start_time": "2022-03-04T07:28:53.162Z"
   },
   {
    "duration": 12,
    "start_time": "2022-03-04T07:28:53.170Z"
   },
   {
    "duration": 15,
    "start_time": "2022-03-04T07:28:53.184Z"
   },
   {
    "duration": 28,
    "start_time": "2022-03-04T07:28:53.200Z"
   },
   {
    "duration": 659,
    "start_time": "2022-03-04T07:30:02.652Z"
   },
   {
    "duration": 10,
    "start_time": "2022-03-04T07:30:03.313Z"
   },
   {
    "duration": 8,
    "start_time": "2022-03-04T07:30:03.326Z"
   },
   {
    "duration": 73,
    "start_time": "2022-03-04T07:30:03.336Z"
   },
   {
    "duration": 5,
    "start_time": "2022-03-04T07:30:03.411Z"
   },
   {
    "duration": 6,
    "start_time": "2022-03-04T07:30:03.417Z"
   },
   {
    "duration": 15,
    "start_time": "2022-03-04T07:30:03.424Z"
   },
   {
    "duration": 28,
    "start_time": "2022-03-04T07:30:03.441Z"
   },
   {
    "duration": 30,
    "start_time": "2022-03-04T07:30:03.472Z"
   },
   {
    "duration": 5,
    "start_time": "2022-03-04T07:30:35.992Z"
   },
   {
    "duration": 616,
    "start_time": "2022-03-04T07:31:10.603Z"
   },
   {
    "duration": 11,
    "start_time": "2022-03-04T07:31:11.221Z"
   },
   {
    "duration": 18,
    "start_time": "2022-03-04T07:31:11.234Z"
   },
   {
    "duration": 92,
    "start_time": "2022-03-04T07:31:11.254Z"
   },
   {
    "duration": 5,
    "start_time": "2022-03-04T07:31:11.348Z"
   },
   {
    "duration": 43,
    "start_time": "2022-03-04T07:31:11.355Z"
   },
   {
    "duration": 34,
    "start_time": "2022-03-04T07:31:11.399Z"
   },
   {
    "duration": 47,
    "start_time": "2022-03-04T07:31:11.434Z"
   },
   {
    "duration": 32,
    "start_time": "2022-03-04T07:31:11.484Z"
   },
   {
    "duration": 646,
    "start_time": "2022-03-04T07:33:37.984Z"
   },
   {
    "duration": 10,
    "start_time": "2022-03-04T07:33:38.631Z"
   },
   {
    "duration": 8,
    "start_time": "2022-03-04T07:33:38.644Z"
   },
   {
    "duration": 66,
    "start_time": "2022-03-04T07:33:38.654Z"
   },
   {
    "duration": 5,
    "start_time": "2022-03-04T07:33:38.722Z"
   },
   {
    "duration": 7,
    "start_time": "2022-03-04T07:33:38.729Z"
   },
   {
    "duration": 6,
    "start_time": "2022-03-04T07:33:38.759Z"
   },
   {
    "duration": 15,
    "start_time": "2022-03-04T07:33:38.767Z"
   },
   {
    "duration": 29,
    "start_time": "2022-03-04T07:33:38.784Z"
   },
   {
    "duration": 608,
    "start_time": "2022-03-04T07:34:03.298Z"
   },
   {
    "duration": 10,
    "start_time": "2022-03-04T07:34:03.908Z"
   },
   {
    "duration": 9,
    "start_time": "2022-03-04T07:34:03.920Z"
   },
   {
    "duration": 72,
    "start_time": "2022-03-04T07:34:03.931Z"
   },
   {
    "duration": 5,
    "start_time": "2022-03-04T07:34:04.005Z"
   },
   {
    "duration": 4,
    "start_time": "2022-03-04T07:34:04.012Z"
   },
   {
    "duration": 4,
    "start_time": "2022-03-04T07:34:04.018Z"
   },
   {
    "duration": 37,
    "start_time": "2022-03-04T07:34:04.024Z"
   },
   {
    "duration": 31,
    "start_time": "2022-03-04T07:34:04.063Z"
   },
   {
    "duration": 13,
    "start_time": "2022-03-04T07:36:17.222Z"
   },
   {
    "duration": 6037,
    "start_time": "2022-03-04T07:42:42.084Z"
   },
   {
    "duration": 235,
    "start_time": "2022-03-04T07:42:48.383Z"
   },
   {
    "duration": 7,
    "start_time": "2022-03-04T07:43:09.964Z"
   },
   {
    "duration": 234,
    "start_time": "2022-03-04T07:46:11.764Z"
   },
   {
    "duration": 18,
    "start_time": "2022-03-04T07:46:57.822Z"
   },
   {
    "duration": 4,
    "start_time": "2022-03-04T07:47:11.215Z"
   },
   {
    "duration": 5,
    "start_time": "2022-03-04T07:47:19.654Z"
   },
   {
    "duration": 5,
    "start_time": "2022-03-04T07:47:31.834Z"
   },
   {
    "duration": 14,
    "start_time": "2022-03-04T07:47:42.735Z"
   },
   {
    "duration": 11,
    "start_time": "2022-03-04T07:47:55.934Z"
   },
   {
    "duration": 7,
    "start_time": "2022-03-04T07:47:57.797Z"
   },
   {
    "duration": 5,
    "start_time": "2022-03-04T07:48:14.380Z"
   },
   {
    "duration": 619,
    "start_time": "2022-03-04T07:48:20.701Z"
   },
   {
    "duration": 10,
    "start_time": "2022-03-04T07:48:21.322Z"
   },
   {
    "duration": 12,
    "start_time": "2022-03-04T07:48:21.334Z"
   },
   {
    "duration": 68,
    "start_time": "2022-03-04T07:48:21.347Z"
   },
   {
    "duration": 3,
    "start_time": "2022-03-04T07:48:21.416Z"
   },
   {
    "duration": 6,
    "start_time": "2022-03-04T07:48:21.420Z"
   },
   {
    "duration": 6,
    "start_time": "2022-03-04T07:48:21.427Z"
   },
   {
    "duration": 38,
    "start_time": "2022-03-04T07:48:21.434Z"
   },
   {
    "duration": 32,
    "start_time": "2022-03-04T07:48:21.475Z"
   },
   {
    "duration": 5,
    "start_time": "2022-03-04T07:48:21.508Z"
   },
   {
    "duration": 13,
    "start_time": "2022-03-04T07:48:21.514Z"
   },
   {
    "duration": 31,
    "start_time": "2022-03-04T07:48:21.529Z"
   },
   {
    "duration": 4,
    "start_time": "2022-03-04T07:52:59.892Z"
   },
   {
    "duration": 5,
    "start_time": "2022-03-04T07:53:02.731Z"
   },
   {
    "duration": 18,
    "start_time": "2022-03-04T07:54:40.345Z"
   },
   {
    "duration": 636,
    "start_time": "2022-03-04T07:54:45.168Z"
   },
   {
    "duration": 10,
    "start_time": "2022-03-04T07:54:45.806Z"
   },
   {
    "duration": 9,
    "start_time": "2022-03-04T07:54:45.818Z"
   },
   {
    "duration": 73,
    "start_time": "2022-03-04T07:54:45.828Z"
   },
   {
    "duration": 2,
    "start_time": "2022-03-04T07:54:45.902Z"
   },
   {
    "duration": 7,
    "start_time": "2022-03-04T07:54:45.906Z"
   },
   {
    "duration": 5,
    "start_time": "2022-03-04T07:54:45.915Z"
   },
   {
    "duration": 18,
    "start_time": "2022-03-04T07:54:45.922Z"
   },
   {
    "duration": 45,
    "start_time": "2022-03-04T07:54:45.942Z"
   },
   {
    "duration": 4,
    "start_time": "2022-03-04T07:54:45.988Z"
   },
   {
    "duration": 12,
    "start_time": "2022-03-04T07:54:45.993Z"
   },
   {
    "duration": 9,
    "start_time": "2022-03-04T07:54:46.006Z"
   },
   {
    "duration": 17,
    "start_time": "2022-03-04T07:54:46.016Z"
   },
   {
    "duration": 5,
    "start_time": "2022-03-04T07:54:46.059Z"
   },
   {
    "duration": 653,
    "start_time": "2022-03-04T07:55:42.559Z"
   },
   {
    "duration": 10,
    "start_time": "2022-03-04T07:55:43.215Z"
   },
   {
    "duration": 35,
    "start_time": "2022-03-04T07:55:43.227Z"
   },
   {
    "duration": 88,
    "start_time": "2022-03-04T07:55:43.263Z"
   },
   {
    "duration": 2,
    "start_time": "2022-03-04T07:55:43.353Z"
   },
   {
    "duration": 15,
    "start_time": "2022-03-04T07:55:43.357Z"
   },
   {
    "duration": 24,
    "start_time": "2022-03-04T07:55:43.374Z"
   },
   {
    "duration": 32,
    "start_time": "2022-03-04T07:55:43.400Z"
   },
   {
    "duration": 31,
    "start_time": "2022-03-04T07:55:43.435Z"
   },
   {
    "duration": 4,
    "start_time": "2022-03-04T07:55:43.468Z"
   },
   {
    "duration": 14,
    "start_time": "2022-03-04T07:55:43.474Z"
   },
   {
    "duration": 30,
    "start_time": "2022-03-04T07:55:43.490Z"
   },
   {
    "duration": 31,
    "start_time": "2022-03-04T07:55:43.521Z"
   },
   {
    "duration": 21,
    "start_time": "2022-03-04T07:55:43.554Z"
   },
   {
    "duration": 5,
    "start_time": "2022-03-04T07:59:03.325Z"
   },
   {
    "duration": 611,
    "start_time": "2022-03-04T07:59:47.088Z"
   },
   {
    "duration": 10,
    "start_time": "2022-03-04T07:59:47.700Z"
   },
   {
    "duration": 9,
    "start_time": "2022-03-04T07:59:47.712Z"
   },
   {
    "duration": 77,
    "start_time": "2022-03-04T07:59:47.722Z"
   },
   {
    "duration": 2,
    "start_time": "2022-03-04T07:59:47.801Z"
   },
   {
    "duration": 5,
    "start_time": "2022-03-04T07:59:47.804Z"
   },
   {
    "duration": 5,
    "start_time": "2022-03-04T07:59:47.811Z"
   },
   {
    "duration": 16,
    "start_time": "2022-03-04T07:59:47.818Z"
   },
   {
    "duration": 50,
    "start_time": "2022-03-04T07:59:47.836Z"
   },
   {
    "duration": 5,
    "start_time": "2022-03-04T07:59:47.888Z"
   },
   {
    "duration": 12,
    "start_time": "2022-03-04T07:59:47.894Z"
   },
   {
    "duration": 8,
    "start_time": "2022-03-04T07:59:47.908Z"
   },
   {
    "duration": 13,
    "start_time": "2022-03-04T07:59:47.918Z"
   },
   {
    "duration": 6080,
    "start_time": "2022-03-04T07:59:47.960Z"
   },
   {
    "duration": -638,
    "start_time": "2022-03-04T07:59:54.680Z"
   },
   {
    "duration": 5,
    "start_time": "2022-03-04T08:00:13.167Z"
   },
   {
    "duration": 267,
    "start_time": "2022-03-04T08:00:31.907Z"
   },
   {
    "duration": 643,
    "start_time": "2022-03-04T08:01:51.919Z"
   },
   {
    "duration": 20,
    "start_time": "2022-03-04T08:01:52.564Z"
   },
   {
    "duration": 10,
    "start_time": "2022-03-04T08:01:52.587Z"
   },
   {
    "duration": 81,
    "start_time": "2022-03-04T08:01:52.600Z"
   },
   {
    "duration": 2,
    "start_time": "2022-03-04T08:01:52.683Z"
   },
   {
    "duration": 5,
    "start_time": "2022-03-04T08:01:52.688Z"
   },
   {
    "duration": 7,
    "start_time": "2022-03-04T08:01:52.695Z"
   },
   {
    "duration": 16,
    "start_time": "2022-03-04T08:01:52.705Z"
   },
   {
    "duration": 60,
    "start_time": "2022-03-04T08:01:52.724Z"
   },
   {
    "duration": 5,
    "start_time": "2022-03-04T08:01:52.785Z"
   },
   {
    "duration": 19,
    "start_time": "2022-03-04T08:01:52.792Z"
   },
   {
    "duration": 7,
    "start_time": "2022-03-04T08:01:52.813Z"
   },
   {
    "duration": 40,
    "start_time": "2022-03-04T08:01:52.822Z"
   },
   {
    "duration": 297,
    "start_time": "2022-03-04T08:01:52.864Z"
   },
   {
    "duration": -553,
    "start_time": "2022-03-04T08:01:53.716Z"
   },
   {
    "duration": 682,
    "start_time": "2022-03-04T08:02:51.636Z"
   },
   {
    "duration": 9,
    "start_time": "2022-03-04T08:02:52.320Z"
   },
   {
    "duration": 27,
    "start_time": "2022-03-04T08:02:52.331Z"
   },
   {
    "duration": 82,
    "start_time": "2022-03-04T08:02:52.359Z"
   },
   {
    "duration": 2,
    "start_time": "2022-03-04T08:02:52.442Z"
   },
   {
    "duration": 35,
    "start_time": "2022-03-04T08:02:52.446Z"
   },
   {
    "duration": 44,
    "start_time": "2022-03-04T08:02:52.483Z"
   },
   {
    "duration": 41,
    "start_time": "2022-03-04T08:02:52.530Z"
   },
   {
    "duration": 41,
    "start_time": "2022-03-04T08:02:52.573Z"
   },
   {
    "duration": 6,
    "start_time": "2022-03-04T08:02:52.616Z"
   },
   {
    "duration": 29,
    "start_time": "2022-03-04T08:02:52.624Z"
   },
   {
    "duration": 36,
    "start_time": "2022-03-04T08:02:52.655Z"
   },
   {
    "duration": 46,
    "start_time": "2022-03-04T08:02:52.693Z"
   },
   {
    "duration": 311,
    "start_time": "2022-03-04T08:02:52.740Z"
   },
   {
    "duration": -549,
    "start_time": "2022-03-04T08:02:53.602Z"
   },
   {
    "duration": 680,
    "start_time": "2022-03-04T08:03:28.954Z"
   },
   {
    "duration": 11,
    "start_time": "2022-03-04T08:03:29.636Z"
   },
   {
    "duration": 15,
    "start_time": "2022-03-04T08:03:29.649Z"
   },
   {
    "duration": 67,
    "start_time": "2022-03-04T08:03:29.666Z"
   },
   {
    "duration": 2,
    "start_time": "2022-03-04T08:03:29.735Z"
   },
   {
    "duration": 4,
    "start_time": "2022-03-04T08:03:29.759Z"
   },
   {
    "duration": 6,
    "start_time": "2022-03-04T08:03:29.765Z"
   },
   {
    "duration": 17,
    "start_time": "2022-03-04T08:03:29.773Z"
   },
   {
    "duration": 31,
    "start_time": "2022-03-04T08:03:29.792Z"
   },
   {
    "duration": 4,
    "start_time": "2022-03-04T08:03:29.825Z"
   },
   {
    "duration": 38,
    "start_time": "2022-03-04T08:03:29.831Z"
   },
   {
    "duration": 7,
    "start_time": "2022-03-04T08:03:29.871Z"
   },
   {
    "duration": 13,
    "start_time": "2022-03-04T08:03:29.879Z"
   },
   {
    "duration": 385,
    "start_time": "2022-03-04T08:03:29.894Z"
   },
   {
    "duration": -542,
    "start_time": "2022-03-04T08:03:30.823Z"
   },
   {
    "duration": 618,
    "start_time": "2022-03-04T08:05:02.205Z"
   },
   {
    "duration": 11,
    "start_time": "2022-03-04T08:05:02.825Z"
   },
   {
    "duration": 26,
    "start_time": "2022-03-04T08:05:02.838Z"
   },
   {
    "duration": 67,
    "start_time": "2022-03-04T08:05:02.866Z"
   },
   {
    "duration": 3,
    "start_time": "2022-03-04T08:05:02.934Z"
   },
   {
    "duration": 27,
    "start_time": "2022-03-04T08:05:02.938Z"
   },
   {
    "duration": 24,
    "start_time": "2022-03-04T08:05:02.967Z"
   },
   {
    "duration": 46,
    "start_time": "2022-03-04T08:05:02.993Z"
   },
   {
    "duration": 32,
    "start_time": "2022-03-04T08:05:03.041Z"
   },
   {
    "duration": 9,
    "start_time": "2022-03-04T08:05:03.074Z"
   },
   {
    "duration": 16,
    "start_time": "2022-03-04T08:05:03.085Z"
   },
   {
    "duration": 23,
    "start_time": "2022-03-04T08:05:03.103Z"
   },
   {
    "duration": 19,
    "start_time": "2022-03-04T08:05:03.128Z"
   },
   {
    "duration": 311,
    "start_time": "2022-03-04T08:05:03.149Z"
   },
   {
    "duration": -552,
    "start_time": "2022-03-04T08:05:04.014Z"
   },
   {
    "duration": 643,
    "start_time": "2022-03-04T08:06:20.674Z"
   },
   {
    "duration": 11,
    "start_time": "2022-03-04T08:06:21.319Z"
   },
   {
    "duration": 10,
    "start_time": "2022-03-04T08:06:21.332Z"
   },
   {
    "duration": 69,
    "start_time": "2022-03-04T08:06:21.344Z"
   },
   {
    "duration": 2,
    "start_time": "2022-03-04T08:06:21.415Z"
   },
   {
    "duration": 5,
    "start_time": "2022-03-04T08:06:21.419Z"
   },
   {
    "duration": 7,
    "start_time": "2022-03-04T08:06:21.426Z"
   },
   {
    "duration": 32,
    "start_time": "2022-03-04T08:06:21.435Z"
   },
   {
    "duration": 30,
    "start_time": "2022-03-04T08:06:21.470Z"
   },
   {
    "duration": 4,
    "start_time": "2022-03-04T08:06:21.502Z"
   },
   {
    "duration": 12,
    "start_time": "2022-03-04T08:06:21.508Z"
   },
   {
    "duration": 8,
    "start_time": "2022-03-04T08:06:21.521Z"
   },
   {
    "duration": 39,
    "start_time": "2022-03-04T08:06:21.530Z"
   },
   {
    "duration": 294,
    "start_time": "2022-03-04T08:06:21.570Z"
   },
   {
    "duration": -611,
    "start_time": "2022-03-04T08:06:22.477Z"
   },
   {
    "duration": 628,
    "start_time": "2022-03-04T08:08:58.194Z"
   },
   {
    "duration": 10,
    "start_time": "2022-03-04T08:08:58.823Z"
   },
   {
    "duration": 8,
    "start_time": "2022-03-04T08:08:58.838Z"
   },
   {
    "duration": 68,
    "start_time": "2022-03-04T08:08:58.848Z"
   },
   {
    "duration": 2,
    "start_time": "2022-03-04T08:08:58.918Z"
   },
   {
    "duration": 5,
    "start_time": "2022-03-04T08:08:58.922Z"
   },
   {
    "duration": 4,
    "start_time": "2022-03-04T08:08:58.930Z"
   },
   {
    "duration": 37,
    "start_time": "2022-03-04T08:08:58.936Z"
   },
   {
    "duration": 30,
    "start_time": "2022-03-04T08:08:58.975Z"
   },
   {
    "duration": 4,
    "start_time": "2022-03-04T08:08:59.006Z"
   },
   {
    "duration": 11,
    "start_time": "2022-03-04T08:08:59.012Z"
   },
   {
    "duration": 35,
    "start_time": "2022-03-04T08:08:59.025Z"
   },
   {
    "duration": 12,
    "start_time": "2022-03-04T08:08:59.062Z"
   },
   {
    "duration": 289,
    "start_time": "2022-03-04T08:08:59.076Z"
   },
   {
    "duration": -561,
    "start_time": "2022-03-04T08:08:59.928Z"
   },
   {
    "duration": 663,
    "start_time": "2022-03-04T08:09:36.235Z"
   },
   {
    "duration": 11,
    "start_time": "2022-03-04T08:09:36.899Z"
   },
   {
    "duration": 8,
    "start_time": "2022-03-04T08:09:36.912Z"
   },
   {
    "duration": 72,
    "start_time": "2022-03-04T08:09:36.922Z"
   },
   {
    "duration": 3,
    "start_time": "2022-03-04T08:09:36.995Z"
   },
   {
    "duration": 6,
    "start_time": "2022-03-04T08:09:36.999Z"
   },
   {
    "duration": 7,
    "start_time": "2022-03-04T08:09:37.007Z"
   },
   {
    "duration": 20,
    "start_time": "2022-03-04T08:09:37.017Z"
   },
   {
    "duration": 50,
    "start_time": "2022-03-04T08:09:37.039Z"
   },
   {
    "duration": 6,
    "start_time": "2022-03-04T08:09:37.091Z"
   },
   {
    "duration": 14,
    "start_time": "2022-03-04T08:09:37.099Z"
   },
   {
    "duration": 9,
    "start_time": "2022-03-04T08:09:37.114Z"
   },
   {
    "duration": 43,
    "start_time": "2022-03-04T08:09:37.125Z"
   },
   {
    "duration": 343,
    "start_time": "2022-03-04T08:09:37.170Z"
   },
   {
    "duration": -568,
    "start_time": "2022-03-04T08:09:38.084Z"
   },
   {
    "duration": 229,
    "start_time": "2022-03-04T08:10:26.912Z"
   },
   {
    "duration": 6,
    "start_time": "2022-03-04T08:10:33.812Z"
   },
   {
    "duration": 19,
    "start_time": "2022-03-04T08:10:50.520Z"
   },
   {
    "duration": 705,
    "start_time": "2022-03-04T08:13:05.041Z"
   },
   {
    "duration": 12,
    "start_time": "2022-03-04T08:13:05.748Z"
   },
   {
    "duration": 13,
    "start_time": "2022-03-04T08:13:05.762Z"
   },
   {
    "duration": 65,
    "start_time": "2022-03-04T08:13:05.777Z"
   },
   {
    "duration": 16,
    "start_time": "2022-03-04T08:13:05.844Z"
   },
   {
    "duration": 4,
    "start_time": "2022-03-04T08:13:05.862Z"
   },
   {
    "duration": 6,
    "start_time": "2022-03-04T08:13:05.868Z"
   },
   {
    "duration": 22,
    "start_time": "2022-03-04T08:13:05.875Z"
   },
   {
    "duration": 32,
    "start_time": "2022-03-04T08:13:05.899Z"
   },
   {
    "duration": 30,
    "start_time": "2022-03-04T08:13:05.932Z"
   },
   {
    "duration": 12,
    "start_time": "2022-03-04T08:13:05.963Z"
   },
   {
    "duration": 15,
    "start_time": "2022-03-04T08:13:05.976Z"
   },
   {
    "duration": 13,
    "start_time": "2022-03-04T08:13:05.993Z"
   },
   {
    "duration": 21,
    "start_time": "2022-03-04T08:13:06.008Z"
   },
   {
    "duration": 6179,
    "start_time": "2022-03-04T08:13:06.031Z"
   },
   {
    "duration": -618,
    "start_time": "2022-03-04T08:13:12.831Z"
   },
   {
    "duration": -618,
    "start_time": "2022-03-04T08:13:12.832Z"
   },
   {
    "duration": 627,
    "start_time": "2022-03-04T08:13:27.623Z"
   },
   {
    "duration": 11,
    "start_time": "2022-03-04T08:13:28.252Z"
   },
   {
    "duration": 9,
    "start_time": "2022-03-04T08:13:28.265Z"
   },
   {
    "duration": 60,
    "start_time": "2022-03-04T08:13:28.276Z"
   },
   {
    "duration": 2,
    "start_time": "2022-03-04T08:13:28.338Z"
   },
   {
    "duration": 3,
    "start_time": "2022-03-04T08:13:28.360Z"
   },
   {
    "duration": 6,
    "start_time": "2022-03-04T08:13:28.365Z"
   },
   {
    "duration": 18,
    "start_time": "2022-03-04T08:13:28.372Z"
   },
   {
    "duration": 33,
    "start_time": "2022-03-04T08:13:28.392Z"
   },
   {
    "duration": 35,
    "start_time": "2022-03-04T08:13:28.427Z"
   },
   {
    "duration": 13,
    "start_time": "2022-03-04T08:13:28.464Z"
   },
   {
    "duration": 9,
    "start_time": "2022-03-04T08:13:28.478Z"
   },
   {
    "duration": 13,
    "start_time": "2022-03-04T08:13:28.489Z"
   },
   {
    "duration": 23,
    "start_time": "2022-03-04T08:13:28.504Z"
   },
   {
    "duration": 45,
    "start_time": "2022-03-04T08:13:28.529Z"
   },
   {
    "duration": 16,
    "start_time": "2022-03-04T08:13:28.576Z"
   },
   {
    "duration": 6,
    "start_time": "2022-03-04T08:13:28.593Z"
   },
   {
    "duration": 629,
    "start_time": "2022-03-04T08:26:11.006Z"
   },
   {
    "duration": 11,
    "start_time": "2022-03-04T08:26:11.637Z"
   },
   {
    "duration": 15,
    "start_time": "2022-03-04T08:26:11.650Z"
   },
   {
    "duration": 66,
    "start_time": "2022-03-04T08:26:11.667Z"
   },
   {
    "duration": 2,
    "start_time": "2022-03-04T08:26:11.735Z"
   },
   {
    "duration": 27,
    "start_time": "2022-03-04T08:26:11.739Z"
   },
   {
    "duration": 23,
    "start_time": "2022-03-04T08:26:11.768Z"
   },
   {
    "duration": 32,
    "start_time": "2022-03-04T08:26:11.793Z"
   },
   {
    "duration": 33,
    "start_time": "2022-03-04T08:26:11.828Z"
   },
   {
    "duration": 6,
    "start_time": "2022-03-04T08:26:11.863Z"
   },
   {
    "duration": 24,
    "start_time": "2022-03-04T08:26:11.871Z"
   },
   {
    "duration": 26,
    "start_time": "2022-03-04T08:26:11.897Z"
   },
   {
    "duration": 30,
    "start_time": "2022-03-04T08:26:11.925Z"
   },
   {
    "duration": 28,
    "start_time": "2022-03-04T08:26:11.956Z"
   },
   {
    "duration": 23,
    "start_time": "2022-03-04T08:26:11.986Z"
   },
   {
    "duration": 15,
    "start_time": "2022-03-04T08:26:12.010Z"
   },
   {
    "duration": 19,
    "start_time": "2022-03-04T08:29:28.005Z"
   },
   {
    "duration": 669,
    "start_time": "2022-03-04T08:31:05.743Z"
   },
   {
    "duration": 11,
    "start_time": "2022-03-04T08:31:06.413Z"
   },
   {
    "duration": 14,
    "start_time": "2022-03-04T08:31:06.428Z"
   },
   {
    "duration": 70,
    "start_time": "2022-03-04T08:31:06.444Z"
   },
   {
    "duration": 3,
    "start_time": "2022-03-04T08:31:06.516Z"
   },
   {
    "duration": 13,
    "start_time": "2022-03-04T08:31:06.521Z"
   },
   {
    "duration": 25,
    "start_time": "2022-03-04T08:31:06.536Z"
   },
   {
    "duration": 28,
    "start_time": "2022-03-04T08:31:06.564Z"
   },
   {
    "duration": 32,
    "start_time": "2022-03-04T08:31:06.595Z"
   },
   {
    "duration": 5,
    "start_time": "2022-03-04T08:31:06.628Z"
   },
   {
    "duration": 19,
    "start_time": "2022-03-04T08:31:06.634Z"
   },
   {
    "duration": 26,
    "start_time": "2022-03-04T08:31:06.655Z"
   },
   {
    "duration": 34,
    "start_time": "2022-03-04T08:31:06.682Z"
   },
   {
    "duration": 32,
    "start_time": "2022-03-04T08:31:06.718Z"
   },
   {
    "duration": 20,
    "start_time": "2022-03-04T08:31:06.752Z"
   },
   {
    "duration": 11,
    "start_time": "2022-03-04T08:31:06.774Z"
   },
   {
    "duration": 660,
    "start_time": "2022-03-04T08:36:01.272Z"
   },
   {
    "duration": 10,
    "start_time": "2022-03-04T08:36:01.934Z"
   },
   {
    "duration": 17,
    "start_time": "2022-03-04T08:36:01.946Z"
   },
   {
    "duration": 63,
    "start_time": "2022-03-04T08:36:01.964Z"
   },
   {
    "duration": 2,
    "start_time": "2022-03-04T08:36:02.028Z"
   },
   {
    "duration": 6,
    "start_time": "2022-03-04T08:36:02.032Z"
   },
   {
    "duration": 14,
    "start_time": "2022-03-04T08:36:02.060Z"
   },
   {
    "duration": 22,
    "start_time": "2022-03-04T08:36:02.076Z"
   },
   {
    "duration": 30,
    "start_time": "2022-03-04T08:36:02.100Z"
   },
   {
    "duration": 5,
    "start_time": "2022-03-04T08:36:02.132Z"
   },
   {
    "duration": 30,
    "start_time": "2022-03-04T08:36:02.138Z"
   },
   {
    "duration": 13,
    "start_time": "2022-03-04T08:36:02.170Z"
   },
   {
    "duration": 18,
    "start_time": "2022-03-04T08:36:02.185Z"
   },
   {
    "duration": 3,
    "start_time": "2022-03-04T08:36:02.205Z"
   },
   {
    "duration": 24,
    "start_time": "2022-03-04T08:36:02.210Z"
   },
   {
    "duration": 36,
    "start_time": "2022-03-04T08:36:02.236Z"
   },
   {
    "duration": 14,
    "start_time": "2022-03-04T08:36:02.274Z"
   },
   {
    "duration": 649,
    "start_time": "2022-03-04T08:37:20.670Z"
   },
   {
    "duration": 11,
    "start_time": "2022-03-04T08:37:21.321Z"
   },
   {
    "duration": 9,
    "start_time": "2022-03-04T08:37:21.335Z"
   },
   {
    "duration": 74,
    "start_time": "2022-03-04T08:37:21.346Z"
   },
   {
    "duration": 3,
    "start_time": "2022-03-04T08:37:21.421Z"
   },
   {
    "duration": 21,
    "start_time": "2022-03-04T08:37:21.426Z"
   },
   {
    "duration": 11,
    "start_time": "2022-03-04T08:37:21.449Z"
   },
   {
    "duration": 22,
    "start_time": "2022-03-04T08:37:21.462Z"
   },
   {
    "duration": 31,
    "start_time": "2022-03-04T08:37:21.487Z"
   },
   {
    "duration": 4,
    "start_time": "2022-03-04T08:37:21.519Z"
   },
   {
    "duration": 34,
    "start_time": "2022-03-04T08:37:21.525Z"
   },
   {
    "duration": 6,
    "start_time": "2022-03-04T08:37:21.561Z"
   },
   {
    "duration": 20,
    "start_time": "2022-03-04T08:37:21.569Z"
   },
   {
    "duration": 6,
    "start_time": "2022-03-04T08:37:21.591Z"
   },
   {
    "duration": 8,
    "start_time": "2022-03-04T08:37:21.598Z"
   },
   {
    "duration": 39,
    "start_time": "2022-03-04T08:37:21.607Z"
   },
   {
    "duration": 25,
    "start_time": "2022-03-04T08:37:21.648Z"
   },
   {
    "duration": 17,
    "start_time": "2022-03-04T08:37:21.675Z"
   },
   {
    "duration": 7,
    "start_time": "2022-03-04T08:41:22.397Z"
   },
   {
    "duration": 691,
    "start_time": "2022-03-04T08:41:51.550Z"
   },
   {
    "duration": 10,
    "start_time": "2022-03-04T08:41:52.243Z"
   },
   {
    "duration": 14,
    "start_time": "2022-03-04T08:41:52.255Z"
   },
   {
    "duration": 65,
    "start_time": "2022-03-04T08:41:52.270Z"
   },
   {
    "duration": 2,
    "start_time": "2022-03-04T08:41:52.337Z"
   },
   {
    "duration": 7,
    "start_time": "2022-03-04T08:41:52.341Z"
   },
   {
    "duration": 9,
    "start_time": "2022-03-04T08:41:52.350Z"
   },
   {
    "duration": 21,
    "start_time": "2022-03-04T08:41:52.361Z"
   },
   {
    "duration": 30,
    "start_time": "2022-03-04T08:41:52.384Z"
   },
   {
    "duration": 5,
    "start_time": "2022-03-04T08:41:52.416Z"
   },
   {
    "duration": 16,
    "start_time": "2022-03-04T08:41:52.422Z"
   },
   {
    "duration": 26,
    "start_time": "2022-03-04T08:41:52.440Z"
   },
   {
    "duration": 21,
    "start_time": "2022-03-04T08:41:52.468Z"
   },
   {
    "duration": 5,
    "start_time": "2022-03-04T08:41:52.491Z"
   },
   {
    "duration": 6,
    "start_time": "2022-03-04T08:41:52.498Z"
   },
   {
    "duration": 538,
    "start_time": "2022-03-04T08:41:52.505Z"
   },
   {
    "duration": -592,
    "start_time": "2022-03-04T08:41:53.638Z"
   },
   {
    "duration": -593,
    "start_time": "2022-03-04T08:41:53.640Z"
   },
   {
    "duration": -608,
    "start_time": "2022-03-04T08:41:53.656Z"
   },
   {
    "duration": -608,
    "start_time": "2022-03-04T08:41:53.657Z"
   },
   {
    "duration": 645,
    "start_time": "2022-03-04T08:54:59.809Z"
   },
   {
    "duration": 10,
    "start_time": "2022-03-04T08:55:00.456Z"
   },
   {
    "duration": 27,
    "start_time": "2022-03-04T08:55:00.468Z"
   },
   {
    "duration": 74,
    "start_time": "2022-03-04T08:55:00.497Z"
   },
   {
    "duration": 4,
    "start_time": "2022-03-04T08:55:00.573Z"
   },
   {
    "duration": 17,
    "start_time": "2022-03-04T08:55:00.579Z"
   },
   {
    "duration": 10,
    "start_time": "2022-03-04T08:55:00.597Z"
   },
   {
    "duration": 27,
    "start_time": "2022-03-04T08:55:00.608Z"
   },
   {
    "duration": 42,
    "start_time": "2022-03-04T08:55:00.637Z"
   },
   {
    "duration": 5,
    "start_time": "2022-03-04T08:55:00.680Z"
   },
   {
    "duration": 14,
    "start_time": "2022-03-04T08:55:00.687Z"
   },
   {
    "duration": 22,
    "start_time": "2022-03-04T08:55:00.703Z"
   },
   {
    "duration": 36,
    "start_time": "2022-03-04T08:55:00.726Z"
   },
   {
    "duration": 6,
    "start_time": "2022-03-04T08:55:00.763Z"
   },
   {
    "duration": 5,
    "start_time": "2022-03-04T08:55:00.770Z"
   },
   {
    "duration": 31,
    "start_time": "2022-03-04T08:55:00.776Z"
   },
   {
    "duration": 18,
    "start_time": "2022-03-04T08:55:00.809Z"
   },
   {
    "duration": 44,
    "start_time": "2022-03-04T08:55:00.829Z"
   },
   {
    "duration": 535,
    "start_time": "2022-03-04T09:01:21.629Z"
   },
   {
    "duration": 514,
    "start_time": "2022-03-04T09:21:38.780Z"
   },
   {
    "duration": 19,
    "start_time": "2022-03-04T09:22:46.580Z"
   },
   {
    "duration": 79,
    "start_time": "2022-03-04T09:23:07.302Z"
   },
   {
    "duration": 24,
    "start_time": "2022-03-04T09:23:12.031Z"
   },
   {
    "duration": 180,
    "start_time": "2022-03-04T09:23:31.669Z"
   },
   {
    "duration": 226,
    "start_time": "2022-03-04T09:34:16.050Z"
   },
   {
    "duration": 250,
    "start_time": "2022-03-04T09:34:18.267Z"
   },
   {
    "duration": 16,
    "start_time": "2022-03-04T09:34:29.229Z"
   },
   {
    "duration": 264,
    "start_time": "2022-03-04T09:34:50.392Z"
   },
   {
    "duration": 208,
    "start_time": "2022-03-04T09:35:55.044Z"
   },
   {
    "duration": 17,
    "start_time": "2022-03-04T09:36:11.059Z"
   },
   {
    "duration": 12,
    "start_time": "2022-03-04T09:36:13.263Z"
   },
   {
    "duration": 13,
    "start_time": "2022-03-04T09:36:19.692Z"
   },
   {
    "duration": 16,
    "start_time": "2022-03-04T09:36:20.921Z"
   },
   {
    "duration": 651,
    "start_time": "2022-03-04T09:36:30.325Z"
   },
   {
    "duration": 12,
    "start_time": "2022-03-04T09:36:30.978Z"
   },
   {
    "duration": 19,
    "start_time": "2022-03-04T09:36:30.992Z"
   },
   {
    "duration": 70,
    "start_time": "2022-03-04T09:36:31.013Z"
   },
   {
    "duration": 93,
    "start_time": "2022-03-04T09:36:31.085Z"
   },
   {
    "duration": -563,
    "start_time": "2022-03-04T09:36:31.743Z"
   },
   {
    "duration": -563,
    "start_time": "2022-03-04T09:36:31.744Z"
   },
   {
    "duration": -564,
    "start_time": "2022-03-04T09:36:31.746Z"
   },
   {
    "duration": -582,
    "start_time": "2022-03-04T09:36:31.765Z"
   },
   {
    "duration": -584,
    "start_time": "2022-03-04T09:36:31.769Z"
   },
   {
    "duration": -602,
    "start_time": "2022-03-04T09:36:31.788Z"
   },
   {
    "duration": -617,
    "start_time": "2022-03-04T09:36:31.804Z"
   },
   {
    "duration": -618,
    "start_time": "2022-03-04T09:36:31.806Z"
   },
   {
    "duration": -618,
    "start_time": "2022-03-04T09:36:31.807Z"
   },
   {
    "duration": -618,
    "start_time": "2022-03-04T09:36:31.808Z"
   },
   {
    "duration": -620,
    "start_time": "2022-03-04T09:36:31.811Z"
   },
   {
    "duration": -620,
    "start_time": "2022-03-04T09:36:31.812Z"
   },
   {
    "duration": -621,
    "start_time": "2022-03-04T09:36:31.814Z"
   },
   {
    "duration": -622,
    "start_time": "2022-03-04T09:36:31.816Z"
   },
   {
    "duration": -630,
    "start_time": "2022-03-04T09:36:31.825Z"
   },
   {
    "duration": -630,
    "start_time": "2022-03-04T09:36:31.826Z"
   },
   {
    "duration": 17,
    "start_time": "2022-03-04T09:38:05.765Z"
   },
   {
    "duration": 12,
    "start_time": "2022-03-04T09:38:10.662Z"
   },
   {
    "duration": 15,
    "start_time": "2022-03-04T09:38:12.814Z"
   },
   {
    "duration": 79,
    "start_time": "2022-03-04T09:39:20.600Z"
   },
   {
    "duration": 5,
    "start_time": "2022-03-04T09:39:24.341Z"
   },
   {
    "duration": 5,
    "start_time": "2022-03-04T09:39:54.529Z"
   },
   {
    "duration": 3,
    "start_time": "2022-03-04T09:40:07.293Z"
   },
   {
    "duration": 726,
    "start_time": "2022-03-04T09:40:11.444Z"
   },
   {
    "duration": 11,
    "start_time": "2022-03-04T09:40:12.172Z"
   },
   {
    "duration": 11,
    "start_time": "2022-03-04T09:40:12.186Z"
   },
   {
    "duration": 81,
    "start_time": "2022-03-04T09:40:12.199Z"
   },
   {
    "duration": 2,
    "start_time": "2022-03-04T09:40:12.282Z"
   },
   {
    "duration": 7,
    "start_time": "2022-03-04T09:40:12.286Z"
   },
   {
    "duration": 16,
    "start_time": "2022-03-04T09:40:12.295Z"
   },
   {
    "duration": 10,
    "start_time": "2022-03-04T09:40:12.313Z"
   },
   {
    "duration": 43,
    "start_time": "2022-03-04T09:40:12.326Z"
   },
   {
    "duration": 7,
    "start_time": "2022-03-04T09:40:12.372Z"
   },
   {
    "duration": 5,
    "start_time": "2022-03-04T09:40:12.382Z"
   },
   {
    "duration": 7,
    "start_time": "2022-03-04T09:40:12.389Z"
   },
   {
    "duration": 23,
    "start_time": "2022-03-04T09:40:12.398Z"
   },
   {
    "duration": 55,
    "start_time": "2022-03-04T09:40:12.423Z"
   },
   {
    "duration": 6,
    "start_time": "2022-03-04T09:40:12.479Z"
   },
   {
    "duration": 17,
    "start_time": "2022-03-04T09:40:12.487Z"
   },
   {
    "duration": 9,
    "start_time": "2022-03-04T09:40:12.506Z"
   },
   {
    "duration": 18,
    "start_time": "2022-03-04T09:40:12.517Z"
   },
   {
    "duration": 27,
    "start_time": "2022-03-04T09:40:12.537Z"
   },
   {
    "duration": 8,
    "start_time": "2022-03-04T09:40:12.565Z"
   },
   {
    "duration": 21,
    "start_time": "2022-03-04T09:40:12.575Z"
   },
   {
    "duration": 25,
    "start_time": "2022-03-04T09:40:12.598Z"
   },
   {
    "duration": 37,
    "start_time": "2022-03-04T09:40:12.625Z"
   },
   {
    "duration": 13,
    "start_time": "2022-03-04T09:41:06.550Z"
   },
   {
    "duration": 313,
    "start_time": "2022-03-04T11:14:56.938Z"
   },
   {
    "duration": 922,
    "start_time": "2022-03-04T11:15:14.445Z"
   },
   {
    "duration": 18,
    "start_time": "2022-03-04T11:15:15.369Z"
   },
   {
    "duration": 15,
    "start_time": "2022-03-04T11:15:15.393Z"
   },
   {
    "duration": 109,
    "start_time": "2022-03-04T11:15:15.410Z"
   },
   {
    "duration": 9,
    "start_time": "2022-03-04T11:15:15.522Z"
   },
   {
    "duration": 13,
    "start_time": "2022-03-04T11:15:15.534Z"
   },
   {
    "duration": 44,
    "start_time": "2022-03-04T11:15:15.552Z"
   },
   {
    "duration": 18,
    "start_time": "2022-03-04T11:15:15.600Z"
   },
   {
    "duration": 26,
    "start_time": "2022-03-04T11:15:15.620Z"
   },
   {
    "duration": 40,
    "start_time": "2022-03-04T11:15:15.649Z"
   },
   {
    "duration": 6,
    "start_time": "2022-03-04T11:15:15.692Z"
   },
   {
    "duration": 8,
    "start_time": "2022-03-04T11:15:15.701Z"
   },
   {
    "duration": 26,
    "start_time": "2022-03-04T11:15:15.712Z"
   },
   {
    "duration": 91,
    "start_time": "2022-03-04T11:15:15.740Z"
   },
   {
    "duration": 7,
    "start_time": "2022-03-04T11:15:15.833Z"
   },
   {
    "duration": 20,
    "start_time": "2022-03-04T11:15:15.843Z"
   },
   {
    "duration": 8,
    "start_time": "2022-03-04T11:15:15.888Z"
   },
   {
    "duration": 26,
    "start_time": "2022-03-04T11:15:15.898Z"
   },
   {
    "duration": 7,
    "start_time": "2022-03-04T11:15:15.926Z"
   },
   {
    "duration": 5,
    "start_time": "2022-03-04T11:15:15.936Z"
   },
   {
    "duration": 71,
    "start_time": "2022-03-04T11:15:15.943Z"
   },
   {
    "duration": 32,
    "start_time": "2022-03-04T11:15:16.018Z"
   },
   {
    "duration": 53,
    "start_time": "2022-03-04T11:15:16.053Z"
   },
   {
    "duration": 795,
    "start_time": "2022-03-04T11:15:47.931Z"
   },
   {
    "duration": 16,
    "start_time": "2022-03-04T11:15:48.728Z"
   },
   {
    "duration": 18,
    "start_time": "2022-03-04T11:15:48.748Z"
   },
   {
    "duration": 102,
    "start_time": "2022-03-04T11:15:48.786Z"
   },
   {
    "duration": 9,
    "start_time": "2022-03-04T11:15:48.891Z"
   },
   {
    "duration": 22,
    "start_time": "2022-03-04T11:15:48.902Z"
   },
   {
    "duration": 8,
    "start_time": "2022-03-04T11:15:48.926Z"
   },
   {
    "duration": 57,
    "start_time": "2022-03-04T11:15:48.936Z"
   },
   {
    "duration": 15,
    "start_time": "2022-03-04T11:15:48.997Z"
   },
   {
    "duration": 26,
    "start_time": "2022-03-04T11:15:49.015Z"
   },
   {
    "duration": 7,
    "start_time": "2022-03-04T11:15:49.043Z"
   },
   {
    "duration": 37,
    "start_time": "2022-03-04T11:15:49.053Z"
   },
   {
    "duration": 14,
    "start_time": "2022-03-04T11:15:49.092Z"
   },
   {
    "duration": 26,
    "start_time": "2022-03-04T11:15:49.108Z"
   },
   {
    "duration": 74,
    "start_time": "2022-03-04T11:15:49.136Z"
   },
   {
    "duration": 6,
    "start_time": "2022-03-04T11:15:49.212Z"
   },
   {
    "duration": 18,
    "start_time": "2022-03-04T11:15:49.220Z"
   },
   {
    "duration": 11,
    "start_time": "2022-03-04T11:15:49.241Z"
   },
   {
    "duration": 55,
    "start_time": "2022-03-04T11:15:49.254Z"
   },
   {
    "duration": 7,
    "start_time": "2022-03-04T11:15:49.312Z"
   },
   {
    "duration": 7,
    "start_time": "2022-03-04T11:15:49.321Z"
   },
   {
    "duration": 76,
    "start_time": "2022-03-04T11:15:49.330Z"
   },
   {
    "duration": 26,
    "start_time": "2022-03-04T11:15:49.409Z"
   },
   {
    "duration": 22,
    "start_time": "2022-03-04T11:15:49.437Z"
   },
   {
    "duration": 834,
    "start_time": "2022-03-04T11:20:43.654Z"
   },
   {
    "duration": 14,
    "start_time": "2022-03-04T11:20:44.490Z"
   },
   {
    "duration": 12,
    "start_time": "2022-03-04T11:20:44.507Z"
   },
   {
    "duration": 108,
    "start_time": "2022-03-04T11:20:44.522Z"
   },
   {
    "duration": 5,
    "start_time": "2022-03-04T11:20:44.632Z"
   },
   {
    "duration": 18,
    "start_time": "2022-03-04T11:20:44.639Z"
   },
   {
    "duration": 3622,
    "start_time": "2022-03-04T11:20:44.659Z"
   },
   {
    "duration": -497,
    "start_time": "2022-03-04T11:20:48.782Z"
   },
   {
    "duration": -501,
    "start_time": "2022-03-04T11:20:48.787Z"
   },
   {
    "duration": -500,
    "start_time": "2022-03-04T11:20:48.788Z"
   },
   {
    "duration": -500,
    "start_time": "2022-03-04T11:20:48.789Z"
   },
   {
    "duration": -499,
    "start_time": "2022-03-04T11:20:48.790Z"
   },
   {
    "duration": -499,
    "start_time": "2022-03-04T11:20:48.791Z"
   },
   {
    "duration": -499,
    "start_time": "2022-03-04T11:20:48.792Z"
   },
   {
    "duration": -498,
    "start_time": "2022-03-04T11:20:48.793Z"
   },
   {
    "duration": -497,
    "start_time": "2022-03-04T11:20:48.794Z"
   },
   {
    "duration": -497,
    "start_time": "2022-03-04T11:20:48.795Z"
   },
   {
    "duration": -502,
    "start_time": "2022-03-04T11:20:48.802Z"
   },
   {
    "duration": -503,
    "start_time": "2022-03-04T11:20:48.804Z"
   },
   {
    "duration": -503,
    "start_time": "2022-03-04T11:20:48.805Z"
   },
   {
    "duration": -502,
    "start_time": "2022-03-04T11:20:48.806Z"
   },
   {
    "duration": -502,
    "start_time": "2022-03-04T11:20:48.807Z"
   },
   {
    "duration": -502,
    "start_time": "2022-03-04T11:20:48.808Z"
   },
   {
    "duration": -501,
    "start_time": "2022-03-04T11:20:48.809Z"
   },
   {
    "duration": 847,
    "start_time": "2022-03-04T11:21:09.155Z"
   },
   {
    "duration": 23,
    "start_time": "2022-03-04T11:21:10.006Z"
   },
   {
    "duration": 18,
    "start_time": "2022-03-04T11:21:10.034Z"
   },
   {
    "duration": 112,
    "start_time": "2022-03-04T11:21:10.055Z"
   },
   {
    "duration": 22,
    "start_time": "2022-03-04T11:21:10.169Z"
   },
   {
    "duration": 29,
    "start_time": "2022-03-04T11:21:10.193Z"
   },
   {
    "duration": 20,
    "start_time": "2022-03-04T11:21:10.225Z"
   },
   {
    "duration": 53,
    "start_time": "2022-03-04T11:21:10.247Z"
   },
   {
    "duration": 17,
    "start_time": "2022-03-04T11:21:10.303Z"
   },
   {
    "duration": 32,
    "start_time": "2022-03-04T11:21:10.323Z"
   },
   {
    "duration": 32,
    "start_time": "2022-03-04T11:21:10.357Z"
   },
   {
    "duration": 6,
    "start_time": "2022-03-04T11:21:10.392Z"
   },
   {
    "duration": 10,
    "start_time": "2022-03-04T11:21:10.401Z"
   },
   {
    "duration": 28,
    "start_time": "2022-03-04T11:21:10.414Z"
   },
   {
    "duration": 87,
    "start_time": "2022-03-04T11:21:10.445Z"
   },
   {
    "duration": 8,
    "start_time": "2022-03-04T11:21:10.535Z"
   },
   {
    "duration": 49,
    "start_time": "2022-03-04T11:21:10.546Z"
   },
   {
    "duration": 10,
    "start_time": "2022-03-04T11:21:10.598Z"
   },
   {
    "duration": 31,
    "start_time": "2022-03-04T11:21:10.610Z"
   },
   {
    "duration": 11,
    "start_time": "2022-03-04T11:21:10.643Z"
   },
   {
    "duration": 32,
    "start_time": "2022-03-04T11:21:10.656Z"
   },
   {
    "duration": 36,
    "start_time": "2022-03-04T11:21:10.690Z"
   },
   {
    "duration": 22,
    "start_time": "2022-03-04T11:21:10.728Z"
   },
   {
    "duration": 45,
    "start_time": "2022-03-04T11:21:10.752Z"
   },
   {
    "duration": 1192,
    "start_time": "2022-03-04T11:22:34.878Z"
   },
   {
    "duration": 32,
    "start_time": "2022-03-04T11:22:36.074Z"
   },
   {
    "duration": 22,
    "start_time": "2022-03-04T11:22:36.111Z"
   },
   {
    "duration": 173,
    "start_time": "2022-03-04T11:22:36.137Z"
   },
   {
    "duration": 15,
    "start_time": "2022-03-04T11:22:36.314Z"
   },
   {
    "duration": 55,
    "start_time": "2022-03-04T11:22:36.332Z"
   },
   {
    "duration": 10,
    "start_time": "2022-03-04T11:22:36.391Z"
   },
   {
    "duration": 27,
    "start_time": "2022-03-04T11:22:36.404Z"
   },
   {
    "duration": 58,
    "start_time": "2022-03-04T11:22:36.437Z"
   },
   {
    "duration": 25,
    "start_time": "2022-03-04T11:22:36.499Z"
   },
   {
    "duration": 8,
    "start_time": "2022-03-04T11:22:36.528Z"
   },
   {
    "duration": 6,
    "start_time": "2022-03-04T11:22:36.539Z"
   },
   {
    "duration": 45,
    "start_time": "2022-03-04T11:22:36.548Z"
   },
   {
    "duration": 28,
    "start_time": "2022-03-04T11:22:36.595Z"
   },
   {
    "duration": 72,
    "start_time": "2022-03-04T11:22:36.625Z"
   },
   {
    "duration": 7,
    "start_time": "2022-03-04T11:22:36.699Z"
   },
   {
    "duration": 16,
    "start_time": "2022-03-04T11:22:36.708Z"
   },
   {
    "duration": 14,
    "start_time": "2022-03-04T11:22:36.727Z"
   },
   {
    "duration": 59,
    "start_time": "2022-03-04T11:22:36.743Z"
   },
   {
    "duration": 7,
    "start_time": "2022-03-04T11:22:36.804Z"
   },
   {
    "duration": 5,
    "start_time": "2022-03-04T11:22:36.813Z"
   },
   {
    "duration": 35,
    "start_time": "2022-03-04T11:22:36.821Z"
   },
   {
    "duration": 50,
    "start_time": "2022-03-04T11:22:36.859Z"
   },
   {
    "duration": 24,
    "start_time": "2022-03-04T11:22:36.912Z"
   },
   {
    "duration": 7,
    "start_time": "2022-03-04T11:36:06.173Z"
   },
   {
    "duration": 860,
    "start_time": "2022-03-04T11:36:18.649Z"
   },
   {
    "duration": 14,
    "start_time": "2022-03-04T11:36:19.512Z"
   },
   {
    "duration": 21,
    "start_time": "2022-03-04T11:36:19.528Z"
   },
   {
    "duration": 100,
    "start_time": "2022-03-04T11:36:19.552Z"
   },
   {
    "duration": 8,
    "start_time": "2022-03-04T11:36:19.655Z"
   },
   {
    "duration": 32,
    "start_time": "2022-03-04T11:36:19.665Z"
   },
   {
    "duration": 11,
    "start_time": "2022-03-04T11:36:19.700Z"
   },
   {
    "duration": 26,
    "start_time": "2022-03-04T11:36:19.714Z"
   },
   {
    "duration": 45,
    "start_time": "2022-03-04T11:36:19.742Z"
   },
   {
    "duration": 25,
    "start_time": "2022-03-04T11:36:19.789Z"
   },
   {
    "duration": 5,
    "start_time": "2022-03-04T11:36:19.817Z"
   },
   {
    "duration": 12,
    "start_time": "2022-03-04T11:36:19.824Z"
   },
   {
    "duration": 12,
    "start_time": "2022-03-04T11:36:19.838Z"
   },
   {
    "duration": 54,
    "start_time": "2022-03-04T11:36:19.852Z"
   },
   {
    "duration": 42,
    "start_time": "2022-03-04T11:36:19.909Z"
   },
   {
    "duration": 6,
    "start_time": "2022-03-04T11:36:19.953Z"
   },
   {
    "duration": 16,
    "start_time": "2022-03-04T11:36:19.990Z"
   },
   {
    "duration": 12,
    "start_time": "2022-03-04T11:36:20.009Z"
   },
   {
    "duration": 30,
    "start_time": "2022-03-04T11:36:20.024Z"
   },
   {
    "duration": 37,
    "start_time": "2022-03-04T11:36:20.057Z"
   },
   {
    "duration": 8,
    "start_time": "2022-03-04T11:36:20.097Z"
   },
   {
    "duration": 32,
    "start_time": "2022-03-04T11:36:21.205Z"
   },
   {
    "duration": 28,
    "start_time": "2022-03-04T11:36:21.240Z"
   },
   {
    "duration": 21,
    "start_time": "2022-03-04T11:36:21.270Z"
   },
   {
    "duration": 19,
    "start_time": "2022-03-04T11:38:47.462Z"
   },
   {
    "duration": 369,
    "start_time": "2022-03-04T11:50:46.891Z"
   },
   {
    "duration": 1106,
    "start_time": "2022-03-04T11:55:23.105Z"
   },
   {
    "duration": 24,
    "start_time": "2022-03-04T11:55:24.215Z"
   },
   {
    "duration": 13,
    "start_time": "2022-03-04T11:55:24.243Z"
   },
   {
    "duration": 105,
    "start_time": "2022-03-04T11:55:24.259Z"
   },
   {
    "duration": 28,
    "start_time": "2022-03-04T11:55:24.367Z"
   },
   {
    "duration": 21,
    "start_time": "2022-03-04T11:55:24.398Z"
   },
   {
    "duration": 11,
    "start_time": "2022-03-04T11:55:24.422Z"
   },
   {
    "duration": 52,
    "start_time": "2022-03-04T11:55:24.435Z"
   },
   {
    "duration": 16,
    "start_time": "2022-03-04T11:55:24.491Z"
   },
   {
    "duration": 24,
    "start_time": "2022-03-04T11:55:24.510Z"
   },
   {
    "duration": 6,
    "start_time": "2022-03-04T11:55:24.536Z"
   },
   {
    "duration": 42,
    "start_time": "2022-03-04T11:55:24.545Z"
   },
   {
    "duration": 26,
    "start_time": "2022-03-04T11:55:24.589Z"
   },
   {
    "duration": 29,
    "start_time": "2022-03-04T11:55:24.617Z"
   },
   {
    "duration": 55,
    "start_time": "2022-03-04T11:55:24.649Z"
   },
   {
    "duration": 8,
    "start_time": "2022-03-04T11:55:24.708Z"
   },
   {
    "duration": 25,
    "start_time": "2022-03-04T11:55:24.720Z"
   },
   {
    "duration": 41,
    "start_time": "2022-03-04T11:55:24.748Z"
   },
   {
    "duration": 40,
    "start_time": "2022-03-04T11:55:24.792Z"
   },
   {
    "duration": 8,
    "start_time": "2022-03-04T11:55:24.836Z"
   },
   {
    "duration": 45,
    "start_time": "2022-03-04T11:55:24.846Z"
   },
   {
    "duration": 31,
    "start_time": "2022-03-04T11:55:24.894Z"
   },
   {
    "duration": 26,
    "start_time": "2022-03-04T11:55:24.928Z"
   },
   {
    "duration": 61,
    "start_time": "2022-03-04T11:55:24.956Z"
   },
   {
    "duration": 1170,
    "start_time": "2022-03-04T12:27:42.605Z"
   },
   {
    "duration": 27,
    "start_time": "2022-03-04T12:27:43.779Z"
   },
   {
    "duration": 20,
    "start_time": "2022-03-04T12:27:43.810Z"
   },
   {
    "duration": 159,
    "start_time": "2022-03-04T12:27:43.834Z"
   },
   {
    "duration": 12,
    "start_time": "2022-03-04T12:27:43.997Z"
   },
   {
    "duration": 29,
    "start_time": "2022-03-04T12:27:44.012Z"
   },
   {
    "duration": 8,
    "start_time": "2022-03-04T12:27:44.044Z"
   },
   {
    "duration": 55,
    "start_time": "2022-03-04T12:27:44.056Z"
   },
   {
    "duration": 23,
    "start_time": "2022-03-04T12:27:44.115Z"
   },
   {
    "duration": 70,
    "start_time": "2022-03-04T12:27:44.141Z"
   },
   {
    "duration": 9,
    "start_time": "2022-03-04T12:27:44.214Z"
   },
   {
    "duration": 6,
    "start_time": "2022-03-04T12:27:44.226Z"
   },
   {
    "duration": 9,
    "start_time": "2022-03-04T12:27:44.235Z"
   },
   {
    "duration": 68,
    "start_time": "2022-03-04T12:27:44.247Z"
   },
   {
    "duration": 85,
    "start_time": "2022-03-04T12:27:44.319Z"
   },
   {
    "duration": 8,
    "start_time": "2022-03-04T12:27:44.407Z"
   },
   {
    "duration": 26,
    "start_time": "2022-03-04T12:27:44.418Z"
   },
   {
    "duration": 40,
    "start_time": "2022-03-04T12:27:44.448Z"
   },
   {
    "duration": 40,
    "start_time": "2022-03-04T12:27:44.492Z"
   },
   {
    "duration": 10,
    "start_time": "2022-03-04T12:27:44.536Z"
   },
   {
    "duration": 38,
    "start_time": "2022-03-04T12:27:44.549Z"
   },
   {
    "duration": 445,
    "start_time": "2022-03-04T12:27:44.590Z"
   },
   {
    "duration": -505,
    "start_time": "2022-03-04T12:27:45.544Z"
   },
   {
    "duration": -507,
    "start_time": "2022-03-04T12:27:45.548Z"
   },
   {
    "duration": -505,
    "start_time": "2022-03-04T12:27:45.549Z"
   },
   {
    "duration": -557,
    "start_time": "2022-03-04T12:27:45.603Z"
   },
   {
    "duration": -557,
    "start_time": "2022-03-04T12:27:45.605Z"
   },
   {
    "duration": -564,
    "start_time": "2022-03-04T12:27:45.614Z"
   },
   {
    "duration": -566,
    "start_time": "2022-03-04T12:27:45.618Z"
   },
   {
    "duration": -565,
    "start_time": "2022-03-04T12:27:45.620Z"
   },
   {
    "duration": 825,
    "start_time": "2022-03-04T12:28:42.702Z"
   },
   {
    "duration": 17,
    "start_time": "2022-03-04T12:28:43.530Z"
   },
   {
    "duration": 38,
    "start_time": "2022-03-04T12:28:43.551Z"
   },
   {
    "duration": 101,
    "start_time": "2022-03-04T12:28:43.592Z"
   },
   {
    "duration": 9,
    "start_time": "2022-03-04T12:28:43.695Z"
   },
   {
    "duration": 23,
    "start_time": "2022-03-04T12:28:43.707Z"
   },
   {
    "duration": 11,
    "start_time": "2022-03-04T12:28:43.734Z"
   },
   {
    "duration": 53,
    "start_time": "2022-03-04T12:28:43.749Z"
   },
   {
    "duration": 16,
    "start_time": "2022-03-04T12:28:43.804Z"
   },
   {
    "duration": 24,
    "start_time": "2022-03-04T12:28:43.823Z"
   },
   {
    "duration": 39,
    "start_time": "2022-03-04T12:28:43.850Z"
   },
   {
    "duration": 5,
    "start_time": "2022-03-04T12:28:43.893Z"
   },
   {
    "duration": 10,
    "start_time": "2022-03-04T12:28:43.901Z"
   },
   {
    "duration": 29,
    "start_time": "2022-03-04T12:28:43.913Z"
   },
   {
    "duration": 82,
    "start_time": "2022-03-04T12:28:43.945Z"
   },
   {
    "duration": 7,
    "start_time": "2022-03-04T12:28:44.029Z"
   },
   {
    "duration": 50,
    "start_time": "2022-03-04T12:28:44.038Z"
   },
   {
    "duration": 8,
    "start_time": "2022-03-04T12:28:44.090Z"
   },
   {
    "duration": 26,
    "start_time": "2022-03-04T12:28:44.100Z"
   },
   {
    "duration": 7,
    "start_time": "2022-03-04T12:28:44.128Z"
   },
   {
    "duration": 49,
    "start_time": "2022-03-04T12:28:44.138Z"
   },
   {
    "duration": 22,
    "start_time": "2022-03-04T12:28:44.191Z"
   },
   {
    "duration": 4,
    "start_time": "2022-03-04T12:28:44.216Z"
   },
   {
    "duration": 17,
    "start_time": "2022-03-04T12:28:44.222Z"
   },
   {
    "duration": 135,
    "start_time": "2022-03-04T12:28:44.241Z"
   },
   {
    "duration": -482,
    "start_time": "2022-03-04T12:28:44.861Z"
   },
   {
    "duration": -518,
    "start_time": "2022-03-04T12:28:44.899Z"
   },
   {
    "duration": -517,
    "start_time": "2022-03-04T12:28:44.900Z"
   },
   {
    "duration": -516,
    "start_time": "2022-03-04T12:28:44.902Z"
   },
   {
    "duration": -516,
    "start_time": "2022-03-04T12:28:44.903Z"
   },
   {
    "duration": 786,
    "start_time": "2022-03-04T12:29:02.536Z"
   },
   {
    "duration": 16,
    "start_time": "2022-03-04T12:29:03.325Z"
   },
   {
    "duration": 17,
    "start_time": "2022-03-04T12:29:03.344Z"
   },
   {
    "duration": 100,
    "start_time": "2022-03-04T12:29:03.364Z"
   },
   {
    "duration": 26,
    "start_time": "2022-03-04T12:29:03.466Z"
   },
   {
    "duration": 24,
    "start_time": "2022-03-04T12:29:03.494Z"
   },
   {
    "duration": 14,
    "start_time": "2022-03-04T12:29:03.521Z"
   },
   {
    "duration": 59,
    "start_time": "2022-03-04T12:29:03.538Z"
   },
   {
    "duration": 20,
    "start_time": "2022-03-04T12:29:03.604Z"
   },
   {
    "duration": 32,
    "start_time": "2022-03-04T12:29:03.628Z"
   },
   {
    "duration": 28,
    "start_time": "2022-03-04T12:29:03.663Z"
   },
   {
    "duration": 12,
    "start_time": "2022-03-04T12:29:03.694Z"
   },
   {
    "duration": 17,
    "start_time": "2022-03-04T12:29:03.709Z"
   },
   {
    "duration": 26,
    "start_time": "2022-03-04T12:29:03.728Z"
   },
   {
    "duration": 72,
    "start_time": "2022-03-04T12:29:03.757Z"
   },
   {
    "duration": 9,
    "start_time": "2022-03-04T12:29:03.831Z"
   },
   {
    "duration": 47,
    "start_time": "2022-03-04T12:29:03.843Z"
   },
   {
    "duration": 10,
    "start_time": "2022-03-04T12:29:03.893Z"
   },
   {
    "duration": 25,
    "start_time": "2022-03-04T12:29:03.906Z"
   },
   {
    "duration": 7,
    "start_time": "2022-03-04T12:29:03.933Z"
   },
   {
    "duration": 46,
    "start_time": "2022-03-04T12:29:03.942Z"
   },
   {
    "duration": 29,
    "start_time": "2022-03-04T12:29:03.991Z"
   },
   {
    "duration": 4,
    "start_time": "2022-03-04T12:29:04.023Z"
   },
   {
    "duration": 15,
    "start_time": "2022-03-04T12:29:04.029Z"
   },
   {
    "duration": 41,
    "start_time": "2022-03-04T12:29:04.047Z"
   },
   {
    "duration": 27,
    "start_time": "2022-03-04T12:29:04.091Z"
   },
   {
    "duration": 5,
    "start_time": "2022-03-04T12:29:04.123Z"
   },
   {
    "duration": 62,
    "start_time": "2022-03-04T12:29:04.131Z"
   },
   {
    "duration": 22,
    "start_time": "2022-03-04T12:29:04.195Z"
   },
   {
    "duration": 22,
    "start_time": "2022-03-04T12:29:04.220Z"
   },
   {
    "duration": 8,
    "start_time": "2022-03-04T12:31:33.094Z"
   },
   {
    "duration": 859,
    "start_time": "2022-03-04T12:32:14.718Z"
   },
   {
    "duration": 14,
    "start_time": "2022-03-04T12:32:15.580Z"
   },
   {
    "duration": 13,
    "start_time": "2022-03-04T12:32:15.597Z"
   },
   {
    "duration": 108,
    "start_time": "2022-03-04T12:32:15.612Z"
   },
   {
    "duration": 9,
    "start_time": "2022-03-04T12:32:15.722Z"
   },
   {
    "duration": 24,
    "start_time": "2022-03-04T12:32:15.733Z"
   },
   {
    "duration": 28,
    "start_time": "2022-03-04T12:32:15.760Z"
   },
   {
    "duration": 23,
    "start_time": "2022-03-04T12:32:15.792Z"
   },
   {
    "duration": 15,
    "start_time": "2022-03-04T12:32:15.818Z"
   },
   {
    "duration": 64,
    "start_time": "2022-03-04T12:32:15.836Z"
   },
   {
    "duration": 6,
    "start_time": "2022-03-04T12:32:15.903Z"
   },
   {
    "duration": 7,
    "start_time": "2022-03-04T12:32:15.912Z"
   },
   {
    "duration": 9,
    "start_time": "2022-03-04T12:32:15.922Z"
   },
   {
    "duration": 60,
    "start_time": "2022-03-04T12:32:15.933Z"
   },
   {
    "duration": 47,
    "start_time": "2022-03-04T12:32:15.995Z"
   },
   {
    "duration": 6,
    "start_time": "2022-03-04T12:32:16.044Z"
   },
   {
    "duration": 45,
    "start_time": "2022-03-04T12:32:16.053Z"
   },
   {
    "duration": 8,
    "start_time": "2022-03-04T12:32:16.100Z"
   },
   {
    "duration": 26,
    "start_time": "2022-03-04T12:32:16.111Z"
   },
   {
    "duration": 47,
    "start_time": "2022-03-04T12:32:16.140Z"
   },
   {
    "duration": 28,
    "start_time": "2022-03-04T12:32:16.189Z"
   },
   {
    "duration": 10,
    "start_time": "2022-03-04T12:32:16.219Z"
   },
   {
    "duration": 15,
    "start_time": "2022-03-04T12:32:16.233Z"
   },
   {
    "duration": 36,
    "start_time": "2022-03-04T12:32:16.251Z"
   },
   {
    "duration": 23,
    "start_time": "2022-03-04T12:32:16.290Z"
   },
   {
    "duration": 6,
    "start_time": "2022-03-04T12:32:16.316Z"
   },
   {
    "duration": 75,
    "start_time": "2022-03-04T12:32:16.324Z"
   },
   {
    "duration": 7,
    "start_time": "2022-03-04T12:32:16.401Z"
   },
   {
    "duration": 25,
    "start_time": "2022-03-04T12:32:16.411Z"
   },
   {
    "duration": 56,
    "start_time": "2022-03-04T12:32:16.439Z"
   },
   {
    "duration": 846,
    "start_time": "2022-03-04T12:55:10.282Z"
   },
   {
    "duration": 15,
    "start_time": "2022-03-04T12:55:11.132Z"
   },
   {
    "duration": 13,
    "start_time": "2022-03-04T12:55:11.151Z"
   },
   {
    "duration": 100,
    "start_time": "2022-03-04T12:55:11.166Z"
   },
   {
    "duration": 25,
    "start_time": "2022-03-04T12:55:11.269Z"
   },
   {
    "duration": 19,
    "start_time": "2022-03-04T12:55:11.297Z"
   },
   {
    "duration": 7,
    "start_time": "2022-03-04T12:55:11.319Z"
   },
   {
    "duration": 59,
    "start_time": "2022-03-04T12:55:11.328Z"
   },
   {
    "duration": 16,
    "start_time": "2022-03-04T12:55:11.391Z"
   },
   {
    "duration": 25,
    "start_time": "2022-03-04T12:55:11.411Z"
   },
   {
    "duration": 6,
    "start_time": "2022-03-04T12:55:11.438Z"
   },
   {
    "duration": 41,
    "start_time": "2022-03-04T12:55:11.446Z"
   },
   {
    "duration": 6,
    "start_time": "2022-03-04T12:55:11.490Z"
   },
   {
    "duration": 27,
    "start_time": "2022-03-04T12:55:11.498Z"
   },
   {
    "duration": 70,
    "start_time": "2022-03-04T12:55:11.528Z"
   },
   {
    "duration": 6,
    "start_time": "2022-03-04T12:55:11.601Z"
   },
   {
    "duration": 16,
    "start_time": "2022-03-04T12:55:11.610Z"
   },
   {
    "duration": 12,
    "start_time": "2022-03-04T12:55:11.629Z"
   },
   {
    "duration": 60,
    "start_time": "2022-03-04T12:55:11.644Z"
   },
   {
    "duration": 6,
    "start_time": "2022-03-04T12:55:11.708Z"
   },
   {
    "duration": 29,
    "start_time": "2022-03-04T12:55:11.717Z"
   },
   {
    "duration": 5,
    "start_time": "2022-03-04T12:55:11.748Z"
   },
   {
    "duration": 40,
    "start_time": "2022-03-04T12:55:11.755Z"
   },
   {
    "duration": 5,
    "start_time": "2022-03-04T12:55:11.798Z"
   },
   {
    "duration": 40,
    "start_time": "2022-03-04T12:55:11.805Z"
   },
   {
    "duration": 6,
    "start_time": "2022-03-04T12:55:11.847Z"
   },
   {
    "duration": 54,
    "start_time": "2022-03-04T12:55:11.857Z"
   },
   {
    "duration": 7,
    "start_time": "2022-03-04T12:55:11.913Z"
   },
   {
    "duration": 20,
    "start_time": "2022-03-04T12:55:11.923Z"
   },
   {
    "duration": 49,
    "start_time": "2022-03-04T12:55:11.945Z"
   },
   {
    "duration": 466,
    "start_time": "2022-03-04T12:55:11.996Z"
   },
   {
    "duration": -567,
    "start_time": "2022-03-04T12:55:13.032Z"
   },
   {
    "duration": 267,
    "start_time": "2022-03-04T12:56:23.327Z"
   },
   {
    "duration": 302,
    "start_time": "2022-03-04T12:57:00.378Z"
   },
   {
    "duration": 245,
    "start_time": "2022-03-04T13:11:09.312Z"
   },
   {
    "duration": 263,
    "start_time": "2022-03-04T13:12:30.764Z"
   },
   {
    "duration": 4941,
    "start_time": "2022-03-04T13:12:48.264Z"
   },
   {
    "duration": 294,
    "start_time": "2022-03-04T13:37:05.756Z"
   },
   {
    "duration": 315,
    "start_time": "2022-03-04T13:37:22.850Z"
   },
   {
    "duration": 11,
    "start_time": "2022-03-04T13:38:08.056Z"
   },
   {
    "duration": 18,
    "start_time": "2022-03-04T13:43:48.406Z"
   },
   {
    "duration": 12,
    "start_time": "2022-03-04T13:46:18.376Z"
   },
   {
    "duration": 7,
    "start_time": "2022-03-04T13:48:55.312Z"
   },
   {
    "duration": 6679,
    "start_time": "2022-03-04T13:49:31.589Z"
   },
   {
    "duration": 22,
    "start_time": "2022-03-04T13:49:44.790Z"
   },
   {
    "duration": 12,
    "start_time": "2022-03-04T13:49:58.562Z"
   },
   {
    "duration": 23,
    "start_time": "2022-03-04T13:50:07.549Z"
   },
   {
    "duration": 864,
    "start_time": "2022-03-04T13:50:48.959Z"
   },
   {
    "duration": 18,
    "start_time": "2022-03-04T13:50:49.826Z"
   },
   {
    "duration": 12,
    "start_time": "2022-03-04T13:50:49.848Z"
   },
   {
    "duration": 106,
    "start_time": "2022-03-04T13:50:49.863Z"
   },
   {
    "duration": 21,
    "start_time": "2022-03-04T13:50:49.972Z"
   },
   {
    "duration": 24,
    "start_time": "2022-03-04T13:50:49.995Z"
   },
   {
    "duration": 10,
    "start_time": "2022-03-04T13:50:50.021Z"
   },
   {
    "duration": 41,
    "start_time": "2022-03-04T13:50:50.033Z"
   },
   {
    "duration": 17,
    "start_time": "2022-03-04T13:50:50.089Z"
   },
   {
    "duration": 27,
    "start_time": "2022-03-04T13:50:50.110Z"
   },
   {
    "duration": 9,
    "start_time": "2022-03-04T13:50:50.140Z"
   },
   {
    "duration": 6,
    "start_time": "2022-03-04T13:50:50.187Z"
   },
   {
    "duration": 18,
    "start_time": "2022-03-04T13:50:50.195Z"
   },
   {
    "duration": 89,
    "start_time": "2022-03-04T13:50:50.216Z"
   },
   {
    "duration": 45,
    "start_time": "2022-03-04T13:50:50.308Z"
   },
   {
    "duration": 6,
    "start_time": "2022-03-04T13:50:50.355Z"
   },
   {
    "duration": 34,
    "start_time": "2022-03-04T13:50:50.364Z"
   },
   {
    "duration": 8,
    "start_time": "2022-03-04T13:50:50.401Z"
   },
   {
    "duration": 26,
    "start_time": "2022-03-04T13:50:50.411Z"
   },
   {
    "duration": 6,
    "start_time": "2022-03-04T13:50:50.440Z"
   },
   {
    "duration": 26,
    "start_time": "2022-03-04T13:50:50.487Z"
   },
   {
    "duration": 15,
    "start_time": "2022-03-04T13:50:50.516Z"
   },
   {
    "duration": 23,
    "start_time": "2022-03-04T13:50:50.533Z"
   },
   {
    "duration": 31,
    "start_time": "2022-03-04T13:50:50.559Z"
   },
   {
    "duration": 37,
    "start_time": "2022-03-04T13:50:50.593Z"
   },
   {
    "duration": 16,
    "start_time": "2022-03-04T13:50:50.633Z"
   },
   {
    "duration": 50,
    "start_time": "2022-03-04T13:50:50.656Z"
   },
   {
    "duration": 9,
    "start_time": "2022-03-04T13:50:50.710Z"
   },
   {
    "duration": 24,
    "start_time": "2022-03-04T13:50:50.722Z"
   },
   {
    "duration": 56,
    "start_time": "2022-03-04T13:50:50.748Z"
   },
   {
    "duration": 12,
    "start_time": "2022-03-04T13:50:50.806Z"
   },
   {
    "duration": 20,
    "start_time": "2022-03-04T13:50:50.820Z"
   },
   {
    "duration": 35,
    "start_time": "2022-03-04T13:50:50.843Z"
   },
   {
    "duration": 409,
    "start_time": "2022-03-04T13:50:50.887Z"
   },
   {
    "duration": 868,
    "start_time": "2022-03-04T13:55:29.366Z"
   },
   {
    "duration": 19,
    "start_time": "2022-03-04T13:55:30.237Z"
   },
   {
    "duration": 33,
    "start_time": "2022-03-04T13:55:30.259Z"
   },
   {
    "duration": 103,
    "start_time": "2022-03-04T13:55:30.294Z"
   },
   {
    "duration": 13,
    "start_time": "2022-03-04T13:55:30.399Z"
   },
   {
    "duration": 53,
    "start_time": "2022-03-04T13:55:30.415Z"
   },
   {
    "duration": 20,
    "start_time": "2022-03-04T13:55:30.471Z"
   },
   {
    "duration": 27,
    "start_time": "2022-03-04T13:55:30.494Z"
   },
   {
    "duration": 17,
    "start_time": "2022-03-04T13:55:30.525Z"
   },
   {
    "duration": 51,
    "start_time": "2022-03-04T13:55:30.545Z"
   },
   {
    "duration": 7,
    "start_time": "2022-03-04T13:55:30.598Z"
   },
   {
    "duration": 29,
    "start_time": "2022-03-04T13:55:30.608Z"
   },
   {
    "duration": 24,
    "start_time": "2022-03-04T13:55:30.640Z"
   },
   {
    "duration": 40,
    "start_time": "2022-03-04T13:55:30.667Z"
   },
   {
    "duration": 48,
    "start_time": "2022-03-04T13:55:30.709Z"
   },
   {
    "duration": 7,
    "start_time": "2022-03-04T13:55:30.759Z"
   },
   {
    "duration": 33,
    "start_time": "2022-03-04T13:55:30.768Z"
   },
   {
    "duration": 31,
    "start_time": "2022-03-04T13:55:30.804Z"
   },
   {
    "duration": 34,
    "start_time": "2022-03-04T13:55:30.837Z"
   },
   {
    "duration": 14,
    "start_time": "2022-03-04T13:55:30.873Z"
   },
   {
    "duration": 30,
    "start_time": "2022-03-04T13:55:30.889Z"
   },
   {
    "duration": 5,
    "start_time": "2022-03-04T13:55:30.921Z"
   },
   {
    "duration": 30,
    "start_time": "2022-03-04T13:55:30.928Z"
   },
   {
    "duration": 27,
    "start_time": "2022-03-04T13:55:30.960Z"
   },
   {
    "duration": 31,
    "start_time": "2022-03-04T13:55:30.989Z"
   },
   {
    "duration": 6,
    "start_time": "2022-03-04T13:55:31.023Z"
   },
   {
    "duration": 81,
    "start_time": "2022-03-04T13:55:31.034Z"
   },
   {
    "duration": 7,
    "start_time": "2022-03-04T13:55:31.118Z"
   },
   {
    "duration": 35,
    "start_time": "2022-03-04T13:55:31.127Z"
   },
   {
    "duration": 40,
    "start_time": "2022-03-04T13:55:31.164Z"
   },
   {
    "duration": 12,
    "start_time": "2022-03-04T13:55:31.207Z"
   },
   {
    "duration": 25,
    "start_time": "2022-03-04T13:55:31.221Z"
   },
   {
    "duration": 87,
    "start_time": "2022-03-04T13:55:31.248Z"
   },
   {
    "duration": 756,
    "start_time": "2022-03-04T13:55:31.338Z"
   },
   {
    "duration": 10,
    "start_time": "2022-03-04T14:01:25.371Z"
   },
   {
    "duration": 765,
    "start_time": "2022-03-04T14:01:33.633Z"
   },
   {
    "duration": 15,
    "start_time": "2022-03-04T14:01:34.400Z"
   },
   {
    "duration": 12,
    "start_time": "2022-03-04T14:01:34.418Z"
   },
   {
    "duration": 114,
    "start_time": "2022-03-04T14:01:34.433Z"
   },
   {
    "duration": 9,
    "start_time": "2022-03-04T14:01:34.549Z"
   },
   {
    "duration": 32,
    "start_time": "2022-03-04T14:01:34.560Z"
   },
   {
    "duration": 7,
    "start_time": "2022-03-04T14:01:34.595Z"
   },
   {
    "duration": 25,
    "start_time": "2022-03-04T14:01:34.604Z"
   },
   {
    "duration": 16,
    "start_time": "2022-03-04T14:01:34.633Z"
   },
   {
    "duration": 58,
    "start_time": "2022-03-04T14:01:34.652Z"
   },
   {
    "duration": 6,
    "start_time": "2022-03-04T14:01:34.713Z"
   },
   {
    "duration": 10,
    "start_time": "2022-03-04T14:01:34.722Z"
   },
   {
    "duration": 7,
    "start_time": "2022-03-04T14:01:34.734Z"
   },
   {
    "duration": 62,
    "start_time": "2022-03-04T14:01:34.743Z"
   },
   {
    "duration": 48,
    "start_time": "2022-03-04T14:01:34.808Z"
   },
   {
    "duration": 32,
    "start_time": "2022-03-04T14:01:34.858Z"
   },
   {
    "duration": 16,
    "start_time": "2022-03-04T14:01:34.892Z"
   },
   {
    "duration": 12,
    "start_time": "2022-03-04T14:01:34.911Z"
   },
   {
    "duration": 26,
    "start_time": "2022-03-04T14:01:34.925Z"
   },
   {
    "duration": 34,
    "start_time": "2022-03-04T14:01:34.954Z"
   },
   {
    "duration": 30,
    "start_time": "2022-03-04T14:01:34.990Z"
   },
   {
    "duration": 6,
    "start_time": "2022-03-04T14:01:35.023Z"
   },
   {
    "duration": 16,
    "start_time": "2022-03-04T14:01:35.031Z"
   },
   {
    "duration": 5,
    "start_time": "2022-03-04T14:01:35.049Z"
   },
   {
    "duration": 22,
    "start_time": "2022-03-04T14:01:35.087Z"
   },
   {
    "duration": 5,
    "start_time": "2022-03-04T14:01:35.112Z"
   },
   {
    "duration": 67,
    "start_time": "2022-03-04T14:01:35.121Z"
   },
   {
    "duration": 7,
    "start_time": "2022-03-04T14:01:35.191Z"
   },
   {
    "duration": 23,
    "start_time": "2022-03-04T14:01:35.201Z"
   },
   {
    "duration": 22,
    "start_time": "2022-03-04T14:01:35.226Z"
   },
   {
    "duration": 45,
    "start_time": "2022-03-04T14:01:35.250Z"
   },
   {
    "duration": 19,
    "start_time": "2022-03-04T14:01:35.297Z"
   },
   {
    "duration": 40,
    "start_time": "2022-03-04T14:01:35.319Z"
   },
   {
    "duration": 29,
    "start_time": "2022-03-04T14:01:35.363Z"
   },
   {
    "duration": 21,
    "start_time": "2022-03-04T14:01:35.395Z"
   },
   {
    "duration": 385,
    "start_time": "2022-03-04T14:01:55.099Z"
   },
   {
    "duration": 268,
    "start_time": "2022-03-04T14:02:04.411Z"
   },
   {
    "duration": 265,
    "start_time": "2022-03-04T14:03:07.175Z"
   },
   {
    "duration": 645,
    "start_time": "2022-03-04T14:03:23.521Z"
   },
   {
    "duration": 273,
    "start_time": "2022-03-04T14:03:30.801Z"
   },
   {
    "duration": 315,
    "start_time": "2022-03-04T14:04:24.651Z"
   },
   {
    "duration": 830,
    "start_time": "2022-03-05T05:53:22.790Z"
   },
   {
    "duration": 14,
    "start_time": "2022-03-05T05:53:23.622Z"
   },
   {
    "duration": 11,
    "start_time": "2022-03-05T05:53:23.640Z"
   },
   {
    "duration": 91,
    "start_time": "2022-03-05T05:53:23.654Z"
   },
   {
    "duration": 11,
    "start_time": "2022-03-05T05:53:23.748Z"
   },
   {
    "duration": 20,
    "start_time": "2022-03-05T05:53:23.761Z"
   },
   {
    "duration": 9,
    "start_time": "2022-03-05T05:53:23.784Z"
   },
   {
    "duration": 26,
    "start_time": "2022-03-05T05:53:23.834Z"
   },
   {
    "duration": 17,
    "start_time": "2022-03-05T05:53:23.866Z"
   },
   {
    "duration": 58,
    "start_time": "2022-03-05T05:53:23.887Z"
   },
   {
    "duration": 8,
    "start_time": "2022-03-05T05:53:23.948Z"
   },
   {
    "duration": 6,
    "start_time": "2022-03-05T05:53:23.958Z"
   },
   {
    "duration": 5,
    "start_time": "2022-03-05T05:53:23.967Z"
   },
   {
    "duration": 75,
    "start_time": "2022-03-05T05:53:23.974Z"
   },
   {
    "duration": 42,
    "start_time": "2022-03-05T05:53:24.051Z"
   },
   {
    "duration": 6,
    "start_time": "2022-03-05T05:53:24.096Z"
   },
   {
    "duration": 36,
    "start_time": "2022-03-05T05:53:24.104Z"
   },
   {
    "duration": 10,
    "start_time": "2022-03-05T05:53:24.142Z"
   },
   {
    "duration": 25,
    "start_time": "2022-03-05T05:53:24.154Z"
   },
   {
    "duration": 5,
    "start_time": "2022-03-05T05:53:24.181Z"
   },
   {
    "duration": 62,
    "start_time": "2022-03-05T05:53:24.188Z"
   },
   {
    "duration": 4,
    "start_time": "2022-03-05T05:53:24.252Z"
   },
   {
    "duration": 14,
    "start_time": "2022-03-05T05:53:24.259Z"
   },
   {
    "duration": 5,
    "start_time": "2022-03-05T05:53:24.275Z"
   },
   {
    "duration": 54,
    "start_time": "2022-03-05T05:53:24.282Z"
   },
   {
    "duration": 6,
    "start_time": "2022-03-05T05:53:24.338Z"
   },
   {
    "duration": 37,
    "start_time": "2022-03-05T05:53:24.348Z"
   },
   {
    "duration": 6,
    "start_time": "2022-03-05T05:53:24.387Z"
   },
   {
    "duration": 51,
    "start_time": "2022-03-05T05:53:24.395Z"
   },
   {
    "duration": 22,
    "start_time": "2022-03-05T05:53:24.449Z"
   },
   {
    "duration": 12,
    "start_time": "2022-03-05T05:53:24.473Z"
   },
   {
    "duration": 50,
    "start_time": "2022-03-05T05:53:24.487Z"
   },
   {
    "duration": 34,
    "start_time": "2022-03-05T05:53:24.539Z"
   },
   {
    "duration": 21,
    "start_time": "2022-03-05T05:53:24.575Z"
   },
   {
    "duration": 419,
    "start_time": "2022-03-05T05:53:24.598Z"
   },
   {
    "duration": 824,
    "start_time": "2022-03-05T06:13:11.589Z"
   },
   {
    "duration": 14,
    "start_time": "2022-03-05T06:13:12.416Z"
   },
   {
    "duration": 11,
    "start_time": "2022-03-05T06:13:12.433Z"
   },
   {
    "duration": 103,
    "start_time": "2022-03-05T06:13:12.447Z"
   },
   {
    "duration": 8,
    "start_time": "2022-03-05T06:13:12.553Z"
   },
   {
    "duration": 19,
    "start_time": "2022-03-05T06:13:12.563Z"
   },
   {
    "duration": 8,
    "start_time": "2022-03-05T06:13:12.584Z"
   },
   {
    "duration": 57,
    "start_time": "2022-03-05T06:13:12.594Z"
   },
   {
    "duration": 15,
    "start_time": "2022-03-05T06:13:12.655Z"
   },
   {
    "duration": 23,
    "start_time": "2022-03-05T06:13:12.674Z"
   },
   {
    "duration": 5,
    "start_time": "2022-03-05T06:13:12.699Z"
   },
   {
    "duration": 5,
    "start_time": "2022-03-05T06:13:12.733Z"
   },
   {
    "duration": 7,
    "start_time": "2022-03-05T06:13:12.741Z"
   },
   {
    "duration": 21,
    "start_time": "2022-03-05T06:13:12.750Z"
   },
   {
    "duration": 80,
    "start_time": "2022-03-05T06:13:12.774Z"
   },
   {
    "duration": 6,
    "start_time": "2022-03-05T06:13:12.856Z"
   },
   {
    "duration": 16,
    "start_time": "2022-03-05T06:13:12.864Z"
   },
   {
    "duration": 10,
    "start_time": "2022-03-05T06:13:12.882Z"
   },
   {
    "duration": 56,
    "start_time": "2022-03-05T06:13:12.894Z"
   },
   {
    "duration": 7,
    "start_time": "2022-03-05T06:13:12.952Z"
   },
   {
    "duration": 24,
    "start_time": "2022-03-05T06:13:12.962Z"
   },
   {
    "duration": 5,
    "start_time": "2022-03-05T06:13:12.988Z"
   },
   {
    "duration": 14,
    "start_time": "2022-03-05T06:13:13.032Z"
   },
   {
    "duration": 7,
    "start_time": "2022-03-05T06:13:13.049Z"
   },
   {
    "duration": 24,
    "start_time": "2022-03-05T06:13:13.059Z"
   },
   {
    "duration": 46,
    "start_time": "2022-03-05T06:13:13.086Z"
   },
   {
    "duration": 38,
    "start_time": "2022-03-05T06:13:13.140Z"
   },
   {
    "duration": 7,
    "start_time": "2022-03-05T06:13:13.180Z"
   },
   {
    "duration": 53,
    "start_time": "2022-03-05T06:13:13.189Z"
   },
   {
    "duration": 20,
    "start_time": "2022-03-05T06:13:13.244Z"
   },
   {
    "duration": 11,
    "start_time": "2022-03-05T06:13:13.266Z"
   },
   {
    "duration": 11,
    "start_time": "2022-03-05T06:13:13.279Z"
   },
   {
    "duration": 66,
    "start_time": "2022-03-05T06:13:13.292Z"
   },
   {
    "duration": 20,
    "start_time": "2022-03-05T06:13:13.360Z"
   },
   {
    "duration": 423,
    "start_time": "2022-03-05T06:13:13.382Z"
   },
   {
    "duration": 855,
    "start_time": "2022-03-05T06:20:32.510Z"
   },
   {
    "duration": 14,
    "start_time": "2022-03-05T06:20:33.368Z"
   },
   {
    "duration": 11,
    "start_time": "2022-03-05T06:20:33.385Z"
   },
   {
    "duration": 100,
    "start_time": "2022-03-05T06:20:33.399Z"
   },
   {
    "duration": 9,
    "start_time": "2022-03-05T06:20:33.501Z"
   },
   {
    "duration": 38,
    "start_time": "2022-03-05T06:20:33.512Z"
   },
   {
    "duration": 6,
    "start_time": "2022-03-05T06:20:33.553Z"
   },
   {
    "duration": 26,
    "start_time": "2022-03-05T06:20:33.561Z"
   },
   {
    "duration": 46,
    "start_time": "2022-03-05T06:20:33.591Z"
   },
   {
    "duration": 24,
    "start_time": "2022-03-05T06:20:33.640Z"
   },
   {
    "duration": 7,
    "start_time": "2022-03-05T06:20:33.666Z"
   },
   {
    "duration": 5,
    "start_time": "2022-03-05T06:20:33.675Z"
   },
   {
    "duration": 7,
    "start_time": "2022-03-05T06:20:33.682Z"
   },
   {
    "duration": 61,
    "start_time": "2022-03-05T06:20:33.692Z"
   },
   {
    "duration": 40,
    "start_time": "2022-03-05T06:20:33.755Z"
   },
   {
    "duration": 6,
    "start_time": "2022-03-05T06:20:33.797Z"
   },
   {
    "duration": 16,
    "start_time": "2022-03-05T06:20:33.833Z"
   },
   {
    "duration": 9,
    "start_time": "2022-03-05T06:20:33.851Z"
   },
   {
    "duration": 25,
    "start_time": "2022-03-05T06:20:33.862Z"
   },
   {
    "duration": 5,
    "start_time": "2022-03-05T06:20:33.889Z"
   },
   {
    "duration": 58,
    "start_time": "2022-03-05T06:20:33.896Z"
   },
   {
    "duration": 4,
    "start_time": "2022-03-05T06:20:33.957Z"
   },
   {
    "duration": 14,
    "start_time": "2022-03-05T06:20:33.964Z"
   },
   {
    "duration": 5,
    "start_time": "2022-03-05T06:20:33.980Z"
   },
   {
    "duration": 60,
    "start_time": "2022-03-05T06:20:33.987Z"
   },
   {
    "duration": 6,
    "start_time": "2022-03-05T06:20:34.049Z"
   },
   {
    "duration": 36,
    "start_time": "2022-03-05T06:20:34.060Z"
   },
   {
    "duration": 35,
    "start_time": "2022-03-05T06:20:34.099Z"
   },
   {
    "duration": 22,
    "start_time": "2022-03-05T06:20:34.136Z"
   },
   {
    "duration": 21,
    "start_time": "2022-03-05T06:20:34.160Z"
   },
   {
    "duration": 12,
    "start_time": "2022-03-05T06:20:34.183Z"
   },
   {
    "duration": 12,
    "start_time": "2022-03-05T06:20:34.233Z"
   },
   {
    "duration": 32,
    "start_time": "2022-03-05T06:20:34.247Z"
   },
   {
    "duration": 51,
    "start_time": "2022-03-05T06:20:34.281Z"
   },
   {
    "duration": 378,
    "start_time": "2022-03-05T06:20:34.335Z"
   },
   {
    "duration": 800,
    "start_time": "2022-03-05T06:20:58.864Z"
   },
   {
    "duration": 14,
    "start_time": "2022-03-05T06:20:59.666Z"
   },
   {
    "duration": 16,
    "start_time": "2022-03-05T06:20:59.686Z"
   },
   {
    "duration": 107,
    "start_time": "2022-03-05T06:20:59.705Z"
   },
   {
    "duration": 9,
    "start_time": "2022-03-05T06:20:59.814Z"
   },
   {
    "duration": 21,
    "start_time": "2022-03-05T06:20:59.832Z"
   },
   {
    "duration": 14,
    "start_time": "2022-03-05T06:20:59.855Z"
   },
   {
    "duration": 26,
    "start_time": "2022-03-05T06:20:59.873Z"
   },
   {
    "duration": 36,
    "start_time": "2022-03-05T06:20:59.902Z"
   },
   {
    "duration": 27,
    "start_time": "2022-03-05T06:20:59.940Z"
   },
   {
    "duration": 6,
    "start_time": "2022-03-05T06:20:59.970Z"
   },
   {
    "duration": 14,
    "start_time": "2022-03-05T06:20:59.979Z"
   },
   {
    "duration": 19,
    "start_time": "2022-03-05T06:20:59.996Z"
   },
   {
    "duration": 37,
    "start_time": "2022-03-05T06:21:00.033Z"
   },
   {
    "duration": 61,
    "start_time": "2022-03-05T06:21:00.073Z"
   },
   {
    "duration": 8,
    "start_time": "2022-03-05T06:21:00.136Z"
   },
   {
    "duration": 23,
    "start_time": "2022-03-05T06:21:00.147Z"
   },
   {
    "duration": 26,
    "start_time": "2022-03-05T06:21:00.172Z"
   },
   {
    "duration": 44,
    "start_time": "2022-03-05T06:21:00.201Z"
   },
   {
    "duration": 15,
    "start_time": "2022-03-05T06:21:00.249Z"
   },
   {
    "duration": 49,
    "start_time": "2022-03-05T06:21:00.266Z"
   },
   {
    "duration": 30,
    "start_time": "2022-03-05T06:21:00.318Z"
   },
   {
    "duration": 25,
    "start_time": "2022-03-05T06:21:00.351Z"
   },
   {
    "duration": 26,
    "start_time": "2022-03-05T06:21:00.379Z"
   },
   {
    "duration": 37,
    "start_time": "2022-03-05T06:21:00.407Z"
   },
   {
    "duration": 6,
    "start_time": "2022-03-05T06:21:00.449Z"
   },
   {
    "duration": 54,
    "start_time": "2022-03-05T06:21:00.458Z"
   },
   {
    "duration": 19,
    "start_time": "2022-03-05T06:21:00.515Z"
   },
   {
    "duration": 30,
    "start_time": "2022-03-05T06:21:00.536Z"
   },
   {
    "duration": 33,
    "start_time": "2022-03-05T06:21:00.569Z"
   },
   {
    "duration": 27,
    "start_time": "2022-03-05T06:21:00.605Z"
   },
   {
    "duration": 13,
    "start_time": "2022-03-05T06:21:00.635Z"
   },
   {
    "duration": 43,
    "start_time": "2022-03-05T06:21:00.650Z"
   },
   {
    "duration": 39,
    "start_time": "2022-03-05T06:21:00.696Z"
   },
   {
    "duration": 395,
    "start_time": "2022-03-05T06:21:00.737Z"
   },
   {
    "duration": 446,
    "start_time": "2022-03-05T06:34:27.006Z"
   },
   {
    "duration": 1005,
    "start_time": "2022-03-05T06:34:53.746Z"
   },
   {
    "duration": 17,
    "start_time": "2022-03-05T06:34:54.754Z"
   },
   {
    "duration": 24,
    "start_time": "2022-03-05T06:34:54.777Z"
   },
   {
    "duration": 115,
    "start_time": "2022-03-05T06:34:54.804Z"
   },
   {
    "duration": 21,
    "start_time": "2022-03-05T06:34:54.921Z"
   },
   {
    "duration": 39,
    "start_time": "2022-03-05T06:34:54.946Z"
   },
   {
    "duration": 11,
    "start_time": "2022-03-05T06:34:54.988Z"
   },
   {
    "duration": 44,
    "start_time": "2022-03-05T06:34:55.005Z"
   },
   {
    "duration": 17,
    "start_time": "2022-03-05T06:34:55.054Z"
   },
   {
    "duration": 60,
    "start_time": "2022-03-05T06:34:55.074Z"
   },
   {
    "duration": 6,
    "start_time": "2022-03-05T06:34:55.145Z"
   },
   {
    "duration": 26,
    "start_time": "2022-03-05T06:34:55.154Z"
   },
   {
    "duration": 15,
    "start_time": "2022-03-05T06:34:55.182Z"
   },
   {
    "duration": 34,
    "start_time": "2022-03-05T06:34:55.200Z"
   },
   {
    "duration": 53,
    "start_time": "2022-03-05T06:34:55.236Z"
   },
   {
    "duration": 6,
    "start_time": "2022-03-05T06:34:55.291Z"
   },
   {
    "duration": 21,
    "start_time": "2022-03-05T06:34:55.300Z"
   },
   {
    "duration": 23,
    "start_time": "2022-03-05T06:34:55.324Z"
   },
   {
    "duration": 26,
    "start_time": "2022-03-05T06:34:55.350Z"
   },
   {
    "duration": 5,
    "start_time": "2022-03-05T06:34:55.378Z"
   },
   {
    "duration": 40,
    "start_time": "2022-03-05T06:34:55.386Z"
   },
   {
    "duration": 21,
    "start_time": "2022-03-05T06:34:55.429Z"
   },
   {
    "duration": 25,
    "start_time": "2022-03-05T06:34:55.453Z"
   },
   {
    "duration": 9,
    "start_time": "2022-03-05T06:34:55.480Z"
   },
   {
    "duration": 34,
    "start_time": "2022-03-05T06:34:55.491Z"
   },
   {
    "duration": 5,
    "start_time": "2022-03-05T06:34:55.530Z"
   },
   {
    "duration": 50,
    "start_time": "2022-03-05T06:34:55.538Z"
   },
   {
    "duration": 7,
    "start_time": "2022-03-05T06:34:55.590Z"
   },
   {
    "duration": 27,
    "start_time": "2022-03-05T06:34:55.599Z"
   },
   {
    "duration": 23,
    "start_time": "2022-03-05T06:34:55.629Z"
   },
   {
    "duration": 12,
    "start_time": "2022-03-05T06:34:55.654Z"
   },
   {
    "duration": 12,
    "start_time": "2022-03-05T06:34:55.668Z"
   },
   {
    "duration": 51,
    "start_time": "2022-03-05T06:34:55.683Z"
   },
   {
    "duration": 26,
    "start_time": "2022-03-05T06:34:55.737Z"
   },
   {
    "duration": 610,
    "start_time": "2022-03-05T06:34:55.766Z"
   },
   {
    "duration": 816,
    "start_time": "2022-03-05T06:34:56.379Z"
   },
   {
    "duration": 417,
    "start_time": "2022-03-05T06:36:32.102Z"
   },
   {
    "duration": 305,
    "start_time": "2022-03-05T06:37:02.880Z"
   },
   {
    "duration": 71,
    "start_time": "2022-03-05T06:37:22.720Z"
   },
   {
    "duration": 15,
    "start_time": "2022-03-05T06:37:28.990Z"
   },
   {
    "duration": 22,
    "start_time": "2022-03-05T06:37:56.595Z"
   },
   {
    "duration": 23,
    "start_time": "2022-03-05T06:38:42.133Z"
   },
   {
    "duration": 9,
    "start_time": "2022-03-05T06:39:25.190Z"
   },
   {
    "duration": 24,
    "start_time": "2022-03-05T06:52:06.245Z"
   },
   {
    "duration": 989,
    "start_time": "2022-03-05T07:11:00.953Z"
   },
   {
    "duration": 16,
    "start_time": "2022-03-05T07:11:01.945Z"
   },
   {
    "duration": 12,
    "start_time": "2022-03-05T07:11:01.964Z"
   },
   {
    "duration": 111,
    "start_time": "2022-03-05T07:11:01.979Z"
   },
   {
    "duration": 10,
    "start_time": "2022-03-05T07:11:02.092Z"
   },
   {
    "duration": 35,
    "start_time": "2022-03-05T07:11:02.104Z"
   },
   {
    "duration": 15,
    "start_time": "2022-03-05T07:11:02.142Z"
   },
   {
    "duration": 22,
    "start_time": "2022-03-05T07:11:02.161Z"
   },
   {
    "duration": 15,
    "start_time": "2022-03-05T07:11:02.186Z"
   },
   {
    "duration": 26,
    "start_time": "2022-03-05T07:11:02.232Z"
   },
   {
    "duration": 5,
    "start_time": "2022-03-05T07:11:02.261Z"
   },
   {
    "duration": 5,
    "start_time": "2022-03-05T07:11:02.269Z"
   },
   {
    "duration": 7,
    "start_time": "2022-03-05T07:11:02.276Z"
   },
   {
    "duration": 68,
    "start_time": "2022-03-05T07:11:02.285Z"
   },
   {
    "duration": 44,
    "start_time": "2022-03-05T07:11:02.356Z"
   },
   {
    "duration": 6,
    "start_time": "2022-03-05T07:11:02.402Z"
   },
   {
    "duration": 16,
    "start_time": "2022-03-05T07:11:02.433Z"
   },
   {
    "duration": 12,
    "start_time": "2022-03-05T07:11:02.451Z"
   },
   {
    "duration": 25,
    "start_time": "2022-03-05T07:11:02.465Z"
   },
   {
    "duration": 4,
    "start_time": "2022-03-05T07:11:02.493Z"
   },
   {
    "duration": 28,
    "start_time": "2022-03-05T07:11:02.533Z"
   },
   {
    "duration": 5,
    "start_time": "2022-03-05T07:11:02.563Z"
   },
   {
    "duration": 12,
    "start_time": "2022-03-05T07:11:02.572Z"
   },
   {
    "duration": 5,
    "start_time": "2022-03-05T07:11:02.587Z"
   },
   {
    "duration": 54,
    "start_time": "2022-03-05T07:11:02.594Z"
   },
   {
    "duration": 6,
    "start_time": "2022-03-05T07:11:02.650Z"
   },
   {
    "duration": 42,
    "start_time": "2022-03-05T07:11:02.658Z"
   },
   {
    "duration": 7,
    "start_time": "2022-03-05T07:11:02.733Z"
   },
   {
    "duration": 22,
    "start_time": "2022-03-05T07:11:02.742Z"
   },
   {
    "duration": 21,
    "start_time": "2022-03-05T07:11:02.766Z"
   },
   {
    "duration": 3,
    "start_time": "2022-03-05T07:11:02.789Z"
   },
   {
    "duration": 3,
    "start_time": "2022-03-05T07:11:02.833Z"
   },
   {
    "duration": 14,
    "start_time": "2022-03-05T07:11:02.839Z"
   },
   {
    "duration": 17,
    "start_time": "2022-03-05T07:11:02.855Z"
   },
   {
    "duration": 62,
    "start_time": "2022-03-05T07:11:02.874Z"
   },
   {
    "duration": 21,
    "start_time": "2022-03-05T07:11:02.939Z"
   },
   {
    "duration": 455,
    "start_time": "2022-03-05T07:11:02.962Z"
   },
   {
    "duration": 44,
    "start_time": "2022-03-05T07:11:03.419Z"
   },
   {
    "duration": 22,
    "start_time": "2022-03-05T07:29:37.093Z"
   },
   {
    "duration": 383,
    "start_time": "2022-03-05T07:30:31.323Z"
   },
   {
    "duration": 23,
    "start_time": "2022-03-05T07:30:40.874Z"
   },
   {
    "duration": 24,
    "start_time": "2022-03-05T07:38:38.297Z"
   },
   {
    "duration": 22,
    "start_time": "2022-03-05T07:38:42.680Z"
   },
   {
    "duration": 21,
    "start_time": "2022-03-05T07:38:47.868Z"
   },
   {
    "duration": 24,
    "start_time": "2022-03-05T07:38:54.207Z"
   },
   {
    "duration": 21,
    "start_time": "2022-03-05T07:39:04.916Z"
   },
   {
    "duration": 23,
    "start_time": "2022-03-05T07:39:14.208Z"
   },
   {
    "duration": 213,
    "start_time": "2022-03-05T10:09:12.672Z"
   },
   {
    "duration": 710,
    "start_time": "2022-03-05T10:17:30.071Z"
   },
   {
    "duration": 14,
    "start_time": "2022-03-05T10:17:30.783Z"
   },
   {
    "duration": 32,
    "start_time": "2022-03-05T10:17:30.799Z"
   },
   {
    "duration": 79,
    "start_time": "2022-03-05T10:17:30.833Z"
   },
   {
    "duration": 8,
    "start_time": "2022-03-05T10:17:30.915Z"
   },
   {
    "duration": 24,
    "start_time": "2022-03-05T10:17:30.925Z"
   },
   {
    "duration": 14,
    "start_time": "2022-03-05T10:17:30.952Z"
   },
   {
    "duration": 37,
    "start_time": "2022-03-05T10:17:30.968Z"
   },
   {
    "duration": 13,
    "start_time": "2022-03-05T10:17:31.008Z"
   },
   {
    "duration": 21,
    "start_time": "2022-03-05T10:17:31.024Z"
   },
   {
    "duration": 6,
    "start_time": "2022-03-05T10:17:31.048Z"
   },
   {
    "duration": 18,
    "start_time": "2022-03-05T10:17:31.056Z"
   },
   {
    "duration": 32,
    "start_time": "2022-03-05T10:17:31.076Z"
   },
   {
    "duration": 34,
    "start_time": "2022-03-05T10:17:31.110Z"
   },
   {
    "duration": 57,
    "start_time": "2022-03-05T10:17:31.146Z"
   },
   {
    "duration": 5,
    "start_time": "2022-03-05T10:17:31.205Z"
   },
   {
    "duration": 22,
    "start_time": "2022-03-05T10:17:31.212Z"
   },
   {
    "duration": 22,
    "start_time": "2022-03-05T10:17:31.237Z"
   },
   {
    "duration": 43,
    "start_time": "2022-03-05T10:17:31.261Z"
   },
   {
    "duration": 27,
    "start_time": "2022-03-05T10:17:31.306Z"
   },
   {
    "duration": 26,
    "start_time": "2022-03-05T10:17:31.334Z"
   },
   {
    "duration": 15,
    "start_time": "2022-03-05T10:17:31.362Z"
   },
   {
    "duration": 31,
    "start_time": "2022-03-05T10:17:31.380Z"
   },
   {
    "duration": 11,
    "start_time": "2022-03-05T10:17:31.413Z"
   },
   {
    "duration": 39,
    "start_time": "2022-03-05T10:17:31.426Z"
   },
   {
    "duration": 9,
    "start_time": "2022-03-05T10:17:31.467Z"
   },
   {
    "duration": 66,
    "start_time": "2022-03-05T10:17:31.479Z"
   },
   {
    "duration": 13,
    "start_time": "2022-03-05T10:17:31.548Z"
   },
   {
    "duration": 41,
    "start_time": "2022-03-05T10:17:31.563Z"
   },
   {
    "duration": 174,
    "start_time": "2022-03-05T10:17:31.606Z"
   },
   {
    "duration": 7,
    "start_time": "2022-03-05T10:17:31.782Z"
   },
   {
    "duration": 17,
    "start_time": "2022-03-05T10:17:31.791Z"
   },
   {
    "duration": 22,
    "start_time": "2022-03-05T10:17:31.810Z"
   },
   {
    "duration": 30,
    "start_time": "2022-03-05T10:17:31.834Z"
   },
   {
    "duration": 48,
    "start_time": "2022-03-05T10:17:31.866Z"
   },
   {
    "duration": 17,
    "start_time": "2022-03-05T10:17:31.916Z"
   },
   {
    "duration": 270,
    "start_time": "2022-03-05T10:17:31.935Z"
   },
   {
    "duration": 29,
    "start_time": "2022-03-05T10:17:32.207Z"
   },
   {
    "duration": 22,
    "start_time": "2022-03-05T10:17:32.238Z"
   },
   {
    "duration": 95,
    "start_time": "2022-03-05T10:17:32.262Z"
   },
   {
    "duration": -384,
    "start_time": "2022-03-05T10:17:32.743Z"
   },
   {
    "duration": 626,
    "start_time": "2022-03-05T10:18:18.539Z"
   },
   {
    "duration": 13,
    "start_time": "2022-03-05T10:18:19.168Z"
   },
   {
    "duration": 26,
    "start_time": "2022-03-05T10:18:19.184Z"
   },
   {
    "duration": 78,
    "start_time": "2022-03-05T10:18:19.213Z"
   },
   {
    "duration": 9,
    "start_time": "2022-03-05T10:18:19.293Z"
   },
   {
    "duration": 29,
    "start_time": "2022-03-05T10:18:19.304Z"
   },
   {
    "duration": 22,
    "start_time": "2022-03-05T10:18:19.335Z"
   },
   {
    "duration": 37,
    "start_time": "2022-03-05T10:18:19.359Z"
   },
   {
    "duration": 25,
    "start_time": "2022-03-05T10:18:19.399Z"
   },
   {
    "duration": 24,
    "start_time": "2022-03-05T10:18:19.427Z"
   },
   {
    "duration": 30,
    "start_time": "2022-03-05T10:18:19.453Z"
   },
   {
    "duration": 14,
    "start_time": "2022-03-05T10:18:19.485Z"
   },
   {
    "duration": 30,
    "start_time": "2022-03-05T10:18:19.501Z"
   },
   {
    "duration": 43,
    "start_time": "2022-03-05T10:18:19.533Z"
   },
   {
    "duration": 37,
    "start_time": "2022-03-05T10:18:19.578Z"
   },
   {
    "duration": 4,
    "start_time": "2022-03-05T10:18:19.617Z"
   },
   {
    "duration": 30,
    "start_time": "2022-03-05T10:18:19.623Z"
   },
   {
    "duration": 26,
    "start_time": "2022-03-05T10:18:19.655Z"
   },
   {
    "duration": 38,
    "start_time": "2022-03-05T10:18:19.683Z"
   },
   {
    "duration": 10,
    "start_time": "2022-03-05T10:18:19.723Z"
   },
   {
    "duration": 37,
    "start_time": "2022-03-05T10:18:19.735Z"
   },
   {
    "duration": 4,
    "start_time": "2022-03-05T10:18:19.775Z"
   },
   {
    "duration": 41,
    "start_time": "2022-03-05T10:18:19.781Z"
   },
   {
    "duration": 29,
    "start_time": "2022-03-05T10:18:19.825Z"
   },
   {
    "duration": 46,
    "start_time": "2022-03-05T10:18:19.855Z"
   },
   {
    "duration": 6,
    "start_time": "2022-03-05T10:18:19.903Z"
   },
   {
    "duration": 49,
    "start_time": "2022-03-05T10:18:19.913Z"
   },
   {
    "duration": 7,
    "start_time": "2022-03-05T10:18:19.965Z"
   },
   {
    "duration": 39,
    "start_time": "2022-03-05T10:18:19.974Z"
   },
   {
    "duration": 19,
    "start_time": "2022-03-05T10:18:20.015Z"
   },
   {
    "duration": 9,
    "start_time": "2022-03-05T10:18:20.036Z"
   },
   {
    "duration": 15,
    "start_time": "2022-03-05T10:18:20.047Z"
   },
   {
    "duration": 26,
    "start_time": "2022-03-05T10:18:20.064Z"
   },
   {
    "duration": 23,
    "start_time": "2022-03-05T10:18:20.092Z"
   },
   {
    "duration": 29,
    "start_time": "2022-03-05T10:18:20.118Z"
   },
   {
    "duration": 16,
    "start_time": "2022-03-05T10:18:20.149Z"
   },
   {
    "duration": 249,
    "start_time": "2022-03-05T10:18:20.167Z"
   },
   {
    "duration": 19,
    "start_time": "2022-03-05T10:18:20.418Z"
   },
   {
    "duration": 43,
    "start_time": "2022-03-05T10:18:20.439Z"
   },
   {
    "duration": 79,
    "start_time": "2022-03-05T10:18:20.484Z"
   },
   {
    "duration": -380,
    "start_time": "2022-03-05T10:18:20.945Z"
   },
   {
    "duration": 707,
    "start_time": "2022-03-05T14:05:06.156Z"
   },
   {
    "duration": 6,
    "start_time": "2022-03-05T14:17:33.524Z"
   },
   {
    "duration": 5,
    "start_time": "2022-03-05T14:18:13.321Z"
   },
   {
    "duration": 4,
    "start_time": "2022-03-05T14:18:35.510Z"
   },
   {
    "duration": 232,
    "start_time": "2022-03-05T14:18:53.532Z"
   },
   {
    "duration": 5,
    "start_time": "2022-03-05T14:19:08.598Z"
   },
   {
    "duration": 5,
    "start_time": "2022-03-05T14:23:42.854Z"
   },
   {
    "duration": 690,
    "start_time": "2022-03-05T14:25:24.967Z"
   },
   {
    "duration": 13,
    "start_time": "2022-03-05T14:25:25.659Z"
   },
   {
    "duration": 11,
    "start_time": "2022-03-05T14:25:25.674Z"
   },
   {
    "duration": 5,
    "start_time": "2022-03-05T14:25:25.702Z"
   },
   {
    "duration": 67,
    "start_time": "2022-03-05T14:25:25.708Z"
   },
   {
    "duration": 24,
    "start_time": "2022-03-05T14:25:25.777Z"
   },
   {
    "duration": 13,
    "start_time": "2022-03-05T14:25:25.803Z"
   },
   {
    "duration": 12,
    "start_time": "2022-03-05T14:25:25.819Z"
   },
   {
    "duration": 17,
    "start_time": "2022-03-05T14:25:25.833Z"
   },
   {
    "duration": 12,
    "start_time": "2022-03-05T14:25:25.851Z"
   },
   {
    "duration": 43,
    "start_time": "2022-03-05T14:25:25.865Z"
   },
   {
    "duration": 5,
    "start_time": "2022-03-05T14:25:25.910Z"
   },
   {
    "duration": 7,
    "start_time": "2022-03-05T14:25:25.916Z"
   },
   {
    "duration": 9,
    "start_time": "2022-03-05T14:25:25.925Z"
   },
   {
    "duration": 20,
    "start_time": "2022-03-05T14:25:25.936Z"
   },
   {
    "duration": 63,
    "start_time": "2022-03-05T14:25:25.957Z"
   },
   {
    "duration": 5,
    "start_time": "2022-03-05T14:25:26.022Z"
   },
   {
    "duration": 15,
    "start_time": "2022-03-05T14:25:26.029Z"
   },
   {
    "duration": 11,
    "start_time": "2022-03-05T14:25:26.046Z"
   },
   {
    "duration": 44,
    "start_time": "2022-03-05T14:25:26.059Z"
   },
   {
    "duration": 4,
    "start_time": "2022-03-05T14:25:26.105Z"
   },
   {
    "duration": 20,
    "start_time": "2022-03-05T14:25:26.111Z"
   },
   {
    "duration": 4,
    "start_time": "2022-03-05T14:25:26.134Z"
   },
   {
    "duration": 19,
    "start_time": "2022-03-05T14:25:26.141Z"
   },
   {
    "duration": 5,
    "start_time": "2022-03-05T14:25:26.162Z"
   },
   {
    "duration": 34,
    "start_time": "2022-03-05T14:25:26.169Z"
   },
   {
    "duration": 5,
    "start_time": "2022-03-05T14:25:26.204Z"
   },
   {
    "duration": 32,
    "start_time": "2022-03-05T14:25:26.210Z"
   },
   {
    "duration": 5,
    "start_time": "2022-03-05T14:25:26.244Z"
   },
   {
    "duration": 21,
    "start_time": "2022-03-05T14:25:26.251Z"
   },
   {
    "duration": 38,
    "start_time": "2022-03-05T14:25:26.274Z"
   },
   {
    "duration": 5,
    "start_time": "2022-03-05T14:25:26.314Z"
   },
   {
    "duration": 10,
    "start_time": "2022-03-05T14:25:26.321Z"
   },
   {
    "duration": 17,
    "start_time": "2022-03-05T14:25:26.333Z"
   },
   {
    "duration": 16,
    "start_time": "2022-03-05T14:25:26.352Z"
   },
   {
    "duration": 37,
    "start_time": "2022-03-05T14:25:26.370Z"
   },
   {
    "duration": 16,
    "start_time": "2022-03-05T14:25:26.408Z"
   },
   {
    "duration": 269,
    "start_time": "2022-03-05T14:25:26.425Z"
   },
   {
    "duration": 22,
    "start_time": "2022-03-05T14:25:26.700Z"
   },
   {
    "duration": 17,
    "start_time": "2022-03-05T14:25:26.723Z"
   },
   {
    "duration": 94,
    "start_time": "2022-03-05T14:25:26.742Z"
   },
   {
    "duration": 831,
    "start_time": "2022-03-05T14:25:26.007Z"
   },
   {
    "duration": 647,
    "start_time": "2022-03-05T14:25:46.213Z"
   },
   {
    "duration": 12,
    "start_time": "2022-03-05T14:25:46.862Z"
   },
   {
    "duration": 18,
    "start_time": "2022-03-05T14:25:46.876Z"
   },
   {
    "duration": 4,
    "start_time": "2022-03-05T14:25:46.902Z"
   },
   {
    "duration": 65,
    "start_time": "2022-03-05T14:25:46.908Z"
   },
   {
    "duration": 26,
    "start_time": "2022-03-05T14:25:46.975Z"
   },
   {
    "duration": 19,
    "start_time": "2022-03-05T14:25:47.004Z"
   },
   {
    "duration": 11,
    "start_time": "2022-03-05T14:25:47.025Z"
   },
   {
    "duration": 19,
    "start_time": "2022-03-05T14:25:47.039Z"
   },
   {
    "duration": 12,
    "start_time": "2022-03-05T14:25:47.060Z"
   },
   {
    "duration": 19,
    "start_time": "2022-03-05T14:25:47.101Z"
   },
   {
    "duration": 4,
    "start_time": "2022-03-05T14:25:47.122Z"
   },
   {
    "duration": 11,
    "start_time": "2022-03-05T14:25:47.128Z"
   },
   {
    "duration": 8,
    "start_time": "2022-03-05T14:25:47.141Z"
   },
   {
    "duration": 27,
    "start_time": "2022-03-05T14:25:47.151Z"
   },
   {
    "duration": 52,
    "start_time": "2022-03-05T14:25:47.180Z"
   },
   {
    "duration": 5,
    "start_time": "2022-03-05T14:25:47.234Z"
   },
   {
    "duration": 20,
    "start_time": "2022-03-05T14:25:47.241Z"
   },
   {
    "duration": 19,
    "start_time": "2022-03-05T14:25:47.263Z"
   },
   {
    "duration": 33,
    "start_time": "2022-03-05T14:25:47.284Z"
   },
   {
    "duration": 4,
    "start_time": "2022-03-05T14:25:47.319Z"
   },
   {
    "duration": 21,
    "start_time": "2022-03-05T14:25:47.325Z"
   },
   {
    "duration": 3,
    "start_time": "2022-03-05T14:25:47.348Z"
   },
   {
    "duration": 17,
    "start_time": "2022-03-05T14:25:47.353Z"
   },
   {
    "duration": 6,
    "start_time": "2022-03-05T14:25:47.372Z"
   },
   {
    "duration": 31,
    "start_time": "2022-03-05T14:25:47.380Z"
   },
   {
    "duration": 4,
    "start_time": "2022-03-05T14:25:47.415Z"
   },
   {
    "duration": 39,
    "start_time": "2022-03-05T14:25:47.421Z"
   },
   {
    "duration": 5,
    "start_time": "2022-03-05T14:25:47.462Z"
   },
   {
    "duration": 40,
    "start_time": "2022-03-05T14:25:47.469Z"
   },
   {
    "duration": 21,
    "start_time": "2022-03-05T14:25:47.512Z"
   },
   {
    "duration": 3,
    "start_time": "2022-03-05T14:25:47.535Z"
   },
   {
    "duration": 9,
    "start_time": "2022-03-05T14:25:47.540Z"
   },
   {
    "duration": 17,
    "start_time": "2022-03-05T14:25:47.551Z"
   },
   {
    "duration": 23,
    "start_time": "2022-03-05T14:25:47.571Z"
   },
   {
    "duration": 31,
    "start_time": "2022-03-05T14:25:47.596Z"
   },
   {
    "duration": 20,
    "start_time": "2022-03-05T14:25:47.629Z"
   },
   {
    "duration": 257,
    "start_time": "2022-03-05T14:25:47.651Z"
   },
   {
    "duration": 21,
    "start_time": "2022-03-05T14:25:47.910Z"
   },
   {
    "duration": 16,
    "start_time": "2022-03-05T14:25:47.933Z"
   },
   {
    "duration": 73,
    "start_time": "2022-03-05T14:25:47.951Z"
   },
   {
    "duration": 869,
    "start_time": "2022-03-05T14:25:47.157Z"
   },
   {
    "duration": 675,
    "start_time": "2022-03-05T14:26:07.871Z"
   },
   {
    "duration": 12,
    "start_time": "2022-03-05T14:26:08.548Z"
   },
   {
    "duration": 11,
    "start_time": "2022-03-05T14:26:08.565Z"
   },
   {
    "duration": 24,
    "start_time": "2022-03-05T14:26:08.578Z"
   },
   {
    "duration": 71,
    "start_time": "2022-03-05T14:26:08.604Z"
   },
   {
    "duration": 24,
    "start_time": "2022-03-05T14:26:08.677Z"
   },
   {
    "duration": 15,
    "start_time": "2022-03-05T14:26:08.704Z"
   },
   {
    "duration": 8,
    "start_time": "2022-03-05T14:26:08.721Z"
   },
   {
    "duration": 22,
    "start_time": "2022-03-05T14:26:08.731Z"
   },
   {
    "duration": 12,
    "start_time": "2022-03-05T14:26:08.755Z"
   },
   {
    "duration": 43,
    "start_time": "2022-03-05T14:26:08.769Z"
   },
   {
    "duration": 5,
    "start_time": "2022-03-05T14:26:08.814Z"
   },
   {
    "duration": 12,
    "start_time": "2022-03-05T14:26:08.820Z"
   },
   {
    "duration": 7,
    "start_time": "2022-03-05T14:26:08.834Z"
   },
   {
    "duration": 20,
    "start_time": "2022-03-05T14:26:08.843Z"
   },
   {
    "duration": 53,
    "start_time": "2022-03-05T14:26:08.865Z"
   },
   {
    "duration": 5,
    "start_time": "2022-03-05T14:26:08.920Z"
   },
   {
    "duration": 32,
    "start_time": "2022-03-05T14:26:08.926Z"
   },
   {
    "duration": 16,
    "start_time": "2022-03-05T14:26:08.960Z"
   },
   {
    "duration": 22,
    "start_time": "2022-03-05T14:26:08.978Z"
   },
   {
    "duration": 5,
    "start_time": "2022-03-05T14:26:09.002Z"
   },
   {
    "duration": 22,
    "start_time": "2022-03-05T14:26:09.011Z"
   },
   {
    "duration": 5,
    "start_time": "2022-03-05T14:26:09.035Z"
   },
   {
    "duration": 14,
    "start_time": "2022-03-05T14:26:09.042Z"
   },
   {
    "duration": 5,
    "start_time": "2022-03-05T14:26:09.059Z"
   },
   {
    "duration": 42,
    "start_time": "2022-03-05T14:26:09.066Z"
   },
   {
    "duration": 5,
    "start_time": "2022-03-05T14:26:09.110Z"
   },
   {
    "duration": 39,
    "start_time": "2022-03-05T14:26:09.117Z"
   },
   {
    "duration": 7,
    "start_time": "2022-03-05T14:26:09.158Z"
   },
   {
    "duration": 35,
    "start_time": "2022-03-05T14:26:09.167Z"
   },
   {
    "duration": 18,
    "start_time": "2022-03-05T14:26:09.204Z"
   },
   {
    "duration": 3,
    "start_time": "2022-03-05T14:26:09.224Z"
   },
   {
    "duration": 7,
    "start_time": "2022-03-05T14:26:09.229Z"
   },
   {
    "duration": 13,
    "start_time": "2022-03-05T14:26:09.238Z"
   },
   {
    "duration": 20,
    "start_time": "2022-03-05T14:26:09.253Z"
   },
   {
    "duration": 46,
    "start_time": "2022-03-05T14:26:09.275Z"
   },
   {
    "duration": 15,
    "start_time": "2022-03-05T14:26:09.323Z"
   },
   {
    "duration": 261,
    "start_time": "2022-03-05T14:26:09.339Z"
   },
   {
    "duration": 20,
    "start_time": "2022-03-05T14:26:09.602Z"
   },
   {
    "duration": 16,
    "start_time": "2022-03-05T14:26:09.624Z"
   },
   {
    "duration": 72,
    "start_time": "2022-03-05T14:26:09.642Z"
   },
   {
    "duration": 871,
    "start_time": "2022-03-05T14:26:08.845Z"
   },
   {
    "duration": 669,
    "start_time": "2022-03-05T14:26:26.293Z"
   },
   {
    "duration": 12,
    "start_time": "2022-03-05T14:26:26.964Z"
   },
   {
    "duration": 25,
    "start_time": "2022-03-05T14:26:26.978Z"
   },
   {
    "duration": 5,
    "start_time": "2022-03-05T14:26:27.006Z"
   },
   {
    "duration": 68,
    "start_time": "2022-03-05T14:26:27.014Z"
   },
   {
    "duration": 22,
    "start_time": "2022-03-05T14:26:27.084Z"
   },
   {
    "duration": 14,
    "start_time": "2022-03-05T14:26:27.108Z"
   },
   {
    "duration": 6,
    "start_time": "2022-03-05T14:26:27.125Z"
   },
   {
    "duration": 22,
    "start_time": "2022-03-05T14:26:27.133Z"
   },
   {
    "duration": 11,
    "start_time": "2022-03-05T14:26:27.157Z"
   },
   {
    "duration": 18,
    "start_time": "2022-03-05T14:26:27.202Z"
   },
   {
    "duration": 4,
    "start_time": "2022-03-05T14:26:27.222Z"
   },
   {
    "duration": 6,
    "start_time": "2022-03-05T14:26:27.228Z"
   },
   {
    "duration": 11,
    "start_time": "2022-03-05T14:26:27.236Z"
   },
   {
    "duration": 22,
    "start_time": "2022-03-05T14:26:27.249Z"
   },
   {
    "duration": 60,
    "start_time": "2022-03-05T14:26:27.272Z"
   },
   {
    "duration": 58,
    "start_time": "2022-03-05T14:26:27.334Z"
   },
   {
    "duration": 16,
    "start_time": "2022-03-05T14:26:27.394Z"
   },
   {
    "duration": 41,
    "start_time": "2022-03-05T14:26:27.412Z"
   },
   {
    "duration": 30,
    "start_time": "2022-03-05T14:26:27.455Z"
   },
   {
    "duration": 13,
    "start_time": "2022-03-05T14:26:27.487Z"
   },
   {
    "duration": 39,
    "start_time": "2022-03-05T14:26:27.503Z"
   },
   {
    "duration": 4,
    "start_time": "2022-03-05T14:26:27.547Z"
   },
   {
    "duration": 16,
    "start_time": "2022-03-05T14:26:27.554Z"
   },
   {
    "duration": 9,
    "start_time": "2022-03-05T14:26:27.572Z"
   },
   {
    "duration": 44,
    "start_time": "2022-03-05T14:26:27.583Z"
   },
   {
    "duration": 5,
    "start_time": "2022-03-05T14:26:27.629Z"
   },
   {
    "duration": 63,
    "start_time": "2022-03-05T14:26:27.635Z"
   },
   {
    "duration": 7,
    "start_time": "2022-03-05T14:26:27.701Z"
   },
   {
    "duration": 22,
    "start_time": "2022-03-05T14:26:27.709Z"
   },
   {
    "duration": 22,
    "start_time": "2022-03-05T14:26:27.733Z"
   },
   {
    "duration": 11,
    "start_time": "2022-03-05T14:26:27.757Z"
   },
   {
    "duration": 18,
    "start_time": "2022-03-05T14:26:27.770Z"
   },
   {
    "duration": 10,
    "start_time": "2022-03-05T14:26:27.802Z"
   },
   {
    "duration": 16,
    "start_time": "2022-03-05T14:26:27.814Z"
   },
   {
    "duration": 27,
    "start_time": "2022-03-05T14:26:27.831Z"
   },
   {
    "duration": 24,
    "start_time": "2022-03-05T14:26:27.860Z"
   },
   {
    "duration": 294,
    "start_time": "2022-03-05T14:26:27.886Z"
   },
   {
    "duration": 34,
    "start_time": "2022-03-05T14:26:28.182Z"
   },
   {
    "duration": 19,
    "start_time": "2022-03-05T14:26:28.218Z"
   },
   {
    "duration": 59,
    "start_time": "2022-03-05T14:26:28.240Z"
   },
   {
    "duration": 842,
    "start_time": "2022-03-05T14:26:27.459Z"
   },
   {
    "duration": 650,
    "start_time": "2022-03-05T14:28:03.511Z"
   },
   {
    "duration": 12,
    "start_time": "2022-03-05T14:28:04.163Z"
   },
   {
    "duration": 24,
    "start_time": "2022-03-05T14:28:04.177Z"
   },
   {
    "duration": 12,
    "start_time": "2022-03-05T14:28:04.203Z"
   },
   {
    "duration": 70,
    "start_time": "2022-03-05T14:28:04.217Z"
   },
   {
    "duration": 12,
    "start_time": "2022-03-05T14:28:04.289Z"
   },
   {
    "duration": 18,
    "start_time": "2022-03-05T14:28:04.303Z"
   },
   {
    "duration": 17,
    "start_time": "2022-03-05T14:28:04.323Z"
   },
   {
    "duration": 35,
    "start_time": "2022-03-05T14:28:04.343Z"
   },
   {
    "duration": 12,
    "start_time": "2022-03-05T14:28:04.381Z"
   },
   {
    "duration": 20,
    "start_time": "2022-03-05T14:28:04.395Z"
   },
   {
    "duration": 6,
    "start_time": "2022-03-05T14:28:04.417Z"
   },
   {
    "duration": 12,
    "start_time": "2022-03-05T14:28:04.425Z"
   },
   {
    "duration": 12,
    "start_time": "2022-03-05T14:28:04.439Z"
   },
   {
    "duration": 20,
    "start_time": "2022-03-05T14:28:04.453Z"
   },
   {
    "duration": 53,
    "start_time": "2022-03-05T14:28:04.475Z"
   },
   {
    "duration": 5,
    "start_time": "2022-03-05T14:28:04.530Z"
   },
   {
    "duration": 31,
    "start_time": "2022-03-05T14:28:04.536Z"
   },
   {
    "duration": 60,
    "start_time": "2022-03-05T14:28:04.569Z"
   },
   {
    "duration": 20,
    "start_time": "2022-03-05T14:28:04.631Z"
   },
   {
    "duration": 4,
    "start_time": "2022-03-05T14:28:04.653Z"
   },
   {
    "duration": 25,
    "start_time": "2022-03-05T14:28:04.659Z"
   },
   {
    "duration": 5,
    "start_time": "2022-03-05T14:28:04.687Z"
   },
   {
    "duration": 16,
    "start_time": "2022-03-05T14:28:04.694Z"
   },
   {
    "duration": 7,
    "start_time": "2022-03-05T14:28:04.712Z"
   },
   {
    "duration": 31,
    "start_time": "2022-03-05T14:28:04.721Z"
   },
   {
    "duration": 4,
    "start_time": "2022-03-05T14:28:04.755Z"
   },
   {
    "duration": 31,
    "start_time": "2022-03-05T14:28:04.761Z"
   },
   {
    "duration": 8,
    "start_time": "2022-03-05T14:28:04.794Z"
   },
   {
    "duration": 23,
    "start_time": "2022-03-05T14:28:04.803Z"
   },
   {
    "duration": 19,
    "start_time": "2022-03-05T14:28:04.828Z"
   },
   {
    "duration": 4,
    "start_time": "2022-03-05T14:28:04.849Z"
   },
   {
    "duration": 9,
    "start_time": "2022-03-05T14:28:04.855Z"
   },
   {
    "duration": 15,
    "start_time": "2022-03-05T14:28:04.866Z"
   },
   {
    "duration": 27,
    "start_time": "2022-03-05T14:28:04.882Z"
   },
   {
    "duration": 22,
    "start_time": "2022-03-05T14:28:04.911Z"
   },
   {
    "duration": 15,
    "start_time": "2022-03-05T14:28:04.935Z"
   },
   {
    "duration": 253,
    "start_time": "2022-03-05T14:28:04.952Z"
   },
   {
    "duration": 22,
    "start_time": "2022-03-05T14:28:05.207Z"
   },
   {
    "duration": 18,
    "start_time": "2022-03-05T14:28:05.230Z"
   },
   {
    "duration": 58,
    "start_time": "2022-03-05T14:28:05.250Z"
   },
   {
    "duration": 857,
    "start_time": "2022-03-05T14:28:04.453Z"
   },
   {
    "duration": 635,
    "start_time": "2022-03-05T14:28:46.637Z"
   },
   {
    "duration": 12,
    "start_time": "2022-03-05T14:28:47.274Z"
   },
   {
    "duration": 22,
    "start_time": "2022-03-05T14:28:47.289Z"
   },
   {
    "duration": 21,
    "start_time": "2022-03-05T14:28:47.313Z"
   },
   {
    "duration": 75,
    "start_time": "2022-03-05T14:28:47.335Z"
   },
   {
    "duration": 8,
    "start_time": "2022-03-05T14:28:47.412Z"
   },
   {
    "duration": 29,
    "start_time": "2022-03-05T14:28:47.422Z"
   },
   {
    "duration": 19,
    "start_time": "2022-03-05T14:28:47.454Z"
   },
   {
    "duration": 30,
    "start_time": "2022-03-05T14:28:47.475Z"
   },
   {
    "duration": 37,
    "start_time": "2022-03-05T14:28:47.508Z"
   },
   {
    "duration": 40,
    "start_time": "2022-03-05T14:28:47.546Z"
   },
   {
    "duration": 22,
    "start_time": "2022-03-05T14:28:47.588Z"
   },
   {
    "duration": 19,
    "start_time": "2022-03-05T14:28:47.612Z"
   },
   {
    "duration": 16,
    "start_time": "2022-03-05T14:28:47.632Z"
   },
   {
    "duration": 34,
    "start_time": "2022-03-05T14:28:47.650Z"
   },
   {
    "duration": 44,
    "start_time": "2022-03-05T14:28:47.686Z"
   },
   {
    "duration": 5,
    "start_time": "2022-03-05T14:28:47.732Z"
   },
   {
    "duration": 43,
    "start_time": "2022-03-05T14:28:47.738Z"
   },
   {
    "duration": 38,
    "start_time": "2022-03-05T14:28:47.783Z"
   },
   {
    "duration": 37,
    "start_time": "2022-03-05T14:28:47.822Z"
   },
   {
    "duration": 32,
    "start_time": "2022-03-05T14:28:47.861Z"
   },
   {
    "duration": 57,
    "start_time": "2022-03-05T14:28:47.895Z"
   },
   {
    "duration": 39,
    "start_time": "2022-03-05T14:28:47.956Z"
   },
   {
    "duration": 26,
    "start_time": "2022-03-05T14:28:47.997Z"
   },
   {
    "duration": 23,
    "start_time": "2022-03-05T14:28:48.025Z"
   },
   {
    "duration": 34,
    "start_time": "2022-03-05T14:28:48.050Z"
   },
   {
    "duration": 6,
    "start_time": "2022-03-05T14:28:48.086Z"
   },
   {
    "duration": 65,
    "start_time": "2022-03-05T14:28:48.094Z"
   },
   {
    "duration": 6,
    "start_time": "2022-03-05T14:28:48.161Z"
   },
   {
    "duration": 33,
    "start_time": "2022-03-05T14:28:48.169Z"
   },
   {
    "duration": 35,
    "start_time": "2022-03-05T14:28:48.204Z"
   },
   {
    "duration": 17,
    "start_time": "2022-03-05T14:28:48.242Z"
   },
   {
    "duration": 25,
    "start_time": "2022-03-05T14:28:48.261Z"
   },
   {
    "duration": 28,
    "start_time": "2022-03-05T14:28:48.288Z"
   },
   {
    "duration": 35,
    "start_time": "2022-03-05T14:28:48.318Z"
   },
   {
    "duration": 35,
    "start_time": "2022-03-05T14:28:48.355Z"
   },
   {
    "duration": 25,
    "start_time": "2022-03-05T14:28:48.392Z"
   },
   {
    "duration": 231,
    "start_time": "2022-03-05T14:28:48.418Z"
   },
   {
    "duration": 19,
    "start_time": "2022-03-05T14:28:48.651Z"
   },
   {
    "duration": 30,
    "start_time": "2022-03-05T14:28:48.672Z"
   },
   {
    "duration": 60,
    "start_time": "2022-03-05T14:28:48.704Z"
   },
   {
    "duration": 864,
    "start_time": "2022-03-05T14:28:47.902Z"
   },
   {
    "duration": 659,
    "start_time": "2022-03-05T14:28:59.612Z"
   },
   {
    "duration": 13,
    "start_time": "2022-03-05T14:29:00.274Z"
   },
   {
    "duration": 23,
    "start_time": "2022-03-05T14:29:00.289Z"
   },
   {
    "duration": 5,
    "start_time": "2022-03-05T14:29:00.314Z"
   },
   {
    "duration": 73,
    "start_time": "2022-03-05T14:29:00.320Z"
   },
   {
    "duration": 9,
    "start_time": "2022-03-05T14:29:00.401Z"
   },
   {
    "duration": 26,
    "start_time": "2022-03-05T14:29:00.412Z"
   },
   {
    "duration": 22,
    "start_time": "2022-03-05T14:29:00.441Z"
   },
   {
    "duration": 21,
    "start_time": "2022-03-05T14:29:00.466Z"
   },
   {
    "duration": 20,
    "start_time": "2022-03-05T14:29:00.489Z"
   },
   {
    "duration": 26,
    "start_time": "2022-03-05T14:29:00.511Z"
   },
   {
    "duration": 5,
    "start_time": "2022-03-05T14:29:00.538Z"
   },
   {
    "duration": 19,
    "start_time": "2022-03-05T14:29:00.545Z"
   },
   {
    "duration": 13,
    "start_time": "2022-03-05T14:29:00.565Z"
   },
   {
    "duration": 32,
    "start_time": "2022-03-05T14:29:00.580Z"
   },
   {
    "duration": 31,
    "start_time": "2022-03-05T14:29:00.614Z"
   },
   {
    "duration": 5,
    "start_time": "2022-03-05T14:29:00.647Z"
   },
   {
    "duration": 28,
    "start_time": "2022-03-05T14:29:00.653Z"
   },
   {
    "duration": 20,
    "start_time": "2022-03-05T14:29:00.683Z"
   },
   {
    "duration": 21,
    "start_time": "2022-03-05T14:29:00.705Z"
   },
   {
    "duration": 13,
    "start_time": "2022-03-05T14:29:00.728Z"
   },
   {
    "duration": 29,
    "start_time": "2022-03-05T14:29:00.742Z"
   },
   {
    "duration": 3,
    "start_time": "2022-03-05T14:29:00.775Z"
   },
   {
    "duration": 16,
    "start_time": "2022-03-05T14:29:00.780Z"
   },
   {
    "duration": 5,
    "start_time": "2022-03-05T14:29:00.802Z"
   },
   {
    "duration": 30,
    "start_time": "2022-03-05T14:29:00.809Z"
   },
   {
    "duration": 7,
    "start_time": "2022-03-05T14:29:00.841Z"
   },
   {
    "duration": 47,
    "start_time": "2022-03-05T14:29:00.850Z"
   },
   {
    "duration": 6,
    "start_time": "2022-03-05T14:29:00.899Z"
   },
   {
    "duration": 25,
    "start_time": "2022-03-05T14:29:00.906Z"
   },
   {
    "duration": 25,
    "start_time": "2022-03-05T14:29:00.934Z"
   },
   {
    "duration": 10,
    "start_time": "2022-03-05T14:29:00.960Z"
   },
   {
    "duration": 18,
    "start_time": "2022-03-05T14:29:00.972Z"
   },
   {
    "duration": 38,
    "start_time": "2022-03-05T14:29:00.992Z"
   },
   {
    "duration": 27,
    "start_time": "2022-03-05T14:29:01.032Z"
   },
   {
    "duration": 30,
    "start_time": "2022-03-05T14:29:01.060Z"
   },
   {
    "duration": 16,
    "start_time": "2022-03-05T14:29:01.092Z"
   },
   {
    "duration": 260,
    "start_time": "2022-03-05T14:29:01.110Z"
   },
   {
    "duration": 29,
    "start_time": "2022-03-05T14:29:01.372Z"
   },
   {
    "duration": 16,
    "start_time": "2022-03-05T14:29:01.403Z"
   },
   {
    "duration": 79,
    "start_time": "2022-03-05T14:29:01.421Z"
   },
   {
    "duration": 864,
    "start_time": "2022-03-05T14:29:00.638Z"
   },
   {
    "duration": 14,
    "start_time": "2022-03-05T14:50:40.814Z"
   },
   {
    "duration": 14,
    "start_time": "2022-03-05T14:50:50.594Z"
   },
   {
    "duration": 711,
    "start_time": "2022-03-05T14:51:10.875Z"
   },
   {
    "duration": 13,
    "start_time": "2022-03-05T14:51:11.589Z"
   },
   {
    "duration": 12,
    "start_time": "2022-03-05T14:51:11.608Z"
   },
   {
    "duration": 5,
    "start_time": "2022-03-05T14:51:11.622Z"
   },
   {
    "duration": 93,
    "start_time": "2022-03-05T14:51:11.629Z"
   },
   {
    "duration": 15,
    "start_time": "2022-03-05T14:51:11.725Z"
   },
   {
    "duration": 9,
    "start_time": "2022-03-05T14:51:11.743Z"
   },
   {
    "duration": 15,
    "start_time": "2022-03-05T14:51:11.754Z"
   },
   {
    "duration": 35,
    "start_time": "2022-03-05T14:51:11.771Z"
   },
   {
    "duration": 25,
    "start_time": "2022-03-05T14:51:11.808Z"
   },
   {
    "duration": 13,
    "start_time": "2022-03-05T14:51:11.836Z"
   },
   {
    "duration": 17,
    "start_time": "2022-03-05T14:51:11.851Z"
   },
   {
    "duration": 33,
    "start_time": "2022-03-05T14:51:11.870Z"
   },
   {
    "duration": 5,
    "start_time": "2022-03-05T14:51:11.905Z"
   },
   {
    "duration": 11,
    "start_time": "2022-03-05T14:51:11.911Z"
   },
   {
    "duration": 21,
    "start_time": "2022-03-05T14:51:11.924Z"
   },
   {
    "duration": 55,
    "start_time": "2022-03-05T14:51:11.947Z"
   },
   {
    "duration": 5,
    "start_time": "2022-03-05T14:51:12.004Z"
   },
   {
    "duration": 17,
    "start_time": "2022-03-05T14:51:12.011Z"
   },
   {
    "duration": 11,
    "start_time": "2022-03-05T14:51:12.030Z"
   },
   {
    "duration": 22,
    "start_time": "2022-03-05T14:51:12.042Z"
   },
   {
    "duration": 4,
    "start_time": "2022-03-05T14:51:12.068Z"
   },
   {
    "duration": 45,
    "start_time": "2022-03-05T14:51:12.074Z"
   },
   {
    "duration": 4,
    "start_time": "2022-03-05T14:51:12.120Z"
   },
   {
    "duration": 15,
    "start_time": "2022-03-05T14:51:12.126Z"
   },
   {
    "duration": 6,
    "start_time": "2022-03-05T14:51:12.143Z"
   },
   {
    "duration": 23,
    "start_time": "2022-03-05T14:51:12.151Z"
   },
   {
    "duration": 4,
    "start_time": "2022-03-05T14:51:12.176Z"
   },
   {
    "duration": 40,
    "start_time": "2022-03-05T14:51:12.182Z"
   },
   {
    "duration": 6,
    "start_time": "2022-03-05T14:51:12.225Z"
   },
   {
    "duration": 20,
    "start_time": "2022-03-05T14:51:12.233Z"
   },
   {
    "duration": 46,
    "start_time": "2022-03-05T14:51:12.255Z"
   },
   {
    "duration": 3,
    "start_time": "2022-03-05T14:51:12.303Z"
   },
   {
    "duration": 6,
    "start_time": "2022-03-05T14:51:12.308Z"
   },
   {
    "duration": 15,
    "start_time": "2022-03-05T14:51:12.316Z"
   },
   {
    "duration": 15,
    "start_time": "2022-03-05T14:51:12.333Z"
   },
   {
    "duration": 26,
    "start_time": "2022-03-05T14:51:12.350Z"
   },
   {
    "duration": 35,
    "start_time": "2022-03-05T14:51:12.378Z"
   },
   {
    "duration": 249,
    "start_time": "2022-03-05T14:51:12.415Z"
   },
   {
    "duration": 22,
    "start_time": "2022-03-05T14:51:12.666Z"
   },
   {
    "duration": 27,
    "start_time": "2022-03-05T14:51:12.690Z"
   },
   {
    "duration": 55,
    "start_time": "2022-03-05T14:51:12.719Z"
   },
   {
    "duration": 841,
    "start_time": "2022-03-05T14:51:11.935Z"
   },
   {
    "duration": 716,
    "start_time": "2022-03-05T15:05:07.086Z"
   },
   {
    "duration": 14,
    "start_time": "2022-03-05T15:05:07.804Z"
   },
   {
    "duration": 13,
    "start_time": "2022-03-05T15:05:07.821Z"
   },
   {
    "duration": 5,
    "start_time": "2022-03-05T15:05:07.837Z"
   },
   {
    "duration": 15,
    "start_time": "2022-03-05T15:05:07.844Z"
   },
   {
    "duration": 95,
    "start_time": "2022-03-05T15:05:07.862Z"
   },
   {
    "duration": 16,
    "start_time": "2022-03-05T15:05:07.959Z"
   },
   {
    "duration": 27,
    "start_time": "2022-03-05T15:05:07.979Z"
   },
   {
    "duration": 15,
    "start_time": "2022-03-05T15:05:08.009Z"
   },
   {
    "duration": 9,
    "start_time": "2022-03-05T15:05:08.026Z"
   },
   {
    "duration": 23,
    "start_time": "2022-03-05T15:05:08.037Z"
   },
   {
    "duration": 45,
    "start_time": "2022-03-05T15:05:08.062Z"
   },
   {
    "duration": 26,
    "start_time": "2022-03-05T15:05:08.109Z"
   },
   {
    "duration": 6,
    "start_time": "2022-03-05T15:05:08.137Z"
   },
   {
    "duration": 11,
    "start_time": "2022-03-05T15:05:08.146Z"
   },
   {
    "duration": 11,
    "start_time": "2022-03-05T15:05:08.159Z"
   },
   {
    "duration": 39,
    "start_time": "2022-03-05T15:05:08.172Z"
   },
   {
    "duration": 35,
    "start_time": "2022-03-05T15:05:08.213Z"
   },
   {
    "duration": 6,
    "start_time": "2022-03-05T15:05:08.250Z"
   },
   {
    "duration": 19,
    "start_time": "2022-03-05T15:05:08.258Z"
   },
   {
    "duration": 21,
    "start_time": "2022-03-05T15:05:08.300Z"
   },
   {
    "duration": 27,
    "start_time": "2022-03-05T15:05:08.324Z"
   },
   {
    "duration": 7,
    "start_time": "2022-03-05T15:05:08.356Z"
   },
   {
    "duration": 35,
    "start_time": "2022-03-05T15:05:08.365Z"
   },
   {
    "duration": 4,
    "start_time": "2022-03-05T15:05:08.402Z"
   },
   {
    "duration": 27,
    "start_time": "2022-03-05T15:05:08.409Z"
   },
   {
    "duration": 11,
    "start_time": "2022-03-05T15:05:08.438Z"
   },
   {
    "duration": 28,
    "start_time": "2022-03-05T15:05:08.451Z"
   },
   {
    "duration": 6,
    "start_time": "2022-03-05T15:05:08.482Z"
   },
   {
    "duration": 44,
    "start_time": "2022-03-05T15:05:08.490Z"
   },
   {
    "duration": 5,
    "start_time": "2022-03-05T15:05:08.536Z"
   },
   {
    "duration": 25,
    "start_time": "2022-03-05T15:05:08.543Z"
   },
   {
    "duration": 16,
    "start_time": "2022-03-05T15:05:08.570Z"
   },
   {
    "duration": 6,
    "start_time": "2022-03-05T15:05:08.588Z"
   },
   {
    "duration": 7,
    "start_time": "2022-03-05T15:05:08.601Z"
   },
   {
    "duration": 19,
    "start_time": "2022-03-05T15:05:08.610Z"
   },
   {
    "duration": 21,
    "start_time": "2022-03-05T15:05:08.631Z"
   },
   {
    "duration": 27,
    "start_time": "2022-03-05T15:05:08.654Z"
   },
   {
    "duration": 29,
    "start_time": "2022-03-05T15:05:08.683Z"
   },
   {
    "duration": 242,
    "start_time": "2022-03-05T15:05:08.714Z"
   },
   {
    "duration": 21,
    "start_time": "2022-03-05T15:05:08.958Z"
   },
   {
    "duration": 32,
    "start_time": "2022-03-05T15:05:08.981Z"
   },
   {
    "duration": 71,
    "start_time": "2022-03-05T15:05:09.014Z"
   },
   {
    "duration": 781,
    "start_time": "2022-03-05T15:05:08.306Z"
   },
   {
    "duration": 7,
    "start_time": "2022-03-05T15:07:37.256Z"
   },
   {
    "duration": 679,
    "start_time": "2022-03-05T15:10:20.195Z"
   },
   {
    "duration": 11,
    "start_time": "2022-03-05T15:10:20.876Z"
   },
   {
    "duration": 15,
    "start_time": "2022-03-05T15:10:20.890Z"
   },
   {
    "duration": 10,
    "start_time": "2022-03-05T15:10:20.907Z"
   },
   {
    "duration": 13,
    "start_time": "2022-03-05T15:10:20.919Z"
   },
   {
    "duration": 74,
    "start_time": "2022-03-05T15:10:20.934Z"
   },
   {
    "duration": 14,
    "start_time": "2022-03-05T15:10:21.010Z"
   },
   {
    "duration": 9,
    "start_time": "2022-03-05T15:10:21.027Z"
   },
   {
    "duration": 14,
    "start_time": "2022-03-05T15:10:21.038Z"
   },
   {
    "duration": 8,
    "start_time": "2022-03-05T15:10:21.054Z"
   },
   {
    "duration": 48,
    "start_time": "2022-03-05T15:10:21.064Z"
   },
   {
    "duration": 12,
    "start_time": "2022-03-05T15:10:21.114Z"
   },
   {
    "duration": 22,
    "start_time": "2022-03-05T15:10:21.128Z"
   },
   {
    "duration": 5,
    "start_time": "2022-03-05T15:10:21.152Z"
   },
   {
    "duration": 14,
    "start_time": "2022-03-05T15:10:21.158Z"
   },
   {
    "duration": 28,
    "start_time": "2022-03-05T15:10:21.173Z"
   },
   {
    "duration": 18,
    "start_time": "2022-03-05T15:10:21.203Z"
   },
   {
    "duration": 33,
    "start_time": "2022-03-05T15:10:21.223Z"
   },
   {
    "duration": 7,
    "start_time": "2022-03-05T15:10:21.258Z"
   },
   {
    "duration": 43,
    "start_time": "2022-03-05T15:10:21.267Z"
   },
   {
    "duration": 7,
    "start_time": "2022-03-05T15:10:21.312Z"
   },
   {
    "duration": 24,
    "start_time": "2022-03-05T15:10:21.321Z"
   },
   {
    "duration": 3,
    "start_time": "2022-03-05T15:10:21.350Z"
   },
   {
    "duration": 26,
    "start_time": "2022-03-05T15:10:21.356Z"
   },
   {
    "duration": 3,
    "start_time": "2022-03-05T15:10:21.402Z"
   },
   {
    "duration": 14,
    "start_time": "2022-03-05T15:10:21.407Z"
   },
   {
    "duration": 5,
    "start_time": "2022-03-05T15:10:21.423Z"
   },
   {
    "duration": 25,
    "start_time": "2022-03-05T15:10:21.430Z"
   },
   {
    "duration": 5,
    "start_time": "2022-03-05T15:10:21.456Z"
   },
   {
    "duration": 56,
    "start_time": "2022-03-05T15:10:21.462Z"
   },
   {
    "duration": 6,
    "start_time": "2022-03-05T15:10:21.519Z"
   },
   {
    "duration": 19,
    "start_time": "2022-03-05T15:10:21.527Z"
   },
   {
    "duration": 18,
    "start_time": "2022-03-05T15:10:21.548Z"
   },
   {
    "duration": 2,
    "start_time": "2022-03-05T15:10:21.568Z"
   },
   {
    "duration": 30,
    "start_time": "2022-03-05T15:10:21.572Z"
   },
   {
    "duration": 18,
    "start_time": "2022-03-05T15:10:21.604Z"
   },
   {
    "duration": 18,
    "start_time": "2022-03-05T15:10:21.624Z"
   },
   {
    "duration": 25,
    "start_time": "2022-03-05T15:10:21.644Z"
   },
   {
    "duration": 32,
    "start_time": "2022-03-05T15:10:21.671Z"
   },
   {
    "duration": 260,
    "start_time": "2022-03-05T15:10:21.705Z"
   },
   {
    "duration": 21,
    "start_time": "2022-03-05T15:10:21.967Z"
   },
   {
    "duration": 26,
    "start_time": "2022-03-05T15:10:21.990Z"
   },
   {
    "duration": 58,
    "start_time": "2022-03-05T15:10:22.018Z"
   },
   {
    "duration": 801,
    "start_time": "2022-03-05T15:10:21.276Z"
   },
   {
    "duration": 647,
    "start_time": "2022-03-05T15:11:56.045Z"
   },
   {
    "duration": 14,
    "start_time": "2022-03-05T15:11:56.695Z"
   },
   {
    "duration": 12,
    "start_time": "2022-03-05T15:11:56.712Z"
   },
   {
    "duration": 7,
    "start_time": "2022-03-05T15:11:56.726Z"
   },
   {
    "duration": 7,
    "start_time": "2022-03-05T15:11:56.735Z"
   },
   {
    "duration": 95,
    "start_time": "2022-03-05T15:11:56.744Z"
   },
   {
    "duration": 15,
    "start_time": "2022-03-05T15:11:56.841Z"
   },
   {
    "duration": 8,
    "start_time": "2022-03-05T15:11:56.858Z"
   },
   {
    "duration": 14,
    "start_time": "2022-03-05T15:11:56.868Z"
   },
   {
    "duration": 5,
    "start_time": "2022-03-05T15:11:56.901Z"
   },
   {
    "duration": 23,
    "start_time": "2022-03-05T15:11:56.908Z"
   },
   {
    "duration": 12,
    "start_time": "2022-03-05T15:11:56.933Z"
   },
   {
    "duration": 20,
    "start_time": "2022-03-05T15:11:56.947Z"
   },
   {
    "duration": 32,
    "start_time": "2022-03-05T15:11:56.969Z"
   },
   {
    "duration": 4,
    "start_time": "2022-03-05T15:11:57.003Z"
   },
   {
    "duration": 10,
    "start_time": "2022-03-05T15:11:57.009Z"
   },
   {
    "duration": 20,
    "start_time": "2022-03-05T15:11:57.021Z"
   },
   {
    "duration": 34,
    "start_time": "2022-03-05T15:11:57.043Z"
   },
   {
    "duration": 5,
    "start_time": "2022-03-05T15:11:57.102Z"
   },
   {
    "duration": 13,
    "start_time": "2022-03-05T15:11:57.108Z"
   },
   {
    "duration": 15,
    "start_time": "2022-03-05T15:11:57.123Z"
   },
   {
    "duration": 22,
    "start_time": "2022-03-05T15:11:57.139Z"
   },
   {
    "duration": 4,
    "start_time": "2022-03-05T15:11:57.165Z"
   },
   {
    "duration": 47,
    "start_time": "2022-03-05T15:11:57.171Z"
   },
   {
    "duration": 6,
    "start_time": "2022-03-05T15:11:57.220Z"
   },
   {
    "duration": 13,
    "start_time": "2022-03-05T15:11:57.229Z"
   },
   {
    "duration": 5,
    "start_time": "2022-03-05T15:11:57.244Z"
   },
   {
    "duration": 28,
    "start_time": "2022-03-05T15:11:57.251Z"
   },
   {
    "duration": 4,
    "start_time": "2022-03-05T15:11:57.282Z"
   },
   {
    "duration": 41,
    "start_time": "2022-03-05T15:11:57.288Z"
   },
   {
    "duration": 6,
    "start_time": "2022-03-05T15:11:57.331Z"
   },
   {
    "duration": 21,
    "start_time": "2022-03-05T15:11:57.339Z"
   },
   {
    "duration": 39,
    "start_time": "2022-03-05T15:11:57.362Z"
   },
   {
    "duration": 3,
    "start_time": "2022-03-05T15:11:57.403Z"
   },
   {
    "duration": 8,
    "start_time": "2022-03-05T15:11:57.408Z"
   },
   {
    "duration": 14,
    "start_time": "2022-03-05T15:11:57.418Z"
   },
   {
    "duration": 18,
    "start_time": "2022-03-05T15:11:57.434Z"
   },
   {
    "duration": 26,
    "start_time": "2022-03-05T15:11:57.454Z"
   },
   {
    "duration": 32,
    "start_time": "2022-03-05T15:11:57.482Z"
   },
   {
    "duration": 263,
    "start_time": "2022-03-05T15:11:57.516Z"
   },
   {
    "duration": 34,
    "start_time": "2022-03-05T15:11:57.782Z"
   },
   {
    "duration": 17,
    "start_time": "2022-03-05T15:11:57.819Z"
   },
   {
    "duration": 54,
    "start_time": "2022-03-05T15:11:57.838Z"
   },
   {
    "duration": 821,
    "start_time": "2022-03-05T15:11:57.073Z"
   },
   {
    "duration": 711,
    "start_time": "2022-03-05T15:18:25.934Z"
   },
   {
    "duration": 12,
    "start_time": "2022-03-05T15:18:26.647Z"
   },
   {
    "duration": 12,
    "start_time": "2022-03-05T15:18:26.664Z"
   },
   {
    "duration": 27,
    "start_time": "2022-03-05T15:18:26.678Z"
   },
   {
    "duration": 13,
    "start_time": "2022-03-05T15:18:26.707Z"
   },
   {
    "duration": 87,
    "start_time": "2022-03-05T15:18:26.722Z"
   },
   {
    "duration": 16,
    "start_time": "2022-03-05T15:18:26.812Z"
   },
   {
    "duration": 8,
    "start_time": "2022-03-05T15:18:26.830Z"
   },
   {
    "duration": 14,
    "start_time": "2022-03-05T15:18:26.840Z"
   },
   {
    "duration": 9,
    "start_time": "2022-03-05T15:18:26.856Z"
   },
   {
    "duration": 49,
    "start_time": "2022-03-05T15:18:26.866Z"
   },
   {
    "duration": 13,
    "start_time": "2022-03-05T15:18:26.917Z"
   },
   {
    "duration": 56,
    "start_time": "2022-03-05T15:18:26.931Z"
   },
   {
    "duration": 6,
    "start_time": "2022-03-05T15:18:26.989Z"
   },
   {
    "duration": 6,
    "start_time": "2022-03-05T15:18:26.997Z"
   },
   {
    "duration": 7,
    "start_time": "2022-03-05T15:18:27.005Z"
   },
   {
    "duration": 30,
    "start_time": "2022-03-05T15:18:27.014Z"
   },
   {
    "duration": 36,
    "start_time": "2022-03-05T15:18:27.047Z"
   },
   {
    "duration": 21,
    "start_time": "2022-03-05T15:18:27.085Z"
   },
   {
    "duration": 14,
    "start_time": "2022-03-05T15:18:27.108Z"
   },
   {
    "duration": 10,
    "start_time": "2022-03-05T15:18:27.124Z"
   },
   {
    "duration": 21,
    "start_time": "2022-03-05T15:18:27.138Z"
   },
   {
    "duration": 5,
    "start_time": "2022-03-05T15:18:27.161Z"
   },
   {
    "duration": 46,
    "start_time": "2022-03-05T15:18:27.168Z"
   },
   {
    "duration": 3,
    "start_time": "2022-03-05T15:18:27.216Z"
   },
   {
    "duration": 19,
    "start_time": "2022-03-05T15:18:27.221Z"
   },
   {
    "duration": 5,
    "start_time": "2022-03-05T15:18:27.242Z"
   },
   {
    "duration": 27,
    "start_time": "2022-03-05T15:18:27.249Z"
   },
   {
    "duration": 5,
    "start_time": "2022-03-05T15:18:27.278Z"
   },
   {
    "duration": 52,
    "start_time": "2022-03-05T15:18:27.302Z"
   },
   {
    "duration": 7,
    "start_time": "2022-03-05T15:18:27.356Z"
   },
   {
    "duration": 19,
    "start_time": "2022-03-05T15:18:27.365Z"
   },
   {
    "duration": 25,
    "start_time": "2022-03-05T15:18:27.386Z"
   },
   {
    "duration": 4,
    "start_time": "2022-03-05T15:18:27.414Z"
   },
   {
    "duration": 9,
    "start_time": "2022-03-05T15:18:27.420Z"
   },
   {
    "duration": 13,
    "start_time": "2022-03-05T15:18:27.431Z"
   },
   {
    "duration": 20,
    "start_time": "2022-03-05T15:18:27.447Z"
   },
   {
    "duration": 42,
    "start_time": "2022-03-05T15:18:27.469Z"
   },
   {
    "duration": 27,
    "start_time": "2022-03-05T15:18:27.513Z"
   },
   {
    "duration": 329,
    "start_time": "2022-03-05T15:18:27.542Z"
   },
   {
    "duration": 31,
    "start_time": "2022-03-05T15:18:27.872Z"
   },
   {
    "duration": 16,
    "start_time": "2022-03-05T15:18:27.905Z"
   },
   {
    "duration": 65,
    "start_time": "2022-03-05T15:18:27.923Z"
   },
   {
    "duration": 810,
    "start_time": "2022-03-05T15:18:27.180Z"
   },
   {
    "duration": 686,
    "start_time": "2022-03-05T15:38:00.277Z"
   },
   {
    "duration": 13,
    "start_time": "2022-03-05T15:38:00.965Z"
   },
   {
    "duration": 28,
    "start_time": "2022-03-05T15:38:00.981Z"
   },
   {
    "duration": 23,
    "start_time": "2022-03-05T15:38:01.011Z"
   },
   {
    "duration": 26,
    "start_time": "2022-03-05T15:38:01.036Z"
   },
   {
    "duration": 99,
    "start_time": "2022-03-05T15:38:01.064Z"
   },
   {
    "duration": 8,
    "start_time": "2022-03-05T15:38:01.165Z"
   },
   {
    "duration": 33,
    "start_time": "2022-03-05T15:38:01.176Z"
   },
   {
    "duration": 16,
    "start_time": "2022-03-05T15:38:01.211Z"
   },
   {
    "duration": 37,
    "start_time": "2022-03-05T15:38:01.229Z"
   },
   {
    "duration": 22,
    "start_time": "2022-03-05T15:38:01.268Z"
   },
   {
    "duration": 35,
    "start_time": "2022-03-05T15:38:01.292Z"
   },
   {
    "duration": 14,
    "start_time": "2022-03-05T15:38:01.329Z"
   },
   {
    "duration": 23,
    "start_time": "2022-03-05T15:38:01.345Z"
   },
   {
    "duration": 20,
    "start_time": "2022-03-05T15:38:01.370Z"
   },
   {
    "duration": 39,
    "start_time": "2022-03-05T15:38:01.392Z"
   },
   {
    "duration": 30,
    "start_time": "2022-03-05T15:38:01.433Z"
   },
   {
    "duration": 45,
    "start_time": "2022-03-05T15:38:01.465Z"
   },
   {
    "duration": 49,
    "start_time": "2022-03-05T15:38:01.512Z"
   },
   {
    "duration": 5,
    "start_time": "2022-03-05T15:38:01.563Z"
   },
   {
    "duration": 32,
    "start_time": "2022-03-05T15:38:01.569Z"
   },
   {
    "duration": 17,
    "start_time": "2022-03-05T15:38:01.603Z"
   },
   {
    "duration": 26,
    "start_time": "2022-03-05T15:38:01.625Z"
   },
   {
    "duration": 11,
    "start_time": "2022-03-05T15:38:01.654Z"
   },
   {
    "duration": 24,
    "start_time": "2022-03-05T15:38:01.667Z"
   },
   {
    "duration": 3,
    "start_time": "2022-03-05T15:38:01.693Z"
   },
   {
    "duration": 19,
    "start_time": "2022-03-05T15:38:01.698Z"
   },
   {
    "duration": 12,
    "start_time": "2022-03-05T15:38:01.719Z"
   },
   {
    "duration": 27,
    "start_time": "2022-03-05T15:38:01.733Z"
   },
   {
    "duration": 4,
    "start_time": "2022-03-05T15:38:01.763Z"
   },
   {
    "duration": 38,
    "start_time": "2022-03-05T15:38:01.769Z"
   },
   {
    "duration": 5,
    "start_time": "2022-03-05T15:38:01.809Z"
   },
   {
    "duration": 37,
    "start_time": "2022-03-05T15:38:01.816Z"
   },
   {
    "duration": 21,
    "start_time": "2022-03-05T15:38:01.856Z"
   },
   {
    "duration": 6,
    "start_time": "2022-03-05T15:38:01.879Z"
   },
   {
    "duration": 15,
    "start_time": "2022-03-05T15:38:01.886Z"
   },
   {
    "duration": 19,
    "start_time": "2022-03-05T15:38:01.903Z"
   },
   {
    "duration": 25,
    "start_time": "2022-03-05T15:38:01.925Z"
   },
   {
    "duration": 38,
    "start_time": "2022-03-05T15:38:01.952Z"
   },
   {
    "duration": 17,
    "start_time": "2022-03-05T15:38:01.991Z"
   },
   {
    "duration": 240,
    "start_time": "2022-03-05T15:38:02.010Z"
   },
   {
    "duration": 23,
    "start_time": "2022-03-05T15:38:02.252Z"
   },
   {
    "duration": 30,
    "start_time": "2022-03-05T15:38:02.277Z"
   },
   {
    "duration": 74,
    "start_time": "2022-03-05T15:38:02.309Z"
   },
   {
    "duration": 787,
    "start_time": "2022-03-05T15:38:01.598Z"
   },
   {
    "duration": 360,
    "start_time": "2022-03-09T17:38:19.879Z"
   },
   {
    "duration": 839,
    "start_time": "2022-03-09T17:38:26.300Z"
   },
   {
    "duration": 18,
    "start_time": "2022-03-09T17:38:27.142Z"
   },
   {
    "duration": 32,
    "start_time": "2022-03-09T17:38:27.168Z"
   },
   {
    "duration": 6,
    "start_time": "2022-03-09T17:38:27.203Z"
   },
   {
    "duration": 11,
    "start_time": "2022-03-09T17:38:27.212Z"
   },
   {
    "duration": 132,
    "start_time": "2022-03-09T17:38:27.226Z"
   },
   {
    "duration": 26,
    "start_time": "2022-03-09T17:38:27.364Z"
   },
   {
    "duration": 19,
    "start_time": "2022-03-09T17:38:27.393Z"
   },
   {
    "duration": 9,
    "start_time": "2022-03-09T17:38:27.414Z"
   },
   {
    "duration": 25,
    "start_time": "2022-03-09T17:38:27.425Z"
   },
   {
    "duration": 48,
    "start_time": "2022-03-09T17:38:27.452Z"
   },
   {
    "duration": 24,
    "start_time": "2022-03-09T17:38:27.503Z"
   },
   {
    "duration": 6,
    "start_time": "2022-03-09T17:38:27.529Z"
   },
   {
    "duration": 4,
    "start_time": "2022-03-09T17:38:27.538Z"
   },
   {
    "duration": 42,
    "start_time": "2022-03-09T17:38:27.545Z"
   },
   {
    "duration": 7,
    "start_time": "2022-03-09T17:38:27.589Z"
   },
   {
    "duration": 8,
    "start_time": "2022-03-09T17:38:27.598Z"
   },
   {
    "duration": 25,
    "start_time": "2022-03-09T17:38:27.608Z"
   },
   {
    "duration": 79,
    "start_time": "2022-03-09T17:38:27.636Z"
   },
   {
    "duration": 6,
    "start_time": "2022-03-09T17:38:27.718Z"
   },
   {
    "duration": 20,
    "start_time": "2022-03-09T17:38:27.726Z"
   },
   {
    "duration": 10,
    "start_time": "2022-03-09T17:38:27.751Z"
   },
   {
    "duration": 26,
    "start_time": "2022-03-09T17:38:27.789Z"
   },
   {
    "duration": 5,
    "start_time": "2022-03-09T17:38:27.817Z"
   },
   {
    "duration": 26,
    "start_time": "2022-03-09T17:38:27.824Z"
   },
   {
    "duration": 34,
    "start_time": "2022-03-09T17:38:27.853Z"
   },
   {
    "duration": 18,
    "start_time": "2022-03-09T17:38:27.890Z"
   },
   {
    "duration": 6,
    "start_time": "2022-03-09T17:38:27.911Z"
   },
   {
    "duration": 25,
    "start_time": "2022-03-09T17:38:27.920Z"
   },
   {
    "duration": 4,
    "start_time": "2022-03-09T17:38:27.948Z"
   },
   {
    "duration": 63,
    "start_time": "2022-03-09T17:38:27.955Z"
   },
   {
    "duration": 7,
    "start_time": "2022-03-09T17:38:28.020Z"
   },
   {
    "duration": 23,
    "start_time": "2022-03-09T17:38:28.029Z"
   },
   {
    "duration": 50,
    "start_time": "2022-03-09T17:38:28.055Z"
   },
   {
    "duration": 3,
    "start_time": "2022-03-09T17:38:28.107Z"
   },
   {
    "duration": 5,
    "start_time": "2022-03-09T17:38:28.113Z"
   },
   {
    "duration": 19,
    "start_time": "2022-03-09T17:38:28.120Z"
   },
   {
    "duration": 49,
    "start_time": "2022-03-09T17:38:28.142Z"
   },
   {
    "duration": 33,
    "start_time": "2022-03-09T17:38:28.193Z"
   },
   {
    "duration": 23,
    "start_time": "2022-03-09T17:38:28.228Z"
   },
   {
    "duration": 423,
    "start_time": "2022-03-09T17:38:28.254Z"
   },
   {
    "duration": 35,
    "start_time": "2022-03-09T17:38:28.679Z"
   },
   {
    "duration": 22,
    "start_time": "2022-03-09T17:38:28.716Z"
   },
   {
    "duration": 89,
    "start_time": "2022-03-09T17:38:28.740Z"
   },
   {
    "duration": 1022,
    "start_time": "2022-03-09T17:38:27.809Z"
   },
   {
    "duration": 800,
    "start_time": "2022-03-09T17:46:10.824Z"
   },
   {
    "duration": 14,
    "start_time": "2022-03-09T17:46:11.627Z"
   },
   {
    "duration": 21,
    "start_time": "2022-03-09T17:46:11.644Z"
   },
   {
    "duration": 21,
    "start_time": "2022-03-09T17:46:11.667Z"
   },
   {
    "duration": 15,
    "start_time": "2022-03-09T17:46:11.690Z"
   },
   {
    "duration": 102,
    "start_time": "2022-03-09T17:46:11.707Z"
   },
   {
    "duration": 9,
    "start_time": "2022-03-09T17:46:11.812Z"
   },
   {
    "duration": 38,
    "start_time": "2022-03-09T17:46:11.825Z"
   },
   {
    "duration": 24,
    "start_time": "2022-03-09T17:46:11.866Z"
   },
   {
    "duration": 12,
    "start_time": "2022-03-09T17:46:11.893Z"
   },
   {
    "duration": 40,
    "start_time": "2022-03-09T17:46:11.907Z"
   },
   {
    "duration": 15,
    "start_time": "2022-03-09T17:46:11.950Z"
   },
   {
    "duration": 42,
    "start_time": "2022-03-09T17:46:11.967Z"
   },
   {
    "duration": 6,
    "start_time": "2022-03-09T17:46:12.012Z"
   },
   {
    "duration": 27,
    "start_time": "2022-03-09T17:46:12.020Z"
   },
   {
    "duration": 18,
    "start_time": "2022-03-09T17:46:12.050Z"
   },
   {
    "duration": 13,
    "start_time": "2022-03-09T17:46:12.070Z"
   },
   {
    "duration": 8,
    "start_time": "2022-03-09T17:46:12.085Z"
   },
   {
    "duration": 31,
    "start_time": "2022-03-09T17:46:12.095Z"
   },
   {
    "duration": 43,
    "start_time": "2022-03-09T17:46:12.128Z"
   },
   {
    "duration": 19,
    "start_time": "2022-03-09T17:46:12.173Z"
   },
   {
    "duration": 15,
    "start_time": "2022-03-09T17:46:12.194Z"
   },
   {
    "duration": 9,
    "start_time": "2022-03-09T17:46:12.214Z"
   },
   {
    "duration": 25,
    "start_time": "2022-03-09T17:46:12.226Z"
   },
   {
    "duration": 4,
    "start_time": "2022-03-09T17:46:12.288Z"
   },
   {
    "duration": 27,
    "start_time": "2022-03-09T17:46:12.295Z"
   },
   {
    "duration": 4,
    "start_time": "2022-03-09T17:46:12.325Z"
   },
   {
    "duration": 15,
    "start_time": "2022-03-09T17:46:12.331Z"
   },
   {
    "duration": 5,
    "start_time": "2022-03-09T17:46:12.349Z"
   },
   {
    "duration": 23,
    "start_time": "2022-03-09T17:46:12.387Z"
   },
   {
    "duration": 5,
    "start_time": "2022-03-09T17:46:12.412Z"
   },
   {
    "duration": 69,
    "start_time": "2022-03-09T17:46:12.419Z"
   },
   {
    "duration": 7,
    "start_time": "2022-03-09T17:46:12.490Z"
   },
   {
    "duration": 22,
    "start_time": "2022-03-09T17:46:12.499Z"
   },
   {
    "duration": 22,
    "start_time": "2022-03-09T17:46:12.523Z"
   },
   {
    "duration": 3,
    "start_time": "2022-03-09T17:46:12.548Z"
   },
   {
    "duration": 37,
    "start_time": "2022-03-09T17:46:12.553Z"
   },
   {
    "duration": 16,
    "start_time": "2022-03-09T17:46:12.593Z"
   },
   {
    "duration": 15,
    "start_time": "2022-03-09T17:46:12.612Z"
   },
   {
    "duration": 76,
    "start_time": "2022-03-09T17:46:12.629Z"
   },
   {
    "duration": 20,
    "start_time": "2022-03-09T17:46:12.708Z"
   },
   {
    "duration": 414,
    "start_time": "2022-03-09T17:46:12.731Z"
   },
   {
    "duration": 42,
    "start_time": "2022-03-09T17:46:13.147Z"
   },
   {
    "duration": 21,
    "start_time": "2022-03-09T17:46:13.191Z"
   },
   {
    "duration": 95,
    "start_time": "2022-03-09T17:46:13.214Z"
   },
   {
    "duration": 1006,
    "start_time": "2022-03-09T17:46:12.305Z"
   },
   {
    "duration": 818,
    "start_time": "2022-03-09T17:47:20.218Z"
   },
   {
    "duration": 18,
    "start_time": "2022-03-09T17:47:21.040Z"
   },
   {
    "duration": 15,
    "start_time": "2022-03-09T17:47:21.086Z"
   },
   {
    "duration": 17,
    "start_time": "2022-03-09T17:47:21.104Z"
   },
   {
    "duration": 17,
    "start_time": "2022-03-09T17:47:21.124Z"
   },
   {
    "duration": 103,
    "start_time": "2022-03-09T17:47:21.144Z"
   },
   {
    "duration": 9,
    "start_time": "2022-03-09T17:47:21.249Z"
   },
   {
    "duration": 35,
    "start_time": "2022-03-09T17:47:21.262Z"
   },
   {
    "duration": 8,
    "start_time": "2022-03-09T17:47:21.300Z"
   },
   {
    "duration": 14,
    "start_time": "2022-03-09T17:47:21.310Z"
   },
   {
    "duration": 9,
    "start_time": "2022-03-09T17:47:21.326Z"
   },
   {
    "duration": 70,
    "start_time": "2022-03-09T17:47:21.338Z"
   },
   {
    "duration": 17,
    "start_time": "2022-03-09T17:47:21.411Z"
   },
   {
    "duration": 26,
    "start_time": "2022-03-09T17:47:21.431Z"
   },
   {
    "duration": 6,
    "start_time": "2022-03-09T17:47:21.488Z"
   },
   {
    "duration": 15,
    "start_time": "2022-03-09T17:47:21.496Z"
   },
   {
    "duration": 12,
    "start_time": "2022-03-09T17:47:21.513Z"
   },
   {
    "duration": 11,
    "start_time": "2022-03-09T17:47:21.527Z"
   },
   {
    "duration": 12,
    "start_time": "2022-03-09T17:47:21.540Z"
   },
   {
    "duration": 45,
    "start_time": "2022-03-09T17:47:21.554Z"
   },
   {
    "duration": 45,
    "start_time": "2022-03-09T17:47:21.602Z"
   },
   {
    "duration": 7,
    "start_time": "2022-03-09T17:47:21.650Z"
   },
   {
    "duration": 19,
    "start_time": "2022-03-09T17:47:21.694Z"
   },
   {
    "duration": 25,
    "start_time": "2022-03-09T17:47:21.718Z"
   },
   {
    "duration": 47,
    "start_time": "2022-03-09T17:47:21.746Z"
   },
   {
    "duration": 6,
    "start_time": "2022-03-09T17:47:21.795Z"
   },
   {
    "duration": 28,
    "start_time": "2022-03-09T17:47:21.803Z"
   },
   {
    "duration": 7,
    "start_time": "2022-03-09T17:47:21.833Z"
   },
   {
    "duration": 14,
    "start_time": "2022-03-09T17:47:21.843Z"
   },
   {
    "duration": 5,
    "start_time": "2022-03-09T17:47:21.887Z"
   },
   {
    "duration": 32,
    "start_time": "2022-03-09T17:47:21.894Z"
   },
   {
    "duration": 5,
    "start_time": "2022-03-09T17:47:21.929Z"
   },
   {
    "duration": 61,
    "start_time": "2022-03-09T17:47:21.937Z"
   },
   {
    "duration": 6,
    "start_time": "2022-03-09T17:47:22.001Z"
   },
   {
    "duration": 23,
    "start_time": "2022-03-09T17:47:22.009Z"
   },
   {
    "duration": 31,
    "start_time": "2022-03-09T17:47:22.034Z"
   },
   {
    "duration": 19,
    "start_time": "2022-03-09T17:47:22.068Z"
   },
   {
    "duration": 4,
    "start_time": "2022-03-09T17:47:22.090Z"
   },
   {
    "duration": 15,
    "start_time": "2022-03-09T17:47:22.097Z"
   },
   {
    "duration": 13,
    "start_time": "2022-03-09T17:47:22.114Z"
   },
   {
    "duration": 65,
    "start_time": "2022-03-09T17:47:22.130Z"
   },
   {
    "duration": 21,
    "start_time": "2022-03-09T17:47:22.197Z"
   },
   {
    "duration": 416,
    "start_time": "2022-03-09T17:47:22.221Z"
   },
   {
    "duration": 27,
    "start_time": "2022-03-09T17:47:22.640Z"
   },
   {
    "duration": 33,
    "start_time": "2022-03-09T17:47:22.670Z"
   },
   {
    "duration": 83,
    "start_time": "2022-03-09T17:47:22.706Z"
   },
   {
    "duration": 1005,
    "start_time": "2022-03-09T17:47:21.786Z"
   },
   {
    "duration": 12,
    "start_time": "2022-03-09T17:47:53.798Z"
   },
   {
    "duration": 7,
    "start_time": "2022-03-09T17:48:05.255Z"
   },
   {
    "duration": 7,
    "start_time": "2022-03-09T17:48:39.306Z"
   },
   {
    "duration": 8,
    "start_time": "2022-03-09T17:48:41.816Z"
   },
   {
    "duration": 79,
    "start_time": "2022-03-09T17:49:44.900Z"
   },
   {
    "duration": 7,
    "start_time": "2022-03-09T17:50:06.907Z"
   },
   {
    "duration": 26,
    "start_time": "2022-03-09T17:50:17.901Z"
   },
   {
    "duration": 986,
    "start_time": "2022-03-09T17:53:16.639Z"
   },
   {
    "duration": 848,
    "start_time": "2022-03-09T17:53:30.971Z"
   },
   {
    "duration": 14,
    "start_time": "2022-03-09T17:53:31.822Z"
   },
   {
    "duration": 20,
    "start_time": "2022-03-09T17:53:31.839Z"
   },
   {
    "duration": 27,
    "start_time": "2022-03-09T17:53:31.862Z"
   },
   {
    "duration": 11,
    "start_time": "2022-03-09T17:53:31.891Z"
   },
   {
    "duration": 103,
    "start_time": "2022-03-09T17:53:31.904Z"
   },
   {
    "duration": 9,
    "start_time": "2022-03-09T17:53:32.009Z"
   },
   {
    "duration": 37,
    "start_time": "2022-03-09T17:53:32.021Z"
   },
   {
    "duration": 6,
    "start_time": "2022-03-09T17:53:32.061Z"
   },
   {
    "duration": 6955,
    "start_time": "2022-03-09T17:53:32.088Z"
   },
   {
    "duration": 995,
    "start_time": "2022-03-09T17:53:38.052Z"
   },
   {
    "duration": 994,
    "start_time": "2022-03-09T17:53:38.055Z"
   },
   {
    "duration": 988,
    "start_time": "2022-03-09T17:53:38.062Z"
   },
   {
    "duration": 989,
    "start_time": "2022-03-09T17:53:38.063Z"
   },
   {
    "duration": 984,
    "start_time": "2022-03-09T17:53:38.069Z"
   },
   {
    "duration": 984,
    "start_time": "2022-03-09T17:53:38.070Z"
   },
   {
    "duration": 983,
    "start_time": "2022-03-09T17:53:38.072Z"
   },
   {
    "duration": 984,
    "start_time": "2022-03-09T17:53:38.073Z"
   },
   {
    "duration": 984,
    "start_time": "2022-03-09T17:53:38.075Z"
   },
   {
    "duration": 983,
    "start_time": "2022-03-09T17:53:38.077Z"
   },
   {
    "duration": 982,
    "start_time": "2022-03-09T17:53:38.079Z"
   },
   {
    "duration": 983,
    "start_time": "2022-03-09T17:53:38.080Z"
   },
   {
    "duration": 982,
    "start_time": "2022-03-09T17:53:38.082Z"
   },
   {
    "duration": 982,
    "start_time": "2022-03-09T17:53:38.083Z"
   },
   {
    "duration": 982,
    "start_time": "2022-03-09T17:53:38.085Z"
   },
   {
    "duration": 978,
    "start_time": "2022-03-09T17:53:38.091Z"
   },
   {
    "duration": 977,
    "start_time": "2022-03-09T17:53:38.093Z"
   },
   {
    "duration": 977,
    "start_time": "2022-03-09T17:53:38.095Z"
   },
   {
    "duration": 976,
    "start_time": "2022-03-09T17:53:38.097Z"
   },
   {
    "duration": 976,
    "start_time": "2022-03-09T17:53:38.098Z"
   },
   {
    "duration": 976,
    "start_time": "2022-03-09T17:53:38.100Z"
   },
   {
    "duration": 976,
    "start_time": "2022-03-09T17:53:38.101Z"
   },
   {
    "duration": 975,
    "start_time": "2022-03-09T17:53:38.103Z"
   },
   {
    "duration": 976,
    "start_time": "2022-03-09T17:53:38.104Z"
   },
   {
    "duration": 971,
    "start_time": "2022-03-09T17:53:38.110Z"
   },
   {
    "duration": 971,
    "start_time": "2022-03-09T17:53:38.111Z"
   },
   {
    "duration": 973,
    "start_time": "2022-03-09T17:53:38.113Z"
   },
   {
    "duration": 973,
    "start_time": "2022-03-09T17:53:38.115Z"
   },
   {
    "duration": 973,
    "start_time": "2022-03-09T17:53:38.116Z"
   },
   {
    "duration": 969,
    "start_time": "2022-03-09T17:53:38.121Z"
   },
   {
    "duration": 967,
    "start_time": "2022-03-09T17:53:38.124Z"
   },
   {
    "duration": 967,
    "start_time": "2022-03-09T17:53:38.126Z"
   },
   {
    "duration": 967,
    "start_time": "2022-03-09T17:53:38.127Z"
   },
   {
    "duration": 966,
    "start_time": "2022-03-09T17:53:38.129Z"
   },
   {
    "duration": 966,
    "start_time": "2022-03-09T17:53:38.131Z"
   },
   {
    "duration": 966,
    "start_time": "2022-03-09T17:53:38.132Z"
   },
   {
    "duration": 966,
    "start_time": "2022-03-09T17:53:38.133Z"
   },
   {
    "duration": 8,
    "start_time": "2022-03-09T17:53:41.812Z"
   },
   {
    "duration": 18,
    "start_time": "2022-03-09T17:53:46.897Z"
   },
   {
    "duration": 38,
    "start_time": "2022-03-09T17:54:06.587Z"
   },
   {
    "duration": 940,
    "start_time": "2022-03-09T17:54:51.351Z"
   },
   {
    "duration": 15,
    "start_time": "2022-03-09T17:54:52.294Z"
   },
   {
    "duration": 13,
    "start_time": "2022-03-09T17:54:52.312Z"
   },
   {
    "duration": 5,
    "start_time": "2022-03-09T17:54:52.328Z"
   },
   {
    "duration": 15,
    "start_time": "2022-03-09T17:54:52.335Z"
   },
   {
    "duration": 116,
    "start_time": "2022-03-09T17:54:52.352Z"
   },
   {
    "duration": 23,
    "start_time": "2022-03-09T17:54:52.471Z"
   },
   {
    "duration": 28,
    "start_time": "2022-03-09T17:54:52.500Z"
   },
   {
    "duration": 6,
    "start_time": "2022-03-09T17:54:52.532Z"
   },
   {
    "duration": 68,
    "start_time": "2022-03-09T17:54:52.540Z"
   },
   {
    "duration": 5,
    "start_time": "2022-03-09T17:54:52.611Z"
   },
   {
    "duration": 27,
    "start_time": "2022-03-09T17:54:52.619Z"
   },
   {
    "duration": 44,
    "start_time": "2022-03-09T17:54:52.648Z"
   },
   {
    "duration": 24,
    "start_time": "2022-03-09T17:54:52.695Z"
   },
   {
    "duration": 6,
    "start_time": "2022-03-09T17:54:52.721Z"
   },
   {
    "duration": 9,
    "start_time": "2022-03-09T17:54:52.729Z"
   },
   {
    "duration": 12,
    "start_time": "2022-03-09T17:54:52.740Z"
   },
   {
    "duration": 35,
    "start_time": "2022-03-09T17:54:52.754Z"
   },
   {
    "duration": 9,
    "start_time": "2022-03-09T17:54:52.791Z"
   },
   {
    "duration": 33,
    "start_time": "2022-03-09T17:54:52.802Z"
   },
   {
    "duration": 59,
    "start_time": "2022-03-09T17:54:52.838Z"
   },
   {
    "duration": 6,
    "start_time": "2022-03-09T17:54:52.899Z"
   },
   {
    "duration": 18,
    "start_time": "2022-03-09T17:54:52.910Z"
   },
   {
    "duration": 16,
    "start_time": "2022-03-09T17:54:52.931Z"
   },
   {
    "duration": 54,
    "start_time": "2022-03-09T17:54:52.950Z"
   },
   {
    "duration": 5,
    "start_time": "2022-03-09T17:54:53.007Z"
   },
   {
    "duration": 28,
    "start_time": "2022-03-09T17:54:53.015Z"
   },
   {
    "duration": 10,
    "start_time": "2022-03-09T17:54:53.045Z"
   },
   {
    "duration": 33,
    "start_time": "2022-03-09T17:54:53.057Z"
   },
   {
    "duration": 6,
    "start_time": "2022-03-09T17:54:53.093Z"
   },
   {
    "duration": 36,
    "start_time": "2022-03-09T17:54:53.102Z"
   },
   {
    "duration": 6,
    "start_time": "2022-03-09T17:54:53.140Z"
   },
   {
    "duration": 67,
    "start_time": "2022-03-09T17:54:53.148Z"
   },
   {
    "duration": 7,
    "start_time": "2022-03-09T17:54:53.218Z"
   },
   {
    "duration": 29,
    "start_time": "2022-03-09T17:54:53.227Z"
   },
   {
    "duration": 46,
    "start_time": "2022-03-09T17:54:53.259Z"
   },
   {
    "duration": 3,
    "start_time": "2022-03-09T17:54:53.308Z"
   },
   {
    "duration": 8,
    "start_time": "2022-03-09T17:54:53.313Z"
   },
   {
    "duration": 14,
    "start_time": "2022-03-09T17:54:53.323Z"
   },
   {
    "duration": 19,
    "start_time": "2022-03-09T17:54:53.339Z"
   },
   {
    "duration": 56,
    "start_time": "2022-03-09T17:54:53.360Z"
   },
   {
    "duration": 23,
    "start_time": "2022-03-09T17:54:53.419Z"
   },
   {
    "duration": 435,
    "start_time": "2022-03-09T17:54:53.445Z"
   },
   {
    "duration": 27,
    "start_time": "2022-03-09T17:54:53.886Z"
   },
   {
    "duration": 23,
    "start_time": "2022-03-09T17:54:53.915Z"
   },
   {
    "duration": 91,
    "start_time": "2022-03-09T17:54:53.940Z"
   },
   {
    "duration": 996,
    "start_time": "2022-03-09T17:54:53.037Z"
   },
   {
    "duration": 828,
    "start_time": "2022-03-09T17:58:43.239Z"
   },
   {
    "duration": 20,
    "start_time": "2022-03-09T17:58:44.070Z"
   },
   {
    "duration": 16,
    "start_time": "2022-03-09T17:58:44.094Z"
   },
   {
    "duration": 5,
    "start_time": "2022-03-09T17:58:44.113Z"
   },
   {
    "duration": 9,
    "start_time": "2022-03-09T17:58:44.120Z"
   },
   {
    "duration": 130,
    "start_time": "2022-03-09T17:58:44.131Z"
   },
   {
    "duration": 9,
    "start_time": "2022-03-09T17:58:44.263Z"
   },
   {
    "duration": 36,
    "start_time": "2022-03-09T17:58:44.276Z"
   },
   {
    "duration": 6,
    "start_time": "2022-03-09T17:58:44.315Z"
   },
   {
    "duration": 38,
    "start_time": "2022-03-09T17:58:44.324Z"
   },
   {
    "duration": 25,
    "start_time": "2022-03-09T17:58:44.365Z"
   },
   {
    "duration": 32,
    "start_time": "2022-03-09T17:58:44.393Z"
   },
   {
    "duration": 15,
    "start_time": "2022-03-09T17:58:44.428Z"
   },
   {
    "duration": 62,
    "start_time": "2022-03-09T17:58:44.445Z"
   },
   {
    "duration": 6,
    "start_time": "2022-03-09T17:58:44.509Z"
   },
   {
    "duration": 5,
    "start_time": "2022-03-09T17:58:44.517Z"
   },
   {
    "duration": 8,
    "start_time": "2022-03-09T17:58:44.525Z"
   },
   {
    "duration": 8,
    "start_time": "2022-03-09T17:58:44.535Z"
   },
   {
    "duration": 16,
    "start_time": "2022-03-09T17:58:44.545Z"
   },
   {
    "duration": 50,
    "start_time": "2022-03-09T17:58:44.563Z"
   },
   {
    "duration": 44,
    "start_time": "2022-03-09T17:58:44.616Z"
   },
   {
    "duration": 35,
    "start_time": "2022-03-09T17:58:44.662Z"
   },
   {
    "duration": 17,
    "start_time": "2022-03-09T17:58:44.702Z"
   },
   {
    "duration": 14,
    "start_time": "2022-03-09T17:58:44.722Z"
   },
   {
    "duration": 49,
    "start_time": "2022-03-09T17:58:44.738Z"
   },
   {
    "duration": 6,
    "start_time": "2022-03-09T17:58:44.797Z"
   },
   {
    "duration": 31,
    "start_time": "2022-03-09T17:58:44.805Z"
   },
   {
    "duration": 5,
    "start_time": "2022-03-09T17:58:44.839Z"
   },
   {
    "duration": 14,
    "start_time": "2022-03-09T17:58:44.846Z"
   },
   {
    "duration": 27,
    "start_time": "2022-03-09T17:58:44.862Z"
   },
   {
    "duration": 31,
    "start_time": "2022-03-09T17:58:44.901Z"
   },
   {
    "duration": 8,
    "start_time": "2022-03-09T17:58:44.934Z"
   },
   {
    "duration": 57,
    "start_time": "2022-03-09T17:58:44.944Z"
   },
   {
    "duration": 6,
    "start_time": "2022-03-09T17:58:45.004Z"
   },
   {
    "duration": 35,
    "start_time": "2022-03-09T17:58:45.013Z"
   },
   {
    "duration": 44,
    "start_time": "2022-03-09T17:58:45.051Z"
   },
   {
    "duration": 3,
    "start_time": "2022-03-09T17:58:45.098Z"
   },
   {
    "duration": 8,
    "start_time": "2022-03-09T17:58:45.104Z"
   },
   {
    "duration": 19,
    "start_time": "2022-03-09T17:58:45.115Z"
   },
   {
    "duration": 19,
    "start_time": "2022-03-09T17:58:45.137Z"
   },
   {
    "duration": 55,
    "start_time": "2022-03-09T17:58:45.159Z"
   },
   {
    "duration": 22,
    "start_time": "2022-03-09T17:58:45.217Z"
   },
   {
    "duration": 436,
    "start_time": "2022-03-09T17:58:45.241Z"
   },
   {
    "duration": 41,
    "start_time": "2022-03-09T17:58:45.679Z"
   },
   {
    "duration": 24,
    "start_time": "2022-03-09T17:58:45.723Z"
   },
   {
    "duration": 95,
    "start_time": "2022-03-09T17:58:45.750Z"
   },
   {
    "duration": 994,
    "start_time": "2022-03-09T17:58:44.855Z"
   },
   {
    "duration": 28,
    "start_time": "2022-03-09T18:03:57.899Z"
   },
   {
    "duration": 28,
    "start_time": "2022-03-09T18:11:17.651Z"
   },
   {
    "duration": 872,
    "start_time": "2022-03-09T18:12:01.913Z"
   },
   {
    "duration": 21,
    "start_time": "2022-03-09T18:12:02.788Z"
   },
   {
    "duration": 11,
    "start_time": "2022-03-09T18:12:02.812Z"
   },
   {
    "duration": 9,
    "start_time": "2022-03-09T18:12:02.826Z"
   },
   {
    "duration": 13,
    "start_time": "2022-03-09T18:12:02.837Z"
   },
   {
    "duration": 119,
    "start_time": "2022-03-09T18:12:02.852Z"
   },
   {
    "duration": 22,
    "start_time": "2022-03-09T18:12:02.973Z"
   },
   {
    "duration": 28,
    "start_time": "2022-03-09T18:12:03.000Z"
   },
   {
    "duration": 8,
    "start_time": "2022-03-09T18:12:03.032Z"
   },
   {
    "duration": 65,
    "start_time": "2022-03-09T18:12:03.042Z"
   },
   {
    "duration": 35,
    "start_time": "2022-03-09T18:12:03.109Z"
   },
   {
    "duration": 65,
    "start_time": "2022-03-09T18:12:03.146Z"
   },
   {
    "duration": 7,
    "start_time": "2022-03-09T18:12:03.213Z"
   },
   {
    "duration": 25,
    "start_time": "2022-03-09T18:12:03.222Z"
   },
   {
    "duration": 48,
    "start_time": "2022-03-09T18:12:03.249Z"
   },
   {
    "duration": 26,
    "start_time": "2022-03-09T18:12:03.300Z"
   },
   {
    "duration": 6,
    "start_time": "2022-03-09T18:12:03.329Z"
   },
   {
    "duration": 6,
    "start_time": "2022-03-09T18:12:03.337Z"
   },
   {
    "duration": 45,
    "start_time": "2022-03-09T18:12:03.345Z"
   },
   {
    "duration": 15,
    "start_time": "2022-03-09T18:12:03.396Z"
   },
   {
    "duration": 9,
    "start_time": "2022-03-09T18:12:03.413Z"
   },
   {
    "duration": 28,
    "start_time": "2022-03-09T18:12:03.425Z"
   },
   {
    "duration": 73,
    "start_time": "2022-03-09T18:12:03.458Z"
   },
   {
    "duration": 5,
    "start_time": "2022-03-09T18:12:03.534Z"
   },
   {
    "duration": 27,
    "start_time": "2022-03-09T18:12:03.542Z"
   },
   {
    "duration": 27,
    "start_time": "2022-03-09T18:12:03.571Z"
   },
   {
    "duration": 35,
    "start_time": "2022-03-09T18:12:03.601Z"
   },
   {
    "duration": 13,
    "start_time": "2022-03-09T18:12:03.639Z"
   },
   {
    "duration": 41,
    "start_time": "2022-03-09T18:12:03.654Z"
   },
   {
    "duration": 9,
    "start_time": "2022-03-09T18:12:03.697Z"
   },
   {
    "duration": 21,
    "start_time": "2022-03-09T18:12:03.708Z"
   },
   {
    "duration": 13,
    "start_time": "2022-03-09T18:12:03.740Z"
   },
   {
    "duration": 34,
    "start_time": "2022-03-09T18:12:03.756Z"
   },
   {
    "duration": 11,
    "start_time": "2022-03-09T18:12:03.792Z"
   },
   {
    "duration": 42,
    "start_time": "2022-03-09T18:12:03.806Z"
   },
   {
    "duration": 7,
    "start_time": "2022-03-09T18:12:03.851Z"
   },
   {
    "duration": 51,
    "start_time": "2022-03-09T18:12:03.860Z"
   },
   {
    "duration": 25,
    "start_time": "2022-03-09T18:12:03.913Z"
   },
   {
    "duration": 4,
    "start_time": "2022-03-09T18:12:03.940Z"
   },
   {
    "duration": 13,
    "start_time": "2022-03-09T18:12:03.947Z"
   },
   {
    "duration": 39,
    "start_time": "2022-03-09T18:12:03.963Z"
   },
   {
    "duration": 19,
    "start_time": "2022-03-09T18:12:04.004Z"
   },
   {
    "duration": 31,
    "start_time": "2022-03-09T18:12:04.025Z"
   },
   {
    "duration": 65,
    "start_time": "2022-03-09T18:12:04.059Z"
   },
   {
    "duration": 415,
    "start_time": "2022-03-09T18:12:04.126Z"
   },
   {
    "duration": 27,
    "start_time": "2022-03-09T18:12:04.543Z"
   },
   {
    "duration": 39,
    "start_time": "2022-03-09T18:12:04.572Z"
   },
   {
    "duration": 93,
    "start_time": "2022-03-09T18:12:04.614Z"
   },
   {
    "duration": 985,
    "start_time": "2022-03-09T18:12:03.725Z"
   },
   {
    "duration": 10,
    "start_time": "2022-03-09T18:20:19.980Z"
   },
   {
    "duration": 862,
    "start_time": "2022-03-09T18:20:57.762Z"
   },
   {
    "duration": 14,
    "start_time": "2022-03-09T18:20:58.627Z"
   },
   {
    "duration": 12,
    "start_time": "2022-03-09T18:20:58.644Z"
   },
   {
    "duration": 36,
    "start_time": "2022-03-09T18:20:58.659Z"
   },
   {
    "duration": 15,
    "start_time": "2022-03-09T18:20:58.698Z"
   },
   {
    "duration": 100,
    "start_time": "2022-03-09T18:20:58.715Z"
   },
   {
    "duration": 9,
    "start_time": "2022-03-09T18:20:58.818Z"
   },
   {
    "duration": 18,
    "start_time": "2022-03-09T18:20:58.833Z"
   },
   {
    "duration": 41,
    "start_time": "2022-03-09T18:20:58.854Z"
   },
   {
    "duration": 50,
    "start_time": "2022-03-09T18:20:58.897Z"
   },
   {
    "duration": 24,
    "start_time": "2022-03-09T18:20:58.950Z"
   },
   {
    "duration": 33,
    "start_time": "2022-03-09T18:20:58.976Z"
   },
   {
    "duration": 40,
    "start_time": "2022-03-09T18:20:59.012Z"
   },
   {
    "duration": 116,
    "start_time": "2022-03-09T18:20:59.055Z"
   },
   {
    "duration": 968,
    "start_time": "2022-03-09T18:20:58.206Z"
   },
   {
    "duration": 968,
    "start_time": "2022-03-09T18:20:58.208Z"
   },
   {
    "duration": 963,
    "start_time": "2022-03-09T18:20:58.214Z"
   },
   {
    "duration": 964,
    "start_time": "2022-03-09T18:20:58.215Z"
   },
   {
    "duration": 963,
    "start_time": "2022-03-09T18:20:58.217Z"
   },
   {
    "duration": 959,
    "start_time": "2022-03-09T18:20:58.222Z"
   },
   {
    "duration": 958,
    "start_time": "2022-03-09T18:20:58.225Z"
   },
   {
    "duration": 957,
    "start_time": "2022-03-09T18:20:58.227Z"
   },
   {
    "duration": 957,
    "start_time": "2022-03-09T18:20:58.228Z"
   },
   {
    "duration": 957,
    "start_time": "2022-03-09T18:20:58.230Z"
   },
   {
    "duration": 957,
    "start_time": "2022-03-09T18:20:58.231Z"
   },
   {
    "duration": 959,
    "start_time": "2022-03-09T18:20:58.233Z"
   },
   {
    "duration": 959,
    "start_time": "2022-03-09T18:20:58.239Z"
   },
   {
    "duration": 959,
    "start_time": "2022-03-09T18:20:58.241Z"
   },
   {
    "duration": 960,
    "start_time": "2022-03-09T18:20:58.243Z"
   },
   {
    "duration": 960,
    "start_time": "2022-03-09T18:20:58.244Z"
   },
   {
    "duration": 960,
    "start_time": "2022-03-09T18:20:58.246Z"
   },
   {
    "duration": 959,
    "start_time": "2022-03-09T18:20:58.248Z"
   },
   {
    "duration": 958,
    "start_time": "2022-03-09T18:20:58.250Z"
   },
   {
    "duration": 959,
    "start_time": "2022-03-09T18:20:58.251Z"
   },
   {
    "duration": 954,
    "start_time": "2022-03-09T18:20:58.257Z"
   },
   {
    "duration": 954,
    "start_time": "2022-03-09T18:20:58.259Z"
   },
   {
    "duration": 954,
    "start_time": "2022-03-09T18:20:58.261Z"
   },
   {
    "duration": 912,
    "start_time": "2022-03-09T18:20:58.304Z"
   },
   {
    "duration": 890,
    "start_time": "2022-03-09T18:20:58.328Z"
   },
   {
    "duration": 890,
    "start_time": "2022-03-09T18:20:58.330Z"
   },
   {
    "duration": 889,
    "start_time": "2022-03-09T18:20:58.333Z"
   },
   {
    "duration": 889,
    "start_time": "2022-03-09T18:20:58.335Z"
   },
   {
    "duration": 888,
    "start_time": "2022-03-09T18:20:58.337Z"
   },
   {
    "duration": 873,
    "start_time": "2022-03-09T18:20:58.354Z"
   },
   {
    "duration": 873,
    "start_time": "2022-03-09T18:20:58.356Z"
   },
   {
    "duration": 929,
    "start_time": "2022-03-09T18:20:58.357Z"
   },
   {
    "duration": 928,
    "start_time": "2022-03-09T18:20:58.359Z"
   },
   {
    "duration": 928,
    "start_time": "2022-03-09T18:20:58.361Z"
   },
   {
    "duration": 927,
    "start_time": "2022-03-09T18:20:58.363Z"
   },
   {
    "duration": 926,
    "start_time": "2022-03-09T18:20:58.365Z"
   },
   {
    "duration": 926,
    "start_time": "2022-03-09T18:20:58.367Z"
   },
   {
    "duration": 847,
    "start_time": "2022-03-09T18:23:49.759Z"
   },
   {
    "duration": 15,
    "start_time": "2022-03-09T18:23:50.608Z"
   },
   {
    "duration": 11,
    "start_time": "2022-03-09T18:23:50.629Z"
   },
   {
    "duration": 6,
    "start_time": "2022-03-09T18:23:50.642Z"
   },
   {
    "duration": 40,
    "start_time": "2022-03-09T18:23:50.650Z"
   },
   {
    "duration": 97,
    "start_time": "2022-03-09T18:23:50.693Z"
   },
   {
    "duration": 9,
    "start_time": "2022-03-09T18:23:50.794Z"
   },
   {
    "duration": 25,
    "start_time": "2022-03-09T18:23:50.806Z"
   },
   {
    "duration": 10,
    "start_time": "2022-03-09T18:23:50.833Z"
   },
   {
    "duration": 64,
    "start_time": "2022-03-09T18:23:50.846Z"
   },
   {
    "duration": 9,
    "start_time": "2022-03-09T18:23:50.912Z"
   },
   {
    "duration": 9,
    "start_time": "2022-03-09T18:23:50.923Z"
   },
   {
    "duration": 59,
    "start_time": "2022-03-09T18:23:50.934Z"
   },
   {
    "duration": 92,
    "start_time": "2022-03-09T18:23:50.996Z"
   },
   {
    "duration": 892,
    "start_time": "2022-03-09T18:23:50.200Z"
   },
   {
    "duration": 889,
    "start_time": "2022-03-09T18:23:50.204Z"
   },
   {
    "duration": 887,
    "start_time": "2022-03-09T18:23:50.208Z"
   },
   {
    "duration": 884,
    "start_time": "2022-03-09T18:23:50.212Z"
   },
   {
    "duration": 882,
    "start_time": "2022-03-09T18:23:50.215Z"
   },
   {
    "duration": 882,
    "start_time": "2022-03-09T18:23:50.217Z"
   },
   {
    "duration": 881,
    "start_time": "2022-03-09T18:23:50.219Z"
   },
   {
    "duration": 880,
    "start_time": "2022-03-09T18:23:50.221Z"
   },
   {
    "duration": 879,
    "start_time": "2022-03-09T18:23:50.224Z"
   },
   {
    "duration": 878,
    "start_time": "2022-03-09T18:23:50.226Z"
   },
   {
    "duration": 877,
    "start_time": "2022-03-09T18:23:50.228Z"
   },
   {
    "duration": 876,
    "start_time": "2022-03-09T18:23:50.230Z"
   },
   {
    "duration": 876,
    "start_time": "2022-03-09T18:23:50.232Z"
   },
   {
    "duration": 875,
    "start_time": "2022-03-09T18:23:50.234Z"
   },
   {
    "duration": 874,
    "start_time": "2022-03-09T18:23:50.236Z"
   },
   {
    "duration": 873,
    "start_time": "2022-03-09T18:23:50.238Z"
   },
   {
    "duration": 873,
    "start_time": "2022-03-09T18:23:50.239Z"
   },
   {
    "duration": 864,
    "start_time": "2022-03-09T18:23:50.250Z"
   },
   {
    "duration": 863,
    "start_time": "2022-03-09T18:23:50.252Z"
   },
   {
    "duration": 863,
    "start_time": "2022-03-09T18:23:50.254Z"
   },
   {
    "duration": 862,
    "start_time": "2022-03-09T18:23:50.256Z"
   },
   {
    "duration": 861,
    "start_time": "2022-03-09T18:23:50.258Z"
   },
   {
    "duration": 862,
    "start_time": "2022-03-09T18:23:50.259Z"
   },
   {
    "duration": 861,
    "start_time": "2022-03-09T18:23:50.261Z"
   },
   {
    "duration": 861,
    "start_time": "2022-03-09T18:23:50.263Z"
   },
   {
    "duration": 860,
    "start_time": "2022-03-09T18:23:50.265Z"
   },
   {
    "duration": 860,
    "start_time": "2022-03-09T18:23:50.266Z"
   },
   {
    "duration": 860,
    "start_time": "2022-03-09T18:23:50.268Z"
   },
   {
    "duration": 860,
    "start_time": "2022-03-09T18:23:50.269Z"
   },
   {
    "duration": 915,
    "start_time": "2022-03-09T18:23:50.272Z"
   },
   {
    "duration": 915,
    "start_time": "2022-03-09T18:23:50.273Z"
   },
   {
    "duration": 914,
    "start_time": "2022-03-09T18:23:50.275Z"
   },
   {
    "duration": 912,
    "start_time": "2022-03-09T18:23:50.279Z"
   },
   {
    "duration": 912,
    "start_time": "2022-03-09T18:23:50.280Z"
   },
   {
    "duration": 912,
    "start_time": "2022-03-09T18:23:50.282Z"
   },
   {
    "duration": 905,
    "start_time": "2022-03-09T18:23:50.290Z"
   },
   {
    "duration": 904,
    "start_time": "2022-03-09T18:23:50.293Z"
   },
   {
    "duration": 902,
    "start_time": "2022-03-09T18:23:50.296Z"
   },
   {
    "duration": 842,
    "start_time": "2022-03-09T18:25:08.063Z"
   },
   {
    "duration": 15,
    "start_time": "2022-03-09T18:25:08.908Z"
   },
   {
    "duration": 14,
    "start_time": "2022-03-09T18:25:08.926Z"
   },
   {
    "duration": 6,
    "start_time": "2022-03-09T18:25:08.943Z"
   },
   {
    "duration": 48,
    "start_time": "2022-03-09T18:25:08.951Z"
   },
   {
    "duration": 94,
    "start_time": "2022-03-09T18:25:09.001Z"
   },
   {
    "duration": 10,
    "start_time": "2022-03-09T18:25:09.097Z"
   },
   {
    "duration": 17,
    "start_time": "2022-03-09T18:25:09.112Z"
   },
   {
    "duration": 9,
    "start_time": "2022-03-09T18:25:09.133Z"
   },
   {
    "duration": 73,
    "start_time": "2022-03-09T18:25:09.145Z"
   },
   {
    "duration": 9,
    "start_time": "2022-03-09T18:25:09.221Z"
   },
   {
    "duration": 12,
    "start_time": "2022-03-09T18:25:09.232Z"
   },
   {
    "duration": 53,
    "start_time": "2022-03-09T18:25:09.246Z"
   },
   {
    "duration": 11,
    "start_time": "2022-03-09T18:25:09.302Z"
   },
   {
    "duration": 7,
    "start_time": "2022-03-09T18:25:09.315Z"
   },
   {
    "duration": 12,
    "start_time": "2022-03-09T18:25:09.324Z"
   },
   {
    "duration": 49,
    "start_time": "2022-03-09T18:25:09.338Z"
   },
   {
    "duration": 15,
    "start_time": "2022-03-09T18:25:09.390Z"
   },
   {
    "duration": 24,
    "start_time": "2022-03-09T18:25:09.408Z"
   },
   {
    "duration": 6,
    "start_time": "2022-03-09T18:25:09.434Z"
   },
   {
    "duration": 7,
    "start_time": "2022-03-09T18:25:09.443Z"
   },
   {
    "duration": 38,
    "start_time": "2022-03-09T18:25:09.453Z"
   },
   {
    "duration": 5,
    "start_time": "2022-03-09T18:25:09.496Z"
   },
   {
    "duration": 13,
    "start_time": "2022-03-09T18:25:09.504Z"
   },
   {
    "duration": 36,
    "start_time": "2022-03-09T18:25:09.520Z"
   },
   {
    "duration": 64,
    "start_time": "2022-03-09T18:25:09.558Z"
   },
   {
    "duration": 6,
    "start_time": "2022-03-09T18:25:09.624Z"
   },
   {
    "duration": 20,
    "start_time": "2022-03-09T18:25:09.632Z"
   },
   {
    "duration": 37,
    "start_time": "2022-03-09T18:25:09.654Z"
   },
   {
    "duration": 26,
    "start_time": "2022-03-09T18:25:09.694Z"
   },
   {
    "duration": 6,
    "start_time": "2022-03-09T18:25:09.723Z"
   },
   {
    "duration": 24,
    "start_time": "2022-03-09T18:25:09.733Z"
   },
   {
    "duration": 27,
    "start_time": "2022-03-09T18:25:09.760Z"
   },
   {
    "duration": 19,
    "start_time": "2022-03-09T18:25:09.790Z"
   },
   {
    "duration": 7,
    "start_time": "2022-03-09T18:25:09.812Z"
   },
   {
    "duration": 31,
    "start_time": "2022-03-09T18:25:09.821Z"
   },
   {
    "duration": 5,
    "start_time": "2022-03-09T18:25:09.854Z"
   },
   {
    "duration": 38,
    "start_time": "2022-03-09T18:25:09.886Z"
   },
   {
    "duration": 12,
    "start_time": "2022-03-09T18:25:09.926Z"
   },
   {
    "duration": 50,
    "start_time": "2022-03-09T18:25:09.940Z"
   },
   {
    "duration": 21,
    "start_time": "2022-03-09T18:25:09.993Z"
   },
   {
    "duration": 11,
    "start_time": "2022-03-09T18:25:10.016Z"
   },
   {
    "duration": 7,
    "start_time": "2022-03-09T18:25:10.029Z"
   },
   {
    "duration": 18,
    "start_time": "2022-03-09T18:25:10.038Z"
   },
   {
    "duration": 36,
    "start_time": "2022-03-09T18:25:10.059Z"
   },
   {
    "duration": 41,
    "start_time": "2022-03-09T18:25:10.097Z"
   },
   {
    "duration": 21,
    "start_time": "2022-03-09T18:25:10.140Z"
   },
   {
    "duration": 408,
    "start_time": "2022-03-09T18:25:10.163Z"
   },
   {
    "duration": 37,
    "start_time": "2022-03-09T18:25:10.573Z"
   },
   {
    "duration": 21,
    "start_time": "2022-03-09T18:25:10.613Z"
   },
   {
    "duration": 86,
    "start_time": "2022-03-09T18:25:10.636Z"
   },
   {
    "duration": 966,
    "start_time": "2022-03-09T18:25:09.759Z"
   },
   {
    "duration": 817,
    "start_time": "2022-03-09T18:29:41.430Z"
   },
   {
    "duration": 229,
    "start_time": "2022-03-09T18:29:42.249Z"
   },
   {
    "duration": 13,
    "start_time": "2022-03-09T18:29:42.480Z"
   },
   {
    "duration": 5,
    "start_time": "2022-03-09T18:29:42.496Z"
   },
   {
    "duration": 12,
    "start_time": "2022-03-09T18:29:42.504Z"
   },
   {
    "duration": 120,
    "start_time": "2022-03-09T18:29:42.519Z"
   },
   {
    "duration": 9,
    "start_time": "2022-03-09T18:29:42.642Z"
   },
   {
    "duration": 40,
    "start_time": "2022-03-09T18:29:42.655Z"
   },
   {
    "duration": 6,
    "start_time": "2022-03-09T18:29:42.699Z"
   },
   {
    "duration": 37,
    "start_time": "2022-03-09T18:29:42.708Z"
   },
   {
    "duration": 9,
    "start_time": "2022-03-09T18:29:42.748Z"
   },
   {
    "duration": 6,
    "start_time": "2022-03-09T18:29:42.788Z"
   },
   {
    "duration": 38,
    "start_time": "2022-03-09T18:29:42.796Z"
   },
   {
    "duration": 7,
    "start_time": "2022-03-09T18:29:42.836Z"
   },
   {
    "duration": 5,
    "start_time": "2022-03-09T18:29:42.846Z"
   },
   {
    "duration": 35,
    "start_time": "2022-03-09T18:29:42.853Z"
   },
   {
    "duration": 27,
    "start_time": "2022-03-09T18:29:42.890Z"
   },
   {
    "duration": 16,
    "start_time": "2022-03-09T18:29:42.920Z"
   },
   {
    "duration": 66,
    "start_time": "2022-03-09T18:29:42.939Z"
   },
   {
    "duration": 7,
    "start_time": "2022-03-09T18:29:43.008Z"
   },
   {
    "duration": 69,
    "start_time": "2022-03-09T18:29:43.017Z"
   },
   {
    "duration": 6,
    "start_time": "2022-03-09T18:29:43.089Z"
   },
   {
    "duration": 32,
    "start_time": "2022-03-09T18:29:43.100Z"
   },
   {
    "duration": 7,
    "start_time": "2022-03-09T18:29:43.136Z"
   },
   {
    "duration": 13,
    "start_time": "2022-03-09T18:29:43.146Z"
   },
   {
    "duration": 13,
    "start_time": "2022-03-09T18:29:43.161Z"
   },
   {
    "duration": 28,
    "start_time": "2022-03-09T18:29:43.176Z"
   },
   {
    "duration": 45,
    "start_time": "2022-03-09T18:29:43.207Z"
   },
   {
    "duration": 35,
    "start_time": "2022-03-09T18:29:43.255Z"
   },
   {
    "duration": 15,
    "start_time": "2022-03-09T18:29:43.292Z"
   },
   {
    "duration": 13,
    "start_time": "2022-03-09T18:29:43.309Z"
   },
   {
    "duration": 31,
    "start_time": "2022-03-09T18:29:43.325Z"
   },
   {
    "duration": 30,
    "start_time": "2022-03-09T18:29:43.358Z"
   },
   {
    "duration": 24,
    "start_time": "2022-03-09T18:29:43.391Z"
   },
   {
    "duration": 4,
    "start_time": "2022-03-09T18:29:43.417Z"
   },
   {
    "duration": 16,
    "start_time": "2022-03-09T18:29:43.424Z"
   },
   {
    "duration": 5,
    "start_time": "2022-03-09T18:29:43.442Z"
   },
   {
    "duration": 59,
    "start_time": "2022-03-09T18:29:43.449Z"
   },
   {
    "duration": 7,
    "start_time": "2022-03-09T18:29:43.510Z"
   },
   {
    "duration": 42,
    "start_time": "2022-03-09T18:29:43.519Z"
   },
   {
    "duration": 7,
    "start_time": "2022-03-09T18:29:43.588Z"
   },
   {
    "duration": 27,
    "start_time": "2022-03-09T18:29:43.598Z"
   },
   {
    "duration": 22,
    "start_time": "2022-03-09T18:29:43.627Z"
   },
   {
    "duration": 35,
    "start_time": "2022-03-09T18:29:43.652Z"
   },
   {
    "duration": 13,
    "start_time": "2022-03-09T18:29:43.690Z"
   },
   {
    "duration": 14,
    "start_time": "2022-03-09T18:29:43.705Z"
   },
   {
    "duration": 14,
    "start_time": "2022-03-09T18:29:43.721Z"
   },
   {
    "duration": 62,
    "start_time": "2022-03-09T18:29:43.738Z"
   },
   {
    "duration": 21,
    "start_time": "2022-03-09T18:29:43.803Z"
   },
   {
    "duration": 668,
    "start_time": "2022-03-09T18:29:43.827Z"
   },
   {
    "duration": 41,
    "start_time": "2022-03-09T18:29:44.498Z"
   },
   {
    "duration": 54,
    "start_time": "2022-03-09T18:29:44.542Z"
   },
   {
    "duration": 87,
    "start_time": "2022-03-09T18:29:44.599Z"
   },
   {
    "duration": 955,
    "start_time": "2022-03-09T18:29:43.734Z"
   },
   {
    "duration": 955,
    "start_time": "2022-03-09T18:31:59.350Z"
   },
   {
    "duration": 16,
    "start_time": "2022-03-09T18:32:00.308Z"
   },
   {
    "duration": 17,
    "start_time": "2022-03-09T18:32:00.327Z"
   },
   {
    "duration": 13,
    "start_time": "2022-03-09T18:32:00.346Z"
   },
   {
    "duration": 14,
    "start_time": "2022-03-09T18:32:00.388Z"
   },
   {
    "duration": 110,
    "start_time": "2022-03-09T18:32:00.404Z"
   },
   {
    "duration": 10,
    "start_time": "2022-03-09T18:32:00.517Z"
   },
   {
    "duration": 43,
    "start_time": "2022-03-09T18:32:00.531Z"
   },
   {
    "duration": 31,
    "start_time": "2022-03-09T18:32:00.577Z"
   },
   {
    "duration": 53,
    "start_time": "2022-03-09T18:32:00.611Z"
   },
   {
    "duration": 29,
    "start_time": "2022-03-09T18:32:00.667Z"
   },
   {
    "duration": 22,
    "start_time": "2022-03-09T18:32:00.699Z"
   },
   {
    "duration": 66,
    "start_time": "2022-03-09T18:32:00.724Z"
   },
   {
    "duration": 19,
    "start_time": "2022-03-09T18:32:00.793Z"
   },
   {
    "duration": 16,
    "start_time": "2022-03-09T18:32:00.815Z"
   },
   {
    "duration": 18,
    "start_time": "2022-03-09T18:32:00.834Z"
   },
   {
    "duration": 48,
    "start_time": "2022-03-09T18:32:00.856Z"
   },
   {
    "duration": 16,
    "start_time": "2022-03-09T18:32:00.907Z"
   },
   {
    "duration": 45,
    "start_time": "2022-03-09T18:32:00.926Z"
   },
   {
    "duration": 6811,
    "start_time": "2022-03-09T18:32:00.973Z"
   },
   {
    "duration": 922,
    "start_time": "2022-03-09T18:32:06.867Z"
   },
   {
    "duration": 914,
    "start_time": "2022-03-09T18:32:06.877Z"
   },
   {
    "duration": 908,
    "start_time": "2022-03-09T18:32:06.886Z"
   },
   {
    "duration": 908,
    "start_time": "2022-03-09T18:32:06.889Z"
   },
   {
    "duration": 908,
    "start_time": "2022-03-09T18:32:06.891Z"
   },
   {
    "duration": 909,
    "start_time": "2022-03-09T18:32:06.892Z"
   },
   {
    "duration": 909,
    "start_time": "2022-03-09T18:32:06.894Z"
   },
   {
    "duration": 909,
    "start_time": "2022-03-09T18:32:06.896Z"
   },
   {
    "duration": 908,
    "start_time": "2022-03-09T18:32:06.898Z"
   },
   {
    "duration": 908,
    "start_time": "2022-03-09T18:32:06.900Z"
   },
   {
    "duration": 909,
    "start_time": "2022-03-09T18:32:06.901Z"
   },
   {
    "duration": 908,
    "start_time": "2022-03-09T18:32:06.903Z"
   },
   {
    "duration": 891,
    "start_time": "2022-03-09T18:32:06.921Z"
   },
   {
    "duration": 890,
    "start_time": "2022-03-09T18:32:06.924Z"
   },
   {
    "duration": 889,
    "start_time": "2022-03-09T18:32:06.926Z"
   },
   {
    "duration": 889,
    "start_time": "2022-03-09T18:32:06.928Z"
   },
   {
    "duration": 883,
    "start_time": "2022-03-09T18:32:06.935Z"
   },
   {
    "duration": 882,
    "start_time": "2022-03-09T18:32:06.938Z"
   },
   {
    "duration": 874,
    "start_time": "2022-03-09T18:32:06.947Z"
   },
   {
    "duration": 866,
    "start_time": "2022-03-09T18:32:06.956Z"
   },
   {
    "duration": 865,
    "start_time": "2022-03-09T18:32:06.959Z"
   },
   {
    "duration": 864,
    "start_time": "2022-03-09T18:32:06.961Z"
   },
   {
    "duration": 863,
    "start_time": "2022-03-09T18:32:06.963Z"
   },
   {
    "duration": 855,
    "start_time": "2022-03-09T18:32:06.973Z"
   },
   {
    "duration": 852,
    "start_time": "2022-03-09T18:32:06.977Z"
   },
   {
    "duration": 850,
    "start_time": "2022-03-09T18:32:06.980Z"
   },
   {
    "duration": 849,
    "start_time": "2022-03-09T18:32:06.982Z"
   },
   {
    "duration": 849,
    "start_time": "2022-03-09T18:32:06.984Z"
   },
   {
    "duration": 900,
    "start_time": "2022-03-09T18:32:06.986Z"
   },
   {
    "duration": 893,
    "start_time": "2022-03-09T18:32:06.995Z"
   },
   {
    "duration": 892,
    "start_time": "2022-03-09T18:32:06.998Z"
   },
   {
    "duration": 891,
    "start_time": "2022-03-09T18:32:07.000Z"
   },
   {
    "duration": 891,
    "start_time": "2022-03-09T18:32:07.002Z"
   },
   {
    "duration": 895,
    "start_time": "2022-03-09T18:32:07.004Z"
   },
   {
    "duration": 279,
    "start_time": "2022-03-09T18:32:49.164Z"
   },
   {
    "duration": 253,
    "start_time": "2022-03-09T18:32:57.374Z"
   },
   {
    "duration": 267,
    "start_time": "2022-03-09T18:32:58.483Z"
   },
   {
    "duration": 937,
    "start_time": "2022-03-09T18:33:02.712Z"
   },
   {
    "duration": 25,
    "start_time": "2022-03-09T18:33:03.652Z"
   },
   {
    "duration": 15,
    "start_time": "2022-03-09T18:33:03.689Z"
   },
   {
    "duration": 7,
    "start_time": "2022-03-09T18:33:03.707Z"
   },
   {
    "duration": 17,
    "start_time": "2022-03-09T18:33:03.717Z"
   },
   {
    "duration": 122,
    "start_time": "2022-03-09T18:33:03.737Z"
   },
   {
    "duration": 26,
    "start_time": "2022-03-09T18:33:03.863Z"
   },
   {
    "duration": 18,
    "start_time": "2022-03-09T18:33:03.892Z"
   },
   {
    "duration": 8,
    "start_time": "2022-03-09T18:33:03.913Z"
   },
   {
    "duration": 75,
    "start_time": "2022-03-09T18:33:03.924Z"
   },
   {
    "duration": 19,
    "start_time": "2022-03-09T18:33:04.002Z"
   },
   {
    "duration": 11,
    "start_time": "2022-03-09T18:33:04.024Z"
   },
   {
    "duration": 52,
    "start_time": "2022-03-09T18:33:04.038Z"
   },
   {
    "duration": 9,
    "start_time": "2022-03-09T18:33:04.093Z"
   },
   {
    "duration": 10,
    "start_time": "2022-03-09T18:33:04.105Z"
   },
   {
    "duration": 8,
    "start_time": "2022-03-09T18:33:04.117Z"
   },
   {
    "duration": 65,
    "start_time": "2022-03-09T18:33:04.127Z"
   },
   {
    "duration": 45,
    "start_time": "2022-03-09T18:33:04.195Z"
   },
   {
    "duration": 15,
    "start_time": "2022-03-09T18:33:04.242Z"
   },
   {
    "duration": 7335,
    "start_time": "2022-03-09T18:33:04.259Z"
   },
   {
    "duration": 965,
    "start_time": "2022-03-09T18:33:10.635Z"
   },
   {
    "duration": 964,
    "start_time": "2022-03-09T18:33:10.638Z"
   },
   {
    "duration": 959,
    "start_time": "2022-03-09T18:33:10.645Z"
   },
   {
    "duration": 953,
    "start_time": "2022-03-09T18:33:10.653Z"
   },
   {
    "duration": 948,
    "start_time": "2022-03-09T18:33:10.660Z"
   },
   {
    "duration": 948,
    "start_time": "2022-03-09T18:33:10.663Z"
   },
   {
    "duration": 948,
    "start_time": "2022-03-09T18:33:10.666Z"
   },
   {
    "duration": 948,
    "start_time": "2022-03-09T18:33:10.668Z"
   },
   {
    "duration": 944,
    "start_time": "2022-03-09T18:33:10.674Z"
   },
   {
    "duration": 943,
    "start_time": "2022-03-09T18:33:10.677Z"
   },
   {
    "duration": 911,
    "start_time": "2022-03-09T18:33:10.712Z"
   },
   {
    "duration": 907,
    "start_time": "2022-03-09T18:33:10.718Z"
   },
   {
    "duration": 907,
    "start_time": "2022-03-09T18:33:10.720Z"
   },
   {
    "duration": 907,
    "start_time": "2022-03-09T18:33:10.722Z"
   },
   {
    "duration": 903,
    "start_time": "2022-03-09T18:33:10.728Z"
   },
   {
    "duration": 902,
    "start_time": "2022-03-09T18:33:10.731Z"
   },
   {
    "duration": 893,
    "start_time": "2022-03-09T18:33:10.742Z"
   },
   {
    "duration": 881,
    "start_time": "2022-03-09T18:33:10.756Z"
   },
   {
    "duration": 929,
    "start_time": "2022-03-09T18:33:10.758Z"
   },
   {
    "duration": 930,
    "start_time": "2022-03-09T18:33:10.760Z"
   },
   {
    "duration": 919,
    "start_time": "2022-03-09T18:33:10.773Z"
   },
   {
    "duration": 919,
    "start_time": "2022-03-09T18:33:10.775Z"
   },
   {
    "duration": 919,
    "start_time": "2022-03-09T18:33:10.777Z"
   },
   {
    "duration": 920,
    "start_time": "2022-03-09T18:33:10.779Z"
   },
   {
    "duration": 880,
    "start_time": "2022-03-09T18:33:10.821Z"
   },
   {
    "duration": 872,
    "start_time": "2022-03-09T18:33:10.831Z"
   },
   {
    "duration": 871,
    "start_time": "2022-03-09T18:33:10.834Z"
   },
   {
    "duration": 861,
    "start_time": "2022-03-09T18:33:10.846Z"
   },
   {
    "duration": 861,
    "start_time": "2022-03-09T18:33:10.848Z"
   },
   {
    "duration": 862,
    "start_time": "2022-03-09T18:33:10.849Z"
   },
   {
    "duration": 863,
    "start_time": "2022-03-09T18:33:10.851Z"
   },
   {
    "duration": 863,
    "start_time": "2022-03-09T18:33:10.854Z"
   },
   {
    "duration": 863,
    "start_time": "2022-03-09T18:33:10.856Z"
   },
   {
    "duration": 864,
    "start_time": "2022-03-09T18:33:10.857Z"
   },
   {
    "duration": 887,
    "start_time": "2022-03-09T18:33:49.583Z"
   },
   {
    "duration": 21,
    "start_time": "2022-03-09T18:33:50.472Z"
   },
   {
    "duration": 15,
    "start_time": "2022-03-09T18:33:50.498Z"
   },
   {
    "duration": 6,
    "start_time": "2022-03-09T18:33:50.516Z"
   },
   {
    "duration": 18,
    "start_time": "2022-03-09T18:33:50.525Z"
   },
   {
    "duration": 126,
    "start_time": "2022-03-09T18:33:50.545Z"
   },
   {
    "duration": 19,
    "start_time": "2022-03-09T18:33:50.674Z"
   },
   {
    "duration": 26,
    "start_time": "2022-03-09T18:33:50.697Z"
   },
   {
    "duration": 9,
    "start_time": "2022-03-09T18:33:50.726Z"
   },
   {
    "duration": 61,
    "start_time": "2022-03-09T18:33:50.738Z"
   },
   {
    "duration": 12,
    "start_time": "2022-03-09T18:33:50.802Z"
   },
   {
    "duration": 7,
    "start_time": "2022-03-09T18:33:50.817Z"
   },
   {
    "duration": 63,
    "start_time": "2022-03-09T18:33:50.827Z"
   },
   {
    "duration": 17,
    "start_time": "2022-03-09T18:33:50.894Z"
   },
   {
    "duration": 9,
    "start_time": "2022-03-09T18:33:50.914Z"
   },
   {
    "duration": 12,
    "start_time": "2022-03-09T18:33:50.927Z"
   },
   {
    "duration": 56,
    "start_time": "2022-03-09T18:33:50.942Z"
   },
   {
    "duration": 17,
    "start_time": "2022-03-09T18:33:51.001Z"
   },
   {
    "duration": 26,
    "start_time": "2022-03-09T18:33:51.021Z"
   },
   {
    "duration": 40,
    "start_time": "2022-03-09T18:33:51.050Z"
   },
   {
    "duration": 57,
    "start_time": "2022-03-09T18:33:51.093Z"
   },
   {
    "duration": 6,
    "start_time": "2022-03-09T18:33:51.153Z"
   },
   {
    "duration": 5,
    "start_time": "2022-03-09T18:33:51.186Z"
   },
   {
    "duration": 26,
    "start_time": "2022-03-09T18:33:51.195Z"
   },
   {
    "duration": 8,
    "start_time": "2022-03-09T18:33:51.223Z"
   },
   {
    "duration": 10,
    "start_time": "2022-03-09T18:33:51.233Z"
   },
   {
    "duration": 42,
    "start_time": "2022-03-09T18:33:51.246Z"
   },
   {
    "duration": 48,
    "start_time": "2022-03-09T18:33:51.291Z"
   },
   {
    "duration": 7,
    "start_time": "2022-03-09T18:33:51.341Z"
   },
   {
    "duration": 50,
    "start_time": "2022-03-09T18:33:51.351Z"
   },
   {
    "duration": 13,
    "start_time": "2022-03-09T18:33:51.404Z"
   },
   {
    "duration": 25,
    "start_time": "2022-03-09T18:33:51.419Z"
   },
   {
    "duration": 5,
    "start_time": "2022-03-09T18:33:51.447Z"
   },
   {
    "duration": 57,
    "start_time": "2022-03-09T18:33:51.454Z"
   },
   {
    "duration": 5,
    "start_time": "2022-03-09T18:33:51.513Z"
   },
   {
    "duration": 16,
    "start_time": "2022-03-09T18:33:51.520Z"
   },
   {
    "duration": 6,
    "start_time": "2022-03-09T18:33:51.538Z"
   },
   {
    "duration": 63,
    "start_time": "2022-03-09T18:33:51.546Z"
   },
   {
    "duration": 5,
    "start_time": "2022-03-09T18:33:51.612Z"
   },
   {
    "duration": 42,
    "start_time": "2022-03-09T18:33:51.620Z"
   },
   {
    "duration": 31,
    "start_time": "2022-03-09T18:33:51.664Z"
   },
   {
    "duration": 26,
    "start_time": "2022-03-09T18:33:51.697Z"
   },
   {
    "duration": 21,
    "start_time": "2022-03-09T18:33:51.725Z"
   },
   {
    "duration": 40,
    "start_time": "2022-03-09T18:33:51.748Z"
   },
   {
    "duration": 8,
    "start_time": "2022-03-09T18:33:51.791Z"
   },
   {
    "duration": 15,
    "start_time": "2022-03-09T18:33:51.802Z"
   },
   {
    "duration": 17,
    "start_time": "2022-03-09T18:33:51.819Z"
   },
   {
    "duration": 71,
    "start_time": "2022-03-09T18:33:51.838Z"
   },
   {
    "duration": 20,
    "start_time": "2022-03-09T18:33:51.912Z"
   },
   {
    "duration": 458,
    "start_time": "2022-03-09T18:33:51.934Z"
   },
   {
    "duration": 29,
    "start_time": "2022-03-09T18:33:52.395Z"
   },
   {
    "duration": 22,
    "start_time": "2022-03-09T18:33:52.426Z"
   },
   {
    "duration": 92,
    "start_time": "2022-03-09T18:33:52.451Z"
   },
   {
    "duration": 920,
    "start_time": "2022-03-09T18:33:51.626Z"
   },
   {
    "duration": 17,
    "start_time": "2022-03-09T18:34:23.910Z"
   },
   {
    "duration": 33,
    "start_time": "2022-03-09T18:34:25.684Z"
   },
   {
    "duration": 6812,
    "start_time": "2022-03-09T18:34:32.499Z"
   },
   {
    "duration": 966,
    "start_time": "2022-03-09T18:34:45.601Z"
   },
   {
    "duration": 842,
    "start_time": "2022-03-09T18:34:51.373Z"
   },
   {
    "duration": 14,
    "start_time": "2022-03-09T18:34:52.217Z"
   },
   {
    "duration": 17,
    "start_time": "2022-03-09T18:34:52.233Z"
   },
   {
    "duration": 9,
    "start_time": "2022-03-09T18:34:52.252Z"
   },
   {
    "duration": 24,
    "start_time": "2022-03-09T18:34:52.264Z"
   },
   {
    "duration": 102,
    "start_time": "2022-03-09T18:34:52.292Z"
   },
   {
    "duration": 9,
    "start_time": "2022-03-09T18:34:52.397Z"
   },
   {
    "duration": 22,
    "start_time": "2022-03-09T18:34:52.410Z"
   },
   {
    "duration": 8,
    "start_time": "2022-03-09T18:34:52.435Z"
   },
   {
    "duration": 65,
    "start_time": "2022-03-09T18:34:52.446Z"
   },
   {
    "duration": 10,
    "start_time": "2022-03-09T18:34:52.513Z"
   },
   {
    "duration": 9,
    "start_time": "2022-03-09T18:34:52.526Z"
   },
   {
    "duration": 64,
    "start_time": "2022-03-09T18:34:52.538Z"
   },
   {
    "duration": 10,
    "start_time": "2022-03-09T18:34:52.605Z"
   },
   {
    "duration": 8,
    "start_time": "2022-03-09T18:34:52.618Z"
   },
   {
    "duration": 9,
    "start_time": "2022-03-09T18:34:52.629Z"
   },
   {
    "duration": 66,
    "start_time": "2022-03-09T18:34:52.641Z"
   },
   {
    "duration": 18,
    "start_time": "2022-03-09T18:34:52.710Z"
   },
   {
    "duration": 25,
    "start_time": "2022-03-09T18:34:52.731Z"
   },
   {
    "duration": 6486,
    "start_time": "2022-03-09T18:34:52.787Z"
   },
   {
    "duration": 957,
    "start_time": "2022-03-09T18:34:58.320Z"
   },
   {
    "duration": 951,
    "start_time": "2022-03-09T18:34:58.327Z"
   },
   {
    "duration": 951,
    "start_time": "2022-03-09T18:34:58.329Z"
   },
   {
    "duration": 951,
    "start_time": "2022-03-09T18:34:58.330Z"
   },
   {
    "duration": 951,
    "start_time": "2022-03-09T18:34:58.332Z"
   },
   {
    "duration": 949,
    "start_time": "2022-03-09T18:34:58.335Z"
   },
   {
    "duration": 945,
    "start_time": "2022-03-09T18:34:58.340Z"
   },
   {
    "duration": 945,
    "start_time": "2022-03-09T18:34:58.342Z"
   },
   {
    "duration": 944,
    "start_time": "2022-03-09T18:34:58.344Z"
   },
   {
    "duration": 944,
    "start_time": "2022-03-09T18:34:58.346Z"
   },
   {
    "duration": 943,
    "start_time": "2022-03-09T18:34:58.348Z"
   },
   {
    "duration": 943,
    "start_time": "2022-03-09T18:34:58.350Z"
   },
   {
    "duration": 938,
    "start_time": "2022-03-09T18:34:58.356Z"
   },
   {
    "duration": 939,
    "start_time": "2022-03-09T18:34:58.357Z"
   },
   {
    "duration": 938,
    "start_time": "2022-03-09T18:34:58.359Z"
   },
   {
    "duration": 938,
    "start_time": "2022-03-09T18:34:58.361Z"
   },
   {
    "duration": 937,
    "start_time": "2022-03-09T18:34:58.363Z"
   },
   {
    "duration": 937,
    "start_time": "2022-03-09T18:34:58.365Z"
   },
   {
    "duration": 937,
    "start_time": "2022-03-09T18:34:58.366Z"
   },
   {
    "duration": 937,
    "start_time": "2022-03-09T18:34:58.368Z"
   },
   {
    "duration": 935,
    "start_time": "2022-03-09T18:34:58.371Z"
   },
   {
    "duration": 936,
    "start_time": "2022-03-09T18:34:58.372Z"
   },
   {
    "duration": 892,
    "start_time": "2022-03-09T18:34:58.417Z"
   },
   {
    "duration": 881,
    "start_time": "2022-03-09T18:34:58.430Z"
   },
   {
    "duration": 880,
    "start_time": "2022-03-09T18:34:58.432Z"
   },
   {
    "duration": 880,
    "start_time": "2022-03-09T18:34:58.434Z"
   },
   {
    "duration": 874,
    "start_time": "2022-03-09T18:34:58.441Z"
   },
   {
    "duration": 874,
    "start_time": "2022-03-09T18:34:58.443Z"
   },
   {
    "duration": 874,
    "start_time": "2022-03-09T18:34:58.444Z"
   },
   {
    "duration": 868,
    "start_time": "2022-03-09T18:34:58.452Z"
   },
   {
    "duration": 866,
    "start_time": "2022-03-09T18:34:58.455Z"
   },
   {
    "duration": 864,
    "start_time": "2022-03-09T18:34:58.459Z"
   },
   {
    "duration": 862,
    "start_time": "2022-03-09T18:34:58.462Z"
   },
   {
    "duration": 863,
    "start_time": "2022-03-09T18:34:58.463Z"
   },
   {
    "duration": 15,
    "start_time": "2022-03-09T18:36:09.729Z"
   },
   {
    "duration": 6659,
    "start_time": "2022-03-09T18:36:53.110Z"
   },
   {
    "duration": 948,
    "start_time": "2022-03-09T18:36:58.825Z"
   },
   {
    "duration": 881,
    "start_time": "2022-03-09T18:37:04.740Z"
   },
   {
    "duration": 15,
    "start_time": "2022-03-09T18:37:05.624Z"
   },
   {
    "duration": 12,
    "start_time": "2022-03-09T18:37:05.642Z"
   },
   {
    "duration": 33,
    "start_time": "2022-03-09T18:37:05.656Z"
   },
   {
    "duration": 10,
    "start_time": "2022-03-09T18:37:05.693Z"
   },
   {
    "duration": 127,
    "start_time": "2022-03-09T18:37:05.706Z"
   },
   {
    "duration": 8,
    "start_time": "2022-03-09T18:37:05.837Z"
   },
   {
    "duration": 40,
    "start_time": "2022-03-09T18:37:05.849Z"
   },
   {
    "duration": 8,
    "start_time": "2022-03-09T18:37:05.892Z"
   },
   {
    "duration": 43,
    "start_time": "2022-03-09T18:37:05.904Z"
   },
   {
    "duration": 38,
    "start_time": "2022-03-09T18:37:05.949Z"
   },
   {
    "duration": 7,
    "start_time": "2022-03-09T18:37:05.990Z"
   },
   {
    "duration": 43,
    "start_time": "2022-03-09T18:37:06.000Z"
   },
   {
    "duration": 9,
    "start_time": "2022-03-09T18:37:06.047Z"
   },
   {
    "duration": 8,
    "start_time": "2022-03-09T18:37:06.090Z"
   },
   {
    "duration": 12,
    "start_time": "2022-03-09T18:37:06.101Z"
   },
   {
    "duration": 26,
    "start_time": "2022-03-09T18:37:06.117Z"
   },
   {
    "duration": 58,
    "start_time": "2022-03-09T18:37:06.145Z"
   },
   {
    "duration": 441,
    "start_time": "2022-03-09T18:37:06.207Z"
   },
   {
    "duration": 948,
    "start_time": "2022-03-09T18:37:05.704Z"
   },
   {
    "duration": 942,
    "start_time": "2022-03-09T18:37:05.712Z"
   },
   {
    "duration": 940,
    "start_time": "2022-03-09T18:37:05.716Z"
   },
   {
    "duration": 926,
    "start_time": "2022-03-09T18:37:05.731Z"
   },
   {
    "duration": 911,
    "start_time": "2022-03-09T18:37:05.748Z"
   },
   {
    "duration": 908,
    "start_time": "2022-03-09T18:37:05.753Z"
   },
   {
    "duration": 907,
    "start_time": "2022-03-09T18:37:05.755Z"
   },
   {
    "duration": 907,
    "start_time": "2022-03-09T18:37:05.757Z"
   },
   {
    "duration": 907,
    "start_time": "2022-03-09T18:37:05.759Z"
   },
   {
    "duration": 907,
    "start_time": "2022-03-09T18:37:05.760Z"
   },
   {
    "duration": 908,
    "start_time": "2022-03-09T18:37:05.762Z"
   },
   {
    "duration": 906,
    "start_time": "2022-03-09T18:37:05.765Z"
   },
   {
    "duration": 906,
    "start_time": "2022-03-09T18:37:05.767Z"
   },
   {
    "duration": 905,
    "start_time": "2022-03-09T18:37:05.769Z"
   },
   {
    "duration": 905,
    "start_time": "2022-03-09T18:37:05.771Z"
   },
   {
    "duration": 905,
    "start_time": "2022-03-09T18:37:05.773Z"
   },
   {
    "duration": 905,
    "start_time": "2022-03-09T18:37:05.775Z"
   },
   {
    "duration": 905,
    "start_time": "2022-03-09T18:37:05.777Z"
   },
   {
    "duration": 904,
    "start_time": "2022-03-09T18:37:05.779Z"
   },
   {
    "duration": 904,
    "start_time": "2022-03-09T18:37:05.781Z"
   },
   {
    "duration": 903,
    "start_time": "2022-03-09T18:37:05.783Z"
   },
   {
    "duration": 903,
    "start_time": "2022-03-09T18:37:05.785Z"
   },
   {
    "duration": 902,
    "start_time": "2022-03-09T18:37:05.787Z"
   },
   {
    "duration": 897,
    "start_time": "2022-03-09T18:37:05.794Z"
   },
   {
    "duration": 894,
    "start_time": "2022-03-09T18:37:05.798Z"
   },
   {
    "duration": 894,
    "start_time": "2022-03-09T18:37:05.800Z"
   },
   {
    "duration": 894,
    "start_time": "2022-03-09T18:37:05.801Z"
   },
   {
    "duration": 893,
    "start_time": "2022-03-09T18:37:05.803Z"
   },
   {
    "duration": 893,
    "start_time": "2022-03-09T18:37:05.805Z"
   },
   {
    "duration": 893,
    "start_time": "2022-03-09T18:37:05.806Z"
   },
   {
    "duration": 892,
    "start_time": "2022-03-09T18:37:05.808Z"
   },
   {
    "duration": 893,
    "start_time": "2022-03-09T18:37:05.809Z"
   },
   {
    "duration": 892,
    "start_time": "2022-03-09T18:37:05.811Z"
   },
   {
    "duration": 892,
    "start_time": "2022-03-09T18:37:05.813Z"
   },
   {
    "duration": 891,
    "start_time": "2022-03-09T18:37:05.815Z"
   },
   {
    "duration": 257,
    "start_time": "2022-03-09T18:37:30.273Z"
   },
   {
    "duration": 254,
    "start_time": "2022-03-09T18:37:42.212Z"
   },
   {
    "duration": 894,
    "start_time": "2022-03-09T18:37:47.255Z"
   },
   {
    "duration": 14,
    "start_time": "2022-03-09T18:37:48.152Z"
   },
   {
    "duration": 26,
    "start_time": "2022-03-09T18:37:48.169Z"
   },
   {
    "duration": 6,
    "start_time": "2022-03-09T18:37:48.197Z"
   },
   {
    "duration": 8,
    "start_time": "2022-03-09T18:37:48.205Z"
   },
   {
    "duration": 139,
    "start_time": "2022-03-09T18:37:48.217Z"
   },
   {
    "duration": 8,
    "start_time": "2022-03-09T18:37:48.359Z"
   },
   {
    "duration": 16,
    "start_time": "2022-03-09T18:37:48.389Z"
   },
   {
    "duration": 10,
    "start_time": "2022-03-09T18:37:48.409Z"
   },
   {
    "duration": 79,
    "start_time": "2022-03-09T18:37:48.421Z"
   },
   {
    "duration": 14,
    "start_time": "2022-03-09T18:37:48.504Z"
   },
   {
    "duration": 9,
    "start_time": "2022-03-09T18:37:48.520Z"
   },
   {
    "duration": 68,
    "start_time": "2022-03-09T18:37:48.532Z"
   },
   {
    "duration": 7,
    "start_time": "2022-03-09T18:37:48.603Z"
   },
   {
    "duration": 17,
    "start_time": "2022-03-09T18:37:48.613Z"
   },
   {
    "duration": 9,
    "start_time": "2022-03-09T18:37:48.633Z"
   },
   {
    "duration": 71,
    "start_time": "2022-03-09T18:37:48.644Z"
   },
   {
    "duration": 16,
    "start_time": "2022-03-09T18:37:48.717Z"
   },
   {
    "duration": 8,
    "start_time": "2022-03-09T18:37:48.736Z"
   },
   {
    "duration": 42,
    "start_time": "2022-03-09T18:37:48.747Z"
   },
   {
    "duration": 10,
    "start_time": "2022-03-09T18:37:48.792Z"
   },
   {
    "duration": 9,
    "start_time": "2022-03-09T18:37:48.804Z"
   },
   {
    "duration": 5,
    "start_time": "2022-03-09T18:37:48.820Z"
   },
   {
    "duration": 9,
    "start_time": "2022-03-09T18:37:48.828Z"
   },
   {
    "duration": 10,
    "start_time": "2022-03-09T18:37:48.840Z"
   },
   {
    "duration": 40,
    "start_time": "2022-03-09T18:37:48.852Z"
   },
   {
    "duration": 34,
    "start_time": "2022-03-09T18:37:48.896Z"
   },
   {
    "duration": 77,
    "start_time": "2022-03-09T18:37:48.934Z"
   },
   {
    "duration": 9,
    "start_time": "2022-03-09T18:37:49.014Z"
   },
   {
    "duration": 25,
    "start_time": "2022-03-09T18:37:49.026Z"
   },
   {
    "duration": 36,
    "start_time": "2022-03-09T18:37:49.054Z"
   },
   {
    "duration": 35,
    "start_time": "2022-03-09T18:37:49.093Z"
   },
   {
    "duration": 4,
    "start_time": "2022-03-09T18:37:49.131Z"
   },
   {
    "duration": 57,
    "start_time": "2022-03-09T18:37:49.138Z"
   },
   {
    "duration": 5,
    "start_time": "2022-03-09T18:37:49.197Z"
   },
   {
    "duration": 24,
    "start_time": "2022-03-09T18:37:49.204Z"
   },
   {
    "duration": 8,
    "start_time": "2022-03-09T18:37:49.231Z"
   },
   {
    "duration": 60,
    "start_time": "2022-03-09T18:37:49.242Z"
   },
   {
    "duration": 7,
    "start_time": "2022-03-09T18:37:49.306Z"
   },
   {
    "duration": 76,
    "start_time": "2022-03-09T18:37:49.316Z"
   },
   {
    "duration": 9,
    "start_time": "2022-03-09T18:37:49.395Z"
   },
   {
    "duration": 35,
    "start_time": "2022-03-09T18:37:49.408Z"
   },
   {
    "duration": 52,
    "start_time": "2022-03-09T18:37:49.446Z"
   },
   {
    "duration": 3,
    "start_time": "2022-03-09T18:37:49.501Z"
   },
   {
    "duration": 4,
    "start_time": "2022-03-09T18:37:49.506Z"
   },
   {
    "duration": 13,
    "start_time": "2022-03-09T18:37:49.513Z"
   },
   {
    "duration": 18,
    "start_time": "2022-03-09T18:37:49.528Z"
   },
   {
    "duration": 68,
    "start_time": "2022-03-09T18:37:49.548Z"
   },
   {
    "duration": 31,
    "start_time": "2022-03-09T18:37:49.618Z"
   },
   {
    "duration": 717,
    "start_time": "2022-03-09T18:37:49.652Z"
   },
   {
    "duration": 42,
    "start_time": "2022-03-09T18:37:50.373Z"
   },
   {
    "duration": 33,
    "start_time": "2022-03-09T18:37:50.418Z"
   },
   {
    "duration": 95,
    "start_time": "2022-03-09T18:37:50.453Z"
   },
   {
    "duration": 959,
    "start_time": "2022-03-09T18:37:49.592Z"
   },
   {
    "duration": 1071,
    "start_time": "2022-03-09T18:38:23.383Z"
   },
   {
    "duration": 34,
    "start_time": "2022-03-09T18:38:24.457Z"
   },
   {
    "duration": 14,
    "start_time": "2022-03-09T18:38:24.494Z"
   },
   {
    "duration": 5,
    "start_time": "2022-03-09T18:38:24.511Z"
   },
   {
    "duration": 10,
    "start_time": "2022-03-09T18:38:24.519Z"
   },
   {
    "duration": 118,
    "start_time": "2022-03-09T18:38:24.532Z"
   },
   {
    "duration": 9,
    "start_time": "2022-03-09T18:38:24.653Z"
   },
   {
    "duration": 39,
    "start_time": "2022-03-09T18:38:24.665Z"
   },
   {
    "duration": 8,
    "start_time": "2022-03-09T18:38:24.708Z"
   },
   {
    "duration": 36,
    "start_time": "2022-03-09T18:38:24.719Z"
   },
   {
    "duration": 9,
    "start_time": "2022-03-09T18:38:24.788Z"
   },
   {
    "duration": 10,
    "start_time": "2022-03-09T18:38:24.799Z"
   },
   {
    "duration": 40,
    "start_time": "2022-03-09T18:38:24.811Z"
   },
   {
    "duration": 8,
    "start_time": "2022-03-09T18:38:24.888Z"
   },
   {
    "duration": 9,
    "start_time": "2022-03-09T18:38:24.899Z"
   },
   {
    "duration": 8,
    "start_time": "2022-03-09T18:38:24.911Z"
   },
   {
    "duration": 67,
    "start_time": "2022-03-09T18:38:24.921Z"
   },
   {
    "duration": 424,
    "start_time": "2022-03-09T18:38:24.991Z"
   },
   {
    "duration": 937,
    "start_time": "2022-03-09T18:38:24.482Z"
   },
   {
    "duration": 929,
    "start_time": "2022-03-09T18:38:24.491Z"
   },
   {
    "duration": 928,
    "start_time": "2022-03-09T18:38:24.494Z"
   },
   {
    "duration": 923,
    "start_time": "2022-03-09T18:38:24.501Z"
   },
   {
    "duration": 920,
    "start_time": "2022-03-09T18:38:24.505Z"
   },
   {
    "duration": 917,
    "start_time": "2022-03-09T18:38:24.510Z"
   },
   {
    "duration": 915,
    "start_time": "2022-03-09T18:38:24.513Z"
   },
   {
    "duration": 907,
    "start_time": "2022-03-09T18:38:24.522Z"
   },
   {
    "duration": 907,
    "start_time": "2022-03-09T18:38:24.524Z"
   },
   {
    "duration": 905,
    "start_time": "2022-03-09T18:38:24.527Z"
   },
   {
    "duration": 900,
    "start_time": "2022-03-09T18:38:24.534Z"
   },
   {
    "duration": 888,
    "start_time": "2022-03-09T18:38:24.547Z"
   },
   {
    "duration": 886,
    "start_time": "2022-03-09T18:38:24.550Z"
   },
   {
    "duration": 886,
    "start_time": "2022-03-09T18:38:24.552Z"
   },
   {
    "duration": 884,
    "start_time": "2022-03-09T18:38:24.555Z"
   },
   {
    "duration": 880,
    "start_time": "2022-03-09T18:38:24.561Z"
   },
   {
    "duration": 877,
    "start_time": "2022-03-09T18:38:24.565Z"
   },
   {
    "duration": 875,
    "start_time": "2022-03-09T18:38:24.568Z"
   },
   {
    "duration": 876,
    "start_time": "2022-03-09T18:38:24.569Z"
   },
   {
    "duration": 875,
    "start_time": "2022-03-09T18:38:24.571Z"
   },
   {
    "duration": 874,
    "start_time": "2022-03-09T18:38:24.574Z"
   },
   {
    "duration": 873,
    "start_time": "2022-03-09T18:38:24.576Z"
   },
   {
    "duration": 872,
    "start_time": "2022-03-09T18:38:24.578Z"
   },
   {
    "duration": 872,
    "start_time": "2022-03-09T18:38:24.580Z"
   },
   {
    "duration": 871,
    "start_time": "2022-03-09T18:38:24.583Z"
   },
   {
    "duration": 901,
    "start_time": "2022-03-09T18:38:24.585Z"
   },
   {
    "duration": 901,
    "start_time": "2022-03-09T18:38:24.587Z"
   },
   {
    "duration": 900,
    "start_time": "2022-03-09T18:38:24.589Z"
   },
   {
    "duration": 899,
    "start_time": "2022-03-09T18:38:24.591Z"
   },
   {
    "duration": 899,
    "start_time": "2022-03-09T18:38:24.593Z"
   },
   {
    "duration": 898,
    "start_time": "2022-03-09T18:38:24.595Z"
   },
   {
    "duration": 898,
    "start_time": "2022-03-09T18:38:24.597Z"
   },
   {
    "duration": 897,
    "start_time": "2022-03-09T18:38:24.600Z"
   },
   {
    "duration": 891,
    "start_time": "2022-03-09T18:38:24.607Z"
   },
   {
    "duration": 889,
    "start_time": "2022-03-09T18:38:24.610Z"
   },
   {
    "duration": 887,
    "start_time": "2022-03-09T18:38:24.614Z"
   },
   {
    "duration": 867,
    "start_time": "2022-03-09T18:44:31.076Z"
   },
   {
    "duration": 15,
    "start_time": "2022-03-09T18:44:31.945Z"
   },
   {
    "duration": 29,
    "start_time": "2022-03-09T18:44:31.963Z"
   },
   {
    "duration": 24,
    "start_time": "2022-03-09T18:44:31.994Z"
   },
   {
    "duration": 22,
    "start_time": "2022-03-09T18:44:32.020Z"
   },
   {
    "duration": 84,
    "start_time": "2022-03-09T18:44:32.044Z"
   },
   {
    "duration": 11,
    "start_time": "2022-03-09T18:44:32.131Z"
   },
   {
    "duration": 41,
    "start_time": "2022-03-09T18:44:32.147Z"
   },
   {
    "duration": 8,
    "start_time": "2022-03-09T18:44:32.192Z"
   },
   {
    "duration": 37,
    "start_time": "2022-03-09T18:44:32.203Z"
   },
   {
    "duration": 44,
    "start_time": "2022-03-09T18:44:32.243Z"
   },
   {
    "duration": 7,
    "start_time": "2022-03-09T18:44:32.291Z"
   },
   {
    "duration": 36,
    "start_time": "2022-03-09T18:44:32.301Z"
   },
   {
    "duration": 47,
    "start_time": "2022-03-09T18:44:32.340Z"
   },
   {
    "duration": 7,
    "start_time": "2022-03-09T18:44:32.390Z"
   },
   {
    "duration": 8,
    "start_time": "2022-03-09T18:44:32.400Z"
   },
   {
    "duration": 11,
    "start_time": "2022-03-09T18:44:32.411Z"
   },
   {
    "duration": 3507,
    "start_time": "2022-03-09T18:44:32.424Z"
   },
   {
    "duration": 946,
    "start_time": "2022-03-09T18:44:34.989Z"
   },
   {
    "duration": 946,
    "start_time": "2022-03-09T18:44:34.991Z"
   },
   {
    "duration": 945,
    "start_time": "2022-03-09T18:44:34.993Z"
   },
   {
    "duration": 944,
    "start_time": "2022-03-09T18:44:34.995Z"
   },
   {
    "duration": 943,
    "start_time": "2022-03-09T18:44:34.997Z"
   },
   {
    "duration": 938,
    "start_time": "2022-03-09T18:44:35.003Z"
   },
   {
    "duration": 937,
    "start_time": "2022-03-09T18:44:35.005Z"
   },
   {
    "duration": 937,
    "start_time": "2022-03-09T18:44:35.007Z"
   },
   {
    "duration": 936,
    "start_time": "2022-03-09T18:44:35.009Z"
   },
   {
    "duration": 931,
    "start_time": "2022-03-09T18:44:35.015Z"
   },
   {
    "duration": 929,
    "start_time": "2022-03-09T18:44:35.018Z"
   },
   {
    "duration": 928,
    "start_time": "2022-03-09T18:44:35.020Z"
   },
   {
    "duration": 927,
    "start_time": "2022-03-09T18:44:35.023Z"
   },
   {
    "duration": 923,
    "start_time": "2022-03-09T18:44:35.028Z"
   },
   {
    "duration": 917,
    "start_time": "2022-03-09T18:44:35.035Z"
   },
   {
    "duration": 914,
    "start_time": "2022-03-09T18:44:35.039Z"
   },
   {
    "duration": 915,
    "start_time": "2022-03-09T18:44:35.040Z"
   },
   {
    "duration": 913,
    "start_time": "2022-03-09T18:44:35.043Z"
   },
   {
    "duration": 912,
    "start_time": "2022-03-09T18:44:35.045Z"
   },
   {
    "duration": 911,
    "start_time": "2022-03-09T18:44:35.047Z"
   },
   {
    "duration": 910,
    "start_time": "2022-03-09T18:44:35.049Z"
   },
   {
    "duration": 910,
    "start_time": "2022-03-09T18:44:35.051Z"
   },
   {
    "duration": 904,
    "start_time": "2022-03-09T18:44:35.058Z"
   },
   {
    "duration": 902,
    "start_time": "2022-03-09T18:44:35.061Z"
   },
   {
    "duration": 902,
    "start_time": "2022-03-09T18:44:35.063Z"
   },
   {
    "duration": 895,
    "start_time": "2022-03-09T18:44:35.071Z"
   },
   {
    "duration": 894,
    "start_time": "2022-03-09T18:44:35.074Z"
   },
   {
    "duration": 893,
    "start_time": "2022-03-09T18:44:35.076Z"
   },
   {
    "duration": 893,
    "start_time": "2022-03-09T18:44:35.078Z"
   },
   {
    "duration": 892,
    "start_time": "2022-03-09T18:44:35.080Z"
   },
   {
    "duration": 906,
    "start_time": "2022-03-09T18:44:35.082Z"
   },
   {
    "duration": 905,
    "start_time": "2022-03-09T18:44:35.085Z"
   },
   {
    "duration": 903,
    "start_time": "2022-03-09T18:44:35.088Z"
   },
   {
    "duration": 3315,
    "start_time": "2022-03-09T18:45:32.878Z"
   },
   {
    "duration": 3330,
    "start_time": "2022-03-09T18:45:36.438Z"
   },
   {
    "duration": 4,
    "start_time": "2022-03-09T18:45:40.171Z"
   },
   {
    "duration": 1130,
    "start_time": "2022-03-09T18:46:02.825Z"
   },
   {
    "duration": 15,
    "start_time": "2022-03-09T18:46:03.958Z"
   },
   {
    "duration": 14,
    "start_time": "2022-03-09T18:46:03.988Z"
   },
   {
    "duration": 24,
    "start_time": "2022-03-09T18:46:04.005Z"
   },
   {
    "duration": 17,
    "start_time": "2022-03-09T18:46:04.031Z"
   },
   {
    "duration": 98,
    "start_time": "2022-03-09T18:46:04.050Z"
   },
   {
    "duration": 9,
    "start_time": "2022-03-09T18:46:04.150Z"
   },
   {
    "duration": 41,
    "start_time": "2022-03-09T18:46:04.163Z"
   },
   {
    "duration": 5,
    "start_time": "2022-03-09T18:46:04.207Z"
   },
   {
    "duration": 36,
    "start_time": "2022-03-09T18:46:04.215Z"
   },
   {
    "duration": 35,
    "start_time": "2022-03-09T18:46:04.254Z"
   },
   {
    "duration": 10,
    "start_time": "2022-03-09T18:46:04.292Z"
   },
   {
    "duration": 84,
    "start_time": "2022-03-09T18:46:04.305Z"
   },
   {
    "duration": 8,
    "start_time": "2022-03-09T18:46:04.391Z"
   },
   {
    "duration": 11,
    "start_time": "2022-03-09T18:46:04.402Z"
   },
   {
    "duration": 9,
    "start_time": "2022-03-09T18:46:04.417Z"
   },
   {
    "duration": 10,
    "start_time": "2022-03-09T18:46:04.430Z"
   },
   {
    "duration": 52,
    "start_time": "2022-03-09T18:46:04.443Z"
   },
   {
    "duration": 3,
    "start_time": "2022-03-09T18:46:04.498Z"
   },
   {
    "duration": 7,
    "start_time": "2022-03-09T18:46:04.504Z"
   },
   {
    "duration": 7,
    "start_time": "2022-03-09T18:46:04.514Z"
   },
   {
    "duration": 7,
    "start_time": "2022-03-09T18:46:04.524Z"
   },
   {
    "duration": 6,
    "start_time": "2022-03-09T18:46:04.537Z"
   },
   {
    "duration": 33,
    "start_time": "2022-03-09T18:46:04.589Z"
   },
   {
    "duration": 92,
    "start_time": "2022-03-09T18:46:04.625Z"
   },
   {
    "duration": 9,
    "start_time": "2022-03-09T18:46:04.720Z"
   },
   {
    "duration": 25,
    "start_time": "2022-03-09T18:46:04.732Z"
   },
   {
    "duration": 38,
    "start_time": "2022-03-09T18:46:04.760Z"
   },
   {
    "duration": 42,
    "start_time": "2022-03-09T18:46:04.801Z"
   },
   {
    "duration": 7,
    "start_time": "2022-03-09T18:46:04.847Z"
   },
   {
    "duration": 52,
    "start_time": "2022-03-09T18:46:04.856Z"
   },
   {
    "duration": 6,
    "start_time": "2022-03-09T18:46:04.912Z"
   },
   {
    "duration": 19,
    "start_time": "2022-03-09T18:46:04.921Z"
   },
   {
    "duration": 7,
    "start_time": "2022-03-09T18:46:04.943Z"
   },
   {
    "duration": 32,
    "start_time": "2022-03-09T18:46:04.988Z"
   },
   {
    "duration": 7,
    "start_time": "2022-03-09T18:46:05.023Z"
   },
   {
    "duration": 55,
    "start_time": "2022-03-09T18:46:05.033Z"
   },
   {
    "duration": 10,
    "start_time": "2022-03-09T18:46:05.091Z"
   },
   {
    "duration": 24,
    "start_time": "2022-03-09T18:46:05.103Z"
   },
   {
    "duration": 22,
    "start_time": "2022-03-09T18:46:05.130Z"
   },
   {
    "duration": 34,
    "start_time": "2022-03-09T18:46:05.154Z"
   },
   {
    "duration": 8,
    "start_time": "2022-03-09T18:46:05.192Z"
   },
   {
    "duration": 20,
    "start_time": "2022-03-09T18:46:05.203Z"
   },
   {
    "duration": 22,
    "start_time": "2022-03-09T18:46:05.226Z"
   },
   {
    "duration": 82,
    "start_time": "2022-03-09T18:46:05.251Z"
   },
   {
    "duration": 30,
    "start_time": "2022-03-09T18:46:05.336Z"
   },
   {
    "duration": 853,
    "start_time": "2022-03-09T18:46:05.388Z"
   },
   {
    "duration": 49,
    "start_time": "2022-03-09T18:46:06.244Z"
   },
   {
    "duration": 33,
    "start_time": "2022-03-09T18:46:06.296Z"
   },
   {
    "duration": 96,
    "start_time": "2022-03-09T18:46:06.333Z"
   },
   {
    "duration": 953,
    "start_time": "2022-03-09T18:46:05.480Z"
   },
   {
    "duration": 27,
    "start_time": "2022-03-09T18:46:22.072Z"
   },
   {
    "duration": 850,
    "start_time": "2022-03-09T18:46:32.410Z"
   },
   {
    "duration": 27,
    "start_time": "2022-03-09T18:46:33.264Z"
   },
   {
    "duration": 15,
    "start_time": "2022-03-09T18:46:33.294Z"
   },
   {
    "duration": 7,
    "start_time": "2022-03-09T18:46:33.312Z"
   },
   {
    "duration": 12,
    "start_time": "2022-03-09T18:46:33.321Z"
   },
   {
    "duration": 129,
    "start_time": "2022-03-09T18:46:33.336Z"
   },
   {
    "duration": 23,
    "start_time": "2022-03-09T18:46:33.468Z"
   },
   {
    "duration": 26,
    "start_time": "2022-03-09T18:46:33.497Z"
   },
   {
    "duration": 8,
    "start_time": "2022-03-09T18:46:33.527Z"
   },
   {
    "duration": 73,
    "start_time": "2022-03-09T18:46:33.537Z"
   },
   {
    "duration": 14,
    "start_time": "2022-03-09T18:46:33.613Z"
   },
   {
    "duration": 8,
    "start_time": "2022-03-09T18:46:33.631Z"
   },
   {
    "duration": 74,
    "start_time": "2022-03-09T18:46:33.642Z"
   },
   {
    "duration": 9,
    "start_time": "2022-03-09T18:46:33.719Z"
   },
   {
    "duration": 11,
    "start_time": "2022-03-09T18:46:33.731Z"
   },
   {
    "duration": 45,
    "start_time": "2022-03-09T18:46:33.745Z"
   },
   {
    "duration": 10,
    "start_time": "2022-03-09T18:46:33.793Z"
   },
   {
    "duration": 14,
    "start_time": "2022-03-09T18:46:33.806Z"
   },
   {
    "duration": 33,
    "start_time": "2022-03-09T18:46:33.823Z"
   },
   {
    "duration": 35,
    "start_time": "2022-03-09T18:46:33.859Z"
   },
   {
    "duration": 27,
    "start_time": "2022-03-09T18:46:33.897Z"
   },
   {
    "duration": 19,
    "start_time": "2022-03-09T18:46:33.927Z"
   },
   {
    "duration": 19,
    "start_time": "2022-03-09T18:46:33.954Z"
   },
   {
    "duration": 32,
    "start_time": "2022-03-09T18:46:33.977Z"
   },
   {
    "duration": 46,
    "start_time": "2022-03-09T18:46:34.011Z"
   },
   {
    "duration": 7,
    "start_time": "2022-03-09T18:46:34.059Z"
   },
   {
    "duration": 43,
    "start_time": "2022-03-09T18:46:34.087Z"
   },
   {
    "duration": 24,
    "start_time": "2022-03-09T18:46:34.134Z"
   },
   {
    "duration": 49,
    "start_time": "2022-03-09T18:46:34.162Z"
   },
   {
    "duration": 7,
    "start_time": "2022-03-09T18:46:34.215Z"
   },
   {
    "duration": 33,
    "start_time": "2022-03-09T18:46:34.225Z"
   },
   {
    "duration": 26,
    "start_time": "2022-03-09T18:46:34.261Z"
   },
   {
    "duration": 21,
    "start_time": "2022-03-09T18:46:34.290Z"
   },
   {
    "duration": 6,
    "start_time": "2022-03-09T18:46:34.313Z"
   },
   {
    "duration": 36,
    "start_time": "2022-03-09T18:46:34.321Z"
   },
   {
    "duration": 26,
    "start_time": "2022-03-09T18:46:34.361Z"
   },
   {
    "duration": 75,
    "start_time": "2022-03-09T18:46:34.390Z"
   },
   {
    "duration": 21,
    "start_time": "2022-03-09T18:46:34.468Z"
   },
   {
    "duration": 45,
    "start_time": "2022-03-09T18:46:34.492Z"
   },
   {
    "duration": 29,
    "start_time": "2022-03-09T18:46:34.539Z"
   },
   {
    "duration": 18,
    "start_time": "2022-03-09T18:46:34.570Z"
   },
   {
    "duration": 22,
    "start_time": "2022-03-09T18:46:34.590Z"
   },
   {
    "duration": 18,
    "start_time": "2022-03-09T18:46:34.615Z"
   },
   {
    "duration": 37,
    "start_time": "2022-03-09T18:46:34.636Z"
   },
   {
    "duration": 58,
    "start_time": "2022-03-09T18:46:34.676Z"
   },
   {
    "duration": 51,
    "start_time": "2022-03-09T18:46:34.738Z"
   },
   {
    "duration": 418,
    "start_time": "2022-03-09T18:46:34.792Z"
   },
   {
    "duration": 28,
    "start_time": "2022-03-09T18:46:35.212Z"
   },
   {
    "duration": 50,
    "start_time": "2022-03-09T18:46:35.242Z"
   },
   {
    "duration": 86,
    "start_time": "2022-03-09T18:46:35.294Z"
   },
   {
    "duration": 947,
    "start_time": "2022-03-09T18:46:34.436Z"
   },
   {
    "duration": 821,
    "start_time": "2022-03-09T18:54:26.092Z"
   },
   {
    "duration": 16,
    "start_time": "2022-03-09T18:54:26.916Z"
   },
   {
    "duration": 46,
    "start_time": "2022-03-09T18:54:26.941Z"
   },
   {
    "duration": 7,
    "start_time": "2022-03-09T18:54:26.990Z"
   },
   {
    "duration": 13,
    "start_time": "2022-03-09T18:54:27.000Z"
   },
   {
    "duration": 114,
    "start_time": "2022-03-09T18:54:27.015Z"
   },
   {
    "duration": 9,
    "start_time": "2022-03-09T18:54:27.133Z"
   },
   {
    "duration": 20,
    "start_time": "2022-03-09T18:54:27.145Z"
   },
   {
    "duration": 8,
    "start_time": "2022-03-09T18:54:27.186Z"
   },
   {
    "duration": 7,
    "start_time": "2022-03-09T18:54:27.196Z"
   },
   {
    "duration": 35,
    "start_time": "2022-03-09T18:54:27.205Z"
   },
   {
    "duration": 8,
    "start_time": "2022-03-09T18:54:27.242Z"
   },
   {
    "duration": 7,
    "start_time": "2022-03-09T18:54:27.287Z"
   },
   {
    "duration": 34,
    "start_time": "2022-03-09T18:54:27.297Z"
   },
   {
    "duration": 8,
    "start_time": "2022-03-09T18:54:27.334Z"
   },
   {
    "duration": 9,
    "start_time": "2022-03-09T18:54:27.345Z"
   },
   {
    "duration": 6,
    "start_time": "2022-03-09T18:54:27.388Z"
   },
   {
    "duration": 13,
    "start_time": "2022-03-09T18:54:27.396Z"
   },
   {
    "duration": 9,
    "start_time": "2022-03-09T18:54:27.411Z"
   },
   {
    "duration": 7,
    "start_time": "2022-03-09T18:54:27.422Z"
   },
   {
    "duration": 9,
    "start_time": "2022-03-09T18:54:27.431Z"
   },
   {
    "duration": 45,
    "start_time": "2022-03-09T18:54:27.447Z"
   },
   {
    "duration": 10,
    "start_time": "2022-03-09T18:54:27.496Z"
   },
   {
    "duration": 26,
    "start_time": "2022-03-09T18:54:27.509Z"
   },
   {
    "duration": 80,
    "start_time": "2022-03-09T18:54:27.538Z"
   },
   {
    "duration": 6,
    "start_time": "2022-03-09T18:54:27.621Z"
   },
   {
    "duration": 20,
    "start_time": "2022-03-09T18:54:27.629Z"
   },
   {
    "duration": 8,
    "start_time": "2022-03-09T18:54:27.651Z"
   },
   {
    "duration": 50,
    "start_time": "2022-03-09T18:54:27.661Z"
   },
   {
    "duration": 5,
    "start_time": "2022-03-09T18:54:27.714Z"
   },
   {
    "duration": 31,
    "start_time": "2022-03-09T18:54:27.722Z"
   },
   {
    "duration": 33,
    "start_time": "2022-03-09T18:54:27.756Z"
   },
   {
    "duration": 19,
    "start_time": "2022-03-09T18:54:27.792Z"
   },
   {
    "duration": 6,
    "start_time": "2022-03-09T18:54:27.813Z"
   },
   {
    "duration": 24,
    "start_time": "2022-03-09T18:54:27.821Z"
   },
   {
    "duration": 5,
    "start_time": "2022-03-09T18:54:27.847Z"
   },
   {
    "duration": 63,
    "start_time": "2022-03-09T18:54:27.855Z"
   },
   {
    "duration": 7,
    "start_time": "2022-03-09T18:54:27.921Z"
   },
   {
    "duration": 22,
    "start_time": "2022-03-09T18:54:27.930Z"
   },
   {
    "duration": 54,
    "start_time": "2022-03-09T18:54:27.954Z"
   },
   {
    "duration": 10,
    "start_time": "2022-03-09T18:54:28.010Z"
   },
   {
    "duration": 14,
    "start_time": "2022-03-09T18:54:28.022Z"
   },
   {
    "duration": 15,
    "start_time": "2022-03-09T18:54:28.038Z"
   },
   {
    "duration": 36,
    "start_time": "2022-03-09T18:54:28.056Z"
   },
   {
    "duration": 49,
    "start_time": "2022-03-09T18:54:28.095Z"
   },
   {
    "duration": 23,
    "start_time": "2022-03-09T18:54:28.146Z"
   },
   {
    "duration": 406,
    "start_time": "2022-03-09T18:54:28.172Z"
   },
   {
    "duration": 32,
    "start_time": "2022-03-09T18:54:28.581Z"
   },
   {
    "duration": 21,
    "start_time": "2022-03-09T18:54:28.615Z"
   },
   {
    "duration": 87,
    "start_time": "2022-03-09T18:54:28.638Z"
   },
   {
    "duration": 899,
    "start_time": "2022-03-09T18:54:27.828Z"
   },
   {
    "duration": 865,
    "start_time": "2022-03-09T19:12:17.209Z"
   },
   {
    "duration": 24,
    "start_time": "2022-03-09T19:12:18.078Z"
   },
   {
    "duration": 55,
    "start_time": "2022-03-09T19:12:18.105Z"
   },
   {
    "duration": 11,
    "start_time": "2022-03-09T19:12:18.164Z"
   },
   {
    "duration": 26,
    "start_time": "2022-03-09T19:12:18.177Z"
   },
   {
    "duration": 105,
    "start_time": "2022-03-09T19:12:18.205Z"
   },
   {
    "duration": 9,
    "start_time": "2022-03-09T19:12:18.313Z"
   },
   {
    "duration": 26,
    "start_time": "2022-03-09T19:12:18.326Z"
   },
   {
    "duration": 40,
    "start_time": "2022-03-09T19:12:18.355Z"
   },
   {
    "duration": 8,
    "start_time": "2022-03-09T19:12:18.398Z"
   },
   {
    "duration": 53,
    "start_time": "2022-03-09T19:12:18.409Z"
   },
   {
    "duration": 11,
    "start_time": "2022-03-09T19:12:18.465Z"
   },
   {
    "duration": 32,
    "start_time": "2022-03-09T19:12:18.479Z"
   },
   {
    "duration": 42,
    "start_time": "2022-03-09T19:12:18.513Z"
   },
   {
    "duration": 17,
    "start_time": "2022-03-09T19:12:18.557Z"
   },
   {
    "duration": 24,
    "start_time": "2022-03-09T19:12:18.576Z"
   },
   {
    "duration": 19,
    "start_time": "2022-03-09T19:12:18.603Z"
   },
   {
    "duration": 17,
    "start_time": "2022-03-09T19:12:18.625Z"
   },
   {
    "duration": 25,
    "start_time": "2022-03-09T19:12:18.646Z"
   },
   {
    "duration": 5,
    "start_time": "2022-03-09T19:12:18.674Z"
   },
   {
    "duration": 34,
    "start_time": "2022-03-09T19:12:18.684Z"
   },
   {
    "duration": 16,
    "start_time": "2022-03-09T19:12:18.721Z"
   },
   {
    "duration": 10,
    "start_time": "2022-03-09T19:12:18.742Z"
   },
   {
    "duration": 64,
    "start_time": "2022-03-09T19:12:18.755Z"
   },
   {
    "duration": 48,
    "start_time": "2022-03-09T19:12:18.822Z"
   },
   {
    "duration": 20,
    "start_time": "2022-03-09T19:12:18.872Z"
   },
   {
    "duration": 23,
    "start_time": "2022-03-09T19:12:18.895Z"
   },
   {
    "duration": 25,
    "start_time": "2022-03-09T19:12:18.921Z"
   },
   {
    "duration": 66,
    "start_time": "2022-03-09T19:12:18.949Z"
   },
   {
    "duration": 9,
    "start_time": "2022-03-09T19:12:19.018Z"
   },
   {
    "duration": 50,
    "start_time": "2022-03-09T19:12:19.030Z"
   },
   {
    "duration": 28,
    "start_time": "2022-03-09T19:12:19.084Z"
   },
   {
    "duration": 33,
    "start_time": "2022-03-09T19:12:19.114Z"
   },
   {
    "duration": 15,
    "start_time": "2022-03-09T19:12:19.150Z"
   },
   {
    "duration": 43,
    "start_time": "2022-03-09T19:12:19.167Z"
   },
   {
    "duration": 13,
    "start_time": "2022-03-09T19:12:19.213Z"
   },
   {
    "duration": 66,
    "start_time": "2022-03-09T19:12:19.229Z"
   },
   {
    "duration": 11,
    "start_time": "2022-03-09T19:12:19.297Z"
   },
   {
    "duration": 35,
    "start_time": "2022-03-09T19:12:19.311Z"
   },
   {
    "duration": 49,
    "start_time": "2022-03-09T19:12:19.348Z"
   },
   {
    "duration": 6,
    "start_time": "2022-03-09T19:12:19.400Z"
   },
   {
    "duration": 12,
    "start_time": "2022-03-09T19:12:19.410Z"
   },
   {
    "duration": 39,
    "start_time": "2022-03-09T19:12:19.426Z"
   },
   {
    "duration": 19,
    "start_time": "2022-03-09T19:12:19.467Z"
   },
   {
    "duration": 50,
    "start_time": "2022-03-09T19:12:19.488Z"
   },
   {
    "duration": 28,
    "start_time": "2022-03-09T19:12:19.541Z"
   },
   {
    "duration": 438,
    "start_time": "2022-03-09T19:12:19.572Z"
   },
   {
    "duration": 31,
    "start_time": "2022-03-09T19:12:20.012Z"
   },
   {
    "duration": 52,
    "start_time": "2022-03-09T19:12:20.046Z"
   },
   {
    "duration": 106,
    "start_time": "2022-03-09T19:12:20.101Z"
   },
   {
    "duration": 916,
    "start_time": "2022-03-09T19:12:19.294Z"
   },
   {
    "duration": 7,
    "start_time": "2022-03-09T19:13:03.454Z"
   },
   {
    "duration": 37,
    "start_time": "2022-03-09T19:13:36.667Z"
   },
   {
    "duration": 7,
    "start_time": "2022-03-09T19:24:18.080Z"
   },
   {
    "duration": 116,
    "start_time": "2022-03-09T19:25:35.112Z"
   },
   {
    "duration": 83,
    "start_time": "2022-03-09T19:25:42.842Z"
   },
   {
    "duration": 86,
    "start_time": "2022-03-09T19:26:24.063Z"
   },
   {
    "duration": 10,
    "start_time": "2022-03-09T19:26:28.270Z"
   },
   {
    "duration": 13,
    "start_time": "2022-03-09T19:26:34.487Z"
   },
   {
    "duration": 8,
    "start_time": "2022-03-09T19:26:42.920Z"
   },
   {
    "duration": 871,
    "start_time": "2022-03-09T19:28:46.365Z"
   },
   {
    "duration": 15,
    "start_time": "2022-03-09T19:28:47.239Z"
   },
   {
    "duration": 13,
    "start_time": "2022-03-09T19:28:47.256Z"
   },
   {
    "duration": 6,
    "start_time": "2022-03-09T19:28:47.297Z"
   },
   {
    "duration": 20,
    "start_time": "2022-03-09T19:28:47.305Z"
   },
   {
    "duration": 101,
    "start_time": "2022-03-09T19:28:47.327Z"
   },
   {
    "duration": 8,
    "start_time": "2022-03-09T19:28:47.431Z"
   },
   {
    "duration": 53,
    "start_time": "2022-03-09T19:28:47.443Z"
   },
   {
    "duration": 8,
    "start_time": "2022-03-09T19:28:47.499Z"
   },
   {
    "duration": 6,
    "start_time": "2022-03-09T19:28:47.510Z"
   },
   {
    "duration": 82,
    "start_time": "2022-03-09T19:28:47.519Z"
   },
   {
    "duration": 9,
    "start_time": "2022-03-09T19:28:47.604Z"
   },
   {
    "duration": 14,
    "start_time": "2022-03-09T19:28:47.615Z"
   },
   {
    "duration": 52,
    "start_time": "2022-03-09T19:28:47.631Z"
   },
   {
    "duration": 23,
    "start_time": "2022-03-09T19:28:47.688Z"
   },
   {
    "duration": 8,
    "start_time": "2022-03-09T19:28:47.713Z"
   },
   {
    "duration": 6,
    "start_time": "2022-03-09T19:28:47.724Z"
   },
   {
    "duration": 9,
    "start_time": "2022-03-09T19:28:47.732Z"
   },
   {
    "duration": 6702,
    "start_time": "2022-03-09T19:28:47.744Z"
   },
   {
    "duration": 887,
    "start_time": "2022-03-09T19:28:53.563Z"
   },
   {
    "duration": 886,
    "start_time": "2022-03-09T19:28:53.566Z"
   },
   {
    "duration": 884,
    "start_time": "2022-03-09T19:28:53.569Z"
   },
   {
    "duration": 884,
    "start_time": "2022-03-09T19:28:53.571Z"
   },
   {
    "duration": 883,
    "start_time": "2022-03-09T19:28:53.573Z"
   },
   {
    "duration": 883,
    "start_time": "2022-03-09T19:28:53.575Z"
   },
   {
    "duration": 882,
    "start_time": "2022-03-09T19:28:53.577Z"
   },
   {
    "duration": 881,
    "start_time": "2022-03-09T19:28:53.579Z"
   },
   {
    "duration": 881,
    "start_time": "2022-03-09T19:28:53.581Z"
   },
   {
    "duration": 880,
    "start_time": "2022-03-09T19:28:53.583Z"
   },
   {
    "duration": 879,
    "start_time": "2022-03-09T19:28:53.585Z"
   },
   {
    "duration": 880,
    "start_time": "2022-03-09T19:28:53.586Z"
   },
   {
    "duration": 873,
    "start_time": "2022-03-09T19:28:53.594Z"
   },
   {
    "duration": 873,
    "start_time": "2022-03-09T19:28:53.596Z"
   },
   {
    "duration": 872,
    "start_time": "2022-03-09T19:28:53.598Z"
   },
   {
    "duration": 872,
    "start_time": "2022-03-09T19:28:53.600Z"
   },
   {
    "duration": 871,
    "start_time": "2022-03-09T19:28:53.603Z"
   },
   {
    "duration": 871,
    "start_time": "2022-03-09T19:28:53.605Z"
   },
   {
    "duration": 871,
    "start_time": "2022-03-09T19:28:53.607Z"
   },
   {
    "duration": 872,
    "start_time": "2022-03-09T19:28:53.608Z"
   },
   {
    "duration": 873,
    "start_time": "2022-03-09T19:28:53.610Z"
   },
   {
    "duration": 873,
    "start_time": "2022-03-09T19:28:53.612Z"
   },
   {
    "duration": 871,
    "start_time": "2022-03-09T19:28:53.619Z"
   },
   {
    "duration": 870,
    "start_time": "2022-03-09T19:28:53.621Z"
   },
   {
    "duration": 873,
    "start_time": "2022-03-09T19:28:53.624Z"
   },
   {
    "duration": 874,
    "start_time": "2022-03-09T19:28:53.625Z"
   },
   {
    "duration": 874,
    "start_time": "2022-03-09T19:28:53.628Z"
   },
   {
    "duration": 874,
    "start_time": "2022-03-09T19:28:53.630Z"
   },
   {
    "duration": 873,
    "start_time": "2022-03-09T19:28:53.632Z"
   },
   {
    "duration": 873,
    "start_time": "2022-03-09T19:28:53.634Z"
   },
   {
    "duration": 872,
    "start_time": "2022-03-09T19:28:53.636Z"
   },
   {
    "duration": 871,
    "start_time": "2022-03-09T19:28:53.638Z"
   },
   {
    "duration": 871,
    "start_time": "2022-03-09T19:28:53.640Z"
   },
   {
    "duration": 870,
    "start_time": "2022-03-09T19:28:53.642Z"
   },
   {
    "duration": 869,
    "start_time": "2022-03-09T19:28:53.644Z"
   },
   {
    "duration": 865,
    "start_time": "2022-03-09T19:28:53.650Z"
   },
   {
    "duration": 6631,
    "start_time": "2022-03-09T19:29:26.408Z"
   },
   {
    "duration": 887,
    "start_time": "2022-03-09T19:29:32.156Z"
   },
   {
    "duration": 6861,
    "start_time": "2022-03-09T19:30:42.049Z"
   },
   {
    "duration": 841,
    "start_time": "2022-03-09T19:30:50.842Z"
   },
   {
    "duration": 19,
    "start_time": "2022-03-09T19:30:51.685Z"
   },
   {
    "duration": 13,
    "start_time": "2022-03-09T19:30:51.707Z"
   },
   {
    "duration": 6,
    "start_time": "2022-03-09T19:30:51.722Z"
   },
   {
    "duration": 11,
    "start_time": "2022-03-09T19:30:51.730Z"
   },
   {
    "duration": 127,
    "start_time": "2022-03-09T19:30:51.743Z"
   },
   {
    "duration": 26,
    "start_time": "2022-03-09T19:30:51.872Z"
   },
   {
    "duration": 46,
    "start_time": "2022-03-09T19:30:51.903Z"
   },
   {
    "duration": 8,
    "start_time": "2022-03-09T19:30:51.952Z"
   },
   {
    "duration": 34,
    "start_time": "2022-03-09T19:30:51.963Z"
   },
   {
    "duration": 52,
    "start_time": "2022-03-09T19:30:52.000Z"
   },
   {
    "duration": 9,
    "start_time": "2022-03-09T19:30:52.054Z"
   },
   {
    "duration": 12,
    "start_time": "2022-03-09T19:30:52.066Z"
   },
   {
    "duration": 41,
    "start_time": "2022-03-09T19:30:52.080Z"
   },
   {
    "duration": 12,
    "start_time": "2022-03-09T19:30:52.123Z"
   },
   {
    "duration": 9,
    "start_time": "2022-03-09T19:30:52.137Z"
   },
   {
    "duration": 7,
    "start_time": "2022-03-09T19:30:52.149Z"
   },
   {
    "duration": 34,
    "start_time": "2022-03-09T19:30:52.158Z"
   },
   {
    "duration": 6866,
    "start_time": "2022-03-09T19:30:52.195Z"
   },
   {
    "duration": 883,
    "start_time": "2022-03-09T19:30:58.182Z"
   },
   {
    "duration": 880,
    "start_time": "2022-03-09T19:30:58.186Z"
   },
   {
    "duration": 880,
    "start_time": "2022-03-09T19:30:58.188Z"
   },
   {
    "duration": 878,
    "start_time": "2022-03-09T19:30:58.191Z"
   },
   {
    "duration": 878,
    "start_time": "2022-03-09T19:30:58.193Z"
   },
   {
    "duration": 877,
    "start_time": "2022-03-09T19:30:58.195Z"
   },
   {
    "duration": 877,
    "start_time": "2022-03-09T19:30:58.197Z"
   },
   {
    "duration": 876,
    "start_time": "2022-03-09T19:30:58.199Z"
   },
   {
    "duration": 874,
    "start_time": "2022-03-09T19:30:58.202Z"
   },
   {
    "duration": 874,
    "start_time": "2022-03-09T19:30:58.204Z"
   },
   {
    "duration": 868,
    "start_time": "2022-03-09T19:30:58.211Z"
   },
   {
    "duration": 863,
    "start_time": "2022-03-09T19:30:58.217Z"
   },
   {
    "duration": 862,
    "start_time": "2022-03-09T19:30:58.220Z"
   },
   {
    "duration": 861,
    "start_time": "2022-03-09T19:30:58.222Z"
   },
   {
    "duration": 860,
    "start_time": "2022-03-09T19:30:58.224Z"
   },
   {
    "duration": 860,
    "start_time": "2022-03-09T19:30:58.226Z"
   },
   {
    "duration": 859,
    "start_time": "2022-03-09T19:30:58.228Z"
   },
   {
    "duration": 859,
    "start_time": "2022-03-09T19:30:58.230Z"
   },
   {
    "duration": 858,
    "start_time": "2022-03-09T19:30:58.233Z"
   },
   {
    "duration": 857,
    "start_time": "2022-03-09T19:30:58.235Z"
   },
   {
    "duration": 858,
    "start_time": "2022-03-09T19:30:58.236Z"
   },
   {
    "duration": 857,
    "start_time": "2022-03-09T19:30:58.238Z"
   },
   {
    "duration": 858,
    "start_time": "2022-03-09T19:30:58.241Z"
   },
   {
    "duration": 851,
    "start_time": "2022-03-09T19:30:58.250Z"
   },
   {
    "duration": 850,
    "start_time": "2022-03-09T19:30:58.252Z"
   },
   {
    "duration": 848,
    "start_time": "2022-03-09T19:30:58.255Z"
   },
   {
    "duration": 847,
    "start_time": "2022-03-09T19:30:58.257Z"
   },
   {
    "duration": 848,
    "start_time": "2022-03-09T19:30:58.258Z"
   },
   {
    "duration": 846,
    "start_time": "2022-03-09T19:30:58.261Z"
   },
   {
    "duration": 845,
    "start_time": "2022-03-09T19:30:58.263Z"
   },
   {
    "duration": 826,
    "start_time": "2022-03-09T19:30:58.284Z"
   },
   {
    "duration": 822,
    "start_time": "2022-03-09T19:30:58.289Z"
   },
   {
    "duration": 822,
    "start_time": "2022-03-09T19:30:58.291Z"
   },
   {
    "duration": 815,
    "start_time": "2022-03-09T19:30:58.299Z"
   },
   {
    "duration": 813,
    "start_time": "2022-03-09T19:30:58.303Z"
   },
   {
    "duration": 812,
    "start_time": "2022-03-09T19:30:58.305Z"
   },
   {
    "duration": 869,
    "start_time": "2022-03-09T19:32:50.763Z"
   },
   {
    "duration": 17,
    "start_time": "2022-03-09T19:32:51.635Z"
   },
   {
    "duration": 43,
    "start_time": "2022-03-09T19:32:51.655Z"
   },
   {
    "duration": 6,
    "start_time": "2022-03-09T19:32:51.702Z"
   },
   {
    "duration": 11,
    "start_time": "2022-03-09T19:32:51.711Z"
   },
   {
    "duration": 119,
    "start_time": "2022-03-09T19:32:51.725Z"
   },
   {
    "duration": 10,
    "start_time": "2022-03-09T19:32:51.847Z"
   },
   {
    "duration": 50,
    "start_time": "2022-03-09T19:32:51.861Z"
   },
   {
    "duration": 8,
    "start_time": "2022-03-09T19:32:51.914Z"
   },
   {
    "duration": 6,
    "start_time": "2022-03-09T19:32:51.924Z"
   },
   {
    "duration": 78,
    "start_time": "2022-03-09T19:32:51.933Z"
   },
   {
    "duration": 9,
    "start_time": "2022-03-09T19:32:52.014Z"
   },
   {
    "duration": 11,
    "start_time": "2022-03-09T19:32:52.025Z"
   },
   {
    "duration": 65,
    "start_time": "2022-03-09T19:32:52.038Z"
   },
   {
    "duration": 8,
    "start_time": "2022-03-09T19:32:52.105Z"
   },
   {
    "duration": 9,
    "start_time": "2022-03-09T19:32:52.116Z"
   },
   {
    "duration": 10,
    "start_time": "2022-03-09T19:32:52.127Z"
   },
   {
    "duration": 10,
    "start_time": "2022-03-09T19:32:52.139Z"
   },
   {
    "duration": 6787,
    "start_time": "2022-03-09T19:32:52.151Z"
   },
   {
    "duration": 883,
    "start_time": "2022-03-09T19:32:58.060Z"
   },
   {
    "duration": 882,
    "start_time": "2022-03-09T19:32:58.063Z"
   },
   {
    "duration": 880,
    "start_time": "2022-03-09T19:32:58.067Z"
   },
   {
    "duration": 882,
    "start_time": "2022-03-09T19:32:58.068Z"
   },
   {
    "duration": 881,
    "start_time": "2022-03-09T19:32:58.071Z"
   },
   {
    "duration": 876,
    "start_time": "2022-03-09T19:32:58.078Z"
   },
   {
    "duration": 875,
    "start_time": "2022-03-09T19:32:58.081Z"
   },
   {
    "duration": 874,
    "start_time": "2022-03-09T19:32:58.084Z"
   },
   {
    "duration": 873,
    "start_time": "2022-03-09T19:32:58.087Z"
   },
   {
    "duration": 875,
    "start_time": "2022-03-09T19:32:58.089Z"
   },
   {
    "duration": 874,
    "start_time": "2022-03-09T19:32:58.092Z"
   },
   {
    "duration": 874,
    "start_time": "2022-03-09T19:32:58.095Z"
   },
   {
    "duration": 873,
    "start_time": "2022-03-09T19:32:58.098Z"
   },
   {
    "duration": 868,
    "start_time": "2022-03-09T19:32:58.105Z"
   },
   {
    "duration": 867,
    "start_time": "2022-03-09T19:32:58.108Z"
   },
   {
    "duration": 867,
    "start_time": "2022-03-09T19:32:58.110Z"
   },
   {
    "duration": 865,
    "start_time": "2022-03-09T19:32:58.114Z"
   },
   {
    "duration": 863,
    "start_time": "2022-03-09T19:32:58.117Z"
   },
   {
    "duration": 858,
    "start_time": "2022-03-09T19:32:58.124Z"
   },
   {
    "duration": 869,
    "start_time": "2022-03-09T19:32:58.127Z"
   },
   {
    "duration": 868,
    "start_time": "2022-03-09T19:32:58.130Z"
   },
   {
    "duration": 867,
    "start_time": "2022-03-09T19:32:58.133Z"
   },
   {
    "duration": 867,
    "start_time": "2022-03-09T19:32:58.136Z"
   },
   {
    "duration": 859,
    "start_time": "2022-03-09T19:32:58.146Z"
   },
   {
    "duration": 858,
    "start_time": "2022-03-09T19:32:58.149Z"
   },
   {
    "duration": 856,
    "start_time": "2022-03-09T19:32:58.153Z"
   },
   {
    "duration": 861,
    "start_time": "2022-03-09T19:32:58.155Z"
   },
   {
    "duration": 859,
    "start_time": "2022-03-09T19:32:58.158Z"
   },
   {
    "duration": 862,
    "start_time": "2022-03-09T19:32:58.160Z"
   },
   {
    "duration": 860,
    "start_time": "2022-03-09T19:32:58.163Z"
   },
   {
    "duration": 854,
    "start_time": "2022-03-09T19:32:58.171Z"
   },
   {
    "duration": 853,
    "start_time": "2022-03-09T19:32:58.173Z"
   },
   {
    "duration": 852,
    "start_time": "2022-03-09T19:32:58.176Z"
   },
   {
    "duration": 850,
    "start_time": "2022-03-09T19:32:58.179Z"
   },
   {
    "duration": 848,
    "start_time": "2022-03-09T19:32:58.182Z"
   },
   {
    "duration": 846,
    "start_time": "2022-03-09T19:32:58.185Z"
   },
   {
    "duration": 845,
    "start_time": "2022-03-09T19:32:58.188Z"
   },
   {
    "duration": 6663,
    "start_time": "2022-03-09T19:35:26.908Z"
   },
   {
    "duration": 5,
    "start_time": "2022-03-09T19:36:13.104Z"
   },
   {
    "duration": 849,
    "start_time": "2022-03-09T19:36:36.452Z"
   },
   {
    "duration": 15,
    "start_time": "2022-03-09T19:36:37.304Z"
   },
   {
    "duration": 21,
    "start_time": "2022-03-09T19:36:37.324Z"
   },
   {
    "duration": 7,
    "start_time": "2022-03-09T19:36:37.349Z"
   },
   {
    "duration": 50,
    "start_time": "2022-03-09T19:36:37.359Z"
   },
   {
    "duration": 94,
    "start_time": "2022-03-09T19:36:37.411Z"
   },
   {
    "duration": 10,
    "start_time": "2022-03-09T19:36:37.509Z"
   },
   {
    "duration": 34,
    "start_time": "2022-03-09T19:36:37.523Z"
   },
   {
    "duration": 15,
    "start_time": "2022-03-09T19:36:37.588Z"
   },
   {
    "duration": 7,
    "start_time": "2022-03-09T19:36:37.606Z"
   },
   {
    "duration": 37,
    "start_time": "2022-03-09T19:36:37.615Z"
   },
   {
    "duration": 41,
    "start_time": "2022-03-09T19:36:37.655Z"
   },
   {
    "duration": 19,
    "start_time": "2022-03-09T19:36:37.699Z"
   },
   {
    "duration": 36,
    "start_time": "2022-03-09T19:36:37.721Z"
   },
   {
    "duration": 27,
    "start_time": "2022-03-09T19:36:37.760Z"
   },
   {
    "duration": 9,
    "start_time": "2022-03-09T19:36:37.792Z"
   },
   {
    "duration": 10,
    "start_time": "2022-03-09T19:36:37.804Z"
   },
   {
    "duration": 10,
    "start_time": "2022-03-09T19:36:37.816Z"
   },
   {
    "duration": 8,
    "start_time": "2022-03-09T19:36:37.829Z"
   },
   {
    "duration": 10,
    "start_time": "2022-03-09T19:36:37.839Z"
   },
   {
    "duration": 47,
    "start_time": "2022-03-09T19:36:37.851Z"
   },
   {
    "duration": 18,
    "start_time": "2022-03-09T19:36:37.900Z"
   },
   {
    "duration": 6,
    "start_time": "2022-03-09T19:36:37.925Z"
   },
   {
    "duration": 7,
    "start_time": "2022-03-09T19:36:37.934Z"
   },
   {
    "duration": 8,
    "start_time": "2022-03-09T19:36:37.943Z"
   },
   {
    "duration": 33,
    "start_time": "2022-03-09T19:36:37.954Z"
   },
   {
    "duration": 9,
    "start_time": "2022-03-09T19:36:37.990Z"
   },
   {
    "duration": 41,
    "start_time": "2022-03-09T19:36:38.001Z"
   },
   {
    "duration": 64,
    "start_time": "2022-03-09T19:36:38.044Z"
   },
   {
    "duration": 7,
    "start_time": "2022-03-09T19:36:38.110Z"
   },
   {
    "duration": 22,
    "start_time": "2022-03-09T19:36:38.119Z"
   },
   {
    "duration": 15,
    "start_time": "2022-03-09T19:36:38.143Z"
   },
   {
    "duration": 56,
    "start_time": "2022-03-09T19:36:38.161Z"
   },
   {
    "duration": 15,
    "start_time": "2022-03-09T19:36:38.220Z"
   },
   {
    "duration": 27,
    "start_time": "2022-03-09T19:36:38.238Z"
   },
   {
    "duration": 24,
    "start_time": "2022-03-09T19:36:38.268Z"
   },
   {
    "duration": 26,
    "start_time": "2022-03-09T19:36:38.295Z"
   },
   {
    "duration": 7,
    "start_time": "2022-03-09T19:36:38.324Z"
   },
   {
    "duration": 33,
    "start_time": "2022-03-09T19:36:38.334Z"
   },
   {
    "duration": 26,
    "start_time": "2022-03-09T19:36:38.370Z"
   },
   {
    "duration": 55,
    "start_time": "2022-03-09T19:36:38.399Z"
   },
   {
    "duration": 7,
    "start_time": "2022-03-09T19:36:38.457Z"
   },
   {
    "duration": 46,
    "start_time": "2022-03-09T19:36:38.466Z"
   },
   {
    "duration": 24,
    "start_time": "2022-03-09T19:36:38.514Z"
   },
   {
    "duration": 3,
    "start_time": "2022-03-09T19:36:38.541Z"
   },
   {
    "duration": 6,
    "start_time": "2022-03-09T19:36:38.547Z"
   },
   {
    "duration": 45,
    "start_time": "2022-03-09T19:36:38.556Z"
   },
   {
    "duration": 19,
    "start_time": "2022-03-09T19:36:38.604Z"
   },
   {
    "duration": 33,
    "start_time": "2022-03-09T19:36:38.625Z"
   },
   {
    "duration": 57,
    "start_time": "2022-03-09T19:36:38.660Z"
   },
   {
    "duration": 437,
    "start_time": "2022-03-09T19:36:38.720Z"
   },
   {
    "duration": 43,
    "start_time": "2022-03-09T19:36:39.159Z"
   },
   {
    "duration": 22,
    "start_time": "2022-03-09T19:36:39.205Z"
   },
   {
    "duration": 119,
    "start_time": "2022-03-09T19:36:39.229Z"
   },
   {
    "duration": 892,
    "start_time": "2022-03-09T19:36:38.459Z"
   },
   {
    "duration": 882,
    "start_time": "2022-03-09T19:46:16.203Z"
   },
   {
    "duration": 18,
    "start_time": "2022-03-09T19:46:17.091Z"
   },
   {
    "duration": 13,
    "start_time": "2022-03-09T19:46:17.116Z"
   },
   {
    "duration": 5,
    "start_time": "2022-03-09T19:46:17.132Z"
   },
   {
    "duration": 10,
    "start_time": "2022-03-09T19:46:17.140Z"
   },
   {
    "duration": 124,
    "start_time": "2022-03-09T19:46:17.153Z"
   },
   {
    "duration": 13,
    "start_time": "2022-03-09T19:46:17.288Z"
   },
   {
    "duration": 22,
    "start_time": "2022-03-09T19:46:17.307Z"
   },
   {
    "duration": 11,
    "start_time": "2022-03-09T19:46:17.333Z"
   },
   {
    "duration": 46,
    "start_time": "2022-03-09T19:46:17.346Z"
   },
   {
    "duration": 37,
    "start_time": "2022-03-09T19:46:17.395Z"
   },
   {
    "duration": 12,
    "start_time": "2022-03-09T19:46:17.434Z"
   },
   {
    "duration": 40,
    "start_time": "2022-03-09T19:46:17.448Z"
   },
   {
    "duration": 38,
    "start_time": "2022-03-09T19:46:17.491Z"
   },
   {
    "duration": 7,
    "start_time": "2022-03-09T19:46:17.532Z"
   },
   {
    "duration": 14,
    "start_time": "2022-03-09T19:46:17.542Z"
   },
   {
    "duration": 37,
    "start_time": "2022-03-09T19:46:17.559Z"
   },
   {
    "duration": 11,
    "start_time": "2022-03-09T19:46:17.600Z"
   },
   {
    "duration": 11,
    "start_time": "2022-03-09T19:46:17.614Z"
   },
   {
    "duration": 12,
    "start_time": "2022-03-09T19:46:17.628Z"
   },
   {
    "duration": 7,
    "start_time": "2022-03-09T19:46:17.642Z"
   },
   {
    "duration": 44,
    "start_time": "2022-03-09T19:46:17.651Z"
   },
   {
    "duration": 13,
    "start_time": "2022-03-09T19:46:17.697Z"
   },
   {
    "duration": 20,
    "start_time": "2022-03-09T19:46:17.713Z"
   },
   {
    "duration": 14,
    "start_time": "2022-03-09T19:46:17.736Z"
   },
   {
    "duration": 5,
    "start_time": "2022-03-09T19:46:17.757Z"
   },
   {
    "duration": 9,
    "start_time": "2022-03-09T19:46:17.786Z"
   },
   {
    "duration": 34,
    "start_time": "2022-03-09T19:46:17.798Z"
   },
   {
    "duration": 72,
    "start_time": "2022-03-09T19:46:17.835Z"
   },
   {
    "duration": 8,
    "start_time": "2022-03-09T19:46:17.909Z"
   },
   {
    "duration": 18,
    "start_time": "2022-03-09T19:46:17.920Z"
   },
   {
    "duration": 14,
    "start_time": "2022-03-09T19:46:17.941Z"
   },
   {
    "duration": 34,
    "start_time": "2022-03-09T19:46:17.986Z"
   },
   {
    "duration": 5,
    "start_time": "2022-03-09T19:46:18.023Z"
   },
   {
    "duration": 26,
    "start_time": "2022-03-09T19:46:18.031Z"
   },
   {
    "duration": 6,
    "start_time": "2022-03-09T19:46:18.088Z"
   },
   {
    "duration": 25,
    "start_time": "2022-03-09T19:46:18.097Z"
   },
   {
    "duration": 10,
    "start_time": "2022-03-09T19:46:18.125Z"
   },
   {
    "duration": 26,
    "start_time": "2022-03-09T19:46:18.137Z"
   },
   {
    "duration": 24,
    "start_time": "2022-03-09T19:46:18.166Z"
   },
   {
    "duration": 48,
    "start_time": "2022-03-09T19:46:18.200Z"
   },
   {
    "duration": 7,
    "start_time": "2022-03-09T19:46:18.251Z"
   },
   {
    "duration": 50,
    "start_time": "2022-03-09T19:46:18.261Z"
   },
   {
    "duration": 24,
    "start_time": "2022-03-09T19:46:18.314Z"
   },
   {
    "duration": 4,
    "start_time": "2022-03-09T19:46:18.340Z"
   },
   {
    "duration": 5,
    "start_time": "2022-03-09T19:46:18.346Z"
   },
   {
    "duration": 49,
    "start_time": "2022-03-09T19:46:18.353Z"
   },
   {
    "duration": 29,
    "start_time": "2022-03-09T19:46:18.405Z"
   },
   {
    "duration": 49,
    "start_time": "2022-03-09T19:46:18.437Z"
   },
   {
    "duration": 26,
    "start_time": "2022-03-09T19:46:18.489Z"
   },
   {
    "duration": 470,
    "start_time": "2022-03-09T19:46:18.518Z"
   },
   {
    "duration": 29,
    "start_time": "2022-03-09T19:46:18.991Z"
   },
   {
    "duration": 23,
    "start_time": "2022-03-09T19:46:19.023Z"
   },
   {
    "duration": 95,
    "start_time": "2022-03-09T19:46:19.049Z"
   },
   {
    "duration": 877,
    "start_time": "2022-03-09T19:46:18.269Z"
   },
   {
    "duration": 288,
    "start_time": "2022-03-10T06:03:28.787Z"
   },
   {
    "duration": 657,
    "start_time": "2022-03-10T06:03:35.670Z"
   },
   {
    "duration": 9,
    "start_time": "2022-03-10T06:03:36.331Z"
   },
   {
    "duration": 8,
    "start_time": "2022-03-10T06:03:36.342Z"
   },
   {
    "duration": 4,
    "start_time": "2022-03-10T06:03:36.351Z"
   },
   {
    "duration": 6,
    "start_time": "2022-03-10T06:03:36.356Z"
   },
   {
    "duration": 80,
    "start_time": "2022-03-10T06:03:36.363Z"
   },
   {
    "duration": 5,
    "start_time": "2022-03-10T06:03:36.445Z"
   },
   {
    "duration": 10,
    "start_time": "2022-03-10T06:03:36.452Z"
   },
   {
    "duration": 294,
    "start_time": "2022-03-10T06:03:36.463Z"
   },
   {
    "duration": -58,
    "start_time": "2022-03-10T06:03:36.818Z"
   },
   {
    "duration": -59,
    "start_time": "2022-03-10T06:03:36.820Z"
   },
   {
    "duration": -62,
    "start_time": "2022-03-10T06:03:36.824Z"
   },
   {
    "duration": -67,
    "start_time": "2022-03-10T06:03:36.830Z"
   },
   {
    "duration": -68,
    "start_time": "2022-03-10T06:03:36.832Z"
   },
   {
    "duration": -69,
    "start_time": "2022-03-10T06:03:36.834Z"
   },
   {
    "duration": -71,
    "start_time": "2022-03-10T06:03:36.836Z"
   },
   {
    "duration": -71,
    "start_time": "2022-03-10T06:03:36.837Z"
   },
   {
    "duration": -79,
    "start_time": "2022-03-10T06:03:36.846Z"
   },
   {
    "duration": -83,
    "start_time": "2022-03-10T06:03:36.851Z"
   },
   {
    "duration": -112,
    "start_time": "2022-03-10T06:03:36.881Z"
   },
   {
    "duration": -113,
    "start_time": "2022-03-10T06:03:36.883Z"
   },
   {
    "duration": -127,
    "start_time": "2022-03-10T06:03:36.898Z"
   },
   {
    "duration": -129,
    "start_time": "2022-03-10T06:03:36.900Z"
   },
   {
    "duration": -131,
    "start_time": "2022-03-10T06:03:36.903Z"
   },
   {
    "duration": -131,
    "start_time": "2022-03-10T06:03:36.904Z"
   },
   {
    "duration": -132,
    "start_time": "2022-03-10T06:03:36.906Z"
   },
   {
    "duration": -226,
    "start_time": "2022-03-10T06:03:37.001Z"
   },
   {
    "duration": -227,
    "start_time": "2022-03-10T06:03:37.003Z"
   },
   {
    "duration": -228,
    "start_time": "2022-03-10T06:03:37.005Z"
   },
   {
    "duration": -230,
    "start_time": "2022-03-10T06:03:37.007Z"
   },
   {
    "duration": -258,
    "start_time": "2022-03-10T06:03:37.036Z"
   },
   {
    "duration": -259,
    "start_time": "2022-03-10T06:03:37.038Z"
   },
   {
    "duration": -260,
    "start_time": "2022-03-10T06:03:37.040Z"
   },
   {
    "duration": -261,
    "start_time": "2022-03-10T06:03:37.042Z"
   },
   {
    "duration": -262,
    "start_time": "2022-03-10T06:03:37.044Z"
   },
   {
    "duration": -281,
    "start_time": "2022-03-10T06:03:37.064Z"
   },
   {
    "duration": -282,
    "start_time": "2022-03-10T06:03:37.066Z"
   },
   {
    "duration": -283,
    "start_time": "2022-03-10T06:03:37.068Z"
   },
   {
    "duration": -286,
    "start_time": "2022-03-10T06:03:37.071Z"
   },
   {
    "duration": -286,
    "start_time": "2022-03-10T06:03:37.072Z"
   },
   {
    "duration": -291,
    "start_time": "2022-03-10T06:03:37.078Z"
   },
   {
    "duration": -293,
    "start_time": "2022-03-10T06:03:37.081Z"
   },
   {
    "duration": -293,
    "start_time": "2022-03-10T06:03:37.082Z"
   },
   {
    "duration": -294,
    "start_time": "2022-03-10T06:03:37.084Z"
   },
   {
    "duration": -294,
    "start_time": "2022-03-10T06:03:37.085Z"
   },
   {
    "duration": -297,
    "start_time": "2022-03-10T06:03:37.088Z"
   },
   {
    "duration": -298,
    "start_time": "2022-03-10T06:03:37.090Z"
   },
   {
    "duration": -303,
    "start_time": "2022-03-10T06:03:37.096Z"
   },
   {
    "duration": -305,
    "start_time": "2022-03-10T06:03:37.099Z"
   },
   {
    "duration": -306,
    "start_time": "2022-03-10T06:03:37.101Z"
   },
   {
    "duration": -308,
    "start_time": "2022-03-10T06:03:37.104Z"
   },
   {
    "duration": -309,
    "start_time": "2022-03-10T06:03:37.106Z"
   },
   {
    "duration": -322,
    "start_time": "2022-03-10T06:03:37.120Z"
   },
   {
    "duration": -331,
    "start_time": "2022-03-10T06:03:37.130Z"
   },
   {
    "duration": -348,
    "start_time": "2022-03-10T06:03:37.148Z"
   },
   {
    "duration": -355,
    "start_time": "2022-03-10T06:03:37.155Z"
   },
   {
    "duration": 576,
    "start_time": "2022-03-10T06:10:09.649Z"
   },
   {
    "duration": 10,
    "start_time": "2022-03-10T06:10:10.228Z"
   },
   {
    "duration": 7,
    "start_time": "2022-03-10T06:10:10.240Z"
   },
   {
    "duration": 5,
    "start_time": "2022-03-10T06:10:10.248Z"
   },
   {
    "duration": 6,
    "start_time": "2022-03-10T06:10:10.254Z"
   },
   {
    "duration": 77,
    "start_time": "2022-03-10T06:10:10.262Z"
   },
   {
    "duration": 6,
    "start_time": "2022-03-10T06:10:10.341Z"
   },
   {
    "duration": 11,
    "start_time": "2022-03-10T06:10:10.350Z"
   },
   {
    "duration": 5,
    "start_time": "2022-03-10T06:10:10.362Z"
   },
   {
    "duration": 31,
    "start_time": "2022-03-10T06:10:10.369Z"
   },
   {
    "duration": 4,
    "start_time": "2022-03-10T06:10:10.402Z"
   },
   {
    "duration": 20,
    "start_time": "2022-03-10T06:10:10.407Z"
   },
   {
    "duration": 10,
    "start_time": "2022-03-10T06:10:10.428Z"
   },
   {
    "duration": 7,
    "start_time": "2022-03-10T06:10:10.439Z"
   },
   {
    "duration": 26,
    "start_time": "2022-03-10T06:10:10.447Z"
   },
   {
    "duration": 4,
    "start_time": "2022-03-10T06:10:10.475Z"
   },
   {
    "duration": 21,
    "start_time": "2022-03-10T06:10:10.481Z"
   },
   {
    "duration": 4,
    "start_time": "2022-03-10T06:10:10.503Z"
   },
   {
    "duration": 12,
    "start_time": "2022-03-10T06:10:10.508Z"
   },
   {
    "duration": 9,
    "start_time": "2022-03-10T06:10:10.522Z"
   },
   {
    "duration": 8,
    "start_time": "2022-03-10T06:10:10.533Z"
   },
   {
    "duration": 7,
    "start_time": "2022-03-10T06:10:10.543Z"
   },
   {
    "duration": 11,
    "start_time": "2022-03-10T06:10:10.552Z"
   },
   {
    "duration": 7,
    "start_time": "2022-03-10T06:10:10.564Z"
   },
   {
    "duration": 10,
    "start_time": "2022-03-10T06:10:10.573Z"
   },
   {
    "duration": 7,
    "start_time": "2022-03-10T06:10:10.587Z"
   },
   {
    "duration": 7,
    "start_time": "2022-03-10T06:10:10.596Z"
   },
   {
    "duration": 10,
    "start_time": "2022-03-10T06:10:10.605Z"
   },
   {
    "duration": 26,
    "start_time": "2022-03-10T06:10:10.617Z"
   },
   {
    "duration": 30,
    "start_time": "2022-03-10T06:10:10.644Z"
   },
   {
    "duration": 4,
    "start_time": "2022-03-10T06:10:10.675Z"
   },
   {
    "duration": 27,
    "start_time": "2022-03-10T06:10:10.680Z"
   },
   {
    "duration": 5,
    "start_time": "2022-03-10T06:10:10.709Z"
   },
   {
    "duration": 18,
    "start_time": "2022-03-10T06:10:10.716Z"
   },
   {
    "duration": 7,
    "start_time": "2022-03-10T06:10:10.736Z"
   },
   {
    "duration": 19,
    "start_time": "2022-03-10T06:10:10.744Z"
   },
   {
    "duration": 3,
    "start_time": "2022-03-10T06:10:10.764Z"
   },
   {
    "duration": 12,
    "start_time": "2022-03-10T06:10:10.769Z"
   },
   {
    "duration": 3,
    "start_time": "2022-03-10T06:10:10.783Z"
   },
   {
    "duration": 15,
    "start_time": "2022-03-10T06:10:10.802Z"
   },
   {
    "duration": 3,
    "start_time": "2022-03-10T06:10:10.818Z"
   },
   {
    "duration": 30,
    "start_time": "2022-03-10T06:10:10.822Z"
   },
   {
    "duration": 4,
    "start_time": "2022-03-10T06:10:10.854Z"
   },
   {
    "duration": 18,
    "start_time": "2022-03-10T06:10:10.859Z"
   },
   {
    "duration": 32,
    "start_time": "2022-03-10T06:10:10.879Z"
   },
   {
    "duration": 3,
    "start_time": "2022-03-10T06:10:10.912Z"
   },
   {
    "duration": 4,
    "start_time": "2022-03-10T06:10:10.917Z"
   },
   {
    "duration": 14,
    "start_time": "2022-03-10T06:10:10.923Z"
   },
   {
    "duration": 13,
    "start_time": "2022-03-10T06:10:10.939Z"
   },
   {
    "duration": 23,
    "start_time": "2022-03-10T06:10:10.954Z"
   },
   {
    "duration": 33,
    "start_time": "2022-03-10T06:10:10.978Z"
   },
   {
    "duration": 211,
    "start_time": "2022-03-10T06:10:11.012Z"
   },
   {
    "duration": 17,
    "start_time": "2022-03-10T06:10:11.224Z"
   },
   {
    "duration": 13,
    "start_time": "2022-03-10T06:10:11.243Z"
   },
   {
    "duration": 87,
    "start_time": "2022-03-10T06:10:11.257Z"
   },
   {
    "duration": -1111,
    "start_time": "2022-03-10T06:10:12.457Z"
   },
   {
    "duration": 591,
    "start_time": "2022-03-10T06:12:53.344Z"
   },
   {
    "duration": 10,
    "start_time": "2022-03-10T06:12:53.936Z"
   },
   {
    "duration": 7,
    "start_time": "2022-03-10T06:12:53.948Z"
   },
   {
    "duration": 3,
    "start_time": "2022-03-10T06:12:53.957Z"
   },
   {
    "duration": 6,
    "start_time": "2022-03-10T06:12:53.962Z"
   },
   {
    "duration": 72,
    "start_time": "2022-03-10T06:12:53.969Z"
   },
   {
    "duration": 6,
    "start_time": "2022-03-10T06:12:54.042Z"
   },
   {
    "duration": 10,
    "start_time": "2022-03-10T06:12:54.050Z"
   },
   {
    "duration": 6,
    "start_time": "2022-03-10T06:12:54.062Z"
   },
   {
    "duration": 4,
    "start_time": "2022-03-10T06:12:54.070Z"
   },
   {
    "duration": 27,
    "start_time": "2022-03-10T06:12:54.076Z"
   },
   {
    "duration": 3,
    "start_time": "2022-03-10T06:12:54.105Z"
   },
   {
    "duration": 24,
    "start_time": "2022-03-10T06:12:54.110Z"
   },
   {
    "duration": 8,
    "start_time": "2022-03-10T06:12:54.136Z"
   },
   {
    "duration": 6,
    "start_time": "2022-03-10T06:12:54.146Z"
   },
   {
    "duration": 25,
    "start_time": "2022-03-10T06:12:54.154Z"
   },
   {
    "duration": 23,
    "start_time": "2022-03-10T06:12:54.180Z"
   },
   {
    "duration": 4,
    "start_time": "2022-03-10T06:12:54.205Z"
   },
   {
    "duration": 7,
    "start_time": "2022-03-10T06:12:54.211Z"
   },
   {
    "duration": 9,
    "start_time": "2022-03-10T06:12:54.219Z"
   },
   {
    "duration": 9,
    "start_time": "2022-03-10T06:12:54.229Z"
   },
   {
    "duration": 9,
    "start_time": "2022-03-10T06:12:54.239Z"
   },
   {
    "duration": 9,
    "start_time": "2022-03-10T06:12:54.251Z"
   },
   {
    "duration": 10,
    "start_time": "2022-03-10T06:12:54.261Z"
   },
   {
    "duration": 7,
    "start_time": "2022-03-10T06:12:54.272Z"
   },
   {
    "duration": 7,
    "start_time": "2022-03-10T06:12:54.280Z"
   },
   {
    "duration": 14,
    "start_time": "2022-03-10T06:12:54.289Z"
   },
   {
    "duration": 6,
    "start_time": "2022-03-10T06:12:54.305Z"
   },
   {
    "duration": 14,
    "start_time": "2022-03-10T06:12:54.313Z"
   },
   {
    "duration": 30,
    "start_time": "2022-03-10T06:12:54.328Z"
   },
   {
    "duration": 26,
    "start_time": "2022-03-10T06:12:54.359Z"
   },
   {
    "duration": 4,
    "start_time": "2022-03-10T06:12:54.387Z"
   },
   {
    "duration": 16,
    "start_time": "2022-03-10T06:12:54.392Z"
   },
   {
    "duration": 9,
    "start_time": "2022-03-10T06:12:54.410Z"
   },
   {
    "duration": 18,
    "start_time": "2022-03-10T06:12:54.421Z"
   },
   {
    "duration": 4,
    "start_time": "2022-03-10T06:12:54.441Z"
   },
   {
    "duration": 21,
    "start_time": "2022-03-10T06:12:54.447Z"
   },
   {
    "duration": 3,
    "start_time": "2022-03-10T06:12:54.470Z"
   },
   {
    "duration": 11,
    "start_time": "2022-03-10T06:12:54.475Z"
   },
   {
    "duration": 4,
    "start_time": "2022-03-10T06:12:54.501Z"
   },
   {
    "duration": 18,
    "start_time": "2022-03-10T06:12:54.507Z"
   },
   {
    "duration": 4,
    "start_time": "2022-03-10T06:12:54.527Z"
   },
   {
    "duration": 30,
    "start_time": "2022-03-10T06:12:54.533Z"
   },
   {
    "duration": 4,
    "start_time": "2022-03-10T06:12:54.565Z"
   },
   {
    "duration": 32,
    "start_time": "2022-03-10T06:12:54.570Z"
   },
   {
    "duration": 14,
    "start_time": "2022-03-10T06:12:54.603Z"
   },
   {
    "duration": 2,
    "start_time": "2022-03-10T06:12:54.618Z"
   },
   {
    "duration": 7,
    "start_time": "2022-03-10T06:12:54.622Z"
   },
   {
    "duration": 14,
    "start_time": "2022-03-10T06:12:54.630Z"
   },
   {
    "duration": 14,
    "start_time": "2022-03-10T06:12:54.645Z"
   },
   {
    "duration": 19,
    "start_time": "2022-03-10T06:12:54.660Z"
   },
   {
    "duration": 28,
    "start_time": "2022-03-10T06:12:54.681Z"
   },
   {
    "duration": 306,
    "start_time": "2022-03-10T06:12:54.710Z"
   },
   {
    "duration": 26,
    "start_time": "2022-03-10T06:12:55.019Z"
   },
   {
    "duration": 19,
    "start_time": "2022-03-10T06:12:55.047Z"
   },
   {
    "duration": 79,
    "start_time": "2022-03-10T06:12:55.068Z"
   },
   {
    "duration": -40,
    "start_time": "2022-03-10T06:12:55.189Z"
   },
   {
    "duration": 5,
    "start_time": "2022-03-10T06:14:19.344Z"
   },
   {
    "duration": 645,
    "start_time": "2022-03-10T06:14:39.890Z"
   },
   {
    "duration": 11,
    "start_time": "2022-03-10T06:14:40.537Z"
   },
   {
    "duration": 10,
    "start_time": "2022-03-10T06:14:40.550Z"
   },
   {
    "duration": 4,
    "start_time": "2022-03-10T06:14:40.562Z"
   },
   {
    "duration": 34,
    "start_time": "2022-03-10T06:14:40.568Z"
   },
   {
    "duration": 56,
    "start_time": "2022-03-10T06:14:40.604Z"
   },
   {
    "duration": 6,
    "start_time": "2022-03-10T06:14:40.662Z"
   },
   {
    "duration": 10,
    "start_time": "2022-03-10T06:14:40.670Z"
   },
   {
    "duration": 6,
    "start_time": "2022-03-10T06:14:40.704Z"
   },
   {
    "duration": 11,
    "start_time": "2022-03-10T06:14:40.712Z"
   },
   {
    "duration": 6,
    "start_time": "2022-03-10T06:14:40.725Z"
   },
   {
    "duration": 5,
    "start_time": "2022-03-10T06:14:40.732Z"
   },
   {
    "duration": 10,
    "start_time": "2022-03-10T06:14:40.738Z"
   },
   {
    "duration": 7,
    "start_time": "2022-03-10T06:14:40.749Z"
   },
   {
    "duration": 8,
    "start_time": "2022-03-10T06:14:40.757Z"
   },
   {
    "duration": 6,
    "start_time": "2022-03-10T06:14:40.801Z"
   },
   {
    "duration": 6,
    "start_time": "2022-03-10T06:14:40.808Z"
   },
   {
    "duration": 6,
    "start_time": "2022-03-10T06:14:40.816Z"
   },
   {
    "duration": 12,
    "start_time": "2022-03-10T06:14:40.824Z"
   },
   {
    "duration": 9,
    "start_time": "2022-03-10T06:14:40.838Z"
   },
   {
    "duration": 13,
    "start_time": "2022-03-10T06:14:40.849Z"
   },
   {
    "duration": 14,
    "start_time": "2022-03-10T06:14:40.863Z"
   },
   {
    "duration": 10,
    "start_time": "2022-03-10T06:14:40.878Z"
   },
   {
    "duration": 14,
    "start_time": "2022-03-10T06:14:40.890Z"
   },
   {
    "duration": 8,
    "start_time": "2022-03-10T06:14:40.905Z"
   },
   {
    "duration": 8,
    "start_time": "2022-03-10T06:14:40.914Z"
   },
   {
    "duration": 6,
    "start_time": "2022-03-10T06:14:40.925Z"
   },
   {
    "duration": 6,
    "start_time": "2022-03-10T06:14:40.933Z"
   },
   {
    "duration": 10,
    "start_time": "2022-03-10T06:14:40.940Z"
   },
   {
    "duration": 20,
    "start_time": "2022-03-10T06:14:40.951Z"
   },
   {
    "duration": 39,
    "start_time": "2022-03-10T06:14:40.972Z"
   },
   {
    "duration": 4,
    "start_time": "2022-03-10T06:14:41.013Z"
   },
   {
    "duration": 10,
    "start_time": "2022-03-10T06:14:41.018Z"
   },
   {
    "duration": 7,
    "start_time": "2022-03-10T06:14:41.030Z"
   },
   {
    "duration": 19,
    "start_time": "2022-03-10T06:14:41.039Z"
   },
   {
    "duration": 4,
    "start_time": "2022-03-10T06:14:41.059Z"
   },
   {
    "duration": 20,
    "start_time": "2022-03-10T06:14:41.064Z"
   },
   {
    "duration": 3,
    "start_time": "2022-03-10T06:14:41.101Z"
   },
   {
    "duration": 11,
    "start_time": "2022-03-10T06:14:41.106Z"
   },
   {
    "duration": 4,
    "start_time": "2022-03-10T06:14:41.119Z"
   },
   {
    "duration": 22,
    "start_time": "2022-03-10T06:14:41.124Z"
   },
   {
    "duration": 4,
    "start_time": "2022-03-10T06:14:41.147Z"
   },
   {
    "duration": 30,
    "start_time": "2022-03-10T06:14:41.152Z"
   },
   {
    "duration": 4,
    "start_time": "2022-03-10T06:14:41.183Z"
   },
   {
    "duration": 25,
    "start_time": "2022-03-10T06:14:41.189Z"
   },
   {
    "duration": 15,
    "start_time": "2022-03-10T06:14:41.215Z"
   },
   {
    "duration": 3,
    "start_time": "2022-03-10T06:14:41.231Z"
   },
   {
    "duration": 9,
    "start_time": "2022-03-10T06:14:41.235Z"
   },
   {
    "duration": 12,
    "start_time": "2022-03-10T06:14:41.245Z"
   },
   {
    "duration": 15,
    "start_time": "2022-03-10T06:14:41.259Z"
   },
   {
    "duration": 33,
    "start_time": "2022-03-10T06:14:41.275Z"
   },
   {
    "duration": 13,
    "start_time": "2022-03-10T06:14:41.309Z"
   },
   {
    "duration": 214,
    "start_time": "2022-03-10T06:14:41.324Z"
   },
   {
    "duration": 16,
    "start_time": "2022-03-10T06:14:41.540Z"
   },
   {
    "duration": 11,
    "start_time": "2022-03-10T06:14:41.558Z"
   },
   {
    "duration": 87,
    "start_time": "2022-03-10T06:14:41.571Z"
   },
   {
    "duration": -61,
    "start_time": "2022-03-10T06:14:41.721Z"
   },
   {
    "duration": 5,
    "start_time": "2022-03-10T06:16:14.948Z"
   },
   {
    "duration": 6,
    "start_time": "2022-03-10T06:19:16.251Z"
   },
   {
    "duration": 5,
    "start_time": "2022-03-10T06:20:12.352Z"
   },
   {
    "duration": 5,
    "start_time": "2022-03-10T06:20:23.890Z"
   },
   {
    "duration": 5,
    "start_time": "2022-03-10T06:20:32.380Z"
   },
   {
    "duration": 602,
    "start_time": "2022-03-10T06:21:22.628Z"
   },
   {
    "duration": 9,
    "start_time": "2022-03-10T06:21:23.232Z"
   },
   {
    "duration": 8,
    "start_time": "2022-03-10T06:21:23.243Z"
   },
   {
    "duration": 4,
    "start_time": "2022-03-10T06:21:23.252Z"
   },
   {
    "duration": 5,
    "start_time": "2022-03-10T06:21:23.257Z"
   },
   {
    "duration": 68,
    "start_time": "2022-03-10T06:21:23.264Z"
   },
   {
    "duration": 5,
    "start_time": "2022-03-10T06:21:23.334Z"
   },
   {
    "duration": 4,
    "start_time": "2022-03-10T06:21:23.340Z"
   },
   {
    "duration": 4,
    "start_time": "2022-03-10T06:21:23.346Z"
   },
   {
    "duration": 4,
    "start_time": "2022-03-10T06:21:23.352Z"
   },
   {
    "duration": 7,
    "start_time": "2022-03-10T06:21:23.357Z"
   },
   {
    "duration": 9,
    "start_time": "2022-03-10T06:21:23.365Z"
   },
   {
    "duration": 27,
    "start_time": "2022-03-10T06:21:23.375Z"
   },
   {
    "duration": 5,
    "start_time": "2022-03-10T06:21:23.403Z"
   },
   {
    "duration": 8,
    "start_time": "2022-03-10T06:21:23.409Z"
   },
   {
    "duration": 7,
    "start_time": "2022-03-10T06:21:23.419Z"
   },
   {
    "duration": 10,
    "start_time": "2022-03-10T06:21:23.427Z"
   },
   {
    "duration": 12,
    "start_time": "2022-03-10T06:21:23.438Z"
   },
   {
    "duration": 7,
    "start_time": "2022-03-10T06:21:23.452Z"
   },
   {
    "duration": 11,
    "start_time": "2022-03-10T06:21:23.460Z"
   },
   {
    "duration": 8,
    "start_time": "2022-03-10T06:21:23.473Z"
   },
   {
    "duration": 18,
    "start_time": "2022-03-10T06:21:23.483Z"
   },
   {
    "duration": 4,
    "start_time": "2022-03-10T06:21:23.503Z"
   },
   {
    "duration": 10,
    "start_time": "2022-03-10T06:21:23.509Z"
   },
   {
    "duration": 9,
    "start_time": "2022-03-10T06:21:23.521Z"
   },
   {
    "duration": 9,
    "start_time": "2022-03-10T06:21:23.531Z"
   },
   {
    "duration": 5,
    "start_time": "2022-03-10T06:21:23.544Z"
   },
   {
    "duration": 10,
    "start_time": "2022-03-10T06:21:23.551Z"
   },
   {
    "duration": 8,
    "start_time": "2022-03-10T06:21:23.562Z"
   },
   {
    "duration": 8,
    "start_time": "2022-03-10T06:21:23.571Z"
   },
   {
    "duration": 20,
    "start_time": "2022-03-10T06:21:23.581Z"
   },
   {
    "duration": 4,
    "start_time": "2022-03-10T06:21:23.602Z"
   },
   {
    "duration": 9,
    "start_time": "2022-03-10T06:21:23.607Z"
   },
   {
    "duration": 21,
    "start_time": "2022-03-10T06:21:23.617Z"
   },
   {
    "duration": 29,
    "start_time": "2022-03-10T06:21:23.639Z"
   },
   {
    "duration": 4,
    "start_time": "2022-03-10T06:21:23.670Z"
   },
   {
    "duration": 34,
    "start_time": "2022-03-10T06:21:23.675Z"
   },
   {
    "duration": 8,
    "start_time": "2022-03-10T06:21:23.710Z"
   },
   {
    "duration": 18,
    "start_time": "2022-03-10T06:21:23.719Z"
   },
   {
    "duration": 6,
    "start_time": "2022-03-10T06:21:23.739Z"
   },
   {
    "duration": 18,
    "start_time": "2022-03-10T06:21:23.746Z"
   },
   {
    "duration": 3,
    "start_time": "2022-03-10T06:21:23.766Z"
   },
   {
    "duration": 12,
    "start_time": "2022-03-10T06:21:23.771Z"
   },
   {
    "duration": 5,
    "start_time": "2022-03-10T06:21:23.800Z"
   },
   {
    "duration": 18,
    "start_time": "2022-03-10T06:21:23.806Z"
   },
   {
    "duration": 3,
    "start_time": "2022-03-10T06:21:23.826Z"
   },
   {
    "duration": 27,
    "start_time": "2022-03-10T06:21:23.831Z"
   },
   {
    "duration": 5,
    "start_time": "2022-03-10T06:21:23.860Z"
   },
   {
    "duration": 36,
    "start_time": "2022-03-10T06:21:23.867Z"
   },
   {
    "duration": 15,
    "start_time": "2022-03-10T06:21:23.904Z"
   },
   {
    "duration": 2,
    "start_time": "2022-03-10T06:21:23.921Z"
   },
   {
    "duration": 7,
    "start_time": "2022-03-10T06:21:23.924Z"
   },
   {
    "duration": 12,
    "start_time": "2022-03-10T06:21:23.932Z"
   },
   {
    "duration": 12,
    "start_time": "2022-03-10T06:21:23.946Z"
   },
   {
    "duration": 19,
    "start_time": "2022-03-10T06:21:23.960Z"
   },
   {
    "duration": 29,
    "start_time": "2022-03-10T06:21:23.981Z"
   },
   {
    "duration": 208,
    "start_time": "2022-03-10T06:21:24.012Z"
   },
   {
    "duration": 17,
    "start_time": "2022-03-10T06:21:24.221Z"
   },
   {
    "duration": 12,
    "start_time": "2022-03-10T06:21:24.239Z"
   },
   {
    "duration": 89,
    "start_time": "2022-03-10T06:21:24.252Z"
   },
   {
    "duration": -39,
    "start_time": "2022-03-10T06:21:24.382Z"
   },
   {
    "duration": 670,
    "start_time": "2022-03-10T06:45:11.678Z"
   },
   {
    "duration": 9,
    "start_time": "2022-03-10T06:45:12.349Z"
   },
   {
    "duration": 9,
    "start_time": "2022-03-10T06:45:12.360Z"
   },
   {
    "duration": 3,
    "start_time": "2022-03-10T06:45:12.371Z"
   },
   {
    "duration": 9,
    "start_time": "2022-03-10T06:45:12.375Z"
   },
   {
    "duration": 52,
    "start_time": "2022-03-10T06:45:12.401Z"
   },
   {
    "duration": 5,
    "start_time": "2022-03-10T06:45:12.454Z"
   },
   {
    "duration": 3,
    "start_time": "2022-03-10T06:45:12.461Z"
   },
   {
    "duration": 5,
    "start_time": "2022-03-10T06:45:12.466Z"
   },
   {
    "duration": 5,
    "start_time": "2022-03-10T06:45:12.472Z"
   },
   {
    "duration": 26,
    "start_time": "2022-03-10T06:45:12.478Z"
   },
   {
    "duration": 6,
    "start_time": "2022-03-10T06:45:12.505Z"
   },
   {
    "duration": 7,
    "start_time": "2022-03-10T06:45:12.512Z"
   },
   {
    "duration": 8,
    "start_time": "2022-03-10T06:45:12.521Z"
   },
   {
    "duration": 9,
    "start_time": "2022-03-10T06:45:12.531Z"
   },
   {
    "duration": 8,
    "start_time": "2022-03-10T06:45:12.541Z"
   },
   {
    "duration": 9,
    "start_time": "2022-03-10T06:45:12.551Z"
   },
   {
    "duration": 9,
    "start_time": "2022-03-10T06:45:12.561Z"
   },
   {
    "duration": 9,
    "start_time": "2022-03-10T06:45:12.572Z"
   },
   {
    "duration": 19,
    "start_time": "2022-03-10T06:45:12.583Z"
   },
   {
    "duration": 4,
    "start_time": "2022-03-10T06:45:12.603Z"
   },
   {
    "duration": 7,
    "start_time": "2022-03-10T06:45:12.609Z"
   },
   {
    "duration": 8,
    "start_time": "2022-03-10T06:45:12.617Z"
   },
   {
    "duration": 7,
    "start_time": "2022-03-10T06:45:12.626Z"
   },
   {
    "duration": 8,
    "start_time": "2022-03-10T06:45:12.635Z"
   },
   {
    "duration": 11,
    "start_time": "2022-03-10T06:45:12.645Z"
   },
   {
    "duration": 6,
    "start_time": "2022-03-10T06:45:12.660Z"
   },
   {
    "duration": 6,
    "start_time": "2022-03-10T06:45:12.668Z"
   },
   {
    "duration": 26,
    "start_time": "2022-03-10T06:45:12.675Z"
   },
   {
    "duration": 4,
    "start_time": "2022-03-10T06:45:12.702Z"
   },
   {
    "duration": 7,
    "start_time": "2022-03-10T06:45:12.708Z"
   },
   {
    "duration": 10,
    "start_time": "2022-03-10T06:45:12.716Z"
   },
   {
    "duration": 7,
    "start_time": "2022-03-10T06:45:12.727Z"
   },
   {
    "duration": 9,
    "start_time": "2022-03-10T06:45:12.736Z"
   },
   {
    "duration": 19,
    "start_time": "2022-03-10T06:45:12.747Z"
   },
   {
    "duration": 27,
    "start_time": "2022-03-10T06:45:12.768Z"
   },
   {
    "duration": 5,
    "start_time": "2022-03-10T06:45:12.797Z"
   },
   {
    "duration": 10,
    "start_time": "2022-03-10T06:45:12.803Z"
   },
   {
    "duration": 13,
    "start_time": "2022-03-10T06:45:12.815Z"
   },
   {
    "duration": 20,
    "start_time": "2022-03-10T06:45:12.829Z"
   },
   {
    "duration": 3,
    "start_time": "2022-03-10T06:45:12.851Z"
   },
   {
    "duration": 20,
    "start_time": "2022-03-10T06:45:12.856Z"
   },
   {
    "duration": 3,
    "start_time": "2022-03-10T06:45:12.877Z"
   },
   {
    "duration": 26,
    "start_time": "2022-03-10T06:45:12.881Z"
   },
   {
    "duration": 3,
    "start_time": "2022-03-10T06:45:12.909Z"
   },
   {
    "duration": 22,
    "start_time": "2022-03-10T06:45:12.913Z"
   },
   {
    "duration": 3,
    "start_time": "2022-03-10T06:45:12.936Z"
   },
   {
    "duration": 28,
    "start_time": "2022-03-10T06:45:12.941Z"
   },
   {
    "duration": 4,
    "start_time": "2022-03-10T06:45:12.971Z"
   },
   {
    "duration": 25,
    "start_time": "2022-03-10T06:45:12.977Z"
   },
   {
    "duration": 14,
    "start_time": "2022-03-10T06:45:13.003Z"
   },
   {
    "duration": 2,
    "start_time": "2022-03-10T06:45:13.018Z"
   },
   {
    "duration": 9,
    "start_time": "2022-03-10T06:45:13.021Z"
   },
   {
    "duration": 13,
    "start_time": "2022-03-10T06:45:13.031Z"
   },
   {
    "duration": 12,
    "start_time": "2022-03-10T06:45:13.045Z"
   },
   {
    "duration": 20,
    "start_time": "2022-03-10T06:45:13.058Z"
   },
   {
    "duration": 25,
    "start_time": "2022-03-10T06:45:13.079Z"
   },
   {
    "duration": 211,
    "start_time": "2022-03-10T06:45:13.105Z"
   },
   {
    "duration": 18,
    "start_time": "2022-03-10T06:45:13.317Z"
   },
   {
    "duration": 12,
    "start_time": "2022-03-10T06:45:13.337Z"
   },
   {
    "duration": 84,
    "start_time": "2022-03-10T06:45:13.350Z"
   },
   {
    "duration": -855,
    "start_time": "2022-03-10T06:45:14.291Z"
   },
   {
    "duration": 628,
    "start_time": "2022-03-10T06:49:09.687Z"
   },
   {
    "duration": 10,
    "start_time": "2022-03-10T06:49:10.317Z"
   },
   {
    "duration": 7,
    "start_time": "2022-03-10T06:49:10.329Z"
   },
   {
    "duration": 6,
    "start_time": "2022-03-10T06:49:10.338Z"
   },
   {
    "duration": 6,
    "start_time": "2022-03-10T06:49:10.345Z"
   },
   {
    "duration": 79,
    "start_time": "2022-03-10T06:49:10.353Z"
   },
   {
    "duration": 6,
    "start_time": "2022-03-10T06:49:10.433Z"
   },
   {
    "duration": 4,
    "start_time": "2022-03-10T06:49:10.442Z"
   },
   {
    "duration": 4,
    "start_time": "2022-03-10T06:49:10.448Z"
   },
   {
    "duration": 4,
    "start_time": "2022-03-10T06:49:10.454Z"
   },
   {
    "duration": 6,
    "start_time": "2022-03-10T06:49:10.460Z"
   },
   {
    "duration": 7,
    "start_time": "2022-03-10T06:49:10.467Z"
   },
   {
    "duration": 5,
    "start_time": "2022-03-10T06:49:10.501Z"
   },
   {
    "duration": 7,
    "start_time": "2022-03-10T06:49:10.508Z"
   },
   {
    "duration": 6,
    "start_time": "2022-03-10T06:49:10.517Z"
   },
   {
    "duration": 7,
    "start_time": "2022-03-10T06:49:10.525Z"
   },
   {
    "duration": 8,
    "start_time": "2022-03-10T06:49:10.534Z"
   },
   {
    "duration": 10,
    "start_time": "2022-03-10T06:49:10.543Z"
   },
   {
    "duration": 8,
    "start_time": "2022-03-10T06:49:10.555Z"
   },
   {
    "duration": 10,
    "start_time": "2022-03-10T06:49:10.564Z"
   },
   {
    "duration": 9,
    "start_time": "2022-03-10T06:49:10.575Z"
   },
   {
    "duration": 3,
    "start_time": "2022-03-10T06:49:10.601Z"
   },
   {
    "duration": 5,
    "start_time": "2022-03-10T06:49:10.608Z"
   },
   {
    "duration": 7,
    "start_time": "2022-03-10T06:49:10.615Z"
   },
   {
    "duration": 8,
    "start_time": "2022-03-10T06:49:10.623Z"
   },
   {
    "duration": 9,
    "start_time": "2022-03-10T06:49:10.632Z"
   },
   {
    "duration": 13,
    "start_time": "2022-03-10T06:49:10.642Z"
   },
   {
    "duration": 8,
    "start_time": "2022-03-10T06:49:10.656Z"
   },
   {
    "duration": 9,
    "start_time": "2022-03-10T06:49:10.666Z"
   },
   {
    "duration": 7,
    "start_time": "2022-03-10T06:49:10.677Z"
   },
   {
    "duration": 16,
    "start_time": "2022-03-10T06:49:10.685Z"
   },
   {
    "duration": 4,
    "start_time": "2022-03-10T06:49:10.702Z"
   },
   {
    "duration": 6,
    "start_time": "2022-03-10T06:49:10.707Z"
   },
   {
    "duration": 10,
    "start_time": "2022-03-10T06:49:10.714Z"
   },
   {
    "duration": 8,
    "start_time": "2022-03-10T06:49:10.725Z"
   },
   {
    "duration": 10,
    "start_time": "2022-03-10T06:49:10.734Z"
   },
   {
    "duration": 19,
    "start_time": "2022-03-10T06:49:10.745Z"
   },
   {
    "duration": 26,
    "start_time": "2022-03-10T06:49:10.765Z"
   },
   {
    "duration": 9,
    "start_time": "2022-03-10T06:49:10.793Z"
   },
   {
    "duration": 10,
    "start_time": "2022-03-10T06:49:10.803Z"
   },
   {
    "duration": 9,
    "start_time": "2022-03-10T06:49:10.815Z"
   },
   {
    "duration": 20,
    "start_time": "2022-03-10T06:49:10.825Z"
   },
   {
    "duration": 3,
    "start_time": "2022-03-10T06:49:10.847Z"
   },
   {
    "duration": 22,
    "start_time": "2022-03-10T06:49:10.852Z"
   },
   {
    "duration": 2,
    "start_time": "2022-03-10T06:49:10.876Z"
   },
   {
    "duration": 26,
    "start_time": "2022-03-10T06:49:10.880Z"
   },
   {
    "duration": 3,
    "start_time": "2022-03-10T06:49:10.907Z"
   },
   {
    "duration": 19,
    "start_time": "2022-03-10T06:49:10.912Z"
   },
   {
    "duration": 4,
    "start_time": "2022-03-10T06:49:10.932Z"
   },
   {
    "duration": 28,
    "start_time": "2022-03-10T06:49:10.937Z"
   },
   {
    "duration": 4,
    "start_time": "2022-03-10T06:49:10.967Z"
   },
   {
    "duration": 29,
    "start_time": "2022-03-10T06:49:10.973Z"
   },
   {
    "duration": 14,
    "start_time": "2022-03-10T06:49:11.003Z"
   },
   {
    "duration": 2,
    "start_time": "2022-03-10T06:49:11.019Z"
   },
   {
    "duration": 8,
    "start_time": "2022-03-10T06:49:11.023Z"
   },
   {
    "duration": 13,
    "start_time": "2022-03-10T06:49:11.032Z"
   },
   {
    "duration": 14,
    "start_time": "2022-03-10T06:49:11.046Z"
   },
   {
    "duration": 19,
    "start_time": "2022-03-10T06:49:11.061Z"
   },
   {
    "duration": 25,
    "start_time": "2022-03-10T06:49:11.081Z"
   },
   {
    "duration": 214,
    "start_time": "2022-03-10T06:49:11.108Z"
   },
   {
    "duration": 17,
    "start_time": "2022-03-10T06:49:11.324Z"
   },
   {
    "duration": 12,
    "start_time": "2022-03-10T06:49:11.343Z"
   },
   {
    "duration": 87,
    "start_time": "2022-03-10T06:49:11.357Z"
   },
   {
    "duration": -458,
    "start_time": "2022-03-10T06:49:11.903Z"
   },
   {
    "duration": 680,
    "start_time": "2022-03-10T06:50:13.989Z"
   },
   {
    "duration": 11,
    "start_time": "2022-03-10T06:50:14.671Z"
   },
   {
    "duration": 9,
    "start_time": "2022-03-10T06:50:14.684Z"
   },
   {
    "duration": 9,
    "start_time": "2022-03-10T06:50:14.694Z"
   },
   {
    "duration": 7,
    "start_time": "2022-03-10T06:50:14.704Z"
   },
   {
    "duration": 54,
    "start_time": "2022-03-10T06:50:14.713Z"
   },
   {
    "duration": 6,
    "start_time": "2022-03-10T06:50:14.769Z"
   },
   {
    "duration": 26,
    "start_time": "2022-03-10T06:50:14.776Z"
   },
   {
    "duration": 5,
    "start_time": "2022-03-10T06:50:14.804Z"
   },
   {
    "duration": 5,
    "start_time": "2022-03-10T06:50:14.811Z"
   },
   {
    "duration": 9,
    "start_time": "2022-03-10T06:50:14.817Z"
   },
   {
    "duration": 7,
    "start_time": "2022-03-10T06:50:14.828Z"
   },
   {
    "duration": 11,
    "start_time": "2022-03-10T06:50:14.837Z"
   },
   {
    "duration": 9,
    "start_time": "2022-03-10T06:50:14.850Z"
   },
   {
    "duration": 9,
    "start_time": "2022-03-10T06:50:14.860Z"
   },
   {
    "duration": 30,
    "start_time": "2022-03-10T06:50:14.871Z"
   },
   {
    "duration": 7,
    "start_time": "2022-03-10T06:50:14.904Z"
   },
   {
    "duration": 7,
    "start_time": "2022-03-10T06:50:14.913Z"
   },
   {
    "duration": 12,
    "start_time": "2022-03-10T06:50:14.921Z"
   },
   {
    "duration": 9,
    "start_time": "2022-03-10T06:50:14.935Z"
   },
   {
    "duration": 9,
    "start_time": "2022-03-10T06:50:14.945Z"
   },
   {
    "duration": 8,
    "start_time": "2022-03-10T06:50:14.955Z"
   },
   {
    "duration": 9,
    "start_time": "2022-03-10T06:50:14.965Z"
   },
   {
    "duration": 10,
    "start_time": "2022-03-10T06:50:14.975Z"
   },
   {
    "duration": 19,
    "start_time": "2022-03-10T06:50:14.986Z"
   },
   {
    "duration": 13,
    "start_time": "2022-03-10T06:50:15.006Z"
   },
   {
    "duration": 15,
    "start_time": "2022-03-10T06:50:15.023Z"
   },
   {
    "duration": 13,
    "start_time": "2022-03-10T06:50:15.040Z"
   },
   {
    "duration": 11,
    "start_time": "2022-03-10T06:50:15.054Z"
   },
   {
    "duration": 9,
    "start_time": "2022-03-10T06:50:15.067Z"
   },
   {
    "duration": 8,
    "start_time": "2022-03-10T06:50:15.077Z"
   },
   {
    "duration": 8,
    "start_time": "2022-03-10T06:50:15.087Z"
   },
   {
    "duration": 7,
    "start_time": "2022-03-10T06:50:15.096Z"
   },
   {
    "duration": 9,
    "start_time": "2022-03-10T06:50:15.104Z"
   },
   {
    "duration": 7,
    "start_time": "2022-03-10T06:50:15.114Z"
   },
   {
    "duration": 8,
    "start_time": "2022-03-10T06:50:15.123Z"
   },
   {
    "duration": 18,
    "start_time": "2022-03-10T06:50:15.133Z"
   },
   {
    "duration": 29,
    "start_time": "2022-03-10T06:50:15.153Z"
   },
   {
    "duration": 4,
    "start_time": "2022-03-10T06:50:15.184Z"
   },
   {
    "duration": 13,
    "start_time": "2022-03-10T06:50:15.201Z"
   },
   {
    "duration": 11,
    "start_time": "2022-03-10T06:50:15.216Z"
   },
   {
    "duration": 27,
    "start_time": "2022-03-10T06:50:15.229Z"
   },
   {
    "duration": 4,
    "start_time": "2022-03-10T06:50:15.257Z"
   },
   {
    "duration": 47,
    "start_time": "2022-03-10T06:50:15.263Z"
   },
   {
    "duration": 3,
    "start_time": "2022-03-10T06:50:15.312Z"
   },
   {
    "duration": 10,
    "start_time": "2022-03-10T06:50:15.317Z"
   },
   {
    "duration": 5,
    "start_time": "2022-03-10T06:50:15.328Z"
   },
   {
    "duration": 22,
    "start_time": "2022-03-10T06:50:15.335Z"
   },
   {
    "duration": 3,
    "start_time": "2022-03-10T06:50:15.359Z"
   },
   {
    "duration": 42,
    "start_time": "2022-03-10T06:50:15.364Z"
   },
   {
    "duration": 6,
    "start_time": "2022-03-10T06:50:15.408Z"
   },
   {
    "duration": 15,
    "start_time": "2022-03-10T06:50:15.416Z"
   },
   {
    "duration": 15,
    "start_time": "2022-03-10T06:50:15.433Z"
   },
   {
    "duration": 3,
    "start_time": "2022-03-10T06:50:15.449Z"
   },
   {
    "duration": 9,
    "start_time": "2022-03-10T06:50:15.453Z"
   },
   {
    "duration": 13,
    "start_time": "2022-03-10T06:50:15.463Z"
   },
   {
    "duration": 9,
    "start_time": "2022-03-10T06:50:15.502Z"
   },
   {
    "duration": 26,
    "start_time": "2022-03-10T06:50:15.512Z"
   },
   {
    "duration": 15,
    "start_time": "2022-03-10T06:50:15.540Z"
   },
   {
    "duration": 237,
    "start_time": "2022-03-10T06:50:15.557Z"
   },
   {
    "duration": 17,
    "start_time": "2022-03-10T06:50:15.796Z"
   },
   {
    "duration": 14,
    "start_time": "2022-03-10T06:50:15.814Z"
   },
   {
    "duration": 81,
    "start_time": "2022-03-10T06:50:15.830Z"
   },
   {
    "duration": -416,
    "start_time": "2022-03-10T06:50:16.329Z"
   },
   {
    "duration": 672,
    "start_time": "2022-03-10T06:51:59.774Z"
   },
   {
    "duration": 10,
    "start_time": "2022-03-10T06:52:00.448Z"
   },
   {
    "duration": 15,
    "start_time": "2022-03-10T06:52:00.460Z"
   },
   {
    "duration": 4,
    "start_time": "2022-03-10T06:52:00.476Z"
   },
   {
    "duration": 21,
    "start_time": "2022-03-10T06:52:00.481Z"
   },
   {
    "duration": 53,
    "start_time": "2022-03-10T06:52:00.504Z"
   },
   {
    "duration": 5,
    "start_time": "2022-03-10T06:52:00.559Z"
   },
   {
    "duration": 17,
    "start_time": "2022-03-10T06:52:00.566Z"
   },
   {
    "duration": 16,
    "start_time": "2022-03-10T06:52:00.585Z"
   },
   {
    "duration": 11,
    "start_time": "2022-03-10T06:52:00.603Z"
   },
   {
    "duration": 12,
    "start_time": "2022-03-10T06:52:00.615Z"
   },
   {
    "duration": 11,
    "start_time": "2022-03-10T06:52:00.628Z"
   },
   {
    "duration": 18,
    "start_time": "2022-03-10T06:52:00.640Z"
   },
   {
    "duration": 16,
    "start_time": "2022-03-10T06:52:00.660Z"
   },
   {
    "duration": 26,
    "start_time": "2022-03-10T06:52:00.678Z"
   },
   {
    "duration": 19,
    "start_time": "2022-03-10T06:52:00.705Z"
   },
   {
    "duration": 40,
    "start_time": "2022-03-10T06:52:00.725Z"
   },
   {
    "duration": 30,
    "start_time": "2022-03-10T06:52:00.767Z"
   },
   {
    "duration": 16,
    "start_time": "2022-03-10T06:52:00.799Z"
   },
   {
    "duration": 13,
    "start_time": "2022-03-10T06:52:00.816Z"
   },
   {
    "duration": 24,
    "start_time": "2022-03-10T06:52:00.831Z"
   },
   {
    "duration": 25,
    "start_time": "2022-03-10T06:52:00.857Z"
   },
   {
    "duration": 8,
    "start_time": "2022-03-10T06:52:00.884Z"
   },
   {
    "duration": 14,
    "start_time": "2022-03-10T06:52:00.894Z"
   },
   {
    "duration": 24,
    "start_time": "2022-03-10T06:52:00.910Z"
   },
   {
    "duration": 24,
    "start_time": "2022-03-10T06:52:00.936Z"
   },
   {
    "duration": 13,
    "start_time": "2022-03-10T06:52:00.963Z"
   },
   {
    "duration": 22,
    "start_time": "2022-03-10T06:52:00.978Z"
   },
   {
    "duration": 12,
    "start_time": "2022-03-10T06:52:01.002Z"
   },
   {
    "duration": 14,
    "start_time": "2022-03-10T06:52:01.015Z"
   },
   {
    "duration": 21,
    "start_time": "2022-03-10T06:52:01.031Z"
   },
   {
    "duration": 16,
    "start_time": "2022-03-10T06:52:01.054Z"
   },
   {
    "duration": 16,
    "start_time": "2022-03-10T06:52:01.072Z"
   },
   {
    "duration": 14,
    "start_time": "2022-03-10T06:52:01.090Z"
   },
   {
    "duration": 20,
    "start_time": "2022-03-10T06:52:01.106Z"
   },
   {
    "duration": 14,
    "start_time": "2022-03-10T06:52:01.127Z"
   },
   {
    "duration": 12,
    "start_time": "2022-03-10T06:52:01.143Z"
   },
   {
    "duration": 22,
    "start_time": "2022-03-10T06:52:01.156Z"
   },
   {
    "duration": 27,
    "start_time": "2022-03-10T06:52:01.180Z"
   },
   {
    "duration": 3,
    "start_time": "2022-03-10T06:52:01.209Z"
   },
   {
    "duration": 14,
    "start_time": "2022-03-10T06:52:01.214Z"
   },
   {
    "duration": 18,
    "start_time": "2022-03-10T06:52:01.229Z"
   },
   {
    "duration": 19,
    "start_time": "2022-03-10T06:52:01.249Z"
   },
   {
    "duration": 7,
    "start_time": "2022-03-10T06:52:01.269Z"
   },
   {
    "duration": 18,
    "start_time": "2022-03-10T06:52:01.278Z"
   },
   {
    "duration": 3,
    "start_time": "2022-03-10T06:52:01.298Z"
   },
   {
    "duration": 15,
    "start_time": "2022-03-10T06:52:01.302Z"
   },
   {
    "duration": 8,
    "start_time": "2022-03-10T06:52:01.318Z"
   },
   {
    "duration": 26,
    "start_time": "2022-03-10T06:52:01.327Z"
   },
   {
    "duration": 4,
    "start_time": "2022-03-10T06:52:01.355Z"
   },
   {
    "duration": 32,
    "start_time": "2022-03-10T06:52:01.360Z"
   },
   {
    "duration": 7,
    "start_time": "2022-03-10T06:52:01.393Z"
   },
   {
    "duration": 19,
    "start_time": "2022-03-10T06:52:01.401Z"
   },
   {
    "duration": 29,
    "start_time": "2022-03-10T06:52:01.421Z"
   },
   {
    "duration": 10,
    "start_time": "2022-03-10T06:52:01.451Z"
   },
   {
    "duration": 11,
    "start_time": "2022-03-10T06:52:01.462Z"
   },
   {
    "duration": 19,
    "start_time": "2022-03-10T06:52:01.475Z"
   },
   {
    "duration": 18,
    "start_time": "2022-03-10T06:52:01.495Z"
   },
   {
    "duration": 20,
    "start_time": "2022-03-10T06:52:01.514Z"
   },
   {
    "duration": 12,
    "start_time": "2022-03-10T06:52:01.536Z"
   },
   {
    "duration": 219,
    "start_time": "2022-03-10T06:52:01.549Z"
   },
   {
    "duration": 18,
    "start_time": "2022-03-10T06:52:01.769Z"
   },
   {
    "duration": 21,
    "start_time": "2022-03-10T06:52:01.789Z"
   },
   {
    "duration": 90,
    "start_time": "2022-03-10T06:52:01.812Z"
   },
   {
    "duration": -56,
    "start_time": "2022-03-10T06:52:01.960Z"
   },
   {
    "duration": 602,
    "start_time": "2022-03-10T06:57:10.549Z"
   },
   {
    "duration": 11,
    "start_time": "2022-03-10T06:57:11.153Z"
   },
   {
    "duration": 9,
    "start_time": "2022-03-10T06:57:11.169Z"
   },
   {
    "duration": 22,
    "start_time": "2022-03-10T06:57:11.179Z"
   },
   {
    "duration": 7,
    "start_time": "2022-03-10T06:57:11.203Z"
   },
   {
    "duration": 53,
    "start_time": "2022-03-10T06:57:11.212Z"
   },
   {
    "duration": 7,
    "start_time": "2022-03-10T06:57:11.266Z"
   },
   {
    "duration": 29,
    "start_time": "2022-03-10T06:57:11.276Z"
   },
   {
    "duration": 5,
    "start_time": "2022-03-10T06:57:11.308Z"
   },
   {
    "duration": 290,
    "start_time": "2022-03-10T06:57:11.315Z"
   },
   {
    "duration": -46,
    "start_time": "2022-03-10T06:57:11.654Z"
   },
   {
    "duration": -46,
    "start_time": "2022-03-10T06:57:11.655Z"
   },
   {
    "duration": -47,
    "start_time": "2022-03-10T06:57:11.657Z"
   },
   {
    "duration": -48,
    "start_time": "2022-03-10T06:57:11.659Z"
   },
   {
    "duration": -52,
    "start_time": "2022-03-10T06:57:11.664Z"
   },
   {
    "duration": -78,
    "start_time": "2022-03-10T06:57:11.691Z"
   },
   {
    "duration": -80,
    "start_time": "2022-03-10T06:57:11.694Z"
   },
   {
    "duration": -81,
    "start_time": "2022-03-10T06:57:11.696Z"
   },
   {
    "duration": -82,
    "start_time": "2022-03-10T06:57:11.698Z"
   },
   {
    "duration": -84,
    "start_time": "2022-03-10T06:57:11.700Z"
   },
   {
    "duration": -86,
    "start_time": "2022-03-10T06:57:11.703Z"
   },
   {
    "duration": -91,
    "start_time": "2022-03-10T06:57:11.709Z"
   },
   {
    "duration": -92,
    "start_time": "2022-03-10T06:57:11.711Z"
   },
   {
    "duration": -93,
    "start_time": "2022-03-10T06:57:11.713Z"
   },
   {
    "duration": -95,
    "start_time": "2022-03-10T06:57:11.716Z"
   },
   {
    "duration": -95,
    "start_time": "2022-03-10T06:57:11.717Z"
   },
   {
    "duration": -96,
    "start_time": "2022-03-10T06:57:11.719Z"
   },
   {
    "duration": -97,
    "start_time": "2022-03-10T06:57:11.721Z"
   },
   {
    "duration": -98,
    "start_time": "2022-03-10T06:57:11.723Z"
   },
   {
    "duration": -99,
    "start_time": "2022-03-10T06:57:11.725Z"
   },
   {
    "duration": -100,
    "start_time": "2022-03-10T06:57:11.727Z"
   },
   {
    "duration": -100,
    "start_time": "2022-03-10T06:57:11.728Z"
   },
   {
    "duration": -102,
    "start_time": "2022-03-10T06:57:11.730Z"
   },
   {
    "duration": -108,
    "start_time": "2022-03-10T06:57:11.737Z"
   },
   {
    "duration": -113,
    "start_time": "2022-03-10T06:57:11.743Z"
   },
   {
    "duration": -113,
    "start_time": "2022-03-10T06:57:11.744Z"
   },
   {
    "duration": -115,
    "start_time": "2022-03-10T06:57:11.747Z"
   },
   {
    "duration": -115,
    "start_time": "2022-03-10T06:57:11.748Z"
   },
   {
    "duration": -116,
    "start_time": "2022-03-10T06:57:11.750Z"
   },
   {
    "duration": -117,
    "start_time": "2022-03-10T06:57:11.752Z"
   },
   {
    "duration": -118,
    "start_time": "2022-03-10T06:57:11.754Z"
   },
   {
    "duration": -118,
    "start_time": "2022-03-10T06:57:11.755Z"
   },
   {
    "duration": -120,
    "start_time": "2022-03-10T06:57:11.757Z"
   },
   {
    "duration": -121,
    "start_time": "2022-03-10T06:57:11.759Z"
   },
   {
    "duration": -122,
    "start_time": "2022-03-10T06:57:11.761Z"
   },
   {
    "duration": -123,
    "start_time": "2022-03-10T06:57:11.763Z"
   },
   {
    "duration": -128,
    "start_time": "2022-03-10T06:57:11.769Z"
   },
   {
    "duration": -129,
    "start_time": "2022-03-10T06:57:11.771Z"
   },
   {
    "duration": -130,
    "start_time": "2022-03-10T06:57:11.773Z"
   },
   {
    "duration": -131,
    "start_time": "2022-03-10T06:57:11.775Z"
   },
   {
    "duration": -141,
    "start_time": "2022-03-10T06:57:11.786Z"
   },
   {
    "duration": -95,
    "start_time": "2022-03-10T06:57:11.796Z"
   },
   {
    "duration": -101,
    "start_time": "2022-03-10T06:57:11.803Z"
   },
   {
    "duration": -105,
    "start_time": "2022-03-10T06:57:11.808Z"
   },
   {
    "duration": -111,
    "start_time": "2022-03-10T06:57:11.814Z"
   },
   {
    "duration": -112,
    "start_time": "2022-03-10T06:57:11.816Z"
   },
   {
    "duration": -113,
    "start_time": "2022-03-10T06:57:11.818Z"
   },
   {
    "duration": -114,
    "start_time": "2022-03-10T06:57:11.820Z"
   },
   {
    "duration": -115,
    "start_time": "2022-03-10T06:57:11.822Z"
   },
   {
    "duration": -115,
    "start_time": "2022-03-10T06:57:11.823Z"
   },
   {
    "duration": -117,
    "start_time": "2022-03-10T06:57:11.825Z"
   },
   {
    "duration": -128,
    "start_time": "2022-03-10T06:57:11.837Z"
   },
   {
    "duration": -128,
    "start_time": "2022-03-10T06:57:11.838Z"
   },
   {
    "duration": -130,
    "start_time": "2022-03-10T06:57:11.840Z"
   },
   {
    "duration": -131,
    "start_time": "2022-03-10T06:57:11.842Z"
   },
   {
    "duration": -131,
    "start_time": "2022-03-10T06:57:11.843Z"
   },
   {
    "duration": -132,
    "start_time": "2022-03-10T06:57:11.845Z"
   },
   {
    "duration": 593,
    "start_time": "2022-03-10T06:57:56.645Z"
   },
   {
    "duration": 9,
    "start_time": "2022-03-10T06:57:57.240Z"
   },
   {
    "duration": 7,
    "start_time": "2022-03-10T06:57:57.251Z"
   },
   {
    "duration": 3,
    "start_time": "2022-03-10T06:57:57.260Z"
   },
   {
    "duration": 5,
    "start_time": "2022-03-10T06:57:57.265Z"
   },
   {
    "duration": 72,
    "start_time": "2022-03-10T06:57:57.272Z"
   },
   {
    "duration": 5,
    "start_time": "2022-03-10T06:57:57.345Z"
   },
   {
    "duration": 5,
    "start_time": "2022-03-10T06:57:57.351Z"
   },
   {
    "duration": 5,
    "start_time": "2022-03-10T06:57:57.359Z"
   },
   {
    "duration": 2,
    "start_time": "2022-03-10T06:57:57.366Z"
   },
   {
    "duration": 8,
    "start_time": "2022-03-10T06:57:57.369Z"
   },
   {
    "duration": 24,
    "start_time": "2022-03-10T06:57:57.378Z"
   },
   {
    "duration": 4,
    "start_time": "2022-03-10T06:57:57.403Z"
   },
   {
    "duration": 7,
    "start_time": "2022-03-10T06:57:57.409Z"
   },
   {
    "duration": 8,
    "start_time": "2022-03-10T06:57:57.418Z"
   },
   {
    "duration": 8,
    "start_time": "2022-03-10T06:57:57.428Z"
   },
   {
    "duration": 9,
    "start_time": "2022-03-10T06:57:57.437Z"
   },
   {
    "duration": 9,
    "start_time": "2022-03-10T06:57:57.447Z"
   },
   {
    "duration": 11,
    "start_time": "2022-03-10T06:57:57.457Z"
   },
   {
    "duration": 8,
    "start_time": "2022-03-10T06:57:57.470Z"
   },
   {
    "duration": 23,
    "start_time": "2022-03-10T06:57:57.479Z"
   },
   {
    "duration": 4,
    "start_time": "2022-03-10T06:57:57.503Z"
   },
   {
    "duration": 9,
    "start_time": "2022-03-10T06:57:57.508Z"
   },
   {
    "duration": 10,
    "start_time": "2022-03-10T06:57:57.518Z"
   },
   {
    "duration": 7,
    "start_time": "2022-03-10T06:57:57.530Z"
   },
   {
    "duration": 11,
    "start_time": "2022-03-10T06:57:57.539Z"
   },
   {
    "duration": 7,
    "start_time": "2022-03-10T06:57:57.554Z"
   },
   {
    "duration": 8,
    "start_time": "2022-03-10T06:57:57.563Z"
   },
   {
    "duration": 8,
    "start_time": "2022-03-10T06:57:57.572Z"
   },
   {
    "duration": 22,
    "start_time": "2022-03-10T06:57:57.581Z"
   },
   {
    "duration": 5,
    "start_time": "2022-03-10T06:57:57.604Z"
   },
   {
    "duration": 9,
    "start_time": "2022-03-10T06:57:57.611Z"
   },
   {
    "duration": 8,
    "start_time": "2022-03-10T06:57:57.621Z"
   },
   {
    "duration": 10,
    "start_time": "2022-03-10T06:57:57.631Z"
   },
   {
    "duration": 8,
    "start_time": "2022-03-10T06:57:57.642Z"
   },
   {
    "duration": 7,
    "start_time": "2022-03-10T06:57:57.651Z"
   },
   {
    "duration": 9,
    "start_time": "2022-03-10T06:57:57.660Z"
   },
   {
    "duration": 14,
    "start_time": "2022-03-10T06:57:57.670Z"
   },
   {
    "duration": 8,
    "start_time": "2022-03-10T06:57:57.685Z"
   },
   {
    "duration": 21,
    "start_time": "2022-03-10T06:57:57.694Z"
   },
   {
    "duration": 27,
    "start_time": "2022-03-10T06:57:57.717Z"
   },
   {
    "duration": 4,
    "start_time": "2022-03-10T06:57:57.745Z"
   },
   {
    "duration": 11,
    "start_time": "2022-03-10T06:57:57.750Z"
   },
   {
    "duration": 9,
    "start_time": "2022-03-10T06:57:57.762Z"
   },
   {
    "duration": 36,
    "start_time": "2022-03-10T06:57:57.773Z"
   },
   {
    "duration": 4,
    "start_time": "2022-03-10T06:57:57.810Z"
   },
   {
    "duration": 18,
    "start_time": "2022-03-10T06:57:57.816Z"
   },
   {
    "duration": 3,
    "start_time": "2022-03-10T06:57:57.836Z"
   },
   {
    "duration": 11,
    "start_time": "2022-03-10T06:57:57.841Z"
   },
   {
    "duration": 4,
    "start_time": "2022-03-10T06:57:57.853Z"
   },
   {
    "duration": 21,
    "start_time": "2022-03-10T06:57:57.859Z"
   },
   {
    "duration": 3,
    "start_time": "2022-03-10T06:57:57.881Z"
   },
   {
    "duration": 29,
    "start_time": "2022-03-10T06:57:57.886Z"
   },
   {
    "duration": 4,
    "start_time": "2022-03-10T06:57:57.917Z"
   },
   {
    "duration": 16,
    "start_time": "2022-03-10T06:57:57.922Z"
   },
   {
    "duration": 13,
    "start_time": "2022-03-10T06:57:57.939Z"
   },
   {
    "duration": 3,
    "start_time": "2022-03-10T06:57:57.954Z"
   },
   {
    "duration": 8,
    "start_time": "2022-03-10T06:57:57.959Z"
   },
   {
    "duration": 12,
    "start_time": "2022-03-10T06:57:57.968Z"
   },
   {
    "duration": 25,
    "start_time": "2022-03-10T06:57:57.981Z"
   },
   {
    "duration": 19,
    "start_time": "2022-03-10T06:57:58.007Z"
   },
   {
    "duration": 14,
    "start_time": "2022-03-10T06:57:58.027Z"
   },
   {
    "duration": 224,
    "start_time": "2022-03-10T06:57:58.043Z"
   },
   {
    "duration": 17,
    "start_time": "2022-03-10T06:57:58.268Z"
   },
   {
    "duration": 18,
    "start_time": "2022-03-10T06:57:58.286Z"
   },
   {
    "duration": 78,
    "start_time": "2022-03-10T06:57:58.305Z"
   },
   {
    "duration": -803,
    "start_time": "2022-03-10T06:57:59.187Z"
   },
   {
    "duration": 5,
    "start_time": "2022-03-10T07:00:54.096Z"
   },
   {
    "duration": 6,
    "start_time": "2022-03-10T07:00:56.922Z"
   },
   {
    "duration": 609,
    "start_time": "2022-03-10T07:01:18.758Z"
   },
   {
    "duration": 10,
    "start_time": "2022-03-10T07:01:19.369Z"
   },
   {
    "duration": 7,
    "start_time": "2022-03-10T07:01:19.381Z"
   },
   {
    "duration": 3,
    "start_time": "2022-03-10T07:01:19.390Z"
   },
   {
    "duration": 9,
    "start_time": "2022-03-10T07:01:19.395Z"
   },
   {
    "duration": 54,
    "start_time": "2022-03-10T07:01:19.406Z"
   },
   {
    "duration": 6,
    "start_time": "2022-03-10T07:01:19.461Z"
   },
   {
    "duration": 4,
    "start_time": "2022-03-10T07:01:19.468Z"
   },
   {
    "duration": 29,
    "start_time": "2022-03-10T07:01:19.475Z"
   },
   {
    "duration": 2,
    "start_time": "2022-03-10T07:01:19.506Z"
   },
   {
    "duration": 6,
    "start_time": "2022-03-10T07:01:19.510Z"
   },
   {
    "duration": 8,
    "start_time": "2022-03-10T07:01:19.518Z"
   },
   {
    "duration": 7,
    "start_time": "2022-03-10T07:01:19.528Z"
   },
   {
    "duration": 9,
    "start_time": "2022-03-10T07:01:19.536Z"
   },
   {
    "duration": 9,
    "start_time": "2022-03-10T07:01:19.547Z"
   },
   {
    "duration": 8,
    "start_time": "2022-03-10T07:01:19.558Z"
   },
   {
    "duration": 6,
    "start_time": "2022-03-10T07:01:19.568Z"
   },
   {
    "duration": 31,
    "start_time": "2022-03-10T07:01:19.575Z"
   },
   {
    "duration": 6,
    "start_time": "2022-03-10T07:01:19.608Z"
   },
   {
    "duration": 7,
    "start_time": "2022-03-10T07:01:19.616Z"
   },
   {
    "duration": 8,
    "start_time": "2022-03-10T07:01:19.625Z"
   },
   {
    "duration": 7,
    "start_time": "2022-03-10T07:01:19.634Z"
   },
   {
    "duration": 9,
    "start_time": "2022-03-10T07:01:19.642Z"
   },
   {
    "duration": 15,
    "start_time": "2022-03-10T07:01:19.652Z"
   },
   {
    "duration": 8,
    "start_time": "2022-03-10T07:01:19.668Z"
   },
   {
    "duration": 7,
    "start_time": "2022-03-10T07:01:19.702Z"
   },
   {
    "duration": 10,
    "start_time": "2022-03-10T07:01:19.713Z"
   },
   {
    "duration": 16,
    "start_time": "2022-03-10T07:01:19.726Z"
   },
   {
    "duration": 9,
    "start_time": "2022-03-10T07:01:19.743Z"
   },
   {
    "duration": 10,
    "start_time": "2022-03-10T07:01:19.753Z"
   },
   {
    "duration": 10,
    "start_time": "2022-03-10T07:01:19.764Z"
   },
   {
    "duration": 8,
    "start_time": "2022-03-10T07:01:19.776Z"
   },
   {
    "duration": 9,
    "start_time": "2022-03-10T07:01:19.786Z"
   },
   {
    "duration": 10,
    "start_time": "2022-03-10T07:01:19.797Z"
   },
   {
    "duration": 8,
    "start_time": "2022-03-10T07:01:19.809Z"
   },
   {
    "duration": 9,
    "start_time": "2022-03-10T07:01:19.818Z"
   },
   {
    "duration": 9,
    "start_time": "2022-03-10T07:01:19.829Z"
   },
   {
    "duration": 7,
    "start_time": "2022-03-10T07:01:19.840Z"
   },
   {
    "duration": 9,
    "start_time": "2022-03-10T07:01:19.849Z"
   },
   {
    "duration": 20,
    "start_time": "2022-03-10T07:01:19.859Z"
   },
   {
    "duration": 38,
    "start_time": "2022-03-10T07:01:19.881Z"
   },
   {
    "duration": 5,
    "start_time": "2022-03-10T07:01:19.921Z"
   },
   {
    "duration": 12,
    "start_time": "2022-03-10T07:01:19.927Z"
   },
   {
    "duration": 7,
    "start_time": "2022-03-10T07:01:19.940Z"
   },
   {
    "duration": 20,
    "start_time": "2022-03-10T07:01:19.949Z"
   },
   {
    "duration": 32,
    "start_time": "2022-03-10T07:01:19.971Z"
   },
   {
    "duration": 15,
    "start_time": "2022-03-10T07:01:20.005Z"
   },
   {
    "duration": 3,
    "start_time": "2022-03-10T07:01:20.022Z"
   },
   {
    "duration": 16,
    "start_time": "2022-03-10T07:01:20.027Z"
   },
   {
    "duration": 5,
    "start_time": "2022-03-10T07:01:20.045Z"
   },
   {
    "duration": 19,
    "start_time": "2022-03-10T07:01:20.051Z"
   },
   {
    "duration": 4,
    "start_time": "2022-03-10T07:01:20.072Z"
   },
   {
    "duration": 40,
    "start_time": "2022-03-10T07:01:20.078Z"
   },
   {
    "duration": 5,
    "start_time": "2022-03-10T07:01:20.119Z"
   },
   {
    "duration": 17,
    "start_time": "2022-03-10T07:01:20.125Z"
   },
   {
    "duration": 23,
    "start_time": "2022-03-10T07:01:20.144Z"
   },
   {
    "duration": 4,
    "start_time": "2022-03-10T07:01:20.168Z"
   },
   {
    "duration": 6,
    "start_time": "2022-03-10T07:01:20.174Z"
   },
   {
    "duration": 12,
    "start_time": "2022-03-10T07:01:20.182Z"
   },
   {
    "duration": 22,
    "start_time": "2022-03-10T07:01:20.195Z"
   },
   {
    "duration": 19,
    "start_time": "2022-03-10T07:01:20.218Z"
   },
   {
    "duration": 13,
    "start_time": "2022-03-10T07:01:20.238Z"
   },
   {
    "duration": 217,
    "start_time": "2022-03-10T07:01:20.252Z"
   },
   {
    "duration": 18,
    "start_time": "2022-03-10T07:01:20.470Z"
   },
   {
    "duration": 20,
    "start_time": "2022-03-10T07:01:20.490Z"
   },
   {
    "duration": 89,
    "start_time": "2022-03-10T07:01:20.511Z"
   },
   {
    "duration": -45,
    "start_time": "2022-03-10T07:01:20.647Z"
   },
   {
    "duration": 593,
    "start_time": "2022-03-10T07:01:57.632Z"
   },
   {
    "duration": 10,
    "start_time": "2022-03-10T07:01:58.227Z"
   },
   {
    "duration": 8,
    "start_time": "2022-03-10T07:01:58.239Z"
   },
   {
    "duration": 4,
    "start_time": "2022-03-10T07:01:58.248Z"
   },
   {
    "duration": 6,
    "start_time": "2022-03-10T07:01:58.253Z"
   },
   {
    "duration": 82,
    "start_time": "2022-03-10T07:01:58.260Z"
   },
   {
    "duration": 5,
    "start_time": "2022-03-10T07:01:58.343Z"
   },
   {
    "duration": 4,
    "start_time": "2022-03-10T07:01:58.350Z"
   },
   {
    "duration": 4,
    "start_time": "2022-03-10T07:01:58.356Z"
   },
   {
    "duration": 1,
    "start_time": "2022-03-10T07:01:58.362Z"
   },
   {
    "duration": 6,
    "start_time": "2022-03-10T07:01:58.365Z"
   },
   {
    "duration": 32,
    "start_time": "2022-03-10T07:01:58.372Z"
   },
   {
    "duration": 5,
    "start_time": "2022-03-10T07:01:58.405Z"
   },
   {
    "duration": 7,
    "start_time": "2022-03-10T07:01:58.411Z"
   },
   {
    "duration": 9,
    "start_time": "2022-03-10T07:01:58.419Z"
   },
   {
    "duration": 10,
    "start_time": "2022-03-10T07:01:58.429Z"
   },
   {
    "duration": 11,
    "start_time": "2022-03-10T07:01:58.440Z"
   },
   {
    "duration": 7,
    "start_time": "2022-03-10T07:01:58.453Z"
   },
   {
    "duration": 11,
    "start_time": "2022-03-10T07:01:58.461Z"
   },
   {
    "duration": 6,
    "start_time": "2022-03-10T07:01:58.473Z"
   },
   {
    "duration": 9,
    "start_time": "2022-03-10T07:01:58.481Z"
   },
   {
    "duration": 4,
    "start_time": "2022-03-10T07:01:58.501Z"
   },
   {
    "duration": 6,
    "start_time": "2022-03-10T07:01:58.507Z"
   },
   {
    "duration": 10,
    "start_time": "2022-03-10T07:01:58.514Z"
   },
   {
    "duration": 11,
    "start_time": "2022-03-10T07:01:58.526Z"
   },
   {
    "duration": 8,
    "start_time": "2022-03-10T07:01:58.538Z"
   },
   {
    "duration": 10,
    "start_time": "2022-03-10T07:01:58.549Z"
   },
   {
    "duration": 8,
    "start_time": "2022-03-10T07:01:58.561Z"
   },
   {
    "duration": 9,
    "start_time": "2022-03-10T07:01:58.570Z"
   },
   {
    "duration": 8,
    "start_time": "2022-03-10T07:01:58.581Z"
   },
   {
    "duration": 15,
    "start_time": "2022-03-10T07:01:58.590Z"
   },
   {
    "duration": 8,
    "start_time": "2022-03-10T07:01:58.606Z"
   },
   {
    "duration": 8,
    "start_time": "2022-03-10T07:01:58.616Z"
   },
   {
    "duration": 8,
    "start_time": "2022-03-10T07:01:58.625Z"
   },
   {
    "duration": 12,
    "start_time": "2022-03-10T07:01:58.634Z"
   },
   {
    "duration": 8,
    "start_time": "2022-03-10T07:01:58.647Z"
   },
   {
    "duration": 7,
    "start_time": "2022-03-10T07:01:58.657Z"
   },
   {
    "duration": 9,
    "start_time": "2022-03-10T07:01:58.666Z"
   },
   {
    "duration": 8,
    "start_time": "2022-03-10T07:01:58.676Z"
   },
   {
    "duration": 10,
    "start_time": "2022-03-10T07:01:58.685Z"
   },
   {
    "duration": 20,
    "start_time": "2022-03-10T07:01:58.696Z"
   },
   {
    "duration": 26,
    "start_time": "2022-03-10T07:01:58.718Z"
   },
   {
    "duration": 4,
    "start_time": "2022-03-10T07:01:58.745Z"
   },
   {
    "duration": 15,
    "start_time": "2022-03-10T07:01:58.750Z"
   },
   {
    "duration": 9,
    "start_time": "2022-03-10T07:01:58.767Z"
   },
   {
    "duration": 28,
    "start_time": "2022-03-10T07:01:58.777Z"
   },
   {
    "duration": 3,
    "start_time": "2022-03-10T07:01:58.806Z"
   },
   {
    "duration": 17,
    "start_time": "2022-03-10T07:01:58.810Z"
   },
   {
    "duration": 3,
    "start_time": "2022-03-10T07:01:58.828Z"
   },
   {
    "duration": 12,
    "start_time": "2022-03-10T07:01:58.833Z"
   },
   {
    "duration": 5,
    "start_time": "2022-03-10T07:01:58.846Z"
   },
   {
    "duration": 22,
    "start_time": "2022-03-10T07:01:58.852Z"
   },
   {
    "duration": 4,
    "start_time": "2022-03-10T07:01:58.875Z"
   },
   {
    "duration": 35,
    "start_time": "2022-03-10T07:01:58.880Z"
   },
   {
    "duration": 4,
    "start_time": "2022-03-10T07:01:58.916Z"
   },
   {
    "duration": 15,
    "start_time": "2022-03-10T07:01:58.921Z"
   },
   {
    "duration": 15,
    "start_time": "2022-03-10T07:01:58.937Z"
   },
   {
    "duration": 3,
    "start_time": "2022-03-10T07:01:58.953Z"
   },
   {
    "duration": 9,
    "start_time": "2022-03-10T07:01:58.957Z"
   },
   {
    "duration": 15,
    "start_time": "2022-03-10T07:01:58.967Z"
   },
   {
    "duration": 19,
    "start_time": "2022-03-10T07:01:58.983Z"
   },
   {
    "duration": 20,
    "start_time": "2022-03-10T07:01:59.003Z"
   },
   {
    "duration": 12,
    "start_time": "2022-03-10T07:01:59.024Z"
   },
   {
    "duration": 218,
    "start_time": "2022-03-10T07:01:59.037Z"
   },
   {
    "duration": 16,
    "start_time": "2022-03-10T07:01:59.256Z"
   },
   {
    "duration": 11,
    "start_time": "2022-03-10T07:01:59.273Z"
   },
   {
    "duration": 81,
    "start_time": "2022-03-10T07:01:59.286Z"
   },
   {
    "duration": -34,
    "start_time": "2022-03-10T07:01:59.403Z"
   },
   {
    "duration": 643,
    "start_time": "2022-03-10T07:03:53.093Z"
   },
   {
    "duration": 11,
    "start_time": "2022-03-10T07:03:53.738Z"
   },
   {
    "duration": 9,
    "start_time": "2022-03-10T07:03:53.751Z"
   },
   {
    "duration": 4,
    "start_time": "2022-03-10T07:03:53.762Z"
   },
   {
    "duration": 34,
    "start_time": "2022-03-10T07:03:53.768Z"
   },
   {
    "duration": 54,
    "start_time": "2022-03-10T07:03:53.804Z"
   },
   {
    "duration": 7,
    "start_time": "2022-03-10T07:03:53.859Z"
   },
   {
    "duration": 4,
    "start_time": "2022-03-10T07:03:53.869Z"
   },
   {
    "duration": 27,
    "start_time": "2022-03-10T07:03:53.875Z"
   },
   {
    "duration": 2,
    "start_time": "2022-03-10T07:03:53.904Z"
   },
   {
    "duration": 6,
    "start_time": "2022-03-10T07:03:53.908Z"
   },
   {
    "duration": 6,
    "start_time": "2022-03-10T07:03:53.916Z"
   },
   {
    "duration": 11,
    "start_time": "2022-03-10T07:03:53.924Z"
   },
   {
    "duration": 12,
    "start_time": "2022-03-10T07:03:53.936Z"
   },
   {
    "duration": 6,
    "start_time": "2022-03-10T07:03:53.950Z"
   },
   {
    "duration": 9,
    "start_time": "2022-03-10T07:03:53.958Z"
   },
   {
    "duration": 7,
    "start_time": "2022-03-10T07:03:53.968Z"
   },
   {
    "duration": 28,
    "start_time": "2022-03-10T07:03:53.976Z"
   },
   {
    "duration": 5,
    "start_time": "2022-03-10T07:03:54.005Z"
   },
   {
    "duration": 8,
    "start_time": "2022-03-10T07:03:54.011Z"
   },
   {
    "duration": 10,
    "start_time": "2022-03-10T07:03:54.020Z"
   },
   {
    "duration": 8,
    "start_time": "2022-03-10T07:03:54.031Z"
   },
   {
    "duration": 6,
    "start_time": "2022-03-10T07:03:54.042Z"
   },
   {
    "duration": 7,
    "start_time": "2022-03-10T07:03:54.051Z"
   },
   {
    "duration": 7,
    "start_time": "2022-03-10T07:03:54.060Z"
   },
   {
    "duration": 10,
    "start_time": "2022-03-10T07:03:54.069Z"
   },
   {
    "duration": 22,
    "start_time": "2022-03-10T07:03:54.081Z"
   },
   {
    "duration": 6,
    "start_time": "2022-03-10T07:03:54.105Z"
   },
   {
    "duration": 9,
    "start_time": "2022-03-10T07:03:54.113Z"
   },
   {
    "duration": 8,
    "start_time": "2022-03-10T07:03:54.123Z"
   },
   {
    "duration": 9,
    "start_time": "2022-03-10T07:03:54.132Z"
   },
   {
    "duration": 10,
    "start_time": "2022-03-10T07:03:54.142Z"
   },
   {
    "duration": 8,
    "start_time": "2022-03-10T07:03:54.154Z"
   },
   {
    "duration": 9,
    "start_time": "2022-03-10T07:03:54.164Z"
   },
   {
    "duration": 8,
    "start_time": "2022-03-10T07:03:54.175Z"
   },
   {
    "duration": 18,
    "start_time": "2022-03-10T07:03:54.184Z"
   },
   {
    "duration": 5,
    "start_time": "2022-03-10T07:03:54.203Z"
   },
   {
    "duration": 12,
    "start_time": "2022-03-10T07:03:54.209Z"
   },
   {
    "duration": 10,
    "start_time": "2022-03-10T07:03:54.222Z"
   },
   {
    "duration": 10,
    "start_time": "2022-03-10T07:03:54.233Z"
   },
   {
    "duration": 7,
    "start_time": "2022-03-10T07:03:54.245Z"
   },
   {
    "duration": 9,
    "start_time": "2022-03-10T07:03:54.254Z"
   },
   {
    "duration": 19,
    "start_time": "2022-03-10T07:03:54.265Z"
   },
   {
    "duration": 27,
    "start_time": "2022-03-10T07:03:54.285Z"
   },
   {
    "duration": 4,
    "start_time": "2022-03-10T07:03:54.313Z"
   },
   {
    "duration": 11,
    "start_time": "2022-03-10T07:03:54.318Z"
   },
   {
    "duration": 9,
    "start_time": "2022-03-10T07:03:54.331Z"
   },
   {
    "duration": 19,
    "start_time": "2022-03-10T07:03:54.342Z"
   },
   {
    "duration": 4,
    "start_time": "2022-03-10T07:03:54.362Z"
   },
   {
    "duration": 21,
    "start_time": "2022-03-10T07:03:54.367Z"
   },
   {
    "duration": 2,
    "start_time": "2022-03-10T07:03:54.401Z"
   },
   {
    "duration": 15,
    "start_time": "2022-03-10T07:03:54.405Z"
   },
   {
    "duration": 5,
    "start_time": "2022-03-10T07:03:54.422Z"
   },
   {
    "duration": 23,
    "start_time": "2022-03-10T07:03:54.428Z"
   },
   {
    "duration": 4,
    "start_time": "2022-03-10T07:03:54.453Z"
   },
   {
    "duration": 27,
    "start_time": "2022-03-10T07:03:54.458Z"
   },
   {
    "duration": 6,
    "start_time": "2022-03-10T07:03:54.486Z"
   },
   {
    "duration": 16,
    "start_time": "2022-03-10T07:03:54.501Z"
   },
   {
    "duration": 13,
    "start_time": "2022-03-10T07:03:54.518Z"
   },
   {
    "duration": 3,
    "start_time": "2022-03-10T07:03:54.533Z"
   },
   {
    "duration": 7,
    "start_time": "2022-03-10T07:03:54.537Z"
   },
   {
    "duration": 11,
    "start_time": "2022-03-10T07:03:54.545Z"
   },
   {
    "duration": 13,
    "start_time": "2022-03-10T07:03:54.558Z"
   },
   {
    "duration": 37,
    "start_time": "2022-03-10T07:03:54.573Z"
   },
   {
    "duration": 12,
    "start_time": "2022-03-10T07:03:54.612Z"
   },
   {
    "duration": 215,
    "start_time": "2022-03-10T07:03:54.625Z"
   },
   {
    "duration": 19,
    "start_time": "2022-03-10T07:03:54.842Z"
   },
   {
    "duration": 14,
    "start_time": "2022-03-10T07:03:54.866Z"
   },
   {
    "duration": 79,
    "start_time": "2022-03-10T07:03:54.881Z"
   },
   {
    "duration": -32,
    "start_time": "2022-03-10T07:03:54.994Z"
   },
   {
    "duration": 671,
    "start_time": "2022-03-10T07:14:28.376Z"
   },
   {
    "duration": 11,
    "start_time": "2022-03-10T07:14:29.049Z"
   },
   {
    "duration": 9,
    "start_time": "2022-03-10T07:14:29.062Z"
   },
   {
    "duration": 4,
    "start_time": "2022-03-10T07:14:29.073Z"
   },
   {
    "duration": 26,
    "start_time": "2022-03-10T07:14:29.079Z"
   },
   {
    "duration": 52,
    "start_time": "2022-03-10T07:14:29.107Z"
   },
   {
    "duration": 5,
    "start_time": "2022-03-10T07:14:29.161Z"
   },
   {
    "duration": 5,
    "start_time": "2022-03-10T07:14:29.168Z"
   },
   {
    "duration": 29,
    "start_time": "2022-03-10T07:14:29.175Z"
   },
   {
    "duration": 2,
    "start_time": "2022-03-10T07:14:29.205Z"
   },
   {
    "duration": 10,
    "start_time": "2022-03-10T07:14:29.209Z"
   },
   {
    "duration": 8,
    "start_time": "2022-03-10T07:14:29.220Z"
   },
   {
    "duration": 8,
    "start_time": "2022-03-10T07:14:29.229Z"
   },
   {
    "duration": 9,
    "start_time": "2022-03-10T07:14:29.238Z"
   },
   {
    "duration": 10,
    "start_time": "2022-03-10T07:14:29.248Z"
   },
   {
    "duration": 10,
    "start_time": "2022-03-10T07:14:29.259Z"
   },
   {
    "duration": 8,
    "start_time": "2022-03-10T07:14:29.270Z"
   },
   {
    "duration": 9,
    "start_time": "2022-03-10T07:14:29.279Z"
   },
   {
    "duration": 5,
    "start_time": "2022-03-10T07:14:29.301Z"
   },
   {
    "duration": 6,
    "start_time": "2022-03-10T07:14:29.308Z"
   },
   {
    "duration": 10,
    "start_time": "2022-03-10T07:14:29.316Z"
   },
   {
    "duration": 12,
    "start_time": "2022-03-10T07:14:29.327Z"
   },
   {
    "duration": 9,
    "start_time": "2022-03-10T07:14:29.340Z"
   },
   {
    "duration": 9,
    "start_time": "2022-03-10T07:14:29.350Z"
   },
   {
    "duration": 7,
    "start_time": "2022-03-10T07:14:29.361Z"
   },
   {
    "duration": 8,
    "start_time": "2022-03-10T07:14:29.369Z"
   },
   {
    "duration": 21,
    "start_time": "2022-03-10T07:14:29.380Z"
   },
   {
    "duration": 7,
    "start_time": "2022-03-10T07:14:29.403Z"
   },
   {
    "duration": 11,
    "start_time": "2022-03-10T07:14:29.411Z"
   },
   {
    "duration": 9,
    "start_time": "2022-03-10T07:14:29.424Z"
   },
   {
    "duration": 9,
    "start_time": "2022-03-10T07:14:29.434Z"
   },
   {
    "duration": 15,
    "start_time": "2022-03-10T07:14:29.444Z"
   },
   {
    "duration": 10,
    "start_time": "2022-03-10T07:14:29.461Z"
   },
   {
    "duration": 8,
    "start_time": "2022-03-10T07:14:29.473Z"
   },
   {
    "duration": 19,
    "start_time": "2022-03-10T07:14:29.483Z"
   },
   {
    "duration": 9,
    "start_time": "2022-03-10T07:14:29.503Z"
   },
   {
    "duration": 12,
    "start_time": "2022-03-10T07:14:29.514Z"
   },
   {
    "duration": 8,
    "start_time": "2022-03-10T07:14:29.527Z"
   },
   {
    "duration": 8,
    "start_time": "2022-03-10T07:14:29.536Z"
   },
   {
    "duration": 14,
    "start_time": "2022-03-10T07:14:29.545Z"
   },
   {
    "duration": 9,
    "start_time": "2022-03-10T07:14:29.560Z"
   },
   {
    "duration": 10,
    "start_time": "2022-03-10T07:14:29.570Z"
   },
   {
    "duration": 21,
    "start_time": "2022-03-10T07:14:29.581Z"
   },
   {
    "duration": 26,
    "start_time": "2022-03-10T07:14:29.603Z"
   },
   {
    "duration": 4,
    "start_time": "2022-03-10T07:14:29.631Z"
   },
   {
    "duration": 16,
    "start_time": "2022-03-10T07:14:29.636Z"
   },
   {
    "duration": 11,
    "start_time": "2022-03-10T07:14:29.653Z"
   },
   {
    "duration": 19,
    "start_time": "2022-03-10T07:14:29.665Z"
   },
   {
    "duration": 16,
    "start_time": "2022-03-10T07:14:29.686Z"
   },
   {
    "duration": 17,
    "start_time": "2022-03-10T07:14:29.704Z"
   },
   {
    "duration": 3,
    "start_time": "2022-03-10T07:14:29.723Z"
   },
   {
    "duration": 16,
    "start_time": "2022-03-10T07:14:29.727Z"
   },
   {
    "duration": 4,
    "start_time": "2022-03-10T07:14:29.745Z"
   },
   {
    "duration": 17,
    "start_time": "2022-03-10T07:14:29.750Z"
   },
   {
    "duration": 3,
    "start_time": "2022-03-10T07:14:29.769Z"
   },
   {
    "duration": 37,
    "start_time": "2022-03-10T07:14:29.773Z"
   },
   {
    "duration": 5,
    "start_time": "2022-03-10T07:14:29.811Z"
   },
   {
    "duration": 18,
    "start_time": "2022-03-10T07:14:29.817Z"
   },
   {
    "duration": 16,
    "start_time": "2022-03-10T07:14:29.836Z"
   },
   {
    "duration": 2,
    "start_time": "2022-03-10T07:14:29.854Z"
   },
   {
    "duration": 9,
    "start_time": "2022-03-10T07:14:29.858Z"
   },
   {
    "duration": 15,
    "start_time": "2022-03-10T07:14:29.868Z"
   },
   {
    "duration": 19,
    "start_time": "2022-03-10T07:14:29.884Z"
   },
   {
    "duration": 23,
    "start_time": "2022-03-10T07:14:29.905Z"
   },
   {
    "duration": 16,
    "start_time": "2022-03-10T07:14:29.930Z"
   },
   {
    "duration": 216,
    "start_time": "2022-03-10T07:14:29.947Z"
   },
   {
    "duration": 18,
    "start_time": "2022-03-10T07:14:30.164Z"
   },
   {
    "duration": 21,
    "start_time": "2022-03-10T07:14:30.183Z"
   },
   {
    "duration": 313,
    "start_time": "2022-03-10T07:14:30.206Z"
   },
   {
    "duration": 625,
    "start_time": "2022-03-10T07:16:15.490Z"
   },
   {
    "duration": 9,
    "start_time": "2022-03-10T07:16:16.117Z"
   },
   {
    "duration": 8,
    "start_time": "2022-03-10T07:16:16.128Z"
   },
   {
    "duration": 3,
    "start_time": "2022-03-10T07:16:16.137Z"
   },
   {
    "duration": 6,
    "start_time": "2022-03-10T07:16:16.142Z"
   },
   {
    "duration": 79,
    "start_time": "2022-03-10T07:16:16.149Z"
   },
   {
    "duration": 5,
    "start_time": "2022-03-10T07:16:16.229Z"
   },
   {
    "duration": 4,
    "start_time": "2022-03-10T07:16:16.236Z"
   },
   {
    "duration": 5,
    "start_time": "2022-03-10T07:16:16.242Z"
   },
   {
    "duration": 2,
    "start_time": "2022-03-10T07:16:16.249Z"
   },
   {
    "duration": 8,
    "start_time": "2022-03-10T07:16:16.252Z"
   },
   {
    "duration": 8,
    "start_time": "2022-03-10T07:16:16.261Z"
   },
   {
    "duration": 31,
    "start_time": "2022-03-10T07:16:16.271Z"
   },
   {
    "duration": 5,
    "start_time": "2022-03-10T07:16:16.303Z"
   },
   {
    "duration": 4,
    "start_time": "2022-03-10T07:16:16.310Z"
   },
   {
    "duration": 8,
    "start_time": "2022-03-10T07:16:16.316Z"
   },
   {
    "duration": 7,
    "start_time": "2022-03-10T07:16:16.326Z"
   },
   {
    "duration": 9,
    "start_time": "2022-03-10T07:16:16.334Z"
   },
   {
    "duration": 9,
    "start_time": "2022-03-10T07:16:16.344Z"
   },
   {
    "duration": 8,
    "start_time": "2022-03-10T07:16:16.354Z"
   },
   {
    "duration": 9,
    "start_time": "2022-03-10T07:16:16.363Z"
   },
   {
    "duration": 9,
    "start_time": "2022-03-10T07:16:16.374Z"
   },
   {
    "duration": 20,
    "start_time": "2022-03-10T07:16:16.384Z"
   },
   {
    "duration": 9,
    "start_time": "2022-03-10T07:16:16.405Z"
   },
   {
    "duration": 7,
    "start_time": "2022-03-10T07:16:16.415Z"
   },
   {
    "duration": 9,
    "start_time": "2022-03-10T07:16:16.423Z"
   },
   {
    "duration": 13,
    "start_time": "2022-03-10T07:16:16.436Z"
   },
   {
    "duration": 6,
    "start_time": "2022-03-10T07:16:16.451Z"
   },
   {
    "duration": 10,
    "start_time": "2022-03-10T07:16:16.458Z"
   },
   {
    "duration": 11,
    "start_time": "2022-03-10T07:16:16.469Z"
   },
   {
    "duration": 8,
    "start_time": "2022-03-10T07:16:16.482Z"
   },
   {
    "duration": 8,
    "start_time": "2022-03-10T07:16:16.492Z"
   },
   {
    "duration": 12,
    "start_time": "2022-03-10T07:16:16.501Z"
   },
   {
    "duration": 10,
    "start_time": "2022-03-10T07:16:16.515Z"
   },
   {
    "duration": 10,
    "start_time": "2022-03-10T07:16:16.526Z"
   },
   {
    "duration": 8,
    "start_time": "2022-03-10T07:16:16.537Z"
   },
   {
    "duration": 10,
    "start_time": "2022-03-10T07:16:16.546Z"
   },
   {
    "duration": 6,
    "start_time": "2022-03-10T07:16:16.558Z"
   },
   {
    "duration": 7,
    "start_time": "2022-03-10T07:16:16.566Z"
   },
   {
    "duration": 9,
    "start_time": "2022-03-10T07:16:16.575Z"
   },
   {
    "duration": 8,
    "start_time": "2022-03-10T07:16:16.586Z"
   },
   {
    "duration": 11,
    "start_time": "2022-03-10T07:16:16.596Z"
   },
   {
    "duration": 18,
    "start_time": "2022-03-10T07:16:16.609Z"
   },
   {
    "duration": 26,
    "start_time": "2022-03-10T07:16:16.629Z"
   },
   {
    "duration": 3,
    "start_time": "2022-03-10T07:16:16.657Z"
   },
   {
    "duration": 11,
    "start_time": "2022-03-10T07:16:16.662Z"
   },
   {
    "duration": 27,
    "start_time": "2022-03-10T07:16:16.675Z"
   },
   {
    "duration": 17,
    "start_time": "2022-03-10T07:16:16.704Z"
   },
   {
    "duration": 3,
    "start_time": "2022-03-10T07:16:16.723Z"
   },
   {
    "duration": 16,
    "start_time": "2022-03-10T07:16:16.728Z"
   },
   {
    "duration": 3,
    "start_time": "2022-03-10T07:16:16.745Z"
   },
   {
    "duration": 19,
    "start_time": "2022-03-10T07:16:16.749Z"
   },
   {
    "duration": 4,
    "start_time": "2022-03-10T07:16:16.770Z"
   },
   {
    "duration": 30,
    "start_time": "2022-03-10T07:16:16.776Z"
   },
   {
    "duration": 3,
    "start_time": "2022-03-10T07:16:16.808Z"
   },
   {
    "duration": 27,
    "start_time": "2022-03-10T07:16:16.813Z"
   },
   {
    "duration": 4,
    "start_time": "2022-03-10T07:16:16.841Z"
   },
   {
    "duration": 17,
    "start_time": "2022-03-10T07:16:16.847Z"
   },
   {
    "duration": 13,
    "start_time": "2022-03-10T07:16:16.866Z"
   },
   {
    "duration": 22,
    "start_time": "2022-03-10T07:16:16.880Z"
   },
   {
    "duration": 6,
    "start_time": "2022-03-10T07:16:16.903Z"
   },
   {
    "duration": 13,
    "start_time": "2022-03-10T07:16:16.911Z"
   },
   {
    "duration": 14,
    "start_time": "2022-03-10T07:16:16.926Z"
   },
   {
    "duration": 21,
    "start_time": "2022-03-10T07:16:16.941Z"
   },
   {
    "duration": 15,
    "start_time": "2022-03-10T07:16:16.964Z"
   },
   {
    "duration": 212,
    "start_time": "2022-03-10T07:16:16.980Z"
   },
   {
    "duration": 16,
    "start_time": "2022-03-10T07:16:17.194Z"
   },
   {
    "duration": 12,
    "start_time": "2022-03-10T07:16:17.212Z"
   },
   {
    "duration": 298,
    "start_time": "2022-03-10T07:16:17.225Z"
   },
   {
    "duration": 665,
    "start_time": "2022-03-10T07:48:58.986Z"
   },
   {
    "duration": 10,
    "start_time": "2022-03-10T07:48:59.653Z"
   },
   {
    "duration": 9,
    "start_time": "2022-03-10T07:48:59.664Z"
   },
   {
    "duration": 8,
    "start_time": "2022-03-10T07:48:59.674Z"
   },
   {
    "duration": 25,
    "start_time": "2022-03-10T07:48:59.683Z"
   },
   {
    "duration": 55,
    "start_time": "2022-03-10T07:48:59.710Z"
   },
   {
    "duration": 7,
    "start_time": "2022-03-10T07:48:59.766Z"
   },
   {
    "duration": 26,
    "start_time": "2022-03-10T07:48:59.776Z"
   },
   {
    "duration": 9,
    "start_time": "2022-03-10T07:48:59.804Z"
   },
   {
    "duration": 2,
    "start_time": "2022-03-10T07:48:59.814Z"
   },
   {
    "duration": 6,
    "start_time": "2022-03-10T07:48:59.818Z"
   },
   {
    "duration": 6,
    "start_time": "2022-03-10T07:48:59.826Z"
   },
   {
    "duration": 7,
    "start_time": "2022-03-10T07:48:59.833Z"
   },
   {
    "duration": 8,
    "start_time": "2022-03-10T07:48:59.841Z"
   },
   {
    "duration": 8,
    "start_time": "2022-03-10T07:48:59.851Z"
   },
   {
    "duration": 8,
    "start_time": "2022-03-10T07:48:59.860Z"
   },
   {
    "duration": 8,
    "start_time": "2022-03-10T07:48:59.870Z"
   },
   {
    "duration": 25,
    "start_time": "2022-03-10T07:48:59.879Z"
   },
   {
    "duration": 7,
    "start_time": "2022-03-10T07:48:59.905Z"
   },
   {
    "duration": 9,
    "start_time": "2022-03-10T07:48:59.913Z"
   },
   {
    "duration": 13,
    "start_time": "2022-03-10T07:48:59.923Z"
   },
   {
    "duration": 7,
    "start_time": "2022-03-10T07:48:59.938Z"
   },
   {
    "duration": 6,
    "start_time": "2022-03-10T07:48:59.948Z"
   },
   {
    "duration": 12,
    "start_time": "2022-03-10T07:48:59.955Z"
   },
   {
    "duration": 6,
    "start_time": "2022-03-10T07:48:59.968Z"
   },
   {
    "duration": 9,
    "start_time": "2022-03-10T07:48:59.976Z"
   },
   {
    "duration": 10,
    "start_time": "2022-03-10T07:48:59.987Z"
   },
   {
    "duration": 7,
    "start_time": "2022-03-10T07:49:00.001Z"
   },
   {
    "duration": 13,
    "start_time": "2022-03-10T07:49:00.009Z"
   },
   {
    "duration": 9,
    "start_time": "2022-03-10T07:49:00.024Z"
   },
   {
    "duration": 13,
    "start_time": "2022-03-10T07:49:00.035Z"
   },
   {
    "duration": 9,
    "start_time": "2022-03-10T07:49:00.049Z"
   },
   {
    "duration": 13,
    "start_time": "2022-03-10T07:49:00.059Z"
   },
   {
    "duration": 14,
    "start_time": "2022-03-10T07:49:00.073Z"
   },
   {
    "duration": 13,
    "start_time": "2022-03-10T07:49:00.089Z"
   },
   {
    "duration": 11,
    "start_time": "2022-03-10T07:49:00.103Z"
   },
   {
    "duration": 8,
    "start_time": "2022-03-10T07:49:00.116Z"
   },
   {
    "duration": 13,
    "start_time": "2022-03-10T07:49:00.125Z"
   },
   {
    "duration": 9,
    "start_time": "2022-03-10T07:49:00.139Z"
   },
   {
    "duration": 7,
    "start_time": "2022-03-10T07:49:00.149Z"
   },
   {
    "duration": 9,
    "start_time": "2022-03-10T07:49:00.157Z"
   },
   {
    "duration": 11,
    "start_time": "2022-03-10T07:49:00.167Z"
   },
   {
    "duration": 10,
    "start_time": "2022-03-10T07:49:00.180Z"
   },
   {
    "duration": 27,
    "start_time": "2022-03-10T07:49:00.191Z"
   },
   {
    "duration": 29,
    "start_time": "2022-03-10T07:49:00.219Z"
   },
   {
    "duration": 4,
    "start_time": "2022-03-10T07:49:00.250Z"
   },
   {
    "duration": 13,
    "start_time": "2022-03-10T07:49:00.255Z"
   },
   {
    "duration": 16,
    "start_time": "2022-03-10T07:49:00.270Z"
   },
   {
    "duration": 90,
    "start_time": "2022-03-10T07:49:00.288Z"
   },
   {
    "duration": -168,
    "start_time": "2022-03-10T07:49:00.548Z"
   },
   {
    "duration": -169,
    "start_time": "2022-03-10T07:49:00.550Z"
   },
   {
    "duration": -170,
    "start_time": "2022-03-10T07:49:00.552Z"
   },
   {
    "duration": -171,
    "start_time": "2022-03-10T07:49:00.554Z"
   },
   {
    "duration": -171,
    "start_time": "2022-03-10T07:49:00.555Z"
   },
   {
    "duration": -172,
    "start_time": "2022-03-10T07:49:00.557Z"
   },
   {
    "duration": -173,
    "start_time": "2022-03-10T07:49:00.559Z"
   },
   {
    "duration": -173,
    "start_time": "2022-03-10T07:49:00.560Z"
   },
   {
    "duration": -174,
    "start_time": "2022-03-10T07:49:00.562Z"
   },
   {
    "duration": -175,
    "start_time": "2022-03-10T07:49:00.564Z"
   },
   {
    "duration": -202,
    "start_time": "2022-03-10T07:49:00.592Z"
   },
   {
    "duration": -204,
    "start_time": "2022-03-10T07:49:00.594Z"
   },
   {
    "duration": -205,
    "start_time": "2022-03-10T07:49:00.596Z"
   },
   {
    "duration": -206,
    "start_time": "2022-03-10T07:49:00.598Z"
   },
   {
    "duration": -207,
    "start_time": "2022-03-10T07:49:00.600Z"
   },
   {
    "duration": -208,
    "start_time": "2022-03-10T07:49:00.602Z"
   },
   {
    "duration": -209,
    "start_time": "2022-03-10T07:49:00.604Z"
   },
   {
    "duration": -210,
    "start_time": "2022-03-10T07:49:00.606Z"
   },
   {
    "duration": -211,
    "start_time": "2022-03-10T07:49:00.608Z"
   },
   {
    "duration": -212,
    "start_time": "2022-03-10T07:49:00.610Z"
   },
   {
    "duration": -211,
    "start_time": "2022-03-10T07:49:00.611Z"
   },
   {
    "duration": -220,
    "start_time": "2022-03-10T07:49:00.620Z"
   },
   {
    "duration": -220,
    "start_time": "2022-03-10T07:49:00.621Z"
   },
   {
    "duration": 652,
    "start_time": "2022-03-10T07:50:56.292Z"
   },
   {
    "duration": 11,
    "start_time": "2022-03-10T07:50:56.946Z"
   },
   {
    "duration": 10,
    "start_time": "2022-03-10T07:50:56.959Z"
   },
   {
    "duration": 4,
    "start_time": "2022-03-10T07:50:56.971Z"
   },
   {
    "duration": 28,
    "start_time": "2022-03-10T07:50:56.977Z"
   },
   {
    "duration": 54,
    "start_time": "2022-03-10T07:50:57.006Z"
   },
   {
    "duration": 6,
    "start_time": "2022-03-10T07:50:57.062Z"
   },
   {
    "duration": 5,
    "start_time": "2022-03-10T07:50:57.071Z"
   },
   {
    "duration": 4,
    "start_time": "2022-03-10T07:50:57.101Z"
   },
   {
    "duration": 2,
    "start_time": "2022-03-10T07:50:57.107Z"
   },
   {
    "duration": 6,
    "start_time": "2022-03-10T07:50:57.111Z"
   },
   {
    "duration": 5,
    "start_time": "2022-03-10T07:50:57.119Z"
   },
   {
    "duration": 5,
    "start_time": "2022-03-10T07:50:57.126Z"
   },
   {
    "duration": 8,
    "start_time": "2022-03-10T07:50:57.133Z"
   },
   {
    "duration": 7,
    "start_time": "2022-03-10T07:50:57.143Z"
   },
   {
    "duration": 11,
    "start_time": "2022-03-10T07:50:57.152Z"
   },
   {
    "duration": 38,
    "start_time": "2022-03-10T07:50:57.165Z"
   },
   {
    "duration": 5,
    "start_time": "2022-03-10T07:50:57.205Z"
   },
   {
    "duration": 5,
    "start_time": "2022-03-10T07:50:57.212Z"
   },
   {
    "duration": 6,
    "start_time": "2022-03-10T07:50:57.218Z"
   },
   {
    "duration": 9,
    "start_time": "2022-03-10T07:50:57.225Z"
   },
   {
    "duration": 8,
    "start_time": "2022-03-10T07:50:57.235Z"
   },
   {
    "duration": 5,
    "start_time": "2022-03-10T07:50:57.246Z"
   },
   {
    "duration": 8,
    "start_time": "2022-03-10T07:50:57.253Z"
   },
   {
    "duration": 5,
    "start_time": "2022-03-10T07:50:57.263Z"
   },
   {
    "duration": 9,
    "start_time": "2022-03-10T07:50:57.270Z"
   },
   {
    "duration": 24,
    "start_time": "2022-03-10T07:50:57.280Z"
   },
   {
    "duration": 7,
    "start_time": "2022-03-10T07:50:57.305Z"
   },
   {
    "duration": 10,
    "start_time": "2022-03-10T07:50:57.313Z"
   },
   {
    "duration": 10,
    "start_time": "2022-03-10T07:50:57.324Z"
   },
   {
    "duration": 12,
    "start_time": "2022-03-10T07:50:57.335Z"
   },
   {
    "duration": 8,
    "start_time": "2022-03-10T07:50:57.349Z"
   },
   {
    "duration": 8,
    "start_time": "2022-03-10T07:50:57.359Z"
   },
   {
    "duration": 9,
    "start_time": "2022-03-10T07:50:57.368Z"
   },
   {
    "duration": 9,
    "start_time": "2022-03-10T07:50:57.378Z"
   },
   {
    "duration": 9,
    "start_time": "2022-03-10T07:50:57.388Z"
   },
   {
    "duration": 10,
    "start_time": "2022-03-10T07:50:57.399Z"
   },
   {
    "duration": 9,
    "start_time": "2022-03-10T07:50:57.411Z"
   },
   {
    "duration": 8,
    "start_time": "2022-03-10T07:50:57.422Z"
   },
   {
    "duration": 7,
    "start_time": "2022-03-10T07:50:57.431Z"
   },
   {
    "duration": 10,
    "start_time": "2022-03-10T07:50:57.440Z"
   },
   {
    "duration": 10,
    "start_time": "2022-03-10T07:50:57.451Z"
   },
   {
    "duration": 9,
    "start_time": "2022-03-10T07:50:57.462Z"
   },
   {
    "duration": 21,
    "start_time": "2022-03-10T07:50:57.472Z"
   },
   {
    "duration": 28,
    "start_time": "2022-03-10T07:50:57.494Z"
   },
   {
    "duration": 4,
    "start_time": "2022-03-10T07:50:57.523Z"
   },
   {
    "duration": 10,
    "start_time": "2022-03-10T07:50:57.528Z"
   },
   {
    "duration": 16,
    "start_time": "2022-03-10T07:50:57.539Z"
   },
   {
    "duration": 26,
    "start_time": "2022-03-10T07:50:57.556Z"
   },
   {
    "duration": 11,
    "start_time": "2022-03-10T07:50:57.583Z"
   },
   {
    "duration": 21,
    "start_time": "2022-03-10T07:50:57.595Z"
   },
   {
    "duration": 7,
    "start_time": "2022-03-10T07:50:57.617Z"
   },
   {
    "duration": 12,
    "start_time": "2022-03-10T07:50:57.625Z"
   },
   {
    "duration": 6,
    "start_time": "2022-03-10T07:50:57.638Z"
   },
   {
    "duration": 22,
    "start_time": "2022-03-10T07:50:57.645Z"
   },
   {
    "duration": 3,
    "start_time": "2022-03-10T07:50:57.669Z"
   },
   {
    "duration": 31,
    "start_time": "2022-03-10T07:50:57.673Z"
   },
   {
    "duration": 5,
    "start_time": "2022-03-10T07:50:57.705Z"
   },
   {
    "duration": 5,
    "start_time": "2022-03-10T07:50:57.712Z"
   },
   {
    "duration": 81,
    "start_time": "2022-03-10T07:50:57.719Z"
   },
   {
    "duration": -191,
    "start_time": "2022-03-10T07:50:57.993Z"
   },
   {
    "duration": -206,
    "start_time": "2022-03-10T07:50:58.008Z"
   },
   {
    "duration": -207,
    "start_time": "2022-03-10T07:50:58.010Z"
   },
   {
    "duration": -208,
    "start_time": "2022-03-10T07:50:58.012Z"
   },
   {
    "duration": -220,
    "start_time": "2022-03-10T07:50:58.025Z"
   },
   {
    "duration": -226,
    "start_time": "2022-03-10T07:50:58.031Z"
   },
   {
    "duration": -235,
    "start_time": "2022-03-10T07:50:58.041Z"
   },
   {
    "duration": -237,
    "start_time": "2022-03-10T07:50:58.043Z"
   },
   {
    "duration": -243,
    "start_time": "2022-03-10T07:50:58.050Z"
   },
   {
    "duration": -244,
    "start_time": "2022-03-10T07:50:58.052Z"
   },
   {
    "duration": -253,
    "start_time": "2022-03-10T07:50:58.061Z"
   },
   {
    "duration": 636,
    "start_time": "2022-03-10T07:53:19.001Z"
   },
   {
    "duration": 10,
    "start_time": "2022-03-10T07:53:19.639Z"
   },
   {
    "duration": 8,
    "start_time": "2022-03-10T07:53:19.651Z"
   },
   {
    "duration": 3,
    "start_time": "2022-03-10T07:53:19.661Z"
   },
   {
    "duration": 6,
    "start_time": "2022-03-10T07:53:19.665Z"
   },
   {
    "duration": 70,
    "start_time": "2022-03-10T07:53:19.673Z"
   },
   {
    "duration": 5,
    "start_time": "2022-03-10T07:53:19.745Z"
   },
   {
    "duration": 4,
    "start_time": "2022-03-10T07:53:19.752Z"
   },
   {
    "duration": 5,
    "start_time": "2022-03-10T07:53:19.758Z"
   },
   {
    "duration": 2,
    "start_time": "2022-03-10T07:53:19.764Z"
   },
   {
    "duration": 5,
    "start_time": "2022-03-10T07:53:19.768Z"
   },
   {
    "duration": 5,
    "start_time": "2022-03-10T07:53:19.801Z"
   },
   {
    "duration": 4,
    "start_time": "2022-03-10T07:53:19.808Z"
   },
   {
    "duration": 8,
    "start_time": "2022-03-10T07:53:19.813Z"
   },
   {
    "duration": 8,
    "start_time": "2022-03-10T07:53:19.822Z"
   },
   {
    "duration": 12,
    "start_time": "2022-03-10T07:53:19.831Z"
   },
   {
    "duration": 10,
    "start_time": "2022-03-10T07:53:19.844Z"
   },
   {
    "duration": 9,
    "start_time": "2022-03-10T07:53:19.855Z"
   },
   {
    "duration": 10,
    "start_time": "2022-03-10T07:53:19.865Z"
   },
   {
    "duration": 9,
    "start_time": "2022-03-10T07:53:19.876Z"
   },
   {
    "duration": 16,
    "start_time": "2022-03-10T07:53:19.886Z"
   },
   {
    "duration": 4,
    "start_time": "2022-03-10T07:53:19.903Z"
   },
   {
    "duration": 6,
    "start_time": "2022-03-10T07:53:19.911Z"
   },
   {
    "duration": 8,
    "start_time": "2022-03-10T07:53:19.919Z"
   },
   {
    "duration": 5,
    "start_time": "2022-03-10T07:53:19.929Z"
   },
   {
    "duration": 9,
    "start_time": "2022-03-10T07:53:19.936Z"
   },
   {
    "duration": 9,
    "start_time": "2022-03-10T07:53:19.947Z"
   },
   {
    "duration": 8,
    "start_time": "2022-03-10T07:53:19.958Z"
   },
   {
    "duration": 7,
    "start_time": "2022-03-10T07:53:19.967Z"
   },
   {
    "duration": 9,
    "start_time": "2022-03-10T07:53:19.975Z"
   },
   {
    "duration": 5,
    "start_time": "2022-03-10T07:53:20.001Z"
   },
   {
    "duration": 7,
    "start_time": "2022-03-10T07:53:20.008Z"
   },
   {
    "duration": 9,
    "start_time": "2022-03-10T07:53:20.016Z"
   },
   {
    "duration": 9,
    "start_time": "2022-03-10T07:53:20.026Z"
   },
   {
    "duration": 10,
    "start_time": "2022-03-10T07:53:20.036Z"
   },
   {
    "duration": 7,
    "start_time": "2022-03-10T07:53:20.048Z"
   },
   {
    "duration": 11,
    "start_time": "2022-03-10T07:53:20.056Z"
   },
   {
    "duration": 10,
    "start_time": "2022-03-10T07:53:20.069Z"
   },
   {
    "duration": 22,
    "start_time": "2022-03-10T07:53:20.080Z"
   },
   {
    "duration": 4,
    "start_time": "2022-03-10T07:53:20.103Z"
   },
   {
    "duration": 7,
    "start_time": "2022-03-10T07:53:20.109Z"
   },
   {
    "duration": 8,
    "start_time": "2022-03-10T07:53:20.117Z"
   },
   {
    "duration": 10,
    "start_time": "2022-03-10T07:53:20.126Z"
   },
   {
    "duration": 19,
    "start_time": "2022-03-10T07:53:20.138Z"
   },
   {
    "duration": 27,
    "start_time": "2022-03-10T07:53:20.159Z"
   },
   {
    "duration": 16,
    "start_time": "2022-03-10T07:53:20.188Z"
   },
   {
    "duration": 10,
    "start_time": "2022-03-10T07:53:20.205Z"
   },
   {
    "duration": 13,
    "start_time": "2022-03-10T07:53:20.217Z"
   },
   {
    "duration": 20,
    "start_time": "2022-03-10T07:53:20.232Z"
   },
   {
    "duration": 4,
    "start_time": "2022-03-10T07:53:20.253Z"
   },
   {
    "duration": 18,
    "start_time": "2022-03-10T07:53:20.258Z"
   },
   {
    "duration": 4,
    "start_time": "2022-03-10T07:53:20.277Z"
   },
   {
    "duration": 23,
    "start_time": "2022-03-10T07:53:20.283Z"
   },
   {
    "duration": 3,
    "start_time": "2022-03-10T07:53:20.308Z"
   },
   {
    "duration": 22,
    "start_time": "2022-03-10T07:53:20.312Z"
   },
   {
    "duration": 3,
    "start_time": "2022-03-10T07:53:20.335Z"
   },
   {
    "duration": 30,
    "start_time": "2022-03-10T07:53:20.340Z"
   },
   {
    "duration": 6,
    "start_time": "2022-03-10T07:53:20.371Z"
   },
   {
    "duration": 6,
    "start_time": "2022-03-10T07:53:20.378Z"
   },
   {
    "duration": 10,
    "start_time": "2022-03-10T07:53:20.402Z"
   },
   {
    "duration": 11,
    "start_time": "2022-03-10T07:53:20.413Z"
   },
   {
    "duration": 8,
    "start_time": "2022-03-10T07:53:20.426Z"
   },
   {
    "duration": 14,
    "start_time": "2022-03-10T07:53:20.436Z"
   },
   {
    "duration": 13,
    "start_time": "2022-03-10T07:53:20.451Z"
   },
   {
    "duration": 20,
    "start_time": "2022-03-10T07:53:20.465Z"
   },
   {
    "duration": 22,
    "start_time": "2022-03-10T07:53:20.486Z"
   },
   {
    "duration": 219,
    "start_time": "2022-03-10T07:53:20.510Z"
   },
   {
    "duration": 17,
    "start_time": "2022-03-10T07:53:20.733Z"
   },
   {
    "duration": 13,
    "start_time": "2022-03-10T07:53:20.751Z"
   },
   {
    "duration": 321,
    "start_time": "2022-03-10T07:53:20.765Z"
   },
   {
    "duration": 589,
    "start_time": "2022-03-10T08:10:53.853Z"
   },
   {
    "duration": 10,
    "start_time": "2022-03-10T08:10:54.444Z"
   },
   {
    "duration": 7,
    "start_time": "2022-03-10T08:10:54.456Z"
   },
   {
    "duration": 4,
    "start_time": "2022-03-10T08:10:54.465Z"
   },
   {
    "duration": 5,
    "start_time": "2022-03-10T08:10:54.471Z"
   },
   {
    "duration": 76,
    "start_time": "2022-03-10T08:10:54.477Z"
   },
   {
    "duration": 8,
    "start_time": "2022-03-10T08:10:54.555Z"
   },
   {
    "duration": 5,
    "start_time": "2022-03-10T08:10:54.564Z"
   },
   {
    "duration": 5,
    "start_time": "2022-03-10T08:10:54.572Z"
   },
   {
    "duration": 22,
    "start_time": "2022-03-10T08:10:54.580Z"
   },
   {
    "duration": 7,
    "start_time": "2022-03-10T08:10:54.604Z"
   },
   {
    "duration": 6,
    "start_time": "2022-03-10T08:10:54.612Z"
   },
   {
    "duration": 8,
    "start_time": "2022-03-10T08:10:54.619Z"
   },
   {
    "duration": 15,
    "start_time": "2022-03-10T08:10:54.629Z"
   },
   {
    "duration": 6,
    "start_time": "2022-03-10T08:10:54.646Z"
   },
   {
    "duration": 14,
    "start_time": "2022-03-10T08:10:54.654Z"
   },
   {
    "duration": 8,
    "start_time": "2022-03-10T08:10:54.670Z"
   },
   {
    "duration": 23,
    "start_time": "2022-03-10T08:10:54.680Z"
   },
   {
    "duration": 10,
    "start_time": "2022-03-10T08:10:54.704Z"
   },
   {
    "duration": 9,
    "start_time": "2022-03-10T08:10:54.715Z"
   },
   {
    "duration": 13,
    "start_time": "2022-03-10T08:10:54.726Z"
   },
   {
    "duration": 8,
    "start_time": "2022-03-10T08:10:54.741Z"
   },
   {
    "duration": 8,
    "start_time": "2022-03-10T08:10:54.751Z"
   },
   {
    "duration": 9,
    "start_time": "2022-03-10T08:10:54.761Z"
   },
   {
    "duration": 5,
    "start_time": "2022-03-10T08:10:54.772Z"
   },
   {
    "duration": 12,
    "start_time": "2022-03-10T08:10:54.778Z"
   },
   {
    "duration": 5,
    "start_time": "2022-03-10T08:10:54.804Z"
   },
   {
    "duration": 10,
    "start_time": "2022-03-10T08:10:54.811Z"
   },
   {
    "duration": 8,
    "start_time": "2022-03-10T08:10:54.822Z"
   },
   {
    "duration": 9,
    "start_time": "2022-03-10T08:10:54.831Z"
   },
   {
    "duration": 15,
    "start_time": "2022-03-10T08:10:54.842Z"
   },
   {
    "duration": 8,
    "start_time": "2022-03-10T08:10:54.859Z"
   },
   {
    "duration": 7,
    "start_time": "2022-03-10T08:10:54.869Z"
   },
   {
    "duration": 12,
    "start_time": "2022-03-10T08:10:54.878Z"
   },
   {
    "duration": 14,
    "start_time": "2022-03-10T08:10:54.892Z"
   },
   {
    "duration": 9,
    "start_time": "2022-03-10T08:10:54.907Z"
   },
   {
    "duration": 9,
    "start_time": "2022-03-10T08:10:54.918Z"
   },
   {
    "duration": 11,
    "start_time": "2022-03-10T08:10:54.929Z"
   },
   {
    "duration": 6,
    "start_time": "2022-03-10T08:10:54.942Z"
   },
   {
    "duration": 8,
    "start_time": "2022-03-10T08:10:54.950Z"
   },
   {
    "duration": 14,
    "start_time": "2022-03-10T08:10:54.960Z"
   },
   {
    "duration": 8,
    "start_time": "2022-03-10T08:10:54.975Z"
   },
   {
    "duration": 8,
    "start_time": "2022-03-10T08:10:54.984Z"
   },
   {
    "duration": 20,
    "start_time": "2022-03-10T08:10:54.993Z"
   },
   {
    "duration": 26,
    "start_time": "2022-03-10T08:10:55.014Z"
   },
   {
    "duration": 4,
    "start_time": "2022-03-10T08:10:55.041Z"
   },
   {
    "duration": 11,
    "start_time": "2022-03-10T08:10:55.046Z"
   },
   {
    "duration": 8,
    "start_time": "2022-03-10T08:10:55.059Z"
   },
   {
    "duration": 46,
    "start_time": "2022-03-10T08:10:55.069Z"
   },
   {
    "duration": 4,
    "start_time": "2022-03-10T08:10:55.116Z"
   },
   {
    "duration": 23,
    "start_time": "2022-03-10T08:10:55.122Z"
   },
   {
    "duration": 4,
    "start_time": "2022-03-10T08:10:55.146Z"
   },
   {
    "duration": 12,
    "start_time": "2022-03-10T08:10:55.152Z"
   },
   {
    "duration": 4,
    "start_time": "2022-03-10T08:10:55.165Z"
   },
   {
    "duration": 40,
    "start_time": "2022-03-10T08:10:55.171Z"
   },
   {
    "duration": 4,
    "start_time": "2022-03-10T08:10:55.213Z"
   },
   {
    "duration": 36,
    "start_time": "2022-03-10T08:10:55.219Z"
   },
   {
    "duration": 6,
    "start_time": "2022-03-10T08:10:55.256Z"
   },
   {
    "duration": 5,
    "start_time": "2022-03-10T08:10:55.264Z"
   },
   {
    "duration": 35,
    "start_time": "2022-03-10T08:10:55.271Z"
   },
   {
    "duration": 12,
    "start_time": "2022-03-10T08:10:55.307Z"
   },
   {
    "duration": 6,
    "start_time": "2022-03-10T08:10:55.321Z"
   },
   {
    "duration": 16,
    "start_time": "2022-03-10T08:10:55.329Z"
   },
   {
    "duration": 11,
    "start_time": "2022-03-10T08:10:55.346Z"
   },
   {
    "duration": 15,
    "start_time": "2022-03-10T08:10:55.359Z"
   },
   {
    "duration": 34,
    "start_time": "2022-03-10T08:10:55.376Z"
   },
   {
    "duration": 219,
    "start_time": "2022-03-10T08:10:55.411Z"
   },
   {
    "duration": 20,
    "start_time": "2022-03-10T08:10:55.632Z"
   },
   {
    "duration": 14,
    "start_time": "2022-03-10T08:10:55.653Z"
   },
   {
    "duration": 317,
    "start_time": "2022-03-10T08:10:55.669Z"
   },
   {
    "duration": 615,
    "start_time": "2022-03-10T08:16:38.516Z"
   },
   {
    "duration": 10,
    "start_time": "2022-03-10T08:16:39.133Z"
   },
   {
    "duration": 9,
    "start_time": "2022-03-10T08:16:39.145Z"
   },
   {
    "duration": 5,
    "start_time": "2022-03-10T08:16:39.156Z"
   },
   {
    "duration": 6,
    "start_time": "2022-03-10T08:16:39.162Z"
   },
   {
    "duration": 80,
    "start_time": "2022-03-10T08:16:39.170Z"
   },
   {
    "duration": 5,
    "start_time": "2022-03-10T08:16:39.252Z"
   },
   {
    "duration": 4,
    "start_time": "2022-03-10T08:16:39.260Z"
   },
   {
    "duration": 5,
    "start_time": "2022-03-10T08:16:39.266Z"
   },
   {
    "duration": 3,
    "start_time": "2022-03-10T08:16:39.273Z"
   },
   {
    "duration": 6,
    "start_time": "2022-03-10T08:16:39.301Z"
   },
   {
    "duration": 6,
    "start_time": "2022-03-10T08:16:39.308Z"
   },
   {
    "duration": 6,
    "start_time": "2022-03-10T08:16:39.316Z"
   },
   {
    "duration": 9,
    "start_time": "2022-03-10T08:16:39.324Z"
   },
   {
    "duration": 9,
    "start_time": "2022-03-10T08:16:39.334Z"
   },
   {
    "duration": 9,
    "start_time": "2022-03-10T08:16:39.344Z"
   },
   {
    "duration": 8,
    "start_time": "2022-03-10T08:16:39.354Z"
   },
   {
    "duration": 38,
    "start_time": "2022-03-10T08:16:39.364Z"
   },
   {
    "duration": 5,
    "start_time": "2022-03-10T08:16:39.404Z"
   },
   {
    "duration": 4,
    "start_time": "2022-03-10T08:16:39.411Z"
   },
   {
    "duration": 12,
    "start_time": "2022-03-10T08:16:39.417Z"
   },
   {
    "duration": 8,
    "start_time": "2022-03-10T08:16:39.431Z"
   },
   {
    "duration": 7,
    "start_time": "2022-03-10T08:16:39.442Z"
   },
   {
    "duration": 7,
    "start_time": "2022-03-10T08:16:39.451Z"
   },
   {
    "duration": 5,
    "start_time": "2022-03-10T08:16:39.460Z"
   },
   {
    "duration": 11,
    "start_time": "2022-03-10T08:16:39.466Z"
   },
   {
    "duration": 6,
    "start_time": "2022-03-10T08:16:39.501Z"
   },
   {
    "duration": 6,
    "start_time": "2022-03-10T08:16:39.508Z"
   },
   {
    "duration": 14,
    "start_time": "2022-03-10T08:16:39.515Z"
   },
   {
    "duration": 9,
    "start_time": "2022-03-10T08:16:39.530Z"
   },
   {
    "duration": 9,
    "start_time": "2022-03-10T08:16:39.540Z"
   },
   {
    "duration": 9,
    "start_time": "2022-03-10T08:16:39.551Z"
   },
   {
    "duration": 8,
    "start_time": "2022-03-10T08:16:39.562Z"
   },
   {
    "duration": 29,
    "start_time": "2022-03-10T08:16:39.572Z"
   },
   {
    "duration": 7,
    "start_time": "2022-03-10T08:16:39.603Z"
   },
   {
    "duration": 7,
    "start_time": "2022-03-10T08:16:39.612Z"
   },
   {
    "duration": 9,
    "start_time": "2022-03-10T08:16:39.621Z"
   },
   {
    "duration": 12,
    "start_time": "2022-03-10T08:16:39.632Z"
   },
   {
    "duration": 6,
    "start_time": "2022-03-10T08:16:39.646Z"
   },
   {
    "duration": 9,
    "start_time": "2022-03-10T08:16:39.654Z"
   },
   {
    "duration": 9,
    "start_time": "2022-03-10T08:16:39.665Z"
   },
   {
    "duration": 26,
    "start_time": "2022-03-10T08:16:39.675Z"
   },
   {
    "duration": 8,
    "start_time": "2022-03-10T08:16:39.703Z"
   },
   {
    "duration": 20,
    "start_time": "2022-03-10T08:16:39.713Z"
   },
   {
    "duration": 28,
    "start_time": "2022-03-10T08:16:39.734Z"
   },
   {
    "duration": 5,
    "start_time": "2022-03-10T08:16:39.763Z"
   },
   {
    "duration": 39,
    "start_time": "2022-03-10T08:16:39.769Z"
   },
   {
    "duration": 6,
    "start_time": "2022-03-10T08:16:39.809Z"
   },
   {
    "duration": 16,
    "start_time": "2022-03-10T08:16:39.817Z"
   },
   {
    "duration": 4,
    "start_time": "2022-03-10T08:16:39.835Z"
   },
   {
    "duration": 26,
    "start_time": "2022-03-10T08:16:39.841Z"
   },
   {
    "duration": 4,
    "start_time": "2022-03-10T08:16:39.868Z"
   },
   {
    "duration": 33,
    "start_time": "2022-03-10T08:16:39.874Z"
   },
   {
    "duration": 5,
    "start_time": "2022-03-10T08:16:39.909Z"
   },
   {
    "duration": 27,
    "start_time": "2022-03-10T08:16:39.915Z"
   },
   {
    "duration": 4,
    "start_time": "2022-03-10T08:16:39.944Z"
   },
   {
    "duration": 39,
    "start_time": "2022-03-10T08:16:39.951Z"
   },
   {
    "duration": 6,
    "start_time": "2022-03-10T08:16:40.002Z"
   },
   {
    "duration": 6,
    "start_time": "2022-03-10T08:16:40.010Z"
   },
   {
    "duration": 20,
    "start_time": "2022-03-10T08:16:40.018Z"
   },
   {
    "duration": 16,
    "start_time": "2022-03-10T08:16:40.041Z"
   },
   {
    "duration": 7,
    "start_time": "2022-03-10T08:16:40.059Z"
   },
   {
    "duration": 377,
    "start_time": "2022-03-10T08:16:40.068Z"
   },
   {
    "duration": -150,
    "start_time": "2022-03-10T08:16:40.598Z"
   },
   {
    "duration": -169,
    "start_time": "2022-03-10T08:16:40.619Z"
   },
   {
    "duration": -178,
    "start_time": "2022-03-10T08:16:40.629Z"
   },
   {
    "duration": -194,
    "start_time": "2022-03-10T08:16:40.647Z"
   },
   {
    "duration": -196,
    "start_time": "2022-03-10T08:16:40.650Z"
   },
   {
    "duration": -197,
    "start_time": "2022-03-10T08:16:40.653Z"
   },
   {
    "duration": -203,
    "start_time": "2022-03-10T08:16:40.660Z"
   },
   {
    "duration": -219,
    "start_time": "2022-03-10T08:16:40.677Z"
   },
   {
    "duration": 613,
    "start_time": "2022-03-10T08:18:20.917Z"
   },
   {
    "duration": 11,
    "start_time": "2022-03-10T08:18:21.532Z"
   },
   {
    "duration": 9,
    "start_time": "2022-03-10T08:18:21.545Z"
   },
   {
    "duration": 4,
    "start_time": "2022-03-10T08:18:21.556Z"
   },
   {
    "duration": 6,
    "start_time": "2022-03-10T08:18:21.562Z"
   },
   {
    "duration": 57,
    "start_time": "2022-03-10T08:18:21.602Z"
   },
   {
    "duration": 8,
    "start_time": "2022-03-10T08:18:21.661Z"
   },
   {
    "duration": 5,
    "start_time": "2022-03-10T08:18:21.670Z"
   },
   {
    "duration": 26,
    "start_time": "2022-03-10T08:18:21.678Z"
   },
   {
    "duration": 2,
    "start_time": "2022-03-10T08:18:21.707Z"
   },
   {
    "duration": 6,
    "start_time": "2022-03-10T08:18:21.711Z"
   },
   {
    "duration": 7,
    "start_time": "2022-03-10T08:18:21.719Z"
   },
   {
    "duration": 5,
    "start_time": "2022-03-10T08:18:21.728Z"
   },
   {
    "duration": 7,
    "start_time": "2022-03-10T08:18:21.735Z"
   },
   {
    "duration": 10,
    "start_time": "2022-03-10T08:18:21.744Z"
   },
   {
    "duration": 12,
    "start_time": "2022-03-10T08:18:21.756Z"
   },
   {
    "duration": 34,
    "start_time": "2022-03-10T08:18:21.770Z"
   },
   {
    "duration": 5,
    "start_time": "2022-03-10T08:18:21.806Z"
   },
   {
    "duration": 6,
    "start_time": "2022-03-10T08:18:21.813Z"
   },
   {
    "duration": 7,
    "start_time": "2022-03-10T08:18:21.821Z"
   },
   {
    "duration": 9,
    "start_time": "2022-03-10T08:18:21.830Z"
   },
   {
    "duration": 8,
    "start_time": "2022-03-10T08:18:21.841Z"
   },
   {
    "duration": 8,
    "start_time": "2022-03-10T08:18:21.851Z"
   },
   {
    "duration": 8,
    "start_time": "2022-03-10T08:18:21.861Z"
   },
   {
    "duration": 30,
    "start_time": "2022-03-10T08:18:21.871Z"
   },
   {
    "duration": 8,
    "start_time": "2022-03-10T08:18:21.903Z"
   },
   {
    "duration": 7,
    "start_time": "2022-03-10T08:18:21.915Z"
   },
   {
    "duration": 7,
    "start_time": "2022-03-10T08:18:21.925Z"
   },
   {
    "duration": 7,
    "start_time": "2022-03-10T08:18:21.934Z"
   },
   {
    "duration": 12,
    "start_time": "2022-03-10T08:18:21.942Z"
   },
   {
    "duration": 9,
    "start_time": "2022-03-10T08:18:21.956Z"
   },
   {
    "duration": 8,
    "start_time": "2022-03-10T08:18:21.967Z"
   },
   {
    "duration": 10,
    "start_time": "2022-03-10T08:18:21.977Z"
   },
   {
    "duration": 6,
    "start_time": "2022-03-10T08:18:22.000Z"
   },
   {
    "duration": 8,
    "start_time": "2022-03-10T08:18:22.008Z"
   },
   {
    "duration": 10,
    "start_time": "2022-03-10T08:18:22.017Z"
   },
   {
    "duration": 7,
    "start_time": "2022-03-10T08:18:22.028Z"
   },
   {
    "duration": 10,
    "start_time": "2022-03-10T08:18:22.037Z"
   },
   {
    "duration": 10,
    "start_time": "2022-03-10T08:18:22.049Z"
   },
   {
    "duration": 8,
    "start_time": "2022-03-10T08:18:22.060Z"
   },
   {
    "duration": 9,
    "start_time": "2022-03-10T08:18:22.069Z"
   },
   {
    "duration": 8,
    "start_time": "2022-03-10T08:18:22.080Z"
   },
   {
    "duration": 13,
    "start_time": "2022-03-10T08:18:22.089Z"
   },
   {
    "duration": 17,
    "start_time": "2022-03-10T08:18:22.103Z"
   },
   {
    "duration": 26,
    "start_time": "2022-03-10T08:18:22.121Z"
   },
   {
    "duration": 5,
    "start_time": "2022-03-10T08:18:22.149Z"
   },
   {
    "duration": 21,
    "start_time": "2022-03-10T08:18:22.155Z"
   },
   {
    "duration": 24,
    "start_time": "2022-03-10T08:18:22.178Z"
   },
   {
    "duration": 17,
    "start_time": "2022-03-10T08:18:22.203Z"
   },
   {
    "duration": 4,
    "start_time": "2022-03-10T08:18:22.222Z"
   },
   {
    "duration": 18,
    "start_time": "2022-03-10T08:18:22.227Z"
   },
   {
    "duration": 2,
    "start_time": "2022-03-10T08:18:22.247Z"
   },
   {
    "duration": 12,
    "start_time": "2022-03-10T08:18:22.251Z"
   },
   {
    "duration": 7,
    "start_time": "2022-03-10T08:18:22.265Z"
   },
   {
    "duration": 30,
    "start_time": "2022-03-10T08:18:22.274Z"
   },
   {
    "duration": 6,
    "start_time": "2022-03-10T08:18:22.306Z"
   },
   {
    "duration": 29,
    "start_time": "2022-03-10T08:18:22.314Z"
   },
   {
    "duration": 5,
    "start_time": "2022-03-10T08:18:22.345Z"
   },
   {
    "duration": 7,
    "start_time": "2022-03-10T08:18:22.352Z"
   },
   {
    "duration": 14,
    "start_time": "2022-03-10T08:18:22.360Z"
   },
   {
    "duration": 25,
    "start_time": "2022-03-10T08:18:22.376Z"
   },
   {
    "duration": 5,
    "start_time": "2022-03-10T08:18:22.402Z"
   },
   {
    "duration": 355,
    "start_time": "2022-03-10T08:18:22.408Z"
   },
   {
    "duration": -70,
    "start_time": "2022-03-10T08:18:22.836Z"
   },
   {
    "duration": -71,
    "start_time": "2022-03-10T08:18:22.838Z"
   },
   {
    "duration": -72,
    "start_time": "2022-03-10T08:18:22.840Z"
   },
   {
    "duration": -77,
    "start_time": "2022-03-10T08:18:22.846Z"
   },
   {
    "duration": -78,
    "start_time": "2022-03-10T08:18:22.848Z"
   },
   {
    "duration": -79,
    "start_time": "2022-03-10T08:18:22.851Z"
   },
   {
    "duration": -79,
    "start_time": "2022-03-10T08:18:22.852Z"
   },
   {
    "duration": -80,
    "start_time": "2022-03-10T08:18:22.854Z"
   },
   {
    "duration": 742,
    "start_time": "2022-03-10T08:18:45.078Z"
   },
   {
    "duration": 14,
    "start_time": "2022-03-10T08:18:45.822Z"
   },
   {
    "duration": 12,
    "start_time": "2022-03-10T08:18:45.839Z"
   },
   {
    "duration": 4,
    "start_time": "2022-03-10T08:18:45.853Z"
   },
   {
    "duration": 6,
    "start_time": "2022-03-10T08:18:45.859Z"
   },
   {
    "duration": 109,
    "start_time": "2022-03-10T08:18:45.867Z"
   },
   {
    "duration": 7,
    "start_time": "2022-03-10T08:18:45.978Z"
   },
   {
    "duration": 14,
    "start_time": "2022-03-10T08:18:45.988Z"
   },
   {
    "duration": 5,
    "start_time": "2022-03-10T08:18:46.004Z"
   },
   {
    "duration": 2,
    "start_time": "2022-03-10T08:18:46.011Z"
   },
   {
    "duration": 7,
    "start_time": "2022-03-10T08:18:46.015Z"
   },
   {
    "duration": 6,
    "start_time": "2022-03-10T08:18:46.023Z"
   },
   {
    "duration": 5,
    "start_time": "2022-03-10T08:18:46.030Z"
   },
   {
    "duration": 8,
    "start_time": "2022-03-10T08:18:46.037Z"
   },
   {
    "duration": 11,
    "start_time": "2022-03-10T08:18:46.047Z"
   },
   {
    "duration": 8,
    "start_time": "2022-03-10T08:18:46.060Z"
   },
   {
    "duration": 36,
    "start_time": "2022-03-10T08:18:46.069Z"
   },
   {
    "duration": 4,
    "start_time": "2022-03-10T08:18:46.107Z"
   },
   {
    "duration": 8,
    "start_time": "2022-03-10T08:18:46.113Z"
   },
   {
    "duration": 8,
    "start_time": "2022-03-10T08:18:46.122Z"
   },
   {
    "duration": 8,
    "start_time": "2022-03-10T08:18:46.132Z"
   },
   {
    "duration": 9,
    "start_time": "2022-03-10T08:18:46.142Z"
   },
   {
    "duration": 6,
    "start_time": "2022-03-10T08:18:46.154Z"
   },
   {
    "duration": 8,
    "start_time": "2022-03-10T08:18:46.162Z"
   },
   {
    "duration": 30,
    "start_time": "2022-03-10T08:18:46.172Z"
   },
   {
    "duration": 6,
    "start_time": "2022-03-10T08:18:46.203Z"
   },
   {
    "duration": 8,
    "start_time": "2022-03-10T08:18:46.210Z"
   },
   {
    "duration": 9,
    "start_time": "2022-03-10T08:18:46.220Z"
   },
   {
    "duration": 7,
    "start_time": "2022-03-10T08:18:46.231Z"
   },
   {
    "duration": 13,
    "start_time": "2022-03-10T08:18:46.239Z"
   },
   {
    "duration": 10,
    "start_time": "2022-03-10T08:18:46.253Z"
   },
   {
    "duration": 12,
    "start_time": "2022-03-10T08:18:46.265Z"
   },
   {
    "duration": 8,
    "start_time": "2022-03-10T08:18:46.278Z"
   },
   {
    "duration": 15,
    "start_time": "2022-03-10T08:18:46.287Z"
   },
   {
    "duration": 6,
    "start_time": "2022-03-10T08:18:46.304Z"
   },
   {
    "duration": 10,
    "start_time": "2022-03-10T08:18:46.312Z"
   },
   {
    "duration": 8,
    "start_time": "2022-03-10T08:18:46.324Z"
   },
   {
    "duration": 11,
    "start_time": "2022-03-10T08:18:46.334Z"
   },
   {
    "duration": 8,
    "start_time": "2022-03-10T08:18:46.347Z"
   },
   {
    "duration": 6,
    "start_time": "2022-03-10T08:18:46.357Z"
   },
   {
    "duration": 11,
    "start_time": "2022-03-10T08:18:46.364Z"
   },
   {
    "duration": 24,
    "start_time": "2022-03-10T08:18:46.377Z"
   },
   {
    "duration": 5,
    "start_time": "2022-03-10T08:18:46.403Z"
   },
   {
    "duration": 20,
    "start_time": "2022-03-10T08:18:46.410Z"
   },
   {
    "duration": 26,
    "start_time": "2022-03-10T08:18:46.431Z"
   },
   {
    "duration": 4,
    "start_time": "2022-03-10T08:18:46.459Z"
   },
   {
    "duration": 16,
    "start_time": "2022-03-10T08:18:46.464Z"
   },
   {
    "duration": 24,
    "start_time": "2022-03-10T08:18:46.481Z"
   },
   {
    "duration": 17,
    "start_time": "2022-03-10T08:18:46.507Z"
   },
   {
    "duration": 3,
    "start_time": "2022-03-10T08:18:46.525Z"
   },
   {
    "duration": 17,
    "start_time": "2022-03-10T08:18:46.530Z"
   },
   {
    "duration": 2,
    "start_time": "2022-03-10T08:18:46.549Z"
   },
   {
    "duration": 12,
    "start_time": "2022-03-10T08:18:46.553Z"
   },
   {
    "duration": 8,
    "start_time": "2022-03-10T08:18:46.567Z"
   },
   {
    "duration": 34,
    "start_time": "2022-03-10T08:18:46.576Z"
   },
   {
    "duration": 4,
    "start_time": "2022-03-10T08:18:46.612Z"
   },
   {
    "duration": 31,
    "start_time": "2022-03-10T08:18:46.618Z"
   },
   {
    "duration": 5,
    "start_time": "2022-03-10T08:18:46.651Z"
   },
   {
    "duration": 6,
    "start_time": "2022-03-10T08:18:46.658Z"
   },
   {
    "duration": 16,
    "start_time": "2022-03-10T08:18:46.665Z"
   },
   {
    "duration": 22,
    "start_time": "2022-03-10T08:18:46.683Z"
   },
   {
    "duration": 7,
    "start_time": "2022-03-10T08:18:46.707Z"
   },
   {
    "duration": 16,
    "start_time": "2022-03-10T08:18:46.715Z"
   },
   {
    "duration": 10,
    "start_time": "2022-03-10T08:18:46.733Z"
   },
   {
    "duration": 11,
    "start_time": "2022-03-10T08:18:46.744Z"
   },
   {
    "duration": 14,
    "start_time": "2022-03-10T08:18:46.756Z"
   },
   {
    "duration": 37,
    "start_time": "2022-03-10T08:18:46.772Z"
   },
   {
    "duration": 217,
    "start_time": "2022-03-10T08:18:46.813Z"
   },
   {
    "duration": 17,
    "start_time": "2022-03-10T08:18:47.032Z"
   },
   {
    "duration": 13,
    "start_time": "2022-03-10T08:18:47.050Z"
   },
   {
    "duration": 349,
    "start_time": "2022-03-10T08:18:47.064Z"
   },
   {
    "duration": 319,
    "start_time": "2022-03-10T08:20:23.829Z"
   },
   {
    "duration": 638,
    "start_time": "2022-03-10T08:20:28.612Z"
   },
   {
    "duration": 10,
    "start_time": "2022-03-10T08:20:29.251Z"
   },
   {
    "duration": 8,
    "start_time": "2022-03-10T08:20:29.263Z"
   },
   {
    "duration": 4,
    "start_time": "2022-03-10T08:20:29.273Z"
   },
   {
    "duration": 23,
    "start_time": "2022-03-10T08:20:29.278Z"
   },
   {
    "duration": 55,
    "start_time": "2022-03-10T08:20:29.302Z"
   },
   {
    "duration": 6,
    "start_time": "2022-03-10T08:20:29.359Z"
   },
   {
    "duration": 5,
    "start_time": "2022-03-10T08:20:29.366Z"
   },
   {
    "duration": 28,
    "start_time": "2022-03-10T08:20:29.374Z"
   },
   {
    "duration": 2,
    "start_time": "2022-03-10T08:20:29.405Z"
   },
   {
    "duration": 8,
    "start_time": "2022-03-10T08:20:29.409Z"
   },
   {
    "duration": 6,
    "start_time": "2022-03-10T08:20:29.418Z"
   },
   {
    "duration": 6,
    "start_time": "2022-03-10T08:20:29.426Z"
   },
   {
    "duration": 8,
    "start_time": "2022-03-10T08:20:29.434Z"
   },
   {
    "duration": 14,
    "start_time": "2022-03-10T08:20:29.444Z"
   },
   {
    "duration": 7,
    "start_time": "2022-03-10T08:20:29.460Z"
   },
   {
    "duration": 34,
    "start_time": "2022-03-10T08:20:29.468Z"
   },
   {
    "duration": 6,
    "start_time": "2022-03-10T08:20:29.504Z"
   },
   {
    "duration": 8,
    "start_time": "2022-03-10T08:20:29.511Z"
   },
   {
    "duration": 7,
    "start_time": "2022-03-10T08:20:29.521Z"
   },
   {
    "duration": 10,
    "start_time": "2022-03-10T08:20:29.530Z"
   },
   {
    "duration": 9,
    "start_time": "2022-03-10T08:20:29.541Z"
   },
   {
    "duration": 8,
    "start_time": "2022-03-10T08:20:29.551Z"
   },
   {
    "duration": 8,
    "start_time": "2022-03-10T08:20:29.561Z"
   },
   {
    "duration": 5,
    "start_time": "2022-03-10T08:20:29.571Z"
   },
   {
    "duration": 4,
    "start_time": "2022-03-10T08:20:29.601Z"
   },
   {
    "duration": 5,
    "start_time": "2022-03-10T08:20:29.610Z"
   },
   {
    "duration": 12,
    "start_time": "2022-03-10T08:20:29.617Z"
   },
   {
    "duration": 9,
    "start_time": "2022-03-10T08:20:29.630Z"
   },
   {
    "duration": 8,
    "start_time": "2022-03-10T08:20:29.641Z"
   },
   {
    "duration": 13,
    "start_time": "2022-03-10T08:20:29.651Z"
   },
   {
    "duration": 7,
    "start_time": "2022-03-10T08:20:29.665Z"
   },
   {
    "duration": 9,
    "start_time": "2022-03-10T08:20:29.674Z"
   },
   {
    "duration": 22,
    "start_time": "2022-03-10T08:20:29.684Z"
   },
   {
    "duration": 12,
    "start_time": "2022-03-10T08:20:29.707Z"
   },
   {
    "duration": 9,
    "start_time": "2022-03-10T08:20:29.721Z"
   },
   {
    "duration": 8,
    "start_time": "2022-03-10T08:20:29.732Z"
   },
   {
    "duration": 12,
    "start_time": "2022-03-10T08:20:29.741Z"
   },
   {
    "duration": 9,
    "start_time": "2022-03-10T08:20:29.754Z"
   },
   {
    "duration": 8,
    "start_time": "2022-03-10T08:20:29.764Z"
   },
   {
    "duration": 9,
    "start_time": "2022-03-10T08:20:29.773Z"
   },
   {
    "duration": 10,
    "start_time": "2022-03-10T08:20:29.784Z"
   },
   {
    "duration": 10,
    "start_time": "2022-03-10T08:20:29.795Z"
   },
   {
    "duration": 20,
    "start_time": "2022-03-10T08:20:29.806Z"
   },
   {
    "duration": 32,
    "start_time": "2022-03-10T08:20:29.828Z"
   },
   {
    "duration": 5,
    "start_time": "2022-03-10T08:20:29.862Z"
   },
   {
    "duration": 20,
    "start_time": "2022-03-10T08:20:29.869Z"
   },
   {
    "duration": 7,
    "start_time": "2022-03-10T08:20:29.901Z"
   },
   {
    "duration": 35,
    "start_time": "2022-03-10T08:20:29.909Z"
   },
   {
    "duration": 4,
    "start_time": "2022-03-10T08:20:29.946Z"
   },
   {
    "duration": 36,
    "start_time": "2022-03-10T08:20:29.952Z"
   },
   {
    "duration": 3,
    "start_time": "2022-03-10T08:20:29.990Z"
   },
   {
    "duration": 19,
    "start_time": "2022-03-10T08:20:29.995Z"
   },
   {
    "duration": 6,
    "start_time": "2022-03-10T08:20:30.016Z"
   },
   {
    "duration": 22,
    "start_time": "2022-03-10T08:20:30.024Z"
   },
   {
    "duration": 3,
    "start_time": "2022-03-10T08:20:30.048Z"
   },
   {
    "duration": 31,
    "start_time": "2022-03-10T08:20:30.053Z"
   },
   {
    "duration": 6,
    "start_time": "2022-03-10T08:20:30.085Z"
   },
   {
    "duration": 8,
    "start_time": "2022-03-10T08:20:30.093Z"
   },
   {
    "duration": 16,
    "start_time": "2022-03-10T08:20:30.103Z"
   },
   {
    "duration": 10,
    "start_time": "2022-03-10T08:20:30.121Z"
   },
   {
    "duration": 7,
    "start_time": "2022-03-10T08:20:30.133Z"
   },
   {
    "duration": 19,
    "start_time": "2022-03-10T08:20:30.142Z"
   },
   {
    "duration": 9,
    "start_time": "2022-03-10T08:20:30.162Z"
   },
   {
    "duration": 15,
    "start_time": "2022-03-10T08:20:30.173Z"
   },
   {
    "duration": 26,
    "start_time": "2022-03-10T08:20:30.190Z"
   },
   {
    "duration": 45,
    "start_time": "2022-03-10T08:20:30.218Z"
   },
   {
    "duration": 246,
    "start_time": "2022-03-10T08:20:30.265Z"
   },
   {
    "duration": 19,
    "start_time": "2022-03-10T08:20:30.513Z"
   },
   {
    "duration": 13,
    "start_time": "2022-03-10T08:20:30.534Z"
   },
   {
    "duration": 372,
    "start_time": "2022-03-10T08:20:30.548Z"
   },
   {
    "duration": 611,
    "start_time": "2022-03-10T08:20:54.219Z"
   },
   {
    "duration": 29,
    "start_time": "2022-03-10T08:20:54.832Z"
   },
   {
    "duration": 8,
    "start_time": "2022-03-10T08:20:54.863Z"
   },
   {
    "duration": 4,
    "start_time": "2022-03-10T08:20:54.873Z"
   },
   {
    "duration": 7,
    "start_time": "2022-03-10T08:20:54.879Z"
   },
   {
    "duration": 95,
    "start_time": "2022-03-10T08:20:54.888Z"
   },
   {
    "duration": 7,
    "start_time": "2022-03-10T08:20:54.985Z"
   },
   {
    "duration": 4,
    "start_time": "2022-03-10T08:20:55.003Z"
   },
   {
    "duration": 8,
    "start_time": "2022-03-10T08:20:55.010Z"
   },
   {
    "duration": 2,
    "start_time": "2022-03-10T08:20:55.020Z"
   },
   {
    "duration": 7,
    "start_time": "2022-03-10T08:20:55.024Z"
   },
   {
    "duration": 6,
    "start_time": "2022-03-10T08:20:55.033Z"
   },
   {
    "duration": 9,
    "start_time": "2022-03-10T08:20:55.040Z"
   },
   {
    "duration": 8,
    "start_time": "2022-03-10T08:20:55.050Z"
   },
   {
    "duration": 7,
    "start_time": "2022-03-10T08:20:55.060Z"
   },
   {
    "duration": 37,
    "start_time": "2022-03-10T08:20:55.069Z"
   },
   {
    "duration": 7,
    "start_time": "2022-03-10T08:20:55.107Z"
   },
   {
    "duration": 8,
    "start_time": "2022-03-10T08:20:55.116Z"
   },
   {
    "duration": 8,
    "start_time": "2022-03-10T08:20:55.125Z"
   },
   {
    "duration": 6,
    "start_time": "2022-03-10T08:20:55.135Z"
   },
   {
    "duration": 13,
    "start_time": "2022-03-10T08:20:55.143Z"
   },
   {
    "duration": 11,
    "start_time": "2022-03-10T08:20:55.157Z"
   },
   {
    "duration": 8,
    "start_time": "2022-03-10T08:20:55.172Z"
   },
   {
    "duration": 8,
    "start_time": "2022-03-10T08:20:55.182Z"
   },
   {
    "duration": 2,
    "start_time": "2022-03-10T08:20:55.201Z"
   },
   {
    "duration": 13,
    "start_time": "2022-03-10T08:20:55.204Z"
   },
   {
    "duration": 10,
    "start_time": "2022-03-10T08:20:55.218Z"
   },
   {
    "duration": 13,
    "start_time": "2022-03-10T08:20:55.230Z"
   },
   {
    "duration": 12,
    "start_time": "2022-03-10T08:20:55.245Z"
   },
   {
    "duration": 8,
    "start_time": "2022-03-10T08:20:55.258Z"
   },
   {
    "duration": 7,
    "start_time": "2022-03-10T08:20:55.267Z"
   },
   {
    "duration": 8,
    "start_time": "2022-03-10T08:20:55.275Z"
   },
   {
    "duration": 8,
    "start_time": "2022-03-10T08:20:55.284Z"
   },
   {
    "duration": 11,
    "start_time": "2022-03-10T08:20:55.293Z"
   },
   {
    "duration": 8,
    "start_time": "2022-03-10T08:20:55.306Z"
   },
   {
    "duration": 8,
    "start_time": "2022-03-10T08:20:55.315Z"
   },
   {
    "duration": 6,
    "start_time": "2022-03-10T08:20:55.325Z"
   },
   {
    "duration": 8,
    "start_time": "2022-03-10T08:20:55.333Z"
   },
   {
    "duration": 7,
    "start_time": "2022-03-10T08:20:55.342Z"
   },
   {
    "duration": 7,
    "start_time": "2022-03-10T08:20:55.351Z"
   },
   {
    "duration": 8,
    "start_time": "2022-03-10T08:20:55.359Z"
   },
   {
    "duration": 7,
    "start_time": "2022-03-10T08:20:55.368Z"
   },
   {
    "duration": 27,
    "start_time": "2022-03-10T08:20:55.376Z"
   },
   {
    "duration": 14,
    "start_time": "2022-03-10T08:20:55.404Z"
   },
   {
    "duration": 25,
    "start_time": "2022-03-10T08:20:55.420Z"
   },
   {
    "duration": 4,
    "start_time": "2022-03-10T08:20:55.447Z"
   },
   {
    "duration": 11,
    "start_time": "2022-03-10T08:20:55.452Z"
   },
   {
    "duration": 8,
    "start_time": "2022-03-10T08:20:55.465Z"
   },
   {
    "duration": 16,
    "start_time": "2022-03-10T08:20:55.501Z"
   },
   {
    "duration": 3,
    "start_time": "2022-03-10T08:20:55.518Z"
   },
   {
    "duration": 22,
    "start_time": "2022-03-10T08:20:55.523Z"
   },
   {
    "duration": 4,
    "start_time": "2022-03-10T08:20:55.546Z"
   },
   {
    "duration": 11,
    "start_time": "2022-03-10T08:20:55.551Z"
   },
   {
    "duration": 5,
    "start_time": "2022-03-10T08:20:55.563Z"
   },
   {
    "duration": 33,
    "start_time": "2022-03-10T08:20:55.569Z"
   },
   {
    "duration": 4,
    "start_time": "2022-03-10T08:20:55.603Z"
   },
   {
    "duration": 32,
    "start_time": "2022-03-10T08:20:55.609Z"
   },
   {
    "duration": 5,
    "start_time": "2022-03-10T08:20:55.643Z"
   },
   {
    "duration": 5,
    "start_time": "2022-03-10T08:20:55.650Z"
   },
   {
    "duration": 12,
    "start_time": "2022-03-10T08:20:55.657Z"
   },
   {
    "duration": 30,
    "start_time": "2022-03-10T08:20:55.671Z"
   },
   {
    "duration": 4,
    "start_time": "2022-03-10T08:20:55.703Z"
   },
   {
    "duration": 17,
    "start_time": "2022-03-10T08:20:55.709Z"
   },
   {
    "duration": 9,
    "start_time": "2022-03-10T08:20:55.727Z"
   },
   {
    "duration": 11,
    "start_time": "2022-03-10T08:20:55.737Z"
   },
   {
    "duration": 13,
    "start_time": "2022-03-10T08:20:55.750Z"
   },
   {
    "duration": 40,
    "start_time": "2022-03-10T08:20:55.765Z"
   },
   {
    "duration": 221,
    "start_time": "2022-03-10T08:20:55.809Z"
   },
   {
    "duration": 18,
    "start_time": "2022-03-10T08:20:56.032Z"
   },
   {
    "duration": 14,
    "start_time": "2022-03-10T08:20:56.051Z"
   },
   {
    "duration": 337,
    "start_time": "2022-03-10T08:20:56.067Z"
   },
   {
    "duration": 634,
    "start_time": "2022-03-10T08:22:58.068Z"
   },
   {
    "duration": 9,
    "start_time": "2022-03-10T08:22:58.704Z"
   },
   {
    "duration": 8,
    "start_time": "2022-03-10T08:22:58.715Z"
   },
   {
    "duration": 4,
    "start_time": "2022-03-10T08:22:58.725Z"
   },
   {
    "duration": 7,
    "start_time": "2022-03-10T08:22:58.730Z"
   },
   {
    "duration": 87,
    "start_time": "2022-03-10T08:22:58.739Z"
   },
   {
    "duration": 7,
    "start_time": "2022-03-10T08:22:58.828Z"
   },
   {
    "duration": 4,
    "start_time": "2022-03-10T08:22:58.837Z"
   },
   {
    "duration": 4,
    "start_time": "2022-03-10T08:22:58.844Z"
   },
   {
    "duration": 2,
    "start_time": "2022-03-10T08:22:58.850Z"
   },
   {
    "duration": 6,
    "start_time": "2022-03-10T08:22:58.853Z"
   },
   {
    "duration": 41,
    "start_time": "2022-03-10T08:22:58.861Z"
   },
   {
    "duration": 5,
    "start_time": "2022-03-10T08:22:58.903Z"
   },
   {
    "duration": 5,
    "start_time": "2022-03-10T08:22:58.909Z"
   },
   {
    "duration": 6,
    "start_time": "2022-03-10T08:22:58.915Z"
   },
   {
    "duration": 8,
    "start_time": "2022-03-10T08:22:58.922Z"
   },
   {
    "duration": 11,
    "start_time": "2022-03-10T08:22:58.932Z"
   },
   {
    "duration": 8,
    "start_time": "2022-03-10T08:22:58.944Z"
   },
   {
    "duration": 9,
    "start_time": "2022-03-10T08:22:58.954Z"
   },
   {
    "duration": 8,
    "start_time": "2022-03-10T08:22:58.964Z"
   },
   {
    "duration": 30,
    "start_time": "2022-03-10T08:22:58.974Z"
   },
   {
    "duration": 6,
    "start_time": "2022-03-10T08:22:59.006Z"
   },
   {
    "duration": 9,
    "start_time": "2022-03-10T08:22:59.013Z"
   },
   {
    "duration": 10,
    "start_time": "2022-03-10T08:22:59.023Z"
   },
   {
    "duration": 5,
    "start_time": "2022-03-10T08:22:59.034Z"
   },
   {
    "duration": 9,
    "start_time": "2022-03-10T08:22:59.041Z"
   },
   {
    "duration": 8,
    "start_time": "2022-03-10T08:22:59.053Z"
   },
   {
    "duration": 6,
    "start_time": "2022-03-10T08:22:59.064Z"
   },
   {
    "duration": 32,
    "start_time": "2022-03-10T08:22:59.072Z"
   },
   {
    "duration": 8,
    "start_time": "2022-03-10T08:22:59.106Z"
   },
   {
    "duration": 7,
    "start_time": "2022-03-10T08:22:59.116Z"
   },
   {
    "duration": 7,
    "start_time": "2022-03-10T08:22:59.125Z"
   },
   {
    "duration": 7,
    "start_time": "2022-03-10T08:22:59.134Z"
   },
   {
    "duration": 8,
    "start_time": "2022-03-10T08:22:59.143Z"
   },
   {
    "duration": 12,
    "start_time": "2022-03-10T08:22:59.153Z"
   },
   {
    "duration": 11,
    "start_time": "2022-03-10T08:22:59.167Z"
   },
   {
    "duration": 23,
    "start_time": "2022-03-10T08:22:59.179Z"
   },
   {
    "duration": 6,
    "start_time": "2022-03-10T08:22:59.203Z"
   },
   {
    "duration": 8,
    "start_time": "2022-03-10T08:22:59.211Z"
   },
   {
    "duration": 8,
    "start_time": "2022-03-10T08:22:59.221Z"
   },
   {
    "duration": 9,
    "start_time": "2022-03-10T08:22:59.230Z"
   },
   {
    "duration": 8,
    "start_time": "2022-03-10T08:22:59.241Z"
   },
   {
    "duration": 9,
    "start_time": "2022-03-10T08:22:59.251Z"
   },
   {
    "duration": 19,
    "start_time": "2022-03-10T08:22:59.262Z"
   },
   {
    "duration": 44,
    "start_time": "2022-03-10T08:22:59.282Z"
   },
   {
    "duration": 4,
    "start_time": "2022-03-10T08:22:59.328Z"
   },
   {
    "duration": 10,
    "start_time": "2022-03-10T08:22:59.333Z"
   },
   {
    "duration": 9,
    "start_time": "2022-03-10T08:22:59.345Z"
   },
   {
    "duration": 20,
    "start_time": "2022-03-10T08:22:59.355Z"
   },
   {
    "duration": 25,
    "start_time": "2022-03-10T08:22:59.377Z"
   },
   {
    "duration": 24,
    "start_time": "2022-03-10T08:22:59.403Z"
   },
   {
    "duration": 4,
    "start_time": "2022-03-10T08:22:59.429Z"
   },
   {
    "duration": 19,
    "start_time": "2022-03-10T08:22:59.435Z"
   },
   {
    "duration": 4,
    "start_time": "2022-03-10T08:22:59.456Z"
   },
   {
    "duration": 28,
    "start_time": "2022-03-10T08:22:59.462Z"
   },
   {
    "duration": 13,
    "start_time": "2022-03-10T08:22:59.492Z"
   },
   {
    "duration": 37,
    "start_time": "2022-03-10T08:22:59.507Z"
   },
   {
    "duration": 6,
    "start_time": "2022-03-10T08:22:59.546Z"
   },
   {
    "duration": 5,
    "start_time": "2022-03-10T08:22:59.554Z"
   },
   {
    "duration": 20,
    "start_time": "2022-03-10T08:22:59.562Z"
   },
   {
    "duration": 9,
    "start_time": "2022-03-10T08:22:59.602Z"
   },
   {
    "duration": 5,
    "start_time": "2022-03-10T08:22:59.613Z"
   },
   {
    "duration": 17,
    "start_time": "2022-03-10T08:22:59.620Z"
   },
   {
    "duration": 310,
    "start_time": "2022-03-10T08:22:59.638Z"
   },
   {
    "duration": -65,
    "start_time": "2022-03-10T08:23:00.015Z"
   },
   {
    "duration": -68,
    "start_time": "2022-03-10T08:23:00.019Z"
   },
   {
    "duration": -69,
    "start_time": "2022-03-10T08:23:00.021Z"
   },
   {
    "duration": -70,
    "start_time": "2022-03-10T08:23:00.023Z"
   },
   {
    "duration": -71,
    "start_time": "2022-03-10T08:23:00.025Z"
   },
   {
    "duration": -72,
    "start_time": "2022-03-10T08:23:00.027Z"
   },
   {
    "duration": -73,
    "start_time": "2022-03-10T08:23:00.029Z"
   },
   {
    "duration": -74,
    "start_time": "2022-03-10T08:23:00.031Z"
   },
   {
    "duration": 666,
    "start_time": "2022-03-10T08:24:18.809Z"
   },
   {
    "duration": 10,
    "start_time": "2022-03-10T08:24:19.477Z"
   },
   {
    "duration": 13,
    "start_time": "2022-03-10T08:24:19.489Z"
   },
   {
    "duration": 5,
    "start_time": "2022-03-10T08:24:19.504Z"
   },
   {
    "duration": 7,
    "start_time": "2022-03-10T08:24:19.511Z"
   },
   {
    "duration": 85,
    "start_time": "2022-03-10T08:24:19.520Z"
   },
   {
    "duration": 7,
    "start_time": "2022-03-10T08:24:19.607Z"
   },
   {
    "duration": 16,
    "start_time": "2022-03-10T08:24:19.616Z"
   },
   {
    "duration": 8,
    "start_time": "2022-03-10T08:24:19.635Z"
   },
   {
    "duration": 9,
    "start_time": "2022-03-10T08:24:19.645Z"
   },
   {
    "duration": 23,
    "start_time": "2022-03-10T08:24:19.656Z"
   },
   {
    "duration": 22,
    "start_time": "2022-03-10T08:24:19.681Z"
   },
   {
    "duration": 8,
    "start_time": "2022-03-10T08:24:19.705Z"
   },
   {
    "duration": 18,
    "start_time": "2022-03-10T08:24:19.716Z"
   },
   {
    "duration": 18,
    "start_time": "2022-03-10T08:24:19.736Z"
   },
   {
    "duration": 14,
    "start_time": "2022-03-10T08:24:19.756Z"
   },
   {
    "duration": 13,
    "start_time": "2022-03-10T08:24:19.772Z"
   },
   {
    "duration": 20,
    "start_time": "2022-03-10T08:24:19.786Z"
   },
   {
    "duration": 7,
    "start_time": "2022-03-10T08:24:19.808Z"
   },
   {
    "duration": 6,
    "start_time": "2022-03-10T08:24:19.817Z"
   },
   {
    "duration": 9,
    "start_time": "2022-03-10T08:24:19.825Z"
   },
   {
    "duration": 10,
    "start_time": "2022-03-10T08:24:19.836Z"
   },
   {
    "duration": 10,
    "start_time": "2022-03-10T08:24:19.848Z"
   },
   {
    "duration": 14,
    "start_time": "2022-03-10T08:24:19.860Z"
   },
   {
    "duration": 4,
    "start_time": "2022-03-10T08:24:19.876Z"
   },
   {
    "duration": 11,
    "start_time": "2022-03-10T08:24:19.881Z"
   },
   {
    "duration": 9,
    "start_time": "2022-03-10T08:24:19.896Z"
   },
   {
    "duration": 22,
    "start_time": "2022-03-10T08:24:19.907Z"
   },
   {
    "duration": 24,
    "start_time": "2022-03-10T08:24:19.931Z"
   },
   {
    "duration": 14,
    "start_time": "2022-03-10T08:24:19.957Z"
   },
   {
    "duration": 15,
    "start_time": "2022-03-10T08:24:19.973Z"
   },
   {
    "duration": 19,
    "start_time": "2022-03-10T08:24:19.989Z"
   },
   {
    "duration": 20,
    "start_time": "2022-03-10T08:24:20.010Z"
   },
   {
    "duration": 24,
    "start_time": "2022-03-10T08:24:20.032Z"
   },
   {
    "duration": 16,
    "start_time": "2022-03-10T08:24:20.058Z"
   },
   {
    "duration": 15,
    "start_time": "2022-03-10T08:24:20.076Z"
   },
   {
    "duration": 10,
    "start_time": "2022-03-10T08:24:20.092Z"
   },
   {
    "duration": 10,
    "start_time": "2022-03-10T08:24:20.104Z"
   },
   {
    "duration": 8,
    "start_time": "2022-03-10T08:24:20.116Z"
   },
   {
    "duration": 8,
    "start_time": "2022-03-10T08:24:20.125Z"
   },
   {
    "duration": 18,
    "start_time": "2022-03-10T08:24:20.135Z"
   },
   {
    "duration": 14,
    "start_time": "2022-03-10T08:24:20.155Z"
   },
   {
    "duration": 9,
    "start_time": "2022-03-10T08:24:20.171Z"
   },
   {
    "duration": 31,
    "start_time": "2022-03-10T08:24:20.183Z"
   },
   {
    "duration": 29,
    "start_time": "2022-03-10T08:24:20.215Z"
   },
   {
    "duration": 4,
    "start_time": "2022-03-10T08:24:20.246Z"
   },
   {
    "duration": 11,
    "start_time": "2022-03-10T08:24:20.252Z"
   },
   {
    "duration": 12,
    "start_time": "2022-03-10T08:24:20.264Z"
   },
   {
    "duration": 37,
    "start_time": "2022-03-10T08:24:20.277Z"
   },
   {
    "duration": 3,
    "start_time": "2022-03-10T08:24:20.315Z"
   },
   {
    "duration": 15,
    "start_time": "2022-03-10T08:24:20.320Z"
   },
   {
    "duration": 3,
    "start_time": "2022-03-10T08:24:20.336Z"
   },
   {
    "duration": 16,
    "start_time": "2022-03-10T08:24:20.340Z"
   },
   {
    "duration": 6,
    "start_time": "2022-03-10T08:24:20.358Z"
   },
   {
    "duration": 39,
    "start_time": "2022-03-10T08:24:20.366Z"
   },
   {
    "duration": 4,
    "start_time": "2022-03-10T08:24:20.406Z"
   },
   {
    "duration": 26,
    "start_time": "2022-03-10T08:24:20.412Z"
   },
   {
    "duration": 5,
    "start_time": "2022-03-10T08:24:20.440Z"
   },
   {
    "duration": 6,
    "start_time": "2022-03-10T08:24:20.447Z"
   },
   {
    "duration": 19,
    "start_time": "2022-03-10T08:24:20.455Z"
   },
   {
    "duration": 29,
    "start_time": "2022-03-10T08:24:20.476Z"
   },
   {
    "duration": 5,
    "start_time": "2022-03-10T08:24:20.507Z"
   },
   {
    "duration": 315,
    "start_time": "2022-03-10T08:24:20.514Z"
   },
   {
    "duration": -182,
    "start_time": "2022-03-10T08:24:21.013Z"
   },
   {
    "duration": -196,
    "start_time": "2022-03-10T08:24:21.028Z"
   },
   {
    "duration": -197,
    "start_time": "2022-03-10T08:24:21.030Z"
   },
   {
    "duration": -210,
    "start_time": "2022-03-10T08:24:21.044Z"
   },
   {
    "duration": -213,
    "start_time": "2022-03-10T08:24:21.048Z"
   },
   {
    "duration": -214,
    "start_time": "2022-03-10T08:24:21.050Z"
   },
   {
    "duration": -216,
    "start_time": "2022-03-10T08:24:21.053Z"
   },
   {
    "duration": -223,
    "start_time": "2022-03-10T08:24:21.061Z"
   },
   {
    "duration": 607,
    "start_time": "2022-03-10T08:33:04.518Z"
   },
   {
    "duration": 10,
    "start_time": "2022-03-10T08:33:05.126Z"
   },
   {
    "duration": 8,
    "start_time": "2022-03-10T08:33:05.138Z"
   },
   {
    "duration": 3,
    "start_time": "2022-03-10T08:33:05.148Z"
   },
   {
    "duration": 5,
    "start_time": "2022-03-10T08:33:05.153Z"
   },
   {
    "duration": 88,
    "start_time": "2022-03-10T08:33:05.160Z"
   },
   {
    "duration": 5,
    "start_time": "2022-03-10T08:33:05.249Z"
   },
   {
    "duration": 4,
    "start_time": "2022-03-10T08:33:05.257Z"
   },
   {
    "duration": 6,
    "start_time": "2022-03-10T08:33:05.263Z"
   },
   {
    "duration": 3,
    "start_time": "2022-03-10T08:33:05.271Z"
   },
   {
    "duration": 27,
    "start_time": "2022-03-10T08:33:05.275Z"
   },
   {
    "duration": 5,
    "start_time": "2022-03-10T08:33:05.304Z"
   },
   {
    "duration": 5,
    "start_time": "2022-03-10T08:33:05.310Z"
   },
   {
    "duration": 12,
    "start_time": "2022-03-10T08:33:05.316Z"
   },
   {
    "duration": 7,
    "start_time": "2022-03-10T08:33:05.330Z"
   },
   {
    "duration": 9,
    "start_time": "2022-03-10T08:33:05.339Z"
   },
   {
    "duration": 7,
    "start_time": "2022-03-10T08:33:05.350Z"
   },
   {
    "duration": 12,
    "start_time": "2022-03-10T08:33:05.358Z"
   },
   {
    "duration": 8,
    "start_time": "2022-03-10T08:33:05.372Z"
   },
   {
    "duration": 19,
    "start_time": "2022-03-10T08:33:05.382Z"
   },
   {
    "duration": 5,
    "start_time": "2022-03-10T08:33:05.402Z"
   },
   {
    "duration": 7,
    "start_time": "2022-03-10T08:33:05.408Z"
   },
   {
    "duration": 7,
    "start_time": "2022-03-10T08:33:05.419Z"
   },
   {
    "duration": 10,
    "start_time": "2022-03-10T08:33:05.428Z"
   },
   {
    "duration": 6,
    "start_time": "2022-03-10T08:33:05.439Z"
   },
   {
    "duration": 11,
    "start_time": "2022-03-10T08:33:05.446Z"
   },
   {
    "duration": 9,
    "start_time": "2022-03-10T08:33:05.458Z"
   },
   {
    "duration": 10,
    "start_time": "2022-03-10T08:33:05.468Z"
   },
   {
    "duration": 11,
    "start_time": "2022-03-10T08:33:05.480Z"
   },
   {
    "duration": 5,
    "start_time": "2022-03-10T08:33:05.500Z"
   },
   {
    "duration": 9,
    "start_time": "2022-03-10T08:33:05.506Z"
   },
   {
    "duration": 8,
    "start_time": "2022-03-10T08:33:05.516Z"
   },
   {
    "duration": 11,
    "start_time": "2022-03-10T08:33:05.525Z"
   },
   {
    "duration": 9,
    "start_time": "2022-03-10T08:33:05.538Z"
   },
   {
    "duration": 9,
    "start_time": "2022-03-10T08:33:05.549Z"
   },
   {
    "duration": 9,
    "start_time": "2022-03-10T08:33:05.560Z"
   },
   {
    "duration": 7,
    "start_time": "2022-03-10T08:33:05.571Z"
   },
   {
    "duration": 25,
    "start_time": "2022-03-10T08:33:05.580Z"
   },
   {
    "duration": 5,
    "start_time": "2022-03-10T08:33:05.607Z"
   },
   {
    "duration": 7,
    "start_time": "2022-03-10T08:33:05.614Z"
   },
   {
    "duration": 12,
    "start_time": "2022-03-10T08:33:05.623Z"
   },
   {
    "duration": 8,
    "start_time": "2022-03-10T08:33:05.637Z"
   },
   {
    "duration": 11,
    "start_time": "2022-03-10T08:33:05.646Z"
   },
   {
    "duration": 23,
    "start_time": "2022-03-10T08:33:05.659Z"
   },
   {
    "duration": 46,
    "start_time": "2022-03-10T08:33:05.684Z"
   },
   {
    "duration": 6,
    "start_time": "2022-03-10T08:33:05.732Z"
   },
   {
    "duration": 14,
    "start_time": "2022-03-10T08:33:05.740Z"
   },
   {
    "duration": 10,
    "start_time": "2022-03-10T08:33:05.756Z"
   },
   {
    "duration": 47,
    "start_time": "2022-03-10T08:33:05.767Z"
   },
   {
    "duration": 5,
    "start_time": "2022-03-10T08:33:05.816Z"
   },
   {
    "duration": 16,
    "start_time": "2022-03-10T08:33:05.822Z"
   },
   {
    "duration": 3,
    "start_time": "2022-03-10T08:33:05.840Z"
   },
   {
    "duration": 19,
    "start_time": "2022-03-10T08:33:05.844Z"
   },
   {
    "duration": 3,
    "start_time": "2022-03-10T08:33:05.864Z"
   },
   {
    "duration": 17,
    "start_time": "2022-03-10T08:33:05.869Z"
   },
   {
    "duration": 3,
    "start_time": "2022-03-10T08:33:05.901Z"
   },
   {
    "duration": 29,
    "start_time": "2022-03-10T08:33:05.905Z"
   },
   {
    "duration": 5,
    "start_time": "2022-03-10T08:33:05.935Z"
   },
   {
    "duration": 8,
    "start_time": "2022-03-10T08:33:05.941Z"
   },
   {
    "duration": 15,
    "start_time": "2022-03-10T08:33:05.950Z"
   },
   {
    "duration": 13,
    "start_time": "2022-03-10T08:33:05.966Z"
   },
   {
    "duration": 21,
    "start_time": "2022-03-10T08:33:05.981Z"
   },
   {
    "duration": 6244,
    "start_time": "2022-03-10T08:33:06.004Z"
   },
   {
    "duration": -88,
    "start_time": "2022-03-10T08:33:12.337Z"
   },
   {
    "duration": -90,
    "start_time": "2022-03-10T08:33:12.340Z"
   },
   {
    "duration": -95,
    "start_time": "2022-03-10T08:33:12.346Z"
   },
   {
    "duration": -97,
    "start_time": "2022-03-10T08:33:12.349Z"
   },
   {
    "duration": -98,
    "start_time": "2022-03-10T08:33:12.351Z"
   },
   {
    "duration": -98,
    "start_time": "2022-03-10T08:33:12.352Z"
   },
   {
    "duration": -99,
    "start_time": "2022-03-10T08:33:12.354Z"
   },
   {
    "duration": -107,
    "start_time": "2022-03-10T08:33:12.363Z"
   },
   {
    "duration": 644,
    "start_time": "2022-03-10T09:06:10.768Z"
   },
   {
    "duration": 9,
    "start_time": "2022-03-10T09:06:11.414Z"
   },
   {
    "duration": 7,
    "start_time": "2022-03-10T09:06:11.425Z"
   },
   {
    "duration": 4,
    "start_time": "2022-03-10T09:06:11.434Z"
   },
   {
    "duration": 6,
    "start_time": "2022-03-10T09:06:11.439Z"
   },
   {
    "duration": 75,
    "start_time": "2022-03-10T09:06:11.446Z"
   },
   {
    "duration": 5,
    "start_time": "2022-03-10T09:06:11.522Z"
   },
   {
    "duration": 4,
    "start_time": "2022-03-10T09:06:11.529Z"
   },
   {
    "duration": 4,
    "start_time": "2022-03-10T09:06:11.536Z"
   },
   {
    "duration": 2,
    "start_time": "2022-03-10T09:06:11.542Z"
   },
   {
    "duration": 8,
    "start_time": "2022-03-10T09:06:11.546Z"
   },
   {
    "duration": 11,
    "start_time": "2022-03-10T09:06:11.555Z"
   },
   {
    "duration": 7,
    "start_time": "2022-03-10T09:06:11.567Z"
   },
   {
    "duration": 29,
    "start_time": "2022-03-10T09:06:11.576Z"
   },
   {
    "duration": 7,
    "start_time": "2022-03-10T09:06:11.607Z"
   },
   {
    "duration": 9,
    "start_time": "2022-03-10T09:06:11.615Z"
   },
   {
    "duration": 9,
    "start_time": "2022-03-10T09:06:11.625Z"
   },
   {
    "duration": 9,
    "start_time": "2022-03-10T09:06:11.636Z"
   },
   {
    "duration": 9,
    "start_time": "2022-03-10T09:06:11.646Z"
   },
   {
    "duration": 10,
    "start_time": "2022-03-10T09:06:11.657Z"
   },
   {
    "duration": 8,
    "start_time": "2022-03-10T09:06:11.668Z"
   },
   {
    "duration": 7,
    "start_time": "2022-03-10T09:06:11.678Z"
   },
   {
    "duration": 17,
    "start_time": "2022-03-10T09:06:11.687Z"
   },
   {
    "duration": 7,
    "start_time": "2022-03-10T09:06:11.706Z"
   },
   {
    "duration": 6,
    "start_time": "2022-03-10T09:06:11.715Z"
   },
   {
    "duration": 13,
    "start_time": "2022-03-10T09:06:11.722Z"
   },
   {
    "duration": 7,
    "start_time": "2022-03-10T09:06:11.739Z"
   },
   {
    "duration": 12,
    "start_time": "2022-03-10T09:06:11.748Z"
   },
   {
    "duration": 8,
    "start_time": "2022-03-10T09:06:11.761Z"
   },
   {
    "duration": 14,
    "start_time": "2022-03-10T09:06:11.771Z"
   },
   {
    "duration": 10,
    "start_time": "2022-03-10T09:06:11.786Z"
   },
   {
    "duration": 8,
    "start_time": "2022-03-10T09:06:11.800Z"
   },
   {
    "duration": 9,
    "start_time": "2022-03-10T09:06:11.809Z"
   },
   {
    "duration": 8,
    "start_time": "2022-03-10T09:06:11.820Z"
   },
   {
    "duration": 12,
    "start_time": "2022-03-10T09:06:11.830Z"
   },
   {
    "duration": 9,
    "start_time": "2022-03-10T09:06:11.843Z"
   },
   {
    "duration": 7,
    "start_time": "2022-03-10T09:06:11.853Z"
   },
   {
    "duration": 10,
    "start_time": "2022-03-10T09:06:11.861Z"
   },
   {
    "duration": 7,
    "start_time": "2022-03-10T09:06:11.872Z"
   },
   {
    "duration": 7,
    "start_time": "2022-03-10T09:06:11.881Z"
   },
   {
    "duration": 13,
    "start_time": "2022-03-10T09:06:11.889Z"
   },
   {
    "duration": 7,
    "start_time": "2022-03-10T09:06:11.903Z"
   },
   {
    "duration": 11,
    "start_time": "2022-03-10T09:06:11.911Z"
   },
   {
    "duration": 18,
    "start_time": "2022-03-10T09:06:11.923Z"
   },
   {
    "duration": 26,
    "start_time": "2022-03-10T09:06:11.943Z"
   },
   {
    "duration": 4,
    "start_time": "2022-03-10T09:06:11.970Z"
   },
   {
    "duration": 28,
    "start_time": "2022-03-10T09:06:11.975Z"
   },
   {
    "duration": 6,
    "start_time": "2022-03-10T09:06:12.004Z"
   },
   {
    "duration": 19,
    "start_time": "2022-03-10T09:06:12.011Z"
   },
   {
    "duration": 4,
    "start_time": "2022-03-10T09:06:12.031Z"
   },
   {
    "duration": 20,
    "start_time": "2022-03-10T09:06:12.037Z"
   },
   {
    "duration": 3,
    "start_time": "2022-03-10T09:06:12.058Z"
   },
   {
    "duration": 11,
    "start_time": "2022-03-10T09:06:12.063Z"
   },
   {
    "duration": 26,
    "start_time": "2022-03-10T09:06:12.076Z"
   },
   {
    "duration": 15,
    "start_time": "2022-03-10T09:06:12.104Z"
   },
   {
    "duration": 4,
    "start_time": "2022-03-10T09:06:12.121Z"
   },
   {
    "duration": 29,
    "start_time": "2022-03-10T09:06:12.127Z"
   },
   {
    "duration": 4,
    "start_time": "2022-03-10T09:06:12.158Z"
   },
   {
    "duration": 6,
    "start_time": "2022-03-10T09:06:12.164Z"
   },
   {
    "duration": 18,
    "start_time": "2022-03-10T09:06:12.171Z"
   },
   {
    "duration": 7,
    "start_time": "2022-03-10T09:06:12.201Z"
   },
   {
    "duration": 7,
    "start_time": "2022-03-10T09:06:12.209Z"
   },
   {
    "duration": 19,
    "start_time": "2022-03-10T09:06:12.217Z"
   },
   {
    "duration": 7,
    "start_time": "2022-03-10T09:06:12.237Z"
   },
   {
    "duration": 10,
    "start_time": "2022-03-10T09:06:12.246Z"
   },
   {
    "duration": 14,
    "start_time": "2022-03-10T09:06:12.258Z"
   },
   {
    "duration": 34,
    "start_time": "2022-03-10T09:06:12.273Z"
   },
   {
    "duration": 215,
    "start_time": "2022-03-10T09:06:12.308Z"
   },
   {
    "duration": 18,
    "start_time": "2022-03-10T09:06:12.524Z"
   },
   {
    "duration": 14,
    "start_time": "2022-03-10T09:06:12.544Z"
   },
   {
    "duration": 313,
    "start_time": "2022-03-10T09:06:12.560Z"
   },
   {
    "duration": 294,
    "start_time": "2022-03-10T09:08:12.693Z"
   },
   {
    "duration": 248,
    "start_time": "2022-03-10T09:08:21.480Z"
   },
   {
    "duration": 265,
    "start_time": "2022-03-10T09:08:34.128Z"
   },
   {
    "duration": 649,
    "start_time": "2022-03-10T09:08:41.694Z"
   },
   {
    "duration": 10,
    "start_time": "2022-03-10T09:08:42.345Z"
   },
   {
    "duration": 8,
    "start_time": "2022-03-10T09:08:42.357Z"
   },
   {
    "duration": 4,
    "start_time": "2022-03-10T09:08:42.367Z"
   },
   {
    "duration": 6,
    "start_time": "2022-03-10T09:08:42.372Z"
   },
   {
    "duration": 71,
    "start_time": "2022-03-10T09:08:42.380Z"
   },
   {
    "duration": 6,
    "start_time": "2022-03-10T09:08:42.453Z"
   },
   {
    "duration": 4,
    "start_time": "2022-03-10T09:08:42.461Z"
   },
   {
    "duration": 4,
    "start_time": "2022-03-10T09:08:42.467Z"
   },
   {
    "duration": 2,
    "start_time": "2022-03-10T09:08:42.473Z"
   },
   {
    "duration": 26,
    "start_time": "2022-03-10T09:08:42.476Z"
   },
   {
    "duration": 7,
    "start_time": "2022-03-10T09:08:42.504Z"
   },
   {
    "duration": 7,
    "start_time": "2022-03-10T09:08:42.513Z"
   },
   {
    "duration": 11,
    "start_time": "2022-03-10T09:08:42.522Z"
   },
   {
    "duration": 8,
    "start_time": "2022-03-10T09:08:42.535Z"
   },
   {
    "duration": 12,
    "start_time": "2022-03-10T09:08:42.544Z"
   },
   {
    "duration": 9,
    "start_time": "2022-03-10T09:08:42.558Z"
   },
   {
    "duration": 12,
    "start_time": "2022-03-10T09:08:42.568Z"
   },
   {
    "duration": 9,
    "start_time": "2022-03-10T09:08:42.582Z"
   },
   {
    "duration": 10,
    "start_time": "2022-03-10T09:08:42.593Z"
   },
   {
    "duration": 14,
    "start_time": "2022-03-10T09:08:42.605Z"
   },
   {
    "duration": 6,
    "start_time": "2022-03-10T09:08:42.621Z"
   },
   {
    "duration": 6,
    "start_time": "2022-03-10T09:08:42.630Z"
   },
   {
    "duration": 7,
    "start_time": "2022-03-10T09:08:42.638Z"
   },
   {
    "duration": 5,
    "start_time": "2022-03-10T09:08:42.646Z"
   },
   {
    "duration": 9,
    "start_time": "2022-03-10T09:08:42.653Z"
   },
   {
    "duration": 9,
    "start_time": "2022-03-10T09:08:42.663Z"
   },
   {
    "duration": 9,
    "start_time": "2022-03-10T09:08:42.673Z"
   },
   {
    "duration": 20,
    "start_time": "2022-03-10T09:08:42.683Z"
   },
   {
    "duration": 6,
    "start_time": "2022-03-10T09:08:42.705Z"
   },
   {
    "duration": 13,
    "start_time": "2022-03-10T09:08:42.713Z"
   },
   {
    "duration": 8,
    "start_time": "2022-03-10T09:08:42.727Z"
   },
   {
    "duration": 7,
    "start_time": "2022-03-10T09:08:42.736Z"
   },
   {
    "duration": 9,
    "start_time": "2022-03-10T09:08:42.744Z"
   },
   {
    "duration": 7,
    "start_time": "2022-03-10T09:08:42.755Z"
   },
   {
    "duration": 7,
    "start_time": "2022-03-10T09:08:42.763Z"
   },
   {
    "duration": 6,
    "start_time": "2022-03-10T09:08:42.772Z"
   },
   {
    "duration": 9,
    "start_time": "2022-03-10T09:08:42.780Z"
   },
   {
    "duration": 4,
    "start_time": "2022-03-10T09:08:42.801Z"
   },
   {
    "duration": 5,
    "start_time": "2022-03-10T09:08:42.806Z"
   },
   {
    "duration": 7,
    "start_time": "2022-03-10T09:08:42.813Z"
   },
   {
    "duration": 6,
    "start_time": "2022-03-10T09:08:42.822Z"
   },
   {
    "duration": 9,
    "start_time": "2022-03-10T09:08:42.829Z"
   },
   {
    "duration": 20,
    "start_time": "2022-03-10T09:08:42.839Z"
   },
   {
    "duration": 40,
    "start_time": "2022-03-10T09:08:42.861Z"
   },
   {
    "duration": 4,
    "start_time": "2022-03-10T09:08:42.903Z"
   },
   {
    "duration": 10,
    "start_time": "2022-03-10T09:08:42.908Z"
   },
   {
    "duration": 9,
    "start_time": "2022-03-10T09:08:42.919Z"
   },
   {
    "duration": 19,
    "start_time": "2022-03-10T09:08:42.929Z"
   },
   {
    "duration": 4,
    "start_time": "2022-03-10T09:08:42.950Z"
   },
   {
    "duration": 18,
    "start_time": "2022-03-10T09:08:42.955Z"
   },
   {
    "duration": 3,
    "start_time": "2022-03-10T09:08:42.974Z"
   },
   {
    "duration": 28,
    "start_time": "2022-03-10T09:08:42.978Z"
   },
   {
    "duration": 3,
    "start_time": "2022-03-10T09:08:43.007Z"
   },
   {
    "duration": 24,
    "start_time": "2022-03-10T09:08:43.011Z"
   },
   {
    "duration": 3,
    "start_time": "2022-03-10T09:08:43.036Z"
   },
   {
    "duration": 32,
    "start_time": "2022-03-10T09:08:43.041Z"
   },
   {
    "duration": 5,
    "start_time": "2022-03-10T09:08:43.074Z"
   },
   {
    "duration": 6,
    "start_time": "2022-03-10T09:08:43.081Z"
   },
   {
    "duration": 19,
    "start_time": "2022-03-10T09:08:43.089Z"
   },
   {
    "duration": 12,
    "start_time": "2022-03-10T09:08:43.109Z"
   },
   {
    "duration": 7,
    "start_time": "2022-03-10T09:08:43.123Z"
   },
   {
    "duration": 16,
    "start_time": "2022-03-10T09:08:43.131Z"
   },
   {
    "duration": 10,
    "start_time": "2022-03-10T09:08:43.149Z"
   },
   {
    "duration": 11,
    "start_time": "2022-03-10T09:08:43.161Z"
   },
   {
    "duration": 14,
    "start_time": "2022-03-10T09:08:43.174Z"
   },
   {
    "duration": 26,
    "start_time": "2022-03-10T09:08:43.189Z"
   },
   {
    "duration": 224,
    "start_time": "2022-03-10T09:08:43.218Z"
   },
   {
    "duration": 17,
    "start_time": "2022-03-10T09:08:43.444Z"
   },
   {
    "duration": 14,
    "start_time": "2022-03-10T09:08:43.462Z"
   },
   {
    "duration": 302,
    "start_time": "2022-03-10T09:08:43.477Z"
   },
   {
    "duration": 595,
    "start_time": "2022-03-10T09:08:56.738Z"
   },
   {
    "duration": 9,
    "start_time": "2022-03-10T09:08:57.335Z"
   },
   {
    "duration": 8,
    "start_time": "2022-03-10T09:08:57.346Z"
   },
   {
    "duration": 4,
    "start_time": "2022-03-10T09:08:57.356Z"
   },
   {
    "duration": 5,
    "start_time": "2022-03-10T09:08:57.361Z"
   },
   {
    "duration": 76,
    "start_time": "2022-03-10T09:08:57.367Z"
   },
   {
    "duration": 5,
    "start_time": "2022-03-10T09:08:57.445Z"
   },
   {
    "duration": 4,
    "start_time": "2022-03-10T09:08:57.452Z"
   },
   {
    "duration": 4,
    "start_time": "2022-03-10T09:08:57.458Z"
   },
   {
    "duration": 3,
    "start_time": "2022-03-10T09:08:57.464Z"
   },
   {
    "duration": 8,
    "start_time": "2022-03-10T09:08:57.468Z"
   },
   {
    "duration": 28,
    "start_time": "2022-03-10T09:08:57.477Z"
   },
   {
    "duration": 4,
    "start_time": "2022-03-10T09:08:57.506Z"
   },
   {
    "duration": 8,
    "start_time": "2022-03-10T09:08:57.511Z"
   },
   {
    "duration": 7,
    "start_time": "2022-03-10T09:08:57.521Z"
   },
   {
    "duration": 10,
    "start_time": "2022-03-10T09:08:57.529Z"
   },
   {
    "duration": 9,
    "start_time": "2022-03-10T09:08:57.540Z"
   },
   {
    "duration": 8,
    "start_time": "2022-03-10T09:08:57.550Z"
   },
   {
    "duration": 8,
    "start_time": "2022-03-10T09:08:57.560Z"
   },
   {
    "duration": 6,
    "start_time": "2022-03-10T09:08:57.570Z"
   },
   {
    "duration": 25,
    "start_time": "2022-03-10T09:08:57.578Z"
   },
   {
    "duration": 8,
    "start_time": "2022-03-10T09:08:57.605Z"
   },
   {
    "duration": 8,
    "start_time": "2022-03-10T09:08:57.615Z"
   },
   {
    "duration": 8,
    "start_time": "2022-03-10T09:08:57.625Z"
   },
   {
    "duration": 5,
    "start_time": "2022-03-10T09:08:57.635Z"
   },
   {
    "duration": 13,
    "start_time": "2022-03-10T09:08:57.642Z"
   },
   {
    "duration": 9,
    "start_time": "2022-03-10T09:08:57.659Z"
   },
   {
    "duration": 10,
    "start_time": "2022-03-10T09:08:57.670Z"
   },
   {
    "duration": 7,
    "start_time": "2022-03-10T09:08:57.681Z"
   },
   {
    "duration": 12,
    "start_time": "2022-03-10T09:08:57.690Z"
   },
   {
    "duration": 7,
    "start_time": "2022-03-10T09:08:57.703Z"
   },
   {
    "duration": 9,
    "start_time": "2022-03-10T09:08:57.711Z"
   },
   {
    "duration": 9,
    "start_time": "2022-03-10T09:08:57.722Z"
   },
   {
    "duration": 8,
    "start_time": "2022-03-10T09:08:57.733Z"
   },
   {
    "duration": 13,
    "start_time": "2022-03-10T09:08:57.743Z"
   },
   {
    "duration": 10,
    "start_time": "2022-03-10T09:08:57.758Z"
   },
   {
    "duration": 8,
    "start_time": "2022-03-10T09:08:57.769Z"
   },
   {
    "duration": 9,
    "start_time": "2022-03-10T09:08:57.778Z"
   },
   {
    "duration": 9,
    "start_time": "2022-03-10T09:08:57.788Z"
   },
   {
    "duration": 8,
    "start_time": "2022-03-10T09:08:57.798Z"
   },
   {
    "duration": 9,
    "start_time": "2022-03-10T09:08:57.807Z"
   },
   {
    "duration": 8,
    "start_time": "2022-03-10T09:08:57.817Z"
   },
   {
    "duration": 9,
    "start_time": "2022-03-10T09:08:57.827Z"
   },
   {
    "duration": 19,
    "start_time": "2022-03-10T09:08:57.837Z"
   },
   {
    "duration": 26,
    "start_time": "2022-03-10T09:08:57.858Z"
   },
   {
    "duration": 4,
    "start_time": "2022-03-10T09:08:57.886Z"
   },
   {
    "duration": 18,
    "start_time": "2022-03-10T09:08:57.891Z"
   },
   {
    "duration": 10,
    "start_time": "2022-03-10T09:08:57.910Z"
   },
   {
    "duration": 18,
    "start_time": "2022-03-10T09:08:57.922Z"
   },
   {
    "duration": 3,
    "start_time": "2022-03-10T09:08:57.942Z"
   },
   {
    "duration": 21,
    "start_time": "2022-03-10T09:08:57.947Z"
   },
   {
    "duration": 3,
    "start_time": "2022-03-10T09:08:57.969Z"
   },
   {
    "duration": 12,
    "start_time": "2022-03-10T09:08:57.973Z"
   },
   {
    "duration": 15,
    "start_time": "2022-03-10T09:08:57.987Z"
   },
   {
    "duration": 19,
    "start_time": "2022-03-10T09:08:58.004Z"
   },
   {
    "duration": 3,
    "start_time": "2022-03-10T09:08:58.025Z"
   },
   {
    "duration": 30,
    "start_time": "2022-03-10T09:08:58.029Z"
   },
   {
    "duration": 5,
    "start_time": "2022-03-10T09:08:58.060Z"
   },
   {
    "duration": 6,
    "start_time": "2022-03-10T09:08:58.066Z"
   },
   {
    "duration": 14,
    "start_time": "2022-03-10T09:08:58.074Z"
   },
   {
    "duration": 14,
    "start_time": "2022-03-10T09:08:58.089Z"
   },
   {
    "duration": 6,
    "start_time": "2022-03-10T09:08:58.104Z"
   },
   {
    "duration": 18,
    "start_time": "2022-03-10T09:08:58.111Z"
   },
   {
    "duration": 7,
    "start_time": "2022-03-10T09:08:58.130Z"
   },
   {
    "duration": 11,
    "start_time": "2022-03-10T09:08:58.139Z"
   },
   {
    "duration": 15,
    "start_time": "2022-03-10T09:08:58.151Z"
   },
   {
    "duration": 35,
    "start_time": "2022-03-10T09:08:58.167Z"
   },
   {
    "duration": 217,
    "start_time": "2022-03-10T09:08:58.204Z"
   },
   {
    "duration": 17,
    "start_time": "2022-03-10T09:08:58.422Z"
   },
   {
    "duration": 12,
    "start_time": "2022-03-10T09:08:58.440Z"
   },
   {
    "duration": 327,
    "start_time": "2022-03-10T09:08:58.454Z"
   },
   {
    "duration": 645,
    "start_time": "2022-03-10T09:10:44.880Z"
   },
   {
    "duration": 10,
    "start_time": "2022-03-10T09:10:45.527Z"
   },
   {
    "duration": 8,
    "start_time": "2022-03-10T09:10:45.539Z"
   },
   {
    "duration": 6,
    "start_time": "2022-03-10T09:10:45.548Z"
   },
   {
    "duration": 7,
    "start_time": "2022-03-10T09:10:45.555Z"
   },
   {
    "duration": 70,
    "start_time": "2022-03-10T09:10:45.563Z"
   },
   {
    "duration": 6,
    "start_time": "2022-03-10T09:10:45.635Z"
   },
   {
    "duration": 5,
    "start_time": "2022-03-10T09:10:45.642Z"
   },
   {
    "duration": 4,
    "start_time": "2022-03-10T09:10:45.649Z"
   },
   {
    "duration": 6,
    "start_time": "2022-03-10T09:10:45.655Z"
   },
   {
    "duration": 9,
    "start_time": "2022-03-10T09:10:45.663Z"
   },
   {
    "duration": 29,
    "start_time": "2022-03-10T09:10:45.673Z"
   },
   {
    "duration": 6,
    "start_time": "2022-03-10T09:10:45.704Z"
   },
   {
    "duration": 6,
    "start_time": "2022-03-10T09:10:45.712Z"
   },
   {
    "duration": 8,
    "start_time": "2022-03-10T09:10:45.719Z"
   },
   {
    "duration": 8,
    "start_time": "2022-03-10T09:10:45.729Z"
   },
   {
    "duration": 8,
    "start_time": "2022-03-10T09:10:45.739Z"
   },
   {
    "duration": 7,
    "start_time": "2022-03-10T09:10:45.749Z"
   },
   {
    "duration": 8,
    "start_time": "2022-03-10T09:10:45.758Z"
   },
   {
    "duration": 10,
    "start_time": "2022-03-10T09:10:45.767Z"
   },
   {
    "duration": 28,
    "start_time": "2022-03-10T09:10:45.778Z"
   },
   {
    "duration": 6,
    "start_time": "2022-03-10T09:10:45.807Z"
   },
   {
    "duration": 8,
    "start_time": "2022-03-10T09:10:45.815Z"
   },
   {
    "duration": 9,
    "start_time": "2022-03-10T09:10:45.824Z"
   },
   {
    "duration": 5,
    "start_time": "2022-03-10T09:10:45.835Z"
   },
   {
    "duration": 11,
    "start_time": "2022-03-10T09:10:45.841Z"
   },
   {
    "duration": 8,
    "start_time": "2022-03-10T09:10:45.856Z"
   },
   {
    "duration": 39,
    "start_time": "2022-03-10T09:10:45.866Z"
   },
   {
    "duration": 4,
    "start_time": "2022-03-10T09:10:45.907Z"
   },
   {
    "duration": 9,
    "start_time": "2022-03-10T09:10:45.912Z"
   },
   {
    "duration": 10,
    "start_time": "2022-03-10T09:10:45.922Z"
   },
   {
    "duration": 9,
    "start_time": "2022-03-10T09:10:45.933Z"
   },
   {
    "duration": 11,
    "start_time": "2022-03-10T09:10:45.944Z"
   },
   {
    "duration": 10,
    "start_time": "2022-03-10T09:10:45.957Z"
   },
   {
    "duration": 12,
    "start_time": "2022-03-10T09:10:45.969Z"
   },
   {
    "duration": 10,
    "start_time": "2022-03-10T09:10:45.982Z"
   },
   {
    "duration": 9,
    "start_time": "2022-03-10T09:10:45.994Z"
   },
   {
    "duration": 9,
    "start_time": "2022-03-10T09:10:46.005Z"
   },
   {
    "duration": 8,
    "start_time": "2022-03-10T09:10:46.015Z"
   },
   {
    "duration": 10,
    "start_time": "2022-03-10T09:10:46.025Z"
   },
   {
    "duration": 15,
    "start_time": "2022-03-10T09:10:46.037Z"
   },
   {
    "duration": 7,
    "start_time": "2022-03-10T09:10:46.053Z"
   },
   {
    "duration": 14,
    "start_time": "2022-03-10T09:10:46.062Z"
   },
   {
    "duration": 20,
    "start_time": "2022-03-10T09:10:46.077Z"
   },
   {
    "duration": 27,
    "start_time": "2022-03-10T09:10:46.099Z"
   },
   {
    "duration": 4,
    "start_time": "2022-03-10T09:10:46.128Z"
   },
   {
    "duration": 11,
    "start_time": "2022-03-10T09:10:46.133Z"
   },
   {
    "duration": 11,
    "start_time": "2022-03-10T09:10:46.145Z"
   },
   {
    "duration": 19,
    "start_time": "2022-03-10T09:10:46.158Z"
   },
   {
    "duration": 4,
    "start_time": "2022-03-10T09:10:46.178Z"
   },
   {
    "duration": 30,
    "start_time": "2022-03-10T09:10:46.183Z"
   },
   {
    "duration": 3,
    "start_time": "2022-03-10T09:10:46.214Z"
   },
   {
    "duration": 19,
    "start_time": "2022-03-10T09:10:46.218Z"
   },
   {
    "duration": 5,
    "start_time": "2022-03-10T09:10:46.239Z"
   },
   {
    "duration": 24,
    "start_time": "2022-03-10T09:10:46.245Z"
   },
   {
    "duration": 3,
    "start_time": "2022-03-10T09:10:46.270Z"
   },
   {
    "duration": 36,
    "start_time": "2022-03-10T09:10:46.275Z"
   },
   {
    "duration": 5,
    "start_time": "2022-03-10T09:10:46.312Z"
   },
   {
    "duration": 10,
    "start_time": "2022-03-10T09:10:46.318Z"
   },
   {
    "duration": 15,
    "start_time": "2022-03-10T09:10:46.329Z"
   },
   {
    "duration": 13,
    "start_time": "2022-03-10T09:10:46.346Z"
   },
   {
    "duration": 8,
    "start_time": "2022-03-10T09:10:46.360Z"
   },
   {
    "duration": 19,
    "start_time": "2022-03-10T09:10:46.370Z"
   },
   {
    "duration": 9,
    "start_time": "2022-03-10T09:10:46.401Z"
   },
   {
    "duration": 10,
    "start_time": "2022-03-10T09:10:46.412Z"
   },
   {
    "duration": 23,
    "start_time": "2022-03-10T09:10:46.424Z"
   },
   {
    "duration": 234,
    "start_time": "2022-03-10T09:10:46.448Z"
   },
   {
    "duration": 22,
    "start_time": "2022-03-10T09:10:46.683Z"
   },
   {
    "duration": 14,
    "start_time": "2022-03-10T09:10:46.706Z"
   },
   {
    "duration": 327,
    "start_time": "2022-03-10T09:10:46.721Z"
   },
   {
    "duration": 645,
    "start_time": "2022-03-10T09:16:25.499Z"
   },
   {
    "duration": 9,
    "start_time": "2022-03-10T09:16:26.145Z"
   },
   {
    "duration": 8,
    "start_time": "2022-03-10T09:16:26.158Z"
   },
   {
    "duration": 4,
    "start_time": "2022-03-10T09:16:26.168Z"
   },
   {
    "duration": 29,
    "start_time": "2022-03-10T09:16:26.173Z"
   },
   {
    "duration": 52,
    "start_time": "2022-03-10T09:16:26.203Z"
   },
   {
    "duration": 6,
    "start_time": "2022-03-10T09:16:26.257Z"
   },
   {
    "duration": 10,
    "start_time": "2022-03-10T09:16:26.264Z"
   },
   {
    "duration": 14,
    "start_time": "2022-03-10T09:16:26.275Z"
   },
   {
    "duration": 3,
    "start_time": "2022-03-10T09:16:26.290Z"
   },
   {
    "duration": 10,
    "start_time": "2022-03-10T09:16:26.301Z"
   },
   {
    "duration": 18,
    "start_time": "2022-03-10T09:16:26.312Z"
   },
   {
    "duration": 11,
    "start_time": "2022-03-10T09:16:26.331Z"
   },
   {
    "duration": 8,
    "start_time": "2022-03-10T09:16:26.343Z"
   },
   {
    "duration": 6,
    "start_time": "2022-03-10T09:16:26.353Z"
   },
   {
    "duration": 8,
    "start_time": "2022-03-10T09:16:26.361Z"
   },
   {
    "duration": 8,
    "start_time": "2022-03-10T09:16:26.371Z"
   },
   {
    "duration": 8,
    "start_time": "2022-03-10T09:16:26.380Z"
   },
   {
    "duration": 9,
    "start_time": "2022-03-10T09:16:26.390Z"
   },
   {
    "duration": 8,
    "start_time": "2022-03-10T09:16:26.400Z"
   },
   {
    "duration": 9,
    "start_time": "2022-03-10T09:16:26.409Z"
   },
   {
    "duration": 5,
    "start_time": "2022-03-10T09:16:26.422Z"
   },
   {
    "duration": 8,
    "start_time": "2022-03-10T09:16:26.430Z"
   },
   {
    "duration": 9,
    "start_time": "2022-03-10T09:16:26.439Z"
   },
   {
    "duration": 4,
    "start_time": "2022-03-10T09:16:26.450Z"
   },
   {
    "duration": 13,
    "start_time": "2022-03-10T09:16:26.456Z"
   },
   {
    "duration": 8,
    "start_time": "2022-03-10T09:16:26.470Z"
   },
   {
    "duration": 8,
    "start_time": "2022-03-10T09:16:26.480Z"
   },
   {
    "duration": 13,
    "start_time": "2022-03-10T09:16:26.489Z"
   },
   {
    "duration": 8,
    "start_time": "2022-03-10T09:16:26.503Z"
   },
   {
    "duration": 10,
    "start_time": "2022-03-10T09:16:26.513Z"
   },
   {
    "duration": 8,
    "start_time": "2022-03-10T09:16:26.525Z"
   },
   {
    "duration": 11,
    "start_time": "2022-03-10T09:16:26.535Z"
   },
   {
    "duration": 8,
    "start_time": "2022-03-10T09:16:26.548Z"
   },
   {
    "duration": 9,
    "start_time": "2022-03-10T09:16:26.558Z"
   },
   {
    "duration": 9,
    "start_time": "2022-03-10T09:16:26.569Z"
   },
   {
    "duration": 8,
    "start_time": "2022-03-10T09:16:26.579Z"
   },
   {
    "duration": 13,
    "start_time": "2022-03-10T09:16:26.588Z"
   },
   {
    "duration": 8,
    "start_time": "2022-03-10T09:16:26.603Z"
   },
   {
    "duration": 7,
    "start_time": "2022-03-10T09:16:26.612Z"
   },
   {
    "duration": 10,
    "start_time": "2022-03-10T09:16:26.620Z"
   },
   {
    "duration": 8,
    "start_time": "2022-03-10T09:16:26.631Z"
   },
   {
    "duration": 10,
    "start_time": "2022-03-10T09:16:26.640Z"
   },
   {
    "duration": 19,
    "start_time": "2022-03-10T09:16:26.651Z"
   },
   {
    "duration": 32,
    "start_time": "2022-03-10T09:16:26.671Z"
   },
   {
    "duration": 4,
    "start_time": "2022-03-10T09:16:26.705Z"
   },
   {
    "duration": 10,
    "start_time": "2022-03-10T09:16:26.710Z"
   },
   {
    "duration": 9,
    "start_time": "2022-03-10T09:16:26.722Z"
   },
   {
    "duration": 18,
    "start_time": "2022-03-10T09:16:26.733Z"
   },
   {
    "duration": 3,
    "start_time": "2022-03-10T09:16:26.753Z"
   },
   {
    "duration": 21,
    "start_time": "2022-03-10T09:16:26.757Z"
   },
   {
    "duration": 3,
    "start_time": "2022-03-10T09:16:26.780Z"
   },
   {
    "duration": 22,
    "start_time": "2022-03-10T09:16:26.784Z"
   },
   {
    "duration": 4,
    "start_time": "2022-03-10T09:16:26.808Z"
   },
   {
    "duration": 21,
    "start_time": "2022-03-10T09:16:26.813Z"
   },
   {
    "duration": 4,
    "start_time": "2022-03-10T09:16:26.835Z"
   },
   {
    "duration": 32,
    "start_time": "2022-03-10T09:16:26.840Z"
   },
   {
    "duration": 5,
    "start_time": "2022-03-10T09:16:26.873Z"
   },
   {
    "duration": 9,
    "start_time": "2022-03-10T09:16:26.879Z"
   },
   {
    "duration": 21,
    "start_time": "2022-03-10T09:16:26.890Z"
   },
   {
    "duration": 10,
    "start_time": "2022-03-10T09:16:26.913Z"
   },
   {
    "duration": 8,
    "start_time": "2022-03-10T09:16:26.924Z"
   },
   {
    "duration": 17,
    "start_time": "2022-03-10T09:16:26.934Z"
   },
   {
    "duration": 4,
    "start_time": "2022-03-10T09:16:26.952Z"
   },
   {
    "duration": 15,
    "start_time": "2022-03-10T09:16:26.957Z"
   },
   {
    "duration": 11,
    "start_time": "2022-03-10T09:16:26.974Z"
   },
   {
    "duration": 17,
    "start_time": "2022-03-10T09:16:27.004Z"
   },
   {
    "duration": 212,
    "start_time": "2022-03-10T09:16:27.023Z"
   },
   {
    "duration": 17,
    "start_time": "2022-03-10T09:16:27.237Z"
   },
   {
    "duration": 14,
    "start_time": "2022-03-10T09:16:27.256Z"
   },
   {
    "duration": 342,
    "start_time": "2022-03-10T09:16:27.271Z"
   },
   {
    "duration": 670,
    "start_time": "2022-03-10T09:21:21.276Z"
   },
   {
    "duration": 10,
    "start_time": "2022-03-10T09:21:21.948Z"
   },
   {
    "duration": 8,
    "start_time": "2022-03-10T09:21:21.960Z"
   },
   {
    "duration": 8,
    "start_time": "2022-03-10T09:21:21.969Z"
   },
   {
    "duration": 26,
    "start_time": "2022-03-10T09:21:21.978Z"
   },
   {
    "duration": 100,
    "start_time": "2022-03-10T09:21:22.006Z"
   },
   {
    "duration": 8,
    "start_time": "2022-03-10T09:21:22.108Z"
   },
   {
    "duration": 6,
    "start_time": "2022-03-10T09:21:22.117Z"
   },
   {
    "duration": 5,
    "start_time": "2022-03-10T09:21:22.126Z"
   },
   {
    "duration": 2,
    "start_time": "2022-03-10T09:21:22.133Z"
   },
   {
    "duration": 7,
    "start_time": "2022-03-10T09:21:22.137Z"
   },
   {
    "duration": 7,
    "start_time": "2022-03-10T09:21:22.145Z"
   },
   {
    "duration": 5,
    "start_time": "2022-03-10T09:21:22.154Z"
   },
   {
    "duration": 45,
    "start_time": "2022-03-10T09:21:22.161Z"
   },
   {
    "duration": 5,
    "start_time": "2022-03-10T09:21:22.208Z"
   },
   {
    "duration": 8,
    "start_time": "2022-03-10T09:21:22.214Z"
   },
   {
    "duration": 8,
    "start_time": "2022-03-10T09:21:22.223Z"
   },
   {
    "duration": 7,
    "start_time": "2022-03-10T09:21:22.233Z"
   },
   {
    "duration": 9,
    "start_time": "2022-03-10T09:21:22.241Z"
   },
   {
    "duration": 9,
    "start_time": "2022-03-10T09:21:22.251Z"
   },
   {
    "duration": 10,
    "start_time": "2022-03-10T09:21:22.261Z"
   },
   {
    "duration": 29,
    "start_time": "2022-03-10T09:21:22.272Z"
   },
   {
    "duration": 5,
    "start_time": "2022-03-10T09:21:22.303Z"
   },
   {
    "duration": 7,
    "start_time": "2022-03-10T09:21:22.309Z"
   },
   {
    "duration": 7,
    "start_time": "2022-03-10T09:21:22.317Z"
   },
   {
    "duration": 15,
    "start_time": "2022-03-10T09:21:22.326Z"
   },
   {
    "duration": 9,
    "start_time": "2022-03-10T09:21:22.344Z"
   },
   {
    "duration": 10,
    "start_time": "2022-03-10T09:21:22.355Z"
   },
   {
    "duration": 9,
    "start_time": "2022-03-10T09:21:22.366Z"
   },
   {
    "duration": 9,
    "start_time": "2022-03-10T09:21:22.376Z"
   },
   {
    "duration": 14,
    "start_time": "2022-03-10T09:21:22.387Z"
   },
   {
    "duration": 9,
    "start_time": "2022-03-10T09:21:22.403Z"
   },
   {
    "duration": 9,
    "start_time": "2022-03-10T09:21:22.413Z"
   },
   {
    "duration": 9,
    "start_time": "2022-03-10T09:21:22.423Z"
   },
   {
    "duration": 9,
    "start_time": "2022-03-10T09:21:22.433Z"
   },
   {
    "duration": 9,
    "start_time": "2022-03-10T09:21:22.443Z"
   },
   {
    "duration": 7,
    "start_time": "2022-03-10T09:21:22.453Z"
   },
   {
    "duration": 14,
    "start_time": "2022-03-10T09:21:22.462Z"
   },
   {
    "duration": 12,
    "start_time": "2022-03-10T09:21:22.478Z"
   },
   {
    "duration": 8,
    "start_time": "2022-03-10T09:21:22.491Z"
   },
   {
    "duration": 8,
    "start_time": "2022-03-10T09:21:22.501Z"
   },
   {
    "duration": 11,
    "start_time": "2022-03-10T09:21:22.511Z"
   },
   {
    "duration": 9,
    "start_time": "2022-03-10T09:21:22.523Z"
   },
   {
    "duration": 26,
    "start_time": "2022-03-10T09:21:22.534Z"
   },
   {
    "duration": 28,
    "start_time": "2022-03-10T09:21:22.562Z"
   },
   {
    "duration": 4,
    "start_time": "2022-03-10T09:21:22.592Z"
   },
   {
    "duration": 10,
    "start_time": "2022-03-10T09:21:22.602Z"
   },
   {
    "duration": 10,
    "start_time": "2022-03-10T09:21:22.614Z"
   },
   {
    "duration": 22,
    "start_time": "2022-03-10T09:21:22.626Z"
   },
   {
    "duration": 3,
    "start_time": "2022-03-10T09:21:22.650Z"
   },
   {
    "duration": 22,
    "start_time": "2022-03-10T09:21:22.654Z"
   },
   {
    "duration": 3,
    "start_time": "2022-03-10T09:21:22.677Z"
   },
   {
    "duration": 24,
    "start_time": "2022-03-10T09:21:22.682Z"
   },
   {
    "duration": 4,
    "start_time": "2022-03-10T09:21:22.708Z"
   },
   {
    "duration": 21,
    "start_time": "2022-03-10T09:21:22.714Z"
   },
   {
    "duration": 4,
    "start_time": "2022-03-10T09:21:22.737Z"
   },
   {
    "duration": 29,
    "start_time": "2022-03-10T09:21:22.743Z"
   },
   {
    "duration": 5,
    "start_time": "2022-03-10T09:21:22.774Z"
   },
   {
    "duration": 22,
    "start_time": "2022-03-10T09:21:22.781Z"
   },
   {
    "duration": 12,
    "start_time": "2022-03-10T09:21:22.805Z"
   },
   {
    "duration": 9,
    "start_time": "2022-03-10T09:21:22.819Z"
   },
   {
    "duration": 11,
    "start_time": "2022-03-10T09:21:22.830Z"
   },
   {
    "duration": 16,
    "start_time": "2022-03-10T09:21:22.842Z"
   },
   {
    "duration": 16,
    "start_time": "2022-03-10T09:21:22.859Z"
   },
   {
    "duration": 17,
    "start_time": "2022-03-10T09:21:22.877Z"
   },
   {
    "duration": 17,
    "start_time": "2022-03-10T09:21:22.901Z"
   },
   {
    "duration": 217,
    "start_time": "2022-03-10T09:21:22.919Z"
   },
   {
    "duration": 17,
    "start_time": "2022-03-10T09:21:23.138Z"
   },
   {
    "duration": 13,
    "start_time": "2022-03-10T09:21:23.156Z"
   },
   {
    "duration": 296,
    "start_time": "2022-03-10T09:21:23.170Z"
   },
   {
    "duration": 666,
    "start_time": "2022-03-10T09:23:21.287Z"
   },
   {
    "duration": 10,
    "start_time": "2022-03-10T09:23:21.955Z"
   },
   {
    "duration": 11,
    "start_time": "2022-03-10T09:23:21.966Z"
   },
   {
    "duration": 4,
    "start_time": "2022-03-10T09:23:21.979Z"
   },
   {
    "duration": 19,
    "start_time": "2022-03-10T09:23:21.984Z"
   },
   {
    "duration": 58,
    "start_time": "2022-03-10T09:23:22.005Z"
   },
   {
    "duration": 7,
    "start_time": "2022-03-10T09:23:22.065Z"
   },
   {
    "duration": 5,
    "start_time": "2022-03-10T09:23:22.075Z"
   },
   {
    "duration": 6,
    "start_time": "2022-03-10T09:23:22.102Z"
   },
   {
    "duration": 3,
    "start_time": "2022-03-10T09:23:22.109Z"
   },
   {
    "duration": 6,
    "start_time": "2022-03-10T09:23:22.114Z"
   },
   {
    "duration": 6,
    "start_time": "2022-03-10T09:23:22.122Z"
   },
   {
    "duration": 5,
    "start_time": "2022-03-10T09:23:22.130Z"
   },
   {
    "duration": 12,
    "start_time": "2022-03-10T09:23:22.137Z"
   },
   {
    "duration": 10,
    "start_time": "2022-03-10T09:23:22.151Z"
   },
   {
    "duration": 9,
    "start_time": "2022-03-10T09:23:22.162Z"
   },
   {
    "duration": 4,
    "start_time": "2022-03-10T09:23:22.201Z"
   },
   {
    "duration": 6,
    "start_time": "2022-03-10T09:23:22.206Z"
   },
   {
    "duration": 8,
    "start_time": "2022-03-10T09:23:22.214Z"
   },
   {
    "duration": 7,
    "start_time": "2022-03-10T09:23:22.224Z"
   },
   {
    "duration": 8,
    "start_time": "2022-03-10T09:23:22.232Z"
   },
   {
    "duration": 7,
    "start_time": "2022-03-10T09:23:22.241Z"
   },
   {
    "duration": 7,
    "start_time": "2022-03-10T09:23:22.252Z"
   },
   {
    "duration": 9,
    "start_time": "2022-03-10T09:23:22.261Z"
   },
   {
    "duration": 31,
    "start_time": "2022-03-10T09:23:22.271Z"
   },
   {
    "duration": 11,
    "start_time": "2022-03-10T09:23:22.303Z"
   },
   {
    "duration": 8,
    "start_time": "2022-03-10T09:23:22.316Z"
   },
   {
    "duration": 11,
    "start_time": "2022-03-10T09:23:22.326Z"
   },
   {
    "duration": 8,
    "start_time": "2022-03-10T09:23:22.338Z"
   },
   {
    "duration": 9,
    "start_time": "2022-03-10T09:23:22.347Z"
   },
   {
    "duration": 9,
    "start_time": "2022-03-10T09:23:22.358Z"
   },
   {
    "duration": 11,
    "start_time": "2022-03-10T09:23:22.369Z"
   },
   {
    "duration": 9,
    "start_time": "2022-03-10T09:23:22.381Z"
   },
   {
    "duration": 13,
    "start_time": "2022-03-10T09:23:22.392Z"
   },
   {
    "duration": 5,
    "start_time": "2022-03-10T09:23:22.407Z"
   },
   {
    "duration": 10,
    "start_time": "2022-03-10T09:23:22.414Z"
   },
   {
    "duration": 8,
    "start_time": "2022-03-10T09:23:22.426Z"
   },
   {
    "duration": 14,
    "start_time": "2022-03-10T09:23:22.436Z"
   },
   {
    "duration": 7,
    "start_time": "2022-03-10T09:23:22.452Z"
   },
   {
    "duration": 6,
    "start_time": "2022-03-10T09:23:22.461Z"
   },
   {
    "duration": 10,
    "start_time": "2022-03-10T09:23:22.468Z"
   },
   {
    "duration": 8,
    "start_time": "2022-03-10T09:23:22.479Z"
   },
   {
    "duration": 13,
    "start_time": "2022-03-10T09:23:22.488Z"
   },
   {
    "duration": 18,
    "start_time": "2022-03-10T09:23:22.503Z"
   },
   {
    "duration": 30,
    "start_time": "2022-03-10T09:23:22.523Z"
   },
   {
    "duration": 5,
    "start_time": "2022-03-10T09:23:22.555Z"
   },
   {
    "duration": 10,
    "start_time": "2022-03-10T09:23:22.562Z"
   },
   {
    "duration": 31,
    "start_time": "2022-03-10T09:23:22.574Z"
   },
   {
    "duration": 20,
    "start_time": "2022-03-10T09:23:22.606Z"
   },
   {
    "duration": 5,
    "start_time": "2022-03-10T09:23:22.628Z"
   },
   {
    "duration": 21,
    "start_time": "2022-03-10T09:23:22.635Z"
   },
   {
    "duration": 3,
    "start_time": "2022-03-10T09:23:22.658Z"
   },
   {
    "duration": 13,
    "start_time": "2022-03-10T09:23:22.663Z"
   },
   {
    "duration": 16,
    "start_time": "2022-03-10T09:23:22.678Z"
   },
   {
    "duration": 24,
    "start_time": "2022-03-10T09:23:22.702Z"
   },
   {
    "duration": 3,
    "start_time": "2022-03-10T09:23:22.728Z"
   },
   {
    "duration": 30,
    "start_time": "2022-03-10T09:23:22.733Z"
   },
   {
    "duration": 4,
    "start_time": "2022-03-10T09:23:22.765Z"
   },
   {
    "duration": 7,
    "start_time": "2022-03-10T09:23:22.771Z"
   },
   {
    "duration": 22,
    "start_time": "2022-03-10T09:23:22.779Z"
   },
   {
    "duration": 6,
    "start_time": "2022-03-10T09:23:22.803Z"
   },
   {
    "duration": 9,
    "start_time": "2022-03-10T09:23:22.811Z"
   },
   {
    "duration": 18,
    "start_time": "2022-03-10T09:23:22.822Z"
   },
   {
    "duration": 13,
    "start_time": "2022-03-10T09:23:22.841Z"
   },
   {
    "duration": 12,
    "start_time": "2022-03-10T09:23:22.856Z"
   },
   {
    "duration": 40,
    "start_time": "2022-03-10T09:23:22.869Z"
   },
   {
    "duration": 221,
    "start_time": "2022-03-10T09:23:22.911Z"
   },
   {
    "duration": 18,
    "start_time": "2022-03-10T09:23:23.136Z"
   },
   {
    "duration": 13,
    "start_time": "2022-03-10T09:23:23.155Z"
   },
   {
    "duration": 341,
    "start_time": "2022-03-10T09:23:23.170Z"
   },
   {
    "duration": 2,
    "start_time": "2022-03-10T09:46:45.214Z"
   },
   {
    "duration": 2,
    "start_time": "2022-03-10T09:46:47.488Z"
   },
   {
    "duration": 664,
    "start_time": "2022-03-10T09:47:11.978Z"
   },
   {
    "duration": 9,
    "start_time": "2022-03-10T09:47:12.644Z"
   },
   {
    "duration": 10,
    "start_time": "2022-03-10T09:47:12.655Z"
   },
   {
    "duration": 4,
    "start_time": "2022-03-10T09:47:12.666Z"
   },
   {
    "duration": 8,
    "start_time": "2022-03-10T09:47:12.671Z"
   },
   {
    "duration": 69,
    "start_time": "2022-03-10T09:47:12.681Z"
   },
   {
    "duration": 5,
    "start_time": "2022-03-10T09:47:12.751Z"
   },
   {
    "duration": 3,
    "start_time": "2022-03-10T09:47:12.759Z"
   },
   {
    "duration": 4,
    "start_time": "2022-03-10T09:47:12.764Z"
   },
   {
    "duration": 2,
    "start_time": "2022-03-10T09:47:12.770Z"
   },
   {
    "duration": 29,
    "start_time": "2022-03-10T09:47:12.773Z"
   },
   {
    "duration": 5,
    "start_time": "2022-03-10T09:47:12.803Z"
   },
   {
    "duration": 5,
    "start_time": "2022-03-10T09:47:12.810Z"
   },
   {
    "duration": 8,
    "start_time": "2022-03-10T09:47:12.817Z"
   },
   {
    "duration": 7,
    "start_time": "2022-03-10T09:47:12.826Z"
   },
   {
    "duration": 10,
    "start_time": "2022-03-10T09:47:12.834Z"
   },
   {
    "duration": 8,
    "start_time": "2022-03-10T09:47:12.845Z"
   },
   {
    "duration": 8,
    "start_time": "2022-03-10T09:47:12.854Z"
   },
   {
    "duration": 9,
    "start_time": "2022-03-10T09:47:12.863Z"
   },
   {
    "duration": 7,
    "start_time": "2022-03-10T09:47:12.873Z"
   },
   {
    "duration": 4,
    "start_time": "2022-03-10T09:47:12.901Z"
   },
   {
    "duration": 6,
    "start_time": "2022-03-10T09:47:12.906Z"
   },
   {
    "duration": 6,
    "start_time": "2022-03-10T09:47:12.916Z"
   },
   {
    "duration": 12,
    "start_time": "2022-03-10T09:47:12.924Z"
   },
   {
    "duration": 6,
    "start_time": "2022-03-10T09:47:12.937Z"
   },
   {
    "duration": 10,
    "start_time": "2022-03-10T09:47:12.945Z"
   },
   {
    "duration": 10,
    "start_time": "2022-03-10T09:47:12.956Z"
   },
   {
    "duration": 10,
    "start_time": "2022-03-10T09:47:12.967Z"
   },
   {
    "duration": 7,
    "start_time": "2022-03-10T09:47:12.979Z"
   },
   {
    "duration": 15,
    "start_time": "2022-03-10T09:47:12.987Z"
   },
   {
    "duration": 4,
    "start_time": "2022-03-10T09:47:13.003Z"
   },
   {
    "duration": 9,
    "start_time": "2022-03-10T09:47:13.008Z"
   },
   {
    "duration": 8,
    "start_time": "2022-03-10T09:47:13.018Z"
   },
   {
    "duration": 10,
    "start_time": "2022-03-10T09:47:13.027Z"
   },
   {
    "duration": 10,
    "start_time": "2022-03-10T09:47:13.038Z"
   },
   {
    "duration": 7,
    "start_time": "2022-03-10T09:47:13.049Z"
   },
   {
    "duration": 12,
    "start_time": "2022-03-10T09:47:13.058Z"
   },
   {
    "duration": 10,
    "start_time": "2022-03-10T09:47:13.071Z"
   },
   {
    "duration": 8,
    "start_time": "2022-03-10T09:47:13.083Z"
   },
   {
    "duration": 16,
    "start_time": "2022-03-10T09:47:13.092Z"
   },
   {
    "duration": 16,
    "start_time": "2022-03-10T09:47:13.109Z"
   },
   {
    "duration": 8,
    "start_time": "2022-03-10T09:47:13.127Z"
   },
   {
    "duration": 11,
    "start_time": "2022-03-10T09:47:13.136Z"
   },
   {
    "duration": 21,
    "start_time": "2022-03-10T09:47:13.148Z"
   },
   {
    "duration": 30,
    "start_time": "2022-03-10T09:47:13.170Z"
   },
   {
    "duration": 6,
    "start_time": "2022-03-10T09:47:13.201Z"
   },
   {
    "duration": 12,
    "start_time": "2022-03-10T09:47:13.208Z"
   },
   {
    "duration": 9,
    "start_time": "2022-03-10T09:47:13.221Z"
   },
   {
    "duration": 21,
    "start_time": "2022-03-10T09:47:13.231Z"
   },
   {
    "duration": 4,
    "start_time": "2022-03-10T09:47:13.254Z"
   },
   {
    "duration": 23,
    "start_time": "2022-03-10T09:47:13.259Z"
   },
   {
    "duration": 19,
    "start_time": "2022-03-10T09:47:13.284Z"
   },
   {
    "duration": 9,
    "start_time": "2022-03-10T09:47:13.305Z"
   },
   {
    "duration": 5,
    "start_time": "2022-03-10T09:47:13.315Z"
   },
   {
    "duration": 24,
    "start_time": "2022-03-10T09:47:13.321Z"
   },
   {
    "duration": 3,
    "start_time": "2022-03-10T09:47:13.347Z"
   },
   {
    "duration": 32,
    "start_time": "2022-03-10T09:47:13.351Z"
   },
   {
    "duration": 4,
    "start_time": "2022-03-10T09:47:13.385Z"
   },
   {
    "duration": 20,
    "start_time": "2022-03-10T09:47:13.390Z"
   },
   {
    "duration": 15,
    "start_time": "2022-03-10T09:47:13.411Z"
   },
   {
    "duration": 10,
    "start_time": "2022-03-10T09:47:13.427Z"
   },
   {
    "duration": 8,
    "start_time": "2022-03-10T09:47:13.438Z"
   },
   {
    "duration": 18,
    "start_time": "2022-03-10T09:47:13.447Z"
   },
   {
    "duration": 10,
    "start_time": "2022-03-10T09:47:13.466Z"
   },
   {
    "duration": 9,
    "start_time": "2022-03-10T09:47:13.478Z"
   },
   {
    "duration": 26,
    "start_time": "2022-03-10T09:47:13.489Z"
   },
   {
    "duration": 223,
    "start_time": "2022-03-10T09:47:13.516Z"
   },
   {
    "duration": 17,
    "start_time": "2022-03-10T09:47:13.744Z"
   },
   {
    "duration": 13,
    "start_time": "2022-03-10T09:47:13.762Z"
   },
   {
    "duration": 290,
    "start_time": "2022-03-10T09:47:13.776Z"
   },
   {
    "duration": 629,
    "start_time": "2022-03-10T11:13:59.706Z"
   },
   {
    "duration": 9,
    "start_time": "2022-03-10T11:14:00.337Z"
   },
   {
    "duration": 12,
    "start_time": "2022-03-10T11:14:00.348Z"
   },
   {
    "duration": 6,
    "start_time": "2022-03-10T11:14:00.363Z"
   },
   {
    "duration": 11,
    "start_time": "2022-03-10T11:14:00.370Z"
   },
   {
    "duration": 64,
    "start_time": "2022-03-10T11:14:00.382Z"
   },
   {
    "duration": 5,
    "start_time": "2022-03-10T11:14:00.448Z"
   },
   {
    "duration": 14,
    "start_time": "2022-03-10T11:14:00.454Z"
   },
   {
    "duration": 6,
    "start_time": "2022-03-10T11:14:00.470Z"
   },
   {
    "duration": 8,
    "start_time": "2022-03-10T11:14:00.477Z"
   },
   {
    "duration": 10,
    "start_time": "2022-03-10T11:14:00.486Z"
   },
   {
    "duration": 12,
    "start_time": "2022-03-10T11:14:00.497Z"
   },
   {
    "duration": 7,
    "start_time": "2022-03-10T11:14:00.510Z"
   },
   {
    "duration": 9,
    "start_time": "2022-03-10T11:14:00.518Z"
   },
   {
    "duration": 5,
    "start_time": "2022-03-10T11:14:00.529Z"
   },
   {
    "duration": 21,
    "start_time": "2022-03-10T11:14:00.535Z"
   },
   {
    "duration": 23,
    "start_time": "2022-03-10T11:14:00.558Z"
   },
   {
    "duration": 6,
    "start_time": "2022-03-10T11:14:00.582Z"
   },
   {
    "duration": 8,
    "start_time": "2022-03-10T11:14:00.589Z"
   },
   {
    "duration": 9,
    "start_time": "2022-03-10T11:14:00.599Z"
   },
   {
    "duration": 30,
    "start_time": "2022-03-10T11:14:00.609Z"
   },
   {
    "duration": 7,
    "start_time": "2022-03-10T11:14:00.641Z"
   },
   {
    "duration": 7,
    "start_time": "2022-03-10T11:14:00.649Z"
   },
   {
    "duration": 17,
    "start_time": "2022-03-10T11:14:00.658Z"
   },
   {
    "duration": 3,
    "start_time": "2022-03-10T11:14:00.676Z"
   },
   {
    "duration": 12,
    "start_time": "2022-03-10T11:14:00.680Z"
   },
   {
    "duration": 6,
    "start_time": "2022-03-10T11:14:00.696Z"
   },
   {
    "duration": 9,
    "start_time": "2022-03-10T11:14:00.704Z"
   },
   {
    "duration": 15,
    "start_time": "2022-03-10T11:14:00.715Z"
   },
   {
    "duration": 11,
    "start_time": "2022-03-10T11:14:00.732Z"
   },
   {
    "duration": 16,
    "start_time": "2022-03-10T11:14:00.745Z"
   },
   {
    "duration": 16,
    "start_time": "2022-03-10T11:14:00.763Z"
   },
   {
    "duration": 12,
    "start_time": "2022-03-10T11:14:00.780Z"
   },
   {
    "duration": 15,
    "start_time": "2022-03-10T11:14:00.794Z"
   },
   {
    "duration": 14,
    "start_time": "2022-03-10T11:14:00.810Z"
   },
   {
    "duration": 18,
    "start_time": "2022-03-10T11:14:00.826Z"
   },
   {
    "duration": 14,
    "start_time": "2022-03-10T11:14:00.845Z"
   },
   {
    "duration": 18,
    "start_time": "2022-03-10T11:14:00.860Z"
   },
   {
    "duration": 8,
    "start_time": "2022-03-10T11:14:00.879Z"
   },
   {
    "duration": 9,
    "start_time": "2022-03-10T11:14:00.889Z"
   },
   {
    "duration": 7,
    "start_time": "2022-03-10T11:14:00.899Z"
   },
   {
    "duration": 8,
    "start_time": "2022-03-10T11:14:00.907Z"
   },
   {
    "duration": 18,
    "start_time": "2022-03-10T11:14:00.916Z"
   },
   {
    "duration": 27,
    "start_time": "2022-03-10T11:14:00.936Z"
   },
   {
    "duration": 28,
    "start_time": "2022-03-10T11:14:00.965Z"
   },
   {
    "duration": 5,
    "start_time": "2022-03-10T11:14:00.994Z"
   },
   {
    "duration": 20,
    "start_time": "2022-03-10T11:14:01.000Z"
   },
   {
    "duration": 14,
    "start_time": "2022-03-10T11:14:01.022Z"
   },
   {
    "duration": 25,
    "start_time": "2022-03-10T11:14:01.037Z"
   },
   {
    "duration": 8,
    "start_time": "2022-03-10T11:14:01.063Z"
   },
   {
    "duration": 17,
    "start_time": "2022-03-10T11:14:01.073Z"
   },
   {
    "duration": 3,
    "start_time": "2022-03-10T11:14:01.092Z"
   },
   {
    "duration": 23,
    "start_time": "2022-03-10T11:14:01.096Z"
   },
   {
    "duration": 6,
    "start_time": "2022-03-10T11:14:01.121Z"
   },
   {
    "duration": 24,
    "start_time": "2022-03-10T11:14:01.129Z"
   },
   {
    "duration": 4,
    "start_time": "2022-03-10T11:14:01.154Z"
   },
   {
    "duration": 35,
    "start_time": "2022-03-10T11:14:01.159Z"
   },
   {
    "duration": 4,
    "start_time": "2022-03-10T11:14:01.195Z"
   },
   {
    "duration": 17,
    "start_time": "2022-03-10T11:14:01.201Z"
   },
   {
    "duration": 21,
    "start_time": "2022-03-10T11:14:01.219Z"
   },
   {
    "duration": 14,
    "start_time": "2022-03-10T11:14:01.242Z"
   },
   {
    "duration": 21,
    "start_time": "2022-03-10T11:14:01.257Z"
   },
   {
    "duration": 16,
    "start_time": "2022-03-10T11:14:01.279Z"
   },
   {
    "duration": 24,
    "start_time": "2022-03-10T11:14:01.297Z"
   },
   {
    "duration": 15,
    "start_time": "2022-03-10T11:14:01.323Z"
   },
   {
    "duration": 24,
    "start_time": "2022-03-10T11:14:01.339Z"
   },
   {
    "duration": 223,
    "start_time": "2022-03-10T11:14:01.364Z"
   },
   {
    "duration": 32,
    "start_time": "2022-03-10T11:14:01.589Z"
   },
   {
    "duration": 392,
    "start_time": "2022-03-10T11:14:01.622Z"
   },
   {
    "duration": 588,
    "start_time": "2022-03-10T11:14:01.428Z"
   },
   {
    "duration": 587,
    "start_time": "2022-03-10T11:14:01.430Z"
   },
   {
    "duration": 600,
    "start_time": "2022-03-10T11:24:48.437Z"
   },
   {
    "duration": 9,
    "start_time": "2022-03-10T11:24:49.039Z"
   },
   {
    "duration": 17,
    "start_time": "2022-03-10T11:24:49.050Z"
   },
   {
    "duration": 11,
    "start_time": "2022-03-10T11:24:49.069Z"
   },
   {
    "duration": 20,
    "start_time": "2022-03-10T11:24:49.081Z"
   },
   {
    "duration": 69,
    "start_time": "2022-03-10T11:24:49.102Z"
   },
   {
    "duration": 6,
    "start_time": "2022-03-10T11:24:49.172Z"
   },
   {
    "duration": 14,
    "start_time": "2022-03-10T11:24:49.179Z"
   },
   {
    "duration": 19,
    "start_time": "2022-03-10T11:24:49.196Z"
   },
   {
    "duration": 13,
    "start_time": "2022-03-10T11:24:49.217Z"
   },
   {
    "duration": 16,
    "start_time": "2022-03-10T11:24:49.232Z"
   },
   {
    "duration": 15,
    "start_time": "2022-03-10T11:24:49.250Z"
   },
   {
    "duration": 15,
    "start_time": "2022-03-10T11:24:49.266Z"
   },
   {
    "duration": 18,
    "start_time": "2022-03-10T11:24:49.283Z"
   },
   {
    "duration": 19,
    "start_time": "2022-03-10T11:24:49.303Z"
   },
   {
    "duration": 31,
    "start_time": "2022-03-10T11:24:49.324Z"
   },
   {
    "duration": 16,
    "start_time": "2022-03-10T11:24:49.356Z"
   },
   {
    "duration": 15,
    "start_time": "2022-03-10T11:24:49.374Z"
   },
   {
    "duration": 10,
    "start_time": "2022-03-10T11:24:49.397Z"
   },
   {
    "duration": 6,
    "start_time": "2022-03-10T11:24:49.409Z"
   },
   {
    "duration": 23,
    "start_time": "2022-03-10T11:24:49.416Z"
   },
   {
    "duration": 14,
    "start_time": "2022-03-10T11:24:49.441Z"
   },
   {
    "duration": 20,
    "start_time": "2022-03-10T11:24:49.457Z"
   },
   {
    "duration": 15,
    "start_time": "2022-03-10T11:24:49.478Z"
   },
   {
    "duration": 8,
    "start_time": "2022-03-10T11:24:49.494Z"
   },
   {
    "duration": 23,
    "start_time": "2022-03-10T11:24:49.504Z"
   },
   {
    "duration": 11,
    "start_time": "2022-03-10T11:24:49.530Z"
   },
   {
    "duration": 24,
    "start_time": "2022-03-10T11:24:49.543Z"
   },
   {
    "duration": 13,
    "start_time": "2022-03-10T11:24:49.569Z"
   },
   {
    "duration": 16,
    "start_time": "2022-03-10T11:24:49.583Z"
   },
   {
    "duration": 21,
    "start_time": "2022-03-10T11:24:49.600Z"
   },
   {
    "duration": 10,
    "start_time": "2022-03-10T11:24:49.623Z"
   },
   {
    "duration": 11,
    "start_time": "2022-03-10T11:24:49.635Z"
   },
   {
    "duration": 16,
    "start_time": "2022-03-10T11:24:49.647Z"
   },
   {
    "duration": 6,
    "start_time": "2022-03-10T11:24:49.665Z"
   },
   {
    "duration": 15,
    "start_time": "2022-03-10T11:24:49.672Z"
   },
   {
    "duration": 20,
    "start_time": "2022-03-10T11:24:49.689Z"
   },
   {
    "duration": 26,
    "start_time": "2022-03-10T11:24:49.711Z"
   },
   {
    "duration": 18,
    "start_time": "2022-03-10T11:24:49.738Z"
   },
   {
    "duration": 5,
    "start_time": "2022-03-10T11:24:49.758Z"
   },
   {
    "duration": 14,
    "start_time": "2022-03-10T11:24:49.765Z"
   },
   {
    "duration": 11,
    "start_time": "2022-03-10T11:24:49.780Z"
   },
   {
    "duration": 6,
    "start_time": "2022-03-10T11:24:49.793Z"
   },
   {
    "duration": 28,
    "start_time": "2022-03-10T11:24:49.801Z"
   },
   {
    "duration": 36,
    "start_time": "2022-03-10T11:24:49.830Z"
   },
   {
    "duration": 5,
    "start_time": "2022-03-10T11:24:49.867Z"
   },
   {
    "duration": 10,
    "start_time": "2022-03-10T11:24:49.874Z"
   },
   {
    "duration": 17,
    "start_time": "2022-03-10T11:24:49.886Z"
   },
   {
    "duration": 17,
    "start_time": "2022-03-10T11:24:49.905Z"
   },
   {
    "duration": 9,
    "start_time": "2022-03-10T11:24:49.923Z"
   },
   {
    "duration": 24,
    "start_time": "2022-03-10T11:24:49.934Z"
   },
   {
    "duration": 3,
    "start_time": "2022-03-10T11:24:49.960Z"
   },
   {
    "duration": 14,
    "start_time": "2022-03-10T11:24:49.965Z"
   },
   {
    "duration": 11,
    "start_time": "2022-03-10T11:24:49.981Z"
   },
   {
    "duration": 27,
    "start_time": "2022-03-10T11:24:49.993Z"
   },
   {
    "duration": 19,
    "start_time": "2022-03-10T11:24:50.022Z"
   },
   {
    "duration": 37,
    "start_time": "2022-03-10T11:24:50.043Z"
   },
   {
    "duration": 4,
    "start_time": "2022-03-10T11:24:50.082Z"
   },
   {
    "duration": 16,
    "start_time": "2022-03-10T11:24:50.088Z"
   },
   {
    "duration": 36,
    "start_time": "2022-03-10T11:24:50.105Z"
   },
   {
    "duration": 18,
    "start_time": "2022-03-10T11:24:50.142Z"
   },
   {
    "duration": 14,
    "start_time": "2022-03-10T11:24:50.161Z"
   },
   {
    "duration": 29,
    "start_time": "2022-03-10T11:24:50.176Z"
   },
   {
    "duration": 20,
    "start_time": "2022-03-10T11:24:50.206Z"
   },
   {
    "duration": 12,
    "start_time": "2022-03-10T11:24:50.228Z"
   },
   {
    "duration": 30,
    "start_time": "2022-03-10T11:24:50.241Z"
   },
   {
    "duration": 211,
    "start_time": "2022-03-10T11:24:50.272Z"
   },
   {
    "duration": 22,
    "start_time": "2022-03-10T11:24:50.484Z"
   },
   {
    "duration": 2,
    "start_time": "2022-03-10T11:24:50.507Z"
   },
   {
    "duration": 22,
    "start_time": "2022-03-10T11:24:50.510Z"
   },
   {
    "duration": 297,
    "start_time": "2022-03-10T11:24:50.533Z"
   },
   {
    "duration": 329,
    "start_time": "2022-03-10T11:25:32.439Z"
   },
   {
    "duration": 24,
    "start_time": "2022-03-10T11:25:41.789Z"
   },
   {
    "duration": 570,
    "start_time": "2022-03-10T11:26:01.405Z"
   },
   {
    "duration": 29,
    "start_time": "2022-03-10T11:26:10.129Z"
   },
   {
    "duration": 31,
    "start_time": "2022-03-10T11:28:47.746Z"
   },
   {
    "duration": 34,
    "start_time": "2022-03-10T11:29:04.927Z"
   },
   {
    "duration": 27,
    "start_time": "2022-03-10T11:29:39.651Z"
   },
   {
    "duration": 313,
    "start_time": "2022-03-10T11:30:10.875Z"
   },
   {
    "duration": 25,
    "start_time": "2022-03-10T11:30:24.879Z"
   },
   {
    "duration": 27,
    "start_time": "2022-03-10T11:31:08.607Z"
   },
   {
    "duration": 617,
    "start_time": "2022-03-10T11:31:26.245Z"
   },
   {
    "duration": 9,
    "start_time": "2022-03-10T11:31:26.864Z"
   },
   {
    "duration": 9,
    "start_time": "2022-03-10T11:31:26.878Z"
   },
   {
    "duration": 4,
    "start_time": "2022-03-10T11:31:26.888Z"
   },
   {
    "duration": 15,
    "start_time": "2022-03-10T11:31:26.893Z"
   },
   {
    "duration": 57,
    "start_time": "2022-03-10T11:31:26.910Z"
   },
   {
    "duration": 6,
    "start_time": "2022-03-10T11:31:26.968Z"
   },
   {
    "duration": 30,
    "start_time": "2022-03-10T11:31:26.976Z"
   },
   {
    "duration": 9,
    "start_time": "2022-03-10T11:31:27.009Z"
   },
   {
    "duration": 5,
    "start_time": "2022-03-10T11:31:27.020Z"
   },
   {
    "duration": 6,
    "start_time": "2022-03-10T11:31:27.027Z"
   },
   {
    "duration": 10,
    "start_time": "2022-03-10T11:31:27.035Z"
   },
   {
    "duration": 6,
    "start_time": "2022-03-10T11:31:27.047Z"
   },
   {
    "duration": 6,
    "start_time": "2022-03-10T11:31:27.054Z"
   },
   {
    "duration": 5,
    "start_time": "2022-03-10T11:31:27.062Z"
   },
   {
    "duration": 39,
    "start_time": "2022-03-10T11:31:27.069Z"
   },
   {
    "duration": 5,
    "start_time": "2022-03-10T11:31:27.109Z"
   },
   {
    "duration": 19,
    "start_time": "2022-03-10T11:31:27.116Z"
   },
   {
    "duration": 7,
    "start_time": "2022-03-10T11:31:27.137Z"
   },
   {
    "duration": 6,
    "start_time": "2022-03-10T11:31:27.146Z"
   },
   {
    "duration": 11,
    "start_time": "2022-03-10T11:31:27.153Z"
   },
   {
    "duration": 7,
    "start_time": "2022-03-10T11:31:27.165Z"
   },
   {
    "duration": 15,
    "start_time": "2022-03-10T11:31:27.174Z"
   },
   {
    "duration": 27,
    "start_time": "2022-03-10T11:31:27.191Z"
   },
   {
    "duration": 6,
    "start_time": "2022-03-10T11:31:27.219Z"
   },
   {
    "duration": 5,
    "start_time": "2022-03-10T11:31:27.230Z"
   },
   {
    "duration": 9,
    "start_time": "2022-03-10T11:31:27.238Z"
   },
   {
    "duration": 6,
    "start_time": "2022-03-10T11:31:27.249Z"
   },
   {
    "duration": 8,
    "start_time": "2022-03-10T11:31:27.256Z"
   },
   {
    "duration": 6,
    "start_time": "2022-03-10T11:31:27.266Z"
   },
   {
    "duration": 5,
    "start_time": "2022-03-10T11:31:27.273Z"
   },
   {
    "duration": 26,
    "start_time": "2022-03-10T11:31:27.280Z"
   },
   {
    "duration": 13,
    "start_time": "2022-03-10T11:31:27.308Z"
   },
   {
    "duration": 13,
    "start_time": "2022-03-10T11:31:27.323Z"
   },
   {
    "duration": 9,
    "start_time": "2022-03-10T11:31:27.338Z"
   },
   {
    "duration": 11,
    "start_time": "2022-03-10T11:31:27.349Z"
   },
   {
    "duration": 7,
    "start_time": "2022-03-10T11:31:27.362Z"
   },
   {
    "duration": 11,
    "start_time": "2022-03-10T11:31:27.370Z"
   },
   {
    "duration": 8,
    "start_time": "2022-03-10T11:31:27.382Z"
   },
   {
    "duration": 14,
    "start_time": "2022-03-10T11:31:27.392Z"
   },
   {
    "duration": 10,
    "start_time": "2022-03-10T11:31:27.408Z"
   },
   {
    "duration": 6,
    "start_time": "2022-03-10T11:31:27.420Z"
   },
   {
    "duration": 8,
    "start_time": "2022-03-10T11:31:27.427Z"
   },
   {
    "duration": 18,
    "start_time": "2022-03-10T11:31:27.436Z"
   },
   {
    "duration": 29,
    "start_time": "2022-03-10T11:31:27.455Z"
   },
   {
    "duration": 21,
    "start_time": "2022-03-10T11:31:27.485Z"
   },
   {
    "duration": 10,
    "start_time": "2022-03-10T11:31:27.508Z"
   },
   {
    "duration": 8,
    "start_time": "2022-03-10T11:31:27.520Z"
   },
   {
    "duration": 26,
    "start_time": "2022-03-10T11:31:27.530Z"
   },
   {
    "duration": 3,
    "start_time": "2022-03-10T11:31:27.558Z"
   },
   {
    "duration": 17,
    "start_time": "2022-03-10T11:31:27.562Z"
   },
   {
    "duration": 24,
    "start_time": "2022-03-10T11:31:27.581Z"
   },
   {
    "duration": 8,
    "start_time": "2022-03-10T11:31:27.607Z"
   },
   {
    "duration": 13,
    "start_time": "2022-03-10T11:31:27.616Z"
   },
   {
    "duration": 23,
    "start_time": "2022-03-10T11:31:27.631Z"
   },
   {
    "duration": 3,
    "start_time": "2022-03-10T11:31:27.656Z"
   },
   {
    "duration": 26,
    "start_time": "2022-03-10T11:31:27.660Z"
   },
   {
    "duration": 5,
    "start_time": "2022-03-10T11:31:27.687Z"
   },
   {
    "duration": 13,
    "start_time": "2022-03-10T11:31:27.693Z"
   },
   {
    "duration": 13,
    "start_time": "2022-03-10T11:31:27.708Z"
   },
   {
    "duration": 7,
    "start_time": "2022-03-10T11:31:27.723Z"
   },
   {
    "duration": 4,
    "start_time": "2022-03-10T11:31:27.732Z"
   },
   {
    "duration": 17,
    "start_time": "2022-03-10T11:31:27.738Z"
   },
   {
    "duration": 9,
    "start_time": "2022-03-10T11:31:27.756Z"
   },
   {
    "duration": 40,
    "start_time": "2022-03-10T11:31:27.767Z"
   },
   {
    "duration": 16,
    "start_time": "2022-03-10T11:31:27.809Z"
   },
   {
    "duration": 221,
    "start_time": "2022-03-10T11:31:27.827Z"
   },
   {
    "duration": 17,
    "start_time": "2022-03-10T11:31:28.050Z"
   },
   {
    "duration": 2,
    "start_time": "2022-03-10T11:31:28.068Z"
   },
   {
    "duration": 44,
    "start_time": "2022-03-10T11:31:28.072Z"
   },
   {
    "duration": 382,
    "start_time": "2022-03-10T11:31:28.118Z"
   },
   {
    "duration": 589,
    "start_time": "2022-03-10T11:34:48.441Z"
   },
   {
    "duration": 9,
    "start_time": "2022-03-10T11:34:49.032Z"
   },
   {
    "duration": 10,
    "start_time": "2022-03-10T11:34:49.043Z"
   },
   {
    "duration": 5,
    "start_time": "2022-03-10T11:34:49.055Z"
   },
   {
    "duration": 8,
    "start_time": "2022-03-10T11:34:49.061Z"
   },
   {
    "duration": 76,
    "start_time": "2022-03-10T11:34:49.070Z"
   },
   {
    "duration": 6,
    "start_time": "2022-03-10T11:34:49.147Z"
   },
   {
    "duration": 4,
    "start_time": "2022-03-10T11:34:49.154Z"
   },
   {
    "duration": 5,
    "start_time": "2022-03-10T11:34:49.161Z"
   },
   {
    "duration": 3,
    "start_time": "2022-03-10T11:34:49.167Z"
   },
   {
    "duration": 6,
    "start_time": "2022-03-10T11:34:49.171Z"
   },
   {
    "duration": 27,
    "start_time": "2022-03-10T11:34:49.179Z"
   },
   {
    "duration": 4,
    "start_time": "2022-03-10T11:34:49.208Z"
   },
   {
    "duration": 9,
    "start_time": "2022-03-10T11:34:49.214Z"
   },
   {
    "duration": 6,
    "start_time": "2022-03-10T11:34:49.225Z"
   },
   {
    "duration": 7,
    "start_time": "2022-03-10T11:34:49.232Z"
   },
   {
    "duration": 6,
    "start_time": "2022-03-10T11:34:49.240Z"
   },
   {
    "duration": 6,
    "start_time": "2022-03-10T11:34:49.248Z"
   },
   {
    "duration": 6,
    "start_time": "2022-03-10T11:34:49.255Z"
   },
   {
    "duration": 5,
    "start_time": "2022-03-10T11:34:49.262Z"
   },
   {
    "duration": 7,
    "start_time": "2022-03-10T11:34:49.305Z"
   },
   {
    "duration": 6,
    "start_time": "2022-03-10T11:34:49.313Z"
   },
   {
    "duration": 7,
    "start_time": "2022-03-10T11:34:49.327Z"
   },
   {
    "duration": 9,
    "start_time": "2022-03-10T11:34:49.336Z"
   },
   {
    "duration": 3,
    "start_time": "2022-03-10T11:34:49.346Z"
   },
   {
    "duration": 7,
    "start_time": "2022-03-10T11:34:49.351Z"
   },
   {
    "duration": 4,
    "start_time": "2022-03-10T11:34:49.363Z"
   },
   {
    "duration": 6,
    "start_time": "2022-03-10T11:34:49.405Z"
   },
   {
    "duration": 5,
    "start_time": "2022-03-10T11:34:49.413Z"
   },
   {
    "duration": 7,
    "start_time": "2022-03-10T11:34:49.419Z"
   },
   {
    "duration": 6,
    "start_time": "2022-03-10T11:34:49.427Z"
   },
   {
    "duration": 5,
    "start_time": "2022-03-10T11:34:49.435Z"
   },
   {
    "duration": 7,
    "start_time": "2022-03-10T11:34:49.441Z"
   },
   {
    "duration": 9,
    "start_time": "2022-03-10T11:34:49.449Z"
   },
   {
    "duration": 5,
    "start_time": "2022-03-10T11:34:49.459Z"
   },
   {
    "duration": 6,
    "start_time": "2022-03-10T11:34:49.466Z"
   },
   {
    "duration": 4,
    "start_time": "2022-03-10T11:34:49.506Z"
   },
   {
    "duration": 7,
    "start_time": "2022-03-10T11:34:49.512Z"
   },
   {
    "duration": 4,
    "start_time": "2022-03-10T11:34:49.521Z"
   },
   {
    "duration": 5,
    "start_time": "2022-03-10T11:34:49.527Z"
   },
   {
    "duration": 6,
    "start_time": "2022-03-10T11:34:49.534Z"
   },
   {
    "duration": 5,
    "start_time": "2022-03-10T11:34:49.541Z"
   },
   {
    "duration": 5,
    "start_time": "2022-03-10T11:34:49.548Z"
   },
   {
    "duration": 15,
    "start_time": "2022-03-10T11:34:49.555Z"
   },
   {
    "duration": 57,
    "start_time": "2022-03-10T11:34:49.572Z"
   },
   {
    "duration": 5,
    "start_time": "2022-03-10T11:34:49.631Z"
   },
   {
    "duration": 12,
    "start_time": "2022-03-10T11:34:49.637Z"
   },
   {
    "duration": 9,
    "start_time": "2022-03-10T11:34:49.650Z"
   },
   {
    "duration": 18,
    "start_time": "2022-03-10T11:34:49.661Z"
   },
   {
    "duration": 25,
    "start_time": "2022-03-10T11:34:49.681Z"
   },
   {
    "duration": 16,
    "start_time": "2022-03-10T11:34:49.708Z"
   },
   {
    "duration": 4,
    "start_time": "2022-03-10T11:34:49.726Z"
   },
   {
    "duration": 11,
    "start_time": "2022-03-10T11:34:49.731Z"
   },
   {
    "duration": 4,
    "start_time": "2022-03-10T11:34:49.743Z"
   },
   {
    "duration": 20,
    "start_time": "2022-03-10T11:34:49.749Z"
   },
   {
    "duration": 4,
    "start_time": "2022-03-10T11:34:49.771Z"
   },
   {
    "duration": 46,
    "start_time": "2022-03-10T11:34:49.777Z"
   },
   {
    "duration": 5,
    "start_time": "2022-03-10T11:34:49.825Z"
   },
   {
    "duration": 9,
    "start_time": "2022-03-10T11:34:49.832Z"
   },
   {
    "duration": 13,
    "start_time": "2022-03-10T11:34:49.843Z"
   },
   {
    "duration": 7,
    "start_time": "2022-03-10T11:34:49.857Z"
   },
   {
    "duration": 5,
    "start_time": "2022-03-10T11:34:49.865Z"
   },
   {
    "duration": 36,
    "start_time": "2022-03-10T11:34:49.872Z"
   },
   {
    "duration": 9,
    "start_time": "2022-03-10T11:34:49.910Z"
   },
   {
    "duration": 10,
    "start_time": "2022-03-10T11:34:49.920Z"
   },
   {
    "duration": 16,
    "start_time": "2022-03-10T11:34:49.931Z"
   },
   {
    "duration": 221,
    "start_time": "2022-03-10T11:34:49.949Z"
   },
   {
    "duration": 18,
    "start_time": "2022-03-10T11:34:50.172Z"
   },
   {
    "duration": 14,
    "start_time": "2022-03-10T11:34:50.191Z"
   },
   {
    "duration": 6384,
    "start_time": "2022-03-10T11:34:50.207Z"
   },
   {
    "duration": 549,
    "start_time": "2022-03-10T11:34:56.044Z"
   },
   {
    "duration": 277,
    "start_time": "2022-03-10T11:39:27.974Z"
   },
   {
    "duration": 2521,
    "start_time": "2022-03-10T11:39:35.655Z"
   },
   {
    "duration": 11,
    "start_time": "2022-03-10T11:39:38.178Z"
   },
   {
    "duration": 8,
    "start_time": "2022-03-10T11:39:38.194Z"
   },
   {
    "duration": 11,
    "start_time": "2022-03-10T11:39:38.204Z"
   },
   {
    "duration": 10,
    "start_time": "2022-03-10T11:39:38.216Z"
   },
   {
    "duration": 60,
    "start_time": "2022-03-10T11:39:38.227Z"
   },
   {
    "duration": 5,
    "start_time": "2022-03-10T11:39:38.290Z"
   },
   {
    "duration": 9,
    "start_time": "2022-03-10T11:39:38.297Z"
   },
   {
    "duration": 5,
    "start_time": "2022-03-10T11:39:38.307Z"
   },
   {
    "duration": 6,
    "start_time": "2022-03-10T11:39:38.313Z"
   },
   {
    "duration": 7,
    "start_time": "2022-03-10T11:39:38.320Z"
   },
   {
    "duration": 5,
    "start_time": "2022-03-10T11:39:38.329Z"
   },
   {
    "duration": 4,
    "start_time": "2022-03-10T11:39:38.336Z"
   },
   {
    "duration": 4,
    "start_time": "2022-03-10T11:39:38.342Z"
   },
   {
    "duration": 8,
    "start_time": "2022-03-10T11:39:38.348Z"
   },
   {
    "duration": 50,
    "start_time": "2022-03-10T11:39:38.358Z"
   },
   {
    "duration": 5,
    "start_time": "2022-03-10T11:39:38.409Z"
   },
   {
    "duration": 5,
    "start_time": "2022-03-10T11:39:38.416Z"
   },
   {
    "duration": 5,
    "start_time": "2022-03-10T11:39:38.422Z"
   },
   {
    "duration": 4,
    "start_time": "2022-03-10T11:39:38.429Z"
   },
   {
    "duration": 4,
    "start_time": "2022-03-10T11:39:38.435Z"
   },
   {
    "duration": 4,
    "start_time": "2022-03-10T11:39:38.443Z"
   },
   {
    "duration": 5,
    "start_time": "2022-03-10T11:39:38.449Z"
   },
   {
    "duration": 6,
    "start_time": "2022-03-10T11:39:38.456Z"
   },
   {
    "duration": 3,
    "start_time": "2022-03-10T11:39:38.463Z"
   },
   {
    "duration": 6,
    "start_time": "2022-03-10T11:39:38.467Z"
   },
   {
    "duration": 12,
    "start_time": "2022-03-10T11:39:38.475Z"
   },
   {
    "duration": 328,
    "start_time": "2022-03-10T11:39:38.505Z"
   },
   {
    "duration": 5,
    "start_time": "2022-03-10T11:39:38.835Z"
   },
   {
    "duration": 6,
    "start_time": "2022-03-10T11:39:38.841Z"
   },
   {
    "duration": 6,
    "start_time": "2022-03-10T11:39:38.848Z"
   },
   {
    "duration": 3,
    "start_time": "2022-03-10T11:39:38.855Z"
   },
   {
    "duration": 9,
    "start_time": "2022-03-10T11:39:38.859Z"
   },
   {
    "duration": 9,
    "start_time": "2022-03-10T11:39:38.869Z"
   },
   {
    "duration": 13,
    "start_time": "2022-03-10T11:39:38.879Z"
   },
   {
    "duration": 6,
    "start_time": "2022-03-10T11:39:38.893Z"
   },
   {
    "duration": 13,
    "start_time": "2022-03-10T11:39:38.900Z"
   },
   {
    "duration": 6,
    "start_time": "2022-03-10T11:39:38.915Z"
   },
   {
    "duration": 6,
    "start_time": "2022-03-10T11:39:38.923Z"
   },
   {
    "duration": 5,
    "start_time": "2022-03-10T11:39:38.930Z"
   },
   {
    "duration": 7,
    "start_time": "2022-03-10T11:39:38.936Z"
   },
   {
    "duration": 3,
    "start_time": "2022-03-10T11:39:38.945Z"
   },
   {
    "duration": 6,
    "start_time": "2022-03-10T11:39:38.950Z"
   },
   {
    "duration": 17,
    "start_time": "2022-03-10T11:39:38.958Z"
   },
   {
    "duration": 27,
    "start_time": "2022-03-10T11:39:38.977Z"
   },
   {
    "duration": 4,
    "start_time": "2022-03-10T11:39:39.006Z"
   },
   {
    "duration": 13,
    "start_time": "2022-03-10T11:39:39.011Z"
   },
   {
    "duration": 10,
    "start_time": "2022-03-10T11:39:39.025Z"
   },
   {
    "duration": 16,
    "start_time": "2022-03-10T11:39:39.036Z"
   },
   {
    "duration": 7,
    "start_time": "2022-03-10T11:39:39.053Z"
   },
   {
    "duration": 17,
    "start_time": "2022-03-10T11:39:39.062Z"
   },
   {
    "duration": 3,
    "start_time": "2022-03-10T11:39:39.080Z"
   },
   {
    "duration": 10,
    "start_time": "2022-03-10T11:39:39.084Z"
   },
   {
    "duration": 3,
    "start_time": "2022-03-10T11:39:39.095Z"
   },
   {
    "duration": 15,
    "start_time": "2022-03-10T11:39:39.099Z"
   },
   {
    "duration": 3,
    "start_time": "2022-03-10T11:39:39.116Z"
   },
   {
    "duration": 27,
    "start_time": "2022-03-10T11:39:39.120Z"
   },
   {
    "duration": 4,
    "start_time": "2022-03-10T11:39:39.148Z"
   },
   {
    "duration": 5,
    "start_time": "2022-03-10T11:39:39.154Z"
   },
   {
    "duration": 12,
    "start_time": "2022-03-10T11:39:39.160Z"
   },
   {
    "duration": 7,
    "start_time": "2022-03-10T11:39:39.173Z"
   },
   {
    "duration": 4,
    "start_time": "2022-03-10T11:39:39.181Z"
   },
   {
    "duration": 18,
    "start_time": "2022-03-10T11:39:39.187Z"
   },
   {
    "duration": 10,
    "start_time": "2022-03-10T11:39:39.206Z"
   },
   {
    "duration": 10,
    "start_time": "2022-03-10T11:39:39.217Z"
   },
   {
    "duration": 18,
    "start_time": "2022-03-10T11:39:39.228Z"
   },
   {
    "duration": 210,
    "start_time": "2022-03-10T11:39:39.250Z"
   },
   {
    "duration": 16,
    "start_time": "2022-03-10T11:39:39.462Z"
   },
   {
    "duration": 1303,
    "start_time": "2022-03-10T11:39:39.480Z"
   },
   {
    "duration": -987,
    "start_time": "2022-03-10T11:39:41.772Z"
   },
   {
    "duration": -988,
    "start_time": "2022-03-10T11:39:41.774Z"
   },
   {
    "duration": 247,
    "start_time": "2022-03-10T11:42:19.395Z"
   },
   {
    "duration": 273,
    "start_time": "2022-03-10T11:45:52.319Z"
   },
   {
    "duration": 15,
    "start_time": "2022-03-10T11:46:09.818Z"
   },
   {
    "duration": 686,
    "start_time": "2022-03-10T11:48:04.687Z"
   },
   {
    "duration": 11,
    "start_time": "2022-03-10T11:48:05.375Z"
   },
   {
    "duration": 14,
    "start_time": "2022-03-10T11:48:05.388Z"
   },
   {
    "duration": 5,
    "start_time": "2022-03-10T11:48:05.404Z"
   },
   {
    "duration": 11,
    "start_time": "2022-03-10T11:48:05.410Z"
   },
   {
    "duration": 59,
    "start_time": "2022-03-10T11:48:05.422Z"
   },
   {
    "duration": 5,
    "start_time": "2022-03-10T11:48:05.483Z"
   },
   {
    "duration": 8,
    "start_time": "2022-03-10T11:48:05.490Z"
   },
   {
    "duration": 13,
    "start_time": "2022-03-10T11:48:05.500Z"
   },
   {
    "duration": 7,
    "start_time": "2022-03-10T11:48:05.514Z"
   },
   {
    "duration": 13,
    "start_time": "2022-03-10T11:48:05.522Z"
   },
   {
    "duration": 6,
    "start_time": "2022-03-10T11:48:05.537Z"
   },
   {
    "duration": 7,
    "start_time": "2022-03-10T11:48:05.545Z"
   },
   {
    "duration": 9,
    "start_time": "2022-03-10T11:48:05.553Z"
   },
   {
    "duration": 10,
    "start_time": "2022-03-10T11:48:05.564Z"
   },
   {
    "duration": 15,
    "start_time": "2022-03-10T11:48:05.575Z"
   },
   {
    "duration": 7,
    "start_time": "2022-03-10T11:48:05.591Z"
   },
   {
    "duration": 8,
    "start_time": "2022-03-10T11:48:05.599Z"
   },
   {
    "duration": 8,
    "start_time": "2022-03-10T11:48:05.609Z"
   },
   {
    "duration": 11,
    "start_time": "2022-03-10T11:48:05.619Z"
   },
   {
    "duration": 9,
    "start_time": "2022-03-10T11:48:05.631Z"
   },
   {
    "duration": 7,
    "start_time": "2022-03-10T11:48:05.641Z"
   },
   {
    "duration": 4,
    "start_time": "2022-03-10T11:48:05.652Z"
   },
   {
    "duration": 6,
    "start_time": "2022-03-10T11:48:05.658Z"
   },
   {
    "duration": 3,
    "start_time": "2022-03-10T11:48:05.665Z"
   },
   {
    "duration": 9,
    "start_time": "2022-03-10T11:48:05.669Z"
   },
   {
    "duration": 8,
    "start_time": "2022-03-10T11:48:05.679Z"
   },
   {
    "duration": 21,
    "start_time": "2022-03-10T11:48:05.688Z"
   },
   {
    "duration": 18,
    "start_time": "2022-03-10T11:48:05.710Z"
   },
   {
    "duration": 9,
    "start_time": "2022-03-10T11:48:05.730Z"
   },
   {
    "duration": 17,
    "start_time": "2022-03-10T11:48:05.740Z"
   },
   {
    "duration": 6,
    "start_time": "2022-03-10T11:48:05.758Z"
   },
   {
    "duration": 6,
    "start_time": "2022-03-10T11:48:05.766Z"
   },
   {
    "duration": 7,
    "start_time": "2022-03-10T11:48:05.773Z"
   },
   {
    "duration": 7,
    "start_time": "2022-03-10T11:48:05.781Z"
   },
   {
    "duration": 9,
    "start_time": "2022-03-10T11:48:05.789Z"
   },
   {
    "duration": 7,
    "start_time": "2022-03-10T11:48:05.799Z"
   },
   {
    "duration": 10,
    "start_time": "2022-03-10T11:48:05.807Z"
   },
   {
    "duration": 9,
    "start_time": "2022-03-10T11:48:05.819Z"
   },
   {
    "duration": 4,
    "start_time": "2022-03-10T11:48:05.830Z"
   },
   {
    "duration": 9,
    "start_time": "2022-03-10T11:48:05.836Z"
   },
   {
    "duration": 5,
    "start_time": "2022-03-10T11:48:05.847Z"
   },
   {
    "duration": 7,
    "start_time": "2022-03-10T11:48:05.853Z"
   },
   {
    "duration": 18,
    "start_time": "2022-03-10T11:48:05.862Z"
   },
   {
    "duration": 48,
    "start_time": "2022-03-10T11:48:05.881Z"
   },
   {
    "duration": 4,
    "start_time": "2022-03-10T11:48:05.930Z"
   },
   {
    "duration": 11,
    "start_time": "2022-03-10T11:48:05.936Z"
   },
   {
    "duration": 9,
    "start_time": "2022-03-10T11:48:05.948Z"
   },
   {
    "duration": 17,
    "start_time": "2022-03-10T11:48:05.958Z"
   },
   {
    "duration": 3,
    "start_time": "2022-03-10T11:48:05.976Z"
   },
   {
    "duration": 35,
    "start_time": "2022-03-10T11:48:05.980Z"
   },
   {
    "duration": 3,
    "start_time": "2022-03-10T11:48:06.017Z"
   },
   {
    "duration": 13,
    "start_time": "2022-03-10T11:48:06.021Z"
   },
   {
    "duration": 3,
    "start_time": "2022-03-10T11:48:06.036Z"
   },
   {
    "duration": 18,
    "start_time": "2022-03-10T11:48:06.040Z"
   },
   {
    "duration": 3,
    "start_time": "2022-03-10T11:48:06.059Z"
   },
   {
    "duration": 25,
    "start_time": "2022-03-10T11:48:06.064Z"
   },
   {
    "duration": 16,
    "start_time": "2022-03-10T11:48:06.091Z"
   },
   {
    "duration": 8,
    "start_time": "2022-03-10T11:48:06.108Z"
   },
   {
    "duration": 15,
    "start_time": "2022-03-10T11:48:06.117Z"
   },
   {
    "duration": 11,
    "start_time": "2022-03-10T11:48:06.133Z"
   },
   {
    "duration": 11,
    "start_time": "2022-03-10T11:48:06.145Z"
   },
   {
    "duration": 15,
    "start_time": "2022-03-10T11:48:06.157Z"
   },
   {
    "duration": 10,
    "start_time": "2022-03-10T11:48:06.174Z"
   },
   {
    "duration": 23,
    "start_time": "2022-03-10T11:48:06.185Z"
   },
   {
    "duration": 17,
    "start_time": "2022-03-10T11:48:06.210Z"
   },
   {
    "duration": 220,
    "start_time": "2022-03-10T11:48:06.228Z"
   },
   {
    "duration": 17,
    "start_time": "2022-03-10T11:48:06.452Z"
   },
   {
    "duration": 321,
    "start_time": "2022-03-10T11:48:06.470Z"
   },
   {
    "duration": 557,
    "start_time": "2022-03-10T11:48:06.236Z"
   },
   {
    "duration": 555,
    "start_time": "2022-03-10T11:48:06.238Z"
   },
   {
    "duration": 555,
    "start_time": "2022-03-10T11:48:06.239Z"
   },
   {
    "duration": 648,
    "start_time": "2022-03-10T11:48:22.283Z"
   },
   {
    "duration": 9,
    "start_time": "2022-03-10T11:48:22.933Z"
   },
   {
    "duration": 8,
    "start_time": "2022-03-10T11:48:22.946Z"
   },
   {
    "duration": 6,
    "start_time": "2022-03-10T11:48:22.955Z"
   },
   {
    "duration": 6,
    "start_time": "2022-03-10T11:48:22.963Z"
   },
   {
    "duration": 73,
    "start_time": "2022-03-10T11:48:22.971Z"
   },
   {
    "duration": 6,
    "start_time": "2022-03-10T11:48:23.046Z"
   },
   {
    "duration": 4,
    "start_time": "2022-03-10T11:48:23.054Z"
   },
   {
    "duration": 6,
    "start_time": "2022-03-10T11:48:23.059Z"
   },
   {
    "duration": 3,
    "start_time": "2022-03-10T11:48:23.067Z"
   },
   {
    "duration": 7,
    "start_time": "2022-03-10T11:48:23.072Z"
   },
   {
    "duration": 28,
    "start_time": "2022-03-10T11:48:23.080Z"
   },
   {
    "duration": 5,
    "start_time": "2022-03-10T11:48:23.109Z"
   },
   {
    "duration": 8,
    "start_time": "2022-03-10T11:48:23.115Z"
   },
   {
    "duration": 4,
    "start_time": "2022-03-10T11:48:23.125Z"
   },
   {
    "duration": 5,
    "start_time": "2022-03-10T11:48:23.130Z"
   },
   {
    "duration": 5,
    "start_time": "2022-03-10T11:48:23.136Z"
   },
   {
    "duration": 4,
    "start_time": "2022-03-10T11:48:23.142Z"
   },
   {
    "duration": 5,
    "start_time": "2022-03-10T11:48:23.148Z"
   },
   {
    "duration": 7,
    "start_time": "2022-03-10T11:48:23.154Z"
   },
   {
    "duration": 5,
    "start_time": "2022-03-10T11:48:23.163Z"
   },
   {
    "duration": 4,
    "start_time": "2022-03-10T11:48:23.207Z"
   },
   {
    "duration": 4,
    "start_time": "2022-03-10T11:48:23.214Z"
   },
   {
    "duration": 5,
    "start_time": "2022-03-10T11:48:23.220Z"
   },
   {
    "duration": 3,
    "start_time": "2022-03-10T11:48:23.226Z"
   },
   {
    "duration": 6,
    "start_time": "2022-03-10T11:48:23.230Z"
   },
   {
    "duration": 6,
    "start_time": "2022-03-10T11:48:23.237Z"
   },
   {
    "duration": 8,
    "start_time": "2022-03-10T11:48:23.245Z"
   },
   {
    "duration": 7,
    "start_time": "2022-03-10T11:48:23.254Z"
   },
   {
    "duration": 43,
    "start_time": "2022-03-10T11:48:23.263Z"
   },
   {
    "duration": 6,
    "start_time": "2022-03-10T11:48:23.307Z"
   },
   {
    "duration": 10,
    "start_time": "2022-03-10T11:48:23.314Z"
   },
   {
    "duration": 7,
    "start_time": "2022-03-10T11:48:23.326Z"
   },
   {
    "duration": 7,
    "start_time": "2022-03-10T11:48:23.335Z"
   },
   {
    "duration": 6,
    "start_time": "2022-03-10T11:48:23.344Z"
   },
   {
    "duration": 6,
    "start_time": "2022-03-10T11:48:23.351Z"
   },
   {
    "duration": 7,
    "start_time": "2022-03-10T11:48:23.359Z"
   },
   {
    "duration": 7,
    "start_time": "2022-03-10T11:48:23.367Z"
   },
   {
    "duration": 30,
    "start_time": "2022-03-10T11:48:23.376Z"
   },
   {
    "duration": 3,
    "start_time": "2022-03-10T11:48:23.407Z"
   },
   {
    "duration": 7,
    "start_time": "2022-03-10T11:48:23.412Z"
   },
   {
    "duration": 8,
    "start_time": "2022-03-10T11:48:23.420Z"
   },
   {
    "duration": 6,
    "start_time": "2022-03-10T11:48:23.430Z"
   },
   {
    "duration": 16,
    "start_time": "2022-03-10T11:48:23.438Z"
   },
   {
    "duration": 26,
    "start_time": "2022-03-10T11:48:23.456Z"
   },
   {
    "duration": 25,
    "start_time": "2022-03-10T11:48:23.483Z"
   },
   {
    "duration": 11,
    "start_time": "2022-03-10T11:48:23.509Z"
   },
   {
    "duration": 5,
    "start_time": "2022-03-10T11:48:23.522Z"
   },
   {
    "duration": 17,
    "start_time": "2022-03-10T11:48:23.529Z"
   },
   {
    "duration": 3,
    "start_time": "2022-03-10T11:48:23.547Z"
   },
   {
    "duration": 18,
    "start_time": "2022-03-10T11:48:23.552Z"
   },
   {
    "duration": 4,
    "start_time": "2022-03-10T11:48:23.571Z"
   },
   {
    "duration": 37,
    "start_time": "2022-03-10T11:48:23.576Z"
   },
   {
    "duration": 3,
    "start_time": "2022-03-10T11:48:23.615Z"
   },
   {
    "duration": 17,
    "start_time": "2022-03-10T11:48:23.619Z"
   },
   {
    "duration": 3,
    "start_time": "2022-03-10T11:48:23.638Z"
   },
   {
    "duration": 26,
    "start_time": "2022-03-10T11:48:23.643Z"
   },
   {
    "duration": 4,
    "start_time": "2022-03-10T11:48:23.671Z"
   },
   {
    "duration": 7,
    "start_time": "2022-03-10T11:48:23.677Z"
   },
   {
    "duration": 28,
    "start_time": "2022-03-10T11:48:23.686Z"
   },
   {
    "duration": 7,
    "start_time": "2022-03-10T11:48:23.716Z"
   },
   {
    "duration": 4,
    "start_time": "2022-03-10T11:48:23.725Z"
   },
   {
    "duration": 12,
    "start_time": "2022-03-10T11:48:23.731Z"
   },
   {
    "duration": 10,
    "start_time": "2022-03-10T11:48:23.744Z"
   },
   {
    "duration": 10,
    "start_time": "2022-03-10T11:48:23.755Z"
   },
   {
    "duration": 45,
    "start_time": "2022-03-10T11:48:23.766Z"
   },
   {
    "duration": 218,
    "start_time": "2022-03-10T11:48:23.815Z"
   },
   {
    "duration": 17,
    "start_time": "2022-03-10T11:48:24.035Z"
   },
   {
    "duration": 2,
    "start_time": "2022-03-10T11:48:24.053Z"
   },
   {
    "duration": 6,
    "start_time": "2022-03-10T11:48:24.056Z"
   },
   {
    "duration": 19,
    "start_time": "2022-03-10T11:48:24.063Z"
   },
   {
    "duration": 378,
    "start_time": "2022-03-10T11:48:24.084Z"
   },
   {
    "duration": 16,
    "start_time": "2022-03-10T11:51:03.408Z"
   },
   {
    "duration": 270,
    "start_time": "2022-03-10T11:52:57.384Z"
   },
   {
    "duration": 16,
    "start_time": "2022-03-10T11:55:07.131Z"
   },
   {
    "duration": 19,
    "start_time": "2022-03-10T11:56:37.527Z"
   },
   {
    "duration": 314,
    "start_time": "2022-03-10T11:57:04.132Z"
   },
   {
    "duration": 22,
    "start_time": "2022-03-10T11:59:13.668Z"
   },
   {
    "duration": 286,
    "start_time": "2022-03-10T11:59:41.258Z"
   },
   {
    "duration": 641,
    "start_time": "2022-03-10T11:59:51.898Z"
   },
   {
    "duration": 11,
    "start_time": "2022-03-10T11:59:52.541Z"
   },
   {
    "duration": 9,
    "start_time": "2022-03-10T11:59:52.554Z"
   },
   {
    "duration": 4,
    "start_time": "2022-03-10T11:59:52.565Z"
   },
   {
    "duration": 8,
    "start_time": "2022-03-10T11:59:52.570Z"
   },
   {
    "duration": 49,
    "start_time": "2022-03-10T11:59:52.605Z"
   },
   {
    "duration": 5,
    "start_time": "2022-03-10T11:59:52.656Z"
   },
   {
    "duration": 5,
    "start_time": "2022-03-10T11:59:52.663Z"
   },
   {
    "duration": 8,
    "start_time": "2022-03-10T11:59:52.669Z"
   },
   {
    "duration": 8,
    "start_time": "2022-03-10T11:59:52.678Z"
   },
   {
    "duration": 18,
    "start_time": "2022-03-10T11:59:52.688Z"
   },
   {
    "duration": 9,
    "start_time": "2022-03-10T11:59:52.708Z"
   },
   {
    "duration": 6,
    "start_time": "2022-03-10T11:59:52.718Z"
   },
   {
    "duration": 6,
    "start_time": "2022-03-10T11:59:52.725Z"
   },
   {
    "duration": 5,
    "start_time": "2022-03-10T11:59:52.733Z"
   },
   {
    "duration": 5,
    "start_time": "2022-03-10T11:59:52.740Z"
   },
   {
    "duration": 6,
    "start_time": "2022-03-10T11:59:52.746Z"
   },
   {
    "duration": 4,
    "start_time": "2022-03-10T11:59:52.756Z"
   },
   {
    "duration": 4,
    "start_time": "2022-03-10T11:59:52.805Z"
   },
   {
    "duration": 9,
    "start_time": "2022-03-10T11:59:52.810Z"
   },
   {
    "duration": 8,
    "start_time": "2022-03-10T11:59:52.820Z"
   },
   {
    "duration": 4,
    "start_time": "2022-03-10T11:59:52.830Z"
   },
   {
    "duration": 5,
    "start_time": "2022-03-10T11:59:52.835Z"
   },
   {
    "duration": 6,
    "start_time": "2022-03-10T11:59:52.841Z"
   },
   {
    "duration": 2,
    "start_time": "2022-03-10T11:59:52.849Z"
   },
   {
    "duration": 8,
    "start_time": "2022-03-10T11:59:52.852Z"
   },
   {
    "duration": 6,
    "start_time": "2022-03-10T11:59:52.862Z"
   },
   {
    "duration": 6,
    "start_time": "2022-03-10T11:59:52.869Z"
   },
   {
    "duration": 4,
    "start_time": "2022-03-10T11:59:52.904Z"
   },
   {
    "duration": 8,
    "start_time": "2022-03-10T11:59:52.909Z"
   },
   {
    "duration": 6,
    "start_time": "2022-03-10T11:59:52.918Z"
   },
   {
    "duration": 6,
    "start_time": "2022-03-10T11:59:52.925Z"
   },
   {
    "duration": 6,
    "start_time": "2022-03-10T11:59:52.933Z"
   },
   {
    "duration": 7,
    "start_time": "2022-03-10T11:59:52.940Z"
   },
   {
    "duration": 6,
    "start_time": "2022-03-10T11:59:52.949Z"
   },
   {
    "duration": 8,
    "start_time": "2022-03-10T11:59:52.956Z"
   },
   {
    "duration": 12,
    "start_time": "2022-03-10T11:59:52.965Z"
   },
   {
    "duration": 27,
    "start_time": "2022-03-10T11:59:52.978Z"
   },
   {
    "duration": 3,
    "start_time": "2022-03-10T11:59:53.007Z"
   },
   {
    "duration": 5,
    "start_time": "2022-03-10T11:59:53.011Z"
   },
   {
    "duration": 6,
    "start_time": "2022-03-10T11:59:53.018Z"
   },
   {
    "duration": 5,
    "start_time": "2022-03-10T11:59:53.025Z"
   },
   {
    "duration": 5,
    "start_time": "2022-03-10T11:59:53.031Z"
   },
   {
    "duration": 15,
    "start_time": "2022-03-10T11:59:53.038Z"
   },
   {
    "duration": 26,
    "start_time": "2022-03-10T11:59:53.055Z"
   },
   {
    "duration": 4,
    "start_time": "2022-03-10T11:59:53.105Z"
   },
   {
    "duration": 12,
    "start_time": "2022-03-10T11:59:53.110Z"
   },
   {
    "duration": 9,
    "start_time": "2022-03-10T11:59:53.123Z"
   },
   {
    "duration": 20,
    "start_time": "2022-03-10T11:59:53.134Z"
   },
   {
    "duration": 3,
    "start_time": "2022-03-10T11:59:53.155Z"
   },
   {
    "duration": 17,
    "start_time": "2022-03-10T11:59:53.159Z"
   },
   {
    "duration": 3,
    "start_time": "2022-03-10T11:59:53.177Z"
   },
   {
    "duration": 29,
    "start_time": "2022-03-10T11:59:53.181Z"
   },
   {
    "duration": 3,
    "start_time": "2022-03-10T11:59:53.215Z"
   },
   {
    "duration": 16,
    "start_time": "2022-03-10T11:59:53.220Z"
   },
   {
    "duration": 4,
    "start_time": "2022-03-10T11:59:53.238Z"
   },
   {
    "duration": 24,
    "start_time": "2022-03-10T11:59:53.244Z"
   },
   {
    "duration": 15,
    "start_time": "2022-03-10T11:59:53.269Z"
   },
   {
    "duration": 14,
    "start_time": "2022-03-10T11:59:53.285Z"
   },
   {
    "duration": 10,
    "start_time": "2022-03-10T11:59:53.305Z"
   },
   {
    "duration": 11,
    "start_time": "2022-03-10T11:59:53.316Z"
   },
   {
    "duration": 5,
    "start_time": "2022-03-10T11:59:53.329Z"
   },
   {
    "duration": 26,
    "start_time": "2022-03-10T11:59:53.336Z"
   },
   {
    "duration": 9,
    "start_time": "2022-03-10T11:59:53.364Z"
   },
   {
    "duration": 10,
    "start_time": "2022-03-10T11:59:53.375Z"
   },
   {
    "duration": 27,
    "start_time": "2022-03-10T11:59:53.386Z"
   },
   {
    "duration": 207,
    "start_time": "2022-03-10T11:59:53.414Z"
   },
   {
    "duration": 17,
    "start_time": "2022-03-10T11:59:53.622Z"
   },
   {
    "duration": 14,
    "start_time": "2022-03-10T11:59:53.640Z"
   },
   {
    "duration": 18,
    "start_time": "2022-03-10T11:59:53.655Z"
   },
   {
    "duration": 3,
    "start_time": "2022-03-10T11:59:53.675Z"
   },
   {
    "duration": 39,
    "start_time": "2022-03-10T11:59:53.679Z"
   },
   {
    "duration": 14,
    "start_time": "2022-03-10T11:59:53.720Z"
   },
   {
    "duration": 20,
    "start_time": "2022-03-10T12:01:28.874Z"
   },
   {
    "duration": 22,
    "start_time": "2022-03-10T12:01:38.243Z"
   },
   {
    "duration": 632,
    "start_time": "2022-03-10T12:01:47.558Z"
   },
   {
    "duration": 9,
    "start_time": "2022-03-10T12:01:48.192Z"
   },
   {
    "duration": 8,
    "start_time": "2022-03-10T12:01:48.203Z"
   },
   {
    "duration": 10,
    "start_time": "2022-03-10T12:01:48.213Z"
   },
   {
    "duration": 8,
    "start_time": "2022-03-10T12:01:48.224Z"
   },
   {
    "duration": 61,
    "start_time": "2022-03-10T12:01:48.234Z"
   },
   {
    "duration": 12,
    "start_time": "2022-03-10T12:01:48.297Z"
   },
   {
    "duration": 4,
    "start_time": "2022-03-10T12:01:48.311Z"
   },
   {
    "duration": 6,
    "start_time": "2022-03-10T12:01:48.318Z"
   },
   {
    "duration": 5,
    "start_time": "2022-03-10T12:01:48.325Z"
   },
   {
    "duration": 7,
    "start_time": "2022-03-10T12:01:48.332Z"
   },
   {
    "duration": 6,
    "start_time": "2022-03-10T12:01:48.340Z"
   },
   {
    "duration": 6,
    "start_time": "2022-03-10T12:01:48.347Z"
   },
   {
    "duration": 5,
    "start_time": "2022-03-10T12:01:48.355Z"
   },
   {
    "duration": 44,
    "start_time": "2022-03-10T12:01:48.361Z"
   },
   {
    "duration": 6,
    "start_time": "2022-03-10T12:01:48.407Z"
   },
   {
    "duration": 5,
    "start_time": "2022-03-10T12:01:48.415Z"
   },
   {
    "duration": 8,
    "start_time": "2022-03-10T12:01:48.422Z"
   },
   {
    "duration": 29,
    "start_time": "2022-03-10T12:01:48.432Z"
   },
   {
    "duration": 14,
    "start_time": "2022-03-10T12:01:48.462Z"
   },
   {
    "duration": 8,
    "start_time": "2022-03-10T12:01:48.478Z"
   },
   {
    "duration": 5,
    "start_time": "2022-03-10T12:01:48.488Z"
   },
   {
    "duration": 5,
    "start_time": "2022-03-10T12:01:48.495Z"
   },
   {
    "duration": 21,
    "start_time": "2022-03-10T12:01:48.501Z"
   },
   {
    "duration": 3,
    "start_time": "2022-03-10T12:01:48.524Z"
   },
   {
    "duration": 6,
    "start_time": "2022-03-10T12:01:48.529Z"
   },
   {
    "duration": 5,
    "start_time": "2022-03-10T12:01:48.539Z"
   },
   {
    "duration": 6,
    "start_time": "2022-03-10T12:01:48.547Z"
   },
   {
    "duration": 8,
    "start_time": "2022-03-10T12:01:48.554Z"
   },
   {
    "duration": 21,
    "start_time": "2022-03-10T12:01:48.564Z"
   },
   {
    "duration": 6,
    "start_time": "2022-03-10T12:01:48.587Z"
   },
   {
    "duration": 15,
    "start_time": "2022-03-10T12:01:48.594Z"
   },
   {
    "duration": 5,
    "start_time": "2022-03-10T12:01:48.611Z"
   },
   {
    "duration": 11,
    "start_time": "2022-03-10T12:01:48.618Z"
   },
   {
    "duration": 9,
    "start_time": "2022-03-10T12:01:48.630Z"
   },
   {
    "duration": 8,
    "start_time": "2022-03-10T12:01:48.641Z"
   },
   {
    "duration": 6,
    "start_time": "2022-03-10T12:01:48.650Z"
   },
   {
    "duration": 13,
    "start_time": "2022-03-10T12:01:48.657Z"
   },
   {
    "duration": 7,
    "start_time": "2022-03-10T12:01:48.671Z"
   },
   {
    "duration": 5,
    "start_time": "2022-03-10T12:01:48.679Z"
   },
   {
    "duration": 24,
    "start_time": "2022-03-10T12:01:48.686Z"
   },
   {
    "duration": 5,
    "start_time": "2022-03-10T12:01:48.711Z"
   },
   {
    "duration": 6,
    "start_time": "2022-03-10T12:01:48.718Z"
   },
   {
    "duration": 16,
    "start_time": "2022-03-10T12:01:48.726Z"
   },
   {
    "duration": 27,
    "start_time": "2022-03-10T12:01:48.743Z"
   },
   {
    "duration": 4,
    "start_time": "2022-03-10T12:01:48.772Z"
   },
   {
    "duration": 10,
    "start_time": "2022-03-10T12:01:48.805Z"
   },
   {
    "duration": 9,
    "start_time": "2022-03-10T12:01:48.817Z"
   },
   {
    "duration": 17,
    "start_time": "2022-03-10T12:01:48.827Z"
   },
   {
    "duration": 3,
    "start_time": "2022-03-10T12:01:48.846Z"
   },
   {
    "duration": 31,
    "start_time": "2022-03-10T12:01:48.851Z"
   },
   {
    "duration": 7,
    "start_time": "2022-03-10T12:01:48.884Z"
   },
   {
    "duration": 13,
    "start_time": "2022-03-10T12:01:48.893Z"
   },
   {
    "duration": 4,
    "start_time": "2022-03-10T12:01:48.907Z"
   },
   {
    "duration": 25,
    "start_time": "2022-03-10T12:01:48.913Z"
   },
   {
    "duration": 4,
    "start_time": "2022-03-10T12:01:48.939Z"
   },
   {
    "duration": 26,
    "start_time": "2022-03-10T12:01:48.945Z"
   },
   {
    "duration": 5,
    "start_time": "2022-03-10T12:01:48.972Z"
   },
   {
    "duration": 7,
    "start_time": "2022-03-10T12:01:48.978Z"
   },
   {
    "duration": 29,
    "start_time": "2022-03-10T12:01:48.986Z"
   },
   {
    "duration": 9,
    "start_time": "2022-03-10T12:01:49.016Z"
   },
   {
    "duration": 5,
    "start_time": "2022-03-10T12:01:49.027Z"
   },
   {
    "duration": 13,
    "start_time": "2022-03-10T12:01:49.033Z"
   },
   {
    "duration": 9,
    "start_time": "2022-03-10T12:01:49.047Z"
   },
   {
    "duration": 11,
    "start_time": "2022-03-10T12:01:49.057Z"
   },
   {
    "duration": 44,
    "start_time": "2022-03-10T12:01:49.070Z"
   },
   {
    "duration": 237,
    "start_time": "2022-03-10T12:01:49.116Z"
   },
   {
    "duration": 18,
    "start_time": "2022-03-10T12:01:49.355Z"
   },
   {
    "duration": 31,
    "start_time": "2022-03-10T12:01:49.375Z"
   },
   {
    "duration": 358,
    "start_time": "2022-03-10T12:01:49.408Z"
   },
   {
    "duration": 581,
    "start_time": "2022-03-10T12:01:49.187Z"
   },
   {
    "duration": 580,
    "start_time": "2022-03-10T12:01:49.189Z"
   },
   {
    "duration": 579,
    "start_time": "2022-03-10T12:01:49.191Z"
   },
   {
    "duration": 682,
    "start_time": "2022-03-10T12:02:03.870Z"
   },
   {
    "duration": 10,
    "start_time": "2022-03-10T12:02:04.555Z"
   },
   {
    "duration": 11,
    "start_time": "2022-03-10T12:02:04.567Z"
   },
   {
    "duration": 5,
    "start_time": "2022-03-10T12:02:04.579Z"
   },
   {
    "duration": 5,
    "start_time": "2022-03-10T12:02:04.606Z"
   },
   {
    "duration": 59,
    "start_time": "2022-03-10T12:02:04.613Z"
   },
   {
    "duration": 6,
    "start_time": "2022-03-10T12:02:04.674Z"
   },
   {
    "duration": 25,
    "start_time": "2022-03-10T12:02:04.681Z"
   },
   {
    "duration": 6,
    "start_time": "2022-03-10T12:02:04.709Z"
   },
   {
    "duration": 4,
    "start_time": "2022-03-10T12:02:04.718Z"
   },
   {
    "duration": 9,
    "start_time": "2022-03-10T12:02:04.723Z"
   },
   {
    "duration": 7,
    "start_time": "2022-03-10T12:02:04.733Z"
   },
   {
    "duration": 6,
    "start_time": "2022-03-10T12:02:04.742Z"
   },
   {
    "duration": 8,
    "start_time": "2022-03-10T12:02:04.750Z"
   },
   {
    "duration": 5,
    "start_time": "2022-03-10T12:02:04.760Z"
   },
   {
    "duration": 6,
    "start_time": "2022-03-10T12:02:04.767Z"
   },
   {
    "duration": 5,
    "start_time": "2022-03-10T12:02:04.806Z"
   },
   {
    "duration": 10,
    "start_time": "2022-03-10T12:02:04.812Z"
   },
   {
    "duration": 5,
    "start_time": "2022-03-10T12:02:04.823Z"
   },
   {
    "duration": 5,
    "start_time": "2022-03-10T12:02:04.830Z"
   },
   {
    "duration": 8,
    "start_time": "2022-03-10T12:02:04.836Z"
   },
   {
    "duration": 7,
    "start_time": "2022-03-10T12:02:04.845Z"
   },
   {
    "duration": 10,
    "start_time": "2022-03-10T12:02:04.853Z"
   },
   {
    "duration": 9,
    "start_time": "2022-03-10T12:02:04.864Z"
   },
   {
    "duration": 8,
    "start_time": "2022-03-10T12:02:04.874Z"
   },
   {
    "duration": 4,
    "start_time": "2022-03-10T12:02:04.905Z"
   },
   {
    "duration": 10,
    "start_time": "2022-03-10T12:02:04.913Z"
   },
   {
    "duration": 7,
    "start_time": "2022-03-10T12:02:04.925Z"
   },
   {
    "duration": 5,
    "start_time": "2022-03-10T12:02:04.934Z"
   },
   {
    "duration": 6,
    "start_time": "2022-03-10T12:02:04.940Z"
   },
   {
    "duration": 7,
    "start_time": "2022-03-10T12:02:04.948Z"
   },
   {
    "duration": 4,
    "start_time": "2022-03-10T12:02:04.956Z"
   },
   {
    "duration": 6,
    "start_time": "2022-03-10T12:02:04.962Z"
   },
   {
    "duration": 36,
    "start_time": "2022-03-10T12:02:04.970Z"
   },
   {
    "duration": 9,
    "start_time": "2022-03-10T12:02:05.008Z"
   },
   {
    "duration": 8,
    "start_time": "2022-03-10T12:02:05.019Z"
   },
   {
    "duration": 5,
    "start_time": "2022-03-10T12:02:05.029Z"
   },
   {
    "duration": 11,
    "start_time": "2022-03-10T12:02:05.036Z"
   },
   {
    "duration": 9,
    "start_time": "2022-03-10T12:02:05.048Z"
   },
   {
    "duration": 8,
    "start_time": "2022-03-10T12:02:05.058Z"
   },
   {
    "duration": 8,
    "start_time": "2022-03-10T12:02:05.067Z"
   },
   {
    "duration": 29,
    "start_time": "2022-03-10T12:02:05.076Z"
   },
   {
    "duration": 4,
    "start_time": "2022-03-10T12:02:05.106Z"
   },
   {
    "duration": 18,
    "start_time": "2022-03-10T12:02:05.112Z"
   },
   {
    "duration": 29,
    "start_time": "2022-03-10T12:02:05.132Z"
   },
   {
    "duration": 4,
    "start_time": "2022-03-10T12:02:05.163Z"
   },
   {
    "duration": 37,
    "start_time": "2022-03-10T12:02:05.168Z"
   },
   {
    "duration": 6,
    "start_time": "2022-03-10T12:02:05.207Z"
   },
   {
    "duration": 22,
    "start_time": "2022-03-10T12:02:05.214Z"
   },
   {
    "duration": 3,
    "start_time": "2022-03-10T12:02:05.238Z"
   },
   {
    "duration": 22,
    "start_time": "2022-03-10T12:02:05.243Z"
   },
   {
    "duration": 2,
    "start_time": "2022-03-10T12:02:05.267Z"
   },
   {
    "duration": 11,
    "start_time": "2022-03-10T12:02:05.271Z"
   },
   {
    "duration": 24,
    "start_time": "2022-03-10T12:02:05.284Z"
   },
   {
    "duration": 22,
    "start_time": "2022-03-10T12:02:05.310Z"
   },
   {
    "duration": 10,
    "start_time": "2022-03-10T12:02:05.334Z"
   },
   {
    "duration": 32,
    "start_time": "2022-03-10T12:02:05.346Z"
   },
   {
    "duration": 6,
    "start_time": "2022-03-10T12:02:05.380Z"
   },
   {
    "duration": 19,
    "start_time": "2022-03-10T12:02:05.387Z"
   },
   {
    "duration": 17,
    "start_time": "2022-03-10T12:02:05.407Z"
   },
   {
    "duration": 13,
    "start_time": "2022-03-10T12:02:05.426Z"
   },
   {
    "duration": 11,
    "start_time": "2022-03-10T12:02:05.441Z"
   },
   {
    "duration": 16,
    "start_time": "2022-03-10T12:02:05.454Z"
   },
   {
    "duration": 13,
    "start_time": "2022-03-10T12:02:05.472Z"
   },
   {
    "duration": 27,
    "start_time": "2022-03-10T12:02:05.487Z"
   },
   {
    "duration": 19,
    "start_time": "2022-03-10T12:02:05.516Z"
   },
   {
    "duration": 236,
    "start_time": "2022-03-10T12:02:05.537Z"
   },
   {
    "duration": 19,
    "start_time": "2022-03-10T12:02:05.774Z"
   },
   {
    "duration": 16,
    "start_time": "2022-03-10T12:02:05.805Z"
   },
   {
    "duration": 20,
    "start_time": "2022-03-10T12:02:05.823Z"
   },
   {
    "duration": 3,
    "start_time": "2022-03-10T12:02:05.844Z"
   },
   {
    "duration": 19,
    "start_time": "2022-03-10T12:02:05.848Z"
   },
   {
    "duration": 37,
    "start_time": "2022-03-10T12:02:05.869Z"
   },
   {
    "duration": 13,
    "start_time": "2022-03-10T12:03:27.288Z"
   },
   {
    "duration": 24,
    "start_time": "2022-03-10T12:04:15.141Z"
   },
   {
    "duration": 694,
    "start_time": "2022-03-10T12:04:19.503Z"
   },
   {
    "duration": 10,
    "start_time": "2022-03-10T12:04:20.199Z"
   },
   {
    "duration": 12,
    "start_time": "2022-03-10T12:04:20.211Z"
   },
   {
    "duration": 4,
    "start_time": "2022-03-10T12:04:20.225Z"
   },
   {
    "duration": 9,
    "start_time": "2022-03-10T12:04:20.230Z"
   },
   {
    "duration": 70,
    "start_time": "2022-03-10T12:04:20.241Z"
   },
   {
    "duration": 6,
    "start_time": "2022-03-10T12:04:20.314Z"
   },
   {
    "duration": 6,
    "start_time": "2022-03-10T12:04:20.322Z"
   },
   {
    "duration": 6,
    "start_time": "2022-03-10T12:04:20.330Z"
   },
   {
    "duration": 7,
    "start_time": "2022-03-10T12:04:20.338Z"
   },
   {
    "duration": 10,
    "start_time": "2022-03-10T12:04:20.347Z"
   },
   {
    "duration": 8,
    "start_time": "2022-03-10T12:04:20.359Z"
   },
   {
    "duration": 5,
    "start_time": "2022-03-10T12:04:20.368Z"
   },
   {
    "duration": 31,
    "start_time": "2022-03-10T12:04:20.374Z"
   },
   {
    "duration": 6,
    "start_time": "2022-03-10T12:04:20.407Z"
   },
   {
    "duration": 7,
    "start_time": "2022-03-10T12:04:20.415Z"
   },
   {
    "duration": 6,
    "start_time": "2022-03-10T12:04:20.424Z"
   },
   {
    "duration": 6,
    "start_time": "2022-03-10T12:04:20.431Z"
   },
   {
    "duration": 5,
    "start_time": "2022-03-10T12:04:20.439Z"
   },
   {
    "duration": 5,
    "start_time": "2022-03-10T12:04:20.446Z"
   },
   {
    "duration": 8,
    "start_time": "2022-03-10T12:04:20.453Z"
   },
   {
    "duration": 5,
    "start_time": "2022-03-10T12:04:20.506Z"
   },
   {
    "duration": 6,
    "start_time": "2022-03-10T12:04:20.513Z"
   },
   {
    "duration": 6,
    "start_time": "2022-03-10T12:04:20.521Z"
   },
   {
    "duration": 3,
    "start_time": "2022-03-10T12:04:20.528Z"
   },
   {
    "duration": 17,
    "start_time": "2022-03-10T12:04:20.532Z"
   },
   {
    "duration": 7,
    "start_time": "2022-03-10T12:04:20.551Z"
   },
   {
    "duration": 11,
    "start_time": "2022-03-10T12:04:20.560Z"
   },
   {
    "duration": 5,
    "start_time": "2022-03-10T12:04:20.573Z"
   },
   {
    "duration": 27,
    "start_time": "2022-03-10T12:04:20.579Z"
   },
   {
    "duration": 6,
    "start_time": "2022-03-10T12:04:20.608Z"
   },
   {
    "duration": 17,
    "start_time": "2022-03-10T12:04:20.616Z"
   },
   {
    "duration": 9,
    "start_time": "2022-03-10T12:04:20.634Z"
   },
   {
    "duration": 14,
    "start_time": "2022-03-10T12:04:20.645Z"
   },
   {
    "duration": 9,
    "start_time": "2022-03-10T12:04:20.661Z"
   },
   {
    "duration": 6,
    "start_time": "2022-03-10T12:04:20.672Z"
   },
   {
    "duration": 8,
    "start_time": "2022-03-10T12:04:20.679Z"
   },
   {
    "duration": 16,
    "start_time": "2022-03-10T12:04:20.689Z"
   },
   {
    "duration": 6,
    "start_time": "2022-03-10T12:04:20.707Z"
   },
   {
    "duration": 18,
    "start_time": "2022-03-10T12:04:20.715Z"
   },
   {
    "duration": 6,
    "start_time": "2022-03-10T12:04:20.736Z"
   },
   {
    "duration": 12,
    "start_time": "2022-03-10T12:04:20.743Z"
   },
   {
    "duration": 12,
    "start_time": "2022-03-10T12:04:20.756Z"
   },
   {
    "duration": 17,
    "start_time": "2022-03-10T12:04:20.770Z"
   },
   {
    "duration": 42,
    "start_time": "2022-03-10T12:04:20.788Z"
   },
   {
    "duration": 5,
    "start_time": "2022-03-10T12:04:20.832Z"
   },
   {
    "duration": 16,
    "start_time": "2022-03-10T12:04:20.838Z"
   },
   {
    "duration": 13,
    "start_time": "2022-03-10T12:04:20.856Z"
   },
   {
    "duration": 21,
    "start_time": "2022-03-10T12:04:20.870Z"
   },
   {
    "duration": 5,
    "start_time": "2022-03-10T12:04:20.893Z"
   },
   {
    "duration": 22,
    "start_time": "2022-03-10T12:04:20.900Z"
   },
   {
    "duration": 5,
    "start_time": "2022-03-10T12:04:20.924Z"
   },
   {
    "duration": 13,
    "start_time": "2022-03-10T12:04:20.930Z"
   },
   {
    "duration": 4,
    "start_time": "2022-03-10T12:04:20.945Z"
   },
   {
    "duration": 15,
    "start_time": "2022-03-10T12:04:20.950Z"
   },
   {
    "duration": 4,
    "start_time": "2022-03-10T12:04:20.966Z"
   },
   {
    "duration": 42,
    "start_time": "2022-03-10T12:04:20.971Z"
   },
   {
    "duration": 5,
    "start_time": "2022-03-10T12:04:21.014Z"
   },
   {
    "duration": 6,
    "start_time": "2022-03-10T12:04:21.020Z"
   },
   {
    "duration": 13,
    "start_time": "2022-03-10T12:04:21.027Z"
   },
   {
    "duration": 9,
    "start_time": "2022-03-10T12:04:21.042Z"
   },
   {
    "duration": 7,
    "start_time": "2022-03-10T12:04:21.052Z"
   },
   {
    "duration": 52,
    "start_time": "2022-03-10T12:04:21.061Z"
   },
   {
    "duration": 10,
    "start_time": "2022-03-10T12:04:21.114Z"
   },
   {
    "duration": 10,
    "start_time": "2022-03-10T12:04:21.126Z"
   },
   {
    "duration": 17,
    "start_time": "2022-03-10T12:04:21.137Z"
   },
   {
    "duration": 248,
    "start_time": "2022-03-10T12:04:21.159Z"
   },
   {
    "duration": 17,
    "start_time": "2022-03-10T12:04:21.409Z"
   },
   {
    "duration": 23,
    "start_time": "2022-03-10T12:04:21.428Z"
   },
   {
    "duration": 23,
    "start_time": "2022-03-10T12:04:21.453Z"
   },
   {
    "duration": 12,
    "start_time": "2022-03-10T12:04:21.478Z"
   },
   {
    "duration": 13,
    "start_time": "2022-03-10T12:04:21.505Z"
   },
   {
    "duration": 14,
    "start_time": "2022-03-10T12:04:21.519Z"
   },
   {
    "duration": 659,
    "start_time": "2022-03-10T12:04:50.194Z"
   },
   {
    "duration": 10,
    "start_time": "2022-03-10T12:04:50.855Z"
   },
   {
    "duration": 8,
    "start_time": "2022-03-10T12:04:50.867Z"
   },
   {
    "duration": 3,
    "start_time": "2022-03-10T12:04:50.877Z"
   },
   {
    "duration": 9,
    "start_time": "2022-03-10T12:04:50.882Z"
   },
   {
    "duration": 64,
    "start_time": "2022-03-10T12:04:50.892Z"
   },
   {
    "duration": 5,
    "start_time": "2022-03-10T12:04:50.958Z"
   },
   {
    "duration": 4,
    "start_time": "2022-03-10T12:04:50.965Z"
   },
   {
    "duration": 4,
    "start_time": "2022-03-10T12:04:50.972Z"
   },
   {
    "duration": 6,
    "start_time": "2022-03-10T12:04:50.978Z"
   },
   {
    "duration": 5,
    "start_time": "2022-03-10T12:04:51.005Z"
   },
   {
    "duration": 9,
    "start_time": "2022-03-10T12:04:51.011Z"
   },
   {
    "duration": 5,
    "start_time": "2022-03-10T12:04:51.021Z"
   },
   {
    "duration": 5,
    "start_time": "2022-03-10T12:04:51.028Z"
   },
   {
    "duration": 4,
    "start_time": "2022-03-10T12:04:51.035Z"
   },
   {
    "duration": 9,
    "start_time": "2022-03-10T12:04:51.040Z"
   },
   {
    "duration": 6,
    "start_time": "2022-03-10T12:04:51.050Z"
   },
   {
    "duration": 5,
    "start_time": "2022-03-10T12:04:51.058Z"
   },
   {
    "duration": 5,
    "start_time": "2022-03-10T12:04:51.065Z"
   },
   {
    "duration": 35,
    "start_time": "2022-03-10T12:04:51.071Z"
   },
   {
    "duration": 8,
    "start_time": "2022-03-10T12:04:51.108Z"
   },
   {
    "duration": 6,
    "start_time": "2022-03-10T12:04:51.118Z"
   },
   {
    "duration": 6,
    "start_time": "2022-03-10T12:04:51.125Z"
   },
   {
    "duration": 6,
    "start_time": "2022-03-10T12:04:51.133Z"
   },
   {
    "duration": 3,
    "start_time": "2022-03-10T12:04:51.140Z"
   },
   {
    "duration": 7,
    "start_time": "2022-03-10T12:04:51.144Z"
   },
   {
    "duration": 5,
    "start_time": "2022-03-10T12:04:51.154Z"
   },
   {
    "duration": 5,
    "start_time": "2022-03-10T12:04:51.161Z"
   },
   {
    "duration": 4,
    "start_time": "2022-03-10T12:04:51.168Z"
   },
   {
    "duration": 35,
    "start_time": "2022-03-10T12:04:51.174Z"
   },
   {
    "duration": 6,
    "start_time": "2022-03-10T12:04:51.210Z"
   },
   {
    "duration": 4,
    "start_time": "2022-03-10T12:04:51.218Z"
   },
   {
    "duration": 6,
    "start_time": "2022-03-10T12:04:51.223Z"
   },
   {
    "duration": 9,
    "start_time": "2022-03-10T12:04:51.230Z"
   },
   {
    "duration": 10,
    "start_time": "2022-03-10T12:04:51.240Z"
   },
   {
    "duration": 5,
    "start_time": "2022-03-10T12:04:51.251Z"
   },
   {
    "duration": 9,
    "start_time": "2022-03-10T12:04:51.258Z"
   },
   {
    "duration": 6,
    "start_time": "2022-03-10T12:04:51.268Z"
   },
   {
    "duration": 4,
    "start_time": "2022-03-10T12:04:51.275Z"
   },
   {
    "duration": 25,
    "start_time": "2022-03-10T12:04:51.281Z"
   },
   {
    "duration": 7,
    "start_time": "2022-03-10T12:04:51.308Z"
   },
   {
    "duration": 8,
    "start_time": "2022-03-10T12:04:51.316Z"
   },
   {
    "duration": 8,
    "start_time": "2022-03-10T12:04:51.325Z"
   },
   {
    "duration": 17,
    "start_time": "2022-03-10T12:04:51.335Z"
   },
   {
    "duration": 27,
    "start_time": "2022-03-10T12:04:51.353Z"
   },
   {
    "duration": 4,
    "start_time": "2022-03-10T12:04:51.381Z"
   },
   {
    "duration": 28,
    "start_time": "2022-03-10T12:04:51.386Z"
   },
   {
    "duration": 11,
    "start_time": "2022-03-10T12:04:51.416Z"
   },
   {
    "duration": 18,
    "start_time": "2022-03-10T12:04:51.428Z"
   },
   {
    "duration": 3,
    "start_time": "2022-03-10T12:04:51.448Z"
   },
   {
    "duration": 17,
    "start_time": "2022-03-10T12:04:51.452Z"
   },
   {
    "duration": 4,
    "start_time": "2022-03-10T12:04:51.471Z"
   },
   {
    "duration": 30,
    "start_time": "2022-03-10T12:04:51.476Z"
   },
   {
    "duration": 5,
    "start_time": "2022-03-10T12:04:51.507Z"
   },
   {
    "duration": 16,
    "start_time": "2022-03-10T12:04:51.513Z"
   },
   {
    "duration": 4,
    "start_time": "2022-03-10T12:04:51.530Z"
   },
   {
    "duration": 24,
    "start_time": "2022-03-10T12:04:51.536Z"
   },
   {
    "duration": 4,
    "start_time": "2022-03-10T12:04:51.561Z"
   },
   {
    "duration": 5,
    "start_time": "2022-03-10T12:04:51.567Z"
   },
   {
    "duration": 36,
    "start_time": "2022-03-10T12:04:51.573Z"
   },
   {
    "duration": 9,
    "start_time": "2022-03-10T12:04:51.611Z"
   },
   {
    "duration": 6,
    "start_time": "2022-03-10T12:04:51.622Z"
   },
   {
    "duration": 21,
    "start_time": "2022-03-10T12:04:51.629Z"
   },
   {
    "duration": 10,
    "start_time": "2022-03-10T12:04:51.651Z"
   },
   {
    "duration": 10,
    "start_time": "2022-03-10T12:04:51.662Z"
   },
   {
    "duration": 34,
    "start_time": "2022-03-10T12:04:51.673Z"
   },
   {
    "duration": 210,
    "start_time": "2022-03-10T12:04:51.709Z"
   },
   {
    "duration": 16,
    "start_time": "2022-03-10T12:04:51.921Z"
   },
   {
    "duration": 14,
    "start_time": "2022-03-10T12:04:51.939Z"
   },
   {
    "duration": 6187,
    "start_time": "2022-03-10T12:04:51.955Z"
   },
   {
    "duration": 517,
    "start_time": "2022-03-10T12:04:57.627Z"
   },
   {
    "duration": 516,
    "start_time": "2022-03-10T12:04:57.629Z"
   },
   {
    "duration": 511,
    "start_time": "2022-03-10T12:04:57.635Z"
   },
   {
    "duration": 622,
    "start_time": "2022-03-10T12:16:09.908Z"
   },
   {
    "duration": 9,
    "start_time": "2022-03-10T12:16:10.532Z"
   },
   {
    "duration": 8,
    "start_time": "2022-03-10T12:16:10.543Z"
   },
   {
    "duration": 10,
    "start_time": "2022-03-10T12:16:10.553Z"
   },
   {
    "duration": 7,
    "start_time": "2022-03-10T12:16:10.564Z"
   },
   {
    "duration": 69,
    "start_time": "2022-03-10T12:16:10.572Z"
   },
   {
    "duration": 5,
    "start_time": "2022-03-10T12:16:10.643Z"
   },
   {
    "duration": 10,
    "start_time": "2022-03-10T12:16:10.650Z"
   },
   {
    "duration": 8,
    "start_time": "2022-03-10T12:16:10.663Z"
   },
   {
    "duration": 2,
    "start_time": "2022-03-10T12:16:10.673Z"
   },
   {
    "duration": 7,
    "start_time": "2022-03-10T12:16:10.677Z"
   },
   {
    "duration": 6,
    "start_time": "2022-03-10T12:16:10.685Z"
   },
   {
    "duration": 16,
    "start_time": "2022-03-10T12:16:10.692Z"
   },
   {
    "duration": 7,
    "start_time": "2022-03-10T12:16:10.709Z"
   },
   {
    "duration": 4,
    "start_time": "2022-03-10T12:16:10.717Z"
   },
   {
    "duration": 5,
    "start_time": "2022-03-10T12:16:10.724Z"
   },
   {
    "duration": 5,
    "start_time": "2022-03-10T12:16:10.731Z"
   },
   {
    "duration": 5,
    "start_time": "2022-03-10T12:16:10.738Z"
   },
   {
    "duration": 7,
    "start_time": "2022-03-10T12:16:10.745Z"
   },
   {
    "duration": 5,
    "start_time": "2022-03-10T12:16:10.753Z"
   },
   {
    "duration": 46,
    "start_time": "2022-03-10T12:16:10.760Z"
   },
   {
    "duration": 5,
    "start_time": "2022-03-10T12:16:10.808Z"
   },
   {
    "duration": 6,
    "start_time": "2022-03-10T12:16:10.815Z"
   },
   {
    "duration": 6,
    "start_time": "2022-03-10T12:16:10.822Z"
   },
   {
    "duration": 2,
    "start_time": "2022-03-10T12:16:10.830Z"
   },
   {
    "duration": 5,
    "start_time": "2022-03-10T12:16:10.834Z"
   },
   {
    "duration": 4,
    "start_time": "2022-03-10T12:16:10.843Z"
   },
   {
    "duration": 10,
    "start_time": "2022-03-10T12:16:10.848Z"
   },
   {
    "duration": 46,
    "start_time": "2022-03-10T12:16:10.859Z"
   },
   {
    "duration": 5,
    "start_time": "2022-03-10T12:16:10.907Z"
   },
   {
    "duration": 9,
    "start_time": "2022-03-10T12:16:10.914Z"
   },
   {
    "duration": 6,
    "start_time": "2022-03-10T12:16:10.924Z"
   },
   {
    "duration": 7,
    "start_time": "2022-03-10T12:16:10.932Z"
   },
   {
    "duration": 4,
    "start_time": "2022-03-10T12:16:10.941Z"
   },
   {
    "duration": 6,
    "start_time": "2022-03-10T12:16:10.947Z"
   },
   {
    "duration": 7,
    "start_time": "2022-03-10T12:16:10.954Z"
   },
   {
    "duration": 4,
    "start_time": "2022-03-10T12:16:10.962Z"
   },
   {
    "duration": 41,
    "start_time": "2022-03-10T12:16:10.967Z"
   },
   {
    "duration": 586,
    "start_time": "2022-03-10T12:16:55.967Z"
   },
   {
    "duration": 9,
    "start_time": "2022-03-10T12:16:56.555Z"
   },
   {
    "duration": 8,
    "start_time": "2022-03-10T12:16:56.566Z"
   },
   {
    "duration": 9,
    "start_time": "2022-03-10T12:16:56.575Z"
   },
   {
    "duration": 7,
    "start_time": "2022-03-10T12:16:56.585Z"
   },
   {
    "duration": 62,
    "start_time": "2022-03-10T12:16:56.594Z"
   },
   {
    "duration": 5,
    "start_time": "2022-03-10T12:16:56.658Z"
   },
   {
    "duration": 5,
    "start_time": "2022-03-10T12:16:56.665Z"
   },
   {
    "duration": 4,
    "start_time": "2022-03-10T12:16:56.672Z"
   },
   {
    "duration": 4,
    "start_time": "2022-03-10T12:16:56.678Z"
   },
   {
    "duration": 28,
    "start_time": "2022-03-10T12:16:56.684Z"
   },
   {
    "duration": 5,
    "start_time": "2022-03-10T12:16:56.713Z"
   },
   {
    "duration": 5,
    "start_time": "2022-03-10T12:16:56.719Z"
   },
   {
    "duration": 7,
    "start_time": "2022-03-10T12:16:56.725Z"
   },
   {
    "duration": 8,
    "start_time": "2022-03-10T12:16:56.733Z"
   },
   {
    "duration": 5,
    "start_time": "2022-03-10T12:16:56.742Z"
   },
   {
    "duration": 5,
    "start_time": "2022-03-10T12:16:56.748Z"
   },
   {
    "duration": 5,
    "start_time": "2022-03-10T12:16:56.754Z"
   },
   {
    "duration": 6,
    "start_time": "2022-03-10T12:16:56.760Z"
   },
   {
    "duration": 39,
    "start_time": "2022-03-10T12:16:56.767Z"
   },
   {
    "duration": 4,
    "start_time": "2022-03-10T12:16:56.808Z"
   },
   {
    "duration": 5,
    "start_time": "2022-03-10T12:16:56.814Z"
   },
   {
    "duration": 4,
    "start_time": "2022-03-10T12:16:56.822Z"
   },
   {
    "duration": 6,
    "start_time": "2022-03-10T12:16:56.827Z"
   },
   {
    "duration": 6,
    "start_time": "2022-03-10T12:16:56.834Z"
   },
   {
    "duration": 7,
    "start_time": "2022-03-10T12:16:56.842Z"
   },
   {
    "duration": 5,
    "start_time": "2022-03-10T12:16:56.851Z"
   },
   {
    "duration": 6,
    "start_time": "2022-03-10T12:16:56.858Z"
   },
   {
    "duration": 6,
    "start_time": "2022-03-10T12:16:56.865Z"
   },
   {
    "duration": 5,
    "start_time": "2022-03-10T12:16:57.041Z"
   },
   {
    "duration": 16,
    "start_time": "2022-03-10T12:16:57.048Z"
   },
   {
    "duration": 16,
    "start_time": "2022-03-10T12:16:57.066Z"
   },
   {
    "duration": 6,
    "start_time": "2022-03-10T12:16:57.083Z"
   },
   {
    "duration": 20,
    "start_time": "2022-03-10T12:16:57.091Z"
   },
   {
    "duration": 13,
    "start_time": "2022-03-10T12:16:57.112Z"
   },
   {
    "duration": 10,
    "start_time": "2022-03-10T12:16:57.126Z"
   },
   {
    "duration": 20,
    "start_time": "2022-03-10T12:16:57.137Z"
   },
   {
    "duration": 16,
    "start_time": "2022-03-10T12:16:57.159Z"
   },
   {
    "duration": 10,
    "start_time": "2022-03-10T12:16:57.177Z"
   },
   {
    "duration": 15,
    "start_time": "2022-03-10T12:16:57.189Z"
   },
   {
    "duration": 18,
    "start_time": "2022-03-10T12:16:57.205Z"
   },
   {
    "duration": 25,
    "start_time": "2022-03-10T12:16:57.224Z"
   },
   {
    "duration": 16,
    "start_time": "2022-03-10T12:16:57.250Z"
   },
   {
    "duration": 26,
    "start_time": "2022-03-10T12:16:57.267Z"
   },
   {
    "duration": 27,
    "start_time": "2022-03-10T12:16:57.295Z"
   },
   {
    "duration": 5,
    "start_time": "2022-03-10T12:16:57.323Z"
   },
   {
    "duration": 12,
    "start_time": "2022-03-10T12:16:57.330Z"
   },
   {
    "duration": 10,
    "start_time": "2022-03-10T12:16:57.343Z"
   },
   {
    "duration": 20,
    "start_time": "2022-03-10T12:16:57.355Z"
   },
   {
    "duration": 4,
    "start_time": "2022-03-10T12:16:57.376Z"
   },
   {
    "duration": 34,
    "start_time": "2022-03-10T12:16:57.382Z"
   },
   {
    "duration": 4,
    "start_time": "2022-03-10T12:16:57.418Z"
   },
   {
    "duration": 12,
    "start_time": "2022-03-10T12:16:57.423Z"
   },
   {
    "duration": 4,
    "start_time": "2022-03-10T12:16:57.436Z"
   },
   {
    "duration": 18,
    "start_time": "2022-03-10T12:16:57.441Z"
   },
   {
    "duration": 3,
    "start_time": "2022-03-10T12:16:57.462Z"
   },
   {
    "duration": 42,
    "start_time": "2022-03-10T12:16:57.467Z"
   },
   {
    "duration": 5,
    "start_time": "2022-03-10T12:16:57.511Z"
   },
   {
    "duration": 5,
    "start_time": "2022-03-10T12:16:57.517Z"
   },
   {
    "duration": 10,
    "start_time": "2022-03-10T12:16:57.524Z"
   },
   {
    "duration": 25,
    "start_time": "2022-03-10T12:16:57.536Z"
   },
   {
    "duration": 15,
    "start_time": "2022-03-10T12:16:57.562Z"
   },
   {
    "duration": 19,
    "start_time": "2022-03-10T12:16:57.578Z"
   },
   {
    "duration": 13,
    "start_time": "2022-03-10T12:16:57.599Z"
   },
   {
    "duration": 10,
    "start_time": "2022-03-10T12:16:57.614Z"
   },
   {
    "duration": 22,
    "start_time": "2022-03-10T12:16:57.626Z"
   },
   {
    "duration": 235,
    "start_time": "2022-03-10T12:16:57.649Z"
   },
   {
    "duration": 20,
    "start_time": "2022-03-10T12:16:57.886Z"
   },
   {
    "duration": 14,
    "start_time": "2022-03-10T12:16:57.907Z"
   },
   {
    "duration": 22,
    "start_time": "2022-03-10T12:16:57.922Z"
   },
   {
    "duration": 6552,
    "start_time": "2022-03-10T12:16:57.945Z"
   },
   {
    "duration": -58419,
    "start_time": "2022-03-10T12:18:02.917Z"
   },
   {
    "duration": -58468,
    "start_time": "2022-03-10T12:18:02.968Z"
   },
   {
    "duration": -58469,
    "start_time": "2022-03-10T12:18:02.970Z"
   },
   {
    "duration": 646,
    "start_time": "2022-03-10T13:31:31.029Z"
   },
   {
    "duration": 10,
    "start_time": "2022-03-10T13:31:31.677Z"
   },
   {
    "duration": 9,
    "start_time": "2022-03-10T13:31:31.689Z"
   },
   {
    "duration": 6,
    "start_time": "2022-03-10T13:31:31.699Z"
   },
   {
    "duration": 8,
    "start_time": "2022-03-10T13:31:31.706Z"
   },
   {
    "duration": 59,
    "start_time": "2022-03-10T13:31:31.715Z"
   },
   {
    "duration": 6,
    "start_time": "2022-03-10T13:31:31.776Z"
   },
   {
    "duration": 4,
    "start_time": "2022-03-10T13:31:31.806Z"
   },
   {
    "duration": 6,
    "start_time": "2022-03-10T13:31:31.812Z"
   },
   {
    "duration": 4,
    "start_time": "2022-03-10T13:31:31.820Z"
   },
   {
    "duration": 7,
    "start_time": "2022-03-10T13:31:31.826Z"
   },
   {
    "duration": 7,
    "start_time": "2022-03-10T13:31:31.835Z"
   },
   {
    "duration": 6,
    "start_time": "2022-03-10T13:31:31.843Z"
   },
   {
    "duration": 8,
    "start_time": "2022-03-10T13:31:31.850Z"
   },
   {
    "duration": 4,
    "start_time": "2022-03-10T13:31:31.860Z"
   },
   {
    "duration": 41,
    "start_time": "2022-03-10T13:31:31.866Z"
   },
   {
    "duration": 8,
    "start_time": "2022-03-10T13:31:31.908Z"
   },
   {
    "duration": 7,
    "start_time": "2022-03-10T13:31:31.918Z"
   },
   {
    "duration": 7,
    "start_time": "2022-03-10T13:31:31.926Z"
   },
   {
    "duration": 9,
    "start_time": "2022-03-10T13:31:31.934Z"
   },
   {
    "duration": 10,
    "start_time": "2022-03-10T13:31:31.944Z"
   },
   {
    "duration": 7,
    "start_time": "2022-03-10T13:31:31.956Z"
   },
   {
    "duration": 6,
    "start_time": "2022-03-10T13:31:31.967Z"
   },
   {
    "duration": 34,
    "start_time": "2022-03-10T13:31:31.975Z"
   },
   {
    "duration": 3,
    "start_time": "2022-03-10T13:31:32.011Z"
   },
   {
    "duration": 9,
    "start_time": "2022-03-10T13:31:32.015Z"
   },
   {
    "duration": 6,
    "start_time": "2022-03-10T13:31:32.025Z"
   },
   {
    "duration": 6,
    "start_time": "2022-03-10T13:31:32.033Z"
   },
   {
    "duration": 7,
    "start_time": "2022-03-10T13:31:32.040Z"
   },
   {
    "duration": 9,
    "start_time": "2022-03-10T13:31:32.049Z"
   },
   {
    "duration": 7,
    "start_time": "2022-03-10T13:31:32.060Z"
   },
   {
    "duration": 8,
    "start_time": "2022-03-10T13:31:32.069Z"
   },
   {
    "duration": 27,
    "start_time": "2022-03-10T13:31:32.079Z"
   },
   {
    "duration": 5,
    "start_time": "2022-03-10T13:31:32.107Z"
   },
   {
    "duration": 14,
    "start_time": "2022-03-10T13:31:32.114Z"
   },
   {
    "duration": 11,
    "start_time": "2022-03-10T13:31:32.129Z"
   },
   {
    "duration": 4,
    "start_time": "2022-03-10T13:31:32.142Z"
   },
   {
    "duration": 14,
    "start_time": "2022-03-10T13:31:32.147Z"
   },
   {
    "duration": 5,
    "start_time": "2022-03-10T13:31:32.163Z"
   },
   {
    "duration": 6,
    "start_time": "2022-03-10T13:31:32.169Z"
   },
   {
    "duration": 6,
    "start_time": "2022-03-10T13:31:32.176Z"
   },
   {
    "duration": 6,
    "start_time": "2022-03-10T13:31:32.183Z"
   },
   {
    "duration": 4,
    "start_time": "2022-03-10T13:31:32.206Z"
   },
   {
    "duration": 17,
    "start_time": "2022-03-10T13:31:32.211Z"
   },
   {
    "duration": 28,
    "start_time": "2022-03-10T13:31:32.230Z"
   },
   {
    "duration": 5,
    "start_time": "2022-03-10T13:31:32.260Z"
   },
   {
    "duration": 41,
    "start_time": "2022-03-10T13:31:32.267Z"
   },
   {
    "duration": 9,
    "start_time": "2022-03-10T13:31:32.310Z"
   },
   {
    "duration": 17,
    "start_time": "2022-03-10T13:31:32.321Z"
   },
   {
    "duration": 3,
    "start_time": "2022-03-10T13:31:32.340Z"
   },
   {
    "duration": 18,
    "start_time": "2022-03-10T13:31:32.345Z"
   },
   {
    "duration": 3,
    "start_time": "2022-03-10T13:31:32.365Z"
   },
   {
    "duration": 11,
    "start_time": "2022-03-10T13:31:32.370Z"
   },
   {
    "duration": 24,
    "start_time": "2022-03-10T13:31:32.382Z"
   },
   {
    "duration": 17,
    "start_time": "2022-03-10T13:31:32.408Z"
   },
   {
    "duration": 3,
    "start_time": "2022-03-10T13:31:32.427Z"
   },
   {
    "duration": 29,
    "start_time": "2022-03-10T13:31:32.432Z"
   },
   {
    "duration": 6,
    "start_time": "2022-03-10T13:31:32.463Z"
   },
   {
    "duration": 35,
    "start_time": "2022-03-10T13:31:32.471Z"
   },
   {
    "duration": 14,
    "start_time": "2022-03-10T13:31:32.508Z"
   },
   {
    "duration": 11,
    "start_time": "2022-03-10T13:31:32.524Z"
   },
   {
    "duration": 6,
    "start_time": "2022-03-10T13:31:32.537Z"
   },
   {
    "duration": 15,
    "start_time": "2022-03-10T13:31:32.545Z"
   },
   {
    "duration": 12,
    "start_time": "2022-03-10T13:31:32.562Z"
   },
   {
    "duration": 39,
    "start_time": "2022-03-10T13:31:32.575Z"
   },
   {
    "duration": 19,
    "start_time": "2022-03-10T13:31:32.616Z"
   },
   {
    "duration": 344,
    "start_time": "2022-03-10T13:31:32.637Z"
   },
   {
    "duration": 27,
    "start_time": "2022-03-10T13:31:32.986Z"
   },
   {
    "duration": 14,
    "start_time": "2022-03-10T13:31:33.014Z"
   },
   {
    "duration": 17,
    "start_time": "2022-03-10T13:31:33.030Z"
   },
   {
    "duration": 8087,
    "start_time": "2022-03-10T13:31:33.049Z"
   },
   {
    "duration": 550,
    "start_time": "2022-03-10T13:31:40.588Z"
   },
   {
    "duration": 549,
    "start_time": "2022-03-10T13:31:40.590Z"
   },
   {
    "duration": 548,
    "start_time": "2022-03-10T13:31:40.592Z"
   },
   {
    "duration": 677,
    "start_time": "2022-03-10T13:32:03.974Z"
   },
   {
    "duration": 12,
    "start_time": "2022-03-10T13:32:04.654Z"
   },
   {
    "duration": 20,
    "start_time": "2022-03-10T13:32:04.669Z"
   },
   {
    "duration": 5,
    "start_time": "2022-03-10T13:32:04.716Z"
   },
   {
    "duration": 7,
    "start_time": "2022-03-10T13:32:04.723Z"
   },
   {
    "duration": 62,
    "start_time": "2022-03-10T13:32:04.732Z"
   },
   {
    "duration": 18,
    "start_time": "2022-03-10T13:32:04.795Z"
   },
   {
    "duration": 10,
    "start_time": "2022-03-10T13:32:04.815Z"
   },
   {
    "duration": 8,
    "start_time": "2022-03-10T13:32:04.829Z"
   },
   {
    "duration": 2,
    "start_time": "2022-03-10T13:32:04.841Z"
   },
   {
    "duration": 10,
    "start_time": "2022-03-10T13:32:04.845Z"
   },
   {
    "duration": 8,
    "start_time": "2022-03-10T13:32:04.857Z"
   },
   {
    "duration": 7,
    "start_time": "2022-03-10T13:32:04.866Z"
   },
   {
    "duration": 35,
    "start_time": "2022-03-10T13:32:04.875Z"
   },
   {
    "duration": 8,
    "start_time": "2022-03-10T13:32:04.912Z"
   },
   {
    "duration": 8,
    "start_time": "2022-03-10T13:32:04.922Z"
   },
   {
    "duration": 7,
    "start_time": "2022-03-10T13:32:04.932Z"
   },
   {
    "duration": 9,
    "start_time": "2022-03-10T13:32:04.941Z"
   },
   {
    "duration": 6,
    "start_time": "2022-03-10T13:32:04.952Z"
   },
   {
    "duration": 5,
    "start_time": "2022-03-10T13:32:04.959Z"
   },
   {
    "duration": 42,
    "start_time": "2022-03-10T13:32:04.966Z"
   },
   {
    "duration": 6,
    "start_time": "2022-03-10T13:32:05.010Z"
   },
   {
    "duration": 6,
    "start_time": "2022-03-10T13:32:05.018Z"
   },
   {
    "duration": 6,
    "start_time": "2022-03-10T13:32:05.026Z"
   },
   {
    "duration": 3,
    "start_time": "2022-03-10T13:32:05.033Z"
   },
   {
    "duration": 9,
    "start_time": "2022-03-10T13:32:05.038Z"
   },
   {
    "duration": 6,
    "start_time": "2022-03-10T13:32:05.053Z"
   },
   {
    "duration": 47,
    "start_time": "2022-03-10T13:32:05.062Z"
   },
   {
    "duration": 5,
    "start_time": "2022-03-10T13:32:05.112Z"
   },
   {
    "duration": 7,
    "start_time": "2022-03-10T13:32:05.119Z"
   },
   {
    "duration": 12,
    "start_time": "2022-03-10T13:32:05.129Z"
   },
   {
    "duration": 6,
    "start_time": "2022-03-10T13:32:05.144Z"
   },
   {
    "duration": 5,
    "start_time": "2022-03-10T13:32:05.152Z"
   },
   {
    "duration": 21,
    "start_time": "2022-03-10T13:32:05.159Z"
   },
   {
    "duration": 28,
    "start_time": "2022-03-10T13:32:05.183Z"
   },
   {
    "duration": 8,
    "start_time": "2022-03-10T13:32:05.213Z"
   },
   {
    "duration": 8,
    "start_time": "2022-03-10T13:32:05.223Z"
   },
   {
    "duration": 21,
    "start_time": "2022-03-10T13:32:05.233Z"
   },
   {
    "duration": 13,
    "start_time": "2022-03-10T13:32:05.256Z"
   },
   {
    "duration": 12,
    "start_time": "2022-03-10T13:32:05.270Z"
   },
   {
    "duration": 10,
    "start_time": "2022-03-10T13:32:05.284Z"
   },
   {
    "duration": 9,
    "start_time": "2022-03-10T13:32:05.296Z"
   },
   {
    "duration": 6,
    "start_time": "2022-03-10T13:32:05.307Z"
   },
   {
    "duration": 24,
    "start_time": "2022-03-10T13:32:05.315Z"
   },
   {
    "duration": 31,
    "start_time": "2022-03-10T13:32:05.341Z"
   },
   {
    "duration": 5,
    "start_time": "2022-03-10T13:32:05.374Z"
   },
   {
    "duration": 34,
    "start_time": "2022-03-10T13:32:05.381Z"
   },
   {
    "duration": 10,
    "start_time": "2022-03-10T13:32:05.417Z"
   },
   {
    "duration": 19,
    "start_time": "2022-03-10T13:32:05.429Z"
   },
   {
    "duration": 4,
    "start_time": "2022-03-10T13:32:05.449Z"
   },
   {
    "duration": 23,
    "start_time": "2022-03-10T13:32:05.455Z"
   },
   {
    "duration": 3,
    "start_time": "2022-03-10T13:32:05.480Z"
   },
   {
    "duration": 31,
    "start_time": "2022-03-10T13:32:05.485Z"
   },
   {
    "duration": 10,
    "start_time": "2022-03-10T13:32:05.519Z"
   },
   {
    "duration": 21,
    "start_time": "2022-03-10T13:32:05.531Z"
   },
   {
    "duration": 4,
    "start_time": "2022-03-10T13:32:05.556Z"
   },
   {
    "duration": 46,
    "start_time": "2022-03-10T13:32:05.561Z"
   },
   {
    "duration": 7,
    "start_time": "2022-03-10T13:32:05.609Z"
   },
   {
    "duration": 7,
    "start_time": "2022-03-10T13:32:05.618Z"
   },
   {
    "duration": 22,
    "start_time": "2022-03-10T13:32:05.627Z"
   },
   {
    "duration": 19,
    "start_time": "2022-03-10T13:32:05.651Z"
   },
   {
    "duration": 7,
    "start_time": "2022-03-10T13:32:05.672Z"
   },
   {
    "duration": 35,
    "start_time": "2022-03-10T13:32:05.680Z"
   },
   {
    "duration": 14,
    "start_time": "2022-03-10T13:32:05.717Z"
   },
   {
    "duration": 12,
    "start_time": "2022-03-10T13:32:05.733Z"
   },
   {
    "duration": 25,
    "start_time": "2022-03-10T13:32:05.747Z"
   },
   {
    "duration": 337,
    "start_time": "2022-03-10T13:32:05.774Z"
   },
   {
    "duration": 23,
    "start_time": "2022-03-10T13:32:06.113Z"
   },
   {
    "duration": 15,
    "start_time": "2022-03-10T13:32:06.138Z"
   },
   {
    "duration": 17,
    "start_time": "2022-03-10T13:32:06.154Z"
   },
   {
    "duration": 6483,
    "start_time": "2022-03-10T13:32:06.173Z"
   },
   {
    "duration": 573,
    "start_time": "2022-03-10T13:32:12.085Z"
   },
   {
    "duration": 571,
    "start_time": "2022-03-10T13:32:12.088Z"
   },
   {
    "duration": 570,
    "start_time": "2022-03-10T13:32:12.090Z"
   },
   {
    "duration": 15,
    "start_time": "2022-03-10T13:36:11.025Z"
   },
   {
    "duration": 20,
    "start_time": "2022-03-10T13:45:42.938Z"
   },
   {
    "duration": 20,
    "start_time": "2022-03-10T13:48:07.156Z"
   },
   {
    "duration": 20,
    "start_time": "2022-03-10T13:48:24.975Z"
   },
   {
    "duration": 20,
    "start_time": "2022-03-10T13:48:27.238Z"
   },
   {
    "duration": 15,
    "start_time": "2022-03-10T13:48:28.619Z"
   },
   {
    "duration": 667,
    "start_time": "2022-03-10T13:48:51.814Z"
   },
   {
    "duration": 10,
    "start_time": "2022-03-10T13:48:52.483Z"
   },
   {
    "duration": 11,
    "start_time": "2022-03-10T13:48:52.495Z"
   },
   {
    "duration": 3,
    "start_time": "2022-03-10T13:48:52.508Z"
   },
   {
    "duration": 8,
    "start_time": "2022-03-10T13:48:52.513Z"
   },
   {
    "duration": 65,
    "start_time": "2022-03-10T13:48:52.522Z"
   },
   {
    "duration": 9,
    "start_time": "2022-03-10T13:48:52.606Z"
   },
   {
    "duration": 5,
    "start_time": "2022-03-10T13:48:52.618Z"
   },
   {
    "duration": 6,
    "start_time": "2022-03-10T13:48:52.625Z"
   },
   {
    "duration": 3,
    "start_time": "2022-03-10T13:48:52.633Z"
   },
   {
    "duration": 6,
    "start_time": "2022-03-10T13:48:52.638Z"
   },
   {
    "duration": 7,
    "start_time": "2022-03-10T13:48:52.646Z"
   },
   {
    "duration": 52,
    "start_time": "2022-03-10T13:48:52.654Z"
   },
   {
    "duration": 6,
    "start_time": "2022-03-10T13:48:52.708Z"
   },
   {
    "duration": 5,
    "start_time": "2022-03-10T13:48:52.715Z"
   },
   {
    "duration": 6,
    "start_time": "2022-03-10T13:48:52.722Z"
   },
   {
    "duration": 4,
    "start_time": "2022-03-10T13:48:52.730Z"
   },
   {
    "duration": 5,
    "start_time": "2022-03-10T13:48:52.736Z"
   },
   {
    "duration": 5,
    "start_time": "2022-03-10T13:48:52.743Z"
   },
   {
    "duration": 5,
    "start_time": "2022-03-10T13:48:52.749Z"
   },
   {
    "duration": 5,
    "start_time": "2022-03-10T13:48:52.755Z"
   },
   {
    "duration": 5,
    "start_time": "2022-03-10T13:48:52.806Z"
   },
   {
    "duration": 6,
    "start_time": "2022-03-10T13:48:52.815Z"
   },
   {
    "duration": 5,
    "start_time": "2022-03-10T13:48:52.824Z"
   },
   {
    "duration": 2,
    "start_time": "2022-03-10T13:48:52.831Z"
   },
   {
    "duration": 7,
    "start_time": "2022-03-10T13:48:52.835Z"
   },
   {
    "duration": 7,
    "start_time": "2022-03-10T13:48:52.843Z"
   },
   {
    "duration": 6,
    "start_time": "2022-03-10T13:48:52.852Z"
   },
   {
    "duration": 6,
    "start_time": "2022-03-10T13:48:52.859Z"
   },
   {
    "duration": 43,
    "start_time": "2022-03-10T13:48:52.866Z"
   },
   {
    "duration": 6,
    "start_time": "2022-03-10T13:48:52.911Z"
   },
   {
    "duration": 5,
    "start_time": "2022-03-10T13:48:52.918Z"
   },
   {
    "duration": 5,
    "start_time": "2022-03-10T13:48:52.924Z"
   },
   {
    "duration": 5,
    "start_time": "2022-03-10T13:48:52.931Z"
   },
   {
    "duration": 5,
    "start_time": "2022-03-10T13:48:52.938Z"
   },
   {
    "duration": 5,
    "start_time": "2022-03-10T13:48:52.945Z"
   },
   {
    "duration": 5,
    "start_time": "2022-03-10T13:48:52.952Z"
   },
   {
    "duration": 52,
    "start_time": "2022-03-10T13:48:52.959Z"
   },
   {
    "duration": 6,
    "start_time": "2022-03-10T13:48:53.013Z"
   },
   {
    "duration": 5,
    "start_time": "2022-03-10T13:48:53.020Z"
   },
   {
    "duration": 6,
    "start_time": "2022-03-10T13:48:53.027Z"
   },
   {
    "duration": 5,
    "start_time": "2022-03-10T13:48:53.034Z"
   },
   {
    "duration": 6,
    "start_time": "2022-03-10T13:48:53.041Z"
   },
   {
    "duration": 19,
    "start_time": "2022-03-10T13:48:53.048Z"
   },
   {
    "duration": 68,
    "start_time": "2022-03-10T13:48:53.068Z"
   },
   {
    "duration": 5,
    "start_time": "2022-03-10T13:48:53.137Z"
   },
   {
    "duration": 13,
    "start_time": "2022-03-10T13:48:53.143Z"
   },
   {
    "duration": 12,
    "start_time": "2022-03-10T13:48:53.158Z"
   },
   {
    "duration": 36,
    "start_time": "2022-03-10T13:48:53.172Z"
   },
   {
    "duration": 4,
    "start_time": "2022-03-10T13:48:53.209Z"
   },
   {
    "duration": 17,
    "start_time": "2022-03-10T13:48:53.215Z"
   },
   {
    "duration": 3,
    "start_time": "2022-03-10T13:48:53.234Z"
   },
   {
    "duration": 11,
    "start_time": "2022-03-10T13:48:53.239Z"
   },
   {
    "duration": 3,
    "start_time": "2022-03-10T13:48:53.251Z"
   },
   {
    "duration": 20,
    "start_time": "2022-03-10T13:48:53.256Z"
   },
   {
    "duration": 28,
    "start_time": "2022-03-10T13:48:53.278Z"
   },
   {
    "duration": 27,
    "start_time": "2022-03-10T13:48:53.308Z"
   },
   {
    "duration": 5,
    "start_time": "2022-03-10T13:48:53.336Z"
   },
   {
    "duration": 5,
    "start_time": "2022-03-10T13:48:53.343Z"
   },
   {
    "duration": 12,
    "start_time": "2022-03-10T13:48:53.349Z"
   },
   {
    "duration": 12,
    "start_time": "2022-03-10T13:48:53.363Z"
   },
   {
    "duration": 6,
    "start_time": "2022-03-10T13:48:53.405Z"
   },
   {
    "duration": 13,
    "start_time": "2022-03-10T13:48:53.413Z"
   },
   {
    "duration": 12,
    "start_time": "2022-03-10T13:48:53.428Z"
   },
   {
    "duration": 11,
    "start_time": "2022-03-10T13:48:53.442Z"
   },
   {
    "duration": 18,
    "start_time": "2022-03-10T13:48:53.455Z"
   },
   {
    "duration": 240,
    "start_time": "2022-03-10T13:48:53.506Z"
   },
   {
    "duration": 19,
    "start_time": "2022-03-10T13:48:53.750Z"
   },
   {
    "duration": 19,
    "start_time": "2022-03-10T13:48:53.771Z"
   },
   {
    "duration": 17,
    "start_time": "2022-03-10T13:48:53.806Z"
   },
   {
    "duration": 15,
    "start_time": "2022-03-10T13:48:53.825Z"
   },
   {
    "duration": 14,
    "start_time": "2022-03-10T13:48:53.841Z"
   },
   {
    "duration": 15,
    "start_time": "2022-03-10T13:48:53.857Z"
   },
   {
    "duration": 660,
    "start_time": "2022-03-10T13:49:30.598Z"
   },
   {
    "duration": 10,
    "start_time": "2022-03-10T13:49:31.259Z"
   },
   {
    "duration": 9,
    "start_time": "2022-03-10T13:49:31.271Z"
   },
   {
    "duration": 10,
    "start_time": "2022-03-10T13:49:31.282Z"
   },
   {
    "duration": 27,
    "start_time": "2022-03-10T13:49:31.294Z"
   },
   {
    "duration": 56,
    "start_time": "2022-03-10T13:49:31.323Z"
   },
   {
    "duration": 6,
    "start_time": "2022-03-10T13:49:31.380Z"
   },
   {
    "duration": 9,
    "start_time": "2022-03-10T13:49:31.387Z"
   },
   {
    "duration": 10,
    "start_time": "2022-03-10T13:49:31.399Z"
   },
   {
    "duration": 8,
    "start_time": "2022-03-10T13:49:31.411Z"
   },
   {
    "duration": 13,
    "start_time": "2022-03-10T13:49:31.421Z"
   },
   {
    "duration": 8,
    "start_time": "2022-03-10T13:49:31.435Z"
   },
   {
    "duration": 7,
    "start_time": "2022-03-10T13:49:31.445Z"
   },
   {
    "duration": 6,
    "start_time": "2022-03-10T13:49:31.454Z"
   },
   {
    "duration": 7,
    "start_time": "2022-03-10T13:49:31.461Z"
   },
   {
    "duration": 8,
    "start_time": "2022-03-10T13:49:31.469Z"
   },
   {
    "duration": 7,
    "start_time": "2022-03-10T13:49:31.478Z"
   },
   {
    "duration": 20,
    "start_time": "2022-03-10T13:49:31.487Z"
   },
   {
    "duration": 8,
    "start_time": "2022-03-10T13:49:31.509Z"
   },
   {
    "duration": 23,
    "start_time": "2022-03-10T13:49:31.518Z"
   },
   {
    "duration": 22,
    "start_time": "2022-03-10T13:49:31.543Z"
   },
   {
    "duration": 28,
    "start_time": "2022-03-10T13:49:31.567Z"
   },
   {
    "duration": 5,
    "start_time": "2022-03-10T13:49:31.597Z"
   },
   {
    "duration": 9,
    "start_time": "2022-03-10T13:49:31.603Z"
   },
   {
    "duration": 2,
    "start_time": "2022-03-10T13:49:31.613Z"
   },
   {
    "duration": 6,
    "start_time": "2022-03-10T13:49:31.617Z"
   },
   {
    "duration": 6,
    "start_time": "2022-03-10T13:49:31.627Z"
   },
   {
    "duration": 6,
    "start_time": "2022-03-10T13:49:31.635Z"
   },
   {
    "duration": 7,
    "start_time": "2022-03-10T13:49:31.643Z"
   },
   {
    "duration": 6,
    "start_time": "2022-03-10T13:49:31.652Z"
   },
   {
    "duration": 7,
    "start_time": "2022-03-10T13:49:31.659Z"
   },
   {
    "duration": 9,
    "start_time": "2022-03-10T13:49:31.668Z"
   },
   {
    "duration": 29,
    "start_time": "2022-03-10T13:49:31.678Z"
   },
   {
    "duration": 11,
    "start_time": "2022-03-10T13:49:31.708Z"
   },
   {
    "duration": 25,
    "start_time": "2022-03-10T13:49:31.721Z"
   },
   {
    "duration": 6,
    "start_time": "2022-03-10T13:49:31.748Z"
   },
   {
    "duration": 4,
    "start_time": "2022-03-10T13:49:31.756Z"
   },
   {
    "duration": 6,
    "start_time": "2022-03-10T13:49:31.762Z"
   },
   {
    "duration": 5,
    "start_time": "2022-03-10T13:49:31.770Z"
   },
   {
    "duration": 6,
    "start_time": "2022-03-10T13:49:31.777Z"
   },
   {
    "duration": 23,
    "start_time": "2022-03-10T13:49:31.785Z"
   },
   {
    "duration": 11,
    "start_time": "2022-03-10T13:49:31.809Z"
   },
   {
    "duration": 12,
    "start_time": "2022-03-10T13:49:31.822Z"
   },
   {
    "duration": 20,
    "start_time": "2022-03-10T13:49:31.835Z"
   },
   {
    "duration": 28,
    "start_time": "2022-03-10T13:49:31.857Z"
   },
   {
    "duration": 5,
    "start_time": "2022-03-10T13:49:31.886Z"
   },
   {
    "duration": 10,
    "start_time": "2022-03-10T13:49:31.905Z"
   },
   {
    "duration": 10,
    "start_time": "2022-03-10T13:49:31.917Z"
   },
   {
    "duration": 17,
    "start_time": "2022-03-10T13:49:31.928Z"
   },
   {
    "duration": 4,
    "start_time": "2022-03-10T13:49:31.946Z"
   },
   {
    "duration": 19,
    "start_time": "2022-03-10T13:49:31.951Z"
   },
   {
    "duration": 3,
    "start_time": "2022-03-10T13:49:31.971Z"
   },
   {
    "duration": 34,
    "start_time": "2022-03-10T13:49:31.976Z"
   },
   {
    "duration": 4,
    "start_time": "2022-03-10T13:49:32.011Z"
   },
   {
    "duration": 20,
    "start_time": "2022-03-10T13:49:32.016Z"
   },
   {
    "duration": 4,
    "start_time": "2022-03-10T13:49:32.038Z"
   },
   {
    "duration": 29,
    "start_time": "2022-03-10T13:49:32.044Z"
   },
   {
    "duration": 5,
    "start_time": "2022-03-10T13:49:32.074Z"
   },
   {
    "duration": 10,
    "start_time": "2022-03-10T13:49:32.080Z"
   },
   {
    "duration": 12,
    "start_time": "2022-03-10T13:49:32.106Z"
   },
   {
    "duration": 12,
    "start_time": "2022-03-10T13:49:32.119Z"
   },
   {
    "duration": 5,
    "start_time": "2022-03-10T13:49:32.133Z"
   },
   {
    "duration": 15,
    "start_time": "2022-03-10T13:49:32.140Z"
   },
   {
    "duration": 10,
    "start_time": "2022-03-10T13:49:32.157Z"
   },
   {
    "duration": 11,
    "start_time": "2022-03-10T13:49:32.169Z"
   },
   {
    "duration": 19,
    "start_time": "2022-03-10T13:49:32.206Z"
   },
   {
    "duration": 226,
    "start_time": "2022-03-10T13:49:32.227Z"
   },
   {
    "duration": 17,
    "start_time": "2022-03-10T13:49:32.455Z"
   },
   {
    "duration": 33,
    "start_time": "2022-03-10T13:49:32.474Z"
   },
   {
    "duration": 16,
    "start_time": "2022-03-10T13:49:32.508Z"
   },
   {
    "duration": 13,
    "start_time": "2022-03-10T13:49:32.525Z"
   },
   {
    "duration": 14,
    "start_time": "2022-03-10T13:49:32.539Z"
   },
   {
    "duration": 14,
    "start_time": "2022-03-10T13:49:32.554Z"
   },
   {
    "duration": 701,
    "start_time": "2022-03-10T13:51:41.396Z"
   },
   {
    "duration": 14,
    "start_time": "2022-03-10T13:51:42.100Z"
   },
   {
    "duration": 11,
    "start_time": "2022-03-10T13:51:42.118Z"
   },
   {
    "duration": 8,
    "start_time": "2022-03-10T13:51:42.131Z"
   },
   {
    "duration": 12,
    "start_time": "2022-03-10T13:51:42.141Z"
   },
   {
    "duration": 72,
    "start_time": "2022-03-10T13:51:42.155Z"
   },
   {
    "duration": 8,
    "start_time": "2022-03-10T13:51:42.228Z"
   },
   {
    "duration": 4,
    "start_time": "2022-03-10T13:51:42.238Z"
   },
   {
    "duration": 7,
    "start_time": "2022-03-10T13:51:42.244Z"
   },
   {
    "duration": 3,
    "start_time": "2022-03-10T13:51:42.252Z"
   },
   {
    "duration": 9,
    "start_time": "2022-03-10T13:51:42.257Z"
   },
   {
    "duration": 5,
    "start_time": "2022-03-10T13:51:42.268Z"
   },
   {
    "duration": 32,
    "start_time": "2022-03-10T13:51:42.274Z"
   },
   {
    "duration": 6,
    "start_time": "2022-03-10T13:51:42.308Z"
   },
   {
    "duration": 6,
    "start_time": "2022-03-10T13:51:42.316Z"
   },
   {
    "duration": 6,
    "start_time": "2022-03-10T13:51:42.323Z"
   },
   {
    "duration": 5,
    "start_time": "2022-03-10T13:51:42.330Z"
   },
   {
    "duration": 6,
    "start_time": "2022-03-10T13:51:42.336Z"
   },
   {
    "duration": 6,
    "start_time": "2022-03-10T13:51:42.343Z"
   },
   {
    "duration": 4,
    "start_time": "2022-03-10T13:51:42.351Z"
   },
   {
    "duration": 50,
    "start_time": "2022-03-10T13:51:42.358Z"
   },
   {
    "duration": 8,
    "start_time": "2022-03-10T13:51:42.410Z"
   },
   {
    "duration": 5,
    "start_time": "2022-03-10T13:51:42.420Z"
   },
   {
    "duration": 8,
    "start_time": "2022-03-10T13:51:42.427Z"
   },
   {
    "duration": 2,
    "start_time": "2022-03-10T13:51:42.437Z"
   },
   {
    "duration": 5,
    "start_time": "2022-03-10T13:51:42.442Z"
   },
   {
    "duration": 11,
    "start_time": "2022-03-10T13:51:42.449Z"
   },
   {
    "duration": 5,
    "start_time": "2022-03-10T13:51:42.462Z"
   },
   {
    "duration": 5,
    "start_time": "2022-03-10T13:51:42.469Z"
   },
   {
    "duration": 33,
    "start_time": "2022-03-10T13:51:42.475Z"
   },
   {
    "duration": 5,
    "start_time": "2022-03-10T13:51:42.510Z"
   },
   {
    "duration": 10,
    "start_time": "2022-03-10T13:51:42.517Z"
   },
   {
    "duration": 5,
    "start_time": "2022-03-10T13:51:42.529Z"
   },
   {
    "duration": 8,
    "start_time": "2022-03-10T13:51:42.536Z"
   },
   {
    "duration": 6,
    "start_time": "2022-03-10T13:51:42.546Z"
   },
   {
    "duration": 7,
    "start_time": "2022-03-10T13:51:42.554Z"
   },
   {
    "duration": 4,
    "start_time": "2022-03-10T13:51:42.563Z"
   },
   {
    "duration": 43,
    "start_time": "2022-03-10T13:51:42.569Z"
   },
   {
    "duration": 7,
    "start_time": "2022-03-10T13:51:42.614Z"
   },
   {
    "duration": 4,
    "start_time": "2022-03-10T13:51:42.622Z"
   },
   {
    "duration": 6,
    "start_time": "2022-03-10T13:51:42.628Z"
   },
   {
    "duration": 4,
    "start_time": "2022-03-10T13:51:42.636Z"
   },
   {
    "duration": 8,
    "start_time": "2022-03-10T13:51:42.642Z"
   },
   {
    "duration": 22,
    "start_time": "2022-03-10T13:51:42.652Z"
   },
   {
    "duration": 69,
    "start_time": "2022-03-10T13:51:42.676Z"
   },
   {
    "duration": 5,
    "start_time": "2022-03-10T13:51:42.747Z"
   },
   {
    "duration": 18,
    "start_time": "2022-03-10T13:51:42.754Z"
   },
   {
    "duration": 7,
    "start_time": "2022-03-10T13:51:42.774Z"
   },
   {
    "duration": 28,
    "start_time": "2022-03-10T13:51:42.805Z"
   },
   {
    "duration": 4,
    "start_time": "2022-03-10T13:51:42.835Z"
   },
   {
    "duration": 26,
    "start_time": "2022-03-10T13:51:42.841Z"
   },
   {
    "duration": 4,
    "start_time": "2022-03-10T13:51:42.869Z"
   },
   {
    "duration": 10,
    "start_time": "2022-03-10T13:51:42.875Z"
   },
   {
    "duration": 19,
    "start_time": "2022-03-10T13:51:42.887Z"
   },
   {
    "duration": 17,
    "start_time": "2022-03-10T13:51:42.908Z"
   },
   {
    "duration": 3,
    "start_time": "2022-03-10T13:51:42.927Z"
   },
   {
    "duration": 24,
    "start_time": "2022-03-10T13:51:42.932Z"
   },
   {
    "duration": 5,
    "start_time": "2022-03-10T13:51:42.957Z"
   },
   {
    "duration": 5,
    "start_time": "2022-03-10T13:51:42.963Z"
   },
   {
    "duration": 40,
    "start_time": "2022-03-10T13:51:42.970Z"
   },
   {
    "duration": 10,
    "start_time": "2022-03-10T13:51:43.012Z"
   },
   {
    "duration": 5,
    "start_time": "2022-03-10T13:51:43.024Z"
   },
   {
    "duration": 15,
    "start_time": "2022-03-10T13:51:43.030Z"
   },
   {
    "duration": 10,
    "start_time": "2022-03-10T13:51:43.047Z"
   },
   {
    "duration": 12,
    "start_time": "2022-03-10T13:51:43.058Z"
   },
   {
    "duration": 51,
    "start_time": "2022-03-10T13:51:43.071Z"
   },
   {
    "duration": 221,
    "start_time": "2022-03-10T13:51:43.123Z"
   },
   {
    "duration": 18,
    "start_time": "2022-03-10T13:51:43.345Z"
   },
   {
    "duration": 18,
    "start_time": "2022-03-10T13:51:43.365Z"
   },
   {
    "duration": 34,
    "start_time": "2022-03-10T13:51:43.385Z"
   },
   {
    "duration": 181,
    "start_time": "2022-03-10T13:51:43.421Z"
   },
   {
    "duration": 6600,
    "start_time": "2022-03-10T13:51:43.605Z"
   },
   {
    "duration": 570,
    "start_time": "2022-03-10T13:51:49.637Z"
   },
   {
    "duration": 569,
    "start_time": "2022-03-10T13:51:49.639Z"
   },
   {
    "duration": 567,
    "start_time": "2022-03-10T13:51:49.642Z"
   },
   {
    "duration": 703,
    "start_time": "2022-03-10T13:53:04.107Z"
   },
   {
    "duration": 11,
    "start_time": "2022-03-10T13:53:04.812Z"
   },
   {
    "duration": 11,
    "start_time": "2022-03-10T13:53:04.827Z"
   },
   {
    "duration": 6,
    "start_time": "2022-03-10T13:53:04.839Z"
   },
   {
    "duration": 8,
    "start_time": "2022-03-10T13:53:04.847Z"
   },
   {
    "duration": 75,
    "start_time": "2022-03-10T13:53:04.856Z"
   },
   {
    "duration": 7,
    "start_time": "2022-03-10T13:53:04.932Z"
   },
   {
    "duration": 4,
    "start_time": "2022-03-10T13:53:04.943Z"
   },
   {
    "duration": 6,
    "start_time": "2022-03-10T13:53:04.949Z"
   },
   {
    "duration": 2,
    "start_time": "2022-03-10T13:53:04.957Z"
   },
   {
    "duration": 7,
    "start_time": "2022-03-10T13:53:04.961Z"
   },
   {
    "duration": 8,
    "start_time": "2022-03-10T13:53:05.006Z"
   },
   {
    "duration": 6,
    "start_time": "2022-03-10T13:53:05.016Z"
   },
   {
    "duration": 7,
    "start_time": "2022-03-10T13:53:05.024Z"
   },
   {
    "duration": 5,
    "start_time": "2022-03-10T13:53:05.033Z"
   },
   {
    "duration": 6,
    "start_time": "2022-03-10T13:53:05.040Z"
   },
   {
    "duration": 6,
    "start_time": "2022-03-10T13:53:05.048Z"
   },
   {
    "duration": 55,
    "start_time": "2022-03-10T13:53:05.056Z"
   },
   {
    "duration": 6,
    "start_time": "2022-03-10T13:53:05.113Z"
   },
   {
    "duration": 5,
    "start_time": "2022-03-10T13:53:05.121Z"
   },
   {
    "duration": 6,
    "start_time": "2022-03-10T13:53:05.128Z"
   },
   {
    "duration": 6,
    "start_time": "2022-03-10T13:53:05.136Z"
   },
   {
    "duration": 7,
    "start_time": "2022-03-10T13:53:05.143Z"
   },
   {
    "duration": 56,
    "start_time": "2022-03-10T13:53:05.151Z"
   },
   {
    "duration": 3,
    "start_time": "2022-03-10T13:53:05.209Z"
   },
   {
    "duration": 9,
    "start_time": "2022-03-10T13:53:05.217Z"
   },
   {
    "duration": 5,
    "start_time": "2022-03-10T13:53:05.228Z"
   },
   {
    "duration": 8,
    "start_time": "2022-03-10T13:53:05.235Z"
   },
   {
    "duration": 7,
    "start_time": "2022-03-10T13:53:05.244Z"
   },
   {
    "duration": 7,
    "start_time": "2022-03-10T13:53:05.252Z"
   },
   {
    "duration": 7,
    "start_time": "2022-03-10T13:53:05.261Z"
   },
   {
    "duration": 36,
    "start_time": "2022-03-10T13:53:05.270Z"
   },
   {
    "duration": 4,
    "start_time": "2022-03-10T13:53:05.308Z"
   },
   {
    "duration": 7,
    "start_time": "2022-03-10T13:53:05.314Z"
   },
   {
    "duration": 9,
    "start_time": "2022-03-10T13:53:05.322Z"
   },
   {
    "duration": 10,
    "start_time": "2022-03-10T13:53:05.333Z"
   },
   {
    "duration": 12,
    "start_time": "2022-03-10T13:53:05.345Z"
   },
   {
    "duration": 8,
    "start_time": "2022-03-10T13:53:05.359Z"
   },
   {
    "duration": 7,
    "start_time": "2022-03-10T13:53:05.368Z"
   },
   {
    "duration": 7,
    "start_time": "2022-03-10T13:53:05.376Z"
   },
   {
    "duration": 25,
    "start_time": "2022-03-10T13:53:05.384Z"
   },
   {
    "duration": 7,
    "start_time": "2022-03-10T13:53:05.411Z"
   },
   {
    "duration": 8,
    "start_time": "2022-03-10T13:53:05.419Z"
   },
   {
    "duration": 19,
    "start_time": "2022-03-10T13:53:05.428Z"
   },
   {
    "duration": 31,
    "start_time": "2022-03-10T13:53:05.449Z"
   },
   {
    "duration": 25,
    "start_time": "2022-03-10T13:53:05.482Z"
   },
   {
    "duration": 11,
    "start_time": "2022-03-10T13:53:05.509Z"
   },
   {
    "duration": 10,
    "start_time": "2022-03-10T13:53:05.522Z"
   },
   {
    "duration": 22,
    "start_time": "2022-03-10T13:53:05.534Z"
   },
   {
    "duration": 3,
    "start_time": "2022-03-10T13:53:05.558Z"
   },
   {
    "duration": 43,
    "start_time": "2022-03-10T13:53:05.563Z"
   },
   {
    "duration": 3,
    "start_time": "2022-03-10T13:53:05.608Z"
   },
   {
    "duration": 12,
    "start_time": "2022-03-10T13:53:05.613Z"
   },
   {
    "duration": 3,
    "start_time": "2022-03-10T13:53:05.627Z"
   },
   {
    "duration": 19,
    "start_time": "2022-03-10T13:53:05.631Z"
   },
   {
    "duration": 3,
    "start_time": "2022-03-10T13:53:05.652Z"
   },
   {
    "duration": 29,
    "start_time": "2022-03-10T13:53:05.657Z"
   },
   {
    "duration": 21,
    "start_time": "2022-03-10T13:53:05.687Z"
   },
   {
    "duration": 13,
    "start_time": "2022-03-10T13:53:05.710Z"
   },
   {
    "duration": 17,
    "start_time": "2022-03-10T13:53:05.724Z"
   },
   {
    "duration": 9,
    "start_time": "2022-03-10T13:53:05.743Z"
   },
   {
    "duration": 8,
    "start_time": "2022-03-10T13:53:05.754Z"
   },
   {
    "duration": 15,
    "start_time": "2022-03-10T13:53:05.764Z"
   },
   {
    "duration": 28,
    "start_time": "2022-03-10T13:53:05.780Z"
   },
   {
    "duration": 12,
    "start_time": "2022-03-10T13:53:05.810Z"
   },
   {
    "duration": 21,
    "start_time": "2022-03-10T13:53:05.823Z"
   },
   {
    "duration": 350,
    "start_time": "2022-03-10T13:53:05.846Z"
   },
   {
    "duration": 24,
    "start_time": "2022-03-10T13:53:06.198Z"
   },
   {
    "duration": 345,
    "start_time": "2022-03-10T13:53:06.224Z"
   },
   {
    "duration": 558,
    "start_time": "2022-03-10T13:53:06.013Z"
   },
   {
    "duration": 558,
    "start_time": "2022-03-10T13:53:06.014Z"
   },
   {
    "duration": 557,
    "start_time": "2022-03-10T13:53:06.016Z"
   },
   {
    "duration": 624,
    "start_time": "2022-03-10T13:57:30.307Z"
   },
   {
    "duration": 9,
    "start_time": "2022-03-10T13:57:30.933Z"
   },
   {
    "duration": 10,
    "start_time": "2022-03-10T13:57:30.944Z"
   },
   {
    "duration": 11,
    "start_time": "2022-03-10T13:57:30.956Z"
   },
   {
    "duration": 14,
    "start_time": "2022-03-10T13:57:30.969Z"
   },
   {
    "duration": 57,
    "start_time": "2022-03-10T13:57:30.984Z"
   },
   {
    "duration": 6,
    "start_time": "2022-03-10T13:57:31.042Z"
   },
   {
    "duration": 15,
    "start_time": "2022-03-10T13:57:31.050Z"
   },
   {
    "duration": 16,
    "start_time": "2022-03-10T13:57:31.067Z"
   },
   {
    "duration": 5,
    "start_time": "2022-03-10T13:57:31.084Z"
   },
   {
    "duration": 8,
    "start_time": "2022-03-10T13:57:31.090Z"
   },
   {
    "duration": 7,
    "start_time": "2022-03-10T13:57:31.099Z"
   },
   {
    "duration": 18,
    "start_time": "2022-03-10T13:57:31.107Z"
   },
   {
    "duration": 7,
    "start_time": "2022-03-10T13:57:31.126Z"
   },
   {
    "duration": 4,
    "start_time": "2022-03-10T13:57:31.134Z"
   },
   {
    "duration": 7,
    "start_time": "2022-03-10T13:57:31.139Z"
   },
   {
    "duration": 15,
    "start_time": "2022-03-10T13:57:31.147Z"
   },
   {
    "duration": 11,
    "start_time": "2022-03-10T13:57:31.164Z"
   },
   {
    "duration": 5,
    "start_time": "2022-03-10T13:57:31.177Z"
   },
   {
    "duration": 8,
    "start_time": "2022-03-10T13:57:31.183Z"
   },
   {
    "duration": 6,
    "start_time": "2022-03-10T13:57:31.192Z"
   },
   {
    "duration": 7,
    "start_time": "2022-03-10T13:57:31.199Z"
   },
   {
    "duration": 4,
    "start_time": "2022-03-10T13:57:31.209Z"
   },
   {
    "duration": 6,
    "start_time": "2022-03-10T13:57:31.215Z"
   },
   {
    "duration": 2,
    "start_time": "2022-03-10T13:57:31.223Z"
   },
   {
    "duration": 11,
    "start_time": "2022-03-10T13:57:31.227Z"
   },
   {
    "duration": 8,
    "start_time": "2022-03-10T13:57:31.239Z"
   },
   {
    "duration": 9,
    "start_time": "2022-03-10T13:57:31.248Z"
   },
   {
    "duration": 8,
    "start_time": "2022-03-10T13:57:31.258Z"
   },
   {
    "duration": 9,
    "start_time": "2022-03-10T13:57:31.267Z"
   },
   {
    "duration": 28,
    "start_time": "2022-03-10T13:57:31.277Z"
   },
   {
    "duration": 7,
    "start_time": "2022-03-10T13:57:31.306Z"
   },
   {
    "duration": 11,
    "start_time": "2022-03-10T13:57:31.314Z"
   },
   {
    "duration": 7,
    "start_time": "2022-03-10T13:57:31.327Z"
   },
   {
    "duration": 7,
    "start_time": "2022-03-10T13:57:31.335Z"
   },
   {
    "duration": 6,
    "start_time": "2022-03-10T13:57:31.344Z"
   },
   {
    "duration": 6,
    "start_time": "2022-03-10T13:57:31.352Z"
   },
   {
    "duration": 14,
    "start_time": "2022-03-10T13:57:31.360Z"
   },
   {
    "duration": 10,
    "start_time": "2022-03-10T13:57:31.375Z"
   },
   {
    "duration": 12,
    "start_time": "2022-03-10T13:57:31.387Z"
   },
   {
    "duration": 10,
    "start_time": "2022-03-10T13:57:31.400Z"
   },
   {
    "duration": 9,
    "start_time": "2022-03-10T13:57:31.411Z"
   },
   {
    "duration": 6,
    "start_time": "2022-03-10T13:57:31.421Z"
   },
   {
    "duration": 16,
    "start_time": "2022-03-10T13:57:31.428Z"
   },
   {
    "duration": 25,
    "start_time": "2022-03-10T13:57:31.446Z"
   },
   {
    "duration": 4,
    "start_time": "2022-03-10T13:57:31.472Z"
   },
   {
    "duration": 11,
    "start_time": "2022-03-10T13:57:31.478Z"
   },
   {
    "duration": 5,
    "start_time": "2022-03-10T13:57:31.505Z"
   },
   {
    "duration": 18,
    "start_time": "2022-03-10T13:57:31.512Z"
   },
   {
    "duration": 4,
    "start_time": "2022-03-10T13:57:31.531Z"
   },
   {
    "duration": 17,
    "start_time": "2022-03-10T13:57:31.536Z"
   },
   {
    "duration": 4,
    "start_time": "2022-03-10T13:57:31.554Z"
   },
   {
    "duration": 11,
    "start_time": "2022-03-10T13:57:31.559Z"
   },
   {
    "duration": 3,
    "start_time": "2022-03-10T13:57:31.571Z"
   },
   {
    "duration": 41,
    "start_time": "2022-03-10T13:57:31.575Z"
   },
   {
    "duration": 3,
    "start_time": "2022-03-10T13:57:31.618Z"
   },
   {
    "duration": 24,
    "start_time": "2022-03-10T13:57:31.622Z"
   },
   {
    "duration": 4,
    "start_time": "2022-03-10T13:57:31.647Z"
   },
   {
    "duration": 8,
    "start_time": "2022-03-10T13:57:31.653Z"
   },
   {
    "duration": 11,
    "start_time": "2022-03-10T13:57:31.662Z"
   },
   {
    "duration": 8,
    "start_time": "2022-03-10T13:57:31.674Z"
   },
   {
    "duration": 23,
    "start_time": "2022-03-10T13:57:31.683Z"
   },
   {
    "duration": 9,
    "start_time": "2022-03-10T13:57:31.707Z"
   },
   {
    "duration": 13,
    "start_time": "2022-03-10T13:57:31.718Z"
   },
   {
    "duration": 9,
    "start_time": "2022-03-10T13:57:31.733Z"
   },
   {
    "duration": 15,
    "start_time": "2022-03-10T13:57:31.744Z"
   },
   {
    "duration": 226,
    "start_time": "2022-03-10T13:57:31.761Z"
   },
   {
    "duration": 24,
    "start_time": "2022-03-10T13:57:31.992Z"
   },
   {
    "duration": 376,
    "start_time": "2022-03-10T13:57:32.018Z"
   },
   {
    "duration": 273,
    "start_time": "2022-03-10T13:57:32.123Z"
   },
   {
    "duration": 270,
    "start_time": "2022-03-10T13:57:32.127Z"
   },
   {
    "duration": 213,
    "start_time": "2022-03-10T13:57:32.185Z"
   },
   {
    "duration": 589,
    "start_time": "2022-03-11T15:49:05.153Z"
   },
   {
    "duration": 10,
    "start_time": "2022-03-11T15:49:05.744Z"
   },
   {
    "duration": 10,
    "start_time": "2022-03-11T15:49:05.756Z"
   },
   {
    "duration": 5,
    "start_time": "2022-03-11T15:49:05.767Z"
   },
   {
    "duration": 9,
    "start_time": "2022-03-11T15:49:05.773Z"
   },
   {
    "duration": 80,
    "start_time": "2022-03-11T15:49:05.783Z"
   },
   {
    "duration": 6,
    "start_time": "2022-03-11T15:49:05.865Z"
   },
   {
    "duration": 4,
    "start_time": "2022-03-11T15:49:05.873Z"
   },
   {
    "duration": 6,
    "start_time": "2022-03-11T15:49:05.879Z"
   },
   {
    "duration": 5,
    "start_time": "2022-03-11T15:49:05.886Z"
   },
   {
    "duration": 7,
    "start_time": "2022-03-11T15:49:05.893Z"
   },
   {
    "duration": 12,
    "start_time": "2022-03-11T15:49:05.901Z"
   },
   {
    "duration": 5,
    "start_time": "2022-03-11T15:49:05.933Z"
   },
   {
    "duration": 5,
    "start_time": "2022-03-11T15:49:05.940Z"
   },
   {
    "duration": 6,
    "start_time": "2022-03-11T15:49:05.946Z"
   },
   {
    "duration": 13,
    "start_time": "2022-03-11T15:49:05.954Z"
   },
   {
    "duration": 6,
    "start_time": "2022-03-11T15:49:05.968Z"
   },
   {
    "duration": 5,
    "start_time": "2022-03-11T15:49:05.976Z"
   },
   {
    "duration": 7,
    "start_time": "2022-03-11T15:49:05.982Z"
   },
   {
    "duration": 4,
    "start_time": "2022-03-11T15:49:05.991Z"
   },
   {
    "duration": 38,
    "start_time": "2022-03-11T15:49:05.997Z"
   },
   {
    "duration": 6,
    "start_time": "2022-03-11T15:49:06.036Z"
   },
   {
    "duration": 6,
    "start_time": "2022-03-11T15:49:06.045Z"
   },
   {
    "duration": 5,
    "start_time": "2022-03-11T15:49:06.053Z"
   },
   {
    "duration": 6,
    "start_time": "2022-03-11T15:49:06.059Z"
   },
   {
    "duration": 6,
    "start_time": "2022-03-11T15:49:06.066Z"
   },
   {
    "duration": 6,
    "start_time": "2022-03-11T15:49:06.074Z"
   },
   {
    "duration": 8,
    "start_time": "2022-03-11T15:49:06.081Z"
   },
   {
    "duration": 44,
    "start_time": "2022-03-11T15:49:06.090Z"
   },
   {
    "duration": 5,
    "start_time": "2022-03-11T15:49:06.135Z"
   },
   {
    "duration": 11,
    "start_time": "2022-03-11T15:49:06.142Z"
   },
   {
    "duration": 5,
    "start_time": "2022-03-11T15:49:06.154Z"
   },
   {
    "duration": 9,
    "start_time": "2022-03-11T15:49:06.161Z"
   },
   {
    "duration": 8,
    "start_time": "2022-03-11T15:49:06.172Z"
   },
   {
    "duration": 6,
    "start_time": "2022-03-11T15:49:06.182Z"
   },
   {
    "duration": 6,
    "start_time": "2022-03-11T15:49:06.190Z"
   },
   {
    "duration": 5,
    "start_time": "2022-03-11T15:49:06.197Z"
   },
   {
    "duration": 39,
    "start_time": "2022-03-11T15:49:06.203Z"
   },
   {
    "duration": 4,
    "start_time": "2022-03-11T15:49:06.244Z"
   },
   {
    "duration": 5,
    "start_time": "2022-03-11T15:49:06.250Z"
   },
   {
    "duration": 5,
    "start_time": "2022-03-11T15:49:06.256Z"
   },
   {
    "duration": 4,
    "start_time": "2022-03-11T15:49:06.262Z"
   },
   {
    "duration": 6,
    "start_time": "2022-03-11T15:49:06.268Z"
   },
   {
    "duration": 17,
    "start_time": "2022-03-11T15:49:06.275Z"
   },
   {
    "duration": 61,
    "start_time": "2022-03-11T15:49:06.294Z"
   },
   {
    "duration": 4,
    "start_time": "2022-03-11T15:49:06.356Z"
   },
   {
    "duration": 12,
    "start_time": "2022-03-11T15:49:06.362Z"
   },
   {
    "duration": 9,
    "start_time": "2022-03-11T15:49:06.376Z"
   },
   {
    "duration": 21,
    "start_time": "2022-03-11T15:49:06.387Z"
   },
   {
    "duration": 4,
    "start_time": "2022-03-11T15:49:06.410Z"
   },
   {
    "duration": 32,
    "start_time": "2022-03-11T15:49:06.416Z"
   },
   {
    "duration": 5,
    "start_time": "2022-03-11T15:49:06.449Z"
   },
   {
    "duration": 10,
    "start_time": "2022-03-11T15:49:06.455Z"
   },
   {
    "duration": 3,
    "start_time": "2022-03-11T15:49:06.467Z"
   },
   {
    "duration": 19,
    "start_time": "2022-03-11T15:49:06.471Z"
   },
   {
    "duration": 4,
    "start_time": "2022-03-11T15:49:06.491Z"
   },
   {
    "duration": 58,
    "start_time": "2022-03-11T15:49:06.496Z"
   },
   {
    "duration": 5,
    "start_time": "2022-03-11T15:49:06.555Z"
   },
   {
    "duration": 5,
    "start_time": "2022-03-11T15:49:06.562Z"
   },
   {
    "duration": 18,
    "start_time": "2022-03-11T15:49:06.568Z"
   },
   {
    "duration": 14,
    "start_time": "2022-03-11T15:49:06.588Z"
   },
   {
    "duration": 30,
    "start_time": "2022-03-11T15:49:06.604Z"
   },
   {
    "duration": 16,
    "start_time": "2022-03-11T15:49:06.636Z"
   },
   {
    "duration": 15,
    "start_time": "2022-03-11T15:49:06.654Z"
   },
   {
    "duration": 16,
    "start_time": "2022-03-11T15:49:06.672Z"
   },
   {
    "duration": 58,
    "start_time": "2022-03-11T15:49:06.690Z"
   },
   {
    "duration": 288,
    "start_time": "2022-03-11T15:49:06.750Z"
   },
   {
    "duration": 17,
    "start_time": "2022-03-11T15:49:07.043Z"
   },
   {
    "duration": 231,
    "start_time": "2022-03-11T15:49:07.062Z"
   },
   {
    "duration": -111,
    "start_time": "2022-03-11T15:49:07.406Z"
   },
   {
    "duration": -113,
    "start_time": "2022-03-11T15:49:07.408Z"
   },
   {
    "duration": -113,
    "start_time": "2022-03-11T15:49:07.409Z"
   },
   {
    "duration": 140,
    "start_time": "2022-03-11T15:50:55.959Z"
   },
   {
    "duration": 18,
    "start_time": "2022-03-11T15:52:36.181Z"
   },
   {
    "duration": 740,
    "start_time": "2022-03-11T15:59:09.663Z"
   },
   {
    "duration": 11,
    "start_time": "2022-03-11T15:59:10.405Z"
   },
   {
    "duration": 19,
    "start_time": "2022-03-11T15:59:10.420Z"
   },
   {
    "duration": 7,
    "start_time": "2022-03-11T15:59:10.441Z"
   },
   {
    "duration": 11,
    "start_time": "2022-03-11T15:59:10.450Z"
   },
   {
    "duration": 90,
    "start_time": "2022-03-11T15:59:10.463Z"
   },
   {
    "duration": 7,
    "start_time": "2022-03-11T15:59:10.557Z"
   },
   {
    "duration": 5,
    "start_time": "2022-03-11T15:59:10.568Z"
   },
   {
    "duration": 5,
    "start_time": "2022-03-11T15:59:10.574Z"
   },
   {
    "duration": 2,
    "start_time": "2022-03-11T15:59:10.581Z"
   },
   {
    "duration": 6,
    "start_time": "2022-03-11T15:59:10.585Z"
   },
   {
    "duration": 5,
    "start_time": "2022-03-11T15:59:10.592Z"
   },
   {
    "duration": 7,
    "start_time": "2022-03-11T15:59:10.634Z"
   },
   {
    "duration": 11,
    "start_time": "2022-03-11T15:59:10.644Z"
   },
   {
    "duration": 6,
    "start_time": "2022-03-11T15:59:10.658Z"
   },
   {
    "duration": 6,
    "start_time": "2022-03-11T15:59:10.666Z"
   },
   {
    "duration": 5,
    "start_time": "2022-03-11T15:59:10.674Z"
   },
   {
    "duration": 5,
    "start_time": "2022-03-11T15:59:10.681Z"
   },
   {
    "duration": 53,
    "start_time": "2022-03-11T15:59:10.688Z"
   },
   {
    "duration": 9,
    "start_time": "2022-03-11T15:59:10.743Z"
   },
   {
    "duration": 12,
    "start_time": "2022-03-11T15:59:10.754Z"
   },
   {
    "duration": 5,
    "start_time": "2022-03-11T15:59:10.770Z"
   },
   {
    "duration": 6,
    "start_time": "2022-03-11T15:59:10.777Z"
   },
   {
    "duration": 9,
    "start_time": "2022-03-11T15:59:10.785Z"
   },
   {
    "duration": 4,
    "start_time": "2022-03-11T15:59:10.796Z"
   },
   {
    "duration": 32,
    "start_time": "2022-03-11T15:59:10.802Z"
   },
   {
    "duration": 14,
    "start_time": "2022-03-11T15:59:10.836Z"
   },
   {
    "duration": 11,
    "start_time": "2022-03-11T15:59:10.852Z"
   },
   {
    "duration": 8,
    "start_time": "2022-03-11T15:59:10.872Z"
   },
   {
    "duration": 6,
    "start_time": "2022-03-11T15:59:10.882Z"
   },
   {
    "duration": 13,
    "start_time": "2022-03-11T15:59:10.889Z"
   },
   {
    "duration": 15,
    "start_time": "2022-03-11T15:59:10.904Z"
   },
   {
    "duration": 4,
    "start_time": "2022-03-11T15:59:10.920Z"
   },
   {
    "duration": 7,
    "start_time": "2022-03-11T15:59:10.932Z"
   },
   {
    "duration": 19,
    "start_time": "2022-03-11T15:59:10.941Z"
   },
   {
    "duration": 15,
    "start_time": "2022-03-11T15:59:10.966Z"
   },
   {
    "duration": 22,
    "start_time": "2022-03-11T15:59:10.983Z"
   },
   {
    "duration": 11,
    "start_time": "2022-03-11T15:59:11.008Z"
   },
   {
    "duration": 13,
    "start_time": "2022-03-11T15:59:11.021Z"
   },
   {
    "duration": 18,
    "start_time": "2022-03-11T15:59:11.036Z"
   },
   {
    "duration": 27,
    "start_time": "2022-03-11T15:59:11.057Z"
   },
   {
    "duration": 7,
    "start_time": "2022-03-11T15:59:11.086Z"
   },
   {
    "duration": 11,
    "start_time": "2022-03-11T15:59:11.095Z"
   },
   {
    "duration": 28,
    "start_time": "2022-03-11T15:59:11.108Z"
   },
   {
    "duration": 45,
    "start_time": "2022-03-11T15:59:11.139Z"
   },
   {
    "duration": 5,
    "start_time": "2022-03-11T15:59:11.186Z"
   },
   {
    "duration": 15,
    "start_time": "2022-03-11T15:59:11.193Z"
   },
   {
    "duration": 27,
    "start_time": "2022-03-11T15:59:11.209Z"
   },
   {
    "duration": 40,
    "start_time": "2022-03-11T15:59:11.238Z"
   },
   {
    "duration": 4,
    "start_time": "2022-03-11T15:59:11.280Z"
   },
   {
    "duration": 28,
    "start_time": "2022-03-11T15:59:11.286Z"
   },
   {
    "duration": 4,
    "start_time": "2022-03-11T15:59:11.315Z"
   },
   {
    "duration": 23,
    "start_time": "2022-03-11T15:59:11.321Z"
   },
   {
    "duration": 12,
    "start_time": "2022-03-11T15:59:11.346Z"
   },
   {
    "duration": 23,
    "start_time": "2022-03-11T15:59:11.361Z"
   },
   {
    "duration": 5,
    "start_time": "2022-03-11T15:59:11.385Z"
   },
   {
    "duration": 32,
    "start_time": "2022-03-11T15:59:11.392Z"
   },
   {
    "duration": 11,
    "start_time": "2022-03-11T15:59:11.426Z"
   },
   {
    "duration": 37,
    "start_time": "2022-03-11T15:59:11.439Z"
   },
   {
    "duration": 19,
    "start_time": "2022-03-11T15:59:11.478Z"
   },
   {
    "duration": 11,
    "start_time": "2022-03-11T15:59:11.499Z"
   },
   {
    "duration": 5,
    "start_time": "2022-03-11T15:59:11.513Z"
   },
   {
    "duration": 17,
    "start_time": "2022-03-11T15:59:11.519Z"
   },
   {
    "duration": 16,
    "start_time": "2022-03-11T15:59:11.537Z"
   },
   {
    "duration": 22,
    "start_time": "2022-03-11T15:59:11.555Z"
   },
   {
    "duration": 29,
    "start_time": "2022-03-11T15:59:11.579Z"
   },
   {
    "duration": 327,
    "start_time": "2022-03-11T15:59:11.612Z"
   },
   {
    "duration": 19,
    "start_time": "2022-03-11T15:59:11.941Z"
   },
   {
    "duration": 225,
    "start_time": "2022-03-11T15:59:11.962Z"
   },
   {
    "duration": -114,
    "start_time": "2022-03-11T15:59:12.303Z"
   },
   {
    "duration": -115,
    "start_time": "2022-03-11T15:59:12.305Z"
   },
   {
    "duration": -116,
    "start_time": "2022-03-11T15:59:12.307Z"
   },
   {
    "duration": 165,
    "start_time": "2022-03-11T15:59:49.566Z"
   },
   {
    "duration": 148,
    "start_time": "2022-03-11T16:00:07.373Z"
   },
   {
    "duration": 568,
    "start_time": "2022-03-11T16:06:36.968Z"
   },
   {
    "duration": 9,
    "start_time": "2022-03-11T16:06:37.538Z"
   },
   {
    "duration": 8,
    "start_time": "2022-03-11T16:06:37.551Z"
   },
   {
    "duration": 28,
    "start_time": "2022-03-11T16:06:37.561Z"
   },
   {
    "duration": 4,
    "start_time": "2022-03-11T16:06:37.590Z"
   },
   {
    "duration": 38,
    "start_time": "2022-03-11T16:06:37.595Z"
   },
   {
    "duration": 59,
    "start_time": "2022-03-11T16:06:37.636Z"
   },
   {
    "duration": 5,
    "start_time": "2022-03-11T16:06:37.697Z"
   },
   {
    "duration": 4,
    "start_time": "2022-03-11T16:06:37.704Z"
   },
   {
    "duration": 5,
    "start_time": "2022-03-11T16:06:37.732Z"
   },
   {
    "duration": 3,
    "start_time": "2022-03-11T16:06:37.738Z"
   },
   {
    "duration": 8,
    "start_time": "2022-03-11T16:06:37.742Z"
   },
   {
    "duration": 5,
    "start_time": "2022-03-11T16:06:37.752Z"
   },
   {
    "duration": 5,
    "start_time": "2022-03-11T16:06:37.758Z"
   },
   {
    "duration": 5,
    "start_time": "2022-03-11T16:06:37.764Z"
   },
   {
    "duration": 5,
    "start_time": "2022-03-11T16:06:37.770Z"
   },
   {
    "duration": 5,
    "start_time": "2022-03-11T16:06:37.776Z"
   },
   {
    "duration": 7,
    "start_time": "2022-03-11T16:06:37.783Z"
   },
   {
    "duration": 48,
    "start_time": "2022-03-11T16:06:37.791Z"
   },
   {
    "duration": 5,
    "start_time": "2022-03-11T16:06:37.840Z"
   },
   {
    "duration": 4,
    "start_time": "2022-03-11T16:06:37.847Z"
   },
   {
    "duration": 5,
    "start_time": "2022-03-11T16:06:37.854Z"
   },
   {
    "duration": 7,
    "start_time": "2022-03-11T16:06:37.861Z"
   },
   {
    "duration": 10,
    "start_time": "2022-03-11T16:06:37.869Z"
   },
   {
    "duration": 10,
    "start_time": "2022-03-11T16:06:37.880Z"
   },
   {
    "duration": 4,
    "start_time": "2022-03-11T16:06:37.891Z"
   },
   {
    "duration": 35,
    "start_time": "2022-03-11T16:06:37.897Z"
   },
   {
    "duration": 6,
    "start_time": "2022-03-11T16:06:37.934Z"
   },
   {
    "duration": 12,
    "start_time": "2022-03-11T16:06:37.941Z"
   },
   {
    "duration": 9,
    "start_time": "2022-03-11T16:06:37.954Z"
   },
   {
    "duration": 8,
    "start_time": "2022-03-11T16:06:37.964Z"
   },
   {
    "duration": 11,
    "start_time": "2022-03-11T16:06:37.973Z"
   },
   {
    "duration": 9,
    "start_time": "2022-03-11T16:06:37.986Z"
   },
   {
    "duration": 8,
    "start_time": "2022-03-11T16:06:37.997Z"
   },
   {
    "duration": 8,
    "start_time": "2022-03-11T16:06:38.007Z"
   },
   {
    "duration": 17,
    "start_time": "2022-03-11T16:06:38.017Z"
   },
   {
    "duration": 6,
    "start_time": "2022-03-11T16:06:38.036Z"
   },
   {
    "duration": 8,
    "start_time": "2022-03-11T16:06:38.044Z"
   },
   {
    "duration": 6,
    "start_time": "2022-03-11T16:06:38.054Z"
   },
   {
    "duration": 6,
    "start_time": "2022-03-11T16:06:38.062Z"
   },
   {
    "duration": 4,
    "start_time": "2022-03-11T16:06:38.069Z"
   },
   {
    "duration": 6,
    "start_time": "2022-03-11T16:06:38.075Z"
   },
   {
    "duration": 5,
    "start_time": "2022-03-11T16:06:38.082Z"
   },
   {
    "duration": 7,
    "start_time": "2022-03-11T16:06:38.088Z"
   },
   {
    "duration": 17,
    "start_time": "2022-03-11T16:06:38.132Z"
   },
   {
    "duration": 29,
    "start_time": "2022-03-11T16:06:38.151Z"
   },
   {
    "duration": 4,
    "start_time": "2022-03-11T16:06:38.182Z"
   },
   {
    "duration": 11,
    "start_time": "2022-03-11T16:06:38.188Z"
   },
   {
    "duration": 35,
    "start_time": "2022-03-11T16:06:38.200Z"
   },
   {
    "duration": 17,
    "start_time": "2022-03-11T16:06:38.236Z"
   },
   {
    "duration": 3,
    "start_time": "2022-03-11T16:06:38.255Z"
   },
   {
    "duration": 17,
    "start_time": "2022-03-11T16:06:38.260Z"
   },
   {
    "duration": 3,
    "start_time": "2022-03-11T16:06:38.279Z"
   },
   {
    "duration": 10,
    "start_time": "2022-03-11T16:06:38.283Z"
   },
   {
    "duration": 3,
    "start_time": "2022-03-11T16:06:38.295Z"
   },
   {
    "duration": 43,
    "start_time": "2022-03-11T16:06:38.299Z"
   },
   {
    "duration": 4,
    "start_time": "2022-03-11T16:06:38.343Z"
   },
   {
    "duration": 27,
    "start_time": "2022-03-11T16:06:38.348Z"
   },
   {
    "duration": 5,
    "start_time": "2022-03-11T16:06:38.376Z"
   },
   {
    "duration": 4,
    "start_time": "2022-03-11T16:06:38.383Z"
   },
   {
    "duration": 12,
    "start_time": "2022-03-11T16:06:38.389Z"
   },
   {
    "duration": 36,
    "start_time": "2022-03-11T16:06:38.402Z"
   },
   {
    "duration": 4,
    "start_time": "2022-03-11T16:06:38.440Z"
   },
   {
    "duration": 18,
    "start_time": "2022-03-11T16:06:38.446Z"
   },
   {
    "duration": 10,
    "start_time": "2022-03-11T16:06:38.466Z"
   },
   {
    "duration": 10,
    "start_time": "2022-03-11T16:06:38.478Z"
   },
   {
    "duration": 44,
    "start_time": "2022-03-11T16:06:38.492Z"
   },
   {
    "duration": 211,
    "start_time": "2022-03-11T16:06:38.538Z"
   },
   {
    "duration": 17,
    "start_time": "2022-03-11T16:06:38.750Z"
   },
   {
    "duration": 197,
    "start_time": "2022-03-11T16:06:38.768Z"
   },
   {
    "duration": -136,
    "start_time": "2022-03-11T16:06:39.102Z"
   },
   {
    "duration": -144,
    "start_time": "2022-03-11T16:06:39.111Z"
   },
   {
    "duration": -146,
    "start_time": "2022-03-11T16:06:39.114Z"
   },
   {
    "duration": 43,
    "start_time": "2022-03-11T16:07:14.111Z"
   },
   {
    "duration": 602,
    "start_time": "2022-03-11T16:10:56.271Z"
   },
   {
    "duration": 10,
    "start_time": "2022-03-11T16:10:56.875Z"
   },
   {
    "duration": 9,
    "start_time": "2022-03-11T16:10:56.887Z"
   },
   {
    "duration": 66,
    "start_time": "2022-03-11T16:10:56.898Z"
   },
   {
    "duration": 5,
    "start_time": "2022-03-11T16:10:56.966Z"
   },
   {
    "duration": 8,
    "start_time": "2022-03-11T16:10:56.973Z"
   },
   {
    "duration": 88,
    "start_time": "2022-03-11T16:10:56.983Z"
   },
   {
    "duration": 6,
    "start_time": "2022-03-11T16:10:57.073Z"
   },
   {
    "duration": 7,
    "start_time": "2022-03-11T16:10:57.082Z"
   },
   {
    "duration": 7,
    "start_time": "2022-03-11T16:10:57.091Z"
   },
   {
    "duration": 3,
    "start_time": "2022-03-11T16:10:57.100Z"
   },
   {
    "duration": 33,
    "start_time": "2022-03-11T16:10:57.104Z"
   },
   {
    "duration": 5,
    "start_time": "2022-03-11T16:10:57.138Z"
   },
   {
    "duration": 6,
    "start_time": "2022-03-11T16:10:57.145Z"
   },
   {
    "duration": 9,
    "start_time": "2022-03-11T16:10:57.152Z"
   },
   {
    "duration": 8,
    "start_time": "2022-03-11T16:10:57.163Z"
   },
   {
    "duration": 6,
    "start_time": "2022-03-11T16:10:57.173Z"
   },
   {
    "duration": 6,
    "start_time": "2022-03-11T16:10:57.181Z"
   },
   {
    "duration": 7,
    "start_time": "2022-03-11T16:10:57.189Z"
   },
   {
    "duration": 4,
    "start_time": "2022-03-11T16:10:57.197Z"
   },
   {
    "duration": 32,
    "start_time": "2022-03-11T16:10:57.203Z"
   },
   {
    "duration": 7,
    "start_time": "2022-03-11T16:10:57.237Z"
   },
   {
    "duration": 5,
    "start_time": "2022-03-11T16:10:57.247Z"
   },
   {
    "duration": 9,
    "start_time": "2022-03-11T16:10:57.254Z"
   },
   {
    "duration": 9,
    "start_time": "2022-03-11T16:10:57.264Z"
   },
   {
    "duration": 3,
    "start_time": "2022-03-11T16:10:57.275Z"
   },
   {
    "duration": 13,
    "start_time": "2022-03-11T16:10:57.280Z"
   },
   {
    "duration": 11,
    "start_time": "2022-03-11T16:10:57.294Z"
   },
   {
    "duration": 26,
    "start_time": "2022-03-11T16:10:57.307Z"
   },
   {
    "duration": 4,
    "start_time": "2022-03-11T16:10:57.334Z"
   },
   {
    "duration": 11,
    "start_time": "2022-03-11T16:10:57.340Z"
   },
   {
    "duration": 8,
    "start_time": "2022-03-11T16:10:57.352Z"
   },
   {
    "duration": 5,
    "start_time": "2022-03-11T16:10:57.361Z"
   },
   {
    "duration": 6,
    "start_time": "2022-03-11T16:10:57.367Z"
   },
   {
    "duration": 6,
    "start_time": "2022-03-11T16:10:57.375Z"
   },
   {
    "duration": 11,
    "start_time": "2022-03-11T16:10:57.382Z"
   },
   {
    "duration": 7,
    "start_time": "2022-03-11T16:10:57.394Z"
   },
   {
    "duration": 31,
    "start_time": "2022-03-11T16:10:57.403Z"
   },
   {
    "duration": 16,
    "start_time": "2022-03-11T16:10:57.435Z"
   },
   {
    "duration": 9,
    "start_time": "2022-03-11T16:10:57.452Z"
   },
   {
    "duration": 6,
    "start_time": "2022-03-11T16:10:57.463Z"
   },
   {
    "duration": 9,
    "start_time": "2022-03-11T16:10:57.471Z"
   },
   {
    "duration": 6,
    "start_time": "2022-03-11T16:10:57.481Z"
   },
   {
    "duration": 7,
    "start_time": "2022-03-11T16:10:57.489Z"
   },
   {
    "duration": 20,
    "start_time": "2022-03-11T16:10:57.498Z"
   },
   {
    "duration": 33,
    "start_time": "2022-03-11T16:10:57.519Z"
   },
   {
    "duration": 4,
    "start_time": "2022-03-11T16:10:57.554Z"
   },
   {
    "duration": 12,
    "start_time": "2022-03-11T16:10:57.559Z"
   },
   {
    "duration": 8,
    "start_time": "2022-03-11T16:10:57.573Z"
   },
   {
    "duration": 18,
    "start_time": "2022-03-11T16:10:57.583Z"
   },
   {
    "duration": 4,
    "start_time": "2022-03-11T16:10:57.602Z"
   },
   {
    "duration": 38,
    "start_time": "2022-03-11T16:10:57.607Z"
   },
   {
    "duration": 3,
    "start_time": "2022-03-11T16:10:57.646Z"
   },
   {
    "duration": 11,
    "start_time": "2022-03-11T16:10:57.651Z"
   },
   {
    "duration": 9,
    "start_time": "2022-03-11T16:10:57.663Z"
   },
   {
    "duration": 19,
    "start_time": "2022-03-11T16:10:57.673Z"
   },
   {
    "duration": 3,
    "start_time": "2022-03-11T16:10:57.694Z"
   },
   {
    "duration": 44,
    "start_time": "2022-03-11T16:10:57.699Z"
   },
   {
    "duration": 5,
    "start_time": "2022-03-11T16:10:57.744Z"
   },
   {
    "duration": 7,
    "start_time": "2022-03-11T16:10:57.751Z"
   },
   {
    "duration": 15,
    "start_time": "2022-03-11T16:10:57.759Z"
   },
   {
    "duration": 10,
    "start_time": "2022-03-11T16:10:57.776Z"
   },
   {
    "duration": 5,
    "start_time": "2022-03-11T16:10:57.787Z"
   },
   {
    "duration": 14,
    "start_time": "2022-03-11T16:10:57.793Z"
   },
   {
    "duration": 33,
    "start_time": "2022-03-11T16:10:57.809Z"
   },
   {
    "duration": 10,
    "start_time": "2022-03-11T16:10:57.844Z"
   },
   {
    "duration": 18,
    "start_time": "2022-03-11T16:10:57.856Z"
   },
   {
    "duration": 239,
    "start_time": "2022-03-11T16:10:57.878Z"
   },
   {
    "duration": 203,
    "start_time": "2022-03-11T16:10:58.119Z"
   },
   {
    "duration": -127,
    "start_time": "2022-03-11T16:10:58.451Z"
   },
   {
    "duration": -127,
    "start_time": "2022-03-11T16:10:58.453Z"
   },
   {
    "duration": -133,
    "start_time": "2022-03-11T16:10:58.460Z"
   },
   {
    "duration": -133,
    "start_time": "2022-03-11T16:10:58.462Z"
   },
   {
    "duration": -134,
    "start_time": "2022-03-11T16:10:58.464Z"
   },
   {
    "duration": 599,
    "start_time": "2022-03-11T16:11:09.172Z"
   },
   {
    "duration": 11,
    "start_time": "2022-03-11T16:11:09.772Z"
   },
   {
    "duration": 9,
    "start_time": "2022-03-11T16:11:09.786Z"
   },
   {
    "duration": 68,
    "start_time": "2022-03-11T16:11:09.797Z"
   },
   {
    "duration": 5,
    "start_time": "2022-03-11T16:11:09.866Z"
   },
   {
    "duration": 10,
    "start_time": "2022-03-11T16:11:09.872Z"
   },
   {
    "duration": 93,
    "start_time": "2022-03-11T16:11:09.884Z"
   },
   {
    "duration": 6,
    "start_time": "2022-03-11T16:11:09.980Z"
   },
   {
    "duration": 13,
    "start_time": "2022-03-11T16:11:09.988Z"
   },
   {
    "duration": 10,
    "start_time": "2022-03-11T16:11:10.003Z"
   },
   {
    "duration": 18,
    "start_time": "2022-03-11T16:11:10.015Z"
   },
   {
    "duration": 4,
    "start_time": "2022-03-11T16:11:10.035Z"
   },
   {
    "duration": 10,
    "start_time": "2022-03-11T16:11:10.041Z"
   },
   {
    "duration": 8,
    "start_time": "2022-03-11T16:11:10.053Z"
   },
   {
    "duration": 7,
    "start_time": "2022-03-11T16:11:10.062Z"
   },
   {
    "duration": 5,
    "start_time": "2022-03-11T16:11:10.071Z"
   },
   {
    "duration": 10,
    "start_time": "2022-03-11T16:11:10.077Z"
   },
   {
    "duration": 10,
    "start_time": "2022-03-11T16:11:10.088Z"
   },
   {
    "duration": 18,
    "start_time": "2022-03-11T16:11:10.100Z"
   },
   {
    "duration": 19,
    "start_time": "2022-03-11T16:11:10.119Z"
   },
   {
    "duration": 9,
    "start_time": "2022-03-11T16:11:10.140Z"
   },
   {
    "duration": 9,
    "start_time": "2022-03-11T16:11:10.150Z"
   },
   {
    "duration": 4,
    "start_time": "2022-03-11T16:11:10.163Z"
   },
   {
    "duration": 5,
    "start_time": "2022-03-11T16:11:10.170Z"
   },
   {
    "duration": 6,
    "start_time": "2022-03-11T16:11:10.177Z"
   },
   {
    "duration": 3,
    "start_time": "2022-03-11T16:11:10.184Z"
   },
   {
    "duration": 10,
    "start_time": "2022-03-11T16:11:10.189Z"
   },
   {
    "duration": 37,
    "start_time": "2022-03-11T16:11:10.200Z"
   },
   {
    "duration": 12,
    "start_time": "2022-03-11T16:11:10.238Z"
   },
   {
    "duration": 7,
    "start_time": "2022-03-11T16:11:10.252Z"
   },
   {
    "duration": 8,
    "start_time": "2022-03-11T16:11:10.260Z"
   },
   {
    "duration": 15,
    "start_time": "2022-03-11T16:11:10.270Z"
   },
   {
    "duration": 6,
    "start_time": "2022-03-11T16:11:10.286Z"
   },
   {
    "duration": 6,
    "start_time": "2022-03-11T16:11:10.293Z"
   },
   {
    "duration": 7,
    "start_time": "2022-03-11T16:11:10.300Z"
   },
   {
    "duration": 25,
    "start_time": "2022-03-11T16:11:10.308Z"
   },
   {
    "duration": 6,
    "start_time": "2022-03-11T16:11:10.335Z"
   },
   {
    "duration": 10,
    "start_time": "2022-03-11T16:11:10.343Z"
   },
   {
    "duration": 7,
    "start_time": "2022-03-11T16:11:10.355Z"
   },
   {
    "duration": 6,
    "start_time": "2022-03-11T16:11:10.364Z"
   },
   {
    "duration": 5,
    "start_time": "2022-03-11T16:11:10.371Z"
   },
   {
    "duration": 8,
    "start_time": "2022-03-11T16:11:10.378Z"
   },
   {
    "duration": 5,
    "start_time": "2022-03-11T16:11:10.388Z"
   },
   {
    "duration": 7,
    "start_time": "2022-03-11T16:11:10.395Z"
   },
   {
    "duration": 17,
    "start_time": "2022-03-11T16:11:10.432Z"
   },
   {
    "duration": 30,
    "start_time": "2022-03-11T16:11:10.451Z"
   },
   {
    "duration": 5,
    "start_time": "2022-03-11T16:11:10.482Z"
   },
   {
    "duration": 13,
    "start_time": "2022-03-11T16:11:10.488Z"
   },
   {
    "duration": 31,
    "start_time": "2022-03-11T16:11:10.503Z"
   },
   {
    "duration": 20,
    "start_time": "2022-03-11T16:11:10.535Z"
   },
   {
    "duration": 3,
    "start_time": "2022-03-11T16:11:10.557Z"
   },
   {
    "duration": 18,
    "start_time": "2022-03-11T16:11:10.562Z"
   },
   {
    "duration": 3,
    "start_time": "2022-03-11T16:11:10.581Z"
   },
   {
    "duration": 14,
    "start_time": "2022-03-11T16:11:10.586Z"
   },
   {
    "duration": 32,
    "start_time": "2022-03-11T16:11:10.601Z"
   },
   {
    "duration": 21,
    "start_time": "2022-03-11T16:11:10.635Z"
   },
   {
    "duration": 4,
    "start_time": "2022-03-11T16:11:10.657Z"
   },
   {
    "duration": 31,
    "start_time": "2022-03-11T16:11:10.663Z"
   },
   {
    "duration": 5,
    "start_time": "2022-03-11T16:11:10.696Z"
   },
   {
    "duration": 7,
    "start_time": "2022-03-11T16:11:10.703Z"
   },
   {
    "duration": 33,
    "start_time": "2022-03-11T16:11:10.712Z"
   },
   {
    "duration": 14,
    "start_time": "2022-03-11T16:11:10.747Z"
   },
   {
    "duration": 7,
    "start_time": "2022-03-11T16:11:10.763Z"
   },
   {
    "duration": 15,
    "start_time": "2022-03-11T16:11:10.771Z"
   },
   {
    "duration": 13,
    "start_time": "2022-03-11T16:11:10.788Z"
   },
   {
    "duration": 37,
    "start_time": "2022-03-11T16:11:10.802Z"
   },
   {
    "duration": 37,
    "start_time": "2022-03-11T16:11:10.841Z"
   },
   {
    "duration": 225,
    "start_time": "2022-03-11T16:11:10.882Z"
   },
   {
    "duration": 26,
    "start_time": "2022-03-11T16:11:11.109Z"
   },
   {
    "duration": 13,
    "start_time": "2022-03-11T16:11:11.137Z"
   },
   {
    "duration": 201,
    "start_time": "2022-03-11T16:11:11.152Z"
   },
   {
    "duration": -138,
    "start_time": "2022-03-11T16:11:11.493Z"
   },
   {
    "duration": -140,
    "start_time": "2022-03-11T16:11:11.495Z"
   },
   {
    "duration": -141,
    "start_time": "2022-03-11T16:11:11.497Z"
   },
   {
    "duration": 656,
    "start_time": "2022-03-11T16:12:02.727Z"
   },
   {
    "duration": 9,
    "start_time": "2022-03-11T16:12:03.385Z"
   },
   {
    "duration": 11,
    "start_time": "2022-03-11T16:12:03.396Z"
   },
   {
    "duration": 59,
    "start_time": "2022-03-11T16:12:03.408Z"
   },
   {
    "duration": 4,
    "start_time": "2022-03-11T16:12:03.469Z"
   },
   {
    "duration": 7,
    "start_time": "2022-03-11T16:12:03.475Z"
   },
   {
    "duration": 98,
    "start_time": "2022-03-11T16:12:03.483Z"
   },
   {
    "duration": 7,
    "start_time": "2022-03-11T16:12:03.585Z"
   },
   {
    "duration": 9,
    "start_time": "2022-03-11T16:12:03.594Z"
   },
   {
    "duration": 7,
    "start_time": "2022-03-11T16:12:03.604Z"
   },
   {
    "duration": 4,
    "start_time": "2022-03-11T16:12:03.612Z"
   },
   {
    "duration": 7,
    "start_time": "2022-03-11T16:12:03.633Z"
   },
   {
    "duration": 7,
    "start_time": "2022-03-11T16:12:03.641Z"
   },
   {
    "duration": 5,
    "start_time": "2022-03-11T16:12:03.650Z"
   },
   {
    "duration": 7,
    "start_time": "2022-03-11T16:12:03.657Z"
   },
   {
    "duration": 6,
    "start_time": "2022-03-11T16:12:03.665Z"
   },
   {
    "duration": 10,
    "start_time": "2022-03-11T16:12:03.673Z"
   },
   {
    "duration": 8,
    "start_time": "2022-03-11T16:12:03.685Z"
   },
   {
    "duration": 5,
    "start_time": "2022-03-11T16:12:03.733Z"
   },
   {
    "duration": 7,
    "start_time": "2022-03-11T16:12:03.740Z"
   },
   {
    "duration": 5,
    "start_time": "2022-03-11T16:12:03.748Z"
   },
   {
    "duration": 5,
    "start_time": "2022-03-11T16:12:03.755Z"
   },
   {
    "duration": 5,
    "start_time": "2022-03-11T16:12:03.764Z"
   },
   {
    "duration": 5,
    "start_time": "2022-03-11T16:12:03.771Z"
   },
   {
    "duration": 8,
    "start_time": "2022-03-11T16:12:03.777Z"
   },
   {
    "duration": 4,
    "start_time": "2022-03-11T16:12:03.786Z"
   },
   {
    "duration": 5,
    "start_time": "2022-03-11T16:12:03.832Z"
   },
   {
    "duration": 8,
    "start_time": "2022-03-11T16:12:03.839Z"
   },
   {
    "duration": 7,
    "start_time": "2022-03-11T16:12:03.849Z"
   },
   {
    "duration": 6,
    "start_time": "2022-03-11T16:12:03.857Z"
   },
   {
    "duration": 7,
    "start_time": "2022-03-11T16:12:03.865Z"
   },
   {
    "duration": 10,
    "start_time": "2022-03-11T16:12:03.873Z"
   },
   {
    "duration": 13,
    "start_time": "2022-03-11T16:12:03.884Z"
   },
   {
    "duration": 5,
    "start_time": "2022-03-11T16:12:03.898Z"
   },
   {
    "duration": 31,
    "start_time": "2022-03-11T16:12:03.905Z"
   },
   {
    "duration": 6,
    "start_time": "2022-03-11T16:12:03.938Z"
   },
   {
    "duration": 7,
    "start_time": "2022-03-11T16:12:03.946Z"
   },
   {
    "duration": 4,
    "start_time": "2022-03-11T16:12:03.955Z"
   },
   {
    "duration": 8,
    "start_time": "2022-03-11T16:12:03.961Z"
   },
   {
    "duration": 6,
    "start_time": "2022-03-11T16:12:03.971Z"
   },
   {
    "duration": 4,
    "start_time": "2022-03-11T16:12:03.979Z"
   },
   {
    "duration": 7,
    "start_time": "2022-03-11T16:12:03.984Z"
   },
   {
    "duration": 41,
    "start_time": "2022-03-11T16:12:03.992Z"
   },
   {
    "duration": 5,
    "start_time": "2022-03-11T16:12:04.034Z"
   },
   {
    "duration": 16,
    "start_time": "2022-03-11T16:12:04.041Z"
   },
   {
    "duration": 30,
    "start_time": "2022-03-11T16:12:04.059Z"
   },
   {
    "duration": 4,
    "start_time": "2022-03-11T16:12:04.091Z"
   },
   {
    "duration": 40,
    "start_time": "2022-03-11T16:12:04.097Z"
   },
   {
    "duration": 6,
    "start_time": "2022-03-11T16:12:04.138Z"
   },
   {
    "duration": 17,
    "start_time": "2022-03-11T16:12:04.146Z"
   },
   {
    "duration": 3,
    "start_time": "2022-03-11T16:12:04.165Z"
   },
   {
    "duration": 19,
    "start_time": "2022-03-11T16:12:04.169Z"
   },
   {
    "duration": 4,
    "start_time": "2022-03-11T16:12:04.189Z"
   },
   {
    "duration": 13,
    "start_time": "2022-03-11T16:12:04.195Z"
   },
   {
    "duration": 5,
    "start_time": "2022-03-11T16:12:04.233Z"
   },
   {
    "duration": 18,
    "start_time": "2022-03-11T16:12:04.239Z"
   },
   {
    "duration": 4,
    "start_time": "2022-03-11T16:12:04.259Z"
   },
   {
    "duration": 24,
    "start_time": "2022-03-11T16:12:04.265Z"
   },
   {
    "duration": 6,
    "start_time": "2022-03-11T16:12:04.291Z"
   },
   {
    "duration": 35,
    "start_time": "2022-03-11T16:12:04.299Z"
   },
   {
    "duration": 13,
    "start_time": "2022-03-11T16:12:04.336Z"
   },
   {
    "duration": 10,
    "start_time": "2022-03-11T16:12:04.351Z"
   },
   {
    "duration": 6,
    "start_time": "2022-03-11T16:12:04.362Z"
   },
   {
    "duration": 15,
    "start_time": "2022-03-11T16:12:04.369Z"
   },
   {
    "duration": 10,
    "start_time": "2022-03-11T16:12:04.385Z"
   },
   {
    "duration": 41,
    "start_time": "2022-03-11T16:12:04.397Z"
   },
   {
    "duration": 19,
    "start_time": "2022-03-11T16:12:04.439Z"
   },
   {
    "duration": 228,
    "start_time": "2022-03-11T16:12:04.463Z"
   },
   {
    "duration": 14,
    "start_time": "2022-03-11T16:12:04.692Z"
   },
   {
    "duration": 25,
    "start_time": "2022-03-11T16:12:04.708Z"
   },
   {
    "duration": 199,
    "start_time": "2022-03-11T16:12:04.735Z"
   },
   {
    "duration": -143,
    "start_time": "2022-03-11T16:12:05.079Z"
   },
   {
    "duration": -144,
    "start_time": "2022-03-11T16:12:05.082Z"
   },
   {
    "duration": -145,
    "start_time": "2022-03-11T16:12:05.084Z"
   },
   {
    "duration": 571,
    "start_time": "2022-03-11T16:13:40.885Z"
   },
   {
    "duration": 12,
    "start_time": "2022-03-11T16:13:41.458Z"
   },
   {
    "duration": 9,
    "start_time": "2022-03-11T16:13:41.473Z"
   },
   {
    "duration": 73,
    "start_time": "2022-03-11T16:13:41.484Z"
   },
   {
    "duration": 4,
    "start_time": "2022-03-11T16:13:41.558Z"
   },
   {
    "duration": 8,
    "start_time": "2022-03-11T16:13:41.563Z"
   },
   {
    "duration": 83,
    "start_time": "2022-03-11T16:13:41.573Z"
   },
   {
    "duration": 5,
    "start_time": "2022-03-11T16:13:41.658Z"
   },
   {
    "duration": 14,
    "start_time": "2022-03-11T16:13:41.665Z"
   },
   {
    "duration": 11,
    "start_time": "2022-03-11T16:13:41.681Z"
   },
   {
    "duration": 7,
    "start_time": "2022-03-11T16:13:41.693Z"
   },
   {
    "duration": 10,
    "start_time": "2022-03-11T16:13:41.701Z"
   },
   {
    "duration": 8,
    "start_time": "2022-03-11T16:13:41.713Z"
   },
   {
    "duration": 7,
    "start_time": "2022-03-11T16:13:41.723Z"
   },
   {
    "duration": 8,
    "start_time": "2022-03-11T16:13:41.732Z"
   },
   {
    "duration": 5,
    "start_time": "2022-03-11T16:13:41.742Z"
   },
   {
    "duration": 9,
    "start_time": "2022-03-11T16:13:41.748Z"
   },
   {
    "duration": 8,
    "start_time": "2022-03-11T16:13:41.759Z"
   },
   {
    "duration": 7,
    "start_time": "2022-03-11T16:13:41.769Z"
   },
   {
    "duration": 8,
    "start_time": "2022-03-11T16:13:41.778Z"
   },
   {
    "duration": 4,
    "start_time": "2022-03-11T16:13:41.788Z"
   },
   {
    "duration": 5,
    "start_time": "2022-03-11T16:13:41.794Z"
   },
   {
    "duration": 30,
    "start_time": "2022-03-11T16:13:41.802Z"
   },
   {
    "duration": 5,
    "start_time": "2022-03-11T16:13:41.835Z"
   },
   {
    "duration": 9,
    "start_time": "2022-03-11T16:13:41.841Z"
   },
   {
    "duration": 3,
    "start_time": "2022-03-11T16:13:41.852Z"
   },
   {
    "duration": 10,
    "start_time": "2022-03-11T16:13:41.857Z"
   },
   {
    "duration": 9,
    "start_time": "2022-03-11T16:13:41.869Z"
   },
   {
    "duration": 8,
    "start_time": "2022-03-11T16:13:41.880Z"
   },
   {
    "duration": 8,
    "start_time": "2022-03-11T16:13:41.890Z"
   },
   {
    "duration": 11,
    "start_time": "2022-03-11T16:13:41.899Z"
   },
   {
    "duration": 27,
    "start_time": "2022-03-11T16:13:41.911Z"
   },
   {
    "duration": 15,
    "start_time": "2022-03-11T16:13:41.939Z"
   },
   {
    "duration": 7,
    "start_time": "2022-03-11T16:13:41.955Z"
   },
   {
    "duration": 9,
    "start_time": "2022-03-11T16:13:41.963Z"
   },
   {
    "duration": 10,
    "start_time": "2022-03-11T16:13:41.974Z"
   },
   {
    "duration": 7,
    "start_time": "2022-03-11T16:13:41.986Z"
   },
   {
    "duration": 10,
    "start_time": "2022-03-11T16:13:41.994Z"
   },
   {
    "duration": 12,
    "start_time": "2022-03-11T16:13:42.005Z"
   },
   {
    "duration": 8,
    "start_time": "2022-03-11T16:13:42.018Z"
   },
   {
    "duration": 5,
    "start_time": "2022-03-11T16:13:42.033Z"
   },
   {
    "duration": 6,
    "start_time": "2022-03-11T16:13:42.039Z"
   },
   {
    "duration": 19,
    "start_time": "2022-03-11T16:13:42.046Z"
   },
   {
    "duration": 10,
    "start_time": "2022-03-11T16:13:42.066Z"
   },
   {
    "duration": 22,
    "start_time": "2022-03-11T16:13:42.077Z"
   },
   {
    "duration": 32,
    "start_time": "2022-03-11T16:13:42.101Z"
   },
   {
    "duration": 4,
    "start_time": "2022-03-11T16:13:42.135Z"
   },
   {
    "duration": 12,
    "start_time": "2022-03-11T16:13:42.141Z"
   },
   {
    "duration": 10,
    "start_time": "2022-03-11T16:13:42.155Z"
   },
   {
    "duration": 18,
    "start_time": "2022-03-11T16:13:42.167Z"
   },
   {
    "duration": 6,
    "start_time": "2022-03-11T16:13:42.186Z"
   },
   {
    "duration": 23,
    "start_time": "2022-03-11T16:13:42.193Z"
   },
   {
    "duration": 15,
    "start_time": "2022-03-11T16:13:42.217Z"
   },
   {
    "duration": 7,
    "start_time": "2022-03-11T16:13:42.234Z"
   },
   {
    "duration": 4,
    "start_time": "2022-03-11T16:13:42.242Z"
   },
   {
    "duration": 23,
    "start_time": "2022-03-11T16:13:42.247Z"
   },
   {
    "duration": 4,
    "start_time": "2022-03-11T16:13:42.271Z"
   },
   {
    "duration": 29,
    "start_time": "2022-03-11T16:13:42.276Z"
   },
   {
    "duration": 5,
    "start_time": "2022-03-11T16:13:42.307Z"
   },
   {
    "duration": 5,
    "start_time": "2022-03-11T16:13:42.332Z"
   },
   {
    "duration": 23,
    "start_time": "2022-03-11T16:13:42.339Z"
   },
   {
    "duration": 13,
    "start_time": "2022-03-11T16:13:42.363Z"
   },
   {
    "duration": 9,
    "start_time": "2022-03-11T16:13:42.378Z"
   },
   {
    "duration": 17,
    "start_time": "2022-03-11T16:13:42.388Z"
   },
   {
    "duration": 11,
    "start_time": "2022-03-11T16:13:42.407Z"
   },
   {
    "duration": 17,
    "start_time": "2022-03-11T16:13:42.419Z"
   },
   {
    "duration": 24,
    "start_time": "2022-03-11T16:13:42.437Z"
   },
   {
    "duration": 215,
    "start_time": "2022-03-11T16:13:42.465Z"
   },
   {
    "duration": 2,
    "start_time": "2022-03-11T16:13:42.681Z"
   },
   {
    "duration": 24,
    "start_time": "2022-03-11T16:13:42.685Z"
   },
   {
    "duration": 25,
    "start_time": "2022-03-11T16:13:42.711Z"
   },
   {
    "duration": 13,
    "start_time": "2022-03-11T16:13:42.737Z"
   },
   {
    "duration": 317,
    "start_time": "2022-03-11T16:13:42.752Z"
   },
   {
    "duration": -139,
    "start_time": "2022-03-11T16:13:43.210Z"
   },
   {
    "duration": -141,
    "start_time": "2022-03-11T16:13:43.213Z"
   },
   {
    "duration": -143,
    "start_time": "2022-03-11T16:13:43.216Z"
   },
   {
    "duration": 773,
    "start_time": "2022-03-11T16:15:01.312Z"
   },
   {
    "duration": 10,
    "start_time": "2022-03-11T16:15:02.086Z"
   },
   {
    "duration": 9,
    "start_time": "2022-03-11T16:15:02.100Z"
   },
   {
    "duration": 64,
    "start_time": "2022-03-11T16:15:02.110Z"
   },
   {
    "duration": 4,
    "start_time": "2022-03-11T16:15:02.176Z"
   },
   {
    "duration": 7,
    "start_time": "2022-03-11T16:15:02.182Z"
   },
   {
    "duration": 93,
    "start_time": "2022-03-11T16:15:02.192Z"
   },
   {
    "duration": 7,
    "start_time": "2022-03-11T16:15:02.288Z"
   },
   {
    "duration": 7,
    "start_time": "2022-03-11T16:15:02.296Z"
   },
   {
    "duration": 29,
    "start_time": "2022-03-11T16:15:02.305Z"
   },
   {
    "duration": 2,
    "start_time": "2022-03-11T16:15:02.336Z"
   },
   {
    "duration": 14,
    "start_time": "2022-03-11T16:15:02.339Z"
   },
   {
    "duration": 7,
    "start_time": "2022-03-11T16:15:02.354Z"
   },
   {
    "duration": 5,
    "start_time": "2022-03-11T16:15:02.362Z"
   },
   {
    "duration": 6,
    "start_time": "2022-03-11T16:15:02.368Z"
   },
   {
    "duration": 4,
    "start_time": "2022-03-11T16:15:02.375Z"
   },
   {
    "duration": 5,
    "start_time": "2022-03-11T16:15:02.381Z"
   },
   {
    "duration": 11,
    "start_time": "2022-03-11T16:15:02.388Z"
   },
   {
    "duration": 36,
    "start_time": "2022-03-11T16:15:02.400Z"
   },
   {
    "duration": 17,
    "start_time": "2022-03-11T16:15:02.438Z"
   },
   {
    "duration": 4,
    "start_time": "2022-03-11T16:15:02.457Z"
   },
   {
    "duration": 10,
    "start_time": "2022-03-11T16:15:02.464Z"
   },
   {
    "duration": 5,
    "start_time": "2022-03-11T16:15:02.476Z"
   },
   {
    "duration": 6,
    "start_time": "2022-03-11T16:15:02.482Z"
   },
   {
    "duration": 7,
    "start_time": "2022-03-11T16:15:02.490Z"
   },
   {
    "duration": 3,
    "start_time": "2022-03-11T16:15:02.499Z"
   },
   {
    "duration": 30,
    "start_time": "2022-03-11T16:15:02.503Z"
   },
   {
    "duration": 5,
    "start_time": "2022-03-11T16:15:02.535Z"
   },
   {
    "duration": 11,
    "start_time": "2022-03-11T16:15:02.541Z"
   },
   {
    "duration": 6,
    "start_time": "2022-03-11T16:15:02.553Z"
   },
   {
    "duration": 5,
    "start_time": "2022-03-11T16:15:02.561Z"
   },
   {
    "duration": 6,
    "start_time": "2022-03-11T16:15:02.568Z"
   },
   {
    "duration": 6,
    "start_time": "2022-03-11T16:15:02.575Z"
   },
   {
    "duration": 11,
    "start_time": "2022-03-11T16:15:02.583Z"
   },
   {
    "duration": 9,
    "start_time": "2022-03-11T16:15:02.595Z"
   },
   {
    "duration": 29,
    "start_time": "2022-03-11T16:15:02.606Z"
   },
   {
    "duration": 13,
    "start_time": "2022-03-11T16:15:02.637Z"
   },
   {
    "duration": 16,
    "start_time": "2022-03-11T16:15:02.651Z"
   },
   {
    "duration": 12,
    "start_time": "2022-03-11T16:15:02.669Z"
   },
   {
    "duration": 5,
    "start_time": "2022-03-11T16:15:02.683Z"
   },
   {
    "duration": 4,
    "start_time": "2022-03-11T16:15:02.690Z"
   },
   {
    "duration": 7,
    "start_time": "2022-03-11T16:15:02.695Z"
   },
   {
    "duration": 8,
    "start_time": "2022-03-11T16:15:02.704Z"
   },
   {
    "duration": 20,
    "start_time": "2022-03-11T16:15:02.714Z"
   },
   {
    "duration": 21,
    "start_time": "2022-03-11T16:15:02.735Z"
   },
   {
    "duration": 40,
    "start_time": "2022-03-11T16:15:02.758Z"
   },
   {
    "duration": 5,
    "start_time": "2022-03-11T16:15:02.800Z"
   },
   {
    "duration": 35,
    "start_time": "2022-03-11T16:15:02.807Z"
   },
   {
    "duration": 10,
    "start_time": "2022-03-11T16:15:02.843Z"
   },
   {
    "duration": 17,
    "start_time": "2022-03-11T16:15:02.854Z"
   },
   {
    "duration": 2,
    "start_time": "2022-03-11T16:15:02.873Z"
   },
   {
    "duration": 19,
    "start_time": "2022-03-11T16:15:02.877Z"
   },
   {
    "duration": 3,
    "start_time": "2022-03-11T16:15:02.897Z"
   },
   {
    "duration": 12,
    "start_time": "2022-03-11T16:15:02.902Z"
   },
   {
    "duration": 4,
    "start_time": "2022-03-11T16:15:02.933Z"
   },
   {
    "duration": 21,
    "start_time": "2022-03-11T16:15:02.938Z"
   },
   {
    "duration": 3,
    "start_time": "2022-03-11T16:15:02.960Z"
   },
   {
    "duration": 32,
    "start_time": "2022-03-11T16:15:02.965Z"
   },
   {
    "duration": 5,
    "start_time": "2022-03-11T16:15:02.998Z"
   },
   {
    "duration": 8,
    "start_time": "2022-03-11T16:15:03.004Z"
   },
   {
    "duration": 30,
    "start_time": "2022-03-11T16:15:03.014Z"
   },
   {
    "duration": 13,
    "start_time": "2022-03-11T16:15:03.046Z"
   },
   {
    "duration": 10,
    "start_time": "2022-03-11T16:15:03.061Z"
   },
   {
    "duration": 26,
    "start_time": "2022-03-11T16:15:03.073Z"
   },
   {
    "duration": 18,
    "start_time": "2022-03-11T16:15:03.100Z"
   },
   {
    "duration": 15,
    "start_time": "2022-03-11T16:15:03.120Z"
   },
   {
    "duration": 18,
    "start_time": "2022-03-11T16:15:03.140Z"
   },
   {
    "duration": 228,
    "start_time": "2022-03-11T16:15:03.160Z"
   },
   {
    "duration": 2,
    "start_time": "2022-03-11T16:15:03.389Z"
   },
   {
    "duration": 22,
    "start_time": "2022-03-11T16:15:03.393Z"
   },
   {
    "duration": 25,
    "start_time": "2022-03-11T16:15:03.417Z"
   },
   {
    "duration": 5,
    "start_time": "2022-03-11T16:15:03.443Z"
   },
   {
    "duration": 18,
    "start_time": "2022-03-11T16:15:03.450Z"
   },
   {
    "duration": 203,
    "start_time": "2022-03-11T16:15:03.470Z"
   },
   {
    "duration": -150,
    "start_time": "2022-03-11T16:15:03.825Z"
   },
   {
    "duration": -153,
    "start_time": "2022-03-11T16:15:03.829Z"
   },
   {
    "duration": -156,
    "start_time": "2022-03-11T16:15:03.833Z"
   },
   {
    "duration": 594,
    "start_time": "2022-03-11T16:21:01.092Z"
   },
   {
    "duration": 12,
    "start_time": "2022-03-11T16:21:01.688Z"
   },
   {
    "duration": 20,
    "start_time": "2022-03-11T16:21:01.702Z"
   },
   {
    "duration": 75,
    "start_time": "2022-03-11T16:21:01.724Z"
   },
   {
    "duration": 4,
    "start_time": "2022-03-11T16:21:01.801Z"
   },
   {
    "duration": 30,
    "start_time": "2022-03-11T16:21:01.807Z"
   },
   {
    "duration": 66,
    "start_time": "2022-03-11T16:21:01.839Z"
   },
   {
    "duration": 8,
    "start_time": "2022-03-11T16:21:01.908Z"
   },
   {
    "duration": 20,
    "start_time": "2022-03-11T16:21:01.917Z"
   },
   {
    "duration": 12,
    "start_time": "2022-03-11T16:21:01.939Z"
   },
   {
    "duration": 3,
    "start_time": "2022-03-11T16:21:01.953Z"
   },
   {
    "duration": 8,
    "start_time": "2022-03-11T16:21:01.958Z"
   },
   {
    "duration": 6,
    "start_time": "2022-03-11T16:21:01.968Z"
   },
   {
    "duration": 11,
    "start_time": "2022-03-11T16:21:01.976Z"
   },
   {
    "duration": 6,
    "start_time": "2022-03-11T16:21:01.989Z"
   },
   {
    "duration": 37,
    "start_time": "2022-03-11T16:21:01.997Z"
   },
   {
    "duration": 9,
    "start_time": "2022-03-11T16:21:02.036Z"
   },
   {
    "duration": 10,
    "start_time": "2022-03-11T16:21:02.047Z"
   },
   {
    "duration": 8,
    "start_time": "2022-03-11T16:21:02.059Z"
   },
   {
    "duration": 7,
    "start_time": "2022-03-11T16:21:02.068Z"
   },
   {
    "duration": 6,
    "start_time": "2022-03-11T16:21:02.076Z"
   },
   {
    "duration": 11,
    "start_time": "2022-03-11T16:21:02.083Z"
   },
   {
    "duration": 6,
    "start_time": "2022-03-11T16:21:02.097Z"
   },
   {
    "duration": 6,
    "start_time": "2022-03-11T16:21:02.134Z"
   },
   {
    "duration": 7,
    "start_time": "2022-03-11T16:21:02.142Z"
   },
   {
    "duration": 7,
    "start_time": "2022-03-11T16:21:02.151Z"
   },
   {
    "duration": 12,
    "start_time": "2022-03-11T16:21:02.159Z"
   },
   {
    "duration": 7,
    "start_time": "2022-03-11T16:21:02.173Z"
   },
   {
    "duration": 10,
    "start_time": "2022-03-11T16:21:02.181Z"
   },
   {
    "duration": 4,
    "start_time": "2022-03-11T16:21:02.193Z"
   },
   {
    "duration": 36,
    "start_time": "2022-03-11T16:21:02.198Z"
   },
   {
    "duration": 6,
    "start_time": "2022-03-11T16:21:02.236Z"
   },
   {
    "duration": 9,
    "start_time": "2022-03-11T16:21:02.244Z"
   },
   {
    "duration": 12,
    "start_time": "2022-03-11T16:21:02.256Z"
   },
   {
    "duration": 9,
    "start_time": "2022-03-11T16:21:02.270Z"
   },
   {
    "duration": 11,
    "start_time": "2022-03-11T16:21:02.281Z"
   },
   {
    "duration": 8,
    "start_time": "2022-03-11T16:21:02.293Z"
   },
   {
    "duration": 10,
    "start_time": "2022-03-11T16:21:02.303Z"
   },
   {
    "duration": 10,
    "start_time": "2022-03-11T16:21:02.334Z"
   },
   {
    "duration": 21,
    "start_time": "2022-03-11T16:21:02.346Z"
   },
   {
    "duration": 15,
    "start_time": "2022-03-11T16:21:02.369Z"
   },
   {
    "duration": 15,
    "start_time": "2022-03-11T16:21:02.385Z"
   },
   {
    "duration": 11,
    "start_time": "2022-03-11T16:21:02.401Z"
   },
   {
    "duration": 13,
    "start_time": "2022-03-11T16:21:02.414Z"
   },
   {
    "duration": 20,
    "start_time": "2022-03-11T16:21:02.428Z"
   },
   {
    "duration": 32,
    "start_time": "2022-03-11T16:21:02.450Z"
   },
   {
    "duration": 5,
    "start_time": "2022-03-11T16:21:02.483Z"
   },
   {
    "duration": 15,
    "start_time": "2022-03-11T16:21:02.489Z"
   },
   {
    "duration": 29,
    "start_time": "2022-03-11T16:21:02.506Z"
   },
   {
    "duration": 17,
    "start_time": "2022-03-11T16:21:02.537Z"
   },
   {
    "duration": 4,
    "start_time": "2022-03-11T16:21:02.556Z"
   },
   {
    "duration": 26,
    "start_time": "2022-03-11T16:21:02.561Z"
   },
   {
    "duration": 3,
    "start_time": "2022-03-11T16:21:02.589Z"
   },
   {
    "duration": 12,
    "start_time": "2022-03-11T16:21:02.593Z"
   },
   {
    "duration": 4,
    "start_time": "2022-03-11T16:21:02.606Z"
   },
   {
    "duration": 36,
    "start_time": "2022-03-11T16:21:02.611Z"
   },
   {
    "duration": 3,
    "start_time": "2022-03-11T16:21:02.650Z"
   },
   {
    "duration": 32,
    "start_time": "2022-03-11T16:21:02.655Z"
   },
   {
    "duration": 6,
    "start_time": "2022-03-11T16:21:02.689Z"
   },
   {
    "duration": 36,
    "start_time": "2022-03-11T16:21:02.697Z"
   },
   {
    "duration": 12,
    "start_time": "2022-03-11T16:21:02.735Z"
   },
   {
    "duration": 14,
    "start_time": "2022-03-11T16:21:02.749Z"
   },
   {
    "duration": 7,
    "start_time": "2022-03-11T16:21:02.765Z"
   },
   {
    "duration": 15,
    "start_time": "2022-03-11T16:21:02.773Z"
   },
   {
    "duration": 11,
    "start_time": "2022-03-11T16:21:02.790Z"
   },
   {
    "duration": 36,
    "start_time": "2022-03-11T16:21:02.803Z"
   },
   {
    "duration": 18,
    "start_time": "2022-03-11T16:21:02.841Z"
   },
   {
    "duration": 241,
    "start_time": "2022-03-11T16:21:02.864Z"
   },
   {
    "duration": 30,
    "start_time": "2022-03-11T16:21:03.108Z"
   },
   {
    "duration": 60,
    "start_time": "2022-03-11T16:21:03.140Z"
   },
   {
    "duration": -137,
    "start_time": "2022-03-11T16:21:03.339Z"
   },
   {
    "duration": -139,
    "start_time": "2022-03-11T16:21:03.342Z"
   },
   {
    "duration": -141,
    "start_time": "2022-03-11T16:21:03.345Z"
   },
   {
    "duration": -147,
    "start_time": "2022-03-11T16:21:03.352Z"
   },
   {
    "duration": -148,
    "start_time": "2022-03-11T16:21:03.354Z"
   },
   {
    "duration": -149,
    "start_time": "2022-03-11T16:21:03.356Z"
   },
   {
    "duration": -150,
    "start_time": "2022-03-11T16:21:03.358Z"
   },
   {
    "duration": -151,
    "start_time": "2022-03-11T16:21:03.360Z"
   },
   {
    "duration": 580,
    "start_time": "2022-03-11T16:22:20.381Z"
   },
   {
    "duration": 11,
    "start_time": "2022-03-11T16:22:20.963Z"
   },
   {
    "duration": 9,
    "start_time": "2022-03-11T16:22:20.978Z"
   },
   {
    "duration": 65,
    "start_time": "2022-03-11T16:22:20.989Z"
   },
   {
    "duration": 4,
    "start_time": "2022-03-11T16:22:21.056Z"
   },
   {
    "duration": 13,
    "start_time": "2022-03-11T16:22:21.062Z"
   },
   {
    "duration": 85,
    "start_time": "2022-03-11T16:22:21.078Z"
   },
   {
    "duration": 6,
    "start_time": "2022-03-11T16:22:21.165Z"
   },
   {
    "duration": 6,
    "start_time": "2022-03-11T16:22:21.173Z"
   },
   {
    "duration": 10,
    "start_time": "2022-03-11T16:22:21.181Z"
   },
   {
    "duration": 7,
    "start_time": "2022-03-11T16:22:21.193Z"
   },
   {
    "duration": 19,
    "start_time": "2022-03-11T16:22:21.202Z"
   },
   {
    "duration": 14,
    "start_time": "2022-03-11T16:22:21.223Z"
   },
   {
    "duration": 8,
    "start_time": "2022-03-11T16:22:21.239Z"
   },
   {
    "duration": 10,
    "start_time": "2022-03-11T16:22:21.249Z"
   },
   {
    "duration": 8,
    "start_time": "2022-03-11T16:22:21.260Z"
   },
   {
    "duration": 7,
    "start_time": "2022-03-11T16:22:21.270Z"
   },
   {
    "duration": 5,
    "start_time": "2022-03-11T16:22:21.278Z"
   },
   {
    "duration": 7,
    "start_time": "2022-03-11T16:22:21.285Z"
   },
   {
    "duration": 40,
    "start_time": "2022-03-11T16:22:21.294Z"
   },
   {
    "duration": 4,
    "start_time": "2022-03-11T16:22:21.336Z"
   },
   {
    "duration": 4,
    "start_time": "2022-03-11T16:22:21.344Z"
   },
   {
    "duration": 4,
    "start_time": "2022-03-11T16:22:21.351Z"
   },
   {
    "duration": 7,
    "start_time": "2022-03-11T16:22:21.356Z"
   },
   {
    "duration": 7,
    "start_time": "2022-03-11T16:22:21.365Z"
   },
   {
    "duration": 6,
    "start_time": "2022-03-11T16:22:21.374Z"
   },
   {
    "duration": 6,
    "start_time": "2022-03-11T16:22:21.382Z"
   },
   {
    "duration": 44,
    "start_time": "2022-03-11T16:22:21.390Z"
   },
   {
    "duration": 7,
    "start_time": "2022-03-11T16:22:21.436Z"
   },
   {
    "duration": 9,
    "start_time": "2022-03-11T16:22:21.444Z"
   },
   {
    "duration": 9,
    "start_time": "2022-03-11T16:22:21.454Z"
   },
   {
    "duration": 7,
    "start_time": "2022-03-11T16:22:21.464Z"
   },
   {
    "duration": 6,
    "start_time": "2022-03-11T16:22:21.472Z"
   },
   {
    "duration": 6,
    "start_time": "2022-03-11T16:22:21.480Z"
   },
   {
    "duration": 9,
    "start_time": "2022-03-11T16:22:21.488Z"
   },
   {
    "duration": 13,
    "start_time": "2022-03-11T16:22:21.498Z"
   },
   {
    "duration": 6,
    "start_time": "2022-03-11T16:22:21.533Z"
   },
   {
    "duration": 6,
    "start_time": "2022-03-11T16:22:21.541Z"
   },
   {
    "duration": 8,
    "start_time": "2022-03-11T16:22:21.549Z"
   },
   {
    "duration": 7,
    "start_time": "2022-03-11T16:22:21.559Z"
   },
   {
    "duration": 4,
    "start_time": "2022-03-11T16:22:21.567Z"
   },
   {
    "duration": 8,
    "start_time": "2022-03-11T16:22:21.573Z"
   },
   {
    "duration": 7,
    "start_time": "2022-03-11T16:22:21.583Z"
   },
   {
    "duration": 7,
    "start_time": "2022-03-11T16:22:21.591Z"
   },
   {
    "duration": 30,
    "start_time": "2022-03-11T16:22:21.634Z"
   },
   {
    "duration": 42,
    "start_time": "2022-03-11T16:22:21.666Z"
   },
   {
    "duration": 5,
    "start_time": "2022-03-11T16:22:21.710Z"
   },
   {
    "duration": 28,
    "start_time": "2022-03-11T16:22:21.717Z"
   },
   {
    "duration": 6,
    "start_time": "2022-03-11T16:22:21.747Z"
   },
   {
    "duration": 18,
    "start_time": "2022-03-11T16:22:21.754Z"
   },
   {
    "duration": 4,
    "start_time": "2022-03-11T16:22:21.774Z"
   },
   {
    "duration": 17,
    "start_time": "2022-03-11T16:22:21.779Z"
   },
   {
    "duration": 35,
    "start_time": "2022-03-11T16:22:21.798Z"
   },
   {
    "duration": 15,
    "start_time": "2022-03-11T16:22:21.835Z"
   },
   {
    "duration": 4,
    "start_time": "2022-03-11T16:22:21.851Z"
   },
   {
    "duration": 19,
    "start_time": "2022-03-11T16:22:21.856Z"
   },
   {
    "duration": 4,
    "start_time": "2022-03-11T16:22:21.877Z"
   },
   {
    "duration": 52,
    "start_time": "2022-03-11T16:22:21.883Z"
   },
   {
    "duration": 4,
    "start_time": "2022-03-11T16:22:21.937Z"
   },
   {
    "duration": 9,
    "start_time": "2022-03-11T16:22:21.943Z"
   },
   {
    "duration": 12,
    "start_time": "2022-03-11T16:22:21.953Z"
   },
   {
    "duration": 9,
    "start_time": "2022-03-11T16:22:21.967Z"
   },
   {
    "duration": 7,
    "start_time": "2022-03-11T16:22:21.977Z"
   },
   {
    "duration": 16,
    "start_time": "2022-03-11T16:22:21.985Z"
   },
   {
    "duration": 41,
    "start_time": "2022-03-11T16:22:22.002Z"
   },
   {
    "duration": 13,
    "start_time": "2022-03-11T16:22:22.045Z"
   },
   {
    "duration": 22,
    "start_time": "2022-03-11T16:22:22.062Z"
   },
   {
    "duration": 235,
    "start_time": "2022-03-11T16:22:22.086Z"
   },
   {
    "duration": 20,
    "start_time": "2022-03-11T16:22:22.323Z"
   },
   {
    "duration": 19,
    "start_time": "2022-03-11T16:22:22.345Z"
   },
   {
    "duration": 6,
    "start_time": "2022-03-11T16:22:22.365Z"
   },
   {
    "duration": 16,
    "start_time": "2022-03-11T16:22:22.373Z"
   },
   {
    "duration": 193,
    "start_time": "2022-03-11T16:22:22.390Z"
   },
   {
    "duration": -142,
    "start_time": "2022-03-11T16:22:22.727Z"
   },
   {
    "duration": -143,
    "start_time": "2022-03-11T16:22:22.729Z"
   },
   {
    "duration": -143,
    "start_time": "2022-03-11T16:22:22.731Z"
   },
   {
    "duration": -149,
    "start_time": "2022-03-11T16:22:22.738Z"
   },
   {
    "duration": 125,
    "start_time": "2022-03-11T16:22:46.331Z"
   },
   {
    "duration": 29,
    "start_time": "2022-03-11T16:23:58.190Z"
   },
   {
    "duration": 16,
    "start_time": "2022-03-11T16:26:54.951Z"
   },
   {
    "duration": 16,
    "start_time": "2022-03-11T16:27:12.704Z"
   },
   {
    "duration": 18,
    "start_time": "2022-03-11T16:27:40.131Z"
   },
   {
    "duration": 15,
    "start_time": "2022-03-11T16:27:45.464Z"
   },
   {
    "duration": 154,
    "start_time": "2022-03-11T16:32:30.066Z"
   },
   {
    "duration": 154,
    "start_time": "2022-03-11T16:32:37.182Z"
   },
   {
    "duration": 19,
    "start_time": "2022-03-11T16:32:48.765Z"
   },
   {
    "duration": 26,
    "start_time": "2022-03-11T16:35:15.094Z"
   },
   {
    "duration": 22,
    "start_time": "2022-03-11T16:35:34.454Z"
   },
   {
    "duration": 143,
    "start_time": "2022-03-11T16:36:19.145Z"
   },
   {
    "duration": 139,
    "start_time": "2022-03-11T16:36:41.898Z"
   },
   {
    "duration": 25,
    "start_time": "2022-03-11T16:36:56.041Z"
   },
   {
    "duration": 24,
    "start_time": "2022-03-11T16:37:05.936Z"
   },
   {
    "duration": 23,
    "start_time": "2022-03-11T16:37:57.119Z"
   },
   {
    "duration": 22,
    "start_time": "2022-03-11T16:38:12.099Z"
   },
   {
    "duration": 24,
    "start_time": "2022-03-11T16:38:39.017Z"
   },
   {
    "duration": 24,
    "start_time": "2022-03-11T16:39:15.172Z"
   },
   {
    "duration": 148,
    "start_time": "2022-03-11T16:40:16.240Z"
   },
   {
    "duration": 27,
    "start_time": "2022-03-11T16:40:28.392Z"
   },
   {
    "duration": 22,
    "start_time": "2022-03-11T16:40:37.455Z"
   },
   {
    "duration": 23,
    "start_time": "2022-03-11T16:41:32.754Z"
   },
   {
    "duration": 137,
    "start_time": "2022-03-11T16:43:50.870Z"
   },
   {
    "duration": 14,
    "start_time": "2022-03-11T16:44:52.607Z"
   },
   {
    "duration": 18,
    "start_time": "2022-03-11T16:44:58.340Z"
   },
   {
    "duration": 125,
    "start_time": "2022-03-11T16:46:57.812Z"
   },
   {
    "duration": 636,
    "start_time": "2022-03-11T16:47:03.789Z"
   },
   {
    "duration": 17,
    "start_time": "2022-03-11T16:47:04.427Z"
   },
   {
    "duration": 29,
    "start_time": "2022-03-11T16:47:04.447Z"
   },
   {
    "duration": 70,
    "start_time": "2022-03-11T16:47:04.478Z"
   },
   {
    "duration": 5,
    "start_time": "2022-03-11T16:47:04.553Z"
   },
   {
    "duration": 12,
    "start_time": "2022-03-11T16:47:04.559Z"
   },
   {
    "duration": 76,
    "start_time": "2022-03-11T16:47:04.573Z"
   },
   {
    "duration": 7,
    "start_time": "2022-03-11T16:47:04.651Z"
   },
   {
    "duration": 5,
    "start_time": "2022-03-11T16:47:04.660Z"
   },
   {
    "duration": 6,
    "start_time": "2022-03-11T16:47:04.667Z"
   },
   {
    "duration": 9,
    "start_time": "2022-03-11T16:47:04.675Z"
   },
   {
    "duration": 11,
    "start_time": "2022-03-11T16:47:04.686Z"
   },
   {
    "duration": 7,
    "start_time": "2022-03-11T16:47:04.699Z"
   },
   {
    "duration": 7,
    "start_time": "2022-03-11T16:47:04.733Z"
   },
   {
    "duration": 15,
    "start_time": "2022-03-11T16:47:04.743Z"
   },
   {
    "duration": 6,
    "start_time": "2022-03-11T16:47:04.760Z"
   },
   {
    "duration": 9,
    "start_time": "2022-03-11T16:47:04.767Z"
   },
   {
    "duration": 5,
    "start_time": "2022-03-11T16:47:04.778Z"
   },
   {
    "duration": 6,
    "start_time": "2022-03-11T16:47:04.785Z"
   },
   {
    "duration": 7,
    "start_time": "2022-03-11T16:47:04.793Z"
   },
   {
    "duration": 35,
    "start_time": "2022-03-11T16:47:04.801Z"
   },
   {
    "duration": 20,
    "start_time": "2022-03-11T16:47:04.838Z"
   },
   {
    "duration": 6,
    "start_time": "2022-03-11T16:47:04.864Z"
   },
   {
    "duration": 6,
    "start_time": "2022-03-11T16:47:04.873Z"
   },
   {
    "duration": 8,
    "start_time": "2022-03-11T16:47:04.880Z"
   },
   {
    "duration": 4,
    "start_time": "2022-03-11T16:47:04.889Z"
   },
   {
    "duration": 6,
    "start_time": "2022-03-11T16:47:04.895Z"
   },
   {
    "duration": 8,
    "start_time": "2022-03-11T16:47:04.933Z"
   },
   {
    "duration": 18,
    "start_time": "2022-03-11T16:47:04.943Z"
   },
   {
    "duration": 6,
    "start_time": "2022-03-11T16:47:04.963Z"
   },
   {
    "duration": 7,
    "start_time": "2022-03-11T16:47:04.971Z"
   },
   {
    "duration": 13,
    "start_time": "2022-03-11T16:47:04.979Z"
   },
   {
    "duration": 7,
    "start_time": "2022-03-11T16:47:04.994Z"
   },
   {
    "duration": 6,
    "start_time": "2022-03-11T16:47:05.003Z"
   },
   {
    "duration": 25,
    "start_time": "2022-03-11T16:47:05.011Z"
   },
   {
    "duration": 22,
    "start_time": "2022-03-11T16:47:05.038Z"
   },
   {
    "duration": 6,
    "start_time": "2022-03-11T16:47:05.062Z"
   },
   {
    "duration": 6,
    "start_time": "2022-03-11T16:47:05.071Z"
   },
   {
    "duration": 10,
    "start_time": "2022-03-11T16:47:05.079Z"
   },
   {
    "duration": 8,
    "start_time": "2022-03-11T16:47:05.091Z"
   },
   {
    "duration": 3,
    "start_time": "2022-03-11T16:47:05.101Z"
   },
   {
    "duration": 7,
    "start_time": "2022-03-11T16:47:05.134Z"
   },
   {
    "duration": 12,
    "start_time": "2022-03-11T16:47:05.143Z"
   },
   {
    "duration": 7,
    "start_time": "2022-03-11T16:47:05.157Z"
   },
   {
    "duration": 18,
    "start_time": "2022-03-11T16:47:05.166Z"
   },
   {
    "duration": 53,
    "start_time": "2022-03-11T16:47:05.185Z"
   },
   {
    "duration": 8,
    "start_time": "2022-03-11T16:47:05.241Z"
   },
   {
    "duration": 14,
    "start_time": "2022-03-11T16:47:05.251Z"
   },
   {
    "duration": 7,
    "start_time": "2022-03-11T16:47:05.267Z"
   },
   {
    "duration": 17,
    "start_time": "2022-03-11T16:47:05.276Z"
   },
   {
    "duration": 3,
    "start_time": "2022-03-11T16:47:05.295Z"
   },
   {
    "duration": 54,
    "start_time": "2022-03-11T16:47:05.300Z"
   },
   {
    "duration": 4,
    "start_time": "2022-03-11T16:47:05.356Z"
   },
   {
    "duration": 11,
    "start_time": "2022-03-11T16:47:05.362Z"
   },
   {
    "duration": 4,
    "start_time": "2022-03-11T16:47:05.375Z"
   },
   {
    "duration": 16,
    "start_time": "2022-03-11T16:47:05.381Z"
   },
   {
    "duration": 5,
    "start_time": "2022-03-11T16:47:05.398Z"
   },
   {
    "duration": 55,
    "start_time": "2022-03-11T16:47:05.404Z"
   },
   {
    "duration": 5,
    "start_time": "2022-03-11T16:47:05.461Z"
   },
   {
    "duration": 5,
    "start_time": "2022-03-11T16:47:05.468Z"
   },
   {
    "duration": 13,
    "start_time": "2022-03-11T16:47:05.475Z"
   },
   {
    "duration": 9,
    "start_time": "2022-03-11T16:47:05.490Z"
   },
   {
    "duration": 33,
    "start_time": "2022-03-11T16:47:05.501Z"
   },
   {
    "duration": 24,
    "start_time": "2022-03-11T16:47:05.537Z"
   },
   {
    "duration": 10,
    "start_time": "2022-03-11T16:47:05.563Z"
   },
   {
    "duration": 11,
    "start_time": "2022-03-11T16:47:05.575Z"
   },
   {
    "duration": 20,
    "start_time": "2022-03-11T16:47:05.588Z"
   },
   {
    "duration": 268,
    "start_time": "2022-03-11T16:47:05.613Z"
   },
   {
    "duration": 17,
    "start_time": "2022-03-11T16:47:05.882Z"
   },
   {
    "duration": 199,
    "start_time": "2022-03-11T16:47:05.900Z"
   },
   {
    "duration": -166,
    "start_time": "2022-03-11T16:47:06.267Z"
   },
   {
    "duration": -166,
    "start_time": "2022-03-11T16:47:06.269Z"
   },
   {
    "duration": -168,
    "start_time": "2022-03-11T16:47:06.271Z"
   },
   {
    "duration": -174,
    "start_time": "2022-03-11T16:47:06.278Z"
   },
   {
    "duration": -175,
    "start_time": "2022-03-11T16:47:06.280Z"
   },
   {
    "duration": -176,
    "start_time": "2022-03-11T16:47:06.282Z"
   },
   {
    "duration": -177,
    "start_time": "2022-03-11T16:47:06.284Z"
   },
   {
    "duration": 135,
    "start_time": "2022-03-11T16:47:27.261Z"
   },
   {
    "duration": 29,
    "start_time": "2022-03-11T16:47:56.189Z"
   },
   {
    "duration": 633,
    "start_time": "2022-03-11T16:48:08.009Z"
   },
   {
    "duration": 11,
    "start_time": "2022-03-11T16:48:08.645Z"
   },
   {
    "duration": 9,
    "start_time": "2022-03-11T16:48:08.659Z"
   },
   {
    "duration": 82,
    "start_time": "2022-03-11T16:48:08.670Z"
   },
   {
    "duration": 5,
    "start_time": "2022-03-11T16:48:08.753Z"
   },
   {
    "duration": 8,
    "start_time": "2022-03-11T16:48:08.759Z"
   },
   {
    "duration": 86,
    "start_time": "2022-03-11T16:48:08.768Z"
   },
   {
    "duration": 6,
    "start_time": "2022-03-11T16:48:08.856Z"
   },
   {
    "duration": 7,
    "start_time": "2022-03-11T16:48:08.863Z"
   },
   {
    "duration": 9,
    "start_time": "2022-03-11T16:48:08.871Z"
   },
   {
    "duration": 3,
    "start_time": "2022-03-11T16:48:08.882Z"
   },
   {
    "duration": 10,
    "start_time": "2022-03-11T16:48:08.887Z"
   },
   {
    "duration": 5,
    "start_time": "2022-03-11T16:48:08.899Z"
   },
   {
    "duration": 28,
    "start_time": "2022-03-11T16:48:08.906Z"
   },
   {
    "duration": 9,
    "start_time": "2022-03-11T16:48:08.936Z"
   },
   {
    "duration": 5,
    "start_time": "2022-03-11T16:48:08.947Z"
   },
   {
    "duration": 7,
    "start_time": "2022-03-11T16:48:08.953Z"
   },
   {
    "duration": 7,
    "start_time": "2022-03-11T16:48:08.961Z"
   },
   {
    "duration": 5,
    "start_time": "2022-03-11T16:48:08.969Z"
   },
   {
    "duration": 5,
    "start_time": "2022-03-11T16:48:08.976Z"
   },
   {
    "duration": 5,
    "start_time": "2022-03-11T16:48:08.983Z"
   },
   {
    "duration": 6,
    "start_time": "2022-03-11T16:48:09.033Z"
   },
   {
    "duration": 5,
    "start_time": "2022-03-11T16:48:09.043Z"
   },
   {
    "duration": 7,
    "start_time": "2022-03-11T16:48:09.050Z"
   },
   {
    "duration": 8,
    "start_time": "2022-03-11T16:48:09.058Z"
   },
   {
    "duration": 3,
    "start_time": "2022-03-11T16:48:09.067Z"
   },
   {
    "duration": 7,
    "start_time": "2022-03-11T16:48:09.071Z"
   },
   {
    "duration": 7,
    "start_time": "2022-03-11T16:48:09.080Z"
   },
   {
    "duration": 48,
    "start_time": "2022-03-11T16:48:09.088Z"
   },
   {
    "duration": 6,
    "start_time": "2022-03-11T16:48:09.138Z"
   },
   {
    "duration": 8,
    "start_time": "2022-03-11T16:48:09.145Z"
   },
   {
    "duration": 7,
    "start_time": "2022-03-11T16:48:09.154Z"
   },
   {
    "duration": 6,
    "start_time": "2022-03-11T16:48:09.162Z"
   },
   {
    "duration": 7,
    "start_time": "2022-03-11T16:48:09.170Z"
   },
   {
    "duration": 7,
    "start_time": "2022-03-11T16:48:09.179Z"
   },
   {
    "duration": 7,
    "start_time": "2022-03-11T16:48:09.188Z"
   },
   {
    "duration": 39,
    "start_time": "2022-03-11T16:48:09.197Z"
   },
   {
    "duration": 5,
    "start_time": "2022-03-11T16:48:09.238Z"
   },
   {
    "duration": 8,
    "start_time": "2022-03-11T16:48:09.245Z"
   },
   {
    "duration": 4,
    "start_time": "2022-03-11T16:48:09.254Z"
   },
   {
    "duration": 4,
    "start_time": "2022-03-11T16:48:09.260Z"
   },
   {
    "duration": 8,
    "start_time": "2022-03-11T16:48:09.266Z"
   },
   {
    "duration": 5,
    "start_time": "2022-03-11T16:48:09.276Z"
   },
   {
    "duration": 5,
    "start_time": "2022-03-11T16:48:09.282Z"
   },
   {
    "duration": 57,
    "start_time": "2022-03-11T16:48:09.289Z"
   },
   {
    "duration": 41,
    "start_time": "2022-03-11T16:48:09.348Z"
   },
   {
    "duration": 5,
    "start_time": "2022-03-11T16:48:09.391Z"
   },
   {
    "duration": 36,
    "start_time": "2022-03-11T16:48:09.398Z"
   },
   {
    "duration": 9,
    "start_time": "2022-03-11T16:48:09.435Z"
   },
   {
    "duration": 19,
    "start_time": "2022-03-11T16:48:09.446Z"
   },
   {
    "duration": 3,
    "start_time": "2022-03-11T16:48:09.467Z"
   },
   {
    "duration": 17,
    "start_time": "2022-03-11T16:48:09.472Z"
   },
   {
    "duration": 4,
    "start_time": "2022-03-11T16:48:09.491Z"
   },
   {
    "duration": 39,
    "start_time": "2022-03-11T16:48:09.496Z"
   },
   {
    "duration": 4,
    "start_time": "2022-03-11T16:48:09.537Z"
   },
   {
    "duration": 19,
    "start_time": "2022-03-11T16:48:09.543Z"
   },
   {
    "duration": 3,
    "start_time": "2022-03-11T16:48:09.564Z"
   },
   {
    "duration": 29,
    "start_time": "2022-03-11T16:48:09.569Z"
   },
   {
    "duration": 5,
    "start_time": "2022-03-11T16:48:09.600Z"
   },
   {
    "duration": 28,
    "start_time": "2022-03-11T16:48:09.606Z"
   },
   {
    "duration": 12,
    "start_time": "2022-03-11T16:48:09.636Z"
   },
   {
    "duration": 11,
    "start_time": "2022-03-11T16:48:09.649Z"
   },
   {
    "duration": 6,
    "start_time": "2022-03-11T16:48:09.662Z"
   },
   {
    "duration": 17,
    "start_time": "2022-03-11T16:48:09.670Z"
   },
   {
    "duration": 11,
    "start_time": "2022-03-11T16:48:09.689Z"
   },
   {
    "duration": 37,
    "start_time": "2022-03-11T16:48:09.701Z"
   },
   {
    "duration": 19,
    "start_time": "2022-03-11T16:48:09.740Z"
   },
   {
    "duration": 370,
    "start_time": "2022-03-11T16:48:09.766Z"
   },
   {
    "duration": 18,
    "start_time": "2022-03-11T16:48:10.138Z"
   },
   {
    "duration": 42,
    "start_time": "2022-03-11T16:48:10.158Z"
   },
   {
    "duration": 45,
    "start_time": "2022-03-11T16:48:10.201Z"
   },
   {
    "duration": 11,
    "start_time": "2022-03-11T16:48:10.248Z"
   },
   {
    "duration": 30,
    "start_time": "2022-03-11T16:48:10.261Z"
   },
   {
    "duration": 259,
    "start_time": "2022-03-11T16:48:10.293Z"
   },
   {
    "duration": -185,
    "start_time": "2022-03-11T16:48:10.739Z"
   },
   {
    "duration": -186,
    "start_time": "2022-03-11T16:48:10.741Z"
   },
   {
    "duration": -187,
    "start_time": "2022-03-11T16:48:10.743Z"
   },
   {
    "duration": 589,
    "start_time": "2022-03-11T16:50:10.670Z"
   },
   {
    "duration": 10,
    "start_time": "2022-03-11T16:50:11.261Z"
   },
   {
    "duration": 9,
    "start_time": "2022-03-11T16:50:11.275Z"
   },
   {
    "duration": 69,
    "start_time": "2022-03-11T16:50:11.286Z"
   },
   {
    "duration": 3,
    "start_time": "2022-03-11T16:50:11.357Z"
   },
   {
    "duration": 8,
    "start_time": "2022-03-11T16:50:11.362Z"
   },
   {
    "duration": 89,
    "start_time": "2022-03-11T16:50:11.373Z"
   },
   {
    "duration": 7,
    "start_time": "2022-03-11T16:50:11.464Z"
   },
   {
    "duration": 5,
    "start_time": "2022-03-11T16:50:11.473Z"
   },
   {
    "duration": 11,
    "start_time": "2022-03-11T16:50:11.480Z"
   },
   {
    "duration": 4,
    "start_time": "2022-03-11T16:50:11.493Z"
   },
   {
    "duration": 8,
    "start_time": "2022-03-11T16:50:11.499Z"
   },
   {
    "duration": 7,
    "start_time": "2022-03-11T16:50:11.533Z"
   },
   {
    "duration": 10,
    "start_time": "2022-03-11T16:50:11.542Z"
   },
   {
    "duration": 6,
    "start_time": "2022-03-11T16:50:11.554Z"
   },
   {
    "duration": 6,
    "start_time": "2022-03-11T16:50:11.562Z"
   },
   {
    "duration": 6,
    "start_time": "2022-03-11T16:50:11.570Z"
   },
   {
    "duration": 6,
    "start_time": "2022-03-11T16:50:11.577Z"
   },
   {
    "duration": 5,
    "start_time": "2022-03-11T16:50:11.585Z"
   },
   {
    "duration": 7,
    "start_time": "2022-03-11T16:50:11.633Z"
   },
   {
    "duration": 5,
    "start_time": "2022-03-11T16:50:11.642Z"
   },
   {
    "duration": 5,
    "start_time": "2022-03-11T16:50:11.652Z"
   },
   {
    "duration": 5,
    "start_time": "2022-03-11T16:50:11.660Z"
   },
   {
    "duration": 5,
    "start_time": "2022-03-11T16:50:11.667Z"
   },
   {
    "duration": 6,
    "start_time": "2022-03-11T16:50:11.674Z"
   },
   {
    "duration": 2,
    "start_time": "2022-03-11T16:50:11.733Z"
   },
   {
    "duration": 10,
    "start_time": "2022-03-11T16:50:11.737Z"
   },
   {
    "duration": 14,
    "start_time": "2022-03-11T16:50:11.749Z"
   },
   {
    "duration": 10,
    "start_time": "2022-03-11T16:50:11.764Z"
   },
   {
    "duration": 4,
    "start_time": "2022-03-11T16:50:11.776Z"
   },
   {
    "duration": 5,
    "start_time": "2022-03-11T16:50:11.781Z"
   },
   {
    "duration": 6,
    "start_time": "2022-03-11T16:50:11.787Z"
   },
   {
    "duration": 4,
    "start_time": "2022-03-11T16:50:11.794Z"
   },
   {
    "duration": 6,
    "start_time": "2022-03-11T16:50:11.800Z"
   },
   {
    "duration": 25,
    "start_time": "2022-03-11T16:50:11.808Z"
   },
   {
    "duration": 6,
    "start_time": "2022-03-11T16:50:11.835Z"
   },
   {
    "duration": 11,
    "start_time": "2022-03-11T16:50:11.842Z"
   },
   {
    "duration": 10,
    "start_time": "2022-03-11T16:50:11.854Z"
   },
   {
    "duration": 7,
    "start_time": "2022-03-11T16:50:11.866Z"
   },
   {
    "duration": 5,
    "start_time": "2022-03-11T16:50:11.875Z"
   },
   {
    "duration": 5,
    "start_time": "2022-03-11T16:50:11.881Z"
   },
   {
    "duration": 5,
    "start_time": "2022-03-11T16:50:11.888Z"
   },
   {
    "duration": 5,
    "start_time": "2022-03-11T16:50:11.894Z"
   },
   {
    "duration": 32,
    "start_time": "2022-03-11T16:50:11.901Z"
   },
   {
    "duration": 16,
    "start_time": "2022-03-11T16:50:11.935Z"
   },
   {
    "duration": 28,
    "start_time": "2022-03-11T16:50:11.952Z"
   },
   {
    "duration": 4,
    "start_time": "2022-03-11T16:50:11.981Z"
   },
   {
    "duration": 25,
    "start_time": "2022-03-11T16:50:11.986Z"
   },
   {
    "duration": 21,
    "start_time": "2022-03-11T16:50:12.013Z"
   },
   {
    "duration": 16,
    "start_time": "2022-03-11T16:50:12.036Z"
   },
   {
    "duration": 3,
    "start_time": "2022-03-11T16:50:12.054Z"
   },
   {
    "duration": 16,
    "start_time": "2022-03-11T16:50:12.058Z"
   },
   {
    "duration": 3,
    "start_time": "2022-03-11T16:50:12.076Z"
   },
   {
    "duration": 10,
    "start_time": "2022-03-11T16:50:12.081Z"
   },
   {
    "duration": 4,
    "start_time": "2022-03-11T16:50:12.092Z"
   },
   {
    "duration": 46,
    "start_time": "2022-03-11T16:50:12.097Z"
   },
   {
    "duration": 3,
    "start_time": "2022-03-11T16:50:12.145Z"
   },
   {
    "duration": 25,
    "start_time": "2022-03-11T16:50:12.150Z"
   },
   {
    "duration": 5,
    "start_time": "2022-03-11T16:50:12.176Z"
   },
   {
    "duration": 7,
    "start_time": "2022-03-11T16:50:12.183Z"
   },
   {
    "duration": 15,
    "start_time": "2022-03-11T16:50:12.192Z"
   },
   {
    "duration": 31,
    "start_time": "2022-03-11T16:50:12.208Z"
   },
   {
    "duration": 5,
    "start_time": "2022-03-11T16:50:12.241Z"
   },
   {
    "duration": 14,
    "start_time": "2022-03-11T16:50:12.247Z"
   },
   {
    "duration": 12,
    "start_time": "2022-03-11T16:50:12.262Z"
   },
   {
    "duration": 11,
    "start_time": "2022-03-11T16:50:12.275Z"
   },
   {
    "duration": 54,
    "start_time": "2022-03-11T16:50:12.291Z"
   },
   {
    "duration": 219,
    "start_time": "2022-03-11T16:50:12.347Z"
   },
   {
    "duration": 16,
    "start_time": "2022-03-11T16:50:12.568Z"
   },
   {
    "duration": 29,
    "start_time": "2022-03-11T16:50:12.585Z"
   },
   {
    "duration": 19,
    "start_time": "2022-03-11T16:50:12.633Z"
   },
   {
    "duration": 11,
    "start_time": "2022-03-11T16:50:12.654Z"
   },
   {
    "duration": 10,
    "start_time": "2022-03-11T16:50:12.667Z"
   },
   {
    "duration": 197,
    "start_time": "2022-03-11T16:50:12.679Z"
   },
   {
    "duration": -163,
    "start_time": "2022-03-11T16:50:13.042Z"
   },
   {
    "duration": -167,
    "start_time": "2022-03-11T16:50:13.047Z"
   },
   {
    "duration": -168,
    "start_time": "2022-03-11T16:50:13.049Z"
   },
   {
    "duration": 11,
    "start_time": "2022-03-11T16:50:45.040Z"
   },
   {
    "duration": 20,
    "start_time": "2022-03-11T16:51:50.235Z"
   },
   {
    "duration": 27,
    "start_time": "2022-03-11T16:52:08.776Z"
   },
   {
    "duration": 593,
    "start_time": "2022-03-11T16:54:49.953Z"
   },
   {
    "duration": 10,
    "start_time": "2022-03-11T16:54:50.548Z"
   },
   {
    "duration": 9,
    "start_time": "2022-03-11T16:54:50.560Z"
   },
   {
    "duration": 68,
    "start_time": "2022-03-11T16:54:50.571Z"
   },
   {
    "duration": 4,
    "start_time": "2022-03-11T16:54:50.640Z"
   },
   {
    "duration": 9,
    "start_time": "2022-03-11T16:54:50.645Z"
   },
   {
    "duration": 56,
    "start_time": "2022-03-11T16:54:50.656Z"
   },
   {
    "duration": 6,
    "start_time": "2022-03-11T16:54:50.734Z"
   },
   {
    "duration": 4,
    "start_time": "2022-03-11T16:54:50.742Z"
   },
   {
    "duration": 6,
    "start_time": "2022-03-11T16:54:50.748Z"
   },
   {
    "duration": 3,
    "start_time": "2022-03-11T16:54:50.755Z"
   },
   {
    "duration": 9,
    "start_time": "2022-03-11T16:54:50.760Z"
   },
   {
    "duration": 4,
    "start_time": "2022-03-11T16:54:50.771Z"
   },
   {
    "duration": 5,
    "start_time": "2022-03-11T16:54:50.777Z"
   },
   {
    "duration": 4,
    "start_time": "2022-03-11T16:54:50.784Z"
   },
   {
    "duration": 4,
    "start_time": "2022-03-11T16:54:50.790Z"
   },
   {
    "duration": 42,
    "start_time": "2022-03-11T16:54:50.795Z"
   },
   {
    "duration": 6,
    "start_time": "2022-03-11T16:54:50.838Z"
   },
   {
    "duration": 7,
    "start_time": "2022-03-11T16:54:50.846Z"
   },
   {
    "duration": 5,
    "start_time": "2022-03-11T16:54:50.855Z"
   },
   {
    "duration": 5,
    "start_time": "2022-03-11T16:54:50.862Z"
   },
   {
    "duration": 6,
    "start_time": "2022-03-11T16:54:50.868Z"
   },
   {
    "duration": 5,
    "start_time": "2022-03-11T16:54:50.877Z"
   },
   {
    "duration": 5,
    "start_time": "2022-03-11T16:54:50.884Z"
   },
   {
    "duration": 43,
    "start_time": "2022-03-11T16:54:50.891Z"
   },
   {
    "duration": 2,
    "start_time": "2022-03-11T16:54:50.935Z"
   },
   {
    "duration": 8,
    "start_time": "2022-03-11T16:54:50.938Z"
   },
   {
    "duration": 8,
    "start_time": "2022-03-11T16:54:50.947Z"
   },
   {
    "duration": 6,
    "start_time": "2022-03-11T16:54:50.956Z"
   },
   {
    "duration": 4,
    "start_time": "2022-03-11T16:54:50.963Z"
   },
   {
    "duration": 7,
    "start_time": "2022-03-11T16:54:50.969Z"
   },
   {
    "duration": 7,
    "start_time": "2022-03-11T16:54:50.977Z"
   },
   {
    "duration": 4,
    "start_time": "2022-03-11T16:54:50.986Z"
   },
   {
    "duration": 8,
    "start_time": "2022-03-11T16:54:50.992Z"
   },
   {
    "duration": 33,
    "start_time": "2022-03-11T16:54:51.001Z"
   },
   {
    "duration": 8,
    "start_time": "2022-03-11T16:54:51.035Z"
   },
   {
    "duration": 6,
    "start_time": "2022-03-11T16:54:51.045Z"
   },
   {
    "duration": 7,
    "start_time": "2022-03-11T16:54:51.052Z"
   },
   {
    "duration": 6,
    "start_time": "2022-03-11T16:54:51.060Z"
   },
   {
    "duration": 6,
    "start_time": "2022-03-11T16:54:51.067Z"
   },
   {
    "duration": 6,
    "start_time": "2022-03-11T16:54:51.074Z"
   },
   {
    "duration": 6,
    "start_time": "2022-03-11T16:54:51.081Z"
   },
   {
    "duration": 5,
    "start_time": "2022-03-11T16:54:51.088Z"
   },
   {
    "duration": 38,
    "start_time": "2022-03-11T16:54:51.094Z"
   },
   {
    "duration": 15,
    "start_time": "2022-03-11T16:54:51.133Z"
   },
   {
    "duration": 28,
    "start_time": "2022-03-11T16:54:51.150Z"
   },
   {
    "duration": 4,
    "start_time": "2022-03-11T16:54:51.179Z"
   },
   {
    "duration": 13,
    "start_time": "2022-03-11T16:54:51.185Z"
   },
   {
    "duration": 10,
    "start_time": "2022-03-11T16:54:51.199Z"
   },
   {
    "duration": 17,
    "start_time": "2022-03-11T16:54:51.233Z"
   },
   {
    "duration": 3,
    "start_time": "2022-03-11T16:54:51.252Z"
   },
   {
    "duration": 16,
    "start_time": "2022-03-11T16:54:51.257Z"
   },
   {
    "duration": 4,
    "start_time": "2022-03-11T16:54:51.274Z"
   },
   {
    "duration": 11,
    "start_time": "2022-03-11T16:54:51.280Z"
   },
   {
    "duration": 2,
    "start_time": "2022-03-11T16:54:51.293Z"
   },
   {
    "duration": 44,
    "start_time": "2022-03-11T16:54:51.297Z"
   },
   {
    "duration": 3,
    "start_time": "2022-03-11T16:54:51.343Z"
   },
   {
    "duration": 28,
    "start_time": "2022-03-11T16:54:51.347Z"
   },
   {
    "duration": 5,
    "start_time": "2022-03-11T16:54:51.376Z"
   },
   {
    "duration": 7,
    "start_time": "2022-03-11T16:54:51.382Z"
   },
   {
    "duration": 12,
    "start_time": "2022-03-11T16:54:51.390Z"
   },
   {
    "duration": 30,
    "start_time": "2022-03-11T16:54:51.403Z"
   },
   {
    "duration": 4,
    "start_time": "2022-03-11T16:54:51.435Z"
   },
   {
    "duration": 15,
    "start_time": "2022-03-11T16:54:51.440Z"
   },
   {
    "duration": 10,
    "start_time": "2022-03-11T16:54:51.456Z"
   },
   {
    "duration": 10,
    "start_time": "2022-03-11T16:54:51.468Z"
   },
   {
    "duration": 21,
    "start_time": "2022-03-11T16:54:51.479Z"
   },
   {
    "duration": 237,
    "start_time": "2022-03-11T16:54:51.505Z"
   },
   {
    "duration": 16,
    "start_time": "2022-03-11T16:54:51.744Z"
   },
   {
    "duration": 30,
    "start_time": "2022-03-11T16:54:51.761Z"
   },
   {
    "duration": 44,
    "start_time": "2022-03-11T16:54:51.793Z"
   },
   {
    "duration": 11,
    "start_time": "2022-03-11T16:54:51.839Z"
   },
   {
    "duration": 197,
    "start_time": "2022-03-11T16:54:51.851Z"
   },
   {
    "duration": -178,
    "start_time": "2022-03-11T16:54:52.228Z"
   },
   {
    "duration": -181,
    "start_time": "2022-03-11T16:54:52.232Z"
   },
   {
    "duration": -184,
    "start_time": "2022-03-11T16:54:52.236Z"
   },
   {
    "duration": 609,
    "start_time": "2022-03-11T16:55:14.028Z"
   },
   {
    "duration": 11,
    "start_time": "2022-03-11T16:55:14.639Z"
   },
   {
    "duration": 10,
    "start_time": "2022-03-11T16:55:14.652Z"
   },
   {
    "duration": 83,
    "start_time": "2022-03-11T16:55:14.663Z"
   },
   {
    "duration": 4,
    "start_time": "2022-03-11T16:55:14.749Z"
   },
   {
    "duration": 7,
    "start_time": "2022-03-11T16:55:14.755Z"
   },
   {
    "duration": 86,
    "start_time": "2022-03-11T16:55:14.764Z"
   },
   {
    "duration": 7,
    "start_time": "2022-03-11T16:55:14.853Z"
   },
   {
    "duration": 4,
    "start_time": "2022-03-11T16:55:14.862Z"
   },
   {
    "duration": 6,
    "start_time": "2022-03-11T16:55:14.868Z"
   },
   {
    "duration": 2,
    "start_time": "2022-03-11T16:55:14.876Z"
   },
   {
    "duration": 6,
    "start_time": "2022-03-11T16:55:14.880Z"
   },
   {
    "duration": 46,
    "start_time": "2022-03-11T16:55:14.888Z"
   },
   {
    "duration": 7,
    "start_time": "2022-03-11T16:55:14.935Z"
   },
   {
    "duration": 6,
    "start_time": "2022-03-11T16:55:14.944Z"
   },
   {
    "duration": 5,
    "start_time": "2022-03-11T16:55:14.951Z"
   },
   {
    "duration": 5,
    "start_time": "2022-03-11T16:55:14.958Z"
   },
   {
    "duration": 4,
    "start_time": "2022-03-11T16:55:14.964Z"
   },
   {
    "duration": 5,
    "start_time": "2022-03-11T16:55:14.970Z"
   },
   {
    "duration": 6,
    "start_time": "2022-03-11T16:55:14.976Z"
   },
   {
    "duration": 51,
    "start_time": "2022-03-11T16:55:14.983Z"
   },
   {
    "duration": 5,
    "start_time": "2022-03-11T16:55:15.035Z"
   },
   {
    "duration": 6,
    "start_time": "2022-03-11T16:55:15.044Z"
   },
   {
    "duration": 4,
    "start_time": "2022-03-11T16:55:15.053Z"
   },
   {
    "duration": 7,
    "start_time": "2022-03-11T16:55:15.059Z"
   },
   {
    "duration": 3,
    "start_time": "2022-03-11T16:55:15.067Z"
   },
   {
    "duration": 6,
    "start_time": "2022-03-11T16:55:15.071Z"
   },
   {
    "duration": 7,
    "start_time": "2022-03-11T16:55:15.079Z"
   },
   {
    "duration": 45,
    "start_time": "2022-03-11T16:55:15.088Z"
   },
   {
    "duration": 4,
    "start_time": "2022-03-11T16:55:15.135Z"
   },
   {
    "duration": 6,
    "start_time": "2022-03-11T16:55:15.141Z"
   },
   {
    "duration": 7,
    "start_time": "2022-03-11T16:55:15.149Z"
   },
   {
    "duration": 5,
    "start_time": "2022-03-11T16:55:15.157Z"
   },
   {
    "duration": 5,
    "start_time": "2022-03-11T16:55:15.163Z"
   },
   {
    "duration": 6,
    "start_time": "2022-03-11T16:55:15.169Z"
   },
   {
    "duration": 6,
    "start_time": "2022-03-11T16:55:15.177Z"
   },
   {
    "duration": 5,
    "start_time": "2022-03-11T16:55:15.185Z"
   },
   {
    "duration": 43,
    "start_time": "2022-03-11T16:55:15.191Z"
   },
   {
    "duration": 6,
    "start_time": "2022-03-11T16:55:15.235Z"
   },
   {
    "duration": 4,
    "start_time": "2022-03-11T16:55:15.243Z"
   },
   {
    "duration": 4,
    "start_time": "2022-03-11T16:55:15.248Z"
   },
   {
    "duration": 6,
    "start_time": "2022-03-11T16:55:15.253Z"
   },
   {
    "duration": 3,
    "start_time": "2022-03-11T16:55:15.261Z"
   },
   {
    "duration": 6,
    "start_time": "2022-03-11T16:55:15.265Z"
   },
   {
    "duration": 16,
    "start_time": "2022-03-11T16:55:15.272Z"
   },
   {
    "duration": 60,
    "start_time": "2022-03-11T16:55:15.290Z"
   },
   {
    "duration": 4,
    "start_time": "2022-03-11T16:55:15.352Z"
   },
   {
    "duration": 13,
    "start_time": "2022-03-11T16:55:15.357Z"
   },
   {
    "duration": 8,
    "start_time": "2022-03-11T16:55:15.371Z"
   },
   {
    "duration": 16,
    "start_time": "2022-03-11T16:55:15.381Z"
   },
   {
    "duration": 4,
    "start_time": "2022-03-11T16:55:15.399Z"
   },
   {
    "duration": 42,
    "start_time": "2022-03-11T16:55:15.404Z"
   },
   {
    "duration": 3,
    "start_time": "2022-03-11T16:55:15.447Z"
   },
   {
    "duration": 12,
    "start_time": "2022-03-11T16:55:15.451Z"
   },
   {
    "duration": 3,
    "start_time": "2022-03-11T16:55:15.464Z"
   },
   {
    "duration": 19,
    "start_time": "2022-03-11T16:55:15.469Z"
   },
   {
    "duration": 3,
    "start_time": "2022-03-11T16:55:15.489Z"
   },
   {
    "duration": 51,
    "start_time": "2022-03-11T16:55:15.494Z"
   },
   {
    "duration": 4,
    "start_time": "2022-03-11T16:55:15.547Z"
   },
   {
    "duration": 5,
    "start_time": "2022-03-11T16:55:15.553Z"
   },
   {
    "duration": 14,
    "start_time": "2022-03-11T16:55:15.559Z"
   },
   {
    "duration": 9,
    "start_time": "2022-03-11T16:55:15.575Z"
   },
   {
    "duration": 6,
    "start_time": "2022-03-11T16:55:15.586Z"
   },
   {
    "duration": 14,
    "start_time": "2022-03-11T16:55:15.593Z"
   },
   {
    "duration": 12,
    "start_time": "2022-03-11T16:55:15.633Z"
   },
   {
    "duration": 12,
    "start_time": "2022-03-11T16:55:15.647Z"
   },
   {
    "duration": 20,
    "start_time": "2022-03-11T16:55:15.660Z"
   },
   {
    "duration": 240,
    "start_time": "2022-03-11T16:55:15.684Z"
   },
   {
    "duration": 22,
    "start_time": "2022-03-11T16:55:15.925Z"
   },
   {
    "duration": 29,
    "start_time": "2022-03-11T16:55:15.948Z"
   },
   {
    "duration": 19,
    "start_time": "2022-03-11T16:55:15.979Z"
   },
   {
    "duration": 42,
    "start_time": "2022-03-11T16:55:15.999Z"
   },
   {
    "duration": 14,
    "start_time": "2022-03-11T16:55:16.043Z"
   },
   {
    "duration": 14,
    "start_time": "2022-03-11T16:55:16.058Z"
   },
   {
    "duration": 15,
    "start_time": "2022-03-11T16:55:16.074Z"
   },
   {
    "duration": 628,
    "start_time": "2022-03-11T16:57:31.733Z"
   },
   {
    "duration": 10,
    "start_time": "2022-03-11T16:57:32.363Z"
   },
   {
    "duration": 12,
    "start_time": "2022-03-11T16:57:32.375Z"
   },
   {
    "duration": 70,
    "start_time": "2022-03-11T16:57:32.389Z"
   },
   {
    "duration": 4,
    "start_time": "2022-03-11T16:57:32.460Z"
   },
   {
    "duration": 7,
    "start_time": "2022-03-11T16:57:32.465Z"
   },
   {
    "duration": 92,
    "start_time": "2022-03-11T16:57:32.474Z"
   },
   {
    "duration": 6,
    "start_time": "2022-03-11T16:57:32.568Z"
   },
   {
    "duration": 4,
    "start_time": "2022-03-11T16:57:32.576Z"
   },
   {
    "duration": 6,
    "start_time": "2022-03-11T16:57:32.581Z"
   },
   {
    "duration": 4,
    "start_time": "2022-03-11T16:57:32.588Z"
   },
   {
    "duration": 10,
    "start_time": "2022-03-11T16:57:32.593Z"
   },
   {
    "duration": 33,
    "start_time": "2022-03-11T16:57:32.604Z"
   },
   {
    "duration": 8,
    "start_time": "2022-03-11T16:57:32.639Z"
   },
   {
    "duration": 12,
    "start_time": "2022-03-11T16:57:32.650Z"
   },
   {
    "duration": 6,
    "start_time": "2022-03-11T16:57:32.664Z"
   },
   {
    "duration": 6,
    "start_time": "2022-03-11T16:57:32.671Z"
   },
   {
    "duration": 11,
    "start_time": "2022-03-11T16:57:32.679Z"
   },
   {
    "duration": 19,
    "start_time": "2022-03-11T16:57:32.691Z"
   },
   {
    "duration": 42,
    "start_time": "2022-03-11T16:57:32.711Z"
   },
   {
    "duration": 5,
    "start_time": "2022-03-11T16:57:32.754Z"
   },
   {
    "duration": 5,
    "start_time": "2022-03-11T16:57:32.761Z"
   },
   {
    "duration": 5,
    "start_time": "2022-03-11T16:57:32.769Z"
   },
   {
    "duration": 5,
    "start_time": "2022-03-11T16:57:32.777Z"
   },
   {
    "duration": 9,
    "start_time": "2022-03-11T16:57:32.784Z"
   },
   {
    "duration": 10,
    "start_time": "2022-03-11T16:57:32.795Z"
   },
   {
    "duration": 29,
    "start_time": "2022-03-11T16:57:32.807Z"
   },
   {
    "duration": 10,
    "start_time": "2022-03-11T16:57:32.839Z"
   },
   {
    "duration": 11,
    "start_time": "2022-03-11T16:57:32.851Z"
   },
   {
    "duration": 7,
    "start_time": "2022-03-11T16:57:32.863Z"
   },
   {
    "duration": 8,
    "start_time": "2022-03-11T16:57:32.871Z"
   },
   {
    "duration": 8,
    "start_time": "2022-03-11T16:57:32.881Z"
   },
   {
    "duration": 9,
    "start_time": "2022-03-11T16:57:32.891Z"
   },
   {
    "duration": 6,
    "start_time": "2022-03-11T16:57:32.901Z"
   },
   {
    "duration": 34,
    "start_time": "2022-03-11T16:57:32.908Z"
   },
   {
    "duration": 8,
    "start_time": "2022-03-11T16:57:32.944Z"
   },
   {
    "duration": 10,
    "start_time": "2022-03-11T16:57:32.953Z"
   },
   {
    "duration": 12,
    "start_time": "2022-03-11T16:57:32.965Z"
   },
   {
    "duration": 8,
    "start_time": "2022-03-11T16:57:32.978Z"
   },
   {
    "duration": 5,
    "start_time": "2022-03-11T16:57:32.987Z"
   },
   {
    "duration": 6,
    "start_time": "2022-03-11T16:57:32.994Z"
   },
   {
    "duration": 6,
    "start_time": "2022-03-11T16:57:33.001Z"
   },
   {
    "duration": 6,
    "start_time": "2022-03-11T16:57:33.009Z"
   },
   {
    "duration": 22,
    "start_time": "2022-03-11T16:57:33.016Z"
   },
   {
    "duration": 26,
    "start_time": "2022-03-11T16:57:33.041Z"
   },
   {
    "duration": 29,
    "start_time": "2022-03-11T16:57:33.069Z"
   },
   {
    "duration": 4,
    "start_time": "2022-03-11T16:57:33.100Z"
   },
   {
    "duration": 38,
    "start_time": "2022-03-11T16:57:33.106Z"
   },
   {
    "duration": 9,
    "start_time": "2022-03-11T16:57:33.146Z"
   },
   {
    "duration": 18,
    "start_time": "2022-03-11T16:57:33.157Z"
   },
   {
    "duration": 3,
    "start_time": "2022-03-11T16:57:33.177Z"
   },
   {
    "duration": 20,
    "start_time": "2022-03-11T16:57:33.181Z"
   },
   {
    "duration": 3,
    "start_time": "2022-03-11T16:57:33.203Z"
   },
   {
    "duration": 32,
    "start_time": "2022-03-11T16:57:33.208Z"
   },
   {
    "duration": 5,
    "start_time": "2022-03-11T16:57:33.242Z"
   },
   {
    "duration": 18,
    "start_time": "2022-03-11T16:57:33.249Z"
   },
   {
    "duration": 3,
    "start_time": "2022-03-11T16:57:33.269Z"
   },
   {
    "duration": 27,
    "start_time": "2022-03-11T16:57:33.273Z"
   },
   {
    "duration": 5,
    "start_time": "2022-03-11T16:57:33.302Z"
   },
   {
    "duration": 7,
    "start_time": "2022-03-11T16:57:33.334Z"
   },
   {
    "duration": 23,
    "start_time": "2022-03-11T16:57:33.343Z"
   },
   {
    "duration": 25,
    "start_time": "2022-03-11T16:57:33.368Z"
   },
   {
    "duration": 10,
    "start_time": "2022-03-11T16:57:33.395Z"
   },
   {
    "duration": 16,
    "start_time": "2022-03-11T16:57:33.406Z"
   },
   {
    "duration": 15,
    "start_time": "2022-03-11T16:57:33.423Z"
   },
   {
    "duration": 18,
    "start_time": "2022-03-11T16:57:33.441Z"
   },
   {
    "duration": 18,
    "start_time": "2022-03-11T16:57:33.461Z"
   },
   {
    "duration": 241,
    "start_time": "2022-03-11T16:57:33.483Z"
   },
   {
    "duration": 22,
    "start_time": "2022-03-11T16:57:33.726Z"
   },
   {
    "duration": 29,
    "start_time": "2022-03-11T16:57:33.750Z"
   },
   {
    "duration": 19,
    "start_time": "2022-03-11T16:57:33.780Z"
   },
   {
    "duration": 46,
    "start_time": "2022-03-11T16:57:33.801Z"
   },
   {
    "duration": 17,
    "start_time": "2022-03-11T16:57:33.849Z"
   },
   {
    "duration": 12,
    "start_time": "2022-03-11T16:57:33.868Z"
   },
   {
    "duration": 14,
    "start_time": "2022-03-11T16:57:33.882Z"
   },
   {
    "duration": 50,
    "start_time": "2022-03-11T16:57:33.898Z"
   },
   {
    "duration": 19,
    "start_time": "2022-03-11T16:58:21.473Z"
   },
   {
    "duration": 16,
    "start_time": "2022-03-11T16:58:45.573Z"
   },
   {
    "duration": 17,
    "start_time": "2022-03-11T16:58:55.035Z"
   },
   {
    "duration": 17,
    "start_time": "2022-03-11T16:59:07.372Z"
   },
   {
    "duration": 47,
    "start_time": "2022-03-11T17:01:34.695Z"
   },
   {
    "duration": 17,
    "start_time": "2022-03-11T17:01:43.118Z"
   },
   {
    "duration": 582,
    "start_time": "2022-03-11T17:01:54.949Z"
   },
   {
    "duration": 10,
    "start_time": "2022-03-11T17:01:55.533Z"
   },
   {
    "duration": 10,
    "start_time": "2022-03-11T17:01:55.545Z"
   },
   {
    "duration": 40,
    "start_time": "2022-03-11T17:01:55.557Z"
   },
   {
    "duration": 36,
    "start_time": "2022-03-11T17:01:55.599Z"
   },
   {
    "duration": 9,
    "start_time": "2022-03-11T17:01:55.637Z"
   },
   {
    "duration": 54,
    "start_time": "2022-03-11T17:01:55.648Z"
   },
   {
    "duration": 31,
    "start_time": "2022-03-11T17:01:55.704Z"
   },
   {
    "duration": 4,
    "start_time": "2022-03-11T17:01:55.738Z"
   },
   {
    "duration": 6,
    "start_time": "2022-03-11T17:01:55.743Z"
   },
   {
    "duration": 4,
    "start_time": "2022-03-11T17:01:55.751Z"
   },
   {
    "duration": 7,
    "start_time": "2022-03-11T17:01:55.756Z"
   },
   {
    "duration": 5,
    "start_time": "2022-03-11T17:01:55.765Z"
   },
   {
    "duration": 4,
    "start_time": "2022-03-11T17:01:55.772Z"
   },
   {
    "duration": 6,
    "start_time": "2022-03-11T17:01:55.778Z"
   },
   {
    "duration": 7,
    "start_time": "2022-03-11T17:01:55.786Z"
   },
   {
    "duration": 42,
    "start_time": "2022-03-11T17:01:55.794Z"
   },
   {
    "duration": 7,
    "start_time": "2022-03-11T17:01:55.838Z"
   },
   {
    "duration": 4,
    "start_time": "2022-03-11T17:01:55.847Z"
   },
   {
    "duration": 10,
    "start_time": "2022-03-11T17:01:55.853Z"
   },
   {
    "duration": 5,
    "start_time": "2022-03-11T17:01:55.864Z"
   },
   {
    "duration": 6,
    "start_time": "2022-03-11T17:01:55.870Z"
   },
   {
    "duration": 4,
    "start_time": "2022-03-11T17:01:55.880Z"
   },
   {
    "duration": 7,
    "start_time": "2022-03-11T17:01:55.887Z"
   },
   {
    "duration": 5,
    "start_time": "2022-03-11T17:01:55.895Z"
   },
   {
    "duration": 3,
    "start_time": "2022-03-11T17:01:55.933Z"
   },
   {
    "duration": 7,
    "start_time": "2022-03-11T17:01:55.937Z"
   },
   {
    "duration": 7,
    "start_time": "2022-03-11T17:01:55.945Z"
   },
   {
    "duration": 12,
    "start_time": "2022-03-11T17:01:55.953Z"
   },
   {
    "duration": 7,
    "start_time": "2022-03-11T17:01:55.966Z"
   },
   {
    "duration": 6,
    "start_time": "2022-03-11T17:01:55.975Z"
   },
   {
    "duration": 6,
    "start_time": "2022-03-11T17:01:55.983Z"
   },
   {
    "duration": 5,
    "start_time": "2022-03-11T17:01:55.991Z"
   },
   {
    "duration": 9,
    "start_time": "2022-03-11T17:01:55.998Z"
   },
   {
    "duration": 6,
    "start_time": "2022-03-11T17:01:56.033Z"
   },
   {
    "duration": 13,
    "start_time": "2022-03-11T17:01:56.040Z"
   },
   {
    "duration": 10,
    "start_time": "2022-03-11T17:01:56.055Z"
   },
   {
    "duration": 5,
    "start_time": "2022-03-11T17:01:56.066Z"
   },
   {
    "duration": 8,
    "start_time": "2022-03-11T17:01:56.072Z"
   },
   {
    "duration": 4,
    "start_time": "2022-03-11T17:01:56.082Z"
   },
   {
    "duration": 4,
    "start_time": "2022-03-11T17:01:56.088Z"
   },
   {
    "duration": 12,
    "start_time": "2022-03-11T17:01:56.094Z"
   },
   {
    "duration": 27,
    "start_time": "2022-03-11T17:01:56.107Z"
   },
   {
    "duration": 8,
    "start_time": "2022-03-11T17:01:56.136Z"
   },
   {
    "duration": 24,
    "start_time": "2022-03-11T17:01:56.146Z"
   },
   {
    "duration": 28,
    "start_time": "2022-03-11T17:01:56.172Z"
   },
   {
    "duration": 4,
    "start_time": "2022-03-11T17:01:56.202Z"
   },
   {
    "duration": 30,
    "start_time": "2022-03-11T17:01:56.208Z"
   },
   {
    "duration": 22,
    "start_time": "2022-03-11T17:01:56.240Z"
   },
   {
    "duration": 18,
    "start_time": "2022-03-11T17:01:56.264Z"
   },
   {
    "duration": 5,
    "start_time": "2022-03-11T17:01:56.284Z"
   },
   {
    "duration": 17,
    "start_time": "2022-03-11T17:01:56.290Z"
   },
   {
    "duration": 3,
    "start_time": "2022-03-11T17:01:56.309Z"
   },
   {
    "duration": 19,
    "start_time": "2022-03-11T17:01:56.313Z"
   },
   {
    "duration": 3,
    "start_time": "2022-03-11T17:01:56.334Z"
   },
   {
    "duration": 19,
    "start_time": "2022-03-11T17:01:56.338Z"
   },
   {
    "duration": 3,
    "start_time": "2022-03-11T17:01:56.358Z"
   },
   {
    "duration": 29,
    "start_time": "2022-03-11T17:01:56.363Z"
   },
   {
    "duration": 4,
    "start_time": "2022-03-11T17:01:56.393Z"
   },
   {
    "duration": 7,
    "start_time": "2022-03-11T17:01:56.399Z"
   },
   {
    "duration": 30,
    "start_time": "2022-03-11T17:01:56.407Z"
   },
   {
    "duration": 11,
    "start_time": "2022-03-11T17:01:56.439Z"
   },
   {
    "duration": 5,
    "start_time": "2022-03-11T17:01:56.452Z"
   },
   {
    "duration": 14,
    "start_time": "2022-03-11T17:01:56.458Z"
   },
   {
    "duration": 10,
    "start_time": "2022-03-11T17:01:56.473Z"
   },
   {
    "duration": 10,
    "start_time": "2022-03-11T17:01:56.485Z"
   },
   {
    "duration": 46,
    "start_time": "2022-03-11T17:01:56.497Z"
   },
   {
    "duration": 215,
    "start_time": "2022-03-11T17:01:56.548Z"
   },
   {
    "duration": 14,
    "start_time": "2022-03-11T17:01:56.765Z"
   },
   {
    "duration": 28,
    "start_time": "2022-03-11T17:01:56.781Z"
   },
   {
    "duration": 36,
    "start_time": "2022-03-11T17:01:56.810Z"
   },
   {
    "duration": 11,
    "start_time": "2022-03-11T17:01:56.847Z"
   },
   {
    "duration": 13,
    "start_time": "2022-03-11T17:01:56.859Z"
   },
   {
    "duration": 12,
    "start_time": "2022-03-11T17:01:56.873Z"
   },
   {
    "duration": 13,
    "start_time": "2022-03-11T17:01:56.887Z"
   },
   {
    "duration": 18,
    "start_time": "2022-03-11T17:01:56.933Z"
   },
   {
    "duration": 11,
    "start_time": "2022-03-11T17:06:35.098Z"
   },
   {
    "duration": 16,
    "start_time": "2022-03-11T17:06:47.980Z"
   },
   {
    "duration": 5,
    "start_time": "2022-03-11T17:07:33.353Z"
   },
   {
    "duration": 634,
    "start_time": "2022-03-11T17:08:32.031Z"
   },
   {
    "duration": 16,
    "start_time": "2022-03-11T17:08:32.668Z"
   },
   {
    "duration": 14,
    "start_time": "2022-03-11T17:08:32.686Z"
   },
   {
    "duration": 73,
    "start_time": "2022-03-11T17:08:32.703Z"
   },
   {
    "duration": 5,
    "start_time": "2022-03-11T17:08:32.778Z"
   },
   {
    "duration": 9,
    "start_time": "2022-03-11T17:08:32.784Z"
   },
   {
    "duration": 89,
    "start_time": "2022-03-11T17:08:32.794Z"
   },
   {
    "duration": 6,
    "start_time": "2022-03-11T17:08:32.886Z"
   },
   {
    "duration": 4,
    "start_time": "2022-03-11T17:08:32.894Z"
   },
   {
    "duration": 6,
    "start_time": "2022-03-11T17:08:32.899Z"
   },
   {
    "duration": 27,
    "start_time": "2022-03-11T17:08:32.906Z"
   },
   {
    "duration": 8,
    "start_time": "2022-03-11T17:08:32.934Z"
   },
   {
    "duration": 8,
    "start_time": "2022-03-11T17:08:32.943Z"
   },
   {
    "duration": 9,
    "start_time": "2022-03-11T17:08:32.952Z"
   },
   {
    "duration": 5,
    "start_time": "2022-03-11T17:08:32.963Z"
   },
   {
    "duration": 4,
    "start_time": "2022-03-11T17:08:32.970Z"
   },
   {
    "duration": 4,
    "start_time": "2022-03-11T17:08:32.976Z"
   },
   {
    "duration": 5,
    "start_time": "2022-03-11T17:08:32.982Z"
   },
   {
    "duration": 4,
    "start_time": "2022-03-11T17:08:32.989Z"
   },
   {
    "duration": 41,
    "start_time": "2022-03-11T17:08:32.995Z"
   },
   {
    "duration": 7,
    "start_time": "2022-03-11T17:08:33.038Z"
   },
   {
    "duration": 7,
    "start_time": "2022-03-11T17:08:33.047Z"
   },
   {
    "duration": 5,
    "start_time": "2022-03-11T17:08:33.058Z"
   },
   {
    "duration": 5,
    "start_time": "2022-03-11T17:08:33.065Z"
   },
   {
    "duration": 5,
    "start_time": "2022-03-11T17:08:33.072Z"
   },
   {
    "duration": 3,
    "start_time": "2022-03-11T17:08:33.078Z"
   },
   {
    "duration": 7,
    "start_time": "2022-03-11T17:08:33.082Z"
   },
   {
    "duration": 44,
    "start_time": "2022-03-11T17:08:33.090Z"
   },
   {
    "duration": 7,
    "start_time": "2022-03-11T17:08:33.136Z"
   },
   {
    "duration": 12,
    "start_time": "2022-03-11T17:08:33.144Z"
   },
   {
    "duration": 9,
    "start_time": "2022-03-11T17:08:33.158Z"
   },
   {
    "duration": 8,
    "start_time": "2022-03-11T17:08:33.168Z"
   },
   {
    "duration": 6,
    "start_time": "2022-03-11T17:08:33.177Z"
   },
   {
    "duration": 6,
    "start_time": "2022-03-11T17:08:33.184Z"
   },
   {
    "duration": 8,
    "start_time": "2022-03-11T17:08:33.192Z"
   },
   {
    "duration": 31,
    "start_time": "2022-03-11T17:08:33.202Z"
   },
   {
    "duration": 6,
    "start_time": "2022-03-11T17:08:33.234Z"
   },
   {
    "duration": 7,
    "start_time": "2022-03-11T17:08:33.241Z"
   },
   {
    "duration": 9,
    "start_time": "2022-03-11T17:08:33.249Z"
   },
   {
    "duration": 7,
    "start_time": "2022-03-11T17:08:33.259Z"
   },
   {
    "duration": 4,
    "start_time": "2022-03-11T17:08:33.267Z"
   },
   {
    "duration": 8,
    "start_time": "2022-03-11T17:08:33.272Z"
   },
   {
    "duration": 5,
    "start_time": "2022-03-11T17:08:33.282Z"
   },
   {
    "duration": 6,
    "start_time": "2022-03-11T17:08:33.288Z"
   },
   {
    "duration": 44,
    "start_time": "2022-03-11T17:08:33.295Z"
   },
   {
    "duration": 29,
    "start_time": "2022-03-11T17:08:33.341Z"
   },
   {
    "duration": 4,
    "start_time": "2022-03-11T17:08:33.371Z"
   },
   {
    "duration": 15,
    "start_time": "2022-03-11T17:08:33.376Z"
   },
   {
    "duration": 8,
    "start_time": "2022-03-11T17:08:33.392Z"
   },
   {
    "duration": 37,
    "start_time": "2022-03-11T17:08:33.402Z"
   },
   {
    "duration": 3,
    "start_time": "2022-03-11T17:08:33.441Z"
   },
   {
    "duration": 7,
    "start_time": "2022-03-11T17:08:33.445Z"
   },
   {
    "duration": 5,
    "start_time": "2022-03-11T17:08:33.454Z"
   },
   {
    "duration": 5,
    "start_time": "2022-03-11T17:08:33.461Z"
   },
   {
    "duration": 7,
    "start_time": "2022-03-11T17:08:33.467Z"
   },
   {
    "duration": 7,
    "start_time": "2022-03-11T17:08:33.475Z"
   },
   {
    "duration": 6,
    "start_time": "2022-03-11T17:08:33.483Z"
   },
   {
    "duration": 7,
    "start_time": "2022-03-11T17:08:33.490Z"
   },
   {
    "duration": 7,
    "start_time": "2022-03-11T17:08:33.498Z"
   },
   {
    "duration": 6,
    "start_time": "2022-03-11T17:08:33.507Z"
   },
   {
    "duration": 25,
    "start_time": "2022-03-11T17:08:33.514Z"
   },
   {
    "duration": 10,
    "start_time": "2022-03-11T17:08:33.540Z"
   },
   {
    "duration": 4,
    "start_time": "2022-03-11T17:08:33.551Z"
   },
   {
    "duration": 13,
    "start_time": "2022-03-11T17:08:33.557Z"
   },
   {
    "duration": 10,
    "start_time": "2022-03-11T17:08:33.572Z"
   },
   {
    "duration": 12,
    "start_time": "2022-03-11T17:08:33.583Z"
   },
   {
    "duration": 51,
    "start_time": "2022-03-11T17:08:33.596Z"
   },
   {
    "duration": 226,
    "start_time": "2022-03-11T17:08:33.651Z"
   },
   {
    "duration": 5,
    "start_time": "2022-03-11T17:08:33.878Z"
   },
   {
    "duration": 25,
    "start_time": "2022-03-11T17:08:33.884Z"
   },
   {
    "duration": 38,
    "start_time": "2022-03-11T17:08:33.910Z"
   },
   {
    "duration": 18,
    "start_time": "2022-03-11T17:08:33.950Z"
   },
   {
    "duration": 11,
    "start_time": "2022-03-11T17:08:33.969Z"
   },
   {
    "duration": 13,
    "start_time": "2022-03-11T17:08:33.981Z"
   },
   {
    "duration": 41,
    "start_time": "2022-03-11T17:08:33.996Z"
   },
   {
    "duration": 14,
    "start_time": "2022-03-11T17:08:34.039Z"
   },
   {
    "duration": 16,
    "start_time": "2022-03-11T17:08:34.054Z"
   },
   {
    "duration": 20,
    "start_time": "2022-03-11T17:08:34.071Z"
   },
   {
    "duration": 574,
    "start_time": "2022-03-11T17:09:51.774Z"
   },
   {
    "duration": 10,
    "start_time": "2022-03-11T17:09:52.350Z"
   },
   {
    "duration": 8,
    "start_time": "2022-03-11T17:09:52.362Z"
   },
   {
    "duration": 74,
    "start_time": "2022-03-11T17:09:52.372Z"
   },
   {
    "duration": 4,
    "start_time": "2022-03-11T17:09:52.448Z"
   },
   {
    "duration": 15,
    "start_time": "2022-03-11T17:09:52.453Z"
   },
   {
    "duration": 73,
    "start_time": "2022-03-11T17:09:52.470Z"
   },
   {
    "duration": 6,
    "start_time": "2022-03-11T17:09:52.546Z"
   },
   {
    "duration": 6,
    "start_time": "2022-03-11T17:09:52.554Z"
   },
   {
    "duration": 5,
    "start_time": "2022-03-11T17:09:52.561Z"
   },
   {
    "duration": 3,
    "start_time": "2022-03-11T17:09:52.568Z"
   },
   {
    "duration": 8,
    "start_time": "2022-03-11T17:09:52.573Z"
   },
   {
    "duration": 8,
    "start_time": "2022-03-11T17:09:52.582Z"
   },
   {
    "duration": 8,
    "start_time": "2022-03-11T17:09:52.591Z"
   },
   {
    "duration": 32,
    "start_time": "2022-03-11T17:09:52.600Z"
   },
   {
    "duration": 5,
    "start_time": "2022-03-11T17:09:52.634Z"
   },
   {
    "duration": 7,
    "start_time": "2022-03-11T17:09:52.640Z"
   },
   {
    "duration": 10,
    "start_time": "2022-03-11T17:09:52.648Z"
   },
   {
    "duration": 5,
    "start_time": "2022-03-11T17:09:52.660Z"
   },
   {
    "duration": 9,
    "start_time": "2022-03-11T17:09:52.667Z"
   },
   {
    "duration": 12,
    "start_time": "2022-03-11T17:09:52.678Z"
   },
   {
    "duration": 16,
    "start_time": "2022-03-11T17:09:52.692Z"
   },
   {
    "duration": 4,
    "start_time": "2022-03-11T17:09:52.712Z"
   },
   {
    "duration": 16,
    "start_time": "2022-03-11T17:09:52.719Z"
   },
   {
    "duration": 6,
    "start_time": "2022-03-11T17:09:52.737Z"
   },
   {
    "duration": 3,
    "start_time": "2022-03-11T17:09:52.744Z"
   },
   {
    "duration": 14,
    "start_time": "2022-03-11T17:09:52.749Z"
   },
   {
    "duration": 16,
    "start_time": "2022-03-11T17:09:52.764Z"
   },
   {
    "duration": 13,
    "start_time": "2022-03-11T17:09:52.781Z"
   },
   {
    "duration": 6,
    "start_time": "2022-03-11T17:09:52.796Z"
   },
   {
    "duration": 10,
    "start_time": "2022-03-11T17:09:52.803Z"
   },
   {
    "duration": 9,
    "start_time": "2022-03-11T17:09:52.815Z"
   },
   {
    "duration": 9,
    "start_time": "2022-03-11T17:09:52.825Z"
   },
   {
    "duration": 7,
    "start_time": "2022-03-11T17:09:52.835Z"
   },
   {
    "duration": 8,
    "start_time": "2022-03-11T17:09:52.843Z"
   },
   {
    "duration": 15,
    "start_time": "2022-03-11T17:09:52.852Z"
   },
   {
    "duration": 11,
    "start_time": "2022-03-11T17:09:52.869Z"
   },
   {
    "duration": 6,
    "start_time": "2022-03-11T17:09:52.882Z"
   },
   {
    "duration": 8,
    "start_time": "2022-03-11T17:09:52.889Z"
   },
   {
    "duration": 5,
    "start_time": "2022-03-11T17:09:52.898Z"
   },
   {
    "duration": 4,
    "start_time": "2022-03-11T17:09:52.904Z"
   },
   {
    "duration": 25,
    "start_time": "2022-03-11T17:09:52.910Z"
   },
   {
    "duration": 4,
    "start_time": "2022-03-11T17:09:52.936Z"
   },
   {
    "duration": 7,
    "start_time": "2022-03-11T17:09:52.942Z"
   },
   {
    "duration": 18,
    "start_time": "2022-03-11T17:09:52.951Z"
   },
   {
    "duration": 29,
    "start_time": "2022-03-11T17:09:52.971Z"
   },
   {
    "duration": 4,
    "start_time": "2022-03-11T17:09:53.001Z"
   },
   {
    "duration": 39,
    "start_time": "2022-03-11T17:09:53.007Z"
   },
   {
    "duration": 10,
    "start_time": "2022-03-11T17:09:53.048Z"
   },
   {
    "duration": 19,
    "start_time": "2022-03-11T17:09:53.060Z"
   },
   {
    "duration": 4,
    "start_time": "2022-03-11T17:09:53.081Z"
   },
   {
    "duration": 6,
    "start_time": "2022-03-11T17:09:53.087Z"
   },
   {
    "duration": 5,
    "start_time": "2022-03-11T17:09:53.095Z"
   },
   {
    "duration": 6,
    "start_time": "2022-03-11T17:09:53.102Z"
   },
   {
    "duration": 5,
    "start_time": "2022-03-11T17:09:53.133Z"
   },
   {
    "duration": 7,
    "start_time": "2022-03-11T17:09:53.139Z"
   },
   {
    "duration": 6,
    "start_time": "2022-03-11T17:09:53.148Z"
   },
   {
    "duration": 12,
    "start_time": "2022-03-11T17:09:53.156Z"
   },
   {
    "duration": 11,
    "start_time": "2022-03-11T17:09:53.170Z"
   },
   {
    "duration": 6,
    "start_time": "2022-03-11T17:09:53.183Z"
   },
   {
    "duration": 13,
    "start_time": "2022-03-11T17:09:53.191Z"
   },
   {
    "duration": 33,
    "start_time": "2022-03-11T17:09:53.206Z"
   },
   {
    "duration": 7,
    "start_time": "2022-03-11T17:09:53.241Z"
   },
   {
    "duration": 14,
    "start_time": "2022-03-11T17:09:53.249Z"
   },
   {
    "duration": 12,
    "start_time": "2022-03-11T17:09:53.265Z"
   },
   {
    "duration": 14,
    "start_time": "2022-03-11T17:09:53.278Z"
   },
   {
    "duration": 48,
    "start_time": "2022-03-11T17:09:53.294Z"
   },
   {
    "duration": 221,
    "start_time": "2022-03-11T17:09:53.347Z"
   },
   {
    "duration": 6,
    "start_time": "2022-03-11T17:09:53.570Z"
   },
   {
    "duration": 20,
    "start_time": "2022-03-11T17:09:53.578Z"
   },
   {
    "duration": 50,
    "start_time": "2022-03-11T17:09:53.599Z"
   },
   {
    "duration": 20,
    "start_time": "2022-03-11T17:09:53.651Z"
   },
   {
    "duration": 12,
    "start_time": "2022-03-11T17:09:53.673Z"
   },
   {
    "duration": 46,
    "start_time": "2022-03-11T17:09:53.687Z"
   },
   {
    "duration": 15,
    "start_time": "2022-03-11T17:09:53.735Z"
   },
   {
    "duration": 17,
    "start_time": "2022-03-11T17:09:53.751Z"
   },
   {
    "duration": 17,
    "start_time": "2022-03-11T17:09:53.769Z"
   },
   {
    "duration": 51,
    "start_time": "2022-03-11T17:09:53.788Z"
   },
   {
    "duration": 616,
    "start_time": "2022-03-11T17:29:05.628Z"
   },
   {
    "duration": 10,
    "start_time": "2022-03-11T17:29:06.245Z"
   },
   {
    "duration": 8,
    "start_time": "2022-03-11T17:29:06.257Z"
   },
   {
    "duration": 72,
    "start_time": "2022-03-11T17:29:06.267Z"
   },
   {
    "duration": 4,
    "start_time": "2022-03-11T17:29:06.341Z"
   },
   {
    "duration": 7,
    "start_time": "2022-03-11T17:29:06.347Z"
   },
   {
    "duration": 88,
    "start_time": "2022-03-11T17:29:06.356Z"
   },
   {
    "duration": 7,
    "start_time": "2022-03-11T17:29:06.447Z"
   },
   {
    "duration": 5,
    "start_time": "2022-03-11T17:29:06.456Z"
   },
   {
    "duration": 6,
    "start_time": "2022-03-11T17:29:06.462Z"
   },
   {
    "duration": 2,
    "start_time": "2022-03-11T17:29:06.470Z"
   },
   {
    "duration": 6,
    "start_time": "2022-03-11T17:29:06.474Z"
   },
   {
    "duration": 7,
    "start_time": "2022-03-11T17:29:06.482Z"
   },
   {
    "duration": 7,
    "start_time": "2022-03-11T17:29:06.533Z"
   },
   {
    "duration": 6,
    "start_time": "2022-03-11T17:29:06.542Z"
   },
   {
    "duration": 5,
    "start_time": "2022-03-11T17:29:06.550Z"
   },
   {
    "duration": 5,
    "start_time": "2022-03-11T17:29:06.557Z"
   },
   {
    "duration": 5,
    "start_time": "2022-03-11T17:29:06.564Z"
   },
   {
    "duration": 5,
    "start_time": "2022-03-11T17:29:06.571Z"
   },
   {
    "duration": 56,
    "start_time": "2022-03-11T17:29:06.578Z"
   },
   {
    "duration": 5,
    "start_time": "2022-03-11T17:29:06.636Z"
   },
   {
    "duration": 7,
    "start_time": "2022-03-11T17:29:06.643Z"
   },
   {
    "duration": 5,
    "start_time": "2022-03-11T17:29:06.655Z"
   },
   {
    "duration": 5,
    "start_time": "2022-03-11T17:29:06.662Z"
   },
   {
    "duration": 6,
    "start_time": "2022-03-11T17:29:06.668Z"
   },
   {
    "duration": 2,
    "start_time": "2022-03-11T17:29:06.675Z"
   },
   {
    "duration": 6,
    "start_time": "2022-03-11T17:29:06.679Z"
   },
   {
    "duration": 48,
    "start_time": "2022-03-11T17:29:06.686Z"
   },
   {
    "duration": 6,
    "start_time": "2022-03-11T17:29:06.735Z"
   },
   {
    "duration": 8,
    "start_time": "2022-03-11T17:29:06.742Z"
   },
   {
    "duration": 5,
    "start_time": "2022-03-11T17:29:06.751Z"
   },
   {
    "duration": 7,
    "start_time": "2022-03-11T17:29:06.757Z"
   },
   {
    "duration": 4,
    "start_time": "2022-03-11T17:29:06.765Z"
   },
   {
    "duration": 5,
    "start_time": "2022-03-11T17:29:06.770Z"
   },
   {
    "duration": 5,
    "start_time": "2022-03-11T17:29:06.777Z"
   },
   {
    "duration": 10,
    "start_time": "2022-03-11T17:29:06.784Z"
   },
   {
    "duration": 40,
    "start_time": "2022-03-11T17:29:06.795Z"
   },
   {
    "duration": 5,
    "start_time": "2022-03-11T17:29:06.836Z"
   },
   {
    "duration": 6,
    "start_time": "2022-03-11T17:29:06.843Z"
   },
   {
    "duration": 4,
    "start_time": "2022-03-11T17:29:06.851Z"
   },
   {
    "duration": 8,
    "start_time": "2022-03-11T17:29:06.856Z"
   },
   {
    "duration": 5,
    "start_time": "2022-03-11T17:29:06.866Z"
   },
   {
    "duration": 5,
    "start_time": "2022-03-11T17:29:06.872Z"
   },
   {
    "duration": 6,
    "start_time": "2022-03-11T17:29:06.878Z"
   },
   {
    "duration": 48,
    "start_time": "2022-03-11T17:29:06.886Z"
   },
   {
    "duration": 30,
    "start_time": "2022-03-11T17:29:06.935Z"
   },
   {
    "duration": 4,
    "start_time": "2022-03-11T17:29:06.966Z"
   },
   {
    "duration": 13,
    "start_time": "2022-03-11T17:29:06.972Z"
   },
   {
    "duration": 10,
    "start_time": "2022-03-11T17:29:06.986Z"
   },
   {
    "duration": 38,
    "start_time": "2022-03-11T17:29:06.998Z"
   },
   {
    "duration": 4,
    "start_time": "2022-03-11T17:29:07.037Z"
   },
   {
    "duration": 10,
    "start_time": "2022-03-11T17:29:07.042Z"
   },
   {
    "duration": 4,
    "start_time": "2022-03-11T17:29:07.053Z"
   },
   {
    "duration": 4,
    "start_time": "2022-03-11T17:29:07.059Z"
   },
   {
    "duration": 5,
    "start_time": "2022-03-11T17:29:07.065Z"
   },
   {
    "duration": 8,
    "start_time": "2022-03-11T17:29:07.071Z"
   },
   {
    "duration": 6,
    "start_time": "2022-03-11T17:29:07.081Z"
   },
   {
    "duration": 9,
    "start_time": "2022-03-11T17:29:07.089Z"
   },
   {
    "duration": 10,
    "start_time": "2022-03-11T17:29:07.099Z"
   },
   {
    "duration": 23,
    "start_time": "2022-03-11T17:29:07.110Z"
   },
   {
    "duration": 11,
    "start_time": "2022-03-11T17:29:07.135Z"
   },
   {
    "duration": 9,
    "start_time": "2022-03-11T17:29:07.148Z"
   },
   {
    "duration": 5,
    "start_time": "2022-03-11T17:29:07.158Z"
   },
   {
    "duration": 14,
    "start_time": "2022-03-11T17:29:07.164Z"
   },
   {
    "duration": 10,
    "start_time": "2022-03-11T17:29:07.179Z"
   },
   {
    "duration": 44,
    "start_time": "2022-03-11T17:29:07.190Z"
   },
   {
    "duration": 18,
    "start_time": "2022-03-11T17:29:07.235Z"
   },
   {
    "duration": 230,
    "start_time": "2022-03-11T17:29:07.257Z"
   },
   {
    "duration": 3,
    "start_time": "2022-03-11T17:29:07.490Z"
   },
   {
    "duration": 10,
    "start_time": "2022-03-11T17:29:07.495Z"
   },
   {
    "duration": 33,
    "start_time": "2022-03-11T17:29:07.506Z"
   },
   {
    "duration": 30,
    "start_time": "2022-03-11T17:29:07.541Z"
   },
   {
    "duration": 18,
    "start_time": "2022-03-11T17:29:07.573Z"
   },
   {
    "duration": 40,
    "start_time": "2022-03-11T17:29:07.593Z"
   },
   {
    "duration": 14,
    "start_time": "2022-03-11T17:29:07.635Z"
   },
   {
    "duration": 14,
    "start_time": "2022-03-11T17:29:07.650Z"
   },
   {
    "duration": 14,
    "start_time": "2022-03-11T17:29:07.665Z"
   },
   {
    "duration": 11,
    "start_time": "2022-03-11T17:29:07.680Z"
   },
   {
    "duration": 48,
    "start_time": "2022-03-11T17:29:07.693Z"
   },
   {
    "duration": 218,
    "start_time": "2022-03-11T17:35:14.974Z"
   },
   {
    "duration": 6,
    "start_time": "2022-03-11T17:35:26.193Z"
   },
   {
    "duration": 18,
    "start_time": "2022-03-11T17:36:56.885Z"
   },
   {
    "duration": 5,
    "start_time": "2022-03-11T17:36:59.026Z"
   },
   {
    "duration": 627,
    "start_time": "2022-03-11T17:37:38.807Z"
   },
   {
    "duration": 10,
    "start_time": "2022-03-11T17:37:39.436Z"
   },
   {
    "duration": 8,
    "start_time": "2022-03-11T17:37:39.450Z"
   },
   {
    "duration": 75,
    "start_time": "2022-03-11T17:37:39.459Z"
   },
   {
    "duration": 4,
    "start_time": "2022-03-11T17:37:39.535Z"
   },
   {
    "duration": 8,
    "start_time": "2022-03-11T17:37:39.541Z"
   },
   {
    "duration": 55,
    "start_time": "2022-03-11T17:37:39.551Z"
   },
   {
    "duration": 27,
    "start_time": "2022-03-11T17:37:39.608Z"
   },
   {
    "duration": 5,
    "start_time": "2022-03-11T17:37:39.636Z"
   },
   {
    "duration": 6,
    "start_time": "2022-03-11T17:37:39.643Z"
   },
   {
    "duration": 3,
    "start_time": "2022-03-11T17:37:39.650Z"
   },
   {
    "duration": 14,
    "start_time": "2022-03-11T17:37:39.654Z"
   },
   {
    "duration": 11,
    "start_time": "2022-03-11T17:37:39.669Z"
   },
   {
    "duration": 8,
    "start_time": "2022-03-11T17:37:39.682Z"
   },
   {
    "duration": 7,
    "start_time": "2022-03-11T17:37:39.691Z"
   },
   {
    "duration": 35,
    "start_time": "2022-03-11T17:37:39.699Z"
   },
   {
    "duration": 6,
    "start_time": "2022-03-11T17:37:39.735Z"
   },
   {
    "duration": 9,
    "start_time": "2022-03-11T17:37:39.742Z"
   },
   {
    "duration": 7,
    "start_time": "2022-03-11T17:37:39.752Z"
   },
   {
    "duration": 5,
    "start_time": "2022-03-11T17:37:39.760Z"
   },
   {
    "duration": 5,
    "start_time": "2022-03-11T17:37:39.767Z"
   },
   {
    "duration": 7,
    "start_time": "2022-03-11T17:37:39.776Z"
   },
   {
    "duration": 7,
    "start_time": "2022-03-11T17:37:39.785Z"
   },
   {
    "duration": 39,
    "start_time": "2022-03-11T17:37:39.793Z"
   },
   {
    "duration": 6,
    "start_time": "2022-03-11T17:37:39.835Z"
   },
   {
    "duration": 3,
    "start_time": "2022-03-11T17:37:39.842Z"
   },
   {
    "duration": 9,
    "start_time": "2022-03-11T17:37:39.847Z"
   },
   {
    "duration": 8,
    "start_time": "2022-03-11T17:37:39.858Z"
   },
   {
    "duration": 7,
    "start_time": "2022-03-11T17:37:39.867Z"
   },
   {
    "duration": 4,
    "start_time": "2022-03-11T17:37:39.876Z"
   },
   {
    "duration": 6,
    "start_time": "2022-03-11T17:37:39.882Z"
   },
   {
    "duration": 7,
    "start_time": "2022-03-11T17:37:39.889Z"
   },
   {
    "duration": 36,
    "start_time": "2022-03-11T17:37:39.897Z"
   },
   {
    "duration": 4,
    "start_time": "2022-03-11T17:37:39.935Z"
   },
   {
    "duration": 8,
    "start_time": "2022-03-11T17:37:39.941Z"
   },
   {
    "duration": 7,
    "start_time": "2022-03-11T17:37:39.951Z"
   },
   {
    "duration": 7,
    "start_time": "2022-03-11T17:37:39.960Z"
   },
   {
    "duration": 7,
    "start_time": "2022-03-11T17:37:39.968Z"
   },
   {
    "duration": 10,
    "start_time": "2022-03-11T17:37:39.977Z"
   },
   {
    "duration": 5,
    "start_time": "2022-03-11T17:37:39.989Z"
   },
   {
    "duration": 4,
    "start_time": "2022-03-11T17:37:40.032Z"
   },
   {
    "duration": 8,
    "start_time": "2022-03-11T17:37:40.037Z"
   },
   {
    "duration": 6,
    "start_time": "2022-03-11T17:37:40.046Z"
   },
   {
    "duration": 6,
    "start_time": "2022-03-11T17:37:40.053Z"
   },
   {
    "duration": 15,
    "start_time": "2022-03-11T17:37:40.060Z"
   },
   {
    "duration": 57,
    "start_time": "2022-03-11T17:37:40.077Z"
   },
   {
    "duration": 5,
    "start_time": "2022-03-11T17:37:40.135Z"
   },
   {
    "duration": 15,
    "start_time": "2022-03-11T17:37:40.141Z"
   },
   {
    "duration": 6,
    "start_time": "2022-03-11T17:37:40.158Z"
   },
   {
    "duration": 23,
    "start_time": "2022-03-11T17:37:40.166Z"
   },
   {
    "duration": 4,
    "start_time": "2022-03-11T17:37:40.190Z"
   },
   {
    "duration": 7,
    "start_time": "2022-03-11T17:37:40.195Z"
   },
   {
    "duration": 7,
    "start_time": "2022-03-11T17:37:40.203Z"
   },
   {
    "duration": 2,
    "start_time": "2022-03-11T17:37:40.233Z"
   },
   {
    "duration": 6,
    "start_time": "2022-03-11T17:37:40.236Z"
   },
   {
    "duration": 8,
    "start_time": "2022-03-11T17:37:40.244Z"
   },
   {
    "duration": 6,
    "start_time": "2022-03-11T17:37:40.253Z"
   },
   {
    "duration": 6,
    "start_time": "2022-03-11T17:37:40.261Z"
   },
   {
    "duration": 7,
    "start_time": "2022-03-11T17:37:40.268Z"
   },
   {
    "duration": 6,
    "start_time": "2022-03-11T17:37:40.276Z"
   },
   {
    "duration": 13,
    "start_time": "2022-03-11T17:37:40.284Z"
   },
   {
    "duration": 11,
    "start_time": "2022-03-11T17:37:40.299Z"
   },
   {
    "duration": 23,
    "start_time": "2022-03-11T17:37:40.311Z"
   },
   {
    "duration": 11,
    "start_time": "2022-03-11T17:37:40.335Z"
   },
   {
    "duration": 10,
    "start_time": "2022-03-11T17:37:40.348Z"
   },
   {
    "duration": 13,
    "start_time": "2022-03-11T17:37:40.360Z"
   },
   {
    "duration": 17,
    "start_time": "2022-03-11T17:37:40.377Z"
   },
   {
    "duration": 43,
    "start_time": "2022-03-11T17:37:40.395Z"
   },
   {
    "duration": 8,
    "start_time": "2022-03-11T17:37:40.440Z"
   },
   {
    "duration": 17,
    "start_time": "2022-03-11T17:37:40.450Z"
   },
   {
    "duration": 10,
    "start_time": "2022-03-11T17:37:40.469Z"
   },
   {
    "duration": 5,
    "start_time": "2022-03-11T17:37:40.480Z"
   },
   {
    "duration": 55,
    "start_time": "2022-03-11T17:37:40.487Z"
   },
   {
    "duration": 7,
    "start_time": "2022-03-11T17:37:40.543Z"
   },
   {
    "duration": 209,
    "start_time": "2022-03-11T17:37:40.551Z"
   },
   {
    "duration": -212,
    "start_time": "2022-03-11T17:37:40.973Z"
   },
   {
    "duration": -213,
    "start_time": "2022-03-11T17:37:40.975Z"
   },
   {
    "duration": -214,
    "start_time": "2022-03-11T17:37:40.977Z"
   },
   {
    "duration": -215,
    "start_time": "2022-03-11T17:37:40.979Z"
   },
   {
    "duration": -215,
    "start_time": "2022-03-11T17:37:40.981Z"
   },
   {
    "duration": -218,
    "start_time": "2022-03-11T17:37:40.984Z"
   },
   {
    "duration": -224,
    "start_time": "2022-03-11T17:37:40.991Z"
   },
   {
    "duration": 589,
    "start_time": "2022-03-11T17:37:59.989Z"
   },
   {
    "duration": 11,
    "start_time": "2022-03-11T17:38:00.580Z"
   },
   {
    "duration": 11,
    "start_time": "2022-03-11T17:38:00.595Z"
   },
   {
    "duration": 58,
    "start_time": "2022-03-11T17:38:00.608Z"
   },
   {
    "duration": 4,
    "start_time": "2022-03-11T17:38:00.667Z"
   },
   {
    "duration": 16,
    "start_time": "2022-03-11T17:38:00.672Z"
   },
   {
    "duration": 84,
    "start_time": "2022-03-11T17:38:00.691Z"
   },
   {
    "duration": 6,
    "start_time": "2022-03-11T17:38:00.778Z"
   },
   {
    "duration": 8,
    "start_time": "2022-03-11T17:38:00.785Z"
   },
   {
    "duration": 12,
    "start_time": "2022-03-11T17:38:00.794Z"
   },
   {
    "duration": 11,
    "start_time": "2022-03-11T17:38:00.808Z"
   },
   {
    "duration": 13,
    "start_time": "2022-03-11T17:38:00.820Z"
   },
   {
    "duration": 18,
    "start_time": "2022-03-11T17:38:00.835Z"
   },
   {
    "duration": 11,
    "start_time": "2022-03-11T17:38:00.854Z"
   },
   {
    "duration": 17,
    "start_time": "2022-03-11T17:38:00.866Z"
   },
   {
    "duration": 14,
    "start_time": "2022-03-11T17:38:00.885Z"
   },
   {
    "duration": 9,
    "start_time": "2022-03-11T17:38:00.901Z"
   },
   {
    "duration": 10,
    "start_time": "2022-03-11T17:38:00.912Z"
   },
   {
    "duration": 22,
    "start_time": "2022-03-11T17:38:00.924Z"
   },
   {
    "duration": 19,
    "start_time": "2022-03-11T17:38:00.947Z"
   },
   {
    "duration": 17,
    "start_time": "2022-03-11T17:38:00.968Z"
   },
   {
    "duration": 23,
    "start_time": "2022-03-11T17:38:00.988Z"
   },
   {
    "duration": 13,
    "start_time": "2022-03-11T17:38:01.013Z"
   },
   {
    "duration": 8,
    "start_time": "2022-03-11T17:38:01.028Z"
   },
   {
    "duration": 13,
    "start_time": "2022-03-11T17:38:01.038Z"
   },
   {
    "duration": 9,
    "start_time": "2022-03-11T17:38:01.053Z"
   },
   {
    "duration": 19,
    "start_time": "2022-03-11T17:38:01.063Z"
   },
   {
    "duration": 9,
    "start_time": "2022-03-11T17:38:01.084Z"
   },
   {
    "duration": 13,
    "start_time": "2022-03-11T17:38:01.095Z"
   },
   {
    "duration": 13,
    "start_time": "2022-03-11T17:38:01.110Z"
   },
   {
    "duration": 10,
    "start_time": "2022-03-11T17:38:01.125Z"
   },
   {
    "duration": 11,
    "start_time": "2022-03-11T17:38:01.136Z"
   },
   {
    "duration": 8,
    "start_time": "2022-03-11T17:38:01.149Z"
   },
   {
    "duration": 7,
    "start_time": "2022-03-11T17:38:01.159Z"
   },
   {
    "duration": 6,
    "start_time": "2022-03-11T17:38:01.168Z"
   },
   {
    "duration": 11,
    "start_time": "2022-03-11T17:38:01.176Z"
   },
   {
    "duration": 13,
    "start_time": "2022-03-11T17:38:01.188Z"
   },
   {
    "duration": 16,
    "start_time": "2022-03-11T17:38:01.203Z"
   },
   {
    "duration": 11,
    "start_time": "2022-03-11T17:38:01.221Z"
   },
   {
    "duration": 6,
    "start_time": "2022-03-11T17:38:01.234Z"
   },
   {
    "duration": 6,
    "start_time": "2022-03-11T17:38:01.241Z"
   },
   {
    "duration": 9,
    "start_time": "2022-03-11T17:38:01.249Z"
   },
   {
    "duration": 11,
    "start_time": "2022-03-11T17:38:01.259Z"
   },
   {
    "duration": 11,
    "start_time": "2022-03-11T17:38:01.271Z"
   },
   {
    "duration": 18,
    "start_time": "2022-03-11T17:38:01.283Z"
   },
   {
    "duration": 39,
    "start_time": "2022-03-11T17:38:01.303Z"
   },
   {
    "duration": 4,
    "start_time": "2022-03-11T17:38:01.344Z"
   },
   {
    "duration": 17,
    "start_time": "2022-03-11T17:38:01.350Z"
   },
   {
    "duration": 13,
    "start_time": "2022-03-11T17:38:01.369Z"
   },
   {
    "duration": 29,
    "start_time": "2022-03-11T17:38:01.384Z"
   },
   {
    "duration": 7,
    "start_time": "2022-03-11T17:38:01.414Z"
   },
   {
    "duration": 10,
    "start_time": "2022-03-11T17:38:01.422Z"
   },
   {
    "duration": 22,
    "start_time": "2022-03-11T17:38:01.434Z"
   },
   {
    "duration": 11,
    "start_time": "2022-03-11T17:38:01.458Z"
   },
   {
    "duration": 19,
    "start_time": "2022-03-11T17:38:01.470Z"
   },
   {
    "duration": 20,
    "start_time": "2022-03-11T17:38:01.491Z"
   },
   {
    "duration": 8,
    "start_time": "2022-03-11T17:38:01.513Z"
   },
   {
    "duration": 23,
    "start_time": "2022-03-11T17:38:01.523Z"
   },
   {
    "duration": 16,
    "start_time": "2022-03-11T17:38:01.548Z"
   },
   {
    "duration": 12,
    "start_time": "2022-03-11T17:38:01.566Z"
   },
   {
    "duration": 29,
    "start_time": "2022-03-11T17:38:01.579Z"
   },
   {
    "duration": 34,
    "start_time": "2022-03-11T17:38:01.609Z"
   },
   {
    "duration": 10,
    "start_time": "2022-03-11T17:38:01.644Z"
   },
   {
    "duration": 16,
    "start_time": "2022-03-11T17:38:01.655Z"
   },
   {
    "duration": 10,
    "start_time": "2022-03-11T17:38:01.673Z"
   },
   {
    "duration": 13,
    "start_time": "2022-03-11T17:38:01.685Z"
   },
   {
    "duration": 32,
    "start_time": "2022-03-11T17:38:01.702Z"
   },
   {
    "duration": 10,
    "start_time": "2022-03-11T17:38:01.736Z"
   },
   {
    "duration": 11,
    "start_time": "2022-03-11T17:38:01.747Z"
   },
   {
    "duration": 21,
    "start_time": "2022-03-11T17:38:01.759Z"
   },
   {
    "duration": 11,
    "start_time": "2022-03-11T17:38:01.781Z"
   },
   {
    "duration": 5,
    "start_time": "2022-03-11T17:38:01.793Z"
   },
   {
    "duration": 58,
    "start_time": "2022-03-11T17:38:01.799Z"
   },
   {
    "duration": 7,
    "start_time": "2022-03-11T17:38:01.859Z"
   },
   {
    "duration": 5,
    "start_time": "2022-03-11T17:38:01.868Z"
   },
   {
    "duration": 21,
    "start_time": "2022-03-11T17:38:01.874Z"
   },
   {
    "duration": 11,
    "start_time": "2022-03-11T17:38:01.896Z"
   },
   {
    "duration": 39,
    "start_time": "2022-03-11T17:38:01.908Z"
   },
   {
    "duration": 14,
    "start_time": "2022-03-11T17:38:01.948Z"
   },
   {
    "duration": 14,
    "start_time": "2022-03-11T17:38:01.964Z"
   },
   {
    "duration": 10,
    "start_time": "2022-03-11T17:38:01.980Z"
   },
   {
    "duration": 46,
    "start_time": "2022-03-11T17:38:01.992Z"
   },
   {
    "duration": 66,
    "start_time": "2022-03-11T17:54:50.201Z"
   },
   {
    "duration": 52,
    "start_time": "2022-03-11T17:55:23.230Z"
   },
   {
    "duration": 41,
    "start_time": "2022-03-11T17:55:30.782Z"
   },
   {
    "duration": 215,
    "start_time": "2022-03-11T17:56:24.269Z"
   },
   {
    "duration": 18,
    "start_time": "2022-03-11T17:56:32.172Z"
   },
   {
    "duration": 17,
    "start_time": "2022-03-11T17:57:14.681Z"
   },
   {
    "duration": 15,
    "start_time": "2022-03-11T17:57:29.641Z"
   },
   {
    "duration": 131,
    "start_time": "2022-03-11T17:58:46.945Z"
   },
   {
    "duration": 18,
    "start_time": "2022-03-11T17:58:57.777Z"
   },
   {
    "duration": 133,
    "start_time": "2022-03-11T18:03:52.204Z"
   },
   {
    "duration": 184,
    "start_time": "2022-03-11T18:03:59.973Z"
   },
   {
    "duration": 8,
    "start_time": "2022-03-11T18:04:15.098Z"
   },
   {
    "duration": 9,
    "start_time": "2022-03-11T18:04:34.073Z"
   },
   {
    "duration": 10,
    "start_time": "2022-03-11T18:05:00.373Z"
   },
   {
    "duration": 8,
    "start_time": "2022-03-11T18:05:18.901Z"
   },
   {
    "duration": 8,
    "start_time": "2022-03-11T18:05:30.966Z"
   },
   {
    "duration": 145,
    "start_time": "2022-03-11T18:07:03.576Z"
   },
   {
    "duration": 1789,
    "start_time": "2022-03-11T18:07:31.236Z"
   },
   {
    "duration": 197,
    "start_time": "2022-03-11T18:07:43.113Z"
   },
   {
    "duration": 204,
    "start_time": "2022-03-14T11:53:46.320Z"
   },
   {
    "duration": 631,
    "start_time": "2022-03-14T11:55:29.439Z"
   },
   {
    "duration": 12,
    "start_time": "2022-03-14T11:55:30.072Z"
   },
   {
    "duration": 10,
    "start_time": "2022-03-14T11:55:30.090Z"
   },
   {
    "duration": 5,
    "start_time": "2022-03-14T11:55:30.101Z"
   },
   {
    "duration": 7,
    "start_time": "2022-03-14T11:55:30.133Z"
   },
   {
    "duration": 56,
    "start_time": "2022-03-14T11:55:30.142Z"
   },
   {
    "duration": 5,
    "start_time": "2022-03-14T11:55:30.201Z"
   },
   {
    "duration": 27,
    "start_time": "2022-03-14T11:55:30.208Z"
   },
   {
    "duration": 13,
    "start_time": "2022-03-14T11:55:30.237Z"
   },
   {
    "duration": 10,
    "start_time": "2022-03-14T11:55:30.252Z"
   },
   {
    "duration": 13,
    "start_time": "2022-03-14T11:55:30.264Z"
   },
   {
    "duration": 17,
    "start_time": "2022-03-14T11:55:30.278Z"
   },
   {
    "duration": 8,
    "start_time": "2022-03-14T11:55:30.297Z"
   },
   {
    "duration": 8,
    "start_time": "2022-03-14T11:55:30.307Z"
   },
   {
    "duration": 18,
    "start_time": "2022-03-14T11:55:30.317Z"
   },
   {
    "duration": 8,
    "start_time": "2022-03-14T11:55:30.336Z"
   },
   {
    "duration": 22,
    "start_time": "2022-03-14T11:55:30.346Z"
   },
   {
    "duration": 7,
    "start_time": "2022-03-14T11:55:30.370Z"
   },
   {
    "duration": 9,
    "start_time": "2022-03-14T11:55:30.378Z"
   },
   {
    "duration": 13,
    "start_time": "2022-03-14T11:55:30.389Z"
   },
   {
    "duration": 18,
    "start_time": "2022-03-14T11:55:30.404Z"
   },
   {
    "duration": 15,
    "start_time": "2022-03-14T11:55:30.426Z"
   },
   {
    "duration": 12,
    "start_time": "2022-03-14T11:55:30.443Z"
   },
   {
    "duration": 13,
    "start_time": "2022-03-14T11:55:30.456Z"
   },
   {
    "duration": 9,
    "start_time": "2022-03-14T11:55:30.470Z"
   },
   {
    "duration": 6,
    "start_time": "2022-03-14T11:55:30.480Z"
   },
   {
    "duration": 21,
    "start_time": "2022-03-14T11:55:30.488Z"
   },
   {
    "duration": 27,
    "start_time": "2022-03-14T11:55:30.511Z"
   },
   {
    "duration": 4,
    "start_time": "2022-03-14T11:55:30.540Z"
   },
   {
    "duration": 20,
    "start_time": "2022-03-14T11:55:30.545Z"
   },
   {
    "duration": 17,
    "start_time": "2022-03-14T11:55:30.566Z"
   },
   {
    "duration": 20,
    "start_time": "2022-03-14T11:55:30.585Z"
   },
   {
    "duration": 3,
    "start_time": "2022-03-14T11:55:30.607Z"
   },
   {
    "duration": 11,
    "start_time": "2022-03-14T11:55:30.611Z"
   },
   {
    "duration": 11,
    "start_time": "2022-03-14T11:55:30.624Z"
   },
   {
    "duration": 12,
    "start_time": "2022-03-14T11:55:30.636Z"
   },
   {
    "duration": 9,
    "start_time": "2022-03-14T11:55:30.650Z"
   },
   {
    "duration": 8,
    "start_time": "2022-03-14T11:55:30.660Z"
   },
   {
    "duration": 11,
    "start_time": "2022-03-14T11:55:30.669Z"
   },
   {
    "duration": 11,
    "start_time": "2022-03-14T11:55:30.681Z"
   },
   {
    "duration": 12,
    "start_time": "2022-03-14T11:55:30.693Z"
   },
   {
    "duration": 10,
    "start_time": "2022-03-14T11:55:30.707Z"
   },
   {
    "duration": 15,
    "start_time": "2022-03-14T11:55:30.718Z"
   },
   {
    "duration": 12,
    "start_time": "2022-03-14T11:55:30.735Z"
   },
   {
    "duration": 6,
    "start_time": "2022-03-14T11:55:30.749Z"
   },
   {
    "duration": 21,
    "start_time": "2022-03-14T11:55:30.756Z"
   },
   {
    "duration": 12,
    "start_time": "2022-03-14T11:55:30.779Z"
   },
   {
    "duration": 27,
    "start_time": "2022-03-14T11:55:30.792Z"
   },
   {
    "duration": 21,
    "start_time": "2022-03-14T11:55:30.820Z"
   },
   {
    "duration": 14,
    "start_time": "2022-03-14T11:55:30.843Z"
   },
   {
    "duration": 10,
    "start_time": "2022-03-14T11:55:30.859Z"
   },
   {
    "duration": 18,
    "start_time": "2022-03-14T11:55:30.871Z"
   },
   {
    "duration": 17,
    "start_time": "2022-03-14T11:55:30.890Z"
   },
   {
    "duration": 32,
    "start_time": "2022-03-14T11:55:30.909Z"
   },
   {
    "duration": 393,
    "start_time": "2022-03-14T11:55:30.942Z"
   },
   {
    "duration": -8,
    "start_time": "2022-03-14T11:55:31.345Z"
   },
   {
    "duration": -10,
    "start_time": "2022-03-14T11:55:31.348Z"
   },
   {
    "duration": -10,
    "start_time": "2022-03-14T11:55:31.349Z"
   },
   {
    "duration": -11,
    "start_time": "2022-03-14T11:55:31.351Z"
   },
   {
    "duration": -12,
    "start_time": "2022-03-14T11:55:31.353Z"
   },
   {
    "duration": -16,
    "start_time": "2022-03-14T11:55:31.358Z"
   },
   {
    "duration": -17,
    "start_time": "2022-03-14T11:55:31.360Z"
   },
   {
    "duration": -18,
    "start_time": "2022-03-14T11:55:31.362Z"
   },
   {
    "duration": -19,
    "start_time": "2022-03-14T11:55:31.364Z"
   },
   {
    "duration": 17,
    "start_time": "2022-03-14T11:57:12.712Z"
   },
   {
    "duration": 17,
    "start_time": "2022-03-14T11:57:20.424Z"
   },
   {
    "duration": 17,
    "start_time": "2022-03-14T11:57:25.912Z"
   },
   {
    "duration": 16,
    "start_time": "2022-03-14T11:57:33.104Z"
   },
   {
    "duration": 146,
    "start_time": "2022-03-14T11:57:56.966Z"
   },
   {
    "duration": 10,
    "start_time": "2022-03-14T11:58:09.125Z"
   },
   {
    "duration": 9,
    "start_time": "2022-03-14T11:58:15.605Z"
   },
   {
    "duration": 12,
    "start_time": "2022-03-14T11:58:36.692Z"
   },
   {
    "duration": 18,
    "start_time": "2022-03-14T12:03:17.446Z"
   },
   {
    "duration": 174,
    "start_time": "2022-03-14T12:04:01.078Z"
   },
   {
    "duration": 33,
    "start_time": "2022-03-14T12:04:12.438Z"
   },
   {
    "duration": 19,
    "start_time": "2022-03-14T12:04:33.326Z"
   },
   {
    "duration": 17,
    "start_time": "2022-03-14T12:04:48.792Z"
   },
   {
    "duration": 1213,
    "start_time": "2022-03-14T12:05:35.947Z"
   },
   {
    "duration": 11,
    "start_time": "2022-03-14T12:05:37.161Z"
   },
   {
    "duration": 10,
    "start_time": "2022-03-14T12:05:37.174Z"
   },
   {
    "duration": 7,
    "start_time": "2022-03-14T12:05:37.186Z"
   },
   {
    "duration": 7,
    "start_time": "2022-03-14T12:05:37.195Z"
   },
   {
    "duration": 75,
    "start_time": "2022-03-14T12:05:37.204Z"
   },
   {
    "duration": 6,
    "start_time": "2022-03-14T12:05:37.281Z"
   },
   {
    "duration": 6,
    "start_time": "2022-03-14T12:05:37.288Z"
   },
   {
    "duration": 4,
    "start_time": "2022-03-14T12:05:37.296Z"
   },
   {
    "duration": 6,
    "start_time": "2022-03-14T12:05:37.302Z"
   },
   {
    "duration": 27,
    "start_time": "2022-03-14T12:05:37.309Z"
   },
   {
    "duration": 12,
    "start_time": "2022-03-14T12:05:37.338Z"
   },
   {
    "duration": 6,
    "start_time": "2022-03-14T12:05:37.351Z"
   },
   {
    "duration": 7,
    "start_time": "2022-03-14T12:05:37.359Z"
   },
   {
    "duration": 6,
    "start_time": "2022-03-14T12:05:37.367Z"
   },
   {
    "duration": 6,
    "start_time": "2022-03-14T12:05:37.375Z"
   },
   {
    "duration": 7,
    "start_time": "2022-03-14T12:05:37.382Z"
   },
   {
    "duration": 5,
    "start_time": "2022-03-14T12:05:37.390Z"
   },
   {
    "duration": 6,
    "start_time": "2022-03-14T12:05:37.397Z"
   },
   {
    "duration": 29,
    "start_time": "2022-03-14T12:05:37.405Z"
   },
   {
    "duration": 6,
    "start_time": "2022-03-14T12:05:37.435Z"
   },
   {
    "duration": 6,
    "start_time": "2022-03-14T12:05:37.442Z"
   },
   {
    "duration": 5,
    "start_time": "2022-03-14T12:05:37.450Z"
   },
   {
    "duration": 7,
    "start_time": "2022-03-14T12:05:37.456Z"
   },
   {
    "duration": 4,
    "start_time": "2022-03-14T12:05:37.464Z"
   },
   {
    "duration": 7,
    "start_time": "2022-03-14T12:05:37.470Z"
   },
   {
    "duration": 15,
    "start_time": "2022-03-14T12:05:37.481Z"
   },
   {
    "duration": 61,
    "start_time": "2022-03-14T12:05:37.498Z"
   },
   {
    "duration": 5,
    "start_time": "2022-03-14T12:05:37.561Z"
   },
   {
    "duration": 11,
    "start_time": "2022-03-14T12:05:37.567Z"
   },
   {
    "duration": 9,
    "start_time": "2022-03-14T12:05:37.580Z"
   },
   {
    "duration": 42,
    "start_time": "2022-03-14T12:05:37.591Z"
   },
   {
    "duration": 4,
    "start_time": "2022-03-14T12:05:37.635Z"
   },
   {
    "duration": 6,
    "start_time": "2022-03-14T12:05:37.641Z"
   },
   {
    "duration": 5,
    "start_time": "2022-03-14T12:05:37.648Z"
   },
   {
    "duration": 6,
    "start_time": "2022-03-14T12:05:37.654Z"
   },
   {
    "duration": 4,
    "start_time": "2022-03-14T12:05:37.662Z"
   },
   {
    "duration": 6,
    "start_time": "2022-03-14T12:05:37.667Z"
   },
   {
    "duration": 5,
    "start_time": "2022-03-14T12:05:37.674Z"
   },
   {
    "duration": 6,
    "start_time": "2022-03-14T12:05:37.681Z"
   },
   {
    "duration": 7,
    "start_time": "2022-03-14T12:05:37.688Z"
   },
   {
    "duration": 5,
    "start_time": "2022-03-14T12:05:37.697Z"
   },
   {
    "duration": 42,
    "start_time": "2022-03-14T12:05:37.704Z"
   },
   {
    "duration": 11,
    "start_time": "2022-03-14T12:05:37.747Z"
   },
   {
    "duration": 4,
    "start_time": "2022-03-14T12:05:37.760Z"
   },
   {
    "duration": 12,
    "start_time": "2022-03-14T12:05:37.765Z"
   },
   {
    "duration": 10,
    "start_time": "2022-03-14T12:05:37.778Z"
   },
   {
    "duration": 44,
    "start_time": "2022-03-14T12:05:37.790Z"
   },
   {
    "duration": 22,
    "start_time": "2022-03-14T12:05:37.836Z"
   },
   {
    "duration": 10,
    "start_time": "2022-03-14T12:05:37.859Z"
   },
   {
    "duration": 8,
    "start_time": "2022-03-14T12:05:37.871Z"
   },
   {
    "duration": 16,
    "start_time": "2022-03-14T12:05:37.881Z"
   },
   {
    "duration": 45,
    "start_time": "2022-03-14T12:05:37.898Z"
   },
   {
    "duration": 2,
    "start_time": "2022-03-14T12:05:37.945Z"
   },
   {
    "duration": 19,
    "start_time": "2022-03-14T12:05:37.949Z"
   },
   {
    "duration": 12,
    "start_time": "2022-03-14T12:05:37.970Z"
   },
   {
    "duration": 15,
    "start_time": "2022-03-14T12:05:37.984Z"
   },
   {
    "duration": 44,
    "start_time": "2022-03-14T12:05:38.000Z"
   },
   {
    "duration": 14,
    "start_time": "2022-03-14T12:05:38.045Z"
   },
   {
    "duration": 16,
    "start_time": "2022-03-14T12:05:38.061Z"
   },
   {
    "duration": 303,
    "start_time": "2022-03-14T12:22:19.271Z"
   },
   {
    "duration": 718,
    "start_time": "2022-03-14T12:22:55.852Z"
   },
   {
    "duration": 10,
    "start_time": "2022-03-14T12:22:56.572Z"
   },
   {
    "duration": 9,
    "start_time": "2022-03-14T12:22:56.583Z"
   },
   {
    "duration": 4,
    "start_time": "2022-03-14T12:22:56.593Z"
   },
   {
    "duration": 9,
    "start_time": "2022-03-14T12:22:56.599Z"
   },
   {
    "duration": 54,
    "start_time": "2022-03-14T12:22:56.632Z"
   },
   {
    "duration": 6,
    "start_time": "2022-03-14T12:22:56.688Z"
   },
   {
    "duration": 4,
    "start_time": "2022-03-14T12:22:56.696Z"
   },
   {
    "duration": 6,
    "start_time": "2022-03-14T12:22:56.701Z"
   },
   {
    "duration": 25,
    "start_time": "2022-03-14T12:22:56.708Z"
   },
   {
    "duration": 9,
    "start_time": "2022-03-14T12:22:56.735Z"
   },
   {
    "duration": 5,
    "start_time": "2022-03-14T12:22:56.745Z"
   },
   {
    "duration": 6,
    "start_time": "2022-03-14T12:22:56.751Z"
   },
   {
    "duration": 5,
    "start_time": "2022-03-14T12:22:56.758Z"
   },
   {
    "duration": 4,
    "start_time": "2022-03-14T12:22:56.764Z"
   },
   {
    "duration": 4,
    "start_time": "2022-03-14T12:22:56.770Z"
   },
   {
    "duration": 8,
    "start_time": "2022-03-14T12:22:56.776Z"
   },
   {
    "duration": 7,
    "start_time": "2022-03-14T12:22:56.785Z"
   },
   {
    "duration": 6,
    "start_time": "2022-03-14T12:22:56.794Z"
   },
   {
    "duration": 5,
    "start_time": "2022-03-14T12:22:56.832Z"
   },
   {
    "duration": 9,
    "start_time": "2022-03-14T12:22:56.839Z"
   },
   {
    "duration": 5,
    "start_time": "2022-03-14T12:22:56.849Z"
   },
   {
    "duration": 3,
    "start_time": "2022-03-14T12:22:56.857Z"
   },
   {
    "duration": 9,
    "start_time": "2022-03-14T12:22:56.862Z"
   },
   {
    "duration": 6,
    "start_time": "2022-03-14T12:22:56.873Z"
   },
   {
    "duration": 6,
    "start_time": "2022-03-14T12:22:56.880Z"
   },
   {
    "duration": 17,
    "start_time": "2022-03-14T12:22:56.888Z"
   },
   {
    "duration": 53,
    "start_time": "2022-03-14T12:22:56.906Z"
   },
   {
    "duration": 4,
    "start_time": "2022-03-14T12:22:56.960Z"
   },
   {
    "duration": 10,
    "start_time": "2022-03-14T12:22:56.965Z"
   },
   {
    "duration": 11,
    "start_time": "2022-03-14T12:22:56.976Z"
   },
   {
    "duration": 21,
    "start_time": "2022-03-14T12:22:56.989Z"
   },
   {
    "duration": 22,
    "start_time": "2022-03-14T12:22:57.011Z"
   },
   {
    "duration": 5,
    "start_time": "2022-03-14T12:22:57.035Z"
   },
   {
    "duration": 4,
    "start_time": "2022-03-14T12:22:57.042Z"
   },
   {
    "duration": 7,
    "start_time": "2022-03-14T12:22:57.048Z"
   },
   {
    "duration": 6,
    "start_time": "2022-03-14T12:22:57.056Z"
   },
   {
    "duration": 7,
    "start_time": "2022-03-14T12:22:57.063Z"
   },
   {
    "duration": 5,
    "start_time": "2022-03-14T12:22:57.072Z"
   },
   {
    "duration": 12,
    "start_time": "2022-03-14T12:22:57.078Z"
   },
   {
    "duration": 12,
    "start_time": "2022-03-14T12:22:57.092Z"
   },
   {
    "duration": 9,
    "start_time": "2022-03-14T12:22:57.106Z"
   },
   {
    "duration": 18,
    "start_time": "2022-03-14T12:22:57.116Z"
   },
   {
    "duration": 8,
    "start_time": "2022-03-14T12:22:57.136Z"
   },
   {
    "duration": 6,
    "start_time": "2022-03-14T12:22:57.145Z"
   },
   {
    "duration": 13,
    "start_time": "2022-03-14T12:22:57.152Z"
   },
   {
    "duration": 10,
    "start_time": "2022-03-14T12:22:57.166Z"
   },
   {
    "duration": 12,
    "start_time": "2022-03-14T12:22:57.178Z"
   },
   {
    "duration": 48,
    "start_time": "2022-03-14T12:22:57.191Z"
   },
   {
    "duration": 9,
    "start_time": "2022-03-14T12:22:57.240Z"
   },
   {
    "duration": 8,
    "start_time": "2022-03-14T12:22:57.251Z"
   },
   {
    "duration": 16,
    "start_time": "2022-03-14T12:22:57.261Z"
   },
   {
    "duration": 18,
    "start_time": "2022-03-14T12:22:57.279Z"
   },
   {
    "duration": 34,
    "start_time": "2022-03-14T12:22:57.299Z"
   },
   {
    "duration": 20,
    "start_time": "2022-03-14T12:22:57.335Z"
   },
   {
    "duration": 12,
    "start_time": "2022-03-14T12:22:57.357Z"
   },
   {
    "duration": 14,
    "start_time": "2022-03-14T12:22:57.371Z"
   },
   {
    "duration": 46,
    "start_time": "2022-03-14T12:22:57.387Z"
   },
   {
    "duration": 14,
    "start_time": "2022-03-14T12:22:57.435Z"
   },
   {
    "duration": 14,
    "start_time": "2022-03-14T12:22:57.450Z"
   },
   {
    "duration": 18,
    "start_time": "2022-03-14T12:22:57.465Z"
   },
   {
    "duration": 13,
    "start_time": "2022-03-14T12:26:19.229Z"
   },
   {
    "duration": 229,
    "start_time": "2022-03-14T12:27:06.589Z"
   },
   {
    "duration": 12,
    "start_time": "2022-03-14T12:31:35.503Z"
   },
   {
    "duration": 387,
    "start_time": "2022-03-14T12:31:54.280Z"
   },
   {
    "duration": 12,
    "start_time": "2022-03-14T12:32:16.862Z"
   },
   {
    "duration": 12,
    "start_time": "2022-03-14T12:32:28.702Z"
   },
   {
    "duration": 582,
    "start_time": "2022-03-14T12:32:38.379Z"
   },
   {
    "duration": 10,
    "start_time": "2022-03-14T12:32:38.962Z"
   },
   {
    "duration": 8,
    "start_time": "2022-03-14T12:32:38.974Z"
   },
   {
    "duration": 3,
    "start_time": "2022-03-14T12:32:38.984Z"
   },
   {
    "duration": 8,
    "start_time": "2022-03-14T12:32:38.989Z"
   },
   {
    "duration": 78,
    "start_time": "2022-03-14T12:32:38.999Z"
   },
   {
    "duration": 5,
    "start_time": "2022-03-14T12:32:39.079Z"
   },
   {
    "duration": 5,
    "start_time": "2022-03-14T12:32:39.086Z"
   },
   {
    "duration": 5,
    "start_time": "2022-03-14T12:32:39.092Z"
   },
   {
    "duration": 8,
    "start_time": "2022-03-14T12:32:39.099Z"
   },
   {
    "duration": 25,
    "start_time": "2022-03-14T12:32:39.109Z"
   },
   {
    "duration": 5,
    "start_time": "2022-03-14T12:32:39.136Z"
   },
   {
    "duration": 6,
    "start_time": "2022-03-14T12:32:39.142Z"
   },
   {
    "duration": 6,
    "start_time": "2022-03-14T12:32:39.149Z"
   },
   {
    "duration": 11,
    "start_time": "2022-03-14T12:32:39.157Z"
   },
   {
    "duration": 6,
    "start_time": "2022-03-14T12:32:39.169Z"
   },
   {
    "duration": 6,
    "start_time": "2022-03-14T12:32:39.177Z"
   },
   {
    "duration": 7,
    "start_time": "2022-03-14T12:32:39.184Z"
   },
   {
    "duration": 9,
    "start_time": "2022-03-14T12:32:39.193Z"
   },
   {
    "duration": 33,
    "start_time": "2022-03-14T12:32:39.203Z"
   },
   {
    "duration": 9,
    "start_time": "2022-03-14T12:32:39.238Z"
   },
   {
    "duration": 6,
    "start_time": "2022-03-14T12:32:39.248Z"
   },
   {
    "duration": 6,
    "start_time": "2022-03-14T12:32:39.257Z"
   },
   {
    "duration": 6,
    "start_time": "2022-03-14T12:32:39.265Z"
   },
   {
    "duration": 10,
    "start_time": "2022-03-14T12:32:39.272Z"
   },
   {
    "duration": 10,
    "start_time": "2022-03-14T12:32:39.284Z"
   },
   {
    "duration": 39,
    "start_time": "2022-03-14T12:32:39.295Z"
   },
   {
    "duration": 28,
    "start_time": "2022-03-14T12:32:39.336Z"
   },
   {
    "duration": 4,
    "start_time": "2022-03-14T12:32:39.366Z"
   },
   {
    "duration": 19,
    "start_time": "2022-03-14T12:32:39.371Z"
   },
   {
    "duration": 9,
    "start_time": "2022-03-14T12:32:39.392Z"
   },
   {
    "duration": 34,
    "start_time": "2022-03-14T12:32:39.403Z"
   },
   {
    "duration": 4,
    "start_time": "2022-03-14T12:32:39.438Z"
   },
   {
    "duration": 15,
    "start_time": "2022-03-14T12:32:39.443Z"
   },
   {
    "duration": 10,
    "start_time": "2022-03-14T12:32:39.460Z"
   },
   {
    "duration": 6,
    "start_time": "2022-03-14T12:32:39.472Z"
   },
   {
    "duration": 7,
    "start_time": "2022-03-14T12:32:39.479Z"
   },
   {
    "duration": 15,
    "start_time": "2022-03-14T12:32:39.488Z"
   },
   {
    "duration": 5,
    "start_time": "2022-03-14T12:32:39.505Z"
   },
   {
    "duration": 8,
    "start_time": "2022-03-14T12:32:39.511Z"
   },
   {
    "duration": 7,
    "start_time": "2022-03-14T12:32:39.520Z"
   },
   {
    "duration": 8,
    "start_time": "2022-03-14T12:32:39.529Z"
   },
   {
    "duration": 12,
    "start_time": "2022-03-14T12:32:39.538Z"
   },
   {
    "duration": 9,
    "start_time": "2022-03-14T12:32:39.552Z"
   },
   {
    "duration": 10,
    "start_time": "2022-03-14T12:32:39.563Z"
   },
   {
    "duration": 17,
    "start_time": "2022-03-14T12:32:39.575Z"
   },
   {
    "duration": 10,
    "start_time": "2022-03-14T12:32:39.594Z"
   },
   {
    "duration": 30,
    "start_time": "2022-03-14T12:32:39.605Z"
   },
   {
    "duration": 27,
    "start_time": "2022-03-14T12:32:39.636Z"
   },
   {
    "duration": 10,
    "start_time": "2022-03-14T12:32:39.665Z"
   },
   {
    "duration": 7,
    "start_time": "2022-03-14T12:32:39.677Z"
   },
   {
    "duration": 15,
    "start_time": "2022-03-14T12:32:39.685Z"
   },
   {
    "duration": 41,
    "start_time": "2022-03-14T12:32:39.701Z"
   },
   {
    "duration": 3,
    "start_time": "2022-03-14T12:32:39.743Z"
   },
   {
    "duration": 22,
    "start_time": "2022-03-14T12:32:39.747Z"
   },
   {
    "duration": 10,
    "start_time": "2022-03-14T12:32:39.771Z"
   },
   {
    "duration": 13,
    "start_time": "2022-03-14T12:32:39.782Z"
   },
   {
    "duration": 36,
    "start_time": "2022-03-14T12:32:39.797Z"
   },
   {
    "duration": 227,
    "start_time": "2022-03-14T12:32:39.835Z"
   },
   {
    "duration": -13,
    "start_time": "2022-03-14T12:32:40.077Z"
   },
   {
    "duration": -14,
    "start_time": "2022-03-14T12:32:40.079Z"
   },
   {
    "duration": -14,
    "start_time": "2022-03-14T12:32:40.080Z"
   },
   {
    "duration": 574,
    "start_time": "2022-03-14T12:32:59.271Z"
   },
   {
    "duration": 11,
    "start_time": "2022-03-14T12:32:59.847Z"
   },
   {
    "duration": 9,
    "start_time": "2022-03-14T12:32:59.860Z"
   },
   {
    "duration": 6,
    "start_time": "2022-03-14T12:32:59.870Z"
   },
   {
    "duration": 6,
    "start_time": "2022-03-14T12:32:59.877Z"
   },
   {
    "duration": 89,
    "start_time": "2022-03-14T12:32:59.885Z"
   },
   {
    "duration": 6,
    "start_time": "2022-03-14T12:32:59.975Z"
   },
   {
    "duration": 4,
    "start_time": "2022-03-14T12:32:59.983Z"
   },
   {
    "duration": 5,
    "start_time": "2022-03-14T12:32:59.989Z"
   },
   {
    "duration": 10,
    "start_time": "2022-03-14T12:32:59.996Z"
   },
   {
    "duration": 27,
    "start_time": "2022-03-14T12:33:00.008Z"
   },
   {
    "duration": 8,
    "start_time": "2022-03-14T12:33:00.036Z"
   },
   {
    "duration": 15,
    "start_time": "2022-03-14T12:33:00.045Z"
   },
   {
    "duration": 8,
    "start_time": "2022-03-14T12:33:00.061Z"
   },
   {
    "duration": 8,
    "start_time": "2022-03-14T12:33:00.070Z"
   },
   {
    "duration": 15,
    "start_time": "2022-03-14T12:33:00.079Z"
   },
   {
    "duration": 7,
    "start_time": "2022-03-14T12:33:00.095Z"
   },
   {
    "duration": 10,
    "start_time": "2022-03-14T12:33:00.104Z"
   },
   {
    "duration": 18,
    "start_time": "2022-03-14T12:33:00.115Z"
   },
   {
    "duration": 4,
    "start_time": "2022-03-14T12:33:00.135Z"
   },
   {
    "duration": 8,
    "start_time": "2022-03-14T12:33:00.140Z"
   },
   {
    "duration": 7,
    "start_time": "2022-03-14T12:33:00.149Z"
   },
   {
    "duration": 3,
    "start_time": "2022-03-14T12:33:00.160Z"
   },
   {
    "duration": 6,
    "start_time": "2022-03-14T12:33:00.165Z"
   },
   {
    "duration": 6,
    "start_time": "2022-03-14T12:33:00.173Z"
   },
   {
    "duration": 7,
    "start_time": "2022-03-14T12:33:00.180Z"
   },
   {
    "duration": 17,
    "start_time": "2022-03-14T12:33:00.189Z"
   },
   {
    "duration": 53,
    "start_time": "2022-03-14T12:33:00.207Z"
   },
   {
    "duration": 4,
    "start_time": "2022-03-14T12:33:00.262Z"
   },
   {
    "duration": 22,
    "start_time": "2022-03-14T12:33:00.268Z"
   },
   {
    "duration": 12,
    "start_time": "2022-03-14T12:33:00.291Z"
   },
   {
    "duration": 29,
    "start_time": "2022-03-14T12:33:00.305Z"
   },
   {
    "duration": 3,
    "start_time": "2022-03-14T12:33:00.336Z"
   },
   {
    "duration": 7,
    "start_time": "2022-03-14T12:33:00.341Z"
   },
   {
    "duration": 12,
    "start_time": "2022-03-14T12:33:00.349Z"
   },
   {
    "duration": 9,
    "start_time": "2022-03-14T12:33:00.363Z"
   },
   {
    "duration": 22,
    "start_time": "2022-03-14T12:33:00.373Z"
   },
   {
    "duration": 10,
    "start_time": "2022-03-14T12:33:00.397Z"
   },
   {
    "duration": 12,
    "start_time": "2022-03-14T12:33:00.408Z"
   },
   {
    "duration": 21,
    "start_time": "2022-03-14T12:33:00.421Z"
   },
   {
    "duration": 15,
    "start_time": "2022-03-14T12:33:00.444Z"
   },
   {
    "duration": 8,
    "start_time": "2022-03-14T12:33:00.461Z"
   },
   {
    "duration": 17,
    "start_time": "2022-03-14T12:33:00.471Z"
   },
   {
    "duration": 16,
    "start_time": "2022-03-14T12:33:00.490Z"
   },
   {
    "duration": 15,
    "start_time": "2022-03-14T12:33:00.508Z"
   },
   {
    "duration": 21,
    "start_time": "2022-03-14T12:33:00.525Z"
   },
   {
    "duration": 11,
    "start_time": "2022-03-14T12:33:00.547Z"
   },
   {
    "duration": 13,
    "start_time": "2022-03-14T12:33:00.559Z"
   },
   {
    "duration": 27,
    "start_time": "2022-03-14T12:33:00.573Z"
   },
   {
    "duration": 9,
    "start_time": "2022-03-14T12:33:00.602Z"
   },
   {
    "duration": 20,
    "start_time": "2022-03-14T12:33:00.613Z"
   },
   {
    "duration": 17,
    "start_time": "2022-03-14T12:33:00.635Z"
   },
   {
    "duration": 17,
    "start_time": "2022-03-14T12:33:00.654Z"
   },
   {
    "duration": 3,
    "start_time": "2022-03-14T12:33:00.673Z"
   },
   {
    "duration": 28,
    "start_time": "2022-03-14T12:33:00.677Z"
   },
   {
    "duration": 34,
    "start_time": "2022-03-14T12:33:00.707Z"
   },
   {
    "duration": 26,
    "start_time": "2022-03-14T12:33:00.743Z"
   },
   {
    "duration": 12,
    "start_time": "2022-03-14T12:33:00.771Z"
   },
   {
    "duration": 495,
    "start_time": "2022-03-14T12:33:00.785Z"
   },
   {
    "duration": -37,
    "start_time": "2022-03-14T12:33:01.319Z"
   },
   {
    "duration": -38,
    "start_time": "2022-03-14T12:33:01.321Z"
   },
   {
    "duration": -51,
    "start_time": "2022-03-14T12:33:01.336Z"
   },
   {
    "duration": 634,
    "start_time": "2022-03-14T12:33:43.512Z"
   },
   {
    "duration": 12,
    "start_time": "2022-03-14T12:33:44.148Z"
   },
   {
    "duration": 10,
    "start_time": "2022-03-14T12:33:44.162Z"
   },
   {
    "duration": 4,
    "start_time": "2022-03-14T12:33:44.174Z"
   },
   {
    "duration": 13,
    "start_time": "2022-03-14T12:33:44.179Z"
   },
   {
    "duration": 76,
    "start_time": "2022-03-14T12:33:44.194Z"
   },
   {
    "duration": 6,
    "start_time": "2022-03-14T12:33:44.271Z"
   },
   {
    "duration": 4,
    "start_time": "2022-03-14T12:33:44.278Z"
   },
   {
    "duration": 7,
    "start_time": "2022-03-14T12:33:44.285Z"
   },
   {
    "duration": 7,
    "start_time": "2022-03-14T12:33:44.293Z"
   },
   {
    "duration": 7,
    "start_time": "2022-03-14T12:33:44.301Z"
   },
   {
    "duration": 26,
    "start_time": "2022-03-14T12:33:44.309Z"
   },
   {
    "duration": 7,
    "start_time": "2022-03-14T12:33:44.337Z"
   },
   {
    "duration": 9,
    "start_time": "2022-03-14T12:33:44.345Z"
   },
   {
    "duration": 5,
    "start_time": "2022-03-14T12:33:44.355Z"
   },
   {
    "duration": 9,
    "start_time": "2022-03-14T12:33:44.361Z"
   },
   {
    "duration": 6,
    "start_time": "2022-03-14T12:33:44.371Z"
   },
   {
    "duration": 7,
    "start_time": "2022-03-14T12:33:44.379Z"
   },
   {
    "duration": 6,
    "start_time": "2022-03-14T12:33:44.387Z"
   },
   {
    "duration": 4,
    "start_time": "2022-03-14T12:33:44.395Z"
   },
   {
    "duration": 35,
    "start_time": "2022-03-14T12:33:44.400Z"
   },
   {
    "duration": 4,
    "start_time": "2022-03-14T12:33:44.437Z"
   },
   {
    "duration": 9,
    "start_time": "2022-03-14T12:33:44.442Z"
   },
   {
    "duration": 6,
    "start_time": "2022-03-14T12:33:44.452Z"
   },
   {
    "duration": 7,
    "start_time": "2022-03-14T12:33:44.460Z"
   },
   {
    "duration": 6,
    "start_time": "2022-03-14T12:33:44.468Z"
   },
   {
    "duration": 15,
    "start_time": "2022-03-14T12:33:44.477Z"
   },
   {
    "duration": 52,
    "start_time": "2022-03-14T12:33:44.494Z"
   },
   {
    "duration": 4,
    "start_time": "2022-03-14T12:33:44.548Z"
   },
   {
    "duration": 14,
    "start_time": "2022-03-14T12:33:44.553Z"
   },
   {
    "duration": 8,
    "start_time": "2022-03-14T12:33:44.569Z"
   },
   {
    "duration": 22,
    "start_time": "2022-03-14T12:33:44.578Z"
   },
   {
    "duration": 3,
    "start_time": "2022-03-14T12:33:44.602Z"
   },
   {
    "duration": 4,
    "start_time": "2022-03-14T12:33:44.607Z"
   },
   {
    "duration": 22,
    "start_time": "2022-03-14T12:33:44.612Z"
   },
   {
    "duration": 10,
    "start_time": "2022-03-14T12:33:44.635Z"
   },
   {
    "duration": 11,
    "start_time": "2022-03-14T12:33:44.646Z"
   },
   {
    "duration": 5,
    "start_time": "2022-03-14T12:33:44.658Z"
   },
   {
    "duration": 4,
    "start_time": "2022-03-14T12:33:44.665Z"
   },
   {
    "duration": 7,
    "start_time": "2022-03-14T12:33:44.671Z"
   },
   {
    "duration": 7,
    "start_time": "2022-03-14T12:33:44.679Z"
   },
   {
    "duration": 6,
    "start_time": "2022-03-14T12:33:44.688Z"
   },
   {
    "duration": 12,
    "start_time": "2022-03-14T12:33:44.695Z"
   },
   {
    "duration": 25,
    "start_time": "2022-03-14T12:33:44.709Z"
   },
   {
    "duration": 4,
    "start_time": "2022-03-14T12:33:44.736Z"
   },
   {
    "duration": 17,
    "start_time": "2022-03-14T12:33:44.741Z"
   },
   {
    "duration": 11,
    "start_time": "2022-03-14T12:33:44.759Z"
   },
   {
    "duration": 12,
    "start_time": "2022-03-14T12:33:44.772Z"
   },
   {
    "duration": 18,
    "start_time": "2022-03-14T12:33:44.785Z"
   },
   {
    "duration": 36,
    "start_time": "2022-03-14T12:33:44.804Z"
   },
   {
    "duration": 12,
    "start_time": "2022-03-14T12:33:44.841Z"
   },
   {
    "duration": 15,
    "start_time": "2022-03-14T12:33:44.854Z"
   },
   {
    "duration": 17,
    "start_time": "2022-03-14T12:33:44.871Z"
   },
   {
    "duration": 2,
    "start_time": "2022-03-14T12:33:44.889Z"
   },
   {
    "duration": 44,
    "start_time": "2022-03-14T12:33:44.893Z"
   },
   {
    "duration": 12,
    "start_time": "2022-03-14T12:33:44.939Z"
   },
   {
    "duration": 14,
    "start_time": "2022-03-14T12:33:44.953Z"
   },
   {
    "duration": 11,
    "start_time": "2022-03-14T12:33:44.968Z"
   },
   {
    "duration": 460,
    "start_time": "2022-03-14T12:33:44.980Z"
   },
   {
    "duration": -78,
    "start_time": "2022-03-14T12:33:45.520Z"
   },
   {
    "duration": -90,
    "start_time": "2022-03-14T12:33:45.533Z"
   },
   {
    "duration": -90,
    "start_time": "2022-03-14T12:33:45.534Z"
   },
   {
    "duration": 1056,
    "start_time": "2022-03-14T12:35:23.448Z"
   },
   {
    "duration": 9,
    "start_time": "2022-03-14T12:35:24.506Z"
   },
   {
    "duration": 9,
    "start_time": "2022-03-14T12:35:24.517Z"
   },
   {
    "duration": 6,
    "start_time": "2022-03-14T12:35:24.527Z"
   },
   {
    "duration": 6,
    "start_time": "2022-03-14T12:35:24.535Z"
   },
   {
    "duration": 57,
    "start_time": "2022-03-14T12:35:24.543Z"
   },
   {
    "duration": 5,
    "start_time": "2022-03-14T12:35:24.602Z"
   },
   {
    "duration": 5,
    "start_time": "2022-03-14T12:35:24.608Z"
   },
   {
    "duration": 20,
    "start_time": "2022-03-14T12:35:24.615Z"
   },
   {
    "duration": 5,
    "start_time": "2022-03-14T12:35:24.637Z"
   },
   {
    "duration": 8,
    "start_time": "2022-03-14T12:35:24.644Z"
   },
   {
    "duration": 8,
    "start_time": "2022-03-14T12:35:24.653Z"
   },
   {
    "duration": 7,
    "start_time": "2022-03-14T12:35:24.662Z"
   },
   {
    "duration": 6,
    "start_time": "2022-03-14T12:35:24.671Z"
   },
   {
    "duration": 4,
    "start_time": "2022-03-14T12:35:24.678Z"
   },
   {
    "duration": 5,
    "start_time": "2022-03-14T12:35:24.684Z"
   },
   {
    "duration": 8,
    "start_time": "2022-03-14T12:35:24.690Z"
   },
   {
    "duration": 6,
    "start_time": "2022-03-14T12:35:24.733Z"
   },
   {
    "duration": 7,
    "start_time": "2022-03-14T12:35:24.740Z"
   },
   {
    "duration": 4,
    "start_time": "2022-03-14T12:35:24.749Z"
   },
   {
    "duration": 7,
    "start_time": "2022-03-14T12:35:24.754Z"
   },
   {
    "duration": 4,
    "start_time": "2022-03-14T12:35:24.763Z"
   },
   {
    "duration": 4,
    "start_time": "2022-03-14T12:35:24.769Z"
   },
   {
    "duration": 6,
    "start_time": "2022-03-14T12:35:24.774Z"
   },
   {
    "duration": 5,
    "start_time": "2022-03-14T12:35:24.781Z"
   },
   {
    "duration": 6,
    "start_time": "2022-03-14T12:35:24.787Z"
   },
   {
    "duration": 15,
    "start_time": "2022-03-14T12:35:24.833Z"
   },
   {
    "duration": 29,
    "start_time": "2022-03-14T12:35:24.850Z"
   },
   {
    "duration": 4,
    "start_time": "2022-03-14T12:35:24.881Z"
   },
   {
    "duration": 15,
    "start_time": "2022-03-14T12:35:24.886Z"
   },
   {
    "duration": 8,
    "start_time": "2022-03-14T12:35:24.902Z"
   },
   {
    "duration": 18,
    "start_time": "2022-03-14T12:35:24.934Z"
   },
   {
    "duration": 4,
    "start_time": "2022-03-14T12:35:24.955Z"
   },
   {
    "duration": 5,
    "start_time": "2022-03-14T12:35:24.960Z"
   },
   {
    "duration": 6,
    "start_time": "2022-03-14T12:35:24.966Z"
   },
   {
    "duration": 6,
    "start_time": "2022-03-14T12:35:24.973Z"
   },
   {
    "duration": 8,
    "start_time": "2022-03-14T12:35:24.981Z"
   },
   {
    "duration": 4,
    "start_time": "2022-03-14T12:35:24.991Z"
   },
   {
    "duration": 4,
    "start_time": "2022-03-14T12:35:24.996Z"
   },
   {
    "duration": 11,
    "start_time": "2022-03-14T12:35:25.002Z"
   },
   {
    "duration": 20,
    "start_time": "2022-03-14T12:35:25.033Z"
   },
   {
    "duration": 7,
    "start_time": "2022-03-14T12:35:25.054Z"
   },
   {
    "duration": 17,
    "start_time": "2022-03-14T12:35:25.063Z"
   },
   {
    "duration": 12,
    "start_time": "2022-03-14T12:35:25.082Z"
   },
   {
    "duration": 5,
    "start_time": "2022-03-14T12:35:25.095Z"
   },
   {
    "duration": 12,
    "start_time": "2022-03-14T12:35:25.102Z"
   },
   {
    "duration": 23,
    "start_time": "2022-03-14T12:35:25.116Z"
   },
   {
    "duration": 11,
    "start_time": "2022-03-14T12:35:25.141Z"
   },
   {
    "duration": 18,
    "start_time": "2022-03-14T12:35:25.154Z"
   },
   {
    "duration": 11,
    "start_time": "2022-03-14T12:35:25.174Z"
   },
   {
    "duration": 5,
    "start_time": "2022-03-14T12:35:25.186Z"
   },
   {
    "duration": 46,
    "start_time": "2022-03-14T12:35:25.192Z"
   },
   {
    "duration": 17,
    "start_time": "2022-03-14T12:35:25.239Z"
   },
   {
    "duration": 2,
    "start_time": "2022-03-14T12:35:25.257Z"
   },
   {
    "duration": 19,
    "start_time": "2022-03-14T12:35:25.261Z"
   },
   {
    "duration": 10,
    "start_time": "2022-03-14T12:35:25.282Z"
   },
   {
    "duration": 43,
    "start_time": "2022-03-14T12:35:25.293Z"
   },
   {
    "duration": 12,
    "start_time": "2022-03-14T12:35:25.338Z"
   },
   {
    "duration": 441,
    "start_time": "2022-03-14T12:35:25.352Z"
   },
   {
    "duration": -74,
    "start_time": "2022-03-14T12:35:25.869Z"
   },
   {
    "duration": -75,
    "start_time": "2022-03-14T12:35:25.871Z"
   },
   {
    "duration": -74,
    "start_time": "2022-03-14T12:35:25.872Z"
   },
   {
    "duration": 10,
    "start_time": "2022-03-14T12:36:53.494Z"
   },
   {
    "duration": 976,
    "start_time": "2022-03-14T12:37:04.395Z"
   },
   {
    "duration": 9,
    "start_time": "2022-03-14T12:37:05.373Z"
   },
   {
    "duration": 12,
    "start_time": "2022-03-14T12:37:05.384Z"
   },
   {
    "duration": 6,
    "start_time": "2022-03-14T12:37:05.397Z"
   },
   {
    "duration": 8,
    "start_time": "2022-03-14T12:37:05.405Z"
   },
   {
    "duration": 72,
    "start_time": "2022-03-14T12:37:05.415Z"
   },
   {
    "duration": 5,
    "start_time": "2022-03-14T12:37:05.489Z"
   },
   {
    "duration": 7,
    "start_time": "2022-03-14T12:37:05.497Z"
   },
   {
    "duration": 8,
    "start_time": "2022-03-14T12:37:05.505Z"
   },
   {
    "duration": 19,
    "start_time": "2022-03-14T12:37:05.515Z"
   },
   {
    "duration": 11,
    "start_time": "2022-03-14T12:37:05.536Z"
   },
   {
    "duration": 5,
    "start_time": "2022-03-14T12:37:05.549Z"
   },
   {
    "duration": 10,
    "start_time": "2022-03-14T12:37:05.556Z"
   },
   {
    "duration": 9,
    "start_time": "2022-03-14T12:37:05.568Z"
   },
   {
    "duration": 10,
    "start_time": "2022-03-14T12:37:05.579Z"
   },
   {
    "duration": 8,
    "start_time": "2022-03-14T12:37:05.591Z"
   },
   {
    "duration": 7,
    "start_time": "2022-03-14T12:37:05.600Z"
   },
   {
    "duration": 9,
    "start_time": "2022-03-14T12:37:05.609Z"
   },
   {
    "duration": 17,
    "start_time": "2022-03-14T12:37:05.619Z"
   },
   {
    "duration": 4,
    "start_time": "2022-03-14T12:37:05.638Z"
   },
   {
    "duration": 7,
    "start_time": "2022-03-14T12:37:05.643Z"
   },
   {
    "duration": 6,
    "start_time": "2022-03-14T12:37:05.652Z"
   },
   {
    "duration": 3,
    "start_time": "2022-03-14T12:37:05.662Z"
   },
   {
    "duration": 5,
    "start_time": "2022-03-14T12:37:05.667Z"
   },
   {
    "duration": 5,
    "start_time": "2022-03-14T12:37:05.674Z"
   },
   {
    "duration": 6,
    "start_time": "2022-03-14T12:37:05.680Z"
   },
   {
    "duration": 46,
    "start_time": "2022-03-14T12:37:05.687Z"
   },
   {
    "duration": 28,
    "start_time": "2022-03-14T12:37:05.735Z"
   },
   {
    "duration": 4,
    "start_time": "2022-03-14T12:37:05.765Z"
   },
   {
    "duration": 16,
    "start_time": "2022-03-14T12:37:05.770Z"
   },
   {
    "duration": 9,
    "start_time": "2022-03-14T12:37:05.787Z"
   },
   {
    "duration": 37,
    "start_time": "2022-03-14T12:37:05.797Z"
   },
   {
    "duration": 3,
    "start_time": "2022-03-14T12:37:05.836Z"
   },
   {
    "duration": 6,
    "start_time": "2022-03-14T12:37:05.841Z"
   },
   {
    "duration": 5,
    "start_time": "2022-03-14T12:37:05.849Z"
   },
   {
    "duration": 4,
    "start_time": "2022-03-14T12:37:05.856Z"
   },
   {
    "duration": 8,
    "start_time": "2022-03-14T12:37:05.862Z"
   },
   {
    "duration": 4,
    "start_time": "2022-03-14T12:37:05.872Z"
   },
   {
    "duration": 5,
    "start_time": "2022-03-14T12:37:05.878Z"
   },
   {
    "duration": 7,
    "start_time": "2022-03-14T12:37:05.884Z"
   },
   {
    "duration": 9,
    "start_time": "2022-03-14T12:37:05.893Z"
   },
   {
    "duration": 30,
    "start_time": "2022-03-14T12:37:05.904Z"
   },
   {
    "duration": 13,
    "start_time": "2022-03-14T12:37:05.936Z"
   },
   {
    "duration": 11,
    "start_time": "2022-03-14T12:37:05.951Z"
   },
   {
    "duration": 7,
    "start_time": "2022-03-14T12:37:05.964Z"
   },
   {
    "duration": 14,
    "start_time": "2022-03-14T12:37:05.972Z"
   },
   {
    "duration": 10,
    "start_time": "2022-03-14T12:37:05.988Z"
   },
   {
    "duration": 42,
    "start_time": "2022-03-14T12:37:06.000Z"
   },
   {
    "duration": 20,
    "start_time": "2022-03-14T12:37:06.043Z"
   },
   {
    "duration": 11,
    "start_time": "2022-03-14T12:37:06.064Z"
   },
   {
    "duration": 8,
    "start_time": "2022-03-14T12:37:06.077Z"
   },
   {
    "duration": 18,
    "start_time": "2022-03-14T12:37:06.087Z"
   },
   {
    "duration": 43,
    "start_time": "2022-03-14T12:37:06.107Z"
   },
   {
    "duration": 3,
    "start_time": "2022-03-14T12:37:06.151Z"
   },
   {
    "duration": 22,
    "start_time": "2022-03-14T12:37:06.155Z"
   },
   {
    "duration": 10,
    "start_time": "2022-03-14T12:37:06.179Z"
   },
   {
    "duration": 48,
    "start_time": "2022-03-14T12:37:06.191Z"
   },
   {
    "duration": 12,
    "start_time": "2022-03-14T12:37:06.241Z"
   },
   {
    "duration": 15,
    "start_time": "2022-03-14T12:37:06.255Z"
   },
   {
    "duration": 15,
    "start_time": "2022-03-14T12:37:06.271Z"
   },
   {
    "duration": 13,
    "start_time": "2022-03-14T12:37:06.288Z"
   },
   {
    "duration": 47,
    "start_time": "2022-03-14T12:37:06.302Z"
   },
   {
    "duration": 18,
    "start_time": "2022-03-14T12:37:26.932Z"
   },
   {
    "duration": 18,
    "start_time": "2022-03-14T12:37:44.314Z"
   },
   {
    "duration": 21,
    "start_time": "2022-03-14T12:38:32.802Z"
   },
   {
    "duration": 692,
    "start_time": "2022-03-14T12:38:47.626Z"
   },
   {
    "duration": 10,
    "start_time": "2022-03-14T12:38:48.321Z"
   },
   {
    "duration": 10,
    "start_time": "2022-03-14T12:38:48.333Z"
   },
   {
    "duration": 4,
    "start_time": "2022-03-14T12:38:48.345Z"
   },
   {
    "duration": 7,
    "start_time": "2022-03-14T12:38:48.350Z"
   },
   {
    "duration": 75,
    "start_time": "2022-03-14T12:38:48.359Z"
   },
   {
    "duration": 7,
    "start_time": "2022-03-14T12:38:48.436Z"
   },
   {
    "duration": 5,
    "start_time": "2022-03-14T12:38:48.445Z"
   },
   {
    "duration": 5,
    "start_time": "2022-03-14T12:38:48.453Z"
   },
   {
    "duration": 6,
    "start_time": "2022-03-14T12:38:48.461Z"
   },
   {
    "duration": 7,
    "start_time": "2022-03-14T12:38:48.469Z"
   },
   {
    "duration": 5,
    "start_time": "2022-03-14T12:38:48.477Z"
   },
   {
    "duration": 51,
    "start_time": "2022-03-14T12:38:48.483Z"
   },
   {
    "duration": 7,
    "start_time": "2022-03-14T12:38:48.536Z"
   },
   {
    "duration": 7,
    "start_time": "2022-03-14T12:38:48.544Z"
   },
   {
    "duration": 7,
    "start_time": "2022-03-14T12:38:48.553Z"
   },
   {
    "duration": 5,
    "start_time": "2022-03-14T12:38:48.562Z"
   },
   {
    "duration": 6,
    "start_time": "2022-03-14T12:38:48.568Z"
   },
   {
    "duration": 7,
    "start_time": "2022-03-14T12:38:48.576Z"
   },
   {
    "duration": 4,
    "start_time": "2022-03-14T12:38:48.585Z"
   },
   {
    "duration": 9,
    "start_time": "2022-03-14T12:38:48.590Z"
   },
   {
    "duration": 36,
    "start_time": "2022-03-14T12:38:48.600Z"
   },
   {
    "duration": 7,
    "start_time": "2022-03-14T12:38:48.638Z"
   },
   {
    "duration": 15,
    "start_time": "2022-03-14T12:38:48.650Z"
   },
   {
    "duration": 19,
    "start_time": "2022-03-14T12:38:48.669Z"
   },
   {
    "duration": 11,
    "start_time": "2022-03-14T12:38:48.690Z"
   },
   {
    "duration": 23,
    "start_time": "2022-03-14T12:38:48.705Z"
   },
   {
    "duration": 54,
    "start_time": "2022-03-14T12:38:48.731Z"
   },
   {
    "duration": 4,
    "start_time": "2022-03-14T12:38:48.787Z"
   },
   {
    "duration": 13,
    "start_time": "2022-03-14T12:38:48.792Z"
   },
   {
    "duration": 10,
    "start_time": "2022-03-14T12:38:48.806Z"
   },
   {
    "duration": 26,
    "start_time": "2022-03-14T12:38:48.818Z"
   },
   {
    "duration": 4,
    "start_time": "2022-03-14T12:38:48.847Z"
   },
   {
    "duration": 6,
    "start_time": "2022-03-14T12:38:48.852Z"
   },
   {
    "duration": 4,
    "start_time": "2022-03-14T12:38:48.860Z"
   },
   {
    "duration": 3,
    "start_time": "2022-03-14T12:38:48.866Z"
   },
   {
    "duration": 6,
    "start_time": "2022-03-14T12:38:48.871Z"
   },
   {
    "duration": 5,
    "start_time": "2022-03-14T12:38:48.879Z"
   },
   {
    "duration": 4,
    "start_time": "2022-03-14T12:38:48.886Z"
   },
   {
    "duration": 6,
    "start_time": "2022-03-14T12:38:48.892Z"
   },
   {
    "duration": 37,
    "start_time": "2022-03-14T12:38:48.899Z"
   },
   {
    "duration": 7,
    "start_time": "2022-03-14T12:38:48.938Z"
   },
   {
    "duration": 14,
    "start_time": "2022-03-14T12:38:48.947Z"
   },
   {
    "duration": 12,
    "start_time": "2022-03-14T12:38:48.963Z"
   },
   {
    "duration": 8,
    "start_time": "2022-03-14T12:38:48.976Z"
   },
   {
    "duration": 15,
    "start_time": "2022-03-14T12:38:48.986Z"
   },
   {
    "duration": 43,
    "start_time": "2022-03-14T12:38:49.003Z"
   },
   {
    "duration": 21,
    "start_time": "2022-03-14T12:38:49.047Z"
   },
   {
    "duration": 20,
    "start_time": "2022-03-14T12:38:49.069Z"
   },
   {
    "duration": 13,
    "start_time": "2022-03-14T12:38:49.090Z"
   },
   {
    "duration": 28,
    "start_time": "2022-03-14T12:38:49.105Z"
   },
   {
    "duration": 18,
    "start_time": "2022-03-14T12:38:49.135Z"
   },
   {
    "duration": 18,
    "start_time": "2022-03-14T12:38:49.154Z"
   },
   {
    "duration": 2,
    "start_time": "2022-03-14T12:38:49.174Z"
   },
   {
    "duration": 24,
    "start_time": "2022-03-14T12:38:49.177Z"
   },
   {
    "duration": 42,
    "start_time": "2022-03-14T12:38:49.203Z"
   },
   {
    "duration": 18,
    "start_time": "2022-03-14T12:38:49.247Z"
   },
   {
    "duration": 14,
    "start_time": "2022-03-14T12:38:49.267Z"
   },
   {
    "duration": 15,
    "start_time": "2022-03-14T12:38:49.283Z"
   },
   {
    "duration": 16,
    "start_time": "2022-03-14T12:38:49.333Z"
   },
   {
    "duration": 17,
    "start_time": "2022-03-14T12:38:49.350Z"
   },
   {
    "duration": 20,
    "start_time": "2022-03-14T12:38:49.369Z"
   },
   {
    "duration": 13,
    "start_time": "2022-03-14T12:39:25.126Z"
   },
   {
    "duration": 14,
    "start_time": "2022-03-14T12:39:41.969Z"
   },
   {
    "duration": 15,
    "start_time": "2022-03-14T12:39:53.969Z"
   },
   {
    "duration": 655,
    "start_time": "2022-03-14T12:40:09.015Z"
   },
   {
    "duration": 12,
    "start_time": "2022-03-14T12:40:09.672Z"
   },
   {
    "duration": 17,
    "start_time": "2022-03-14T12:40:09.687Z"
   },
   {
    "duration": 15,
    "start_time": "2022-03-14T12:40:09.706Z"
   },
   {
    "duration": 22,
    "start_time": "2022-03-14T12:40:09.723Z"
   },
   {
    "duration": 74,
    "start_time": "2022-03-14T12:40:09.747Z"
   },
   {
    "duration": 14,
    "start_time": "2022-03-14T12:40:09.823Z"
   },
   {
    "duration": 17,
    "start_time": "2022-03-14T12:40:09.841Z"
   },
   {
    "duration": 9,
    "start_time": "2022-03-14T12:40:09.860Z"
   },
   {
    "duration": 9,
    "start_time": "2022-03-14T12:40:09.871Z"
   },
   {
    "duration": 14,
    "start_time": "2022-03-14T12:40:09.881Z"
   },
   {
    "duration": 7,
    "start_time": "2022-03-14T12:40:09.896Z"
   },
   {
    "duration": 10,
    "start_time": "2022-03-14T12:40:09.904Z"
   },
   {
    "duration": 20,
    "start_time": "2022-03-14T12:40:09.915Z"
   },
   {
    "duration": 7,
    "start_time": "2022-03-14T12:40:09.937Z"
   },
   {
    "duration": 12,
    "start_time": "2022-03-14T12:40:09.946Z"
   },
   {
    "duration": 12,
    "start_time": "2022-03-14T12:40:09.960Z"
   },
   {
    "duration": 13,
    "start_time": "2022-03-14T12:40:09.975Z"
   },
   {
    "duration": 8,
    "start_time": "2022-03-14T12:40:09.989Z"
   },
   {
    "duration": 8,
    "start_time": "2022-03-14T12:40:09.998Z"
   },
   {
    "duration": 29,
    "start_time": "2022-03-14T12:40:10.007Z"
   },
   {
    "duration": 5,
    "start_time": "2022-03-14T12:40:10.037Z"
   },
   {
    "duration": 4,
    "start_time": "2022-03-14T12:40:10.046Z"
   },
   {
    "duration": 11,
    "start_time": "2022-03-14T12:40:10.053Z"
   },
   {
    "duration": 8,
    "start_time": "2022-03-14T12:40:10.066Z"
   },
   {
    "duration": 6,
    "start_time": "2022-03-14T12:40:10.076Z"
   },
   {
    "duration": 18,
    "start_time": "2022-03-14T12:40:10.084Z"
   },
   {
    "duration": 56,
    "start_time": "2022-03-14T12:40:10.104Z"
   },
   {
    "duration": 4,
    "start_time": "2022-03-14T12:40:10.161Z"
   },
   {
    "duration": 13,
    "start_time": "2022-03-14T12:40:10.167Z"
   },
   {
    "duration": 12,
    "start_time": "2022-03-14T12:40:10.181Z"
   },
   {
    "duration": 20,
    "start_time": "2022-03-14T12:40:10.194Z"
   },
   {
    "duration": 4,
    "start_time": "2022-03-14T12:40:10.232Z"
   },
   {
    "duration": 11,
    "start_time": "2022-03-14T12:40:10.237Z"
   },
   {
    "duration": 5,
    "start_time": "2022-03-14T12:40:10.249Z"
   },
   {
    "duration": 7,
    "start_time": "2022-03-14T12:40:10.255Z"
   },
   {
    "duration": 5,
    "start_time": "2022-03-14T12:40:10.263Z"
   },
   {
    "duration": 6,
    "start_time": "2022-03-14T12:40:10.269Z"
   },
   {
    "duration": 6,
    "start_time": "2022-03-14T12:40:10.277Z"
   },
   {
    "duration": 9,
    "start_time": "2022-03-14T12:40:10.284Z"
   },
   {
    "duration": 11,
    "start_time": "2022-03-14T12:40:10.294Z"
   },
   {
    "duration": 6,
    "start_time": "2022-03-14T12:40:10.306Z"
   },
   {
    "duration": 28,
    "start_time": "2022-03-14T12:40:10.314Z"
   },
   {
    "duration": 9,
    "start_time": "2022-03-14T12:40:10.344Z"
   },
   {
    "duration": 10,
    "start_time": "2022-03-14T12:40:10.355Z"
   },
   {
    "duration": 14,
    "start_time": "2022-03-14T12:40:10.367Z"
   },
   {
    "duration": 10,
    "start_time": "2022-03-14T12:40:10.383Z"
   },
   {
    "duration": 12,
    "start_time": "2022-03-14T12:40:10.395Z"
   },
   {
    "duration": 18,
    "start_time": "2022-03-14T12:40:10.433Z"
   },
   {
    "duration": 15,
    "start_time": "2022-03-14T12:40:10.452Z"
   },
   {
    "duration": 8,
    "start_time": "2022-03-14T12:40:10.468Z"
   },
   {
    "duration": 16,
    "start_time": "2022-03-14T12:40:10.477Z"
   },
   {
    "duration": 38,
    "start_time": "2022-03-14T12:40:10.495Z"
   },
   {
    "duration": 2,
    "start_time": "2022-03-14T12:40:10.535Z"
   },
   {
    "duration": 25,
    "start_time": "2022-03-14T12:40:10.539Z"
   },
   {
    "duration": 12,
    "start_time": "2022-03-14T12:40:10.565Z"
   },
   {
    "duration": 14,
    "start_time": "2022-03-14T12:40:10.579Z"
   },
   {
    "duration": 203,
    "start_time": "2022-03-14T12:40:10.594Z"
   },
   {
    "duration": -66,
    "start_time": "2022-03-14T12:40:10.865Z"
   },
   {
    "duration": -72,
    "start_time": "2022-03-14T12:40:10.872Z"
   },
   {
    "duration": -73,
    "start_time": "2022-03-14T12:40:10.874Z"
   },
   {
    "duration": -74,
    "start_time": "2022-03-14T12:40:10.876Z"
   },
   {
    "duration": 165,
    "start_time": "2022-03-14T12:42:16.001Z"
   },
   {
    "duration": 204,
    "start_time": "2022-03-14T12:42:32.526Z"
   },
   {
    "duration": 141,
    "start_time": "2022-03-14T12:42:46.158Z"
   },
   {
    "duration": 17,
    "start_time": "2022-03-14T12:43:14.087Z"
   },
   {
    "duration": 13,
    "start_time": "2022-03-14T12:43:23.288Z"
   },
   {
    "duration": 18,
    "start_time": "2022-03-14T12:43:31.031Z"
   },
   {
    "duration": 16,
    "start_time": "2022-03-14T12:45:22.248Z"
   },
   {
    "duration": 173,
    "start_time": "2022-03-14T12:45:54.398Z"
   },
   {
    "duration": 51,
    "start_time": "2022-03-14T12:46:10.470Z"
   },
   {
    "duration": 18,
    "start_time": "2022-03-14T12:46:37.158Z"
   },
   {
    "duration": 250,
    "start_time": "2022-03-14T12:47:09.381Z"
   },
   {
    "duration": 638,
    "start_time": "2022-03-14T12:47:18.721Z"
   },
   {
    "duration": 10,
    "start_time": "2022-03-14T12:47:19.361Z"
   },
   {
    "duration": 8,
    "start_time": "2022-03-14T12:47:19.373Z"
   },
   {
    "duration": 5,
    "start_time": "2022-03-14T12:47:19.383Z"
   },
   {
    "duration": 8,
    "start_time": "2022-03-14T12:47:19.389Z"
   },
   {
    "duration": 87,
    "start_time": "2022-03-14T12:47:19.399Z"
   },
   {
    "duration": 6,
    "start_time": "2022-03-14T12:47:19.487Z"
   },
   {
    "duration": 7,
    "start_time": "2022-03-14T12:47:19.494Z"
   },
   {
    "duration": 9,
    "start_time": "2022-03-14T12:47:19.503Z"
   },
   {
    "duration": 5,
    "start_time": "2022-03-14T12:47:19.534Z"
   },
   {
    "duration": 10,
    "start_time": "2022-03-14T12:47:19.540Z"
   },
   {
    "duration": 6,
    "start_time": "2022-03-14T12:47:19.552Z"
   },
   {
    "duration": 7,
    "start_time": "2022-03-14T12:47:19.559Z"
   },
   {
    "duration": 7,
    "start_time": "2022-03-14T12:47:19.567Z"
   },
   {
    "duration": 5,
    "start_time": "2022-03-14T12:47:19.576Z"
   },
   {
    "duration": 5,
    "start_time": "2022-03-14T12:47:19.583Z"
   },
   {
    "duration": 9,
    "start_time": "2022-03-14T12:47:19.589Z"
   },
   {
    "duration": 33,
    "start_time": "2022-03-14T12:47:19.600Z"
   },
   {
    "duration": 6,
    "start_time": "2022-03-14T12:47:19.634Z"
   },
   {
    "duration": 5,
    "start_time": "2022-03-14T12:47:19.641Z"
   },
   {
    "duration": 7,
    "start_time": "2022-03-14T12:47:19.648Z"
   },
   {
    "duration": 6,
    "start_time": "2022-03-14T12:47:19.657Z"
   },
   {
    "duration": 5,
    "start_time": "2022-03-14T12:47:19.665Z"
   },
   {
    "duration": 7,
    "start_time": "2022-03-14T12:47:19.672Z"
   },
   {
    "duration": 6,
    "start_time": "2022-03-14T12:47:19.681Z"
   },
   {
    "duration": 11,
    "start_time": "2022-03-14T12:47:19.688Z"
   },
   {
    "duration": 39,
    "start_time": "2022-03-14T12:47:19.702Z"
   },
   {
    "duration": 29,
    "start_time": "2022-03-14T12:47:19.743Z"
   },
   {
    "duration": 5,
    "start_time": "2022-03-14T12:47:19.773Z"
   },
   {
    "duration": 17,
    "start_time": "2022-03-14T12:47:19.779Z"
   },
   {
    "duration": 9,
    "start_time": "2022-03-14T12:47:19.798Z"
   },
   {
    "duration": 38,
    "start_time": "2022-03-14T12:47:19.809Z"
   },
   {
    "duration": 3,
    "start_time": "2022-03-14T12:47:19.849Z"
   },
   {
    "duration": 12,
    "start_time": "2022-03-14T12:47:19.854Z"
   },
   {
    "duration": 5,
    "start_time": "2022-03-14T12:47:19.868Z"
   },
   {
    "duration": 5,
    "start_time": "2022-03-14T12:47:19.875Z"
   },
   {
    "duration": 6,
    "start_time": "2022-03-14T12:47:19.882Z"
   },
   {
    "duration": 7,
    "start_time": "2022-03-14T12:47:19.889Z"
   },
   {
    "duration": 5,
    "start_time": "2022-03-14T12:47:19.898Z"
   },
   {
    "duration": 7,
    "start_time": "2022-03-14T12:47:19.905Z"
   },
   {
    "duration": 25,
    "start_time": "2022-03-14T12:47:19.914Z"
   },
   {
    "duration": 7,
    "start_time": "2022-03-14T12:47:19.941Z"
   },
   {
    "duration": 23,
    "start_time": "2022-03-14T12:47:19.950Z"
   },
   {
    "duration": 17,
    "start_time": "2022-03-14T12:47:19.975Z"
   },
   {
    "duration": 8,
    "start_time": "2022-03-14T12:47:19.995Z"
   },
   {
    "duration": 40,
    "start_time": "2022-03-14T12:47:20.005Z"
   },
   {
    "duration": 17,
    "start_time": "2022-03-14T12:47:20.047Z"
   },
   {
    "duration": 20,
    "start_time": "2022-03-14T12:47:20.066Z"
   },
   {
    "duration": 53,
    "start_time": "2022-03-14T12:47:20.088Z"
   },
   {
    "duration": 14,
    "start_time": "2022-03-14T12:47:20.143Z"
   },
   {
    "duration": 8,
    "start_time": "2022-03-14T12:47:20.159Z"
   },
   {
    "duration": 22,
    "start_time": "2022-03-14T12:47:20.169Z"
   },
   {
    "duration": 50,
    "start_time": "2022-03-14T12:47:20.193Z"
   },
   {
    "duration": 26,
    "start_time": "2022-03-14T12:47:20.245Z"
   },
   {
    "duration": 224,
    "start_time": "2022-03-14T12:47:20.273Z"
   },
   {
    "duration": -592,
    "start_time": "2022-03-14T12:47:21.091Z"
   },
   {
    "duration": -591,
    "start_time": "2022-03-14T12:47:21.092Z"
   },
   {
    "duration": -592,
    "start_time": "2022-03-14T12:47:21.094Z"
   },
   {
    "duration": -592,
    "start_time": "2022-03-14T12:47:21.095Z"
   },
   {
    "duration": -592,
    "start_time": "2022-03-14T12:47:21.097Z"
   },
   {
    "duration": -592,
    "start_time": "2022-03-14T12:47:21.098Z"
   },
   {
    "duration": 16,
    "start_time": "2022-03-14T12:47:36.638Z"
   },
   {
    "duration": 650,
    "start_time": "2022-03-14T12:47:52.290Z"
   },
   {
    "duration": 11,
    "start_time": "2022-03-14T12:47:52.942Z"
   },
   {
    "duration": 8,
    "start_time": "2022-03-14T12:47:52.955Z"
   },
   {
    "duration": 5,
    "start_time": "2022-03-14T12:47:52.965Z"
   },
   {
    "duration": 6,
    "start_time": "2022-03-14T12:47:52.971Z"
   },
   {
    "duration": 80,
    "start_time": "2022-03-14T12:47:52.979Z"
   },
   {
    "duration": 6,
    "start_time": "2022-03-14T12:47:53.061Z"
   },
   {
    "duration": 10,
    "start_time": "2022-03-14T12:47:53.069Z"
   },
   {
    "duration": 9,
    "start_time": "2022-03-14T12:47:53.081Z"
   },
   {
    "duration": 6,
    "start_time": "2022-03-14T12:47:53.092Z"
   },
   {
    "duration": 6,
    "start_time": "2022-03-14T12:47:53.099Z"
   },
   {
    "duration": 28,
    "start_time": "2022-03-14T12:47:53.106Z"
   },
   {
    "duration": 7,
    "start_time": "2022-03-14T12:47:53.135Z"
   },
   {
    "duration": 7,
    "start_time": "2022-03-14T12:47:53.144Z"
   },
   {
    "duration": 6,
    "start_time": "2022-03-14T12:47:53.153Z"
   },
   {
    "duration": 5,
    "start_time": "2022-03-14T12:47:53.160Z"
   },
   {
    "duration": 5,
    "start_time": "2022-03-14T12:47:53.167Z"
   },
   {
    "duration": 10,
    "start_time": "2022-03-14T12:47:53.173Z"
   },
   {
    "duration": 6,
    "start_time": "2022-03-14T12:47:53.185Z"
   },
   {
    "duration": 5,
    "start_time": "2022-03-14T12:47:53.192Z"
   },
   {
    "duration": 7,
    "start_time": "2022-03-14T12:47:53.233Z"
   },
   {
    "duration": 5,
    "start_time": "2022-03-14T12:47:53.241Z"
   },
   {
    "duration": 6,
    "start_time": "2022-03-14T12:47:53.247Z"
   },
   {
    "duration": 7,
    "start_time": "2022-03-14T12:47:53.254Z"
   },
   {
    "duration": 8,
    "start_time": "2022-03-14T12:47:53.262Z"
   },
   {
    "duration": 5,
    "start_time": "2022-03-14T12:47:53.272Z"
   },
   {
    "duration": 15,
    "start_time": "2022-03-14T12:47:53.281Z"
   },
   {
    "duration": 60,
    "start_time": "2022-03-14T12:47:53.298Z"
   },
   {
    "duration": 4,
    "start_time": "2022-03-14T12:47:53.360Z"
   },
   {
    "duration": 15,
    "start_time": "2022-03-14T12:47:53.366Z"
   },
   {
    "duration": 11,
    "start_time": "2022-03-14T12:47:53.383Z"
   },
   {
    "duration": 39,
    "start_time": "2022-03-14T12:47:53.395Z"
   },
   {
    "duration": 4,
    "start_time": "2022-03-14T12:47:53.436Z"
   },
   {
    "duration": 7,
    "start_time": "2022-03-14T12:47:53.442Z"
   },
   {
    "duration": 5,
    "start_time": "2022-03-14T12:47:53.450Z"
   },
   {
    "duration": 9,
    "start_time": "2022-03-14T12:47:53.456Z"
   },
   {
    "duration": 7,
    "start_time": "2022-03-14T12:47:53.467Z"
   },
   {
    "duration": 9,
    "start_time": "2022-03-14T12:47:53.475Z"
   },
   {
    "duration": 4,
    "start_time": "2022-03-14T12:47:53.486Z"
   },
   {
    "duration": 7,
    "start_time": "2022-03-14T12:47:53.492Z"
   },
   {
    "duration": 9,
    "start_time": "2022-03-14T12:47:53.501Z"
   },
   {
    "duration": 21,
    "start_time": "2022-03-14T12:47:53.512Z"
   },
   {
    "duration": 12,
    "start_time": "2022-03-14T12:47:53.535Z"
   },
   {
    "duration": 10,
    "start_time": "2022-03-14T12:47:53.549Z"
   },
   {
    "duration": 4,
    "start_time": "2022-03-14T12:47:53.561Z"
   },
   {
    "duration": 13,
    "start_time": "2022-03-14T12:47:53.566Z"
   },
   {
    "duration": 11,
    "start_time": "2022-03-14T12:47:53.580Z"
   },
   {
    "duration": 42,
    "start_time": "2022-03-14T12:47:53.593Z"
   },
   {
    "duration": 23,
    "start_time": "2022-03-14T12:47:53.636Z"
   },
   {
    "duration": 16,
    "start_time": "2022-03-14T12:47:53.661Z"
   },
   {
    "duration": 8,
    "start_time": "2022-03-14T12:47:53.678Z"
   },
   {
    "duration": 54,
    "start_time": "2022-03-14T12:47:53.688Z"
   },
   {
    "duration": 26,
    "start_time": "2022-03-14T12:47:53.744Z"
   },
   {
    "duration": 27,
    "start_time": "2022-03-14T12:47:53.772Z"
   },
   {
    "duration": 41,
    "start_time": "2022-03-14T12:47:53.801Z"
   },
   {
    "duration": 22,
    "start_time": "2022-03-14T12:47:53.844Z"
   },
   {
    "duration": 18,
    "start_time": "2022-03-14T12:47:53.868Z"
   },
   {
    "duration": 48,
    "start_time": "2022-03-14T12:47:53.888Z"
   },
   {
    "duration": 15,
    "start_time": "2022-03-14T12:47:53.938Z"
   },
   {
    "duration": 15,
    "start_time": "2022-03-14T12:47:53.955Z"
   },
   {
    "duration": 17,
    "start_time": "2022-03-14T12:47:53.972Z"
   },
   {
    "duration": 14,
    "start_time": "2022-03-14T12:48:24.317Z"
   },
   {
    "duration": 634,
    "start_time": "2022-03-14T12:48:38.943Z"
   },
   {
    "duration": 11,
    "start_time": "2022-03-14T12:48:39.578Z"
   },
   {
    "duration": 9,
    "start_time": "2022-03-14T12:48:39.591Z"
   },
   {
    "duration": 3,
    "start_time": "2022-03-14T12:48:39.602Z"
   },
   {
    "duration": 28,
    "start_time": "2022-03-14T12:48:39.607Z"
   },
   {
    "duration": 57,
    "start_time": "2022-03-14T12:48:39.637Z"
   },
   {
    "duration": 6,
    "start_time": "2022-03-14T12:48:39.695Z"
   },
   {
    "duration": 8,
    "start_time": "2022-03-14T12:48:39.702Z"
   },
   {
    "duration": 23,
    "start_time": "2022-03-14T12:48:39.712Z"
   },
   {
    "duration": 9,
    "start_time": "2022-03-14T12:48:39.738Z"
   },
   {
    "duration": 8,
    "start_time": "2022-03-14T12:48:39.749Z"
   },
   {
    "duration": 6,
    "start_time": "2022-03-14T12:48:39.759Z"
   },
   {
    "duration": 9,
    "start_time": "2022-03-14T12:48:39.767Z"
   },
   {
    "duration": 7,
    "start_time": "2022-03-14T12:48:39.777Z"
   },
   {
    "duration": 4,
    "start_time": "2022-03-14T12:48:39.786Z"
   },
   {
    "duration": 4,
    "start_time": "2022-03-14T12:48:39.791Z"
   },
   {
    "duration": 8,
    "start_time": "2022-03-14T12:48:39.797Z"
   },
   {
    "duration": 6,
    "start_time": "2022-03-14T12:48:39.833Z"
   },
   {
    "duration": 11,
    "start_time": "2022-03-14T12:48:39.840Z"
   },
   {
    "duration": 7,
    "start_time": "2022-03-14T12:48:39.853Z"
   },
   {
    "duration": 8,
    "start_time": "2022-03-14T12:48:39.862Z"
   },
   {
    "duration": 7,
    "start_time": "2022-03-14T12:48:39.871Z"
   },
   {
    "duration": 5,
    "start_time": "2022-03-14T12:48:39.880Z"
   },
   {
    "duration": 10,
    "start_time": "2022-03-14T12:48:39.887Z"
   },
   {
    "duration": 6,
    "start_time": "2022-03-14T12:48:39.898Z"
   },
   {
    "duration": 5,
    "start_time": "2022-03-14T12:48:39.932Z"
   },
   {
    "duration": 17,
    "start_time": "2022-03-14T12:48:39.942Z"
   },
   {
    "duration": 31,
    "start_time": "2022-03-14T12:48:39.961Z"
   },
   {
    "duration": 5,
    "start_time": "2022-03-14T12:48:39.994Z"
   },
   {
    "duration": 39,
    "start_time": "2022-03-14T12:48:40.001Z"
   },
   {
    "duration": 16,
    "start_time": "2022-03-14T12:48:40.041Z"
   },
   {
    "duration": 21,
    "start_time": "2022-03-14T12:48:40.059Z"
   },
   {
    "duration": 5,
    "start_time": "2022-03-14T12:48:40.082Z"
   },
   {
    "duration": 9,
    "start_time": "2022-03-14T12:48:40.088Z"
   },
   {
    "duration": 5,
    "start_time": "2022-03-14T12:48:40.099Z"
   },
   {
    "duration": 27,
    "start_time": "2022-03-14T12:48:40.106Z"
   },
   {
    "duration": 6,
    "start_time": "2022-03-14T12:48:40.135Z"
   },
   {
    "duration": 6,
    "start_time": "2022-03-14T12:48:40.143Z"
   },
   {
    "duration": 5,
    "start_time": "2022-03-14T12:48:40.150Z"
   },
   {
    "duration": 6,
    "start_time": "2022-03-14T12:48:40.157Z"
   },
   {
    "duration": 8,
    "start_time": "2022-03-14T12:48:40.164Z"
   },
   {
    "duration": 4,
    "start_time": "2022-03-14T12:48:40.174Z"
   },
   {
    "duration": 13,
    "start_time": "2022-03-14T12:48:40.180Z"
   },
   {
    "duration": 10,
    "start_time": "2022-03-14T12:48:40.196Z"
   },
   {
    "duration": 30,
    "start_time": "2022-03-14T12:48:40.207Z"
   },
   {
    "duration": 12,
    "start_time": "2022-03-14T12:48:40.239Z"
   },
   {
    "duration": 11,
    "start_time": "2022-03-14T12:48:40.253Z"
   },
   {
    "duration": 12,
    "start_time": "2022-03-14T12:48:40.266Z"
   },
   {
    "duration": 17,
    "start_time": "2022-03-14T12:48:40.280Z"
   },
   {
    "duration": 44,
    "start_time": "2022-03-14T12:48:40.298Z"
   },
   {
    "duration": 8,
    "start_time": "2022-03-14T12:48:40.343Z"
   },
   {
    "duration": 18,
    "start_time": "2022-03-14T12:48:40.353Z"
   },
   {
    "duration": 17,
    "start_time": "2022-03-14T12:48:40.372Z"
   },
   {
    "duration": 47,
    "start_time": "2022-03-14T12:48:40.390Z"
   },
   {
    "duration": 203,
    "start_time": "2022-03-14T12:48:40.438Z"
   },
   {
    "duration": -56,
    "start_time": "2022-03-14T12:48:40.699Z"
   },
   {
    "duration": -58,
    "start_time": "2022-03-14T12:48:40.702Z"
   },
   {
    "duration": -58,
    "start_time": "2022-03-14T12:48:40.703Z"
   },
   {
    "duration": -66,
    "start_time": "2022-03-14T12:48:40.712Z"
   },
   {
    "duration": -87,
    "start_time": "2022-03-14T12:48:40.735Z"
   },
   {
    "duration": -88,
    "start_time": "2022-03-14T12:48:40.737Z"
   },
   {
    "duration": 152,
    "start_time": "2022-03-14T12:49:07.614Z"
   },
   {
    "duration": 145,
    "start_time": "2022-03-14T12:49:19.336Z"
   },
   {
    "duration": 20,
    "start_time": "2022-03-14T12:49:24.434Z"
   },
   {
    "duration": 13,
    "start_time": "2022-03-14T12:49:30.594Z"
   },
   {
    "duration": 21,
    "start_time": "2022-03-14T12:49:40.875Z"
   },
   {
    "duration": 11,
    "start_time": "2022-03-14T12:49:44.254Z"
   },
   {
    "duration": 21,
    "start_time": "2022-03-14T12:53:19.835Z"
   },
   {
    "duration": 13,
    "start_time": "2022-03-14T12:53:24.854Z"
   },
   {
    "duration": 13,
    "start_time": "2022-03-14T12:53:45.814Z"
   },
   {
    "duration": 563,
    "start_time": "2022-03-14T12:53:55.969Z"
   },
   {
    "duration": 13,
    "start_time": "2022-03-14T12:53:56.535Z"
   },
   {
    "duration": 12,
    "start_time": "2022-03-14T12:53:56.550Z"
   },
   {
    "duration": 4,
    "start_time": "2022-03-14T12:53:56.564Z"
   },
   {
    "duration": 7,
    "start_time": "2022-03-14T12:53:56.569Z"
   },
   {
    "duration": 84,
    "start_time": "2022-03-14T12:53:56.578Z"
   },
   {
    "duration": 6,
    "start_time": "2022-03-14T12:53:56.664Z"
   },
   {
    "duration": 9,
    "start_time": "2022-03-14T12:53:56.671Z"
   },
   {
    "duration": 8,
    "start_time": "2022-03-14T12:53:56.682Z"
   },
   {
    "duration": 7,
    "start_time": "2022-03-14T12:53:56.692Z"
   },
   {
    "duration": 12,
    "start_time": "2022-03-14T12:53:56.701Z"
   },
   {
    "duration": 18,
    "start_time": "2022-03-14T12:53:56.715Z"
   },
   {
    "duration": 5,
    "start_time": "2022-03-14T12:53:56.734Z"
   },
   {
    "duration": 9,
    "start_time": "2022-03-14T12:53:56.741Z"
   },
   {
    "duration": 10,
    "start_time": "2022-03-14T12:53:56.751Z"
   },
   {
    "duration": 6,
    "start_time": "2022-03-14T12:53:56.763Z"
   },
   {
    "duration": 13,
    "start_time": "2022-03-14T12:53:56.771Z"
   },
   {
    "duration": 12,
    "start_time": "2022-03-14T12:53:56.785Z"
   },
   {
    "duration": 13,
    "start_time": "2022-03-14T12:53:56.799Z"
   },
   {
    "duration": 5,
    "start_time": "2022-03-14T12:53:56.814Z"
   },
   {
    "duration": 14,
    "start_time": "2022-03-14T12:53:56.821Z"
   },
   {
    "duration": 4,
    "start_time": "2022-03-14T12:53:56.837Z"
   },
   {
    "duration": 4,
    "start_time": "2022-03-14T12:53:56.842Z"
   },
   {
    "duration": 6,
    "start_time": "2022-03-14T12:53:56.847Z"
   },
   {
    "duration": 6,
    "start_time": "2022-03-14T12:53:56.855Z"
   },
   {
    "duration": 5,
    "start_time": "2022-03-14T12:53:56.862Z"
   },
   {
    "duration": 16,
    "start_time": "2022-03-14T12:53:56.871Z"
   },
   {
    "duration": 63,
    "start_time": "2022-03-14T12:53:56.889Z"
   },
   {
    "duration": 4,
    "start_time": "2022-03-14T12:53:56.954Z"
   },
   {
    "duration": 10,
    "start_time": "2022-03-14T12:53:56.960Z"
   },
   {
    "duration": 9,
    "start_time": "2022-03-14T12:53:56.972Z"
   },
   {
    "duration": 26,
    "start_time": "2022-03-14T12:53:56.982Z"
   },
   {
    "duration": 24,
    "start_time": "2022-03-14T12:53:57.009Z"
   },
   {
    "duration": 7,
    "start_time": "2022-03-14T12:53:57.035Z"
   },
   {
    "duration": 5,
    "start_time": "2022-03-14T12:53:57.044Z"
   },
   {
    "duration": 14,
    "start_time": "2022-03-14T12:53:57.051Z"
   },
   {
    "duration": 6,
    "start_time": "2022-03-14T12:53:57.067Z"
   },
   {
    "duration": 12,
    "start_time": "2022-03-14T12:53:57.075Z"
   },
   {
    "duration": 6,
    "start_time": "2022-03-14T12:53:57.089Z"
   },
   {
    "duration": 7,
    "start_time": "2022-03-14T12:53:57.096Z"
   },
   {
    "duration": 8,
    "start_time": "2022-03-14T12:53:57.105Z"
   },
   {
    "duration": 17,
    "start_time": "2022-03-14T12:53:57.115Z"
   },
   {
    "duration": 18,
    "start_time": "2022-03-14T12:53:57.134Z"
   },
   {
    "duration": 14,
    "start_time": "2022-03-14T12:53:57.154Z"
   },
   {
    "duration": 7,
    "start_time": "2022-03-14T12:53:57.169Z"
   },
   {
    "duration": 16,
    "start_time": "2022-03-14T12:53:57.178Z"
   },
   {
    "duration": 12,
    "start_time": "2022-03-14T12:53:57.196Z"
   },
   {
    "duration": 29,
    "start_time": "2022-03-14T12:53:57.210Z"
   },
   {
    "duration": 19,
    "start_time": "2022-03-14T12:53:57.241Z"
   },
   {
    "duration": 13,
    "start_time": "2022-03-14T12:53:57.262Z"
   },
   {
    "duration": 8,
    "start_time": "2022-03-14T12:53:57.277Z"
   },
   {
    "duration": 52,
    "start_time": "2022-03-14T12:53:57.286Z"
   },
   {
    "duration": 21,
    "start_time": "2022-03-14T12:53:57.340Z"
   },
   {
    "duration": 22,
    "start_time": "2022-03-14T12:53:57.363Z"
   },
   {
    "duration": 14,
    "start_time": "2022-03-14T12:53:57.387Z"
   },
   {
    "duration": 38,
    "start_time": "2022-03-14T12:53:57.403Z"
   },
   {
    "duration": 11,
    "start_time": "2022-03-14T12:53:57.443Z"
   },
   {
    "duration": 13,
    "start_time": "2022-03-14T12:53:57.456Z"
   },
   {
    "duration": 18,
    "start_time": "2022-03-14T12:53:57.470Z"
   },
   {
    "duration": 15,
    "start_time": "2022-03-14T12:53:57.489Z"
   },
   {
    "duration": 44,
    "start_time": "2022-03-14T12:53:57.505Z"
   },
   {
    "duration": 202,
    "start_time": "2022-03-14T12:55:04.166Z"
   },
   {
    "duration": 129,
    "start_time": "2022-03-14T12:55:09.105Z"
   },
   {
    "duration": 613,
    "start_time": "2022-03-14T12:55:13.809Z"
   },
   {
    "duration": 12,
    "start_time": "2022-03-14T12:55:14.426Z"
   },
   {
    "duration": 9,
    "start_time": "2022-03-14T12:55:14.440Z"
   },
   {
    "duration": 5,
    "start_time": "2022-03-14T12:55:14.451Z"
   },
   {
    "duration": 12,
    "start_time": "2022-03-14T12:55:14.458Z"
   },
   {
    "duration": 77,
    "start_time": "2022-03-14T12:55:14.471Z"
   },
   {
    "duration": 6,
    "start_time": "2022-03-14T12:55:14.549Z"
   },
   {
    "duration": 5,
    "start_time": "2022-03-14T12:55:14.558Z"
   },
   {
    "duration": 10,
    "start_time": "2022-03-14T12:55:14.565Z"
   },
   {
    "duration": 12,
    "start_time": "2022-03-14T12:55:14.577Z"
   },
   {
    "duration": 14,
    "start_time": "2022-03-14T12:55:14.590Z"
   },
   {
    "duration": 10,
    "start_time": "2022-03-14T12:55:14.605Z"
   },
   {
    "duration": 19,
    "start_time": "2022-03-14T12:55:14.617Z"
   },
   {
    "duration": 6,
    "start_time": "2022-03-14T12:55:14.638Z"
   },
   {
    "duration": 8,
    "start_time": "2022-03-14T12:55:14.646Z"
   },
   {
    "duration": 6,
    "start_time": "2022-03-14T12:55:14.656Z"
   },
   {
    "duration": 7,
    "start_time": "2022-03-14T12:55:14.664Z"
   },
   {
    "duration": 8,
    "start_time": "2022-03-14T12:55:14.673Z"
   },
   {
    "duration": 7,
    "start_time": "2022-03-14T12:55:14.683Z"
   },
   {
    "duration": 43,
    "start_time": "2022-03-14T12:55:14.692Z"
   },
   {
    "duration": 9,
    "start_time": "2022-03-14T12:55:14.737Z"
   },
   {
    "duration": 15,
    "start_time": "2022-03-14T12:55:14.747Z"
   },
   {
    "duration": 10,
    "start_time": "2022-03-14T12:55:14.763Z"
   },
   {
    "duration": 9,
    "start_time": "2022-03-14T12:55:14.775Z"
   },
   {
    "duration": 4,
    "start_time": "2022-03-14T12:55:14.786Z"
   },
   {
    "duration": 4,
    "start_time": "2022-03-14T12:55:14.794Z"
   },
   {
    "duration": 17,
    "start_time": "2022-03-14T12:55:14.800Z"
   },
   {
    "duration": 31,
    "start_time": "2022-03-14T12:55:14.833Z"
   },
   {
    "duration": 4,
    "start_time": "2022-03-14T12:55:14.866Z"
   },
   {
    "duration": 14,
    "start_time": "2022-03-14T12:55:14.872Z"
   },
   {
    "duration": 8,
    "start_time": "2022-03-14T12:55:14.888Z"
   },
   {
    "duration": 43,
    "start_time": "2022-03-14T12:55:14.898Z"
   },
   {
    "duration": 4,
    "start_time": "2022-03-14T12:55:14.943Z"
   },
   {
    "duration": 5,
    "start_time": "2022-03-14T12:55:14.949Z"
   },
   {
    "duration": 7,
    "start_time": "2022-03-14T12:55:14.955Z"
   },
   {
    "duration": 5,
    "start_time": "2022-03-14T12:55:14.963Z"
   },
   {
    "duration": 8,
    "start_time": "2022-03-14T12:55:14.969Z"
   },
   {
    "duration": 5,
    "start_time": "2022-03-14T12:55:14.978Z"
   },
   {
    "duration": 5,
    "start_time": "2022-03-14T12:55:14.985Z"
   },
   {
    "duration": 13,
    "start_time": "2022-03-14T12:55:14.991Z"
   },
   {
    "duration": 30,
    "start_time": "2022-03-14T12:55:15.006Z"
   },
   {
    "duration": 5,
    "start_time": "2022-03-14T12:55:15.038Z"
   },
   {
    "duration": 14,
    "start_time": "2022-03-14T12:55:15.045Z"
   },
   {
    "duration": 11,
    "start_time": "2022-03-14T12:55:15.061Z"
   },
   {
    "duration": 5,
    "start_time": "2022-03-14T12:55:15.075Z"
   },
   {
    "duration": 14,
    "start_time": "2022-03-14T12:55:15.082Z"
   },
   {
    "duration": 44,
    "start_time": "2022-03-14T12:55:15.098Z"
   },
   {
    "duration": 13,
    "start_time": "2022-03-14T12:55:15.144Z"
   },
   {
    "duration": 22,
    "start_time": "2022-03-14T12:55:15.159Z"
   },
   {
    "duration": 10,
    "start_time": "2022-03-14T12:55:15.183Z"
   },
   {
    "duration": 40,
    "start_time": "2022-03-14T12:55:15.195Z"
   },
   {
    "duration": 18,
    "start_time": "2022-03-14T12:55:15.236Z"
   },
   {
    "duration": 17,
    "start_time": "2022-03-14T12:55:15.256Z"
   },
   {
    "duration": 18,
    "start_time": "2022-03-14T12:55:15.275Z"
   },
   {
    "duration": 47,
    "start_time": "2022-03-14T12:55:15.295Z"
   },
   {
    "duration": 15,
    "start_time": "2022-03-14T12:55:15.344Z"
   },
   {
    "duration": 12,
    "start_time": "2022-03-14T12:55:15.361Z"
   },
   {
    "duration": 13,
    "start_time": "2022-03-14T12:55:15.374Z"
   },
   {
    "duration": 45,
    "start_time": "2022-03-14T12:55:15.388Z"
   },
   {
    "duration": 15,
    "start_time": "2022-03-14T12:55:15.435Z"
   },
   {
    "duration": 19,
    "start_time": "2022-03-14T12:55:15.451Z"
   },
   {
    "duration": 191,
    "start_time": "2022-03-14T12:55:57.837Z"
   },
   {
    "duration": 592,
    "start_time": "2022-03-14T12:59:48.686Z"
   },
   {
    "duration": 10,
    "start_time": "2022-03-14T12:59:49.280Z"
   },
   {
    "duration": 13,
    "start_time": "2022-03-14T12:59:49.292Z"
   },
   {
    "duration": 4,
    "start_time": "2022-03-14T12:59:49.307Z"
   },
   {
    "duration": 23,
    "start_time": "2022-03-14T12:59:49.313Z"
   },
   {
    "duration": 55,
    "start_time": "2022-03-14T12:59:49.337Z"
   },
   {
    "duration": 5,
    "start_time": "2022-03-14T12:59:49.394Z"
   },
   {
    "duration": 5,
    "start_time": "2022-03-14T12:59:49.401Z"
   },
   {
    "duration": 8,
    "start_time": "2022-03-14T12:59:49.408Z"
   },
   {
    "duration": 6,
    "start_time": "2022-03-14T12:59:49.433Z"
   },
   {
    "duration": 10,
    "start_time": "2022-03-14T12:59:49.440Z"
   },
   {
    "duration": 10,
    "start_time": "2022-03-14T12:59:49.452Z"
   },
   {
    "duration": 6,
    "start_time": "2022-03-14T12:59:49.463Z"
   },
   {
    "duration": 7,
    "start_time": "2022-03-14T12:59:49.470Z"
   },
   {
    "duration": 7,
    "start_time": "2022-03-14T12:59:49.478Z"
   },
   {
    "duration": 5,
    "start_time": "2022-03-14T12:59:49.487Z"
   },
   {
    "duration": 6,
    "start_time": "2022-03-14T12:59:49.493Z"
   },
   {
    "duration": 33,
    "start_time": "2022-03-14T12:59:49.501Z"
   },
   {
    "duration": 6,
    "start_time": "2022-03-14T12:59:49.536Z"
   },
   {
    "duration": 7,
    "start_time": "2022-03-14T12:59:49.543Z"
   },
   {
    "duration": 11,
    "start_time": "2022-03-14T12:59:49.552Z"
   },
   {
    "duration": 6,
    "start_time": "2022-03-14T12:59:49.564Z"
   },
   {
    "duration": 9,
    "start_time": "2022-03-14T12:59:49.571Z"
   },
   {
    "duration": 9,
    "start_time": "2022-03-14T12:59:49.582Z"
   },
   {
    "duration": 7,
    "start_time": "2022-03-14T12:59:49.593Z"
   },
   {
    "duration": 13,
    "start_time": "2022-03-14T12:59:49.602Z"
   },
   {
    "duration": 28,
    "start_time": "2022-03-14T12:59:49.620Z"
   },
   {
    "duration": 30,
    "start_time": "2022-03-14T12:59:49.650Z"
   },
   {
    "duration": 6,
    "start_time": "2022-03-14T12:59:49.682Z"
   },
   {
    "duration": 12,
    "start_time": "2022-03-14T12:59:49.689Z"
   },
   {
    "duration": 36,
    "start_time": "2022-03-14T12:59:49.702Z"
   },
   {
    "duration": 20,
    "start_time": "2022-03-14T12:59:49.740Z"
   },
   {
    "duration": 7,
    "start_time": "2022-03-14T12:59:49.762Z"
   },
   {
    "duration": 7,
    "start_time": "2022-03-14T12:59:49.771Z"
   },
   {
    "duration": 7,
    "start_time": "2022-03-14T12:59:49.780Z"
   },
   {
    "duration": 11,
    "start_time": "2022-03-14T12:59:49.788Z"
   },
   {
    "duration": 8,
    "start_time": "2022-03-14T12:59:49.801Z"
   },
   {
    "duration": 11,
    "start_time": "2022-03-14T12:59:49.811Z"
   },
   {
    "duration": 11,
    "start_time": "2022-03-14T12:59:49.824Z"
   },
   {
    "duration": 9,
    "start_time": "2022-03-14T12:59:49.837Z"
   },
   {
    "duration": 11,
    "start_time": "2022-03-14T12:59:49.847Z"
   },
   {
    "duration": 12,
    "start_time": "2022-03-14T12:59:49.859Z"
   },
   {
    "duration": 13,
    "start_time": "2022-03-14T12:59:49.873Z"
   },
   {
    "duration": 11,
    "start_time": "2022-03-14T12:59:49.887Z"
   },
   {
    "duration": 5,
    "start_time": "2022-03-14T12:59:49.900Z"
   },
   {
    "duration": 27,
    "start_time": "2022-03-14T12:59:49.906Z"
   },
   {
    "duration": 11,
    "start_time": "2022-03-14T12:59:49.935Z"
   },
   {
    "duration": 14,
    "start_time": "2022-03-14T12:59:49.947Z"
   },
   {
    "duration": 20,
    "start_time": "2022-03-14T12:59:49.963Z"
   },
   {
    "duration": 9,
    "start_time": "2022-03-14T12:59:49.985Z"
   },
   {
    "duration": 11,
    "start_time": "2022-03-14T12:59:49.996Z"
   },
   {
    "duration": 39,
    "start_time": "2022-03-14T12:59:50.008Z"
   },
   {
    "duration": 18,
    "start_time": "2022-03-14T12:59:50.049Z"
   },
   {
    "duration": 23,
    "start_time": "2022-03-14T12:59:50.069Z"
   },
   {
    "duration": 40,
    "start_time": "2022-03-14T12:59:50.094Z"
   },
   {
    "duration": 120,
    "start_time": "2022-03-14T12:59:50.136Z"
   },
   {
    "duration": -3,
    "start_time": "2022-03-14T12:59:50.260Z"
   },
   {
    "duration": -4,
    "start_time": "2022-03-14T12:59:50.262Z"
   },
   {
    "duration": -5,
    "start_time": "2022-03-14T12:59:50.264Z"
   },
   {
    "duration": -8,
    "start_time": "2022-03-14T12:59:50.269Z"
   },
   {
    "duration": -9,
    "start_time": "2022-03-14T12:59:50.271Z"
   },
   {
    "duration": 759,
    "start_time": "2022-03-14T13:01:15.807Z"
   },
   {
    "duration": 11,
    "start_time": "2022-03-14T13:01:16.568Z"
   },
   {
    "duration": 9,
    "start_time": "2022-03-14T13:01:16.582Z"
   },
   {
    "duration": 4,
    "start_time": "2022-03-14T13:01:16.592Z"
   },
   {
    "duration": 9,
    "start_time": "2022-03-14T13:01:16.598Z"
   },
   {
    "duration": 60,
    "start_time": "2022-03-14T13:01:16.633Z"
   },
   {
    "duration": 5,
    "start_time": "2022-03-14T13:01:16.695Z"
   },
   {
    "duration": 8,
    "start_time": "2022-03-14T13:01:16.702Z"
   },
   {
    "duration": 21,
    "start_time": "2022-03-14T13:01:16.712Z"
   },
   {
    "duration": 5,
    "start_time": "2022-03-14T13:01:16.735Z"
   },
   {
    "duration": 7,
    "start_time": "2022-03-14T13:01:16.741Z"
   },
   {
    "duration": 6,
    "start_time": "2022-03-14T13:01:16.749Z"
   },
   {
    "duration": 7,
    "start_time": "2022-03-14T13:01:16.757Z"
   },
   {
    "duration": 7,
    "start_time": "2022-03-14T13:01:16.766Z"
   },
   {
    "duration": 11,
    "start_time": "2022-03-14T13:01:16.774Z"
   },
   {
    "duration": 5,
    "start_time": "2022-03-14T13:01:16.786Z"
   },
   {
    "duration": 11,
    "start_time": "2022-03-14T13:01:16.793Z"
   },
   {
    "duration": 6,
    "start_time": "2022-03-14T13:01:16.834Z"
   },
   {
    "duration": 10,
    "start_time": "2022-03-14T13:01:16.842Z"
   },
   {
    "duration": 11,
    "start_time": "2022-03-14T13:01:16.854Z"
   },
   {
    "duration": 12,
    "start_time": "2022-03-14T13:01:16.866Z"
   },
   {
    "duration": 8,
    "start_time": "2022-03-14T13:01:16.879Z"
   },
   {
    "duration": 6,
    "start_time": "2022-03-14T13:01:16.888Z"
   },
   {
    "duration": 6,
    "start_time": "2022-03-14T13:01:16.895Z"
   },
   {
    "duration": 5,
    "start_time": "2022-03-14T13:01:16.902Z"
   },
   {
    "duration": 28,
    "start_time": "2022-03-14T13:01:16.908Z"
   },
   {
    "duration": 15,
    "start_time": "2022-03-14T13:01:16.940Z"
   },
   {
    "duration": 28,
    "start_time": "2022-03-14T13:01:16.957Z"
   },
   {
    "duration": 4,
    "start_time": "2022-03-14T13:01:16.987Z"
   },
   {
    "duration": 11,
    "start_time": "2022-03-14T13:01:16.992Z"
   },
   {
    "duration": 29,
    "start_time": "2022-03-14T13:01:17.005Z"
   },
   {
    "duration": 17,
    "start_time": "2022-03-14T13:01:17.035Z"
   },
   {
    "duration": 3,
    "start_time": "2022-03-14T13:01:17.054Z"
   },
   {
    "duration": 7,
    "start_time": "2022-03-14T13:01:17.058Z"
   },
   {
    "duration": 4,
    "start_time": "2022-03-14T13:01:17.067Z"
   },
   {
    "duration": 4,
    "start_time": "2022-03-14T13:01:17.073Z"
   },
   {
    "duration": 6,
    "start_time": "2022-03-14T13:01:17.079Z"
   },
   {
    "duration": 7,
    "start_time": "2022-03-14T13:01:17.086Z"
   },
   {
    "duration": 6,
    "start_time": "2022-03-14T13:01:17.094Z"
   },
   {
    "duration": 36,
    "start_time": "2022-03-14T13:01:17.102Z"
   },
   {
    "duration": 12,
    "start_time": "2022-03-14T13:01:17.140Z"
   },
   {
    "duration": 5,
    "start_time": "2022-03-14T13:01:17.154Z"
   },
   {
    "duration": 13,
    "start_time": "2022-03-14T13:01:17.160Z"
   },
   {
    "duration": 11,
    "start_time": "2022-03-14T13:01:17.175Z"
   },
   {
    "duration": 6,
    "start_time": "2022-03-14T13:01:17.187Z"
   },
   {
    "duration": 17,
    "start_time": "2022-03-14T13:01:17.194Z"
   },
   {
    "duration": 29,
    "start_time": "2022-03-14T13:01:17.212Z"
   },
   {
    "duration": 12,
    "start_time": "2022-03-14T13:01:17.243Z"
   },
   {
    "duration": 20,
    "start_time": "2022-03-14T13:01:17.257Z"
   },
   {
    "duration": 10,
    "start_time": "2022-03-14T13:01:17.278Z"
   },
   {
    "duration": 8,
    "start_time": "2022-03-14T13:01:17.290Z"
   },
   {
    "duration": 42,
    "start_time": "2022-03-14T13:01:17.300Z"
   },
   {
    "duration": 18,
    "start_time": "2022-03-14T13:01:17.344Z"
   },
   {
    "duration": 20,
    "start_time": "2022-03-14T13:01:17.364Z"
   },
   {
    "duration": 14,
    "start_time": "2022-03-14T13:01:17.385Z"
   },
   {
    "duration": 15,
    "start_time": "2022-03-14T13:01:17.432Z"
   },
   {
    "duration": 11,
    "start_time": "2022-03-14T13:01:17.448Z"
   },
   {
    "duration": 218,
    "start_time": "2022-03-14T13:01:17.461Z"
   },
   {
    "duration": -17,
    "start_time": "2022-03-14T13:01:17.698Z"
   },
   {
    "duration": -18,
    "start_time": "2022-03-14T13:01:17.700Z"
   },
   {
    "duration": -19,
    "start_time": "2022-03-14T13:01:17.702Z"
   },
   {
    "duration": 685,
    "start_time": "2022-03-14T13:04:00.929Z"
   },
   {
    "duration": 11,
    "start_time": "2022-03-14T13:04:01.616Z"
   },
   {
    "duration": 8,
    "start_time": "2022-03-14T13:04:01.634Z"
   },
   {
    "duration": 6,
    "start_time": "2022-03-14T13:04:01.644Z"
   },
   {
    "duration": 16,
    "start_time": "2022-03-14T13:04:01.651Z"
   },
   {
    "duration": 68,
    "start_time": "2022-03-14T13:04:01.669Z"
   },
   {
    "duration": 5,
    "start_time": "2022-03-14T13:04:01.739Z"
   },
   {
    "duration": 4,
    "start_time": "2022-03-14T13:04:01.747Z"
   },
   {
    "duration": 10,
    "start_time": "2022-03-14T13:04:01.753Z"
   },
   {
    "duration": 14,
    "start_time": "2022-03-14T13:04:01.765Z"
   },
   {
    "duration": 9,
    "start_time": "2022-03-14T13:04:01.781Z"
   },
   {
    "duration": 5,
    "start_time": "2022-03-14T13:04:01.791Z"
   },
   {
    "duration": 11,
    "start_time": "2022-03-14T13:04:01.797Z"
   },
   {
    "duration": 6,
    "start_time": "2022-03-14T13:04:01.833Z"
   },
   {
    "duration": 7,
    "start_time": "2022-03-14T13:04:01.841Z"
   },
   {
    "duration": 5,
    "start_time": "2022-03-14T13:04:01.849Z"
   },
   {
    "duration": 10,
    "start_time": "2022-03-14T13:04:01.856Z"
   },
   {
    "duration": 14,
    "start_time": "2022-03-14T13:04:01.867Z"
   },
   {
    "duration": 15,
    "start_time": "2022-03-14T13:04:01.882Z"
   },
   {
    "duration": 7,
    "start_time": "2022-03-14T13:04:01.898Z"
   },
   {
    "duration": 6,
    "start_time": "2022-03-14T13:04:01.907Z"
   },
   {
    "duration": 20,
    "start_time": "2022-03-14T13:04:01.914Z"
   },
   {
    "duration": 4,
    "start_time": "2022-03-14T13:04:01.937Z"
   },
   {
    "duration": 8,
    "start_time": "2022-03-14T13:04:01.943Z"
   },
   {
    "duration": 9,
    "start_time": "2022-03-14T13:04:01.952Z"
   },
   {
    "duration": 7,
    "start_time": "2022-03-14T13:04:01.962Z"
   },
   {
    "duration": 17,
    "start_time": "2022-03-14T13:04:01.971Z"
   },
   {
    "duration": 50,
    "start_time": "2022-03-14T13:04:01.989Z"
   },
   {
    "duration": 4,
    "start_time": "2022-03-14T13:04:02.041Z"
   },
   {
    "duration": 14,
    "start_time": "2022-03-14T13:04:02.046Z"
   },
   {
    "duration": 12,
    "start_time": "2022-03-14T13:04:02.062Z"
   },
   {
    "duration": 19,
    "start_time": "2022-03-14T13:04:02.076Z"
   },
   {
    "duration": 3,
    "start_time": "2022-03-14T13:04:02.097Z"
   },
   {
    "duration": 8,
    "start_time": "2022-03-14T13:04:02.102Z"
   },
   {
    "duration": 21,
    "start_time": "2022-03-14T13:04:02.112Z"
   },
   {
    "duration": 14,
    "start_time": "2022-03-14T13:04:02.135Z"
   },
   {
    "duration": 7,
    "start_time": "2022-03-14T13:04:02.150Z"
   },
   {
    "duration": 7,
    "start_time": "2022-03-14T13:04:02.158Z"
   },
   {
    "duration": 5,
    "start_time": "2022-03-14T13:04:02.167Z"
   },
   {
    "duration": 6,
    "start_time": "2022-03-14T13:04:02.174Z"
   },
   {
    "duration": 8,
    "start_time": "2022-03-14T13:04:02.182Z"
   },
   {
    "duration": 7,
    "start_time": "2022-03-14T13:04:02.192Z"
   },
   {
    "duration": 14,
    "start_time": "2022-03-14T13:04:02.200Z"
   },
   {
    "duration": 13,
    "start_time": "2022-03-14T13:04:02.215Z"
   },
   {
    "duration": 6,
    "start_time": "2022-03-14T13:04:02.233Z"
   },
   {
    "duration": 15,
    "start_time": "2022-03-14T13:04:02.240Z"
   },
   {
    "duration": 12,
    "start_time": "2022-03-14T13:04:02.257Z"
   },
   {
    "duration": 16,
    "start_time": "2022-03-14T13:04:02.270Z"
   },
   {
    "duration": 16,
    "start_time": "2022-03-14T13:04:02.288Z"
   },
   {
    "duration": 30,
    "start_time": "2022-03-14T13:04:02.306Z"
   },
   {
    "duration": 9,
    "start_time": "2022-03-14T13:04:02.338Z"
   },
   {
    "duration": 24,
    "start_time": "2022-03-14T13:04:02.348Z"
   },
   {
    "duration": 17,
    "start_time": "2022-03-14T13:04:02.374Z"
   },
   {
    "duration": 44,
    "start_time": "2022-03-14T13:04:02.393Z"
   },
   {
    "duration": 13,
    "start_time": "2022-03-14T13:04:02.438Z"
   },
   {
    "duration": 17,
    "start_time": "2022-03-14T13:04:02.453Z"
   },
   {
    "duration": 13,
    "start_time": "2022-03-14T13:04:02.472Z"
   },
   {
    "duration": 225,
    "start_time": "2022-03-14T13:04:02.487Z"
   },
   {
    "duration": -26,
    "start_time": "2022-03-14T13:04:02.740Z"
   },
   {
    "duration": -31,
    "start_time": "2022-03-14T13:04:02.746Z"
   },
   {
    "duration": -32,
    "start_time": "2022-03-14T13:04:02.748Z"
   },
   {
    "duration": 632,
    "start_time": "2022-03-14T13:04:32.618Z"
   },
   {
    "duration": 10,
    "start_time": "2022-03-14T13:04:33.252Z"
   },
   {
    "duration": 12,
    "start_time": "2022-03-14T13:04:33.263Z"
   },
   {
    "duration": 4,
    "start_time": "2022-03-14T13:04:33.276Z"
   },
   {
    "duration": 10,
    "start_time": "2022-03-14T13:04:33.282Z"
   },
   {
    "duration": 82,
    "start_time": "2022-03-14T13:04:33.294Z"
   },
   {
    "duration": 6,
    "start_time": "2022-03-14T13:04:33.377Z"
   },
   {
    "duration": 4,
    "start_time": "2022-03-14T13:04:33.385Z"
   },
   {
    "duration": 6,
    "start_time": "2022-03-14T13:04:33.391Z"
   },
   {
    "duration": 10,
    "start_time": "2022-03-14T13:04:33.399Z"
   },
   {
    "duration": 26,
    "start_time": "2022-03-14T13:04:33.410Z"
   },
   {
    "duration": 6,
    "start_time": "2022-03-14T13:04:33.437Z"
   },
   {
    "duration": 6,
    "start_time": "2022-03-14T13:04:33.444Z"
   },
   {
    "duration": 6,
    "start_time": "2022-03-14T13:04:33.452Z"
   },
   {
    "duration": 4,
    "start_time": "2022-03-14T13:04:33.460Z"
   },
   {
    "duration": 6,
    "start_time": "2022-03-14T13:04:33.466Z"
   },
   {
    "duration": 10,
    "start_time": "2022-03-14T13:04:33.473Z"
   },
   {
    "duration": 6,
    "start_time": "2022-03-14T13:04:33.485Z"
   },
   {
    "duration": 10,
    "start_time": "2022-03-14T13:04:33.493Z"
   },
   {
    "duration": 28,
    "start_time": "2022-03-14T13:04:33.505Z"
   },
   {
    "duration": 6,
    "start_time": "2022-03-14T13:04:33.535Z"
   },
   {
    "duration": 6,
    "start_time": "2022-03-14T13:04:33.542Z"
   },
   {
    "duration": 9,
    "start_time": "2022-03-14T13:04:33.549Z"
   },
   {
    "duration": 10,
    "start_time": "2022-03-14T13:04:33.560Z"
   },
   {
    "duration": 7,
    "start_time": "2022-03-14T13:04:33.571Z"
   },
   {
    "duration": 6,
    "start_time": "2022-03-14T13:04:33.579Z"
   },
   {
    "duration": 23,
    "start_time": "2022-03-14T13:04:33.589Z"
   },
   {
    "duration": 45,
    "start_time": "2022-03-14T13:04:33.614Z"
   },
   {
    "duration": 3,
    "start_time": "2022-03-14T13:04:33.661Z"
   },
   {
    "duration": 14,
    "start_time": "2022-03-14T13:04:33.666Z"
   },
   {
    "duration": 8,
    "start_time": "2022-03-14T13:04:33.682Z"
   },
   {
    "duration": 47,
    "start_time": "2022-03-14T13:04:33.691Z"
   },
   {
    "duration": 4,
    "start_time": "2022-03-14T13:04:33.740Z"
   },
   {
    "duration": 7,
    "start_time": "2022-03-14T13:04:33.746Z"
   },
   {
    "duration": 6,
    "start_time": "2022-03-14T13:04:33.755Z"
   },
   {
    "duration": 6,
    "start_time": "2022-03-14T13:04:33.763Z"
   },
   {
    "duration": 6,
    "start_time": "2022-03-14T13:04:33.771Z"
   },
   {
    "duration": 8,
    "start_time": "2022-03-14T13:04:33.778Z"
   },
   {
    "duration": 5,
    "start_time": "2022-03-14T13:04:33.788Z"
   },
   {
    "duration": 7,
    "start_time": "2022-03-14T13:04:33.794Z"
   },
   {
    "duration": 8,
    "start_time": "2022-03-14T13:04:33.803Z"
   },
   {
    "duration": 26,
    "start_time": "2022-03-14T13:04:33.812Z"
   },
   {
    "duration": 14,
    "start_time": "2022-03-14T13:04:33.840Z"
   },
   {
    "duration": 10,
    "start_time": "2022-03-14T13:04:33.855Z"
   },
   {
    "duration": 5,
    "start_time": "2022-03-14T13:04:33.867Z"
   },
   {
    "duration": 13,
    "start_time": "2022-03-14T13:04:33.874Z"
   },
   {
    "duration": 49,
    "start_time": "2022-03-14T13:04:33.888Z"
   },
   {
    "duration": 12,
    "start_time": "2022-03-14T13:04:33.939Z"
   },
   {
    "duration": 18,
    "start_time": "2022-03-14T13:04:33.953Z"
   },
   {
    "duration": 10,
    "start_time": "2022-03-14T13:04:33.972Z"
   },
   {
    "duration": 7,
    "start_time": "2022-03-14T13:04:33.984Z"
   },
   {
    "duration": 47,
    "start_time": "2022-03-14T13:04:33.993Z"
   },
   {
    "duration": 18,
    "start_time": "2022-03-14T13:04:34.041Z"
   },
   {
    "duration": 18,
    "start_time": "2022-03-14T13:04:34.061Z"
   },
   {
    "duration": 12,
    "start_time": "2022-03-14T13:04:34.081Z"
   },
   {
    "duration": 45,
    "start_time": "2022-03-14T13:04:34.094Z"
   },
   {
    "duration": 15,
    "start_time": "2022-03-14T13:04:34.141Z"
   },
   {
    "duration": 327,
    "start_time": "2022-03-14T13:04:34.158Z"
   },
   {
    "duration": -27,
    "start_time": "2022-03-14T13:04:34.515Z"
   },
   {
    "duration": -28,
    "start_time": "2022-03-14T13:04:34.517Z"
   },
   {
    "duration": -29,
    "start_time": "2022-03-14T13:04:34.519Z"
   },
   {
    "duration": 193,
    "start_time": "2022-03-14T13:05:06.668Z"
   },
   {
    "duration": 22,
    "start_time": "2022-03-14T13:05:28.548Z"
   },
   {
    "duration": 11,
    "start_time": "2022-03-14T13:05:31.628Z"
   },
   {
    "duration": 228,
    "start_time": "2022-03-14T13:05:36.361Z"
   },
   {
    "duration": 345,
    "start_time": "2022-03-14T13:07:08.465Z"
   },
   {
    "duration": 458,
    "start_time": "2022-03-14T13:07:31.858Z"
   },
   {
    "duration": -102,
    "start_time": "2022-03-14T13:09:21.370Z"
   },
   {
    "duration": 741,
    "start_time": "2022-03-14T13:17:03.651Z"
   },
   {
    "duration": 10,
    "start_time": "2022-03-14T13:17:04.394Z"
   },
   {
    "duration": 13,
    "start_time": "2022-03-14T13:17:04.406Z"
   },
   {
    "duration": 12,
    "start_time": "2022-03-14T13:17:04.421Z"
   },
   {
    "duration": 8,
    "start_time": "2022-03-14T13:17:04.434Z"
   },
   {
    "duration": 56,
    "start_time": "2022-03-14T13:17:04.444Z"
   },
   {
    "duration": 6,
    "start_time": "2022-03-14T13:17:04.502Z"
   },
   {
    "duration": 26,
    "start_time": "2022-03-14T13:17:04.509Z"
   },
   {
    "duration": 4,
    "start_time": "2022-03-14T13:17:04.538Z"
   },
   {
    "duration": 6,
    "start_time": "2022-03-14T13:17:04.544Z"
   },
   {
    "duration": 8,
    "start_time": "2022-03-14T13:17:04.552Z"
   },
   {
    "duration": 8,
    "start_time": "2022-03-14T13:17:04.562Z"
   },
   {
    "duration": 7,
    "start_time": "2022-03-14T13:17:04.571Z"
   },
   {
    "duration": 8,
    "start_time": "2022-03-14T13:17:04.579Z"
   },
   {
    "duration": 6,
    "start_time": "2022-03-14T13:17:04.589Z"
   },
   {
    "duration": 6,
    "start_time": "2022-03-14T13:17:04.596Z"
   },
   {
    "duration": 34,
    "start_time": "2022-03-14T13:17:04.603Z"
   },
   {
    "duration": 7,
    "start_time": "2022-03-14T13:17:04.639Z"
   },
   {
    "duration": 7,
    "start_time": "2022-03-14T13:17:04.647Z"
   },
   {
    "duration": 5,
    "start_time": "2022-03-14T13:17:04.655Z"
   },
   {
    "duration": 7,
    "start_time": "2022-03-14T13:17:04.661Z"
   },
   {
    "duration": 4,
    "start_time": "2022-03-14T13:17:04.669Z"
   },
   {
    "duration": 4,
    "start_time": "2022-03-14T13:17:04.674Z"
   },
   {
    "duration": 7,
    "start_time": "2022-03-14T13:17:04.680Z"
   },
   {
    "duration": 6,
    "start_time": "2022-03-14T13:17:04.688Z"
   },
   {
    "duration": 48,
    "start_time": "2022-03-14T13:17:04.695Z"
   },
   {
    "duration": 16,
    "start_time": "2022-03-14T13:17:04.747Z"
   },
   {
    "duration": 28,
    "start_time": "2022-03-14T13:17:04.765Z"
   },
   {
    "duration": 4,
    "start_time": "2022-03-14T13:17:04.795Z"
   },
   {
    "duration": 32,
    "start_time": "2022-03-14T13:17:04.800Z"
   },
   {
    "duration": 6,
    "start_time": "2022-03-14T13:17:04.834Z"
   },
   {
    "duration": 22,
    "start_time": "2022-03-14T13:17:04.841Z"
   },
   {
    "duration": 3,
    "start_time": "2022-03-14T13:17:04.864Z"
   },
   {
    "duration": 6,
    "start_time": "2022-03-14T13:17:04.869Z"
   },
   {
    "duration": 5,
    "start_time": "2022-03-14T13:17:04.876Z"
   },
   {
    "duration": 7,
    "start_time": "2022-03-14T13:17:04.883Z"
   },
   {
    "duration": 5,
    "start_time": "2022-03-14T13:17:04.892Z"
   },
   {
    "duration": 7,
    "start_time": "2022-03-14T13:17:04.898Z"
   },
   {
    "duration": 7,
    "start_time": "2022-03-14T13:17:04.907Z"
   },
   {
    "duration": 18,
    "start_time": "2022-03-14T13:17:04.915Z"
   },
   {
    "duration": 10,
    "start_time": "2022-03-14T13:17:04.935Z"
   },
   {
    "duration": 5,
    "start_time": "2022-03-14T13:17:04.947Z"
   },
   {
    "duration": 14,
    "start_time": "2022-03-14T13:17:04.954Z"
   },
   {
    "duration": 15,
    "start_time": "2022-03-14T13:17:04.970Z"
   },
   {
    "duration": 6,
    "start_time": "2022-03-14T13:17:04.986Z"
   },
   {
    "duration": 19,
    "start_time": "2022-03-14T13:17:04.994Z"
   },
   {
    "duration": 29,
    "start_time": "2022-03-14T13:17:05.015Z"
   },
   {
    "duration": 14,
    "start_time": "2022-03-14T13:17:05.046Z"
   },
   {
    "duration": 25,
    "start_time": "2022-03-14T13:17:05.062Z"
   },
   {
    "duration": 14,
    "start_time": "2022-03-14T13:17:05.088Z"
   },
   {
    "duration": 30,
    "start_time": "2022-03-14T13:17:05.103Z"
   },
   {
    "duration": 20,
    "start_time": "2022-03-14T13:17:05.135Z"
   },
   {
    "duration": 20,
    "start_time": "2022-03-14T13:17:05.158Z"
   },
   {
    "duration": 19,
    "start_time": "2022-03-14T13:17:05.180Z"
   },
   {
    "duration": 42,
    "start_time": "2022-03-14T13:17:05.201Z"
   },
   {
    "duration": 324,
    "start_time": "2022-03-14T13:17:05.245Z"
   },
   {
    "duration": -22,
    "start_time": "2022-03-14T13:17:05.593Z"
   },
   {
    "duration": -32,
    "start_time": "2022-03-14T13:17:05.604Z"
   },
   {
    "duration": -33,
    "start_time": "2022-03-14T13:17:05.606Z"
   },
   {
    "duration": -37,
    "start_time": "2022-03-14T13:17:05.611Z"
   },
   {
    "duration": -38,
    "start_time": "2022-03-14T13:17:05.613Z"
   },
   {
    "duration": -38,
    "start_time": "2022-03-14T13:17:05.614Z"
   },
   {
    "duration": 314,
    "start_time": "2022-03-14T13:17:26.550Z"
   },
   {
    "duration": 301,
    "start_time": "2022-03-14T13:17:58.235Z"
   },
   {
    "duration": 271,
    "start_time": "2022-03-14T13:19:46.070Z"
   },
   {
    "duration": 682,
    "start_time": "2022-03-14T13:19:51.940Z"
   },
   {
    "duration": 15,
    "start_time": "2022-03-14T13:19:52.623Z"
   },
   {
    "duration": 13,
    "start_time": "2022-03-14T13:19:52.640Z"
   },
   {
    "duration": 5,
    "start_time": "2022-03-14T13:19:52.655Z"
   },
   {
    "duration": 6,
    "start_time": "2022-03-14T13:19:52.661Z"
   },
   {
    "duration": 77,
    "start_time": "2022-03-14T13:19:52.669Z"
   },
   {
    "duration": 5,
    "start_time": "2022-03-14T13:19:52.748Z"
   },
   {
    "duration": 5,
    "start_time": "2022-03-14T13:19:52.755Z"
   },
   {
    "duration": 5,
    "start_time": "2022-03-14T13:19:52.761Z"
   },
   {
    "duration": 7,
    "start_time": "2022-03-14T13:19:52.768Z"
   },
   {
    "duration": 7,
    "start_time": "2022-03-14T13:19:52.776Z"
   },
   {
    "duration": 6,
    "start_time": "2022-03-14T13:19:52.785Z"
   },
   {
    "duration": 42,
    "start_time": "2022-03-14T13:19:52.792Z"
   },
   {
    "duration": 11,
    "start_time": "2022-03-14T13:19:52.836Z"
   },
   {
    "duration": 6,
    "start_time": "2022-03-14T13:19:52.849Z"
   },
   {
    "duration": 6,
    "start_time": "2022-03-14T13:19:52.856Z"
   },
   {
    "duration": 5,
    "start_time": "2022-03-14T13:19:52.864Z"
   },
   {
    "duration": 7,
    "start_time": "2022-03-14T13:19:52.870Z"
   },
   {
    "duration": 12,
    "start_time": "2022-03-14T13:19:52.878Z"
   },
   {
    "duration": 9,
    "start_time": "2022-03-14T13:19:52.892Z"
   },
   {
    "duration": 30,
    "start_time": "2022-03-14T13:19:52.903Z"
   },
   {
    "duration": 5,
    "start_time": "2022-03-14T13:19:52.935Z"
   },
   {
    "duration": 4,
    "start_time": "2022-03-14T13:19:52.944Z"
   },
   {
    "duration": 6,
    "start_time": "2022-03-14T13:19:52.950Z"
   },
   {
    "duration": 4,
    "start_time": "2022-03-14T13:19:52.958Z"
   },
   {
    "duration": 6,
    "start_time": "2022-03-14T13:19:52.964Z"
   },
   {
    "duration": 20,
    "start_time": "2022-03-14T13:19:52.972Z"
   },
   {
    "duration": 57,
    "start_time": "2022-03-14T13:19:52.994Z"
   },
   {
    "duration": 5,
    "start_time": "2022-03-14T13:19:53.053Z"
   },
   {
    "duration": 12,
    "start_time": "2022-03-14T13:19:53.059Z"
   },
   {
    "duration": 9,
    "start_time": "2022-03-14T13:19:53.073Z"
   },
   {
    "duration": 19,
    "start_time": "2022-03-14T13:19:53.084Z"
   },
   {
    "duration": 7,
    "start_time": "2022-03-14T13:19:53.104Z"
   },
   {
    "duration": 2,
    "start_time": "2022-03-14T13:19:53.133Z"
   },
   {
    "duration": 7,
    "start_time": "2022-03-14T13:19:53.137Z"
   },
   {
    "duration": 5,
    "start_time": "2022-03-14T13:19:53.145Z"
   },
   {
    "duration": 7,
    "start_time": "2022-03-14T13:19:53.151Z"
   },
   {
    "duration": 11,
    "start_time": "2022-03-14T13:19:53.159Z"
   },
   {
    "duration": 6,
    "start_time": "2022-03-14T13:19:53.172Z"
   },
   {
    "duration": 11,
    "start_time": "2022-03-14T13:19:53.180Z"
   },
   {
    "duration": 10,
    "start_time": "2022-03-14T13:19:53.193Z"
   },
   {
    "duration": 10,
    "start_time": "2022-03-14T13:19:53.205Z"
   },
   {
    "duration": 20,
    "start_time": "2022-03-14T13:19:53.217Z"
   },
   {
    "duration": 9,
    "start_time": "2022-03-14T13:19:53.238Z"
   },
   {
    "duration": 4,
    "start_time": "2022-03-14T13:19:53.249Z"
   },
   {
    "duration": 15,
    "start_time": "2022-03-14T13:19:53.255Z"
   },
   {
    "duration": 11,
    "start_time": "2022-03-14T13:19:53.272Z"
   },
   {
    "duration": 14,
    "start_time": "2022-03-14T13:19:53.284Z"
   },
   {
    "duration": 43,
    "start_time": "2022-03-14T13:19:53.299Z"
   },
   {
    "duration": 12,
    "start_time": "2022-03-14T13:19:53.344Z"
   },
   {
    "duration": 6,
    "start_time": "2022-03-14T13:19:53.358Z"
   },
   {
    "duration": 18,
    "start_time": "2022-03-14T13:19:53.365Z"
   },
   {
    "duration": 17,
    "start_time": "2022-03-14T13:19:53.384Z"
   },
   {
    "duration": 48,
    "start_time": "2022-03-14T13:19:53.402Z"
   },
   {
    "duration": 13,
    "start_time": "2022-03-14T13:19:53.452Z"
   },
   {
    "duration": 335,
    "start_time": "2022-03-14T13:19:53.467Z"
   },
   {
    "duration": -8,
    "start_time": "2022-03-14T13:19:53.811Z"
   },
   {
    "duration": -9,
    "start_time": "2022-03-14T13:19:53.813Z"
   },
   {
    "duration": -10,
    "start_time": "2022-03-14T13:19:53.815Z"
   },
   {
    "duration": -11,
    "start_time": "2022-03-14T13:19:53.817Z"
   },
   {
    "duration": -11,
    "start_time": "2022-03-14T13:19:53.818Z"
   },
   {
    "duration": -12,
    "start_time": "2022-03-14T13:19:53.820Z"
   },
   {
    "duration": 15,
    "start_time": "2022-03-14T13:21:18.601Z"
   },
   {
    "duration": 13,
    "start_time": "2022-03-14T13:21:21.040Z"
   },
   {
    "duration": 233,
    "start_time": "2022-03-14T13:21:23.910Z"
   },
   {
    "duration": 17,
    "start_time": "2022-03-14T13:28:19.775Z"
   },
   {
    "duration": 213,
    "start_time": "2022-03-14T13:29:31.587Z"
   },
   {
    "duration": 187,
    "start_time": "2022-03-14T13:29:55.324Z"
   },
   {
    "duration": 19,
    "start_time": "2022-03-14T13:30:08.442Z"
   },
   {
    "duration": 15,
    "start_time": "2022-03-14T13:40:49.042Z"
   },
   {
    "duration": 17,
    "start_time": "2022-03-14T13:40:52.029Z"
   },
   {
    "duration": 140,
    "start_time": "2022-03-14T13:42:28.507Z"
   },
   {
    "duration": 73,
    "start_time": "2022-03-14T13:43:22.969Z"
   },
   {
    "duration": 17,
    "start_time": "2022-03-14T13:43:36.099Z"
   },
   {
    "duration": 21,
    "start_time": "2022-03-14T13:43:48.742Z"
   },
   {
    "duration": 18,
    "start_time": "2022-03-14T13:44:04.176Z"
   },
   {
    "duration": 155,
    "start_time": "2022-03-14T13:44:17.640Z"
   },
   {
    "duration": 145,
    "start_time": "2022-03-14T13:44:23.240Z"
   },
   {
    "duration": 155,
    "start_time": "2022-03-14T13:44:29.585Z"
   },
   {
    "duration": 17,
    "start_time": "2022-03-14T13:44:35.849Z"
   },
   {
    "duration": 171,
    "start_time": "2022-03-14T13:44:52.592Z"
   },
   {
    "duration": 16,
    "start_time": "2022-03-14T13:45:02.669Z"
   },
   {
    "duration": 20,
    "start_time": "2022-03-14T13:47:26.412Z"
   },
   {
    "duration": 19,
    "start_time": "2022-03-14T13:47:30.988Z"
   },
   {
    "duration": 143,
    "start_time": "2022-03-14T13:48:10.944Z"
   },
   {
    "duration": 13,
    "start_time": "2022-03-14T13:59:35.044Z"
   },
   {
    "duration": 357,
    "start_time": "2022-03-14T13:59:48.075Z"
   },
   {
    "duration": 13,
    "start_time": "2022-03-14T14:02:19.021Z"
   },
   {
    "duration": 21,
    "start_time": "2022-03-14T14:03:33.910Z"
   },
   {
    "duration": 12,
    "start_time": "2022-03-14T14:03:37.155Z"
   },
   {
    "duration": 282,
    "start_time": "2022-03-14T14:03:47.770Z"
   },
   {
    "duration": 423,
    "start_time": "2022-03-14T16:11:51.809Z"
   },
   {
    "duration": 825,
    "start_time": "2022-03-14T16:12:05.124Z"
   },
   {
    "duration": 800,
    "start_time": "2022-03-14T16:12:10.782Z"
   },
   {
    "duration": 10,
    "start_time": "2022-03-14T16:12:11.584Z"
   },
   {
    "duration": 9,
    "start_time": "2022-03-14T16:12:11.596Z"
   },
   {
    "duration": 4,
    "start_time": "2022-03-14T16:12:11.607Z"
   },
   {
    "duration": 10,
    "start_time": "2022-03-14T16:12:11.613Z"
   },
   {
    "duration": 81,
    "start_time": "2022-03-14T16:12:11.624Z"
   },
   {
    "duration": 6,
    "start_time": "2022-03-14T16:12:11.706Z"
   },
   {
    "duration": 4,
    "start_time": "2022-03-14T16:12:11.715Z"
   },
   {
    "duration": 7,
    "start_time": "2022-03-14T16:12:11.721Z"
   },
   {
    "duration": 9,
    "start_time": "2022-03-14T16:12:11.729Z"
   },
   {
    "duration": 32,
    "start_time": "2022-03-14T16:12:11.740Z"
   },
   {
    "duration": 6,
    "start_time": "2022-03-14T16:12:11.773Z"
   },
   {
    "duration": 5,
    "start_time": "2022-03-14T16:12:11.780Z"
   },
   {
    "duration": 8,
    "start_time": "2022-03-14T16:12:11.787Z"
   },
   {
    "duration": 7,
    "start_time": "2022-03-14T16:12:11.796Z"
   },
   {
    "duration": 6,
    "start_time": "2022-03-14T16:12:11.804Z"
   },
   {
    "duration": 6,
    "start_time": "2022-03-14T16:12:11.812Z"
   },
   {
    "duration": 6,
    "start_time": "2022-03-14T16:12:11.820Z"
   },
   {
    "duration": 35,
    "start_time": "2022-03-14T16:12:11.828Z"
   },
   {
    "duration": 4,
    "start_time": "2022-03-14T16:12:11.865Z"
   },
   {
    "duration": 8,
    "start_time": "2022-03-14T16:12:11.870Z"
   },
   {
    "duration": 5,
    "start_time": "2022-03-14T16:12:11.880Z"
   },
   {
    "duration": 5,
    "start_time": "2022-03-14T16:12:11.891Z"
   },
   {
    "duration": 5,
    "start_time": "2022-03-14T16:12:11.899Z"
   },
   {
    "duration": 5,
    "start_time": "2022-03-14T16:12:11.906Z"
   },
   {
    "duration": 5,
    "start_time": "2022-03-14T16:12:11.913Z"
   },
   {
    "duration": 56,
    "start_time": "2022-03-14T16:12:11.920Z"
   },
   {
    "duration": 31,
    "start_time": "2022-03-14T16:12:11.977Z"
   },
   {
    "duration": 4,
    "start_time": "2022-03-14T16:12:12.009Z"
   },
   {
    "duration": 16,
    "start_time": "2022-03-14T16:12:12.015Z"
   },
   {
    "duration": 9,
    "start_time": "2022-03-14T16:12:12.033Z"
   },
   {
    "duration": 23,
    "start_time": "2022-03-14T16:12:12.063Z"
   },
   {
    "duration": 3,
    "start_time": "2022-03-14T16:12:12.088Z"
   },
   {
    "duration": 5,
    "start_time": "2022-03-14T16:12:12.093Z"
   },
   {
    "duration": 5,
    "start_time": "2022-03-14T16:12:12.100Z"
   },
   {
    "duration": 8,
    "start_time": "2022-03-14T16:12:12.107Z"
   },
   {
    "duration": 5,
    "start_time": "2022-03-14T16:12:12.117Z"
   },
   {
    "duration": 4,
    "start_time": "2022-03-14T16:12:12.124Z"
   },
   {
    "duration": 7,
    "start_time": "2022-03-14T16:12:12.129Z"
   },
   {
    "duration": 10,
    "start_time": "2022-03-14T16:12:12.137Z"
   },
   {
    "duration": 10,
    "start_time": "2022-03-14T16:12:12.163Z"
   },
   {
    "duration": 5,
    "start_time": "2022-03-14T16:12:12.175Z"
   },
   {
    "duration": 13,
    "start_time": "2022-03-14T16:12:12.181Z"
   },
   {
    "duration": 9,
    "start_time": "2022-03-14T16:12:12.195Z"
   },
   {
    "duration": 5,
    "start_time": "2022-03-14T16:12:12.206Z"
   },
   {
    "duration": 13,
    "start_time": "2022-03-14T16:12:12.213Z"
   },
   {
    "duration": 13,
    "start_time": "2022-03-14T16:12:12.264Z"
   },
   {
    "duration": 14,
    "start_time": "2022-03-14T16:12:12.279Z"
   },
   {
    "duration": 22,
    "start_time": "2022-03-14T16:12:12.295Z"
   },
   {
    "duration": 9,
    "start_time": "2022-03-14T16:12:12.319Z"
   },
   {
    "duration": 35,
    "start_time": "2022-03-14T16:12:12.330Z"
   },
   {
    "duration": 19,
    "start_time": "2022-03-14T16:12:12.367Z"
   },
   {
    "duration": 18,
    "start_time": "2022-03-14T16:12:12.388Z"
   },
   {
    "duration": 21,
    "start_time": "2022-03-14T16:12:12.408Z"
   },
   {
    "duration": 42,
    "start_time": "2022-03-14T16:12:12.431Z"
   },
   {
    "duration": 742,
    "start_time": "2022-03-14T16:12:12.475Z"
   },
   {
    "duration": 874,
    "start_time": "2022-03-14T16:12:12.345Z"
   },
   {
    "duration": 863,
    "start_time": "2022-03-14T16:12:12.357Z"
   },
   {
    "duration": 855,
    "start_time": "2022-03-14T16:12:12.366Z"
   },
   {
    "duration": 853,
    "start_time": "2022-03-14T16:12:12.369Z"
   },
   {
    "duration": 850,
    "start_time": "2022-03-14T16:12:12.373Z"
   },
   {
    "duration": 847,
    "start_time": "2022-03-14T16:12:12.377Z"
   },
   {
    "duration": 13,
    "start_time": "2022-03-14T16:14:47.308Z"
   },
   {
    "duration": 17,
    "start_time": "2022-03-14T16:15:18.033Z"
   },
   {
    "duration": 15,
    "start_time": "2022-03-14T16:15:21.785Z"
   },
   {
    "duration": 606,
    "start_time": "2022-03-14T16:15:32.070Z"
   },
   {
    "duration": 725,
    "start_time": "2022-03-14T16:15:44.730Z"
   },
   {
    "duration": 15,
    "start_time": "2022-03-14T16:15:45.458Z"
   },
   {
    "duration": 13,
    "start_time": "2022-03-14T16:15:45.475Z"
   },
   {
    "duration": 4,
    "start_time": "2022-03-14T16:15:45.490Z"
   },
   {
    "duration": 9,
    "start_time": "2022-03-14T16:15:45.496Z"
   },
   {
    "duration": 92,
    "start_time": "2022-03-14T16:15:45.506Z"
   },
   {
    "duration": 7,
    "start_time": "2022-03-14T16:15:45.600Z"
   },
   {
    "duration": 6,
    "start_time": "2022-03-14T16:15:45.609Z"
   },
   {
    "duration": 6,
    "start_time": "2022-03-14T16:15:45.617Z"
   },
   {
    "duration": 6,
    "start_time": "2022-03-14T16:15:45.625Z"
   },
   {
    "duration": 36,
    "start_time": "2022-03-14T16:15:45.633Z"
   },
   {
    "duration": 6,
    "start_time": "2022-03-14T16:15:45.671Z"
   },
   {
    "duration": 7,
    "start_time": "2022-03-14T16:15:45.679Z"
   },
   {
    "duration": 6,
    "start_time": "2022-03-14T16:15:45.687Z"
   },
   {
    "duration": 4,
    "start_time": "2022-03-14T16:15:45.694Z"
   },
   {
    "duration": 5,
    "start_time": "2022-03-14T16:15:45.700Z"
   },
   {
    "duration": 7,
    "start_time": "2022-03-14T16:15:45.706Z"
   },
   {
    "duration": 9,
    "start_time": "2022-03-14T16:15:45.715Z"
   },
   {
    "duration": 40,
    "start_time": "2022-03-14T16:15:45.726Z"
   },
   {
    "duration": 13,
    "start_time": "2022-03-14T16:15:45.768Z"
   },
   {
    "duration": 9,
    "start_time": "2022-03-14T16:15:45.783Z"
   },
   {
    "duration": 6,
    "start_time": "2022-03-14T16:15:45.793Z"
   },
   {
    "duration": 3,
    "start_time": "2022-03-14T16:15:45.803Z"
   },
   {
    "duration": 7,
    "start_time": "2022-03-14T16:15:45.808Z"
   },
   {
    "duration": 9,
    "start_time": "2022-03-14T16:15:45.817Z"
   },
   {
    "duration": 8,
    "start_time": "2022-03-14T16:15:45.828Z"
   },
   {
    "duration": 38,
    "start_time": "2022-03-14T16:15:45.838Z"
   },
   {
    "duration": 32,
    "start_time": "2022-03-14T16:15:45.878Z"
   },
   {
    "duration": 6,
    "start_time": "2022-03-14T16:15:45.912Z"
   },
   {
    "duration": 14,
    "start_time": "2022-03-14T16:15:45.919Z"
   },
   {
    "duration": 29,
    "start_time": "2022-03-14T16:15:45.935Z"
   },
   {
    "duration": 18,
    "start_time": "2022-03-14T16:15:45.966Z"
   },
   {
    "duration": 4,
    "start_time": "2022-03-14T16:15:45.986Z"
   },
   {
    "duration": 13,
    "start_time": "2022-03-14T16:15:45.991Z"
   },
   {
    "duration": 6,
    "start_time": "2022-03-14T16:15:46.006Z"
   },
   {
    "duration": 4,
    "start_time": "2022-03-14T16:15:46.014Z"
   },
   {
    "duration": 6,
    "start_time": "2022-03-14T16:15:46.020Z"
   },
   {
    "duration": 6,
    "start_time": "2022-03-14T16:15:46.028Z"
   },
   {
    "duration": 30,
    "start_time": "2022-03-14T16:15:46.036Z"
   },
   {
    "duration": 16,
    "start_time": "2022-03-14T16:15:46.068Z"
   },
   {
    "duration": 19,
    "start_time": "2022-03-14T16:15:46.086Z"
   },
   {
    "duration": 17,
    "start_time": "2022-03-14T16:15:46.108Z"
   },
   {
    "duration": 32,
    "start_time": "2022-03-14T16:15:46.127Z"
   },
   {
    "duration": 26,
    "start_time": "2022-03-14T16:15:46.161Z"
   },
   {
    "duration": 14,
    "start_time": "2022-03-14T16:15:46.188Z"
   },
   {
    "duration": 20,
    "start_time": "2022-03-14T16:15:46.204Z"
   },
   {
    "duration": 14,
    "start_time": "2022-03-14T16:15:46.225Z"
   },
   {
    "duration": 13,
    "start_time": "2022-03-14T16:15:46.240Z"
   },
   {
    "duration": 35,
    "start_time": "2022-03-14T16:15:46.255Z"
   },
   {
    "duration": 23,
    "start_time": "2022-03-14T16:15:46.291Z"
   },
   {
    "duration": 11,
    "start_time": "2022-03-14T16:15:46.316Z"
   },
   {
    "duration": 25,
    "start_time": "2022-03-14T16:15:46.329Z"
   },
   {
    "duration": 16,
    "start_time": "2022-03-14T16:15:46.356Z"
   },
   {
    "duration": 20,
    "start_time": "2022-03-14T16:15:46.374Z"
   },
   {
    "duration": 14,
    "start_time": "2022-03-14T16:15:46.396Z"
   },
   {
    "duration": 350,
    "start_time": "2022-03-14T16:15:46.412Z"
   },
   {
    "duration": 858,
    "start_time": "2022-03-14T16:15:45.906Z"
   },
   {
    "duration": 852,
    "start_time": "2022-03-14T16:15:45.913Z"
   },
   {
    "duration": 851,
    "start_time": "2022-03-14T16:15:45.915Z"
   },
   {
    "duration": 850,
    "start_time": "2022-03-14T16:15:45.917Z"
   },
   {
    "duration": 850,
    "start_time": "2022-03-14T16:15:45.918Z"
   },
   {
    "duration": 848,
    "start_time": "2022-03-14T16:15:45.920Z"
   },
   {
    "duration": 5,
    "start_time": "2022-03-14T16:17:46.853Z"
   },
   {
    "duration": 22,
    "start_time": "2022-03-14T16:18:25.092Z"
   },
   {
    "duration": 13,
    "start_time": "2022-03-14T16:19:05.966Z"
   },
   {
    "duration": 732,
    "start_time": "2022-03-14T16:20:03.170Z"
   },
   {
    "duration": 10,
    "start_time": "2022-03-14T16:20:03.904Z"
   },
   {
    "duration": 8,
    "start_time": "2022-03-14T16:20:03.916Z"
   },
   {
    "duration": 3,
    "start_time": "2022-03-14T16:20:03.926Z"
   },
   {
    "duration": 6,
    "start_time": "2022-03-14T16:20:03.931Z"
   },
   {
    "duration": 81,
    "start_time": "2022-03-14T16:20:03.939Z"
   },
   {
    "duration": 6,
    "start_time": "2022-03-14T16:20:04.022Z"
   },
   {
    "duration": 4,
    "start_time": "2022-03-14T16:20:04.031Z"
   },
   {
    "duration": 26,
    "start_time": "2022-03-14T16:20:04.037Z"
   },
   {
    "duration": 6,
    "start_time": "2022-03-14T16:20:04.065Z"
   },
   {
    "duration": 12,
    "start_time": "2022-03-14T16:20:04.072Z"
   },
   {
    "duration": 6,
    "start_time": "2022-03-14T16:20:04.086Z"
   },
   {
    "duration": 7,
    "start_time": "2022-03-14T16:20:04.094Z"
   },
   {
    "duration": 10,
    "start_time": "2022-03-14T16:20:04.102Z"
   },
   {
    "duration": 5,
    "start_time": "2022-03-14T16:20:04.114Z"
   },
   {
    "duration": 6,
    "start_time": "2022-03-14T16:20:04.120Z"
   },
   {
    "duration": 5,
    "start_time": "2022-03-14T16:20:04.128Z"
   },
   {
    "duration": 33,
    "start_time": "2022-03-14T16:20:04.134Z"
   },
   {
    "duration": 8,
    "start_time": "2022-03-14T16:20:04.169Z"
   },
   {
    "duration": 4,
    "start_time": "2022-03-14T16:20:04.178Z"
   },
   {
    "duration": 9,
    "start_time": "2022-03-14T16:20:04.183Z"
   },
   {
    "duration": 4,
    "start_time": "2022-03-14T16:20:04.193Z"
   },
   {
    "duration": 3,
    "start_time": "2022-03-14T16:20:04.201Z"
   },
   {
    "duration": 6,
    "start_time": "2022-03-14T16:20:04.206Z"
   },
   {
    "duration": 5,
    "start_time": "2022-03-14T16:20:04.213Z"
   },
   {
    "duration": 7,
    "start_time": "2022-03-14T16:20:04.219Z"
   },
   {
    "duration": 16,
    "start_time": "2022-03-14T16:20:04.263Z"
   },
   {
    "duration": 40,
    "start_time": "2022-03-14T16:20:04.281Z"
   },
   {
    "duration": 5,
    "start_time": "2022-03-14T16:20:04.322Z"
   },
   {
    "duration": 16,
    "start_time": "2022-03-14T16:20:04.328Z"
   },
   {
    "duration": 21,
    "start_time": "2022-03-14T16:20:04.346Z"
   },
   {
    "duration": 20,
    "start_time": "2022-03-14T16:20:04.368Z"
   },
   {
    "duration": 6,
    "start_time": "2022-03-14T16:20:04.389Z"
   },
   {
    "duration": 9,
    "start_time": "2022-03-14T16:20:04.397Z"
   },
   {
    "duration": 5,
    "start_time": "2022-03-14T16:20:04.408Z"
   },
   {
    "duration": 5,
    "start_time": "2022-03-14T16:20:04.415Z"
   },
   {
    "duration": 5,
    "start_time": "2022-03-14T16:20:04.421Z"
   },
   {
    "duration": 6,
    "start_time": "2022-03-14T16:20:04.428Z"
   },
   {
    "duration": 5,
    "start_time": "2022-03-14T16:20:04.435Z"
   },
   {
    "duration": 6,
    "start_time": "2022-03-14T16:20:04.442Z"
   },
   {
    "duration": 10,
    "start_time": "2022-03-14T16:20:04.464Z"
   },
   {
    "duration": 5,
    "start_time": "2022-03-14T16:20:04.476Z"
   },
   {
    "duration": 13,
    "start_time": "2022-03-14T16:20:04.482Z"
   },
   {
    "duration": 9,
    "start_time": "2022-03-14T16:20:04.497Z"
   },
   {
    "duration": 5,
    "start_time": "2022-03-14T16:20:04.508Z"
   },
   {
    "duration": 13,
    "start_time": "2022-03-14T16:20:04.515Z"
   },
   {
    "duration": 40,
    "start_time": "2022-03-14T16:20:04.529Z"
   },
   {
    "duration": 13,
    "start_time": "2022-03-14T16:20:04.571Z"
   },
   {
    "duration": 29,
    "start_time": "2022-03-14T16:20:04.585Z"
   },
   {
    "duration": 11,
    "start_time": "2022-03-14T16:20:04.615Z"
   },
   {
    "duration": 7,
    "start_time": "2022-03-14T16:20:04.627Z"
   },
   {
    "duration": 41,
    "start_time": "2022-03-14T16:20:04.636Z"
   },
   {
    "duration": 18,
    "start_time": "2022-03-14T16:20:04.679Z"
   },
   {
    "duration": 20,
    "start_time": "2022-03-14T16:20:04.699Z"
   },
   {
    "duration": 42,
    "start_time": "2022-03-14T16:20:04.720Z"
   },
   {
    "duration": 712,
    "start_time": "2022-03-14T16:20:04.764Z"
   },
   {
    "duration": 850,
    "start_time": "2022-03-14T16:20:04.628Z"
   },
   {
    "duration": 848,
    "start_time": "2022-03-14T16:20:04.631Z"
   },
   {
    "duration": 847,
    "start_time": "2022-03-14T16:20:04.633Z"
   },
   {
    "duration": 847,
    "start_time": "2022-03-14T16:20:04.635Z"
   },
   {
    "duration": 847,
    "start_time": "2022-03-14T16:20:04.636Z"
   },
   {
    "duration": 846,
    "start_time": "2022-03-14T16:20:04.638Z"
   },
   {
    "duration": 546,
    "start_time": "2022-03-14T16:33:33.505Z"
   },
   {
    "duration": 12481,
    "start_time": "2022-03-14T16:34:52.872Z"
   },
   {
    "duration": 20,
    "start_time": "2022-03-14T16:35:33.442Z"
   },
   {
    "duration": 785,
    "start_time": "2022-03-14T16:38:29.214Z"
   },
   {
    "duration": 13,
    "start_time": "2022-03-14T16:38:30.001Z"
   },
   {
    "duration": 12,
    "start_time": "2022-03-14T16:38:30.017Z"
   },
   {
    "duration": 17,
    "start_time": "2022-03-14T16:38:30.032Z"
   },
   {
    "duration": 8,
    "start_time": "2022-03-14T16:38:30.064Z"
   },
   {
    "duration": 90,
    "start_time": "2022-03-14T16:38:30.074Z"
   },
   {
    "duration": 10,
    "start_time": "2022-03-14T16:38:30.167Z"
   },
   {
    "duration": 17,
    "start_time": "2022-03-14T16:38:30.180Z"
   },
   {
    "duration": 14,
    "start_time": "2022-03-14T16:38:30.199Z"
   },
   {
    "duration": 18,
    "start_time": "2022-03-14T16:38:30.216Z"
   },
   {
    "duration": 11,
    "start_time": "2022-03-14T16:38:30.236Z"
   },
   {
    "duration": 19,
    "start_time": "2022-03-14T16:38:30.248Z"
   },
   {
    "duration": 27,
    "start_time": "2022-03-14T16:38:30.269Z"
   },
   {
    "duration": 16,
    "start_time": "2022-03-14T16:38:30.298Z"
   },
   {
    "duration": 20,
    "start_time": "2022-03-14T16:38:30.316Z"
   },
   {
    "duration": 19,
    "start_time": "2022-03-14T16:38:30.338Z"
   },
   {
    "duration": 28,
    "start_time": "2022-03-14T16:38:30.359Z"
   },
   {
    "duration": 25,
    "start_time": "2022-03-14T16:38:30.389Z"
   },
   {
    "duration": 19,
    "start_time": "2022-03-14T16:38:30.416Z"
   },
   {
    "duration": 24,
    "start_time": "2022-03-14T16:38:30.436Z"
   },
   {
    "duration": 19,
    "start_time": "2022-03-14T16:38:30.461Z"
   },
   {
    "duration": 13,
    "start_time": "2022-03-14T16:38:30.482Z"
   },
   {
    "duration": 8,
    "start_time": "2022-03-14T16:38:30.499Z"
   },
   {
    "duration": 15,
    "start_time": "2022-03-14T16:38:30.510Z"
   },
   {
    "duration": 19,
    "start_time": "2022-03-14T16:38:30.527Z"
   },
   {
    "duration": 18,
    "start_time": "2022-03-14T16:38:30.548Z"
   },
   {
    "duration": 31,
    "start_time": "2022-03-14T16:38:30.568Z"
   },
   {
    "duration": 42,
    "start_time": "2022-03-14T16:38:30.601Z"
   },
   {
    "duration": 17,
    "start_time": "2022-03-14T16:38:30.646Z"
   },
   {
    "duration": 26,
    "start_time": "2022-03-14T16:38:30.665Z"
   },
   {
    "duration": 19,
    "start_time": "2022-03-14T16:38:30.693Z"
   },
   {
    "duration": 25,
    "start_time": "2022-03-14T16:38:30.714Z"
   },
   {
    "duration": 5,
    "start_time": "2022-03-14T16:38:30.741Z"
   },
   {
    "duration": 8,
    "start_time": "2022-03-14T16:38:30.748Z"
   },
   {
    "duration": 14,
    "start_time": "2022-03-14T16:38:30.758Z"
   },
   {
    "duration": 21,
    "start_time": "2022-03-14T16:38:30.774Z"
   },
   {
    "duration": 18,
    "start_time": "2022-03-14T16:38:30.796Z"
   },
   {
    "duration": 15,
    "start_time": "2022-03-14T16:38:30.815Z"
   },
   {
    "duration": 22,
    "start_time": "2022-03-14T16:38:30.832Z"
   },
   {
    "duration": 26,
    "start_time": "2022-03-14T16:38:30.855Z"
   },
   {
    "duration": 20,
    "start_time": "2022-03-14T16:38:30.883Z"
   },
   {
    "duration": 16,
    "start_time": "2022-03-14T16:38:30.905Z"
   },
   {
    "duration": 16,
    "start_time": "2022-03-14T16:38:30.923Z"
   },
   {
    "duration": 16,
    "start_time": "2022-03-14T16:38:30.940Z"
   },
   {
    "duration": 20,
    "start_time": "2022-03-14T16:38:30.958Z"
   },
   {
    "duration": 21,
    "start_time": "2022-03-14T16:38:30.980Z"
   },
   {
    "duration": 11,
    "start_time": "2022-03-14T16:38:31.003Z"
   },
   {
    "duration": 22,
    "start_time": "2022-03-14T16:38:31.016Z"
   },
   {
    "duration": 27,
    "start_time": "2022-03-14T16:38:31.040Z"
   },
   {
    "duration": 14,
    "start_time": "2022-03-14T16:38:31.069Z"
   },
   {
    "duration": 16,
    "start_time": "2022-03-14T16:38:31.085Z"
   },
   {
    "duration": 23,
    "start_time": "2022-03-14T16:38:31.103Z"
   },
   {
    "duration": 39,
    "start_time": "2022-03-14T16:38:31.128Z"
   },
   {
    "duration": 25,
    "start_time": "2022-03-14T16:38:31.169Z"
   },
   {
    "duration": 16,
    "start_time": "2022-03-14T16:38:31.196Z"
   },
   {
    "duration": 621,
    "start_time": "2022-03-14T16:38:31.214Z"
   },
   {
    "duration": 834,
    "start_time": "2022-03-14T16:38:31.004Z"
   },
   {
    "duration": 829,
    "start_time": "2022-03-14T16:38:31.010Z"
   },
   {
    "duration": 828,
    "start_time": "2022-03-14T16:38:31.012Z"
   },
   {
    "duration": 826,
    "start_time": "2022-03-14T16:38:31.015Z"
   },
   {
    "duration": 825,
    "start_time": "2022-03-14T16:38:31.017Z"
   },
   {
    "duration": 824,
    "start_time": "2022-03-14T16:38:31.019Z"
   },
   {
    "duration": 824,
    "start_time": "2022-03-14T16:38:31.020Z"
   },
   {
    "duration": 21,
    "start_time": "2022-03-14T16:38:41.202Z"
   },
   {
    "duration": 20,
    "start_time": "2022-03-14T16:38:54.160Z"
   },
   {
    "duration": 33,
    "start_time": "2022-03-14T16:50:47.874Z"
   },
   {
    "duration": 23,
    "start_time": "2022-03-14T16:51:07.911Z"
   },
   {
    "duration": 25,
    "start_time": "2022-03-14T16:51:13.330Z"
   },
   {
    "duration": 2462,
    "start_time": "2022-03-14T16:52:18.383Z"
   },
   {
    "duration": 25,
    "start_time": "2022-03-14T16:52:41.848Z"
   },
   {
    "duration": 496,
    "start_time": "2022-03-14T16:53:01.770Z"
   },
   {
    "duration": 2046,
    "start_time": "2022-03-14T16:57:46.033Z"
   },
   {
    "duration": 25,
    "start_time": "2022-03-14T16:57:55.455Z"
   },
   {
    "duration": 868,
    "start_time": "2022-03-14T16:59:16.581Z"
   },
   {
    "duration": 12,
    "start_time": "2022-03-14T16:59:17.451Z"
   },
   {
    "duration": 8,
    "start_time": "2022-03-14T16:59:17.465Z"
   },
   {
    "duration": 4,
    "start_time": "2022-03-14T16:59:17.475Z"
   },
   {
    "duration": 7,
    "start_time": "2022-03-14T16:59:17.481Z"
   },
   {
    "duration": 83,
    "start_time": "2022-03-14T16:59:17.489Z"
   },
   {
    "duration": 7,
    "start_time": "2022-03-14T16:59:17.574Z"
   },
   {
    "duration": 8,
    "start_time": "2022-03-14T16:59:17.583Z"
   },
   {
    "duration": 6,
    "start_time": "2022-03-14T16:59:17.593Z"
   },
   {
    "duration": 10,
    "start_time": "2022-03-14T16:59:17.600Z"
   },
   {
    "duration": 10,
    "start_time": "2022-03-14T16:59:17.612Z"
   },
   {
    "duration": 5,
    "start_time": "2022-03-14T16:59:17.624Z"
   },
   {
    "duration": 6,
    "start_time": "2022-03-14T16:59:17.631Z"
   },
   {
    "duration": 29,
    "start_time": "2022-03-14T16:59:17.639Z"
   },
   {
    "duration": 5,
    "start_time": "2022-03-14T16:59:17.669Z"
   },
   {
    "duration": 6,
    "start_time": "2022-03-14T16:59:17.676Z"
   },
   {
    "duration": 7,
    "start_time": "2022-03-14T16:59:17.683Z"
   },
   {
    "duration": 5,
    "start_time": "2022-03-14T16:59:17.692Z"
   },
   {
    "duration": 7,
    "start_time": "2022-03-14T16:59:17.699Z"
   },
   {
    "duration": 5,
    "start_time": "2022-03-14T16:59:17.707Z"
   },
   {
    "duration": 6,
    "start_time": "2022-03-14T16:59:17.713Z"
   },
   {
    "duration": 7,
    "start_time": "2022-03-14T16:59:17.721Z"
   },
   {
    "duration": 4,
    "start_time": "2022-03-14T16:59:17.765Z"
   },
   {
    "duration": 6,
    "start_time": "2022-03-14T16:59:17.771Z"
   },
   {
    "duration": 4,
    "start_time": "2022-03-14T16:59:17.779Z"
   },
   {
    "duration": 7,
    "start_time": "2022-03-14T16:59:17.784Z"
   },
   {
    "duration": 16,
    "start_time": "2022-03-14T16:59:17.793Z"
   },
   {
    "duration": 60,
    "start_time": "2022-03-14T16:59:17.811Z"
   },
   {
    "duration": 5,
    "start_time": "2022-03-14T16:59:17.873Z"
   },
   {
    "duration": 12,
    "start_time": "2022-03-14T16:59:17.880Z"
   },
   {
    "duration": 17,
    "start_time": "2022-03-14T16:59:17.894Z"
   },
   {
    "duration": 26,
    "start_time": "2022-03-14T16:59:17.913Z"
   },
   {
    "duration": 9,
    "start_time": "2022-03-14T16:59:17.940Z"
   },
   {
    "duration": 24,
    "start_time": "2022-03-14T16:59:17.950Z"
   },
   {
    "duration": 20,
    "start_time": "2022-03-14T16:59:17.976Z"
   },
   {
    "duration": 18,
    "start_time": "2022-03-14T16:59:17.997Z"
   },
   {
    "duration": 15,
    "start_time": "2022-03-14T16:59:18.017Z"
   },
   {
    "duration": 9,
    "start_time": "2022-03-14T16:59:18.033Z"
   },
   {
    "duration": 16,
    "start_time": "2022-03-14T16:59:18.044Z"
   },
   {
    "duration": 14,
    "start_time": "2022-03-14T16:59:18.062Z"
   },
   {
    "duration": 8,
    "start_time": "2022-03-14T16:59:18.078Z"
   },
   {
    "duration": 16,
    "start_time": "2022-03-14T16:59:18.088Z"
   },
   {
    "duration": 20,
    "start_time": "2022-03-14T16:59:18.105Z"
   },
   {
    "duration": 29,
    "start_time": "2022-03-14T16:59:18.127Z"
   },
   {
    "duration": 23,
    "start_time": "2022-03-14T16:59:18.158Z"
   },
   {
    "duration": 26,
    "start_time": "2022-03-14T16:59:18.182Z"
   },
   {
    "duration": 11,
    "start_time": "2022-03-14T16:59:18.209Z"
   },
   {
    "duration": 16,
    "start_time": "2022-03-14T16:59:18.222Z"
   },
   {
    "duration": 17,
    "start_time": "2022-03-14T16:59:18.240Z"
   },
   {
    "duration": 10,
    "start_time": "2022-03-14T16:59:18.259Z"
   },
   {
    "duration": 12,
    "start_time": "2022-03-14T16:59:18.271Z"
   },
   {
    "duration": 21,
    "start_time": "2022-03-14T16:59:18.285Z"
   },
   {
    "duration": 26,
    "start_time": "2022-03-14T16:59:18.308Z"
   },
   {
    "duration": 21,
    "start_time": "2022-03-14T16:59:18.335Z"
   },
   {
    "duration": 14,
    "start_time": "2022-03-14T16:59:18.358Z"
   },
   {
    "duration": 1138,
    "start_time": "2022-03-14T16:59:18.373Z"
   },
   {
    "duration": 807,
    "start_time": "2022-03-14T16:59:18.706Z"
   },
   {
    "duration": 806,
    "start_time": "2022-03-14T16:59:18.708Z"
   },
   {
    "duration": 804,
    "start_time": "2022-03-14T16:59:18.711Z"
   },
   {
    "duration": 804,
    "start_time": "2022-03-14T16:59:18.712Z"
   },
   {
    "duration": 803,
    "start_time": "2022-03-14T16:59:18.715Z"
   },
   {
    "duration": 802,
    "start_time": "2022-03-14T16:59:18.716Z"
   },
   {
    "duration": 16,
    "start_time": "2022-03-14T16:59:38.196Z"
   },
   {
    "duration": 18,
    "start_time": "2022-03-14T16:59:39.827Z"
   },
   {
    "duration": 24,
    "start_time": "2022-03-14T16:59:42.122Z"
   },
   {
    "duration": 23,
    "start_time": "2022-03-14T17:00:21.625Z"
   },
   {
    "duration": 20,
    "start_time": "2022-03-14T17:03:51.099Z"
   },
   {
    "duration": 22,
    "start_time": "2022-03-14T17:05:49.133Z"
   },
   {
    "duration": 19,
    "start_time": "2022-03-14T17:07:56.843Z"
   },
   {
    "duration": 684,
    "start_time": "2022-03-14T17:38:28.827Z"
   },
   {
    "duration": 10,
    "start_time": "2022-03-14T17:38:29.513Z"
   },
   {
    "duration": 9,
    "start_time": "2022-03-14T17:38:29.527Z"
   },
   {
    "duration": 29,
    "start_time": "2022-03-14T17:38:29.537Z"
   },
   {
    "duration": 9,
    "start_time": "2022-03-14T17:38:29.568Z"
   },
   {
    "duration": 57,
    "start_time": "2022-03-14T17:38:29.579Z"
   },
   {
    "duration": 27,
    "start_time": "2022-03-14T17:38:29.638Z"
   },
   {
    "duration": 4,
    "start_time": "2022-03-14T17:38:29.667Z"
   },
   {
    "duration": 8,
    "start_time": "2022-03-14T17:38:29.673Z"
   },
   {
    "duration": 5,
    "start_time": "2022-03-14T17:38:29.683Z"
   },
   {
    "duration": 6,
    "start_time": "2022-03-14T17:38:29.690Z"
   },
   {
    "duration": 5,
    "start_time": "2022-03-14T17:38:29.697Z"
   },
   {
    "duration": 11,
    "start_time": "2022-03-14T17:38:29.703Z"
   },
   {
    "duration": 12,
    "start_time": "2022-03-14T17:38:29.716Z"
   },
   {
    "duration": 6,
    "start_time": "2022-03-14T17:38:29.729Z"
   },
   {
    "duration": 31,
    "start_time": "2022-03-14T17:38:29.736Z"
   },
   {
    "duration": 10,
    "start_time": "2022-03-14T17:38:29.768Z"
   },
   {
    "duration": 8,
    "start_time": "2022-03-14T17:38:29.779Z"
   },
   {
    "duration": 6,
    "start_time": "2022-03-14T17:38:29.788Z"
   },
   {
    "duration": 4,
    "start_time": "2022-03-14T17:38:29.796Z"
   },
   {
    "duration": 10,
    "start_time": "2022-03-14T17:38:29.802Z"
   },
   {
    "duration": 4,
    "start_time": "2022-03-14T17:38:29.816Z"
   },
   {
    "duration": 40,
    "start_time": "2022-03-14T17:38:29.823Z"
   },
   {
    "duration": 5,
    "start_time": "2022-03-14T17:38:29.865Z"
   },
   {
    "duration": 5,
    "start_time": "2022-03-14T17:38:29.872Z"
   },
   {
    "duration": 6,
    "start_time": "2022-03-14T17:38:29.878Z"
   },
   {
    "duration": 18,
    "start_time": "2022-03-14T17:38:29.886Z"
   },
   {
    "duration": 58,
    "start_time": "2022-03-14T17:38:29.906Z"
   },
   {
    "duration": 4,
    "start_time": "2022-03-14T17:38:29.966Z"
   },
   {
    "duration": 16,
    "start_time": "2022-03-14T17:38:29.972Z"
   },
   {
    "duration": 10,
    "start_time": "2022-03-14T17:38:29.989Z"
   },
   {
    "duration": 20,
    "start_time": "2022-03-14T17:38:30.000Z"
   },
   {
    "duration": 4,
    "start_time": "2022-03-14T17:38:30.022Z"
   },
   {
    "duration": 6,
    "start_time": "2022-03-14T17:38:30.027Z"
   },
   {
    "duration": 27,
    "start_time": "2022-03-14T17:38:30.035Z"
   },
   {
    "duration": 3,
    "start_time": "2022-03-14T17:38:30.064Z"
   },
   {
    "duration": 32,
    "start_time": "2022-03-14T17:38:30.068Z"
   },
   {
    "duration": 18,
    "start_time": "2022-03-14T17:38:30.102Z"
   },
   {
    "duration": 14,
    "start_time": "2022-03-14T17:38:30.121Z"
   },
   {
    "duration": 31,
    "start_time": "2022-03-14T17:38:30.136Z"
   },
   {
    "duration": 26,
    "start_time": "2022-03-14T17:38:30.169Z"
   },
   {
    "duration": 9,
    "start_time": "2022-03-14T17:38:30.196Z"
   },
   {
    "duration": 36,
    "start_time": "2022-03-14T17:38:30.207Z"
   },
   {
    "duration": 24,
    "start_time": "2022-03-14T17:38:30.245Z"
   },
   {
    "duration": 9,
    "start_time": "2022-03-14T17:38:30.271Z"
   },
   {
    "duration": 28,
    "start_time": "2022-03-14T17:38:30.282Z"
   },
   {
    "duration": 33,
    "start_time": "2022-03-14T17:38:30.312Z"
   },
   {
    "duration": 15,
    "start_time": "2022-03-14T17:38:30.347Z"
   },
   {
    "duration": 32,
    "start_time": "2022-03-14T17:38:30.363Z"
   },
   {
    "duration": 10,
    "start_time": "2022-03-14T17:38:30.397Z"
   },
   {
    "duration": 21,
    "start_time": "2022-03-14T17:38:30.409Z"
   },
   {
    "duration": 30,
    "start_time": "2022-03-14T17:38:30.432Z"
   },
   {
    "duration": 24,
    "start_time": "2022-03-14T17:38:30.464Z"
   },
   {
    "duration": 19,
    "start_time": "2022-03-14T17:38:30.490Z"
   },
   {
    "duration": 14,
    "start_time": "2022-03-14T17:38:30.511Z"
   },
   {
    "duration": 8,
    "start_time": "2022-03-14T17:38:30.527Z"
   },
   {
    "duration": 913,
    "start_time": "2022-03-14T17:38:30.536Z"
   },
   {
    "duration": 762,
    "start_time": "2022-03-14T17:38:30.689Z"
   },
   {
    "duration": 760,
    "start_time": "2022-03-14T17:38:30.692Z"
   },
   {
    "duration": 760,
    "start_time": "2022-03-14T17:38:30.694Z"
   },
   {
    "duration": 759,
    "start_time": "2022-03-14T17:38:30.696Z"
   },
   {
    "duration": 758,
    "start_time": "2022-03-14T17:38:30.697Z"
   },
   {
    "duration": 756,
    "start_time": "2022-03-14T17:38:30.700Z"
   },
   {
    "duration": 872,
    "start_time": "2022-03-14T17:39:42.983Z"
   },
   {
    "duration": 959,
    "start_time": "2022-03-14T17:40:27.409Z"
   },
   {
    "duration": 633,
    "start_time": "2022-03-14T17:40:41.275Z"
   },
   {
    "duration": 696,
    "start_time": "2022-03-14T17:51:31.699Z"
   },
   {
    "duration": 13,
    "start_time": "2022-03-14T17:51:32.397Z"
   },
   {
    "duration": 12,
    "start_time": "2022-03-14T17:51:32.414Z"
   },
   {
    "duration": 5,
    "start_time": "2022-03-14T17:51:32.427Z"
   },
   {
    "duration": 32,
    "start_time": "2022-03-14T17:51:32.434Z"
   },
   {
    "duration": 60,
    "start_time": "2022-03-14T17:51:32.468Z"
   },
   {
    "duration": 6,
    "start_time": "2022-03-14T17:51:32.530Z"
   },
   {
    "duration": 26,
    "start_time": "2022-03-14T17:51:32.538Z"
   },
   {
    "duration": 9,
    "start_time": "2022-03-14T17:51:32.566Z"
   },
   {
    "duration": 7,
    "start_time": "2022-03-14T17:51:32.576Z"
   },
   {
    "duration": 8,
    "start_time": "2022-03-14T17:51:32.585Z"
   },
   {
    "duration": 6,
    "start_time": "2022-03-14T17:51:32.595Z"
   },
   {
    "duration": 8,
    "start_time": "2022-03-14T17:51:32.602Z"
   },
   {
    "duration": 7,
    "start_time": "2022-03-14T17:51:32.612Z"
   },
   {
    "duration": 5,
    "start_time": "2022-03-14T17:51:32.621Z"
   },
   {
    "duration": 36,
    "start_time": "2022-03-14T17:51:32.628Z"
   },
   {
    "duration": 5,
    "start_time": "2022-03-14T17:51:32.666Z"
   },
   {
    "duration": 9,
    "start_time": "2022-03-14T17:51:32.673Z"
   },
   {
    "duration": 7,
    "start_time": "2022-03-14T17:51:32.684Z"
   },
   {
    "duration": 4,
    "start_time": "2022-03-14T17:51:32.693Z"
   },
   {
    "duration": 7,
    "start_time": "2022-03-14T17:51:32.699Z"
   },
   {
    "duration": 4,
    "start_time": "2022-03-14T17:51:32.710Z"
   },
   {
    "duration": 3,
    "start_time": "2022-03-14T17:51:32.716Z"
   },
   {
    "duration": 42,
    "start_time": "2022-03-14T17:51:32.721Z"
   },
   {
    "duration": 4,
    "start_time": "2022-03-14T17:51:32.764Z"
   },
   {
    "duration": 6,
    "start_time": "2022-03-14T17:51:32.769Z"
   },
   {
    "duration": 18,
    "start_time": "2022-03-14T17:51:32.776Z"
   },
   {
    "duration": 30,
    "start_time": "2022-03-14T17:51:32.796Z"
   },
   {
    "duration": 4,
    "start_time": "2022-03-14T17:51:32.828Z"
   },
   {
    "duration": 37,
    "start_time": "2022-03-14T17:51:32.834Z"
   },
   {
    "duration": 13,
    "start_time": "2022-03-14T17:51:32.873Z"
   },
   {
    "duration": 19,
    "start_time": "2022-03-14T17:51:32.888Z"
   },
   {
    "duration": 3,
    "start_time": "2022-03-14T17:51:32.909Z"
   },
   {
    "duration": 9,
    "start_time": "2022-03-14T17:51:32.914Z"
   },
   {
    "duration": 5,
    "start_time": "2022-03-14T17:51:32.924Z"
   },
   {
    "duration": 4,
    "start_time": "2022-03-14T17:51:32.931Z"
   },
   {
    "duration": 7,
    "start_time": "2022-03-14T17:51:32.937Z"
   },
   {
    "duration": 18,
    "start_time": "2022-03-14T17:51:32.946Z"
   },
   {
    "duration": 6,
    "start_time": "2022-03-14T17:51:32.966Z"
   },
   {
    "duration": 10,
    "start_time": "2022-03-14T17:51:32.974Z"
   },
   {
    "duration": 9,
    "start_time": "2022-03-14T17:51:32.986Z"
   },
   {
    "duration": 6,
    "start_time": "2022-03-14T17:51:32.997Z"
   },
   {
    "duration": 14,
    "start_time": "2022-03-14T17:51:33.005Z"
   },
   {
    "duration": 10,
    "start_time": "2022-03-14T17:51:33.021Z"
   },
   {
    "duration": 31,
    "start_time": "2022-03-14T17:51:33.033Z"
   },
   {
    "duration": 20,
    "start_time": "2022-03-14T17:51:33.066Z"
   },
   {
    "duration": 12,
    "start_time": "2022-03-14T17:51:33.088Z"
   },
   {
    "duration": 15,
    "start_time": "2022-03-14T17:51:33.101Z"
   },
   {
    "duration": 19,
    "start_time": "2022-03-14T17:51:33.118Z"
   },
   {
    "duration": 32,
    "start_time": "2022-03-14T17:51:33.139Z"
   },
   {
    "duration": 9,
    "start_time": "2022-03-14T17:51:33.173Z"
   },
   {
    "duration": 20,
    "start_time": "2022-03-14T17:51:33.183Z"
   },
   {
    "duration": 17,
    "start_time": "2022-03-14T17:51:33.205Z"
   },
   {
    "duration": 40,
    "start_time": "2022-03-14T17:51:33.224Z"
   },
   {
    "duration": 14,
    "start_time": "2022-03-14T17:51:33.266Z"
   },
   {
    "duration": 453,
    "start_time": "2022-03-14T17:51:33.282Z"
   },
   {
    "duration": 759,
    "start_time": "2022-03-14T17:51:32.978Z"
   },
   {
    "duration": 754,
    "start_time": "2022-03-14T17:51:32.985Z"
   },
   {
    "duration": 754,
    "start_time": "2022-03-14T17:51:32.986Z"
   },
   {
    "duration": 13,
    "start_time": "2022-03-14T17:52:45.980Z"
   },
   {
    "duration": 274,
    "start_time": "2022-03-14T17:53:02.205Z"
   },
   {
    "duration": 406,
    "start_time": "2022-03-14T17:53:22.170Z"
   },
   {
    "duration": 193,
    "start_time": "2022-03-14T17:53:56.680Z"
   },
   {
    "duration": 736,
    "start_time": "2022-03-14T17:54:23.363Z"
   },
   {
    "duration": 11,
    "start_time": "2022-03-14T17:54:24.101Z"
   },
   {
    "duration": 9,
    "start_time": "2022-03-14T17:54:24.114Z"
   },
   {
    "duration": 6,
    "start_time": "2022-03-14T17:54:24.124Z"
   },
   {
    "duration": 7,
    "start_time": "2022-03-14T17:54:24.131Z"
   },
   {
    "duration": 72,
    "start_time": "2022-03-14T17:54:24.140Z"
   },
   {
    "duration": 6,
    "start_time": "2022-03-14T17:54:24.214Z"
   },
   {
    "duration": 5,
    "start_time": "2022-03-14T17:54:24.222Z"
   },
   {
    "duration": 4,
    "start_time": "2022-03-14T17:54:24.229Z"
   },
   {
    "duration": 29,
    "start_time": "2022-03-14T17:54:24.235Z"
   },
   {
    "duration": 6,
    "start_time": "2022-03-14T17:54:24.266Z"
   },
   {
    "duration": 7,
    "start_time": "2022-03-14T17:54:24.274Z"
   },
   {
    "duration": 6,
    "start_time": "2022-03-14T17:54:24.283Z"
   },
   {
    "duration": 8,
    "start_time": "2022-03-14T17:54:24.291Z"
   },
   {
    "duration": 5,
    "start_time": "2022-03-14T17:54:24.301Z"
   },
   {
    "duration": 5,
    "start_time": "2022-03-14T17:54:24.308Z"
   },
   {
    "duration": 8,
    "start_time": "2022-03-14T17:54:24.315Z"
   },
   {
    "duration": 7,
    "start_time": "2022-03-14T17:54:24.325Z"
   },
   {
    "duration": 35,
    "start_time": "2022-03-14T17:54:24.334Z"
   },
   {
    "duration": 7,
    "start_time": "2022-03-14T17:54:24.370Z"
   },
   {
    "duration": 6,
    "start_time": "2022-03-14T17:54:24.379Z"
   },
   {
    "duration": 5,
    "start_time": "2022-03-14T17:54:24.387Z"
   },
   {
    "duration": 4,
    "start_time": "2022-03-14T17:54:24.396Z"
   },
   {
    "duration": 5,
    "start_time": "2022-03-14T17:54:24.402Z"
   },
   {
    "duration": 5,
    "start_time": "2022-03-14T17:54:24.409Z"
   },
   {
    "duration": 6,
    "start_time": "2022-03-14T17:54:24.415Z"
   },
   {
    "duration": 53,
    "start_time": "2022-03-14T17:54:24.422Z"
   },
   {
    "duration": 31,
    "start_time": "2022-03-14T17:54:24.477Z"
   },
   {
    "duration": 4,
    "start_time": "2022-03-14T17:54:24.510Z"
   },
   {
    "duration": 12,
    "start_time": "2022-03-14T17:54:24.515Z"
   },
   {
    "duration": 7,
    "start_time": "2022-03-14T17:54:24.529Z"
   },
   {
    "duration": 18,
    "start_time": "2022-03-14T17:54:24.563Z"
   },
   {
    "duration": 3,
    "start_time": "2022-03-14T17:54:24.583Z"
   },
   {
    "duration": 7,
    "start_time": "2022-03-14T17:54:24.588Z"
   },
   {
    "duration": 4,
    "start_time": "2022-03-14T17:54:24.597Z"
   },
   {
    "duration": 5,
    "start_time": "2022-03-14T17:54:24.603Z"
   },
   {
    "duration": 9,
    "start_time": "2022-03-14T17:54:24.609Z"
   },
   {
    "duration": 12,
    "start_time": "2022-03-14T17:54:24.619Z"
   },
   {
    "duration": 15,
    "start_time": "2022-03-14T17:54:24.632Z"
   },
   {
    "duration": 10,
    "start_time": "2022-03-14T17:54:24.648Z"
   },
   {
    "duration": 9,
    "start_time": "2022-03-14T17:54:24.659Z"
   },
   {
    "duration": 4,
    "start_time": "2022-03-14T17:54:24.670Z"
   },
   {
    "duration": 12,
    "start_time": "2022-03-14T17:54:24.676Z"
   },
   {
    "duration": 11,
    "start_time": "2022-03-14T17:54:24.690Z"
   },
   {
    "duration": 6,
    "start_time": "2022-03-14T17:54:24.703Z"
   },
   {
    "duration": 16,
    "start_time": "2022-03-14T17:54:24.711Z"
   },
   {
    "duration": 42,
    "start_time": "2022-03-14T17:54:24.728Z"
   },
   {
    "duration": 13,
    "start_time": "2022-03-14T17:54:24.772Z"
   },
   {
    "duration": 19,
    "start_time": "2022-03-14T17:54:24.787Z"
   },
   {
    "duration": 10,
    "start_time": "2022-03-14T17:54:24.807Z"
   },
   {
    "duration": 9,
    "start_time": "2022-03-14T17:54:24.818Z"
   },
   {
    "duration": 44,
    "start_time": "2022-03-14T17:54:24.828Z"
   },
   {
    "duration": 18,
    "start_time": "2022-03-14T17:54:24.873Z"
   },
   {
    "duration": 16,
    "start_time": "2022-03-14T17:54:24.893Z"
   },
   {
    "duration": 478,
    "start_time": "2022-03-14T17:54:24.911Z"
   },
   {
    "duration": 746,
    "start_time": "2022-03-14T17:54:24.646Z"
   },
   {
    "duration": 744,
    "start_time": "2022-03-14T17:54:24.649Z"
   },
   {
    "duration": 744,
    "start_time": "2022-03-14T17:54:24.651Z"
   },
   {
    "duration": 19,
    "start_time": "2022-03-14T17:54:35.628Z"
   },
   {
    "duration": 17,
    "start_time": "2022-03-14T17:55:19.057Z"
   },
   {
    "duration": 17,
    "start_time": "2022-03-14T17:55:20.520Z"
   },
   {
    "duration": 232,
    "start_time": "2022-03-14T17:57:58.903Z"
   },
   {
    "duration": 323,
    "start_time": "2022-03-14T17:58:14.418Z"
   },
   {
    "duration": 255,
    "start_time": "2022-03-14T17:58:28.738Z"
   },
   {
    "duration": 228,
    "start_time": "2022-03-14T17:58:55.248Z"
   },
   {
    "duration": 222,
    "start_time": "2022-03-14T18:01:54.736Z"
   },
   {
    "duration": 637,
    "start_time": "2022-03-14T18:02:17.460Z"
   },
   {
    "duration": 11,
    "start_time": "2022-03-14T18:02:18.099Z"
   },
   {
    "duration": 12,
    "start_time": "2022-03-14T18:02:18.112Z"
   },
   {
    "duration": 5,
    "start_time": "2022-03-14T18:02:18.126Z"
   },
   {
    "duration": 7,
    "start_time": "2022-03-14T18:02:18.133Z"
   },
   {
    "duration": 81,
    "start_time": "2022-03-14T18:02:18.141Z"
   },
   {
    "duration": 7,
    "start_time": "2022-03-14T18:02:18.224Z"
   },
   {
    "duration": 4,
    "start_time": "2022-03-14T18:02:18.234Z"
   },
   {
    "duration": 26,
    "start_time": "2022-03-14T18:02:18.240Z"
   },
   {
    "duration": 7,
    "start_time": "2022-03-14T18:02:18.268Z"
   },
   {
    "duration": 7,
    "start_time": "2022-03-14T18:02:18.276Z"
   },
   {
    "duration": 7,
    "start_time": "2022-03-14T18:02:18.285Z"
   },
   {
    "duration": 9,
    "start_time": "2022-03-14T18:02:18.294Z"
   },
   {
    "duration": 6,
    "start_time": "2022-03-14T18:02:18.305Z"
   },
   {
    "duration": 4,
    "start_time": "2022-03-14T18:02:18.313Z"
   },
   {
    "duration": 6,
    "start_time": "2022-03-14T18:02:18.319Z"
   },
   {
    "duration": 45,
    "start_time": "2022-03-14T18:02:18.326Z"
   },
   {
    "duration": 8,
    "start_time": "2022-03-14T18:02:18.373Z"
   },
   {
    "duration": 5,
    "start_time": "2022-03-14T18:02:18.383Z"
   },
   {
    "duration": 4,
    "start_time": "2022-03-14T18:02:18.390Z"
   },
   {
    "duration": 7,
    "start_time": "2022-03-14T18:02:18.396Z"
   },
   {
    "duration": 5,
    "start_time": "2022-03-14T18:02:18.405Z"
   },
   {
    "duration": 4,
    "start_time": "2022-03-14T18:02:18.414Z"
   },
   {
    "duration": 9,
    "start_time": "2022-03-14T18:02:18.420Z"
   },
   {
    "duration": 39,
    "start_time": "2022-03-14T18:02:18.431Z"
   },
   {
    "duration": 7,
    "start_time": "2022-03-14T18:02:18.472Z"
   },
   {
    "duration": 21,
    "start_time": "2022-03-14T18:02:18.480Z"
   },
   {
    "duration": 31,
    "start_time": "2022-03-14T18:02:18.503Z"
   },
   {
    "duration": 5,
    "start_time": "2022-03-14T18:02:18.536Z"
   },
   {
    "duration": 30,
    "start_time": "2022-03-14T18:02:18.542Z"
   },
   {
    "duration": 10,
    "start_time": "2022-03-14T18:02:18.574Z"
   },
   {
    "duration": 23,
    "start_time": "2022-03-14T18:02:18.585Z"
   },
   {
    "duration": 3,
    "start_time": "2022-03-14T18:02:18.610Z"
   },
   {
    "duration": 5,
    "start_time": "2022-03-14T18:02:18.614Z"
   },
   {
    "duration": 5,
    "start_time": "2022-03-14T18:02:18.620Z"
   },
   {
    "duration": 5,
    "start_time": "2022-03-14T18:02:18.626Z"
   },
   {
    "duration": 7,
    "start_time": "2022-03-14T18:02:18.632Z"
   },
   {
    "duration": 24,
    "start_time": "2022-03-14T18:02:18.640Z"
   },
   {
    "duration": 5,
    "start_time": "2022-03-14T18:02:18.665Z"
   },
   {
    "duration": 10,
    "start_time": "2022-03-14T18:02:18.671Z"
   },
   {
    "duration": 8,
    "start_time": "2022-03-14T18:02:18.683Z"
   },
   {
    "duration": 5,
    "start_time": "2022-03-14T18:02:18.693Z"
   },
   {
    "duration": 22,
    "start_time": "2022-03-14T18:02:18.700Z"
   },
   {
    "duration": 13,
    "start_time": "2022-03-14T18:02:18.724Z"
   },
   {
    "duration": 26,
    "start_time": "2022-03-14T18:02:18.739Z"
   },
   {
    "duration": 13,
    "start_time": "2022-03-14T18:02:18.767Z"
   },
   {
    "duration": 11,
    "start_time": "2022-03-14T18:02:18.781Z"
   },
   {
    "duration": 12,
    "start_time": "2022-03-14T18:02:18.794Z"
   },
   {
    "duration": 18,
    "start_time": "2022-03-14T18:02:18.808Z"
   },
   {
    "duration": 43,
    "start_time": "2022-03-14T18:02:18.827Z"
   },
   {
    "duration": 9,
    "start_time": "2022-03-14T18:02:18.872Z"
   },
   {
    "duration": 19,
    "start_time": "2022-03-14T18:02:18.883Z"
   },
   {
    "duration": 20,
    "start_time": "2022-03-14T18:02:18.904Z"
   },
   {
    "duration": 45,
    "start_time": "2022-03-14T18:02:18.926Z"
   },
   {
    "duration": 20,
    "start_time": "2022-03-14T18:02:18.973Z"
   },
   {
    "duration": 23,
    "start_time": "2022-03-14T18:02:18.995Z"
   },
   {
    "duration": 48,
    "start_time": "2022-03-14T18:02:19.020Z"
   },
   {
    "duration": 25,
    "start_time": "2022-03-14T18:02:19.070Z"
   },
   {
    "duration": 16,
    "start_time": "2022-03-14T18:06:09.156Z"
   },
   {
    "duration": 20,
    "start_time": "2022-03-14T18:07:51.244Z"
   },
   {
    "duration": 19,
    "start_time": "2022-03-14T18:12:56.288Z"
   },
   {
    "duration": 24,
    "start_time": "2022-03-14T18:13:09.482Z"
   },
   {
    "duration": 4249,
    "start_time": "2022-03-14T18:14:09.955Z"
   },
   {
    "duration": 4239,
    "start_time": "2022-03-14T18:14:37.267Z"
   },
   {
    "duration": 4455,
    "start_time": "2022-03-14T18:15:02.907Z"
   },
   {
    "duration": 4333,
    "start_time": "2022-03-14T18:17:20.957Z"
   },
   {
    "duration": 25,
    "start_time": "2022-03-14T18:17:37.386Z"
   },
   {
    "duration": 22,
    "start_time": "2022-03-14T18:19:21.872Z"
   },
   {
    "duration": 719,
    "start_time": "2022-03-14T18:21:05.447Z"
   },
   {
    "duration": 14,
    "start_time": "2022-03-14T18:21:06.168Z"
   },
   {
    "duration": 13,
    "start_time": "2022-03-14T18:21:06.187Z"
   },
   {
    "duration": 5,
    "start_time": "2022-03-14T18:21:06.201Z"
   },
   {
    "duration": 9,
    "start_time": "2022-03-14T18:21:06.207Z"
   },
   {
    "duration": 98,
    "start_time": "2022-03-14T18:21:06.218Z"
   },
   {
    "duration": 5,
    "start_time": "2022-03-14T18:21:06.319Z"
   },
   {
    "duration": 9,
    "start_time": "2022-03-14T18:21:06.326Z"
   },
   {
    "duration": 10,
    "start_time": "2022-03-14T18:21:06.336Z"
   },
   {
    "duration": 17,
    "start_time": "2022-03-14T18:21:06.347Z"
   },
   {
    "duration": 12,
    "start_time": "2022-03-14T18:21:06.366Z"
   },
   {
    "duration": 5,
    "start_time": "2022-03-14T18:21:06.380Z"
   },
   {
    "duration": 18,
    "start_time": "2022-03-14T18:21:06.387Z"
   },
   {
    "duration": 7,
    "start_time": "2022-03-14T18:21:06.407Z"
   },
   {
    "duration": 5,
    "start_time": "2022-03-14T18:21:06.416Z"
   },
   {
    "duration": 5,
    "start_time": "2022-03-14T18:21:06.423Z"
   },
   {
    "duration": 36,
    "start_time": "2022-03-14T18:21:06.429Z"
   },
   {
    "duration": 8,
    "start_time": "2022-03-14T18:21:06.467Z"
   },
   {
    "duration": 10,
    "start_time": "2022-03-14T18:21:06.477Z"
   },
   {
    "duration": 5,
    "start_time": "2022-03-14T18:21:06.489Z"
   },
   {
    "duration": 10,
    "start_time": "2022-03-14T18:21:06.496Z"
   },
   {
    "duration": 6,
    "start_time": "2022-03-14T18:21:06.509Z"
   },
   {
    "duration": 4,
    "start_time": "2022-03-14T18:21:06.517Z"
   },
   {
    "duration": 8,
    "start_time": "2022-03-14T18:21:06.522Z"
   },
   {
    "duration": 33,
    "start_time": "2022-03-14T18:21:06.532Z"
   },
   {
    "duration": 7,
    "start_time": "2022-03-14T18:21:06.567Z"
   },
   {
    "duration": 18,
    "start_time": "2022-03-14T18:21:06.575Z"
   },
   {
    "duration": 30,
    "start_time": "2022-03-14T18:21:06.595Z"
   },
   {
    "duration": 5,
    "start_time": "2022-03-14T18:21:06.626Z"
   },
   {
    "duration": 40,
    "start_time": "2022-03-14T18:21:06.632Z"
   },
   {
    "duration": 15,
    "start_time": "2022-03-14T18:21:06.674Z"
   },
   {
    "duration": 17,
    "start_time": "2022-03-14T18:21:06.691Z"
   },
   {
    "duration": 3,
    "start_time": "2022-03-14T18:21:06.710Z"
   },
   {
    "duration": 7,
    "start_time": "2022-03-14T18:21:06.714Z"
   },
   {
    "duration": 5,
    "start_time": "2022-03-14T18:21:06.722Z"
   },
   {
    "duration": 4,
    "start_time": "2022-03-14T18:21:06.729Z"
   },
   {
    "duration": 6,
    "start_time": "2022-03-14T18:21:06.735Z"
   },
   {
    "duration": 20,
    "start_time": "2022-03-14T18:21:06.743Z"
   },
   {
    "duration": 3,
    "start_time": "2022-03-14T18:21:06.765Z"
   },
   {
    "duration": 12,
    "start_time": "2022-03-14T18:21:06.770Z"
   },
   {
    "duration": 12,
    "start_time": "2022-03-14T18:21:06.784Z"
   },
   {
    "duration": 7,
    "start_time": "2022-03-14T18:21:06.798Z"
   },
   {
    "duration": 18,
    "start_time": "2022-03-14T18:21:06.807Z"
   },
   {
    "duration": 11,
    "start_time": "2022-03-14T18:21:06.827Z"
   },
   {
    "duration": 24,
    "start_time": "2022-03-14T18:21:06.840Z"
   },
   {
    "duration": 12,
    "start_time": "2022-03-14T18:21:06.866Z"
   },
   {
    "duration": 15,
    "start_time": "2022-03-14T18:21:06.880Z"
   },
   {
    "duration": 13,
    "start_time": "2022-03-14T18:21:06.897Z"
   },
   {
    "duration": 54,
    "start_time": "2022-03-14T18:21:06.912Z"
   },
   {
    "duration": 11,
    "start_time": "2022-03-14T18:21:06.968Z"
   },
   {
    "duration": 10,
    "start_time": "2022-03-14T18:21:06.981Z"
   },
   {
    "duration": 19,
    "start_time": "2022-03-14T18:21:06.993Z"
   },
   {
    "duration": 23,
    "start_time": "2022-03-14T18:21:07.014Z"
   },
   {
    "duration": 18,
    "start_time": "2022-03-14T18:21:07.064Z"
   },
   {
    "duration": 18,
    "start_time": "2022-03-14T18:21:07.084Z"
   },
   {
    "duration": 19,
    "start_time": "2022-03-14T18:21:07.103Z"
   },
   {
    "duration": 52,
    "start_time": "2022-03-14T18:21:07.124Z"
   },
   {
    "duration": 618,
    "start_time": "2022-03-25T05:54:01.089Z"
   },
   {
    "duration": 34,
    "start_time": "2022-03-25T05:54:01.709Z"
   },
   {
    "duration": 13,
    "start_time": "2022-03-25T05:54:01.745Z"
   },
   {
    "duration": 5,
    "start_time": "2022-03-25T05:54:01.761Z"
   },
   {
    "duration": 10,
    "start_time": "2022-03-25T05:54:01.768Z"
   },
   {
    "duration": 25,
    "start_time": "2022-03-25T05:54:01.780Z"
   },
   {
    "duration": 9,
    "start_time": "2022-03-25T05:54:01.843Z"
   },
   {
    "duration": 9,
    "start_time": "2022-03-25T05:54:01.854Z"
   },
   {
    "duration": 8,
    "start_time": "2022-03-25T05:54:01.865Z"
   },
   {
    "duration": 7,
    "start_time": "2022-03-25T05:54:01.879Z"
   },
   {
    "duration": 10,
    "start_time": "2022-03-25T05:54:01.889Z"
   },
   {
    "duration": 45,
    "start_time": "2022-03-25T05:54:01.901Z"
   },
   {
    "duration": 15,
    "start_time": "2022-03-25T05:54:01.948Z"
   },
   {
    "duration": 12,
    "start_time": "2022-03-25T05:54:01.965Z"
   },
   {
    "duration": 9,
    "start_time": "2022-03-25T05:54:01.979Z"
   },
   {
    "duration": 22,
    "start_time": "2022-03-25T05:54:01.991Z"
   },
   {
    "duration": 31,
    "start_time": "2022-03-25T05:54:02.016Z"
   },
   {
    "duration": 15,
    "start_time": "2022-03-25T05:54:02.049Z"
   },
   {
    "duration": 10,
    "start_time": "2022-03-25T05:54:02.067Z"
   },
   {
    "duration": 7,
    "start_time": "2022-03-25T05:54:02.079Z"
   },
   {
    "duration": 11,
    "start_time": "2022-03-25T05:54:02.089Z"
   },
   {
    "duration": 7,
    "start_time": "2022-03-25T05:54:02.102Z"
   },
   {
    "duration": 145,
    "start_time": "2022-03-25T05:54:02.111Z"
   },
   {
    "duration": 0,
    "start_time": "2022-03-25T05:54:02.259Z"
   },
   {
    "duration": 0,
    "start_time": "2022-03-25T05:54:02.261Z"
   },
   {
    "duration": 0,
    "start_time": "2022-03-25T05:54:02.262Z"
   },
   {
    "duration": 0,
    "start_time": "2022-03-25T05:54:02.264Z"
   },
   {
    "duration": 0,
    "start_time": "2022-03-25T05:54:02.266Z"
   },
   {
    "duration": 0,
    "start_time": "2022-03-25T05:54:02.267Z"
   },
   {
    "duration": 0,
    "start_time": "2022-03-25T05:54:02.269Z"
   },
   {
    "duration": 0,
    "start_time": "2022-03-25T05:54:02.270Z"
   },
   {
    "duration": 0,
    "start_time": "2022-03-25T05:54:02.272Z"
   },
   {
    "duration": 0,
    "start_time": "2022-03-25T05:54:02.273Z"
   },
   {
    "duration": 0,
    "start_time": "2022-03-25T05:54:02.275Z"
   },
   {
    "duration": 0,
    "start_time": "2022-03-25T05:54:02.276Z"
   },
   {
    "duration": 0,
    "start_time": "2022-03-25T05:54:02.277Z"
   },
   {
    "duration": 1,
    "start_time": "2022-03-25T05:54:02.278Z"
   },
   {
    "duration": 0,
    "start_time": "2022-03-25T05:54:02.280Z"
   },
   {
    "duration": 0,
    "start_time": "2022-03-25T05:54:02.282Z"
   },
   {
    "duration": 0,
    "start_time": "2022-03-25T05:54:02.284Z"
   },
   {
    "duration": 0,
    "start_time": "2022-03-25T05:54:02.285Z"
   },
   {
    "duration": 0,
    "start_time": "2022-03-25T05:54:02.286Z"
   },
   {
    "duration": 0,
    "start_time": "2022-03-25T05:54:02.288Z"
   },
   {
    "duration": 0,
    "start_time": "2022-03-25T05:54:02.289Z"
   },
   {
    "duration": 0,
    "start_time": "2022-03-25T05:54:02.290Z"
   },
   {
    "duration": 0,
    "start_time": "2022-03-25T05:54:02.292Z"
   },
   {
    "duration": 0,
    "start_time": "2022-03-25T05:54:02.343Z"
   },
   {
    "duration": 0,
    "start_time": "2022-03-25T05:54:02.345Z"
   },
   {
    "duration": 0,
    "start_time": "2022-03-25T05:54:02.346Z"
   },
   {
    "duration": 0,
    "start_time": "2022-03-25T05:54:02.347Z"
   },
   {
    "duration": 0,
    "start_time": "2022-03-25T05:54:02.349Z"
   },
   {
    "duration": 0,
    "start_time": "2022-03-25T05:54:02.350Z"
   },
   {
    "duration": 0,
    "start_time": "2022-03-25T05:54:02.351Z"
   },
   {
    "duration": 0,
    "start_time": "2022-03-25T05:54:02.353Z"
   },
   {
    "duration": 19,
    "start_time": "2022-03-25T06:00:05.899Z"
   },
   {
    "duration": 29,
    "start_time": "2022-03-25T06:00:53.268Z"
   },
   {
    "duration": 16,
    "start_time": "2022-03-25T06:01:07.183Z"
   },
   {
    "duration": 0,
    "start_time": "2022-03-25T06:01:22.682Z"
   },
   {
    "duration": 578,
    "start_time": "2022-03-25T06:01:27.480Z"
   },
   {
    "duration": 21,
    "start_time": "2022-03-25T06:01:28.061Z"
   },
   {
    "duration": 13,
    "start_time": "2022-03-25T06:01:28.084Z"
   },
   {
    "duration": 5,
    "start_time": "2022-03-25T06:01:28.100Z"
   },
   {
    "duration": 11,
    "start_time": "2022-03-25T06:01:28.143Z"
   },
   {
    "duration": 27,
    "start_time": "2022-03-25T06:01:28.156Z"
   },
   {
    "duration": 9,
    "start_time": "2022-03-25T06:01:28.185Z"
   },
   {
    "duration": 7,
    "start_time": "2022-03-25T06:01:28.196Z"
   },
   {
    "duration": 6,
    "start_time": "2022-03-25T06:01:28.243Z"
   },
   {
    "duration": 8,
    "start_time": "2022-03-25T06:01:28.254Z"
   },
   {
    "duration": 11,
    "start_time": "2022-03-25T06:01:28.264Z"
   },
   {
    "duration": 7,
    "start_time": "2022-03-25T06:01:28.277Z"
   },
   {
    "duration": 20,
    "start_time": "2022-03-25T06:01:28.286Z"
   },
   {
    "duration": 6,
    "start_time": "2022-03-25T06:01:28.342Z"
   },
   {
    "duration": 8,
    "start_time": "2022-03-25T06:01:28.350Z"
   },
   {
    "duration": 7,
    "start_time": "2022-03-25T06:01:28.359Z"
   },
   {
    "duration": 9,
    "start_time": "2022-03-25T06:01:28.368Z"
   },
   {
    "duration": 10,
    "start_time": "2022-03-25T06:01:28.378Z"
   },
   {
    "duration": 12,
    "start_time": "2022-03-25T06:01:28.390Z"
   },
   {
    "duration": 44,
    "start_time": "2022-03-25T06:01:28.404Z"
   },
   {
    "duration": 24,
    "start_time": "2022-03-25T06:01:28.450Z"
   },
   {
    "duration": 20,
    "start_time": "2022-03-25T06:01:28.476Z"
   },
   {
    "duration": 2883,
    "start_time": "2022-03-25T06:01:28.499Z"
   },
   {
    "duration": 0,
    "start_time": "2022-03-25T06:01:31.386Z"
   },
   {
    "duration": 0,
    "start_time": "2022-03-25T06:01:31.387Z"
   },
   {
    "duration": 0,
    "start_time": "2022-03-25T06:01:31.389Z"
   },
   {
    "duration": 0,
    "start_time": "2022-03-25T06:01:31.391Z"
   },
   {
    "duration": 0,
    "start_time": "2022-03-25T06:01:31.392Z"
   },
   {
    "duration": 0,
    "start_time": "2022-03-25T06:01:31.394Z"
   },
   {
    "duration": 0,
    "start_time": "2022-03-25T06:01:31.396Z"
   },
   {
    "duration": 0,
    "start_time": "2022-03-25T06:01:31.397Z"
   },
   {
    "duration": 0,
    "start_time": "2022-03-25T06:01:31.399Z"
   },
   {
    "duration": 0,
    "start_time": "2022-03-25T06:01:31.400Z"
   },
   {
    "duration": 0,
    "start_time": "2022-03-25T06:01:31.401Z"
   },
   {
    "duration": 0,
    "start_time": "2022-03-25T06:01:31.403Z"
   },
   {
    "duration": 0,
    "start_time": "2022-03-25T06:01:31.404Z"
   },
   {
    "duration": 0,
    "start_time": "2022-03-25T06:01:31.405Z"
   },
   {
    "duration": 0,
    "start_time": "2022-03-25T06:01:31.407Z"
   },
   {
    "duration": 0,
    "start_time": "2022-03-25T06:01:31.408Z"
   },
   {
    "duration": 0,
    "start_time": "2022-03-25T06:01:31.409Z"
   },
   {
    "duration": 0,
    "start_time": "2022-03-25T06:01:31.410Z"
   },
   {
    "duration": 0,
    "start_time": "2022-03-25T06:01:31.411Z"
   },
   {
    "duration": 0,
    "start_time": "2022-03-25T06:01:31.413Z"
   },
   {
    "duration": 0,
    "start_time": "2022-03-25T06:01:31.414Z"
   },
   {
    "duration": 0,
    "start_time": "2022-03-25T06:01:31.415Z"
   },
   {
    "duration": 0,
    "start_time": "2022-03-25T06:01:31.417Z"
   },
   {
    "duration": 0,
    "start_time": "2022-03-25T06:01:31.418Z"
   },
   {
    "duration": 0,
    "start_time": "2022-03-25T06:01:31.419Z"
   },
   {
    "duration": 0,
    "start_time": "2022-03-25T06:01:31.421Z"
   },
   {
    "duration": 0,
    "start_time": "2022-03-25T06:01:31.443Z"
   },
   {
    "duration": 0,
    "start_time": "2022-03-25T06:01:31.445Z"
   },
   {
    "duration": 0,
    "start_time": "2022-03-25T06:01:31.446Z"
   },
   {
    "duration": 0,
    "start_time": "2022-03-25T06:01:31.448Z"
   },
   {
    "duration": 0,
    "start_time": "2022-03-25T06:01:31.449Z"
   },
   {
    "duration": 24,
    "start_time": "2022-03-25T06:01:49.740Z"
   },
   {
    "duration": 24,
    "start_time": "2022-03-25T06:03:03.360Z"
   },
   {
    "duration": 6,
    "start_time": "2022-03-25T06:03:07.939Z"
   },
   {
    "duration": 6,
    "start_time": "2022-03-25T06:03:09.441Z"
   },
   {
    "duration": 27,
    "start_time": "2022-03-25T06:18:00.058Z"
   },
   {
    "duration": 629,
    "start_time": "2022-03-25T06:18:33.433Z"
   },
   {
    "duration": 22,
    "start_time": "2022-03-25T06:18:34.065Z"
   },
   {
    "duration": 13,
    "start_time": "2022-03-25T06:18:34.089Z"
   },
   {
    "duration": 6,
    "start_time": "2022-03-25T06:18:34.104Z"
   },
   {
    "duration": 8,
    "start_time": "2022-03-25T06:18:34.144Z"
   },
   {
    "duration": 26,
    "start_time": "2022-03-25T06:18:34.155Z"
   },
   {
    "duration": 9,
    "start_time": "2022-03-25T06:18:34.183Z"
   },
   {
    "duration": 6,
    "start_time": "2022-03-25T06:18:34.194Z"
   },
   {
    "duration": 47,
    "start_time": "2022-03-25T06:18:34.202Z"
   },
   {
    "duration": 10,
    "start_time": "2022-03-25T06:18:34.251Z"
   },
   {
    "duration": 10,
    "start_time": "2022-03-25T06:18:34.263Z"
   },
   {
    "duration": 7,
    "start_time": "2022-03-25T06:18:34.275Z"
   },
   {
    "duration": 9,
    "start_time": "2022-03-25T06:18:34.284Z"
   },
   {
    "duration": 4,
    "start_time": "2022-03-25T06:18:34.298Z"
   },
   {
    "duration": 41,
    "start_time": "2022-03-25T06:18:34.305Z"
   },
   {
    "duration": 8,
    "start_time": "2022-03-25T06:18:34.348Z"
   },
   {
    "duration": 7,
    "start_time": "2022-03-25T06:18:34.358Z"
   },
   {
    "duration": 8,
    "start_time": "2022-03-25T06:18:34.367Z"
   },
   {
    "duration": 10,
    "start_time": "2022-03-25T06:18:34.377Z"
   },
   {
    "duration": 54,
    "start_time": "2022-03-25T06:18:34.389Z"
   },
   {
    "duration": 10,
    "start_time": "2022-03-25T06:18:34.445Z"
   },
   {
    "duration": 8,
    "start_time": "2022-03-25T06:18:34.457Z"
   },
   {
    "duration": 27,
    "start_time": "2022-03-25T06:18:34.467Z"
   },
   {
    "duration": 66,
    "start_time": "2022-03-25T06:18:34.496Z"
   },
   {
    "duration": 48,
    "start_time": "2022-03-25T06:18:34.565Z"
   },
   {
    "duration": 7,
    "start_time": "2022-03-25T06:18:34.615Z"
   },
   {
    "duration": 15,
    "start_time": "2022-03-25T06:18:34.643Z"
   },
   {
    "duration": 13,
    "start_time": "2022-03-25T06:18:34.660Z"
   },
   {
    "duration": 23,
    "start_time": "2022-03-25T06:18:34.675Z"
   },
   {
    "duration": 5,
    "start_time": "2022-03-25T06:18:34.700Z"
   },
   {
    "duration": 37,
    "start_time": "2022-03-25T06:18:34.707Z"
   },
   {
    "duration": 8,
    "start_time": "2022-03-25T06:18:34.746Z"
   },
   {
    "duration": 6,
    "start_time": "2022-03-25T06:18:34.757Z"
   },
   {
    "duration": 11,
    "start_time": "2022-03-25T06:18:34.765Z"
   },
   {
    "duration": 9,
    "start_time": "2022-03-25T06:18:34.778Z"
   },
   {
    "duration": 6,
    "start_time": "2022-03-25T06:18:34.789Z"
   },
   {
    "duration": 9,
    "start_time": "2022-03-25T06:18:34.798Z"
   },
   {
    "duration": 39,
    "start_time": "2022-03-25T06:18:34.809Z"
   },
   {
    "duration": 12,
    "start_time": "2022-03-25T06:18:34.850Z"
   },
   {
    "duration": 20,
    "start_time": "2022-03-25T06:18:34.865Z"
   },
   {
    "duration": 11,
    "start_time": "2022-03-25T06:18:34.891Z"
   },
   {
    "duration": 42,
    "start_time": "2022-03-25T06:18:34.904Z"
   },
   {
    "duration": 19,
    "start_time": "2022-03-25T06:18:34.948Z"
   },
   {
    "duration": 22,
    "start_time": "2022-03-25T06:18:34.969Z"
   },
   {
    "duration": 20,
    "start_time": "2022-03-25T06:18:34.993Z"
   },
   {
    "duration": 37,
    "start_time": "2022-03-25T06:18:35.043Z"
   },
   {
    "duration": 25,
    "start_time": "2022-03-25T06:18:35.083Z"
   },
   {
    "duration": 8,
    "start_time": "2022-03-25T06:18:35.111Z"
   },
   {
    "duration": 26,
    "start_time": "2022-03-25T06:18:35.144Z"
   },
   {
    "duration": 25,
    "start_time": "2022-03-25T06:18:35.172Z"
   },
   {
    "duration": 54,
    "start_time": "2022-03-25T06:18:35.199Z"
   },
   {
    "duration": 26,
    "start_time": "2022-03-25T06:18:35.255Z"
   },
   {
    "duration": 60,
    "start_time": "2022-03-25T06:18:35.283Z"
   },
   {
    "duration": 45,
    "start_time": "2022-03-25T06:18:35.346Z"
   },
   {
    "duration": 28,
    "start_time": "2022-03-25T06:32:03.209Z"
   },
   {
    "duration": 25,
    "start_time": "2022-03-25T06:32:13.080Z"
   },
   {
    "duration": 651,
    "start_time": "2022-03-25T06:32:24.218Z"
   },
   {
    "duration": 24,
    "start_time": "2022-03-25T06:32:24.872Z"
   },
   {
    "duration": 15,
    "start_time": "2022-03-25T06:32:24.898Z"
   },
   {
    "duration": 31,
    "start_time": "2022-03-25T06:32:24.916Z"
   },
   {
    "duration": 10,
    "start_time": "2022-03-25T06:32:24.950Z"
   },
   {
    "duration": 26,
    "start_time": "2022-03-25T06:32:24.963Z"
   },
   {
    "duration": 9,
    "start_time": "2022-03-25T06:32:24.992Z"
   },
   {
    "duration": 45,
    "start_time": "2022-03-25T06:32:25.003Z"
   },
   {
    "duration": 11,
    "start_time": "2022-03-25T06:32:25.050Z"
   },
   {
    "duration": 8,
    "start_time": "2022-03-25T06:32:25.065Z"
   },
   {
    "duration": 11,
    "start_time": "2022-03-25T06:32:25.075Z"
   },
   {
    "duration": 6,
    "start_time": "2022-03-25T06:32:25.089Z"
   },
   {
    "duration": 51,
    "start_time": "2022-03-25T06:32:25.097Z"
   },
   {
    "duration": 5,
    "start_time": "2022-03-25T06:32:25.150Z"
   },
   {
    "duration": 9,
    "start_time": "2022-03-25T06:32:25.157Z"
   },
   {
    "duration": 10,
    "start_time": "2022-03-25T06:32:25.168Z"
   },
   {
    "duration": 7,
    "start_time": "2022-03-25T06:32:25.180Z"
   },
   {
    "duration": 9,
    "start_time": "2022-03-25T06:32:25.189Z"
   },
   {
    "duration": 46,
    "start_time": "2022-03-25T06:32:25.200Z"
   },
   {
    "duration": 7,
    "start_time": "2022-03-25T06:32:25.249Z"
   },
   {
    "duration": 10,
    "start_time": "2022-03-25T06:32:25.258Z"
   },
   {
    "duration": 6,
    "start_time": "2022-03-25T06:32:25.271Z"
   },
   {
    "duration": 64,
    "start_time": "2022-03-25T06:32:25.279Z"
   },
   {
    "duration": 26,
    "start_time": "2022-03-25T06:32:25.345Z"
   },
   {
    "duration": 45,
    "start_time": "2022-03-25T06:32:25.374Z"
   },
   {
    "duration": 7,
    "start_time": "2022-03-25T06:32:25.443Z"
   },
   {
    "duration": 17,
    "start_time": "2022-03-25T06:32:25.452Z"
   },
   {
    "duration": 9,
    "start_time": "2022-03-25T06:32:25.476Z"
   },
   {
    "duration": 62,
    "start_time": "2022-03-25T06:32:25.488Z"
   },
   {
    "duration": 5,
    "start_time": "2022-03-25T06:32:25.552Z"
   },
   {
    "duration": 8,
    "start_time": "2022-03-25T06:32:25.560Z"
   },
   {
    "duration": 9,
    "start_time": "2022-03-25T06:32:25.570Z"
   },
   {
    "duration": 6,
    "start_time": "2022-03-25T06:32:25.581Z"
   },
   {
    "duration": 7,
    "start_time": "2022-03-25T06:32:25.589Z"
   },
   {
    "duration": 7,
    "start_time": "2022-03-25T06:32:25.599Z"
   },
   {
    "duration": 38,
    "start_time": "2022-03-25T06:32:25.608Z"
   },
   {
    "duration": 9,
    "start_time": "2022-03-25T06:32:25.648Z"
   },
   {
    "duration": 11,
    "start_time": "2022-03-25T06:32:25.659Z"
   },
   {
    "duration": 7,
    "start_time": "2022-03-25T06:32:25.673Z"
   },
   {
    "duration": 17,
    "start_time": "2022-03-25T06:32:25.682Z"
   },
   {
    "duration": 47,
    "start_time": "2022-03-25T06:32:25.701Z"
   },
   {
    "duration": 7,
    "start_time": "2022-03-25T06:32:25.750Z"
   },
   {
    "duration": 22,
    "start_time": "2022-03-25T06:32:25.759Z"
   },
   {
    "duration": 16,
    "start_time": "2022-03-25T06:32:25.783Z"
   },
   {
    "duration": 51,
    "start_time": "2022-03-25T06:32:25.802Z"
   },
   {
    "duration": 33,
    "start_time": "2022-03-25T06:32:25.855Z"
   },
   {
    "duration": 15,
    "start_time": "2022-03-25T06:32:25.890Z"
   },
   {
    "duration": 38,
    "start_time": "2022-03-25T06:32:25.908Z"
   },
   {
    "duration": 25,
    "start_time": "2022-03-25T06:32:25.948Z"
   },
   {
    "duration": 24,
    "start_time": "2022-03-25T06:32:25.976Z"
   },
   {
    "duration": 53,
    "start_time": "2022-03-25T06:32:26.002Z"
   },
   {
    "duration": 28,
    "start_time": "2022-03-25T06:32:26.057Z"
   },
   {
    "duration": 61,
    "start_time": "2022-03-25T06:32:26.087Z"
   },
   {
    "duration": 38,
    "start_time": "2022-03-25T06:32:26.150Z"
   },
   {
    "duration": 583,
    "start_time": "2022-03-25T06:48:39.084Z"
   },
   {
    "duration": 21,
    "start_time": "2022-03-25T06:48:39.670Z"
   },
   {
    "duration": 13,
    "start_time": "2022-03-25T06:48:39.693Z"
   },
   {
    "duration": 5,
    "start_time": "2022-03-25T06:48:39.709Z"
   },
   {
    "duration": 8,
    "start_time": "2022-03-25T06:48:39.745Z"
   },
   {
    "duration": 30,
    "start_time": "2022-03-25T06:48:39.756Z"
   },
   {
    "duration": 11,
    "start_time": "2022-03-25T06:48:39.788Z"
   },
   {
    "duration": 43,
    "start_time": "2022-03-25T06:48:39.802Z"
   },
   {
    "duration": 8,
    "start_time": "2022-03-25T06:48:39.847Z"
   },
   {
    "duration": 7,
    "start_time": "2022-03-25T06:48:39.857Z"
   },
   {
    "duration": 7,
    "start_time": "2022-03-25T06:48:39.866Z"
   },
   {
    "duration": 13,
    "start_time": "2022-03-25T06:48:39.876Z"
   },
   {
    "duration": 9,
    "start_time": "2022-03-25T06:48:39.891Z"
   },
   {
    "duration": 5,
    "start_time": "2022-03-25T06:48:39.946Z"
   },
   {
    "duration": 7,
    "start_time": "2022-03-25T06:48:39.953Z"
   },
   {
    "duration": 7,
    "start_time": "2022-03-25T06:48:39.962Z"
   },
   {
    "duration": 8,
    "start_time": "2022-03-25T06:48:39.971Z"
   },
   {
    "duration": 6,
    "start_time": "2022-03-25T06:48:39.981Z"
   },
   {
    "duration": 57,
    "start_time": "2022-03-25T06:48:39.989Z"
   },
   {
    "duration": 10,
    "start_time": "2022-03-25T06:48:40.049Z"
   },
   {
    "duration": 33,
    "start_time": "2022-03-25T06:48:40.062Z"
   },
   {
    "duration": 9,
    "start_time": "2022-03-25T06:48:40.098Z"
   },
   {
    "duration": 49,
    "start_time": "2022-03-25T06:48:40.110Z"
   },
   {
    "duration": 27,
    "start_time": "2022-03-25T06:48:40.161Z"
   },
   {
    "duration": 74,
    "start_time": "2022-03-25T06:48:40.190Z"
   },
   {
    "duration": 6,
    "start_time": "2022-03-25T06:48:40.267Z"
   },
   {
    "duration": 15,
    "start_time": "2022-03-25T06:48:40.276Z"
   },
   {
    "duration": 14,
    "start_time": "2022-03-25T06:48:40.294Z"
   },
   {
    "duration": 55,
    "start_time": "2022-03-25T06:48:40.311Z"
   },
   {
    "duration": 5,
    "start_time": "2022-03-25T06:48:40.369Z"
   },
   {
    "duration": 7,
    "start_time": "2022-03-25T06:48:40.377Z"
   },
   {
    "duration": 7,
    "start_time": "2022-03-25T06:48:40.386Z"
   },
   {
    "duration": 16,
    "start_time": "2022-03-25T06:48:40.396Z"
   },
   {
    "duration": 37,
    "start_time": "2022-03-25T06:48:40.415Z"
   },
   {
    "duration": 34,
    "start_time": "2022-03-25T06:48:40.458Z"
   },
   {
    "duration": 24,
    "start_time": "2022-03-25T06:48:40.495Z"
   },
   {
    "duration": 33,
    "start_time": "2022-03-25T06:48:40.521Z"
   },
   {
    "duration": 40,
    "start_time": "2022-03-25T06:48:40.557Z"
   },
   {
    "duration": 15,
    "start_time": "2022-03-25T06:48:40.600Z"
   },
   {
    "duration": 33,
    "start_time": "2022-03-25T06:48:40.617Z"
   },
   {
    "duration": 11,
    "start_time": "2022-03-25T06:48:40.658Z"
   },
   {
    "duration": 18,
    "start_time": "2022-03-25T06:48:40.672Z"
   },
   {
    "duration": 26,
    "start_time": "2022-03-25T06:48:40.692Z"
   },
   {
    "duration": 38,
    "start_time": "2022-03-25T06:48:40.721Z"
   },
   {
    "duration": 19,
    "start_time": "2022-03-25T06:48:40.761Z"
   },
   {
    "duration": 61,
    "start_time": "2022-03-25T06:48:40.785Z"
   },
   {
    "duration": 15,
    "start_time": "2022-03-25T06:48:40.848Z"
   },
   {
    "duration": 11,
    "start_time": "2022-03-25T06:48:40.864Z"
   },
   {
    "duration": 46,
    "start_time": "2022-03-25T06:48:40.877Z"
   },
   {
    "duration": 35,
    "start_time": "2022-03-25T06:48:40.926Z"
   },
   {
    "duration": 22,
    "start_time": "2022-03-25T06:48:40.964Z"
   },
   {
    "duration": 59,
    "start_time": "2022-03-25T06:48:40.989Z"
   },
   {
    "duration": 33,
    "start_time": "2022-03-25T06:48:41.052Z"
   },
   {
    "duration": 65,
    "start_time": "2022-03-25T06:48:41.087Z"
   },
   {
    "duration": 40,
    "start_time": "2022-03-25T07:20:41.652Z"
   },
   {
    "duration": 603,
    "start_time": "2022-03-25T07:26:09.262Z"
   },
   {
    "duration": 21,
    "start_time": "2022-03-25T07:26:09.867Z"
   },
   {
    "duration": 13,
    "start_time": "2022-03-25T07:26:09.890Z"
   },
   {
    "duration": 6,
    "start_time": "2022-03-25T07:26:09.905Z"
   },
   {
    "duration": 8,
    "start_time": "2022-03-25T07:26:09.944Z"
   },
   {
    "duration": 27,
    "start_time": "2022-03-25T07:26:09.954Z"
   },
   {
    "duration": 9,
    "start_time": "2022-03-25T07:26:09.983Z"
   },
   {
    "duration": 7,
    "start_time": "2022-03-25T07:26:09.994Z"
   },
   {
    "duration": 45,
    "start_time": "2022-03-25T07:26:10.003Z"
   },
   {
    "duration": 9,
    "start_time": "2022-03-25T07:26:10.050Z"
   },
   {
    "duration": 8,
    "start_time": "2022-03-25T07:26:10.061Z"
   },
   {
    "duration": 6,
    "start_time": "2022-03-25T07:26:10.071Z"
   },
   {
    "duration": 8,
    "start_time": "2022-03-25T07:26:10.079Z"
   },
   {
    "duration": 52,
    "start_time": "2022-03-25T07:26:10.091Z"
   },
   {
    "duration": 6,
    "start_time": "2022-03-25T07:26:10.145Z"
   },
   {
    "duration": 8,
    "start_time": "2022-03-25T07:26:10.153Z"
   },
   {
    "duration": 6,
    "start_time": "2022-03-25T07:26:10.163Z"
   },
   {
    "duration": 8,
    "start_time": "2022-03-25T07:26:10.171Z"
   },
   {
    "duration": 10,
    "start_time": "2022-03-25T07:26:10.181Z"
   },
   {
    "duration": 53,
    "start_time": "2022-03-25T07:26:10.194Z"
   },
   {
    "duration": 19,
    "start_time": "2022-03-25T07:26:10.249Z"
   },
   {
    "duration": 9,
    "start_time": "2022-03-25T07:26:10.271Z"
   },
   {
    "duration": 35,
    "start_time": "2022-03-25T07:26:10.283Z"
   },
   {
    "duration": 44,
    "start_time": "2022-03-25T07:26:10.320Z"
   },
   {
    "duration": 48,
    "start_time": "2022-03-25T07:26:10.366Z"
   },
   {
    "duration": 30,
    "start_time": "2022-03-25T07:26:10.417Z"
   },
   {
    "duration": 23,
    "start_time": "2022-03-25T07:26:10.449Z"
   },
   {
    "duration": 11,
    "start_time": "2022-03-25T07:26:10.475Z"
   },
   {
    "duration": 25,
    "start_time": "2022-03-25T07:26:10.489Z"
   },
   {
    "duration": 48,
    "start_time": "2022-03-25T07:26:10.543Z"
   },
   {
    "duration": 23,
    "start_time": "2022-03-25T07:26:10.592Z"
   },
   {
    "duration": 28,
    "start_time": "2022-03-25T07:26:10.617Z"
   },
   {
    "duration": 9,
    "start_time": "2022-03-25T07:26:10.647Z"
   },
   {
    "duration": 8,
    "start_time": "2022-03-25T07:26:10.658Z"
   },
   {
    "duration": 5,
    "start_time": "2022-03-25T07:26:10.668Z"
   },
   {
    "duration": 7,
    "start_time": "2022-03-25T07:26:10.675Z"
   },
   {
    "duration": 7,
    "start_time": "2022-03-25T07:26:10.684Z"
   },
   {
    "duration": 7,
    "start_time": "2022-03-25T07:26:10.693Z"
   },
   {
    "duration": 3,
    "start_time": "2022-03-25T07:26:10.745Z"
   },
   {
    "duration": 11,
    "start_time": "2022-03-25T07:26:10.750Z"
   },
   {
    "duration": 7,
    "start_time": "2022-03-25T07:26:10.767Z"
   },
   {
    "duration": 18,
    "start_time": "2022-03-25T07:26:10.776Z"
   },
   {
    "duration": 47,
    "start_time": "2022-03-25T07:26:10.797Z"
   },
   {
    "duration": 7,
    "start_time": "2022-03-25T07:26:10.846Z"
   },
   {
    "duration": 19,
    "start_time": "2022-03-25T07:26:10.856Z"
   },
   {
    "duration": 15,
    "start_time": "2022-03-25T07:26:10.877Z"
   },
   {
    "duration": 54,
    "start_time": "2022-03-25T07:26:10.894Z"
   },
   {
    "duration": 27,
    "start_time": "2022-03-25T07:26:10.951Z"
   },
   {
    "duration": 14,
    "start_time": "2022-03-25T07:26:10.980Z"
   },
   {
    "duration": 12,
    "start_time": "2022-03-25T07:26:10.996Z"
   },
   {
    "duration": 56,
    "start_time": "2022-03-25T07:26:11.010Z"
   },
   {
    "duration": 26,
    "start_time": "2022-03-25T07:26:11.068Z"
   },
   {
    "duration": 60,
    "start_time": "2022-03-25T07:26:11.097Z"
   },
   {
    "duration": 27,
    "start_time": "2022-03-25T07:26:11.160Z"
   },
   {
    "duration": 69,
    "start_time": "2022-03-25T07:26:11.190Z"
   },
   {
    "duration": 37,
    "start_time": "2022-03-25T07:26:11.262Z"
   },
   {
    "duration": 29,
    "start_time": "2022-03-25T07:26:57.321Z"
   },
   {
    "duration": 633,
    "start_time": "2022-03-25T07:27:07.571Z"
   },
   {
    "duration": 23,
    "start_time": "2022-03-25T07:27:08.207Z"
   },
   {
    "duration": 13,
    "start_time": "2022-03-25T07:27:08.243Z"
   },
   {
    "duration": 9,
    "start_time": "2022-03-25T07:27:08.259Z"
   },
   {
    "duration": 9,
    "start_time": "2022-03-25T07:27:08.272Z"
   },
   {
    "duration": 62,
    "start_time": "2022-03-25T07:27:08.284Z"
   },
   {
    "duration": 9,
    "start_time": "2022-03-25T07:27:08.348Z"
   },
   {
    "duration": 6,
    "start_time": "2022-03-25T07:27:08.360Z"
   },
   {
    "duration": 9,
    "start_time": "2022-03-25T07:27:08.369Z"
   },
   {
    "duration": 6,
    "start_time": "2022-03-25T07:27:08.380Z"
   },
   {
    "duration": 56,
    "start_time": "2022-03-25T07:27:08.388Z"
   },
   {
    "duration": 9,
    "start_time": "2022-03-25T07:27:08.447Z"
   },
   {
    "duration": 10,
    "start_time": "2022-03-25T07:27:08.459Z"
   },
   {
    "duration": 7,
    "start_time": "2022-03-25T07:27:08.475Z"
   },
   {
    "duration": 14,
    "start_time": "2022-03-25T07:27:08.484Z"
   },
   {
    "duration": 45,
    "start_time": "2022-03-25T07:27:08.500Z"
   },
   {
    "duration": 8,
    "start_time": "2022-03-25T07:27:08.548Z"
   },
   {
    "duration": 11,
    "start_time": "2022-03-25T07:27:08.559Z"
   },
   {
    "duration": 19,
    "start_time": "2022-03-25T07:27:08.572Z"
   },
   {
    "duration": 8,
    "start_time": "2022-03-25T07:27:08.593Z"
   },
   {
    "duration": 46,
    "start_time": "2022-03-25T07:27:08.603Z"
   },
   {
    "duration": 7,
    "start_time": "2022-03-25T07:27:08.651Z"
   },
   {
    "duration": 28,
    "start_time": "2022-03-25T07:27:08.660Z"
   },
   {
    "duration": 61,
    "start_time": "2022-03-25T07:27:08.692Z"
   },
   {
    "duration": 58,
    "start_time": "2022-03-25T07:27:08.755Z"
   },
   {
    "duration": 7,
    "start_time": "2022-03-25T07:27:08.815Z"
   },
   {
    "duration": 23,
    "start_time": "2022-03-25T07:27:08.844Z"
   },
   {
    "duration": 12,
    "start_time": "2022-03-25T07:27:08.869Z"
   },
   {
    "duration": 38,
    "start_time": "2022-03-25T07:27:08.883Z"
   },
   {
    "duration": 56,
    "start_time": "2022-03-25T07:27:08.942Z"
   },
   {
    "duration": 53,
    "start_time": "2022-03-25T07:27:09.002Z"
   },
   {
    "duration": 6,
    "start_time": "2022-03-25T07:27:09.058Z"
   },
   {
    "duration": 17,
    "start_time": "2022-03-25T07:27:09.067Z"
   },
   {
    "duration": 8,
    "start_time": "2022-03-25T07:27:09.087Z"
   },
   {
    "duration": 18,
    "start_time": "2022-03-25T07:27:09.097Z"
   },
   {
    "duration": 26,
    "start_time": "2022-03-25T07:27:09.117Z"
   },
   {
    "duration": 12,
    "start_time": "2022-03-25T07:27:09.145Z"
   },
   {
    "duration": 8,
    "start_time": "2022-03-25T07:27:09.159Z"
   },
   {
    "duration": 9,
    "start_time": "2022-03-25T07:27:09.169Z"
   },
   {
    "duration": 14,
    "start_time": "2022-03-25T07:27:09.180Z"
   },
   {
    "duration": 41,
    "start_time": "2022-03-25T07:27:09.202Z"
   },
   {
    "duration": 20,
    "start_time": "2022-03-25T07:27:09.246Z"
   },
   {
    "duration": 12,
    "start_time": "2022-03-25T07:27:09.268Z"
   },
   {
    "duration": 7,
    "start_time": "2022-03-25T07:27:09.282Z"
   },
   {
    "duration": 65,
    "start_time": "2022-03-25T07:27:09.291Z"
   },
   {
    "duration": 16,
    "start_time": "2022-03-25T07:27:09.358Z"
   },
   {
    "duration": 17,
    "start_time": "2022-03-25T07:27:09.376Z"
   },
   {
    "duration": 18,
    "start_time": "2022-03-25T07:27:09.395Z"
   },
   {
    "duration": 31,
    "start_time": "2022-03-25T07:27:09.444Z"
   },
   {
    "duration": 14,
    "start_time": "2022-03-25T07:27:09.478Z"
   },
   {
    "duration": 9,
    "start_time": "2022-03-25T07:27:09.495Z"
   },
   {
    "duration": 58,
    "start_time": "2022-03-25T07:27:09.506Z"
   },
   {
    "duration": 27,
    "start_time": "2022-03-25T07:27:09.566Z"
   },
   {
    "duration": 54,
    "start_time": "2022-03-25T07:27:09.596Z"
   },
   {
    "duration": 29,
    "start_time": "2022-03-25T07:27:09.653Z"
   },
   {
    "duration": 73,
    "start_time": "2022-03-25T07:27:09.684Z"
   },
   {
    "duration": 42,
    "start_time": "2022-03-25T07:27:09.759Z"
   },
   {
    "duration": 656,
    "start_time": "2022-03-25T07:56:28.052Z"
   },
   {
    "duration": 45,
    "start_time": "2022-03-25T07:56:28.711Z"
   },
   {
    "duration": 21,
    "start_time": "2022-03-25T07:56:28.759Z"
   },
   {
    "duration": 6,
    "start_time": "2022-03-25T07:56:28.782Z"
   },
   {
    "duration": 9,
    "start_time": "2022-03-25T07:56:28.792Z"
   },
   {
    "duration": 64,
    "start_time": "2022-03-25T07:56:28.803Z"
   },
   {
    "duration": 8,
    "start_time": "2022-03-25T07:56:28.871Z"
   },
   {
    "duration": 8,
    "start_time": "2022-03-25T07:56:28.881Z"
   },
   {
    "duration": 10,
    "start_time": "2022-03-25T07:56:28.891Z"
   },
   {
    "duration": 47,
    "start_time": "2022-03-25T07:56:28.903Z"
   },
   {
    "duration": 11,
    "start_time": "2022-03-25T07:56:28.953Z"
   },
   {
    "duration": 8,
    "start_time": "2022-03-25T07:56:28.967Z"
   },
   {
    "duration": 9,
    "start_time": "2022-03-25T07:56:28.977Z"
   },
   {
    "duration": 54,
    "start_time": "2022-03-25T07:56:28.991Z"
   },
   {
    "duration": 13,
    "start_time": "2022-03-25T07:56:29.050Z"
   },
   {
    "duration": 10,
    "start_time": "2022-03-25T07:56:29.066Z"
   },
   {
    "duration": 8,
    "start_time": "2022-03-25T07:56:29.078Z"
   },
   {
    "duration": 7,
    "start_time": "2022-03-25T07:56:29.088Z"
   },
   {
    "duration": 48,
    "start_time": "2022-03-25T07:56:29.097Z"
   },
   {
    "duration": 10,
    "start_time": "2022-03-25T07:56:29.147Z"
   },
   {
    "duration": 14,
    "start_time": "2022-03-25T07:56:29.159Z"
   },
   {
    "duration": 7,
    "start_time": "2022-03-25T07:56:29.175Z"
   },
   {
    "duration": 71,
    "start_time": "2022-03-25T07:56:29.184Z"
   },
   {
    "duration": 26,
    "start_time": "2022-03-25T07:56:29.257Z"
   },
   {
    "duration": 82,
    "start_time": "2022-03-25T07:56:29.285Z"
   },
   {
    "duration": 8,
    "start_time": "2022-03-25T07:56:29.369Z"
   },
   {
    "duration": 25,
    "start_time": "2022-03-25T07:56:29.379Z"
   },
   {
    "duration": 14,
    "start_time": "2022-03-25T07:56:29.407Z"
   },
   {
    "duration": 29,
    "start_time": "2022-03-25T07:56:29.444Z"
   },
   {
    "duration": 68,
    "start_time": "2022-03-25T07:56:29.476Z"
   },
   {
    "duration": 26,
    "start_time": "2022-03-25T07:56:29.547Z"
   },
   {
    "duration": 5,
    "start_time": "2022-03-25T07:56:29.576Z"
   },
   {
    "duration": 12,
    "start_time": "2022-03-25T07:56:29.584Z"
   },
   {
    "duration": 13,
    "start_time": "2022-03-25T07:56:29.598Z"
   },
   {
    "duration": 3,
    "start_time": "2022-03-25T07:56:29.644Z"
   },
   {
    "duration": 8,
    "start_time": "2022-03-25T07:56:29.650Z"
   },
   {
    "duration": 18,
    "start_time": "2022-03-25T07:56:29.661Z"
   },
   {
    "duration": 8,
    "start_time": "2022-03-25T07:56:29.682Z"
   },
   {
    "duration": 10,
    "start_time": "2022-03-25T07:56:29.692Z"
   },
   {
    "duration": 40,
    "start_time": "2022-03-25T07:56:29.704Z"
   },
   {
    "duration": 10,
    "start_time": "2022-03-25T07:56:29.754Z"
   },
   {
    "duration": 30,
    "start_time": "2022-03-25T07:56:29.767Z"
   },
   {
    "duration": 43,
    "start_time": "2022-03-25T07:56:29.800Z"
   },
   {
    "duration": 8,
    "start_time": "2022-03-25T07:56:29.845Z"
   },
   {
    "duration": 26,
    "start_time": "2022-03-25T07:56:29.855Z"
   },
   {
    "duration": 16,
    "start_time": "2022-03-25T07:56:29.883Z"
   },
   {
    "duration": 65,
    "start_time": "2022-03-25T07:56:29.902Z"
   },
   {
    "duration": 32,
    "start_time": "2022-03-25T07:56:29.970Z"
   },
   {
    "duration": 60,
    "start_time": "2022-03-25T07:56:30.005Z"
   },
   {
    "duration": 18,
    "start_time": "2022-03-25T07:56:30.068Z"
   },
   {
    "duration": 26,
    "start_time": "2022-03-25T07:56:30.089Z"
   },
   {
    "duration": 47,
    "start_time": "2022-03-25T07:56:30.117Z"
   },
   {
    "duration": 23,
    "start_time": "2022-03-25T07:56:30.166Z"
   },
   {
    "duration": 71,
    "start_time": "2022-03-25T07:56:30.193Z"
   },
   {
    "duration": 36,
    "start_time": "2022-03-25T07:56:30.267Z"
   },
   {
    "duration": 62,
    "start_time": "2022-03-25T07:56:30.305Z"
   },
   {
    "duration": 635,
    "start_time": "2022-03-25T07:57:53.557Z"
   },
   {
    "duration": 21,
    "start_time": "2022-03-25T07:57:54.195Z"
   },
   {
    "duration": 34,
    "start_time": "2022-03-25T07:57:54.218Z"
   },
   {
    "duration": 6,
    "start_time": "2022-03-25T07:57:54.255Z"
   },
   {
    "duration": 9,
    "start_time": "2022-03-25T07:57:54.263Z"
   },
   {
    "duration": 31,
    "start_time": "2022-03-25T07:57:54.274Z"
   },
   {
    "duration": 42,
    "start_time": "2022-03-25T07:57:54.308Z"
   },
   {
    "duration": 7,
    "start_time": "2022-03-25T07:57:54.352Z"
   },
   {
    "duration": 7,
    "start_time": "2022-03-25T07:57:54.362Z"
   },
   {
    "duration": 7,
    "start_time": "2022-03-25T07:57:54.377Z"
   },
   {
    "duration": 57,
    "start_time": "2022-03-25T07:57:54.386Z"
   },
   {
    "duration": 6,
    "start_time": "2022-03-25T07:57:54.446Z"
   },
   {
    "duration": 11,
    "start_time": "2022-03-25T07:57:54.455Z"
   },
   {
    "duration": 7,
    "start_time": "2022-03-25T07:57:54.468Z"
   },
   {
    "duration": 12,
    "start_time": "2022-03-25T07:57:54.477Z"
   },
   {
    "duration": 8,
    "start_time": "2022-03-25T07:57:54.492Z"
   },
   {
    "duration": 7,
    "start_time": "2022-03-25T07:57:54.544Z"
   },
   {
    "duration": 10,
    "start_time": "2022-03-25T07:57:54.553Z"
   },
   {
    "duration": 11,
    "start_time": "2022-03-25T07:57:54.565Z"
   },
   {
    "duration": 8,
    "start_time": "2022-03-25T07:57:54.578Z"
   },
   {
    "duration": 10,
    "start_time": "2022-03-25T07:57:54.588Z"
   },
   {
    "duration": 44,
    "start_time": "2022-03-25T07:57:54.600Z"
   },
   {
    "duration": 26,
    "start_time": "2022-03-25T07:57:54.647Z"
   },
   {
    "duration": 26,
    "start_time": "2022-03-25T07:57:54.676Z"
   },
   {
    "duration": 83,
    "start_time": "2022-03-25T07:57:54.704Z"
   },
   {
    "duration": 7,
    "start_time": "2022-03-25T07:57:54.789Z"
   },
   {
    "duration": 17,
    "start_time": "2022-03-25T07:57:54.798Z"
   },
   {
    "duration": 30,
    "start_time": "2022-03-25T07:57:54.820Z"
   },
   {
    "duration": 33,
    "start_time": "2022-03-25T07:57:54.852Z"
   },
   {
    "duration": 70,
    "start_time": "2022-03-25T07:57:54.887Z"
   },
   {
    "duration": 22,
    "start_time": "2022-03-25T07:57:54.959Z"
   },
   {
    "duration": 5,
    "start_time": "2022-03-25T07:57:54.984Z"
   },
   {
    "duration": 11,
    "start_time": "2022-03-25T07:57:54.991Z"
   },
   {
    "duration": 6,
    "start_time": "2022-03-25T07:57:55.005Z"
   },
   {
    "duration": 32,
    "start_time": "2022-03-25T07:57:55.013Z"
   },
   {
    "duration": 10,
    "start_time": "2022-03-25T07:57:55.047Z"
   },
   {
    "duration": 11,
    "start_time": "2022-03-25T07:57:55.059Z"
   },
   {
    "duration": 7,
    "start_time": "2022-03-25T07:57:55.073Z"
   },
   {
    "duration": 9,
    "start_time": "2022-03-25T07:57:55.082Z"
   },
   {
    "duration": 11,
    "start_time": "2022-03-25T07:57:55.093Z"
   },
   {
    "duration": 37,
    "start_time": "2022-03-25T07:57:55.107Z"
   },
   {
    "duration": 17,
    "start_time": "2022-03-25T07:57:55.146Z"
   },
   {
    "duration": 9,
    "start_time": "2022-03-25T07:57:55.165Z"
   },
   {
    "duration": 10,
    "start_time": "2022-03-25T07:57:55.176Z"
   },
   {
    "duration": 19,
    "start_time": "2022-03-25T07:57:55.188Z"
   },
   {
    "duration": 48,
    "start_time": "2022-03-25T07:57:55.209Z"
   },
   {
    "duration": 17,
    "start_time": "2022-03-25T07:57:55.259Z"
   },
   {
    "duration": 31,
    "start_time": "2022-03-25T07:57:55.278Z"
   },
   {
    "duration": 14,
    "start_time": "2022-03-25T07:57:55.343Z"
   },
   {
    "duration": 9,
    "start_time": "2022-03-25T07:57:55.361Z"
   },
   {
    "duration": 24,
    "start_time": "2022-03-25T07:57:55.371Z"
   },
   {
    "duration": 58,
    "start_time": "2022-03-25T07:57:55.398Z"
   },
   {
    "duration": 24,
    "start_time": "2022-03-25T07:57:55.458Z"
   },
   {
    "duration": 26,
    "start_time": "2022-03-25T07:57:55.484Z"
   },
   {
    "duration": 31,
    "start_time": "2022-03-25T07:57:55.542Z"
   },
   {
    "duration": 35,
    "start_time": "2022-03-25T07:57:55.576Z"
   },
   {
    "duration": 2139,
    "start_time": "2022-03-25T07:58:29.295Z"
   },
   {
    "duration": 25,
    "start_time": "2022-03-25T07:58:35.968Z"
   },
   {
    "duration": 632,
    "start_time": "2022-03-25T07:58:40.739Z"
   },
   {
    "duration": 21,
    "start_time": "2022-03-25T07:58:41.374Z"
   },
   {
    "duration": 13,
    "start_time": "2022-03-25T07:58:41.397Z"
   },
   {
    "duration": 34,
    "start_time": "2022-03-25T07:58:41.412Z"
   },
   {
    "duration": 11,
    "start_time": "2022-03-25T07:58:41.449Z"
   },
   {
    "duration": 28,
    "start_time": "2022-03-25T07:58:41.462Z"
   },
   {
    "duration": 9,
    "start_time": "2022-03-25T07:58:41.492Z"
   },
   {
    "duration": 43,
    "start_time": "2022-03-25T07:58:41.504Z"
   },
   {
    "duration": 9,
    "start_time": "2022-03-25T07:58:41.550Z"
   },
   {
    "duration": 8,
    "start_time": "2022-03-25T07:58:41.561Z"
   },
   {
    "duration": 8,
    "start_time": "2022-03-25T07:58:41.571Z"
   },
   {
    "duration": 6,
    "start_time": "2022-03-25T07:58:41.581Z"
   },
   {
    "duration": 54,
    "start_time": "2022-03-25T07:58:41.590Z"
   },
   {
    "duration": 6,
    "start_time": "2022-03-25T07:58:41.649Z"
   },
   {
    "duration": 6,
    "start_time": "2022-03-25T07:58:41.658Z"
   },
   {
    "duration": 6,
    "start_time": "2022-03-25T07:58:41.667Z"
   },
   {
    "duration": 7,
    "start_time": "2022-03-25T07:58:41.676Z"
   },
   {
    "duration": 9,
    "start_time": "2022-03-25T07:58:41.685Z"
   },
   {
    "duration": 53,
    "start_time": "2022-03-25T07:58:41.696Z"
   },
   {
    "duration": 9,
    "start_time": "2022-03-25T07:58:41.751Z"
   },
   {
    "duration": 12,
    "start_time": "2022-03-25T07:58:41.762Z"
   },
   {
    "duration": 9,
    "start_time": "2022-03-25T07:58:41.776Z"
   },
   {
    "duration": 72,
    "start_time": "2022-03-25T07:58:41.787Z"
   },
   {
    "duration": 33,
    "start_time": "2022-03-25T07:58:41.862Z"
   },
   {
    "duration": 84,
    "start_time": "2022-03-25T07:58:41.897Z"
   },
   {
    "duration": 8,
    "start_time": "2022-03-25T07:58:41.983Z"
   },
   {
    "duration": 19,
    "start_time": "2022-03-25T07:58:41.994Z"
   },
   {
    "duration": 33,
    "start_time": "2022-03-25T07:58:42.015Z"
   },
   {
    "duration": 32,
    "start_time": "2022-03-25T07:58:42.050Z"
   },
   {
    "duration": 85,
    "start_time": "2022-03-25T07:58:42.085Z"
   },
   {
    "duration": 24,
    "start_time": "2022-03-25T07:58:42.172Z"
   },
   {
    "duration": 6,
    "start_time": "2022-03-25T07:58:42.198Z"
   },
   {
    "duration": 7,
    "start_time": "2022-03-25T07:58:42.206Z"
   },
   {
    "duration": 30,
    "start_time": "2022-03-25T07:58:42.215Z"
   },
   {
    "duration": 12,
    "start_time": "2022-03-25T07:58:42.247Z"
   },
   {
    "duration": 8,
    "start_time": "2022-03-25T07:58:42.261Z"
   },
   {
    "duration": 6,
    "start_time": "2022-03-25T07:58:42.271Z"
   },
   {
    "duration": 6,
    "start_time": "2022-03-25T07:58:42.279Z"
   },
   {
    "duration": 9,
    "start_time": "2022-03-25T07:58:42.287Z"
   },
   {
    "duration": 12,
    "start_time": "2022-03-25T07:58:42.298Z"
   },
   {
    "duration": 9,
    "start_time": "2022-03-25T07:58:42.346Z"
   },
   {
    "duration": 20,
    "start_time": "2022-03-25T07:58:42.357Z"
   },
   {
    "duration": 14,
    "start_time": "2022-03-25T07:58:42.379Z"
   },
   {
    "duration": 8,
    "start_time": "2022-03-25T07:58:42.396Z"
   },
   {
    "duration": 51,
    "start_time": "2022-03-25T07:58:42.407Z"
   },
   {
    "duration": 18,
    "start_time": "2022-03-25T07:58:42.460Z"
   },
   {
    "duration": 18,
    "start_time": "2022-03-25T07:58:42.480Z"
   },
   {
    "duration": 70,
    "start_time": "2022-03-25T07:58:42.501Z"
   },
   {
    "duration": 16,
    "start_time": "2022-03-25T07:58:42.573Z"
   },
   {
    "duration": 12,
    "start_time": "2022-03-25T07:58:42.591Z"
   },
   {
    "duration": 55,
    "start_time": "2022-03-25T07:58:42.605Z"
   },
   {
    "duration": 23,
    "start_time": "2022-03-25T07:58:42.662Z"
   },
   {
    "duration": 21,
    "start_time": "2022-03-25T07:58:42.687Z"
   },
   {
    "duration": 50,
    "start_time": "2022-03-25T07:58:42.710Z"
   },
   {
    "duration": 33,
    "start_time": "2022-03-25T07:58:42.762Z"
   },
   {
    "duration": 70,
    "start_time": "2022-03-25T07:58:42.797Z"
   },
   {
    "duration": 551,
    "start_time": "2022-10-26T09:33:19.314Z"
   },
   {
    "duration": 14,
    "start_time": "2022-10-26T09:33:19.867Z"
   },
   {
    "duration": 9,
    "start_time": "2022-10-26T09:33:19.883Z"
   },
   {
    "duration": 12,
    "start_time": "2022-10-26T09:33:19.894Z"
   },
   {
    "duration": 32,
    "start_time": "2022-10-26T09:33:19.908Z"
   },
   {
    "duration": 27,
    "start_time": "2022-10-26T09:33:19.941Z"
   },
   {
    "duration": 7,
    "start_time": "2022-10-26T09:33:19.969Z"
   },
   {
    "duration": 15,
    "start_time": "2022-10-26T09:33:19.978Z"
   },
   {
    "duration": 22,
    "start_time": "2022-10-26T09:33:19.995Z"
   },
   {
    "duration": 29,
    "start_time": "2022-10-26T09:33:20.018Z"
   },
   {
    "duration": 16,
    "start_time": "2022-10-26T09:33:20.048Z"
   },
   {
    "duration": 13,
    "start_time": "2022-10-26T09:33:20.066Z"
   },
   {
    "duration": 20,
    "start_time": "2022-10-26T09:33:20.081Z"
   },
   {
    "duration": 14,
    "start_time": "2022-10-26T09:33:20.104Z"
   },
   {
    "duration": 24,
    "start_time": "2022-10-26T09:33:20.120Z"
   },
   {
    "duration": 19,
    "start_time": "2022-10-26T09:33:20.145Z"
   },
   {
    "duration": 17,
    "start_time": "2022-10-26T09:33:20.166Z"
   },
   {
    "duration": 17,
    "start_time": "2022-10-26T09:33:20.185Z"
   },
   {
    "duration": 33,
    "start_time": "2022-10-26T09:33:20.204Z"
   },
   {
    "duration": 13,
    "start_time": "2022-10-26T09:33:20.239Z"
   },
   {
    "duration": 22,
    "start_time": "2022-10-26T09:33:20.254Z"
   },
   {
    "duration": 20,
    "start_time": "2022-10-26T09:33:20.277Z"
   },
   {
    "duration": 39,
    "start_time": "2022-10-26T09:33:20.299Z"
   },
   {
    "duration": 22,
    "start_time": "2022-10-26T09:33:20.341Z"
   },
   {
    "duration": 36,
    "start_time": "2022-10-26T09:33:20.365Z"
   },
   {
    "duration": 5,
    "start_time": "2022-10-26T09:33:20.402Z"
   },
   {
    "duration": 27,
    "start_time": "2022-10-26T09:33:20.409Z"
   },
   {
    "duration": 36,
    "start_time": "2022-10-26T09:33:20.438Z"
   },
   {
    "duration": 31,
    "start_time": "2022-10-26T09:33:20.476Z"
   },
   {
    "duration": 37,
    "start_time": "2022-10-26T09:33:20.509Z"
   },
   {
    "duration": 14,
    "start_time": "2022-10-26T09:33:20.548Z"
   },
   {
    "duration": 25,
    "start_time": "2022-10-26T09:33:20.564Z"
   },
   {
    "duration": 19,
    "start_time": "2022-10-26T09:33:20.591Z"
   },
   {
    "duration": 32,
    "start_time": "2022-10-26T09:33:20.612Z"
   },
   {
    "duration": 20,
    "start_time": "2022-10-26T09:33:20.645Z"
   },
   {
    "duration": 8,
    "start_time": "2022-10-26T09:33:20.667Z"
   },
   {
    "duration": 18,
    "start_time": "2022-10-26T09:33:20.676Z"
   },
   {
    "duration": 13,
    "start_time": "2022-10-26T09:33:20.695Z"
   },
   {
    "duration": 27,
    "start_time": "2022-10-26T09:33:20.710Z"
   },
   {
    "duration": 26,
    "start_time": "2022-10-26T09:33:20.738Z"
   },
   {
    "duration": 9,
    "start_time": "2022-10-26T09:33:20.768Z"
   },
   {
    "duration": 33,
    "start_time": "2022-10-26T09:33:20.778Z"
   },
   {
    "duration": 29,
    "start_time": "2022-10-26T09:33:20.813Z"
   },
   {
    "duration": 49,
    "start_time": "2022-10-26T09:33:20.843Z"
   },
   {
    "duration": 50,
    "start_time": "2022-10-26T09:33:20.894Z"
   },
   {
    "duration": 15,
    "start_time": "2022-10-26T09:33:20.945Z"
   },
   {
    "duration": 32,
    "start_time": "2022-10-26T09:33:20.961Z"
   },
   {
    "duration": 43,
    "start_time": "2022-10-26T09:33:20.995Z"
   },
   {
    "duration": 30,
    "start_time": "2022-10-26T09:33:21.040Z"
   },
   {
    "duration": 48,
    "start_time": "2022-10-26T09:33:21.072Z"
   },
   {
    "duration": 54,
    "start_time": "2022-10-26T09:33:21.122Z"
   },
   {
    "duration": 22,
    "start_time": "2022-10-26T09:33:21.177Z"
   },
   {
    "duration": 29,
    "start_time": "2022-10-26T09:33:21.201Z"
   },
   {
    "duration": 31,
    "start_time": "2022-10-26T09:33:21.235Z"
   },
   {
    "duration": 75,
    "start_time": "2022-10-26T09:33:21.267Z"
   },
   {
    "duration": 0,
    "start_time": "2022-10-26T09:33:21.344Z"
   },
   {
    "duration": 0,
    "start_time": "2022-10-26T09:33:21.345Z"
   },
   {
    "duration": 494,
    "start_time": "2022-10-26T09:37:42.518Z"
   },
   {
    "duration": 19,
    "start_time": "2022-10-26T09:37:43.014Z"
   },
   {
    "duration": 12,
    "start_time": "2022-10-26T09:37:43.035Z"
   },
   {
    "duration": 41,
    "start_time": "2022-10-26T09:37:43.049Z"
   },
   {
    "duration": 8,
    "start_time": "2022-10-26T09:37:43.092Z"
   },
   {
    "duration": 19,
    "start_time": "2022-10-26T09:37:43.101Z"
   },
   {
    "duration": 17,
    "start_time": "2022-10-26T09:37:43.121Z"
   },
   {
    "duration": 11,
    "start_time": "2022-10-26T09:37:43.139Z"
   },
   {
    "duration": 8,
    "start_time": "2022-10-26T09:37:43.151Z"
   },
   {
    "duration": 8,
    "start_time": "2022-10-26T09:37:43.160Z"
   },
   {
    "duration": 7,
    "start_time": "2022-10-26T09:37:43.170Z"
   },
   {
    "duration": 6,
    "start_time": "2022-10-26T09:37:43.178Z"
   },
   {
    "duration": 6,
    "start_time": "2022-10-26T09:37:43.186Z"
   },
   {
    "duration": 4,
    "start_time": "2022-10-26T09:37:43.195Z"
   },
   {
    "duration": 24,
    "start_time": "2022-10-26T09:37:43.200Z"
   },
   {
    "duration": 15,
    "start_time": "2022-10-26T09:37:43.226Z"
   },
   {
    "duration": 8,
    "start_time": "2022-10-26T09:37:43.242Z"
   },
   {
    "duration": 4,
    "start_time": "2022-10-26T09:37:43.252Z"
   },
   {
    "duration": 7,
    "start_time": "2022-10-26T09:37:43.258Z"
   },
   {
    "duration": 9,
    "start_time": "2022-10-26T09:37:43.267Z"
   },
   {
    "duration": 13,
    "start_time": "2022-10-26T09:37:43.277Z"
   },
   {
    "duration": 7,
    "start_time": "2022-10-26T09:37:43.291Z"
   },
   {
    "duration": 41,
    "start_time": "2022-10-26T09:37:43.299Z"
   },
   {
    "duration": 20,
    "start_time": "2022-10-26T09:37:43.342Z"
   },
   {
    "duration": 30,
    "start_time": "2022-10-26T09:37:43.364Z"
   },
   {
    "duration": 6,
    "start_time": "2022-10-26T09:37:43.396Z"
   },
   {
    "duration": 36,
    "start_time": "2022-10-26T09:37:43.403Z"
   },
   {
    "duration": 6,
    "start_time": "2022-10-26T09:37:43.442Z"
   },
   {
    "duration": 18,
    "start_time": "2022-10-26T09:37:43.450Z"
   },
   {
    "duration": 32,
    "start_time": "2022-10-26T09:37:43.470Z"
   },
   {
    "duration": 39,
    "start_time": "2022-10-26T09:37:43.503Z"
   },
   {
    "duration": 4,
    "start_time": "2022-10-26T09:37:43.543Z"
   },
   {
    "duration": 7,
    "start_time": "2022-10-26T09:37:43.548Z"
   },
   {
    "duration": 5,
    "start_time": "2022-10-26T09:37:43.557Z"
   },
   {
    "duration": 6,
    "start_time": "2022-10-26T09:37:43.563Z"
   },
   {
    "duration": 19,
    "start_time": "2022-10-26T09:37:43.570Z"
   },
   {
    "duration": 10,
    "start_time": "2022-10-26T09:37:43.591Z"
   },
   {
    "duration": 12,
    "start_time": "2022-10-26T09:37:43.603Z"
   },
   {
    "duration": 35,
    "start_time": "2022-10-26T09:37:43.617Z"
   },
   {
    "duration": 13,
    "start_time": "2022-10-26T09:37:43.654Z"
   },
   {
    "duration": 4,
    "start_time": "2022-10-26T09:37:43.671Z"
   },
   {
    "duration": 17,
    "start_time": "2022-10-26T09:37:43.677Z"
   },
   {
    "duration": 14,
    "start_time": "2022-10-26T09:37:43.696Z"
   },
   {
    "duration": 7,
    "start_time": "2022-10-26T09:37:43.712Z"
   },
   {
    "duration": 34,
    "start_time": "2022-10-26T09:37:43.720Z"
   },
   {
    "duration": 17,
    "start_time": "2022-10-26T09:37:43.755Z"
   },
   {
    "duration": 17,
    "start_time": "2022-10-26T09:37:43.774Z"
   },
   {
    "duration": 27,
    "start_time": "2022-10-26T09:37:43.793Z"
   },
   {
    "duration": 26,
    "start_time": "2022-10-26T09:37:43.821Z"
   },
   {
    "duration": 14,
    "start_time": "2022-10-26T09:37:43.848Z"
   },
   {
    "duration": 30,
    "start_time": "2022-10-26T09:37:43.863Z"
   },
   {
    "duration": 18,
    "start_time": "2022-10-26T09:37:43.895Z"
   },
   {
    "duration": 26,
    "start_time": "2022-10-26T09:37:43.914Z"
   },
   {
    "duration": 16,
    "start_time": "2022-10-26T09:37:43.942Z"
   },
   {
    "duration": 22,
    "start_time": "2022-10-26T09:37:43.960Z"
   },
   {
    "duration": 26,
    "start_time": "2022-10-26T09:37:43.983Z"
   },
   {
    "duration": 482,
    "start_time": "2022-10-26T09:38:19.727Z"
   },
   {
    "duration": 17,
    "start_time": "2022-10-26T09:38:20.211Z"
   },
   {
    "duration": 17,
    "start_time": "2022-10-26T09:38:20.236Z"
   },
   {
    "duration": 15,
    "start_time": "2022-10-26T09:38:20.255Z"
   },
   {
    "duration": 19,
    "start_time": "2022-10-26T09:38:20.272Z"
   },
   {
    "duration": 29,
    "start_time": "2022-10-26T09:38:20.293Z"
   },
   {
    "duration": 29,
    "start_time": "2022-10-26T09:38:20.326Z"
   },
   {
    "duration": 23,
    "start_time": "2022-10-26T09:38:20.357Z"
   },
   {
    "duration": 9,
    "start_time": "2022-10-26T09:38:20.381Z"
   },
   {
    "duration": 28,
    "start_time": "2022-10-26T09:38:20.391Z"
   },
   {
    "duration": 35,
    "start_time": "2022-10-26T09:38:20.423Z"
   },
   {
    "duration": 8,
    "start_time": "2022-10-26T09:38:20.460Z"
   },
   {
    "duration": 8,
    "start_time": "2022-10-26T09:38:20.469Z"
   },
   {
    "duration": 3,
    "start_time": "2022-10-26T09:38:20.480Z"
   },
   {
    "duration": 15,
    "start_time": "2022-10-26T09:38:20.484Z"
   },
   {
    "duration": 8,
    "start_time": "2022-10-26T09:38:20.501Z"
   },
   {
    "duration": 12,
    "start_time": "2022-10-26T09:38:20.510Z"
   },
   {
    "duration": 24,
    "start_time": "2022-10-26T09:38:20.524Z"
   },
   {
    "duration": 11,
    "start_time": "2022-10-26T09:38:20.550Z"
   },
   {
    "duration": 10,
    "start_time": "2022-10-26T09:38:20.563Z"
   },
   {
    "duration": 7,
    "start_time": "2022-10-26T09:38:20.575Z"
   },
   {
    "duration": 10,
    "start_time": "2022-10-26T09:38:20.584Z"
   },
   {
    "duration": 27,
    "start_time": "2022-10-26T09:38:20.596Z"
   },
   {
    "duration": 40,
    "start_time": "2022-10-26T09:38:20.627Z"
   },
   {
    "duration": 31,
    "start_time": "2022-10-26T09:38:20.668Z"
   },
   {
    "duration": 4,
    "start_time": "2022-10-26T09:38:20.700Z"
   },
   {
    "duration": 37,
    "start_time": "2022-10-26T09:38:20.706Z"
   },
   {
    "duration": 13,
    "start_time": "2022-10-26T09:38:20.744Z"
   },
   {
    "duration": 18,
    "start_time": "2022-10-26T09:38:20.758Z"
   },
   {
    "duration": 41,
    "start_time": "2022-10-26T09:38:20.778Z"
   },
   {
    "duration": 18,
    "start_time": "2022-10-26T09:38:20.822Z"
   },
   {
    "duration": 14,
    "start_time": "2022-10-26T09:38:20.842Z"
   },
   {
    "duration": 10,
    "start_time": "2022-10-26T09:38:20.858Z"
   },
   {
    "duration": 5,
    "start_time": "2022-10-26T09:38:20.870Z"
   },
   {
    "duration": 5,
    "start_time": "2022-10-26T09:38:20.876Z"
   },
   {
    "duration": 7,
    "start_time": "2022-10-26T09:38:20.883Z"
   },
   {
    "duration": 8,
    "start_time": "2022-10-26T09:38:20.892Z"
   },
   {
    "duration": 22,
    "start_time": "2022-10-26T09:38:20.902Z"
   },
   {
    "duration": 34,
    "start_time": "2022-10-26T09:38:20.925Z"
   },
   {
    "duration": 13,
    "start_time": "2022-10-26T09:38:20.961Z"
   },
   {
    "duration": 5,
    "start_time": "2022-10-26T09:38:20.978Z"
   },
   {
    "duration": 12,
    "start_time": "2022-10-26T09:38:20.984Z"
   },
   {
    "duration": 6,
    "start_time": "2022-10-26T09:38:20.998Z"
   },
   {
    "duration": 12,
    "start_time": "2022-10-26T09:38:21.006Z"
   },
   {
    "duration": 47,
    "start_time": "2022-10-26T09:38:21.019Z"
   },
   {
    "duration": 24,
    "start_time": "2022-10-26T09:38:21.068Z"
   },
   {
    "duration": 13,
    "start_time": "2022-10-26T09:38:21.094Z"
   },
   {
    "duration": 53,
    "start_time": "2022-10-26T09:38:21.108Z"
   },
   {
    "duration": 8,
    "start_time": "2022-10-26T09:38:21.163Z"
   },
   {
    "duration": 11,
    "start_time": "2022-10-26T09:38:21.173Z"
   },
   {
    "duration": 22,
    "start_time": "2022-10-26T09:38:21.185Z"
   },
   {
    "duration": 20,
    "start_time": "2022-10-26T09:38:21.208Z"
   },
   {
    "duration": 20,
    "start_time": "2022-10-26T09:38:21.231Z"
   },
   {
    "duration": 18,
    "start_time": "2022-10-26T09:38:21.253Z"
   },
   {
    "duration": 90,
    "start_time": "2022-10-26T09:38:21.273Z"
   },
   {
    "duration": 0,
    "start_time": "2022-10-26T09:38:21.365Z"
   },
   {
    "duration": 0,
    "start_time": "2022-10-26T09:38:21.366Z"
   },
   {
    "duration": 472,
    "start_time": "2022-10-26T09:38:45.390Z"
   },
   {
    "duration": 16,
    "start_time": "2022-10-26T09:38:45.864Z"
   },
   {
    "duration": 13,
    "start_time": "2022-10-26T09:38:45.881Z"
   },
   {
    "duration": 12,
    "start_time": "2022-10-26T09:38:45.896Z"
   },
   {
    "duration": 28,
    "start_time": "2022-10-26T09:38:45.910Z"
   },
   {
    "duration": 30,
    "start_time": "2022-10-26T09:38:45.940Z"
   },
   {
    "duration": 9,
    "start_time": "2022-10-26T09:38:45.972Z"
   },
   {
    "duration": 24,
    "start_time": "2022-10-26T09:38:45.984Z"
   },
   {
    "duration": 37,
    "start_time": "2022-10-26T09:38:46.010Z"
   },
   {
    "duration": 15,
    "start_time": "2022-10-26T09:38:46.049Z"
   },
   {
    "duration": 20,
    "start_time": "2022-10-26T09:38:46.066Z"
   },
   {
    "duration": 15,
    "start_time": "2022-10-26T09:38:46.088Z"
   },
   {
    "duration": 41,
    "start_time": "2022-10-26T09:38:46.106Z"
   },
   {
    "duration": 28,
    "start_time": "2022-10-26T09:38:46.151Z"
   },
   {
    "duration": 17,
    "start_time": "2022-10-26T09:38:46.183Z"
   },
   {
    "duration": 54,
    "start_time": "2022-10-26T09:38:46.201Z"
   },
   {
    "duration": 12,
    "start_time": "2022-10-26T09:38:46.256Z"
   },
   {
    "duration": 9,
    "start_time": "2022-10-26T09:38:46.271Z"
   },
   {
    "duration": 14,
    "start_time": "2022-10-26T09:38:46.282Z"
   },
   {
    "duration": 59,
    "start_time": "2022-10-26T09:38:46.299Z"
   },
   {
    "duration": 18,
    "start_time": "2022-10-26T09:38:46.362Z"
   },
   {
    "duration": 8,
    "start_time": "2022-10-26T09:38:46.382Z"
   },
   {
    "duration": 19,
    "start_time": "2022-10-26T09:38:46.392Z"
   },
   {
    "duration": 23,
    "start_time": "2022-10-26T09:38:46.412Z"
   },
   {
    "duration": 43,
    "start_time": "2022-10-26T09:38:46.436Z"
   },
   {
    "duration": 6,
    "start_time": "2022-10-26T09:38:46.481Z"
   },
   {
    "duration": 14,
    "start_time": "2022-10-26T09:38:46.489Z"
   },
   {
    "duration": 34,
    "start_time": "2022-10-26T09:38:46.505Z"
   },
   {
    "duration": 16,
    "start_time": "2022-10-26T09:38:46.541Z"
   },
   {
    "duration": 41,
    "start_time": "2022-10-26T09:38:46.558Z"
   },
   {
    "duration": 30,
    "start_time": "2022-10-26T09:38:46.601Z"
   },
   {
    "duration": 10,
    "start_time": "2022-10-26T09:38:46.632Z"
   },
   {
    "duration": 8,
    "start_time": "2022-10-26T09:38:46.643Z"
   },
   {
    "duration": 6,
    "start_time": "2022-10-26T09:38:46.652Z"
   },
   {
    "duration": 4,
    "start_time": "2022-10-26T09:38:46.660Z"
   },
   {
    "duration": 6,
    "start_time": "2022-10-26T09:38:46.666Z"
   },
   {
    "duration": 9,
    "start_time": "2022-10-26T09:38:46.673Z"
   },
   {
    "duration": 8,
    "start_time": "2022-10-26T09:38:46.684Z"
   },
   {
    "duration": 9,
    "start_time": "2022-10-26T09:38:46.693Z"
   },
   {
    "duration": 11,
    "start_time": "2022-10-26T09:38:46.704Z"
   },
   {
    "duration": 9,
    "start_time": "2022-10-26T09:38:46.719Z"
   },
   {
    "duration": 23,
    "start_time": "2022-10-26T09:38:46.731Z"
   },
   {
    "duration": 8,
    "start_time": "2022-10-26T09:38:46.755Z"
   },
   {
    "duration": 6,
    "start_time": "2022-10-26T09:38:46.765Z"
   },
   {
    "duration": 16,
    "start_time": "2022-10-26T09:38:46.772Z"
   },
   {
    "duration": 11,
    "start_time": "2022-10-26T09:38:46.790Z"
   },
   {
    "duration": 35,
    "start_time": "2022-10-26T09:38:46.802Z"
   },
   {
    "duration": 18,
    "start_time": "2022-10-26T09:38:46.841Z"
   },
   {
    "duration": 8,
    "start_time": "2022-10-26T09:38:46.861Z"
   },
   {
    "duration": 8,
    "start_time": "2022-10-26T09:38:46.871Z"
   },
   {
    "duration": 14,
    "start_time": "2022-10-26T09:38:46.880Z"
   },
   {
    "duration": 37,
    "start_time": "2022-10-26T09:38:46.896Z"
   },
   {
    "duration": 14,
    "start_time": "2022-10-26T09:38:46.936Z"
   },
   {
    "duration": 18,
    "start_time": "2022-10-26T09:38:46.951Z"
   },
   {
    "duration": 20,
    "start_time": "2022-10-26T09:38:46.971Z"
   },
   {
    "duration": 51,
    "start_time": "2022-10-26T09:38:46.993Z"
   }
  ],
  "kernelspec": {
   "display_name": "Python 3 (ipykernel)",
   "language": "python",
   "name": "python3"
  },
  "language_info": {
   "codemirror_mode": {
    "name": "ipython",
    "version": 3
   },
   "file_extension": ".py",
   "mimetype": "text/x-python",
   "name": "python",
   "nbconvert_exporter": "python",
   "pygments_lexer": "ipython3",
   "version": "3.9.5"
  },
  "toc": {
   "base_numbering": 1,
   "nav_menu": {},
   "number_sections": true,
   "sideBar": true,
   "skip_h1_title": true,
   "title_cell": "Table of Contents",
   "title_sidebar": "Contents",
   "toc_cell": false,
   "toc_position": {},
   "toc_section_display": true,
   "toc_window_display": false
  }
 },
 "nbformat": 4,
 "nbformat_minor": 5
}
