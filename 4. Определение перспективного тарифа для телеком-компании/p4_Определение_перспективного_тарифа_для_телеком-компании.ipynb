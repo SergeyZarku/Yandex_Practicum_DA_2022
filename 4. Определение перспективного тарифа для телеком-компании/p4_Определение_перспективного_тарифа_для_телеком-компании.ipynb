{
 "cells": [
  {
   "cell_type": "markdown",
   "metadata": {
    "toc": true
   },
   "source": [
    "<h1>Содержание<span class=\"tocSkip\"></span></h1>\n",
    "<div class=\"toc\"><ul class=\"toc-item\"><li><span><a href=\"#Изучение-данных-из-файла\" data-toc-modified-id=\"Изучение-данных-из-файла-1\"><span class=\"toc-item-num\">1&nbsp;&nbsp;</span>Изучение данных из файла</a></span><ul class=\"toc-item\"><li><span><a href=\"#Посмотрим-на-таблицу-users\" data-toc-modified-id=\"Посмотрим-на-таблицу-users-1.1\"><span class=\"toc-item-num\">1.1&nbsp;&nbsp;</span>Посмотрим на таблицу users</a></span></li><li><span><a href=\"#Посмотрим-на-таблицу-calls\" data-toc-modified-id=\"Посмотрим-на-таблицу-calls-1.2\"><span class=\"toc-item-num\">1.2&nbsp;&nbsp;</span>Посмотрим на таблицу calls</a></span></li><li><span><a href=\"#Посмотрим-таблицу-messages\" data-toc-modified-id=\"Посмотрим-таблицу-messages-1.3\"><span class=\"toc-item-num\">1.3&nbsp;&nbsp;</span>Посмотрим таблицу messages</a></span></li><li><span><a href=\"#Посмотрим-таблицу-internet\" data-toc-modified-id=\"Посмотрим-таблицу-internet-1.4\"><span class=\"toc-item-num\">1.4&nbsp;&nbsp;</span>Посмотрим таблицу internet</a></span></li><li><span><a href=\"#Посмотрим-таблицу-tariffs\" data-toc-modified-id=\"Посмотрим-таблицу-tariffs-1.5\"><span class=\"toc-item-num\">1.5&nbsp;&nbsp;</span>Посмотрим таблицу tariffs</a></span></li><li><span><a href=\"#Вывод\" data-toc-modified-id=\"Вывод-1.6\"><span class=\"toc-item-num\">1.6&nbsp;&nbsp;</span>Вывод</a></span></li></ul></li><li><span><a href=\"#Предобработка-данных\" data-toc-modified-id=\"Предобработка-данных-2\"><span class=\"toc-item-num\">2&nbsp;&nbsp;</span>Предобработка данных</a></span><ul class=\"toc-item\"><li><span><a href=\"#Заполнение-пропусков\" data-toc-modified-id=\"Заполнение-пропусков-2.1\"><span class=\"toc-item-num\">2.1&nbsp;&nbsp;</span>Заполнение пропусков</a></span></li><li><span><a href=\"#Изменение-типов-данных-данных\" data-toc-modified-id=\"Изменение-типов-данных-данных-2.2\"><span class=\"toc-item-num\">2.2&nbsp;&nbsp;</span>Изменение типов данных данных</a></span></li><li><span><a href=\"#Дубликаты\" data-toc-modified-id=\"Дубликаты-2.3\"><span class=\"toc-item-num\">2.3&nbsp;&nbsp;</span>Дубликаты</a></span></li><li><span><a href=\"#Вывод\" data-toc-modified-id=\"Вывод-2.4\"><span class=\"toc-item-num\">2.4&nbsp;&nbsp;</span>Вывод</a></span></li></ul></li><li><span><a href=\"#Расчёты-и-добавление-результатов-в-таблицу\" data-toc-modified-id=\"Расчёты-и-добавление-результатов-в-таблицу-3\"><span class=\"toc-item-num\">3&nbsp;&nbsp;</span>Расчёты и добавление результатов в таблицу</a></span><ul class=\"toc-item\"><li><span><a href=\"#Количество-сделанных-звонков-и-израсходованных-минут-разговора-по-месяцам\" data-toc-modified-id=\"Количество-сделанных-звонков-и-израсходованных-минут-разговора-по-месяцам-3.1\"><span class=\"toc-item-num\">3.1&nbsp;&nbsp;</span>Количество сделанных звонков и израсходованных минут разговора по месяцам</a></span></li><li><span><a href=\"#Количество-отправленных-сообщений-по-месяцам\" data-toc-modified-id=\"Количество-отправленных-сообщений-по-месяцам-3.2\"><span class=\"toc-item-num\">3.2&nbsp;&nbsp;</span>Количество отправленных сообщений по месяцам</a></span></li><li><span><a href=\"#Объем-израсходованного-интернет-трафика-по-месяцам\" data-toc-modified-id=\"Объем-израсходованного-интернет-трафика-по-месяцам-3.3\"><span class=\"toc-item-num\">3.3&nbsp;&nbsp;</span>Объем израсходованного интернет-трафика по месяцам</a></span></li><li><span><a href=\"#Месячная-выручка-с-каждого-пользователя\" data-toc-modified-id=\"Месячная-выручка-с-каждого-пользователя-3.4\"><span class=\"toc-item-num\">3.4&nbsp;&nbsp;</span>Месячная выручка с каждого пользователя</a></span></li><li><span><a href=\"#Вывод\" data-toc-modified-id=\"Вывод-3.5\"><span class=\"toc-item-num\">3.5&nbsp;&nbsp;</span>Вывод</a></span></li></ul></li><li><span><a href=\"#Исследовательский-анализ-данных\" data-toc-modified-id=\"Исследовательский-анализ-данных-4\"><span class=\"toc-item-num\">4&nbsp;&nbsp;</span>Исследовательский анализ данных</a></span><ul class=\"toc-item\"><li><span><a href=\"#Поведение-клиентов-оператора,-исходя-из-выборки\" data-toc-modified-id=\"Поведение-клиентов-оператора,-исходя-из-выборки-4.1\"><span class=\"toc-item-num\">4.1&nbsp;&nbsp;</span>Поведение клиентов оператора, исходя из выборки</a></span></li><li><span><a href=\"#Необходимое-пользователю-количество-минут-разговора-в-месяц\" data-toc-modified-id=\"Необходимое-пользователю-количество-минут-разговора-в-месяц-4.2\"><span class=\"toc-item-num\">4.2&nbsp;&nbsp;</span>Необходимое пользователю количество минут разговора в месяц</a></span></li><li><span><a href=\"#Необходимое-пользователю-количество-сообщений-в-месяц\" data-toc-modified-id=\"Необходимое-пользователю-количество-сообщений-в-месяц-4.3\"><span class=\"toc-item-num\">4.3&nbsp;&nbsp;</span>Необходимое пользователю количество сообщений в месяц</a></span></li><li><span><a href=\"#Необходимый-пользователю-объём-интернет-трафика-в-месяц\" data-toc-modified-id=\"Необходимый-пользователю-объём-интернет-трафика-в-месяц-4.4\"><span class=\"toc-item-num\">4.4&nbsp;&nbsp;</span>Необходимый пользователю объём интернет-трафика в месяц</a></span></li></ul></li><li><span><a href=\"#Проверка-гипотез\" data-toc-modified-id=\"Проверка-гипотез-5\"><span class=\"toc-item-num\">5&nbsp;&nbsp;</span>Проверка гипотез</a></span><ul class=\"toc-item\"><li><span><a href=\"#Гипотеза-о-равенстве-средних-двух-генеральных-совокупностей-№1\" data-toc-modified-id=\"Гипотеза-о-равенстве-средних-двух-генеральных-совокупностей-№1-5.1\"><span class=\"toc-item-num\">5.1&nbsp;&nbsp;</span>Гипотеза о равенстве средних двух генеральных совокупностей №1</a></span></li><li><span><a href=\"#Гипотеза-о-равенстве-средних-двух-генеральных-совокупностей-№2\" data-toc-modified-id=\"Гипотеза-о-равенстве-средних-двух-генеральных-совокупностей-№2-5.2\"><span class=\"toc-item-num\">5.2&nbsp;&nbsp;</span>Гипотеза о равенстве средних двух генеральных совокупностей №2</a></span></li></ul></li><li><span><a href=\"#Общий-вывод\" data-toc-modified-id=\"Общий-вывод-6\"><span class=\"toc-item-num\">6&nbsp;&nbsp;</span>Общий вывод</a></span></li></ul></div>"
   ]
  },
  {
   "cell_type": "markdown",
   "metadata": {},
   "source": [
    "# Проект \"Определение перспективного тарифа для телеком компании\"\n",
    "\n",
    "Вы аналитик компании «Мегалайн» — федерального оператора сотовой связи. Клиентам предлагают два тарифных плана: «Смарт» и «Ультра». Чтобы скорректировать рекламный бюджет, коммерческий департамент хочет понять, какой тариф приносит больше денег.\n",
    "Вам предстоит сделать предварительный анализ тарифов на небольшой выборке клиентов. В вашем распоряжении данные 500 пользователей «Мегалайна»: кто они, откуда, каким тарифом пользуются, сколько звонков и сообщений каждый отправил за 2018 год. Нужно проанализировать поведение клиентов и сделать вывод — какой тариф лучше.\n",
    "\n",
    "Описание тарифов:\n",
    "\n",
    "**Тариф «Смарт»**\n",
    "\n",
    "* 1.\tЕжемесячная плата: 550 рублей\n",
    "* 2.\tВключено 500 минут разговора, 50 сообщений и 15 Гб интернет-трафика\n",
    "* 3.\tСтоимость услуг сверх тарифного пакета:\n",
    "*  \tминута разговора: 3 рубля\n",
    "*\tсообщение: 3 рубля\n",
    "*\t1 Гб интернет-трафика: 200 рублей\n",
    "\n",
    "**Тариф «Ультра»**\n",
    "\n",
    "* 1.\tЕжемесячная плата: 1950 рублей\n",
    "* 2.\tВключено 3000 минут разговора, 1000 сообщений и 30 Гб интернет-трафика\n",
    "* 3.\tСтоимость услуг сверх тарифного пакета:\n",
    "*   минута разговора: 1 рубль\n",
    "\tсообщение: 1 рубль\n",
    "\t1 Гб интернет-трафика: 150 рублей\n",
    "\n",
    "*Примечание:*\n",
    "\n",
    "«Мегалайн» всегда округляет секунды до минут, а мегабайты — до гигабайт. Каждый звонок округляется отдельно: даже если он длился всего 1 секунду, будет засчитан как 1 минута.\n",
    "Для веб-трафика отдельные сессии не считаются. Вместо этого общая сумма за месяц округляется в бо́льшую сторону. Если абонент использует 1025 мегабайт в этом месяце, с него возьмут плату за 2 гигабайта.\n",
    "\n",
    "\n",
    "***Описание данных***\n",
    "\n",
    "\n",
    "**Таблица users (информация о пользователях):**\n",
    "\n",
    "* **user_id** — уникальный идентификатор пользователя\n",
    "* **first_name** — имя пользователя\n",
    "* **last_name** — фамилия пользователя\n",
    "* **age** — возраст пользователя (годы)\n",
    "* **reg_date** — дата подключения тарифа (день, месяц, год)\n",
    "* **churn_date** — дата прекращения пользования тарифом (если значение пропущено, то тариф ещё действовал на момент выгрузки данных)\n",
    "* **city** — город проживания пользователя\n",
    "* **tariff** — название тарифного плана\n",
    "\n",
    "**Таблица calls (информация о звонках):**\n",
    "\n",
    "* **id** — уникальный номер звонка\n",
    "* **call_date** — дата звонка\n",
    "* **duration** — длительность звонка в минутах\n",
    "* **user_id** — идентификатор пользователя, сделавшего звонок\n",
    "\n",
    "**Таблица messages (информация о сообщениях):**\n",
    "\n",
    "* **id** — уникальный номер сообщения\n",
    "* **message_date** — дата сообщения\n",
    "* **user_id** — идентификатор пользователя, отправившего сообщение\n",
    "\n",
    "**Таблица internet (информация об интернет-сессиях):**\n",
    "\n",
    "* **id** — уникальный номер сессии\n",
    "* **mb_used** — объём потраченного за сессию интернет-трафика (в мегабайтах)\n",
    "* **session_date** — дата интернет-сессии\n",
    "* **user_id** — идентификатор пользователя\n",
    "\n",
    "**Таблица tariffs (информация о тарифах):**\n",
    "\n",
    "* **tariff_name** — название тарифа\n",
    "* **rub_monthly_fee** — ежемесячная абонентская плата в рублях\n",
    "* **minutes_included** — количество минут разговора в месяц, включённых в абонентскую плату\n",
    "* **messages_included** — количество сообщений в месяц, включённых в абонентскую плату\n",
    "* **mb_per_month_included** — объём интернет-трафика, включённого в абонентскую плату (в мегабайтах)\n",
    "* **rub_per_minute** — стоимость минуты разговора сверх тарифного пакета (например, если в тарифе 100 минут разговора в месяц, то со 101 минуты будет взиматься плата)\n",
    "* **rub_per_message** — стоимость отправки сообщения сверх тарифного пакета\n",
    "* **rub_per_gb** — стоимость дополнительного гигабайта интернет-трафика сверх тарифного пакета (1 гигабайт = 1024 мегабайта)"
   ]
  },
  {
   "cell_type": "markdown",
   "metadata": {},
   "source": [
    "## Изучение данных из файла"
   ]
  },
  {
   "cell_type": "code",
   "execution_count": 1,
   "metadata": {},
   "outputs": [],
   "source": [
    "#импорт необходимых библиотек\n",
    "import pandas as pd\n",
    "import numpy as np\n",
    "import matplotlib.pyplot as plt\n",
    "\n",
    "from datetime import datetime\n",
    "from scipy import stats as st"
   ]
  },
  {
   "cell_type": "code",
   "execution_count": 2,
   "metadata": {},
   "outputs": [],
   "source": [
    "#загружаем данные\n",
    "users = pd.read_csv('users.csv')\n",
    "calls = pd.read_csv('calls.csv')\n",
    "messages = pd.read_csv('messages.csv')\n",
    "internet = pd.read_csv('internet.csv', index_col=[0])\n",
    "tariffs = pd.read_csv('tariffs.csv')"
   ]
  },
  {
   "cell_type": "markdown",
   "metadata": {},
   "source": [
    "### Посмотрим на таблицу users"
   ]
  },
  {
   "cell_type": "code",
   "execution_count": 3,
   "metadata": {},
   "outputs": [
    {
     "data": {
      "text/html": [
       "<div>\n",
       "<style scoped>\n",
       "    .dataframe tbody tr th:only-of-type {\n",
       "        vertical-align: middle;\n",
       "    }\n",
       "\n",
       "    .dataframe tbody tr th {\n",
       "        vertical-align: top;\n",
       "    }\n",
       "\n",
       "    .dataframe thead th {\n",
       "        text-align: right;\n",
       "    }\n",
       "</style>\n",
       "<table border=\"1\" class=\"dataframe\">\n",
       "  <thead>\n",
       "    <tr style=\"text-align: right;\">\n",
       "      <th></th>\n",
       "      <th>user_id</th>\n",
       "      <th>age</th>\n",
       "      <th>churn_date</th>\n",
       "      <th>city</th>\n",
       "      <th>first_name</th>\n",
       "      <th>last_name</th>\n",
       "      <th>reg_date</th>\n",
       "      <th>tariff</th>\n",
       "    </tr>\n",
       "  </thead>\n",
       "  <tbody>\n",
       "    <tr>\n",
       "      <th>0</th>\n",
       "      <td>1000</td>\n",
       "      <td>52</td>\n",
       "      <td>NaN</td>\n",
       "      <td>Краснодар</td>\n",
       "      <td>Рафаил</td>\n",
       "      <td>Верещагин</td>\n",
       "      <td>2018-05-25</td>\n",
       "      <td>ultra</td>\n",
       "    </tr>\n",
       "    <tr>\n",
       "      <th>1</th>\n",
       "      <td>1001</td>\n",
       "      <td>41</td>\n",
       "      <td>NaN</td>\n",
       "      <td>Москва</td>\n",
       "      <td>Иван</td>\n",
       "      <td>Ежов</td>\n",
       "      <td>2018-11-01</td>\n",
       "      <td>smart</td>\n",
       "    </tr>\n",
       "    <tr>\n",
       "      <th>2</th>\n",
       "      <td>1002</td>\n",
       "      <td>59</td>\n",
       "      <td>NaN</td>\n",
       "      <td>Стерлитамак</td>\n",
       "      <td>Евгений</td>\n",
       "      <td>Абрамович</td>\n",
       "      <td>2018-06-17</td>\n",
       "      <td>smart</td>\n",
       "    </tr>\n",
       "    <tr>\n",
       "      <th>3</th>\n",
       "      <td>1003</td>\n",
       "      <td>23</td>\n",
       "      <td>NaN</td>\n",
       "      <td>Москва</td>\n",
       "      <td>Белла</td>\n",
       "      <td>Белякова</td>\n",
       "      <td>2018-08-17</td>\n",
       "      <td>ultra</td>\n",
       "    </tr>\n",
       "    <tr>\n",
       "      <th>4</th>\n",
       "      <td>1004</td>\n",
       "      <td>68</td>\n",
       "      <td>NaN</td>\n",
       "      <td>Новокузнецк</td>\n",
       "      <td>Татьяна</td>\n",
       "      <td>Авдеенко</td>\n",
       "      <td>2018-05-14</td>\n",
       "      <td>ultra</td>\n",
       "    </tr>\n",
       "  </tbody>\n",
       "</table>\n",
       "</div>"
      ],
      "text/plain": [
       "   user_id  age churn_date         city first_name  last_name    reg_date  \\\n",
       "0     1000   52        NaN    Краснодар     Рафаил  Верещагин  2018-05-25   \n",
       "1     1001   41        NaN       Москва       Иван       Ежов  2018-11-01   \n",
       "2     1002   59        NaN  Стерлитамак    Евгений  Абрамович  2018-06-17   \n",
       "3     1003   23        NaN       Москва      Белла   Белякова  2018-08-17   \n",
       "4     1004   68        NaN  Новокузнецк    Татьяна   Авдеенко  2018-05-14   \n",
       "\n",
       "  tariff  \n",
       "0  ultra  \n",
       "1  smart  \n",
       "2  smart  \n",
       "3  ultra  \n",
       "4  ultra  "
      ]
     },
     "execution_count": 3,
     "metadata": {},
     "output_type": "execute_result"
    }
   ],
   "source": [
    "users.head()"
   ]
  },
  {
   "cell_type": "markdown",
   "metadata": {},
   "source": [
    "Посмотрим на пропуски:"
   ]
  },
  {
   "cell_type": "code",
   "execution_count": 4,
   "metadata": {},
   "outputs": [
    {
     "name": "stdout",
     "output_type": "stream",
     "text": [
      "<class 'pandas.core.frame.DataFrame'>\n",
      "RangeIndex: 500 entries, 0 to 499\n",
      "Data columns (total 8 columns):\n",
      " #   Column      Non-Null Count  Dtype \n",
      "---  ------      --------------  ----- \n",
      " 0   user_id     500 non-null    int64 \n",
      " 1   age         500 non-null    int64 \n",
      " 2   churn_date  38 non-null     object\n",
      " 3   city        500 non-null    object\n",
      " 4   first_name  500 non-null    object\n",
      " 5   last_name   500 non-null    object\n",
      " 6   reg_date    500 non-null    object\n",
      " 7   tariff      500 non-null    object\n",
      "dtypes: int64(2), object(6)\n",
      "memory usage: 31.4+ KB\n"
     ]
    }
   ],
   "source": [
    "users.info()"
   ]
  },
  {
   "cell_type": "markdown",
   "metadata": {},
   "source": [
    "**Вывод:**\n",
    "\n",
    "Столбец churn_date имеет пропуски, т.к. если пользователь до сих пор продолжает пользоваться тарифом, то нет даты расторжения договора об услуге. Это было описано в задании.\n",
    "\n",
    "Необходимо изменить тип данных:\n",
    "reg_date, churn_date - на datetime.\n"
   ]
  },
  {
   "cell_type": "markdown",
   "metadata": {},
   "source": [
    "### Посмотрим на таблицу calls"
   ]
  },
  {
   "cell_type": "code",
   "execution_count": 5,
   "metadata": {},
   "outputs": [
    {
     "data": {
      "text/html": [
       "<div>\n",
       "<style scoped>\n",
       "    .dataframe tbody tr th:only-of-type {\n",
       "        vertical-align: middle;\n",
       "    }\n",
       "\n",
       "    .dataframe tbody tr th {\n",
       "        vertical-align: top;\n",
       "    }\n",
       "\n",
       "    .dataframe thead th {\n",
       "        text-align: right;\n",
       "    }\n",
       "</style>\n",
       "<table border=\"1\" class=\"dataframe\">\n",
       "  <thead>\n",
       "    <tr style=\"text-align: right;\">\n",
       "      <th></th>\n",
       "      <th>id</th>\n",
       "      <th>call_date</th>\n",
       "      <th>duration</th>\n",
       "      <th>user_id</th>\n",
       "    </tr>\n",
       "  </thead>\n",
       "  <tbody>\n",
       "    <tr>\n",
       "      <th>0</th>\n",
       "      <td>1000_0</td>\n",
       "      <td>2018-07-25</td>\n",
       "      <td>0.00</td>\n",
       "      <td>1000</td>\n",
       "    </tr>\n",
       "    <tr>\n",
       "      <th>1</th>\n",
       "      <td>1000_1</td>\n",
       "      <td>2018-08-17</td>\n",
       "      <td>0.00</td>\n",
       "      <td>1000</td>\n",
       "    </tr>\n",
       "    <tr>\n",
       "      <th>2</th>\n",
       "      <td>1000_2</td>\n",
       "      <td>2018-06-11</td>\n",
       "      <td>2.85</td>\n",
       "      <td>1000</td>\n",
       "    </tr>\n",
       "    <tr>\n",
       "      <th>3</th>\n",
       "      <td>1000_3</td>\n",
       "      <td>2018-09-21</td>\n",
       "      <td>13.80</td>\n",
       "      <td>1000</td>\n",
       "    </tr>\n",
       "    <tr>\n",
       "      <th>4</th>\n",
       "      <td>1000_4</td>\n",
       "      <td>2018-12-15</td>\n",
       "      <td>5.18</td>\n",
       "      <td>1000</td>\n",
       "    </tr>\n",
       "  </tbody>\n",
       "</table>\n",
       "</div>"
      ],
      "text/plain": [
       "       id   call_date  duration  user_id\n",
       "0  1000_0  2018-07-25      0.00     1000\n",
       "1  1000_1  2018-08-17      0.00     1000\n",
       "2  1000_2  2018-06-11      2.85     1000\n",
       "3  1000_3  2018-09-21     13.80     1000\n",
       "4  1000_4  2018-12-15      5.18     1000"
      ]
     },
     "execution_count": 5,
     "metadata": {},
     "output_type": "execute_result"
    }
   ],
   "source": [
    "calls.head()"
   ]
  },
  {
   "cell_type": "code",
   "execution_count": 6,
   "metadata": {},
   "outputs": [
    {
     "name": "stdout",
     "output_type": "stream",
     "text": [
      "<class 'pandas.core.frame.DataFrame'>\n",
      "RangeIndex: 202607 entries, 0 to 202606\n",
      "Data columns (total 4 columns):\n",
      " #   Column     Non-Null Count   Dtype  \n",
      "---  ------     --------------   -----  \n",
      " 0   id         202607 non-null  object \n",
      " 1   call_date  202607 non-null  object \n",
      " 2   duration   202607 non-null  float64\n",
      " 3   user_id    202607 non-null  int64  \n",
      "dtypes: float64(1), int64(1), object(2)\n",
      "memory usage: 6.2+ MB\n"
     ]
    }
   ],
   "source": [
    "calls.info()"
   ]
  },
  {
   "cell_type": "markdown",
   "metadata": {},
   "source": [
    "**Вывод:**\n",
    "\n",
    "Данные полные, без пропусков.\n",
    "\n",
    "Необходимо изменить тип данных:\n",
    "call_date - на datetime."
   ]
  },
  {
   "cell_type": "markdown",
   "metadata": {},
   "source": [
    "### Посмотрим таблицу messages"
   ]
  },
  {
   "cell_type": "code",
   "execution_count": 7,
   "metadata": {},
   "outputs": [
    {
     "data": {
      "text/html": [
       "<div>\n",
       "<style scoped>\n",
       "    .dataframe tbody tr th:only-of-type {\n",
       "        vertical-align: middle;\n",
       "    }\n",
       "\n",
       "    .dataframe tbody tr th {\n",
       "        vertical-align: top;\n",
       "    }\n",
       "\n",
       "    .dataframe thead th {\n",
       "        text-align: right;\n",
       "    }\n",
       "</style>\n",
       "<table border=\"1\" class=\"dataframe\">\n",
       "  <thead>\n",
       "    <tr style=\"text-align: right;\">\n",
       "      <th></th>\n",
       "      <th>id</th>\n",
       "      <th>message_date</th>\n",
       "      <th>user_id</th>\n",
       "    </tr>\n",
       "  </thead>\n",
       "  <tbody>\n",
       "    <tr>\n",
       "      <th>0</th>\n",
       "      <td>1000_0</td>\n",
       "      <td>2018-06-27</td>\n",
       "      <td>1000</td>\n",
       "    </tr>\n",
       "    <tr>\n",
       "      <th>1</th>\n",
       "      <td>1000_1</td>\n",
       "      <td>2018-10-08</td>\n",
       "      <td>1000</td>\n",
       "    </tr>\n",
       "    <tr>\n",
       "      <th>2</th>\n",
       "      <td>1000_2</td>\n",
       "      <td>2018-08-04</td>\n",
       "      <td>1000</td>\n",
       "    </tr>\n",
       "    <tr>\n",
       "      <th>3</th>\n",
       "      <td>1000_3</td>\n",
       "      <td>2018-06-16</td>\n",
       "      <td>1000</td>\n",
       "    </tr>\n",
       "    <tr>\n",
       "      <th>4</th>\n",
       "      <td>1000_4</td>\n",
       "      <td>2018-12-05</td>\n",
       "      <td>1000</td>\n",
       "    </tr>\n",
       "  </tbody>\n",
       "</table>\n",
       "</div>"
      ],
      "text/plain": [
       "       id message_date  user_id\n",
       "0  1000_0   2018-06-27     1000\n",
       "1  1000_1   2018-10-08     1000\n",
       "2  1000_2   2018-08-04     1000\n",
       "3  1000_3   2018-06-16     1000\n",
       "4  1000_4   2018-12-05     1000"
      ]
     },
     "execution_count": 7,
     "metadata": {},
     "output_type": "execute_result"
    }
   ],
   "source": [
    "messages.head()"
   ]
  },
  {
   "cell_type": "code",
   "execution_count": 8,
   "metadata": {},
   "outputs": [
    {
     "name": "stdout",
     "output_type": "stream",
     "text": [
      "<class 'pandas.core.frame.DataFrame'>\n",
      "RangeIndex: 123036 entries, 0 to 123035\n",
      "Data columns (total 3 columns):\n",
      " #   Column        Non-Null Count   Dtype \n",
      "---  ------        --------------   ----- \n",
      " 0   id            123036 non-null  object\n",
      " 1   message_date  123036 non-null  object\n",
      " 2   user_id       123036 non-null  int64 \n",
      "dtypes: int64(1), object(2)\n",
      "memory usage: 2.8+ MB\n"
     ]
    }
   ],
   "source": [
    "messages.info()"
   ]
  },
  {
   "cell_type": "markdown",
   "metadata": {},
   "source": [
    "**Вывод:**\n",
    "\n",
    "Данные полные, без пропусков.\n",
    "\n",
    "Необходимо изменить тип данных:\n",
    "message_date - на datetime."
   ]
  },
  {
   "cell_type": "markdown",
   "metadata": {},
   "source": [
    "### Посмотрим таблицу internet"
   ]
  },
  {
   "cell_type": "code",
   "execution_count": 9,
   "metadata": {},
   "outputs": [
    {
     "data": {
      "text/html": [
       "<div>\n",
       "<style scoped>\n",
       "    .dataframe tbody tr th:only-of-type {\n",
       "        vertical-align: middle;\n",
       "    }\n",
       "\n",
       "    .dataframe tbody tr th {\n",
       "        vertical-align: top;\n",
       "    }\n",
       "\n",
       "    .dataframe thead th {\n",
       "        text-align: right;\n",
       "    }\n",
       "</style>\n",
       "<table border=\"1\" class=\"dataframe\">\n",
       "  <thead>\n",
       "    <tr style=\"text-align: right;\">\n",
       "      <th></th>\n",
       "      <th>id</th>\n",
       "      <th>mb_used</th>\n",
       "      <th>session_date</th>\n",
       "      <th>user_id</th>\n",
       "    </tr>\n",
       "  </thead>\n",
       "  <tbody>\n",
       "    <tr>\n",
       "      <th>0</th>\n",
       "      <td>1000_0</td>\n",
       "      <td>112.95</td>\n",
       "      <td>2018-11-25</td>\n",
       "      <td>1000</td>\n",
       "    </tr>\n",
       "    <tr>\n",
       "      <th>1</th>\n",
       "      <td>1000_1</td>\n",
       "      <td>1052.81</td>\n",
       "      <td>2018-09-07</td>\n",
       "      <td>1000</td>\n",
       "    </tr>\n",
       "    <tr>\n",
       "      <th>2</th>\n",
       "      <td>1000_2</td>\n",
       "      <td>1197.26</td>\n",
       "      <td>2018-06-25</td>\n",
       "      <td>1000</td>\n",
       "    </tr>\n",
       "    <tr>\n",
       "      <th>3</th>\n",
       "      <td>1000_3</td>\n",
       "      <td>550.27</td>\n",
       "      <td>2018-08-22</td>\n",
       "      <td>1000</td>\n",
       "    </tr>\n",
       "    <tr>\n",
       "      <th>4</th>\n",
       "      <td>1000_4</td>\n",
       "      <td>302.56</td>\n",
       "      <td>2018-09-24</td>\n",
       "      <td>1000</td>\n",
       "    </tr>\n",
       "  </tbody>\n",
       "</table>\n",
       "</div>"
      ],
      "text/plain": [
       "       id  mb_used session_date  user_id\n",
       "0  1000_0   112.95   2018-11-25     1000\n",
       "1  1000_1  1052.81   2018-09-07     1000\n",
       "2  1000_2  1197.26   2018-06-25     1000\n",
       "3  1000_3   550.27   2018-08-22     1000\n",
       "4  1000_4   302.56   2018-09-24     1000"
      ]
     },
     "execution_count": 9,
     "metadata": {},
     "output_type": "execute_result"
    }
   ],
   "source": [
    "internet.head()"
   ]
  },
  {
   "cell_type": "code",
   "execution_count": 10,
   "metadata": {},
   "outputs": [
    {
     "name": "stdout",
     "output_type": "stream",
     "text": [
      "<class 'pandas.core.frame.DataFrame'>\n",
      "Int64Index: 149396 entries, 0 to 149395\n",
      "Data columns (total 4 columns):\n",
      " #   Column        Non-Null Count   Dtype  \n",
      "---  ------        --------------   -----  \n",
      " 0   id            149396 non-null  object \n",
      " 1   mb_used       149396 non-null  float64\n",
      " 2   session_date  149396 non-null  object \n",
      " 3   user_id       149396 non-null  int64  \n",
      "dtypes: float64(1), int64(1), object(2)\n",
      "memory usage: 5.7+ MB\n"
     ]
    }
   ],
   "source": [
    "internet.info()"
   ]
  },
  {
   "cell_type": "markdown",
   "metadata": {},
   "source": [
    "### Посмотрим таблицу tariffs"
   ]
  },
  {
   "cell_type": "code",
   "execution_count": 11,
   "metadata": {},
   "outputs": [
    {
     "data": {
      "text/html": [
       "<div>\n",
       "<style scoped>\n",
       "    .dataframe tbody tr th:only-of-type {\n",
       "        vertical-align: middle;\n",
       "    }\n",
       "\n",
       "    .dataframe tbody tr th {\n",
       "        vertical-align: top;\n",
       "    }\n",
       "\n",
       "    .dataframe thead th {\n",
       "        text-align: right;\n",
       "    }\n",
       "</style>\n",
       "<table border=\"1\" class=\"dataframe\">\n",
       "  <thead>\n",
       "    <tr style=\"text-align: right;\">\n",
       "      <th></th>\n",
       "      <th>messages_included</th>\n",
       "      <th>mb_per_month_included</th>\n",
       "      <th>minutes_included</th>\n",
       "      <th>rub_monthly_fee</th>\n",
       "      <th>rub_per_gb</th>\n",
       "      <th>rub_per_message</th>\n",
       "      <th>rub_per_minute</th>\n",
       "      <th>tariff_name</th>\n",
       "    </tr>\n",
       "  </thead>\n",
       "  <tbody>\n",
       "    <tr>\n",
       "      <th>0</th>\n",
       "      <td>50</td>\n",
       "      <td>15360</td>\n",
       "      <td>500</td>\n",
       "      <td>550</td>\n",
       "      <td>200</td>\n",
       "      <td>3</td>\n",
       "      <td>3</td>\n",
       "      <td>smart</td>\n",
       "    </tr>\n",
       "    <tr>\n",
       "      <th>1</th>\n",
       "      <td>1000</td>\n",
       "      <td>30720</td>\n",
       "      <td>3000</td>\n",
       "      <td>1950</td>\n",
       "      <td>150</td>\n",
       "      <td>1</td>\n",
       "      <td>1</td>\n",
       "      <td>ultra</td>\n",
       "    </tr>\n",
       "  </tbody>\n",
       "</table>\n",
       "</div>"
      ],
      "text/plain": [
       "   messages_included  mb_per_month_included  minutes_included  \\\n",
       "0                 50                  15360               500   \n",
       "1               1000                  30720              3000   \n",
       "\n",
       "   rub_monthly_fee  rub_per_gb  rub_per_message  rub_per_minute tariff_name  \n",
       "0              550         200                3               3       smart  \n",
       "1             1950         150                1               1       ultra  "
      ]
     },
     "execution_count": 11,
     "metadata": {},
     "output_type": "execute_result"
    }
   ],
   "source": [
    "tariffs.head()"
   ]
  },
  {
   "cell_type": "code",
   "execution_count": 12,
   "metadata": {},
   "outputs": [],
   "source": [
    "tariffs = tariffs.rename(columns={'tariff_name':'tariff'})"
   ]
  },
  {
   "cell_type": "markdown",
   "metadata": {},
   "source": [
    "**Вывод:**\n",
    "\n",
    "Данные по тарифам. В этой таблице все хорошо."
   ]
  },
  {
   "cell_type": "markdown",
   "metadata": {},
   "source": [
    "### Вывод"
   ]
  },
  {
   "cell_type": "markdown",
   "metadata": {},
   "source": [
    "Данные полные, без пропусков.\n",
    "\n",
    "Необходимо изменить тип данных:\n",
    "session_date - на datetime.\n",
    "\n",
    "Ещё раз взглянем на задание: «Мегалайн» всегда округляет вверх значения минут и мегабайт. Если пользователь проговорил всего 1 секунду, в тарифе засчитывается целая минута.\n",
    "Округляем в большую сторону до мегабайта весь трафик по каждой сессии при помощи np.ceil:"
   ]
  },
  {
   "cell_type": "markdown",
   "metadata": {},
   "source": [
    "## Предобработка данных"
   ]
  },
  {
   "cell_type": "markdown",
   "metadata": {},
   "source": [
    "### Заполнение пропусков"
   ]
  },
  {
   "cell_type": "markdown",
   "metadata": {},
   "source": [
    "Посмотрим на гистограмму распределения длительности звонков:"
   ]
  },
  {
   "cell_type": "code",
   "execution_count": 13,
   "metadata": {},
   "outputs": [
    {
     "data": {
      "text/plain": [
       "<AxesSubplot:ylabel='Frequency'>"
      ]
     },
     "execution_count": 13,
     "metadata": {},
     "output_type": "execute_result"
    },
    {
     "data": {
      "image/png": "[encoded data removed]",
      "text/plain": [
       "<Figure size 432x288 with 1 Axes>"
      ]
     },
     "metadata": {
      "needs_background": "light"
     },
     "output_type": "display_data"
    }
   ],
   "source": [
    "plt.style.use('seaborn-pastel')\n",
    "calls['duration'].plot(kind='hist', ec='black', bins=50)"
   ]
  },
  {
   "cell_type": "markdown",
   "metadata": {},
   "source": [
    "Можем быть, все звонки длительностью до 1 минуты, имеют длительность \"0\"? Проверяем:"
   ]
  },
  {
   "cell_type": "code",
   "execution_count": 14,
   "metadata": {},
   "outputs": [
    {
     "data": {
      "text/html": [
       "<div>\n",
       "<style scoped>\n",
       "    .dataframe tbody tr th:only-of-type {\n",
       "        vertical-align: middle;\n",
       "    }\n",
       "\n",
       "    .dataframe tbody tr th {\n",
       "        vertical-align: top;\n",
       "    }\n",
       "\n",
       "    .dataframe thead th {\n",
       "        text-align: right;\n",
       "    }\n",
       "</style>\n",
       "<table border=\"1\" class=\"dataframe\">\n",
       "  <thead>\n",
       "    <tr style=\"text-align: right;\">\n",
       "      <th></th>\n",
       "      <th>id</th>\n",
       "      <th>call_date</th>\n",
       "      <th>duration</th>\n",
       "      <th>user_id</th>\n",
       "    </tr>\n",
       "  </thead>\n",
       "  <tbody>\n",
       "    <tr>\n",
       "      <th>55</th>\n",
       "      <td>1000_55</td>\n",
       "      <td>2018-09-19</td>\n",
       "      <td>0.31</td>\n",
       "      <td>1000</td>\n",
       "    </tr>\n",
       "    <tr>\n",
       "      <th>65</th>\n",
       "      <td>1000_65</td>\n",
       "      <td>2018-10-28</td>\n",
       "      <td>0.34</td>\n",
       "      <td>1000</td>\n",
       "    </tr>\n",
       "    <tr>\n",
       "      <th>97</th>\n",
       "      <td>1000_97</td>\n",
       "      <td>2018-10-26</td>\n",
       "      <td>0.33</td>\n",
       "      <td>1000</td>\n",
       "    </tr>\n",
       "    <tr>\n",
       "      <th>122</th>\n",
       "      <td>1000_122</td>\n",
       "      <td>2018-10-07</td>\n",
       "      <td>0.13</td>\n",
       "      <td>1000</td>\n",
       "    </tr>\n",
       "    <tr>\n",
       "      <th>135</th>\n",
       "      <td>1000_135</td>\n",
       "      <td>2018-10-25</td>\n",
       "      <td>0.02</td>\n",
       "      <td>1000</td>\n",
       "    </tr>\n",
       "    <tr>\n",
       "      <th>...</th>\n",
       "      <td>...</td>\n",
       "      <td>...</td>\n",
       "      <td>...</td>\n",
       "      <td>...</td>\n",
       "    </tr>\n",
       "    <tr>\n",
       "      <th>202318</th>\n",
       "      <td>1498_111</td>\n",
       "      <td>2018-10-17</td>\n",
       "      <td>0.46</td>\n",
       "      <td>1498</td>\n",
       "    </tr>\n",
       "    <tr>\n",
       "      <th>202322</th>\n",
       "      <td>1498_115</td>\n",
       "      <td>2018-10-02</td>\n",
       "      <td>0.49</td>\n",
       "      <td>1498</td>\n",
       "    </tr>\n",
       "    <tr>\n",
       "      <th>202438</th>\n",
       "      <td>1499_51</td>\n",
       "      <td>2018-10-08</td>\n",
       "      <td>0.47</td>\n",
       "      <td>1499</td>\n",
       "    </tr>\n",
       "    <tr>\n",
       "      <th>202452</th>\n",
       "      <td>1499_65</td>\n",
       "      <td>2018-11-30</td>\n",
       "      <td>0.20</td>\n",
       "      <td>1499</td>\n",
       "    </tr>\n",
       "    <tr>\n",
       "      <th>202484</th>\n",
       "      <td>1499_97</td>\n",
       "      <td>2018-12-22</td>\n",
       "      <td>0.07</td>\n",
       "      <td>1499</td>\n",
       "    </tr>\n",
       "  </tbody>\n",
       "</table>\n",
       "<p>4074 rows × 4 columns</p>\n",
       "</div>"
      ],
      "text/plain": [
       "              id   call_date  duration  user_id\n",
       "55       1000_55  2018-09-19      0.31     1000\n",
       "65       1000_65  2018-10-28      0.34     1000\n",
       "97       1000_97  2018-10-26      0.33     1000\n",
       "122     1000_122  2018-10-07      0.13     1000\n",
       "135     1000_135  2018-10-25      0.02     1000\n",
       "...          ...         ...       ...      ...\n",
       "202318  1498_111  2018-10-17      0.46     1498\n",
       "202322  1498_115  2018-10-02      0.49     1498\n",
       "202438   1499_51  2018-10-08      0.47     1499\n",
       "202452   1499_65  2018-11-30      0.20     1499\n",
       "202484   1499_97  2018-12-22      0.07     1499\n",
       "\n",
       "[4074 rows x 4 columns]"
      ]
     },
     "execution_count": 14,
     "metadata": {},
     "output_type": "execute_result"
    }
   ],
   "source": [
    "calls.query('0 < duration < 0.5')"
   ]
  },
  {
   "cell_type": "markdown",
   "metadata": {},
   "source": [
    "Нет, всё не так. Есть звонки и околонулевой длительности.\n",
    "\n",
    "Ещё раз взглянем на задание: «Мегалайн» всегда округляет вверх значения минут и мегабайтов. Если пользователь проговорил всего 1 секунду, в тарифе засчитывается целая минута.\n",
    "Округляем в большую сторону до минуты все звонки при помощи np.ceil:"
   ]
  },
  {
   "cell_type": "code",
   "execution_count": 15,
   "metadata": {},
   "outputs": [
    {
     "data": {
      "text/html": [
       "<div>\n",
       "<style scoped>\n",
       "    .dataframe tbody tr th:only-of-type {\n",
       "        vertical-align: middle;\n",
       "    }\n",
       "\n",
       "    .dataframe tbody tr th {\n",
       "        vertical-align: top;\n",
       "    }\n",
       "\n",
       "    .dataframe thead th {\n",
       "        text-align: right;\n",
       "    }\n",
       "</style>\n",
       "<table border=\"1\" class=\"dataframe\">\n",
       "  <thead>\n",
       "    <tr style=\"text-align: right;\">\n",
       "      <th></th>\n",
       "      <th>id</th>\n",
       "      <th>call_date</th>\n",
       "      <th>duration</th>\n",
       "      <th>user_id</th>\n",
       "    </tr>\n",
       "  </thead>\n",
       "  <tbody>\n",
       "    <tr>\n",
       "      <th>0</th>\n",
       "      <td>1000_0</td>\n",
       "      <td>2018-07-25</td>\n",
       "      <td>0.0</td>\n",
       "      <td>1000</td>\n",
       "    </tr>\n",
       "    <tr>\n",
       "      <th>1</th>\n",
       "      <td>1000_1</td>\n",
       "      <td>2018-08-17</td>\n",
       "      <td>0.0</td>\n",
       "      <td>1000</td>\n",
       "    </tr>\n",
       "    <tr>\n",
       "      <th>2</th>\n",
       "      <td>1000_2</td>\n",
       "      <td>2018-06-11</td>\n",
       "      <td>3.0</td>\n",
       "      <td>1000</td>\n",
       "    </tr>\n",
       "    <tr>\n",
       "      <th>3</th>\n",
       "      <td>1000_3</td>\n",
       "      <td>2018-09-21</td>\n",
       "      <td>14.0</td>\n",
       "      <td>1000</td>\n",
       "    </tr>\n",
       "    <tr>\n",
       "      <th>4</th>\n",
       "      <td>1000_4</td>\n",
       "      <td>2018-12-15</td>\n",
       "      <td>6.0</td>\n",
       "      <td>1000</td>\n",
       "    </tr>\n",
       "  </tbody>\n",
       "</table>\n",
       "</div>"
      ],
      "text/plain": [
       "       id   call_date  duration  user_id\n",
       "0  1000_0  2018-07-25       0.0     1000\n",
       "1  1000_1  2018-08-17       0.0     1000\n",
       "2  1000_2  2018-06-11       3.0     1000\n",
       "3  1000_3  2018-09-21      14.0     1000\n",
       "4  1000_4  2018-12-15       6.0     1000"
      ]
     },
     "execution_count": 15,
     "metadata": {},
     "output_type": "execute_result"
    }
   ],
   "source": [
    "calls['duration'] = calls['duration'].apply(np.ceil)\n",
    "calls.head()"
   ]
  },
  {
   "cell_type": "markdown",
   "metadata": {},
   "source": [
    "Повторно посмотрим на гистограмму распределения длительности звонков:"
   ]
  },
  {
   "cell_type": "code",
   "execution_count": 16,
   "metadata": {},
   "outputs": [
    {
     "data": {
      "text/plain": [
       "<AxesSubplot:ylabel='Frequency'>"
      ]
     },
     "execution_count": 16,
     "metadata": {},
     "output_type": "execute_result"
    },
    {
     "data": {
      "image/png": "[encoded data removed]",
      "text/plain": [
       "<Figure size 432x288 with 1 Axes>"
      ]
     },
     "metadata": {
      "needs_background": "light"
     },
     "output_type": "display_data"
    }
   ],
   "source": [
    "calls['duration'].plot(kind='hist', ec='black', bins=50)"
   ]
  },
  {
   "cell_type": "markdown",
   "metadata": {},
   "source": [
    "Посмотрим на \"нулевые\" звонки:"
   ]
  },
  {
   "cell_type": "code",
   "execution_count": 17,
   "metadata": {},
   "outputs": [
    {
     "data": {
      "text/html": [
       "<div>\n",
       "<style scoped>\n",
       "    .dataframe tbody tr th:only-of-type {\n",
       "        vertical-align: middle;\n",
       "    }\n",
       "\n",
       "    .dataframe tbody tr th {\n",
       "        vertical-align: top;\n",
       "    }\n",
       "\n",
       "    .dataframe thead th {\n",
       "        text-align: right;\n",
       "    }\n",
       "</style>\n",
       "<table border=\"1\" class=\"dataframe\">\n",
       "  <thead>\n",
       "    <tr style=\"text-align: right;\">\n",
       "      <th></th>\n",
       "      <th>id</th>\n",
       "      <th>call_date</th>\n",
       "      <th>duration</th>\n",
       "      <th>user_id</th>\n",
       "    </tr>\n",
       "  </thead>\n",
       "  <tbody>\n",
       "    <tr>\n",
       "      <th>0</th>\n",
       "      <td>1000_0</td>\n",
       "      <td>2018-07-25</td>\n",
       "      <td>0.0</td>\n",
       "      <td>1000</td>\n",
       "    </tr>\n",
       "    <tr>\n",
       "      <th>1</th>\n",
       "      <td>1000_1</td>\n",
       "      <td>2018-08-17</td>\n",
       "      <td>0.0</td>\n",
       "      <td>1000</td>\n",
       "    </tr>\n",
       "    <tr>\n",
       "      <th>5</th>\n",
       "      <td>1000_5</td>\n",
       "      <td>2018-11-02</td>\n",
       "      <td>0.0</td>\n",
       "      <td>1000</td>\n",
       "    </tr>\n",
       "    <tr>\n",
       "      <th>6</th>\n",
       "      <td>1000_6</td>\n",
       "      <td>2018-10-18</td>\n",
       "      <td>0.0</td>\n",
       "      <td>1000</td>\n",
       "    </tr>\n",
       "    <tr>\n",
       "      <th>9</th>\n",
       "      <td>1000_9</td>\n",
       "      <td>2018-08-15</td>\n",
       "      <td>0.0</td>\n",
       "      <td>1000</td>\n",
       "    </tr>\n",
       "    <tr>\n",
       "      <th>...</th>\n",
       "      <td>...</td>\n",
       "      <td>...</td>\n",
       "      <td>...</td>\n",
       "      <td>...</td>\n",
       "    </tr>\n",
       "    <tr>\n",
       "      <th>202590</th>\n",
       "      <td>1499_203</td>\n",
       "      <td>2018-12-03</td>\n",
       "      <td>0.0</td>\n",
       "      <td>1499</td>\n",
       "    </tr>\n",
       "    <tr>\n",
       "      <th>202592</th>\n",
       "      <td>1499_205</td>\n",
       "      <td>2018-10-13</td>\n",
       "      <td>0.0</td>\n",
       "      <td>1499</td>\n",
       "    </tr>\n",
       "    <tr>\n",
       "      <th>202593</th>\n",
       "      <td>1499_206</td>\n",
       "      <td>2018-12-26</td>\n",
       "      <td>0.0</td>\n",
       "      <td>1499</td>\n",
       "    </tr>\n",
       "    <tr>\n",
       "      <th>202594</th>\n",
       "      <td>1499_207</td>\n",
       "      <td>2018-10-28</td>\n",
       "      <td>0.0</td>\n",
       "      <td>1499</td>\n",
       "    </tr>\n",
       "    <tr>\n",
       "      <th>202596</th>\n",
       "      <td>1499_209</td>\n",
       "      <td>2018-12-16</td>\n",
       "      <td>0.0</td>\n",
       "      <td>1499</td>\n",
       "    </tr>\n",
       "  </tbody>\n",
       "</table>\n",
       "<p>39613 rows × 4 columns</p>\n",
       "</div>"
      ],
      "text/plain": [
       "              id   call_date  duration  user_id\n",
       "0         1000_0  2018-07-25       0.0     1000\n",
       "1         1000_1  2018-08-17       0.0     1000\n",
       "5         1000_5  2018-11-02       0.0     1000\n",
       "6         1000_6  2018-10-18       0.0     1000\n",
       "9         1000_9  2018-08-15       0.0     1000\n",
       "...          ...         ...       ...      ...\n",
       "202590  1499_203  2018-12-03       0.0     1499\n",
       "202592  1499_205  2018-10-13       0.0     1499\n",
       "202593  1499_206  2018-12-26       0.0     1499\n",
       "202594  1499_207  2018-10-28       0.0     1499\n",
       "202596  1499_209  2018-12-16       0.0     1499\n",
       "\n",
       "[39613 rows x 4 columns]"
      ]
     },
     "execution_count": 17,
     "metadata": {},
     "output_type": "execute_result"
    }
   ],
   "source": [
    "calls.query('duration == 0.0')"
   ]
  },
  {
   "cell_type": "markdown",
   "metadata": {},
   "source": [
    "Их аж 40000. Проверим, к одному ли тарифу они относятся. Может быть, на каком-то тарифе так некорректно округлились данные, которые должны были округлиться в большую сторону (до 1 минуты):"
   ]
  },
  {
   "cell_type": "code",
   "execution_count": 18,
   "metadata": {},
   "outputs": [
    {
     "data": {
      "text/plain": [
       "smart    130315\n",
       "ultra     72292\n",
       "Name: Тариф, dtype: int64"
      ]
     },
     "execution_count": 18,
     "metadata": {},
     "output_type": "execute_result"
    }
   ],
   "source": [
    "map_to_fill_tariff = dict(pd.Series(users['tariff'].values, index=users['user_id']))\n",
    "calls['Тариф'] = calls['user_id'].map(map_to_fill_tariff)\n",
    "calls['Тариф'].value_counts()"
   ]
  },
  {
   "cell_type": "markdown",
   "metadata": {},
   "source": [
    "Не подтвердилась гипотеза - по каждому из тарифов есть нулевые звонки. Предполагаю, что это несостоявшиеся звонки. Нулевая их длительность вызвана прерыванием связи или случаями, когда у другого абонента было \"занято\" и поэтому происходил моментальный сброс вызова после дозвона. Т.к. они не расходуют лимиты минут и вообще не принимают участия в формировании конечной выручки, удаляем эти строки:"
   ]
  },
  {
   "cell_type": "code",
   "execution_count": 19,
   "metadata": {},
   "outputs": [],
   "source": [
    "calls['duration'] = calls['duration'].replace(0, np.NaN)\n",
    "calls = calls.dropna()"
   ]
  },
  {
   "cell_type": "markdown",
   "metadata": {},
   "source": [
    "Проверяем:"
   ]
  },
  {
   "cell_type": "code",
   "execution_count": 20,
   "metadata": {},
   "outputs": [
    {
     "data": {
      "text/plain": [
       "<AxesSubplot:ylabel='Frequency'>"
      ]
     },
     "execution_count": 20,
     "metadata": {},
     "output_type": "execute_result"
    },
    {
     "data": {
      "image/png": "[encoded data removed]",
      "text/plain": [
       "<Figure size 432x288 with 1 Axes>"
      ]
     },
     "metadata": {
      "needs_background": "light"
     },
     "output_type": "display_data"
    }
   ],
   "source": [
    "calls['duration'].plot(kind='hist', ec='black', bins=50)"
   ]
  },
  {
   "cell_type": "code",
   "execution_count": 21,
   "metadata": {},
   "outputs": [],
   "source": [
    "# internet['mb_used'] = internet['mb_used'].apply(np.ceil)\n",
    "# internet.head()"
   ]
  },
  {
   "cell_type": "markdown",
   "metadata": {},
   "source": [
    "Посмотрим на гистограмму распределения использования интернет-трафика в сессиях:"
   ]
  },
  {
   "cell_type": "code",
   "execution_count": 22,
   "metadata": {},
   "outputs": [
    {
     "data": {
      "text/plain": [
       "<AxesSubplot:ylabel='Frequency'>"
      ]
     },
     "execution_count": 22,
     "metadata": {},
     "output_type": "execute_result"
    },
    {
     "data": {
      "image/png": "[encoded data removed]",
      "text/plain": [
       "<Figure size 432x288 with 1 Axes>"
      ]
     },
     "metadata": {
      "needs_background": "light"
     },
     "output_type": "display_data"
    }
   ],
   "source": [
    "internet['mb_used'].plot(kind='hist', ec='black', bins=50)"
   ]
  },
  {
   "cell_type": "markdown",
   "metadata": {},
   "source": [
    "Посмотрим на строки с нулевым трафиком:"
   ]
  },
  {
   "cell_type": "code",
   "execution_count": 23,
   "metadata": {},
   "outputs": [
    {
     "data": {
      "text/html": [
       "<div>\n",
       "<style scoped>\n",
       "    .dataframe tbody tr th:only-of-type {\n",
       "        vertical-align: middle;\n",
       "    }\n",
       "\n",
       "    .dataframe tbody tr th {\n",
       "        vertical-align: top;\n",
       "    }\n",
       "\n",
       "    .dataframe thead th {\n",
       "        text-align: right;\n",
       "    }\n",
       "</style>\n",
       "<table border=\"1\" class=\"dataframe\">\n",
       "  <thead>\n",
       "    <tr style=\"text-align: right;\">\n",
       "      <th></th>\n",
       "      <th>id</th>\n",
       "      <th>mb_used</th>\n",
       "      <th>session_date</th>\n",
       "      <th>user_id</th>\n",
       "    </tr>\n",
       "  </thead>\n",
       "  <tbody>\n",
       "    <tr>\n",
       "      <th>11</th>\n",
       "      <td>1000_11</td>\n",
       "      <td>0.0</td>\n",
       "      <td>2018-08-28</td>\n",
       "      <td>1000</td>\n",
       "    </tr>\n",
       "    <tr>\n",
       "      <th>38</th>\n",
       "      <td>1000_38</td>\n",
       "      <td>0.0</td>\n",
       "      <td>2018-11-27</td>\n",
       "      <td>1000</td>\n",
       "    </tr>\n",
       "    <tr>\n",
       "      <th>46</th>\n",
       "      <td>1000_46</td>\n",
       "      <td>0.0</td>\n",
       "      <td>2018-06-30</td>\n",
       "      <td>1000</td>\n",
       "    </tr>\n",
       "    <tr>\n",
       "      <th>67</th>\n",
       "      <td>1000_67</td>\n",
       "      <td>0.0</td>\n",
       "      <td>2018-06-16</td>\n",
       "      <td>1000</td>\n",
       "    </tr>\n",
       "    <tr>\n",
       "      <th>72</th>\n",
       "      <td>1000_72</td>\n",
       "      <td>0.0</td>\n",
       "      <td>2018-06-15</td>\n",
       "      <td>1000</td>\n",
       "    </tr>\n",
       "    <tr>\n",
       "      <th>...</th>\n",
       "      <td>...</td>\n",
       "      <td>...</td>\n",
       "      <td>...</td>\n",
       "      <td>...</td>\n",
       "    </tr>\n",
       "    <tr>\n",
       "      <th>149380</th>\n",
       "      <td>1499_141</td>\n",
       "      <td>0.0</td>\n",
       "      <td>2018-12-11</td>\n",
       "      <td>1499</td>\n",
       "    </tr>\n",
       "    <tr>\n",
       "      <th>149381</th>\n",
       "      <td>1499_142</td>\n",
       "      <td>0.0</td>\n",
       "      <td>2018-11-01</td>\n",
       "      <td>1499</td>\n",
       "    </tr>\n",
       "    <tr>\n",
       "      <th>149383</th>\n",
       "      <td>1499_144</td>\n",
       "      <td>0.0</td>\n",
       "      <td>2018-11-27</td>\n",
       "      <td>1499</td>\n",
       "    </tr>\n",
       "    <tr>\n",
       "      <th>149386</th>\n",
       "      <td>1499_147</td>\n",
       "      <td>0.0</td>\n",
       "      <td>2018-10-21</td>\n",
       "      <td>1499</td>\n",
       "    </tr>\n",
       "    <tr>\n",
       "      <th>149393</th>\n",
       "      <td>1499_154</td>\n",
       "      <td>0.0</td>\n",
       "      <td>2018-10-27</td>\n",
       "      <td>1499</td>\n",
       "    </tr>\n",
       "  </tbody>\n",
       "</table>\n",
       "<p>19598 rows × 4 columns</p>\n",
       "</div>"
      ],
      "text/plain": [
       "              id  mb_used session_date  user_id\n",
       "11       1000_11      0.0   2018-08-28     1000\n",
       "38       1000_38      0.0   2018-11-27     1000\n",
       "46       1000_46      0.0   2018-06-30     1000\n",
       "67       1000_67      0.0   2018-06-16     1000\n",
       "72       1000_72      0.0   2018-06-15     1000\n",
       "...          ...      ...          ...      ...\n",
       "149380  1499_141      0.0   2018-12-11     1499\n",
       "149381  1499_142      0.0   2018-11-01     1499\n",
       "149383  1499_144      0.0   2018-11-27     1499\n",
       "149386  1499_147      0.0   2018-10-21     1499\n",
       "149393  1499_154      0.0   2018-10-27     1499\n",
       "\n",
       "[19598 rows x 4 columns]"
      ]
     },
     "execution_count": 23,
     "metadata": {},
     "output_type": "execute_result"
    }
   ],
   "source": [
    "internet.query('mb_used == 0')"
   ]
  },
  {
   "cell_type": "markdown",
   "metadata": {},
   "source": [
    "Таких строк аж 20000. Это сессии, когда подключение к интернету было включено, но в дальнейшем ни одной операции произведено не было (например, случаи, когда появляется и сразу пропадает связь).\n",
    "Эти строки необходимо исключить из датафрейма:"
   ]
  },
  {
   "cell_type": "code",
   "execution_count": 24,
   "metadata": {},
   "outputs": [],
   "source": [
    "internet['mb_used'] = internet['mb_used'].replace(0, np.NaN)\n",
    "internet = internet.dropna()"
   ]
  },
  {
   "cell_type": "code",
   "execution_count": 25,
   "metadata": {},
   "outputs": [
    {
     "data": {
      "text/plain": [
       "<AxesSubplot:ylabel='Frequency'>"
      ]
     },
     "execution_count": 25,
     "metadata": {},
     "output_type": "execute_result"
    },
    {
     "data": {
      "image/png": "[encoded data removed]",
      "text/plain": [
       "<Figure size 432x288 with 1 Axes>"
      ]
     },
     "metadata": {
      "needs_background": "light"
     },
     "output_type": "display_data"
    }
   ],
   "source": [
    "internet['mb_used'].plot(kind='hist', ec='black', bins=50)"
   ]
  },
  {
   "cell_type": "markdown",
   "metadata": {},
   "source": [
    "### Изменение типов данных данных"
   ]
  },
  {
   "cell_type": "markdown",
   "metadata": {},
   "source": [
    "Итак, по каждой из таблиц (users, calls, messages, internet) есть столбцы, где необходимо изменить тип данных на \"datetime\". Помимо этого, добавим столбец 'month'"
   ]
  },
  {
   "cell_type": "code",
   "execution_count": 26,
   "metadata": {},
   "outputs": [],
   "source": [
    "# столбец в формат datetime + добавление столбцов \"month\" \n",
    "def date_to_dt_month_season(dataframes):\n",
    "    for df in dataframes:\n",
    "        for column in df.columns:\n",
    "            if 'date' in column and column != 'churn_date':\n",
    "                df[column] = pd.to_datetime(df[column], format='%Y-%m-%d')\n",
    "                df['month'] = df[column].apply(lambda x: x.month)"
   ]
  },
  {
   "cell_type": "code",
   "execution_count": 27,
   "metadata": {},
   "outputs": [],
   "source": [
    "date_to_dt_month_season([users, calls, messages, internet])"
   ]
  },
  {
   "cell_type": "code",
   "execution_count": 28,
   "metadata": {},
   "outputs": [],
   "source": [
    "calls['duration'] = calls['duration'].astype('int')"
   ]
  },
  {
   "cell_type": "markdown",
   "metadata": {},
   "source": [
    "Проверим, что получилось:"
   ]
  },
  {
   "cell_type": "code",
   "execution_count": 29,
   "metadata": {},
   "outputs": [
    {
     "data": {
      "text/html": [
       "<div>\n",
       "<style scoped>\n",
       "    .dataframe tbody tr th:only-of-type {\n",
       "        vertical-align: middle;\n",
       "    }\n",
       "\n",
       "    .dataframe tbody tr th {\n",
       "        vertical-align: top;\n",
       "    }\n",
       "\n",
       "    .dataframe thead th {\n",
       "        text-align: right;\n",
       "    }\n",
       "</style>\n",
       "<table border=\"1\" class=\"dataframe\">\n",
       "  <thead>\n",
       "    <tr style=\"text-align: right;\">\n",
       "      <th></th>\n",
       "      <th>user_id</th>\n",
       "      <th>age</th>\n",
       "      <th>churn_date</th>\n",
       "      <th>city</th>\n",
       "      <th>first_name</th>\n",
       "      <th>last_name</th>\n",
       "      <th>reg_date</th>\n",
       "      <th>tariff</th>\n",
       "      <th>month</th>\n",
       "    </tr>\n",
       "  </thead>\n",
       "  <tbody>\n",
       "    <tr>\n",
       "      <th>0</th>\n",
       "      <td>1000</td>\n",
       "      <td>52</td>\n",
       "      <td>NaN</td>\n",
       "      <td>Краснодар</td>\n",
       "      <td>Рафаил</td>\n",
       "      <td>Верещагин</td>\n",
       "      <td>2018-05-25</td>\n",
       "      <td>ultra</td>\n",
       "      <td>5</td>\n",
       "    </tr>\n",
       "    <tr>\n",
       "      <th>1</th>\n",
       "      <td>1001</td>\n",
       "      <td>41</td>\n",
       "      <td>NaN</td>\n",
       "      <td>Москва</td>\n",
       "      <td>Иван</td>\n",
       "      <td>Ежов</td>\n",
       "      <td>2018-11-01</td>\n",
       "      <td>smart</td>\n",
       "      <td>11</td>\n",
       "    </tr>\n",
       "    <tr>\n",
       "      <th>2</th>\n",
       "      <td>1002</td>\n",
       "      <td>59</td>\n",
       "      <td>NaN</td>\n",
       "      <td>Стерлитамак</td>\n",
       "      <td>Евгений</td>\n",
       "      <td>Абрамович</td>\n",
       "      <td>2018-06-17</td>\n",
       "      <td>smart</td>\n",
       "      <td>6</td>\n",
       "    </tr>\n",
       "    <tr>\n",
       "      <th>3</th>\n",
       "      <td>1003</td>\n",
       "      <td>23</td>\n",
       "      <td>NaN</td>\n",
       "      <td>Москва</td>\n",
       "      <td>Белла</td>\n",
       "      <td>Белякова</td>\n",
       "      <td>2018-08-17</td>\n",
       "      <td>ultra</td>\n",
       "      <td>8</td>\n",
       "    </tr>\n",
       "    <tr>\n",
       "      <th>4</th>\n",
       "      <td>1004</td>\n",
       "      <td>68</td>\n",
       "      <td>NaN</td>\n",
       "      <td>Новокузнецк</td>\n",
       "      <td>Татьяна</td>\n",
       "      <td>Авдеенко</td>\n",
       "      <td>2018-05-14</td>\n",
       "      <td>ultra</td>\n",
       "      <td>5</td>\n",
       "    </tr>\n",
       "  </tbody>\n",
       "</table>\n",
       "</div>"
      ],
      "text/plain": [
       "   user_id  age churn_date         city first_name  last_name   reg_date  \\\n",
       "0     1000   52        NaN    Краснодар     Рафаил  Верещагин 2018-05-25   \n",
       "1     1001   41        NaN       Москва       Иван       Ежов 2018-11-01   \n",
       "2     1002   59        NaN  Стерлитамак    Евгений  Абрамович 2018-06-17   \n",
       "3     1003   23        NaN       Москва      Белла   Белякова 2018-08-17   \n",
       "4     1004   68        NaN  Новокузнецк    Татьяна   Авдеенко 2018-05-14   \n",
       "\n",
       "  tariff  month  \n",
       "0  ultra      5  \n",
       "1  smart     11  \n",
       "2  smart      6  \n",
       "3  ultra      8  \n",
       "4  ultra      5  "
      ]
     },
     "execution_count": 29,
     "metadata": {},
     "output_type": "execute_result"
    }
   ],
   "source": [
    "users.head()"
   ]
  },
  {
   "cell_type": "code",
   "execution_count": 30,
   "metadata": {},
   "outputs": [
    {
     "data": {
      "text/html": [
       "<div>\n",
       "<style scoped>\n",
       "    .dataframe tbody tr th:only-of-type {\n",
       "        vertical-align: middle;\n",
       "    }\n",
       "\n",
       "    .dataframe tbody tr th {\n",
       "        vertical-align: top;\n",
       "    }\n",
       "\n",
       "    .dataframe thead th {\n",
       "        text-align: right;\n",
       "    }\n",
       "</style>\n",
       "<table border=\"1\" class=\"dataframe\">\n",
       "  <thead>\n",
       "    <tr style=\"text-align: right;\">\n",
       "      <th></th>\n",
       "      <th>id</th>\n",
       "      <th>call_date</th>\n",
       "      <th>duration</th>\n",
       "      <th>user_id</th>\n",
       "      <th>Тариф</th>\n",
       "      <th>month</th>\n",
       "    </tr>\n",
       "  </thead>\n",
       "  <tbody>\n",
       "    <tr>\n",
       "      <th>2</th>\n",
       "      <td>1000_2</td>\n",
       "      <td>2018-06-11</td>\n",
       "      <td>3</td>\n",
       "      <td>1000</td>\n",
       "      <td>ultra</td>\n",
       "      <td>6</td>\n",
       "    </tr>\n",
       "    <tr>\n",
       "      <th>3</th>\n",
       "      <td>1000_3</td>\n",
       "      <td>2018-09-21</td>\n",
       "      <td>14</td>\n",
       "      <td>1000</td>\n",
       "      <td>ultra</td>\n",
       "      <td>9</td>\n",
       "    </tr>\n",
       "    <tr>\n",
       "      <th>4</th>\n",
       "      <td>1000_4</td>\n",
       "      <td>2018-12-15</td>\n",
       "      <td>6</td>\n",
       "      <td>1000</td>\n",
       "      <td>ultra</td>\n",
       "      <td>12</td>\n",
       "    </tr>\n",
       "    <tr>\n",
       "      <th>7</th>\n",
       "      <td>1000_7</td>\n",
       "      <td>2018-08-22</td>\n",
       "      <td>19</td>\n",
       "      <td>1000</td>\n",
       "      <td>ultra</td>\n",
       "      <td>8</td>\n",
       "    </tr>\n",
       "    <tr>\n",
       "      <th>8</th>\n",
       "      <td>1000_8</td>\n",
       "      <td>2018-09-15</td>\n",
       "      <td>19</td>\n",
       "      <td>1000</td>\n",
       "      <td>ultra</td>\n",
       "      <td>9</td>\n",
       "    </tr>\n",
       "  </tbody>\n",
       "</table>\n",
       "</div>"
      ],
      "text/plain": [
       "       id  call_date  duration  user_id  Тариф  month\n",
       "2  1000_2 2018-06-11         3     1000  ultra      6\n",
       "3  1000_3 2018-09-21        14     1000  ultra      9\n",
       "4  1000_4 2018-12-15         6     1000  ultra     12\n",
       "7  1000_7 2018-08-22        19     1000  ultra      8\n",
       "8  1000_8 2018-09-15        19     1000  ultra      9"
      ]
     },
     "execution_count": 30,
     "metadata": {},
     "output_type": "execute_result"
    }
   ],
   "source": [
    "calls.head()"
   ]
  },
  {
   "cell_type": "code",
   "execution_count": 31,
   "metadata": {},
   "outputs": [
    {
     "data": {
      "text/html": [
       "<div>\n",
       "<style scoped>\n",
       "    .dataframe tbody tr th:only-of-type {\n",
       "        vertical-align: middle;\n",
       "    }\n",
       "\n",
       "    .dataframe tbody tr th {\n",
       "        vertical-align: top;\n",
       "    }\n",
       "\n",
       "    .dataframe thead th {\n",
       "        text-align: right;\n",
       "    }\n",
       "</style>\n",
       "<table border=\"1\" class=\"dataframe\">\n",
       "  <thead>\n",
       "    <tr style=\"text-align: right;\">\n",
       "      <th></th>\n",
       "      <th>id</th>\n",
       "      <th>message_date</th>\n",
       "      <th>user_id</th>\n",
       "      <th>month</th>\n",
       "    </tr>\n",
       "  </thead>\n",
       "  <tbody>\n",
       "    <tr>\n",
       "      <th>0</th>\n",
       "      <td>1000_0</td>\n",
       "      <td>2018-06-27</td>\n",
       "      <td>1000</td>\n",
       "      <td>6</td>\n",
       "    </tr>\n",
       "    <tr>\n",
       "      <th>1</th>\n",
       "      <td>1000_1</td>\n",
       "      <td>2018-10-08</td>\n",
       "      <td>1000</td>\n",
       "      <td>10</td>\n",
       "    </tr>\n",
       "    <tr>\n",
       "      <th>2</th>\n",
       "      <td>1000_2</td>\n",
       "      <td>2018-08-04</td>\n",
       "      <td>1000</td>\n",
       "      <td>8</td>\n",
       "    </tr>\n",
       "    <tr>\n",
       "      <th>3</th>\n",
       "      <td>1000_3</td>\n",
       "      <td>2018-06-16</td>\n",
       "      <td>1000</td>\n",
       "      <td>6</td>\n",
       "    </tr>\n",
       "    <tr>\n",
       "      <th>4</th>\n",
       "      <td>1000_4</td>\n",
       "      <td>2018-12-05</td>\n",
       "      <td>1000</td>\n",
       "      <td>12</td>\n",
       "    </tr>\n",
       "  </tbody>\n",
       "</table>\n",
       "</div>"
      ],
      "text/plain": [
       "       id message_date  user_id  month\n",
       "0  1000_0   2018-06-27     1000      6\n",
       "1  1000_1   2018-10-08     1000     10\n",
       "2  1000_2   2018-08-04     1000      8\n",
       "3  1000_3   2018-06-16     1000      6\n",
       "4  1000_4   2018-12-05     1000     12"
      ]
     },
     "execution_count": 31,
     "metadata": {},
     "output_type": "execute_result"
    }
   ],
   "source": [
    "messages.head()"
   ]
  },
  {
   "cell_type": "code",
   "execution_count": 32,
   "metadata": {
    "scrolled": true
   },
   "outputs": [
    {
     "data": {
      "text/html": [
       "<div>\n",
       "<style scoped>\n",
       "    .dataframe tbody tr th:only-of-type {\n",
       "        vertical-align: middle;\n",
       "    }\n",
       "\n",
       "    .dataframe tbody tr th {\n",
       "        vertical-align: top;\n",
       "    }\n",
       "\n",
       "    .dataframe thead th {\n",
       "        text-align: right;\n",
       "    }\n",
       "</style>\n",
       "<table border=\"1\" class=\"dataframe\">\n",
       "  <thead>\n",
       "    <tr style=\"text-align: right;\">\n",
       "      <th></th>\n",
       "      <th>id</th>\n",
       "      <th>mb_used</th>\n",
       "      <th>session_date</th>\n",
       "      <th>user_id</th>\n",
       "      <th>month</th>\n",
       "    </tr>\n",
       "  </thead>\n",
       "  <tbody>\n",
       "    <tr>\n",
       "      <th>0</th>\n",
       "      <td>1000_0</td>\n",
       "      <td>112.95</td>\n",
       "      <td>2018-11-25</td>\n",
       "      <td>1000</td>\n",
       "      <td>11</td>\n",
       "    </tr>\n",
       "    <tr>\n",
       "      <th>1</th>\n",
       "      <td>1000_1</td>\n",
       "      <td>1052.81</td>\n",
       "      <td>2018-09-07</td>\n",
       "      <td>1000</td>\n",
       "      <td>9</td>\n",
       "    </tr>\n",
       "    <tr>\n",
       "      <th>2</th>\n",
       "      <td>1000_2</td>\n",
       "      <td>1197.26</td>\n",
       "      <td>2018-06-25</td>\n",
       "      <td>1000</td>\n",
       "      <td>6</td>\n",
       "    </tr>\n",
       "    <tr>\n",
       "      <th>3</th>\n",
       "      <td>1000_3</td>\n",
       "      <td>550.27</td>\n",
       "      <td>2018-08-22</td>\n",
       "      <td>1000</td>\n",
       "      <td>8</td>\n",
       "    </tr>\n",
       "    <tr>\n",
       "      <th>4</th>\n",
       "      <td>1000_4</td>\n",
       "      <td>302.56</td>\n",
       "      <td>2018-09-24</td>\n",
       "      <td>1000</td>\n",
       "      <td>9</td>\n",
       "    </tr>\n",
       "  </tbody>\n",
       "</table>\n",
       "</div>"
      ],
      "text/plain": [
       "       id  mb_used session_date  user_id  month\n",
       "0  1000_0   112.95   2018-11-25     1000     11\n",
       "1  1000_1  1052.81   2018-09-07     1000      9\n",
       "2  1000_2  1197.26   2018-06-25     1000      6\n",
       "3  1000_3   550.27   2018-08-22     1000      8\n",
       "4  1000_4   302.56   2018-09-24     1000      9"
      ]
     },
     "execution_count": 32,
     "metadata": {},
     "output_type": "execute_result"
    }
   ],
   "source": [
    "internet.head()"
   ]
  },
  {
   "cell_type": "markdown",
   "metadata": {},
   "source": [
    "Всё хорошо: даты стали датами. "
   ]
  },
  {
   "cell_type": "markdown",
   "metadata": {},
   "source": [
    "### Дубликаты"
   ]
  },
  {
   "cell_type": "code",
   "execution_count": 33,
   "metadata": {},
   "outputs": [
    {
     "name": "stdout",
     "output_type": "stream",
     "text": [
      "Число дубликатов в users: 0\n",
      "Число дубликатов в calls: 0\n",
      "Число дубликатов в messages: 0\n",
      "Число дубликатов в internet: 0\n",
      "Число дубликатов в tariffs: 0\n"
     ]
    }
   ],
   "source": [
    "print(\"Число дубликатов в users:\", users.duplicated().sum())\n",
    "print(\"Число дубликатов в calls:\", calls.duplicated().sum())\n",
    "print(\"Число дубликатов в messages:\", messages.duplicated().sum())\n",
    "print(\"Число дубликатов в internet:\", internet.duplicated().sum())\n",
    "print(\"Число дубликатов в tariffs:\", tariffs.duplicated().sum())"
   ]
  },
  {
   "cell_type": "markdown",
   "metadata": {},
   "source": [
    "Дубликатов не обнаружено"
   ]
  },
  {
   "cell_type": "markdown",
   "metadata": {},
   "source": [
    "### Вывод\n",
    "\n",
    "В ходе работы над данными было сделано:\n",
    "* Заполнены нулевые значения в duration и mb_used.\n",
    "* Приведены типы данных.\n",
    "* Выполнена проверка на дубликаты.\n",
    "* Сформированна таблица со всеми данными по пользователям."
   ]
  },
  {
   "cell_type": "markdown",
   "metadata": {},
   "source": [
    "## Расчёты и добавление результатов в таблицу"
   ]
  },
  {
   "cell_type": "markdown",
   "metadata": {},
   "source": [
    "Посчитайте для каждого пользователя:\n",
    "\n",
    "- количество сделанных звонков и израсходованных минут разговора по месяцам\n",
    "- количество отправленных сообщений по месяцам\n",
    "- объем израсходованного интернет-трафика по месяцам\n",
    "- помесячную выручку с каждого пользователя"
   ]
  },
  {
   "cell_type": "markdown",
   "metadata": {},
   "source": [
    "### Количество сделанных звонков и израсходованных минут разговора по месяцам"
   ]
  },
  {
   "cell_type": "code",
   "execution_count": 34,
   "metadata": {},
   "outputs": [],
   "source": [
    "user_calls = calls.groupby(['user_id', 'month'])\\\n",
    "                  .agg({'duration':'sum', 'id':'count'})\\\n",
    "                  .reset_index()\\\n",
    "                  .rename(columns={'duration':'month_calls_duration','id':'calls_total_in_month'})"
   ]
  },
  {
   "cell_type": "code",
   "execution_count": 35,
   "metadata": {},
   "outputs": [
    {
     "data": {
      "text/html": [
       "<div>\n",
       "<style scoped>\n",
       "    .dataframe tbody tr th:only-of-type {\n",
       "        vertical-align: middle;\n",
       "    }\n",
       "\n",
       "    .dataframe tbody tr th {\n",
       "        vertical-align: top;\n",
       "    }\n",
       "\n",
       "    .dataframe thead th {\n",
       "        text-align: right;\n",
       "    }\n",
       "</style>\n",
       "<table border=\"1\" class=\"dataframe\">\n",
       "  <thead>\n",
       "    <tr style=\"text-align: right;\">\n",
       "      <th></th>\n",
       "      <th>user_id</th>\n",
       "      <th>month</th>\n",
       "      <th>month_calls_duration</th>\n",
       "      <th>calls_total_in_month</th>\n",
       "    </tr>\n",
       "  </thead>\n",
       "  <tbody>\n",
       "    <tr>\n",
       "      <th>0</th>\n",
       "      <td>1000</td>\n",
       "      <td>5</td>\n",
       "      <td>159</td>\n",
       "      <td>17</td>\n",
       "    </tr>\n",
       "    <tr>\n",
       "      <th>1</th>\n",
       "      <td>1000</td>\n",
       "      <td>6</td>\n",
       "      <td>172</td>\n",
       "      <td>28</td>\n",
       "    </tr>\n",
       "    <tr>\n",
       "      <th>2</th>\n",
       "      <td>1000</td>\n",
       "      <td>7</td>\n",
       "      <td>340</td>\n",
       "      <td>41</td>\n",
       "    </tr>\n",
       "    <tr>\n",
       "      <th>3</th>\n",
       "      <td>1000</td>\n",
       "      <td>8</td>\n",
       "      <td>408</td>\n",
       "      <td>42</td>\n",
       "    </tr>\n",
       "    <tr>\n",
       "      <th>4</th>\n",
       "      <td>1000</td>\n",
       "      <td>9</td>\n",
       "      <td>466</td>\n",
       "      <td>46</td>\n",
       "    </tr>\n",
       "  </tbody>\n",
       "</table>\n",
       "</div>"
      ],
      "text/plain": [
       "   user_id  month  month_calls_duration  calls_total_in_month\n",
       "0     1000      5                   159                    17\n",
       "1     1000      6                   172                    28\n",
       "2     1000      7                   340                    41\n",
       "3     1000      8                   408                    42\n",
       "4     1000      9                   466                    46"
      ]
     },
     "execution_count": 35,
     "metadata": {},
     "output_type": "execute_result"
    }
   ],
   "source": [
    "user_calls.head()"
   ]
  },
  {
   "cell_type": "markdown",
   "metadata": {},
   "source": [
    "### Количество отправленных сообщений по месяцам"
   ]
  },
  {
   "cell_type": "code",
   "execution_count": 36,
   "metadata": {},
   "outputs": [
    {
     "data": {
      "text/html": [
       "<div>\n",
       "<style scoped>\n",
       "    .dataframe tbody tr th:only-of-type {\n",
       "        vertical-align: middle;\n",
       "    }\n",
       "\n",
       "    .dataframe tbody tr th {\n",
       "        vertical-align: top;\n",
       "    }\n",
       "\n",
       "    .dataframe thead th {\n",
       "        text-align: right;\n",
       "    }\n",
       "</style>\n",
       "<table border=\"1\" class=\"dataframe\">\n",
       "  <thead>\n",
       "    <tr style=\"text-align: right;\">\n",
       "      <th></th>\n",
       "      <th>user_id</th>\n",
       "      <th>month</th>\n",
       "      <th>sms_total_in_month</th>\n",
       "    </tr>\n",
       "  </thead>\n",
       "  <tbody>\n",
       "    <tr>\n",
       "      <th>0</th>\n",
       "      <td>1000</td>\n",
       "      <td>5</td>\n",
       "      <td>22</td>\n",
       "    </tr>\n",
       "    <tr>\n",
       "      <th>1</th>\n",
       "      <td>1000</td>\n",
       "      <td>6</td>\n",
       "      <td>60</td>\n",
       "    </tr>\n",
       "    <tr>\n",
       "      <th>2</th>\n",
       "      <td>1000</td>\n",
       "      <td>7</td>\n",
       "      <td>75</td>\n",
       "    </tr>\n",
       "    <tr>\n",
       "      <th>3</th>\n",
       "      <td>1000</td>\n",
       "      <td>8</td>\n",
       "      <td>81</td>\n",
       "    </tr>\n",
       "    <tr>\n",
       "      <th>4</th>\n",
       "      <td>1000</td>\n",
       "      <td>9</td>\n",
       "      <td>57</td>\n",
       "    </tr>\n",
       "  </tbody>\n",
       "</table>\n",
       "</div>"
      ],
      "text/plain": [
       "   user_id  month  sms_total_in_month\n",
       "0     1000      5                  22\n",
       "1     1000      6                  60\n",
       "2     1000      7                  75\n",
       "3     1000      8                  81\n",
       "4     1000      9                  57"
      ]
     },
     "execution_count": 36,
     "metadata": {},
     "output_type": "execute_result"
    }
   ],
   "source": [
    "user_messages = messages.groupby(['user_id', 'month'])\\\n",
    "                        .agg({'id':'count'})\\\n",
    "                        .reset_index()\\\n",
    "                        .rename(columns={'id':'sms_total_in_month'})\n",
    "user_messages.head()"
   ]
  },
  {
   "cell_type": "markdown",
   "metadata": {},
   "source": [
    "### Объем израсходованного интернет-трафика по месяцам"
   ]
  },
  {
   "cell_type": "code",
   "execution_count": 37,
   "metadata": {},
   "outputs": [
    {
     "data": {
      "text/html": [
       "<div>\n",
       "<style scoped>\n",
       "    .dataframe tbody tr th:only-of-type {\n",
       "        vertical-align: middle;\n",
       "    }\n",
       "\n",
       "    .dataframe tbody tr th {\n",
       "        vertical-align: top;\n",
       "    }\n",
       "\n",
       "    .dataframe thead th {\n",
       "        text-align: right;\n",
       "    }\n",
       "</style>\n",
       "<table border=\"1\" class=\"dataframe\">\n",
       "  <thead>\n",
       "    <tr style=\"text-align: right;\">\n",
       "      <th></th>\n",
       "      <th>user_id</th>\n",
       "      <th>month</th>\n",
       "      <th>mb_total_in_month</th>\n",
       "    </tr>\n",
       "  </thead>\n",
       "  <tbody>\n",
       "    <tr>\n",
       "      <th>0</th>\n",
       "      <td>1000</td>\n",
       "      <td>5</td>\n",
       "      <td>2253.49</td>\n",
       "    </tr>\n",
       "    <tr>\n",
       "      <th>1</th>\n",
       "      <td>1000</td>\n",
       "      <td>6</td>\n",
       "      <td>23233.77</td>\n",
       "    </tr>\n",
       "    <tr>\n",
       "      <th>2</th>\n",
       "      <td>1000</td>\n",
       "      <td>7</td>\n",
       "      <td>14003.64</td>\n",
       "    </tr>\n",
       "    <tr>\n",
       "      <th>3</th>\n",
       "      <td>1000</td>\n",
       "      <td>8</td>\n",
       "      <td>14055.93</td>\n",
       "    </tr>\n",
       "    <tr>\n",
       "      <th>4</th>\n",
       "      <td>1000</td>\n",
       "      <td>9</td>\n",
       "      <td>14568.91</td>\n",
       "    </tr>\n",
       "  </tbody>\n",
       "</table>\n",
       "</div>"
      ],
      "text/plain": [
       "   user_id  month  mb_total_in_month\n",
       "0     1000      5            2253.49\n",
       "1     1000      6           23233.77\n",
       "2     1000      7           14003.64\n",
       "3     1000      8           14055.93\n",
       "4     1000      9           14568.91"
      ]
     },
     "execution_count": 37,
     "metadata": {},
     "output_type": "execute_result"
    }
   ],
   "source": [
    "user_internet = internet.groupby(['user_id', 'month'])\\\n",
    "                        .agg({'mb_used':'sum'})\\\n",
    "                        .reset_index()\\\n",
    "                        .rename(columns={'mb_used':'mb_total_in_month'})\n",
    "user_internet.head()\n"
   ]
  },
  {
   "cell_type": "code",
   "execution_count": 38,
   "metadata": {},
   "outputs": [
    {
     "data": {
      "text/html": [
       "<div>\n",
       "<style scoped>\n",
       "    .dataframe tbody tr th:only-of-type {\n",
       "        vertical-align: middle;\n",
       "    }\n",
       "\n",
       "    .dataframe tbody tr th {\n",
       "        vertical-align: top;\n",
       "    }\n",
       "\n",
       "    .dataframe thead th {\n",
       "        text-align: right;\n",
       "    }\n",
       "</style>\n",
       "<table border=\"1\" class=\"dataframe\">\n",
       "  <thead>\n",
       "    <tr style=\"text-align: right;\">\n",
       "      <th></th>\n",
       "      <th>user_id</th>\n",
       "      <th>month</th>\n",
       "      <th>mb_total_in_month</th>\n",
       "    </tr>\n",
       "  </thead>\n",
       "  <tbody>\n",
       "    <tr>\n",
       "      <th>0</th>\n",
       "      <td>1000</td>\n",
       "      <td>5</td>\n",
       "      <td>2254.0</td>\n",
       "    </tr>\n",
       "    <tr>\n",
       "      <th>1</th>\n",
       "      <td>1000</td>\n",
       "      <td>6</td>\n",
       "      <td>23234.0</td>\n",
       "    </tr>\n",
       "    <tr>\n",
       "      <th>2</th>\n",
       "      <td>1000</td>\n",
       "      <td>7</td>\n",
       "      <td>14004.0</td>\n",
       "    </tr>\n",
       "    <tr>\n",
       "      <th>3</th>\n",
       "      <td>1000</td>\n",
       "      <td>8</td>\n",
       "      <td>14056.0</td>\n",
       "    </tr>\n",
       "    <tr>\n",
       "      <th>4</th>\n",
       "      <td>1000</td>\n",
       "      <td>9</td>\n",
       "      <td>14569.0</td>\n",
       "    </tr>\n",
       "  </tbody>\n",
       "</table>\n",
       "</div>"
      ],
      "text/plain": [
       "   user_id  month  mb_total_in_month\n",
       "0     1000      5             2254.0\n",
       "1     1000      6            23234.0\n",
       "2     1000      7            14004.0\n",
       "3     1000      8            14056.0\n",
       "4     1000      9            14569.0"
      ]
     },
     "execution_count": 38,
     "metadata": {},
     "output_type": "execute_result"
    }
   ],
   "source": [
    "user_internet['mb_total_in_month'] = user_internet['mb_total_in_month'].apply(np.ceil)\n",
    "user_internet.head()"
   ]
  },
  {
   "cell_type": "markdown",
   "metadata": {},
   "source": [
    "Округляем до целого месячный трафик при помощи np.ceil:"
   ]
  },
  {
   "cell_type": "markdown",
   "metadata": {},
   "source": [
    "### Месячная выручка с каждого пользователя"
   ]
  },
  {
   "cell_type": "code",
   "execution_count": 39,
   "metadata": {},
   "outputs": [],
   "source": [
    "df = user_calls.merge(user_messages, on=['user_id','month'], how='outer')"
   ]
  },
  {
   "cell_type": "code",
   "execution_count": 40,
   "metadata": {},
   "outputs": [
    {
     "data": {
      "text/html": [
       "<div>\n",
       "<style scoped>\n",
       "    .dataframe tbody tr th:only-of-type {\n",
       "        vertical-align: middle;\n",
       "    }\n",
       "\n",
       "    .dataframe tbody tr th {\n",
       "        vertical-align: top;\n",
       "    }\n",
       "\n",
       "    .dataframe thead th {\n",
       "        text-align: right;\n",
       "    }\n",
       "</style>\n",
       "<table border=\"1\" class=\"dataframe\">\n",
       "  <thead>\n",
       "    <tr style=\"text-align: right;\">\n",
       "      <th></th>\n",
       "      <th>user_id</th>\n",
       "      <th>month</th>\n",
       "      <th>month_calls_duration</th>\n",
       "      <th>calls_total_in_month</th>\n",
       "      <th>sms_total_in_month</th>\n",
       "    </tr>\n",
       "  </thead>\n",
       "  <tbody>\n",
       "    <tr>\n",
       "      <th>0</th>\n",
       "      <td>1000</td>\n",
       "      <td>5</td>\n",
       "      <td>159.0</td>\n",
       "      <td>17.0</td>\n",
       "      <td>22.0</td>\n",
       "    </tr>\n",
       "    <tr>\n",
       "      <th>1</th>\n",
       "      <td>1000</td>\n",
       "      <td>6</td>\n",
       "      <td>172.0</td>\n",
       "      <td>28.0</td>\n",
       "      <td>60.0</td>\n",
       "    </tr>\n",
       "    <tr>\n",
       "      <th>2</th>\n",
       "      <td>1000</td>\n",
       "      <td>7</td>\n",
       "      <td>340.0</td>\n",
       "      <td>41.0</td>\n",
       "      <td>75.0</td>\n",
       "    </tr>\n",
       "    <tr>\n",
       "      <th>3</th>\n",
       "      <td>1000</td>\n",
       "      <td>8</td>\n",
       "      <td>408.0</td>\n",
       "      <td>42.0</td>\n",
       "      <td>81.0</td>\n",
       "    </tr>\n",
       "    <tr>\n",
       "      <th>4</th>\n",
       "      <td>1000</td>\n",
       "      <td>9</td>\n",
       "      <td>466.0</td>\n",
       "      <td>46.0</td>\n",
       "      <td>57.0</td>\n",
       "    </tr>\n",
       "  </tbody>\n",
       "</table>\n",
       "</div>"
      ],
      "text/plain": [
       "   user_id  month  month_calls_duration  calls_total_in_month  \\\n",
       "0     1000      5                 159.0                  17.0   \n",
       "1     1000      6                 172.0                  28.0   \n",
       "2     1000      7                 340.0                  41.0   \n",
       "3     1000      8                 408.0                  42.0   \n",
       "4     1000      9                 466.0                  46.0   \n",
       "\n",
       "   sms_total_in_month  \n",
       "0                22.0  \n",
       "1                60.0  \n",
       "2                75.0  \n",
       "3                81.0  \n",
       "4                57.0  "
      ]
     },
     "execution_count": 40,
     "metadata": {},
     "output_type": "execute_result"
    }
   ],
   "source": [
    "df.head()"
   ]
  },
  {
   "cell_type": "code",
   "execution_count": 41,
   "metadata": {},
   "outputs": [
    {
     "data": {
      "text/html": [
       "<div>\n",
       "<style scoped>\n",
       "    .dataframe tbody tr th:only-of-type {\n",
       "        vertical-align: middle;\n",
       "    }\n",
       "\n",
       "    .dataframe tbody tr th {\n",
       "        vertical-align: top;\n",
       "    }\n",
       "\n",
       "    .dataframe thead th {\n",
       "        text-align: right;\n",
       "    }\n",
       "</style>\n",
       "<table border=\"1\" class=\"dataframe\">\n",
       "  <thead>\n",
       "    <tr style=\"text-align: right;\">\n",
       "      <th></th>\n",
       "      <th>user_id</th>\n",
       "      <th>month</th>\n",
       "      <th>month_calls_duration</th>\n",
       "      <th>calls_total_in_month</th>\n",
       "      <th>sms_total_in_month</th>\n",
       "      <th>mb_total_in_month</th>\n",
       "    </tr>\n",
       "  </thead>\n",
       "  <tbody>\n",
       "    <tr>\n",
       "      <th>3209</th>\n",
       "      <td>1489</td>\n",
       "      <td>10</td>\n",
       "      <td>NaN</td>\n",
       "      <td>NaN</td>\n",
       "      <td>21.0</td>\n",
       "      <td>19560.0</td>\n",
       "    </tr>\n",
       "    <tr>\n",
       "      <th>3210</th>\n",
       "      <td>1489</td>\n",
       "      <td>11</td>\n",
       "      <td>NaN</td>\n",
       "      <td>NaN</td>\n",
       "      <td>20.0</td>\n",
       "      <td>17492.0</td>\n",
       "    </tr>\n",
       "    <tr>\n",
       "      <th>3211</th>\n",
       "      <td>1489</td>\n",
       "      <td>12</td>\n",
       "      <td>NaN</td>\n",
       "      <td>NaN</td>\n",
       "      <td>35.0</td>\n",
       "      <td>17323.0</td>\n",
       "    </tr>\n",
       "    <tr>\n",
       "      <th>3212</th>\n",
       "      <td>1240</td>\n",
       "      <td>2</td>\n",
       "      <td>NaN</td>\n",
       "      <td>NaN</td>\n",
       "      <td>NaN</td>\n",
       "      <td>960.0</td>\n",
       "    </tr>\n",
       "    <tr>\n",
       "      <th>3213</th>\n",
       "      <td>1476</td>\n",
       "      <td>4</td>\n",
       "      <td>NaN</td>\n",
       "      <td>NaN</td>\n",
       "      <td>NaN</td>\n",
       "      <td>531.0</td>\n",
       "    </tr>\n",
       "  </tbody>\n",
       "</table>\n",
       "</div>"
      ],
      "text/plain": [
       "      user_id  month  month_calls_duration  calls_total_in_month  \\\n",
       "3209     1489     10                   NaN                   NaN   \n",
       "3210     1489     11                   NaN                   NaN   \n",
       "3211     1489     12                   NaN                   NaN   \n",
       "3212     1240      2                   NaN                   NaN   \n",
       "3213     1476      4                   NaN                   NaN   \n",
       "\n",
       "      sms_total_in_month  mb_total_in_month  \n",
       "3209                21.0            19560.0  \n",
       "3210                20.0            17492.0  \n",
       "3211                35.0            17323.0  \n",
       "3212                 NaN              960.0  \n",
       "3213                 NaN              531.0  "
      ]
     },
     "execution_count": 41,
     "metadata": {},
     "output_type": "execute_result"
    }
   ],
   "source": [
    "df = df.merge(user_internet, on=['user_id','month'], how = 'outer')\n",
    "df.tail()"
   ]
  },
  {
   "cell_type": "code",
   "execution_count": 42,
   "metadata": {},
   "outputs": [
    {
     "data": {
      "text/html": [
       "<div>\n",
       "<style scoped>\n",
       "    .dataframe tbody tr th:only-of-type {\n",
       "        vertical-align: middle;\n",
       "    }\n",
       "\n",
       "    .dataframe tbody tr th {\n",
       "        vertical-align: top;\n",
       "    }\n",
       "\n",
       "    .dataframe thead th {\n",
       "        text-align: right;\n",
       "    }\n",
       "</style>\n",
       "<table border=\"1\" class=\"dataframe\">\n",
       "  <thead>\n",
       "    <tr style=\"text-align: right;\">\n",
       "      <th></th>\n",
       "      <th>user_id</th>\n",
       "      <th>month</th>\n",
       "      <th>month_calls_duration</th>\n",
       "      <th>calls_total_in_month</th>\n",
       "      <th>sms_total_in_month</th>\n",
       "      <th>mb_total_in_month</th>\n",
       "    </tr>\n",
       "  </thead>\n",
       "  <tbody>\n",
       "    <tr>\n",
       "      <th>0</th>\n",
       "      <td>1000</td>\n",
       "      <td>5</td>\n",
       "      <td>159.0</td>\n",
       "      <td>17.0</td>\n",
       "      <td>22.0</td>\n",
       "      <td>2254.0</td>\n",
       "    </tr>\n",
       "    <tr>\n",
       "      <th>1</th>\n",
       "      <td>1000</td>\n",
       "      <td>6</td>\n",
       "      <td>172.0</td>\n",
       "      <td>28.0</td>\n",
       "      <td>60.0</td>\n",
       "      <td>23234.0</td>\n",
       "    </tr>\n",
       "    <tr>\n",
       "      <th>2</th>\n",
       "      <td>1000</td>\n",
       "      <td>7</td>\n",
       "      <td>340.0</td>\n",
       "      <td>41.0</td>\n",
       "      <td>75.0</td>\n",
       "      <td>14004.0</td>\n",
       "    </tr>\n",
       "    <tr>\n",
       "      <th>3</th>\n",
       "      <td>1000</td>\n",
       "      <td>8</td>\n",
       "      <td>408.0</td>\n",
       "      <td>42.0</td>\n",
       "      <td>81.0</td>\n",
       "      <td>14056.0</td>\n",
       "    </tr>\n",
       "    <tr>\n",
       "      <th>4</th>\n",
       "      <td>1000</td>\n",
       "      <td>9</td>\n",
       "      <td>466.0</td>\n",
       "      <td>46.0</td>\n",
       "      <td>57.0</td>\n",
       "      <td>14569.0</td>\n",
       "    </tr>\n",
       "  </tbody>\n",
       "</table>\n",
       "</div>"
      ],
      "text/plain": [
       "   user_id  month  month_calls_duration  calls_total_in_month  \\\n",
       "0     1000      5                 159.0                  17.0   \n",
       "1     1000      6                 172.0                  28.0   \n",
       "2     1000      7                 340.0                  41.0   \n",
       "3     1000      8                 408.0                  42.0   \n",
       "4     1000      9                 466.0                  46.0   \n",
       "\n",
       "   sms_total_in_month  mb_total_in_month  \n",
       "0                22.0             2254.0  \n",
       "1                60.0            23234.0  \n",
       "2                75.0            14004.0  \n",
       "3                81.0            14056.0  \n",
       "4                57.0            14569.0  "
      ]
     },
     "execution_count": 42,
     "metadata": {},
     "output_type": "execute_result"
    }
   ],
   "source": [
    "df.head()"
   ]
  },
  {
   "cell_type": "markdown",
   "metadata": {},
   "source": [
    "не хватает тарифа в наборе, приклеим"
   ]
  },
  {
   "cell_type": "code",
   "execution_count": 43,
   "metadata": {},
   "outputs": [
    {
     "data": {
      "text/html": [
       "<div>\n",
       "<style scoped>\n",
       "    .dataframe tbody tr th:only-of-type {\n",
       "        vertical-align: middle;\n",
       "    }\n",
       "\n",
       "    .dataframe tbody tr th {\n",
       "        vertical-align: top;\n",
       "    }\n",
       "\n",
       "    .dataframe thead th {\n",
       "        text-align: right;\n",
       "    }\n",
       "</style>\n",
       "<table border=\"1\" class=\"dataframe\">\n",
       "  <thead>\n",
       "    <tr style=\"text-align: right;\">\n",
       "      <th></th>\n",
       "      <th>user_id</th>\n",
       "      <th>month_x</th>\n",
       "      <th>month_calls_duration</th>\n",
       "      <th>calls_total_in_month</th>\n",
       "      <th>sms_total_in_month</th>\n",
       "      <th>mb_total_in_month</th>\n",
       "      <th>age</th>\n",
       "      <th>churn_date</th>\n",
       "      <th>city</th>\n",
       "      <th>first_name</th>\n",
       "      <th>last_name</th>\n",
       "      <th>reg_date</th>\n",
       "      <th>tariff</th>\n",
       "      <th>month_y</th>\n",
       "    </tr>\n",
       "  </thead>\n",
       "  <tbody>\n",
       "    <tr>\n",
       "      <th>0</th>\n",
       "      <td>1000</td>\n",
       "      <td>5</td>\n",
       "      <td>159.0</td>\n",
       "      <td>17.0</td>\n",
       "      <td>22.0</td>\n",
       "      <td>2254.0</td>\n",
       "      <td>52</td>\n",
       "      <td>NaN</td>\n",
       "      <td>Краснодар</td>\n",
       "      <td>Рафаил</td>\n",
       "      <td>Верещагин</td>\n",
       "      <td>2018-05-25</td>\n",
       "      <td>ultra</td>\n",
       "      <td>5</td>\n",
       "    </tr>\n",
       "    <tr>\n",
       "      <th>1</th>\n",
       "      <td>1000</td>\n",
       "      <td>6</td>\n",
       "      <td>172.0</td>\n",
       "      <td>28.0</td>\n",
       "      <td>60.0</td>\n",
       "      <td>23234.0</td>\n",
       "      <td>52</td>\n",
       "      <td>NaN</td>\n",
       "      <td>Краснодар</td>\n",
       "      <td>Рафаил</td>\n",
       "      <td>Верещагин</td>\n",
       "      <td>2018-05-25</td>\n",
       "      <td>ultra</td>\n",
       "      <td>5</td>\n",
       "    </tr>\n",
       "    <tr>\n",
       "      <th>2</th>\n",
       "      <td>1000</td>\n",
       "      <td>7</td>\n",
       "      <td>340.0</td>\n",
       "      <td>41.0</td>\n",
       "      <td>75.0</td>\n",
       "      <td>14004.0</td>\n",
       "      <td>52</td>\n",
       "      <td>NaN</td>\n",
       "      <td>Краснодар</td>\n",
       "      <td>Рафаил</td>\n",
       "      <td>Верещагин</td>\n",
       "      <td>2018-05-25</td>\n",
       "      <td>ultra</td>\n",
       "      <td>5</td>\n",
       "    </tr>\n",
       "    <tr>\n",
       "      <th>3</th>\n",
       "      <td>1000</td>\n",
       "      <td>8</td>\n",
       "      <td>408.0</td>\n",
       "      <td>42.0</td>\n",
       "      <td>81.0</td>\n",
       "      <td>14056.0</td>\n",
       "      <td>52</td>\n",
       "      <td>NaN</td>\n",
       "      <td>Краснодар</td>\n",
       "      <td>Рафаил</td>\n",
       "      <td>Верещагин</td>\n",
       "      <td>2018-05-25</td>\n",
       "      <td>ultra</td>\n",
       "      <td>5</td>\n",
       "    </tr>\n",
       "    <tr>\n",
       "      <th>4</th>\n",
       "      <td>1000</td>\n",
       "      <td>9</td>\n",
       "      <td>466.0</td>\n",
       "      <td>46.0</td>\n",
       "      <td>57.0</td>\n",
       "      <td>14569.0</td>\n",
       "      <td>52</td>\n",
       "      <td>NaN</td>\n",
       "      <td>Краснодар</td>\n",
       "      <td>Рафаил</td>\n",
       "      <td>Верещагин</td>\n",
       "      <td>2018-05-25</td>\n",
       "      <td>ultra</td>\n",
       "      <td>5</td>\n",
       "    </tr>\n",
       "  </tbody>\n",
       "</table>\n",
       "</div>"
      ],
      "text/plain": [
       "   user_id  month_x  month_calls_duration  calls_total_in_month  \\\n",
       "0     1000        5                 159.0                  17.0   \n",
       "1     1000        6                 172.0                  28.0   \n",
       "2     1000        7                 340.0                  41.0   \n",
       "3     1000        8                 408.0                  42.0   \n",
       "4     1000        9                 466.0                  46.0   \n",
       "\n",
       "   sms_total_in_month  mb_total_in_month  age churn_date       city  \\\n",
       "0                22.0             2254.0   52        NaN  Краснодар   \n",
       "1                60.0            23234.0   52        NaN  Краснодар   \n",
       "2                75.0            14004.0   52        NaN  Краснодар   \n",
       "3                81.0            14056.0   52        NaN  Краснодар   \n",
       "4                57.0            14569.0   52        NaN  Краснодар   \n",
       "\n",
       "  first_name  last_name   reg_date tariff  month_y  \n",
       "0     Рафаил  Верещагин 2018-05-25  ultra        5  \n",
       "1     Рафаил  Верещагин 2018-05-25  ultra        5  \n",
       "2     Рафаил  Верещагин 2018-05-25  ultra        5  \n",
       "3     Рафаил  Верещагин 2018-05-25  ultra        5  \n",
       "4     Рафаил  Верещагин 2018-05-25  ultra        5  "
      ]
     },
     "execution_count": 43,
     "metadata": {},
     "output_type": "execute_result"
    }
   ],
   "source": [
    "df = df.merge(users, on='user_id', how='left')\n",
    "df.head()"
   ]
  },
  {
   "cell_type": "code",
   "execution_count": 44,
   "metadata": {},
   "outputs": [
    {
     "data": {
      "text/html": [
       "<div>\n",
       "<style scoped>\n",
       "    .dataframe tbody tr th:only-of-type {\n",
       "        vertical-align: middle;\n",
       "    }\n",
       "\n",
       "    .dataframe tbody tr th {\n",
       "        vertical-align: top;\n",
       "    }\n",
       "\n",
       "    .dataframe thead th {\n",
       "        text-align: right;\n",
       "    }\n",
       "</style>\n",
       "<table border=\"1\" class=\"dataframe\">\n",
       "  <thead>\n",
       "    <tr style=\"text-align: right;\">\n",
       "      <th></th>\n",
       "      <th>user_id</th>\n",
       "      <th>month_x</th>\n",
       "      <th>month_calls_duration</th>\n",
       "      <th>calls_total_in_month</th>\n",
       "      <th>sms_total_in_month</th>\n",
       "      <th>mb_total_in_month</th>\n",
       "      <th>age</th>\n",
       "      <th>churn_date</th>\n",
       "      <th>city</th>\n",
       "      <th>first_name</th>\n",
       "      <th>...</th>\n",
       "      <th>reg_date</th>\n",
       "      <th>tariff</th>\n",
       "      <th>month_y</th>\n",
       "      <th>messages_included</th>\n",
       "      <th>mb_per_month_included</th>\n",
       "      <th>minutes_included</th>\n",
       "      <th>rub_monthly_fee</th>\n",
       "      <th>rub_per_gb</th>\n",
       "      <th>rub_per_message</th>\n",
       "      <th>rub_per_minute</th>\n",
       "    </tr>\n",
       "  </thead>\n",
       "  <tbody>\n",
       "    <tr>\n",
       "      <th>0</th>\n",
       "      <td>1000</td>\n",
       "      <td>5</td>\n",
       "      <td>159.0</td>\n",
       "      <td>17.0</td>\n",
       "      <td>22.0</td>\n",
       "      <td>2254.0</td>\n",
       "      <td>52</td>\n",
       "      <td>NaN</td>\n",
       "      <td>Краснодар</td>\n",
       "      <td>Рафаил</td>\n",
       "      <td>...</td>\n",
       "      <td>2018-05-25</td>\n",
       "      <td>ultra</td>\n",
       "      <td>5</td>\n",
       "      <td>1000</td>\n",
       "      <td>30720</td>\n",
       "      <td>3000</td>\n",
       "      <td>1950</td>\n",
       "      <td>150</td>\n",
       "      <td>1</td>\n",
       "      <td>1</td>\n",
       "    </tr>\n",
       "    <tr>\n",
       "      <th>1</th>\n",
       "      <td>1000</td>\n",
       "      <td>6</td>\n",
       "      <td>172.0</td>\n",
       "      <td>28.0</td>\n",
       "      <td>60.0</td>\n",
       "      <td>23234.0</td>\n",
       "      <td>52</td>\n",
       "      <td>NaN</td>\n",
       "      <td>Краснодар</td>\n",
       "      <td>Рафаил</td>\n",
       "      <td>...</td>\n",
       "      <td>2018-05-25</td>\n",
       "      <td>ultra</td>\n",
       "      <td>5</td>\n",
       "      <td>1000</td>\n",
       "      <td>30720</td>\n",
       "      <td>3000</td>\n",
       "      <td>1950</td>\n",
       "      <td>150</td>\n",
       "      <td>1</td>\n",
       "      <td>1</td>\n",
       "    </tr>\n",
       "    <tr>\n",
       "      <th>2</th>\n",
       "      <td>1000</td>\n",
       "      <td>7</td>\n",
       "      <td>340.0</td>\n",
       "      <td>41.0</td>\n",
       "      <td>75.0</td>\n",
       "      <td>14004.0</td>\n",
       "      <td>52</td>\n",
       "      <td>NaN</td>\n",
       "      <td>Краснодар</td>\n",
       "      <td>Рафаил</td>\n",
       "      <td>...</td>\n",
       "      <td>2018-05-25</td>\n",
       "      <td>ultra</td>\n",
       "      <td>5</td>\n",
       "      <td>1000</td>\n",
       "      <td>30720</td>\n",
       "      <td>3000</td>\n",
       "      <td>1950</td>\n",
       "      <td>150</td>\n",
       "      <td>1</td>\n",
       "      <td>1</td>\n",
       "    </tr>\n",
       "    <tr>\n",
       "      <th>3</th>\n",
       "      <td>1000</td>\n",
       "      <td>8</td>\n",
       "      <td>408.0</td>\n",
       "      <td>42.0</td>\n",
       "      <td>81.0</td>\n",
       "      <td>14056.0</td>\n",
       "      <td>52</td>\n",
       "      <td>NaN</td>\n",
       "      <td>Краснодар</td>\n",
       "      <td>Рафаил</td>\n",
       "      <td>...</td>\n",
       "      <td>2018-05-25</td>\n",
       "      <td>ultra</td>\n",
       "      <td>5</td>\n",
       "      <td>1000</td>\n",
       "      <td>30720</td>\n",
       "      <td>3000</td>\n",
       "      <td>1950</td>\n",
       "      <td>150</td>\n",
       "      <td>1</td>\n",
       "      <td>1</td>\n",
       "    </tr>\n",
       "    <tr>\n",
       "      <th>4</th>\n",
       "      <td>1000</td>\n",
       "      <td>9</td>\n",
       "      <td>466.0</td>\n",
       "      <td>46.0</td>\n",
       "      <td>57.0</td>\n",
       "      <td>14569.0</td>\n",
       "      <td>52</td>\n",
       "      <td>NaN</td>\n",
       "      <td>Краснодар</td>\n",
       "      <td>Рафаил</td>\n",
       "      <td>...</td>\n",
       "      <td>2018-05-25</td>\n",
       "      <td>ultra</td>\n",
       "      <td>5</td>\n",
       "      <td>1000</td>\n",
       "      <td>30720</td>\n",
       "      <td>3000</td>\n",
       "      <td>1950</td>\n",
       "      <td>150</td>\n",
       "      <td>1</td>\n",
       "      <td>1</td>\n",
       "    </tr>\n",
       "  </tbody>\n",
       "</table>\n",
       "<p>5 rows × 21 columns</p>\n",
       "</div>"
      ],
      "text/plain": [
       "   user_id  month_x  month_calls_duration  calls_total_in_month  \\\n",
       "0     1000        5                 159.0                  17.0   \n",
       "1     1000        6                 172.0                  28.0   \n",
       "2     1000        7                 340.0                  41.0   \n",
       "3     1000        8                 408.0                  42.0   \n",
       "4     1000        9                 466.0                  46.0   \n",
       "\n",
       "   sms_total_in_month  mb_total_in_month  age churn_date       city  \\\n",
       "0                22.0             2254.0   52        NaN  Краснодар   \n",
       "1                60.0            23234.0   52        NaN  Краснодар   \n",
       "2                75.0            14004.0   52        NaN  Краснодар   \n",
       "3                81.0            14056.0   52        NaN  Краснодар   \n",
       "4                57.0            14569.0   52        NaN  Краснодар   \n",
       "\n",
       "  first_name  ...   reg_date tariff month_y  messages_included  \\\n",
       "0     Рафаил  ... 2018-05-25  ultra       5               1000   \n",
       "1     Рафаил  ... 2018-05-25  ultra       5               1000   \n",
       "2     Рафаил  ... 2018-05-25  ultra       5               1000   \n",
       "3     Рафаил  ... 2018-05-25  ultra       5               1000   \n",
       "4     Рафаил  ... 2018-05-25  ultra       5               1000   \n",
       "\n",
       "   mb_per_month_included  minutes_included  rub_monthly_fee  rub_per_gb  \\\n",
       "0                  30720              3000             1950         150   \n",
       "1                  30720              3000             1950         150   \n",
       "2                  30720              3000             1950         150   \n",
       "3                  30720              3000             1950         150   \n",
       "4                  30720              3000             1950         150   \n",
       "\n",
       "   rub_per_message  rub_per_minute  \n",
       "0                1               1  \n",
       "1                1               1  \n",
       "2                1               1  \n",
       "3                1               1  \n",
       "4                1               1  \n",
       "\n",
       "[5 rows x 21 columns]"
      ]
     },
     "execution_count": 44,
     "metadata": {},
     "output_type": "execute_result"
    }
   ],
   "source": [
    "df = df.merge(tariffs, on='tariff', how='left')\n",
    "df.head()"
   ]
  },
  {
   "cell_type": "code",
   "execution_count": 45,
   "metadata": {},
   "outputs": [],
   "source": [
    "# Поставим нули тем, кто не тратит интернет и не пишет смс\n",
    "df['sms_total_in_month'] = df['sms_total_in_month'].fillna(0)\n",
    "df['mb_total_in_month'] = df['mb_total_in_month'].fillna(0)\n",
    "df['month_calls_duration'] = df['month_calls_duration'].fillna(0)\n",
    "df['calls_total_in_month'] = df['calls_total_in_month'].fillna(0)"
   ]
  },
  {
   "cell_type": "code",
   "execution_count": 46,
   "metadata": {},
   "outputs": [
    {
     "data": {
      "text/plain": [
       "user_id                     0\n",
       "month_x                     0\n",
       "month_calls_duration        0\n",
       "calls_total_in_month        0\n",
       "sms_total_in_month          0\n",
       "mb_total_in_month           0\n",
       "age                         0\n",
       "churn_date               3027\n",
       "city                        0\n",
       "first_name                  0\n",
       "last_name                   0\n",
       "reg_date                    0\n",
       "tariff                      0\n",
       "month_y                     0\n",
       "messages_included           0\n",
       "mb_per_month_included       0\n",
       "minutes_included            0\n",
       "rub_monthly_fee             0\n",
       "rub_per_gb                  0\n",
       "rub_per_message             0\n",
       "rub_per_minute              0\n",
       "dtype: int64"
      ]
     },
     "execution_count": 46,
     "metadata": {},
     "output_type": "execute_result"
    }
   ],
   "source": [
    "df.isna().sum()"
   ]
  },
  {
   "cell_type": "code",
   "execution_count": 47,
   "metadata": {},
   "outputs": [],
   "source": [
    "def above_the_tariff(row):\n",
    "    sms = (row['sms_total_in_month'] - row['messages_included']) * row['rub_per_message']\n",
    "    mins = (row['month_calls_duration'] - row['minutes_included']) * row['rub_per_minute']\n",
    "    mbs = np.floor((row['mb_total_in_month'] - row['mb_per_month_included']) * row['rub_per_gb'] / 1024)\n",
    "    total = 0\n",
    "    for i in [sms, mins, mbs]:\n",
    "        if i > 0:\n",
    "            total += i\n",
    "    return total"
   ]
  },
  {
   "cell_type": "code",
   "execution_count": 48,
   "metadata": {
    "scrolled": true
   },
   "outputs": [
    {
     "data": {
      "text/html": [
       "<div>\n",
       "<style scoped>\n",
       "    .dataframe tbody tr th:only-of-type {\n",
       "        vertical-align: middle;\n",
       "    }\n",
       "\n",
       "    .dataframe tbody tr th {\n",
       "        vertical-align: top;\n",
       "    }\n",
       "\n",
       "    .dataframe thead th {\n",
       "        text-align: right;\n",
       "    }\n",
       "</style>\n",
       "<table border=\"1\" class=\"dataframe\">\n",
       "  <thead>\n",
       "    <tr style=\"text-align: right;\">\n",
       "      <th></th>\n",
       "      <th>user_id</th>\n",
       "      <th>month_x</th>\n",
       "      <th>month_calls_duration</th>\n",
       "      <th>calls_total_in_month</th>\n",
       "      <th>sms_total_in_month</th>\n",
       "      <th>mb_total_in_month</th>\n",
       "      <th>age</th>\n",
       "      <th>churn_date</th>\n",
       "      <th>city</th>\n",
       "      <th>first_name</th>\n",
       "      <th>...</th>\n",
       "      <th>reg_date</th>\n",
       "      <th>tariff</th>\n",
       "      <th>month_y</th>\n",
       "      <th>messages_included</th>\n",
       "      <th>mb_per_month_included</th>\n",
       "      <th>minutes_included</th>\n",
       "      <th>rub_monthly_fee</th>\n",
       "      <th>rub_per_gb</th>\n",
       "      <th>rub_per_message</th>\n",
       "      <th>rub_per_minute</th>\n",
       "    </tr>\n",
       "  </thead>\n",
       "  <tbody>\n",
       "    <tr>\n",
       "      <th>0</th>\n",
       "      <td>1000</td>\n",
       "      <td>5</td>\n",
       "      <td>159.0</td>\n",
       "      <td>17.0</td>\n",
       "      <td>22.0</td>\n",
       "      <td>2254.0</td>\n",
       "      <td>52</td>\n",
       "      <td>NaN</td>\n",
       "      <td>Краснодар</td>\n",
       "      <td>Рафаил</td>\n",
       "      <td>...</td>\n",
       "      <td>2018-05-25</td>\n",
       "      <td>ultra</td>\n",
       "      <td>5</td>\n",
       "      <td>1000</td>\n",
       "      <td>30720</td>\n",
       "      <td>3000</td>\n",
       "      <td>1950</td>\n",
       "      <td>150</td>\n",
       "      <td>1</td>\n",
       "      <td>1</td>\n",
       "    </tr>\n",
       "    <tr>\n",
       "      <th>1</th>\n",
       "      <td>1000</td>\n",
       "      <td>6</td>\n",
       "      <td>172.0</td>\n",
       "      <td>28.0</td>\n",
       "      <td>60.0</td>\n",
       "      <td>23234.0</td>\n",
       "      <td>52</td>\n",
       "      <td>NaN</td>\n",
       "      <td>Краснодар</td>\n",
       "      <td>Рафаил</td>\n",
       "      <td>...</td>\n",
       "      <td>2018-05-25</td>\n",
       "      <td>ultra</td>\n",
       "      <td>5</td>\n",
       "      <td>1000</td>\n",
       "      <td>30720</td>\n",
       "      <td>3000</td>\n",
       "      <td>1950</td>\n",
       "      <td>150</td>\n",
       "      <td>1</td>\n",
       "      <td>1</td>\n",
       "    </tr>\n",
       "    <tr>\n",
       "      <th>2</th>\n",
       "      <td>1000</td>\n",
       "      <td>7</td>\n",
       "      <td>340.0</td>\n",
       "      <td>41.0</td>\n",
       "      <td>75.0</td>\n",
       "      <td>14004.0</td>\n",
       "      <td>52</td>\n",
       "      <td>NaN</td>\n",
       "      <td>Краснодар</td>\n",
       "      <td>Рафаил</td>\n",
       "      <td>...</td>\n",
       "      <td>2018-05-25</td>\n",
       "      <td>ultra</td>\n",
       "      <td>5</td>\n",
       "      <td>1000</td>\n",
       "      <td>30720</td>\n",
       "      <td>3000</td>\n",
       "      <td>1950</td>\n",
       "      <td>150</td>\n",
       "      <td>1</td>\n",
       "      <td>1</td>\n",
       "    </tr>\n",
       "    <tr>\n",
       "      <th>3</th>\n",
       "      <td>1000</td>\n",
       "      <td>8</td>\n",
       "      <td>408.0</td>\n",
       "      <td>42.0</td>\n",
       "      <td>81.0</td>\n",
       "      <td>14056.0</td>\n",
       "      <td>52</td>\n",
       "      <td>NaN</td>\n",
       "      <td>Краснодар</td>\n",
       "      <td>Рафаил</td>\n",
       "      <td>...</td>\n",
       "      <td>2018-05-25</td>\n",
       "      <td>ultra</td>\n",
       "      <td>5</td>\n",
       "      <td>1000</td>\n",
       "      <td>30720</td>\n",
       "      <td>3000</td>\n",
       "      <td>1950</td>\n",
       "      <td>150</td>\n",
       "      <td>1</td>\n",
       "      <td>1</td>\n",
       "    </tr>\n",
       "    <tr>\n",
       "      <th>4</th>\n",
       "      <td>1000</td>\n",
       "      <td>9</td>\n",
       "      <td>466.0</td>\n",
       "      <td>46.0</td>\n",
       "      <td>57.0</td>\n",
       "      <td>14569.0</td>\n",
       "      <td>52</td>\n",
       "      <td>NaN</td>\n",
       "      <td>Краснодар</td>\n",
       "      <td>Рафаил</td>\n",
       "      <td>...</td>\n",
       "      <td>2018-05-25</td>\n",
       "      <td>ultra</td>\n",
       "      <td>5</td>\n",
       "      <td>1000</td>\n",
       "      <td>30720</td>\n",
       "      <td>3000</td>\n",
       "      <td>1950</td>\n",
       "      <td>150</td>\n",
       "      <td>1</td>\n",
       "      <td>1</td>\n",
       "    </tr>\n",
       "  </tbody>\n",
       "</table>\n",
       "<p>5 rows × 21 columns</p>\n",
       "</div>"
      ],
      "text/plain": [
       "   user_id  month_x  month_calls_duration  calls_total_in_month  \\\n",
       "0     1000        5                 159.0                  17.0   \n",
       "1     1000        6                 172.0                  28.0   \n",
       "2     1000        7                 340.0                  41.0   \n",
       "3     1000        8                 408.0                  42.0   \n",
       "4     1000        9                 466.0                  46.0   \n",
       "\n",
       "   sms_total_in_month  mb_total_in_month  age churn_date       city  \\\n",
       "0                22.0             2254.0   52        NaN  Краснодар   \n",
       "1                60.0            23234.0   52        NaN  Краснодар   \n",
       "2                75.0            14004.0   52        NaN  Краснодар   \n",
       "3                81.0            14056.0   52        NaN  Краснодар   \n",
       "4                57.0            14569.0   52        NaN  Краснодар   \n",
       "\n",
       "  first_name  ...   reg_date tariff month_y  messages_included  \\\n",
       "0     Рафаил  ... 2018-05-25  ultra       5               1000   \n",
       "1     Рафаил  ... 2018-05-25  ultra       5               1000   \n",
       "2     Рафаил  ... 2018-05-25  ultra       5               1000   \n",
       "3     Рафаил  ... 2018-05-25  ultra       5               1000   \n",
       "4     Рафаил  ... 2018-05-25  ultra       5               1000   \n",
       "\n",
       "   mb_per_month_included  minutes_included  rub_monthly_fee  rub_per_gb  \\\n",
       "0                  30720              3000             1950         150   \n",
       "1                  30720              3000             1950         150   \n",
       "2                  30720              3000             1950         150   \n",
       "3                  30720              3000             1950         150   \n",
       "4                  30720              3000             1950         150   \n",
       "\n",
       "   rub_per_message  rub_per_minute  \n",
       "0                1               1  \n",
       "1                1               1  \n",
       "2                1               1  \n",
       "3                1               1  \n",
       "4                1               1  \n",
       "\n",
       "[5 rows x 21 columns]"
      ]
     },
     "execution_count": 48,
     "metadata": {},
     "output_type": "execute_result"
    }
   ],
   "source": [
    "df.head()"
   ]
  },
  {
   "cell_type": "code",
   "execution_count": 49,
   "metadata": {},
   "outputs": [],
   "source": [
    "df['above_the_tariff'] = df.apply(lambda x: above_the_tariff(x), axis=1)"
   ]
  },
  {
   "cell_type": "code",
   "execution_count": 50,
   "metadata": {},
   "outputs": [],
   "source": [
    "df['total_paid'] = df['rub_monthly_fee'] + df['above_the_tariff']"
   ]
  },
  {
   "cell_type": "code",
   "execution_count": 51,
   "metadata": {},
   "outputs": [
    {
     "data": {
      "text/html": [
       "<div>\n",
       "<style scoped>\n",
       "    .dataframe tbody tr th:only-of-type {\n",
       "        vertical-align: middle;\n",
       "    }\n",
       "\n",
       "    .dataframe tbody tr th {\n",
       "        vertical-align: top;\n",
       "    }\n",
       "\n",
       "    .dataframe thead th {\n",
       "        text-align: right;\n",
       "    }\n",
       "</style>\n",
       "<table border=\"1\" class=\"dataframe\">\n",
       "  <thead>\n",
       "    <tr style=\"text-align: right;\">\n",
       "      <th></th>\n",
       "      <th>user_id</th>\n",
       "      <th>month_x</th>\n",
       "      <th>month_calls_duration</th>\n",
       "      <th>calls_total_in_month</th>\n",
       "      <th>sms_total_in_month</th>\n",
       "      <th>mb_total_in_month</th>\n",
       "      <th>age</th>\n",
       "      <th>churn_date</th>\n",
       "      <th>city</th>\n",
       "      <th>first_name</th>\n",
       "      <th>...</th>\n",
       "      <th>month_y</th>\n",
       "      <th>messages_included</th>\n",
       "      <th>mb_per_month_included</th>\n",
       "      <th>minutes_included</th>\n",
       "      <th>rub_monthly_fee</th>\n",
       "      <th>rub_per_gb</th>\n",
       "      <th>rub_per_message</th>\n",
       "      <th>rub_per_minute</th>\n",
       "      <th>above_the_tariff</th>\n",
       "      <th>total_paid</th>\n",
       "    </tr>\n",
       "  </thead>\n",
       "  <tbody>\n",
       "    <tr>\n",
       "      <th>1789</th>\n",
       "      <td>1286</td>\n",
       "      <td>12</td>\n",
       "      <td>739.0</td>\n",
       "      <td>83.0</td>\n",
       "      <td>68.0</td>\n",
       "      <td>35109.0</td>\n",
       "      <td>19</td>\n",
       "      <td>NaN</td>\n",
       "      <td>Москва</td>\n",
       "      <td>Рашид</td>\n",
       "      <td>...</td>\n",
       "      <td>11</td>\n",
       "      <td>50</td>\n",
       "      <td>15360</td>\n",
       "      <td>500</td>\n",
       "      <td>550</td>\n",
       "      <td>200</td>\n",
       "      <td>3</td>\n",
       "      <td>3</td>\n",
       "      <td>4628.0</td>\n",
       "      <td>5178.0</td>\n",
       "    </tr>\n",
       "    <tr>\n",
       "      <th>3099</th>\n",
       "      <td>1486</td>\n",
       "      <td>11</td>\n",
       "      <td>764.0</td>\n",
       "      <td>84.0</td>\n",
       "      <td>96.0</td>\n",
       "      <td>36267.0</td>\n",
       "      <td>35</td>\n",
       "      <td>NaN</td>\n",
       "      <td>Нижний Новгород</td>\n",
       "      <td>Матвей</td>\n",
       "      <td>...</td>\n",
       "      <td>10</td>\n",
       "      <td>50</td>\n",
       "      <td>15360</td>\n",
       "      <td>500</td>\n",
       "      <td>550</td>\n",
       "      <td>200</td>\n",
       "      <td>3</td>\n",
       "      <td>3</td>\n",
       "      <td>5013.0</td>\n",
       "      <td>5563.0</td>\n",
       "    </tr>\n",
       "    <tr>\n",
       "      <th>260</th>\n",
       "      <td>1042</td>\n",
       "      <td>12</td>\n",
       "      <td>728.0</td>\n",
       "      <td>94.0</td>\n",
       "      <td>75.0</td>\n",
       "      <td>37166.0</td>\n",
       "      <td>42</td>\n",
       "      <td>NaN</td>\n",
       "      <td>Хабаровск</td>\n",
       "      <td>Константин</td>\n",
       "      <td>...</td>\n",
       "      <td>11</td>\n",
       "      <td>50</td>\n",
       "      <td>15360</td>\n",
       "      <td>500</td>\n",
       "      <td>550</td>\n",
       "      <td>200</td>\n",
       "      <td>3</td>\n",
       "      <td>3</td>\n",
       "      <td>5017.0</td>\n",
       "      <td>5567.0</td>\n",
       "    </tr>\n",
       "    <tr>\n",
       "      <th>1618</th>\n",
       "      <td>1261</td>\n",
       "      <td>12</td>\n",
       "      <td>1074.0</td>\n",
       "      <td>113.0</td>\n",
       "      <td>22.0</td>\n",
       "      <td>32651.0</td>\n",
       "      <td>46</td>\n",
       "      <td>NaN</td>\n",
       "      <td>Казань</td>\n",
       "      <td>Мадина</td>\n",
       "      <td>...</td>\n",
       "      <td>10</td>\n",
       "      <td>50</td>\n",
       "      <td>15360</td>\n",
       "      <td>500</td>\n",
       "      <td>550</td>\n",
       "      <td>200</td>\n",
       "      <td>3</td>\n",
       "      <td>3</td>\n",
       "      <td>5099.0</td>\n",
       "      <td>5649.0</td>\n",
       "    </tr>\n",
       "    <tr>\n",
       "      <th>3100</th>\n",
       "      <td>1486</td>\n",
       "      <td>12</td>\n",
       "      <td>1007.0</td>\n",
       "      <td>115.0</td>\n",
       "      <td>83.0</td>\n",
       "      <td>38553.0</td>\n",
       "      <td>35</td>\n",
       "      <td>NaN</td>\n",
       "      <td>Нижний Новгород</td>\n",
       "      <td>Матвей</td>\n",
       "      <td>...</td>\n",
       "      <td>10</td>\n",
       "      <td>50</td>\n",
       "      <td>15360</td>\n",
       "      <td>500</td>\n",
       "      <td>550</td>\n",
       "      <td>200</td>\n",
       "      <td>3</td>\n",
       "      <td>3</td>\n",
       "      <td>6149.0</td>\n",
       "      <td>6699.0</td>\n",
       "    </tr>\n",
       "  </tbody>\n",
       "</table>\n",
       "<p>5 rows × 23 columns</p>\n",
       "</div>"
      ],
      "text/plain": [
       "      user_id  month_x  month_calls_duration  calls_total_in_month  \\\n",
       "1789     1286       12                 739.0                  83.0   \n",
       "3099     1486       11                 764.0                  84.0   \n",
       "260      1042       12                 728.0                  94.0   \n",
       "1618     1261       12                1074.0                 113.0   \n",
       "3100     1486       12                1007.0                 115.0   \n",
       "\n",
       "      sms_total_in_month  mb_total_in_month  age churn_date             city  \\\n",
       "1789                68.0            35109.0   19        NaN           Москва   \n",
       "3099                96.0            36267.0   35        NaN  Нижний Новгород   \n",
       "260                 75.0            37166.0   42        NaN        Хабаровск   \n",
       "1618                22.0            32651.0   46        NaN           Казань   \n",
       "3100                83.0            38553.0   35        NaN  Нижний Новгород   \n",
       "\n",
       "      first_name  ... month_y messages_included mb_per_month_included  \\\n",
       "1789       Рашид  ...      11                50                 15360   \n",
       "3099      Матвей  ...      10                50                 15360   \n",
       "260   Константин  ...      11                50                 15360   \n",
       "1618      Мадина  ...      10                50                 15360   \n",
       "3100      Матвей  ...      10                50                 15360   \n",
       "\n",
       "      minutes_included  rub_monthly_fee  rub_per_gb  rub_per_message  \\\n",
       "1789               500              550         200                3   \n",
       "3099               500              550         200                3   \n",
       "260                500              550         200                3   \n",
       "1618               500              550         200                3   \n",
       "3100               500              550         200                3   \n",
       "\n",
       "      rub_per_minute  above_the_tariff  total_paid  \n",
       "1789               3            4628.0      5178.0  \n",
       "3099               3            5013.0      5563.0  \n",
       "260                3            5017.0      5567.0  \n",
       "1618               3            5099.0      5649.0  \n",
       "3100               3            6149.0      6699.0  \n",
       "\n",
       "[5 rows x 23 columns]"
      ]
     },
     "execution_count": 51,
     "metadata": {},
     "output_type": "execute_result"
    }
   ],
   "source": [
    "df.sort_values(by='total_paid').tail()"
   ]
  },
  {
   "cell_type": "markdown",
   "metadata": {},
   "source": [
    "### Вывод\n",
    "Выполнены все поставленные расчёты"
   ]
  },
  {
   "cell_type": "markdown",
   "metadata": {},
   "source": [
    "## Исследовательский анализ данных"
   ]
  },
  {
   "cell_type": "markdown",
   "metadata": {},
   "source": [
    "* Опишите поведение клиентов оператора, исходя из выборки\n",
    "* Сколько минут разговора, сколько сообщений и какой объём интернет-трафика требуется пользователям каждого тарифа в месяц? \n",
    "* Посчитайте среднее количество, дисперсию и стандартное отклонение\n",
    "* Постройте гистограммы. Опишите распределения"
   ]
  },
  {
   "cell_type": "markdown",
   "metadata": {},
   "source": [
    "### Поведение клиентов оператора, исходя из выборки"
   ]
  },
  {
   "cell_type": "code",
   "execution_count": 52,
   "metadata": {},
   "outputs": [
    {
     "data": {
      "text/html": [
       "<div>\n",
       "<style scoped>\n",
       "    .dataframe tbody tr th:only-of-type {\n",
       "        vertical-align: middle;\n",
       "    }\n",
       "\n",
       "    .dataframe tbody tr th {\n",
       "        vertical-align: top;\n",
       "    }\n",
       "\n",
       "    .dataframe thead th {\n",
       "        text-align: right;\n",
       "    }\n",
       "</style>\n",
       "<table border=\"1\" class=\"dataframe\">\n",
       "  <thead>\n",
       "    <tr style=\"text-align: right;\">\n",
       "      <th></th>\n",
       "      <th>above_the_tariff</th>\n",
       "      <th>total_paid</th>\n",
       "    </tr>\n",
       "  </thead>\n",
       "  <tbody>\n",
       "    <tr>\n",
       "      <th>count</th>\n",
       "      <td>3214.000000</td>\n",
       "      <td>3214.000000</td>\n",
       "    </tr>\n",
       "    <tr>\n",
       "      <th>mean</th>\n",
       "      <td>505.395457</td>\n",
       "      <td>1484.455818</td>\n",
       "    </tr>\n",
       "    <tr>\n",
       "      <th>std</th>\n",
       "      <td>731.899029</td>\n",
       "      <td>782.835844</td>\n",
       "    </tr>\n",
       "    <tr>\n",
       "      <th>min</th>\n",
       "      <td>0.000000</td>\n",
       "      <td>550.000000</td>\n",
       "    </tr>\n",
       "    <tr>\n",
       "      <th>25%</th>\n",
       "      <td>0.000000</td>\n",
       "      <td>691.250000</td>\n",
       "    </tr>\n",
       "    <tr>\n",
       "      <th>50%</th>\n",
       "      <td>104.000000</td>\n",
       "      <td>1557.500000</td>\n",
       "    </tr>\n",
       "    <tr>\n",
       "      <th>75%</th>\n",
       "      <td>835.000000</td>\n",
       "      <td>1950.000000</td>\n",
       "    </tr>\n",
       "    <tr>\n",
       "      <th>max</th>\n",
       "      <td>6149.000000</td>\n",
       "      <td>6699.000000</td>\n",
       "    </tr>\n",
       "  </tbody>\n",
       "</table>\n",
       "</div>"
      ],
      "text/plain": [
       "       above_the_tariff   total_paid\n",
       "count       3214.000000  3214.000000\n",
       "mean         505.395457  1484.455818\n",
       "std          731.899029   782.835844\n",
       "min            0.000000   550.000000\n",
       "25%            0.000000   691.250000\n",
       "50%          104.000000  1557.500000\n",
       "75%          835.000000  1950.000000\n",
       "max         6149.000000  6699.000000"
      ]
     },
     "execution_count": 52,
     "metadata": {},
     "output_type": "execute_result"
    }
   ],
   "source": [
    "df[['above_the_tariff', 'total_paid']].describe()"
   ]
  },
  {
   "cell_type": "code",
   "execution_count": 53,
   "metadata": {},
   "outputs": [
    {
     "data": {
      "text/plain": [
       "smart    2229\n",
       "ultra     985\n",
       "Name: tariff, dtype: int64"
      ]
     },
     "execution_count": 53,
     "metadata": {},
     "output_type": "execute_result"
    }
   ],
   "source": [
    "df['tariff'].value_counts()"
   ]
  },
  {
   "cell_type": "code",
   "execution_count": 54,
   "metadata": {},
   "outputs": [
    {
     "data": {
      "text/plain": [
       "(0.0, 7000.0)"
      ]
     },
     "execution_count": 54,
     "metadata": {},
     "output_type": "execute_result"
    },
    {
     "data": {
      "image/png": "[encoded data removed]",
      "text/plain": [
       "<Figure size 720x720 with 1 Axes>"
      ]
     },
     "metadata": {
      "needs_background": "light"
     },
     "output_type": "display_data"
    }
   ],
   "source": [
    "df.boxplot('total_paid', by='tariff', figsize=(10,10)).set_ylim(0,7000)"
   ]
  },
  {
   "cell_type": "code",
   "execution_count": 55,
   "metadata": {},
   "outputs": [
    {
     "data": {
      "text/plain": [
       "<AxesSubplot:ylabel='Frequency'>"
      ]
     },
     "execution_count": 55,
     "metadata": {},
     "output_type": "execute_result"
    },
    {
     "data": {
      "image/png": "[encoded data removed]",
      "text/plain": [
       "<Figure size 432x288 with 1 Axes>"
      ]
     },
     "metadata": {
      "needs_background": "light"
     },
     "output_type": "display_data"
    }
   ],
   "source": [
    "df[df['tariff'] == 'ultra']['total_paid'].plot(kind='hist', bins=10)"
   ]
  },
  {
   "cell_type": "code",
   "execution_count": 56,
   "metadata": {},
   "outputs": [
    {
     "data": {
      "text/plain": [
       "<AxesSubplot:ylabel='Frequency'>"
      ]
     },
     "execution_count": 56,
     "metadata": {},
     "output_type": "execute_result"
    },
    {
     "data": {
      "image/png": "[encoded data removed]",
      "text/plain": [
       "<Figure size 432x288 with 1 Axes>"
      ]
     },
     "metadata": {
      "needs_background": "light"
     },
     "output_type": "display_data"
    }
   ],
   "source": [
    "df[df['tariff'] == 'smart']['total_paid'].plot(kind='hist', bins=10)"
   ]
  },
  {
   "cell_type": "code",
   "execution_count": 57,
   "metadata": {},
   "outputs": [
    {
     "data": {
      "text/html": [
       "<style  type=\"text/css\" >\n",
       "</style><table id=\"T_64bca_\" ><thead>    <tr>        <th class=\"blank level0\" ></th>        <th class=\"col_heading level0 col0\" colspan=\"4\">total_paid</th>    </tr>    <tr>        <th class=\"blank level1\" ></th>        <th class=\"col_heading level1 col0\" >median</th>        <th class=\"col_heading level1 col1\" >mean</th>        <th class=\"col_heading level1 col2\" >var</th>        <th class=\"col_heading level1 col3\" >std</th>    </tr>    <tr>        <th class=\"index_name level0\" >tariff</th>        <th class=\"blank\" ></th>        <th class=\"blank\" ></th>        <th class=\"blank\" ></th>        <th class=\"blank\" ></th>    </tr></thead><tbody>\n",
       "                <tr>\n",
       "                        <th id=\"T_64bca_level0_row0\" class=\"row_heading level0 row0\" >smart</th>\n",
       "                        <td id=\"T_64bca_row0_col0\" class=\"data row0 col0\" >958.00</td>\n",
       "                        <td id=\"T_64bca_row0_col1\" class=\"data row0 col1\" >1230.21</td>\n",
       "                        <td id=\"T_64bca_row0_col2\" class=\"data row0 col2\" >617155.27</td>\n",
       "                        <td id=\"T_64bca_row0_col3\" class=\"data row0 col3\" >785.59</td>\n",
       "            </tr>\n",
       "            <tr>\n",
       "                        <th id=\"T_64bca_level0_row1\" class=\"row_heading level0 row1\" >ultra</th>\n",
       "                        <td id=\"T_64bca_row1_col0\" class=\"data row1 col0\" >1950.00</td>\n",
       "                        <td id=\"T_64bca_row1_col1\" class=\"data row1 col1\" >2059.81</td>\n",
       "                        <td id=\"T_64bca_row1_col2\" class=\"data row1 col2\" >125864.06</td>\n",
       "                        <td id=\"T_64bca_row1_col3\" class=\"data row1 col3\" >354.77</td>\n",
       "            </tr>\n",
       "    </tbody></table>"
      ],
      "text/plain": [
       "<pandas.io.formats.style.Styler at 0x7f1e276349a0>"
      ]
     },
     "execution_count": 57,
     "metadata": {},
     "output_type": "execute_result"
    }
   ],
   "source": [
    "df.groupby('tariff')\\\n",
    "  .agg({'total_paid':['median','mean','var','std']})\\\n",
    "  .style.format(\"{:.2f}\")"
   ]
  },
  {
   "cell_type": "markdown",
   "metadata": {},
   "source": [
    "Ага, Ультру, видимо, в основном платят по тарифу и мелкими группами вылазят на каждую тысячу рублей. А у Смарта люди вылезают за абонентскую плату чаще, для них это как будто дело привычное"
   ]
  },
  {
   "cell_type": "markdown",
   "metadata": {},
   "source": [
    "Пользователи тарифа Смарт в среднем в месяц тратят меньше минут разговора, чем пользователи тарифа Ультра.\n",
    "На тарифе Смарт пользователи часто не укладываются в лимиты и доплачивают за звонки.\n",
    "Дисперсия и стандартное отклонение выше на тарифе Ультра, но пользователи этого тарифа всегда укладываются в установленные лимиты. Максимальное число минут разговора в месяц значительно меньше заложенных в него 3000."
   ]
  },
  {
   "cell_type": "markdown",
   "metadata": {},
   "source": [
    "### Необходимое пользователю количество минут разговора в месяц"
   ]
  },
  {
   "cell_type": "code",
   "execution_count": 58,
   "metadata": {},
   "outputs": [
    {
     "data": {
      "text/html": [
       "<style  type=\"text/css\" >\n",
       "</style><table id=\"T_31bc0_\" ><thead>    <tr>        <th class=\"blank level0\" ></th>        <th class=\"col_heading level0 col0\" colspan=\"4\">month_calls_duration</th>    </tr>    <tr>        <th class=\"blank level1\" ></th>        <th class=\"col_heading level1 col0\" >median</th>        <th class=\"col_heading level1 col1\" >mean</th>        <th class=\"col_heading level1 col2\" >var</th>        <th class=\"col_heading level1 col3\" >std</th>    </tr>    <tr>        <th class=\"index_name level0\" >tariff</th>        <th class=\"blank\" ></th>        <th class=\"blank\" ></th>        <th class=\"blank\" ></th>        <th class=\"blank\" ></th>    </tr></thead><tbody>\n",
       "                <tr>\n",
       "                        <th id=\"T_31bc0_level0_row0\" class=\"row_heading level0 row0\" >smart</th>\n",
       "                        <td id=\"T_31bc0_row0_col0\" class=\"data row0 col0\" >422.00</td>\n",
       "                        <td id=\"T_31bc0_row0_col1\" class=\"data row0 col1\" >417.93</td>\n",
       "                        <td id=\"T_31bc0_row0_col2\" class=\"data row0 col2\" >36219.32</td>\n",
       "                        <td id=\"T_31bc0_row0_col3\" class=\"data row0 col3\" >190.31</td>\n",
       "            </tr>\n",
       "            <tr>\n",
       "                        <th id=\"T_31bc0_level0_row1\" class=\"row_heading level0 row1\" >ultra</th>\n",
       "                        <td id=\"T_31bc0_row1_col0\" class=\"data row1 col0\" >518.00</td>\n",
       "                        <td id=\"T_31bc0_row1_col1\" class=\"data row1 col1\" >526.62</td>\n",
       "                        <td id=\"T_31bc0_row1_col2\" class=\"data row1 col2\" >100873.63</td>\n",
       "                        <td id=\"T_31bc0_row1_col3\" class=\"data row1 col3\" >317.61</td>\n",
       "            </tr>\n",
       "    </tbody></table>"
      ],
      "text/plain": [
       "<pandas.io.formats.style.Styler at 0x7f1e1d7c59d0>"
      ]
     },
     "execution_count": 58,
     "metadata": {},
     "output_type": "execute_result"
    }
   ],
   "source": [
    "df.groupby('tariff')\\\n",
    "  .agg({'month_calls_duration':['median','mean','var','std']})\\\n",
    "  .style.format(\"{:.2f}\")"
   ]
  },
  {
   "cell_type": "code",
   "execution_count": 59,
   "metadata": {},
   "outputs": [
    {
     "data": {
      "text/plain": [
       "Text(0.5, 1.0, 'Смарт — Звонки в минутах в месяц')"
      ]
     },
     "execution_count": 59,
     "metadata": {},
     "output_type": "execute_result"
    },
    {
     "data": {
      "image/png": "[encoded data removed]",
      "text/plain": [
       "<Figure size 432x288 with 1 Axes>"
      ]
     },
     "metadata": {
      "needs_background": "light"
     },
     "output_type": "display_data"
    }
   ],
   "source": [
    "df[df['tariff'] == 'smart']['month_calls_duration'].plot(kind='hist', bins=10)\n",
    "plt.title('Смарт — Звонки в минутах в месяц')"
   ]
  },
  {
   "cell_type": "code",
   "execution_count": 60,
   "metadata": {},
   "outputs": [
    {
     "data": {
      "text/plain": [
       "Text(0.5, 1.0, 'Ультра — Звонки в минутах в месяц')"
      ]
     },
     "execution_count": 60,
     "metadata": {},
     "output_type": "execute_result"
    },
    {
     "data": {
      "image/png": "[encoded data removed]",
      "text/plain": [
       "<Figure size 432x288 with 1 Axes>"
      ]
     },
     "metadata": {
      "needs_background": "light"
     },
     "output_type": "display_data"
    }
   ],
   "source": [
    "df[df['tariff'] == 'ultra']['month_calls_duration'].plot(kind='hist', bins=10)\n",
    "plt.title('Ультра — Звонки в минутах в месяц')"
   ]
  },
  {
   "cell_type": "markdown",
   "metadata": {},
   "source": [
    "На Смарте люди в месяц говорят около 450 минут, на Ультре 550 минут в месяц. То есть на Смарте люди подходят к краю своего тарифа, а на Ультре у них остается запас 2500 минут. Среднее и медиана лежат рядом и там и там — ничего экстремального, видимо"
   ]
  },
  {
   "cell_type": "markdown",
   "metadata": {},
   "source": [
    "### Необходимое пользователю количество сообщений в месяц"
   ]
  },
  {
   "cell_type": "code",
   "execution_count": 61,
   "metadata": {
    "scrolled": true
   },
   "outputs": [
    {
     "data": {
      "text/html": [
       "<style  type=\"text/css\" >\n",
       "</style><table id=\"T_2965a_\" ><thead>    <tr>        <th class=\"blank level0\" ></th>        <th class=\"col_heading level0 col0\" colspan=\"4\">sms_total_in_month</th>    </tr>    <tr>        <th class=\"blank level1\" ></th>        <th class=\"col_heading level1 col0\" >median</th>        <th class=\"col_heading level1 col1\" >mean</th>        <th class=\"col_heading level1 col2\" >var</th>        <th class=\"col_heading level1 col3\" >std</th>    </tr>    <tr>        <th class=\"index_name level0\" >tariff</th>        <th class=\"blank\" ></th>        <th class=\"blank\" ></th>        <th class=\"blank\" ></th>        <th class=\"blank\" ></th>    </tr></thead><tbody>\n",
       "                <tr>\n",
       "                        <th id=\"T_2965a_level0_row0\" class=\"row_heading level0 row0\" >smart</th>\n",
       "                        <td id=\"T_2965a_row0_col0\" class=\"data row0 col0\" >28.00</td>\n",
       "                        <td id=\"T_2965a_row0_col1\" class=\"data row0 col1\" >33.38</td>\n",
       "                        <td id=\"T_2965a_row0_col2\" class=\"data row0 col2\" >796.81</td>\n",
       "                        <td id=\"T_2965a_row0_col3\" class=\"data row0 col3\" >28.23</td>\n",
       "            </tr>\n",
       "            <tr>\n",
       "                        <th id=\"T_2965a_level0_row1\" class=\"row_heading level0 row1\" >ultra</th>\n",
       "                        <td id=\"T_2965a_row1_col0\" class=\"data row1 col0\" >38.00</td>\n",
       "                        <td id=\"T_2965a_row1_col1\" class=\"data row1 col1\" >49.36</td>\n",
       "                        <td id=\"T_2965a_row1_col2\" class=\"data row1 col2\" >2285.27</td>\n",
       "                        <td id=\"T_2965a_row1_col3\" class=\"data row1 col3\" >47.80</td>\n",
       "            </tr>\n",
       "    </tbody></table>"
      ],
      "text/plain": [
       "<pandas.io.formats.style.Styler at 0x7f1e1d8ab490>"
      ]
     },
     "execution_count": 61,
     "metadata": {},
     "output_type": "execute_result"
    }
   ],
   "source": [
    "df.groupby('tariff')\\\n",
    "  .agg({'sms_total_in_month':['median','mean','var','std']})\\\n",
    "  .style.format(\"{:.2f}\")"
   ]
  },
  {
   "cell_type": "code",
   "execution_count": 62,
   "metadata": {},
   "outputs": [
    {
     "data": {
      "text/plain": [
       "Text(0.5, 1.0, 'Смарт — СМС в месяц')"
      ]
     },
     "execution_count": 62,
     "metadata": {},
     "output_type": "execute_result"
    },
    {
     "data": {
      "image/png": "[encoded data removed]",
      "text/plain": [
       "<Figure size 432x288 with 1 Axes>"
      ]
     },
     "metadata": {
      "needs_background": "light"
     },
     "output_type": "display_data"
    }
   ],
   "source": [
    "df[df['tariff'] == 'smart']['sms_total_in_month'].plot(kind='hist', bins=10)\n",
    "plt.title('Смарт — СМС в месяц')"
   ]
  },
  {
   "cell_type": "code",
   "execution_count": 63,
   "metadata": {},
   "outputs": [
    {
     "data": {
      "text/plain": [
       "Text(0.5, 1.0, 'Ультра — СМС в месяц')"
      ]
     },
     "execution_count": 63,
     "metadata": {},
     "output_type": "execute_result"
    },
    {
     "data": {
      "image/png": "[encoded data removed]",
      "text/plain": [
       "<Figure size 432x288 with 1 Axes>"
      ]
     },
     "metadata": {
      "needs_background": "light"
     },
     "output_type": "display_data"
    }
   ],
   "source": [
    "df[df['tariff'] == 'ultra']['sms_total_in_month'].plot(kind='hist', bins=10)\n",
    "plt.title('Ультра — СМС в месяц')"
   ]
  },
  {
   "cell_type": "markdown",
   "metadata": {},
   "source": [
    "Поведение пользователей выглядит похожим. Смс-ки никому не нужны. Совсем."
   ]
  },
  {
   "cell_type": "markdown",
   "metadata": {},
   "source": [
    "### Необходимый пользователю объём интернет-трафика в месяц"
   ]
  },
  {
   "cell_type": "code",
   "execution_count": 64,
   "metadata": {},
   "outputs": [],
   "source": [
    "df['gb_total_in_month'] = df['mb_total_in_month'] / 1024"
   ]
  },
  {
   "cell_type": "code",
   "execution_count": 65,
   "metadata": {},
   "outputs": [
    {
     "data": {
      "text/html": [
       "<style  type=\"text/css\" >\n",
       "</style><table id=\"T_9f792_\" ><thead>    <tr>        <th class=\"blank level0\" ></th>        <th class=\"col_heading level0 col0\" colspan=\"4\">gb_total_in_month</th>    </tr>    <tr>        <th class=\"blank level1\" ></th>        <th class=\"col_heading level1 col0\" >median</th>        <th class=\"col_heading level1 col1\" >mean</th>        <th class=\"col_heading level1 col2\" >var</th>        <th class=\"col_heading level1 col3\" >std</th>    </tr>    <tr>        <th class=\"index_name level0\" >tariff</th>        <th class=\"blank\" ></th>        <th class=\"blank\" ></th>        <th class=\"blank\" ></th>        <th class=\"blank\" ></th>    </tr></thead><tbody>\n",
       "                <tr>\n",
       "                        <th id=\"T_9f792_level0_row0\" class=\"row_heading level0 row0\" >smart</th>\n",
       "                        <td id=\"T_9f792_row0_col0\" class=\"data row0 col0\" >16.12</td>\n",
       "                        <td id=\"T_9f792_row0_col1\" class=\"data row0 col1\" >15.83</td>\n",
       "                        <td id=\"T_9f792_row0_col2\" class=\"data row0 col2\" >32.87</td>\n",
       "                        <td id=\"T_9f792_row0_col3\" class=\"data row0 col3\" >5.73</td>\n",
       "            </tr>\n",
       "            <tr>\n",
       "                        <th id=\"T_9f792_level0_row1\" class=\"row_heading level0 row1\" >ultra</th>\n",
       "                        <td id=\"T_9f792_row1_col0\" class=\"data row1 col0\" >18.86</td>\n",
       "                        <td id=\"T_9f792_row1_col1\" class=\"data row1 col1\" >19.01</td>\n",
       "                        <td id=\"T_9f792_row1_col2\" class=\"data row1 col2\" >97.04</td>\n",
       "                        <td id=\"T_9f792_row1_col3\" class=\"data row1 col3\" >9.85</td>\n",
       "            </tr>\n",
       "    </tbody></table>"
      ],
      "text/plain": [
       "<pandas.io.formats.style.Styler at 0x7f1e1d99c820>"
      ]
     },
     "execution_count": 65,
     "metadata": {},
     "output_type": "execute_result"
    }
   ],
   "source": [
    "df.groupby('tariff')\\\n",
    "  .agg({'gb_total_in_month':['median','mean','var','std']})\\\n",
    "  .style.format(\"{:.2f}\")"
   ]
  },
  {
   "cell_type": "code",
   "execution_count": 66,
   "metadata": {},
   "outputs": [
    {
     "data": {
      "text/plain": [
       "Text(0.5, 1.0, 'Смарт — Интернет в Гб в месяц')"
      ]
     },
     "execution_count": 66,
     "metadata": {},
     "output_type": "execute_result"
    },
    {
     "data": {
      "image/png": "[encoded data removed]",
      "text/plain": [
       "<Figure size 432x288 with 1 Axes>"
      ]
     },
     "metadata": {
      "needs_background": "light"
     },
     "output_type": "display_data"
    }
   ],
   "source": [
    "df[df['tariff'] == 'smart']['gb_total_in_month'].plot(kind='hist', bins=10)\n",
    "plt.title('Смарт — Интернет в Гб в месяц')"
   ]
  },
  {
   "cell_type": "code",
   "execution_count": 67,
   "metadata": {},
   "outputs": [
    {
     "data": {
      "text/plain": [
       "Text(0.5, 1.0, 'Ультра — Интернет в Гб в месяц')"
      ]
     },
     "execution_count": 67,
     "metadata": {},
     "output_type": "execute_result"
    },
    {
     "data": {
      "image/png": "[encoded data removed]",
      "text/plain": [
       "<Figure size 432x288 with 1 Axes>"
      ]
     },
     "metadata": {
      "needs_background": "light"
     },
     "output_type": "display_data"
    }
   ],
   "source": [
    "df[df['tariff'] == 'ultra']['gb_total_in_month'].plot(kind='hist', bins=10)\n",
    "plt.title('Ультра — Интернет в Гб в месяц')"
   ]
  },
  {
   "cell_type": "markdown",
   "metadata": {},
   "source": [
    "Среднее и медиана лежат рядом и там и там и тут тоже. На Смарте люди выходят за пределы тарифа больше, у Ультры снова запас — в 10 Гб, но и разброс больше"
   ]
  },
  {
   "cell_type": "markdown",
   "metadata": {},
   "source": [
    "## Проверка гипотез"
   ]
  },
  {
   "cell_type": "markdown",
   "metadata": {},
   "source": [
    "* средняя выручка пользователей тарифов «Ультра» и «Смарт» различаются\n",
    "* средняя выручка пользователей из Москвы отличается от выручки пользователей из других регионов\n",
    "Пороговое значение alpha зададим самостоятельно."
   ]
  },
  {
   "cell_type": "code",
   "execution_count": 71,
   "metadata": {},
   "outputs": [],
   "source": [
    "# Напишем функцию для удаления выбросов\n",
    "\n",
    "def delete_outliers(df, column, graphic=0, x = 10, y = 10):\n",
    "    q1 = df[column].quantile(0.25)                 \n",
    "    q3 = df[column].quantile(0.75)\n",
    "    iqr = q3 - q1\n",
    "    iqr_test = (df[column] >= (q1 - 1.5 * iqr)) & (df[column] <= (q3 + 1.5 * iqr))\n",
    "    if graphic == 1:\n",
    "        return df.loc[iqr_test].boxplot([column], figsize=(x,y))\n",
    "    else:\n",
    "        return df.loc[iqr_test]"
   ]
  },
  {
   "cell_type": "markdown",
   "metadata": {},
   "source": [
    "Будем использовать t-критерий Стьюдента, так как сравниваемые выборки независимы между собой."
   ]
  },
  {
   "cell_type": "markdown",
   "metadata": {},
   "source": [
    "### Гипотеза о равенстве средних двух генеральных совокупностей №1\n",
    "\n",
    "**Сформулируем гипотезы:**\n",
    "\n",
    "* *H0: выручка пользователей тарифов «Ультра» и «Смарт» не различается*\n",
    "* *H1: выручка пользователей тарифов «Ультра» и «Смарт» различается*"
   ]
  },
  {
   "cell_type": "code",
   "execution_count": 72,
   "metadata": {},
   "outputs": [
    {
     "data": {
      "text/html": [
       "<div>\n",
       "<style scoped>\n",
       "    .dataframe tbody tr th:only-of-type {\n",
       "        vertical-align: middle;\n",
       "    }\n",
       "\n",
       "    .dataframe tbody tr th {\n",
       "        vertical-align: top;\n",
       "    }\n",
       "\n",
       "    .dataframe thead th {\n",
       "        text-align: right;\n",
       "    }\n",
       "</style>\n",
       "<table border=\"1\" class=\"dataframe\">\n",
       "  <thead>\n",
       "    <tr style=\"text-align: right;\">\n",
       "      <th></th>\n",
       "      <th>user_id</th>\n",
       "      <th>month_x</th>\n",
       "      <th>month_calls_duration</th>\n",
       "      <th>calls_total_in_month</th>\n",
       "      <th>sms_total_in_month</th>\n",
       "      <th>mb_total_in_month</th>\n",
       "      <th>age</th>\n",
       "      <th>churn_date</th>\n",
       "      <th>city</th>\n",
       "      <th>first_name</th>\n",
       "      <th>...</th>\n",
       "      <th>messages_included</th>\n",
       "      <th>mb_per_month_included</th>\n",
       "      <th>minutes_included</th>\n",
       "      <th>rub_monthly_fee</th>\n",
       "      <th>rub_per_gb</th>\n",
       "      <th>rub_per_message</th>\n",
       "      <th>rub_per_minute</th>\n",
       "      <th>above_the_tariff</th>\n",
       "      <th>total_paid</th>\n",
       "      <th>gb_total_in_month</th>\n",
       "    </tr>\n",
       "  </thead>\n",
       "  <tbody>\n",
       "    <tr>\n",
       "      <th>0</th>\n",
       "      <td>1000</td>\n",
       "      <td>5</td>\n",
       "      <td>159.0</td>\n",
       "      <td>17.0</td>\n",
       "      <td>22.0</td>\n",
       "      <td>2254.0</td>\n",
       "      <td>52</td>\n",
       "      <td>NaN</td>\n",
       "      <td>Краснодар</td>\n",
       "      <td>Рафаил</td>\n",
       "      <td>...</td>\n",
       "      <td>1000</td>\n",
       "      <td>30720</td>\n",
       "      <td>3000</td>\n",
       "      <td>1950</td>\n",
       "      <td>150</td>\n",
       "      <td>1</td>\n",
       "      <td>1</td>\n",
       "      <td>0.0</td>\n",
       "      <td>1950.0</td>\n",
       "      <td>2.201172</td>\n",
       "    </tr>\n",
       "    <tr>\n",
       "      <th>1</th>\n",
       "      <td>1000</td>\n",
       "      <td>6</td>\n",
       "      <td>172.0</td>\n",
       "      <td>28.0</td>\n",
       "      <td>60.0</td>\n",
       "      <td>23234.0</td>\n",
       "      <td>52</td>\n",
       "      <td>NaN</td>\n",
       "      <td>Краснодар</td>\n",
       "      <td>Рафаил</td>\n",
       "      <td>...</td>\n",
       "      <td>1000</td>\n",
       "      <td>30720</td>\n",
       "      <td>3000</td>\n",
       "      <td>1950</td>\n",
       "      <td>150</td>\n",
       "      <td>1</td>\n",
       "      <td>1</td>\n",
       "      <td>0.0</td>\n",
       "      <td>1950.0</td>\n",
       "      <td>22.689453</td>\n",
       "    </tr>\n",
       "    <tr>\n",
       "      <th>2</th>\n",
       "      <td>1000</td>\n",
       "      <td>7</td>\n",
       "      <td>340.0</td>\n",
       "      <td>41.0</td>\n",
       "      <td>75.0</td>\n",
       "      <td>14004.0</td>\n",
       "      <td>52</td>\n",
       "      <td>NaN</td>\n",
       "      <td>Краснодар</td>\n",
       "      <td>Рафаил</td>\n",
       "      <td>...</td>\n",
       "      <td>1000</td>\n",
       "      <td>30720</td>\n",
       "      <td>3000</td>\n",
       "      <td>1950</td>\n",
       "      <td>150</td>\n",
       "      <td>1</td>\n",
       "      <td>1</td>\n",
       "      <td>0.0</td>\n",
       "      <td>1950.0</td>\n",
       "      <td>13.675781</td>\n",
       "    </tr>\n",
       "    <tr>\n",
       "      <th>3</th>\n",
       "      <td>1000</td>\n",
       "      <td>8</td>\n",
       "      <td>408.0</td>\n",
       "      <td>42.0</td>\n",
       "      <td>81.0</td>\n",
       "      <td>14056.0</td>\n",
       "      <td>52</td>\n",
       "      <td>NaN</td>\n",
       "      <td>Краснодар</td>\n",
       "      <td>Рафаил</td>\n",
       "      <td>...</td>\n",
       "      <td>1000</td>\n",
       "      <td>30720</td>\n",
       "      <td>3000</td>\n",
       "      <td>1950</td>\n",
       "      <td>150</td>\n",
       "      <td>1</td>\n",
       "      <td>1</td>\n",
       "      <td>0.0</td>\n",
       "      <td>1950.0</td>\n",
       "      <td>13.726562</td>\n",
       "    </tr>\n",
       "    <tr>\n",
       "      <th>4</th>\n",
       "      <td>1000</td>\n",
       "      <td>9</td>\n",
       "      <td>466.0</td>\n",
       "      <td>46.0</td>\n",
       "      <td>57.0</td>\n",
       "      <td>14569.0</td>\n",
       "      <td>52</td>\n",
       "      <td>NaN</td>\n",
       "      <td>Краснодар</td>\n",
       "      <td>Рафаил</td>\n",
       "      <td>...</td>\n",
       "      <td>1000</td>\n",
       "      <td>30720</td>\n",
       "      <td>3000</td>\n",
       "      <td>1950</td>\n",
       "      <td>150</td>\n",
       "      <td>1</td>\n",
       "      <td>1</td>\n",
       "      <td>0.0</td>\n",
       "      <td>1950.0</td>\n",
       "      <td>14.227539</td>\n",
       "    </tr>\n",
       "  </tbody>\n",
       "</table>\n",
       "<p>5 rows × 24 columns</p>\n",
       "</div>"
      ],
      "text/plain": [
       "   user_id  month_x  month_calls_duration  calls_total_in_month  \\\n",
       "0     1000        5                 159.0                  17.0   \n",
       "1     1000        6                 172.0                  28.0   \n",
       "2     1000        7                 340.0                  41.0   \n",
       "3     1000        8                 408.0                  42.0   \n",
       "4     1000        9                 466.0                  46.0   \n",
       "\n",
       "   sms_total_in_month  mb_total_in_month  age churn_date       city  \\\n",
       "0                22.0             2254.0   52        NaN  Краснодар   \n",
       "1                60.0            23234.0   52        NaN  Краснодар   \n",
       "2                75.0            14004.0   52        NaN  Краснодар   \n",
       "3                81.0            14056.0   52        NaN  Краснодар   \n",
       "4                57.0            14569.0   52        NaN  Краснодар   \n",
       "\n",
       "  first_name  ... messages_included mb_per_month_included minutes_included  \\\n",
       "0     Рафаил  ...              1000                 30720             3000   \n",
       "1     Рафаил  ...              1000                 30720             3000   \n",
       "2     Рафаил  ...              1000                 30720             3000   \n",
       "3     Рафаил  ...              1000                 30720             3000   \n",
       "4     Рафаил  ...              1000                 30720             3000   \n",
       "\n",
       "   rub_monthly_fee  rub_per_gb  rub_per_message  rub_per_minute  \\\n",
       "0             1950         150                1               1   \n",
       "1             1950         150                1               1   \n",
       "2             1950         150                1               1   \n",
       "3             1950         150                1               1   \n",
       "4             1950         150                1               1   \n",
       "\n",
       "   above_the_tariff  total_paid  gb_total_in_month  \n",
       "0               0.0      1950.0           2.201172  \n",
       "1               0.0      1950.0          22.689453  \n",
       "2               0.0      1950.0          13.675781  \n",
       "3               0.0      1950.0          13.726562  \n",
       "4               0.0      1950.0          14.227539  \n",
       "\n",
       "[5 rows x 24 columns]"
      ]
     },
     "execution_count": 72,
     "metadata": {},
     "output_type": "execute_result"
    }
   ],
   "source": [
    "df.head()"
   ]
  },
  {
   "cell_type": "code",
   "execution_count": 73,
   "metadata": {},
   "outputs": [],
   "source": [
    "ultra = df[df['tariff'] == 'ultra']\n",
    "smart = df[df['tariff'] == 'smart']"
   ]
  },
  {
   "cell_type": "code",
   "execution_count": 74,
   "metadata": {},
   "outputs": [],
   "source": [
    "ultra = delete_outliers(ultra, 'total_paid', 0)\n",
    "ultra = ultra['total_paid']"
   ]
  },
  {
   "cell_type": "code",
   "execution_count": 75,
   "metadata": {},
   "outputs": [],
   "source": [
    "smart = delete_outliers(smart, 'total_paid', 0)\n",
    "smart = smart['total_paid']"
   ]
  },
  {
   "cell_type": "code",
   "execution_count": 76,
   "metadata": {},
   "outputs": [],
   "source": [
    "alpha = 0.05"
   ]
  },
  {
   "cell_type": "code",
   "execution_count": 77,
   "metadata": {},
   "outputs": [],
   "source": [
    "results = st.ttest_ind(ultra, smart)"
   ]
  },
  {
   "cell_type": "code",
   "execution_count": 78,
   "metadata": {},
   "outputs": [
    {
     "name": "stdout",
     "output_type": "stream",
     "text": [
      "p-значение: 3.210443066125946e-203\n",
      "Отвергаем нулевую гипотезу\n"
     ]
    }
   ],
   "source": [
    "print('p-значение:', results.pvalue)\n",
    "\n",
    "if (results.pvalue < alpha):\n",
    "    print(\"Отвергаем нулевую гипотезу\")\n",
    "else:\n",
    "    print(\"Не получилось отвергнуть нулевую гипотезу\")"
   ]
  },
  {
   "cell_type": "markdown",
   "metadata": {},
   "source": [
    "Разница не случайна, есть значимые различия между выборками"
   ]
  },
  {
   "cell_type": "markdown",
   "metadata": {},
   "source": [
    "### Гипотеза о равенстве средних двух генеральных совокупностей №2\n",
    "\n",
    "Сформулируем гипотезы:\n",
    "\n",
    "* *H0: средняя выручка пользователей из Москвы не отличается от выручки пользователей из других регионов*\n",
    "* *H1: средняя выручка пользователей из Москвы отличается от выручки пользователей из других регионов*"
   ]
  },
  {
   "cell_type": "code",
   "execution_count": 79,
   "metadata": {},
   "outputs": [
    {
     "data": {
      "text/plain": [
       "array(['Краснодар', 'Москва', 'Стерлитамак', 'Новокузнецк',\n",
       "       'Набережные Челны', 'Ульяновск', 'Челябинск', 'Пермь', 'Тюмень',\n",
       "       'Самара', 'Санкт-Петербург', 'Иваново', 'Чебоксары', 'Омск', 'Уфа',\n",
       "       'Томск', 'Чита', 'Мурманск', 'Петрозаводск', 'Тверь',\n",
       "       'Екатеринбург', 'Махачкала', 'Вологда', 'Череповец', 'Ярославль',\n",
       "       'Сочи', 'Хабаровск', 'Ставрополь', 'Рязань', 'Улан-Удэ', 'Тула',\n",
       "       'Саратов', 'Ростов-на-Дону', 'Казань', 'Иркутск', 'Курск',\n",
       "       'Калуга', 'Якутск', 'Астрахань', 'Химки', 'Владикавказ',\n",
       "       'Волгоград', 'Саранск', 'Ижевск', 'Новосибирск', 'Брянск',\n",
       "       'Тольятти', 'Нижний Тагил', 'Орёл', 'Белгород', 'Воронеж',\n",
       "       'Курган', 'Барнаул', 'Красноярск', 'Архангельск', 'Липецк',\n",
       "       'Кемерово', 'Киров', 'Сургут', 'Пенза', 'Волжский', 'Магнитогорск',\n",
       "       'Нижний Новгород', 'Кострома', 'Владивосток', 'Тамбов', 'Балашиха',\n",
       "       'Севастополь', 'Калининград', 'Оренбург', 'Смоленск',\n",
       "       'Нижневартовск', 'Владимир', 'Новороссийск', 'Грозный', 'Подольск'],\n",
       "      dtype=object)"
      ]
     },
     "execution_count": 79,
     "metadata": {},
     "output_type": "execute_result"
    }
   ],
   "source": [
    "df['city'].unique()"
   ]
  },
  {
   "cell_type": "code",
   "execution_count": 80,
   "metadata": {},
   "outputs": [],
   "source": [
    "df['region'] = np.where(df['city'] == 'Москва', 'Москва', 'Провинция')"
   ]
  },
  {
   "cell_type": "code",
   "execution_count": 81,
   "metadata": {},
   "outputs": [],
   "source": [
    "moscow = df[df['region'] == 'Москва']\n",
    "province = df[df['region'] == 'Провинция']"
   ]
  },
  {
   "cell_type": "code",
   "execution_count": 82,
   "metadata": {},
   "outputs": [],
   "source": [
    "moscow = delete_outliers(moscow, 'total_paid', 0)\n",
    "moscow = moscow['total_paid']"
   ]
  },
  {
   "cell_type": "code",
   "execution_count": 83,
   "metadata": {},
   "outputs": [],
   "source": [
    "province = delete_outliers(province, 'total_paid', 0)\n",
    "province = province['total_paid']"
   ]
  },
  {
   "cell_type": "code",
   "execution_count": 84,
   "metadata": {},
   "outputs": [],
   "source": [
    "results = st.ttest_ind(moscow, province)\n",
    "# equal_var = False"
   ]
  },
  {
   "cell_type": "code",
   "execution_count": 85,
   "metadata": {},
   "outputs": [
    {
     "name": "stdout",
     "output_type": "stream",
     "text": [
      "p-значение: 0.2767015747141388\n",
      "Не получилось отвергнуть нулевую гипотезу\n"
     ]
    }
   ],
   "source": [
    "print('p-значение:', results.pvalue)\n",
    "\n",
    "if (results.pvalue < alpha):\n",
    "    print(\"Отвергаем нулевую гипотезу\")\n",
    "else:\n",
    "    print(\"Не получилось отвергнуть нулевую гипотезу\")"
   ]
  },
  {
   "cell_type": "markdown",
   "metadata": {},
   "source": [
    "С вероятностью в 30% такой результат может быть получен случайно. Значимых различий нет."
   ]
  },
  {
   "cell_type": "markdown",
   "metadata": {},
   "source": [
    "## Общий вывод"
   ]
  },
  {
   "cell_type": "markdown",
   "metadata": {},
   "source": [
    "* Среднему пользователю тарифа Смарт не хватает интернета к заложенными в абонентскую плату 15 Гб и ему приходится доплачивать за них. Таким образом, есть дешевый тариф Смарт за 550 рублей, где пользователю не хватает интернета и количество использованных минут разговора на грани лимита, и есть тариф Ультра, стоимостью 1950 рублей, которым пользуется уже другой класс граждан, где лимитов по всем типам связи предостаточно.\n",
    "\n",
    "\n",
    "* Пользователи почти не пользуются SMS на обоих тарифах. Но если в Смарте люди близки к своим лимитам, то на Ультре остаются большие неизрасходованные \"запасы\" — возможно, имеет смысл подумать, как использовать эту, по сути, упущенную выгоду\n",
    "\n",
    "\n",
    "* Деньги одинаково поступают и из регионов и из Москвы, и вероятно это не связано с уровнем жизни, а с поведением: ~8-10 часов в месяц — это предел у среднего клиента на обоих тарифах\n",
    "\n",
    "Рекомендации:\n",
    "\n",
    "\"Мегалайну\" надо выработать решение, которое позволяло бы клиенту более комфортно, без доп. заказов, пользоваться услугами связи (особенно мобильным интернетом), при этом по цене являлось бы промежуточным вариантом между текущими Смарт и Ультра. Учитывая то, что средний пользователь тарифа Смарт дозаказывает гбайты интернета, и переплачивает.\n",
    "\n",
    "Например, можно рассмотреть вариант создания тарифа, в дополнение к текущим, который был бы создан на основе тарифа Смарт, но с пакетом интернет-трафика в 20 Гб и чуть большей стоимостью. "
   ]
  }
 ],
 "metadata": {
  "ExecuteTimeLog": [
   {
    "duration": 1112,
    "start_time": "2022-04-06T05:34:13.522Z"
   },
   {
    "duration": 1254,
    "start_time": "2022-04-06T05:34:14.637Z"
   },
   {
    "duration": 26,
    "start_time": "2022-04-06T05:34:15.895Z"
   },
   {
    "duration": 13,
    "start_time": "2022-04-06T05:34:15.923Z"
   },
   {
    "duration": 16,
    "start_time": "2022-04-06T05:34:15.941Z"
   },
   {
    "duration": 17,
    "start_time": "2022-04-06T05:34:15.974Z"
   },
   {
    "duration": 37,
    "start_time": "2022-04-06T05:34:15.994Z"
   },
   {
    "duration": 11,
    "start_time": "2022-04-06T05:34:16.034Z"
   },
   {
    "duration": 28,
    "start_time": "2022-04-06T05:34:16.084Z"
   },
   {
    "duration": 13,
    "start_time": "2022-04-06T05:34:16.115Z"
   },
   {
    "duration": 58,
    "start_time": "2022-04-06T05:34:16.130Z"
   },
   {
    "duration": 13,
    "start_time": "2022-04-06T05:34:16.190Z"
   },
   {
    "duration": 6,
    "start_time": "2022-04-06T05:34:16.205Z"
   },
   {
    "duration": 2459,
    "start_time": "2022-04-06T05:34:16.215Z"
   },
   {
    "duration": 23,
    "start_time": "2022-04-06T05:34:18.680Z"
   },
   {
    "duration": 25,
    "start_time": "2022-04-06T05:34:18.705Z"
   },
   {
    "duration": 18,
    "start_time": "2022-04-06T05:34:18.732Z"
   },
   {
    "duration": 38,
    "start_time": "2022-04-06T05:34:18.752Z"
   },
   {
    "duration": 136,
    "start_time": "2022-04-06T05:34:18.793Z"
   },
   {
    "duration": 0,
    "start_time": "2022-04-06T05:34:18.931Z"
   },
   {
    "duration": 0,
    "start_time": "2022-04-06T05:34:18.933Z"
   },
   {
    "duration": 0,
    "start_time": "2022-04-06T05:34:18.935Z"
   },
   {
    "duration": 1,
    "start_time": "2022-04-06T05:34:18.936Z"
   },
   {
    "duration": 0,
    "start_time": "2022-04-06T05:34:18.938Z"
   },
   {
    "duration": 0,
    "start_time": "2022-04-06T05:34:18.940Z"
   },
   {
    "duration": 0,
    "start_time": "2022-04-06T05:34:18.942Z"
   },
   {
    "duration": 0,
    "start_time": "2022-04-06T05:34:18.943Z"
   },
   {
    "duration": 0,
    "start_time": "2022-04-06T05:34:18.945Z"
   },
   {
    "duration": 0,
    "start_time": "2022-04-06T05:34:18.947Z"
   },
   {
    "duration": 0,
    "start_time": "2022-04-06T05:34:18.950Z"
   },
   {
    "duration": 0,
    "start_time": "2022-04-06T05:34:18.951Z"
   },
   {
    "duration": 0,
    "start_time": "2022-04-06T05:34:18.953Z"
   },
   {
    "duration": 0,
    "start_time": "2022-04-06T05:34:18.955Z"
   },
   {
    "duration": 0,
    "start_time": "2022-04-06T05:34:18.956Z"
   },
   {
    "duration": 0,
    "start_time": "2022-04-06T05:34:18.958Z"
   },
   {
    "duration": 0,
    "start_time": "2022-04-06T05:34:18.960Z"
   },
   {
    "duration": 991,
    "start_time": "2022-04-06T05:43:10.603Z"
   },
   {
    "duration": 1274,
    "start_time": "2022-04-06T05:43:11.599Z"
   },
   {
    "duration": 24,
    "start_time": "2022-04-06T05:43:12.876Z"
   },
   {
    "duration": 14,
    "start_time": "2022-04-06T05:43:12.903Z"
   },
   {
    "duration": 38,
    "start_time": "2022-04-06T05:43:12.920Z"
   },
   {
    "duration": 36,
    "start_time": "2022-04-06T05:43:12.960Z"
   },
   {
    "duration": 73,
    "start_time": "2022-04-06T05:43:12.999Z"
   },
   {
    "duration": 17,
    "start_time": "2022-04-06T05:43:13.078Z"
   },
   {
    "duration": 74,
    "start_time": "2022-04-06T05:43:13.098Z"
   },
   {
    "duration": 18,
    "start_time": "2022-04-06T05:43:13.178Z"
   },
   {
    "duration": 77,
    "start_time": "2022-04-06T05:43:13.199Z"
   },
   {
    "duration": 15,
    "start_time": "2022-04-06T05:43:13.279Z"
   },
   {
    "duration": 32,
    "start_time": "2022-04-06T05:43:13.297Z"
   },
   {
    "duration": 3351,
    "start_time": "2022-04-06T05:43:13.334Z"
   },
   {
    "duration": 17,
    "start_time": "2022-04-06T05:43:16.688Z"
   },
   {
    "duration": 17,
    "start_time": "2022-04-06T05:43:16.707Z"
   },
   {
    "duration": 16,
    "start_time": "2022-04-06T05:43:16.726Z"
   },
   {
    "duration": 40,
    "start_time": "2022-04-06T05:43:16.744Z"
   },
   {
    "duration": 595,
    "start_time": "2022-04-06T05:43:16.786Z"
   },
   {
    "duration": 39,
    "start_time": "2022-04-06T05:43:17.386Z"
   },
   {
    "duration": 22,
    "start_time": "2022-04-06T05:43:17.475Z"
   },
   {
    "duration": 996,
    "start_time": "2022-04-06T05:43:17.500Z"
   },
   {
    "duration": 94,
    "start_time": "2022-04-06T05:43:18.499Z"
   },
   {
    "duration": 115,
    "start_time": "2022-04-06T05:43:18.596Z"
   },
   {
    "duration": 183,
    "start_time": "2022-04-06T05:43:18.713Z"
   },
   {
    "duration": 813,
    "start_time": "2022-04-06T05:43:18.898Z"
   },
   {
    "duration": 72,
    "start_time": "2022-04-06T05:43:19.713Z"
   },
   {
    "duration": 620,
    "start_time": "2022-04-06T05:43:19.792Z"
   },
   {
    "duration": 94,
    "start_time": "2022-04-06T05:43:20.416Z"
   },
   {
    "duration": 79,
    "start_time": "2022-04-06T05:43:20.512Z"
   },
   {
    "duration": 376,
    "start_time": "2022-04-06T05:43:20.593Z"
   },
   {
    "duration": 219,
    "start_time": "2022-04-06T05:43:20.977Z"
   },
   {
    "duration": 0,
    "start_time": "2022-04-06T05:43:21.199Z"
   },
   {
    "duration": 0,
    "start_time": "2022-04-06T05:43:21.201Z"
   },
   {
    "duration": 0,
    "start_time": "2022-04-06T05:43:21.203Z"
   },
   {
    "duration": 6,
    "start_time": "2022-04-06T05:44:17.097Z"
   },
   {
    "duration": 2837,
    "start_time": "2022-04-06T05:44:17.106Z"
   },
   {
    "duration": 36,
    "start_time": "2022-04-06T05:44:19.946Z"
   },
   {
    "duration": 38,
    "start_time": "2022-04-06T05:44:19.985Z"
   },
   {
    "duration": 19,
    "start_time": "2022-04-06T05:44:20.027Z"
   },
   {
    "duration": 18,
    "start_time": "2022-04-06T05:44:20.048Z"
   },
   {
    "duration": 1150,
    "start_time": "2022-04-06T05:44:43.839Z"
   },
   {
    "duration": 1157,
    "start_time": "2022-04-06T05:44:44.993Z"
   },
   {
    "duration": 23,
    "start_time": "2022-04-06T05:44:46.153Z"
   },
   {
    "duration": 38,
    "start_time": "2022-04-06T05:44:46.179Z"
   },
   {
    "duration": 28,
    "start_time": "2022-04-06T05:44:46.222Z"
   },
   {
    "duration": 31,
    "start_time": "2022-04-06T05:44:46.253Z"
   },
   {
    "duration": 64,
    "start_time": "2022-04-06T05:44:46.289Z"
   },
   {
    "duration": 10,
    "start_time": "2022-04-06T05:44:46.356Z"
   },
   {
    "duration": 57,
    "start_time": "2022-04-06T05:44:46.369Z"
   },
   {
    "duration": 22,
    "start_time": "2022-04-06T05:44:46.429Z"
   },
   {
    "duration": 69,
    "start_time": "2022-04-06T05:44:46.453Z"
   },
   {
    "duration": 22,
    "start_time": "2022-04-06T05:44:46.524Z"
   },
   {
    "duration": 387,
    "start_time": "2022-04-06T05:44:46.548Z"
   },
   {
    "duration": 44,
    "start_time": "2022-04-06T05:44:46.939Z"
   },
   {
    "duration": 17,
    "start_time": "2022-04-06T05:44:46.985Z"
   },
   {
    "duration": 362,
    "start_time": "2022-04-06T05:44:47.004Z"
   },
   {
    "duration": 36,
    "start_time": "2022-04-06T05:44:47.368Z"
   },
   {
    "duration": 51,
    "start_time": "2022-04-06T05:44:47.406Z"
   },
   {
    "duration": 108,
    "start_time": "2022-04-06T05:44:47.466Z"
   },
   {
    "duration": 392,
    "start_time": "2022-04-06T05:44:47.577Z"
   },
   {
    "duration": 19,
    "start_time": "2022-04-06T05:44:47.979Z"
   },
   {
    "duration": 340,
    "start_time": "2022-04-06T05:44:48.000Z"
   },
   {
    "duration": 44,
    "start_time": "2022-04-06T05:44:48.342Z"
   },
   {
    "duration": 41,
    "start_time": "2022-04-06T05:44:48.388Z"
   },
   {
    "duration": 349,
    "start_time": "2022-04-06T05:44:48.432Z"
   },
   {
    "duration": 10,
    "start_time": "2022-04-06T05:44:48.793Z"
   },
   {
    "duration": 2282,
    "start_time": "2022-04-06T05:44:48.805Z"
   },
   {
    "duration": 19,
    "start_time": "2022-04-06T05:44:51.090Z"
   },
   {
    "duration": 24,
    "start_time": "2022-04-06T05:44:51.111Z"
   },
   {
    "duration": 21,
    "start_time": "2022-04-06T05:44:51.137Z"
   },
   {
    "duration": 52,
    "start_time": "2022-04-06T05:44:51.160Z"
   },
   {
    "duration": 143,
    "start_time": "2022-04-06T05:44:51.215Z"
   },
   {
    "duration": 0,
    "start_time": "2022-04-06T05:44:51.360Z"
   },
   {
    "duration": 0,
    "start_time": "2022-04-06T05:44:51.362Z"
   },
   {
    "duration": 0,
    "start_time": "2022-04-06T05:44:51.363Z"
   },
   {
    "duration": 145,
    "start_time": "2022-04-06T05:48:25.790Z"
   },
   {
    "duration": 15,
    "start_time": "2022-04-06T05:56:01.499Z"
   },
   {
    "duration": 827,
    "start_time": "2022-04-06T05:56:10.597Z"
   },
   {
    "duration": 1156,
    "start_time": "2022-04-06T05:56:11.426Z"
   },
   {
    "duration": 17,
    "start_time": "2022-04-06T05:56:12.585Z"
   },
   {
    "duration": 14,
    "start_time": "2022-04-06T05:56:12.605Z"
   },
   {
    "duration": 10,
    "start_time": "2022-04-06T05:56:12.621Z"
   },
   {
    "duration": 44,
    "start_time": "2022-04-06T05:56:12.633Z"
   },
   {
    "duration": 17,
    "start_time": "2022-04-06T05:56:12.687Z"
   },
   {
    "duration": 33,
    "start_time": "2022-04-06T05:56:12.706Z"
   },
   {
    "duration": 10,
    "start_time": "2022-04-06T05:56:12.741Z"
   },
   {
    "duration": 49,
    "start_time": "2022-04-06T05:56:12.753Z"
   },
   {
    "duration": 11,
    "start_time": "2022-04-06T05:56:12.804Z"
   },
   {
    "duration": 29,
    "start_time": "2022-04-06T05:56:12.817Z"
   },
   {
    "duration": 21,
    "start_time": "2022-04-06T05:56:12.874Z"
   },
   {
    "duration": 346,
    "start_time": "2022-04-06T05:56:12.900Z"
   },
   {
    "duration": 34,
    "start_time": "2022-04-06T05:56:13.248Z"
   },
   {
    "duration": 15,
    "start_time": "2022-04-06T05:56:13.287Z"
   },
   {
    "duration": 343,
    "start_time": "2022-04-06T05:56:13.305Z"
   },
   {
    "duration": 40,
    "start_time": "2022-04-06T05:56:13.651Z"
   },
   {
    "duration": 44,
    "start_time": "2022-04-06T05:56:13.694Z"
   },
   {
    "duration": 107,
    "start_time": "2022-04-06T05:56:13.741Z"
   },
   {
    "duration": 366,
    "start_time": "2022-04-06T05:56:13.850Z"
   },
   {
    "duration": 15,
    "start_time": "2022-04-06T05:56:14.218Z"
   },
   {
    "duration": 322,
    "start_time": "2022-04-06T05:56:14.235Z"
   },
   {
    "duration": 37,
    "start_time": "2022-04-06T05:56:14.559Z"
   },
   {
    "duration": 32,
    "start_time": "2022-04-06T05:56:14.598Z"
   },
   {
    "duration": 341,
    "start_time": "2022-04-06T05:56:14.632Z"
   },
   {
    "duration": 8,
    "start_time": "2022-04-06T05:56:14.976Z"
   },
   {
    "duration": 2157,
    "start_time": "2022-04-06T05:56:14.986Z"
   },
   {
    "duration": 15,
    "start_time": "2022-04-06T05:56:17.146Z"
   },
   {
    "duration": 16,
    "start_time": "2022-04-06T05:56:17.186Z"
   },
   {
    "duration": 13,
    "start_time": "2022-04-06T05:56:17.204Z"
   },
   {
    "duration": 14,
    "start_time": "2022-04-06T05:56:17.219Z"
   },
   {
    "duration": 139,
    "start_time": "2022-04-06T05:56:17.235Z"
   },
   {
    "duration": 0,
    "start_time": "2022-04-06T05:56:17.378Z"
   },
   {
    "duration": 0,
    "start_time": "2022-04-06T05:56:17.380Z"
   },
   {
    "duration": 0,
    "start_time": "2022-04-06T05:56:17.382Z"
   },
   {
    "duration": 942,
    "start_time": "2022-04-06T06:05:39.932Z"
   },
   {
    "duration": 1109,
    "start_time": "2022-04-06T06:05:40.878Z"
   },
   {
    "duration": 18,
    "start_time": "2022-04-06T06:05:41.990Z"
   },
   {
    "duration": 15,
    "start_time": "2022-04-06T06:05:42.010Z"
   },
   {
    "duration": 11,
    "start_time": "2022-04-06T06:05:42.028Z"
   },
   {
    "duration": 50,
    "start_time": "2022-04-06T06:05:42.041Z"
   },
   {
    "duration": 16,
    "start_time": "2022-04-06T06:05:42.094Z"
   },
   {
    "duration": 94,
    "start_time": "2022-04-06T06:05:42.112Z"
   },
   {
    "duration": 11,
    "start_time": "2022-04-06T06:05:42.208Z"
   },
   {
    "duration": 85,
    "start_time": "2022-04-06T06:05:42.221Z"
   },
   {
    "duration": 12,
    "start_time": "2022-04-06T06:05:42.309Z"
   },
   {
    "duration": 37,
    "start_time": "2022-04-06T06:05:42.376Z"
   },
   {
    "duration": 68,
    "start_time": "2022-04-06T06:05:42.415Z"
   },
   {
    "duration": 726,
    "start_time": "2022-04-06T06:05:42.489Z"
   },
   {
    "duration": 85,
    "start_time": "2022-04-06T06:05:43.218Z"
   },
   {
    "duration": 14,
    "start_time": "2022-04-06T06:05:43.305Z"
   },
   {
    "duration": 926,
    "start_time": "2022-04-06T06:05:43.375Z"
   },
   {
    "duration": 83,
    "start_time": "2022-04-06T06:05:44.304Z"
   },
   {
    "duration": 104,
    "start_time": "2022-04-06T06:05:44.391Z"
   },
   {
    "duration": 208,
    "start_time": "2022-04-06T06:05:44.497Z"
   },
   {
    "duration": 1078,
    "start_time": "2022-04-06T06:05:44.708Z"
   },
   {
    "duration": 14,
    "start_time": "2022-04-06T06:05:45.790Z"
   },
   {
    "duration": 333,
    "start_time": "2022-04-06T06:05:45.807Z"
   },
   {
    "duration": 41,
    "start_time": "2022-04-06T06:05:46.142Z"
   },
   {
    "duration": 32,
    "start_time": "2022-04-06T06:05:46.187Z"
   },
   {
    "duration": 358,
    "start_time": "2022-04-06T06:05:46.222Z"
   },
   {
    "duration": 7,
    "start_time": "2022-04-06T06:05:46.584Z"
   },
   {
    "duration": 2280,
    "start_time": "2022-04-06T06:05:46.594Z"
   },
   {
    "duration": 21,
    "start_time": "2022-04-06T06:05:48.877Z"
   },
   {
    "duration": 14,
    "start_time": "2022-04-06T06:05:48.900Z"
   },
   {
    "duration": 12,
    "start_time": "2022-04-06T06:05:48.916Z"
   },
   {
    "duration": 50,
    "start_time": "2022-04-06T06:05:48.930Z"
   },
   {
    "duration": 148,
    "start_time": "2022-04-06T06:05:48.983Z"
   },
   {
    "duration": 0,
    "start_time": "2022-04-06T06:05:49.134Z"
   },
   {
    "duration": 0,
    "start_time": "2022-04-06T06:05:49.137Z"
   },
   {
    "duration": 0,
    "start_time": "2022-04-06T06:05:49.139Z"
   },
   {
    "duration": 36,
    "start_time": "2022-04-06T06:06:25.790Z"
   },
   {
    "duration": 961,
    "start_time": "2022-04-06T06:06:45.452Z"
   },
   {
    "duration": 1630,
    "start_time": "2022-04-06T06:06:46.416Z"
   },
   {
    "duration": 17,
    "start_time": "2022-04-06T06:06:48.048Z"
   },
   {
    "duration": 38,
    "start_time": "2022-04-06T06:06:48.068Z"
   },
   {
    "duration": 16,
    "start_time": "2022-04-06T06:06:48.109Z"
   },
   {
    "duration": 14,
    "start_time": "2022-04-06T06:06:48.127Z"
   },
   {
    "duration": 47,
    "start_time": "2022-04-06T06:06:48.143Z"
   },
   {
    "duration": 16,
    "start_time": "2022-04-06T06:06:48.193Z"
   },
   {
    "duration": 80,
    "start_time": "2022-04-06T06:06:48.211Z"
   },
   {
    "duration": 11,
    "start_time": "2022-04-06T06:06:48.293Z"
   },
   {
    "duration": 42,
    "start_time": "2022-04-06T06:06:48.307Z"
   },
   {
    "duration": 40,
    "start_time": "2022-04-06T06:06:48.351Z"
   },
   {
    "duration": 28,
    "start_time": "2022-04-06T06:06:48.394Z"
   },
   {
    "duration": 11,
    "start_time": "2022-04-06T06:06:48.427Z"
   },
   {
    "duration": 407,
    "start_time": "2022-04-06T06:06:48.441Z"
   },
   {
    "duration": 24,
    "start_time": "2022-04-06T06:06:48.850Z"
   },
   {
    "duration": 26,
    "start_time": "2022-04-06T06:06:48.876Z"
   },
   {
    "duration": 362,
    "start_time": "2022-04-06T06:06:48.904Z"
   },
   {
    "duration": 33,
    "start_time": "2022-04-06T06:06:49.269Z"
   },
   {
    "duration": 69,
    "start_time": "2022-04-06T06:06:49.305Z"
   },
   {
    "duration": 97,
    "start_time": "2022-04-06T06:06:49.377Z"
   },
   {
    "duration": 426,
    "start_time": "2022-04-06T06:06:49.477Z"
   },
   {
    "duration": 21,
    "start_time": "2022-04-06T06:06:49.906Z"
   },
   {
    "duration": 424,
    "start_time": "2022-04-06T06:06:49.930Z"
   },
   {
    "duration": 41,
    "start_time": "2022-04-06T06:06:50.357Z"
   },
   {
    "duration": 32,
    "start_time": "2022-04-06T06:06:50.401Z"
   },
   {
    "duration": 371,
    "start_time": "2022-04-06T06:06:50.436Z"
   },
   {
    "duration": 6,
    "start_time": "2022-04-06T06:06:50.809Z"
   },
   {
    "duration": 2241,
    "start_time": "2022-04-06T06:06:50.817Z"
   },
   {
    "duration": 25,
    "start_time": "2022-04-06T06:06:53.060Z"
   },
   {
    "duration": 24,
    "start_time": "2022-04-06T06:06:53.089Z"
   },
   {
    "duration": 14,
    "start_time": "2022-04-06T06:06:53.116Z"
   },
   {
    "duration": 45,
    "start_time": "2022-04-06T06:06:53.132Z"
   },
   {
    "duration": 156,
    "start_time": "2022-04-06T06:06:53.180Z"
   },
   {
    "duration": 0,
    "start_time": "2022-04-06T06:06:53.338Z"
   },
   {
    "duration": 0,
    "start_time": "2022-04-06T06:06:53.339Z"
   },
   {
    "duration": 0,
    "start_time": "2022-04-06T06:06:53.341Z"
   },
   {
    "duration": 892,
    "start_time": "2022-04-06T06:22:05.534Z"
   },
   {
    "duration": 1184,
    "start_time": "2022-04-06T06:22:06.429Z"
   },
   {
    "duration": 20,
    "start_time": "2022-04-06T06:22:07.616Z"
   },
   {
    "duration": 31,
    "start_time": "2022-04-06T06:22:07.639Z"
   },
   {
    "duration": 19,
    "start_time": "2022-04-06T06:22:07.674Z"
   },
   {
    "duration": 9,
    "start_time": "2022-04-06T06:22:07.695Z"
   },
   {
    "duration": 17,
    "start_time": "2022-04-06T06:22:07.707Z"
   },
   {
    "duration": 13,
    "start_time": "2022-04-06T06:22:07.726Z"
   },
   {
    "duration": 73,
    "start_time": "2022-04-06T06:22:07.741Z"
   },
   {
    "duration": 11,
    "start_time": "2022-04-06T06:22:07.816Z"
   },
   {
    "duration": 58,
    "start_time": "2022-04-06T06:22:07.829Z"
   },
   {
    "duration": 12,
    "start_time": "2022-04-06T06:22:07.890Z"
   },
   {
    "duration": 37,
    "start_time": "2022-04-06T06:22:07.905Z"
   },
   {
    "duration": 32,
    "start_time": "2022-04-06T06:22:07.947Z"
   },
   {
    "duration": 371,
    "start_time": "2022-04-06T06:22:07.983Z"
   },
   {
    "duration": 40,
    "start_time": "2022-04-06T06:22:08.357Z"
   },
   {
    "duration": 18,
    "start_time": "2022-04-06T06:22:08.399Z"
   },
   {
    "duration": 361,
    "start_time": "2022-04-06T06:22:08.420Z"
   },
   {
    "duration": 26,
    "start_time": "2022-04-06T06:22:08.784Z"
   },
   {
    "duration": 69,
    "start_time": "2022-04-06T06:22:08.813Z"
   },
   {
    "duration": 97,
    "start_time": "2022-04-06T06:22:08.884Z"
   },
   {
    "duration": 479,
    "start_time": "2022-04-06T06:22:08.984Z"
   },
   {
    "duration": 20,
    "start_time": "2022-04-06T06:22:09.465Z"
   },
   {
    "duration": 326,
    "start_time": "2022-04-06T06:22:09.488Z"
   },
   {
    "duration": 25,
    "start_time": "2022-04-06T06:22:09.817Z"
   },
   {
    "duration": 55,
    "start_time": "2022-04-06T06:22:09.844Z"
   },
   {
    "duration": 336,
    "start_time": "2022-04-06T06:22:09.901Z"
   },
   {
    "duration": 6,
    "start_time": "2022-04-06T06:22:10.240Z"
   },
   {
    "duration": 3841,
    "start_time": "2022-04-06T06:22:10.248Z"
   },
   {
    "duration": 18,
    "start_time": "2022-04-06T06:22:14.091Z"
   },
   {
    "duration": 15,
    "start_time": "2022-04-06T06:22:14.111Z"
   },
   {
    "duration": 47,
    "start_time": "2022-04-06T06:22:14.129Z"
   },
   {
    "duration": 18,
    "start_time": "2022-04-06T06:22:14.178Z"
   },
   {
    "duration": 136,
    "start_time": "2022-04-06T06:22:14.197Z"
   },
   {
    "duration": 0,
    "start_time": "2022-04-06T06:22:14.335Z"
   },
   {
    "duration": 0,
    "start_time": "2022-04-06T06:22:14.337Z"
   },
   {
    "duration": 0,
    "start_time": "2022-04-06T06:22:14.338Z"
   },
   {
    "duration": 915,
    "start_time": "2022-04-06T06:25:26.291Z"
   },
   {
    "duration": 1196,
    "start_time": "2022-04-06T06:25:27.209Z"
   },
   {
    "duration": 18,
    "start_time": "2022-04-06T06:25:28.407Z"
   },
   {
    "duration": 38,
    "start_time": "2022-04-06T06:25:28.427Z"
   },
   {
    "duration": 21,
    "start_time": "2022-04-06T06:25:28.468Z"
   },
   {
    "duration": 25,
    "start_time": "2022-04-06T06:25:28.491Z"
   },
   {
    "duration": 24,
    "start_time": "2022-04-06T06:25:28.518Z"
   },
   {
    "duration": 32,
    "start_time": "2022-04-06T06:25:28.544Z"
   },
   {
    "duration": 40,
    "start_time": "2022-04-06T06:25:28.579Z"
   },
   {
    "duration": 12,
    "start_time": "2022-04-06T06:25:28.621Z"
   },
   {
    "duration": 67,
    "start_time": "2022-04-06T06:25:28.635Z"
   },
   {
    "duration": 12,
    "start_time": "2022-04-06T06:25:28.704Z"
   },
   {
    "duration": 32,
    "start_time": "2022-04-06T06:25:28.718Z"
   },
   {
    "duration": 18,
    "start_time": "2022-04-06T06:25:28.773Z"
   },
   {
    "duration": 381,
    "start_time": "2022-04-06T06:25:28.793Z"
   },
   {
    "duration": 27,
    "start_time": "2022-04-06T06:25:29.177Z"
   },
   {
    "duration": 14,
    "start_time": "2022-04-06T06:25:29.207Z"
   },
   {
    "duration": 386,
    "start_time": "2022-04-06T06:25:29.223Z"
   },
   {
    "duration": 23,
    "start_time": "2022-04-06T06:25:29.611Z"
   },
   {
    "duration": 68,
    "start_time": "2022-04-06T06:25:29.636Z"
   },
   {
    "duration": 97,
    "start_time": "2022-04-06T06:25:29.706Z"
   },
   {
    "duration": 409,
    "start_time": "2022-04-06T06:25:29.806Z"
   },
   {
    "duration": 16,
    "start_time": "2022-04-06T06:25:30.217Z"
   },
   {
    "duration": 358,
    "start_time": "2022-04-06T06:25:30.235Z"
   },
   {
    "duration": 25,
    "start_time": "2022-04-06T06:25:30.595Z"
   },
   {
    "duration": 61,
    "start_time": "2022-04-06T06:25:30.623Z"
   },
   {
    "duration": 335,
    "start_time": "2022-04-06T06:25:30.688Z"
   },
   {
    "duration": 5,
    "start_time": "2022-04-06T06:25:31.025Z"
   },
   {
    "duration": 2224,
    "start_time": "2022-04-06T06:25:31.032Z"
   },
   {
    "duration": 23,
    "start_time": "2022-04-06T06:25:33.259Z"
   },
   {
    "duration": 26,
    "start_time": "2022-04-06T06:25:33.285Z"
   },
   {
    "duration": 17,
    "start_time": "2022-04-06T06:25:33.314Z"
   },
   {
    "duration": 20,
    "start_time": "2022-04-06T06:25:33.334Z"
   },
   {
    "duration": 221,
    "start_time": "2022-04-06T06:25:33.356Z"
   },
   {
    "duration": 0,
    "start_time": "2022-04-06T06:25:33.581Z"
   },
   {
    "duration": 0,
    "start_time": "2022-04-06T06:25:33.584Z"
   },
   {
    "duration": 0,
    "start_time": "2022-04-06T06:25:33.587Z"
   },
   {
    "duration": 854,
    "start_time": "2022-04-06T06:41:55.838Z"
   },
   {
    "duration": 1342,
    "start_time": "2022-04-06T06:41:56.694Z"
   },
   {
    "duration": 17,
    "start_time": "2022-04-06T06:41:58.038Z"
   },
   {
    "duration": 36,
    "start_time": "2022-04-06T06:41:58.058Z"
   },
   {
    "duration": 14,
    "start_time": "2022-04-06T06:41:58.096Z"
   },
   {
    "duration": 12,
    "start_time": "2022-04-06T06:41:58.112Z"
   },
   {
    "duration": 16,
    "start_time": "2022-04-06T06:41:58.126Z"
   },
   {
    "duration": 17,
    "start_time": "2022-04-06T06:41:58.175Z"
   },
   {
    "duration": 35,
    "start_time": "2022-04-06T06:41:58.195Z"
   },
   {
    "duration": 10,
    "start_time": "2022-04-06T06:41:58.234Z"
   },
   {
    "duration": 29,
    "start_time": "2022-04-06T06:41:58.275Z"
   },
   {
    "duration": 12,
    "start_time": "2022-04-06T06:41:58.307Z"
   },
   {
    "duration": 65,
    "start_time": "2022-04-06T06:41:58.322Z"
   },
   {
    "duration": 12,
    "start_time": "2022-04-06T06:41:58.391Z"
   },
   {
    "duration": 372,
    "start_time": "2022-04-06T06:41:58.405Z"
   },
   {
    "duration": 25,
    "start_time": "2022-04-06T06:41:58.780Z"
   },
   {
    "duration": 14,
    "start_time": "2022-04-06T06:41:58.808Z"
   },
   {
    "duration": 379,
    "start_time": "2022-04-06T06:41:58.824Z"
   },
   {
    "duration": 22,
    "start_time": "2022-04-06T06:41:59.206Z"
   },
   {
    "duration": 69,
    "start_time": "2022-04-06T06:41:59.230Z"
   },
   {
    "duration": 95,
    "start_time": "2022-04-06T06:41:59.301Z"
   },
   {
    "duration": 380,
    "start_time": "2022-04-06T06:41:59.398Z"
   },
   {
    "duration": 16,
    "start_time": "2022-04-06T06:41:59.781Z"
   },
   {
    "duration": 323,
    "start_time": "2022-04-06T06:41:59.799Z"
   },
   {
    "duration": 23,
    "start_time": "2022-04-06T06:42:00.124Z"
   },
   {
    "duration": 54,
    "start_time": "2022-04-06T06:42:00.149Z"
   },
   {
    "duration": 334,
    "start_time": "2022-04-06T06:42:00.205Z"
   },
   {
    "duration": 5,
    "start_time": "2022-04-06T06:42:00.544Z"
   },
   {
    "duration": 2159,
    "start_time": "2022-04-06T06:42:00.551Z"
   },
   {
    "duration": 16,
    "start_time": "2022-04-06T06:42:02.712Z"
   },
   {
    "duration": 28,
    "start_time": "2022-04-06T06:42:02.730Z"
   },
   {
    "duration": 34,
    "start_time": "2022-04-06T06:42:02.760Z"
   },
   {
    "duration": 26,
    "start_time": "2022-04-06T06:42:02.796Z"
   },
   {
    "duration": 140,
    "start_time": "2022-04-06T06:42:02.825Z"
   },
   {
    "duration": 0,
    "start_time": "2022-04-06T06:42:02.967Z"
   },
   {
    "duration": 0,
    "start_time": "2022-04-06T06:42:02.969Z"
   },
   {
    "duration": 0,
    "start_time": "2022-04-06T06:42:02.971Z"
   },
   {
    "duration": 905,
    "start_time": "2022-04-06T06:49:30.764Z"
   },
   {
    "duration": 1315,
    "start_time": "2022-04-06T06:49:31.672Z"
   },
   {
    "duration": 19,
    "start_time": "2022-04-06T06:49:32.991Z"
   },
   {
    "duration": 28,
    "start_time": "2022-04-06T06:49:33.013Z"
   },
   {
    "duration": 51,
    "start_time": "2022-04-06T06:49:33.043Z"
   },
   {
    "duration": 26,
    "start_time": "2022-04-06T06:49:33.096Z"
   },
   {
    "duration": 68,
    "start_time": "2022-04-06T06:49:33.124Z"
   },
   {
    "duration": 10,
    "start_time": "2022-04-06T06:49:33.194Z"
   },
   {
    "duration": 38,
    "start_time": "2022-04-06T06:49:33.206Z"
   },
   {
    "duration": 28,
    "start_time": "2022-04-06T06:49:33.248Z"
   },
   {
    "duration": 47,
    "start_time": "2022-04-06T06:49:33.279Z"
   },
   {
    "duration": 17,
    "start_time": "2022-04-06T06:49:33.328Z"
   },
   {
    "duration": 359,
    "start_time": "2022-04-06T06:49:33.346Z"
   },
   {
    "duration": 24,
    "start_time": "2022-04-06T06:49:33.707Z"
   },
   {
    "duration": 12,
    "start_time": "2022-04-06T06:49:33.733Z"
   },
   {
    "duration": 374,
    "start_time": "2022-04-06T06:49:33.747Z"
   },
   {
    "duration": 25,
    "start_time": "2022-04-06T06:49:34.124Z"
   },
   {
    "duration": 60,
    "start_time": "2022-04-06T06:49:34.152Z"
   },
   {
    "duration": 106,
    "start_time": "2022-04-06T06:49:34.215Z"
   },
   {
    "duration": 421,
    "start_time": "2022-04-06T06:49:34.323Z"
   },
   {
    "duration": 30,
    "start_time": "2022-04-06T06:49:34.746Z"
   },
   {
    "duration": 700,
    "start_time": "2022-04-06T06:49:34.779Z"
   },
   {
    "duration": 28,
    "start_time": "2022-04-06T06:49:35.482Z"
   },
   {
    "duration": 94,
    "start_time": "2022-04-06T06:49:35.512Z"
   },
   {
    "duration": 786,
    "start_time": "2022-04-06T06:49:35.608Z"
   },
   {
    "duration": 5,
    "start_time": "2022-04-06T06:49:36.397Z"
   },
   {
    "duration": 3310,
    "start_time": "2022-04-06T06:49:36.404Z"
   },
   {
    "duration": 16,
    "start_time": "2022-04-06T06:49:39.721Z"
   },
   {
    "duration": 36,
    "start_time": "2022-04-06T06:49:39.739Z"
   },
   {
    "duration": 13,
    "start_time": "2022-04-06T06:49:39.777Z"
   },
   {
    "duration": 15,
    "start_time": "2022-04-06T06:49:39.792Z"
   },
   {
    "duration": 133,
    "start_time": "2022-04-06T06:49:39.810Z"
   },
   {
    "duration": 0,
    "start_time": "2022-04-06T06:49:39.945Z"
   },
   {
    "duration": 0,
    "start_time": "2022-04-06T06:49:39.947Z"
   },
   {
    "duration": 0,
    "start_time": "2022-04-06T06:49:39.948Z"
   },
   {
    "duration": 866,
    "start_time": "2022-04-06T06:54:37.990Z"
   },
   {
    "duration": 1200,
    "start_time": "2022-04-06T06:54:38.859Z"
   },
   {
    "duration": 25,
    "start_time": "2022-04-06T06:54:40.061Z"
   },
   {
    "duration": 20,
    "start_time": "2022-04-06T06:54:40.089Z"
   },
   {
    "duration": 9,
    "start_time": "2022-04-06T06:54:40.112Z"
   },
   {
    "duration": 12,
    "start_time": "2022-04-06T06:54:40.123Z"
   },
   {
    "duration": 70,
    "start_time": "2022-04-06T06:54:40.137Z"
   },
   {
    "duration": 10,
    "start_time": "2022-04-06T06:54:40.209Z"
   },
   {
    "duration": 28,
    "start_time": "2022-04-06T06:54:40.221Z"
   },
   {
    "duration": 17,
    "start_time": "2022-04-06T06:54:40.274Z"
   },
   {
    "duration": 31,
    "start_time": "2022-04-06T06:54:40.293Z"
   },
   {
    "duration": 12,
    "start_time": "2022-04-06T06:54:40.326Z"
   },
   {
    "duration": 685,
    "start_time": "2022-04-06T06:54:40.340Z"
   },
   {
    "duration": 29,
    "start_time": "2022-04-06T06:54:41.078Z"
   },
   {
    "duration": 13,
    "start_time": "2022-04-06T06:54:41.109Z"
   },
   {
    "duration": 732,
    "start_time": "2022-04-06T06:54:41.176Z"
   },
   {
    "duration": 79,
    "start_time": "2022-04-06T06:54:41.910Z"
   },
   {
    "duration": 95,
    "start_time": "2022-04-06T06:54:41.991Z"
   },
   {
    "duration": 137,
    "start_time": "2022-04-06T06:54:42.089Z"
   },
   {
    "duration": 849,
    "start_time": "2022-04-06T06:54:42.229Z"
   },
   {
    "duration": 18,
    "start_time": "2022-04-06T06:54:43.081Z"
   },
   {
    "duration": 696,
    "start_time": "2022-04-06T06:54:43.101Z"
   },
   {
    "duration": 22,
    "start_time": "2022-04-06T06:54:43.799Z"
   },
   {
    "duration": 95,
    "start_time": "2022-04-06T06:54:43.823Z"
   },
   {
    "duration": 395,
    "start_time": "2022-04-06T06:54:43.921Z"
   },
   {
    "duration": 5,
    "start_time": "2022-04-06T06:54:44.318Z"
   },
   {
    "duration": 2392,
    "start_time": "2022-04-06T06:54:44.325Z"
   },
   {
    "duration": 17,
    "start_time": "2022-04-06T06:54:46.719Z"
   },
   {
    "duration": 16,
    "start_time": "2022-04-06T06:54:46.738Z"
   },
   {
    "duration": 18,
    "start_time": "2022-04-06T06:54:46.773Z"
   },
   {
    "duration": 15,
    "start_time": "2022-04-06T06:54:46.794Z"
   },
   {
    "duration": 166,
    "start_time": "2022-04-06T06:54:46.812Z"
   },
   {
    "duration": 0,
    "start_time": "2022-04-06T06:54:46.980Z"
   },
   {
    "duration": 0,
    "start_time": "2022-04-06T06:54:46.983Z"
   },
   {
    "duration": 0,
    "start_time": "2022-04-06T06:54:46.986Z"
   },
   {
    "duration": 9,
    "start_time": "2022-04-06T06:56:22.202Z"
   },
   {
    "duration": 228,
    "start_time": "2022-04-06T06:57:02.130Z"
   },
   {
    "duration": 5,
    "start_time": "2022-04-06T06:57:11.252Z"
   },
   {
    "duration": 227,
    "start_time": "2022-04-06T06:57:15.565Z"
   },
   {
    "duration": 237,
    "start_time": "2022-04-06T06:58:15.657Z"
   },
   {
    "duration": 226,
    "start_time": "2022-04-06T07:01:30.585Z"
   },
   {
    "duration": 1184,
    "start_time": "2022-04-06T07:15:04.269Z"
   },
   {
    "duration": 1688,
    "start_time": "2022-04-06T07:15:05.455Z"
   },
   {
    "duration": 27,
    "start_time": "2022-04-06T07:15:07.146Z"
   },
   {
    "duration": 42,
    "start_time": "2022-04-06T07:15:07.177Z"
   },
   {
    "duration": 34,
    "start_time": "2022-04-06T07:15:07.222Z"
   },
   {
    "duration": 46,
    "start_time": "2022-04-06T07:15:07.258Z"
   },
   {
    "duration": 15,
    "start_time": "2022-04-06T07:15:07.307Z"
   },
   {
    "duration": 65,
    "start_time": "2022-04-06T07:15:07.326Z"
   },
   {
    "duration": 49,
    "start_time": "2022-04-06T07:15:07.394Z"
   },
   {
    "duration": 66,
    "start_time": "2022-04-06T07:15:07.449Z"
   },
   {
    "duration": 23,
    "start_time": "2022-04-06T07:15:07.517Z"
   },
   {
    "duration": 535,
    "start_time": "2022-04-06T07:15:07.543Z"
   },
   {
    "duration": 31,
    "start_time": "2022-04-06T07:15:08.081Z"
   },
   {
    "duration": 14,
    "start_time": "2022-04-06T07:15:08.115Z"
   },
   {
    "duration": 434,
    "start_time": "2022-04-06T07:15:08.132Z"
   },
   {
    "duration": 36,
    "start_time": "2022-04-06T07:15:08.568Z"
   },
   {
    "duration": 41,
    "start_time": "2022-04-06T07:15:08.607Z"
   },
   {
    "duration": 113,
    "start_time": "2022-04-06T07:15:08.651Z"
   },
   {
    "duration": 435,
    "start_time": "2022-04-06T07:15:08.767Z"
   },
   {
    "duration": 13,
    "start_time": "2022-04-06T07:15:09.205Z"
   },
   {
    "duration": 351,
    "start_time": "2022-04-06T07:15:09.221Z"
   },
   {
    "duration": 29,
    "start_time": "2022-04-06T07:15:09.575Z"
   },
   {
    "duration": 30,
    "start_time": "2022-04-06T07:15:09.606Z"
   },
   {
    "duration": 370,
    "start_time": "2022-04-06T07:15:09.638Z"
   },
   {
    "duration": 5,
    "start_time": "2022-04-06T07:15:10.010Z"
   },
   {
    "duration": 2332,
    "start_time": "2022-04-06T07:15:10.017Z"
   },
   {
    "duration": 23,
    "start_time": "2022-04-06T07:15:12.351Z"
   },
   {
    "duration": 17,
    "start_time": "2022-04-06T07:15:12.383Z"
   },
   {
    "duration": 17,
    "start_time": "2022-04-06T07:15:12.402Z"
   },
   {
    "duration": 31,
    "start_time": "2022-04-06T07:15:12.421Z"
   },
   {
    "duration": 248,
    "start_time": "2022-04-06T07:15:12.455Z"
   },
   {
    "duration": 151,
    "start_time": "2022-04-06T07:15:12.705Z"
   },
   {
    "duration": 0,
    "start_time": "2022-04-06T07:15:12.858Z"
   },
   {
    "duration": 0,
    "start_time": "2022-04-06T07:15:12.859Z"
   },
   {
    "duration": 0,
    "start_time": "2022-04-06T07:15:12.860Z"
   },
   {
    "duration": 0,
    "start_time": "2022-04-06T07:15:12.862Z"
   },
   {
    "duration": 0,
    "start_time": "2022-04-06T07:15:12.863Z"
   },
   {
    "duration": 0,
    "start_time": "2022-04-06T07:15:12.865Z"
   },
   {
    "duration": 0,
    "start_time": "2022-04-06T07:15:12.866Z"
   },
   {
    "duration": 0,
    "start_time": "2022-04-06T07:15:12.867Z"
   },
   {
    "duration": 0,
    "start_time": "2022-04-06T07:15:12.869Z"
   },
   {
    "duration": 0,
    "start_time": "2022-04-06T07:15:12.870Z"
   },
   {
    "duration": 0,
    "start_time": "2022-04-06T07:15:12.871Z"
   },
   {
    "duration": 0,
    "start_time": "2022-04-06T07:15:12.872Z"
   },
   {
    "duration": 0,
    "start_time": "2022-04-06T07:15:12.875Z"
   },
   {
    "duration": 0,
    "start_time": "2022-04-06T07:15:12.878Z"
   },
   {
    "duration": 0,
    "start_time": "2022-04-06T07:15:12.880Z"
   },
   {
    "duration": 0,
    "start_time": "2022-04-06T07:15:12.883Z"
   },
   {
    "duration": 44,
    "start_time": "2022-04-06T07:22:25.370Z"
   },
   {
    "duration": 904,
    "start_time": "2022-04-06T07:23:22.487Z"
   },
   {
    "duration": 1336,
    "start_time": "2022-04-06T07:23:23.394Z"
   },
   {
    "duration": 19,
    "start_time": "2022-04-06T07:23:24.733Z"
   },
   {
    "duration": 16,
    "start_time": "2022-04-06T07:23:24.754Z"
   },
   {
    "duration": 23,
    "start_time": "2022-04-06T07:23:24.773Z"
   },
   {
    "duration": 38,
    "start_time": "2022-04-06T07:23:24.798Z"
   },
   {
    "duration": 9,
    "start_time": "2022-04-06T07:23:24.839Z"
   },
   {
    "duration": 51,
    "start_time": "2022-04-06T07:23:24.851Z"
   },
   {
    "duration": 12,
    "start_time": "2022-04-06T07:23:24.904Z"
   },
   {
    "duration": 28,
    "start_time": "2022-04-06T07:23:24.918Z"
   },
   {
    "duration": 17,
    "start_time": "2022-04-06T07:23:24.974Z"
   },
   {
    "duration": 368,
    "start_time": "2022-04-06T07:23:24.993Z"
   },
   {
    "duration": 34,
    "start_time": "2022-04-06T07:23:25.364Z"
   },
   {
    "duration": 14,
    "start_time": "2022-04-06T07:23:25.402Z"
   },
   {
    "duration": 362,
    "start_time": "2022-04-06T07:23:25.417Z"
   },
   {
    "duration": 26,
    "start_time": "2022-04-06T07:23:25.782Z"
   },
   {
    "duration": 70,
    "start_time": "2022-04-06T07:23:25.810Z"
   },
   {
    "duration": 77,
    "start_time": "2022-04-06T07:23:25.883Z"
   },
   {
    "duration": 378,
    "start_time": "2022-04-06T07:23:25.974Z"
   },
   {
    "duration": 30,
    "start_time": "2022-04-06T07:23:26.354Z"
   },
   {
    "duration": 313,
    "start_time": "2022-04-06T07:23:26.387Z"
   },
   {
    "duration": 23,
    "start_time": "2022-04-06T07:23:26.702Z"
   },
   {
    "duration": 57,
    "start_time": "2022-04-06T07:23:26.727Z"
   },
   {
    "duration": 326,
    "start_time": "2022-04-06T07:23:26.787Z"
   },
   {
    "duration": 5,
    "start_time": "2022-04-06T07:23:27.115Z"
   },
   {
    "duration": 2114,
    "start_time": "2022-04-06T07:23:27.122Z"
   },
   {
    "duration": 15,
    "start_time": "2022-04-06T07:23:29.238Z"
   },
   {
    "duration": 36,
    "start_time": "2022-04-06T07:23:29.255Z"
   },
   {
    "duration": 25,
    "start_time": "2022-04-06T07:23:29.293Z"
   },
   {
    "duration": 23,
    "start_time": "2022-04-06T07:23:29.320Z"
   },
   {
    "duration": 244,
    "start_time": "2022-04-06T07:23:29.345Z"
   },
   {
    "duration": 33,
    "start_time": "2022-04-06T07:23:29.591Z"
   },
   {
    "duration": 11,
    "start_time": "2022-04-06T07:23:29.626Z"
   },
   {
    "duration": 53,
    "start_time": "2022-04-06T07:23:29.638Z"
   },
   {
    "duration": 24,
    "start_time": "2022-04-06T07:23:29.693Z"
   },
   {
    "duration": 14,
    "start_time": "2022-04-06T07:23:29.719Z"
   },
   {
    "duration": 16,
    "start_time": "2022-04-06T07:23:29.735Z"
   },
   {
    "duration": 26,
    "start_time": "2022-04-06T07:23:29.775Z"
   },
   {
    "duration": 14,
    "start_time": "2022-04-06T07:23:29.803Z"
   },
   {
    "duration": 60,
    "start_time": "2022-04-06T07:23:29.819Z"
   },
   {
    "duration": 131,
    "start_time": "2022-04-06T07:23:29.887Z"
   },
   {
    "duration": 0,
    "start_time": "2022-04-06T07:23:30.020Z"
   },
   {
    "duration": 0,
    "start_time": "2022-04-06T07:23:30.022Z"
   },
   {
    "duration": 0,
    "start_time": "2022-04-06T07:23:30.024Z"
   },
   {
    "duration": 0,
    "start_time": "2022-04-06T07:23:30.025Z"
   },
   {
    "duration": 0,
    "start_time": "2022-04-06T07:23:30.026Z"
   },
   {
    "duration": 0,
    "start_time": "2022-04-06T07:23:30.028Z"
   },
   {
    "duration": 0,
    "start_time": "2022-04-06T07:23:30.029Z"
   },
   {
    "duration": 17,
    "start_time": "2022-04-06T07:49:58.651Z"
   },
   {
    "duration": 935,
    "start_time": "2022-04-06T07:50:09.338Z"
   },
   {
    "duration": 1323,
    "start_time": "2022-04-06T07:50:10.281Z"
   },
   {
    "duration": 20,
    "start_time": "2022-04-06T07:50:11.606Z"
   },
   {
    "duration": 17,
    "start_time": "2022-04-06T07:50:11.628Z"
   },
   {
    "duration": 14,
    "start_time": "2022-04-06T07:50:11.648Z"
   },
   {
    "duration": 40,
    "start_time": "2022-04-06T07:50:11.665Z"
   },
   {
    "duration": 10,
    "start_time": "2022-04-06T07:50:11.707Z"
   },
   {
    "duration": 28,
    "start_time": "2022-04-06T07:50:11.719Z"
   },
   {
    "duration": 35,
    "start_time": "2022-04-06T07:50:11.749Z"
   },
   {
    "duration": 36,
    "start_time": "2022-04-06T07:50:11.787Z"
   },
   {
    "duration": 12,
    "start_time": "2022-04-06T07:50:11.825Z"
   },
   {
    "duration": 379,
    "start_time": "2022-04-06T07:50:11.840Z"
   },
   {
    "duration": 23,
    "start_time": "2022-04-06T07:50:12.221Z"
   },
   {
    "duration": 36,
    "start_time": "2022-04-06T07:50:12.249Z"
   },
   {
    "duration": 339,
    "start_time": "2022-04-06T07:50:12.288Z"
   },
   {
    "duration": 23,
    "start_time": "2022-04-06T07:50:12.629Z"
   },
   {
    "duration": 62,
    "start_time": "2022-04-06T07:50:12.654Z"
   },
   {
    "duration": 101,
    "start_time": "2022-04-06T07:50:12.718Z"
   },
   {
    "duration": 371,
    "start_time": "2022-04-06T07:50:12.822Z"
   },
   {
    "duration": 14,
    "start_time": "2022-04-06T07:50:13.195Z"
   },
   {
    "duration": 320,
    "start_time": "2022-04-06T07:50:13.211Z"
   },
   {
    "duration": 23,
    "start_time": "2022-04-06T07:50:13.533Z"
   },
   {
    "duration": 48,
    "start_time": "2022-04-06T07:50:13.558Z"
   },
   {
    "duration": 333,
    "start_time": "2022-04-06T07:50:13.608Z"
   },
   {
    "duration": 5,
    "start_time": "2022-04-06T07:50:13.943Z"
   },
   {
    "duration": 2156,
    "start_time": "2022-04-06T07:50:13.950Z"
   },
   {
    "duration": 16,
    "start_time": "2022-04-06T07:50:16.108Z"
   },
   {
    "duration": 22,
    "start_time": "2022-04-06T07:50:16.126Z"
   },
   {
    "duration": 34,
    "start_time": "2022-04-06T07:50:16.150Z"
   },
   {
    "duration": 17,
    "start_time": "2022-04-06T07:50:16.187Z"
   },
   {
    "duration": 245,
    "start_time": "2022-04-06T07:50:16.206Z"
   },
   {
    "duration": 44,
    "start_time": "2022-04-06T07:50:16.453Z"
   },
   {
    "duration": 12,
    "start_time": "2022-04-06T07:50:16.500Z"
   },
   {
    "duration": 39,
    "start_time": "2022-04-06T07:50:16.515Z"
   },
   {
    "duration": 42,
    "start_time": "2022-04-06T07:50:16.557Z"
   },
   {
    "duration": 14,
    "start_time": "2022-04-06T07:50:16.601Z"
   },
   {
    "duration": 16,
    "start_time": "2022-04-06T07:50:16.617Z"
   },
   {
    "duration": 77,
    "start_time": "2022-04-06T07:50:16.635Z"
   },
   {
    "duration": 14,
    "start_time": "2022-04-06T07:50:16.714Z"
   },
   {
    "duration": 42,
    "start_time": "2022-04-06T07:50:16.731Z"
   },
   {
    "duration": 3,
    "start_time": "2022-04-06T07:50:16.783Z"
   },
   {
    "duration": 135,
    "start_time": "2022-04-06T07:50:16.789Z"
   },
   {
    "duration": 0,
    "start_time": "2022-04-06T07:50:16.926Z"
   },
   {
    "duration": 0,
    "start_time": "2022-04-06T07:50:16.927Z"
   },
   {
    "duration": 0,
    "start_time": "2022-04-06T07:50:16.929Z"
   },
   {
    "duration": 0,
    "start_time": "2022-04-06T07:50:16.930Z"
   },
   {
    "duration": 0,
    "start_time": "2022-04-06T07:50:16.932Z"
   },
   {
    "duration": 0,
    "start_time": "2022-04-06T07:50:16.933Z"
   },
   {
    "duration": 876,
    "start_time": "2022-04-06T08:13:01.197Z"
   },
   {
    "duration": 1217,
    "start_time": "2022-04-06T08:13:02.077Z"
   },
   {
    "duration": 20,
    "start_time": "2022-04-06T08:13:03.296Z"
   },
   {
    "duration": 34,
    "start_time": "2022-04-06T08:13:03.318Z"
   },
   {
    "duration": 21,
    "start_time": "2022-04-06T08:13:03.355Z"
   },
   {
    "duration": 56,
    "start_time": "2022-04-06T08:13:03.379Z"
   },
   {
    "duration": 10,
    "start_time": "2022-04-06T08:13:03.438Z"
   },
   {
    "duration": 53,
    "start_time": "2022-04-06T08:13:03.450Z"
   },
   {
    "duration": 25,
    "start_time": "2022-04-06T08:13:03.506Z"
   },
   {
    "duration": 52,
    "start_time": "2022-04-06T08:13:03.534Z"
   },
   {
    "duration": 19,
    "start_time": "2022-04-06T08:13:03.589Z"
   },
   {
    "duration": 376,
    "start_time": "2022-04-06T08:13:03.611Z"
   },
   {
    "duration": 24,
    "start_time": "2022-04-06T08:13:03.989Z"
   },
   {
    "duration": 13,
    "start_time": "2022-04-06T08:13:04.017Z"
   },
   {
    "duration": 375,
    "start_time": "2022-04-06T08:13:04.032Z"
   },
   {
    "duration": 23,
    "start_time": "2022-04-06T08:13:04.409Z"
   },
   {
    "duration": 69,
    "start_time": "2022-04-06T08:13:04.434Z"
   },
   {
    "duration": 93,
    "start_time": "2022-04-06T08:13:04.505Z"
   },
   {
    "duration": 373,
    "start_time": "2022-04-06T08:13:04.600Z"
   },
   {
    "duration": 13,
    "start_time": "2022-04-06T08:13:04.976Z"
   },
   {
    "duration": 330,
    "start_time": "2022-04-06T08:13:04.991Z"
   },
   {
    "duration": 21,
    "start_time": "2022-04-06T08:13:05.375Z"
   },
   {
    "duration": 82,
    "start_time": "2022-04-06T08:13:05.398Z"
   },
   {
    "duration": 619,
    "start_time": "2022-04-06T08:13:05.482Z"
   },
   {
    "duration": 4,
    "start_time": "2022-04-06T08:13:06.104Z"
   },
   {
    "duration": 3668,
    "start_time": "2022-04-06T08:13:06.110Z"
   },
   {
    "duration": 20,
    "start_time": "2022-04-06T08:13:09.781Z"
   },
   {
    "duration": 16,
    "start_time": "2022-04-06T08:13:09.804Z"
   },
   {
    "duration": 12,
    "start_time": "2022-04-06T08:13:09.822Z"
   },
   {
    "duration": 46,
    "start_time": "2022-04-06T08:13:09.837Z"
   },
   {
    "duration": 238,
    "start_time": "2022-04-06T08:13:09.886Z"
   },
   {
    "duration": 47,
    "start_time": "2022-04-06T08:13:10.127Z"
   },
   {
    "duration": 12,
    "start_time": "2022-04-06T08:13:10.176Z"
   },
   {
    "duration": 31,
    "start_time": "2022-04-06T08:13:10.191Z"
   },
   {
    "duration": 58,
    "start_time": "2022-04-06T08:13:10.224Z"
   },
   {
    "duration": 14,
    "start_time": "2022-04-06T08:13:10.284Z"
   },
   {
    "duration": 24,
    "start_time": "2022-04-06T08:13:10.300Z"
   },
   {
    "duration": 27,
    "start_time": "2022-04-06T08:13:10.326Z"
   },
   {
    "duration": 15,
    "start_time": "2022-04-06T08:13:10.373Z"
   },
   {
    "duration": 35,
    "start_time": "2022-04-06T08:13:10.390Z"
   },
   {
    "duration": 3,
    "start_time": "2022-04-06T08:13:10.431Z"
   },
   {
    "duration": 13,
    "start_time": "2022-04-06T08:13:10.437Z"
   },
   {
    "duration": 15,
    "start_time": "2022-04-06T08:13:10.475Z"
   },
   {
    "duration": 13,
    "start_time": "2022-04-06T08:13:10.492Z"
   },
   {
    "duration": 8,
    "start_time": "2022-04-06T08:13:10.508Z"
   },
   {
    "duration": 24,
    "start_time": "2022-04-06T08:13:10.518Z"
   },
   {
    "duration": 2506,
    "start_time": "2022-04-06T08:13:10.545Z"
   },
   {
    "duration": 0,
    "start_time": "2022-04-06T08:13:13.053Z"
   },
   {
    "duration": 854,
    "start_time": "2022-04-06T08:38:45.468Z"
   },
   {
    "duration": 1258,
    "start_time": "2022-04-06T08:38:46.325Z"
   },
   {
    "duration": 20,
    "start_time": "2022-04-06T08:38:47.585Z"
   },
   {
    "duration": 16,
    "start_time": "2022-04-06T08:38:47.607Z"
   },
   {
    "duration": 21,
    "start_time": "2022-04-06T08:38:47.625Z"
   },
   {
    "duration": 52,
    "start_time": "2022-04-06T08:38:47.649Z"
   },
   {
    "duration": 10,
    "start_time": "2022-04-06T08:38:47.703Z"
   },
   {
    "duration": 26,
    "start_time": "2022-04-06T08:38:47.715Z"
   },
   {
    "duration": 32,
    "start_time": "2022-04-06T08:38:47.743Z"
   },
   {
    "duration": 28,
    "start_time": "2022-04-06T08:38:47.777Z"
   },
   {
    "duration": 11,
    "start_time": "2022-04-06T08:38:47.807Z"
   },
   {
    "duration": 348,
    "start_time": "2022-04-06T08:38:47.820Z"
   },
   {
    "duration": 23,
    "start_time": "2022-04-06T08:38:48.174Z"
   },
   {
    "duration": 13,
    "start_time": "2022-04-06T08:38:48.201Z"
   },
   {
    "duration": 342,
    "start_time": "2022-04-06T08:38:48.216Z"
   },
   {
    "duration": 32,
    "start_time": "2022-04-06T08:38:48.560Z"
   },
   {
    "duration": 38,
    "start_time": "2022-04-06T08:38:48.594Z"
   },
   {
    "duration": 109,
    "start_time": "2022-04-06T08:38:48.634Z"
   },
   {
    "duration": 357,
    "start_time": "2022-04-06T08:38:48.745Z"
   },
   {
    "duration": 13,
    "start_time": "2022-04-06T08:38:49.105Z"
   },
   {
    "duration": 309,
    "start_time": "2022-04-06T08:38:49.121Z"
   },
   {
    "duration": 22,
    "start_time": "2022-04-06T08:38:49.433Z"
   },
   {
    "duration": 43,
    "start_time": "2022-04-06T08:38:49.457Z"
   },
   {
    "duration": 323,
    "start_time": "2022-04-06T08:38:49.502Z"
   },
   {
    "duration": 5,
    "start_time": "2022-04-06T08:38:49.828Z"
   },
   {
    "duration": 2266,
    "start_time": "2022-04-06T08:38:49.835Z"
   },
   {
    "duration": 16,
    "start_time": "2022-04-06T08:38:52.103Z"
   },
   {
    "duration": 37,
    "start_time": "2022-04-06T08:38:52.121Z"
   },
   {
    "duration": 29,
    "start_time": "2022-04-06T08:38:52.160Z"
   },
   {
    "duration": 25,
    "start_time": "2022-04-06T08:38:52.191Z"
   },
   {
    "duration": 236,
    "start_time": "2022-04-06T08:38:52.218Z"
   },
   {
    "duration": 39,
    "start_time": "2022-04-06T08:38:52.457Z"
   },
   {
    "duration": 11,
    "start_time": "2022-04-06T08:38:52.498Z"
   },
   {
    "duration": 29,
    "start_time": "2022-04-06T08:38:52.511Z"
   },
   {
    "duration": 49,
    "start_time": "2022-04-06T08:38:52.542Z"
   },
   {
    "duration": 13,
    "start_time": "2022-04-06T08:38:52.593Z"
   },
   {
    "duration": 12,
    "start_time": "2022-04-06T08:38:52.608Z"
   },
   {
    "duration": 55,
    "start_time": "2022-04-06T08:38:52.622Z"
   },
   {
    "duration": 15,
    "start_time": "2022-04-06T08:38:52.679Z"
   },
   {
    "duration": 29,
    "start_time": "2022-04-06T08:38:52.696Z"
   },
   {
    "duration": 144,
    "start_time": "2022-04-06T08:38:52.731Z"
   },
   {
    "duration": 0,
    "start_time": "2022-04-06T08:38:52.877Z"
   },
   {
    "duration": 0,
    "start_time": "2022-04-06T08:38:52.879Z"
   },
   {
    "duration": 0,
    "start_time": "2022-04-06T08:38:52.880Z"
   },
   {
    "duration": 0,
    "start_time": "2022-04-06T08:38:52.882Z"
   },
   {
    "duration": 0,
    "start_time": "2022-04-06T08:38:52.884Z"
   },
   {
    "duration": 0,
    "start_time": "2022-04-06T08:38:52.885Z"
   },
   {
    "duration": 0,
    "start_time": "2022-04-06T08:38:52.887Z"
   },
   {
    "duration": 17,
    "start_time": "2022-04-06T08:59:52.615Z"
   },
   {
    "duration": 808,
    "start_time": "2022-04-06T09:01:54.705Z"
   },
   {
    "duration": 1118,
    "start_time": "2022-04-06T09:01:55.516Z"
   },
   {
    "duration": 20,
    "start_time": "2022-04-06T09:01:56.636Z"
   },
   {
    "duration": 17,
    "start_time": "2022-04-06T09:01:56.658Z"
   },
   {
    "duration": 12,
    "start_time": "2022-04-06T09:01:56.678Z"
   },
   {
    "duration": 35,
    "start_time": "2022-04-06T09:01:56.692Z"
   },
   {
    "duration": 44,
    "start_time": "2022-04-06T09:01:56.730Z"
   },
   {
    "duration": 26,
    "start_time": "2022-04-06T09:01:56.776Z"
   },
   {
    "duration": 12,
    "start_time": "2022-04-06T09:01:56.804Z"
   },
   {
    "duration": 56,
    "start_time": "2022-04-06T09:01:56.818Z"
   },
   {
    "duration": 12,
    "start_time": "2022-04-06T09:01:56.877Z"
   },
   {
    "duration": 9,
    "start_time": "2022-04-06T09:01:56.891Z"
   },
   {
    "duration": 349,
    "start_time": "2022-04-06T09:01:56.902Z"
   },
   {
    "duration": 32,
    "start_time": "2022-04-06T09:01:57.256Z"
   },
   {
    "duration": 13,
    "start_time": "2022-04-06T09:01:57.290Z"
   },
   {
    "duration": 346,
    "start_time": "2022-04-06T09:01:57.306Z"
   },
   {
    "duration": 32,
    "start_time": "2022-04-06T09:01:57.655Z"
   },
   {
    "duration": 40,
    "start_time": "2022-04-06T09:01:57.689Z"
   },
   {
    "duration": 107,
    "start_time": "2022-04-06T09:01:57.730Z"
   },
   {
    "duration": 357,
    "start_time": "2022-04-06T09:01:57.839Z"
   },
   {
    "duration": 14,
    "start_time": "2022-04-06T09:01:58.198Z"
   },
   {
    "duration": 313,
    "start_time": "2022-04-06T09:01:58.214Z"
   },
   {
    "duration": 45,
    "start_time": "2022-04-06T09:01:58.529Z"
   },
   {
    "duration": 32,
    "start_time": "2022-04-06T09:01:58.576Z"
   },
   {
    "duration": 602,
    "start_time": "2022-04-06T09:01:58.610Z"
   },
   {
    "duration": 5,
    "start_time": "2022-04-06T09:01:59.214Z"
   },
   {
    "duration": 3533,
    "start_time": "2022-04-06T09:01:59.275Z"
   },
   {
    "duration": 66,
    "start_time": "2022-04-06T09:02:02.810Z"
   },
   {
    "duration": 18,
    "start_time": "2022-04-06T09:02:02.879Z"
   },
   {
    "duration": 14,
    "start_time": "2022-04-06T09:02:02.899Z"
   },
   {
    "duration": 67,
    "start_time": "2022-04-06T09:02:02.915Z"
   },
   {
    "duration": 418,
    "start_time": "2022-04-06T09:02:02.984Z"
   },
   {
    "duration": 83,
    "start_time": "2022-04-06T09:02:03.404Z"
   },
   {
    "duration": 11,
    "start_time": "2022-04-06T09:02:03.489Z"
   },
   {
    "duration": 85,
    "start_time": "2022-04-06T09:02:03.502Z"
   },
   {
    "duration": 26,
    "start_time": "2022-04-06T09:02:03.589Z"
   },
   {
    "duration": 12,
    "start_time": "2022-04-06T09:02:03.673Z"
   },
   {
    "duration": 13,
    "start_time": "2022-04-06T09:02:03.687Z"
   },
   {
    "duration": 73,
    "start_time": "2022-04-06T09:02:03.702Z"
   },
   {
    "duration": 15,
    "start_time": "2022-04-06T09:02:03.778Z"
   },
   {
    "duration": 84,
    "start_time": "2022-04-06T09:02:03.799Z"
   },
   {
    "duration": 93,
    "start_time": "2022-04-06T09:02:03.885Z"
   },
   {
    "duration": 7,
    "start_time": "2022-04-06T09:02:03.980Z"
   },
   {
    "duration": 21,
    "start_time": "2022-04-06T09:02:03.990Z"
   },
   {
    "duration": 62,
    "start_time": "2022-04-06T09:02:04.013Z"
   },
   {
    "duration": 98,
    "start_time": "2022-04-06T09:02:04.078Z"
   },
   {
    "duration": 2710,
    "start_time": "2022-04-06T09:02:04.178Z"
   },
   {
    "duration": 0,
    "start_time": "2022-04-06T09:02:06.891Z"
   },
   {
    "duration": 862,
    "start_time": "2022-04-06T09:06:36.285Z"
   },
   {
    "duration": 1640,
    "start_time": "2022-04-06T09:06:37.150Z"
   },
   {
    "duration": 19,
    "start_time": "2022-04-06T09:06:38.792Z"
   },
   {
    "duration": 19,
    "start_time": "2022-04-06T09:06:38.813Z"
   },
   {
    "duration": 41,
    "start_time": "2022-04-06T09:06:38.836Z"
   },
   {
    "duration": 44,
    "start_time": "2022-04-06T09:06:38.879Z"
   },
   {
    "duration": 10,
    "start_time": "2022-04-06T09:06:38.926Z"
   },
   {
    "duration": 50,
    "start_time": "2022-04-06T09:06:38.938Z"
   },
   {
    "duration": 27,
    "start_time": "2022-04-06T09:06:38.991Z"
   },
   {
    "duration": 57,
    "start_time": "2022-04-06T09:06:39.020Z"
   },
   {
    "duration": 32,
    "start_time": "2022-04-06T09:06:39.079Z"
   },
   {
    "duration": 34,
    "start_time": "2022-04-06T09:06:39.114Z"
   },
   {
    "duration": 365,
    "start_time": "2022-04-06T09:06:39.151Z"
   },
   {
    "duration": 22,
    "start_time": "2022-04-06T09:06:39.521Z"
   },
   {
    "duration": 30,
    "start_time": "2022-04-06T09:06:39.545Z"
   },
   {
    "duration": 436,
    "start_time": "2022-04-06T09:06:39.577Z"
   },
   {
    "duration": 23,
    "start_time": "2022-04-06T09:06:40.015Z"
   },
   {
    "duration": 60,
    "start_time": "2022-04-06T09:06:40.041Z"
   },
   {
    "duration": 95,
    "start_time": "2022-04-06T09:06:40.104Z"
   },
   {
    "duration": 366,
    "start_time": "2022-04-06T09:06:40.201Z"
   },
   {
    "duration": 14,
    "start_time": "2022-04-06T09:06:40.574Z"
   },
   {
    "duration": 317,
    "start_time": "2022-04-06T09:06:40.590Z"
   },
   {
    "duration": 22,
    "start_time": "2022-04-06T09:06:40.909Z"
   },
   {
    "duration": 52,
    "start_time": "2022-04-06T09:06:40.933Z"
   },
   {
    "duration": 326,
    "start_time": "2022-04-06T09:06:40.987Z"
   },
   {
    "duration": 5,
    "start_time": "2022-04-06T09:06:41.316Z"
   },
   {
    "duration": 2044,
    "start_time": "2022-04-06T09:06:41.323Z"
   },
   {
    "duration": 17,
    "start_time": "2022-04-06T09:06:43.370Z"
   },
   {
    "duration": 27,
    "start_time": "2022-04-06T09:06:43.389Z"
   },
   {
    "duration": 14,
    "start_time": "2022-04-06T09:06:43.419Z"
   },
   {
    "duration": 44,
    "start_time": "2022-04-06T09:06:43.435Z"
   },
   {
    "duration": 225,
    "start_time": "2022-04-06T09:06:43.482Z"
   },
   {
    "duration": 34,
    "start_time": "2022-04-06T09:06:43.710Z"
   },
   {
    "duration": 33,
    "start_time": "2022-04-06T09:06:43.747Z"
   },
   {
    "duration": 43,
    "start_time": "2022-04-06T09:06:43.783Z"
   },
   {
    "duration": 64,
    "start_time": "2022-04-06T09:06:43.829Z"
   },
   {
    "duration": 17,
    "start_time": "2022-04-06T09:06:43.896Z"
   },
   {
    "duration": 19,
    "start_time": "2022-04-06T09:06:43.916Z"
   },
   {
    "duration": 51,
    "start_time": "2022-04-06T09:06:43.939Z"
   },
   {
    "duration": 14,
    "start_time": "2022-04-06T09:06:43.992Z"
   },
   {
    "duration": 31,
    "start_time": "2022-04-06T09:06:44.012Z"
   },
   {
    "duration": 59,
    "start_time": "2022-04-06T09:06:44.073Z"
   },
   {
    "duration": 9,
    "start_time": "2022-04-06T09:06:44.135Z"
   },
   {
    "duration": 41,
    "start_time": "2022-04-06T09:06:44.147Z"
   },
   {
    "duration": 8,
    "start_time": "2022-04-06T09:06:44.191Z"
   },
   {
    "duration": 75,
    "start_time": "2022-04-06T09:06:44.202Z"
   },
   {
    "duration": 2669,
    "start_time": "2022-04-06T09:06:44.280Z"
   },
   {
    "duration": 0,
    "start_time": "2022-04-06T09:06:46.951Z"
   },
   {
    "duration": 0,
    "start_time": "2022-04-06T09:06:46.953Z"
   },
   {
    "duration": 0,
    "start_time": "2022-04-06T09:06:46.954Z"
   },
   {
    "duration": 6,
    "start_time": "2022-04-06T09:10:58.409Z"
   },
   {
    "duration": 29,
    "start_time": "2022-04-06T09:11:00.933Z"
   },
   {
    "duration": 183,
    "start_time": "2022-04-06T09:11:01.945Z"
   },
   {
    "duration": 808,
    "start_time": "2022-04-06T09:11:08.522Z"
   },
   {
    "duration": 1853,
    "start_time": "2022-04-06T09:11:09.333Z"
   },
   {
    "duration": 20,
    "start_time": "2022-04-06T09:11:11.189Z"
   },
   {
    "duration": 16,
    "start_time": "2022-04-06T09:11:11.211Z"
   },
   {
    "duration": 14,
    "start_time": "2022-04-06T09:11:11.231Z"
   },
   {
    "duration": 62,
    "start_time": "2022-04-06T09:11:11.247Z"
   },
   {
    "duration": 9,
    "start_time": "2022-04-06T09:11:11.311Z"
   },
   {
    "duration": 28,
    "start_time": "2022-04-06T09:11:11.322Z"
   },
   {
    "duration": 12,
    "start_time": "2022-04-06T09:11:11.373Z"
   },
   {
    "duration": 34,
    "start_time": "2022-04-06T09:11:11.387Z"
   },
   {
    "duration": 12,
    "start_time": "2022-04-06T09:11:11.423Z"
   },
   {
    "duration": 36,
    "start_time": "2022-04-06T09:11:11.437Z"
   },
   {
    "duration": 338,
    "start_time": "2022-04-06T09:11:11.476Z"
   },
   {
    "duration": 22,
    "start_time": "2022-04-06T09:11:11.819Z"
   },
   {
    "duration": 37,
    "start_time": "2022-04-06T09:11:11.844Z"
   },
   {
    "duration": 334,
    "start_time": "2022-04-06T09:11:11.883Z"
   },
   {
    "duration": 24,
    "start_time": "2022-04-06T09:11:12.219Z"
   },
   {
    "duration": 61,
    "start_time": "2022-04-06T09:11:12.245Z"
   },
   {
    "duration": 91,
    "start_time": "2022-04-06T09:11:12.308Z"
   },
   {
    "duration": 376,
    "start_time": "2022-04-06T09:11:12.401Z"
   },
   {
    "duration": 14,
    "start_time": "2022-04-06T09:11:12.779Z"
   },
   {
    "duration": 319,
    "start_time": "2022-04-06T09:11:12.795Z"
   },
   {
    "duration": 23,
    "start_time": "2022-04-06T09:11:13.116Z"
   },
   {
    "duration": 53,
    "start_time": "2022-04-06T09:11:13.141Z"
   },
   {
    "duration": 322,
    "start_time": "2022-04-06T09:11:13.196Z"
   },
   {
    "duration": 5,
    "start_time": "2022-04-06T09:11:13.521Z"
   },
   {
    "duration": 2464,
    "start_time": "2022-04-06T09:11:13.528Z"
   },
   {
    "duration": 16,
    "start_time": "2022-04-06T09:11:15.994Z"
   },
   {
    "duration": 15,
    "start_time": "2022-04-06T09:11:16.012Z"
   },
   {
    "duration": 13,
    "start_time": "2022-04-06T09:11:16.029Z"
   },
   {
    "duration": 13,
    "start_time": "2022-04-06T09:11:16.074Z"
   },
   {
    "duration": 232,
    "start_time": "2022-04-06T09:11:16.089Z"
   },
   {
    "duration": 34,
    "start_time": "2022-04-06T09:11:16.323Z"
   },
   {
    "duration": 12,
    "start_time": "2022-04-06T09:11:16.373Z"
   },
   {
    "duration": 49,
    "start_time": "2022-04-06T09:11:16.387Z"
   },
   {
    "duration": 40,
    "start_time": "2022-04-06T09:11:16.438Z"
   },
   {
    "duration": 13,
    "start_time": "2022-04-06T09:11:16.481Z"
   },
   {
    "duration": 41,
    "start_time": "2022-04-06T09:11:16.496Z"
   },
   {
    "duration": 44,
    "start_time": "2022-04-06T09:11:16.539Z"
   },
   {
    "duration": 17,
    "start_time": "2022-04-06T09:11:16.585Z"
   },
   {
    "duration": 43,
    "start_time": "2022-04-06T09:11:16.608Z"
   },
   {
    "duration": 54,
    "start_time": "2022-04-06T09:11:16.653Z"
   },
   {
    "duration": 7,
    "start_time": "2022-04-06T09:11:16.709Z"
   },
   {
    "duration": 30,
    "start_time": "2022-04-06T09:11:16.718Z"
   },
   {
    "duration": 25,
    "start_time": "2022-04-06T09:11:16.750Z"
   },
   {
    "duration": 82,
    "start_time": "2022-04-06T09:11:16.777Z"
   },
   {
    "duration": 193,
    "start_time": "2022-04-06T09:11:16.861Z"
   },
   {
    "duration": 5,
    "start_time": "2022-04-06T09:11:17.056Z"
   },
   {
    "duration": 53,
    "start_time": "2022-04-06T09:11:17.063Z"
   },
   {
    "duration": 133,
    "start_time": "2022-04-06T09:11:17.118Z"
   },
   {
    "duration": 981,
    "start_time": "2022-04-06T09:27:20.403Z"
   },
   {
    "duration": 1187,
    "start_time": "2022-04-06T09:27:21.387Z"
   },
   {
    "duration": 22,
    "start_time": "2022-04-06T09:27:22.576Z"
   },
   {
    "duration": 16,
    "start_time": "2022-04-06T09:27:22.601Z"
   },
   {
    "duration": 14,
    "start_time": "2022-04-06T09:27:22.622Z"
   },
   {
    "duration": 37,
    "start_time": "2022-04-06T09:27:22.673Z"
   },
   {
    "duration": 11,
    "start_time": "2022-04-06T09:27:22.712Z"
   },
   {
    "duration": 60,
    "start_time": "2022-04-06T09:27:22.726Z"
   },
   {
    "duration": 12,
    "start_time": "2022-04-06T09:27:22.788Z"
   },
   {
    "duration": 40,
    "start_time": "2022-04-06T09:27:22.802Z"
   },
   {
    "duration": 31,
    "start_time": "2022-04-06T09:27:22.844Z"
   },
   {
    "duration": 7,
    "start_time": "2022-04-06T09:27:22.878Z"
   },
   {
    "duration": 346,
    "start_time": "2022-04-06T09:27:22.887Z"
   },
   {
    "duration": 23,
    "start_time": "2022-04-06T09:27:23.238Z"
   },
   {
    "duration": 13,
    "start_time": "2022-04-06T09:27:23.274Z"
   },
   {
    "duration": 367,
    "start_time": "2022-04-06T09:27:23.289Z"
   },
   {
    "duration": 28,
    "start_time": "2022-04-06T09:27:23.659Z"
   },
   {
    "duration": 40,
    "start_time": "2022-04-06T09:27:23.690Z"
   },
   {
    "duration": 108,
    "start_time": "2022-04-06T09:27:23.733Z"
   },
   {
    "duration": 389,
    "start_time": "2022-04-06T09:27:23.843Z"
   },
   {
    "duration": 14,
    "start_time": "2022-04-06T09:27:24.234Z"
   },
   {
    "duration": 326,
    "start_time": "2022-04-06T09:27:24.250Z"
   },
   {
    "duration": 21,
    "start_time": "2022-04-06T09:27:24.579Z"
   },
   {
    "duration": 30,
    "start_time": "2022-04-06T09:27:24.603Z"
   },
   {
    "duration": 358,
    "start_time": "2022-04-06T09:27:24.635Z"
   },
   {
    "duration": 6,
    "start_time": "2022-04-06T09:27:24.996Z"
   },
   {
    "duration": 2250,
    "start_time": "2022-04-06T09:27:25.004Z"
   },
   {
    "duration": 20,
    "start_time": "2022-04-06T09:27:27.256Z"
   },
   {
    "duration": 21,
    "start_time": "2022-04-06T09:27:27.279Z"
   },
   {
    "duration": 25,
    "start_time": "2022-04-06T09:27:27.302Z"
   },
   {
    "duration": 19,
    "start_time": "2022-04-06T09:27:27.329Z"
   },
   {
    "duration": 235,
    "start_time": "2022-04-06T09:27:27.350Z"
   },
   {
    "duration": 34,
    "start_time": "2022-04-06T09:27:27.587Z"
   },
   {
    "duration": 11,
    "start_time": "2022-04-06T09:27:27.623Z"
   },
   {
    "duration": 57,
    "start_time": "2022-04-06T09:27:27.637Z"
   },
   {
    "duration": 24,
    "start_time": "2022-04-06T09:27:27.697Z"
   },
   {
    "duration": 12,
    "start_time": "2022-04-06T09:27:27.723Z"
   },
   {
    "duration": 42,
    "start_time": "2022-04-06T09:27:27.737Z"
   },
   {
    "duration": 26,
    "start_time": "2022-04-06T09:27:27.781Z"
   },
   {
    "duration": 15,
    "start_time": "2022-04-06T09:27:27.809Z"
   },
   {
    "duration": 58,
    "start_time": "2022-04-06T09:27:27.831Z"
   },
   {
    "duration": 38,
    "start_time": "2022-04-06T09:27:27.891Z"
   },
   {
    "duration": 8,
    "start_time": "2022-04-06T09:27:27.931Z"
   },
   {
    "duration": 41,
    "start_time": "2022-04-06T09:27:27.941Z"
   },
   {
    "duration": 8,
    "start_time": "2022-04-06T09:27:27.984Z"
   },
   {
    "duration": 35,
    "start_time": "2022-04-06T09:27:27.995Z"
   },
   {
    "duration": 213,
    "start_time": "2022-04-06T09:27:28.032Z"
   },
   {
    "duration": 7,
    "start_time": "2022-04-06T09:27:28.247Z"
   },
   {
    "duration": 77,
    "start_time": "2022-04-06T09:27:28.255Z"
   },
   {
    "duration": 22,
    "start_time": "2022-04-06T09:27:28.335Z"
   },
   {
    "duration": 27,
    "start_time": "2022-04-06T09:27:28.359Z"
   },
   {
    "duration": 273,
    "start_time": "2022-04-06T09:27:28.388Z"
   },
   {
    "duration": 197,
    "start_time": "2022-04-06T09:27:28.663Z"
   },
   {
    "duration": 275,
    "start_time": "2022-04-06T09:27:28.863Z"
   },
   {
    "duration": 79,
    "start_time": "2022-04-06T09:27:29.141Z"
   },
   {
    "duration": 20,
    "start_time": "2022-04-06T09:27:29.222Z"
   },
   {
    "duration": 375,
    "start_time": "2022-04-06T09:27:29.245Z"
   },
   {
    "duration": 0,
    "start_time": "2022-04-06T09:27:29.622Z"
   },
   {
    "duration": 0,
    "start_time": "2022-04-06T09:27:29.623Z"
   },
   {
    "duration": 0,
    "start_time": "2022-04-06T09:27:29.625Z"
   },
   {
    "duration": 0,
    "start_time": "2022-04-06T09:27:29.626Z"
   },
   {
    "duration": 0,
    "start_time": "2022-04-06T09:27:29.628Z"
   },
   {
    "duration": 0,
    "start_time": "2022-04-06T09:27:29.629Z"
   },
   {
    "duration": 0,
    "start_time": "2022-04-06T09:27:29.630Z"
   },
   {
    "duration": 0,
    "start_time": "2022-04-06T09:27:29.632Z"
   },
   {
    "duration": 0,
    "start_time": "2022-04-06T09:27:29.633Z"
   },
   {
    "duration": 0,
    "start_time": "2022-04-06T09:27:29.634Z"
   },
   {
    "duration": 0,
    "start_time": "2022-04-06T09:27:29.636Z"
   },
   {
    "duration": 0,
    "start_time": "2022-04-06T09:27:29.637Z"
   },
   {
    "duration": 0,
    "start_time": "2022-04-06T09:27:29.638Z"
   },
   {
    "duration": 0,
    "start_time": "2022-04-06T09:27:29.640Z"
   },
   {
    "duration": 0,
    "start_time": "2022-04-06T09:27:29.641Z"
   },
   {
    "duration": 0,
    "start_time": "2022-04-06T09:27:29.674Z"
   },
   {
    "duration": 0,
    "start_time": "2022-04-06T09:27:29.675Z"
   },
   {
    "duration": 0,
    "start_time": "2022-04-06T09:27:29.676Z"
   },
   {
    "duration": 0,
    "start_time": "2022-04-06T09:27:29.678Z"
   },
   {
    "duration": 0,
    "start_time": "2022-04-06T09:27:29.679Z"
   },
   {
    "duration": 0,
    "start_time": "2022-04-06T09:27:29.681Z"
   },
   {
    "duration": 0,
    "start_time": "2022-04-06T09:27:29.682Z"
   },
   {
    "duration": 884,
    "start_time": "2022-04-06T09:33:44.624Z"
   },
   {
    "duration": 1073,
    "start_time": "2022-04-06T09:33:45.511Z"
   },
   {
    "duration": 20,
    "start_time": "2022-04-06T09:33:46.586Z"
   },
   {
    "duration": 18,
    "start_time": "2022-04-06T09:33:46.609Z"
   },
   {
    "duration": 12,
    "start_time": "2022-04-06T09:33:46.630Z"
   },
   {
    "duration": 59,
    "start_time": "2022-04-06T09:33:46.644Z"
   },
   {
    "duration": 10,
    "start_time": "2022-04-06T09:33:46.705Z"
   },
   {
    "duration": 28,
    "start_time": "2022-04-06T09:33:46.717Z"
   },
   {
    "duration": 12,
    "start_time": "2022-04-06T09:33:46.773Z"
   },
   {
    "duration": 30,
    "start_time": "2022-04-06T09:33:46.788Z"
   },
   {
    "duration": 12,
    "start_time": "2022-04-06T09:33:46.820Z"
   },
   {
    "duration": 7,
    "start_time": "2022-04-06T09:33:46.833Z"
   },
   {
    "duration": 336,
    "start_time": "2022-04-06T09:33:46.875Z"
   },
   {
    "duration": 23,
    "start_time": "2022-04-06T09:33:47.216Z"
   },
   {
    "duration": 34,
    "start_time": "2022-04-06T09:33:47.241Z"
   },
   {
    "duration": 341,
    "start_time": "2022-04-06T09:33:47.277Z"
   },
   {
    "duration": 24,
    "start_time": "2022-04-06T09:33:47.620Z"
   },
   {
    "duration": 59,
    "start_time": "2022-04-06T09:33:47.646Z"
   },
   {
    "duration": 95,
    "start_time": "2022-04-06T09:33:47.707Z"
   },
   {
    "duration": 359,
    "start_time": "2022-04-06T09:33:47.804Z"
   },
   {
    "duration": 18,
    "start_time": "2022-04-06T09:33:48.166Z"
   },
   {
    "duration": 306,
    "start_time": "2022-04-06T09:33:48.186Z"
   },
   {
    "duration": 23,
    "start_time": "2022-04-06T09:33:48.494Z"
   },
   {
    "duration": 28,
    "start_time": "2022-04-06T09:33:48.519Z"
   },
   {
    "duration": 311,
    "start_time": "2022-04-06T09:33:48.573Z"
   },
   {
    "duration": 5,
    "start_time": "2022-04-06T09:33:48.886Z"
   },
   {
    "duration": 2095,
    "start_time": "2022-04-06T09:33:48.893Z"
   },
   {
    "duration": 16,
    "start_time": "2022-04-06T09:33:50.991Z"
   },
   {
    "duration": 19,
    "start_time": "2022-04-06T09:33:51.009Z"
   },
   {
    "duration": 16,
    "start_time": "2022-04-06T09:33:51.030Z"
   },
   {
    "duration": 14,
    "start_time": "2022-04-06T09:33:51.073Z"
   },
   {
    "duration": 239,
    "start_time": "2022-04-06T09:33:51.089Z"
   },
   {
    "duration": 53,
    "start_time": "2022-04-06T09:33:51.330Z"
   },
   {
    "duration": 12,
    "start_time": "2022-04-06T09:33:51.385Z"
   },
   {
    "duration": 30,
    "start_time": "2022-04-06T09:33:51.400Z"
   },
   {
    "duration": 55,
    "start_time": "2022-04-06T09:33:51.432Z"
   },
   {
    "duration": 11,
    "start_time": "2022-04-06T09:33:51.489Z"
   },
   {
    "duration": 12,
    "start_time": "2022-04-06T09:33:51.503Z"
   },
   {
    "duration": 23,
    "start_time": "2022-04-06T09:33:51.517Z"
   },
   {
    "duration": 42,
    "start_time": "2022-04-06T09:33:51.542Z"
   },
   {
    "duration": 29,
    "start_time": "2022-04-06T09:33:51.591Z"
   },
   {
    "duration": 59,
    "start_time": "2022-04-06T09:33:51.622Z"
   },
   {
    "duration": 8,
    "start_time": "2022-04-06T09:33:51.683Z"
   },
   {
    "duration": 13,
    "start_time": "2022-04-06T09:33:51.693Z"
   },
   {
    "duration": 5,
    "start_time": "2022-04-06T09:33:51.709Z"
   },
   {
    "duration": 60,
    "start_time": "2022-04-06T09:33:51.716Z"
   },
   {
    "duration": 188,
    "start_time": "2022-04-06T09:33:51.778Z"
   },
   {
    "duration": 5,
    "start_time": "2022-04-06T09:33:51.968Z"
   },
   {
    "duration": 38,
    "start_time": "2022-04-06T09:33:51.974Z"
   },
   {
    "duration": 22,
    "start_time": "2022-04-06T09:33:52.014Z"
   },
   {
    "duration": 7,
    "start_time": "2022-04-06T09:33:52.038Z"
   },
   {
    "duration": 270,
    "start_time": "2022-04-06T09:33:52.074Z"
   },
   {
    "duration": 203,
    "start_time": "2022-04-06T09:33:52.346Z"
   },
   {
    "duration": 274,
    "start_time": "2022-04-06T09:33:52.551Z"
   },
   {
    "duration": 90,
    "start_time": "2022-04-06T09:33:52.827Z"
   },
   {
    "duration": 14,
    "start_time": "2022-04-06T09:33:52.919Z"
   },
   {
    "duration": 344,
    "start_time": "2022-04-06T09:33:52.935Z"
   },
   {
    "duration": 0,
    "start_time": "2022-04-06T09:33:53.282Z"
   },
   {
    "duration": 0,
    "start_time": "2022-04-06T09:33:53.284Z"
   },
   {
    "duration": 0,
    "start_time": "2022-04-06T09:33:53.286Z"
   },
   {
    "duration": 0,
    "start_time": "2022-04-06T09:33:53.287Z"
   },
   {
    "duration": 0,
    "start_time": "2022-04-06T09:33:53.289Z"
   },
   {
    "duration": 0,
    "start_time": "2022-04-06T09:33:53.290Z"
   },
   {
    "duration": 0,
    "start_time": "2022-04-06T09:33:53.292Z"
   },
   {
    "duration": 0,
    "start_time": "2022-04-06T09:33:53.294Z"
   },
   {
    "duration": 0,
    "start_time": "2022-04-06T09:33:53.295Z"
   },
   {
    "duration": 0,
    "start_time": "2022-04-06T09:33:53.296Z"
   },
   {
    "duration": 0,
    "start_time": "2022-04-06T09:33:53.297Z"
   },
   {
    "duration": 0,
    "start_time": "2022-04-06T09:33:53.299Z"
   },
   {
    "duration": 0,
    "start_time": "2022-04-06T09:33:53.300Z"
   },
   {
    "duration": 0,
    "start_time": "2022-04-06T09:33:53.301Z"
   },
   {
    "duration": 0,
    "start_time": "2022-04-06T09:33:53.302Z"
   },
   {
    "duration": 0,
    "start_time": "2022-04-06T09:33:53.304Z"
   },
   {
    "duration": 0,
    "start_time": "2022-04-06T09:33:53.305Z"
   },
   {
    "duration": 0,
    "start_time": "2022-04-06T09:33:53.306Z"
   },
   {
    "duration": 0,
    "start_time": "2022-04-06T09:33:53.308Z"
   },
   {
    "duration": 0,
    "start_time": "2022-04-06T09:33:53.309Z"
   },
   {
    "duration": 0,
    "start_time": "2022-04-06T09:33:53.311Z"
   },
   {
    "duration": 0,
    "start_time": "2022-04-06T09:33:53.312Z"
   },
   {
    "duration": 218,
    "start_time": "2022-04-06T09:38:30.279Z"
   },
   {
    "duration": 3259,
    "start_time": "2022-04-06T09:39:01.729Z"
   },
   {
    "duration": 1179,
    "start_time": "2022-04-06T09:39:04.992Z"
   },
   {
    "duration": 20,
    "start_time": "2022-04-06T09:39:06.173Z"
   },
   {
    "duration": 17,
    "start_time": "2022-04-06T09:39:06.195Z"
   },
   {
    "duration": 13,
    "start_time": "2022-04-06T09:39:06.216Z"
   },
   {
    "duration": 63,
    "start_time": "2022-04-06T09:39:06.231Z"
   },
   {
    "duration": 10,
    "start_time": "2022-04-06T09:39:06.296Z"
   },
   {
    "duration": 26,
    "start_time": "2022-04-06T09:39:06.309Z"
   },
   {
    "duration": 39,
    "start_time": "2022-04-06T09:39:06.337Z"
   },
   {
    "duration": 31,
    "start_time": "2022-04-06T09:39:06.379Z"
   },
   {
    "duration": 12,
    "start_time": "2022-04-06T09:39:06.411Z"
   },
   {
    "duration": 10,
    "start_time": "2022-04-06T09:39:06.425Z"
   },
   {
    "duration": 537,
    "start_time": "2022-04-06T09:39:06.437Z"
   },
   {
    "duration": 22,
    "start_time": "2022-04-06T09:39:06.979Z"
   },
   {
    "duration": 72,
    "start_time": "2022-04-06T09:39:07.003Z"
   },
   {
    "duration": 609,
    "start_time": "2022-04-06T09:39:07.077Z"
   },
   {
    "duration": 25,
    "start_time": "2022-04-06T09:39:07.688Z"
   },
   {
    "duration": 91,
    "start_time": "2022-04-06T09:39:07.715Z"
   },
   {
    "duration": 180,
    "start_time": "2022-04-06T09:39:07.808Z"
   },
   {
    "duration": 600,
    "start_time": "2022-04-06T09:39:07.990Z"
   },
   {
    "duration": 14,
    "start_time": "2022-04-06T09:39:08.592Z"
   },
   {
    "duration": 768,
    "start_time": "2022-04-06T09:39:08.609Z"
   },
   {
    "duration": 23,
    "start_time": "2022-04-06T09:39:09.379Z"
   },
   {
    "duration": 87,
    "start_time": "2022-04-06T09:39:09.405Z"
   },
   {
    "duration": 367,
    "start_time": "2022-04-06T09:39:09.495Z"
   },
   {
    "duration": 9,
    "start_time": "2022-04-06T09:39:09.865Z"
   },
   {
    "duration": 2121,
    "start_time": "2022-04-06T09:39:09.876Z"
   },
   {
    "duration": 17,
    "start_time": "2022-04-06T09:39:11.999Z"
   },
   {
    "duration": 28,
    "start_time": "2022-04-06T09:39:12.018Z"
   },
   {
    "duration": 29,
    "start_time": "2022-04-06T09:39:12.048Z"
   },
   {
    "duration": 23,
    "start_time": "2022-04-06T09:39:12.079Z"
   },
   {
    "duration": 234,
    "start_time": "2022-04-06T09:39:12.104Z"
   },
   {
    "duration": 41,
    "start_time": "2022-04-06T09:39:12.341Z"
   },
   {
    "duration": 10,
    "start_time": "2022-04-06T09:39:12.385Z"
   },
   {
    "duration": 28,
    "start_time": "2022-04-06T09:39:12.398Z"
   },
   {
    "duration": 48,
    "start_time": "2022-04-06T09:39:12.429Z"
   },
   {
    "duration": 12,
    "start_time": "2022-04-06T09:39:12.479Z"
   },
   {
    "duration": 13,
    "start_time": "2022-04-06T09:39:12.493Z"
   },
   {
    "duration": 21,
    "start_time": "2022-04-06T09:39:12.509Z"
   },
   {
    "duration": 46,
    "start_time": "2022-04-06T09:39:12.533Z"
   },
   {
    "duration": 31,
    "start_time": "2022-04-06T09:39:12.586Z"
   },
   {
    "duration": 68,
    "start_time": "2022-04-06T09:39:12.619Z"
   },
   {
    "duration": 7,
    "start_time": "2022-04-06T09:39:12.690Z"
   },
   {
    "duration": 18,
    "start_time": "2022-04-06T09:39:12.700Z"
   },
   {
    "duration": 6,
    "start_time": "2022-04-06T09:39:12.720Z"
   },
   {
    "duration": 60,
    "start_time": "2022-04-06T09:39:12.728Z"
   },
   {
    "duration": 204,
    "start_time": "2022-04-06T09:39:12.790Z"
   },
   {
    "duration": 10,
    "start_time": "2022-04-06T09:39:12.996Z"
   },
   {
    "duration": 37,
    "start_time": "2022-04-06T09:39:13.009Z"
   },
   {
    "duration": 41,
    "start_time": "2022-04-06T09:39:13.048Z"
   },
   {
    "duration": 8,
    "start_time": "2022-04-06T09:39:13.091Z"
   },
   {
    "duration": 298,
    "start_time": "2022-04-06T09:39:13.101Z"
   },
   {
    "duration": 214,
    "start_time": "2022-04-06T09:39:13.401Z"
   },
   {
    "duration": 229,
    "start_time": "2022-04-06T09:39:13.618Z"
   },
   {
    "duration": 82,
    "start_time": "2022-04-06T09:39:13.849Z"
   },
   {
    "duration": 14,
    "start_time": "2022-04-06T09:39:13.933Z"
   },
   {
    "duration": 436,
    "start_time": "2022-04-06T09:39:13.950Z"
   },
   {
    "duration": 0,
    "start_time": "2022-04-06T09:39:14.389Z"
   },
   {
    "duration": 0,
    "start_time": "2022-04-06T09:39:14.390Z"
   },
   {
    "duration": 0,
    "start_time": "2022-04-06T09:39:14.392Z"
   },
   {
    "duration": 0,
    "start_time": "2022-04-06T09:39:14.393Z"
   },
   {
    "duration": 0,
    "start_time": "2022-04-06T09:39:14.394Z"
   },
   {
    "duration": 0,
    "start_time": "2022-04-06T09:39:14.396Z"
   },
   {
    "duration": 0,
    "start_time": "2022-04-06T09:39:14.397Z"
   },
   {
    "duration": 0,
    "start_time": "2022-04-06T09:39:14.398Z"
   },
   {
    "duration": 0,
    "start_time": "2022-04-06T09:39:14.400Z"
   },
   {
    "duration": 0,
    "start_time": "2022-04-06T09:39:14.401Z"
   },
   {
    "duration": 0,
    "start_time": "2022-04-06T09:39:14.402Z"
   },
   {
    "duration": 0,
    "start_time": "2022-04-06T09:39:14.404Z"
   },
   {
    "duration": 0,
    "start_time": "2022-04-06T09:39:14.406Z"
   },
   {
    "duration": 0,
    "start_time": "2022-04-06T09:39:14.408Z"
   },
   {
    "duration": 0,
    "start_time": "2022-04-06T09:39:14.409Z"
   },
   {
    "duration": 0,
    "start_time": "2022-04-06T09:39:14.411Z"
   },
   {
    "duration": 1,
    "start_time": "2022-04-06T09:39:14.412Z"
   },
   {
    "duration": 0,
    "start_time": "2022-04-06T09:39:14.414Z"
   },
   {
    "duration": 0,
    "start_time": "2022-04-06T09:39:14.415Z"
   },
   {
    "duration": 0,
    "start_time": "2022-04-06T09:39:14.417Z"
   },
   {
    "duration": 0,
    "start_time": "2022-04-06T09:39:14.418Z"
   },
   {
    "duration": 0,
    "start_time": "2022-04-06T09:39:14.419Z"
   },
   {
    "duration": 214,
    "start_time": "2022-04-06T09:39:25.788Z"
   },
   {
    "duration": 237,
    "start_time": "2022-04-06T09:40:03.426Z"
   },
   {
    "duration": 1507,
    "start_time": "2022-04-06T09:40:39.730Z"
   },
   {
    "duration": 1146,
    "start_time": "2022-04-06T09:40:41.240Z"
   },
   {
    "duration": 18,
    "start_time": "2022-04-06T09:40:42.389Z"
   },
   {
    "duration": 18,
    "start_time": "2022-04-06T09:40:42.410Z"
   },
   {
    "duration": 26,
    "start_time": "2022-04-06T09:40:42.430Z"
   },
   {
    "duration": 37,
    "start_time": "2022-04-06T09:40:42.458Z"
   },
   {
    "duration": 12,
    "start_time": "2022-04-06T09:40:42.498Z"
   },
   {
    "duration": 42,
    "start_time": "2022-04-06T09:40:42.512Z"
   },
   {
    "duration": 17,
    "start_time": "2022-04-06T09:40:42.556Z"
   },
   {
    "duration": 50,
    "start_time": "2022-04-06T09:40:42.575Z"
   },
   {
    "duration": 17,
    "start_time": "2022-04-06T09:40:42.627Z"
   },
   {
    "duration": 15,
    "start_time": "2022-04-06T09:40:42.646Z"
   },
   {
    "duration": 426,
    "start_time": "2022-04-06T09:40:42.663Z"
   },
   {
    "duration": 23,
    "start_time": "2022-04-06T09:40:43.094Z"
   },
   {
    "duration": 18,
    "start_time": "2022-04-06T09:40:43.119Z"
   },
   {
    "duration": 458,
    "start_time": "2022-04-06T09:40:43.139Z"
   },
   {
    "duration": 25,
    "start_time": "2022-04-06T09:40:43.600Z"
   },
   {
    "duration": 48,
    "start_time": "2022-04-06T09:40:43.627Z"
   },
   {
    "duration": 88,
    "start_time": "2022-04-06T09:40:43.677Z"
   },
   {
    "duration": 370,
    "start_time": "2022-04-06T09:40:43.767Z"
   },
   {
    "duration": 35,
    "start_time": "2022-04-06T09:40:44.140Z"
   },
   {
    "duration": 344,
    "start_time": "2022-04-06T09:40:44.178Z"
   },
   {
    "duration": 22,
    "start_time": "2022-04-06T09:40:44.525Z"
   },
   {
    "duration": 49,
    "start_time": "2022-04-06T09:40:44.550Z"
   },
   {
    "duration": 330,
    "start_time": "2022-04-06T09:40:44.602Z"
   },
   {
    "duration": 5,
    "start_time": "2022-04-06T09:40:44.935Z"
   },
   {
    "duration": 2429,
    "start_time": "2022-04-06T09:40:44.942Z"
   },
   {
    "duration": 16,
    "start_time": "2022-04-06T09:40:47.374Z"
   },
   {
    "duration": 15,
    "start_time": "2022-04-06T09:40:47.393Z"
   },
   {
    "duration": 12,
    "start_time": "2022-04-06T09:40:47.410Z"
   },
   {
    "duration": 50,
    "start_time": "2022-04-06T09:40:47.424Z"
   },
   {
    "duration": 207,
    "start_time": "2022-04-06T09:40:47.477Z"
   },
   {
    "duration": 30,
    "start_time": "2022-04-06T09:40:47.687Z"
   },
   {
    "duration": 11,
    "start_time": "2022-04-06T09:40:47.720Z"
   },
   {
    "duration": 58,
    "start_time": "2022-04-06T09:40:47.734Z"
   },
   {
    "duration": 24,
    "start_time": "2022-04-06T09:40:47.795Z"
   },
   {
    "duration": 11,
    "start_time": "2022-04-06T09:40:47.821Z"
   },
   {
    "duration": 44,
    "start_time": "2022-04-06T09:40:47.834Z"
   },
   {
    "duration": 27,
    "start_time": "2022-04-06T09:40:47.880Z"
   },
   {
    "duration": 13,
    "start_time": "2022-04-06T09:40:47.909Z"
   },
   {
    "duration": 57,
    "start_time": "2022-04-06T09:40:47.930Z"
   },
   {
    "duration": 37,
    "start_time": "2022-04-06T09:40:47.989Z"
   },
   {
    "duration": 8,
    "start_time": "2022-04-06T09:40:48.029Z"
   },
   {
    "duration": 42,
    "start_time": "2022-04-06T09:40:48.039Z"
   },
   {
    "duration": 5,
    "start_time": "2022-04-06T09:40:48.083Z"
   },
   {
    "duration": 33,
    "start_time": "2022-04-06T09:40:48.090Z"
   },
   {
    "duration": 197,
    "start_time": "2022-04-06T09:40:48.125Z"
   },
   {
    "duration": 5,
    "start_time": "2022-04-06T09:40:48.324Z"
   },
   {
    "duration": 52,
    "start_time": "2022-04-06T09:40:48.331Z"
   },
   {
    "duration": 20,
    "start_time": "2022-04-06T09:40:48.385Z"
   },
   {
    "duration": 28,
    "start_time": "2022-04-06T09:40:48.408Z"
   },
   {
    "duration": 289,
    "start_time": "2022-04-06T09:40:48.438Z"
   },
   {
    "duration": 199,
    "start_time": "2022-04-06T09:40:48.729Z"
   },
   {
    "duration": 222,
    "start_time": "2022-04-06T09:40:48.930Z"
   },
   {
    "duration": 77,
    "start_time": "2022-04-06T09:40:49.154Z"
   },
   {
    "duration": 15,
    "start_time": "2022-04-06T09:40:49.233Z"
   },
   {
    "duration": 248,
    "start_time": "2022-04-06T09:40:49.251Z"
   },
   {
    "duration": 242,
    "start_time": "2022-04-06T09:40:49.502Z"
   },
   {
    "duration": 29,
    "start_time": "2022-04-06T09:40:49.746Z"
   },
   {
    "duration": 247,
    "start_time": "2022-04-06T09:40:49.778Z"
   },
   {
    "duration": 233,
    "start_time": "2022-04-06T09:40:50.027Z"
   },
   {
    "duration": 23,
    "start_time": "2022-04-06T09:40:50.262Z"
   },
   {
    "duration": 243,
    "start_time": "2022-04-06T09:40:50.287Z"
   },
   {
    "duration": 226,
    "start_time": "2022-04-06T09:40:50.533Z"
   },
   {
    "duration": 14,
    "start_time": "2022-04-06T09:40:50.762Z"
   },
   {
    "duration": 40,
    "start_time": "2022-04-06T09:40:50.778Z"
   },
   {
    "duration": 10,
    "start_time": "2022-04-06T09:40:50.821Z"
   },
   {
    "duration": 11,
    "start_time": "2022-04-06T09:40:50.833Z"
   },
   {
    "duration": 8,
    "start_time": "2022-04-06T09:40:50.846Z"
   },
   {
    "duration": 3,
    "start_time": "2022-04-06T09:40:50.875Z"
   },
   {
    "duration": 8,
    "start_time": "2022-04-06T09:40:50.880Z"
   },
   {
    "duration": 6,
    "start_time": "2022-04-06T09:40:50.890Z"
   },
   {
    "duration": 7,
    "start_time": "2022-04-06T09:40:50.899Z"
   },
   {
    "duration": 5,
    "start_time": "2022-04-06T09:40:50.908Z"
   },
   {
    "duration": 11,
    "start_time": "2022-04-06T09:40:50.915Z"
   },
   {
    "duration": 52,
    "start_time": "2022-04-06T09:40:50.928Z"
   },
   {
    "duration": 11,
    "start_time": "2022-04-06T09:40:50.983Z"
   },
   {
    "duration": 15,
    "start_time": "2022-04-06T09:40:50.996Z"
   },
   {
    "duration": 7,
    "start_time": "2022-04-06T09:40:51.014Z"
   },
   {
    "duration": 1744,
    "start_time": "2022-04-06T12:05:15.792Z"
   },
   {
    "duration": 1267,
    "start_time": "2022-04-06T12:05:17.540Z"
   },
   {
    "duration": 32,
    "start_time": "2022-04-06T12:05:18.810Z"
   },
   {
    "duration": 20,
    "start_time": "2022-04-06T12:05:18.845Z"
   },
   {
    "duration": 17,
    "start_time": "2022-04-06T12:05:18.867Z"
   },
   {
    "duration": 40,
    "start_time": "2022-04-06T12:05:18.886Z"
   },
   {
    "duration": 10,
    "start_time": "2022-04-06T12:05:18.928Z"
   },
   {
    "duration": 42,
    "start_time": "2022-04-06T12:05:18.940Z"
   },
   {
    "duration": 11,
    "start_time": "2022-04-06T12:05:18.984Z"
   },
   {
    "duration": 31,
    "start_time": "2022-04-06T12:05:18.999Z"
   },
   {
    "duration": 12,
    "start_time": "2022-04-06T12:05:19.032Z"
   },
   {
    "duration": 32,
    "start_time": "2022-04-06T12:05:19.046Z"
   },
   {
    "duration": 353,
    "start_time": "2022-04-06T12:05:19.080Z"
   },
   {
    "duration": 39,
    "start_time": "2022-04-06T12:05:19.436Z"
   },
   {
    "duration": 15,
    "start_time": "2022-04-06T12:05:19.478Z"
   },
   {
    "duration": 354,
    "start_time": "2022-04-06T12:05:19.496Z"
   },
   {
    "duration": 33,
    "start_time": "2022-04-06T12:05:19.854Z"
   },
   {
    "duration": 42,
    "start_time": "2022-04-06T12:05:19.890Z"
   },
   {
    "duration": 111,
    "start_time": "2022-04-06T12:05:19.934Z"
   },
   {
    "duration": 311,
    "start_time": "2022-04-06T12:05:20.047Z"
   },
   {
    "duration": 24,
    "start_time": "2022-04-06T12:05:20.360Z"
   },
   {
    "duration": 308,
    "start_time": "2022-04-06T12:05:20.386Z"
   },
   {
    "duration": 22,
    "start_time": "2022-04-06T12:05:20.696Z"
   },
   {
    "duration": 54,
    "start_time": "2022-04-06T12:05:20.720Z"
   },
   {
    "duration": 316,
    "start_time": "2022-04-06T12:05:20.777Z"
   },
   {
    "duration": 5,
    "start_time": "2022-04-06T12:05:21.095Z"
   },
   {
    "duration": 2219,
    "start_time": "2022-04-06T12:05:21.103Z"
   },
   {
    "duration": 16,
    "start_time": "2022-04-06T12:05:23.328Z"
   },
   {
    "duration": 35,
    "start_time": "2022-04-06T12:05:23.346Z"
   },
   {
    "duration": 17,
    "start_time": "2022-04-06T12:05:23.383Z"
   },
   {
    "duration": 20,
    "start_time": "2022-04-06T12:05:23.402Z"
   },
   {
    "duration": 224,
    "start_time": "2022-04-06T12:05:23.425Z"
   },
   {
    "duration": 37,
    "start_time": "2022-04-06T12:05:23.651Z"
   },
   {
    "duration": 10,
    "start_time": "2022-04-06T12:05:23.690Z"
   },
   {
    "duration": 34,
    "start_time": "2022-04-06T12:05:23.703Z"
   },
   {
    "duration": 49,
    "start_time": "2022-04-06T12:05:23.739Z"
   },
   {
    "duration": 11,
    "start_time": "2022-04-06T12:05:23.790Z"
   },
   {
    "duration": 19,
    "start_time": "2022-04-06T12:05:23.803Z"
   },
   {
    "duration": 29,
    "start_time": "2022-04-06T12:05:23.824Z"
   },
   {
    "duration": 15,
    "start_time": "2022-04-06T12:05:23.874Z"
   },
   {
    "duration": 31,
    "start_time": "2022-04-06T12:05:23.891Z"
   },
   {
    "duration": 65,
    "start_time": "2022-04-06T12:05:23.925Z"
   },
   {
    "duration": 7,
    "start_time": "2022-04-06T12:05:23.993Z"
   },
   {
    "duration": 14,
    "start_time": "2022-04-06T12:05:24.002Z"
   },
   {
    "duration": 5,
    "start_time": "2022-04-06T12:05:24.019Z"
   },
   {
    "duration": 64,
    "start_time": "2022-04-06T12:05:24.027Z"
   },
   {
    "duration": 190,
    "start_time": "2022-04-06T12:05:24.093Z"
   },
   {
    "duration": 5,
    "start_time": "2022-04-06T12:05:24.285Z"
   },
   {
    "duration": 33,
    "start_time": "2022-04-06T12:05:24.292Z"
   },
   {
    "duration": 45,
    "start_time": "2022-04-06T12:05:24.328Z"
   },
   {
    "duration": 8,
    "start_time": "2022-04-06T12:05:24.375Z"
   },
   {
    "duration": 285,
    "start_time": "2022-04-06T12:05:24.384Z"
   },
   {
    "duration": 203,
    "start_time": "2022-04-06T12:05:24.673Z"
   },
   {
    "duration": 215,
    "start_time": "2022-04-06T12:05:24.878Z"
   },
   {
    "duration": 70,
    "start_time": "2022-04-06T12:05:25.096Z"
   },
   {
    "duration": 18,
    "start_time": "2022-04-06T12:05:25.168Z"
   },
   {
    "duration": 240,
    "start_time": "2022-04-06T12:05:25.188Z"
   },
   {
    "duration": 235,
    "start_time": "2022-04-06T12:05:25.430Z"
   },
   {
    "duration": 18,
    "start_time": "2022-04-06T12:05:25.667Z"
   },
   {
    "duration": 241,
    "start_time": "2022-04-06T12:05:25.687Z"
   },
   {
    "duration": 228,
    "start_time": "2022-04-06T12:05:25.930Z"
   },
   {
    "duration": 21,
    "start_time": "2022-04-06T12:05:26.161Z"
   },
   {
    "duration": 254,
    "start_time": "2022-04-06T12:05:26.185Z"
   },
   {
    "duration": 237,
    "start_time": "2022-04-06T12:05:26.442Z"
   },
   {
    "duration": 6,
    "start_time": "2022-04-06T12:05:26.682Z"
   },
   {
    "duration": 32,
    "start_time": "2022-04-06T12:05:26.691Z"
   },
   {
    "duration": 13,
    "start_time": "2022-04-06T12:05:26.725Z"
   },
   {
    "duration": 37,
    "start_time": "2022-04-06T12:05:26.740Z"
   },
   {
    "duration": 11,
    "start_time": "2022-04-06T12:05:26.780Z"
   },
   {
    "duration": 6,
    "start_time": "2022-04-06T12:05:26.793Z"
   },
   {
    "duration": 7,
    "start_time": "2022-04-06T12:05:26.802Z"
   },
   {
    "duration": 8,
    "start_time": "2022-04-06T12:05:26.811Z"
   },
   {
    "duration": 54,
    "start_time": "2022-04-06T12:05:26.821Z"
   },
   {
    "duration": 8,
    "start_time": "2022-04-06T12:05:26.877Z"
   },
   {
    "duration": 10,
    "start_time": "2022-04-06T12:05:26.887Z"
   },
   {
    "duration": 9,
    "start_time": "2022-04-06T12:05:26.899Z"
   },
   {
    "duration": 11,
    "start_time": "2022-04-06T12:05:26.910Z"
   },
   {
    "duration": 8,
    "start_time": "2022-04-06T12:05:26.923Z"
   },
   {
    "duration": 41,
    "start_time": "2022-04-06T12:05:26.933Z"
   },
   {
    "duration": 1782,
    "start_time": "2022-04-25T07:54:17.502Z"
   },
   {
    "duration": 2731,
    "start_time": "2022-04-25T07:54:19.286Z"
   },
   {
    "duration": 22,
    "start_time": "2022-04-25T07:54:22.020Z"
   },
   {
    "duration": 22,
    "start_time": "2022-04-25T07:54:22.047Z"
   },
   {
    "duration": 17,
    "start_time": "2022-04-25T07:54:22.071Z"
   },
   {
    "duration": 66,
    "start_time": "2022-04-25T07:54:22.091Z"
   },
   {
    "duration": 10,
    "start_time": "2022-04-25T07:54:22.159Z"
   },
   {
    "duration": 32,
    "start_time": "2022-04-25T07:54:22.171Z"
   },
   {
    "duration": 13,
    "start_time": "2022-04-25T07:54:22.225Z"
   },
   {
    "duration": 38,
    "start_time": "2022-04-25T07:54:22.243Z"
   },
   {
    "duration": 11,
    "start_time": "2022-04-25T07:54:22.286Z"
   },
   {
    "duration": 36,
    "start_time": "2022-04-25T07:54:22.299Z"
   },
   {
    "duration": 345,
    "start_time": "2022-04-25T07:54:22.338Z"
   },
   {
    "duration": 23,
    "start_time": "2022-04-25T07:54:22.685Z"
   },
   {
    "duration": 31,
    "start_time": "2022-04-25T07:54:22.710Z"
   },
   {
    "duration": 351,
    "start_time": "2022-04-25T07:54:22.744Z"
   },
   {
    "duration": 41,
    "start_time": "2022-04-25T07:54:23.097Z"
   },
   {
    "duration": 42,
    "start_time": "2022-04-25T07:54:23.140Z"
   },
   {
    "duration": 100,
    "start_time": "2022-04-25T07:54:23.184Z"
   },
   {
    "duration": 344,
    "start_time": "2022-04-25T07:54:23.286Z"
   },
   {
    "duration": 4,
    "start_time": "2022-04-25T07:54:23.636Z"
   },
   {
    "duration": 320,
    "start_time": "2022-04-25T07:54:23.643Z"
   },
   {
    "duration": 23,
    "start_time": "2022-04-25T07:54:23.966Z"
   },
   {
    "duration": 58,
    "start_time": "2022-04-25T07:54:23.991Z"
   },
   {
    "duration": 459,
    "start_time": "2022-04-25T07:54:24.051Z"
   },
   {
    "duration": 11,
    "start_time": "2022-04-25T07:54:24.513Z"
   },
   {
    "duration": 2254,
    "start_time": "2022-04-25T07:54:24.527Z"
   },
   {
    "duration": 5,
    "start_time": "2022-04-25T07:54:26.788Z"
   },
   {
    "duration": 40,
    "start_time": "2022-04-25T07:54:26.795Z"
   },
   {
    "duration": 22,
    "start_time": "2022-04-25T07:54:26.838Z"
   },
   {
    "duration": 14,
    "start_time": "2022-04-25T07:54:26.863Z"
   },
   {
    "duration": 39,
    "start_time": "2022-04-25T07:54:26.879Z"
   },
   {
    "duration": 238,
    "start_time": "2022-04-25T07:54:26.920Z"
   },
   {
    "duration": 30,
    "start_time": "2022-04-25T07:54:27.160Z"
   },
   {
    "duration": 10,
    "start_time": "2022-04-25T07:54:27.192Z"
   },
   {
    "duration": 36,
    "start_time": "2022-04-25T07:54:27.226Z"
   },
   {
    "duration": 15,
    "start_time": "2022-04-25T07:54:27.264Z"
   },
   {
    "duration": 64,
    "start_time": "2022-04-25T07:54:27.282Z"
   },
   {
    "duration": 13,
    "start_time": "2022-04-25T07:54:27.349Z"
   },
   {
    "duration": 18,
    "start_time": "2022-04-25T07:54:27.364Z"
   },
   {
    "duration": 58,
    "start_time": "2022-04-25T07:54:27.385Z"
   },
   {
    "duration": 18,
    "start_time": "2022-04-25T07:54:27.446Z"
   },
   {
    "duration": 64,
    "start_time": "2022-04-25T07:54:27.467Z"
   },
   {
    "duration": 40,
    "start_time": "2022-04-25T07:54:27.533Z"
   },
   {
    "duration": 10,
    "start_time": "2022-04-25T07:54:27.576Z"
   },
   {
    "duration": 43,
    "start_time": "2022-04-25T07:54:27.588Z"
   },
   {
    "duration": 7,
    "start_time": "2022-04-25T07:54:27.634Z"
   },
   {
    "duration": 37,
    "start_time": "2022-04-25T07:54:27.644Z"
   },
   {
    "duration": 209,
    "start_time": "2022-04-25T07:54:27.683Z"
   },
   {
    "duration": 5,
    "start_time": "2022-04-25T07:54:27.894Z"
   },
   {
    "duration": 70,
    "start_time": "2022-04-25T07:54:27.901Z"
   },
   {
    "duration": 25,
    "start_time": "2022-04-25T07:54:27.974Z"
   },
   {
    "duration": 7,
    "start_time": "2022-04-25T07:54:28.002Z"
   },
   {
    "duration": 290,
    "start_time": "2022-04-25T07:54:28.012Z"
   },
   {
    "duration": 219,
    "start_time": "2022-04-25T07:54:28.305Z"
   },
   {
    "duration": 232,
    "start_time": "2022-04-25T07:54:28.527Z"
   },
   {
    "duration": 81,
    "start_time": "2022-04-25T07:54:28.761Z"
   },
   {
    "duration": 14,
    "start_time": "2022-04-25T07:54:28.844Z"
   },
   {
    "duration": 253,
    "start_time": "2022-04-25T07:54:28.860Z"
   },
   {
    "duration": 253,
    "start_time": "2022-04-25T07:54:29.115Z"
   },
   {
    "duration": 15,
    "start_time": "2022-04-25T07:54:29.370Z"
   },
   {
    "duration": 260,
    "start_time": "2022-04-25T07:54:29.388Z"
   },
   {
    "duration": 232,
    "start_time": "2022-04-25T07:54:29.650Z"
   },
   {
    "duration": 15,
    "start_time": "2022-04-25T07:54:29.884Z"
   },
   {
    "duration": 411,
    "start_time": "2022-04-25T07:54:29.901Z"
   },
   {
    "duration": 237,
    "start_time": "2022-04-25T07:54:30.314Z"
   },
   {
    "duration": 18,
    "start_time": "2022-04-25T07:54:30.554Z"
   },
   {
    "duration": 54,
    "start_time": "2022-04-25T07:54:30.575Z"
   },
   {
    "duration": 27,
    "start_time": "2022-04-25T07:54:30.633Z"
   },
   {
    "duration": 18,
    "start_time": "2022-04-25T07:54:30.663Z"
   },
   {
    "duration": 11,
    "start_time": "2022-04-25T07:54:30.684Z"
   },
   {
    "duration": 21,
    "start_time": "2022-04-25T07:54:30.697Z"
   },
   {
    "duration": 24,
    "start_time": "2022-04-25T07:54:30.720Z"
   },
   {
    "duration": 24,
    "start_time": "2022-04-25T07:54:30.746Z"
   },
   {
    "duration": 28,
    "start_time": "2022-04-25T07:54:30.772Z"
   },
   {
    "duration": 17,
    "start_time": "2022-04-25T07:54:30.802Z"
   },
   {
    "duration": 25,
    "start_time": "2022-04-25T07:54:30.821Z"
   },
   {
    "duration": 20,
    "start_time": "2022-04-25T07:54:30.849Z"
   },
   {
    "duration": 37,
    "start_time": "2022-04-25T07:54:30.871Z"
   },
   {
    "duration": 14,
    "start_time": "2022-04-25T07:54:30.911Z"
   },
   {
    "duration": 27,
    "start_time": "2022-04-25T07:54:30.928Z"
   },
   {
    "duration": 3,
    "start_time": "2022-04-25T07:55:10.403Z"
   },
   {
    "duration": 28,
    "start_time": "2022-04-25T07:55:12.230Z"
   },
   {
    "duration": 1497,
    "start_time": "2022-04-25T07:55:37.690Z"
   },
   {
    "duration": 2206,
    "start_time": "2022-04-25T07:55:39.189Z"
   },
   {
    "duration": 19,
    "start_time": "2022-04-25T07:55:41.397Z"
   },
   {
    "duration": 24,
    "start_time": "2022-04-25T07:55:41.418Z"
   },
   {
    "duration": 17,
    "start_time": "2022-04-25T07:55:41.447Z"
   },
   {
    "duration": 34,
    "start_time": "2022-04-25T07:55:41.466Z"
   },
   {
    "duration": 15,
    "start_time": "2022-04-25T07:55:41.524Z"
   },
   {
    "duration": 34,
    "start_time": "2022-04-25T07:55:41.540Z"
   },
   {
    "duration": 13,
    "start_time": "2022-04-25T07:55:41.577Z"
   },
   {
    "duration": 62,
    "start_time": "2022-04-25T07:55:41.592Z"
   },
   {
    "duration": 12,
    "start_time": "2022-04-25T07:55:41.656Z"
   },
   {
    "duration": 5,
    "start_time": "2022-04-25T07:55:41.670Z"
   },
   {
    "duration": 372,
    "start_time": "2022-04-25T07:55:41.677Z"
   },
   {
    "duration": 24,
    "start_time": "2022-04-25T07:55:42.055Z"
   },
   {
    "duration": 13,
    "start_time": "2022-04-25T07:55:42.081Z"
   },
   {
    "duration": 367,
    "start_time": "2022-04-25T07:55:42.097Z"
   },
   {
    "duration": 23,
    "start_time": "2022-04-25T07:55:42.467Z"
   },
   {
    "duration": 67,
    "start_time": "2022-04-25T07:55:42.493Z"
   },
   {
    "duration": 90,
    "start_time": "2022-04-25T07:55:42.562Z"
   },
   {
    "duration": 333,
    "start_time": "2022-04-25T07:55:42.654Z"
   },
   {
    "duration": 3,
    "start_time": "2022-04-25T07:55:42.990Z"
   },
   {
    "duration": 329,
    "start_time": "2022-04-25T07:55:42.995Z"
   },
   {
    "duration": 26,
    "start_time": "2022-04-25T07:55:43.326Z"
   },
   {
    "duration": 31,
    "start_time": "2022-04-25T07:55:43.354Z"
   },
   {
    "duration": 365,
    "start_time": "2022-04-25T07:55:43.388Z"
   },
   {
    "duration": 7,
    "start_time": "2022-04-25T07:55:43.756Z"
   },
   {
    "duration": 2259,
    "start_time": "2022-04-25T07:55:43.765Z"
   },
   {
    "duration": 7,
    "start_time": "2022-04-25T07:55:46.027Z"
   },
   {
    "duration": 23,
    "start_time": "2022-04-25T07:55:46.040Z"
   },
   {
    "duration": 22,
    "start_time": "2022-04-25T07:55:46.065Z"
   },
   {
    "duration": 39,
    "start_time": "2022-04-25T07:55:46.089Z"
   },
   {
    "duration": 16,
    "start_time": "2022-04-25T07:55:46.130Z"
   },
   {
    "duration": 245,
    "start_time": "2022-04-25T07:55:46.148Z"
   },
   {
    "duration": 46,
    "start_time": "2022-04-25T07:55:46.396Z"
   },
   {
    "duration": 11,
    "start_time": "2022-04-25T07:55:46.445Z"
   },
   {
    "duration": 40,
    "start_time": "2022-04-25T07:55:46.458Z"
   },
   {
    "duration": 25,
    "start_time": "2022-04-25T07:55:46.501Z"
   },
   {
    "duration": 43,
    "start_time": "2022-04-25T07:55:46.528Z"
   },
   {
    "duration": 14,
    "start_time": "2022-04-25T07:55:46.574Z"
   },
   {
    "duration": 14,
    "start_time": "2022-04-25T07:55:46.590Z"
   },
   {
    "duration": 24,
    "start_time": "2022-04-25T07:55:46.634Z"
   },
   {
    "duration": 15,
    "start_time": "2022-04-25T07:55:46.660Z"
   },
   {
    "duration": 75,
    "start_time": "2022-04-25T07:55:46.678Z"
   },
   {
    "duration": 39,
    "start_time": "2022-04-25T07:55:46.756Z"
   },
   {
    "duration": 31,
    "start_time": "2022-04-25T07:55:46.797Z"
   },
   {
    "duration": 12,
    "start_time": "2022-04-25T07:55:46.833Z"
   },
   {
    "duration": 6,
    "start_time": "2022-04-25T07:55:46.847Z"
   },
   {
    "duration": 34,
    "start_time": "2022-04-25T07:55:46.855Z"
   },
   {
    "duration": 291,
    "start_time": "2022-04-25T07:55:46.891Z"
   },
   {
    "duration": 6,
    "start_time": "2022-04-25T07:55:47.184Z"
   },
   {
    "duration": 57,
    "start_time": "2022-04-25T07:55:47.193Z"
   },
   {
    "duration": 27,
    "start_time": "2022-04-25T07:55:47.253Z"
   },
   {
    "duration": 10,
    "start_time": "2022-04-25T07:55:47.283Z"
   },
   {
    "duration": 319,
    "start_time": "2022-04-25T07:55:47.296Z"
   },
   {
    "duration": 205,
    "start_time": "2022-04-25T07:55:47.625Z"
   },
   {
    "duration": 301,
    "start_time": "2022-04-25T07:55:47.834Z"
   },
   {
    "duration": 86,
    "start_time": "2022-04-25T07:55:48.150Z"
   },
   {
    "duration": 15,
    "start_time": "2022-04-25T07:55:48.238Z"
   },
   {
    "duration": 261,
    "start_time": "2022-04-25T07:55:48.255Z"
   },
   {
    "duration": 249,
    "start_time": "2022-04-25T07:55:48.518Z"
   },
   {
    "duration": 15,
    "start_time": "2022-04-25T07:55:48.769Z"
   },
   {
    "duration": 257,
    "start_time": "2022-04-25T07:55:48.786Z"
   },
   {
    "duration": 229,
    "start_time": "2022-04-25T07:55:49.045Z"
   },
   {
    "duration": 15,
    "start_time": "2022-04-25T07:55:49.276Z"
   },
   {
    "duration": 264,
    "start_time": "2022-04-25T07:55:49.293Z"
   },
   {
    "duration": 249,
    "start_time": "2022-04-25T07:55:49.559Z"
   },
   {
    "duration": 16,
    "start_time": "2022-04-25T07:55:49.810Z"
   },
   {
    "duration": 43,
    "start_time": "2022-04-25T07:55:49.828Z"
   },
   {
    "duration": 11,
    "start_time": "2022-04-25T07:55:49.874Z"
   },
   {
    "duration": 12,
    "start_time": "2022-04-25T07:55:49.887Z"
   },
   {
    "duration": 28,
    "start_time": "2022-04-25T07:55:49.901Z"
   },
   {
    "duration": 21,
    "start_time": "2022-04-25T07:55:49.936Z"
   },
   {
    "duration": 12,
    "start_time": "2022-04-25T07:55:49.959Z"
   },
   {
    "duration": 11,
    "start_time": "2022-04-25T07:55:49.973Z"
   },
   {
    "duration": 14,
    "start_time": "2022-04-25T07:55:49.986Z"
   },
   {
    "duration": 9,
    "start_time": "2022-04-25T07:55:50.003Z"
   },
   {
    "duration": 26,
    "start_time": "2022-04-25T07:55:50.014Z"
   },
   {
    "duration": 10,
    "start_time": "2022-04-25T07:55:50.042Z"
   },
   {
    "duration": 9,
    "start_time": "2022-04-25T07:55:50.055Z"
   },
   {
    "duration": 13,
    "start_time": "2022-04-25T07:55:50.067Z"
   },
   {
    "duration": 8,
    "start_time": "2022-04-25T07:55:50.082Z"
   },
   {
    "duration": 7,
    "start_time": "2022-04-25T08:03:36.353Z"
   },
   {
    "duration": 2417,
    "start_time": "2022-04-25T08:03:38.073Z"
   },
   {
    "duration": 6,
    "start_time": "2022-04-25T08:03:40.493Z"
   },
   {
    "duration": 35,
    "start_time": "2022-04-25T08:03:40.502Z"
   },
   {
    "duration": 1491,
    "start_time": "2022-04-25T08:04:16.768Z"
   },
   {
    "duration": 2682,
    "start_time": "2022-04-25T08:04:18.262Z"
   },
   {
    "duration": 20,
    "start_time": "2022-04-25T08:04:20.947Z"
   },
   {
    "duration": 19,
    "start_time": "2022-04-25T08:04:20.970Z"
   },
   {
    "duration": 44,
    "start_time": "2022-04-25T08:04:20.994Z"
   },
   {
    "duration": 36,
    "start_time": "2022-04-25T08:04:21.043Z"
   },
   {
    "duration": 10,
    "start_time": "2022-04-25T08:04:21.081Z"
   },
   {
    "duration": 63,
    "start_time": "2022-04-25T08:04:21.094Z"
   },
   {
    "duration": 15,
    "start_time": "2022-04-25T08:04:21.160Z"
   },
   {
    "duration": 84,
    "start_time": "2022-04-25T08:04:21.178Z"
   },
   {
    "duration": 18,
    "start_time": "2022-04-25T08:04:21.265Z"
   },
   {
    "duration": 28,
    "start_time": "2022-04-25T08:04:21.286Z"
   },
   {
    "duration": 363,
    "start_time": "2022-04-25T08:04:21.324Z"
   },
   {
    "duration": 58,
    "start_time": "2022-04-25T08:04:21.692Z"
   },
   {
    "duration": 16,
    "start_time": "2022-04-25T08:04:21.753Z"
   },
   {
    "duration": 377,
    "start_time": "2022-04-25T08:04:21.773Z"
   },
   {
    "duration": 35,
    "start_time": "2022-04-25T08:04:22.153Z"
   },
   {
    "duration": 70,
    "start_time": "2022-04-25T08:04:22.191Z"
   },
   {
    "duration": 103,
    "start_time": "2022-04-25T08:04:22.263Z"
   },
   {
    "duration": 337,
    "start_time": "2022-04-25T08:04:22.369Z"
   },
   {
    "duration": 3,
    "start_time": "2022-04-25T08:04:22.708Z"
   },
   {
    "duration": 330,
    "start_time": "2022-04-25T08:04:22.725Z"
   },
   {
    "duration": 22,
    "start_time": "2022-04-25T08:04:23.058Z"
   },
   {
    "duration": 73,
    "start_time": "2022-04-25T08:04:23.082Z"
   },
   {
    "duration": 351,
    "start_time": "2022-04-25T08:04:23.158Z"
   },
   {
    "duration": 3,
    "start_time": "2022-04-25T08:04:23.511Z"
   },
   {
    "duration": 8,
    "start_time": "2022-04-25T08:04:23.531Z"
   },
   {
    "duration": 2402,
    "start_time": "2022-04-25T08:04:23.542Z"
   },
   {
    "duration": 6,
    "start_time": "2022-04-25T08:04:25.946Z"
   },
   {
    "duration": 37,
    "start_time": "2022-04-25T08:04:25.954Z"
   },
   {
    "duration": 41,
    "start_time": "2022-04-25T08:04:25.994Z"
   },
   {
    "duration": 24,
    "start_time": "2022-04-25T08:04:26.038Z"
   },
   {
    "duration": 31,
    "start_time": "2022-04-25T08:04:26.064Z"
   },
   {
    "duration": 258,
    "start_time": "2022-04-25T08:04:26.098Z"
   },
   {
    "duration": 31,
    "start_time": "2022-04-25T08:04:26.358Z"
   },
   {
    "duration": 35,
    "start_time": "2022-04-25T08:04:26.391Z"
   },
   {
    "duration": 53,
    "start_time": "2022-04-25T08:04:26.428Z"
   },
   {
    "duration": 44,
    "start_time": "2022-04-25T08:04:26.484Z"
   },
   {
    "duration": 2346,
    "start_time": "2022-04-25T08:04:26.533Z"
   },
   {
    "duration": 0,
    "start_time": "2022-04-25T08:04:28.884Z"
   },
   {
    "duration": 0,
    "start_time": "2022-04-25T08:04:28.886Z"
   },
   {
    "duration": 0,
    "start_time": "2022-04-25T08:04:28.888Z"
   },
   {
    "duration": 0,
    "start_time": "2022-04-25T08:04:28.889Z"
   },
   {
    "duration": 0,
    "start_time": "2022-04-25T08:04:28.890Z"
   },
   {
    "duration": 0,
    "start_time": "2022-04-25T08:04:28.893Z"
   },
   {
    "duration": 0,
    "start_time": "2022-04-25T08:04:28.894Z"
   },
   {
    "duration": 0,
    "start_time": "2022-04-25T08:04:28.896Z"
   },
   {
    "duration": 0,
    "start_time": "2022-04-25T08:04:28.897Z"
   },
   {
    "duration": 0,
    "start_time": "2022-04-25T08:04:28.899Z"
   },
   {
    "duration": 0,
    "start_time": "2022-04-25T08:04:28.900Z"
   },
   {
    "duration": 0,
    "start_time": "2022-04-25T08:04:28.901Z"
   },
   {
    "duration": 0,
    "start_time": "2022-04-25T08:04:28.903Z"
   },
   {
    "duration": 0,
    "start_time": "2022-04-25T08:04:28.905Z"
   },
   {
    "duration": 0,
    "start_time": "2022-04-25T08:04:28.906Z"
   },
   {
    "duration": 0,
    "start_time": "2022-04-25T08:04:28.907Z"
   },
   {
    "duration": 0,
    "start_time": "2022-04-25T08:04:28.909Z"
   },
   {
    "duration": 0,
    "start_time": "2022-04-25T08:04:28.910Z"
   },
   {
    "duration": 0,
    "start_time": "2022-04-25T08:04:28.911Z"
   },
   {
    "duration": 0,
    "start_time": "2022-04-25T08:04:28.913Z"
   },
   {
    "duration": 0,
    "start_time": "2022-04-25T08:04:28.915Z"
   },
   {
    "duration": 0,
    "start_time": "2022-04-25T08:04:28.916Z"
   },
   {
    "duration": 0,
    "start_time": "2022-04-25T08:04:28.918Z"
   },
   {
    "duration": 0,
    "start_time": "2022-04-25T08:04:28.919Z"
   },
   {
    "duration": 0,
    "start_time": "2022-04-25T08:04:28.928Z"
   },
   {
    "duration": 0,
    "start_time": "2022-04-25T08:04:28.929Z"
   },
   {
    "duration": 0,
    "start_time": "2022-04-25T08:04:28.931Z"
   },
   {
    "duration": 0,
    "start_time": "2022-04-25T08:04:28.932Z"
   },
   {
    "duration": 0,
    "start_time": "2022-04-25T08:04:28.936Z"
   },
   {
    "duration": 0,
    "start_time": "2022-04-25T08:04:28.938Z"
   },
   {
    "duration": 0,
    "start_time": "2022-04-25T08:04:28.947Z"
   },
   {
    "duration": 0,
    "start_time": "2022-04-25T08:04:28.952Z"
   },
   {
    "duration": 0,
    "start_time": "2022-04-25T08:04:28.953Z"
   },
   {
    "duration": 0,
    "start_time": "2022-04-25T08:04:28.955Z"
   },
   {
    "duration": 0,
    "start_time": "2022-04-25T08:04:28.956Z"
   },
   {
    "duration": 0,
    "start_time": "2022-04-25T08:04:28.957Z"
   },
   {
    "duration": 0,
    "start_time": "2022-04-25T08:04:28.958Z"
   },
   {
    "duration": 0,
    "start_time": "2022-04-25T08:04:28.960Z"
   },
   {
    "duration": 0,
    "start_time": "2022-04-25T08:04:28.961Z"
   },
   {
    "duration": 0,
    "start_time": "2022-04-25T08:04:28.963Z"
   },
   {
    "duration": 0,
    "start_time": "2022-04-25T08:04:28.964Z"
   },
   {
    "duration": 0,
    "start_time": "2022-04-25T08:04:28.966Z"
   },
   {
    "duration": 0,
    "start_time": "2022-04-25T08:04:28.967Z"
   },
   {
    "duration": 1714,
    "start_time": "2022-04-25T08:06:44.728Z"
   },
   {
    "duration": 2839,
    "start_time": "2022-04-25T08:06:46.445Z"
   },
   {
    "duration": 22,
    "start_time": "2022-04-25T08:06:49.286Z"
   },
   {
    "duration": 16,
    "start_time": "2022-04-25T08:06:49.310Z"
   },
   {
    "duration": 22,
    "start_time": "2022-04-25T08:06:49.330Z"
   },
   {
    "duration": 42,
    "start_time": "2022-04-25T08:06:49.356Z"
   },
   {
    "duration": 13,
    "start_time": "2022-04-25T08:06:49.427Z"
   },
   {
    "duration": 32,
    "start_time": "2022-04-25T08:06:49.442Z"
   },
   {
    "duration": 15,
    "start_time": "2022-04-25T08:06:49.477Z"
   },
   {
    "duration": 66,
    "start_time": "2022-04-25T08:06:49.495Z"
   },
   {
    "duration": 12,
    "start_time": "2022-04-25T08:06:49.563Z"
   },
   {
    "duration": 12,
    "start_time": "2022-04-25T08:06:49.577Z"
   },
   {
    "duration": 373,
    "start_time": "2022-04-25T08:06:49.625Z"
   },
   {
    "duration": 51,
    "start_time": "2022-04-25T08:06:50.005Z"
   },
   {
    "duration": 13,
    "start_time": "2022-04-25T08:06:50.059Z"
   },
   {
    "duration": 369,
    "start_time": "2022-04-25T08:06:50.075Z"
   },
   {
    "duration": 23,
    "start_time": "2022-04-25T08:06:50.446Z"
   },
   {
    "duration": 84,
    "start_time": "2022-04-25T08:06:50.471Z"
   },
   {
    "duration": 91,
    "start_time": "2022-04-25T08:06:50.557Z"
   },
   {
    "duration": 337,
    "start_time": "2022-04-25T08:06:50.651Z"
   },
   {
    "duration": 4,
    "start_time": "2022-04-25T08:06:50.990Z"
   },
   {
    "duration": 358,
    "start_time": "2022-04-25T08:06:50.996Z"
   },
   {
    "duration": 29,
    "start_time": "2022-04-25T08:06:51.358Z"
   },
   {
    "duration": 69,
    "start_time": "2022-04-25T08:06:51.389Z"
   },
   {
    "duration": 350,
    "start_time": "2022-04-25T08:06:51.460Z"
   },
   {
    "duration": 12,
    "start_time": "2022-04-25T08:06:51.812Z"
   },
   {
    "duration": 37,
    "start_time": "2022-04-25T08:06:51.826Z"
   },
   {
    "duration": 2405,
    "start_time": "2022-04-25T08:06:51.865Z"
   },
   {
    "duration": 6,
    "start_time": "2022-04-25T08:06:54.272Z"
   },
   {
    "duration": 19,
    "start_time": "2022-04-25T08:06:54.280Z"
   },
   {
    "duration": 42,
    "start_time": "2022-04-25T08:06:54.300Z"
   },
   {
    "duration": 18,
    "start_time": "2022-04-25T08:06:54.345Z"
   },
   {
    "duration": 19,
    "start_time": "2022-04-25T08:06:54.366Z"
   },
   {
    "duration": 281,
    "start_time": "2022-04-25T08:06:54.388Z"
   },
   {
    "duration": 59,
    "start_time": "2022-04-25T08:06:54.672Z"
   },
   {
    "duration": 12,
    "start_time": "2022-04-25T08:06:54.736Z"
   },
   {
    "duration": 34,
    "start_time": "2022-04-25T08:06:54.751Z"
   },
   {
    "duration": 3,
    "start_time": "2022-04-25T08:06:54.787Z"
   },
   {
    "duration": 58,
    "start_time": "2022-04-25T08:06:54.793Z"
   },
   {
    "duration": 12,
    "start_time": "2022-04-25T08:06:54.854Z"
   },
   {
    "duration": 51,
    "start_time": "2022-04-25T08:06:54.878Z"
   },
   {
    "duration": 16,
    "start_time": "2022-04-25T08:06:54.933Z"
   },
   {
    "duration": 23,
    "start_time": "2022-04-25T08:06:54.952Z"
   },
   {
    "duration": 60,
    "start_time": "2022-04-25T08:06:54.977Z"
   },
   {
    "duration": 31,
    "start_time": "2022-04-25T08:06:55.039Z"
   },
   {
    "duration": 70,
    "start_time": "2022-04-25T08:06:55.073Z"
   },
   {
    "duration": 8,
    "start_time": "2022-04-25T08:06:55.145Z"
   },
   {
    "duration": 18,
    "start_time": "2022-04-25T08:06:55.155Z"
   },
   {
    "duration": 6,
    "start_time": "2022-04-25T08:06:55.175Z"
   },
   {
    "duration": 71,
    "start_time": "2022-04-25T08:06:55.183Z"
   },
   {
    "duration": 200,
    "start_time": "2022-04-25T08:06:55.257Z"
   },
   {
    "duration": 6,
    "start_time": "2022-04-25T08:06:55.460Z"
   },
   {
    "duration": 35,
    "start_time": "2022-04-25T08:06:55.468Z"
   },
   {
    "duration": 28,
    "start_time": "2022-04-25T08:06:55.525Z"
   },
   {
    "duration": 8,
    "start_time": "2022-04-25T08:06:55.556Z"
   },
   {
    "duration": 316,
    "start_time": "2022-04-25T08:06:55.566Z"
   },
   {
    "duration": 228,
    "start_time": "2022-04-25T08:06:55.884Z"
   },
   {
    "duration": 251,
    "start_time": "2022-04-25T08:06:56.115Z"
   },
   {
    "duration": 93,
    "start_time": "2022-04-25T08:06:56.369Z"
   },
   {
    "duration": 16,
    "start_time": "2022-04-25T08:06:56.465Z"
   },
   {
    "duration": 326,
    "start_time": "2022-04-25T08:06:56.484Z"
   },
   {
    "duration": 287,
    "start_time": "2022-04-25T08:06:56.812Z"
   },
   {
    "duration": 30,
    "start_time": "2022-04-25T08:06:57.102Z"
   },
   {
    "duration": 262,
    "start_time": "2022-04-25T08:06:57.135Z"
   },
   {
    "duration": 251,
    "start_time": "2022-04-25T08:06:57.399Z"
   },
   {
    "duration": 19,
    "start_time": "2022-04-25T08:06:57.652Z"
   },
   {
    "duration": 282,
    "start_time": "2022-04-25T08:06:57.674Z"
   },
   {
    "duration": 252,
    "start_time": "2022-04-25T08:06:57.959Z"
   },
   {
    "duration": 12,
    "start_time": "2022-04-25T08:06:58.213Z"
   },
   {
    "duration": 56,
    "start_time": "2022-04-25T08:06:58.228Z"
   },
   {
    "duration": 10,
    "start_time": "2022-04-25T08:06:58.286Z"
   },
   {
    "duration": 46,
    "start_time": "2022-04-25T08:06:58.299Z"
   },
   {
    "duration": 10,
    "start_time": "2022-04-25T08:06:58.348Z"
   },
   {
    "duration": 7,
    "start_time": "2022-04-25T08:06:58.360Z"
   },
   {
    "duration": 7,
    "start_time": "2022-04-25T08:06:58.369Z"
   },
   {
    "duration": 8,
    "start_time": "2022-04-25T08:06:58.379Z"
   },
   {
    "duration": 37,
    "start_time": "2022-04-25T08:06:58.389Z"
   },
   {
    "duration": 24,
    "start_time": "2022-04-25T08:06:58.430Z"
   },
   {
    "duration": 23,
    "start_time": "2022-04-25T08:06:58.457Z"
   },
   {
    "duration": 13,
    "start_time": "2022-04-25T08:06:58.482Z"
   },
   {
    "duration": 28,
    "start_time": "2022-04-25T08:06:58.498Z"
   },
   {
    "duration": 6,
    "start_time": "2022-04-25T08:06:58.531Z"
   },
   {
    "duration": 17,
    "start_time": "2022-04-25T08:06:58.542Z"
   },
   {
    "duration": 21,
    "start_time": "2022-04-25T08:18:11.477Z"
   },
   {
    "duration": 1649,
    "start_time": "2022-04-25T08:19:29.031Z"
   },
   {
    "duration": 1337,
    "start_time": "2022-04-25T08:19:30.683Z"
   },
   {
    "duration": 22,
    "start_time": "2022-04-25T08:19:32.022Z"
   },
   {
    "duration": 19,
    "start_time": "2022-04-25T08:19:32.046Z"
   },
   {
    "duration": 25,
    "start_time": "2022-04-25T08:19:32.068Z"
   },
   {
    "duration": 64,
    "start_time": "2022-04-25T08:19:32.095Z"
   },
   {
    "duration": 11,
    "start_time": "2022-04-25T08:19:32.161Z"
   },
   {
    "duration": 56,
    "start_time": "2022-04-25T08:19:32.174Z"
   },
   {
    "duration": 12,
    "start_time": "2022-04-25T08:19:32.232Z"
   },
   {
    "duration": 38,
    "start_time": "2022-04-25T08:19:32.246Z"
   },
   {
    "duration": 39,
    "start_time": "2022-04-25T08:19:32.286Z"
   },
   {
    "duration": 4,
    "start_time": "2022-04-25T08:19:32.327Z"
   },
   {
    "duration": 375,
    "start_time": "2022-04-25T08:19:32.333Z"
   },
   {
    "duration": 63,
    "start_time": "2022-04-25T08:19:32.713Z"
   },
   {
    "duration": 14,
    "start_time": "2022-04-25T08:19:32.778Z"
   },
   {
    "duration": 355,
    "start_time": "2022-04-25T08:19:32.795Z"
   },
   {
    "duration": 25,
    "start_time": "2022-04-25T08:19:33.152Z"
   },
   {
    "duration": 67,
    "start_time": "2022-04-25T08:19:33.179Z"
   },
   {
    "duration": 98,
    "start_time": "2022-04-25T08:19:33.249Z"
   },
   {
    "duration": 337,
    "start_time": "2022-04-25T08:19:33.349Z"
   },
   {
    "duration": 3,
    "start_time": "2022-04-25T08:19:33.688Z"
   },
   {
    "duration": 336,
    "start_time": "2022-04-25T08:19:33.693Z"
   },
   {
    "duration": 24,
    "start_time": "2022-04-25T08:19:34.031Z"
   },
   {
    "duration": 34,
    "start_time": "2022-04-25T08:19:34.057Z"
   },
   {
    "duration": 369,
    "start_time": "2022-04-25T08:19:34.093Z"
   },
   {
    "duration": 4,
    "start_time": "2022-04-25T08:19:34.464Z"
   },
   {
    "duration": 8,
    "start_time": "2022-04-25T08:19:34.470Z"
   },
   {
    "duration": 197,
    "start_time": "2022-04-25T08:19:34.481Z"
   },
   {
    "duration": 0,
    "start_time": "2022-04-25T08:19:34.683Z"
   },
   {
    "duration": 0,
    "start_time": "2022-04-25T08:19:34.685Z"
   },
   {
    "duration": 0,
    "start_time": "2022-04-25T08:19:34.686Z"
   },
   {
    "duration": 0,
    "start_time": "2022-04-25T08:19:34.688Z"
   },
   {
    "duration": 0,
    "start_time": "2022-04-25T08:19:34.689Z"
   },
   {
    "duration": 0,
    "start_time": "2022-04-25T08:19:34.691Z"
   },
   {
    "duration": 0,
    "start_time": "2022-04-25T08:19:34.692Z"
   },
   {
    "duration": 0,
    "start_time": "2022-04-25T08:19:34.694Z"
   },
   {
    "duration": 0,
    "start_time": "2022-04-25T08:19:34.695Z"
   },
   {
    "duration": 0,
    "start_time": "2022-04-25T08:19:34.725Z"
   },
   {
    "duration": 0,
    "start_time": "2022-04-25T08:19:34.727Z"
   },
   {
    "duration": 0,
    "start_time": "2022-04-25T08:19:34.728Z"
   },
   {
    "duration": 0,
    "start_time": "2022-04-25T08:19:34.730Z"
   },
   {
    "duration": 0,
    "start_time": "2022-04-25T08:19:34.732Z"
   },
   {
    "duration": 0,
    "start_time": "2022-04-25T08:19:34.733Z"
   },
   {
    "duration": 0,
    "start_time": "2022-04-25T08:19:34.734Z"
   },
   {
    "duration": 0,
    "start_time": "2022-04-25T08:19:34.736Z"
   },
   {
    "duration": 0,
    "start_time": "2022-04-25T08:19:34.737Z"
   },
   {
    "duration": 0,
    "start_time": "2022-04-25T08:19:34.739Z"
   },
   {
    "duration": 0,
    "start_time": "2022-04-25T08:19:34.740Z"
   },
   {
    "duration": 0,
    "start_time": "2022-04-25T08:19:34.742Z"
   },
   {
    "duration": 0,
    "start_time": "2022-04-25T08:19:34.743Z"
   },
   {
    "duration": 0,
    "start_time": "2022-04-25T08:19:34.745Z"
   },
   {
    "duration": 0,
    "start_time": "2022-04-25T08:19:34.747Z"
   },
   {
    "duration": 0,
    "start_time": "2022-04-25T08:19:34.748Z"
   },
   {
    "duration": 0,
    "start_time": "2022-04-25T08:19:34.749Z"
   },
   {
    "duration": 0,
    "start_time": "2022-04-25T08:19:34.751Z"
   },
   {
    "duration": 0,
    "start_time": "2022-04-25T08:19:34.753Z"
   },
   {
    "duration": 0,
    "start_time": "2022-04-25T08:19:34.755Z"
   },
   {
    "duration": 0,
    "start_time": "2022-04-25T08:19:34.757Z"
   },
   {
    "duration": 0,
    "start_time": "2022-04-25T08:19:34.759Z"
   },
   {
    "duration": 0,
    "start_time": "2022-04-25T08:19:34.760Z"
   },
   {
    "duration": 0,
    "start_time": "2022-04-25T08:19:34.762Z"
   },
   {
    "duration": 0,
    "start_time": "2022-04-25T08:19:34.763Z"
   },
   {
    "duration": 0,
    "start_time": "2022-04-25T08:19:34.826Z"
   },
   {
    "duration": 0,
    "start_time": "2022-04-25T08:19:34.827Z"
   },
   {
    "duration": 0,
    "start_time": "2022-04-25T08:19:34.830Z"
   },
   {
    "duration": 0,
    "start_time": "2022-04-25T08:19:34.832Z"
   },
   {
    "duration": 0,
    "start_time": "2022-04-25T08:19:34.834Z"
   },
   {
    "duration": 0,
    "start_time": "2022-04-25T08:19:34.836Z"
   },
   {
    "duration": 0,
    "start_time": "2022-04-25T08:19:34.838Z"
   },
   {
    "duration": 0,
    "start_time": "2022-04-25T08:19:34.840Z"
   },
   {
    "duration": 0,
    "start_time": "2022-04-25T08:19:34.842Z"
   },
   {
    "duration": 0,
    "start_time": "2022-04-25T08:19:34.844Z"
   },
   {
    "duration": 0,
    "start_time": "2022-04-25T08:19:34.846Z"
   },
   {
    "duration": 0,
    "start_time": "2022-04-25T08:19:34.849Z"
   },
   {
    "duration": 0,
    "start_time": "2022-04-25T08:19:34.851Z"
   },
   {
    "duration": 0,
    "start_time": "2022-04-25T08:19:34.853Z"
   },
   {
    "duration": 0,
    "start_time": "2022-04-25T08:19:34.855Z"
   },
   {
    "duration": 0,
    "start_time": "2022-04-25T08:19:34.857Z"
   },
   {
    "duration": 0,
    "start_time": "2022-04-25T08:19:34.859Z"
   },
   {
    "duration": 0,
    "start_time": "2022-04-25T08:19:34.861Z"
   },
   {
    "duration": 0,
    "start_time": "2022-04-25T08:19:34.929Z"
   },
   {
    "duration": 0,
    "start_time": "2022-04-25T08:19:34.931Z"
   },
   {
    "duration": 0,
    "start_time": "2022-04-25T08:19:34.932Z"
   },
   {
    "duration": 0,
    "start_time": "2022-04-25T08:19:34.934Z"
   },
   {
    "duration": 1475,
    "start_time": "2022-04-25T08:20:28.029Z"
   },
   {
    "duration": 1094,
    "start_time": "2022-04-25T08:20:29.508Z"
   },
   {
    "duration": 20,
    "start_time": "2022-04-25T08:20:30.604Z"
   },
   {
    "duration": 18,
    "start_time": "2022-04-25T08:20:30.626Z"
   },
   {
    "duration": 28,
    "start_time": "2022-04-25T08:20:30.648Z"
   },
   {
    "duration": 61,
    "start_time": "2022-04-25T08:20:30.678Z"
   },
   {
    "duration": 10,
    "start_time": "2022-04-25T08:20:30.741Z"
   },
   {
    "duration": 45,
    "start_time": "2022-04-25T08:20:30.754Z"
   },
   {
    "duration": 42,
    "start_time": "2022-04-25T08:20:30.801Z"
   },
   {
    "duration": 53,
    "start_time": "2022-04-25T08:20:30.846Z"
   },
   {
    "duration": 28,
    "start_time": "2022-04-25T08:20:30.902Z"
   },
   {
    "duration": 10,
    "start_time": "2022-04-25T08:20:30.932Z"
   },
   {
    "duration": 363,
    "start_time": "2022-04-25T08:20:30.944Z"
   },
   {
    "duration": 31,
    "start_time": "2022-04-25T08:20:31.312Z"
   },
   {
    "duration": 50,
    "start_time": "2022-04-25T08:20:31.345Z"
   },
   {
    "duration": 368,
    "start_time": "2022-04-25T08:20:31.397Z"
   },
   {
    "duration": 24,
    "start_time": "2022-04-25T08:20:31.768Z"
   },
   {
    "duration": 63,
    "start_time": "2022-04-25T08:20:31.795Z"
   },
   {
    "duration": 107,
    "start_time": "2022-04-25T08:20:31.861Z"
   },
   {
    "duration": 333,
    "start_time": "2022-04-25T08:20:31.970Z"
   },
   {
    "duration": 4,
    "start_time": "2022-04-25T08:20:32.305Z"
   },
   {
    "duration": 337,
    "start_time": "2022-04-25T08:20:32.311Z"
   },
   {
    "duration": 24,
    "start_time": "2022-04-25T08:20:32.650Z"
   },
   {
    "duration": 60,
    "start_time": "2022-04-25T08:20:32.677Z"
   },
   {
    "duration": 356,
    "start_time": "2022-04-25T08:20:32.740Z"
   },
   {
    "duration": 6,
    "start_time": "2022-04-25T08:20:33.098Z"
   },
   {
    "duration": 2370,
    "start_time": "2022-04-25T08:20:33.107Z"
   },
   {
    "duration": 5,
    "start_time": "2022-04-25T08:20:35.480Z"
   },
   {
    "duration": 38,
    "start_time": "2022-04-25T08:20:35.488Z"
   },
   {
    "duration": 18,
    "start_time": "2022-04-25T08:20:35.528Z"
   },
   {
    "duration": 14,
    "start_time": "2022-04-25T08:20:35.548Z"
   },
   {
    "duration": 20,
    "start_time": "2022-04-25T08:20:35.565Z"
   },
   {
    "duration": 274,
    "start_time": "2022-04-25T08:20:35.587Z"
   },
   {
    "duration": 32,
    "start_time": "2022-04-25T08:20:35.863Z"
   },
   {
    "duration": 36,
    "start_time": "2022-04-25T08:20:35.897Z"
   },
   {
    "duration": 58,
    "start_time": "2022-04-25T08:20:35.935Z"
   },
   {
    "duration": 4,
    "start_time": "2022-04-25T08:20:35.995Z"
   },
   {
    "duration": 37,
    "start_time": "2022-04-25T08:20:36.001Z"
   },
   {
    "duration": 11,
    "start_time": "2022-04-25T08:20:36.041Z"
   },
   {
    "duration": 15,
    "start_time": "2022-04-25T08:20:36.054Z"
   },
   {
    "duration": 51,
    "start_time": "2022-04-25T08:20:36.076Z"
   },
   {
    "duration": 27,
    "start_time": "2022-04-25T08:20:36.129Z"
   },
   {
    "duration": 15,
    "start_time": "2022-04-25T08:20:36.158Z"
   },
   {
    "duration": 66,
    "start_time": "2022-04-25T08:20:36.175Z"
   },
   {
    "duration": 38,
    "start_time": "2022-04-25T08:20:36.244Z"
   },
   {
    "duration": 7,
    "start_time": "2022-04-25T08:20:36.285Z"
   },
   {
    "duration": 41,
    "start_time": "2022-04-25T08:20:36.294Z"
   },
   {
    "duration": 6,
    "start_time": "2022-04-25T08:20:36.338Z"
   },
   {
    "duration": 44,
    "start_time": "2022-04-25T08:20:36.346Z"
   },
   {
    "duration": 217,
    "start_time": "2022-04-25T08:20:36.392Z"
   },
   {
    "duration": 13,
    "start_time": "2022-04-25T08:20:36.611Z"
   },
   {
    "duration": 36,
    "start_time": "2022-04-25T08:20:36.626Z"
   },
   {
    "duration": 23,
    "start_time": "2022-04-25T08:20:36.664Z"
   },
   {
    "duration": 41,
    "start_time": "2022-04-25T08:20:36.689Z"
   },
   {
    "duration": 307,
    "start_time": "2022-04-25T08:20:36.733Z"
   },
   {
    "duration": 225,
    "start_time": "2022-04-25T08:20:37.043Z"
   },
   {
    "duration": 244,
    "start_time": "2022-04-25T08:20:37.270Z"
   },
   {
    "duration": 76,
    "start_time": "2022-04-25T08:20:37.516Z"
   },
   {
    "duration": 36,
    "start_time": "2022-04-25T08:20:37.594Z"
   },
   {
    "duration": 251,
    "start_time": "2022-04-25T08:20:37.632Z"
   },
   {
    "duration": 259,
    "start_time": "2022-04-25T08:20:37.885Z"
   },
   {
    "duration": 15,
    "start_time": "2022-04-25T08:20:38.147Z"
   },
   {
    "duration": 263,
    "start_time": "2022-04-25T08:20:38.164Z"
   },
   {
    "duration": 240,
    "start_time": "2022-04-25T08:20:38.429Z"
   },
   {
    "duration": 15,
    "start_time": "2022-04-25T08:20:38.672Z"
   },
   {
    "duration": 271,
    "start_time": "2022-04-25T08:20:38.689Z"
   },
   {
    "duration": 249,
    "start_time": "2022-04-25T08:20:38.962Z"
   },
   {
    "duration": 15,
    "start_time": "2022-04-25T08:20:39.213Z"
   },
   {
    "duration": 39,
    "start_time": "2022-04-25T08:20:39.230Z"
   },
   {
    "duration": 60,
    "start_time": "2022-04-25T08:20:39.271Z"
   },
   {
    "duration": 29,
    "start_time": "2022-04-25T08:20:39.333Z"
   },
   {
    "duration": 10,
    "start_time": "2022-04-25T08:20:39.364Z"
   },
   {
    "duration": 8,
    "start_time": "2022-04-25T08:20:39.376Z"
   },
   {
    "duration": 23,
    "start_time": "2022-04-25T08:20:39.387Z"
   },
   {
    "duration": 13,
    "start_time": "2022-04-25T08:20:39.412Z"
   },
   {
    "duration": 55,
    "start_time": "2022-04-25T08:20:39.427Z"
   },
   {
    "duration": 9,
    "start_time": "2022-04-25T08:20:39.484Z"
   },
   {
    "duration": 11,
    "start_time": "2022-04-25T08:20:39.496Z"
   },
   {
    "duration": 8,
    "start_time": "2022-04-25T08:20:39.510Z"
   },
   {
    "duration": 15,
    "start_time": "2022-04-25T08:20:39.521Z"
   },
   {
    "duration": 10,
    "start_time": "2022-04-25T08:20:39.539Z"
   },
   {
    "duration": 11,
    "start_time": "2022-04-25T08:20:39.551Z"
   },
   {
    "duration": 1517,
    "start_time": "2022-04-25T08:25:32.334Z"
   },
   {
    "duration": 2730,
    "start_time": "2022-04-25T08:25:33.854Z"
   },
   {
    "duration": 24,
    "start_time": "2022-04-25T08:25:36.587Z"
   },
   {
    "duration": 22,
    "start_time": "2022-04-25T08:25:36.613Z"
   },
   {
    "duration": 20,
    "start_time": "2022-04-25T08:25:36.638Z"
   },
   {
    "duration": 68,
    "start_time": "2022-04-25T08:25:36.660Z"
   },
   {
    "duration": 13,
    "start_time": "2022-04-25T08:25:36.731Z"
   },
   {
    "duration": 36,
    "start_time": "2022-04-25T08:25:36.747Z"
   },
   {
    "duration": 49,
    "start_time": "2022-04-25T08:25:36.786Z"
   },
   {
    "duration": 39,
    "start_time": "2022-04-25T08:25:36.838Z"
   },
   {
    "duration": 14,
    "start_time": "2022-04-25T08:25:36.880Z"
   },
   {
    "duration": 6,
    "start_time": "2022-04-25T08:25:36.924Z"
   },
   {
    "duration": 508,
    "start_time": "2022-04-25T08:25:36.933Z"
   },
   {
    "duration": 52,
    "start_time": "2022-04-25T08:25:37.446Z"
   },
   {
    "duration": 13,
    "start_time": "2022-04-25T08:25:37.500Z"
   },
   {
    "duration": 351,
    "start_time": "2022-04-25T08:25:37.516Z"
   },
   {
    "duration": 26,
    "start_time": "2022-04-25T08:25:37.870Z"
   },
   {
    "duration": 64,
    "start_time": "2022-04-25T08:25:37.899Z"
   },
   {
    "duration": 119,
    "start_time": "2022-04-25T08:25:37.965Z"
   },
   {
    "duration": 333,
    "start_time": "2022-04-25T08:25:38.086Z"
   },
   {
    "duration": 3,
    "start_time": "2022-04-25T08:25:38.424Z"
   },
   {
    "duration": 418,
    "start_time": "2022-04-25T08:25:38.430Z"
   },
   {
    "duration": 31,
    "start_time": "2022-04-25T08:25:38.850Z"
   },
   {
    "duration": 78,
    "start_time": "2022-04-25T08:25:38.884Z"
   },
   {
    "duration": 481,
    "start_time": "2022-04-25T08:25:38.965Z"
   },
   {
    "duration": 6,
    "start_time": "2022-04-25T08:25:39.449Z"
   },
   {
    "duration": 3531,
    "start_time": "2022-04-25T08:25:39.458Z"
   },
   {
    "duration": 6,
    "start_time": "2022-04-25T08:25:42.992Z"
   },
   {
    "duration": 35,
    "start_time": "2022-04-25T08:25:43.001Z"
   },
   {
    "duration": 17,
    "start_time": "2022-04-25T08:25:43.039Z"
   },
   {
    "duration": 15,
    "start_time": "2022-04-25T08:25:43.058Z"
   },
   {
    "duration": 59,
    "start_time": "2022-04-25T08:25:43.076Z"
   },
   {
    "duration": 311,
    "start_time": "2022-04-25T08:25:43.138Z"
   },
   {
    "duration": 44,
    "start_time": "2022-04-25T08:25:43.452Z"
   },
   {
    "duration": 38,
    "start_time": "2022-04-25T08:25:43.499Z"
   },
   {
    "duration": 32,
    "start_time": "2022-04-25T08:25:43.540Z"
   },
   {
    "duration": 4,
    "start_time": "2022-04-25T08:25:43.574Z"
   },
   {
    "duration": 62,
    "start_time": "2022-04-25T08:25:43.580Z"
   },
   {
    "duration": 13,
    "start_time": "2022-04-25T08:25:43.644Z"
   },
   {
    "duration": 148,
    "start_time": "2022-04-25T08:25:43.659Z"
   },
   {
    "duration": 13,
    "start_time": "2022-04-25T08:25:43.816Z"
   },
   {
    "duration": 16,
    "start_time": "2022-04-25T08:25:43.831Z"
   },
   {
    "duration": 18,
    "start_time": "2022-04-25T08:25:43.849Z"
   },
   {
    "duration": 62,
    "start_time": "2022-04-25T08:25:43.869Z"
   },
   {
    "duration": 19,
    "start_time": "2022-04-25T08:25:43.934Z"
   },
   {
    "duration": 69,
    "start_time": "2022-04-25T08:25:43.956Z"
   },
   {
    "duration": 41,
    "start_time": "2022-04-25T08:25:44.028Z"
   },
   {
    "duration": 9,
    "start_time": "2022-04-25T08:25:44.072Z"
   },
   {
    "duration": 49,
    "start_time": "2022-04-25T08:25:44.084Z"
   },
   {
    "duration": 5,
    "start_time": "2022-04-25T08:25:44.136Z"
   },
   {
    "duration": 35,
    "start_time": "2022-04-25T08:25:44.144Z"
   },
   {
    "duration": 189,
    "start_time": "2022-04-25T08:25:44.225Z"
   },
   {
    "duration": 7,
    "start_time": "2022-04-25T08:25:44.417Z"
   },
   {
    "duration": 50,
    "start_time": "2022-04-25T08:25:44.427Z"
   },
   {
    "duration": 31,
    "start_time": "2022-04-25T08:25:44.480Z"
   },
   {
    "duration": 10,
    "start_time": "2022-04-25T08:25:44.526Z"
   },
   {
    "duration": 312,
    "start_time": "2022-04-25T08:25:44.539Z"
   },
   {
    "duration": 218,
    "start_time": "2022-04-25T08:25:44.854Z"
   },
   {
    "duration": 239,
    "start_time": "2022-04-25T08:25:45.075Z"
   },
   {
    "duration": 74,
    "start_time": "2022-04-25T08:25:45.317Z"
   },
   {
    "duration": 36,
    "start_time": "2022-04-25T08:25:45.394Z"
   },
   {
    "duration": 244,
    "start_time": "2022-04-25T08:25:45.432Z"
   },
   {
    "duration": 261,
    "start_time": "2022-04-25T08:25:45.678Z"
   },
   {
    "duration": 16,
    "start_time": "2022-04-25T08:25:45.941Z"
   },
   {
    "duration": 271,
    "start_time": "2022-04-25T08:25:45.960Z"
   },
   {
    "duration": 325,
    "start_time": "2022-04-25T08:25:46.234Z"
   },
   {
    "duration": 17,
    "start_time": "2022-04-25T08:25:46.561Z"
   },
   {
    "duration": 272,
    "start_time": "2022-04-25T08:25:46.580Z"
   },
   {
    "duration": 244,
    "start_time": "2022-04-25T08:25:46.855Z"
   },
   {
    "duration": 7,
    "start_time": "2022-04-25T08:25:47.102Z"
   },
   {
    "duration": 45,
    "start_time": "2022-04-25T08:25:47.112Z"
   },
   {
    "duration": 8,
    "start_time": "2022-04-25T08:25:47.160Z"
   },
   {
    "duration": 13,
    "start_time": "2022-04-25T08:25:47.171Z"
   },
   {
    "duration": 47,
    "start_time": "2022-04-25T08:25:47.186Z"
   },
   {
    "duration": 4,
    "start_time": "2022-04-25T08:25:47.236Z"
   },
   {
    "duration": 8,
    "start_time": "2022-04-25T08:25:47.243Z"
   },
   {
    "duration": 10,
    "start_time": "2022-04-25T08:25:47.253Z"
   },
   {
    "duration": 14,
    "start_time": "2022-04-25T08:25:47.265Z"
   },
   {
    "duration": 46,
    "start_time": "2022-04-25T08:25:47.282Z"
   },
   {
    "duration": 12,
    "start_time": "2022-04-25T08:25:47.330Z"
   },
   {
    "duration": 9,
    "start_time": "2022-04-25T08:25:47.345Z"
   },
   {
    "duration": 10,
    "start_time": "2022-04-25T08:25:47.357Z"
   },
   {
    "duration": 4,
    "start_time": "2022-04-25T08:25:47.369Z"
   },
   {
    "duration": 50,
    "start_time": "2022-04-25T08:25:47.376Z"
   },
   {
    "duration": 3102,
    "start_time": "2022-04-25T09:27:45.678Z"
   },
   {
    "duration": 3180,
    "start_time": "2022-04-25T09:27:48.782Z"
   },
   {
    "duration": 20,
    "start_time": "2022-04-25T09:27:51.964Z"
   },
   {
    "duration": 16,
    "start_time": "2022-04-25T09:27:51.987Z"
   },
   {
    "duration": 14,
    "start_time": "2022-04-25T09:27:52.005Z"
   },
   {
    "duration": 43,
    "start_time": "2022-04-25T09:27:52.024Z"
   },
   {
    "duration": 11,
    "start_time": "2022-04-25T09:27:52.070Z"
   },
   {
    "duration": 63,
    "start_time": "2022-04-25T09:27:52.084Z"
   },
   {
    "duration": 16,
    "start_time": "2022-04-25T09:27:52.150Z"
   },
   {
    "duration": 56,
    "start_time": "2022-04-25T09:27:52.171Z"
   },
   {
    "duration": 19,
    "start_time": "2022-04-25T09:27:52.230Z"
   },
   {
    "duration": 6,
    "start_time": "2022-04-25T09:27:52.251Z"
   },
   {
    "duration": 392,
    "start_time": "2022-04-25T09:27:52.260Z"
   },
   {
    "duration": 47,
    "start_time": "2022-04-25T09:27:52.655Z"
   },
   {
    "duration": 13,
    "start_time": "2022-04-25T09:27:52.705Z"
   },
   {
    "duration": 363,
    "start_time": "2022-04-25T09:27:52.724Z"
   },
   {
    "duration": 37,
    "start_time": "2022-04-25T09:27:53.089Z"
   },
   {
    "duration": 42,
    "start_time": "2022-04-25T09:27:53.135Z"
   },
   {
    "duration": 107,
    "start_time": "2022-04-25T09:27:53.179Z"
   },
   {
    "duration": 342,
    "start_time": "2022-04-25T09:27:53.288Z"
   },
   {
    "duration": 4,
    "start_time": "2022-04-25T09:27:53.633Z"
   },
   {
    "duration": 343,
    "start_time": "2022-04-25T09:27:53.640Z"
   },
   {
    "duration": 43,
    "start_time": "2022-04-25T09:27:53.985Z"
   },
   {
    "duration": 32,
    "start_time": "2022-04-25T09:27:54.031Z"
   },
   {
    "duration": 354,
    "start_time": "2022-04-25T09:27:54.065Z"
   },
   {
    "duration": 9,
    "start_time": "2022-04-25T09:27:54.421Z"
   },
   {
    "duration": 2294,
    "start_time": "2022-04-25T09:27:54.432Z"
   },
   {
    "duration": 11,
    "start_time": "2022-04-25T09:27:56.735Z"
   },
   {
    "duration": 18,
    "start_time": "2022-04-25T09:27:56.748Z"
   },
   {
    "duration": 15,
    "start_time": "2022-04-25T09:27:56.769Z"
   },
   {
    "duration": 56,
    "start_time": "2022-04-25T09:27:56.787Z"
   },
   {
    "duration": 23,
    "start_time": "2022-04-25T09:27:56.849Z"
   },
   {
    "duration": 261,
    "start_time": "2022-04-25T09:27:56.875Z"
   },
   {
    "duration": 34,
    "start_time": "2022-04-25T09:27:57.139Z"
   },
   {
    "duration": 11,
    "start_time": "2022-04-25T09:27:57.176Z"
   },
   {
    "duration": 72,
    "start_time": "2022-04-25T09:27:57.190Z"
   },
   {
    "duration": 3,
    "start_time": "2022-04-25T09:27:57.265Z"
   },
   {
    "duration": 59,
    "start_time": "2022-04-25T09:27:57.270Z"
   },
   {
    "duration": 15,
    "start_time": "2022-04-25T09:27:57.331Z"
   },
   {
    "duration": 9,
    "start_time": "2022-04-25T09:27:57.348Z"
   },
   {
    "duration": 16,
    "start_time": "2022-04-25T09:27:57.359Z"
   },
   {
    "duration": 20,
    "start_time": "2022-04-25T09:27:57.378Z"
   },
   {
    "duration": 16,
    "start_time": "2022-04-25T09:27:57.427Z"
   },
   {
    "duration": 35,
    "start_time": "2022-04-25T09:27:57.446Z"
   },
   {
    "duration": 27,
    "start_time": "2022-04-25T09:27:57.484Z"
   },
   {
    "duration": 23,
    "start_time": "2022-04-25T09:27:57.525Z"
   },
   {
    "duration": 31,
    "start_time": "2022-04-25T09:27:57.551Z"
   },
   {
    "duration": 74,
    "start_time": "2022-04-25T09:27:57.584Z"
   },
   {
    "duration": 7,
    "start_time": "2022-04-25T09:27:57.661Z"
   },
   {
    "duration": 13,
    "start_time": "2022-04-25T09:27:57.670Z"
   },
   {
    "duration": 42,
    "start_time": "2022-04-25T09:27:57.686Z"
   },
   {
    "duration": 47,
    "start_time": "2022-04-25T09:27:57.730Z"
   },
   {
    "duration": 208,
    "start_time": "2022-04-25T09:27:57.779Z"
   },
   {
    "duration": 5,
    "start_time": "2022-04-25T09:27:57.989Z"
   },
   {
    "duration": 51,
    "start_time": "2022-04-25T09:27:57.996Z"
   },
   {
    "duration": 23,
    "start_time": "2022-04-25T09:27:58.049Z"
   },
   {
    "duration": 10,
    "start_time": "2022-04-25T09:27:58.074Z"
   },
   {
    "duration": 323,
    "start_time": "2022-04-25T09:27:58.086Z"
   },
   {
    "duration": 241,
    "start_time": "2022-04-25T09:27:58.412Z"
   },
   {
    "duration": 261,
    "start_time": "2022-04-25T09:27:58.657Z"
   },
   {
    "duration": 76,
    "start_time": "2022-04-25T09:27:58.923Z"
   },
   {
    "duration": 40,
    "start_time": "2022-04-25T09:27:59.002Z"
   },
   {
    "duration": 269,
    "start_time": "2022-04-25T09:27:59.045Z"
   },
   {
    "duration": 258,
    "start_time": "2022-04-25T09:27:59.323Z"
   },
   {
    "duration": 15,
    "start_time": "2022-04-25T09:27:59.584Z"
   },
   {
    "duration": 275,
    "start_time": "2022-04-25T09:27:59.601Z"
   },
   {
    "duration": 248,
    "start_time": "2022-04-25T09:27:59.879Z"
   },
   {
    "duration": 18,
    "start_time": "2022-04-25T09:28:00.131Z"
   },
   {
    "duration": 274,
    "start_time": "2022-04-25T09:28:00.153Z"
   },
   {
    "duration": 253,
    "start_time": "2022-04-25T09:28:00.429Z"
   },
   {
    "duration": 8,
    "start_time": "2022-04-25T09:28:00.685Z"
   },
   {
    "duration": 60,
    "start_time": "2022-04-25T09:28:00.695Z"
   },
   {
    "duration": 9,
    "start_time": "2022-04-25T09:28:00.757Z"
   },
   {
    "duration": 13,
    "start_time": "2022-04-25T09:28:00.768Z"
   },
   {
    "duration": 142,
    "start_time": "2022-04-25T09:28:00.783Z"
   },
   {
    "duration": 31,
    "start_time": "2022-04-25T09:28:00.927Z"
   },
   {
    "duration": 18,
    "start_time": "2022-04-25T09:28:00.960Z"
   },
   {
    "duration": 27,
    "start_time": "2022-04-25T09:28:00.980Z"
   },
   {
    "duration": 33,
    "start_time": "2022-04-25T09:28:01.009Z"
   },
   {
    "duration": 60,
    "start_time": "2022-04-25T09:28:01.044Z"
   },
   {
    "duration": 37,
    "start_time": "2022-04-25T09:28:01.107Z"
   },
   {
    "duration": 31,
    "start_time": "2022-04-25T09:28:01.152Z"
   },
   {
    "duration": 27,
    "start_time": "2022-04-25T09:28:01.185Z"
   },
   {
    "duration": 32,
    "start_time": "2022-04-25T09:28:01.215Z"
   },
   {
    "duration": 36,
    "start_time": "2022-04-25T09:28:01.249Z"
   },
   {
    "duration": 1602,
    "start_time": "2022-04-25T09:44:55.898Z"
   },
   {
    "duration": 1288,
    "start_time": "2022-04-25T09:44:57.502Z"
   },
   {
    "duration": 20,
    "start_time": "2022-04-25T09:44:58.792Z"
   },
   {
    "duration": 19,
    "start_time": "2022-04-25T09:44:58.814Z"
   },
   {
    "duration": 38,
    "start_time": "2022-04-25T09:44:58.837Z"
   },
   {
    "duration": 38,
    "start_time": "2022-04-25T09:44:58.877Z"
   },
   {
    "duration": 28,
    "start_time": "2022-04-25T09:44:58.917Z"
   },
   {
    "duration": 44,
    "start_time": "2022-04-25T09:44:58.948Z"
   },
   {
    "duration": 12,
    "start_time": "2022-04-25T09:44:58.994Z"
   },
   {
    "duration": 48,
    "start_time": "2022-04-25T09:44:59.031Z"
   },
   {
    "duration": 13,
    "start_time": "2022-04-25T09:44:59.082Z"
   },
   {
    "duration": 38,
    "start_time": "2022-04-25T09:44:59.098Z"
   },
   {
    "duration": 486,
    "start_time": "2022-04-25T09:44:59.142Z"
   },
   {
    "duration": 45,
    "start_time": "2022-04-25T09:44:59.634Z"
   },
   {
    "duration": 14,
    "start_time": "2022-04-25T09:44:59.681Z"
   },
   {
    "duration": 476,
    "start_time": "2022-04-25T09:44:59.697Z"
   },
   {
    "duration": 24,
    "start_time": "2022-04-25T09:45:00.175Z"
   },
   {
    "duration": 81,
    "start_time": "2022-04-25T09:45:00.202Z"
   },
   {
    "duration": 113,
    "start_time": "2022-04-25T09:45:00.286Z"
   },
   {
    "duration": 360,
    "start_time": "2022-04-25T09:45:00.401Z"
   },
   {
    "duration": 4,
    "start_time": "2022-04-25T09:45:00.764Z"
   },
   {
    "duration": 431,
    "start_time": "2022-04-25T09:45:00.770Z"
   },
   {
    "duration": 56,
    "start_time": "2022-04-25T09:45:01.205Z"
   },
   {
    "duration": 66,
    "start_time": "2022-04-25T09:45:01.265Z"
   },
   {
    "duration": 397,
    "start_time": "2022-04-25T09:45:01.334Z"
   },
   {
    "duration": 7,
    "start_time": "2022-04-25T09:45:01.734Z"
   },
   {
    "duration": 2668,
    "start_time": "2022-04-25T09:45:01.745Z"
   },
   {
    "duration": 28,
    "start_time": "2022-04-25T09:45:04.415Z"
   },
   {
    "duration": 25,
    "start_time": "2022-04-25T09:45:04.455Z"
   },
   {
    "duration": 23,
    "start_time": "2022-04-25T09:45:04.483Z"
   },
   {
    "duration": 24,
    "start_time": "2022-04-25T09:45:04.510Z"
   },
   {
    "duration": 38,
    "start_time": "2022-04-25T09:45:04.537Z"
   },
   {
    "duration": 282,
    "start_time": "2022-04-25T09:45:04.578Z"
   },
   {
    "duration": 44,
    "start_time": "2022-04-25T09:45:04.863Z"
   },
   {
    "duration": 39,
    "start_time": "2022-04-25T09:45:04.910Z"
   },
   {
    "duration": 43,
    "start_time": "2022-04-25T09:45:04.952Z"
   },
   {
    "duration": 4,
    "start_time": "2022-04-25T09:45:04.997Z"
   },
   {
    "duration": 73,
    "start_time": "2022-04-25T09:45:05.003Z"
   },
   {
    "duration": 15,
    "start_time": "2022-04-25T09:45:05.079Z"
   },
   {
    "duration": 25,
    "start_time": "2022-04-25T09:45:05.096Z"
   },
   {
    "duration": 43,
    "start_time": "2022-04-25T09:45:05.130Z"
   },
   {
    "duration": 38,
    "start_time": "2022-04-25T09:45:05.176Z"
   },
   {
    "duration": 30,
    "start_time": "2022-04-25T09:45:05.216Z"
   },
   {
    "duration": 41,
    "start_time": "2022-04-25T09:45:05.252Z"
   },
   {
    "duration": 70,
    "start_time": "2022-04-25T09:45:05.296Z"
   },
   {
    "duration": 2751,
    "start_time": "2022-04-25T09:45:05.369Z"
   },
   {
    "duration": 0,
    "start_time": "2022-04-25T09:45:08.123Z"
   },
   {
    "duration": 0,
    "start_time": "2022-04-25T09:45:08.129Z"
   },
   {
    "duration": 0,
    "start_time": "2022-04-25T09:45:08.131Z"
   },
   {
    "duration": 0,
    "start_time": "2022-04-25T09:45:08.133Z"
   },
   {
    "duration": 0,
    "start_time": "2022-04-25T09:45:08.134Z"
   },
   {
    "duration": 0,
    "start_time": "2022-04-25T09:45:08.136Z"
   },
   {
    "duration": 0,
    "start_time": "2022-04-25T09:45:08.138Z"
   },
   {
    "duration": 1,
    "start_time": "2022-04-25T09:45:08.140Z"
   },
   {
    "duration": 0,
    "start_time": "2022-04-25T09:45:08.143Z"
   },
   {
    "duration": 0,
    "start_time": "2022-04-25T09:45:08.148Z"
   },
   {
    "duration": 0,
    "start_time": "2022-04-25T09:45:08.149Z"
   },
   {
    "duration": 0,
    "start_time": "2022-04-25T09:45:08.152Z"
   },
   {
    "duration": 0,
    "start_time": "2022-04-25T09:45:08.153Z"
   },
   {
    "duration": 0,
    "start_time": "2022-04-25T09:45:08.155Z"
   },
   {
    "duration": 0,
    "start_time": "2022-04-25T09:45:08.156Z"
   },
   {
    "duration": 0,
    "start_time": "2022-04-25T09:45:08.157Z"
   },
   {
    "duration": 0,
    "start_time": "2022-04-25T09:45:08.159Z"
   },
   {
    "duration": 0,
    "start_time": "2022-04-25T09:45:08.160Z"
   },
   {
    "duration": 0,
    "start_time": "2022-04-25T09:45:08.161Z"
   },
   {
    "duration": 0,
    "start_time": "2022-04-25T09:45:08.162Z"
   },
   {
    "duration": 0,
    "start_time": "2022-04-25T09:45:08.164Z"
   },
   {
    "duration": 0,
    "start_time": "2022-04-25T09:45:08.165Z"
   },
   {
    "duration": 0,
    "start_time": "2022-04-25T09:45:08.166Z"
   },
   {
    "duration": 0,
    "start_time": "2022-04-25T09:45:08.167Z"
   },
   {
    "duration": 0,
    "start_time": "2022-04-25T09:45:08.168Z"
   },
   {
    "duration": 0,
    "start_time": "2022-04-25T09:45:08.170Z"
   },
   {
    "duration": 0,
    "start_time": "2022-04-25T09:45:08.171Z"
   },
   {
    "duration": 0,
    "start_time": "2022-04-25T09:45:08.172Z"
   },
   {
    "duration": 0,
    "start_time": "2022-04-25T09:45:08.236Z"
   },
   {
    "duration": 0,
    "start_time": "2022-04-25T09:45:08.238Z"
   },
   {
    "duration": 0,
    "start_time": "2022-04-25T09:45:08.240Z"
   },
   {
    "duration": 0,
    "start_time": "2022-04-25T09:45:08.251Z"
   },
   {
    "duration": 0,
    "start_time": "2022-04-25T09:45:08.255Z"
   },
   {
    "duration": 0,
    "start_time": "2022-04-25T09:45:08.256Z"
   },
   {
    "duration": 0,
    "start_time": "2022-04-25T09:45:08.257Z"
   },
   {
    "duration": 0,
    "start_time": "2022-04-25T09:45:08.259Z"
   },
   {
    "duration": 1679,
    "start_time": "2022-04-25T11:02:05.469Z"
   },
   {
    "duration": 4036,
    "start_time": "2022-04-25T11:02:07.152Z"
   },
   {
    "duration": 20,
    "start_time": "2022-04-25T11:02:11.190Z"
   },
   {
    "duration": 22,
    "start_time": "2022-04-25T11:02:11.212Z"
   },
   {
    "duration": 12,
    "start_time": "2022-04-25T11:02:11.239Z"
   },
   {
    "duration": 39,
    "start_time": "2022-04-25T11:02:11.254Z"
   },
   {
    "duration": 46,
    "start_time": "2022-04-25T11:02:11.296Z"
   },
   {
    "duration": 41,
    "start_time": "2022-04-25T11:02:11.351Z"
   },
   {
    "duration": 12,
    "start_time": "2022-04-25T11:02:11.394Z"
   },
   {
    "duration": 50,
    "start_time": "2022-04-25T11:02:11.408Z"
   },
   {
    "duration": 13,
    "start_time": "2022-04-25T11:02:11.461Z"
   },
   {
    "duration": 8,
    "start_time": "2022-04-25T11:02:11.476Z"
   },
   {
    "duration": 434,
    "start_time": "2022-04-25T11:02:11.487Z"
   },
   {
    "duration": 35,
    "start_time": "2022-04-25T11:02:11.928Z"
   },
   {
    "duration": 20,
    "start_time": "2022-04-25T11:02:11.967Z"
   },
   {
    "duration": 406,
    "start_time": "2022-04-25T11:02:11.989Z"
   },
   {
    "duration": 42,
    "start_time": "2022-04-25T11:02:12.398Z"
   },
   {
    "duration": 50,
    "start_time": "2022-04-25T11:02:12.443Z"
   },
   {
    "duration": 143,
    "start_time": "2022-04-25T11:02:12.495Z"
   },
   {
    "duration": 350,
    "start_time": "2022-04-25T11:02:12.648Z"
   },
   {
    "duration": 4,
    "start_time": "2022-04-25T11:02:13.001Z"
   },
   {
    "duration": 368,
    "start_time": "2022-04-25T11:02:13.007Z"
   },
   {
    "duration": 21,
    "start_time": "2022-04-25T11:02:13.377Z"
   },
   {
    "duration": 66,
    "start_time": "2022-04-25T11:02:13.401Z"
   },
   {
    "duration": 366,
    "start_time": "2022-04-25T11:02:13.469Z"
   },
   {
    "duration": 6,
    "start_time": "2022-04-25T11:02:13.838Z"
   },
   {
    "duration": 2788,
    "start_time": "2022-04-25T11:02:13.847Z"
   },
   {
    "duration": 6,
    "start_time": "2022-04-25T11:02:16.638Z"
   },
   {
    "duration": 32,
    "start_time": "2022-04-25T11:02:16.647Z"
   },
   {
    "duration": 16,
    "start_time": "2022-04-25T11:02:16.681Z"
   },
   {
    "duration": 31,
    "start_time": "2022-04-25T11:02:16.700Z"
   },
   {
    "duration": 48,
    "start_time": "2022-04-25T11:02:16.734Z"
   },
   {
    "duration": 248,
    "start_time": "2022-04-25T11:02:16.785Z"
   },
   {
    "duration": 35,
    "start_time": "2022-04-25T11:02:17.038Z"
   },
   {
    "duration": 14,
    "start_time": "2022-04-25T11:02:17.076Z"
   },
   {
    "duration": 66,
    "start_time": "2022-04-25T11:02:17.093Z"
   },
   {
    "duration": 4,
    "start_time": "2022-04-25T11:02:17.161Z"
   },
   {
    "duration": 30,
    "start_time": "2022-04-25T11:02:17.167Z"
   },
   {
    "duration": 52,
    "start_time": "2022-04-25T11:02:17.200Z"
   },
   {
    "duration": 12,
    "start_time": "2022-04-25T11:02:17.256Z"
   },
   {
    "duration": 13,
    "start_time": "2022-04-25T11:02:17.275Z"
   },
   {
    "duration": 46,
    "start_time": "2022-04-25T11:02:17.291Z"
   },
   {
    "duration": 20,
    "start_time": "2022-04-25T11:02:17.340Z"
   },
   {
    "duration": 66,
    "start_time": "2022-04-25T11:02:17.362Z"
   },
   {
    "duration": 51,
    "start_time": "2022-04-25T11:02:17.430Z"
   },
   {
    "duration": 2718,
    "start_time": "2022-04-25T11:02:17.484Z"
   },
   {
    "duration": 0,
    "start_time": "2022-04-25T11:02:20.205Z"
   },
   {
    "duration": 0,
    "start_time": "2022-04-25T11:02:20.207Z"
   },
   {
    "duration": 0,
    "start_time": "2022-04-25T11:02:20.209Z"
   },
   {
    "duration": 0,
    "start_time": "2022-04-25T11:02:20.210Z"
   },
   {
    "duration": 0,
    "start_time": "2022-04-25T11:02:20.212Z"
   },
   {
    "duration": 0,
    "start_time": "2022-04-25T11:02:20.213Z"
   },
   {
    "duration": 0,
    "start_time": "2022-04-25T11:02:20.215Z"
   },
   {
    "duration": 0,
    "start_time": "2022-04-25T11:02:20.217Z"
   },
   {
    "duration": 0,
    "start_time": "2022-04-25T11:02:20.219Z"
   },
   {
    "duration": 0,
    "start_time": "2022-04-25T11:02:20.220Z"
   },
   {
    "duration": 0,
    "start_time": "2022-04-25T11:02:20.222Z"
   },
   {
    "duration": 0,
    "start_time": "2022-04-25T11:02:20.223Z"
   },
   {
    "duration": 0,
    "start_time": "2022-04-25T11:02:20.231Z"
   },
   {
    "duration": 0,
    "start_time": "2022-04-25T11:02:20.233Z"
   },
   {
    "duration": 0,
    "start_time": "2022-04-25T11:02:20.235Z"
   },
   {
    "duration": 0,
    "start_time": "2022-04-25T11:02:20.237Z"
   },
   {
    "duration": 0,
    "start_time": "2022-04-25T11:02:20.239Z"
   },
   {
    "duration": 0,
    "start_time": "2022-04-25T11:02:20.244Z"
   },
   {
    "duration": 0,
    "start_time": "2022-04-25T11:02:20.246Z"
   },
   {
    "duration": 0,
    "start_time": "2022-04-25T11:02:20.248Z"
   },
   {
    "duration": 0,
    "start_time": "2022-04-25T11:02:20.258Z"
   },
   {
    "duration": 0,
    "start_time": "2022-04-25T11:02:20.260Z"
   },
   {
    "duration": 0,
    "start_time": "2022-04-25T11:02:20.262Z"
   },
   {
    "duration": 0,
    "start_time": "2022-04-25T11:02:20.264Z"
   },
   {
    "duration": 0,
    "start_time": "2022-04-25T11:02:20.266Z"
   },
   {
    "duration": 0,
    "start_time": "2022-04-25T11:02:20.269Z"
   },
   {
    "duration": 0,
    "start_time": "2022-04-25T11:02:20.271Z"
   },
   {
    "duration": 0,
    "start_time": "2022-04-25T11:02:20.273Z"
   },
   {
    "duration": 0,
    "start_time": "2022-04-25T11:02:20.275Z"
   },
   {
    "duration": 0,
    "start_time": "2022-04-25T11:02:20.277Z"
   },
   {
    "duration": 0,
    "start_time": "2022-04-25T11:02:20.340Z"
   },
   {
    "duration": 0,
    "start_time": "2022-04-25T11:02:20.343Z"
   },
   {
    "duration": 0,
    "start_time": "2022-04-25T11:02:20.345Z"
   },
   {
    "duration": 0,
    "start_time": "2022-04-25T11:02:20.346Z"
   },
   {
    "duration": 0,
    "start_time": "2022-04-25T11:02:20.347Z"
   },
   {
    "duration": 0,
    "start_time": "2022-04-25T11:02:20.349Z"
   },
   {
    "duration": 1678,
    "start_time": "2022-04-25T11:06:27.059Z"
   },
   {
    "duration": 5160,
    "start_time": "2022-04-25T11:06:28.740Z"
   },
   {
    "duration": 20,
    "start_time": "2022-04-25T11:06:33.903Z"
   },
   {
    "duration": 36,
    "start_time": "2022-04-25T11:06:33.926Z"
   },
   {
    "duration": 53,
    "start_time": "2022-04-25T11:06:33.965Z"
   },
   {
    "duration": 59,
    "start_time": "2022-04-25T11:06:34.020Z"
   },
   {
    "duration": 10,
    "start_time": "2022-04-25T11:06:34.082Z"
   },
   {
    "duration": 36,
    "start_time": "2022-04-25T11:06:34.095Z"
   },
   {
    "duration": 21,
    "start_time": "2022-04-25T11:06:34.134Z"
   },
   {
    "duration": 49,
    "start_time": "2022-04-25T11:06:34.159Z"
   },
   {
    "duration": 19,
    "start_time": "2022-04-25T11:06:34.210Z"
   },
   {
    "duration": 20,
    "start_time": "2022-04-25T11:06:34.231Z"
   },
   {
    "duration": 357,
    "start_time": "2022-04-25T11:06:34.254Z"
   },
   {
    "duration": 33,
    "start_time": "2022-04-25T11:06:34.616Z"
   },
   {
    "duration": 14,
    "start_time": "2022-04-25T11:06:34.652Z"
   },
   {
    "duration": 377,
    "start_time": "2022-04-25T11:06:34.668Z"
   },
   {
    "duration": 24,
    "start_time": "2022-04-25T11:06:35.048Z"
   },
   {
    "duration": 70,
    "start_time": "2022-04-25T11:06:35.075Z"
   },
   {
    "duration": 96,
    "start_time": "2022-04-25T11:06:35.147Z"
   },
   {
    "duration": 426,
    "start_time": "2022-04-25T11:06:35.246Z"
   },
   {
    "duration": 4,
    "start_time": "2022-04-25T11:06:35.675Z"
   },
   {
    "duration": 365,
    "start_time": "2022-04-25T11:06:35.682Z"
   },
   {
    "duration": 23,
    "start_time": "2022-04-25T11:06:36.050Z"
   },
   {
    "duration": 62,
    "start_time": "2022-04-25T11:06:36.075Z"
   },
   {
    "duration": 343,
    "start_time": "2022-04-25T11:06:36.139Z"
   },
   {
    "duration": 5,
    "start_time": "2022-04-25T11:06:36.485Z"
   },
   {
    "duration": 2428,
    "start_time": "2022-04-25T11:06:36.492Z"
   },
   {
    "duration": 5,
    "start_time": "2022-04-25T11:06:38.922Z"
   },
   {
    "duration": 33,
    "start_time": "2022-04-25T11:06:38.930Z"
   },
   {
    "duration": 15,
    "start_time": "2022-04-25T11:06:38.966Z"
   },
   {
    "duration": 12,
    "start_time": "2022-04-25T11:06:38.984Z"
   },
   {
    "duration": 39,
    "start_time": "2022-04-25T11:06:38.998Z"
   },
   {
    "duration": 298,
    "start_time": "2022-04-25T11:06:39.040Z"
   },
   {
    "duration": 44,
    "start_time": "2022-04-25T11:06:39.340Z"
   },
   {
    "duration": 13,
    "start_time": "2022-04-25T11:06:39.387Z"
   },
   {
    "duration": 32,
    "start_time": "2022-04-25T11:06:39.429Z"
   },
   {
    "duration": 23,
    "start_time": "2022-04-25T11:06:39.464Z"
   },
   {
    "duration": 11,
    "start_time": "2022-04-25T11:06:39.490Z"
   },
   {
    "duration": 15,
    "start_time": "2022-04-25T11:06:39.531Z"
   },
   {
    "duration": 13,
    "start_time": "2022-04-25T11:06:39.549Z"
   },
   {
    "duration": 21,
    "start_time": "2022-04-25T11:06:39.570Z"
   },
   {
    "duration": 48,
    "start_time": "2022-04-25T11:06:39.594Z"
   },
   {
    "duration": 32,
    "start_time": "2022-04-25T11:06:39.644Z"
   },
   {
    "duration": 63,
    "start_time": "2022-04-25T11:06:39.678Z"
   },
   {
    "duration": 7,
    "start_time": "2022-04-25T11:06:39.743Z"
   },
   {
    "duration": 14,
    "start_time": "2022-04-25T11:06:39.752Z"
   },
   {
    "duration": 5,
    "start_time": "2022-04-25T11:06:39.768Z"
   },
   {
    "duration": 66,
    "start_time": "2022-04-25T11:06:39.776Z"
   },
   {
    "duration": 207,
    "start_time": "2022-04-25T11:06:39.844Z"
   },
   {
    "duration": 7,
    "start_time": "2022-04-25T11:06:40.054Z"
   },
   {
    "duration": 39,
    "start_time": "2022-04-25T11:06:40.064Z"
   },
   {
    "duration": 41,
    "start_time": "2022-04-25T11:06:40.106Z"
   },
   {
    "duration": 10,
    "start_time": "2022-04-25T11:06:40.149Z"
   },
   {
    "duration": 384,
    "start_time": "2022-04-25T11:06:40.162Z"
   },
   {
    "duration": 268,
    "start_time": "2022-04-25T11:06:40.548Z"
   },
   {
    "duration": 233,
    "start_time": "2022-04-25T11:06:40.819Z"
   },
   {
    "duration": 84,
    "start_time": "2022-04-25T11:06:41.055Z"
   },
   {
    "duration": 16,
    "start_time": "2022-04-25T11:06:41.142Z"
   },
   {
    "duration": 284,
    "start_time": "2022-04-25T11:06:41.160Z"
   },
   {
    "duration": 253,
    "start_time": "2022-04-25T11:06:41.447Z"
   },
   {
    "duration": 30,
    "start_time": "2022-04-25T11:06:41.702Z"
   },
   {
    "duration": 239,
    "start_time": "2022-04-25T11:06:41.739Z"
   },
   {
    "duration": 229,
    "start_time": "2022-04-25T11:06:41.980Z"
   },
   {
    "duration": 26,
    "start_time": "2022-04-25T11:06:42.211Z"
   },
   {
    "duration": 251,
    "start_time": "2022-04-25T11:06:42.240Z"
   },
   {
    "duration": 233,
    "start_time": "2022-04-25T11:06:42.494Z"
   },
   {
    "duration": 8,
    "start_time": "2022-04-25T11:06:42.730Z"
   },
   {
    "duration": 38,
    "start_time": "2022-04-25T11:06:42.741Z"
   },
   {
    "duration": 7,
    "start_time": "2022-04-25T11:06:42.782Z"
   },
   {
    "duration": 40,
    "start_time": "2022-04-25T11:06:42.791Z"
   },
   {
    "duration": 13,
    "start_time": "2022-04-25T11:06:42.841Z"
   },
   {
    "duration": 4,
    "start_time": "2022-04-25T11:06:42.856Z"
   },
   {
    "duration": 8,
    "start_time": "2022-04-25T11:06:42.862Z"
   },
   {
    "duration": 6,
    "start_time": "2022-04-25T11:06:42.873Z"
   },
   {
    "duration": 9,
    "start_time": "2022-04-25T11:06:42.881Z"
   },
   {
    "duration": 40,
    "start_time": "2022-04-25T11:06:42.892Z"
   },
   {
    "duration": 18,
    "start_time": "2022-04-25T11:06:42.935Z"
   },
   {
    "duration": 9,
    "start_time": "2022-04-25T11:06:42.955Z"
   },
   {
    "duration": 10,
    "start_time": "2022-04-25T11:06:42.966Z"
   },
   {
    "duration": 4,
    "start_time": "2022-04-25T11:06:42.978Z"
   },
   {
    "duration": 47,
    "start_time": "2022-04-25T11:06:42.984Z"
   },
   {
    "duration": 1534,
    "start_time": "2022-04-25T11:16:32.956Z"
   },
   {
    "duration": 5694,
    "start_time": "2022-04-25T11:16:34.493Z"
   },
   {
    "duration": 22,
    "start_time": "2022-04-25T11:16:40.190Z"
   },
   {
    "duration": 22,
    "start_time": "2022-04-25T11:16:40.216Z"
   },
   {
    "duration": 22,
    "start_time": "2022-04-25T11:16:40.241Z"
   },
   {
    "duration": 40,
    "start_time": "2022-04-25T11:16:40.266Z"
   },
   {
    "duration": 25,
    "start_time": "2022-04-25T11:16:40.308Z"
   },
   {
    "duration": 40,
    "start_time": "2022-04-25T11:16:40.335Z"
   },
   {
    "duration": 12,
    "start_time": "2022-04-25T11:16:40.378Z"
   },
   {
    "duration": 56,
    "start_time": "2022-04-25T11:16:40.396Z"
   },
   {
    "duration": 13,
    "start_time": "2022-04-25T11:16:40.454Z"
   },
   {
    "duration": 7,
    "start_time": "2022-04-25T11:16:40.469Z"
   },
   {
    "duration": 374,
    "start_time": "2022-04-25T11:16:40.478Z"
   },
   {
    "duration": 23,
    "start_time": "2022-04-25T11:16:40.855Z"
   },
   {
    "duration": 14,
    "start_time": "2022-04-25T11:16:40.881Z"
   },
   {
    "duration": 349,
    "start_time": "2022-04-25T11:16:40.929Z"
   },
   {
    "duration": 23,
    "start_time": "2022-04-25T11:16:41.281Z"
   },
   {
    "duration": 53,
    "start_time": "2022-04-25T11:16:41.324Z"
   },
   {
    "duration": 112,
    "start_time": "2022-04-25T11:16:41.380Z"
   },
   {
    "duration": 473,
    "start_time": "2022-04-25T11:16:41.495Z"
   },
   {
    "duration": 3,
    "start_time": "2022-04-25T11:16:41.971Z"
   },
   {
    "duration": 332,
    "start_time": "2022-04-25T11:16:41.977Z"
   },
   {
    "duration": 40,
    "start_time": "2022-04-25T11:16:42.311Z"
   },
   {
    "duration": 73,
    "start_time": "2022-04-25T11:16:42.355Z"
   },
   {
    "duration": 356,
    "start_time": "2022-04-25T11:16:42.432Z"
   },
   {
    "duration": 7,
    "start_time": "2022-04-25T11:16:42.792Z"
   },
   {
    "duration": 2484,
    "start_time": "2022-04-25T11:16:42.802Z"
   },
   {
    "duration": 7,
    "start_time": "2022-04-25T11:16:45.296Z"
   },
   {
    "duration": 51,
    "start_time": "2022-04-25T11:16:45.305Z"
   },
   {
    "duration": 29,
    "start_time": "2022-04-25T11:16:45.358Z"
   },
   {
    "duration": 45,
    "start_time": "2022-04-25T11:16:45.390Z"
   },
   {
    "duration": 27,
    "start_time": "2022-04-25T11:16:45.441Z"
   },
   {
    "duration": 297,
    "start_time": "2022-04-25T11:16:45.471Z"
   },
   {
    "duration": 56,
    "start_time": "2022-04-25T11:16:45.771Z"
   },
   {
    "duration": 13,
    "start_time": "2022-04-25T11:16:45.830Z"
   },
   {
    "duration": 41,
    "start_time": "2022-04-25T11:16:45.846Z"
   },
   {
    "duration": 56,
    "start_time": "2022-04-25T11:16:45.890Z"
   },
   {
    "duration": 12,
    "start_time": "2022-04-25T11:16:45.949Z"
   },
   {
    "duration": 14,
    "start_time": "2022-04-25T11:16:45.963Z"
   },
   {
    "duration": 45,
    "start_time": "2022-04-25T11:16:45.979Z"
   },
   {
    "duration": 35,
    "start_time": "2022-04-25T11:16:46.033Z"
   },
   {
    "duration": 15,
    "start_time": "2022-04-25T11:16:46.071Z"
   },
   {
    "duration": 50,
    "start_time": "2022-04-25T11:16:46.088Z"
   },
   {
    "duration": 40,
    "start_time": "2022-04-25T11:16:46.140Z"
   },
   {
    "duration": 9,
    "start_time": "2022-04-25T11:16:46.182Z"
   },
   {
    "duration": 45,
    "start_time": "2022-04-25T11:16:46.193Z"
   },
   {
    "duration": 6,
    "start_time": "2022-04-25T11:16:46.240Z"
   },
   {
    "duration": 41,
    "start_time": "2022-04-25T11:16:46.248Z"
   },
   {
    "duration": 209,
    "start_time": "2022-04-25T11:16:46.291Z"
   },
   {
    "duration": 6,
    "start_time": "2022-04-25T11:16:46.502Z"
   },
   {
    "duration": 44,
    "start_time": "2022-04-25T11:16:46.510Z"
   },
   {
    "duration": 22,
    "start_time": "2022-04-25T11:16:46.556Z"
   },
   {
    "duration": 7,
    "start_time": "2022-04-25T11:16:46.580Z"
   },
   {
    "duration": 321,
    "start_time": "2022-04-25T11:16:46.589Z"
   },
   {
    "duration": 212,
    "start_time": "2022-04-25T11:16:46.912Z"
   },
   {
    "duration": 229,
    "start_time": "2022-04-25T11:16:47.127Z"
   },
   {
    "duration": 88,
    "start_time": "2022-04-25T11:16:47.358Z"
   },
   {
    "duration": 15,
    "start_time": "2022-04-25T11:16:47.448Z"
   },
   {
    "duration": 254,
    "start_time": "2022-04-25T11:16:47.465Z"
   },
   {
    "duration": 254,
    "start_time": "2022-04-25T11:16:47.726Z"
   },
   {
    "duration": 16,
    "start_time": "2022-04-25T11:16:47.982Z"
   },
   {
    "duration": 269,
    "start_time": "2022-04-25T11:16:48.000Z"
   },
   {
    "duration": 345,
    "start_time": "2022-04-25T11:16:48.272Z"
   },
   {
    "duration": 8,
    "start_time": "2022-04-25T11:16:48.624Z"
   },
   {
    "duration": 29,
    "start_time": "2022-04-25T11:16:48.635Z"
   },
   {
    "duration": 352,
    "start_time": "2022-04-25T11:16:48.666Z"
   },
   {
    "duration": 303,
    "start_time": "2022-04-25T11:16:49.025Z"
   },
   {
    "duration": 8,
    "start_time": "2022-04-25T11:16:49.330Z"
   },
   {
    "duration": 47,
    "start_time": "2022-04-25T11:16:49.340Z"
   },
   {
    "duration": 8,
    "start_time": "2022-04-25T11:16:49.389Z"
   },
   {
    "duration": 34,
    "start_time": "2022-04-25T11:16:49.400Z"
   },
   {
    "duration": 13,
    "start_time": "2022-04-25T11:16:49.437Z"
   },
   {
    "duration": 12,
    "start_time": "2022-04-25T11:16:49.452Z"
   },
   {
    "duration": 15,
    "start_time": "2022-04-25T11:16:49.467Z"
   },
   {
    "duration": 17,
    "start_time": "2022-04-25T11:16:49.484Z"
   },
   {
    "duration": 18,
    "start_time": "2022-04-25T11:16:49.503Z"
   },
   {
    "duration": 28,
    "start_time": "2022-04-25T11:16:49.524Z"
   },
   {
    "duration": 19,
    "start_time": "2022-04-25T11:16:49.554Z"
   },
   {
    "duration": 24,
    "start_time": "2022-04-25T11:16:49.576Z"
   },
   {
    "duration": 19,
    "start_time": "2022-04-25T11:16:49.603Z"
   },
   {
    "duration": 18,
    "start_time": "2022-04-25T11:16:49.626Z"
   },
   {
    "duration": 9,
    "start_time": "2022-04-25T11:16:49.654Z"
   },
   {
    "duration": 1483,
    "start_time": "2022-04-25T11:18:26.844Z"
   },
   {
    "duration": 2149,
    "start_time": "2022-04-25T11:18:28.330Z"
   },
   {
    "duration": 22,
    "start_time": "2022-04-25T11:18:30.481Z"
   },
   {
    "duration": 20,
    "start_time": "2022-04-25T11:18:30.507Z"
   },
   {
    "duration": 33,
    "start_time": "2022-04-25T11:18:30.530Z"
   },
   {
    "duration": 50,
    "start_time": "2022-04-25T11:18:30.565Z"
   },
   {
    "duration": 16,
    "start_time": "2022-04-25T11:18:30.618Z"
   },
   {
    "duration": 40,
    "start_time": "2022-04-25T11:18:30.637Z"
   },
   {
    "duration": 14,
    "start_time": "2022-04-25T11:18:30.679Z"
   },
   {
    "duration": 46,
    "start_time": "2022-04-25T11:18:30.697Z"
   },
   {
    "duration": 14,
    "start_time": "2022-04-25T11:18:30.747Z"
   },
   {
    "duration": 14,
    "start_time": "2022-04-25T11:18:30.763Z"
   },
   {
    "duration": 355,
    "start_time": "2022-04-25T11:18:30.780Z"
   },
   {
    "duration": 25,
    "start_time": "2022-04-25T11:18:31.140Z"
   },
   {
    "duration": 14,
    "start_time": "2022-04-25T11:18:31.168Z"
   },
   {
    "duration": 357,
    "start_time": "2022-04-25T11:18:31.184Z"
   },
   {
    "duration": 24,
    "start_time": "2022-04-25T11:18:31.544Z"
   },
   {
    "duration": 98,
    "start_time": "2022-04-25T11:18:31.571Z"
   },
   {
    "duration": 136,
    "start_time": "2022-04-25T11:18:31.672Z"
   },
   {
    "duration": 535,
    "start_time": "2022-04-25T11:18:31.811Z"
   },
   {
    "duration": 3,
    "start_time": "2022-04-25T11:18:32.352Z"
   },
   {
    "duration": 438,
    "start_time": "2022-04-25T11:18:32.359Z"
   },
   {
    "duration": 44,
    "start_time": "2022-04-25T11:18:32.801Z"
   },
   {
    "duration": 35,
    "start_time": "2022-04-25T11:18:32.848Z"
   },
   {
    "duration": 366,
    "start_time": "2022-04-25T11:18:32.885Z"
   },
   {
    "duration": 8,
    "start_time": "2022-04-25T11:18:33.253Z"
   },
   {
    "duration": 2560,
    "start_time": "2022-04-25T11:18:33.264Z"
   },
   {
    "duration": 6,
    "start_time": "2022-04-25T11:18:35.833Z"
   },
   {
    "duration": 31,
    "start_time": "2022-04-25T11:18:35.842Z"
   },
   {
    "duration": 22,
    "start_time": "2022-04-25T11:18:35.876Z"
   },
   {
    "duration": 42,
    "start_time": "2022-04-25T11:18:35.900Z"
   },
   {
    "duration": 33,
    "start_time": "2022-04-25T11:18:35.945Z"
   },
   {
    "duration": 247,
    "start_time": "2022-04-25T11:18:35.981Z"
   },
   {
    "duration": 34,
    "start_time": "2022-04-25T11:18:36.231Z"
   },
   {
    "duration": 12,
    "start_time": "2022-04-25T11:18:36.268Z"
   },
   {
    "duration": 68,
    "start_time": "2022-04-25T11:18:36.283Z"
   },
   {
    "duration": 25,
    "start_time": "2022-04-25T11:18:36.353Z"
   },
   {
    "duration": 12,
    "start_time": "2022-04-25T11:18:36.380Z"
   },
   {
    "duration": 42,
    "start_time": "2022-04-25T11:18:36.395Z"
   },
   {
    "duration": 23,
    "start_time": "2022-04-25T11:18:36.440Z"
   },
   {
    "duration": 25,
    "start_time": "2022-04-25T11:18:36.465Z"
   },
   {
    "duration": 53,
    "start_time": "2022-04-25T11:18:36.493Z"
   },
   {
    "duration": 47,
    "start_time": "2022-04-25T11:18:36.549Z"
   },
   {
    "duration": 65,
    "start_time": "2022-04-25T11:18:36.599Z"
   },
   {
    "duration": 7,
    "start_time": "2022-04-25T11:18:36.667Z"
   },
   {
    "duration": 17,
    "start_time": "2022-04-25T11:18:36.676Z"
   },
   {
    "duration": 33,
    "start_time": "2022-04-25T11:18:36.695Z"
   },
   {
    "duration": 53,
    "start_time": "2022-04-25T11:18:36.735Z"
   },
   {
    "duration": 274,
    "start_time": "2022-04-25T11:18:36.791Z"
   },
   {
    "duration": 8,
    "start_time": "2022-04-25T11:18:37.067Z"
   },
   {
    "duration": 49,
    "start_time": "2022-04-25T11:18:37.079Z"
   },
   {
    "duration": 24,
    "start_time": "2022-04-25T11:18:37.130Z"
   },
   {
    "duration": 8,
    "start_time": "2022-04-25T11:18:37.157Z"
   },
   {
    "duration": 319,
    "start_time": "2022-04-25T11:18:37.167Z"
   },
   {
    "duration": 294,
    "start_time": "2022-04-25T11:18:37.488Z"
   },
   {
    "duration": 262,
    "start_time": "2022-04-25T11:18:37.785Z"
   },
   {
    "duration": 121,
    "start_time": "2022-04-25T11:18:38.050Z"
   },
   {
    "duration": 21,
    "start_time": "2022-04-25T11:18:38.174Z"
   },
   {
    "duration": 394,
    "start_time": "2022-04-25T11:18:38.198Z"
   },
   {
    "duration": 250,
    "start_time": "2022-04-25T11:18:38.595Z"
   },
   {
    "duration": 22,
    "start_time": "2022-04-25T11:18:38.848Z"
   },
   {
    "duration": 270,
    "start_time": "2022-04-25T11:18:38.874Z"
   },
   {
    "duration": 235,
    "start_time": "2022-04-25T11:18:39.147Z"
   },
   {
    "duration": 6,
    "start_time": "2022-04-25T11:18:39.385Z"
   },
   {
    "duration": 40,
    "start_time": "2022-04-25T11:18:39.394Z"
   },
   {
    "duration": 254,
    "start_time": "2022-04-25T11:18:39.437Z"
   },
   {
    "duration": 240,
    "start_time": "2022-04-25T11:18:39.694Z"
   },
   {
    "duration": 3,
    "start_time": "2022-04-25T11:18:39.938Z"
   },
   {
    "duration": 9,
    "start_time": "2022-04-25T11:18:39.944Z"
   },
   {
    "duration": 7,
    "start_time": "2022-04-25T11:18:39.955Z"
   },
   {
    "duration": 7,
    "start_time": "2022-04-25T11:18:39.964Z"
   },
   {
    "duration": 60,
    "start_time": "2022-04-25T11:18:39.973Z"
   },
   {
    "duration": 13,
    "start_time": "2022-04-25T11:18:40.036Z"
   },
   {
    "duration": 20,
    "start_time": "2022-04-25T11:18:40.052Z"
   },
   {
    "duration": 12,
    "start_time": "2022-04-25T11:18:40.074Z"
   },
   {
    "duration": 20,
    "start_time": "2022-04-25T11:18:40.088Z"
   },
   {
    "duration": 37,
    "start_time": "2022-04-25T11:18:40.110Z"
   },
   {
    "duration": 18,
    "start_time": "2022-04-25T11:18:40.150Z"
   },
   {
    "duration": 15,
    "start_time": "2022-04-25T11:18:40.170Z"
   },
   {
    "duration": 13,
    "start_time": "2022-04-25T11:18:40.188Z"
   },
   {
    "duration": 11,
    "start_time": "2022-04-25T11:18:40.204Z"
   },
   {
    "duration": 16,
    "start_time": "2022-04-25T11:18:40.230Z"
   },
   {
    "duration": 18,
    "start_time": "2022-04-25T11:18:40.249Z"
   },
   {
    "duration": 6,
    "start_time": "2022-04-25T11:18:40.270Z"
   },
   {
    "duration": 10,
    "start_time": "2022-04-25T11:18:40.278Z"
   },
   {
    "duration": 1590,
    "start_time": "2022-04-25T11:56:55.845Z"
   },
   {
    "duration": 4843,
    "start_time": "2022-04-25T11:56:57.439Z"
   },
   {
    "duration": 20,
    "start_time": "2022-04-25T11:57:02.285Z"
   },
   {
    "duration": 21,
    "start_time": "2022-04-25T11:57:02.307Z"
   },
   {
    "duration": 46,
    "start_time": "2022-04-25T11:57:02.333Z"
   },
   {
    "duration": 61,
    "start_time": "2022-04-25T11:57:02.382Z"
   },
   {
    "duration": 28,
    "start_time": "2022-04-25T11:57:02.446Z"
   },
   {
    "duration": 50,
    "start_time": "2022-04-25T11:57:02.476Z"
   },
   {
    "duration": 14,
    "start_time": "2022-04-25T11:57:02.527Z"
   },
   {
    "duration": 43,
    "start_time": "2022-04-25T11:57:02.543Z"
   },
   {
    "duration": 38,
    "start_time": "2022-04-25T11:57:02.588Z"
   },
   {
    "duration": 9,
    "start_time": "2022-04-25T11:57:02.628Z"
   },
   {
    "duration": 395,
    "start_time": "2022-04-25T11:57:02.639Z"
   },
   {
    "duration": 31,
    "start_time": "2022-04-25T11:57:03.043Z"
   },
   {
    "duration": 36,
    "start_time": "2022-04-25T11:57:03.076Z"
   },
   {
    "duration": 476,
    "start_time": "2022-04-25T11:57:03.115Z"
   },
   {
    "duration": 43,
    "start_time": "2022-04-25T11:57:03.594Z"
   },
   {
    "duration": 70,
    "start_time": "2022-04-25T11:57:03.640Z"
   },
   {
    "duration": 86,
    "start_time": "2022-04-25T11:57:03.725Z"
   },
   {
    "duration": 339,
    "start_time": "2022-04-25T11:57:03.825Z"
   },
   {
    "duration": 3,
    "start_time": "2022-04-25T11:57:04.167Z"
   },
   {
    "duration": 332,
    "start_time": "2022-04-25T11:57:04.172Z"
   },
   {
    "duration": 40,
    "start_time": "2022-04-25T11:57:04.507Z"
   },
   {
    "duration": 44,
    "start_time": "2022-04-25T11:57:04.550Z"
   },
   {
    "duration": 432,
    "start_time": "2022-04-25T11:57:04.596Z"
   },
   {
    "duration": 10,
    "start_time": "2022-04-25T11:57:05.031Z"
   },
   {
    "duration": 2553,
    "start_time": "2022-04-25T11:57:05.049Z"
   },
   {
    "duration": 7,
    "start_time": "2022-04-25T11:57:07.604Z"
   },
   {
    "duration": 48,
    "start_time": "2022-04-25T11:57:07.613Z"
   },
   {
    "duration": 18,
    "start_time": "2022-04-25T11:57:07.665Z"
   },
   {
    "duration": 18,
    "start_time": "2022-04-25T11:57:07.686Z"
   },
   {
    "duration": 26,
    "start_time": "2022-04-25T11:57:07.707Z"
   },
   {
    "duration": 239,
    "start_time": "2022-04-25T11:57:07.736Z"
   },
   {
    "duration": 62,
    "start_time": "2022-04-25T11:57:07.978Z"
   },
   {
    "duration": 10,
    "start_time": "2022-04-25T11:57:08.044Z"
   },
   {
    "duration": 35,
    "start_time": "2022-04-25T11:57:08.057Z"
   },
   {
    "duration": 45,
    "start_time": "2022-04-25T11:57:08.094Z"
   },
   {
    "duration": 12,
    "start_time": "2022-04-25T11:57:08.144Z"
   },
   {
    "duration": 16,
    "start_time": "2022-04-25T11:57:08.158Z"
   },
   {
    "duration": 15,
    "start_time": "2022-04-25T11:57:08.177Z"
   },
   {
    "duration": 28,
    "start_time": "2022-04-25T11:57:08.237Z"
   },
   {
    "duration": 15,
    "start_time": "2022-04-25T11:57:08.267Z"
   },
   {
    "duration": 63,
    "start_time": "2022-04-25T11:57:08.284Z"
   },
   {
    "duration": 37,
    "start_time": "2022-04-25T11:57:08.350Z"
   },
   {
    "duration": 8,
    "start_time": "2022-04-25T11:57:08.389Z"
   },
   {
    "duration": 57,
    "start_time": "2022-04-25T11:57:08.400Z"
   },
   {
    "duration": 11,
    "start_time": "2022-04-25T11:57:08.460Z"
   },
   {
    "duration": 38,
    "start_time": "2022-04-25T11:57:08.473Z"
   },
   {
    "duration": 205,
    "start_time": "2022-04-25T11:57:08.513Z"
   },
   {
    "duration": 6,
    "start_time": "2022-04-25T11:57:08.721Z"
   },
   {
    "duration": 61,
    "start_time": "2022-04-25T11:57:08.730Z"
   },
   {
    "duration": 23,
    "start_time": "2022-04-25T11:57:08.794Z"
   },
   {
    "duration": 24,
    "start_time": "2022-04-25T11:57:08.819Z"
   },
   {
    "duration": 329,
    "start_time": "2022-04-25T11:57:08.846Z"
   },
   {
    "duration": 229,
    "start_time": "2022-04-25T11:57:09.177Z"
   },
   {
    "duration": 242,
    "start_time": "2022-04-25T11:57:09.408Z"
   },
   {
    "duration": 88,
    "start_time": "2022-04-25T11:57:09.652Z"
   },
   {
    "duration": 16,
    "start_time": "2022-04-25T11:57:09.743Z"
   },
   {
    "duration": 298,
    "start_time": "2022-04-25T11:57:09.762Z"
   },
   {
    "duration": 247,
    "start_time": "2022-04-25T11:57:10.062Z"
   },
   {
    "duration": 28,
    "start_time": "2022-04-25T11:57:10.313Z"
   },
   {
    "duration": 270,
    "start_time": "2022-04-25T11:57:10.343Z"
   },
   {
    "duration": 241,
    "start_time": "2022-04-25T11:57:10.616Z"
   },
   {
    "duration": 6,
    "start_time": "2022-04-25T11:57:10.860Z"
   },
   {
    "duration": 26,
    "start_time": "2022-04-25T11:57:10.869Z"
   },
   {
    "duration": 262,
    "start_time": "2022-04-25T11:57:10.897Z"
   },
   {
    "duration": 233,
    "start_time": "2022-04-25T11:57:11.162Z"
   },
   {
    "duration": 3,
    "start_time": "2022-04-25T11:57:11.398Z"
   },
   {
    "duration": 20,
    "start_time": "2022-04-25T11:57:11.404Z"
   },
   {
    "duration": 18,
    "start_time": "2022-04-25T11:57:11.431Z"
   },
   {
    "duration": 9,
    "start_time": "2022-04-25T11:57:11.452Z"
   },
   {
    "duration": 53,
    "start_time": "2022-04-25T11:57:11.464Z"
   },
   {
    "duration": 17,
    "start_time": "2022-04-25T11:57:11.519Z"
   },
   {
    "duration": 15,
    "start_time": "2022-04-25T11:57:11.538Z"
   },
   {
    "duration": 14,
    "start_time": "2022-04-25T11:57:11.555Z"
   },
   {
    "duration": 6,
    "start_time": "2022-04-25T11:57:11.572Z"
   },
   {
    "duration": 12,
    "start_time": "2022-04-25T11:57:11.580Z"
   },
   {
    "duration": 42,
    "start_time": "2022-04-25T11:57:11.594Z"
   },
   {
    "duration": 28,
    "start_time": "2022-04-25T11:57:11.638Z"
   },
   {
    "duration": 12,
    "start_time": "2022-04-25T11:57:11.669Z"
   },
   {
    "duration": 12,
    "start_time": "2022-04-25T11:57:11.683Z"
   },
   {
    "duration": 18,
    "start_time": "2022-04-25T11:57:11.697Z"
   },
   {
    "duration": 17,
    "start_time": "2022-04-25T11:57:11.718Z"
   },
   {
    "duration": 30,
    "start_time": "2022-04-25T11:57:11.738Z"
   },
   {
    "duration": 21,
    "start_time": "2022-04-25T11:57:11.771Z"
   }
  ],
  "kernelspec": {
   "display_name": "Python 3 (ipykernel)",
   "language": "python",
   "name": "python3"
  },
  "language_info": {
   "codemirror_mode": {
    "name": "ipython",
    "version": 3
   },
   "file_extension": ".py",
   "mimetype": "text/x-python",
   "name": "python",
   "nbconvert_exporter": "python",
   "pygments_lexer": "ipython3",
   "version": "3.9.5"
  },
  "toc": {
   "base_numbering": 1,
   "nav_menu": {},
   "number_sections": true,
   "sideBar": true,
   "skip_h1_title": true,
   "title_cell": "Содержание",
   "title_sidebar": "Contents",
   "toc_cell": true,
   "toc_position": {
    "height": "calc(100% - 180px)",
    "left": "10px",
    "top": "150px",
    "width": "296.188px"
   },
   "toc_section_display": true,
   "toc_window_display": false
  }
 },
 "nbformat": 4,
 "nbformat_minor": 2
}
