{
 "cells": [
  {
   "cell_type": "markdown",
   "metadata": {
    "id": "E0vqbgi9ay0H"
   },
   "source": [
    "# Яндекс.Музыка"
   ]
  },
  {
   "cell_type": "markdown",
   "metadata": {
    "id": "VUC88oWjTJw2"
   },
   "source": [
    "Сравнение Москвы и Петербурга окружено мифами. Например:\n",
    " * Москва — мегаполис, подчинённый жёсткому ритму рабочей недели;\n",
    " * Петербург — культурная столица, со своими вкусами.\n",
    "\n",
    "На данных Яндекс.Музыки вы сравните поведение пользователей двух столиц.\n",
    "\n",
    "**Цель исследования** — проверьте три гипотезы:\n",
    "1. Активность пользователей зависит от дня недели. Причём в Москве и Петербурге это проявляется по-разному.\n",
    "2. В понедельник утром в Москве преобладают одни жанры, а в Петербурге — другие. Так же и вечером пятницы преобладают разные жанры — в зависимости от города. \n",
    "3. Москва и Петербург предпочитают разные жанры музыки. В Москве чаще слушают поп-музыку, в Петербурге — русский рэп.\n",
    "\n",
    "**Ход исследования**\n",
    "\n",
    "Данные о поведении пользователей вы получите из файла `yandex_music_project.csv`. О качестве данных ничего не известно. Поэтому перед проверкой гипотез понадобится обзор данных. \n",
    "\n",
    "Вы проверите данные на ошибки и оцените их влияние на исследование. Затем, на этапе предобработки вы поищете возможность исправить самые критичные ошибки данных.\n",
    " \n",
    "Таким образом, исследование пройдёт в три этапа:\n",
    " 1. Обзор данных.\n",
    " 2. Предобработка данных.\n",
    " 3. Проверка гипотез.\n",
    "\n"
   ]
  },
  {
   "cell_type": "markdown",
   "metadata": {
    "id": "Ml1hmfXC_Zcs"
   },
   "source": [
    "## Обзор данных\n",
    "\n",
    "Составьте первое представление о данных Яндекс.Музыки.\n",
    "\n",
    "\n"
   ]
  },
  {
   "cell_type": "markdown",
   "metadata": {
    "id": "57eAOGIz_Zcs"
   },
   "source": [
    "Основной инструмент аналитика — `pandas`. Импортируйте эту библиотеку."
   ]
  },
  {
   "cell_type": "code",
   "execution_count": 1,
   "metadata": {
    "id": "AXN7PHPN_Zcs"
   },
   "outputs": [],
   "source": [
    "import pandas as pd # импорт библиотеки pandas"
   ]
  },
  {
   "cell_type": "markdown",
   "metadata": {
    "id": "SG23P8tt_Zcs"
   },
   "source": [
    "Прочитайте файл `yandex_music_project.csv` из папки `/datasets` и сохраните его в переменной `df`:"
   ]
  },
  {
   "cell_type": "code",
   "execution_count": 2,
   "metadata": {
    "id": "fFVu7vqh_Zct"
   },
   "outputs": [],
   "source": [
    "df = pd.read_csv('/datasets/yandex_music_project.csv') # чтение файла с данными и сохранение в df"
   ]
  },
  {
   "cell_type": "markdown",
   "metadata": {
    "id": "rDoOMd3uTqnZ"
   },
   "source": [
    "Выведите на экран первые десять строк таблицы:"
   ]
  },
  {
   "cell_type": "code",
   "execution_count": 3,
   "metadata": {
    "id": "oWTVX3gW_Zct"
   },
   "outputs": [
    {
     "data": {
      "text/html": [
       "<div>\n",
       "<style scoped>\n",
       "    .dataframe tbody tr th:only-of-type {\n",
       "        vertical-align: middle;\n",
       "    }\n",
       "\n",
       "    .dataframe tbody tr th {\n",
       "        vertical-align: top;\n",
       "    }\n",
       "\n",
       "    .dataframe thead th {\n",
       "        text-align: right;\n",
       "    }\n",
       "</style>\n",
       "<table border=\"1\" class=\"dataframe\">\n",
       "  <thead>\n",
       "    <tr style=\"text-align: right;\">\n",
       "      <th></th>\n",
       "      <th>userID</th>\n",
       "      <th>Track</th>\n",
       "      <th>artist</th>\n",
       "      <th>genre</th>\n",
       "      <th>City</th>\n",
       "      <th>time</th>\n",
       "      <th>Day</th>\n",
       "    </tr>\n",
       "  </thead>\n",
       "  <tbody>\n",
       "    <tr>\n",
       "      <td>0</td>\n",
       "      <td>FFB692EC</td>\n",
       "      <td>Kamigata To Boots</td>\n",
       "      <td>The Mass Missile</td>\n",
       "      <td>rock</td>\n",
       "      <td>Saint-Petersburg</td>\n",
       "      <td>20:28:33</td>\n",
       "      <td>Wednesday</td>\n",
       "    </tr>\n",
       "    <tr>\n",
       "      <td>1</td>\n",
       "      <td>55204538</td>\n",
       "      <td>Delayed Because of Accident</td>\n",
       "      <td>Andreas Rönnberg</td>\n",
       "      <td>rock</td>\n",
       "      <td>Moscow</td>\n",
       "      <td>14:07:09</td>\n",
       "      <td>Friday</td>\n",
       "    </tr>\n",
       "    <tr>\n",
       "      <td>2</td>\n",
       "      <td>20EC38</td>\n",
       "      <td>Funiculì funiculà</td>\n",
       "      <td>Mario Lanza</td>\n",
       "      <td>pop</td>\n",
       "      <td>Saint-Petersburg</td>\n",
       "      <td>20:58:07</td>\n",
       "      <td>Wednesday</td>\n",
       "    </tr>\n",
       "    <tr>\n",
       "      <td>3</td>\n",
       "      <td>A3DD03C9</td>\n",
       "      <td>Dragons in the Sunset</td>\n",
       "      <td>Fire + Ice</td>\n",
       "      <td>folk</td>\n",
       "      <td>Saint-Petersburg</td>\n",
       "      <td>08:37:09</td>\n",
       "      <td>Monday</td>\n",
       "    </tr>\n",
       "    <tr>\n",
       "      <td>4</td>\n",
       "      <td>E2DC1FAE</td>\n",
       "      <td>Soul People</td>\n",
       "      <td>Space Echo</td>\n",
       "      <td>dance</td>\n",
       "      <td>Moscow</td>\n",
       "      <td>08:34:34</td>\n",
       "      <td>Monday</td>\n",
       "    </tr>\n",
       "    <tr>\n",
       "      <td>5</td>\n",
       "      <td>842029A1</td>\n",
       "      <td>Преданная</td>\n",
       "      <td>IMPERVTOR</td>\n",
       "      <td>rusrap</td>\n",
       "      <td>Saint-Petersburg</td>\n",
       "      <td>13:09:41</td>\n",
       "      <td>Friday</td>\n",
       "    </tr>\n",
       "    <tr>\n",
       "      <td>6</td>\n",
       "      <td>4CB90AA5</td>\n",
       "      <td>True</td>\n",
       "      <td>Roman Messer</td>\n",
       "      <td>dance</td>\n",
       "      <td>Moscow</td>\n",
       "      <td>13:00:07</td>\n",
       "      <td>Wednesday</td>\n",
       "    </tr>\n",
       "    <tr>\n",
       "      <td>7</td>\n",
       "      <td>F03E1C1F</td>\n",
       "      <td>Feeling This Way</td>\n",
       "      <td>Polina Griffith</td>\n",
       "      <td>dance</td>\n",
       "      <td>Moscow</td>\n",
       "      <td>20:47:49</td>\n",
       "      <td>Wednesday</td>\n",
       "    </tr>\n",
       "    <tr>\n",
       "      <td>8</td>\n",
       "      <td>8FA1D3BE</td>\n",
       "      <td>И вновь продолжается бой</td>\n",
       "      <td>NaN</td>\n",
       "      <td>ruspop</td>\n",
       "      <td>Moscow</td>\n",
       "      <td>09:17:40</td>\n",
       "      <td>Friday</td>\n",
       "    </tr>\n",
       "    <tr>\n",
       "      <td>9</td>\n",
       "      <td>E772D5C0</td>\n",
       "      <td>Pessimist</td>\n",
       "      <td>NaN</td>\n",
       "      <td>dance</td>\n",
       "      <td>Saint-Petersburg</td>\n",
       "      <td>21:20:49</td>\n",
       "      <td>Wednesday</td>\n",
       "    </tr>\n",
       "  </tbody>\n",
       "</table>\n",
       "</div>"
      ],
      "text/plain": [
       "     userID                        Track            artist   genre  \\\n",
       "0  FFB692EC            Kamigata To Boots  The Mass Missile    rock   \n",
       "1  55204538  Delayed Because of Accident  Andreas Rönnberg    rock   \n",
       "2    20EC38            Funiculì funiculà       Mario Lanza     pop   \n",
       "3  A3DD03C9        Dragons in the Sunset        Fire + Ice    folk   \n",
       "4  E2DC1FAE                  Soul People        Space Echo   dance   \n",
       "5  842029A1                    Преданная         IMPERVTOR  rusrap   \n",
       "6  4CB90AA5                         True      Roman Messer   dance   \n",
       "7  F03E1C1F             Feeling This Way   Polina Griffith   dance   \n",
       "8  8FA1D3BE     И вновь продолжается бой               NaN  ruspop   \n",
       "9  E772D5C0                    Pessimist               NaN   dance   \n",
       "\n",
       "             City        time        Day  \n",
       "0  Saint-Petersburg  20:28:33  Wednesday  \n",
       "1            Moscow  14:07:09     Friday  \n",
       "2  Saint-Petersburg  20:58:07  Wednesday  \n",
       "3  Saint-Petersburg  08:37:09     Monday  \n",
       "4            Moscow  08:34:34     Monday  \n",
       "5  Saint-Petersburg  13:09:41     Friday  \n",
       "6            Moscow  13:00:07  Wednesday  \n",
       "7            Moscow  20:47:49  Wednesday  \n",
       "8            Moscow  09:17:40     Friday  \n",
       "9  Saint-Petersburg  21:20:49  Wednesday  "
      ]
     },
     "execution_count": 3,
     "metadata": {},
     "output_type": "execute_result"
    }
   ],
   "source": [
    "df.head(10) # получение первых 10 строк таблицы df"
   ]
  },
  {
   "cell_type": "markdown",
   "metadata": {
    "id": "EO73Kwic_Zct"
   },
   "source": [
    "Одной командой получить общую информацию о таблице:"
   ]
  },
  {
   "cell_type": "code",
   "execution_count": 4,
   "metadata": {
    "id": "DSf2kIb-_Zct"
   },
   "outputs": [
    {
     "name": "stdout",
     "output_type": "stream",
     "text": [
      "<class 'pandas.core.frame.DataFrame'>\n",
      "RangeIndex: 65079 entries, 0 to 65078\n",
      "Data columns (total 7 columns):\n",
      "  userID    65079 non-null object\n",
      "Track       63848 non-null object\n",
      "artist      57876 non-null object\n",
      "genre       63881 non-null object\n",
      "  City      65079 non-null object\n",
      "time        65079 non-null object\n",
      "Day         65079 non-null object\n",
      "dtypes: object(7)\n",
      "memory usage: 3.5+ MB\n"
     ]
    }
   ],
   "source": [
    "df.info()    # получение общей информации о данных в таблице df"
   ]
  },
  {
   "cell_type": "markdown",
   "metadata": {
    "id": "TaQ2Iwbr_Zct"
   },
   "source": [
    "Итак, в таблице семь столбцов. Тип данных во всех столбцах — `object`.\n",
    "\n",
    "Согласно документации к данным:\n",
    "* `userID` — идентификатор пользователя;\n",
    "* `Track` — название трека;  \n",
    "* `artist` — имя исполнителя;\n",
    "* `genre` — название жанра;\n",
    "* `City` — город пользователя;\n",
    "* `time` — время начала прослушивания;\n",
    "* `Day` — день недели.\n",
    "\n",
    "В названиях колонок видны три нарушения стиля:\n",
    "1. Строчные буквы сочетаются с прописными.\n",
    "2. Встречаются пробелы.\n",
    "3. Столбцы необходимо привести к змеиному регистру.\n",
    "\n",
    "Количество значений в столбцах различается. Значит, в данных есть пропущенные значения.\n"
   ]
  },
  {
   "cell_type": "markdown",
   "metadata": {
    "id": "MCB6-dXG_Zct"
   },
   "source": [
    "**Выводы**\n",
    "\n",
    "В каждой строке таблицы — данные о прослушанном треке. Часть колонок описывает саму композицию: название, исполнителя и жанр. Остальные данные рассказывают о пользователе: из какого он города, когда он слушал музыку. \n",
    "\n",
    "Предварительно можно утверждать, что, данных достаточно для проверки гипотез. Но встречаются пропуски в данных, а в названиях колонок — расхождения с хорошим стилем.\n",
    "\n",
    "Чтобы двигаться дальше, нужно устранить проблемы в данных."
   ]
  },
  {
   "cell_type": "markdown",
   "metadata": {
    "id": "SjYF6Ub9_Zct"
   },
   "source": [
    "## Предобработка данных\n",
    "Исправьте стиль в заголовках столбцов, исключите пропуски. Затем проверьте данные на дубликаты."
   ]
  },
  {
   "cell_type": "markdown",
   "metadata": {
    "id": "dIaKXr29_Zct"
   },
   "source": [
    "### Стиль заголовков\n",
    "Выведите на экран названия столбцов:"
   ]
  },
  {
   "cell_type": "code",
   "execution_count": 5,
   "metadata": {
    "id": "oKOTdF_Q_Zct"
   },
   "outputs": [
    {
     "data": {
      "text/plain": [
       "Index(['  userID', 'Track', 'artist', 'genre', '  City  ', 'time', 'Day'], dtype='object')"
      ]
     },
     "execution_count": 5,
     "metadata": {},
     "output_type": "execute_result"
    }
   ],
   "source": [
    "df.columns    # перечень названий столбцов таблицы df"
   ]
  },
  {
   "cell_type": "markdown",
   "metadata": {
    "id": "zj5534cv_Zct"
   },
   "source": [
    "Приведите названия в соответствие с хорошим стилем:\n",
    "* несколько слов в названии запишите в «змеином_регистре»,\n",
    "* все символы сделайте строчными,\n",
    "* устраните пробелы.\n",
    "\n",
    "Для этого переименуйте колонки так:\n",
    "* `'  userID'` → `'user_id'`;\n",
    "* `'Track'` → `'track'`;\n",
    "* `'  City  '` → `'city'`;\n",
    "* `'Day'` → `'day'`."
   ]
  },
  {
   "cell_type": "code",
   "execution_count": 6,
   "metadata": {
    "id": "ISlFqs5y_Zct"
   },
   "outputs": [],
   "source": [
    "df = df.rename(\n",
    "    columns={\n",
    "        '  userID': 'user_id',\n",
    "        'Track': 'track',\n",
    "        '  City  ': 'city',\n",
    "        'Day': 'day'\n",
    "    }\n",
    ")    \n",
    "# переименование столбцов"
   ]
  },
  {
   "cell_type": "markdown",
   "metadata": {
    "id": "1dqbh00J_Zct"
   },
   "source": [
    "Проверьте результат. Для этого ещё раз выведите на экран названия столбцов:"
   ]
  },
  {
   "cell_type": "code",
   "execution_count": 7,
   "metadata": {
    "id": "d4NOAmTW_Zct"
   },
   "outputs": [
    {
     "data": {
      "text/plain": [
       "Index(['user_id', 'track', 'artist', 'genre', 'city', 'time', 'day'], dtype='object')"
      ]
     },
     "execution_count": 7,
     "metadata": {},
     "output_type": "execute_result"
    }
   ],
   "source": [
    "df.columns    # проверка результатов - перечень названий столбцов"
   ]
  },
  {
   "cell_type": "markdown",
   "metadata": {
    "id": "5ISfbcfY_Zct"
   },
   "source": [
    "### Пропуски значений\n",
    "Сначала посчитайте, сколько в таблице пропущенных значений. Для этого достаточно двух методов `pandas`:"
   ]
  },
  {
   "cell_type": "code",
   "execution_count": 8,
   "metadata": {
    "id": "RskX29qr_Zct"
   },
   "outputs": [
    {
     "data": {
      "text/plain": [
       "user_id       0\n",
       "track      1231\n",
       "artist     7203\n",
       "genre      1198\n",
       "city          0\n",
       "time          0\n",
       "day           0\n",
       "dtype: int64"
      ]
     },
     "execution_count": 8,
     "metadata": {},
     "output_type": "execute_result"
    }
   ],
   "source": [
    "df.isna().sum()    # подсчёт пропусков"
   ]
  },
  {
   "cell_type": "markdown",
   "metadata": {
    "id": "qubhgnlO_Zct"
   },
   "source": [
    "Не все пропущенные значения влияют на исследование. Так в `track` и `artist` пропуски не важны для вашей работы. Достаточно заменить их явными обозначениями.\n",
    "\n",
    "Но пропуски в `genre` могут помешать сравнению музыкальных вкусов в Москве и Санкт-Петербурге. На практике было бы правильно установить причину пропусков и восстановить данные. Такой возможности нет в учебном проекте. Придётся:\n",
    "* заполнить и эти пропуски явными обозначениями,\n",
    "* оценить, насколько они повредят расчётам. "
   ]
  },
  {
   "cell_type": "markdown",
   "metadata": {
    "id": "fSv2laPA_Zct"
   },
   "source": [
    "Замените пропущенные значения в столбцах `track`, `artist` и `genre` на строку `'unknown'`. Для этого создайте список `columns_to_replace`, переберите его элементы циклом `for` и для каждого столбца выполните замену пропущенных значений:"
   ]
  },
  {
   "cell_type": "code",
   "execution_count": 9,
   "metadata": {
    "id": "KplB5qWs_Zct"
   },
   "outputs": [],
   "source": [
    "columns_to_replace = ['track', 'artist', 'genre']\n",
    "for column in columns_to_replace:\n",
    "    df[column].fillna('unknown', inplace=True)    \n",
    "# перебор названий столбцов в цикле и замена пропущенных значений на 'unknown'"
   ]
  },
  {
   "cell_type": "markdown",
   "metadata": {
    "id": "Ilsm-MZo_Zct"
   },
   "source": [
    "Убедитесь, что в таблице не осталось пропусков. Для этого ещё раз посчитайте пропущенные значения."
   ]
  },
  {
   "cell_type": "code",
   "execution_count": 10,
   "metadata": {
    "id": "Tq4nYRX4_Zct"
   },
   "outputs": [
    {
     "data": {
      "text/plain": [
       "user_id    0\n",
       "track      0\n",
       "artist     0\n",
       "genre      0\n",
       "city       0\n",
       "time       0\n",
       "day        0\n",
       "dtype: int64"
      ]
     },
     "execution_count": 10,
     "metadata": {},
     "output_type": "execute_result"
    }
   ],
   "source": [
    "df.isna().sum()     # подсчёт пропусков"
   ]
  },
  {
   "cell_type": "markdown",
   "metadata": {
    "id": "BWKRtBJ3_Zct"
   },
   "source": [
    "### Дубликаты\n",
    "Посчитайте явные дубликаты в таблице одной командой:"
   ]
  },
  {
   "cell_type": "code",
   "execution_count": 11,
   "metadata": {
    "id": "36eES_S0_Zct"
   },
   "outputs": [
    {
     "data": {
      "text/plain": [
       "3826"
      ]
     },
     "execution_count": 11,
     "metadata": {},
     "output_type": "execute_result"
    }
   ],
   "source": [
    "df.duplicated().sum()    # подсчёт явных дубликатов"
   ]
  },
  {
   "cell_type": "markdown",
   "metadata": {
    "id": "Ot25h6XR_Zct"
   },
   "source": [
    "Вызовите специальный метод `pandas`, чтобы удалить явные дубликаты:"
   ]
  },
  {
   "cell_type": "code",
   "execution_count": 12,
   "metadata": {
    "id": "exFHq6tt_Zct"
   },
   "outputs": [],
   "source": [
    "df = df.drop_duplicates().reset_index(drop=True)    # удаление явных дубликатов (с удалением старых индексов и формированием новых)"
   ]
  },
  {
   "cell_type": "markdown",
   "metadata": {
    "id": "Im2YwBEG_Zct"
   },
   "source": [
    "Ещё раз посчитайте явные дубликаты в таблице — убедитесь, что полностью от них избавились:"
   ]
  },
  {
   "cell_type": "code",
   "execution_count": 13,
   "metadata": {
    "id": "-8PuNWQ0_Zct"
   },
   "outputs": [
    {
     "data": {
      "text/plain": [
       "0"
      ]
     },
     "execution_count": 13,
     "metadata": {},
     "output_type": "execute_result"
    }
   ],
   "source": [
    "df.duplicated().sum()     # проверка на отсутствие дубликатов"
   ]
  },
  {
   "cell_type": "markdown",
   "metadata": {
    "id": "QlFBsxAr_Zct"
   },
   "source": [
    "Теперь избавьтесь от неявных дубликатов в колонке `genre`. Например, название одного и того же жанра может быть записано немного по-разному. Такие ошибки тоже повлияют на результат исследования."
   ]
  },
  {
   "cell_type": "markdown",
   "metadata": {
    "id": "eSjWwsOh_Zct"
   },
   "source": [
    "Выведите на экран список уникальных названий жанров, отсортированный в алфавитном порядке. Для этого:\n",
    "* извлеките нужный столбец датафрейма, \n",
    "* примените к нему метод сортировки,\n",
    "* для отсортированного столбца вызовите метод, который вернёт уникальные значения из столбца."
   ]
  },
  {
   "cell_type": "code",
   "execution_count": 14,
   "metadata": {
    "id": "JIUcqzZN_Zct"
   },
   "outputs": [
    {
     "data": {
      "text/plain": [
       "array(['электроника', 'ïîï', 'worldbeat', 'world', 'western', 'vocal',\n",
       "       'videogame', 'vi', 'variété', 'uzbek', 'urban', 'unknown',\n",
       "       'ukrrock', 'türkçe', 'türk', 'tropical', 'triphop', 'trip',\n",
       "       'tribal', 'trance', 'tradjazz', 'traditional', 'top', 'thrash',\n",
       "       'teen', 'techno', 'tech', 'tatar', 'taraftar', 'tanzorchester',\n",
       "       'tango', 'sängerportrait', 'synthrock', 'synthpop', 'swing',\n",
       "       'surf', 'stonerrock', 'sport', 'spiritual', 'speech', 'specialty',\n",
       "       'southern', 'soundtrack', 'sound', 'soulful', 'soul', 'soft',\n",
       "       'smooth', 'slow', 'skarock', 'ska', 'singer', 'showtunes',\n",
       "       'shoegazing', 'shanson', 'sertanejo', 'self', 'schlager', 'scenic',\n",
       "       'samba', 'salsa', 'russian', 'rusrock', 'rusrap', 'ruspop',\n",
       "       'roots', 'romance', 'rockother', 'rockindie', 'rockalternative',\n",
       "       'rockabilly', 'rock', 'rnr', 'rnb', 'rhythm', 'retro', 'religious',\n",
       "       'relax', 'regional', 'reggaeton', 'reggae', 'rave', 'rap',\n",
       "       'rancheras', 'ram', 'ragga', 'quebecois', 'punk', 'punjabi',\n",
       "       'psychedelic', 'progressive', 'progmetal', 'power', 'postrock',\n",
       "       'posthardcore', 'post', 'poprussian', 'popeurodance',\n",
       "       'popelectronic', 'popdance', 'pop', 'podcasts', 'piano', 'other',\n",
       "       'orchestral', 'opera', 'old', 'oceania', 'numetal', 'nujazz', 'nu',\n",
       "       'newwave', 'newage', 'new', 'neue', 'neoklassik', 'native',\n",
       "       'muslim', 'mpb', 'mood', 'modern', 'miscellaneous', 'minimal',\n",
       "       'middle', 'mexican', 'metalcore', 'metal', 'melodic',\n",
       "       'mediterranean', 'meditative', 'marschmusik', 'mandopop',\n",
       "       'malaysian', 'lovers', 'loungeelectronic', 'lounge', 'local',\n",
       "       'leftfield', 'latino', 'latin', 'laiko', 'korean', 'kayokyoku',\n",
       "       'karaoke', 'karadeniz', 'k-pop', 'jungle', 'jpop', 'jewish',\n",
       "       'jazz', 'japanese', 'jam', 'irish', 'international',\n",
       "       'instrumental', 'inspirational', 'industrial', 'indipop', 'indie',\n",
       "       'indian', 'independent', 'idm', 'hymn', 'house', 'horror', 'hop',\n",
       "       'holiday', 'historisch', 'hiphop', 'hip-hop', 'hip', 'hardtechno',\n",
       "       'hardstyle', 'hardcore', \"hard'n'heavy\", 'handsup', 'gypsy',\n",
       "       'grunge', 'grime', 'gothic', 'gospel', 'glitch', 'gitarre',\n",
       "       'ghazal', 'german', 'garage', 'gangsta', 'future', 'funk',\n",
       "       'french', 'französisch', 'frankreich', 'forró', 'folktronica',\n",
       "       'folkrock', 'folkmetal', 'folklore', 'folk', 'flamenco', 'fitness',\n",
       "       'film', 'fairytail', 'fado', 'extrememetal', 'experimental',\n",
       "       'european', 'eurofolk', 'ethnic', 'estrada', 'epicmetal',\n",
       "       'entehno', 'emo', 'electropop', 'electronic', 'easy', 'eastern',\n",
       "       'dubstep', 'dub', 'drum', 'downtempo', 'downbeat', 'documentary',\n",
       "       'dnb', 'disco', 'dirty', 'deutschspr', 'deutschrock', 'deep',\n",
       "       'death', 'dark', 'dancepop', 'dancehall', 'dance', 'cuban',\n",
       "       'country', 'contemporary', 'conjazz', 'comedy', 'colombian',\n",
       "       'club', 'classicmetal', 'classical', 'christmas', 'christian',\n",
       "       'choral', 'chinese', 'chill', 'children', 'chanson', 'chamber',\n",
       "       'celtic', 'caucasian', 'caribbean', 'canzone', 'cantopop',\n",
       "       'cantautori', 'broadway', 'breaks', 'breakbeat', 'brazilian',\n",
       "       'bossa', 'bollywood', 'blues', 'bluegrass', 'black', 'bigroom',\n",
       "       'beats', 'balkan', 'baile', 'axé', 'avantgarde', 'author',\n",
       "       'audiobook', 'art', 'argentinetango', 'arena', 'arabic', 'arabesk',\n",
       "       'anime', 'animated', 'americana', 'ambient', 'alternativepunk',\n",
       "       'alternative', 'afrikaans', 'africa', 'adult', 'action',\n",
       "       'acoustic', 'acid'], dtype=object)"
      ]
     },
     "execution_count": 14,
     "metadata": {},
     "output_type": "execute_result"
    }
   ],
   "source": [
    "df['genre'].sort_values(ascending=False).unique()    # Просмотр уникальных названий жанров"
   ]
  },
  {
   "cell_type": "markdown",
   "metadata": {
    "id": "qej-Qmuo_Zct"
   },
   "source": [
    "Просмотрите список и найдите неявные дубликаты названия `hiphop`. Это могут быть названия с ошибками или альтернативные названия того же жанра.\n",
    "\n",
    "Вы увидите следующие неявные дубликаты:\n",
    "* *hip*,\n",
    "* *hop*,\n",
    "* *hip-hop*.\n",
    "\n",
    "Чтобы очистить от них таблицу, напишите функцию `replace_wrong_genres()` с двумя параметрами: \n",
    "* `wrong_genres` — список дубликатов,\n",
    "* `correct_genre` — строка с правильным значением.\n",
    "\n",
    "Функция должна исправить колонку `genre` в таблице `df`: заменить каждое значение из списка `wrong_genres` на значение из `correct_genre`."
   ]
  },
  {
   "cell_type": "code",
   "execution_count": 15,
   "metadata": {
    "id": "ErNDkmns_Zct"
   },
   "outputs": [],
   "source": [
    "def replace_wrong_genres(wrong_genres, correct_genre):\n",
    "    for value in wrong_genres:\n",
    "        df['genre'] = df['genre'].replace(value, correct_genre)\n",
    "    return df['genre']\n",
    "\n",
    "wrong_genres = ['hip', 'hop', 'hip-hop']\n",
    "correct_genre = 'hiphop'\n",
    "# Функция для замены неявных дубликатов"
   ]
  },
  {
   "cell_type": "markdown",
   "metadata": {
    "id": "aDoBJxbA_Zct"
   },
   "source": [
    "Вызовите `replace_wrong_genres()` и передайте ей такие аргументы, чтобы она устранила неявные дубликаты: вместо `hip`, `hop` и `hip-hop` в таблице должно быть значение `hiphop`:"
   ]
  },
  {
   "cell_type": "code",
   "execution_count": 16,
   "metadata": {
    "id": "YN5i2hpmSo09"
   },
   "outputs": [
    {
     "data": {
      "text/plain": [
       "0              rock\n",
       "1              rock\n",
       "2               pop\n",
       "3              folk\n",
       "4             dance\n",
       "            ...    \n",
       "61248           rnb\n",
       "61249        hiphop\n",
       "61250    industrial\n",
       "61251          rock\n",
       "61252       country\n",
       "Name: genre, Length: 61253, dtype: object"
      ]
     },
     "execution_count": 16,
     "metadata": {},
     "output_type": "execute_result"
    }
   ],
   "source": [
    "replace_wrong_genres(wrong_genres, correct_genre) # Устранение неявных дубликатов"
   ]
  },
  {
   "cell_type": "markdown",
   "metadata": {
    "id": "zQKF16_RG15m"
   },
   "source": [
    "Проверьте, что заменили неправильные названия:\n",
    "\n",
    "*   hip\n",
    "*   hop\n",
    "*   hip-hop\n",
    "\n",
    "Выведите отсортированный список уникальных значений столбца `genre`:"
   ]
  },
  {
   "cell_type": "code",
   "execution_count": 17,
   "metadata": {
    "id": "wvixALnFG15m"
   },
   "outputs": [
    {
     "data": {
      "text/plain": [
       "array(['электроника', 'ïîï', 'worldbeat', 'world', 'western', 'vocal',\n",
       "       'videogame', 'vi', 'variété', 'uzbek', 'urban', 'unknown',\n",
       "       'ukrrock', 'türkçe', 'türk', 'tropical', 'triphop', 'trip',\n",
       "       'tribal', 'trance', 'tradjazz', 'traditional', 'top', 'thrash',\n",
       "       'teen', 'techno', 'tech', 'tatar', 'taraftar', 'tanzorchester',\n",
       "       'tango', 'sängerportrait', 'synthrock', 'synthpop', 'swing',\n",
       "       'surf', 'stonerrock', 'sport', 'spiritual', 'speech', 'specialty',\n",
       "       'southern', 'soundtrack', 'sound', 'soulful', 'soul', 'soft',\n",
       "       'smooth', 'slow', 'skarock', 'ska', 'singer', 'showtunes',\n",
       "       'shoegazing', 'shanson', 'sertanejo', 'self', 'schlager', 'scenic',\n",
       "       'samba', 'salsa', 'russian', 'rusrock', 'rusrap', 'ruspop',\n",
       "       'roots', 'romance', 'rockother', 'rockindie', 'rockalternative',\n",
       "       'rockabilly', 'rock', 'rnr', 'rnb', 'rhythm', 'retro', 'religious',\n",
       "       'relax', 'regional', 'reggaeton', 'reggae', 'rave', 'rap',\n",
       "       'rancheras', 'ram', 'ragga', 'quebecois', 'punk', 'punjabi',\n",
       "       'psychedelic', 'progressive', 'progmetal', 'power', 'postrock',\n",
       "       'posthardcore', 'post', 'poprussian', 'popeurodance',\n",
       "       'popelectronic', 'popdance', 'pop', 'podcasts', 'piano', 'other',\n",
       "       'orchestral', 'opera', 'old', 'oceania', 'numetal', 'nujazz', 'nu',\n",
       "       'newwave', 'newage', 'new', 'neue', 'neoklassik', 'native',\n",
       "       'muslim', 'mpb', 'mood', 'modern', 'miscellaneous', 'minimal',\n",
       "       'middle', 'mexican', 'metalcore', 'metal', 'melodic',\n",
       "       'mediterranean', 'meditative', 'marschmusik', 'mandopop',\n",
       "       'malaysian', 'lovers', 'loungeelectronic', 'lounge', 'local',\n",
       "       'leftfield', 'latino', 'latin', 'laiko', 'korean', 'kayokyoku',\n",
       "       'karaoke', 'karadeniz', 'k-pop', 'jungle', 'jpop', 'jewish',\n",
       "       'jazz', 'japanese', 'jam', 'irish', 'international',\n",
       "       'instrumental', 'inspirational', 'industrial', 'indipop', 'indie',\n",
       "       'indian', 'independent', 'idm', 'hymn', 'house', 'horror',\n",
       "       'holiday', 'historisch', 'hiphop', 'hardtechno', 'hardstyle',\n",
       "       'hardcore', \"hard'n'heavy\", 'handsup', 'gypsy', 'grunge', 'grime',\n",
       "       'gothic', 'gospel', 'glitch', 'gitarre', 'ghazal', 'german',\n",
       "       'garage', 'gangsta', 'future', 'funk', 'french', 'französisch',\n",
       "       'frankreich', 'forró', 'folktronica', 'folkrock', 'folkmetal',\n",
       "       'folklore', 'folk', 'flamenco', 'fitness', 'film', 'fairytail',\n",
       "       'fado', 'extrememetal', 'experimental', 'european', 'eurofolk',\n",
       "       'ethnic', 'estrada', 'epicmetal', 'entehno', 'emo', 'electropop',\n",
       "       'electronic', 'easy', 'eastern', 'dubstep', 'dub', 'drum',\n",
       "       'downtempo', 'downbeat', 'documentary', 'dnb', 'disco', 'dirty',\n",
       "       'deutschspr', 'deutschrock', 'deep', 'death', 'dark', 'dancepop',\n",
       "       'dancehall', 'dance', 'cuban', 'country', 'contemporary',\n",
       "       'conjazz', 'comedy', 'colombian', 'club', 'classicmetal',\n",
       "       'classical', 'christmas', 'christian', 'choral', 'chinese',\n",
       "       'chill', 'children', 'chanson', 'chamber', 'celtic', 'caucasian',\n",
       "       'caribbean', 'canzone', 'cantopop', 'cantautori', 'broadway',\n",
       "       'breaks', 'breakbeat', 'brazilian', 'bossa', 'bollywood', 'blues',\n",
       "       'bluegrass', 'black', 'bigroom', 'beats', 'balkan', 'baile', 'axé',\n",
       "       'avantgarde', 'author', 'audiobook', 'art', 'argentinetango',\n",
       "       'arena', 'arabic', 'arabesk', 'anime', 'animated', 'americana',\n",
       "       'ambient', 'alternativepunk', 'alternative', 'afrikaans', 'africa',\n",
       "       'adult', 'action', 'acoustic', 'acid'], dtype=object)"
      ]
     },
     "execution_count": 17,
     "metadata": {},
     "output_type": "execute_result"
    }
   ],
   "source": [
    "df['genre'].sort_values(ascending=False).unique()     # Проверка на неявные дубликаты"
   ]
  },
  {
   "cell_type": "markdown",
   "metadata": {
    "id": "jz6a9-7HQUDd"
   },
   "source": [
    "**Выводы**\n",
    "\n",
    "Предобработка обнаружила три проблемы в данных:\n",
    "\n",
    "- нарушения в стиле заголовков,\n",
    "- пропущенные значения,\n",
    "- дубликаты — явные и неявные.\n",
    "\n",
    "Вы исправили заголовки, чтобы упростить работу с таблицей. Без дубликатов исследование станет более точным.\n",
    "\n",
    "Пропущенные значения вы заменили на `'unknown'`. Ещё предстоит увидеть, не повредят ли исследованию пропуски в колонке `genre`.\n",
    "\n",
    "Теперь можно перейти к проверке гипотез. "
   ]
  },
  {
   "cell_type": "markdown",
   "metadata": {
    "id": "WttZHXH0SqKk"
   },
   "source": [
    "## Проверка гипотез"
   ]
  },
  {
   "cell_type": "markdown",
   "metadata": {
    "id": "Im936VVi_Zcu"
   },
   "source": [
    "### Сравнение поведения пользователей двух столиц"
   ]
  },
  {
   "cell_type": "markdown",
   "metadata": {
    "id": "nwt_MuaL_Zcu"
   },
   "source": [
    "Первая гипотеза утверждает, что пользователи по-разному слушают музыку в Москве и Санкт-Петербурге. Проверьте это предположение по данным о трёх днях недели — понедельнике, среде и пятнице. Для этого:\n",
    "\n",
    "* Разделите пользователей Москвы и Санкт-Петербурга\n",
    "* Сравните, сколько треков послушала каждая группа пользователей в понедельник, среду и пятницу.\n"
   ]
  },
  {
   "cell_type": "markdown",
   "metadata": {
    "id": "8Dw_YMmT_Zcu"
   },
   "source": [
    "Для тренировки сначала выполните каждый из расчётов по отдельности. \n",
    "\n",
    "Оцените активность пользователей в каждом городе. Сгруппируйте данные по городу и посчитайте прослушивания в каждой группе.\n",
    "\n"
   ]
  },
  {
   "cell_type": "code",
   "execution_count": 18,
   "metadata": {
    "id": "0_Qs96oh_Zcu"
   },
   "outputs": [
    {
     "data": {
      "text/plain": [
       "city\n",
       "Moscow              42741\n",
       "Saint-Petersburg    18512\n",
       "Name: user_id, dtype: int64"
      ]
     },
     "execution_count": 18,
     "metadata": {},
     "output_type": "execute_result"
    }
   ],
   "source": [
    "df.groupby('city')['user_id'].count()     # Подсчёт прослушиваний в каждом городе"
   ]
  },
  {
   "cell_type": "markdown",
   "metadata": {
    "id": "dzli3w8o_Zcu"
   },
   "source": [
    "В Москве прослушиваний больше, чем в Петербурге. Из этого не следует, что московские пользователи чаще слушают музыку. Просто самих пользователей в Москве больше.\n",
    "\n",
    "Теперь сгруппируйте данные по дню недели и подсчитайте прослушивания в понедельник, среду и пятницу. Учтите, что в данных есть информация только о прослушиваниях только за эти дни.\n"
   ]
  },
  {
   "cell_type": "code",
   "execution_count": 19,
   "metadata": {
    "id": "uZMKjiJz_Zcu"
   },
   "outputs": [
    {
     "data": {
      "text/plain": [
       "day\n",
       "Friday       21840\n",
       "Monday       21354\n",
       "Wednesday    18059\n",
       "Name: user_id, dtype: int64"
      ]
     },
     "execution_count": 19,
     "metadata": {},
     "output_type": "execute_result"
    }
   ],
   "source": [
    "df.groupby('day')['user_id'].count()    # Подсчёт прослушиваний в каждый из трёх дней"
   ]
  },
  {
   "cell_type": "markdown",
   "metadata": {
    "id": "cC2tNrlL_Zcu"
   },
   "source": [
    "В среднем пользователи из двух городов менее активны по средам. Но картина может измениться, если рассмотреть каждый город в отдельности."
   ]
  },
  {
   "cell_type": "markdown",
   "metadata": {
    "id": "POzs8bGa_Zcu"
   },
   "source": [
    "Вы видели, как работает группировка по городу и по дням недели. Теперь напишите функцию, которая объединит два эти расчёта.\n",
    "\n",
    "Создайте функцию `number_tracks()`, которая посчитает прослушивания для заданного дня и города. Ей понадобятся два параметра:\n",
    "* день недели,\n",
    "* название города.\n",
    "\n",
    "В функции сохраните в переменную строки исходной таблицы, у которых значение:\n",
    "  * в колонке `day` равно параметру `day`,\n",
    "  * в колонке `city` равно параметру `city`.\n",
    "\n",
    "Для этого примените последовательную фильтрацию с логической индексацией.\n",
    "\n",
    "Затем посчитайте значения в столбце `user_id` получившейся таблицы. Результат сохраните в новую переменную. Верните эту переменную из функции."
   ]
  },
  {
   "cell_type": "code",
   "execution_count": 20,
   "metadata": {
    "id": "Nz3GdQB1_Zcu"
   },
   "outputs": [],
   "source": [
    "def number_tracks(day, city):\n",
    "    track_list = df[(df['day'] == day) & (df['city'] == city)]\n",
    "    track_list_count = track_list['user_id'].count()\n",
    "    return track_list_count"
   ]
  },
  {
   "cell_type": "markdown",
   "metadata": {
    "id": "ytf7xFrFJQ2r"
   },
   "source": [
    "Вызовите `number_tracks()` шесть раз, меняя значение параметров — так, чтобы получить данные для каждого города в каждый из трёх дней."
   ]
  },
  {
   "cell_type": "code",
   "execution_count": 21,
   "metadata": {
    "id": "rJcRATNQ_Zcu"
   },
   "outputs": [
    {
     "data": {
      "text/plain": [
       "15740"
      ]
     },
     "execution_count": 21,
     "metadata": {},
     "output_type": "execute_result"
    }
   ],
   "source": [
    "number_tracks('Monday', 'Moscow') # количество прослушиваний в Москве по понедельникам"
   ]
  },
  {
   "cell_type": "code",
   "execution_count": 22,
   "metadata": {
    "id": "hq_ncZ5T_Zcu"
   },
   "outputs": [
    {
     "data": {
      "text/plain": [
       "5614"
      ]
     },
     "execution_count": 22,
     "metadata": {},
     "output_type": "execute_result"
    }
   ],
   "source": [
    "number_tracks('Monday', 'Saint-Petersburg')   # количество прослушиваний в Санкт-Петербурге по понедельникам"
   ]
  },
  {
   "cell_type": "code",
   "execution_count": 23,
   "metadata": {
    "id": "_NTy2VPU_Zcu"
   },
   "outputs": [
    {
     "data": {
      "text/plain": [
       "11056"
      ]
     },
     "execution_count": 23,
     "metadata": {},
     "output_type": "execute_result"
    }
   ],
   "source": [
    "number_tracks('Wednesday', 'Moscow')   # количество прослушиваний в Москве по средам"
   ]
  },
  {
   "cell_type": "code",
   "execution_count": 24,
   "metadata": {
    "id": "j2y3TAwo_Zcu"
   },
   "outputs": [
    {
     "data": {
      "text/plain": [
       "7003"
      ]
     },
     "execution_count": 24,
     "metadata": {},
     "output_type": "execute_result"
    }
   ],
   "source": [
    "number_tracks('Wednesday', 'Saint-Petersburg')   # количество прослушиваний в Санкт-Петербурге по средам"
   ]
  },
  {
   "cell_type": "code",
   "execution_count": 25,
   "metadata": {
    "id": "vYDw5u_K_Zcu"
   },
   "outputs": [
    {
     "data": {
      "text/plain": [
       "15945"
      ]
     },
     "execution_count": 25,
     "metadata": {},
     "output_type": "execute_result"
    }
   ],
   "source": [
    "number_tracks('Friday', 'Moscow')   # количество прослушиваний в Москве по пятницам"
   ]
  },
  {
   "cell_type": "code",
   "execution_count": 26,
   "metadata": {
    "id": "8_yzFtW3_Zcu"
   },
   "outputs": [
    {
     "data": {
      "text/plain": [
       "5895"
      ]
     },
     "execution_count": 26,
     "metadata": {},
     "output_type": "execute_result"
    }
   ],
   "source": [
    "number_tracks('Friday', 'Saint-Petersburg')   # количество прослушиваний в Санкт-Петербурге по пятницам"
   ]
  },
  {
   "cell_type": "markdown",
   "metadata": {
    "id": "7QXffbO-_Zcu"
   },
   "source": [
    "Создайте c помощью конструктора `pd.DataFrame` таблицу, где\n",
    "* названия колонок — `['city', 'monday', 'wednesday', 'friday']`;\n",
    "* данные — результаты, которые вы получили с помощью `number_tracks`."
   ]
  },
  {
   "cell_type": "code",
   "execution_count": 27,
   "metadata": {
    "id": "APAcLpOr_Zcu"
   },
   "outputs": [
    {
     "data": {
      "text/html": [
       "<div>\n",
       "<style scoped>\n",
       "    .dataframe tbody tr th:only-of-type {\n",
       "        vertical-align: middle;\n",
       "    }\n",
       "\n",
       "    .dataframe tbody tr th {\n",
       "        vertical-align: top;\n",
       "    }\n",
       "\n",
       "    .dataframe thead th {\n",
       "        text-align: right;\n",
       "    }\n",
       "</style>\n",
       "<table border=\"1\" class=\"dataframe\">\n",
       "  <thead>\n",
       "    <tr style=\"text-align: right;\">\n",
       "      <th></th>\n",
       "      <th>city</th>\n",
       "      <th>monday</th>\n",
       "      <th>wednesday</th>\n",
       "      <th>friday</th>\n",
       "    </tr>\n",
       "  </thead>\n",
       "  <tbody>\n",
       "    <tr>\n",
       "      <td>0</td>\n",
       "      <td>Moscow</td>\n",
       "      <td>15740</td>\n",
       "      <td>11056</td>\n",
       "      <td>15945</td>\n",
       "    </tr>\n",
       "    <tr>\n",
       "      <td>1</td>\n",
       "      <td>Saint-Petersburg</td>\n",
       "      <td>5613</td>\n",
       "      <td>7003</td>\n",
       "      <td>5895</td>\n",
       "    </tr>\n",
       "  </tbody>\n",
       "</table>\n",
       "</div>"
      ],
      "text/plain": [
       "               city  monday  wednesday  friday\n",
       "0            Moscow   15740      11056   15945\n",
       "1  Saint-Petersburg    5613       7003    5895"
      ]
     },
     "execution_count": 27,
     "metadata": {},
     "output_type": "execute_result"
    }
   ],
   "source": [
    "data = [['Moscow', 15740, 11056, 15945],\n",
    "       ['Saint-Petersburg', 5613, 7003, 5895]]\n",
    "columns = ['city','monday','wednesday','friday']\n",
    "pd.DataFrame(data=data, columns=columns)"
   ]
  },
  {
   "cell_type": "markdown",
   "metadata": {
    "id": "-EgPIHYu_Zcu"
   },
   "source": [
    "**Выводы**\n",
    "\n",
    "Данные показывают разницу поведения пользователей:\n",
    "\n",
    "- В Москве пик прослушиваний приходится на понедельник и пятницу, а в среду заметен спад.\n",
    "- В Петербурге, наоборот, больше слушают музыку по средам. Активность в понедельник и пятницу здесь почти в равной мере уступает среде.\n",
    "\n",
    "Значит, данные говорят в пользу первой гипотезы."
   ]
  },
  {
   "cell_type": "markdown",
   "metadata": {
    "id": "atZAxtq4_Zcu"
   },
   "source": [
    "### Музыка в начале и в конце недели"
   ]
  },
  {
   "cell_type": "markdown",
   "metadata": {
    "id": "eXrQqXFH_Zcu"
   },
   "source": [
    "Согласно второй гипотезе, утром в понедельник в Москве преобладают одни жанры, а в Петербурге — другие. Так же и вечером пятницы преобладают разные жанры — в зависимости от города."
   ]
  },
  {
   "cell_type": "markdown",
   "metadata": {
    "id": "S8UcW6Hw_Zcu"
   },
   "source": [
    "Сохраните таблицы с данными в две переменные:\n",
    "* по Москве — в `moscow_general`;\n",
    "* по Санкт-Петербургу — в `spb_general`."
   ]
  },
  {
   "cell_type": "code",
   "execution_count": 28,
   "metadata": {
    "id": "qeaFfM_P_Zcu"
   },
   "outputs": [],
   "source": [
    "moscow_general = df[df['city'] == 'Moscow']\n",
    "# получение таблицы moscow_general из тех строк таблицы df, \n",
    "# для которых значение в столбце 'city' равно 'Moscow'\n"
   ]
  },
  {
   "cell_type": "code",
   "execution_count": 29,
   "metadata": {
    "id": "ORaVRKto_Zcu"
   },
   "outputs": [],
   "source": [
    "spb_general = df[df['city'] == 'Saint-Petersburg']\n",
    "# получение таблицы spb_general из тех строк таблицы df,\n",
    "# для которых значение в столбце 'city' равно 'Saint-Petersburg'\n"
   ]
  },
  {
   "cell_type": "markdown",
   "metadata": {
    "id": "MEJV-CX2_Zcu"
   },
   "source": [
    "Создайте функцию `genre_weekday()` с четырьмя параметрами:\n",
    "* таблица (датафрейм) с данными,\n",
    "* день недели,\n",
    "* начальная временная метка в формате 'hh:mm', \n",
    "* последняя временная метка в формате 'hh:mm'.\n",
    "\n",
    "Функция должна вернуть информацию о топ-10 жанров тех треков, которые прослушивали в указанный день, в промежутке между двумя отметками времени."
   ]
  },
  {
   "cell_type": "code",
   "execution_count": 30,
   "metadata": {
    "id": "laJT9BYl_Zcu"
   },
   "outputs": [],
   "source": [
    "# Объявление функции genre_weekday() с параметрами table, day, time1, time2,\n",
    "# которая возвращает информацию о самых популярных жанрах в указанный день в\n",
    "# заданное время:\n",
    "# 1) в переменную genre_df сохраняются те строки переданного датафрейма table, для\n",
    "#    которых одновременно:\n",
    "#    - значение в столбце day равно значению аргумента day\n",
    "#    - значение в столбце time больше значения аргумента time1\n",
    "#    - значение в столбце time меньше значения аргумента time2\n",
    "#    Используйте последовательную фильтрацию с помощью логической индексации.  \n",
    "# 2) сгруппировать датафрейм genre_df по столбцу genre, взять один из его\n",
    "#    столбцов и посчитать методом count() количество записей для каждого из\n",
    "#    присутствующих жанров, получившийся Series записать в переменную\n",
    "#    genre_df_count                    \n",
    "# 3) отсортировать genre_df_count по убыванию встречаемости и сохранить\n",
    "#    в переменную genre_df_sorted\n",
    "    #genre_df_sorted = genre_df_count.sort_values(ascending=False)\n",
    "# 4) вернуть Series из 10 первых значений genre_df_sorted, это будут топ-10\n",
    "#    популярных жанров (в указанный день, в заданное время)\n",
    "\n",
    "def genre_weekday(table, day, time1, time2):\n",
    "    genre_df = table[(table['day'] == day) & (table['time'] > time1) & (table['time'] < time2)]\n",
    "    genre_df_count = genre_df.groupby('genre')['day'].count()\n",
    "    genre_df_sorted = genre_df_count.sort_values(ascending=False)\n",
    "    return genre_df_sorted.head(10)   \n",
    "   \n",
    "                                              \n",
    "                                          \n",
    "                                              \n",
    "                                               "
   ]
  },
  {
   "cell_type": "markdown",
   "metadata": {
    "id": "la2s2_PF_Zcu"
   },
   "source": [
    "Cравните результаты функции `genre_weekday()` для Москвы и Санкт-Петербурга в понедельник утром (с 7:00 до 11:00) и в пятницу вечером (с 17:00 до 23:00):"
   ]
  },
  {
   "cell_type": "code",
   "execution_count": 31,
   "metadata": {
    "id": "yz7itPUQ_Zcu"
   },
   "outputs": [
    {
     "data": {
      "text/plain": [
       "genre\n",
       "pop            781\n",
       "dance          549\n",
       "electronic     480\n",
       "rock           474\n",
       "hiphop         286\n",
       "ruspop         186\n",
       "world          181\n",
       "rusrap         175\n",
       "alternative    164\n",
       "unknown        161\n",
       "Name: day, dtype: int64"
      ]
     },
     "execution_count": 31,
     "metadata": {},
     "output_type": "execute_result"
    }
   ],
   "source": [
    "# вызов функции для утра понедельника в Москве (вместо df — таблица moscow_general)\n",
    "# объекты, хранящие время, являются строками и сравниваются как строки\n",
    "# пример вызова: genre_weekday(moscow_general, 'Monday', '07:00', '11:00')\n",
    "\n",
    "genre_weekday(moscow_general, 'Monday', '07:00', '11:00')"
   ]
  },
  {
   "cell_type": "code",
   "execution_count": 32,
   "metadata": {
    "id": "kwUcHPdy_Zcu"
   },
   "outputs": [
    {
     "data": {
      "text/plain": [
       "genre\n",
       "pop            218\n",
       "dance          182\n",
       "rock           162\n",
       "electronic     147\n",
       "hiphop          80\n",
       "ruspop          64\n",
       "alternative     58\n",
       "rusrap          55\n",
       "jazz            44\n",
       "classical       40\n",
       "Name: day, dtype: int64"
      ]
     },
     "execution_count": 32,
     "metadata": {},
     "output_type": "execute_result"
    }
   ],
   "source": [
    "# вызов функции для утра понедельника в Петербурге (вместо df — таблица spb_general)\n",
    "genre_weekday(spb_general, 'Monday', '07:00', '11:00')"
   ]
  },
  {
   "cell_type": "code",
   "execution_count": 33,
   "metadata": {
    "id": "EzXVRE1o_Zcu"
   },
   "outputs": [
    {
     "data": {
      "text/plain": [
       "genre\n",
       "pop            713\n",
       "rock           517\n",
       "dance          495\n",
       "electronic     482\n",
       "hiphop         273\n",
       "world          208\n",
       "ruspop         170\n",
       "alternative    163\n",
       "classical      163\n",
       "rusrap         142\n",
       "Name: day, dtype: int64"
      ]
     },
     "execution_count": 33,
     "metadata": {},
     "output_type": "execute_result"
    }
   ],
   "source": [
    "# вызов функции для вечера пятницы в Москве\n",
    "genre_weekday(moscow_general, 'Friday', '17:00', '23:00')"
   ]
  },
  {
   "cell_type": "code",
   "execution_count": 34,
   "metadata": {
    "id": "JZaEKu5v_Zcu"
   },
   "outputs": [
    {
     "data": {
      "text/plain": [
       "genre\n",
       "pop            256\n",
       "rock           216\n",
       "electronic     216\n",
       "dance          210\n",
       "hiphop          97\n",
       "alternative     63\n",
       "jazz            61\n",
       "classical       60\n",
       "rusrap          59\n",
       "world           54\n",
       "Name: day, dtype: int64"
      ]
     },
     "execution_count": 34,
     "metadata": {},
     "output_type": "execute_result"
    }
   ],
   "source": [
    "# вызов функции для вечера пятницы в Петербурге\n",
    "genre_weekday(spb_general, 'Friday', '17:00', '23:00')"
   ]
  },
  {
   "cell_type": "markdown",
   "metadata": {
    "id": "wrCe4MNX_Zcu"
   },
   "source": [
    "**Выводы**\n",
    "\n",
    "Если сравнить топ-10 жанров в понедельник утром, можно сделать такие выводы:\n",
    "\n",
    "1. В Москве и Петербурге слушают похожую музыку. Единственное отличие — в московский рейтинг вошёл жанр “world”, а в петербургский — джаз и классика.\n",
    "\n",
    "2. В Москве пропущенных значений оказалось так много, что значение `'unknown'` заняло десятое место среди самых популярных жанров. Значит, пропущенные значения занимают существенную долю в данных и угрожают достоверности исследования.\n",
    "\n",
    "Вечер пятницы не меняет эту картину. Некоторые жанры поднимаются немного выше, другие спускаются, но в целом топ-10 остаётся тем же самым.\n",
    "\n",
    "Таким образом, вторая гипотеза подтвердилась лишь частично:\n",
    "* Пользователи слушают похожую музыку в начале недели и в конце.\n",
    "* Разница между Москвой и Петербургом не слишком выражена. В Москве чаще слушают русскую популярную музыку, в Петербурге — джаз.\n",
    "\n",
    "Однако пропуски в данных ставят под сомнение этот результат. В Москве их так много, что рейтинг топ-10 мог бы выглядеть иначе, если бы не утерянные  данные о жанрах."
   ]
  },
  {
   "cell_type": "markdown",
   "metadata": {
    "id": "JolODAqr_Zcu"
   },
   "source": [
    "### Жанровые предпочтения в Москве и Петербурге\n",
    "\n",
    "Гипотеза: Петербург — столица рэпа, музыку этого жанра там слушают чаще, чем в Москве.  А Москва — город контрастов, в котором, тем не менее, преобладает поп-музыка."
   ]
  },
  {
   "cell_type": "markdown",
   "metadata": {
    "id": "DlegSvaT_Zcu"
   },
   "source": [
    "Сгруппируйте таблицу `moscow_general` по жанру и посчитайте прослушивания треков каждого жанра методом `count()`. Затем отсортируйте результат в порядке убывания и сохраните его в таблице `moscow_genres`."
   ]
  },
  {
   "cell_type": "code",
   "execution_count": 35,
   "metadata": {
    "id": "r19lIPke_Zcu"
   },
   "outputs": [],
   "source": [
    "# одной строкой: группировка таблицы moscow_general по столбцу 'genre', \n",
    "# подсчёт числа значений 'genre' в этой группировке методом count(), \n",
    "# сортировка получившегося Series в порядке убывания и сохранение в moscow_genres\n",
    "moscow_genres = moscow_general.groupby('genre')['genre'].count().sort_values(ascending = False)"
   ]
  },
  {
   "cell_type": "markdown",
   "metadata": {
    "id": "6kMuomxTiIr8"
   },
   "source": [
    "Выведите на экран первые десять строк `moscow_genres`:"
   ]
  },
  {
   "cell_type": "code",
   "execution_count": 36,
   "metadata": {
    "id": "WhCSooF8_Zcv"
   },
   "outputs": [
    {
     "data": {
      "text/plain": [
       "genre\n",
       "pop            5892\n",
       "dance          4435\n",
       "rock           3965\n",
       "electronic     3786\n",
       "hiphop         2096\n",
       "classical      1616\n",
       "world          1432\n",
       "alternative    1379\n",
       "ruspop         1372\n",
       "rusrap         1161\n",
       "Name: genre, dtype: int64"
      ]
     },
     "execution_count": 36,
     "metadata": {},
     "output_type": "execute_result"
    }
   ],
   "source": [
    "moscow_genres.head(10) # просмотр первых 10 строк moscow_genres"
   ]
  },
  {
   "cell_type": "markdown",
   "metadata": {
    "id": "cnPG2vnN_Zcv"
   },
   "source": [
    "Теперь повторите то же и для Петербурга.\n",
    "\n",
    "Сгруппируйте таблицу `spb_general` по жанру. Посчитайте прослушивания треков каждого жанра. Результат отсортируйте в порядке убывания и сохраните в таблице `spb_genres`:\n"
   ]
  },
  {
   "cell_type": "code",
   "execution_count": 37,
   "metadata": {
    "id": "gluLIpE7_Zcv"
   },
   "outputs": [],
   "source": [
    "# одной строкой: группировка таблицы spb_general по столбцу 'genre', \n",
    "# подсчёт числа значений 'genre' в этой группировке методом count(), \n",
    "# сортировка получившегося Series в порядке убывания и сохранение в spb_genres\n",
    "spb_genres=spb_general.groupby('genre')['genre'].count().sort_values(ascending=False)"
   ]
  },
  {
   "cell_type": "markdown",
   "metadata": {
    "id": "5Doha_ODgyQ8"
   },
   "source": [
    "Выведите на экран первые десять строк `spb_genres`:"
   ]
  },
  {
   "cell_type": "code",
   "execution_count": 38,
   "metadata": {
    "id": "uaGJHjVU_Zcv"
   },
   "outputs": [
    {
     "data": {
      "text/plain": [
       "genre\n",
       "pop            5892\n",
       "dance          4435\n",
       "rock           3965\n",
       "electronic     3786\n",
       "hiphop         2096\n",
       "classical      1616\n",
       "world          1432\n",
       "alternative    1379\n",
       "ruspop         1372\n",
       "rusrap         1161\n",
       "Name: genre, dtype: int64"
      ]
     },
     "execution_count": 38,
     "metadata": {},
     "output_type": "execute_result"
    }
   ],
   "source": [
    "moscow_genres.head(10)    # просмотр первых 10 строк spb_genres"
   ]
  },
  {
   "cell_type": "markdown",
   "metadata": {
    "id": "RY51YJYu_Zcv"
   },
   "source": [
    "**Выводы**"
   ]
  },
  {
   "cell_type": "markdown",
   "metadata": {
    "id": "nVhnJEm__Zcv"
   },
   "source": [
    "Гипотеза частично подтвердилась:\n",
    "* Поп-музыка — самый популярный жанр в Москве, как и предполагала гипотеза. Более того, в топ-10 жанров встречается близкий жанр — русская популярная музыка.\n",
    "* Вопреки ожиданиям, рэп одинаково популярен в Москве и Петербурге. \n"
   ]
  },
  {
   "cell_type": "markdown",
   "metadata": {
    "id": "ykKQ0N65_Zcv"
   },
   "source": [
    "## Итоги исследования"
   ]
  },
  {
   "cell_type": "markdown",
   "metadata": {
    "id": "tjUwbHb3_Zcv"
   },
   "source": [
    "Вы проверили три гипотезы и установили:\n",
    "\n",
    "1. День недели по-разному влияет на активность пользователей в Москве и Петербурге. \n",
    "\n",
    "Первая гипотеза полностью подтвердилась.\n",
    "\n",
    "2. Музыкальные предпочтения не сильно меняются в течение недели — будь то Москва или Петербург. Небольшие различия заметны в начале недели, по понедельникам:\n",
    "* в Москве слушают музыку жанра “world”,\n",
    "* в Петербурге — джаз и классику.\n",
    "\n",
    "Таким образом, вторая гипотеза подтвердилась лишь отчасти. Этот результат мог оказаться иным, если бы не пропуски в данных.\n",
    "\n",
    "3. Во вкусах пользователей Москвы и Петербурга больше общего чем различий. Вопреки ожиданиям, предпочтения жанров в Петербурге напоминают московские.\n",
    "\n",
    "Третья гипотеза не подтвердилась. Если различия в предпочтениях и существуют, на основной массе пользователей они незаметны.\n",
    "\n",
    "**На практике исследования содержат проверки статистических гипотез.**\n",
    "Из данных одного сервиса не всегда можно сделать вывод о всех жителях города.\n",
    "Проверки статистических гипотез покажут, насколько они достоверны, исходя из имеющихся данных. \n",
    "С методами проверок гипотез вы ещё познакомитесь в следующих темах."
   ]
  }
 ],
 "metadata": {
  "ExecuteTimeLog": [
   {
    "duration": 853,
    "start_time": "2022-02-15T09:07:43.373Z"
   },
   {
    "duration": 215,
    "start_time": "2022-02-15T09:08:44.719Z"
   },
   {
    "duration": 25,
    "start_time": "2022-02-15T09:09:06.446Z"
   },
   {
    "duration": 444,
    "start_time": "2022-02-15T09:09:24.076Z"
   },
   {
    "duration": 36,
    "start_time": "2022-02-15T09:09:28.578Z"
   },
   {
    "duration": 5,
    "start_time": "2022-02-15T09:18:20.367Z"
   },
   {
    "duration": 30,
    "start_time": "2022-02-15T09:21:54.177Z"
   },
   {
    "duration": 32,
    "start_time": "2022-02-15T09:22:16.832Z"
   },
   {
    "duration": 4,
    "start_time": "2022-02-15T09:24:23.779Z"
   },
   {
    "duration": 31,
    "start_time": "2022-02-15T09:25:02.246Z"
   },
   {
    "duration": 9633,
    "start_time": "2022-02-15T09:32:15.251Z"
   },
   {
    "duration": 236,
    "start_time": "2022-02-15T09:32:42.736Z"
   },
   {
    "duration": 37,
    "start_time": "2022-02-15T09:35:02.557Z"
   },
   {
    "duration": 31,
    "start_time": "2022-02-15T09:35:05.281Z"
   },
   {
    "duration": 321,
    "start_time": "2022-02-15T09:36:22.743Z"
   },
   {
    "duration": 321,
    "start_time": "2022-02-15T09:36:46.839Z"
   },
   {
    "duration": 23,
    "start_time": "2022-02-15T10:00:04.507Z"
   },
   {
    "duration": 30,
    "start_time": "2022-02-15T10:00:09.146Z"
   },
   {
    "duration": 92,
    "start_time": "2022-02-15T10:01:02.000Z"
   },
   {
    "duration": 81,
    "start_time": "2022-02-15T10:06:29.870Z"
   },
   {
    "duration": 88,
    "start_time": "2022-02-15T10:06:32.336Z"
   },
   {
    "duration": 79,
    "start_time": "2022-02-15T10:06:34.339Z"
   },
   {
    "duration": 9,
    "start_time": "2022-02-15T10:12:04.663Z"
   },
   {
    "duration": 761,
    "start_time": "2022-02-15T10:37:07.081Z"
   },
   {
    "duration": 191,
    "start_time": "2022-02-15T10:37:07.844Z"
   },
   {
    "duration": 37,
    "start_time": "2022-02-15T10:37:08.041Z"
   },
   {
    "duration": 49,
    "start_time": "2022-02-15T10:37:08.081Z"
   },
   {
    "duration": 16,
    "start_time": "2022-02-15T10:37:08.133Z"
   },
   {
    "duration": 55,
    "start_time": "2022-02-15T10:37:08.151Z"
   },
   {
    "duration": 15,
    "start_time": "2022-02-15T10:37:08.210Z"
   },
   {
    "duration": 61,
    "start_time": "2022-02-15T10:37:08.229Z"
   },
   {
    "duration": 32,
    "start_time": "2022-02-15T10:37:08.293Z"
   },
   {
    "duration": 57,
    "start_time": "2022-02-15T10:37:08.328Z"
   },
   {
    "duration": 135,
    "start_time": "2022-02-15T10:37:08.388Z"
   },
   {
    "duration": 150,
    "start_time": "2022-02-15T10:37:08.527Z"
   },
   {
    "duration": 124,
    "start_time": "2022-02-15T10:37:08.681Z"
   },
   {
    "duration": 14,
    "start_time": "2022-02-15T10:37:08.807Z"
   },
   {
    "duration": 4,
    "start_time": "2022-02-15T10:37:08.823Z"
   },
   {
    "duration": 17,
    "start_time": "2022-02-15T10:37:08.829Z"
   },
   {
    "duration": 21,
    "start_time": "2022-02-15T10:37:08.849Z"
   },
   {
    "duration": 8,
    "start_time": "2022-02-15T10:37:08.873Z"
   },
   {
    "duration": 25,
    "start_time": "2022-02-15T10:37:08.883Z"
   },
   {
    "duration": 9,
    "start_time": "2022-02-15T10:37:08.911Z"
   },
   {
    "duration": 15,
    "start_time": "2022-02-15T10:37:08.922Z"
   },
   {
    "duration": 11,
    "start_time": "2022-02-15T10:37:08.942Z"
   },
   {
    "duration": 10,
    "start_time": "2022-02-15T10:37:08.955Z"
   },
   {
    "duration": 8,
    "start_time": "2022-02-15T10:37:08.970Z"
   },
   {
    "duration": 38,
    "start_time": "2022-02-15T10:37:08.981Z"
   },
   {
    "duration": 7,
    "start_time": "2022-02-15T10:37:09.022Z"
   },
   {
    "duration": 7,
    "start_time": "2022-02-15T10:37:09.031Z"
   },
   {
    "duration": 19,
    "start_time": "2022-02-15T10:37:09.040Z"
   },
   {
    "duration": 16,
    "start_time": "2022-02-15T10:37:09.061Z"
   },
   {
    "duration": 27,
    "start_time": "2022-02-15T10:37:09.079Z"
   },
   {
    "duration": 28,
    "start_time": "2022-02-15T10:37:09.109Z"
   },
   {
    "duration": 5,
    "start_time": "2022-02-15T10:37:09.140Z"
   },
   {
    "duration": 8,
    "start_time": "2022-02-15T10:37:09.147Z"
   },
   {
    "duration": 6,
    "start_time": "2022-02-15T10:37:09.157Z"
   },
   {
    "duration": 7,
    "start_time": "2022-02-15T10:37:09.166Z"
   },
   {
    "duration": 5,
    "start_time": "2022-02-15T10:37:09.175Z"
   },
   {
    "duration": 6,
    "start_time": "2022-02-15T10:37:09.183Z"
   },
   {
    "duration": 5,
    "start_time": "2022-02-15T10:37:09.191Z"
   },
   {
    "duration": 59,
    "start_time": "2022-02-15T10:42:51.498Z"
   },
   {
    "duration": 5,
    "start_time": "2022-02-15T11:02:49.605Z"
   },
   {
    "duration": 18,
    "start_time": "2022-02-15T11:02:51.040Z"
   },
   {
    "duration": 17,
    "start_time": "2022-02-15T11:02:58.236Z"
   },
   {
    "duration": 56,
    "start_time": "2022-02-15T11:02:59.359Z"
   },
   {
    "duration": 43,
    "start_time": "2022-02-15T11:30:47.420Z"
   },
   {
    "duration": 395,
    "start_time": "2022-02-15T11:38:12.832Z"
   },
   {
    "duration": 364,
    "start_time": "2022-02-15T11:39:23.752Z"
   },
   {
    "duration": 4491,
    "start_time": "2022-02-15T11:39:59.487Z"
   },
   {
    "duration": 47,
    "start_time": "2022-02-15T11:40:04.149Z"
   },
   {
    "duration": 44,
    "start_time": "2022-02-15T11:40:35.365Z"
   },
   {
    "duration": 512,
    "start_time": "2022-02-15T14:56:15.148Z"
   },
   {
    "duration": 126,
    "start_time": "2022-02-15T14:56:15.662Z"
   },
   {
    "duration": 17,
    "start_time": "2022-02-15T14:56:15.790Z"
   },
   {
    "duration": 26,
    "start_time": "2022-02-15T14:56:15.808Z"
   },
   {
    "duration": 3,
    "start_time": "2022-02-15T14:56:15.835Z"
   },
   {
    "duration": 27,
    "start_time": "2022-02-15T14:56:15.839Z"
   },
   {
    "duration": 5,
    "start_time": "2022-02-15T14:56:15.868Z"
   },
   {
    "duration": 22,
    "start_time": "2022-02-15T14:56:15.875Z"
   },
   {
    "duration": 32,
    "start_time": "2022-02-15T14:56:15.899Z"
   },
   {
    "duration": 23,
    "start_time": "2022-02-15T14:56:15.932Z"
   },
   {
    "duration": 54,
    "start_time": "2022-02-15T14:56:15.956Z"
   },
   {
    "duration": 81,
    "start_time": "2022-02-15T14:56:16.012Z"
   },
   {
    "duration": 61,
    "start_time": "2022-02-15T14:56:16.095Z"
   },
   {
    "duration": 41,
    "start_time": "2022-02-15T14:56:16.157Z"
   },
   {
    "duration": 3,
    "start_time": "2022-02-15T14:56:16.199Z"
   },
   {
    "duration": 27,
    "start_time": "2022-02-15T14:56:16.204Z"
   },
   {
    "duration": 38,
    "start_time": "2022-02-15T14:56:16.232Z"
   },
   {
    "duration": 29,
    "start_time": "2022-02-15T14:56:16.271Z"
   },
   {
    "duration": 50,
    "start_time": "2022-02-15T14:56:16.302Z"
   },
   {
    "duration": 48,
    "start_time": "2022-02-15T14:56:16.354Z"
   },
   {
    "duration": -298,
    "start_time": "2022-02-15T14:56:16.702Z"
   },
   {
    "duration": -299,
    "start_time": "2022-02-15T14:56:16.704Z"
   },
   {
    "duration": -308,
    "start_time": "2022-02-15T14:56:16.713Z"
   },
   {
    "duration": -309,
    "start_time": "2022-02-15T14:56:16.715Z"
   },
   {
    "duration": -310,
    "start_time": "2022-02-15T14:56:16.717Z"
   },
   {
    "duration": -311,
    "start_time": "2022-02-15T14:56:16.719Z"
   },
   {
    "duration": -312,
    "start_time": "2022-02-15T14:56:16.720Z"
   },
   {
    "duration": -313,
    "start_time": "2022-02-15T14:56:16.722Z"
   },
   {
    "duration": -318,
    "start_time": "2022-02-15T14:56:16.728Z"
   },
   {
    "duration": -318,
    "start_time": "2022-02-15T14:56:16.729Z"
   },
   {
    "duration": -319,
    "start_time": "2022-02-15T14:56:16.731Z"
   },
   {
    "duration": -320,
    "start_time": "2022-02-15T14:56:16.733Z"
   },
   {
    "duration": -320,
    "start_time": "2022-02-15T14:56:16.734Z"
   },
   {
    "duration": -322,
    "start_time": "2022-02-15T14:56:16.736Z"
   },
   {
    "duration": -323,
    "start_time": "2022-02-15T14:56:16.738Z"
   },
   {
    "duration": -324,
    "start_time": "2022-02-15T14:56:16.740Z"
   },
   {
    "duration": -324,
    "start_time": "2022-02-15T14:56:16.741Z"
   },
   {
    "duration": -326,
    "start_time": "2022-02-15T14:56:16.744Z"
   },
   {
    "duration": 43,
    "start_time": "2022-02-15T14:57:37.449Z"
   },
   {
    "duration": 48,
    "start_time": "2022-02-15T14:58:15.222Z"
   },
   {
    "duration": 214,
    "start_time": "2022-02-15T14:59:20.492Z"
   },
   {
    "duration": 3,
    "start_time": "2022-02-15T14:59:30.778Z"
   },
   {
    "duration": 11,
    "start_time": "2022-02-15T14:59:34.067Z"
   },
   {
    "duration": 10,
    "start_time": "2022-02-15T14:59:34.541Z"
   },
   {
    "duration": 11,
    "start_time": "2022-02-15T14:59:34.981Z"
   },
   {
    "duration": 2,
    "start_time": "2022-02-15T15:00:56.644Z"
   },
   {
    "duration": 4,
    "start_time": "2022-02-15T15:02:30.679Z"
   },
   {
    "duration": 10,
    "start_time": "2022-02-15T15:02:31.721Z"
   },
   {
    "duration": 10,
    "start_time": "2022-02-15T15:02:32.369Z"
   },
   {
    "duration": 11,
    "start_time": "2022-02-15T15:02:32.795Z"
   },
   {
    "duration": 11,
    "start_time": "2022-02-15T15:02:33.189Z"
   },
   {
    "duration": 12,
    "start_time": "2022-02-15T15:02:33.484Z"
   },
   {
    "duration": 10,
    "start_time": "2022-02-15T15:02:33.738Z"
   },
   {
    "duration": 7,
    "start_time": "2022-02-15T15:02:53.343Z"
   },
   {
    "duration": 12,
    "start_time": "2022-02-15T15:02:57.195Z"
   },
   {
    "duration": 10,
    "start_time": "2022-02-15T15:02:57.514Z"
   },
   {
    "duration": 42,
    "start_time": "2022-02-15T15:02:58.225Z"
   },
   {
    "duration": 4,
    "start_time": "2022-02-15T15:07:46.877Z"
   },
   {
    "duration": 11,
    "start_time": "2022-02-15T15:07:50.692Z"
   },
   {
    "duration": 255,
    "start_time": "2022-02-15T15:09:01.330Z"
   },
   {
    "duration": 4,
    "start_time": "2022-02-15T15:09:06.213Z"
   },
   {
    "duration": 10,
    "start_time": "2022-02-15T15:09:08.816Z"
   },
   {
    "duration": 10,
    "start_time": "2022-02-15T15:09:09.374Z"
   },
   {
    "duration": 11,
    "start_time": "2022-02-15T15:09:09.792Z"
   },
   {
    "duration": 12,
    "start_time": "2022-02-15T15:09:32.597Z"
   },
   {
    "duration": 209,
    "start_time": "2022-02-15T15:23:36.097Z"
   },
   {
    "duration": 3,
    "start_time": "2022-02-15T15:24:11.009Z"
   },
   {
    "duration": 530,
    "start_time": "2022-02-15T15:24:22.448Z"
   },
   {
    "duration": 126,
    "start_time": "2022-02-15T15:24:22.980Z"
   },
   {
    "duration": 26,
    "start_time": "2022-02-15T15:24:23.109Z"
   },
   {
    "duration": 28,
    "start_time": "2022-02-15T15:24:23.138Z"
   },
   {
    "duration": 5,
    "start_time": "2022-02-15T15:24:23.168Z"
   },
   {
    "duration": 32,
    "start_time": "2022-02-15T15:24:23.174Z"
   },
   {
    "duration": 4,
    "start_time": "2022-02-15T15:24:23.208Z"
   },
   {
    "duration": 34,
    "start_time": "2022-02-15T15:24:23.214Z"
   },
   {
    "duration": 13,
    "start_time": "2022-02-15T15:24:23.250Z"
   },
   {
    "duration": 23,
    "start_time": "2022-02-15T15:24:23.265Z"
   },
   {
    "duration": 67,
    "start_time": "2022-02-15T15:24:23.290Z"
   },
   {
    "duration": 55,
    "start_time": "2022-02-15T15:24:23.359Z"
   },
   {
    "duration": 62,
    "start_time": "2022-02-15T15:24:23.416Z"
   },
   {
    "duration": 52,
    "start_time": "2022-02-15T15:24:23.480Z"
   },
   {
    "duration": 3,
    "start_time": "2022-02-15T15:24:23.534Z"
   },
   {
    "duration": 14,
    "start_time": "2022-02-15T15:24:23.539Z"
   },
   {
    "duration": 37,
    "start_time": "2022-02-15T15:24:23.554Z"
   },
   {
    "duration": 49,
    "start_time": "2022-02-15T15:24:23.593Z"
   },
   {
    "duration": 28,
    "start_time": "2022-02-15T15:24:23.644Z"
   },
   {
    "duration": 3,
    "start_time": "2022-02-15T15:24:23.674Z"
   },
   {
    "duration": 13,
    "start_time": "2022-02-15T15:24:23.679Z"
   },
   {
    "duration": 11,
    "start_time": "2022-02-15T15:24:23.693Z"
   },
   {
    "duration": 31,
    "start_time": "2022-02-15T15:24:23.707Z"
   },
   {
    "duration": 15,
    "start_time": "2022-02-15T15:24:23.740Z"
   },
   {
    "duration": 11,
    "start_time": "2022-02-15T15:24:23.756Z"
   },
   {
    "duration": 11,
    "start_time": "2022-02-15T15:24:23.768Z"
   },
   {
    "duration": 8,
    "start_time": "2022-02-15T15:24:23.780Z"
   },
   {
    "duration": 11,
    "start_time": "2022-02-15T15:24:23.789Z"
   },
   {
    "duration": 32,
    "start_time": "2022-02-15T15:24:23.802Z"
   },
   {
    "duration": 43,
    "start_time": "2022-02-15T15:24:23.835Z"
   },
   {
    "duration": -337,
    "start_time": "2022-02-15T15:24:24.217Z"
   },
   {
    "duration": -338,
    "start_time": "2022-02-15T15:24:24.219Z"
   },
   {
    "duration": -339,
    "start_time": "2022-02-15T15:24:24.221Z"
   },
   {
    "duration": -340,
    "start_time": "2022-02-15T15:24:24.223Z"
   },
   {
    "duration": -342,
    "start_time": "2022-02-15T15:24:24.225Z"
   },
   {
    "duration": -343,
    "start_time": "2022-02-15T15:24:24.227Z"
   },
   {
    "duration": -344,
    "start_time": "2022-02-15T15:24:24.229Z"
   },
   {
    "duration": -345,
    "start_time": "2022-02-15T15:24:24.231Z"
   },
   {
    "duration": 10,
    "start_time": "2022-02-15T15:26:29.480Z"
   },
   {
    "duration": 11,
    "start_time": "2022-02-15T15:26:31.037Z"
   },
   {
    "duration": 3,
    "start_time": "2022-02-15T15:30:36.080Z"
   },
   {
    "duration": 10,
    "start_time": "2022-02-15T15:30:37.505Z"
   },
   {
    "duration": 10,
    "start_time": "2022-02-15T15:30:38.094Z"
   },
   {
    "duration": 11,
    "start_time": "2022-02-15T15:30:38.674Z"
   },
   {
    "duration": 531,
    "start_time": "2022-02-15T15:30:54.241Z"
   },
   {
    "duration": 124,
    "start_time": "2022-02-15T15:30:54.774Z"
   },
   {
    "duration": 16,
    "start_time": "2022-02-15T15:30:54.900Z"
   },
   {
    "duration": 29,
    "start_time": "2022-02-15T15:30:54.918Z"
   },
   {
    "duration": 3,
    "start_time": "2022-02-15T15:30:54.949Z"
   },
   {
    "duration": 24,
    "start_time": "2022-02-15T15:30:54.953Z"
   },
   {
    "duration": 3,
    "start_time": "2022-02-15T15:30:54.978Z"
   },
   {
    "duration": 24,
    "start_time": "2022-02-15T15:30:54.984Z"
   },
   {
    "duration": 14,
    "start_time": "2022-02-15T15:30:55.031Z"
   },
   {
    "duration": 25,
    "start_time": "2022-02-15T15:30:55.047Z"
   },
   {
    "duration": 71,
    "start_time": "2022-02-15T15:30:55.073Z"
   },
   {
    "duration": 66,
    "start_time": "2022-02-15T15:30:55.146Z"
   },
   {
    "duration": 61,
    "start_time": "2022-02-15T15:30:55.214Z"
   },
   {
    "duration": 38,
    "start_time": "2022-02-15T15:30:55.277Z"
   },
   {
    "duration": 16,
    "start_time": "2022-02-15T15:30:55.316Z"
   },
   {
    "duration": 15,
    "start_time": "2022-02-15T15:30:55.333Z"
   },
   {
    "duration": 37,
    "start_time": "2022-02-15T15:30:55.350Z"
   },
   {
    "duration": 51,
    "start_time": "2022-02-15T15:30:55.388Z"
   },
   {
    "duration": 30,
    "start_time": "2022-02-15T15:30:55.440Z"
   },
   {
    "duration": 3,
    "start_time": "2022-02-15T15:30:55.472Z"
   },
   {
    "duration": 16,
    "start_time": "2022-02-15T15:30:55.477Z"
   },
   {
    "duration": 18,
    "start_time": "2022-02-15T15:30:55.495Z"
   },
   {
    "duration": 10,
    "start_time": "2022-02-15T15:30:55.532Z"
   },
   {
    "duration": 12,
    "start_time": "2022-02-15T15:30:55.544Z"
   },
   {
    "duration": 10,
    "start_time": "2022-02-15T15:30:55.557Z"
   },
   {
    "duration": 13,
    "start_time": "2022-02-15T15:30:55.568Z"
   },
   {
    "duration": 9,
    "start_time": "2022-02-15T15:30:55.582Z"
   },
   {
    "duration": 11,
    "start_time": "2022-02-15T15:30:55.592Z"
   },
   {
    "duration": 34,
    "start_time": "2022-02-15T15:30:55.604Z"
   },
   {
    "duration": 47,
    "start_time": "2022-02-15T15:30:55.639Z"
   },
   {
    "duration": -344,
    "start_time": "2022-02-15T15:30:56.032Z"
   },
   {
    "duration": -345,
    "start_time": "2022-02-15T15:30:56.034Z"
   },
   {
    "duration": -346,
    "start_time": "2022-02-15T15:30:56.036Z"
   },
   {
    "duration": -347,
    "start_time": "2022-02-15T15:30:56.038Z"
   },
   {
    "duration": -352,
    "start_time": "2022-02-15T15:30:56.044Z"
   },
   {
    "duration": -353,
    "start_time": "2022-02-15T15:30:56.046Z"
   },
   {
    "duration": -354,
    "start_time": "2022-02-15T15:30:56.048Z"
   },
   {
    "duration": -354,
    "start_time": "2022-02-15T15:30:56.050Z"
   },
   {
    "duration": 11,
    "start_time": "2022-02-15T15:31:34.591Z"
   },
   {
    "duration": 3,
    "start_time": "2022-02-15T15:32:43.636Z"
   },
   {
    "duration": 17,
    "start_time": "2022-02-15T15:32:45.048Z"
   },
   {
    "duration": 16,
    "start_time": "2022-02-15T15:32:54.745Z"
   },
   {
    "duration": 13,
    "start_time": "2022-02-15T15:32:55.202Z"
   },
   {
    "duration": 16,
    "start_time": "2022-02-15T15:33:08.236Z"
   },
   {
    "duration": 14,
    "start_time": "2022-02-15T15:33:08.609Z"
   },
   {
    "duration": 15,
    "start_time": "2022-02-15T15:33:08.876Z"
   },
   {
    "duration": 13,
    "start_time": "2022-02-15T15:33:09.160Z"
   },
   {
    "duration": 15,
    "start_time": "2022-02-15T15:33:09.437Z"
   },
   {
    "duration": 14,
    "start_time": "2022-02-15T15:33:09.692Z"
   },
   {
    "duration": 8,
    "start_time": "2022-02-15T15:33:11.473Z"
   },
   {
    "duration": 8,
    "start_time": "2022-02-15T15:34:20.565Z"
   },
   {
    "duration": 11,
    "start_time": "2022-02-15T15:34:35.871Z"
   },
   {
    "duration": 11,
    "start_time": "2022-02-15T15:34:39.737Z"
   },
   {
    "duration": 9,
    "start_time": "2022-02-15T15:34:40.411Z"
   },
   {
    "duration": 57,
    "start_time": "2022-02-15T15:34:55.600Z"
   },
   {
    "duration": 59,
    "start_time": "2022-02-15T15:41:04.359Z"
   },
   {
    "duration": 63,
    "start_time": "2022-02-15T15:42:02.211Z"
   },
   {
    "duration": 47,
    "start_time": "2022-02-15T15:42:16.008Z"
   },
   {
    "duration": 44,
    "start_time": "2022-02-15T15:59:54.444Z"
   },
   {
    "duration": 45,
    "start_time": "2022-02-15T16:00:06.683Z"
   },
   {
    "duration": 51,
    "start_time": "2022-02-15T16:00:23.041Z"
   },
   {
    "duration": 51,
    "start_time": "2022-02-15T16:07:31.007Z"
   },
   {
    "duration": 45,
    "start_time": "2022-02-15T16:07:42.692Z"
   },
   {
    "duration": 42,
    "start_time": "2022-02-15T16:16:12.083Z"
   },
   {
    "duration": 63,
    "start_time": "2022-02-15T16:21:43.949Z"
   },
   {
    "duration": 56,
    "start_time": "2022-02-15T16:21:46.670Z"
   },
   {
    "duration": 44,
    "start_time": "2022-02-15T16:21:56.968Z"
   },
   {
    "duration": 46,
    "start_time": "2022-02-15T16:22:18.452Z"
   },
   {
    "duration": 9,
    "start_time": "2022-02-15T16:23:35.069Z"
   },
   {
    "duration": 43,
    "start_time": "2022-02-15T16:23:40.267Z"
   },
   {
    "duration": 214,
    "start_time": "2022-02-15T16:23:43.033Z"
   },
   {
    "duration": 141,
    "start_time": "2022-02-15T16:23:43.412Z"
   },
   {
    "duration": 133,
    "start_time": "2022-02-15T16:23:43.846Z"
   },
   {
    "duration": 139,
    "start_time": "2022-02-15T16:23:44.474Z"
   },
   {
    "duration": 52,
    "start_time": "2022-02-15T16:24:17.201Z"
   },
   {
    "duration": 45,
    "start_time": "2022-02-15T16:25:46.121Z"
   },
   {
    "duration": 541,
    "start_time": "2022-02-15T16:25:56.120Z"
   },
   {
    "duration": 128,
    "start_time": "2022-02-15T16:25:56.663Z"
   },
   {
    "duration": 16,
    "start_time": "2022-02-15T16:25:56.794Z"
   },
   {
    "duration": 33,
    "start_time": "2022-02-15T16:25:56.812Z"
   },
   {
    "duration": 3,
    "start_time": "2022-02-15T16:25:56.847Z"
   },
   {
    "duration": 22,
    "start_time": "2022-02-15T16:25:56.851Z"
   },
   {
    "duration": 4,
    "start_time": "2022-02-15T16:25:56.875Z"
   },
   {
    "duration": 23,
    "start_time": "2022-02-15T16:25:56.880Z"
   },
   {
    "duration": 39,
    "start_time": "2022-02-15T16:25:56.904Z"
   },
   {
    "duration": 24,
    "start_time": "2022-02-15T16:25:56.945Z"
   },
   {
    "duration": 67,
    "start_time": "2022-02-15T16:25:56.971Z"
   },
   {
    "duration": 65,
    "start_time": "2022-02-15T16:25:57.040Z"
   },
   {
    "duration": 61,
    "start_time": "2022-02-15T16:25:57.107Z"
   },
   {
    "duration": 39,
    "start_time": "2022-02-15T16:25:57.170Z"
   },
   {
    "duration": 3,
    "start_time": "2022-02-15T16:25:57.211Z"
   },
   {
    "duration": 28,
    "start_time": "2022-02-15T16:25:57.215Z"
   },
   {
    "duration": 38,
    "start_time": "2022-02-15T16:25:57.244Z"
   },
   {
    "duration": 28,
    "start_time": "2022-02-15T16:25:57.284Z"
   },
   {
    "duration": 43,
    "start_time": "2022-02-15T16:25:57.313Z"
   },
   {
    "duration": 3,
    "start_time": "2022-02-15T16:25:57.359Z"
   },
   {
    "duration": 29,
    "start_time": "2022-02-15T16:25:57.363Z"
   },
   {
    "duration": 14,
    "start_time": "2022-02-15T16:25:57.395Z"
   },
   {
    "duration": 32,
    "start_time": "2022-02-15T16:25:57.410Z"
   },
   {
    "duration": 14,
    "start_time": "2022-02-15T16:25:57.444Z"
   },
   {
    "duration": 14,
    "start_time": "2022-02-15T16:25:57.460Z"
   },
   {
    "duration": 14,
    "start_time": "2022-02-15T16:25:57.476Z"
   },
   {
    "duration": 9,
    "start_time": "2022-02-15T16:25:57.492Z"
   },
   {
    "duration": 10,
    "start_time": "2022-02-15T16:25:57.531Z"
   },
   {
    "duration": 9,
    "start_time": "2022-02-15T16:25:57.542Z"
   },
   {
    "duration": 52,
    "start_time": "2022-02-15T16:25:57.552Z"
   },
   {
    "duration": -406,
    "start_time": "2022-02-15T16:25:58.012Z"
   },
   {
    "duration": -408,
    "start_time": "2022-02-15T16:25:58.014Z"
   },
   {
    "duration": -408,
    "start_time": "2022-02-15T16:25:58.015Z"
   },
   {
    "duration": -409,
    "start_time": "2022-02-15T16:25:58.017Z"
   },
   {
    "duration": -410,
    "start_time": "2022-02-15T16:25:58.019Z"
   },
   {
    "duration": -411,
    "start_time": "2022-02-15T16:25:58.021Z"
   },
   {
    "duration": -415,
    "start_time": "2022-02-15T16:25:58.026Z"
   },
   {
    "duration": -418,
    "start_time": "2022-02-15T16:25:58.029Z"
   },
   {
    "duration": 70,
    "start_time": "2022-02-15T16:26:26.148Z"
   },
   {
    "duration": 46,
    "start_time": "2022-02-15T16:28:53.286Z"
   },
   {
    "duration": 44,
    "start_time": "2022-02-15T16:29:09.737Z"
   },
   {
    "duration": 45,
    "start_time": "2022-02-15T16:29:34.097Z"
   },
   {
    "duration": 46,
    "start_time": "2022-02-15T16:30:30.457Z"
   },
   {
    "duration": 3,
    "start_time": "2022-02-15T16:34:21.102Z"
   },
   {
    "duration": 4,
    "start_time": "2022-02-15T16:34:23.314Z"
   },
   {
    "duration": 18,
    "start_time": "2022-02-15T16:34:24.130Z"
   },
   {
    "duration": 13,
    "start_time": "2022-02-15T16:34:24.702Z"
   },
   {
    "duration": 17,
    "start_time": "2022-02-15T16:34:25.038Z"
   },
   {
    "duration": 11,
    "start_time": "2022-02-15T16:34:25.609Z"
   },
   {
    "duration": 50,
    "start_time": "2022-02-15T16:36:20.803Z"
   },
   {
    "duration": 4,
    "start_time": "2022-02-15T16:37:21.232Z"
   },
   {
    "duration": 4,
    "start_time": "2022-02-15T16:37:23.246Z"
   },
   {
    "duration": 17,
    "start_time": "2022-02-15T16:37:24.385Z"
   },
   {
    "duration": 13,
    "start_time": "2022-02-15T16:37:24.776Z"
   },
   {
    "duration": 16,
    "start_time": "2022-02-15T16:37:25.306Z"
   },
   {
    "duration": 12,
    "start_time": "2022-02-15T16:37:25.793Z"
   },
   {
    "duration": 2,
    "start_time": "2022-02-15T16:38:28.685Z"
   },
   {
    "duration": 9,
    "start_time": "2022-02-15T16:39:03.049Z"
   },
   {
    "duration": 5,
    "start_time": "2022-02-15T16:39:04.396Z"
   },
   {
    "duration": 6,
    "start_time": "2022-02-15T16:39:23.827Z"
   },
   {
    "duration": 4,
    "start_time": "2022-02-15T16:39:24.810Z"
   },
   {
    "duration": 3,
    "start_time": "2022-02-15T16:42:54.110Z"
   },
   {
    "duration": 271,
    "start_time": "2022-02-23T16:50:28.078Z"
   },
   {
    "duration": 599,
    "start_time": "2022-02-23T16:50:42.253Z"
   },
   {
    "duration": 142,
    "start_time": "2022-02-23T16:50:42.853Z"
   },
   {
    "duration": 25,
    "start_time": "2022-02-23T16:50:42.997Z"
   },
   {
    "duration": 25,
    "start_time": "2022-02-23T16:50:43.025Z"
   },
   {
    "duration": 4,
    "start_time": "2022-02-23T16:50:43.051Z"
   },
   {
    "duration": 22,
    "start_time": "2022-02-23T16:50:43.057Z"
   },
   {
    "duration": 6,
    "start_time": "2022-02-23T16:50:43.081Z"
   },
   {
    "duration": 25,
    "start_time": "2022-02-23T16:50:43.121Z"
   },
   {
    "duration": 14,
    "start_time": "2022-02-23T16:50:43.148Z"
   },
   {
    "duration": 24,
    "start_time": "2022-02-23T16:50:43.165Z"
   },
   {
    "duration": 85,
    "start_time": "2022-02-23T16:50:43.191Z"
   },
   {
    "duration": 86,
    "start_time": "2022-02-23T16:50:43.278Z"
   },
   {
    "duration": 65,
    "start_time": "2022-02-23T16:50:43.366Z"
   },
   {
    "duration": 43,
    "start_time": "2022-02-23T16:50:43.433Z"
   },
   {
    "duration": 3,
    "start_time": "2022-02-23T16:50:43.478Z"
   },
   {
    "duration": 19,
    "start_time": "2022-02-23T16:50:43.482Z"
   },
   {
    "duration": 55,
    "start_time": "2022-02-23T16:50:43.503Z"
   },
   {
    "duration": 12,
    "start_time": "2022-02-23T16:50:43.561Z"
   },
   {
    "duration": 58,
    "start_time": "2022-02-23T16:50:43.575Z"
   },
   {
    "duration": 3,
    "start_time": "2022-02-23T16:50:43.635Z"
   },
   {
    "duration": 26,
    "start_time": "2022-02-23T16:50:43.640Z"
   },
   {
    "duration": 17,
    "start_time": "2022-02-23T16:50:43.668Z"
   },
   {
    "duration": 41,
    "start_time": "2022-02-23T16:50:43.690Z"
   },
   {
    "duration": 13,
    "start_time": "2022-02-23T16:50:43.733Z"
   },
   {
    "duration": 15,
    "start_time": "2022-02-23T16:50:43.748Z"
   },
   {
    "duration": 14,
    "start_time": "2022-02-23T16:50:43.764Z"
   },
   {
    "duration": 9,
    "start_time": "2022-02-23T16:50:43.780Z"
   },
   {
    "duration": 11,
    "start_time": "2022-02-23T16:50:43.820Z"
   },
   {
    "duration": 9,
    "start_time": "2022-02-23T16:50:43.832Z"
   },
   {
    "duration": 4,
    "start_time": "2022-02-23T16:50:43.842Z"
   },
   {
    "duration": 27,
    "start_time": "2022-02-23T16:50:43.848Z"
   },
   {
    "duration": 42,
    "start_time": "2022-02-23T16:50:43.877Z"
   },
   {
    "duration": 19,
    "start_time": "2022-02-23T16:50:43.921Z"
   },
   {
    "duration": 13,
    "start_time": "2022-02-23T16:50:43.942Z"
   },
   {
    "duration": 8,
    "start_time": "2022-02-23T16:50:43.956Z"
   },
   {
    "duration": 5,
    "start_time": "2022-02-23T16:50:43.966Z"
   },
   {
    "duration": 6,
    "start_time": "2022-02-23T16:50:43.972Z"
   },
   {
    "duration": 40,
    "start_time": "2022-02-23T16:50:43.980Z"
   },
   {
    "duration": 570,
    "start_time": "2022-02-23T16:51:54.732Z"
   },
   {
    "duration": 140,
    "start_time": "2022-02-23T16:51:55.304Z"
   },
   {
    "duration": 18,
    "start_time": "2022-02-23T16:51:55.446Z"
   },
   {
    "duration": 28,
    "start_time": "2022-02-23T16:51:55.466Z"
   },
   {
    "duration": 24,
    "start_time": "2022-02-23T16:51:55.496Z"
   },
   {
    "duration": 20,
    "start_time": "2022-02-23T16:51:55.522Z"
   },
   {
    "duration": 5,
    "start_time": "2022-02-23T16:51:55.544Z"
   },
   {
    "duration": 25,
    "start_time": "2022-02-23T16:51:55.552Z"
   },
   {
    "duration": 14,
    "start_time": "2022-02-23T16:51:55.579Z"
   },
   {
    "duration": 46,
    "start_time": "2022-02-23T16:51:55.594Z"
   },
   {
    "duration": 59,
    "start_time": "2022-02-23T16:51:55.642Z"
   },
   {
    "duration": 71,
    "start_time": "2022-02-23T16:51:55.719Z"
   },
   {
    "duration": 68,
    "start_time": "2022-02-23T16:51:55.792Z"
   },
   {
    "duration": 42,
    "start_time": "2022-02-23T16:51:55.862Z"
   },
   {
    "duration": 3,
    "start_time": "2022-02-23T16:51:55.918Z"
   },
   {
    "duration": 16,
    "start_time": "2022-02-23T16:51:55.923Z"
   },
   {
    "duration": 41,
    "start_time": "2022-02-23T16:51:55.940Z"
   },
   {
    "duration": 11,
    "start_time": "2022-02-23T16:51:55.982Z"
   },
   {
    "duration": 35,
    "start_time": "2022-02-23T16:51:55.995Z"
   },
   {
    "duration": 4,
    "start_time": "2022-02-23T16:51:56.031Z"
   },
   {
    "duration": 19,
    "start_time": "2022-02-23T16:51:56.036Z"
   },
   {
    "duration": 16,
    "start_time": "2022-02-23T16:51:56.057Z"
   },
   {
    "duration": 44,
    "start_time": "2022-02-23T16:51:56.077Z"
   },
   {
    "duration": 16,
    "start_time": "2022-02-23T16:51:56.123Z"
   },
   {
    "duration": 19,
    "start_time": "2022-02-23T16:51:56.141Z"
   },
   {
    "duration": 16,
    "start_time": "2022-02-23T16:51:56.162Z"
   },
   {
    "duration": 46,
    "start_time": "2022-02-23T16:51:56.180Z"
   },
   {
    "duration": 12,
    "start_time": "2022-02-23T16:51:56.228Z"
   },
   {
    "duration": 11,
    "start_time": "2022-02-23T16:51:56.241Z"
   },
   {
    "duration": 5,
    "start_time": "2022-02-23T16:51:56.253Z"
   },
   {
    "duration": 34,
    "start_time": "2022-02-23T16:51:56.260Z"
   },
   {
    "duration": 33,
    "start_time": "2022-02-23T16:51:56.295Z"
   },
   {
    "duration": 19,
    "start_time": "2022-02-23T16:51:56.330Z"
   },
   {
    "duration": 14,
    "start_time": "2022-02-23T16:51:56.350Z"
   },
   {
    "duration": 9,
    "start_time": "2022-02-23T16:51:56.366Z"
   },
   {
    "duration": 6,
    "start_time": "2022-02-23T16:51:56.376Z"
   },
   {
    "duration": 42,
    "start_time": "2022-02-23T16:51:56.383Z"
   },
   {
    "duration": 5,
    "start_time": "2022-02-23T16:51:56.426Z"
   }
  ],
  "colab": {
   "collapsed_sections": [
    "E0vqbgi9ay0H",
    "VUC88oWjTJw2"
   ],
   "name": "yandex_music_project_2021.2.ipynb",
   "provenance": []
  },
  "kernelspec": {
   "display_name": "Python 3 (ipykernel)",
   "language": "python",
   "name": "python3"
  },
  "language_info": {
   "codemirror_mode": {
    "name": "ipython",
    "version": 3
   },
   "file_extension": ".py",
   "mimetype": "text/x-python",
   "name": "python",
   "nbconvert_exporter": "python",
   "pygments_lexer": "ipython3",
   "version": "3.9.5"
  },
  "toc": {
   "base_numbering": 1,
   "nav_menu": {},
   "number_sections": true,
   "sideBar": true,
   "skip_h1_title": true,
   "title_cell": "Table of Contents",
   "title_sidebar": "Contents",
   "toc_cell": false,
   "toc_position": {
    "height": "calc(100% - 180px)",
    "left": "10px",
    "top": "150px",
    "width": "165px"
   },
   "toc_section_display": true,
   "toc_window_display": false
  }
 },
 "nbformat": 4,
 "nbformat_minor": 1
}
