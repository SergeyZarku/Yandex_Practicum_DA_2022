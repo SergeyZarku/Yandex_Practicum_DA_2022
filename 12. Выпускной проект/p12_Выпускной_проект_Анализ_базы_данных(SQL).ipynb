{
 "cells": [
  {
   "cell_type": "markdown",
   "id": "451760fc",
   "metadata": {},
   "source": [
    "# Анализ базы данных (SQL)\n",
    "\n",
    "**Цель** - проанализировать базу данных купленного сервиса для чтения книг по подписке для дальнейшего формулирования ценностного предложения для нового продукта.\n",
    "\n",
    "**Задачи:**\n",
    "\n",
    "* познакомиться с хранящимися в базе данными,\n",
    "* проанализировать результаты запросов.\n",
    "\n",
    "Данные расположены в 5 таблицах, содержащих информацию о книгах, издательствах, авторах, пользовательских оценках и обзорах книг.\n",
    "\n",
    "**Описание данных**\n",
    "\n",
    "**Таблица `books`**\n",
    "\n",
    "Содержит данные о книгах:\n",
    "\n",
    "- `book_id` — идентификатор книги;\n",
    "- `author_id` — идентификатор автора;\n",
    "- `title` — название книги;\n",
    "- `num_pages` — количество страниц;\n",
    "- `publication_date` — дата публикации книги;\n",
    "- `publisher_id` — идентификатор издателя.\n",
    "\n",
    "**Таблица `authors`**\n",
    "\n",
    "Содержит данные об авторах:\n",
    "\n",
    "- `author_id` — идентификатор автора;\n",
    "- `author` — имя автора.\n",
    "\n",
    "**Таблица `publishers`**\n",
    "\n",
    "Содержит данные об издательствах:\n",
    "\n",
    "- `publisher_id` — идентификатор издательства;\n",
    "- `publisher` — название издательства;\n",
    "\n",
    "**Таблица `ratings`**\n",
    "\n",
    "Содержит данные о пользовательских оценках книг:\n",
    "\n",
    "- `rating_id` — идентификатор оценки;\n",
    "- `book_id` — идентификатор книги;\n",
    "- `username` — имя пользователя, оставившего оценку;\n",
    "- `rating` — оценка книги.\n",
    "\n",
    "**Таблица `reviews`**\n",
    "\n",
    "Содержит данные о пользовательских обзорах на книги:\n",
    "\n",
    "- `review_id` — идентификатор обзора;\n",
    "- `book_id` — идентификатор книги;\n",
    "- `username` — имя пользователя, написавшего обзор;\n",
    "- `text` — текст обзора.\n"
   ]
  },
  {
   "cell_type": "markdown",
   "id": "3aac5631",
   "metadata": {},
   "source": [
    "## Изучение данных"
   ]
  },
  {
   "cell_type": "code",
   "execution_count": 1,
   "id": "689d1338",
   "metadata": {},
   "outputs": [],
   "source": [
    "# импортируем библиотеки\n",
    "import pandas as pd\n",
    "from sqlalchemy import create_engine"
   ]
  },
  {
   "cell_type": "code",
   "execution_count": 2,
   "id": "7dcc5148",
   "metadata": {},
   "outputs": [],
   "source": [
    "pd.set_option('display.float_format', '{:.2f}'.format)\n",
    "pd.set_option('display.max_columns', None)"
   ]
  },
  {
   "cell_type": "code",
   "execution_count": 3,
   "id": "2a0eab88",
   "metadata": {},
   "outputs": [],
   "source": [
    "# устанавливаем параметры\n",
    "db_config = {'user': 'praktikum_student', # имя пользователя\n",
    "'pwd': 'Sdf4$2;d-d30pp', # пароль\n",
    "'host': 'rc1b-wcoijxj3yxfsf3fs.mdb.yandexcloud.net',\n",
    "'port': 6432, # порт подключения\n",
    "'db': 'data-analyst-final-project-db'} # название базы данных\n",
    "connection_string = 'postgresql://{}:{}@{}:{}/{}'.format(db_config['user'],\n",
    " db_config['pwd'],\n",
    " db_config['host'],\n",
    " db_config['port'],\n",
    " db_config['db'])\n",
    "# сохраняем коннектор\n",
    "engine = create_engine(connection_string, connect_args={'sslmode':'require'}) "
   ]
  },
  {
   "cell_type": "code",
   "execution_count": 4,
   "id": "1f4b5d09",
   "metadata": {},
   "outputs": [],
   "source": [
    "#pd.io.sql.read_sql(query, con = engine) "
   ]
  },
  {
   "cell_type": "code",
   "execution_count": 5,
   "id": "abe79423",
   "metadata": {},
   "outputs": [],
   "source": [
    "def first_look_sql(table):    \n",
    "    display(pd.io.sql.read_sql('''SELECT * FROM {} LIMIT 5'''.format(table), con = engine))\n",
    "    display()\n",
    "    display(pd.io.sql.read_sql('''SELECT * FROM {}'''.format(table), con = engine).info())\n",
    "    display()\n",
    "    display(pd.io.sql.read_sql('''SELECT * FROM {}'''.format(table), con = engine).describe())"
   ]
  },
  {
   "cell_type": "code",
   "execution_count": 6,
   "id": "91a3dd10",
   "metadata": {},
   "outputs": [
    {
     "data": {
      "text/html": [
       "<div>\n",
       "<style scoped>\n",
       "    .dataframe tbody tr th:only-of-type {\n",
       "        vertical-align: middle;\n",
       "    }\n",
       "\n",
       "    .dataframe tbody tr th {\n",
       "        vertical-align: top;\n",
       "    }\n",
       "\n",
       "    .dataframe thead th {\n",
       "        text-align: right;\n",
       "    }\n",
       "</style>\n",
       "<table border=\"1\" class=\"dataframe\">\n",
       "  <thead>\n",
       "    <tr style=\"text-align: right;\">\n",
       "      <th></th>\n",
       "      <th>book_id</th>\n",
       "      <th>author_id</th>\n",
       "      <th>title</th>\n",
       "      <th>num_pages</th>\n",
       "      <th>publication_date</th>\n",
       "      <th>publisher_id</th>\n",
       "    </tr>\n",
       "  </thead>\n",
       "  <tbody>\n",
       "    <tr>\n",
       "      <th>0</th>\n",
       "      <td>1</td>\n",
       "      <td>546</td>\n",
       "      <td>'Salem's Lot</td>\n",
       "      <td>594</td>\n",
       "      <td>2005-11-01</td>\n",
       "      <td>93</td>\n",
       "    </tr>\n",
       "    <tr>\n",
       "      <th>1</th>\n",
       "      <td>2</td>\n",
       "      <td>465</td>\n",
       "      <td>1 000 Places to See Before You Die</td>\n",
       "      <td>992</td>\n",
       "      <td>2003-05-22</td>\n",
       "      <td>336</td>\n",
       "    </tr>\n",
       "    <tr>\n",
       "      <th>2</th>\n",
       "      <td>3</td>\n",
       "      <td>407</td>\n",
       "      <td>13 Little Blue Envelopes (Little Blue Envelope...</td>\n",
       "      <td>322</td>\n",
       "      <td>2010-12-21</td>\n",
       "      <td>135</td>\n",
       "    </tr>\n",
       "    <tr>\n",
       "      <th>3</th>\n",
       "      <td>4</td>\n",
       "      <td>82</td>\n",
       "      <td>1491: New Revelations of the Americas Before C...</td>\n",
       "      <td>541</td>\n",
       "      <td>2006-10-10</td>\n",
       "      <td>309</td>\n",
       "    </tr>\n",
       "    <tr>\n",
       "      <th>4</th>\n",
       "      <td>5</td>\n",
       "      <td>125</td>\n",
       "      <td>1776</td>\n",
       "      <td>386</td>\n",
       "      <td>2006-07-04</td>\n",
       "      <td>268</td>\n",
       "    </tr>\n",
       "  </tbody>\n",
       "</table>\n",
       "</div>"
      ],
      "text/plain": [
       "   book_id  author_id                                              title  \\\n",
       "0        1        546                                       'Salem's Lot   \n",
       "1        2        465                 1 000 Places to See Before You Die   \n",
       "2        3        407  13 Little Blue Envelopes (Little Blue Envelope...   \n",
       "3        4         82  1491: New Revelations of the Americas Before C...   \n",
       "4        5        125                                               1776   \n",
       "\n",
       "   num_pages publication_date  publisher_id  \n",
       "0        594       2005-11-01            93  \n",
       "1        992       2003-05-22           336  \n",
       "2        322       2010-12-21           135  \n",
       "3        541       2006-10-10           309  \n",
       "4        386       2006-07-04           268  "
      ]
     },
     "metadata": {},
     "output_type": "display_data"
    },
    {
     "name": "stdout",
     "output_type": "stream",
     "text": [
      "<class 'pandas.core.frame.DataFrame'>\n",
      "RangeIndex: 1000 entries, 0 to 999\n",
      "Data columns (total 6 columns):\n",
      " #   Column            Non-Null Count  Dtype \n",
      "---  ------            --------------  ----- \n",
      " 0   book_id           1000 non-null   int64 \n",
      " 1   author_id         1000 non-null   int64 \n",
      " 2   title             1000 non-null   object\n",
      " 3   num_pages         1000 non-null   int64 \n",
      " 4   publication_date  1000 non-null   object\n",
      " 5   publisher_id      1000 non-null   int64 \n",
      "dtypes: int64(4), object(2)\n",
      "memory usage: 47.0+ KB\n"
     ]
    },
    {
     "data": {
      "text/plain": [
       "None"
      ]
     },
     "metadata": {},
     "output_type": "display_data"
    },
    {
     "data": {
      "text/html": [
       "<div>\n",
       "<style scoped>\n",
       "    .dataframe tbody tr th:only-of-type {\n",
       "        vertical-align: middle;\n",
       "    }\n",
       "\n",
       "    .dataframe tbody tr th {\n",
       "        vertical-align: top;\n",
       "    }\n",
       "\n",
       "    .dataframe thead th {\n",
       "        text-align: right;\n",
       "    }\n",
       "</style>\n",
       "<table border=\"1\" class=\"dataframe\">\n",
       "  <thead>\n",
       "    <tr style=\"text-align: right;\">\n",
       "      <th></th>\n",
       "      <th>book_id</th>\n",
       "      <th>author_id</th>\n",
       "      <th>num_pages</th>\n",
       "      <th>publisher_id</th>\n",
       "    </tr>\n",
       "  </thead>\n",
       "  <tbody>\n",
       "    <tr>\n",
       "      <th>count</th>\n",
       "      <td>1000.00</td>\n",
       "      <td>1000.00</td>\n",
       "      <td>1000.00</td>\n",
       "      <td>1000.00</td>\n",
       "    </tr>\n",
       "    <tr>\n",
       "      <th>mean</th>\n",
       "      <td>500.50</td>\n",
       "      <td>320.42</td>\n",
       "      <td>389.11</td>\n",
       "      <td>171.27</td>\n",
       "    </tr>\n",
       "    <tr>\n",
       "      <th>std</th>\n",
       "      <td>288.82</td>\n",
       "      <td>181.62</td>\n",
       "      <td>229.39</td>\n",
       "      <td>99.08</td>\n",
       "    </tr>\n",
       "    <tr>\n",
       "      <th>min</th>\n",
       "      <td>1.00</td>\n",
       "      <td>1.00</td>\n",
       "      <td>14.00</td>\n",
       "      <td>1.00</td>\n",
       "    </tr>\n",
       "    <tr>\n",
       "      <th>25%</th>\n",
       "      <td>250.75</td>\n",
       "      <td>162.75</td>\n",
       "      <td>249.00</td>\n",
       "      <td>83.00</td>\n",
       "    </tr>\n",
       "    <tr>\n",
       "      <th>50%</th>\n",
       "      <td>500.50</td>\n",
       "      <td>316.50</td>\n",
       "      <td>352.00</td>\n",
       "      <td>177.50</td>\n",
       "    </tr>\n",
       "    <tr>\n",
       "      <th>75%</th>\n",
       "      <td>750.25</td>\n",
       "      <td>481.00</td>\n",
       "      <td>453.00</td>\n",
       "      <td>258.00</td>\n",
       "    </tr>\n",
       "    <tr>\n",
       "      <th>max</th>\n",
       "      <td>1000.00</td>\n",
       "      <td>636.00</td>\n",
       "      <td>2690.00</td>\n",
       "      <td>340.00</td>\n",
       "    </tr>\n",
       "  </tbody>\n",
       "</table>\n",
       "</div>"
      ],
      "text/plain": [
       "       book_id  author_id  num_pages  publisher_id\n",
       "count  1000.00    1000.00    1000.00       1000.00\n",
       "mean    500.50     320.42     389.11        171.27\n",
       "std     288.82     181.62     229.39         99.08\n",
       "min       1.00       1.00      14.00          1.00\n",
       "25%     250.75     162.75     249.00         83.00\n",
       "50%     500.50     316.50     352.00        177.50\n",
       "75%     750.25     481.00     453.00        258.00\n",
       "max    1000.00     636.00    2690.00        340.00"
      ]
     },
     "metadata": {},
     "output_type": "display_data"
    }
   ],
   "source": [
    "first_look_sql('books')"
   ]
  },
  {
   "cell_type": "code",
   "execution_count": 7,
   "id": "c16ec5c0",
   "metadata": {},
   "outputs": [
    {
     "data": {
      "text/html": [
       "<div>\n",
       "<style scoped>\n",
       "    .dataframe tbody tr th:only-of-type {\n",
       "        vertical-align: middle;\n",
       "    }\n",
       "\n",
       "    .dataframe tbody tr th {\n",
       "        vertical-align: top;\n",
       "    }\n",
       "\n",
       "    .dataframe thead th {\n",
       "        text-align: right;\n",
       "    }\n",
       "</style>\n",
       "<table border=\"1\" class=\"dataframe\">\n",
       "  <thead>\n",
       "    <tr style=\"text-align: right;\">\n",
       "      <th></th>\n",
       "      <th>author_id</th>\n",
       "      <th>author</th>\n",
       "    </tr>\n",
       "  </thead>\n",
       "  <tbody>\n",
       "    <tr>\n",
       "      <th>0</th>\n",
       "      <td>1</td>\n",
       "      <td>A.S. Byatt</td>\n",
       "    </tr>\n",
       "    <tr>\n",
       "      <th>1</th>\n",
       "      <td>2</td>\n",
       "      <td>Aesop/Laura Harris/Laura Gibbs</td>\n",
       "    </tr>\n",
       "    <tr>\n",
       "      <th>2</th>\n",
       "      <td>3</td>\n",
       "      <td>Agatha Christie</td>\n",
       "    </tr>\n",
       "    <tr>\n",
       "      <th>3</th>\n",
       "      <td>4</td>\n",
       "      <td>Alan Brennert</td>\n",
       "    </tr>\n",
       "    <tr>\n",
       "      <th>4</th>\n",
       "      <td>5</td>\n",
       "      <td>Alan Moore/David   Lloyd</td>\n",
       "    </tr>\n",
       "  </tbody>\n",
       "</table>\n",
       "</div>"
      ],
      "text/plain": [
       "   author_id                          author\n",
       "0          1                      A.S. Byatt\n",
       "1          2  Aesop/Laura Harris/Laura Gibbs\n",
       "2          3                 Agatha Christie\n",
       "3          4                   Alan Brennert\n",
       "4          5        Alan Moore/David   Lloyd"
      ]
     },
     "metadata": {},
     "output_type": "display_data"
    },
    {
     "name": "stdout",
     "output_type": "stream",
     "text": [
      "<class 'pandas.core.frame.DataFrame'>\n",
      "RangeIndex: 636 entries, 0 to 635\n",
      "Data columns (total 2 columns):\n",
      " #   Column     Non-Null Count  Dtype \n",
      "---  ------     --------------  ----- \n",
      " 0   author_id  636 non-null    int64 \n",
      " 1   author     636 non-null    object\n",
      "dtypes: int64(1), object(1)\n",
      "memory usage: 10.1+ KB\n"
     ]
    },
    {
     "data": {
      "text/plain": [
       "None"
      ]
     },
     "metadata": {},
     "output_type": "display_data"
    },
    {
     "data": {
      "text/html": [
       "<div>\n",
       "<style scoped>\n",
       "    .dataframe tbody tr th:only-of-type {\n",
       "        vertical-align: middle;\n",
       "    }\n",
       "\n",
       "    .dataframe tbody tr th {\n",
       "        vertical-align: top;\n",
       "    }\n",
       "\n",
       "    .dataframe thead th {\n",
       "        text-align: right;\n",
       "    }\n",
       "</style>\n",
       "<table border=\"1\" class=\"dataframe\">\n",
       "  <thead>\n",
       "    <tr style=\"text-align: right;\">\n",
       "      <th></th>\n",
       "      <th>author_id</th>\n",
       "    </tr>\n",
       "  </thead>\n",
       "  <tbody>\n",
       "    <tr>\n",
       "      <th>count</th>\n",
       "      <td>636.00</td>\n",
       "    </tr>\n",
       "    <tr>\n",
       "      <th>mean</th>\n",
       "      <td>318.50</td>\n",
       "    </tr>\n",
       "    <tr>\n",
       "      <th>std</th>\n",
       "      <td>183.74</td>\n",
       "    </tr>\n",
       "    <tr>\n",
       "      <th>min</th>\n",
       "      <td>1.00</td>\n",
       "    </tr>\n",
       "    <tr>\n",
       "      <th>25%</th>\n",
       "      <td>159.75</td>\n",
       "    </tr>\n",
       "    <tr>\n",
       "      <th>50%</th>\n",
       "      <td>318.50</td>\n",
       "    </tr>\n",
       "    <tr>\n",
       "      <th>75%</th>\n",
       "      <td>477.25</td>\n",
       "    </tr>\n",
       "    <tr>\n",
       "      <th>max</th>\n",
       "      <td>636.00</td>\n",
       "    </tr>\n",
       "  </tbody>\n",
       "</table>\n",
       "</div>"
      ],
      "text/plain": [
       "       author_id\n",
       "count     636.00\n",
       "mean      318.50\n",
       "std       183.74\n",
       "min         1.00\n",
       "25%       159.75\n",
       "50%       318.50\n",
       "75%       477.25\n",
       "max       636.00"
      ]
     },
     "metadata": {},
     "output_type": "display_data"
    }
   ],
   "source": [
    "first_look_sql('authors')"
   ]
  },
  {
   "cell_type": "code",
   "execution_count": 8,
   "id": "7a48b2a7",
   "metadata": {},
   "outputs": [
    {
     "data": {
      "text/html": [
       "<div>\n",
       "<style scoped>\n",
       "    .dataframe tbody tr th:only-of-type {\n",
       "        vertical-align: middle;\n",
       "    }\n",
       "\n",
       "    .dataframe tbody tr th {\n",
       "        vertical-align: top;\n",
       "    }\n",
       "\n",
       "    .dataframe thead th {\n",
       "        text-align: right;\n",
       "    }\n",
       "</style>\n",
       "<table border=\"1\" class=\"dataframe\">\n",
       "  <thead>\n",
       "    <tr style=\"text-align: right;\">\n",
       "      <th></th>\n",
       "      <th>publisher_id</th>\n",
       "      <th>publisher</th>\n",
       "    </tr>\n",
       "  </thead>\n",
       "  <tbody>\n",
       "    <tr>\n",
       "      <th>0</th>\n",
       "      <td>1</td>\n",
       "      <td>Ace</td>\n",
       "    </tr>\n",
       "    <tr>\n",
       "      <th>1</th>\n",
       "      <td>2</td>\n",
       "      <td>Ace Book</td>\n",
       "    </tr>\n",
       "    <tr>\n",
       "      <th>2</th>\n",
       "      <td>3</td>\n",
       "      <td>Ace Books</td>\n",
       "    </tr>\n",
       "    <tr>\n",
       "      <th>3</th>\n",
       "      <td>4</td>\n",
       "      <td>Ace Hardcover</td>\n",
       "    </tr>\n",
       "    <tr>\n",
       "      <th>4</th>\n",
       "      <td>5</td>\n",
       "      <td>Addison Wesley Publishing Company</td>\n",
       "    </tr>\n",
       "  </tbody>\n",
       "</table>\n",
       "</div>"
      ],
      "text/plain": [
       "   publisher_id                          publisher\n",
       "0             1                                Ace\n",
       "1             2                           Ace Book\n",
       "2             3                          Ace Books\n",
       "3             4                      Ace Hardcover\n",
       "4             5  Addison Wesley Publishing Company"
      ]
     },
     "metadata": {},
     "output_type": "display_data"
    },
    {
     "name": "stdout",
     "output_type": "stream",
     "text": [
      "<class 'pandas.core.frame.DataFrame'>\n",
      "RangeIndex: 340 entries, 0 to 339\n",
      "Data columns (total 2 columns):\n",
      " #   Column        Non-Null Count  Dtype \n",
      "---  ------        --------------  ----- \n",
      " 0   publisher_id  340 non-null    int64 \n",
      " 1   publisher     340 non-null    object\n",
      "dtypes: int64(1), object(1)\n",
      "memory usage: 5.4+ KB\n"
     ]
    },
    {
     "data": {
      "text/plain": [
       "None"
      ]
     },
     "metadata": {},
     "output_type": "display_data"
    },
    {
     "data": {
      "text/html": [
       "<div>\n",
       "<style scoped>\n",
       "    .dataframe tbody tr th:only-of-type {\n",
       "        vertical-align: middle;\n",
       "    }\n",
       "\n",
       "    .dataframe tbody tr th {\n",
       "        vertical-align: top;\n",
       "    }\n",
       "\n",
       "    .dataframe thead th {\n",
       "        text-align: right;\n",
       "    }\n",
       "</style>\n",
       "<table border=\"1\" class=\"dataframe\">\n",
       "  <thead>\n",
       "    <tr style=\"text-align: right;\">\n",
       "      <th></th>\n",
       "      <th>publisher_id</th>\n",
       "    </tr>\n",
       "  </thead>\n",
       "  <tbody>\n",
       "    <tr>\n",
       "      <th>count</th>\n",
       "      <td>340.00</td>\n",
       "    </tr>\n",
       "    <tr>\n",
       "      <th>mean</th>\n",
       "      <td>170.50</td>\n",
       "    </tr>\n",
       "    <tr>\n",
       "      <th>std</th>\n",
       "      <td>98.29</td>\n",
       "    </tr>\n",
       "    <tr>\n",
       "      <th>min</th>\n",
       "      <td>1.00</td>\n",
       "    </tr>\n",
       "    <tr>\n",
       "      <th>25%</th>\n",
       "      <td>85.75</td>\n",
       "    </tr>\n",
       "    <tr>\n",
       "      <th>50%</th>\n",
       "      <td>170.50</td>\n",
       "    </tr>\n",
       "    <tr>\n",
       "      <th>75%</th>\n",
       "      <td>255.25</td>\n",
       "    </tr>\n",
       "    <tr>\n",
       "      <th>max</th>\n",
       "      <td>340.00</td>\n",
       "    </tr>\n",
       "  </tbody>\n",
       "</table>\n",
       "</div>"
      ],
      "text/plain": [
       "       publisher_id\n",
       "count        340.00\n",
       "mean         170.50\n",
       "std           98.29\n",
       "min            1.00\n",
       "25%           85.75\n",
       "50%          170.50\n",
       "75%          255.25\n",
       "max          340.00"
      ]
     },
     "metadata": {},
     "output_type": "display_data"
    }
   ],
   "source": [
    "first_look_sql('publishers')"
   ]
  },
  {
   "cell_type": "code",
   "execution_count": 9,
   "id": "c2db0d40",
   "metadata": {},
   "outputs": [
    {
     "data": {
      "text/html": [
       "<div>\n",
       "<style scoped>\n",
       "    .dataframe tbody tr th:only-of-type {\n",
       "        vertical-align: middle;\n",
       "    }\n",
       "\n",
       "    .dataframe tbody tr th {\n",
       "        vertical-align: top;\n",
       "    }\n",
       "\n",
       "    .dataframe thead th {\n",
       "        text-align: right;\n",
       "    }\n",
       "</style>\n",
       "<table border=\"1\" class=\"dataframe\">\n",
       "  <thead>\n",
       "    <tr style=\"text-align: right;\">\n",
       "      <th></th>\n",
       "      <th>rating_id</th>\n",
       "      <th>book_id</th>\n",
       "      <th>username</th>\n",
       "      <th>rating</th>\n",
       "    </tr>\n",
       "  </thead>\n",
       "  <tbody>\n",
       "    <tr>\n",
       "      <th>0</th>\n",
       "      <td>1</td>\n",
       "      <td>1</td>\n",
       "      <td>ryanfranco</td>\n",
       "      <td>4</td>\n",
       "    </tr>\n",
       "    <tr>\n",
       "      <th>1</th>\n",
       "      <td>2</td>\n",
       "      <td>1</td>\n",
       "      <td>grantpatricia</td>\n",
       "      <td>2</td>\n",
       "    </tr>\n",
       "    <tr>\n",
       "      <th>2</th>\n",
       "      <td>3</td>\n",
       "      <td>1</td>\n",
       "      <td>brandtandrea</td>\n",
       "      <td>5</td>\n",
       "    </tr>\n",
       "    <tr>\n",
       "      <th>3</th>\n",
       "      <td>4</td>\n",
       "      <td>2</td>\n",
       "      <td>lorichen</td>\n",
       "      <td>3</td>\n",
       "    </tr>\n",
       "    <tr>\n",
       "      <th>4</th>\n",
       "      <td>5</td>\n",
       "      <td>2</td>\n",
       "      <td>mariokeller</td>\n",
       "      <td>2</td>\n",
       "    </tr>\n",
       "  </tbody>\n",
       "</table>\n",
       "</div>"
      ],
      "text/plain": [
       "   rating_id  book_id       username  rating\n",
       "0          1        1     ryanfranco       4\n",
       "1          2        1  grantpatricia       2\n",
       "2          3        1   brandtandrea       5\n",
       "3          4        2       lorichen       3\n",
       "4          5        2    mariokeller       2"
      ]
     },
     "metadata": {},
     "output_type": "display_data"
    },
    {
     "name": "stdout",
     "output_type": "stream",
     "text": [
      "<class 'pandas.core.frame.DataFrame'>\n",
      "RangeIndex: 6456 entries, 0 to 6455\n",
      "Data columns (total 4 columns):\n",
      " #   Column     Non-Null Count  Dtype \n",
      "---  ------     --------------  ----- \n",
      " 0   rating_id  6456 non-null   int64 \n",
      " 1   book_id    6456 non-null   int64 \n",
      " 2   username   6456 non-null   object\n",
      " 3   rating     6456 non-null   int64 \n",
      "dtypes: int64(3), object(1)\n",
      "memory usage: 201.9+ KB\n"
     ]
    },
    {
     "data": {
      "text/plain": [
       "None"
      ]
     },
     "metadata": {},
     "output_type": "display_data"
    },
    {
     "data": {
      "text/html": [
       "<div>\n",
       "<style scoped>\n",
       "    .dataframe tbody tr th:only-of-type {\n",
       "        vertical-align: middle;\n",
       "    }\n",
       "\n",
       "    .dataframe tbody tr th {\n",
       "        vertical-align: top;\n",
       "    }\n",
       "\n",
       "    .dataframe thead th {\n",
       "        text-align: right;\n",
       "    }\n",
       "</style>\n",
       "<table border=\"1\" class=\"dataframe\">\n",
       "  <thead>\n",
       "    <tr style=\"text-align: right;\">\n",
       "      <th></th>\n",
       "      <th>rating_id</th>\n",
       "      <th>book_id</th>\n",
       "      <th>rating</th>\n",
       "    </tr>\n",
       "  </thead>\n",
       "  <tbody>\n",
       "    <tr>\n",
       "      <th>count</th>\n",
       "      <td>6456.00</td>\n",
       "      <td>6456.00</td>\n",
       "      <td>6456.00</td>\n",
       "    </tr>\n",
       "    <tr>\n",
       "      <th>mean</th>\n",
       "      <td>3228.50</td>\n",
       "      <td>510.57</td>\n",
       "      <td>3.93</td>\n",
       "    </tr>\n",
       "    <tr>\n",
       "      <th>std</th>\n",
       "      <td>1863.83</td>\n",
       "      <td>284.14</td>\n",
       "      <td>0.94</td>\n",
       "    </tr>\n",
       "    <tr>\n",
       "      <th>min</th>\n",
       "      <td>1.00</td>\n",
       "      <td>1.00</td>\n",
       "      <td>1.00</td>\n",
       "    </tr>\n",
       "    <tr>\n",
       "      <th>25%</th>\n",
       "      <td>1614.75</td>\n",
       "      <td>291.00</td>\n",
       "      <td>3.00</td>\n",
       "    </tr>\n",
       "    <tr>\n",
       "      <th>50%</th>\n",
       "      <td>3228.50</td>\n",
       "      <td>506.00</td>\n",
       "      <td>4.00</td>\n",
       "    </tr>\n",
       "    <tr>\n",
       "      <th>75%</th>\n",
       "      <td>4842.25</td>\n",
       "      <td>750.00</td>\n",
       "      <td>5.00</td>\n",
       "    </tr>\n",
       "    <tr>\n",
       "      <th>max</th>\n",
       "      <td>6456.00</td>\n",
       "      <td>1000.00</td>\n",
       "      <td>5.00</td>\n",
       "    </tr>\n",
       "  </tbody>\n",
       "</table>\n",
       "</div>"
      ],
      "text/plain": [
       "       rating_id  book_id  rating\n",
       "count    6456.00  6456.00 6456.00\n",
       "mean     3228.50   510.57    3.93\n",
       "std      1863.83   284.14    0.94\n",
       "min         1.00     1.00    1.00\n",
       "25%      1614.75   291.00    3.00\n",
       "50%      3228.50   506.00    4.00\n",
       "75%      4842.25   750.00    5.00\n",
       "max      6456.00  1000.00    5.00"
      ]
     },
     "metadata": {},
     "output_type": "display_data"
    }
   ],
   "source": [
    "first_look_sql('ratings')"
   ]
  },
  {
   "cell_type": "code",
   "execution_count": 10,
   "id": "580880ed",
   "metadata": {},
   "outputs": [
    {
     "data": {
      "text/html": [
       "<div>\n",
       "<style scoped>\n",
       "    .dataframe tbody tr th:only-of-type {\n",
       "        vertical-align: middle;\n",
       "    }\n",
       "\n",
       "    .dataframe tbody tr th {\n",
       "        vertical-align: top;\n",
       "    }\n",
       "\n",
       "    .dataframe thead th {\n",
       "        text-align: right;\n",
       "    }\n",
       "</style>\n",
       "<table border=\"1\" class=\"dataframe\">\n",
       "  <thead>\n",
       "    <tr style=\"text-align: right;\">\n",
       "      <th></th>\n",
       "      <th>review_id</th>\n",
       "      <th>book_id</th>\n",
       "      <th>username</th>\n",
       "      <th>text</th>\n",
       "    </tr>\n",
       "  </thead>\n",
       "  <tbody>\n",
       "    <tr>\n",
       "      <th>0</th>\n",
       "      <td>1</td>\n",
       "      <td>1</td>\n",
       "      <td>brandtandrea</td>\n",
       "      <td>Mention society tell send professor analysis. ...</td>\n",
       "    </tr>\n",
       "    <tr>\n",
       "      <th>1</th>\n",
       "      <td>2</td>\n",
       "      <td>1</td>\n",
       "      <td>ryanfranco</td>\n",
       "      <td>Foot glass pretty audience hit themselves. Amo...</td>\n",
       "    </tr>\n",
       "    <tr>\n",
       "      <th>2</th>\n",
       "      <td>3</td>\n",
       "      <td>2</td>\n",
       "      <td>lorichen</td>\n",
       "      <td>Listen treat keep worry. Miss husband tax but ...</td>\n",
       "    </tr>\n",
       "    <tr>\n",
       "      <th>3</th>\n",
       "      <td>4</td>\n",
       "      <td>3</td>\n",
       "      <td>johnsonamanda</td>\n",
       "      <td>Finally month interesting blue could nature cu...</td>\n",
       "    </tr>\n",
       "    <tr>\n",
       "      <th>4</th>\n",
       "      <td>5</td>\n",
       "      <td>3</td>\n",
       "      <td>scotttamara</td>\n",
       "      <td>Nation purpose heavy give wait song will. List...</td>\n",
       "    </tr>\n",
       "  </tbody>\n",
       "</table>\n",
       "</div>"
      ],
      "text/plain": [
       "   review_id  book_id       username  \\\n",
       "0          1        1   brandtandrea   \n",
       "1          2        1     ryanfranco   \n",
       "2          3        2       lorichen   \n",
       "3          4        3  johnsonamanda   \n",
       "4          5        3    scotttamara   \n",
       "\n",
       "                                                text  \n",
       "0  Mention society tell send professor analysis. ...  \n",
       "1  Foot glass pretty audience hit themselves. Amo...  \n",
       "2  Listen treat keep worry. Miss husband tax but ...  \n",
       "3  Finally month interesting blue could nature cu...  \n",
       "4  Nation purpose heavy give wait song will. List...  "
      ]
     },
     "metadata": {},
     "output_type": "display_data"
    },
    {
     "name": "stdout",
     "output_type": "stream",
     "text": [
      "<class 'pandas.core.frame.DataFrame'>\n",
      "RangeIndex: 2793 entries, 0 to 2792\n",
      "Data columns (total 4 columns):\n",
      " #   Column     Non-Null Count  Dtype \n",
      "---  ------     --------------  ----- \n",
      " 0   review_id  2793 non-null   int64 \n",
      " 1   book_id    2793 non-null   int64 \n",
      " 2   username   2793 non-null   object\n",
      " 3   text       2793 non-null   object\n",
      "dtypes: int64(2), object(2)\n",
      "memory usage: 87.4+ KB\n"
     ]
    },
    {
     "data": {
      "text/plain": [
       "None"
      ]
     },
     "metadata": {},
     "output_type": "display_data"
    },
    {
     "data": {
      "text/html": [
       "<div>\n",
       "<style scoped>\n",
       "    .dataframe tbody tr th:only-of-type {\n",
       "        vertical-align: middle;\n",
       "    }\n",
       "\n",
       "    .dataframe tbody tr th {\n",
       "        vertical-align: top;\n",
       "    }\n",
       "\n",
       "    .dataframe thead th {\n",
       "        text-align: right;\n",
       "    }\n",
       "</style>\n",
       "<table border=\"1\" class=\"dataframe\">\n",
       "  <thead>\n",
       "    <tr style=\"text-align: right;\">\n",
       "      <th></th>\n",
       "      <th>review_id</th>\n",
       "      <th>book_id</th>\n",
       "    </tr>\n",
       "  </thead>\n",
       "  <tbody>\n",
       "    <tr>\n",
       "      <th>count</th>\n",
       "      <td>2793.00</td>\n",
       "      <td>2793.00</td>\n",
       "    </tr>\n",
       "    <tr>\n",
       "      <th>mean</th>\n",
       "      <td>1397.00</td>\n",
       "      <td>504.69</td>\n",
       "    </tr>\n",
       "    <tr>\n",
       "      <th>std</th>\n",
       "      <td>806.41</td>\n",
       "      <td>288.47</td>\n",
       "    </tr>\n",
       "    <tr>\n",
       "      <th>min</th>\n",
       "      <td>1.00</td>\n",
       "      <td>1.00</td>\n",
       "    </tr>\n",
       "    <tr>\n",
       "      <th>25%</th>\n",
       "      <td>699.00</td>\n",
       "      <td>259.00</td>\n",
       "    </tr>\n",
       "    <tr>\n",
       "      <th>50%</th>\n",
       "      <td>1397.00</td>\n",
       "      <td>505.00</td>\n",
       "    </tr>\n",
       "    <tr>\n",
       "      <th>75%</th>\n",
       "      <td>2095.00</td>\n",
       "      <td>753.00</td>\n",
       "    </tr>\n",
       "    <tr>\n",
       "      <th>max</th>\n",
       "      <td>2793.00</td>\n",
       "      <td>1000.00</td>\n",
       "    </tr>\n",
       "  </tbody>\n",
       "</table>\n",
       "</div>"
      ],
      "text/plain": [
       "       review_id  book_id\n",
       "count    2793.00  2793.00\n",
       "mean     1397.00   504.69\n",
       "std       806.41   288.47\n",
       "min         1.00     1.00\n",
       "25%       699.00   259.00\n",
       "50%      1397.00   505.00\n",
       "75%      2095.00   753.00\n",
       "max      2793.00  1000.00"
      ]
     },
     "metadata": {},
     "output_type": "display_data"
    }
   ],
   "source": [
    "first_look_sql('reviews')"
   ]
  },
  {
   "cell_type": "markdown",
   "id": "dd12a33c",
   "metadata": {},
   "source": [
    "Подключились к базе данных PostgreSQL, ознакомились с содержимым 5 таблиц: \n",
    "* books, \n",
    "* authors, \n",
    "* publishers, \n",
    "* ratings, \n",
    "* reviews."
   ]
  },
  {
   "cell_type": "markdown",
   "id": "cf04ba0c",
   "metadata": {},
   "source": [
    "## Задания"
   ]
  },
  {
   "cell_type": "markdown",
   "id": "bb7309ac",
   "metadata": {},
   "source": [
    "### Кол-во книг после 1 января 2000 года"
   ]
  },
  {
   "cell_type": "code",
   "execution_count": 11,
   "id": "8691b07d",
   "metadata": {},
   "outputs": [],
   "source": [
    "query = ''' \n",
    "            SELECT COUNT(book_id) AS books_count\n",
    "            FROM books\n",
    "            WHERE publication_date >= DATE('2000-01-01')\n",
    "        '''"
   ]
  },
  {
   "cell_type": "code",
   "execution_count": 12,
   "id": "474521ec",
   "metadata": {},
   "outputs": [
    {
     "data": {
      "text/html": [
       "<div>\n",
       "<style scoped>\n",
       "    .dataframe tbody tr th:only-of-type {\n",
       "        vertical-align: middle;\n",
       "    }\n",
       "\n",
       "    .dataframe tbody tr th {\n",
       "        vertical-align: top;\n",
       "    }\n",
       "\n",
       "    .dataframe thead th {\n",
       "        text-align: right;\n",
       "    }\n",
       "</style>\n",
       "<table border=\"1\" class=\"dataframe\">\n",
       "  <thead>\n",
       "    <tr style=\"text-align: right;\">\n",
       "      <th></th>\n",
       "      <th>books_count</th>\n",
       "    </tr>\n",
       "  </thead>\n",
       "  <tbody>\n",
       "    <tr>\n",
       "      <th>0</th>\n",
       "      <td>821</td>\n",
       "    </tr>\n",
       "  </tbody>\n",
       "</table>\n",
       "</div>"
      ],
      "text/plain": [
       "   books_count\n",
       "0          821"
      ]
     },
     "execution_count": 12,
     "metadata": {},
     "output_type": "execute_result"
    }
   ],
   "source": [
    "pd.io.sql.read_sql(query, con = engine)"
   ]
  },
  {
   "cell_type": "markdown",
   "id": "23a93ac6",
   "metadata": {},
   "source": [
    "### Кол-во обзоров и средняя оценка каждой книги\n"
   ]
  },
  {
   "cell_type": "code",
   "execution_count": 13,
   "id": "b49547cb",
   "metadata": {},
   "outputs": [],
   "source": [
    "query = ''' \n",
    "            SELECT title, \n",
    "                   SUM(rev_sum) as rev_sum,\n",
    "                   AVG(avg_rate) as avg_rate  \n",
    "            FROM books\n",
    "            LEFT JOIN (SELECT book_id, \n",
    "                              COUNT(review_id) AS rev_sum\n",
    "                       FROM reviews\n",
    "                       GROUP BY book_id) AS one\n",
    "            ON books.book_id = one.book_id\n",
    "            LEFT JOIN (SELECT book_id, \n",
    "                              AVG(rating) AS avg_rate\n",
    "                       FROM ratings\n",
    "                       GROUP BY book_id) AS two\n",
    "            ON books.book_id = two.book_id\n",
    "            GROUP BY books.title\n",
    "            \n",
    "        '''"
   ]
  },
  {
   "cell_type": "code",
   "execution_count": 14,
   "id": "61d096a7",
   "metadata": {},
   "outputs": [
    {
     "data": {
      "text/html": [
       "<div>\n",
       "<style scoped>\n",
       "    .dataframe tbody tr th:only-of-type {\n",
       "        vertical-align: middle;\n",
       "    }\n",
       "\n",
       "    .dataframe tbody tr th {\n",
       "        vertical-align: top;\n",
       "    }\n",
       "\n",
       "    .dataframe thead th {\n",
       "        text-align: right;\n",
       "    }\n",
       "</style>\n",
       "<table border=\"1\" class=\"dataframe\">\n",
       "  <thead>\n",
       "    <tr style=\"text-align: right;\">\n",
       "      <th></th>\n",
       "      <th>title</th>\n",
       "      <th>rev_sum</th>\n",
       "      <th>avg_rate</th>\n",
       "    </tr>\n",
       "  </thead>\n",
       "  <tbody>\n",
       "    <tr>\n",
       "      <th>0</th>\n",
       "      <td>The Count of Monte Cristo</td>\n",
       "      <td>5.00</td>\n",
       "      <td>4.22</td>\n",
       "    </tr>\n",
       "    <tr>\n",
       "      <th>1</th>\n",
       "      <td>Count Zero (Sprawl  #2)</td>\n",
       "      <td>2.00</td>\n",
       "      <td>2.50</td>\n",
       "    </tr>\n",
       "    <tr>\n",
       "      <th>2</th>\n",
       "      <td>The Botany of Desire: A Plant's-Eye View of th...</td>\n",
       "      <td>2.00</td>\n",
       "      <td>3.50</td>\n",
       "    </tr>\n",
       "    <tr>\n",
       "      <th>3</th>\n",
       "      <td>The Poisonwood Bible</td>\n",
       "      <td>5.00</td>\n",
       "      <td>4.36</td>\n",
       "    </tr>\n",
       "    <tr>\n",
       "      <th>4</th>\n",
       "      <td>The Canterbury Tales</td>\n",
       "      <td>3.00</td>\n",
       "      <td>3.33</td>\n",
       "    </tr>\n",
       "    <tr>\n",
       "      <th>...</th>\n",
       "      <td>...</td>\n",
       "      <td>...</td>\n",
       "      <td>...</td>\n",
       "    </tr>\n",
       "    <tr>\n",
       "      <th>994</th>\n",
       "      <td>In the Heart of the Sea: The Tragedy of the Wh...</td>\n",
       "      <td>3.00</td>\n",
       "      <td>3.33</td>\n",
       "    </tr>\n",
       "    <tr>\n",
       "      <th>995</th>\n",
       "      <td>Of Love and Other Demons</td>\n",
       "      <td>2.00</td>\n",
       "      <td>4.50</td>\n",
       "    </tr>\n",
       "    <tr>\n",
       "      <th>996</th>\n",
       "      <td>Welcome to Temptation (Dempseys  #1)</td>\n",
       "      <td>2.00</td>\n",
       "      <td>5.00</td>\n",
       "    </tr>\n",
       "    <tr>\n",
       "      <th>997</th>\n",
       "      <td>World's End (The Sandman  #8)</td>\n",
       "      <td>2.00</td>\n",
       "      <td>4.50</td>\n",
       "    </tr>\n",
       "    <tr>\n",
       "      <th>998</th>\n",
       "      <td>Holes (Holes  #1)</td>\n",
       "      <td>5.00</td>\n",
       "      <td>3.97</td>\n",
       "    </tr>\n",
       "  </tbody>\n",
       "</table>\n",
       "<p>999 rows × 3 columns</p>\n",
       "</div>"
      ],
      "text/plain": [
       "                                                 title  rev_sum  avg_rate\n",
       "0                            The Count of Monte Cristo     5.00      4.22\n",
       "1                              Count Zero (Sprawl  #2)     2.00      2.50\n",
       "2    The Botany of Desire: A Plant's-Eye View of th...     2.00      3.50\n",
       "3                                 The Poisonwood Bible     5.00      4.36\n",
       "4                                 The Canterbury Tales     3.00      3.33\n",
       "..                                                 ...      ...       ...\n",
       "994  In the Heart of the Sea: The Tragedy of the Wh...     3.00      3.33\n",
       "995                           Of Love and Other Demons     2.00      4.50\n",
       "996               Welcome to Temptation (Dempseys  #1)     2.00      5.00\n",
       "997                      World's End (The Sandman  #8)     2.00      4.50\n",
       "998                                  Holes (Holes  #1)     5.00      3.97\n",
       "\n",
       "[999 rows x 3 columns]"
      ]
     },
     "execution_count": 14,
     "metadata": {},
     "output_type": "execute_result"
    }
   ],
   "source": [
    "pd.io.sql.read_sql(query, con = engine)"
   ]
  },
  {
   "cell_type": "markdown",
   "id": "3db13f6a",
   "metadata": {},
   "source": [
    "### Издательство выпустившее наибольшее число книг толще 50 страниц"
   ]
  },
  {
   "cell_type": "markdown",
   "id": "70a10352",
   "metadata": {},
   "source": [
    "Таким образом исключим из анализа брошюры"
   ]
  },
  {
   "cell_type": "code",
   "execution_count": 15,
   "id": "780edb48",
   "metadata": {},
   "outputs": [],
   "source": [
    "query = ''' \n",
    "            SELECT publisher, \n",
    "                   COUNT(book_id) as books_count \n",
    "            FROM books \n",
    "            LEFT JOIN publishers ON books.publisher_id = publishers.publisher_id\n",
    "            WHERE num_pages > 50\n",
    "            GROUP BY publisher\n",
    "            ORDER BY books_count DESC\n",
    "            LIMIT 1            \n",
    "        '''"
   ]
  },
  {
   "cell_type": "code",
   "execution_count": 16,
   "id": "355ab00b",
   "metadata": {},
   "outputs": [
    {
     "data": {
      "text/html": [
       "<div>\n",
       "<style scoped>\n",
       "    .dataframe tbody tr th:only-of-type {\n",
       "        vertical-align: middle;\n",
       "    }\n",
       "\n",
       "    .dataframe tbody tr th {\n",
       "        vertical-align: top;\n",
       "    }\n",
       "\n",
       "    .dataframe thead th {\n",
       "        text-align: right;\n",
       "    }\n",
       "</style>\n",
       "<table border=\"1\" class=\"dataframe\">\n",
       "  <thead>\n",
       "    <tr style=\"text-align: right;\">\n",
       "      <th></th>\n",
       "      <th>publisher</th>\n",
       "      <th>books_count</th>\n",
       "    </tr>\n",
       "  </thead>\n",
       "  <tbody>\n",
       "    <tr>\n",
       "      <th>0</th>\n",
       "      <td>Penguin Books</td>\n",
       "      <td>42</td>\n",
       "    </tr>\n",
       "  </tbody>\n",
       "</table>\n",
       "</div>"
      ],
      "text/plain": [
       "       publisher  books_count\n",
       "0  Penguin Books           42"
      ]
     },
     "execution_count": 16,
     "metadata": {},
     "output_type": "execute_result"
    }
   ],
   "source": [
    "pd.io.sql.read_sql(query, con = engine)"
   ]
  },
  {
   "cell_type": "markdown",
   "id": "e9194dd5",
   "metadata": {},
   "source": [
    "### Fвтора с самой высокой средней оценкой книг (только книги с 50 и более оценками)"
   ]
  },
  {
   "cell_type": "code",
   "execution_count": 17,
   "id": "ca7e2ceb",
   "metadata": {},
   "outputs": [],
   "source": [
    "query = '''             \n",
    "        SELECT author,\n",
    "               ROUND(AVG(avg_raiting), 2) AS avg_raiting, \n",
    "        SUM(rating_count) AS rate_count\n",
    "        FROM    \n",
    "        (SELECT author_id, \n",
    "                title, \n",
    "                AVG(rating) AS avg_raiting, \n",
    "                COUNT(rating) AS rating_count\n",
    "        FROM books LEFT JOIN ratings ON books.book_id = ratings.book_id \n",
    "        GROUP BY title, author_id\n",
    "        HAVING COUNT(rating_id) >= 50) as one\n",
    "        LEFT JOIN authors ON one.author_id = authors.author_id\n",
    "        GROUP BY author\n",
    "        ORDER BY avg_raiting DESC\n",
    "        LIMIT 1                \n",
    "        '''"
   ]
  },
  {
   "cell_type": "code",
   "execution_count": 18,
   "id": "aa878472",
   "metadata": {},
   "outputs": [
    {
     "data": {
      "text/html": [
       "<div>\n",
       "<style scoped>\n",
       "    .dataframe tbody tr th:only-of-type {\n",
       "        vertical-align: middle;\n",
       "    }\n",
       "\n",
       "    .dataframe tbody tr th {\n",
       "        vertical-align: top;\n",
       "    }\n",
       "\n",
       "    .dataframe thead th {\n",
       "        text-align: right;\n",
       "    }\n",
       "</style>\n",
       "<table border=\"1\" class=\"dataframe\">\n",
       "  <thead>\n",
       "    <tr style=\"text-align: right;\">\n",
       "      <th></th>\n",
       "      <th>author</th>\n",
       "      <th>avg_raiting</th>\n",
       "      <th>rate_count</th>\n",
       "    </tr>\n",
       "  </thead>\n",
       "  <tbody>\n",
       "    <tr>\n",
       "      <th>0</th>\n",
       "      <td>J.K. Rowling/Mary GrandPré</td>\n",
       "      <td>4.28</td>\n",
       "      <td>310.00</td>\n",
       "    </tr>\n",
       "  </tbody>\n",
       "</table>\n",
       "</div>"
      ],
      "text/plain": [
       "                       author  avg_raiting  rate_count\n",
       "0  J.K. Rowling/Mary GrandPré         4.28      310.00"
      ]
     },
     "execution_count": 18,
     "metadata": {},
     "output_type": "execute_result"
    }
   ],
   "source": [
    "pd.io.sql.read_sql(query, con = engine)"
   ]
  },
  {
   "cell_type": "markdown",
   "id": "1190788d",
   "metadata": {},
   "source": [
    "### Cреднее кол-во обзоров от пользователей, которые поставили больше 50 оценок"
   ]
  },
  {
   "cell_type": "code",
   "execution_count": 19,
   "id": "92977456",
   "metadata": {},
   "outputs": [],
   "source": [
    "query = '''             \n",
    "        SELECT ROUND(AVG(rev_counts)) AS avg_rev\n",
    "        FROM\n",
    "            (SELECT COUNT(review_id) AS rev_counts\n",
    "            FROM\n",
    "                (SELECT username \n",
    "                FROM ratings\n",
    "                GROUP BY username\n",
    "                HAVING COUNT(rating_id) > 50) AS sub\n",
    "            LEFT JOIN reviews ON sub.username = reviews.username\n",
    "            GROUP BY sub.username) AS sub_2\n",
    "        '''"
   ]
  },
  {
   "cell_type": "code",
   "execution_count": 20,
   "id": "48e446a3",
   "metadata": {},
   "outputs": [
    {
     "data": {
      "text/html": [
       "<div>\n",
       "<style scoped>\n",
       "    .dataframe tbody tr th:only-of-type {\n",
       "        vertical-align: middle;\n",
       "    }\n",
       "\n",
       "    .dataframe tbody tr th {\n",
       "        vertical-align: top;\n",
       "    }\n",
       "\n",
       "    .dataframe thead th {\n",
       "        text-align: right;\n",
       "    }\n",
       "</style>\n",
       "<table border=\"1\" class=\"dataframe\">\n",
       "  <thead>\n",
       "    <tr style=\"text-align: right;\">\n",
       "      <th></th>\n",
       "      <th>avg_rev</th>\n",
       "    </tr>\n",
       "  </thead>\n",
       "  <tbody>\n",
       "    <tr>\n",
       "      <th>0</th>\n",
       "      <td>24.00</td>\n",
       "    </tr>\n",
       "  </tbody>\n",
       "</table>\n",
       "</div>"
      ],
      "text/plain": [
       "   avg_rev\n",
       "0    24.00"
      ]
     },
     "execution_count": 20,
     "metadata": {},
     "output_type": "execute_result"
    }
   ],
   "source": [
    "pd.io.sql.read_sql(query, con = engine)"
   ]
  },
  {
   "cell_type": "markdown",
   "id": "374d52a1",
   "metadata": {},
   "source": [
    "## Общий вывод\n",
    "\n",
    "**Анализ данных показал, что:**\n",
    "\n",
    "* Количество книг, выпущенных после 1 января 2000 года, составляет **821** штуку.\n",
    "\n",
    "* Посчитали **количество обзоров - 999**, среднюю оценку для каждой из книг \n",
    "\n",
    "* Издательство, которое выпустило **наибольшее число книг толще 50 страниц**, это **Penguin Books с 42** книгами (исключая брошюры)\n",
    "\n",
    "* Автор с самой высокой средней оценкой книг - это **J.K. Rowling/Mary GrandPré** со средним рейтингом **4.28**, составленным по 310 оценкам пользователей\n",
    "\n",
    "* В среднем **количество обзоров** от пользователей, которые **поставили больше 50 оценок**, составляет **24 штуки**\n"
   ]
  }
 ],
 "metadata": {
  "ExecuteTimeLog": [
   {
    "duration": 236,
    "start_time": "2022-09-02T08:29:55.202Z"
   },
   {
    "duration": 0,
    "start_time": "2022-09-02T08:29:55.440Z"
   },
   {
    "duration": 0,
    "start_time": "2022-09-02T08:29:55.441Z"
   },
   {
    "duration": 0,
    "start_time": "2022-09-02T08:29:55.442Z"
   },
   {
    "duration": 6746,
    "start_time": "2022-09-02T08:30:05.430Z"
   },
   {
    "duration": 66,
    "start_time": "2022-09-02T08:30:12.178Z"
   },
   {
    "duration": 0,
    "start_time": "2022-09-02T08:30:12.245Z"
   },
   {
    "duration": 504,
    "start_time": "2022-09-02T08:32:00.203Z"
   },
   {
    "duration": 491,
    "start_time": "2022-09-02T08:51:41.506Z"
   },
   {
    "duration": 8532,
    "start_time": "2022-09-02T08:51:41.998Z"
   },
   {
    "duration": 3,
    "start_time": "2022-09-02T08:51:50.531Z"
   },
   {
    "duration": 5,
    "start_time": "2022-09-02T08:51:50.535Z"
   },
   {
    "duration": 138,
    "start_time": "2022-09-02T08:51:50.541Z"
   },
   {
    "duration": 465,
    "start_time": "2022-09-05T12:18:08.031Z"
   },
   {
    "duration": 8073,
    "start_time": "2022-09-05T12:18:08.498Z"
   },
   {
    "duration": 2,
    "start_time": "2022-09-05T12:18:16.572Z"
   },
   {
    "duration": 6,
    "start_time": "2022-09-05T12:18:16.575Z"
   },
   {
    "duration": 338,
    "start_time": "2022-09-05T12:18:16.582Z"
   },
   {
    "duration": 548,
    "start_time": "2022-09-05T12:21:12.207Z"
   },
   {
    "duration": 9811,
    "start_time": "2022-09-05T12:21:12.757Z"
   },
   {
    "duration": 3,
    "start_time": "2022-09-05T12:21:22.572Z"
   },
   {
    "duration": 15,
    "start_time": "2022-09-05T12:21:22.577Z"
   },
   {
    "duration": 396,
    "start_time": "2022-09-05T12:21:22.594Z"
   },
   {
    "duration": 4,
    "start_time": "2022-09-05T12:22:39.722Z"
   },
   {
    "duration": 263,
    "start_time": "2022-09-05T12:22:41.674Z"
   },
   {
    "duration": 124,
    "start_time": "2022-09-05T12:27:16.469Z"
   },
   {
    "duration": 53,
    "start_time": "2022-09-05T12:27:31.162Z"
   },
   {
    "duration": 114,
    "start_time": "2022-09-05T12:31:50.133Z"
   },
   {
    "duration": 123,
    "start_time": "2022-09-05T12:32:05.429Z"
   },
   {
    "duration": 4,
    "start_time": "2022-09-05T12:34:14.546Z"
   },
   {
    "duration": 475,
    "start_time": "2022-09-05T12:35:26.332Z"
   },
   {
    "duration": 8758,
    "start_time": "2022-09-05T12:35:26.809Z"
   },
   {
    "duration": 2,
    "start_time": "2022-09-05T12:35:35.568Z"
   },
   {
    "duration": 12,
    "start_time": "2022-09-05T12:35:35.571Z"
   },
   {
    "duration": 412,
    "start_time": "2022-09-05T12:35:35.584Z"
   },
   {
    "duration": 210,
    "start_time": "2022-09-05T12:35:35.998Z"
   },
   {
    "duration": 204,
    "start_time": "2022-09-05T12:35:36.209Z"
   },
   {
    "duration": 257,
    "start_time": "2022-09-05T12:35:36.415Z"
   },
   {
    "duration": 231,
    "start_time": "2022-09-05T12:35:36.673Z"
   },
   {
    "duration": 471,
    "start_time": "2022-09-05T12:39:11.960Z"
   },
   {
    "duration": 4,
    "start_time": "2022-09-05T12:39:12.433Z"
   },
   {
    "duration": 10840,
    "start_time": "2022-09-05T12:39:12.439Z"
   },
   {
    "duration": 2,
    "start_time": "2022-09-05T12:39:23.281Z"
   },
   {
    "duration": 12,
    "start_time": "2022-09-05T12:39:23.286Z"
   },
   {
    "duration": 420,
    "start_time": "2022-09-05T12:39:23.299Z"
   },
   {
    "duration": 216,
    "start_time": "2022-09-05T12:39:23.720Z"
   },
   {
    "duration": 230,
    "start_time": "2022-09-05T12:39:23.938Z"
   },
   {
    "duration": 254,
    "start_time": "2022-09-05T12:39:24.170Z"
   },
   {
    "duration": 233,
    "start_time": "2022-09-05T12:39:24.425Z"
   },
   {
    "duration": 496,
    "start_time": "2022-09-05T12:39:57.811Z"
   },
   {
    "duration": 2,
    "start_time": "2022-09-05T12:39:58.310Z"
   },
   {
    "duration": 8155,
    "start_time": "2022-09-05T12:39:58.314Z"
   },
   {
    "duration": 2,
    "start_time": "2022-09-05T12:40:06.471Z"
   },
   {
    "duration": 9,
    "start_time": "2022-09-05T12:40:06.475Z"
   },
   {
    "duration": 427,
    "start_time": "2022-09-05T12:40:06.486Z"
   },
   {
    "duration": 237,
    "start_time": "2022-09-05T12:40:06.915Z"
   },
   {
    "duration": 210,
    "start_time": "2022-09-05T12:40:07.154Z"
   },
   {
    "duration": 248,
    "start_time": "2022-09-05T12:40:07.366Z"
   },
   {
    "duration": 226,
    "start_time": "2022-09-05T12:40:07.616Z"
   },
   {
    "duration": 2,
    "start_time": "2022-09-05T12:49:18.376Z"
   },
   {
    "duration": 69,
    "start_time": "2022-09-05T12:49:19.885Z"
   },
   {
    "duration": 3,
    "start_time": "2022-09-05T12:56:25.641Z"
   },
   {
    "duration": 206,
    "start_time": "2022-09-05T12:56:26.301Z"
   },
   {
    "duration": 2,
    "start_time": "2022-09-05T12:56:37.239Z"
   },
   {
    "duration": 1333,
    "start_time": "2022-09-05T12:56:37.824Z"
   },
   {
    "duration": 2,
    "start_time": "2022-09-05T12:59:35.346Z"
   },
   {
    "duration": 128,
    "start_time": "2022-09-05T12:59:36.866Z"
   },
   {
    "duration": 2,
    "start_time": "2022-09-05T13:01:22.265Z"
   },
   {
    "duration": 591,
    "start_time": "2022-09-05T13:01:23.045Z"
   },
   {
    "duration": 3,
    "start_time": "2022-09-05T13:03:12.139Z"
   },
   {
    "duration": 3,
    "start_time": "2022-09-05T13:03:18.531Z"
   },
   {
    "duration": 168,
    "start_time": "2022-09-05T13:03:19.557Z"
   },
   {
    "duration": 3,
    "start_time": "2022-09-05T13:04:53.669Z"
   },
   {
    "duration": 152,
    "start_time": "2022-09-05T13:04:54.175Z"
   },
   {
    "duration": 3,
    "start_time": "2022-09-05T13:05:05.226Z"
   },
   {
    "duration": 102,
    "start_time": "2022-09-05T13:05:05.863Z"
   },
   {
    "duration": 101,
    "start_time": "2022-09-05T13:05:18.976Z"
   },
   {
    "duration": 489,
    "start_time": "2022-09-05T13:47:09.546Z"
   },
   {
    "duration": 2,
    "start_time": "2022-09-05T13:47:10.037Z"
   },
   {
    "duration": 6484,
    "start_time": "2022-09-05T13:47:10.041Z"
   },
   {
    "duration": 3,
    "start_time": "2022-09-05T13:47:16.526Z"
   },
   {
    "duration": 31,
    "start_time": "2022-09-05T13:47:16.532Z"
   },
   {
    "duration": 108,
    "start_time": "2022-09-05T13:47:16.565Z"
   },
   {
    "duration": 0,
    "start_time": "2022-09-05T13:47:16.675Z"
   },
   {
    "duration": 0,
    "start_time": "2022-09-05T13:47:16.676Z"
   },
   {
    "duration": 0,
    "start_time": "2022-09-05T13:47:16.677Z"
   },
   {
    "duration": 0,
    "start_time": "2022-09-05T13:47:16.678Z"
   },
   {
    "duration": 0,
    "start_time": "2022-09-05T13:47:16.679Z"
   },
   {
    "duration": 0,
    "start_time": "2022-09-05T13:47:16.680Z"
   },
   {
    "duration": 0,
    "start_time": "2022-09-05T13:47:16.681Z"
   },
   {
    "duration": 0,
    "start_time": "2022-09-05T13:47:16.682Z"
   },
   {
    "duration": 0,
    "start_time": "2022-09-05T13:47:16.684Z"
   },
   {
    "duration": 0,
    "start_time": "2022-09-05T13:47:16.685Z"
   },
   {
    "duration": 0,
    "start_time": "2022-09-05T13:47:16.686Z"
   },
   {
    "duration": 0,
    "start_time": "2022-09-05T13:47:16.688Z"
   },
   {
    "duration": 0,
    "start_time": "2022-09-05T13:47:16.689Z"
   },
   {
    "duration": 0,
    "start_time": "2022-09-05T13:47:16.690Z"
   },
   {
    "duration": 503,
    "start_time": "2022-09-05T13:47:32.618Z"
   },
   {
    "duration": 3,
    "start_time": "2022-09-05T13:47:33.123Z"
   },
   {
    "duration": 6718,
    "start_time": "2022-09-05T13:47:33.128Z"
   },
   {
    "duration": 2,
    "start_time": "2022-09-05T13:47:39.848Z"
   },
   {
    "duration": 37,
    "start_time": "2022-09-05T13:47:39.852Z"
   },
   {
    "duration": 117,
    "start_time": "2022-09-05T13:47:39.891Z"
   },
   {
    "duration": 0,
    "start_time": "2022-09-05T13:47:40.010Z"
   },
   {
    "duration": 0,
    "start_time": "2022-09-05T13:47:40.014Z"
   },
   {
    "duration": 0,
    "start_time": "2022-09-05T13:47:40.014Z"
   },
   {
    "duration": 0,
    "start_time": "2022-09-05T13:47:40.015Z"
   },
   {
    "duration": 0,
    "start_time": "2022-09-05T13:47:40.016Z"
   },
   {
    "duration": 0,
    "start_time": "2022-09-05T13:47:40.016Z"
   },
   {
    "duration": 0,
    "start_time": "2022-09-05T13:47:40.017Z"
   },
   {
    "duration": 0,
    "start_time": "2022-09-05T13:47:40.021Z"
   },
   {
    "duration": 0,
    "start_time": "2022-09-05T13:47:40.022Z"
   },
   {
    "duration": 0,
    "start_time": "2022-09-05T13:47:40.023Z"
   },
   {
    "duration": 0,
    "start_time": "2022-09-05T13:47:40.024Z"
   },
   {
    "duration": 0,
    "start_time": "2022-09-05T13:47:40.026Z"
   },
   {
    "duration": 0,
    "start_time": "2022-09-05T13:47:40.028Z"
   },
   {
    "duration": 0,
    "start_time": "2022-09-05T13:47:40.029Z"
   },
   {
    "duration": 527,
    "start_time": "2022-09-05T13:47:52.226Z"
   },
   {
    "duration": 2,
    "start_time": "2022-09-05T13:47:52.756Z"
   },
   {
    "duration": 6399,
    "start_time": "2022-09-05T13:47:52.760Z"
   },
   {
    "duration": 3,
    "start_time": "2022-09-05T13:47:59.160Z"
   },
   {
    "duration": 8,
    "start_time": "2022-09-05T13:47:59.165Z"
   },
   {
    "duration": 475,
    "start_time": "2022-09-05T13:47:59.175Z"
   },
   {
    "duration": 219,
    "start_time": "2022-09-05T13:47:59.652Z"
   },
   {
    "duration": 214,
    "start_time": "2022-09-05T13:47:59.873Z"
   },
   {
    "duration": 254,
    "start_time": "2022-09-05T13:48:00.088Z"
   },
   {
    "duration": 245,
    "start_time": "2022-09-05T13:48:00.344Z"
   },
   {
    "duration": 2,
    "start_time": "2022-09-05T13:48:00.591Z"
   },
   {
    "duration": 142,
    "start_time": "2022-09-05T13:48:00.595Z"
   },
   {
    "duration": 2,
    "start_time": "2022-09-05T13:48:00.738Z"
   },
   {
    "duration": 118,
    "start_time": "2022-09-05T13:48:00.743Z"
   },
   {
    "duration": 3,
    "start_time": "2022-09-05T13:48:00.862Z"
   },
   {
    "duration": 134,
    "start_time": "2022-09-05T13:48:00.866Z"
   },
   {
    "duration": 2,
    "start_time": "2022-09-05T13:48:01.002Z"
   },
   {
    "duration": 277,
    "start_time": "2022-09-05T13:48:01.005Z"
   },
   {
    "duration": 0,
    "start_time": "2022-09-05T13:48:01.283Z"
   },
   {
    "duration": 0,
    "start_time": "2022-09-05T13:48:01.284Z"
   },
   {
    "duration": 7,
    "start_time": "2022-09-06T06:48:16.183Z"
   },
   {
    "duration": 38,
    "start_time": "2022-09-06T06:48:16.927Z"
   },
   {
    "duration": 454,
    "start_time": "2022-09-06T06:48:21.718Z"
   },
   {
    "duration": 2,
    "start_time": "2022-09-06T06:48:22.174Z"
   },
   {
    "duration": 9843,
    "start_time": "2022-09-06T06:48:22.178Z"
   },
   {
    "duration": 2,
    "start_time": "2022-09-06T06:48:32.022Z"
   },
   {
    "duration": 7,
    "start_time": "2022-09-06T06:48:32.026Z"
   },
   {
    "duration": 110,
    "start_time": "2022-09-06T06:48:32.034Z"
   },
   {
    "duration": 31,
    "start_time": "2022-09-06T06:48:32.146Z"
   },
   {
    "duration": 28,
    "start_time": "2022-09-06T06:48:32.178Z"
   },
   {
    "duration": 59,
    "start_time": "2022-09-06T06:48:32.207Z"
   },
   {
    "duration": 45,
    "start_time": "2022-09-06T06:48:32.268Z"
   },
   {
    "duration": 2,
    "start_time": "2022-09-06T06:48:32.315Z"
   },
   {
    "duration": 18,
    "start_time": "2022-09-06T06:48:32.319Z"
   },
   {
    "duration": 3,
    "start_time": "2022-09-06T06:48:32.338Z"
   },
   {
    "duration": 36,
    "start_time": "2022-09-06T06:48:32.343Z"
   },
   {
    "duration": 3,
    "start_time": "2022-09-06T06:48:32.380Z"
   },
   {
    "duration": 13,
    "start_time": "2022-09-06T06:48:32.384Z"
   },
   {
    "duration": 2,
    "start_time": "2022-09-06T06:48:32.399Z"
   },
   {
    "duration": 148,
    "start_time": "2022-09-06T06:48:32.402Z"
   },
   {
    "duration": 0,
    "start_time": "2022-09-06T06:48:32.552Z"
   },
   {
    "duration": 0,
    "start_time": "2022-09-06T06:48:32.553Z"
   },
   {
    "duration": 3,
    "start_time": "2022-09-06T06:48:43.462Z"
   },
   {
    "duration": 58,
    "start_time": "2022-09-06T06:48:45.164Z"
   },
   {
    "duration": 2,
    "start_time": "2022-09-06T07:04:56.128Z"
   },
   {
    "duration": 16,
    "start_time": "2022-09-06T07:04:57.822Z"
   },
   {
    "duration": 3,
    "start_time": "2022-09-06T07:08:00.353Z"
   },
   {
    "duration": 99,
    "start_time": "2022-09-06T07:08:01.994Z"
   },
   {
    "duration": 3,
    "start_time": "2022-09-06T07:08:40.291Z"
   },
   {
    "duration": 108,
    "start_time": "2022-09-06T07:08:41.919Z"
   },
   {
    "duration": 4,
    "start_time": "2022-09-06T07:08:49.030Z"
   },
   {
    "duration": 99,
    "start_time": "2022-09-06T07:08:49.582Z"
   },
   {
    "duration": 3,
    "start_time": "2022-09-06T07:09:06.903Z"
   },
   {
    "duration": 17,
    "start_time": "2022-09-06T07:09:07.475Z"
   },
   {
    "duration": 3,
    "start_time": "2022-09-06T07:10:09.528Z"
   },
   {
    "duration": 89,
    "start_time": "2022-09-06T07:10:10.057Z"
   },
   {
    "duration": 3,
    "start_time": "2022-09-06T07:10:44.970Z"
   },
   {
    "duration": 99,
    "start_time": "2022-09-06T07:10:45.562Z"
   },
   {
    "duration": 3,
    "start_time": "2022-09-06T07:11:07.383Z"
   },
   {
    "duration": 15,
    "start_time": "2022-09-06T07:11:07.842Z"
   },
   {
    "duration": 512,
    "start_time": "2022-09-06T07:35:53.734Z"
   },
   {
    "duration": 2,
    "start_time": "2022-09-06T07:35:54.248Z"
   },
   {
    "duration": 26365,
    "start_time": "2022-09-06T07:35:54.254Z"
   },
   {
    "duration": 2,
    "start_time": "2022-09-06T07:36:20.620Z"
   },
   {
    "duration": 9,
    "start_time": "2022-09-06T07:36:20.624Z"
   },
   {
    "duration": 114,
    "start_time": "2022-09-06T07:36:20.634Z"
   },
   {
    "duration": 34,
    "start_time": "2022-09-06T07:36:20.750Z"
   },
   {
    "duration": 32,
    "start_time": "2022-09-06T07:36:20.785Z"
   },
   {
    "duration": 65,
    "start_time": "2022-09-06T07:36:20.818Z"
   },
   {
    "duration": 66,
    "start_time": "2022-09-06T07:36:20.885Z"
   },
   {
    "duration": 3,
    "start_time": "2022-09-06T07:36:20.952Z"
   },
   {
    "duration": 23,
    "start_time": "2022-09-06T07:36:20.957Z"
   },
   {
    "duration": 4,
    "start_time": "2022-09-06T07:36:20.982Z"
   },
   {
    "duration": 329,
    "start_time": "2022-09-06T07:36:20.989Z"
   },
   {
    "duration": 0,
    "start_time": "2022-09-06T07:36:21.320Z"
   },
   {
    "duration": 0,
    "start_time": "2022-09-06T07:36:21.321Z"
   },
   {
    "duration": 0,
    "start_time": "2022-09-06T07:36:21.322Z"
   },
   {
    "duration": 0,
    "start_time": "2022-09-06T07:36:21.324Z"
   },
   {
    "duration": 0,
    "start_time": "2022-09-06T07:36:21.325Z"
   },
   {
    "duration": 0,
    "start_time": "2022-09-06T07:36:21.326Z"
   },
   {
    "duration": 2,
    "start_time": "2022-09-06T08:12:12.171Z"
   },
   {
    "duration": 120,
    "start_time": "2022-09-06T08:12:13.027Z"
   },
   {
    "duration": 3,
    "start_time": "2022-09-06T08:14:51.985Z"
   },
   {
    "duration": 20,
    "start_time": "2022-09-06T08:14:52.479Z"
   },
   {
    "duration": 464,
    "start_time": "2022-09-06T08:15:02.369Z"
   },
   {
    "duration": 2,
    "start_time": "2022-09-06T08:15:02.835Z"
   },
   {
    "duration": 12453,
    "start_time": "2022-09-06T08:15:02.839Z"
   },
   {
    "duration": 2,
    "start_time": "2022-09-06T08:15:15.294Z"
   },
   {
    "duration": 10,
    "start_time": "2022-09-06T08:15:15.298Z"
   },
   {
    "duration": 98,
    "start_time": "2022-09-06T08:15:15.309Z"
   },
   {
    "duration": 32,
    "start_time": "2022-09-06T08:15:15.409Z"
   },
   {
    "duration": 30,
    "start_time": "2022-09-06T08:15:15.442Z"
   },
   {
    "duration": 56,
    "start_time": "2022-09-06T08:15:15.474Z"
   },
   {
    "duration": 45,
    "start_time": "2022-09-06T08:15:15.532Z"
   },
   {
    "duration": 3,
    "start_time": "2022-09-06T08:15:15.578Z"
   },
   {
    "duration": 18,
    "start_time": "2022-09-06T08:15:15.582Z"
   },
   {
    "duration": 3,
    "start_time": "2022-09-06T08:15:15.602Z"
   },
   {
    "duration": 30,
    "start_time": "2022-09-06T08:15:15.607Z"
   },
   {
    "duration": 2,
    "start_time": "2022-09-06T08:15:15.639Z"
   },
   {
    "duration": 23,
    "start_time": "2022-09-06T08:15:15.643Z"
   },
   {
    "duration": 3,
    "start_time": "2022-09-06T08:15:15.668Z"
   },
   {
    "duration": 22,
    "start_time": "2022-09-06T08:15:15.673Z"
   },
   {
    "duration": 3,
    "start_time": "2022-09-06T08:15:15.697Z"
   },
   {
    "duration": 173,
    "start_time": "2022-09-06T08:15:15.701Z"
   },
   {
    "duration": 466,
    "start_time": "2022-09-06T09:05:33.096Z"
   },
   {
    "duration": 3,
    "start_time": "2022-09-06T09:05:33.564Z"
   },
   {
    "duration": 19068,
    "start_time": "2022-09-06T09:05:33.569Z"
   },
   {
    "duration": 3,
    "start_time": "2022-09-06T09:05:52.639Z"
   },
   {
    "duration": 5,
    "start_time": "2022-09-06T09:05:52.644Z"
   },
   {
    "duration": 112,
    "start_time": "2022-09-06T09:05:52.651Z"
   },
   {
    "duration": 32,
    "start_time": "2022-09-06T09:05:52.764Z"
   },
   {
    "duration": 31,
    "start_time": "2022-09-06T09:05:52.797Z"
   },
   {
    "duration": 67,
    "start_time": "2022-09-06T09:05:52.830Z"
   },
   {
    "duration": 43,
    "start_time": "2022-09-06T09:05:52.899Z"
   },
   {
    "duration": 2,
    "start_time": "2022-09-06T09:05:52.944Z"
   },
   {
    "duration": 19,
    "start_time": "2022-09-06T09:05:52.948Z"
   },
   {
    "duration": 3,
    "start_time": "2022-09-06T09:05:52.969Z"
   },
   {
    "duration": 22,
    "start_time": "2022-09-06T09:05:52.975Z"
   },
   {
    "duration": 3,
    "start_time": "2022-09-06T09:05:52.998Z"
   },
   {
    "duration": 17,
    "start_time": "2022-09-06T09:05:53.002Z"
   },
   {
    "duration": 2,
    "start_time": "2022-09-06T09:05:53.020Z"
   },
   {
    "duration": 35,
    "start_time": "2022-09-06T09:05:53.024Z"
   },
   {
    "duration": 2,
    "start_time": "2022-09-06T09:05:53.061Z"
   },
   {
    "duration": 16,
    "start_time": "2022-09-06T09:05:53.064Z"
   },
   {
    "duration": 482,
    "start_time": "2022-09-06T09:14:18.096Z"
   },
   {
    "duration": 3,
    "start_time": "2022-09-06T09:14:18.580Z"
   },
   {
    "duration": 9854,
    "start_time": "2022-09-06T09:14:18.584Z"
   },
   {
    "duration": 3,
    "start_time": "2022-09-06T09:14:28.439Z"
   },
   {
    "duration": 6,
    "start_time": "2022-09-06T09:14:28.444Z"
   },
   {
    "duration": 116,
    "start_time": "2022-09-06T09:14:28.451Z"
   },
   {
    "duration": 38,
    "start_time": "2022-09-06T09:14:28.569Z"
   },
   {
    "duration": 64,
    "start_time": "2022-09-06T09:14:28.609Z"
   },
   {
    "duration": 87,
    "start_time": "2022-09-06T09:14:28.676Z"
   },
   {
    "duration": 59,
    "start_time": "2022-09-06T09:14:28.765Z"
   },
   {
    "duration": 2,
    "start_time": "2022-09-06T09:14:28.826Z"
   },
   {
    "duration": 16,
    "start_time": "2022-09-06T09:14:28.830Z"
   },
   {
    "duration": 4,
    "start_time": "2022-09-06T09:14:28.856Z"
   },
   {
    "duration": 37,
    "start_time": "2022-09-06T09:14:28.862Z"
   },
   {
    "duration": 3,
    "start_time": "2022-09-06T09:14:28.901Z"
   },
   {
    "duration": 27,
    "start_time": "2022-09-06T09:14:28.906Z"
   },
   {
    "duration": 3,
    "start_time": "2022-09-06T09:14:28.935Z"
   },
   {
    "duration": 29,
    "start_time": "2022-09-06T09:14:28.940Z"
   },
   {
    "duration": 3,
    "start_time": "2022-09-06T09:14:28.971Z"
   },
   {
    "duration": 33,
    "start_time": "2022-09-06T09:14:28.976Z"
   },
   {
    "duration": 551,
    "start_time": "2022-09-06T09:16:19.333Z"
   },
   {
    "duration": 3,
    "start_time": "2022-09-06T09:16:19.886Z"
   },
   {
    "duration": 8709,
    "start_time": "2022-09-06T09:16:19.890Z"
   },
   {
    "duration": 2,
    "start_time": "2022-09-06T09:16:28.601Z"
   },
   {
    "duration": 6,
    "start_time": "2022-09-06T09:16:28.605Z"
   },
   {
    "duration": 105,
    "start_time": "2022-09-06T09:16:28.612Z"
   },
   {
    "duration": 32,
    "start_time": "2022-09-06T09:16:28.719Z"
   },
   {
    "duration": 34,
    "start_time": "2022-09-06T09:16:28.753Z"
   },
   {
    "duration": 71,
    "start_time": "2022-09-06T09:16:28.788Z"
   },
   {
    "duration": 51,
    "start_time": "2022-09-06T09:16:28.861Z"
   },
   {
    "duration": 3,
    "start_time": "2022-09-06T09:16:28.913Z"
   },
   {
    "duration": 13,
    "start_time": "2022-09-06T09:16:28.917Z"
   },
   {
    "duration": 3,
    "start_time": "2022-09-06T09:16:28.931Z"
   },
   {
    "duration": 39,
    "start_time": "2022-09-06T09:16:28.935Z"
   },
   {
    "duration": 2,
    "start_time": "2022-09-06T09:16:28.976Z"
   },
   {
    "duration": 18,
    "start_time": "2022-09-06T09:16:28.980Z"
   },
   {
    "duration": 2,
    "start_time": "2022-09-06T09:16:29.000Z"
   },
   {
    "duration": 22,
    "start_time": "2022-09-06T09:16:29.004Z"
   },
   {
    "duration": 3,
    "start_time": "2022-09-06T09:16:29.028Z"
   },
   {
    "duration": 22,
    "start_time": "2022-09-06T09:16:29.032Z"
   }
  ],
  "kernelspec": {
   "display_name": "Python 3 (ipykernel)",
   "language": "python",
   "name": "python3"
  },
  "language_info": {
   "codemirror_mode": {
    "name": "ipython",
    "version": 3
   },
   "file_extension": ".py",
   "mimetype": "text/x-python",
   "name": "python",
   "nbconvert_exporter": "python",
   "pygments_lexer": "ipython3",
   "version": "3.9.5"
  },
  "toc": {
   "base_numbering": 1,
   "nav_menu": {},
   "number_sections": true,
   "sideBar": true,
   "skip_h1_title": true,
   "title_cell": "Table of Contents",
   "title_sidebar": "Contents",
   "toc_cell": false,
   "toc_position": {},
   "toc_section_display": true,
   "toc_window_display": false
  }
 },
 "nbformat": 4,
 "nbformat_minor": 5
}
